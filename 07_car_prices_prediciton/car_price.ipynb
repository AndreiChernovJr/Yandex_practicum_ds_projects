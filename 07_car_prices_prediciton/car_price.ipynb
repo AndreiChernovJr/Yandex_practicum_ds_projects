{
 "cells": [
  {
   "cell_type": "markdown",
   "metadata": {},
   "source": [
    "# Определение стоимости автомобилей"
   ]
  },
  {
   "cell_type": "markdown",
   "metadata": {},
   "source": [
    "## Подготовка данных"
   ]
  },
  {
   "cell_type": "code",
   "execution_count": 1,
   "metadata": {},
   "outputs": [],
   "source": [
    "import pandas as pd\n",
    "\n",
    "from sklearn.preprocessing import OrdinalEncoder\n",
    "from sklearn.model_selection import train_test_split\n",
    "from sklearn.model_selection import GridSearchCV\n",
    "from sklearn.model_selection import cross_val_score\n",
    "from sklearn.tree import DecisionTreeRegressor\n",
    "from sklearn.ensemble import RandomForestRegressor\n",
    "from sklearn.linear_model import LinearRegression\n",
    "from sklearn.metrics import mean_squared_error\n",
    "from sklearn.metrics import mean_absolute_error\n",
    "from sklearn.metrics import make_scorer\n",
    "from sklearn.dummy import DummyClassifier\n",
    "from sklearn.utils import shuffle\n",
    "\n",
    "import matplotlib.pyplot as plt\n",
    "\n",
    "import lightgbm as lgb\n",
    "\n",
    "import numpy as np\n",
    "\n",
    "import statistics as st\n",
    "\n",
    "from scipy import stats\n",
    "\n",
    "from joblib import dump"
   ]
  },
  {
   "cell_type": "markdown",
   "metadata": {},
   "source": [
    "### Знакомство с данными"
   ]
  },
  {
   "cell_type": "code",
   "execution_count": 2,
   "metadata": {
    "scrolled": true
   },
   "outputs": [
    {
     "data": {
      "text/html": [
       "<div>\n",
       "<style scoped>\n",
       "    .dataframe tbody tr th:only-of-type {\n",
       "        vertical-align: middle;\n",
       "    }\n",
       "\n",
       "    .dataframe tbody tr th {\n",
       "        vertical-align: top;\n",
       "    }\n",
       "\n",
       "    .dataframe thead th {\n",
       "        text-align: right;\n",
       "    }\n",
       "</style>\n",
       "<table border=\"1\" class=\"dataframe\">\n",
       "  <thead>\n",
       "    <tr style=\"text-align: right;\">\n",
       "      <th></th>\n",
       "      <th>DateCrawled</th>\n",
       "      <th>Price</th>\n",
       "      <th>VehicleType</th>\n",
       "      <th>RegistrationYear</th>\n",
       "      <th>Gearbox</th>\n",
       "      <th>Power</th>\n",
       "      <th>Model</th>\n",
       "      <th>Kilometer</th>\n",
       "      <th>RegistrationMonth</th>\n",
       "      <th>FuelType</th>\n",
       "      <th>Brand</th>\n",
       "      <th>Repaired</th>\n",
       "      <th>DateCreated</th>\n",
       "      <th>NumberOfPictures</th>\n",
       "      <th>PostalCode</th>\n",
       "      <th>LastSeen</th>\n",
       "    </tr>\n",
       "  </thead>\n",
       "  <tbody>\n",
       "    <tr>\n",
       "      <th>0</th>\n",
       "      <td>2016-03-24 11:52:17</td>\n",
       "      <td>480</td>\n",
       "      <td>NaN</td>\n",
       "      <td>1993</td>\n",
       "      <td>manual</td>\n",
       "      <td>0</td>\n",
       "      <td>golf</td>\n",
       "      <td>150000</td>\n",
       "      <td>0</td>\n",
       "      <td>petrol</td>\n",
       "      <td>volkswagen</td>\n",
       "      <td>NaN</td>\n",
       "      <td>2016-03-24 00:00:00</td>\n",
       "      <td>0</td>\n",
       "      <td>70435</td>\n",
       "      <td>2016-04-07 03:16:57</td>\n",
       "    </tr>\n",
       "    <tr>\n",
       "      <th>1</th>\n",
       "      <td>2016-03-24 10:58:45</td>\n",
       "      <td>18300</td>\n",
       "      <td>coupe</td>\n",
       "      <td>2011</td>\n",
       "      <td>manual</td>\n",
       "      <td>190</td>\n",
       "      <td>NaN</td>\n",
       "      <td>125000</td>\n",
       "      <td>5</td>\n",
       "      <td>gasoline</td>\n",
       "      <td>audi</td>\n",
       "      <td>yes</td>\n",
       "      <td>2016-03-24 00:00:00</td>\n",
       "      <td>0</td>\n",
       "      <td>66954</td>\n",
       "      <td>2016-04-07 01:46:50</td>\n",
       "    </tr>\n",
       "    <tr>\n",
       "      <th>2</th>\n",
       "      <td>2016-03-14 12:52:21</td>\n",
       "      <td>9800</td>\n",
       "      <td>suv</td>\n",
       "      <td>2004</td>\n",
       "      <td>auto</td>\n",
       "      <td>163</td>\n",
       "      <td>grand</td>\n",
       "      <td>125000</td>\n",
       "      <td>8</td>\n",
       "      <td>gasoline</td>\n",
       "      <td>jeep</td>\n",
       "      <td>NaN</td>\n",
       "      <td>2016-03-14 00:00:00</td>\n",
       "      <td>0</td>\n",
       "      <td>90480</td>\n",
       "      <td>2016-04-05 12:47:46</td>\n",
       "    </tr>\n",
       "    <tr>\n",
       "      <th>3</th>\n",
       "      <td>2016-03-17 16:54:04</td>\n",
       "      <td>1500</td>\n",
       "      <td>small</td>\n",
       "      <td>2001</td>\n",
       "      <td>manual</td>\n",
       "      <td>75</td>\n",
       "      <td>golf</td>\n",
       "      <td>150000</td>\n",
       "      <td>6</td>\n",
       "      <td>petrol</td>\n",
       "      <td>volkswagen</td>\n",
       "      <td>no</td>\n",
       "      <td>2016-03-17 00:00:00</td>\n",
       "      <td>0</td>\n",
       "      <td>91074</td>\n",
       "      <td>2016-03-17 17:40:17</td>\n",
       "    </tr>\n",
       "    <tr>\n",
       "      <th>4</th>\n",
       "      <td>2016-03-31 17:25:20</td>\n",
       "      <td>3600</td>\n",
       "      <td>small</td>\n",
       "      <td>2008</td>\n",
       "      <td>manual</td>\n",
       "      <td>69</td>\n",
       "      <td>fabia</td>\n",
       "      <td>90000</td>\n",
       "      <td>7</td>\n",
       "      <td>gasoline</td>\n",
       "      <td>skoda</td>\n",
       "      <td>no</td>\n",
       "      <td>2016-03-31 00:00:00</td>\n",
       "      <td>0</td>\n",
       "      <td>60437</td>\n",
       "      <td>2016-04-06 10:17:21</td>\n",
       "    </tr>\n",
       "    <tr>\n",
       "      <th>...</th>\n",
       "      <td>...</td>\n",
       "      <td>...</td>\n",
       "      <td>...</td>\n",
       "      <td>...</td>\n",
       "      <td>...</td>\n",
       "      <td>...</td>\n",
       "      <td>...</td>\n",
       "      <td>...</td>\n",
       "      <td>...</td>\n",
       "      <td>...</td>\n",
       "      <td>...</td>\n",
       "      <td>...</td>\n",
       "      <td>...</td>\n",
       "      <td>...</td>\n",
       "      <td>...</td>\n",
       "      <td>...</td>\n",
       "    </tr>\n",
       "    <tr>\n",
       "      <th>354364</th>\n",
       "      <td>2016-03-21 09:50:58</td>\n",
       "      <td>0</td>\n",
       "      <td>NaN</td>\n",
       "      <td>2005</td>\n",
       "      <td>manual</td>\n",
       "      <td>0</td>\n",
       "      <td>colt</td>\n",
       "      <td>150000</td>\n",
       "      <td>7</td>\n",
       "      <td>petrol</td>\n",
       "      <td>mitsubishi</td>\n",
       "      <td>yes</td>\n",
       "      <td>2016-03-21 00:00:00</td>\n",
       "      <td>0</td>\n",
       "      <td>2694</td>\n",
       "      <td>2016-03-21 10:42:49</td>\n",
       "    </tr>\n",
       "    <tr>\n",
       "      <th>354365</th>\n",
       "      <td>2016-03-14 17:48:27</td>\n",
       "      <td>2200</td>\n",
       "      <td>NaN</td>\n",
       "      <td>2005</td>\n",
       "      <td>NaN</td>\n",
       "      <td>0</td>\n",
       "      <td>NaN</td>\n",
       "      <td>20000</td>\n",
       "      <td>1</td>\n",
       "      <td>NaN</td>\n",
       "      <td>sonstige_autos</td>\n",
       "      <td>NaN</td>\n",
       "      <td>2016-03-14 00:00:00</td>\n",
       "      <td>0</td>\n",
       "      <td>39576</td>\n",
       "      <td>2016-04-06 00:46:52</td>\n",
       "    </tr>\n",
       "    <tr>\n",
       "      <th>354366</th>\n",
       "      <td>2016-03-05 19:56:21</td>\n",
       "      <td>1199</td>\n",
       "      <td>convertible</td>\n",
       "      <td>2000</td>\n",
       "      <td>auto</td>\n",
       "      <td>101</td>\n",
       "      <td>fortwo</td>\n",
       "      <td>125000</td>\n",
       "      <td>3</td>\n",
       "      <td>petrol</td>\n",
       "      <td>smart</td>\n",
       "      <td>no</td>\n",
       "      <td>2016-03-05 00:00:00</td>\n",
       "      <td>0</td>\n",
       "      <td>26135</td>\n",
       "      <td>2016-03-11 18:17:12</td>\n",
       "    </tr>\n",
       "    <tr>\n",
       "      <th>354367</th>\n",
       "      <td>2016-03-19 18:57:12</td>\n",
       "      <td>9200</td>\n",
       "      <td>bus</td>\n",
       "      <td>1996</td>\n",
       "      <td>manual</td>\n",
       "      <td>102</td>\n",
       "      <td>transporter</td>\n",
       "      <td>150000</td>\n",
       "      <td>3</td>\n",
       "      <td>gasoline</td>\n",
       "      <td>volkswagen</td>\n",
       "      <td>no</td>\n",
       "      <td>2016-03-19 00:00:00</td>\n",
       "      <td>0</td>\n",
       "      <td>87439</td>\n",
       "      <td>2016-04-07 07:15:26</td>\n",
       "    </tr>\n",
       "    <tr>\n",
       "      <th>354368</th>\n",
       "      <td>2016-03-20 19:41:08</td>\n",
       "      <td>3400</td>\n",
       "      <td>wagon</td>\n",
       "      <td>2002</td>\n",
       "      <td>manual</td>\n",
       "      <td>100</td>\n",
       "      <td>golf</td>\n",
       "      <td>150000</td>\n",
       "      <td>6</td>\n",
       "      <td>gasoline</td>\n",
       "      <td>volkswagen</td>\n",
       "      <td>NaN</td>\n",
       "      <td>2016-03-20 00:00:00</td>\n",
       "      <td>0</td>\n",
       "      <td>40764</td>\n",
       "      <td>2016-03-24 12:45:21</td>\n",
       "    </tr>\n",
       "  </tbody>\n",
       "</table>\n",
       "<p>354369 rows × 16 columns</p>\n",
       "</div>"
      ],
      "text/plain": [
       "                DateCrawled  Price  VehicleType  RegistrationYear Gearbox  \\\n",
       "0       2016-03-24 11:52:17    480          NaN              1993  manual   \n",
       "1       2016-03-24 10:58:45  18300        coupe              2011  manual   \n",
       "2       2016-03-14 12:52:21   9800          suv              2004    auto   \n",
       "3       2016-03-17 16:54:04   1500        small              2001  manual   \n",
       "4       2016-03-31 17:25:20   3600        small              2008  manual   \n",
       "...                     ...    ...          ...               ...     ...   \n",
       "354364  2016-03-21 09:50:58      0          NaN              2005  manual   \n",
       "354365  2016-03-14 17:48:27   2200          NaN              2005     NaN   \n",
       "354366  2016-03-05 19:56:21   1199  convertible              2000    auto   \n",
       "354367  2016-03-19 18:57:12   9200          bus              1996  manual   \n",
       "354368  2016-03-20 19:41:08   3400        wagon              2002  manual   \n",
       "\n",
       "        Power        Model  Kilometer  RegistrationMonth  FuelType  \\\n",
       "0           0         golf     150000                  0    petrol   \n",
       "1         190          NaN     125000                  5  gasoline   \n",
       "2         163        grand     125000                  8  gasoline   \n",
       "3          75         golf     150000                  6    petrol   \n",
       "4          69        fabia      90000                  7  gasoline   \n",
       "...       ...          ...        ...                ...       ...   \n",
       "354364      0         colt     150000                  7    petrol   \n",
       "354365      0          NaN      20000                  1       NaN   \n",
       "354366    101       fortwo     125000                  3    petrol   \n",
       "354367    102  transporter     150000                  3  gasoline   \n",
       "354368    100         golf     150000                  6  gasoline   \n",
       "\n",
       "                 Brand Repaired          DateCreated  NumberOfPictures  \\\n",
       "0           volkswagen      NaN  2016-03-24 00:00:00                 0   \n",
       "1                 audi      yes  2016-03-24 00:00:00                 0   \n",
       "2                 jeep      NaN  2016-03-14 00:00:00                 0   \n",
       "3           volkswagen       no  2016-03-17 00:00:00                 0   \n",
       "4                skoda       no  2016-03-31 00:00:00                 0   \n",
       "...                ...      ...                  ...               ...   \n",
       "354364      mitsubishi      yes  2016-03-21 00:00:00                 0   \n",
       "354365  sonstige_autos      NaN  2016-03-14 00:00:00                 0   \n",
       "354366           smart       no  2016-03-05 00:00:00                 0   \n",
       "354367      volkswagen       no  2016-03-19 00:00:00                 0   \n",
       "354368      volkswagen      NaN  2016-03-20 00:00:00                 0   \n",
       "\n",
       "        PostalCode             LastSeen  \n",
       "0            70435  2016-04-07 03:16:57  \n",
       "1            66954  2016-04-07 01:46:50  \n",
       "2            90480  2016-04-05 12:47:46  \n",
       "3            91074  2016-03-17 17:40:17  \n",
       "4            60437  2016-04-06 10:17:21  \n",
       "...            ...                  ...  \n",
       "354364        2694  2016-03-21 10:42:49  \n",
       "354365       39576  2016-04-06 00:46:52  \n",
       "354366       26135  2016-03-11 18:17:12  \n",
       "354367       87439  2016-04-07 07:15:26  \n",
       "354368       40764  2016-03-24 12:45:21  \n",
       "\n",
       "[354369 rows x 16 columns]"
      ]
     },
     "metadata": {},
     "output_type": "display_data"
    }
   ],
   "source": [
    "data = pd.read_csv('/Users/BrightFuture/Desktop/Github worksace/car_price_prediction/autos.csv')\n",
    "display(data)"
   ]
  },
  {
   "cell_type": "code",
   "execution_count": 3,
   "metadata": {},
   "outputs": [],
   "source": [
    "data.columns = data.columns.str.lower()"
   ]
  },
  {
   "cell_type": "code",
   "execution_count": 4,
   "metadata": {},
   "outputs": [
    {
     "name": "stdout",
     "output_type": "stream",
     "text": [
      "<class 'pandas.core.frame.DataFrame'>\n",
      "RangeIndex: 354369 entries, 0 to 354368\n",
      "Data columns (total 16 columns):\n",
      " #   Column             Non-Null Count   Dtype \n",
      "---  ------             --------------   ----- \n",
      " 0   datecrawled        354369 non-null  object\n",
      " 1   price              354369 non-null  int64 \n",
      " 2   vehicletype        316879 non-null  object\n",
      " 3   registrationyear   354369 non-null  int64 \n",
      " 4   gearbox            334536 non-null  object\n",
      " 5   power              354369 non-null  int64 \n",
      " 6   model              334664 non-null  object\n",
      " 7   kilometer          354369 non-null  int64 \n",
      " 8   registrationmonth  354369 non-null  int64 \n",
      " 9   fueltype           321474 non-null  object\n",
      " 10  brand              354369 non-null  object\n",
      " 11  repaired           283215 non-null  object\n",
      " 12  datecreated        354369 non-null  object\n",
      " 13  numberofpictures   354369 non-null  int64 \n",
      " 14  postalcode         354369 non-null  int64 \n",
      " 15  lastseen           354369 non-null  object\n",
      "dtypes: int64(7), object(9)\n",
      "memory usage: 43.3+ MB\n"
     ]
    }
   ],
   "source": [
    "data.info()"
   ]
  },
  {
   "cell_type": "markdown",
   "metadata": {},
   "source": [
    "явно много пустых значений, нужно будет подробнее изучить следующие колонки на предмет пропусков: тип тс, коробка передача, модель, тип топлива, был в ремонте"
   ]
  },
  {
   "cell_type": "code",
   "execution_count": 5,
   "metadata": {},
   "outputs": [
    {
     "data": {
      "text/plain": [
       "array([[<Axes: title={'center': 'price'}>,\n",
       "        <Axes: title={'center': 'registrationyear'}>,\n",
       "        <Axes: title={'center': 'power'}>],\n",
       "       [<Axes: title={'center': 'kilometer'}>,\n",
       "        <Axes: title={'center': 'registrationmonth'}>,\n",
       "        <Axes: title={'center': 'numberofpictures'}>],\n",
       "       [<Axes: title={'center': 'postalcode'}>, <Axes: >, <Axes: >]],\n",
       "      dtype=object)"
      ]
     },
     "execution_count": 5,
     "metadata": {},
     "output_type": "execute_result"
    },
    {
     "data": {
      "image/png": "[encoded data removed]",
      "text/plain": [
       "<Figure size 800x800 with 9 Axes>"
      ]
     },
     "metadata": {},
     "output_type": "display_data"
    }
   ],
   "source": [
    "data.hist(figsize=(8,8))"
   ]
  },
  {
   "cell_type": "markdown",
   "metadata": {},
   "source": [
    "Невооруженным взглядом видны выбросы как минимум в 3 признаках, необходимо будет внимательнее их изучить и обработать данные. Также для начала нам важно понять, какие признаки релевантны, а какие нет."
   ]
  },
  {
   "cell_type": "markdown",
   "metadata": {},
   "source": [
    "### Нерелевантные столбцы"
   ]
  },
  {
   "cell_type": "markdown",
   "metadata": {},
   "source": [
    "Дата выгрузки точно никак не отностится к качеству модели. Также сомнения вызывает почтовый код. Для начала давайте посмотрим, какие у нас коды и я объясню ниже. "
   ]
  },
  {
   "cell_type": "code",
   "execution_count": 6,
   "metadata": {
    "scrolled": false
   },
   "outputs": [
    {
     "name": "stdout",
     "output_type": "stream",
     "text": [
      "10115    819\n",
      "65428    613\n",
      "66333    343\n",
      "32257    317\n",
      "44145    317\n",
      "        ... \n",
      "91801      1\n",
      "31097      1\n",
      "82444      1\n",
      "94359      1\n",
      "31096      1\n",
      "Name: postalcode, Length: 8143, dtype: int64\n"
     ]
    }
   ],
   "source": [
    "print(data['postalcode'].value_counts())"
   ]
  },
  {
   "cell_type": "markdown",
   "metadata": {},
   "source": [
    "Первая мысль была через условный словрь сделать категориальный признак, который бы отражал города,но у нас в таблице 8143 почтовых кода... Сложно все сопоставить, разброс по городам, скорее всего, будет огромный. К тому же формат int, а значит, что все коды, которые начинаются с нуля - четрыехзначные вместо пяти. И нам над осначала исправить коды, потом создать справочник (по сути займет это очень долго, проще было бы купить, если бы был бюджет, на хорошую реальную модель 50-100 (а на оф сайте немецкой почты вообще 400) евро было бы не жалко, но только ради тренировочного проекта (и не факт, что у нас еще полноценыне данные т.е. есть вероятность еще больших осложнений) делать этого я не буду. Два дня собирать свой справочник тоже. \n",
    "К тому же есть еще одна сложность - мы будем делать модели в том числе, возможно, при помощи регрессии, а это значит, что придется кодировать с OHE. Если добавится 100-500 новых признаков на 350+ тысяч объектов мы тут все проклянем. \n",
    "Исходя из вышенаписанного мы все-таки отказываемся от признака \"почтовый код\" и параметр этот удалим. "
   ]
  },
  {
   "cell_type": "markdown",
   "metadata": {},
   "source": [
    "дату размещения объявления мы тоже удалим и на это есть как минимум 2 причины: 1) в гороскопы мы играть не будем 2) модель разрабатывается для новых объявлений, а это значит, что все объявления будут со свежей датой, следовательно я вообще не понимаю, что может дать нам разница в условных 3 месяца на обучающей выборке и как это повлияет на рассчитываемую цену автомобиля через 6 лет...\n",
    "\n",
    "Также параметр \"дата последней активности пользователя интересует нас еще меньше, если учитывать информацию выше. "
   ]
  },
  {
   "cell_type": "markdown",
   "metadata": {},
   "source": [
    "Однако у меня возникла интересная идея: зная дату размещения и дату регистрации автомобиля мы можем вычислить возраст автомобиля, который будет замечательным критерием, как мне кажется, как для дерева, так и для регрессии. Мне также кажется, этот параметр более универсален, в том числе, если применять его к более свежим данным. Но к этому мы вернемся немного позже. "
   ]
  },
  {
   "cell_type": "markdown",
   "metadata": {},
   "source": [
    "Это привет из будущего. Я решил вернуться в прошлое и исправить свои ошибки на раннем этапе - дропнуть все абсолютно бесполезные столбцы - и прямо сейчас. Ну совсем невозможно работать с данными. Каждый раз, когда выводим их на экран - получается абсолютно нечитаемые данные и вообще ни за что. "
   ]
  },
  {
   "cell_type": "markdown",
   "metadata": {},
   "source": [
    "также можно и пару названий колонок поменять для красоты и удобства"
   ]
  },
  {
   "cell_type": "code",
   "execution_count": 7,
   "metadata": {
    "scrolled": true
   },
   "outputs": [],
   "source": [
    "columns_to_drop = ['postalcode', 'lastseen', 'datecrawled']\n",
    "data = data.drop(columns_to_drop, axis=1)"
   ]
  },
  {
   "cell_type": "code",
   "execution_count": 8,
   "metadata": {},
   "outputs": [
    {
     "name": "stdout",
     "output_type": "stream",
     "text": [
      "        price  vehicletype  regyear gearbox  power        model  kilometer  \\\n",
      "0         480          NaN     1993  manual      0         golf     150000   \n",
      "1       18300        coupe     2011  manual    190          NaN     125000   \n",
      "2        9800          suv     2004    auto    163        grand     125000   \n",
      "3        1500        small     2001  manual     75         golf     150000   \n",
      "4        3600        small     2008  manual     69        fabia      90000   \n",
      "...       ...          ...      ...     ...    ...          ...        ...   \n",
      "354364      0          NaN     2005  manual      0         colt     150000   \n",
      "354365   2200          NaN     2005     NaN      0          NaN      20000   \n",
      "354366   1199  convertible     2000    auto    101       fortwo     125000   \n",
      "354367   9200          bus     1996  manual    102  transporter     150000   \n",
      "354368   3400        wagon     2002  manual    100         golf     150000   \n",
      "\n",
      "        regmonth  fueltype           brand repaired          datecreated  \\\n",
      "0              0    petrol      volkswagen      NaN  2016-03-24 00:00:00   \n",
      "1              5  gasoline            audi      yes  2016-03-24 00:00:00   \n",
      "2              8  gasoline            jeep      NaN  2016-03-14 00:00:00   \n",
      "3              6    petrol      volkswagen       no  2016-03-17 00:00:00   \n",
      "4              7  gasoline           skoda       no  2016-03-31 00:00:00   \n",
      "...          ...       ...             ...      ...                  ...   \n",
      "354364         7    petrol      mitsubishi      yes  2016-03-21 00:00:00   \n",
      "354365         1       NaN  sonstige_autos      NaN  2016-03-14 00:00:00   \n",
      "354366         3    petrol           smart       no  2016-03-05 00:00:00   \n",
      "354367         3  gasoline      volkswagen       no  2016-03-19 00:00:00   \n",
      "354368         6  gasoline      volkswagen      NaN  2016-03-20 00:00:00   \n",
      "\n",
      "        pictures  \n",
      "0              0  \n",
      "1              0  \n",
      "2              0  \n",
      "3              0  \n",
      "4              0  \n",
      "...          ...  \n",
      "354364         0  \n",
      "354365         0  \n",
      "354366         0  \n",
      "354367         0  \n",
      "354368         0  \n",
      "\n",
      "[354369 rows x 13 columns]\n"
     ]
    }
   ],
   "source": [
    "data = data.rename(columns = {'registrationyear':'regyear', 'registrationmonth':'regmonth',\n",
    "                              'numberofpictures':'pictures'})\n",
    "print(data)"
   ]
  },
  {
   "cell_type": "markdown",
   "metadata": {},
   "source": [
    "### Цена"
   ]
  },
  {
   "cell_type": "markdown",
   "metadata": {},
   "source": [
    "Теперь давайте поищем пробелы и аномалии. "
   ]
  },
  {
   "cell_type": "markdown",
   "metadata": {},
   "source": [
    "изначально были видны аномалии по целевому параметру - цене. Похоже, очень много нулей."
   ]
  },
  {
   "cell_type": "code",
   "execution_count": 9,
   "metadata": {},
   "outputs": [
    {
     "name": "stdout",
     "output_type": "stream",
     "text": [
      "0        10772\n",
      "500       5670\n",
      "1500      5394\n",
      "1000      4649\n",
      "1200      4594\n",
      "         ...  \n",
      "1368         1\n",
      "233          1\n",
      "11080        1\n",
      "16340        1\n",
      "10985        1\n",
      "Name: price, Length: 3731, dtype: int64\n"
     ]
    }
   ],
   "source": [
    "print(data['price'].value_counts())"
   ]
  },
  {
   "cell_type": "markdown",
   "metadata": {},
   "source": [
    "Данные, у которых не определено значение целевого параметра для нас абсолютно бесполезно, поскольку не несут ни обуччающей ни проверочной ценности."
   ]
  },
  {
   "cell_type": "code",
   "execution_count": 10,
   "metadata": {},
   "outputs": [
    {
     "data": {
      "text/plain": [
       "(354369, 13)"
      ]
     },
     "execution_count": 10,
     "metadata": {},
     "output_type": "execute_result"
    }
   ],
   "source": [
    "data.shape"
   ]
  },
  {
   "cell_type": "code",
   "execution_count": 11,
   "metadata": {},
   "outputs": [
    {
     "data": {
      "text/plain": [
       "(343597, 13)"
      ]
     },
     "execution_count": 11,
     "metadata": {},
     "output_type": "execute_result"
    }
   ],
   "source": [
    "data = data.drop(data[data['price']==0].index)\n",
    "data.shape"
   ]
  },
  {
   "cell_type": "code",
   "execution_count": 12,
   "metadata": {},
   "outputs": [
    {
     "data": {
      "text/plain": [
       "<Axes: >"
      ]
     },
     "execution_count": 12,
     "metadata": {},
     "output_type": "execute_result"
    },
    {
     "data": {
      "image/png": "[encoded data removed]",
      "text/plain": [
       "<Figure size 640x480 with 1 Axes>"
      ]
     },
     "metadata": {},
     "output_type": "display_data"
    }
   ],
   "source": [
    "data['price'].hist()"
   ]
  },
  {
   "cell_type": "code",
   "execution_count": 13,
   "metadata": {},
   "outputs": [
    {
     "name": "stdout",
     "output_type": "stream",
     "text": [
      "count    343597.000000\n",
      "mean       4555.121974\n",
      "std        4515.058553\n",
      "min           1.000000\n",
      "25%        1200.000000\n",
      "50%        2890.000000\n",
      "75%        6500.000000\n",
      "max       20000.000000\n",
      "Name: price, dtype: float64\n"
     ]
    }
   ],
   "source": [
    "print(data['price'].describe())"
   ]
  },
  {
   "cell_type": "markdown",
   "metadata": {},
   "source": [
    "Теперь давайте на всякий случай также взглянем на  дешевые и дорогие машины:"
   ]
  },
  {
   "cell_type": "code",
   "execution_count": 14,
   "metadata": {
    "scrolled": true
   },
   "outputs": [
    {
     "name": "stdout",
     "output_type": "stream",
     "text": [
      "1      1189\n",
      "100    1031\n",
      "50      327\n",
      "80      146\n",
      "99      109\n",
      "10       84\n",
      "70       69\n",
      "60       58\n",
      "30       55\n",
      "75       54\n",
      "20       51\n",
      "40       45\n",
      "90       41\n",
      "25       33\n",
      "15       27\n",
      "5        26\n",
      "55       20\n",
      "65       19\n",
      "35       18\n",
      "45       16\n",
      "95       13\n",
      "2        12\n",
      "49       12\n",
      "85       11\n",
      "8         9\n",
      "3         8\n",
      "9         8\n",
      "12        8\n",
      "13        7\n",
      "39        6\n",
      "59        6\n",
      "11        5\n",
      "17        5\n",
      "14        5\n",
      "79        4\n",
      "18        3\n",
      "7         3\n",
      "89        3\n",
      "69        3\n",
      "19        3\n",
      "66        2\n",
      "16        2\n",
      "98        2\n",
      "29        2\n",
      "33        1\n",
      "24        1\n",
      "4         1\n",
      "88        1\n",
      "47        1\n",
      "38        1\n",
      "21        1\n",
      "32        1\n",
      "58        1\n",
      "27        1\n",
      "26        1\n",
      "74        1\n",
      "77        1\n",
      "Name: price, dtype: int64\n"
     ]
    }
   ],
   "source": [
    "print(data['price'].loc[data['price']<=100].value_counts())"
   ]
  },
  {
   "cell_type": "markdown",
   "metadata": {},
   "source": [
    "Страшно, чему тут модель модет научиться.... что за машины такие за 1 евро? А за 4 евро? а за 12 евро? "
   ]
  },
  {
   "cell_type": "code",
   "execution_count": 15,
   "metadata": {
    "scrolled": true
   },
   "outputs": [
    {
     "name": "stdout",
     "output_type": "stream",
     "text": [
      "        price  vehicletype  regyear gearbox  power        model  kilometer  \\\n",
      "20553      10        wagon     2006  manual      0       mondeo     150000   \n",
      "22346      10          NaN     1995     NaN    102          NaN       5000   \n",
      "23393      10        small     2002  manual      0       twingo     150000   \n",
      "28305      10          NaN     1990     NaN      0  transporter      10000   \n",
      "29438      10        wagon     2004     NaN      0        focus     150000   \n",
      "...       ...          ...      ...     ...    ...          ...        ...   \n",
      "338304     10        small     1998  manual      0           ka     150000   \n",
      "343524     10          NaN     2000     NaN    170       vectra     150000   \n",
      "348001     10  convertible     2000     NaN      0          NaN     125000   \n",
      "349043     10        small     1999     NaN     75          NaN     150000   \n",
      "349944     10          NaN     2005     NaN      0  transporter     150000   \n",
      "\n",
      "        regmonth  fueltype           brand repaired          datecreated  \\\n",
      "20553          3  gasoline            ford      yes  2016-03-30 00:00:00   \n",
      "22346          0       NaN             bmw      NaN  2016-03-07 00:00:00   \n",
      "23393          6    petrol         renault      NaN  2016-03-19 00:00:00   \n",
      "28305          0       NaN      volkswagen      NaN  2016-03-21 00:00:00   \n",
      "29438          0  gasoline            ford      NaN  2016-04-05 00:00:00   \n",
      "...          ...       ...             ...      ...                  ...   \n",
      "338304         0    petrol            ford      NaN  2016-03-20 00:00:00   \n",
      "343524        12       NaN            opel      NaN  2016-04-05 00:00:00   \n",
      "348001         1    petrol  sonstige_autos      NaN  2016-03-27 00:00:00   \n",
      "349043         0       NaN      volkswagen       no  2016-03-26 00:00:00   \n",
      "349944         0       NaN      volkswagen      NaN  2016-03-12 00:00:00   \n",
      "\n",
      "        pictures  \n",
      "20553          0  \n",
      "22346          0  \n",
      "23393          0  \n",
      "28305          0  \n",
      "29438          0  \n",
      "...          ...  \n",
      "338304         0  \n",
      "343524         0  \n",
      "348001         0  \n",
      "349043         0  \n",
      "349944         0  \n",
      "\n",
      "[84 rows x 13 columns]\n"
     ]
    }
   ],
   "source": [
    "print(data.loc[data['price']==10])"
   ]
  },
  {
   "cell_type": "code",
   "execution_count": 16,
   "metadata": {},
   "outputs": [
    {
     "name": "stdout",
     "output_type": "stream",
     "text": [
      "        price vehicletype  regyear gearbox  power   model  kilometer  \\\n",
      "552        50         NaN     1985     NaN      0     NaN     150000   \n",
      "5460       50       small     1994  manual     45   other     100000   \n",
      "6209       50       wagon     2009     NaN      0  passat       5000   \n",
      "8013       50       sedan     1993  manual    100      80     150000   \n",
      "8777       50       small     1995  manual     45   corsa     150000   \n",
      "...       ...         ...      ...     ...    ...     ...        ...   \n",
      "344979     50       small     1997  manual      0      ka     150000   \n",
      "347644     50       wagon     1994  manual     71   astra     150000   \n",
      "351242     50         NaN     2016  manual      0   corsa     150000   \n",
      "351768     50       wagon     2000     NaN      0     NaN     150000   \n",
      "352221     50         NaN     1970     NaN      0     NaN       5000   \n",
      "\n",
      "        regmonth fueltype           brand repaired          datecreated  \\\n",
      "552           11      NaN         trabant      NaN  2016-03-21 00:00:00   \n",
      "5460           0   petrol         citroen      yes  2016-03-07 00:00:00   \n",
      "6209           0      NaN      volkswagen      NaN  2016-03-21 00:00:00   \n",
      "8013          12      NaN            audi      yes  2016-04-01 00:00:00   \n",
      "8777           0   petrol            opel       no  2016-03-15 00:00:00   \n",
      "...          ...      ...             ...      ...                  ...   \n",
      "344979         1   petrol            ford       no  2016-03-17 00:00:00   \n",
      "347644         6   petrol            opel      NaN  2016-03-29 00:00:00   \n",
      "351242         0   petrol            opel      yes  2016-03-15 00:00:00   \n",
      "351768         0   petrol         hyundai      NaN  2016-03-11 00:00:00   \n",
      "352221         0      NaN  sonstige_autos      NaN  2016-03-23 00:00:00   \n",
      "\n",
      "        pictures  \n",
      "552            0  \n",
      "5460           0  \n",
      "6209           0  \n",
      "8013           0  \n",
      "8777           0  \n",
      "...          ...  \n",
      "344979         0  \n",
      "347644         0  \n",
      "351242         0  \n",
      "351768         0  \n",
      "352221         0  \n",
      "\n",
      "[327 rows x 13 columns]\n"
     ]
    }
   ],
   "source": [
    "print(data.loc[data['price']==50])"
   ]
  },
  {
   "cell_type": "code",
   "execution_count": 17,
   "metadata": {},
   "outputs": [
    {
     "name": "stdout",
     "output_type": "stream",
     "text": [
      "        price vehicletype  regyear gearbox  power        model  kilometer  \\\n",
      "99338      19         bus     1962     NaN     34  transporter     100000   \n",
      "299828     19         NaN     1970     NaN      0          NaN     100000   \n",
      "325202     19         NaN     1970     NaN      0  transporter     100000   \n",
      "\n",
      "        regmonth fueltype       brand repaired          datecreated  pictures  \n",
      "99338          1      NaN  volkswagen      NaN  2016-03-14 00:00:00         0  \n",
      "299828         0      NaN  volkswagen      NaN  2016-04-04 00:00:00         0  \n",
      "325202         1      NaN  volkswagen      NaN  2016-03-06 00:00:00         0  \n"
     ]
    }
   ],
   "source": [
    "print(data.loc[data['price']==19])"
   ]
  },
  {
   "cell_type": "code",
   "execution_count": 18,
   "metadata": {},
   "outputs": [
    {
     "name": "stdout",
     "output_type": "stream",
     "text": [
      "        price vehicletype  regyear gearbox  power     model  kilometer  \\\n",
      "964       100       wagon     1995  manual    116    passat     150000   \n",
      "2139      100       small     1997  manual      0    twingo     150000   \n",
      "2920      100         NaN     2018    auto    125  a_klasse     100000   \n",
      "3833      100       sedan     1999  manual    130   primera     150000   \n",
      "4177      100         NaN     2016  manual     39     swift     150000   \n",
      "...       ...         ...      ...     ...    ...       ...        ...   \n",
      "352961    100       small     1998  manual     60      polo     150000   \n",
      "353660    100       wagon     1997  manual    101    vectra     150000   \n",
      "353661    100       sedan     1998  manual     88   3_reihe     150000   \n",
      "353669    100       small     1994  manual     60      polo     150000   \n",
      "354018    100       small     1996  manual      0      polo     150000   \n",
      "\n",
      "        regmonth fueltype          brand repaired          datecreated  \\\n",
      "964            9   petrol     volkswagen      yes  2016-03-30 00:00:00   \n",
      "2139           0   petrol        renault      yes  2016-03-17 00:00:00   \n",
      "2920           0   petrol  mercedes_benz      yes  2016-03-05 00:00:00   \n",
      "3833           4      NaN         nissan      yes  2016-03-30 00:00:00   \n",
      "4177           1   petrol         suzuki      yes  2016-03-15 00:00:00   \n",
      "...          ...      ...            ...      ...                  ...   \n",
      "352961         2   petrol     volkswagen      NaN  2016-03-16 00:00:00   \n",
      "353660         7   petrol           opel      NaN  2016-03-31 00:00:00   \n",
      "353661         4   petrol          mazda      yes  2016-03-17 00:00:00   \n",
      "353669         5      NaN     volkswagen      yes  2016-03-24 00:00:00   \n",
      "354018         0   petrol     volkswagen      NaN  2016-03-14 00:00:00   \n",
      "\n",
      "        pictures  \n",
      "964            0  \n",
      "2139           0  \n",
      "2920           0  \n",
      "3833           0  \n",
      "4177           0  \n",
      "...          ...  \n",
      "352961         0  \n",
      "353660         0  \n",
      "353661         0  \n",
      "353669         0  \n",
      "354018         0  \n",
      "\n",
      "[1031 rows x 13 columns]\n"
     ]
    }
   ],
   "source": [
    "print(data.loc[data['price']==100])"
   ]
  },
  {
   "cell_type": "code",
   "execution_count": 19,
   "metadata": {},
   "outputs": [
    {
     "name": "stdout",
     "output_type": "stream",
     "text": [
      "        price vehicletype  regyear gearbox  power     model  kilometer  \\\n",
      "7629       70         NaN     2010     NaN      0  insignia       5000   \n",
      "10216      70       other     1976     NaN      0    kaefer     150000   \n",
      "10533      70         NaN     2016  manual      0    megane     150000   \n",
      "16588      70       small     1997  manual     50     ibiza     150000   \n",
      "27835      70       sedan     2014    auto      0  a_klasse      50000   \n",
      "...       ...         ...      ...     ...    ...       ...        ...   \n",
      "340320     70         NaN     2016     NaN      0     corsa     150000   \n",
      "343087     70         NaN     2000     NaN      0       NaN     150000   \n",
      "343983     70       small     1998  manual     60        ka     100000   \n",
      "348813     70       small     1998  manual     80       NaN     150000   \n",
      "353564     70         NaN     2000     NaN      0  e_klasse      10000   \n",
      "\n",
      "        regmonth  fueltype          brand repaired          datecreated  \\\n",
      "7629           0       NaN           opel      NaN  2016-03-17 00:00:00   \n",
      "10216          0    petrol     volkswagen      NaN  2016-03-19 00:00:00   \n",
      "10533          0    petrol        renault      NaN  2016-03-29 00:00:00   \n",
      "16588          0       NaN           seat      NaN  2016-03-16 00:00:00   \n",
      "27835          2  gasoline  mercedes_benz       no  2016-04-04 00:00:00   \n",
      "...          ...       ...            ...      ...                  ...   \n",
      "340320         0       NaN           opel      NaN  2016-03-23 00:00:00   \n",
      "343087         0       NaN     volkswagen      NaN  2016-03-25 00:00:00   \n",
      "343983         8    petrol           ford       no  2016-03-29 00:00:00   \n",
      "348813         0    petrol            kia       no  2016-03-12 00:00:00   \n",
      "353564         0       NaN  mercedes_benz      NaN  2016-03-15 00:00:00   \n",
      "\n",
      "        pictures  \n",
      "7629           0  \n",
      "10216          0  \n",
      "10533          0  \n",
      "16588          0  \n",
      "27835          0  \n",
      "...          ...  \n",
      "340320         0  \n",
      "343087         0  \n",
      "343983         0  \n",
      "348813         0  \n",
      "353564         0  \n",
      "\n",
      "[69 rows x 13 columns]\n"
     ]
    }
   ],
   "source": [
    "print(data.loc[data['price']==70])"
   ]
  },
  {
   "cell_type": "markdown",
   "metadata": {},
   "source": [
    "В целом мне очень не нравятся данные по дешевым машинам. Во-первых, цены бредовые, во-вторых, там полно пропусков вообще во всех колонках и в третьих, нам, как мне кажется, важнее точно предсказывать более дорогие машины. Однако, если решим избавляться от каких-либо пропусков, то это в первую очередь отразится на супердешевых машинах. И все же давайте от машин дешевле 50 евро избавимся и не будем портить модель. "
   ]
  },
  {
   "cell_type": "code",
   "execution_count": 20,
   "metadata": {},
   "outputs": [
    {
     "data": {
      "text/plain": [
       "(343597, 13)"
      ]
     },
     "execution_count": 20,
     "metadata": {},
     "output_type": "execute_result"
    }
   ],
   "source": [
    "data.shape"
   ]
  },
  {
   "cell_type": "code",
   "execution_count": 21,
   "metadata": {},
   "outputs": [
    {
     "data": {
      "text/plain": [
       "(341946, 13)"
      ]
     },
     "execution_count": 21,
     "metadata": {},
     "output_type": "execute_result"
    }
   ],
   "source": [
    "data = data.drop(data[data['price']<50].index)\n",
    "data.shape"
   ]
  },
  {
   "cell_type": "code",
   "execution_count": 22,
   "metadata": {},
   "outputs": [
    {
     "name": "stdout",
     "output_type": "stream",
     "text": [
      "        price  vehicletype  regyear gearbox  power    model  kilometer  \\\n",
      "1       18300        coupe     2011  manual    190      NaN     125000   \n",
      "172     19750  convertible     2006  manual    305  mustang      50000   \n",
      "204     18400        wagon     2011    auto    313      5er     150000   \n",
      "282     18700        coupe     2009    auto    213  mustang      80000   \n",
      "337     18880          bus     2014  manual    116  5_reihe      20000   \n",
      "...       ...          ...      ...     ...    ...      ...        ...   \n",
      "353686  18429        sedan     2010  manual    272      3er     125000   \n",
      "353927  18500        sedan     2009    auto    190      NaN     150000   \n",
      "354045  20000        coupe     2006    auto    476    other     125000   \n",
      "354178  19990        small     2014    auto    185       a1      10000   \n",
      "354319  19800        sedan     2011  manual    170      1er      80000   \n",
      "\n",
      "        regmonth  fueltype          brand repaired          datecreated  \\\n",
      "1              5  gasoline           audi      yes  2016-03-24 00:00:00   \n",
      "172            7    petrol           ford       no  2016-03-07 00:00:00   \n",
      "204           11  gasoline            bmw       no  2016-03-31 00:00:00   \n",
      "282            8    petrol           ford       no  2016-03-06 00:00:00   \n",
      "337           11  gasoline          mazda       no  2016-03-20 00:00:00   \n",
      "...          ...       ...            ...      ...                  ...   \n",
      "353686         7    petrol            bmw       no  2016-03-10 00:00:00   \n",
      "353927        10  gasoline           audi       no  2016-03-30 00:00:00   \n",
      "354045         7    petrol  mercedes_benz       no  2016-03-22 00:00:00   \n",
      "354178         2    petrol           audi       no  2016-03-13 00:00:00   \n",
      "354319        12    petrol            bmw       no  2016-03-25 00:00:00   \n",
      "\n",
      "        pictures  \n",
      "1              0  \n",
      "172            0  \n",
      "204            0  \n",
      "282            0  \n",
      "337            0  \n",
      "...          ...  \n",
      "353686         0  \n",
      "353927         0  \n",
      "354045         0  \n",
      "354178         0  \n",
      "354319         0  \n",
      "\n",
      "[4831 rows x 13 columns]\n"
     ]
    }
   ],
   "source": [
    "print(data.loc[data['price']>18000])"
   ]
  },
  {
   "cell_type": "markdown",
   "metadata": {},
   "source": [
    "хорошие машины, думаю, тут ничего трогать не будем. Теперь перейдем к месяцу регистрации. "
   ]
  },
  {
   "cell_type": "markdown",
   "metadata": {},
   "source": [
    "### Месяц регистрации"
   ]
  },
  {
   "cell_type": "code",
   "execution_count": 23,
   "metadata": {},
   "outputs": [
    {
     "name": "stdout",
     "output_type": "stream",
     "text": [
      "3     33749\n",
      "0     32067\n",
      "6     30754\n",
      "4     28627\n",
      "5     28445\n",
      "7     26607\n",
      "10    25568\n",
      "11    23719\n",
      "12    23702\n",
      "9     23326\n",
      "1     22552\n",
      "8     22077\n",
      "2     20753\n",
      "Name: regmonth, dtype: int64\n"
     ]
    }
   ],
   "source": [
    "print(data['regmonth'].value_counts())"
   ]
  },
  {
   "cell_type": "markdown",
   "metadata": {},
   "source": [
    "13 месяцев это сильно)) Тем не менее, я не вижу, как лучше распределить данные с нуля, в любом случае это будет неточно, а удалять их, естественно, не хочется, поэтому оставим все как есть. Можем, конечно, также рассмотреть вариант с удалением этого параметра, но давайте проанализируем: обычно влияние имеет именно месяц производства машины, потому что произведена она может быть в январе, а зарегистрирована первым владельцем только в декабре. Тем не менее, думаю, есть некая корреляция между месяцем производства и месяцем регистрации. Также не исключаю, что под \"месяцем регистрации\" по факту может крыться месяц производства, т.к. мы не сильно осведомлены о порядке постановки на учет в Германии, поэтому параметр трогать мы пока не будем."
   ]
  },
  {
   "cell_type": "markdown",
   "metadata": {},
   "source": [
    "Но есть и агрумент против - для старых машин месяц производства куда менее важен, чем для новых. Условных полгода возраста для двухгодовалой и двадцатилетней машины это две огромны разницы. И если дерево может в теории это рассортировать, применяя параметр к одним значениям больше, чем к другим, то регрессия может научиться на более встарых данных и потом искажать прогнозы на более новых."
   ]
  },
  {
   "cell_type": "markdown",
   "metadata": {},
   "source": [
    "### Год регистрации"
   ]
  },
  {
   "cell_type": "code",
   "execution_count": 24,
   "metadata": {},
   "outputs": [
    {
     "name": "stdout",
     "output_type": "stream",
     "text": [
      "2000    22818\n",
      "1999    21897\n",
      "2005    21404\n",
      "2006    19650\n",
      "2001    19592\n",
      "        ...  \n",
      "2200        1\n",
      "8888        1\n",
      "2290        1\n",
      "9450        1\n",
      "1946        1\n",
      "Name: regyear, Length: 139, dtype: int64\n"
     ]
    }
   ],
   "source": [
    "print(data['regyear'].value_counts())"
   ]
  },
  {
   "cell_type": "code",
   "execution_count": 25,
   "metadata": {
    "scrolled": true
   },
   "outputs": [
    {
     "name": "stdout",
     "output_type": "stream",
     "text": [
      "2005    21404\n",
      "2006    19650\n",
      "2001    19592\n",
      "2003    19458\n",
      "2004    19305\n",
      "2002    18680\n",
      "2007    16986\n",
      "2008    15235\n",
      "2009    14378\n",
      "2010    10667\n",
      "2017     9841\n",
      "2011     9816\n",
      "2016     8899\n",
      "2012     7109\n",
      "2013     4083\n",
      "2018     3766\n",
      "2014     2498\n",
      "2015     1177\n",
      "2019       16\n",
      "Name: regyear, dtype: int64\n"
     ]
    }
   ],
   "source": [
    "print(data['regyear'].loc[(data['regyear']>2000) & (data['regyear']<2022)].value_counts())"
   ]
  },
  {
   "cell_type": "markdown",
   "metadata": {},
   "source": [
    "пропусков нет, а вот выбросы - пожалуйста. Хотя тут ничего неожиданного нет - мы по гистограмме уже все понимали, там еще где-то должно быть значение порядка 300. 88 уникальных значений - много. Давайте определим актуальный временной прмежуток: верхняя граница понятна - 2019 год, нижняя пускай будет 1970 год, чтобы уже не всех динозавров распугать)"
   ]
  },
  {
   "cell_type": "code",
   "execution_count": 26,
   "metadata": {},
   "outputs": [
    {
     "data": {
      "text/plain": [
       "(341946, 13)"
      ]
     },
     "execution_count": 26,
     "metadata": {},
     "output_type": "execute_result"
    }
   ],
   "source": [
    "data.shape"
   ]
  },
  {
   "cell_type": "code",
   "execution_count": 27,
   "metadata": {},
   "outputs": [
    {
     "data": {
      "text/plain": [
       "(340735, 13)"
      ]
     },
     "execution_count": 27,
     "metadata": {},
     "output_type": "execute_result"
    }
   ],
   "source": [
    "data = data.loc[(data['regyear']>1969) & (data['regyear']<2020)]\n",
    "data.shape"
   ]
  },
  {
   "cell_type": "code",
   "execution_count": 28,
   "metadata": {},
   "outputs": [
    {
     "data": {
      "text/plain": [
       "<Axes: >"
      ]
     },
     "execution_count": 28,
     "metadata": {},
     "output_type": "execute_result"
    },
    {
     "data": {
      "image/png": "[encoded data removed]",
      "text/plain": [
       "<Figure size 640x480 with 1 Axes>"
      ]
     },
     "metadata": {},
     "output_type": "display_data"
    }
   ],
   "source": [
    "data['regyear'].hist()"
   ]
  },
  {
   "cell_type": "code",
   "execution_count": 29,
   "metadata": {},
   "outputs": [
    {
     "data": {
      "text/plain": [
       "<Axes: >"
      ]
     },
     "execution_count": 29,
     "metadata": {},
     "output_type": "execute_result"
    },
    {
     "data": {
      "image/png": "[encoded data removed]",
      "text/plain": [
       "<Figure size 640x480 with 1 Axes>"
      ]
     },
     "metadata": {},
     "output_type": "display_data"
    }
   ],
   "source": [
    "data['regyear'].loc[data['regyear']>1990].hist()"
   ]
  },
  {
   "cell_type": "markdown",
   "metadata": {},
   "source": [
    "Вот а как бы еще мы увидели бимодальное распределение? А, может, был смысл до 1990 года все удалить? Может, и был, но значений там не так много и глобально картину они не испроотят, как мне кажется, зато, возможно дадут представление о цене древних машин. "
   ]
  },
  {
   "cell_type": "markdown",
   "metadata": {},
   "source": [
    "### Мощность"
   ]
  },
  {
   "cell_type": "code",
   "execution_count": 30,
   "metadata": {},
   "outputs": [
    {
     "name": "stdout",
     "output_type": "stream",
     "text": [
      "0       35068\n",
      "75      23212\n",
      "60      15399\n",
      "150     14101\n",
      "101     12928\n",
      "        ...  \n",
      "1596        1\n",
      "1240        1\n",
      "1506        1\n",
      "5809        1\n",
      "1241        1\n",
      "Name: power, Length: 691, dtype: int64\n"
     ]
    }
   ],
   "source": [
    "print(data['power'].value_counts())"
   ]
  },
  {
   "cell_type": "markdown",
   "metadata": {},
   "source": [
    "Изначально еще по гистограмме было понятно, что выбросы по мощности очень сильно портят общую картину. Давайте попробуем посмотреть на эти аномалии"
   ]
  },
  {
   "cell_type": "code",
   "execution_count": 31,
   "metadata": {},
   "outputs": [
    {
     "name": "stdout",
     "output_type": "stream",
     "text": [
      "       price  vehicletype  regyear gearbox  power     model  kilometer  \\\n",
      "1816    3200        small     2004  manual   1398   corolla       5000   \n",
      "4060    3100        sedan     2005  manual    953      colt     150000   \n",
      "5328     500        wagon     1999  manual   1001     astra     150000   \n",
      "6296     599        small     2002  manual    603     matiz       5000   \n",
      "6504    3000        small     2009  manual    771     punto     125000   \n",
      "6637     600        small     1996  manual    603     corsa     150000   \n",
      "7661    1499        small     1999  manual   7515      lupo     150000   \n",
      "7720    1500        small     2000  manual   1400       NaN     150000   \n",
      "8057     500        small     2002  manual    620   ypsilon     150000   \n",
      "9664    2599          NaN     2016  manual   1779    zafira     150000   \n",
      "9875     550        wagon     2003  manual   1753     focus     150000   \n",
      "12740   3500  convertible     2003  manual    952        ka      70000   \n",
      "13373  18500        small     2002    auto    600    s_type     150000   \n",
      "14555    599          NaN     2018  manual    599    twingo     150000   \n",
      "16385    100        small     1996  manual    553       NaN     150000   \n",
      "17510  15500        coupe     2009    auto    507   m_reihe     150000   \n",
      "19092   9750        wagon     2005    auto   2729       5er     150000   \n",
      "19826   3390        sedan     2009  manual   1240     micra      60000   \n",
      "20050   2200        sedan     2002    auto   1704  e_klasse     150000   \n",
      "20145  18500          suv     2006    auto    521   cayenne     150000   \n",
      "\n",
      "       regmonth  fueltype          brand repaired          datecreated  \\\n",
      "1816          6    petrol         toyota       no  2016-03-22 00:00:00   \n",
      "4060          4  gasoline     mitsubishi       no  2016-04-03 00:00:00   \n",
      "5328          7    petrol           opel      NaN  2016-03-29 00:00:00   \n",
      "6296         11    petrol      chevrolet      yes  2016-03-31 00:00:00   \n",
      "6504          0    petrol           fiat      NaN  2016-03-14 00:00:00   \n",
      "6637          8    petrol           opel      yes  2016-03-31 00:00:00   \n",
      "7661          4    petrol     volkswagen      NaN  2016-04-02 00:00:00   \n",
      "7720          0    petrol          honda      NaN  2016-04-02 00:00:00   \n",
      "8057         12    petrol         lancia      NaN  2016-03-15 00:00:00   \n",
      "9664          0    petrol           opel       no  2016-03-14 00:00:00   \n",
      "9875          1  gasoline           ford      yes  2016-03-31 00:00:00   \n",
      "12740         5    petrol           ford       no  2016-03-09 00:00:00   \n",
      "13373        12       NaN         jaguar       no  2016-03-31 00:00:00   \n",
      "14555         0       NaN        renault      NaN  2016-03-12 00:00:00   \n",
      "16385         7       NaN        renault      yes  2016-03-17 00:00:00   \n",
      "17510         1    petrol            bmw      yes  2016-03-23 00:00:00   \n",
      "19092         7  gasoline            bmw       no  2016-03-20 00:00:00   \n",
      "19826         3    petrol         nissan       no  2016-03-18 00:00:00   \n",
      "20050         1       NaN  mercedes_benz      yes  2016-03-26 00:00:00   \n",
      "20145         5    petrol        porsche       no  2016-03-21 00:00:00   \n",
      "\n",
      "       pictures  \n",
      "1816          0  \n",
      "4060          0  \n",
      "5328          0  \n",
      "6296          0  \n",
      "6504          0  \n",
      "6637          0  \n",
      "7661          0  \n",
      "7720          0  \n",
      "8057          0  \n",
      "9664          0  \n",
      "9875          0  \n",
      "12740         0  \n",
      "13373         0  \n",
      "14555         0  \n",
      "16385         0  \n",
      "17510         0  \n",
      "19092         0  \n",
      "19826         0  \n",
      "20050         0  \n",
      "20145         0  \n"
     ]
    }
   ],
   "source": [
    "print(data.loc[data['power']>500].head(20))"
   ]
  },
  {
   "cell_type": "code",
   "execution_count": 32,
   "metadata": {},
   "outputs": [
    {
     "name": "stdout",
     "output_type": "stream",
     "text": [
      "0     35068\n",
      "26      242\n",
      "5        99\n",
      "18       38\n",
      "27       36\n",
      "29       31\n",
      "4        30\n",
      "11       27\n",
      "23       24\n",
      "1        23\n",
      "24       18\n",
      "15       14\n",
      "25       14\n",
      "12       13\n",
      "14       12\n",
      "10       11\n",
      "6        11\n",
      "20       11\n",
      "7        10\n",
      "19       10\n",
      "16        9\n",
      "2         9\n",
      "17        8\n",
      "3         8\n",
      "8         6\n",
      "13        5\n",
      "9         4\n",
      "28        4\n",
      "22        3\n",
      "21        3\n",
      "Name: power, dtype: int64\n"
     ]
    }
   ],
   "source": [
    "print(data['power'].loc[data['power']<30].value_counts())"
   ]
  },
  {
   "cell_type": "markdown",
   "metadata": {},
   "source": [
    "нули...40 000... "
   ]
  },
  {
   "cell_type": "markdown",
   "metadata": {},
   "source": [
    "Ошибки очевидны, суперкаров тут нет, но подозреваю, характер этих ошибок неоднороден и непредсказуем, где-то, по-видимому, забыли запятую, а где-то, похоже, вместо мощности внесли объем двигателя в кубических сантиметрах. А если брать ягуар с-тайп, то показатель мощности 600 - вообще загадка. Думаю, есть смысл от мощных выбросов избавиться, потому что они непредсказуемые и неисправляемые общим правилом. Что касается слабых машин, то нули мы по уберем, а потом посмотрим на оставшиеся слабые машины и, скорее всего, что-то еще уберем. "
   ]
  },
  {
   "cell_type": "markdown",
   "metadata": {},
   "source": [
    "Наверное, на этом этапе может появится вопрос, что же я за варвар такой, который столько данных удаляет? А все просто - заказчик хочет модель, которая предсказывает точно и качественно. И функционал приложения для нашей модели будет устроен так, что для получения оценки цены машины надо ввести все данные (предсказания с вилкой цены в рамках данного проекта мы делать не будем), тогда нам нет смысла учить модель на данных с пропусками. И если пропуски эти заолнить ничем адекватным у нас не получается, придется нам от этих данных избавляться."
   ]
  },
  {
   "cell_type": "code",
   "execution_count": 33,
   "metadata": {},
   "outputs": [
    {
     "data": {
      "text/plain": [
       "(340735, 13)"
      ]
     },
     "execution_count": 33,
     "metadata": {},
     "output_type": "execute_result"
    }
   ],
   "source": [
    "data.shape"
   ]
  },
  {
   "cell_type": "code",
   "execution_count": 34,
   "metadata": {},
   "outputs": [
    {
     "data": {
      "text/plain": [
       "(305256, 13)"
      ]
     },
     "execution_count": 34,
     "metadata": {},
     "output_type": "execute_result"
    }
   ],
   "source": [
    "data = data.drop(data[data['power']==0].index)\n",
    "data = data.drop(data[data['power']>500].index)\n",
    "data.shape"
   ]
  },
  {
   "cell_type": "code",
   "execution_count": 35,
   "metadata": {},
   "outputs": [
    {
     "name": "stdout",
     "output_type": "stream",
     "text": [
      "        price  vehicletype  regyear gearbox  power  model  kilometer  \\\n",
      "431      3950        small     2004    auto      5    NaN      70000   \n",
      "1235     4450        small     1971  manual     23    500      70000   \n",
      "1331      650          NaN     1970     NaN     26    NaN     100000   \n",
      "3349     1990        small     2004     NaN      7   polo     150000   \n",
      "3419     2300          NaN     2017  manual     26    601      70000   \n",
      "...       ...          ...      ...     ...    ...    ...        ...   \n",
      "349031   1000        sedan     1989  manual     26    601      80000   \n",
      "349666   1500          NaN     2016     NaN      2    NaN     150000   \n",
      "353127   8600  convertible     2012  manual      8    NaN       5000   \n",
      "353501  11300        sedan     1988  manual     29  other     150000   \n",
      "354360   3999        wagon     2005  manual      3    3er     150000   \n",
      "\n",
      "        regmonth  fueltype           brand repaired          datecreated  \\\n",
      "431            5  gasoline  sonstige_autos       no  2016-03-20 00:00:00   \n",
      "1235           5    petrol            fiat       no  2016-03-08 00:00:00   \n",
      "1331           5       NaN         trabant      NaN  2016-04-03 00:00:00   \n",
      "3349           5  gasoline      volkswagen       no  2016-03-29 00:00:00   \n",
      "3419           1       NaN         trabant       no  2016-03-27 00:00:00   \n",
      "...          ...       ...             ...      ...                  ...   \n",
      "349031         4    petrol         trabant      NaN  2016-03-25 00:00:00   \n",
      "349666         5  gasoline      volkswagen      NaN  2016-03-07 00:00:00   \n",
      "353127         3  gasoline  sonstige_autos       no  2016-03-26 00:00:00   \n",
      "353501         3    petrol         citroen       no  2016-03-27 00:00:00   \n",
      "354360         5  gasoline             bmw       no  2016-04-02 00:00:00   \n",
      "\n",
      "        pictures  \n",
      "431            0  \n",
      "1235           0  \n",
      "1331           0  \n",
      "3349           0  \n",
      "3419           0  \n",
      "...          ...  \n",
      "349031         0  \n",
      "349666         0  \n",
      "353127         0  \n",
      "353501         0  \n",
      "354360         0  \n",
      "\n",
      "[733 rows x 13 columns]\n"
     ]
    }
   ],
   "source": [
    "print(data.loc[data['power']<30])"
   ]
  },
  {
   "cell_type": "markdown",
   "metadata": {},
   "source": [
    "Вот смотришь сомнительные данные и ожидаешь найти в них все что угодно, но не \"ситроен 1988 года, не бит не крашен, 29 лошадиных сил, цена 4000 евро\" и думаешь после этого, а мы точно имеем морально право на основе таких данных что-то строить? "
   ]
  },
  {
   "cell_type": "markdown",
   "metadata": {},
   "source": [
    "А вообще, если честно, не увидел я тут ни одной машины, которую можно было бы добавить в нашу модель и это было бы хорошо. "
   ]
  },
  {
   "cell_type": "code",
   "execution_count": 36,
   "metadata": {},
   "outputs": [
    {
     "data": {
      "text/plain": [
       "(305256, 13)"
      ]
     },
     "execution_count": 36,
     "metadata": {},
     "output_type": "execute_result"
    }
   ],
   "source": [
    "data.shape"
   ]
  },
  {
   "cell_type": "code",
   "execution_count": 37,
   "metadata": {},
   "outputs": [
    {
     "data": {
      "text/plain": [
       "(304523, 13)"
      ]
     },
     "execution_count": 37,
     "metadata": {},
     "output_type": "execute_result"
    }
   ],
   "source": [
    "data = data.drop(data[data['power']<30].index)\n",
    "data.shape"
   ]
  },
  {
   "cell_type": "code",
   "execution_count": 38,
   "metadata": {},
   "outputs": [
    {
     "name": "stdout",
     "output_type": "stream",
     "text": [
      "       price  vehicletype  regyear gearbox  power     model  kilometer  \\\n",
      "2781   19500          suv     2004    auto    450   cayenne     125000   \n",
      "3289   16899        wagon     2003    auto    476  e_klasse     150000   \n",
      "4681   13900        sedan     2006    auto    476  e_klasse     150000   \n",
      "5319   10999        wagon     2006    auto    435     other     150000   \n",
      "10354  18900        wagon     2007    auto    420       3er     150000   \n",
      "11613  17900        wagon     2000  manual    500     other     150000   \n",
      "12104  18900        sedan     2006    auto    450     other     150000   \n",
      "12267  17200        wagon     2006    auto    435        a6     150000   \n",
      "13151  16000        sedan     2006    auto    450        a8     150000   \n",
      "13766  18300          suv     2007    auto    426     grand     100000   \n",
      "15689  15499        sedan     2005    auto    450        a8     150000   \n",
      "17054   6000  convertible     2005    auto    500        sl      50000   \n",
      "17228  14900        coupe     2006    auto    500        cl     150000   \n",
      "17871  15000        sedan     1998  manual    440       5er     100000   \n",
      "18181  14000          suv     2007    auto    401     other     150000   \n",
      "18985  17800        wagon     2006    auto    435     other     150000   \n",
      "19660  15500        wagon     2005    auto    476  e_klasse     150000   \n",
      "19947  14888        sedan     2003    auto    476  e_klasse     150000   \n",
      "20581  16800          suv     2005    auto    500   cayenne     125000   \n",
      "21240  19950        sedan     2007    auto    450        a8     150000   \n",
      "\n",
      "       regmonth fueltype          brand repaired          datecreated  \\\n",
      "2781         12   petrol        porsche       no  2016-03-16 00:00:00   \n",
      "3289          9   petrol  mercedes_benz       no  2016-03-10 00:00:00   \n",
      "4681          5   petrol  mercedes_benz       no  2016-03-25 00:00:00   \n",
      "5319         12   petrol           audi      yes  2016-03-27 00:00:00   \n",
      "10354        12   petrol            bmw       no  2016-03-27 00:00:00   \n",
      "11613         9   petrol           audi      NaN  2016-03-12 00:00:00   \n",
      "12104        12   petrol           audi       no  2016-03-22 00:00:00   \n",
      "12267        11   petrol           audi       no  2016-03-08 00:00:00   \n",
      "13151         5   petrol           audi       no  2016-03-09 00:00:00   \n",
      "13766         4   petrol           jeep       no  2016-03-27 00:00:00   \n",
      "15689         9   petrol           audi       no  2016-03-20 00:00:00   \n",
      "17054        10   petrol  mercedes_benz       no  2016-03-22 00:00:00   \n",
      "17228         3   petrol  mercedes_benz      yes  2016-03-16 00:00:00   \n",
      "17871         7   petrol            bmw      NaN  2016-03-08 00:00:00   \n",
      "18181         0   petrol      chevrolet      NaN  2016-03-09 00:00:00   \n",
      "18985        10   petrol           audi       no  2016-03-26 00:00:00   \n",
      "19660         5   petrol  mercedes_benz       no  2016-04-01 00:00:00   \n",
      "19947         7   petrol  mercedes_benz       no  2016-03-16 00:00:00   \n",
      "20581         4   petrol        porsche       no  2016-03-19 00:00:00   \n",
      "21240         5   petrol           audi       no  2016-03-22 00:00:00   \n",
      "\n",
      "       pictures  \n",
      "2781          0  \n",
      "3289          0  \n",
      "4681          0  \n",
      "5319          0  \n",
      "10354         0  \n",
      "11613         0  \n",
      "12104         0  \n",
      "12267         0  \n",
      "13151         0  \n",
      "13766         0  \n",
      "15689         0  \n",
      "17054         0  \n",
      "17228         0  \n",
      "17871         0  \n",
      "18181         0  \n",
      "18985         0  \n",
      "19660         0  \n",
      "19947         0  \n",
      "20581         0  \n",
      "21240         0  \n"
     ]
    }
   ],
   "source": [
    "print(data.loc[data['power']>400].head(20))"
   ]
  },
  {
   "cell_type": "markdown",
   "metadata": {},
   "source": [
    "А вот здесь уже явной беды какой-то не заметно. хотя какая-то радость. "
   ]
  },
  {
   "cell_type": "code",
   "execution_count": 39,
   "metadata": {},
   "outputs": [
    {
     "data": {
      "text/plain": [
       "<Axes: >"
      ]
     },
     "execution_count": 39,
     "metadata": {},
     "output_type": "execute_result"
    },
    {
     "data": {
      "image/png": "[encoded data removed]",
      "text/plain": [
       "<Figure size 640x480 with 1 Axes>"
      ]
     },
     "metadata": {},
     "output_type": "display_data"
    }
   ],
   "source": [
    "data['power'].hist()"
   ]
  },
  {
   "cell_type": "markdown",
   "metadata": {},
   "source": [
    "Даже стало как-то похоже на график нормального распределения."
   ]
  },
  {
   "cell_type": "markdown",
   "metadata": {},
   "source": [
    "### Километраж"
   ]
  },
  {
   "cell_type": "code",
   "execution_count": 40,
   "metadata": {},
   "outputs": [
    {
     "name": "stdout",
     "output_type": "stream",
     "text": [
      "150000    203228\n",
      "125000     32743\n",
      "100000     13040\n",
      "90000      10485\n",
      "80000       9194\n",
      "70000       7873\n",
      "60000       6864\n",
      "50000       5692\n",
      "40000       4493\n",
      "30000       3894\n",
      "20000       3278\n",
      "5000        2853\n",
      "10000        886\n",
      "Name: kilometer, dtype: int64\n"
     ]
    }
   ],
   "source": [
    "print(data['kilometer'].value_counts())"
   ]
  },
  {
   "cell_type": "code",
   "execution_count": 41,
   "metadata": {},
   "outputs": [
    {
     "name": "stdout",
     "output_type": "stream",
     "text": [
      "Empty DataFrame\n",
      "Columns: [price, vehicletype, regyear, gearbox, power, model, kilometer, regmonth, fueltype, brand, repaired, datecreated, pictures]\n",
      "Index: []\n"
     ]
    }
   ],
   "source": [
    "print(data.loc[data['kilometer'].isna()==True])"
   ]
  },
  {
   "cell_type": "markdown",
   "metadata": {},
   "source": [
    " Вот уж не ожидал, что такой важный параметр будет в порядке. Отличная новость! "
   ]
  },
  {
   "cell_type": "markdown",
   "metadata": {},
   "source": [
    "### Коробка передач"
   ]
  },
  {
   "cell_type": "code",
   "execution_count": 42,
   "metadata": {},
   "outputs": [
    {
     "name": "stdout",
     "output_type": "stream",
     "text": [
      "manual    238768\n",
      "auto       59865\n",
      "Name: gearbox, dtype: int64\n"
     ]
    }
   ],
   "source": [
    "print(data['gearbox'].value_counts())"
   ]
  },
  {
   "cell_type": "code",
   "execution_count": 43,
   "metadata": {},
   "outputs": [
    {
     "name": "stdout",
     "output_type": "stream",
     "text": [
      "        price vehicletype  regyear gearbox  power  model  kilometer  regmonth  \\\n",
      "16        300         NaN     2016     NaN     60   polo     150000         0   \n",
      "92        250         NaN     2000     NaN     60     ka     150000         0   \n",
      "151      6799       small     2009     NaN     60    NaN      20000         5   \n",
      "161      1495       wagon     2001     NaN     64    NaN     150000         9   \n",
      "186     14000       sedan     2008     NaN    235    NaN     150000         0   \n",
      "...       ...         ...      ...     ...    ...    ...        ...       ...   \n",
      "353892   7900         bus     2009     NaN    140    NaN     125000         7   \n",
      "354005    210       small     1997     NaN     60   polo     150000         0   \n",
      "354133    250       small     1994     NaN     75   golf     150000         6   \n",
      "354285   3500       small     2001     NaN     75  corsa      90000         4   \n",
      "354329    350       small     1996     NaN     65  punto     150000         0   \n",
      "\n",
      "        fueltype           brand repaired          datecreated  pictures  \n",
      "16        petrol      volkswagen      NaN  2016-04-01 00:00:00         0  \n",
      "92           NaN            ford      NaN  2016-03-16 00:00:00         0  \n",
      "151       petrol      volkswagen       no  2016-03-27 00:00:00         0  \n",
      "161     gasoline      volkswagen      NaN  2016-03-28 00:00:00         0  \n",
      "186          NaN             bmw       no  2016-02-12 00:00:00         0  \n",
      "...          ...             ...      ...                  ...       ...  \n",
      "353892  gasoline  sonstige_autos       no  2016-03-06 00:00:00         0  \n",
      "354005       NaN      volkswagen      NaN  2016-03-14 00:00:00         0  \n",
      "354133    petrol      volkswagen       no  2016-03-20 00:00:00         0  \n",
      "354285    petrol            opel       no  2016-03-28 00:00:00         0  \n",
      "354329       NaN            fiat      NaN  2016-03-30 00:00:00         0  \n",
      "\n",
      "[5890 rows x 13 columns]\n"
     ]
    }
   ],
   "source": [
    "print(data[data['gearbox'].isna()])"
   ]
  },
  {
   "cell_type": "markdown",
   "metadata": {},
   "source": [
    "И где-то чуть меньше 6000 NAN. А изначально их было порядка 25 тысяч в этой категории! А значит, мы правильно все удаляем. Проопуски тут по своей сути плохо, поскольку Третьего тут не дано. Думаю, в данном случае можем попробовать использовать экспертное мнение. Скорее всего причина пропуска в том, что результат очевиден томуу, кто разбирается в машинах. А значит, можно посмотреть сколько-ниудь машин с пропусками вдруг, будет понятно, какая там коробка передач."
   ]
  },
  {
   "cell_type": "code",
   "execution_count": 44,
   "metadata": {},
   "outputs": [
    {
     "name": "stdout",
     "output_type": "stream",
     "text": [
      "        price vehicletype  regyear gearbox  power  model  kilometer  regmonth  \\\n",
      "16        300         NaN     2016     NaN     60   polo     150000         0   \n",
      "92        250         NaN     2000     NaN     60     ka     150000         0   \n",
      "151      6799       small     2009     NaN     60    NaN      20000         5   \n",
      "161      1495       wagon     2001     NaN     64    NaN     150000         9   \n",
      "186     14000       sedan     2008     NaN    235    NaN     150000         0   \n",
      "...       ...         ...      ...     ...    ...    ...        ...       ...   \n",
      "353892   7900         bus     2009     NaN    140    NaN     125000         7   \n",
      "354005    210       small     1997     NaN     60   polo     150000         0   \n",
      "354133    250       small     1994     NaN     75   golf     150000         6   \n",
      "354285   3500       small     2001     NaN     75  corsa      90000         4   \n",
      "354329    350       small     1996     NaN     65  punto     150000         0   \n",
      "\n",
      "        fueltype           brand repaired          datecreated  pictures  \n",
      "16        petrol      volkswagen      NaN  2016-04-01 00:00:00         0  \n",
      "92           NaN            ford      NaN  2016-03-16 00:00:00         0  \n",
      "151       petrol      volkswagen       no  2016-03-27 00:00:00         0  \n",
      "161     gasoline      volkswagen      NaN  2016-03-28 00:00:00         0  \n",
      "186          NaN             bmw       no  2016-02-12 00:00:00         0  \n",
      "...          ...             ...      ...                  ...       ...  \n",
      "353892  gasoline  sonstige_autos       no  2016-03-06 00:00:00         0  \n",
      "354005       NaN      volkswagen      NaN  2016-03-14 00:00:00         0  \n",
      "354133    petrol      volkswagen       no  2016-03-20 00:00:00         0  \n",
      "354285    petrol            opel       no  2016-03-28 00:00:00         0  \n",
      "354329       NaN            fiat      NaN  2016-03-30 00:00:00         0  \n",
      "\n",
      "[5890 rows x 13 columns]\n"
     ]
    }
   ],
   "source": [
    "print(data[data['gearbox'].isna()==True])"
   ]
  },
  {
   "cell_type": "markdown",
   "metadata": {},
   "source": [
    "Модель? - NA, была в ремонте? - NA, тип топлива? - NA, тип ТС - NA.... Нет уж, спасибо! - Пожалуйста! "
   ]
  },
  {
   "cell_type": "code",
   "execution_count": 45,
   "metadata": {},
   "outputs": [
    {
     "data": {
      "text/plain": [
       "(304523, 13)"
      ]
     },
     "execution_count": 45,
     "metadata": {},
     "output_type": "execute_result"
    }
   ],
   "source": [
    "data.shape"
   ]
  },
  {
   "cell_type": "code",
   "execution_count": 46,
   "metadata": {},
   "outputs": [
    {
     "data": {
      "text/plain": [
       "(298633, 13)"
      ]
     },
     "execution_count": 46,
     "metadata": {},
     "output_type": "execute_result"
    }
   ],
   "source": [
    "data = data.dropna(subset=['gearbox'])\n",
    "data.shape"
   ]
  },
  {
   "cell_type": "code",
   "execution_count": 47,
   "metadata": {},
   "outputs": [],
   "source": [
    "data = data.reset_index(drop=True)"
   ]
  },
  {
   "cell_type": "markdown",
   "metadata": {},
   "source": [
    "### Тип топлива"
   ]
  },
  {
   "cell_type": "code",
   "execution_count": 48,
   "metadata": {},
   "outputs": [
    {
     "name": "stdout",
     "output_type": "stream",
     "text": [
      "petrol      187052\n",
      "gasoline     88145\n",
      "lpg           4712\n",
      "cng            492\n",
      "hybrid         202\n",
      "other           56\n",
      "electric        36\n",
      "Name: fueltype, dtype: int64\n"
     ]
    }
   ],
   "source": [
    "print(data['fueltype'].value_counts())"
   ]
  },
  {
   "cell_type": "markdown",
   "metadata": {},
   "source": [
    "Бензин, дизель, пара видов газа, гибрид, электричество и прочее. Все культурно, только пропусков было много, насколько я помню. "
   ]
  },
  {
   "cell_type": "code",
   "execution_count": 49,
   "metadata": {},
   "outputs": [
    {
     "name": "stdout",
     "output_type": "stream",
     "text": [
      "        price  vehicletype  regyear gearbox  power     model  kilometer  \\\n",
      "7         999        small     1998  manual    101      golf     150000   \n",
      "11       2500        wagon     2004  manual    131    passat     150000   \n",
      "22       5555          NaN     2017  manual    125        c4     125000   \n",
      "31       1600        other     1991  manual     75    kadett      70000   \n",
      "34       7500        sedan     2002    auto    306  e_klasse     150000   \n",
      "...       ...          ...      ...     ...    ...       ...        ...   \n",
      "298600   1300        small     1999  manual     75   2_reihe     125000   \n",
      "298601   2999        wagon     2004  manual    234    vectra     100000   \n",
      "298608   3850  convertible     2006  manual    108   2_reihe     125000   \n",
      "298619   1900          NaN     2000  manual    110       NaN     150000   \n",
      "298628   5250          NaN     2016    auto    150       159     150000   \n",
      "\n",
      "        regmonth fueltype          brand repaired          datecreated  \\\n",
      "7              0      NaN     volkswagen      NaN  2016-03-17 00:00:00   \n",
      "11             2      NaN     volkswagen       no  2016-03-21 00:00:00   \n",
      "22             4      NaN        citroen       no  2016-03-10 00:00:00   \n",
      "31             0      NaN           opel      NaN  2016-03-11 00:00:00   \n",
      "34             4      NaN  mercedes_benz      NaN  2016-03-30 00:00:00   \n",
      "...          ...      ...            ...      ...                  ...   \n",
      "298600         0      NaN        peugeot      NaN  2016-03-31 00:00:00   \n",
      "298601         1      NaN           opel      NaN  2016-03-14 00:00:00   \n",
      "298608         2      NaN        peugeot       no  2016-03-20 00:00:00   \n",
      "298619         7      NaN     volkswagen       no  2016-03-11 00:00:00   \n",
      "298628        12      NaN     alfa_romeo       no  2016-03-09 00:00:00   \n",
      "\n",
      "        pictures  \n",
      "7              0  \n",
      "11             0  \n",
      "22             0  \n",
      "31             0  \n",
      "34             0  \n",
      "...          ...  \n",
      "298600         0  \n",
      "298601         0  \n",
      "298608         0  \n",
      "298619         0  \n",
      "298628         0  \n",
      "\n",
      "[17938 rows x 13 columns]\n"
     ]
    }
   ],
   "source": [
    "print(data.loc[data['fueltype'].isna()])"
   ]
  },
  {
   "cell_type": "markdown",
   "metadata": {},
   "source": [
    "Опять пустоты... эти Наны друг к другу притягиваются. Ну как миниму коррелируют - тут и ремонтые пропуски и тип ТС и даже модель ТС. Любая модель авто может быть как бензиновой, так и дизельной, а некоторые даже гибридом. Тут мы пропуски запонить можем разве что заглушками. Но по факту мы уже это обсуждали выше и ничего на данный момент не поменялось. Да,17968 объектов - это много, а что делать? оставить 18000 объектов, которые испортят нам модель? "
   ]
  },
  {
   "cell_type": "code",
   "execution_count": 50,
   "metadata": {},
   "outputs": [
    {
     "data": {
      "text/plain": [
       "(298633, 13)"
      ]
     },
     "execution_count": 50,
     "metadata": {},
     "output_type": "execute_result"
    }
   ],
   "source": [
    "data.shape"
   ]
  },
  {
   "cell_type": "code",
   "execution_count": 51,
   "metadata": {},
   "outputs": [
    {
     "data": {
      "text/plain": [
       "(280695, 13)"
      ]
     },
     "execution_count": 51,
     "metadata": {},
     "output_type": "execute_result"
    }
   ],
   "source": [
    "data = data.dropna(subset=['fueltype'])\n",
    "data = data.reset_index(drop=True)\n",
    "data.shape"
   ]
  },
  {
   "cell_type": "markdown",
   "metadata": {},
   "source": [
    "### Модель"
   ]
  },
  {
   "cell_type": "code",
   "execution_count": 52,
   "metadata": {},
   "outputs": [
    {
     "data": {
      "text/plain": [
       "golf                  23931\n",
       "other                 19098\n",
       "3er                   16673\n",
       "polo                  10139\n",
       "corsa                  9502\n",
       "                      ...  \n",
       "kalina                    5\n",
       "samara                    4\n",
       "rangerover                3\n",
       "serie_3                   3\n",
       "range_rover_evoque        2\n",
       "Name: model, Length: 249, dtype: int64"
      ]
     },
     "execution_count": 52,
     "metadata": {},
     "output_type": "execute_result"
    }
   ],
   "source": [
    "data['model'].value_counts()"
   ]
  },
  {
   "cell_type": "code",
   "execution_count": 53,
   "metadata": {},
   "outputs": [
    {
     "name": "stdout",
     "output_type": "stream",
     "text": [
      "        price  vehicletype  regyear gearbox  power model  kilometer  regmonth  \\\n",
      "0       18300        coupe     2011  manual    190   NaN     125000         5   \n",
      "141      1200        coupe     1990  manual     45   NaN     150000         0   \n",
      "318     13950        other     2011  manual    140   NaN      60000        11   \n",
      "334      5800          bus     2007  manual    105   NaN     150000        11   \n",
      "456      3800  convertible     2005  manual    109   NaN     100000        12   \n",
      "...       ...          ...      ...     ...    ...   ...        ...       ...   \n",
      "280454   6000        small     2008  manual    155   NaN     150000         5   \n",
      "280467    200        small     1998  manual     37   NaN     150000         4   \n",
      "280591   5000        sedan     2002    auto    170   NaN     150000         0   \n",
      "280600    560        small     2001    auto    170   NaN      90000         0   \n",
      "280662   9400        wagon     2007  manual    200   NaN     150000         4   \n",
      "\n",
      "        fueltype           brand repaired          datecreated  pictures  \n",
      "0       gasoline            audi      yes  2016-03-24 00:00:00         0  \n",
      "141       petrol      volkswagen      NaN  2016-03-27 00:00:00         0  \n",
      "318     gasoline      alfa_romeo       no  2016-03-26 00:00:00         0  \n",
      "334     gasoline      volkswagen      yes  2016-04-02 00:00:00         0  \n",
      "456       petrol         peugeot      NaN  2016-03-10 00:00:00         0  \n",
      "...          ...             ...      ...                  ...       ...  \n",
      "280454    petrol  sonstige_autos       no  2016-03-19 00:00:00         0  \n",
      "280467    petrol      volkswagen      yes  2016-03-21 00:00:00         0  \n",
      "280591    petrol            audi       no  2016-03-18 00:00:00         0  \n",
      "280600    petrol            fiat      yes  2016-03-07 00:00:00         0  \n",
      "280662  gasoline  sonstige_autos      yes  2016-03-15 00:00:00         0  \n",
      "\n",
      "[8225 rows x 13 columns]\n"
     ]
    }
   ],
   "source": [
    "print(data.loc[data['model'].isna()])"
   ]
  },
  {
   "cell_type": "markdown",
   "metadata": {},
   "source": [
    "Опять же было 20 тысяч пропусков, а осталось чуть больше 8. Снова есть смежные пропуски. "
   ]
  },
  {
   "cell_type": "markdown",
   "metadata": {},
   "source": [
    "Модель - фундамент цены на автомобиль, если незаполнена модель, то чего мы, собственно, хотим? "
   ]
  },
  {
   "cell_type": "code",
   "execution_count": 54,
   "metadata": {},
   "outputs": [
    {
     "data": {
      "text/plain": [
       "(280695, 13)"
      ]
     },
     "execution_count": 54,
     "metadata": {},
     "output_type": "execute_result"
    }
   ],
   "source": [
    "data.shape"
   ]
  },
  {
   "cell_type": "code",
   "execution_count": 55,
   "metadata": {},
   "outputs": [
    {
     "data": {
      "text/plain": [
       "(272470, 13)"
      ]
     },
     "execution_count": 55,
     "metadata": {},
     "output_type": "execute_result"
    }
   ],
   "source": [
    "data = data.dropna(subset = ['model']).reset_index(drop=True)\n",
    "data.shape"
   ]
  },
  {
   "cell_type": "markdown",
   "metadata": {},
   "source": [
    "### Тип ТС"
   ]
  },
  {
   "cell_type": "code",
   "execution_count": 56,
   "metadata": {},
   "outputs": [
    {
     "name": "stdout",
     "output_type": "stream",
     "text": [
      "sedan          77043\n",
      "small          63267\n",
      "wagon          54946\n",
      "bus            24637\n",
      "convertible    17203\n",
      "coupe          13173\n",
      "suv            10006\n",
      "other           1984\n",
      "Name: vehicletype, dtype: int64\n"
     ]
    }
   ],
   "source": [
    "print(data['vehicletype'].value_counts())"
   ]
  },
  {
   "cell_type": "code",
   "execution_count": 57,
   "metadata": {},
   "outputs": [
    {
     "name": "stdout",
     "output_type": "stream",
     "text": [
      "        price vehicletype  regyear gearbox  power    model  kilometer  \\\n",
      "15       2900         NaN     2018  manual     90   meriva     150000   \n",
      "23        899         NaN     2016  manual     60     clio     150000   \n",
      "26        350         NaN     2016  manual     75     golf     150000   \n",
      "35       7750         NaN     2017  manual     80     golf     100000   \n",
      "38       2000         NaN     2017  manual     90    punto     150000   \n",
      "...       ...         ...      ...     ...    ...      ...        ...   \n",
      "272263   4900         NaN     2017  manual     69     polo     150000   \n",
      "272264    600         NaN     2016  manual    170   vectra     150000   \n",
      "272270    395         NaN     2016  manual     60     golf     150000   \n",
      "272275   3600         NaN     2017  manual     86  transit     150000   \n",
      "272278    299         NaN     2016  manual     60    astra     150000   \n",
      "\n",
      "        regmonth  fueltype       brand repaired          datecreated  pictures  \n",
      "15             5    petrol        opel       no  2016-03-23 00:00:00         0  \n",
      "23             6    petrol     renault      NaN  2016-03-29 00:00:00         0  \n",
      "26             4    petrol  volkswagen       no  2016-03-08 00:00:00         0  \n",
      "35             1    petrol  volkswagen      NaN  2016-03-25 00:00:00         0  \n",
      "38            11  gasoline        fiat      yes  2016-03-07 00:00:00         0  \n",
      "...          ...       ...         ...      ...                  ...       ...  \n",
      "272263        12  gasoline  volkswagen      NaN  2016-03-17 00:00:00         0  \n",
      "272264         0    petrol        opel      yes  2016-03-12 00:00:00         0  \n",
      "272270        12    petrol  volkswagen      NaN  2016-03-09 00:00:00         0  \n",
      "272275         5  gasoline        ford      NaN  2016-03-11 00:00:00         0  \n",
      "272278         4    petrol        opel      yes  2016-03-07 00:00:00         0  \n",
      "\n",
      "[10211 rows x 13 columns]\n"
     ]
    }
   ],
   "source": [
    "print(data.loc[data['vehicletype'].isna()])"
   ]
  },
  {
   "cell_type": "markdown",
   "metadata": {},
   "source": [
    "Вначале было 40000 пропусков в типазх ТС, стало 10 000, данные становятся лучше. Возможно, придется с этими данными попрощаться, но пока не хочется. А что если бы мы смогли заполнить эти пропуски? Модели у нас есть, от всех пропусков в моделях мы избавились, а каждая модель практически всегда имеет определенный тип за исключением некоторых модификаций типа седан-купе, но это довольно редкий случай и предлагаю его в расчет не брать. Нам нужен код, который методом голосования сможет определить самый часто встречающийся тип ТС для каждой модели. Может, функция?  "
   ]
  },
  {
   "cell_type": "code",
   "execution_count": 58,
   "metadata": {},
   "outputs": [
    {
     "name": "stdout",
     "output_type": "stream",
     "text": [
      "model\n",
      "100              sedan\n",
      "145              small\n",
      "147              sedan\n",
      "156              wagon\n",
      "159              wagon\n",
      "              ...     \n",
      "yaris            small\n",
      "yeti               suv\n",
      "ypsilon          small\n",
      "z_reihe    convertible\n",
      "zafira             bus\n",
      "Name: vehicletype, Length: 249, dtype: object\n"
     ]
    }
   ],
   "source": [
    "type_by_model = data.groupby('model')['vehicletype'].apply(lambda x: x.value_counts().index[0])\n",
    "\n",
    "print(type_by_model)"
   ]
  },
  {
   "cell_type": "code",
   "execution_count": 59,
   "metadata": {},
   "outputs": [],
   "source": [
    "def fillna_row(row):\n",
    "    if pd.isna(row['vehicletype']):\n",
    "        return type_by_model[row['model']]\n",
    "    else:\n",
    "        return row['vehicletype']"
   ]
  },
  {
   "cell_type": "code",
   "execution_count": 60,
   "metadata": {},
   "outputs": [],
   "source": [
    "data['vehicletype'] = data.apply(fillna_row, axis=1)"
   ]
  },
  {
   "cell_type": "code",
   "execution_count": 61,
   "metadata": {},
   "outputs": [
    {
     "name": "stdout",
     "output_type": "stream",
     "text": [
      "sedan          82089\n",
      "small          66041\n",
      "wagon          55853\n",
      "bus            25859\n",
      "convertible    17264\n",
      "coupe          13269\n",
      "suv            10109\n",
      "other           1986\n",
      "Name: vehicletype, dtype: int64\n",
      "Empty DataFrame\n",
      "Columns: [price, vehicletype, regyear, gearbox, power, model, kilometer, regmonth, fueltype, brand, repaired, datecreated, pictures]\n",
      "Index: []\n"
     ]
    }
   ],
   "source": [
    "print(data['vehicletype'].value_counts())\n",
    "print(data.loc[data['vehicletype'].isna()])"
   ]
  },
  {
   "cell_type": "markdown",
   "metadata": {},
   "source": [
    "Значений в типах стало больше, проопусков стало ноль. Надеюсь, не зря старался."
   ]
  },
  {
   "cell_type": "markdown",
   "metadata": {},
   "source": [
    "### Фото"
   ]
  },
  {
   "cell_type": "code",
   "execution_count": 62,
   "metadata": {},
   "outputs": [
    {
     "name": "stdout",
     "output_type": "stream",
     "text": [
      "0    272470\n",
      "Name: pictures, dtype: int64\n"
     ]
    }
   ],
   "source": [
    "print(data['pictures'].value_counts())"
   ]
  },
  {
   "cell_type": "markdown",
   "metadata": {},
   "source": [
    "ха-ха! а я-то как-то и пропустил это на ггистограмме, хотя подзрения всю дорогу были. В таком случа параметр для нас бесполезен. "
   ]
  },
  {
   "cell_type": "code",
   "execution_count": 63,
   "metadata": {},
   "outputs": [],
   "source": [
    "data = data.drop('pictures', axis=1)"
   ]
  },
  {
   "cell_type": "code",
   "execution_count": 64,
   "metadata": {},
   "outputs": [
    {
     "name": "stdout",
     "output_type": "stream",
     "text": [
      "        price  vehicletype  regyear gearbox  power        model  kilometer  \\\n",
      "0        9800          suv     2004    auto    163        grand     125000   \n",
      "1        1500        small     2001  manual     75         golf     150000   \n",
      "2        3600        small     2008  manual     69        fabia      90000   \n",
      "3         650        sedan     1995  manual    102          3er     150000   \n",
      "4        2200  convertible     2004  manual    109      2_reihe     150000   \n",
      "...       ...          ...      ...     ...    ...          ...        ...   \n",
      "272465   7900        sedan     2010  manual    140         golf     150000   \n",
      "272466   3200        sedan     2004  manual    225         leon     150000   \n",
      "272467   1199  convertible     2000    auto    101       fortwo     125000   \n",
      "272468   9200          bus     1996  manual    102  transporter     150000   \n",
      "272469   3400        wagon     2002  manual    100         golf     150000   \n",
      "\n",
      "        regmonth  fueltype       brand repaired          datecreated  \n",
      "0              8  gasoline        jeep      NaN  2016-03-14 00:00:00  \n",
      "1              6    petrol  volkswagen       no  2016-03-17 00:00:00  \n",
      "2              7  gasoline       skoda       no  2016-03-31 00:00:00  \n",
      "3             10    petrol         bmw      yes  2016-04-04 00:00:00  \n",
      "4              8    petrol     peugeot       no  2016-04-01 00:00:00  \n",
      "...          ...       ...         ...      ...                  ...  \n",
      "272465         7  gasoline  volkswagen       no  2016-03-28 00:00:00  \n",
      "272466         5    petrol        seat      yes  2016-03-19 00:00:00  \n",
      "272467         3    petrol       smart       no  2016-03-05 00:00:00  \n",
      "272468         3  gasoline  volkswagen       no  2016-03-19 00:00:00  \n",
      "272469         6  gasoline  volkswagen      NaN  2016-03-20 00:00:00  \n",
      "\n",
      "[272470 rows x 12 columns]\n"
     ]
    }
   ],
   "source": [
    "print(data)"
   ]
  },
  {
   "cell_type": "markdown",
   "metadata": {},
   "source": [
    "### Определение возраста (и неожиданные проблемы)"
   ]
  },
  {
   "cell_type": "markdown",
   "metadata": {},
   "source": [
    "Перед самым сложным моментом давайте сначала исполним задуманное - создадим колонку с возрастом машин и удалим дату создания заявки."
   ]
  },
  {
   "cell_type": "code",
   "execution_count": 65,
   "metadata": {},
   "outputs": [
    {
     "name": "stdout",
     "output_type": "stream",
     "text": [
      "2016    272447\n",
      "2015        23\n",
      "Name: created, dtype: int64\n"
     ]
    }
   ],
   "source": [
    "data['datecreated'] = pd.to_datetime(data['datecreated'], format = '%Y-%m-%d %H:%M:%S')\n",
    "data['created'] = data['datecreated'].dt.year\n",
    "print(data['created'].value_counts())\n",
    "#ну да, почти все 2016 год, кто бы мог подумать. Стоп! А как тогда у нас в датасете машины моложе 2016 года?\n",
    "# нужна срочная проверка!!!\n",
    "#display(data)"
   ]
  },
  {
   "cell_type": "code",
   "execution_count": 66,
   "metadata": {},
   "outputs": [
    {
     "data": {
      "text/html": [
       "<div>\n",
       "<style scoped>\n",
       "    .dataframe tbody tr th:only-of-type {\n",
       "        vertical-align: middle;\n",
       "    }\n",
       "\n",
       "    .dataframe tbody tr th {\n",
       "        vertical-align: top;\n",
       "    }\n",
       "\n",
       "    .dataframe thead th {\n",
       "        text-align: right;\n",
       "    }\n",
       "</style>\n",
       "<table border=\"1\" class=\"dataframe\">\n",
       "  <thead>\n",
       "    <tr style=\"text-align: right;\">\n",
       "      <th></th>\n",
       "      <th>price</th>\n",
       "      <th>vehicletype</th>\n",
       "      <th>regyear</th>\n",
       "      <th>gearbox</th>\n",
       "      <th>power</th>\n",
       "      <th>model</th>\n",
       "      <th>kilometer</th>\n",
       "      <th>regmonth</th>\n",
       "      <th>fueltype</th>\n",
       "      <th>brand</th>\n",
       "      <th>repaired</th>\n",
       "      <th>datecreated</th>\n",
       "      <th>created</th>\n",
       "    </tr>\n",
       "  </thead>\n",
       "  <tbody>\n",
       "    <tr>\n",
       "      <th>15</th>\n",
       "      <td>2900</td>\n",
       "      <td>bus</td>\n",
       "      <td>2018</td>\n",
       "      <td>manual</td>\n",
       "      <td>90</td>\n",
       "      <td>meriva</td>\n",
       "      <td>150000</td>\n",
       "      <td>5</td>\n",
       "      <td>petrol</td>\n",
       "      <td>opel</td>\n",
       "      <td>no</td>\n",
       "      <td>2016-03-23</td>\n",
       "      <td>2016</td>\n",
       "    </tr>\n",
       "    <tr>\n",
       "      <th>1707</th>\n",
       "      <td>1400</td>\n",
       "      <td>small</td>\n",
       "      <td>2018</td>\n",
       "      <td>manual</td>\n",
       "      <td>45</td>\n",
       "      <td>corsa</td>\n",
       "      <td>70000</td>\n",
       "      <td>12</td>\n",
       "      <td>petrol</td>\n",
       "      <td>opel</td>\n",
       "      <td>no</td>\n",
       "      <td>2016-03-27</td>\n",
       "      <td>2016</td>\n",
       "    </tr>\n",
       "    <tr>\n",
       "      <th>1739</th>\n",
       "      <td>5490</td>\n",
       "      <td>bus</td>\n",
       "      <td>2018</td>\n",
       "      <td>manual</td>\n",
       "      <td>110</td>\n",
       "      <td>transporter</td>\n",
       "      <td>150000</td>\n",
       "      <td>10</td>\n",
       "      <td>petrol</td>\n",
       "      <td>volkswagen</td>\n",
       "      <td>no</td>\n",
       "      <td>2016-03-21</td>\n",
       "      <td>2016</td>\n",
       "    </tr>\n",
       "    <tr>\n",
       "      <th>2114</th>\n",
       "      <td>8800</td>\n",
       "      <td>sedan</td>\n",
       "      <td>2018</td>\n",
       "      <td>manual</td>\n",
       "      <td>143</td>\n",
       "      <td>1er</td>\n",
       "      <td>150000</td>\n",
       "      <td>7</td>\n",
       "      <td>gasoline</td>\n",
       "      <td>bmw</td>\n",
       "      <td>no</td>\n",
       "      <td>2016-03-06</td>\n",
       "      <td>2016</td>\n",
       "    </tr>\n",
       "    <tr>\n",
       "      <th>2215</th>\n",
       "      <td>100</td>\n",
       "      <td>sedan</td>\n",
       "      <td>2018</td>\n",
       "      <td>auto</td>\n",
       "      <td>125</td>\n",
       "      <td>a_klasse</td>\n",
       "      <td>100000</td>\n",
       "      <td>0</td>\n",
       "      <td>petrol</td>\n",
       "      <td>mercedes_benz</td>\n",
       "      <td>yes</td>\n",
       "      <td>2016-03-05</td>\n",
       "      <td>2016</td>\n",
       "    </tr>\n",
       "    <tr>\n",
       "      <th>...</th>\n",
       "      <td>...</td>\n",
       "      <td>...</td>\n",
       "      <td>...</td>\n",
       "      <td>...</td>\n",
       "      <td>...</td>\n",
       "      <td>...</td>\n",
       "      <td>...</td>\n",
       "      <td>...</td>\n",
       "      <td>...</td>\n",
       "      <td>...</td>\n",
       "      <td>...</td>\n",
       "      <td>...</td>\n",
       "      <td>...</td>\n",
       "    </tr>\n",
       "    <tr>\n",
       "      <th>271677</th>\n",
       "      <td>5399</td>\n",
       "      <td>bus</td>\n",
       "      <td>2018</td>\n",
       "      <td>manual</td>\n",
       "      <td>120</td>\n",
       "      <td>zafira</td>\n",
       "      <td>150000</td>\n",
       "      <td>10</td>\n",
       "      <td>gasoline</td>\n",
       "      <td>opel</td>\n",
       "      <td>no</td>\n",
       "      <td>2016-03-23</td>\n",
       "      <td>2016</td>\n",
       "    </tr>\n",
       "    <tr>\n",
       "      <th>271747</th>\n",
       "      <td>1100</td>\n",
       "      <td>sedan</td>\n",
       "      <td>2018</td>\n",
       "      <td>manual</td>\n",
       "      <td>75</td>\n",
       "      <td>civic</td>\n",
       "      <td>150000</td>\n",
       "      <td>0</td>\n",
       "      <td>petrol</td>\n",
       "      <td>honda</td>\n",
       "      <td>NaN</td>\n",
       "      <td>2016-03-07</td>\n",
       "      <td>2016</td>\n",
       "    </tr>\n",
       "    <tr>\n",
       "      <th>271859</th>\n",
       "      <td>4500</td>\n",
       "      <td>sedan</td>\n",
       "      <td>2018</td>\n",
       "      <td>manual</td>\n",
       "      <td>115</td>\n",
       "      <td>1er</td>\n",
       "      <td>150000</td>\n",
       "      <td>0</td>\n",
       "      <td>petrol</td>\n",
       "      <td>bmw</td>\n",
       "      <td>NaN</td>\n",
       "      <td>2016-04-02</td>\n",
       "      <td>2016</td>\n",
       "    </tr>\n",
       "    <tr>\n",
       "      <th>272048</th>\n",
       "      <td>3750</td>\n",
       "      <td>small</td>\n",
       "      <td>2018</td>\n",
       "      <td>manual</td>\n",
       "      <td>70</td>\n",
       "      <td>fiesta</td>\n",
       "      <td>125000</td>\n",
       "      <td>9</td>\n",
       "      <td>petrol</td>\n",
       "      <td>ford</td>\n",
       "      <td>NaN</td>\n",
       "      <td>2016-03-12</td>\n",
       "      <td>2016</td>\n",
       "    </tr>\n",
       "    <tr>\n",
       "      <th>272056</th>\n",
       "      <td>2500</td>\n",
       "      <td>sedan</td>\n",
       "      <td>2018</td>\n",
       "      <td>manual</td>\n",
       "      <td>125</td>\n",
       "      <td>a_klasse</td>\n",
       "      <td>150000</td>\n",
       "      <td>8</td>\n",
       "      <td>petrol</td>\n",
       "      <td>mercedes_benz</td>\n",
       "      <td>no</td>\n",
       "      <td>2016-03-30</td>\n",
       "      <td>2016</td>\n",
       "    </tr>\n",
       "  </tbody>\n",
       "</table>\n",
       "<p>1414 rows × 13 columns</p>\n",
       "</div>"
      ],
      "text/plain": [
       "        price vehicletype  regyear gearbox  power        model  kilometer  \\\n",
       "15       2900         bus     2018  manual     90       meriva     150000   \n",
       "1707     1400       small     2018  manual     45        corsa      70000   \n",
       "1739     5490         bus     2018  manual    110  transporter     150000   \n",
       "2114     8800       sedan     2018  manual    143          1er     150000   \n",
       "2215      100       sedan     2018    auto    125     a_klasse     100000   \n",
       "...       ...         ...      ...     ...    ...          ...        ...   \n",
       "271677   5399         bus     2018  manual    120       zafira     150000   \n",
       "271747   1100       sedan     2018  manual     75        civic     150000   \n",
       "271859   4500       sedan     2018  manual    115          1er     150000   \n",
       "272048   3750       small     2018  manual     70       fiesta     125000   \n",
       "272056   2500       sedan     2018  manual    125     a_klasse     150000   \n",
       "\n",
       "        regmonth  fueltype          brand repaired datecreated  created  \n",
       "15             5    petrol           opel       no  2016-03-23     2016  \n",
       "1707          12    petrol           opel       no  2016-03-27     2016  \n",
       "1739          10    petrol     volkswagen       no  2016-03-21     2016  \n",
       "2114           7  gasoline            bmw       no  2016-03-06     2016  \n",
       "2215           0    petrol  mercedes_benz      yes  2016-03-05     2016  \n",
       "...          ...       ...            ...      ...         ...      ...  \n",
       "271677        10  gasoline           opel       no  2016-03-23     2016  \n",
       "271747         0    petrol          honda      NaN  2016-03-07     2016  \n",
       "271859         0    petrol            bmw      NaN  2016-04-02     2016  \n",
       "272048         9    petrol           ford      NaN  2016-03-12     2016  \n",
       "272056         8    petrol  mercedes_benz       no  2016-03-30     2016  \n",
       "\n",
       "[1414 rows x 13 columns]"
      ]
     },
     "metadata": {},
     "output_type": "display_data"
    }
   ],
   "source": [
    "display(data.loc[data['regyear']==2018])"
   ]
  },
  {
   "cell_type": "markdown",
   "metadata": {},
   "source": [
    "тепреь и эти данные кажутся бредом.... и цена, и пробег"
   ]
  },
  {
   "cell_type": "code",
   "execution_count": 67,
   "metadata": {
    "scrolled": true
   },
   "outputs": [
    {
     "data": {
      "text/html": [
       "<div>\n",
       "<style scoped>\n",
       "    .dataframe tbody tr th:only-of-type {\n",
       "        vertical-align: middle;\n",
       "    }\n",
       "\n",
       "    .dataframe tbody tr th {\n",
       "        vertical-align: top;\n",
       "    }\n",
       "\n",
       "    .dataframe thead th {\n",
       "        text-align: right;\n",
       "    }\n",
       "</style>\n",
       "<table border=\"1\" class=\"dataframe\">\n",
       "  <thead>\n",
       "    <tr style=\"text-align: right;\">\n",
       "      <th></th>\n",
       "      <th>price</th>\n",
       "      <th>vehicletype</th>\n",
       "      <th>regyear</th>\n",
       "      <th>gearbox</th>\n",
       "      <th>power</th>\n",
       "      <th>model</th>\n",
       "      <th>kilometer</th>\n",
       "      <th>regmonth</th>\n",
       "      <th>fueltype</th>\n",
       "      <th>brand</th>\n",
       "      <th>repaired</th>\n",
       "      <th>datecreated</th>\n",
       "      <th>created</th>\n",
       "    </tr>\n",
       "  </thead>\n",
       "  <tbody>\n",
       "    <tr>\n",
       "      <th>23</th>\n",
       "      <td>899</td>\n",
       "      <td>small</td>\n",
       "      <td>2016</td>\n",
       "      <td>manual</td>\n",
       "      <td>60</td>\n",
       "      <td>clio</td>\n",
       "      <td>150000</td>\n",
       "      <td>6</td>\n",
       "      <td>petrol</td>\n",
       "      <td>renault</td>\n",
       "      <td>NaN</td>\n",
       "      <td>2016-03-29</td>\n",
       "      <td>2016</td>\n",
       "    </tr>\n",
       "    <tr>\n",
       "      <th>26</th>\n",
       "      <td>350</td>\n",
       "      <td>sedan</td>\n",
       "      <td>2016</td>\n",
       "      <td>manual</td>\n",
       "      <td>75</td>\n",
       "      <td>golf</td>\n",
       "      <td>150000</td>\n",
       "      <td>4</td>\n",
       "      <td>petrol</td>\n",
       "      <td>volkswagen</td>\n",
       "      <td>no</td>\n",
       "      <td>2016-03-08</td>\n",
       "      <td>2016</td>\n",
       "    </tr>\n",
       "    <tr>\n",
       "      <th>57</th>\n",
       "      <td>150</td>\n",
       "      <td>sedan</td>\n",
       "      <td>2016</td>\n",
       "      <td>manual</td>\n",
       "      <td>75</td>\n",
       "      <td>astra</td>\n",
       "      <td>150000</td>\n",
       "      <td>3</td>\n",
       "      <td>petrol</td>\n",
       "      <td>opel</td>\n",
       "      <td>yes</td>\n",
       "      <td>2016-03-17</td>\n",
       "      <td>2016</td>\n",
       "    </tr>\n",
       "    <tr>\n",
       "      <th>129</th>\n",
       "      <td>3000</td>\n",
       "      <td>small</td>\n",
       "      <td>2016</td>\n",
       "      <td>auto</td>\n",
       "      <td>75</td>\n",
       "      <td>fabia</td>\n",
       "      <td>150000</td>\n",
       "      <td>0</td>\n",
       "      <td>petrol</td>\n",
       "      <td>skoda</td>\n",
       "      <td>NaN</td>\n",
       "      <td>2016-03-21</td>\n",
       "      <td>2016</td>\n",
       "    </tr>\n",
       "    <tr>\n",
       "      <th>144</th>\n",
       "      <td>1999</td>\n",
       "      <td>sedan</td>\n",
       "      <td>2016</td>\n",
       "      <td>manual</td>\n",
       "      <td>110</td>\n",
       "      <td>almera</td>\n",
       "      <td>150000</td>\n",
       "      <td>9</td>\n",
       "      <td>gasoline</td>\n",
       "      <td>nissan</td>\n",
       "      <td>NaN</td>\n",
       "      <td>2016-04-03</td>\n",
       "      <td>2016</td>\n",
       "    </tr>\n",
       "    <tr>\n",
       "      <th>209</th>\n",
       "      <td>150</td>\n",
       "      <td>small</td>\n",
       "      <td>2016</td>\n",
       "      <td>auto</td>\n",
       "      <td>75</td>\n",
       "      <td>fiesta</td>\n",
       "      <td>50000</td>\n",
       "      <td>1</td>\n",
       "      <td>petrol</td>\n",
       "      <td>ford</td>\n",
       "      <td>yes</td>\n",
       "      <td>2016-03-24</td>\n",
       "      <td>2016</td>\n",
       "    </tr>\n",
       "    <tr>\n",
       "      <th>274</th>\n",
       "      <td>1200</td>\n",
       "      <td>bus</td>\n",
       "      <td>2016</td>\n",
       "      <td>manual</td>\n",
       "      <td>75</td>\n",
       "      <td>modus</td>\n",
       "      <td>150000</td>\n",
       "      <td>0</td>\n",
       "      <td>petrol</td>\n",
       "      <td>renault</td>\n",
       "      <td>yes</td>\n",
       "      <td>2016-03-31</td>\n",
       "      <td>2016</td>\n",
       "    </tr>\n",
       "    <tr>\n",
       "      <th>417</th>\n",
       "      <td>4550</td>\n",
       "      <td>sedan</td>\n",
       "      <td>2016</td>\n",
       "      <td>manual</td>\n",
       "      <td>101</td>\n",
       "      <td>golf</td>\n",
       "      <td>150000</td>\n",
       "      <td>8</td>\n",
       "      <td>gasoline</td>\n",
       "      <td>volkswagen</td>\n",
       "      <td>no</td>\n",
       "      <td>2016-03-18</td>\n",
       "      <td>2016</td>\n",
       "    </tr>\n",
       "    <tr>\n",
       "      <th>491</th>\n",
       "      <td>1750</td>\n",
       "      <td>bus</td>\n",
       "      <td>2016</td>\n",
       "      <td>manual</td>\n",
       "      <td>116</td>\n",
       "      <td>galaxy</td>\n",
       "      <td>150000</td>\n",
       "      <td>3</td>\n",
       "      <td>gasoline</td>\n",
       "      <td>ford</td>\n",
       "      <td>yes</td>\n",
       "      <td>2016-03-16</td>\n",
       "      <td>2016</td>\n",
       "    </tr>\n",
       "    <tr>\n",
       "      <th>567</th>\n",
       "      <td>9000</td>\n",
       "      <td>sedan</td>\n",
       "      <td>2016</td>\n",
       "      <td>manual</td>\n",
       "      <td>122</td>\n",
       "      <td>1er</td>\n",
       "      <td>80000</td>\n",
       "      <td>12</td>\n",
       "      <td>petrol</td>\n",
       "      <td>bmw</td>\n",
       "      <td>no</td>\n",
       "      <td>2016-03-16</td>\n",
       "      <td>2016</td>\n",
       "    </tr>\n",
       "    <tr>\n",
       "      <th>587</th>\n",
       "      <td>3500</td>\n",
       "      <td>small</td>\n",
       "      <td>2016</td>\n",
       "      <td>manual</td>\n",
       "      <td>64</td>\n",
       "      <td>polo</td>\n",
       "      <td>100000</td>\n",
       "      <td>9</td>\n",
       "      <td>petrol</td>\n",
       "      <td>volkswagen</td>\n",
       "      <td>no</td>\n",
       "      <td>2016-03-24</td>\n",
       "      <td>2016</td>\n",
       "    </tr>\n",
       "    <tr>\n",
       "      <th>715</th>\n",
       "      <td>2000</td>\n",
       "      <td>small</td>\n",
       "      <td>2016</td>\n",
       "      <td>manual</td>\n",
       "      <td>59</td>\n",
       "      <td>polo</td>\n",
       "      <td>100000</td>\n",
       "      <td>0</td>\n",
       "      <td>petrol</td>\n",
       "      <td>volkswagen</td>\n",
       "      <td>yes</td>\n",
       "      <td>2016-03-24</td>\n",
       "      <td>2016</td>\n",
       "    </tr>\n",
       "    <tr>\n",
       "      <th>784</th>\n",
       "      <td>9200</td>\n",
       "      <td>sedan</td>\n",
       "      <td>2016</td>\n",
       "      <td>manual</td>\n",
       "      <td>75</td>\n",
       "      <td>golf</td>\n",
       "      <td>40000</td>\n",
       "      <td>8</td>\n",
       "      <td>petrol</td>\n",
       "      <td>volkswagen</td>\n",
       "      <td>no</td>\n",
       "      <td>2016-03-20</td>\n",
       "      <td>2016</td>\n",
       "    </tr>\n",
       "    <tr>\n",
       "      <th>813</th>\n",
       "      <td>5400</td>\n",
       "      <td>sedan</td>\n",
       "      <td>2016</td>\n",
       "      <td>auto</td>\n",
       "      <td>140</td>\n",
       "      <td>leon</td>\n",
       "      <td>150000</td>\n",
       "      <td>12</td>\n",
       "      <td>gasoline</td>\n",
       "      <td>seat</td>\n",
       "      <td>no</td>\n",
       "      <td>2016-03-21</td>\n",
       "      <td>2016</td>\n",
       "    </tr>\n",
       "    <tr>\n",
       "      <th>882</th>\n",
       "      <td>120</td>\n",
       "      <td>small</td>\n",
       "      <td>2016</td>\n",
       "      <td>manual</td>\n",
       "      <td>60</td>\n",
       "      <td>punto</td>\n",
       "      <td>150000</td>\n",
       "      <td>0</td>\n",
       "      <td>petrol</td>\n",
       "      <td>fiat</td>\n",
       "      <td>NaN</td>\n",
       "      <td>2016-03-19</td>\n",
       "      <td>2016</td>\n",
       "    </tr>\n",
       "    <tr>\n",
       "      <th>911</th>\n",
       "      <td>17800</td>\n",
       "      <td>bus</td>\n",
       "      <td>2016</td>\n",
       "      <td>manual</td>\n",
       "      <td>99</td>\n",
       "      <td>other</td>\n",
       "      <td>5000</td>\n",
       "      <td>1</td>\n",
       "      <td>gasoline</td>\n",
       "      <td>peugeot</td>\n",
       "      <td>no</td>\n",
       "      <td>2016-04-03</td>\n",
       "      <td>2016</td>\n",
       "    </tr>\n",
       "    <tr>\n",
       "      <th>1211</th>\n",
       "      <td>3500</td>\n",
       "      <td>bus</td>\n",
       "      <td>2016</td>\n",
       "      <td>manual</td>\n",
       "      <td>110</td>\n",
       "      <td>sharan</td>\n",
       "      <td>150000</td>\n",
       "      <td>0</td>\n",
       "      <td>gasoline</td>\n",
       "      <td>volkswagen</td>\n",
       "      <td>NaN</td>\n",
       "      <td>2016-03-15</td>\n",
       "      <td>2016</td>\n",
       "    </tr>\n",
       "    <tr>\n",
       "      <th>1505</th>\n",
       "      <td>10490</td>\n",
       "      <td>small</td>\n",
       "      <td>2016</td>\n",
       "      <td>manual</td>\n",
       "      <td>80</td>\n",
       "      <td>micra</td>\n",
       "      <td>5000</td>\n",
       "      <td>3</td>\n",
       "      <td>petrol</td>\n",
       "      <td>nissan</td>\n",
       "      <td>no</td>\n",
       "      <td>2016-03-19</td>\n",
       "      <td>2016</td>\n",
       "    </tr>\n",
       "    <tr>\n",
       "      <th>1529</th>\n",
       "      <td>3400</td>\n",
       "      <td>small</td>\n",
       "      <td>2016</td>\n",
       "      <td>manual</td>\n",
       "      <td>86</td>\n",
       "      <td>ibiza</td>\n",
       "      <td>125000</td>\n",
       "      <td>4</td>\n",
       "      <td>petrol</td>\n",
       "      <td>seat</td>\n",
       "      <td>no</td>\n",
       "      <td>2016-03-14</td>\n",
       "      <td>2016</td>\n",
       "    </tr>\n",
       "    <tr>\n",
       "      <th>1530</th>\n",
       "      <td>2400</td>\n",
       "      <td>coupe</td>\n",
       "      <td>2016</td>\n",
       "      <td>manual</td>\n",
       "      <td>147</td>\n",
       "      <td>clk</td>\n",
       "      <td>150000</td>\n",
       "      <td>7</td>\n",
       "      <td>petrol</td>\n",
       "      <td>mercedes_benz</td>\n",
       "      <td>no</td>\n",
       "      <td>2016-03-25</td>\n",
       "      <td>2016</td>\n",
       "    </tr>\n",
       "    <tr>\n",
       "      <th>1558</th>\n",
       "      <td>950</td>\n",
       "      <td>small</td>\n",
       "      <td>2016</td>\n",
       "      <td>manual</td>\n",
       "      <td>90</td>\n",
       "      <td>corsa</td>\n",
       "      <td>150000</td>\n",
       "      <td>1</td>\n",
       "      <td>petrol</td>\n",
       "      <td>opel</td>\n",
       "      <td>no</td>\n",
       "      <td>2016-03-09</td>\n",
       "      <td>2016</td>\n",
       "    </tr>\n",
       "    <tr>\n",
       "      <th>1571</th>\n",
       "      <td>2700</td>\n",
       "      <td>sedan</td>\n",
       "      <td>2016</td>\n",
       "      <td>auto</td>\n",
       "      <td>111</td>\n",
       "      <td>a_klasse</td>\n",
       "      <td>150000</td>\n",
       "      <td>3</td>\n",
       "      <td>petrol</td>\n",
       "      <td>mercedes_benz</td>\n",
       "      <td>no</td>\n",
       "      <td>2016-03-25</td>\n",
       "      <td>2016</td>\n",
       "    </tr>\n",
       "    <tr>\n",
       "      <th>1694</th>\n",
       "      <td>5250</td>\n",
       "      <td>bus</td>\n",
       "      <td>2016</td>\n",
       "      <td>manual</td>\n",
       "      <td>105</td>\n",
       "      <td>touran</td>\n",
       "      <td>125000</td>\n",
       "      <td>8</td>\n",
       "      <td>gasoline</td>\n",
       "      <td>volkswagen</td>\n",
       "      <td>yes</td>\n",
       "      <td>2016-04-03</td>\n",
       "      <td>2016</td>\n",
       "    </tr>\n",
       "    <tr>\n",
       "      <th>1711</th>\n",
       "      <td>2399</td>\n",
       "      <td>small</td>\n",
       "      <td>2016</td>\n",
       "      <td>manual</td>\n",
       "      <td>52</td>\n",
       "      <td>matiz</td>\n",
       "      <td>80000</td>\n",
       "      <td>7</td>\n",
       "      <td>petrol</td>\n",
       "      <td>chevrolet</td>\n",
       "      <td>NaN</td>\n",
       "      <td>2016-03-27</td>\n",
       "      <td>2016</td>\n",
       "    </tr>\n",
       "    <tr>\n",
       "      <th>2135</th>\n",
       "      <td>2200</td>\n",
       "      <td>small</td>\n",
       "      <td>2016</td>\n",
       "      <td>manual</td>\n",
       "      <td>90</td>\n",
       "      <td>2_reihe</td>\n",
       "      <td>150000</td>\n",
       "      <td>3</td>\n",
       "      <td>gasoline</td>\n",
       "      <td>peugeot</td>\n",
       "      <td>no</td>\n",
       "      <td>2016-04-01</td>\n",
       "      <td>2016</td>\n",
       "    </tr>\n",
       "    <tr>\n",
       "      <th>2150</th>\n",
       "      <td>2899</td>\n",
       "      <td>sedan</td>\n",
       "      <td>2016</td>\n",
       "      <td>manual</td>\n",
       "      <td>130</td>\n",
       "      <td>c_klasse</td>\n",
       "      <td>150000</td>\n",
       "      <td>9</td>\n",
       "      <td>petrol</td>\n",
       "      <td>mercedes_benz</td>\n",
       "      <td>NaN</td>\n",
       "      <td>2016-03-21</td>\n",
       "      <td>2016</td>\n",
       "    </tr>\n",
       "    <tr>\n",
       "      <th>2326</th>\n",
       "      <td>150</td>\n",
       "      <td>small</td>\n",
       "      <td>2016</td>\n",
       "      <td>manual</td>\n",
       "      <td>60</td>\n",
       "      <td>fiesta</td>\n",
       "      <td>60000</td>\n",
       "      <td>4</td>\n",
       "      <td>petrol</td>\n",
       "      <td>ford</td>\n",
       "      <td>NaN</td>\n",
       "      <td>2016-03-16</td>\n",
       "      <td>2016</td>\n",
       "    </tr>\n",
       "    <tr>\n",
       "      <th>2356</th>\n",
       "      <td>500</td>\n",
       "      <td>wagon</td>\n",
       "      <td>2016</td>\n",
       "      <td>manual</td>\n",
       "      <td>100</td>\n",
       "      <td>focus</td>\n",
       "      <td>150000</td>\n",
       "      <td>2</td>\n",
       "      <td>petrol</td>\n",
       "      <td>ford</td>\n",
       "      <td>no</td>\n",
       "      <td>2016-03-09</td>\n",
       "      <td>2016</td>\n",
       "    </tr>\n",
       "    <tr>\n",
       "      <th>2457</th>\n",
       "      <td>299</td>\n",
       "      <td>sedan</td>\n",
       "      <td>2016</td>\n",
       "      <td>auto</td>\n",
       "      <td>70</td>\n",
       "      <td>golf</td>\n",
       "      <td>150000</td>\n",
       "      <td>0</td>\n",
       "      <td>petrol</td>\n",
       "      <td>volkswagen</td>\n",
       "      <td>NaN</td>\n",
       "      <td>2016-03-31</td>\n",
       "      <td>2016</td>\n",
       "    </tr>\n",
       "    <tr>\n",
       "      <th>2554</th>\n",
       "      <td>3250</td>\n",
       "      <td>bus</td>\n",
       "      <td>2016</td>\n",
       "      <td>manual</td>\n",
       "      <td>120</td>\n",
       "      <td>scenic</td>\n",
       "      <td>150000</td>\n",
       "      <td>8</td>\n",
       "      <td>gasoline</td>\n",
       "      <td>renault</td>\n",
       "      <td>no</td>\n",
       "      <td>2016-03-23</td>\n",
       "      <td>2016</td>\n",
       "    </tr>\n",
       "  </tbody>\n",
       "</table>\n",
       "</div>"
      ],
      "text/plain": [
       "      price vehicletype  regyear gearbox  power     model  kilometer  \\\n",
       "23      899       small     2016  manual     60      clio     150000   \n",
       "26      350       sedan     2016  manual     75      golf     150000   \n",
       "57      150       sedan     2016  manual     75     astra     150000   \n",
       "129    3000       small     2016    auto     75     fabia     150000   \n",
       "144    1999       sedan     2016  manual    110    almera     150000   \n",
       "209     150       small     2016    auto     75    fiesta      50000   \n",
       "274    1200         bus     2016  manual     75     modus     150000   \n",
       "417    4550       sedan     2016  manual    101      golf     150000   \n",
       "491    1750         bus     2016  manual    116    galaxy     150000   \n",
       "567    9000       sedan     2016  manual    122       1er      80000   \n",
       "587    3500       small     2016  manual     64      polo     100000   \n",
       "715    2000       small     2016  manual     59      polo     100000   \n",
       "784    9200       sedan     2016  manual     75      golf      40000   \n",
       "813    5400       sedan     2016    auto    140      leon     150000   \n",
       "882     120       small     2016  manual     60     punto     150000   \n",
       "911   17800         bus     2016  manual     99     other       5000   \n",
       "1211   3500         bus     2016  manual    110    sharan     150000   \n",
       "1505  10490       small     2016  manual     80     micra       5000   \n",
       "1529   3400       small     2016  manual     86     ibiza     125000   \n",
       "1530   2400       coupe     2016  manual    147       clk     150000   \n",
       "1558    950       small     2016  manual     90     corsa     150000   \n",
       "1571   2700       sedan     2016    auto    111  a_klasse     150000   \n",
       "1694   5250         bus     2016  manual    105    touran     125000   \n",
       "1711   2399       small     2016  manual     52     matiz      80000   \n",
       "2135   2200       small     2016  manual     90   2_reihe     150000   \n",
       "2150   2899       sedan     2016  manual    130  c_klasse     150000   \n",
       "2326    150       small     2016  manual     60    fiesta      60000   \n",
       "2356    500       wagon     2016  manual    100     focus     150000   \n",
       "2457    299       sedan     2016    auto     70      golf     150000   \n",
       "2554   3250         bus     2016  manual    120    scenic     150000   \n",
       "\n",
       "      regmonth  fueltype          brand repaired datecreated  created  \n",
       "23           6    petrol        renault      NaN  2016-03-29     2016  \n",
       "26           4    petrol     volkswagen       no  2016-03-08     2016  \n",
       "57           3    petrol           opel      yes  2016-03-17     2016  \n",
       "129          0    petrol          skoda      NaN  2016-03-21     2016  \n",
       "144          9  gasoline         nissan      NaN  2016-04-03     2016  \n",
       "209          1    petrol           ford      yes  2016-03-24     2016  \n",
       "274          0    petrol        renault      yes  2016-03-31     2016  \n",
       "417          8  gasoline     volkswagen       no  2016-03-18     2016  \n",
       "491          3  gasoline           ford      yes  2016-03-16     2016  \n",
       "567         12    petrol            bmw       no  2016-03-16     2016  \n",
       "587          9    petrol     volkswagen       no  2016-03-24     2016  \n",
       "715          0    petrol     volkswagen      yes  2016-03-24     2016  \n",
       "784          8    petrol     volkswagen       no  2016-03-20     2016  \n",
       "813         12  gasoline           seat       no  2016-03-21     2016  \n",
       "882          0    petrol           fiat      NaN  2016-03-19     2016  \n",
       "911          1  gasoline        peugeot       no  2016-04-03     2016  \n",
       "1211         0  gasoline     volkswagen      NaN  2016-03-15     2016  \n",
       "1505         3    petrol         nissan       no  2016-03-19     2016  \n",
       "1529         4    petrol           seat       no  2016-03-14     2016  \n",
       "1530         7    petrol  mercedes_benz       no  2016-03-25     2016  \n",
       "1558         1    petrol           opel       no  2016-03-09     2016  \n",
       "1571         3    petrol  mercedes_benz       no  2016-03-25     2016  \n",
       "1694         8  gasoline     volkswagen      yes  2016-04-03     2016  \n",
       "1711         7    petrol      chevrolet      NaN  2016-03-27     2016  \n",
       "2135         3  gasoline        peugeot       no  2016-04-01     2016  \n",
       "2150         9    petrol  mercedes_benz      NaN  2016-03-21     2016  \n",
       "2326         4    petrol           ford      NaN  2016-03-16     2016  \n",
       "2356         2    petrol           ford       no  2016-03-09     2016  \n",
       "2457         0    petrol     volkswagen      NaN  2016-03-31     2016  \n",
       "2554         8  gasoline        renault       no  2016-03-23     2016  "
      ]
     },
     "metadata": {},
     "output_type": "display_data"
    }
   ],
   "source": [
    "display(data.loc[data['regyear']==2016].head(30))"
   ]
  },
  {
   "cell_type": "markdown",
   "metadata": {},
   "source": [
    "А в 16м году машины 16го года с пробегом 150000 км за 150 евро... Ну это же откровенный мусор. Вот у нас на выходе мусор и получится, если так все оставить."
   ]
  },
  {
   "cell_type": "code",
   "execution_count": 68,
   "metadata": {},
   "outputs": [
    {
     "data": {
      "text/html": [
       "<div>\n",
       "<style scoped>\n",
       "    .dataframe tbody tr th:only-of-type {\n",
       "        vertical-align: middle;\n",
       "    }\n",
       "\n",
       "    .dataframe tbody tr th {\n",
       "        vertical-align: top;\n",
       "    }\n",
       "\n",
       "    .dataframe thead th {\n",
       "        text-align: right;\n",
       "    }\n",
       "</style>\n",
       "<table border=\"1\" class=\"dataframe\">\n",
       "  <thead>\n",
       "    <tr style=\"text-align: right;\">\n",
       "      <th></th>\n",
       "      <th>price</th>\n",
       "      <th>vehicletype</th>\n",
       "      <th>regyear</th>\n",
       "      <th>gearbox</th>\n",
       "      <th>power</th>\n",
       "      <th>model</th>\n",
       "      <th>kilometer</th>\n",
       "      <th>regmonth</th>\n",
       "      <th>fueltype</th>\n",
       "      <th>brand</th>\n",
       "      <th>repaired</th>\n",
       "      <th>datecreated</th>\n",
       "      <th>created</th>\n",
       "    </tr>\n",
       "  </thead>\n",
       "  <tbody>\n",
       "    <tr>\n",
       "      <th>128</th>\n",
       "      <td>16449</td>\n",
       "      <td>wagon</td>\n",
       "      <td>2015</td>\n",
       "      <td>auto</td>\n",
       "      <td>110</td>\n",
       "      <td>fabia</td>\n",
       "      <td>10000</td>\n",
       "      <td>8</td>\n",
       "      <td>petrol</td>\n",
       "      <td>skoda</td>\n",
       "      <td>no</td>\n",
       "      <td>2016-03-08</td>\n",
       "      <td>2016</td>\n",
       "    </tr>\n",
       "    <tr>\n",
       "      <th>419</th>\n",
       "      <td>11500</td>\n",
       "      <td>wagon</td>\n",
       "      <td>2015</td>\n",
       "      <td>auto</td>\n",
       "      <td>160</td>\n",
       "      <td>insignia</td>\n",
       "      <td>150000</td>\n",
       "      <td>5</td>\n",
       "      <td>gasoline</td>\n",
       "      <td>opel</td>\n",
       "      <td>no</td>\n",
       "      <td>2016-03-05</td>\n",
       "      <td>2016</td>\n",
       "    </tr>\n",
       "    <tr>\n",
       "      <th>541</th>\n",
       "      <td>13750</td>\n",
       "      <td>wagon</td>\n",
       "      <td>2015</td>\n",
       "      <td>manual</td>\n",
       "      <td>86</td>\n",
       "      <td>golf</td>\n",
       "      <td>20000</td>\n",
       "      <td>4</td>\n",
       "      <td>petrol</td>\n",
       "      <td>volkswagen</td>\n",
       "      <td>no</td>\n",
       "      <td>2016-03-10</td>\n",
       "      <td>2016</td>\n",
       "    </tr>\n",
       "    <tr>\n",
       "      <th>747</th>\n",
       "      <td>16999</td>\n",
       "      <td>small</td>\n",
       "      <td>2015</td>\n",
       "      <td>manual</td>\n",
       "      <td>102</td>\n",
       "      <td>one</td>\n",
       "      <td>10000</td>\n",
       "      <td>8</td>\n",
       "      <td>petrol</td>\n",
       "      <td>mini</td>\n",
       "      <td>no</td>\n",
       "      <td>2016-03-28</td>\n",
       "      <td>2016</td>\n",
       "    </tr>\n",
       "    <tr>\n",
       "      <th>1004</th>\n",
       "      <td>17900</td>\n",
       "      <td>convertible</td>\n",
       "      <td>2015</td>\n",
       "      <td>auto</td>\n",
       "      <td>84</td>\n",
       "      <td>fortwo</td>\n",
       "      <td>5000</td>\n",
       "      <td>5</td>\n",
       "      <td>petrol</td>\n",
       "      <td>smart</td>\n",
       "      <td>no</td>\n",
       "      <td>2016-03-20</td>\n",
       "      <td>2016</td>\n",
       "    </tr>\n",
       "    <tr>\n",
       "      <th>1469</th>\n",
       "      <td>10500</td>\n",
       "      <td>sedan</td>\n",
       "      <td>2015</td>\n",
       "      <td>manual</td>\n",
       "      <td>110</td>\n",
       "      <td>i_reihe</td>\n",
       "      <td>10000</td>\n",
       "      <td>11</td>\n",
       "      <td>gasoline</td>\n",
       "      <td>hyundai</td>\n",
       "      <td>no</td>\n",
       "      <td>2016-03-11</td>\n",
       "      <td>2016</td>\n",
       "    </tr>\n",
       "    <tr>\n",
       "      <th>1549</th>\n",
       "      <td>13790</td>\n",
       "      <td>small</td>\n",
       "      <td>2015</td>\n",
       "      <td>manual</td>\n",
       "      <td>90</td>\n",
       "      <td>fabia</td>\n",
       "      <td>20000</td>\n",
       "      <td>3</td>\n",
       "      <td>gasoline</td>\n",
       "      <td>skoda</td>\n",
       "      <td>no</td>\n",
       "      <td>2016-03-17</td>\n",
       "      <td>2016</td>\n",
       "    </tr>\n",
       "    <tr>\n",
       "      <th>2001</th>\n",
       "      <td>18900</td>\n",
       "      <td>bus</td>\n",
       "      <td>2015</td>\n",
       "      <td>manual</td>\n",
       "      <td>135</td>\n",
       "      <td>i_reihe</td>\n",
       "      <td>10000</td>\n",
       "      <td>2</td>\n",
       "      <td>petrol</td>\n",
       "      <td>hyundai</td>\n",
       "      <td>no</td>\n",
       "      <td>2016-03-06</td>\n",
       "      <td>2016</td>\n",
       "    </tr>\n",
       "    <tr>\n",
       "      <th>2196</th>\n",
       "      <td>11990</td>\n",
       "      <td>small</td>\n",
       "      <td>2015</td>\n",
       "      <td>manual</td>\n",
       "      <td>75</td>\n",
       "      <td>polo</td>\n",
       "      <td>10000</td>\n",
       "      <td>1</td>\n",
       "      <td>petrol</td>\n",
       "      <td>volkswagen</td>\n",
       "      <td>no</td>\n",
       "      <td>2016-03-26</td>\n",
       "      <td>2016</td>\n",
       "    </tr>\n",
       "    <tr>\n",
       "      <th>2257</th>\n",
       "      <td>13500</td>\n",
       "      <td>suv</td>\n",
       "      <td>2015</td>\n",
       "      <td>manual</td>\n",
       "      <td>105</td>\n",
       "      <td>yeti</td>\n",
       "      <td>10000</td>\n",
       "      <td>3</td>\n",
       "      <td>petrol</td>\n",
       "      <td>skoda</td>\n",
       "      <td>no</td>\n",
       "      <td>2016-03-09</td>\n",
       "      <td>2016</td>\n",
       "    </tr>\n",
       "    <tr>\n",
       "      <th>3073</th>\n",
       "      <td>16999</td>\n",
       "      <td>sedan</td>\n",
       "      <td>2015</td>\n",
       "      <td>manual</td>\n",
       "      <td>110</td>\n",
       "      <td>golf</td>\n",
       "      <td>20000</td>\n",
       "      <td>1</td>\n",
       "      <td>petrol</td>\n",
       "      <td>volkswagen</td>\n",
       "      <td>NaN</td>\n",
       "      <td>2016-04-01</td>\n",
       "      <td>2016</td>\n",
       "    </tr>\n",
       "    <tr>\n",
       "      <th>3094</th>\n",
       "      <td>14999</td>\n",
       "      <td>small</td>\n",
       "      <td>2015</td>\n",
       "      <td>manual</td>\n",
       "      <td>101</td>\n",
       "      <td>fiesta</td>\n",
       "      <td>20000</td>\n",
       "      <td>7</td>\n",
       "      <td>petrol</td>\n",
       "      <td>ford</td>\n",
       "      <td>no</td>\n",
       "      <td>2016-03-23</td>\n",
       "      <td>2016</td>\n",
       "    </tr>\n",
       "    <tr>\n",
       "      <th>3158</th>\n",
       "      <td>15900</td>\n",
       "      <td>small</td>\n",
       "      <td>2015</td>\n",
       "      <td>auto</td>\n",
       "      <td>90</td>\n",
       "      <td>polo</td>\n",
       "      <td>20000</td>\n",
       "      <td>5</td>\n",
       "      <td>gasoline</td>\n",
       "      <td>volkswagen</td>\n",
       "      <td>no</td>\n",
       "      <td>2016-04-04</td>\n",
       "      <td>2016</td>\n",
       "    </tr>\n",
       "    <tr>\n",
       "      <th>3273</th>\n",
       "      <td>9200</td>\n",
       "      <td>small</td>\n",
       "      <td>2015</td>\n",
       "      <td>auto</td>\n",
       "      <td>75</td>\n",
       "      <td>up</td>\n",
       "      <td>5000</td>\n",
       "      <td>4</td>\n",
       "      <td>petrol</td>\n",
       "      <td>volkswagen</td>\n",
       "      <td>no</td>\n",
       "      <td>2016-03-24</td>\n",
       "      <td>2016</td>\n",
       "    </tr>\n",
       "    <tr>\n",
       "      <th>3541</th>\n",
       "      <td>301</td>\n",
       "      <td>small</td>\n",
       "      <td>2015</td>\n",
       "      <td>manual</td>\n",
       "      <td>136</td>\n",
       "      <td>1er</td>\n",
       "      <td>30000</td>\n",
       "      <td>2</td>\n",
       "      <td>petrol</td>\n",
       "      <td>bmw</td>\n",
       "      <td>no</td>\n",
       "      <td>2016-03-28</td>\n",
       "      <td>2016</td>\n",
       "    </tr>\n",
       "    <tr>\n",
       "      <th>4118</th>\n",
       "      <td>14390</td>\n",
       "      <td>bus</td>\n",
       "      <td>2015</td>\n",
       "      <td>manual</td>\n",
       "      <td>107</td>\n",
       "      <td>lodgy</td>\n",
       "      <td>20000</td>\n",
       "      <td>1</td>\n",
       "      <td>gasoline</td>\n",
       "      <td>dacia</td>\n",
       "      <td>no</td>\n",
       "      <td>2016-03-31</td>\n",
       "      <td>2016</td>\n",
       "    </tr>\n",
       "    <tr>\n",
       "      <th>4396</th>\n",
       "      <td>13500</td>\n",
       "      <td>sedan</td>\n",
       "      <td>2015</td>\n",
       "      <td>manual</td>\n",
       "      <td>99</td>\n",
       "      <td>i_reihe</td>\n",
       "      <td>10000</td>\n",
       "      <td>1</td>\n",
       "      <td>petrol</td>\n",
       "      <td>hyundai</td>\n",
       "      <td>no</td>\n",
       "      <td>2016-03-27</td>\n",
       "      <td>2016</td>\n",
       "    </tr>\n",
       "    <tr>\n",
       "      <th>4559</th>\n",
       "      <td>17990</td>\n",
       "      <td>wagon</td>\n",
       "      <td>2015</td>\n",
       "      <td>manual</td>\n",
       "      <td>105</td>\n",
       "      <td>octavia</td>\n",
       "      <td>5000</td>\n",
       "      <td>7</td>\n",
       "      <td>gasoline</td>\n",
       "      <td>skoda</td>\n",
       "      <td>no</td>\n",
       "      <td>2016-03-20</td>\n",
       "      <td>2016</td>\n",
       "    </tr>\n",
       "    <tr>\n",
       "      <th>4762</th>\n",
       "      <td>17500</td>\n",
       "      <td>wagon</td>\n",
       "      <td>2015</td>\n",
       "      <td>manual</td>\n",
       "      <td>120</td>\n",
       "      <td>focus</td>\n",
       "      <td>20000</td>\n",
       "      <td>6</td>\n",
       "      <td>gasoline</td>\n",
       "      <td>ford</td>\n",
       "      <td>no</td>\n",
       "      <td>2016-03-12</td>\n",
       "      <td>2016</td>\n",
       "    </tr>\n",
       "    <tr>\n",
       "      <th>5536</th>\n",
       "      <td>10800</td>\n",
       "      <td>small</td>\n",
       "      <td>2015</td>\n",
       "      <td>manual</td>\n",
       "      <td>60</td>\n",
       "      <td>up</td>\n",
       "      <td>10000</td>\n",
       "      <td>5</td>\n",
       "      <td>petrol</td>\n",
       "      <td>volkswagen</td>\n",
       "      <td>NaN</td>\n",
       "      <td>2016-04-02</td>\n",
       "      <td>2016</td>\n",
       "    </tr>\n",
       "    <tr>\n",
       "      <th>6110</th>\n",
       "      <td>14500</td>\n",
       "      <td>sedan</td>\n",
       "      <td>2015</td>\n",
       "      <td>manual</td>\n",
       "      <td>68</td>\n",
       "      <td>c3</td>\n",
       "      <td>50000</td>\n",
       "      <td>3</td>\n",
       "      <td>petrol</td>\n",
       "      <td>citroen</td>\n",
       "      <td>no</td>\n",
       "      <td>2016-03-16</td>\n",
       "      <td>2016</td>\n",
       "    </tr>\n",
       "    <tr>\n",
       "      <th>6225</th>\n",
       "      <td>19875</td>\n",
       "      <td>sedan</td>\n",
       "      <td>2015</td>\n",
       "      <td>manual</td>\n",
       "      <td>150</td>\n",
       "      <td>3_reihe</td>\n",
       "      <td>10000</td>\n",
       "      <td>1</td>\n",
       "      <td>gasoline</td>\n",
       "      <td>mazda</td>\n",
       "      <td>no</td>\n",
       "      <td>2016-03-14</td>\n",
       "      <td>2016</td>\n",
       "    </tr>\n",
       "    <tr>\n",
       "      <th>6255</th>\n",
       "      <td>11000</td>\n",
       "      <td>sedan</td>\n",
       "      <td>2015</td>\n",
       "      <td>manual</td>\n",
       "      <td>116</td>\n",
       "      <td>astra</td>\n",
       "      <td>20000</td>\n",
       "      <td>3</td>\n",
       "      <td>petrol</td>\n",
       "      <td>opel</td>\n",
       "      <td>no</td>\n",
       "      <td>2016-03-12</td>\n",
       "      <td>2016</td>\n",
       "    </tr>\n",
       "    <tr>\n",
       "      <th>6347</th>\n",
       "      <td>11999</td>\n",
       "      <td>small</td>\n",
       "      <td>2015</td>\n",
       "      <td>manual</td>\n",
       "      <td>101</td>\n",
       "      <td>fiesta</td>\n",
       "      <td>30000</td>\n",
       "      <td>3</td>\n",
       "      <td>petrol</td>\n",
       "      <td>ford</td>\n",
       "      <td>no</td>\n",
       "      <td>2016-03-25</td>\n",
       "      <td>2016</td>\n",
       "    </tr>\n",
       "    <tr>\n",
       "      <th>6723</th>\n",
       "      <td>647</td>\n",
       "      <td>convertible</td>\n",
       "      <td>2015</td>\n",
       "      <td>auto</td>\n",
       "      <td>190</td>\n",
       "      <td>a5</td>\n",
       "      <td>30000</td>\n",
       "      <td>5</td>\n",
       "      <td>gasoline</td>\n",
       "      <td>audi</td>\n",
       "      <td>no</td>\n",
       "      <td>2016-03-20</td>\n",
       "      <td>2016</td>\n",
       "    </tr>\n",
       "    <tr>\n",
       "      <th>6821</th>\n",
       "      <td>18500</td>\n",
       "      <td>convertible</td>\n",
       "      <td>2015</td>\n",
       "      <td>manual</td>\n",
       "      <td>122</td>\n",
       "      <td>golf</td>\n",
       "      <td>5000</td>\n",
       "      <td>7</td>\n",
       "      <td>petrol</td>\n",
       "      <td>volkswagen</td>\n",
       "      <td>yes</td>\n",
       "      <td>2016-03-29</td>\n",
       "      <td>2016</td>\n",
       "    </tr>\n",
       "    <tr>\n",
       "      <th>7023</th>\n",
       "      <td>13800</td>\n",
       "      <td>small</td>\n",
       "      <td>2015</td>\n",
       "      <td>manual</td>\n",
       "      <td>87</td>\n",
       "      <td>other</td>\n",
       "      <td>10000</td>\n",
       "      <td>3</td>\n",
       "      <td>petrol</td>\n",
       "      <td>opel</td>\n",
       "      <td>no</td>\n",
       "      <td>2016-04-02</td>\n",
       "      <td>2016</td>\n",
       "    </tr>\n",
       "    <tr>\n",
       "      <th>7037</th>\n",
       "      <td>12990</td>\n",
       "      <td>small</td>\n",
       "      <td>2015</td>\n",
       "      <td>manual</td>\n",
       "      <td>95</td>\n",
       "      <td>500</td>\n",
       "      <td>10000</td>\n",
       "      <td>3</td>\n",
       "      <td>gasoline</td>\n",
       "      <td>fiat</td>\n",
       "      <td>no</td>\n",
       "      <td>2016-03-28</td>\n",
       "      <td>2016</td>\n",
       "    </tr>\n",
       "    <tr>\n",
       "      <th>7038</th>\n",
       "      <td>15000</td>\n",
       "      <td>suv</td>\n",
       "      <td>2015</td>\n",
       "      <td>manual</td>\n",
       "      <td>105</td>\n",
       "      <td>duster</td>\n",
       "      <td>5000</td>\n",
       "      <td>8</td>\n",
       "      <td>lpg</td>\n",
       "      <td>dacia</td>\n",
       "      <td>no</td>\n",
       "      <td>2016-03-05</td>\n",
       "      <td>2016</td>\n",
       "    </tr>\n",
       "    <tr>\n",
       "      <th>7081</th>\n",
       "      <td>301</td>\n",
       "      <td>small</td>\n",
       "      <td>2015</td>\n",
       "      <td>manual</td>\n",
       "      <td>136</td>\n",
       "      <td>1er</td>\n",
       "      <td>30000</td>\n",
       "      <td>2</td>\n",
       "      <td>petrol</td>\n",
       "      <td>bmw</td>\n",
       "      <td>no</td>\n",
       "      <td>2016-04-02</td>\n",
       "      <td>2016</td>\n",
       "    </tr>\n",
       "  </tbody>\n",
       "</table>\n",
       "</div>"
      ],
      "text/plain": [
       "      price  vehicletype  regyear gearbox  power     model  kilometer  \\\n",
       "128   16449        wagon     2015    auto    110     fabia      10000   \n",
       "419   11500        wagon     2015    auto    160  insignia     150000   \n",
       "541   13750        wagon     2015  manual     86      golf      20000   \n",
       "747   16999        small     2015  manual    102       one      10000   \n",
       "1004  17900  convertible     2015    auto     84    fortwo       5000   \n",
       "1469  10500        sedan     2015  manual    110   i_reihe      10000   \n",
       "1549  13790        small     2015  manual     90     fabia      20000   \n",
       "2001  18900          bus     2015  manual    135   i_reihe      10000   \n",
       "2196  11990        small     2015  manual     75      polo      10000   \n",
       "2257  13500          suv     2015  manual    105      yeti      10000   \n",
       "3073  16999        sedan     2015  manual    110      golf      20000   \n",
       "3094  14999        small     2015  manual    101    fiesta      20000   \n",
       "3158  15900        small     2015    auto     90      polo      20000   \n",
       "3273   9200        small     2015    auto     75        up       5000   \n",
       "3541    301        small     2015  manual    136       1er      30000   \n",
       "4118  14390          bus     2015  manual    107     lodgy      20000   \n",
       "4396  13500        sedan     2015  manual     99   i_reihe      10000   \n",
       "4559  17990        wagon     2015  manual    105   octavia       5000   \n",
       "4762  17500        wagon     2015  manual    120     focus      20000   \n",
       "5536  10800        small     2015  manual     60        up      10000   \n",
       "6110  14500        sedan     2015  manual     68        c3      50000   \n",
       "6225  19875        sedan     2015  manual    150   3_reihe      10000   \n",
       "6255  11000        sedan     2015  manual    116     astra      20000   \n",
       "6347  11999        small     2015  manual    101    fiesta      30000   \n",
       "6723    647  convertible     2015    auto    190        a5      30000   \n",
       "6821  18500  convertible     2015  manual    122      golf       5000   \n",
       "7023  13800        small     2015  manual     87     other      10000   \n",
       "7037  12990        small     2015  manual     95       500      10000   \n",
       "7038  15000          suv     2015  manual    105    duster       5000   \n",
       "7081    301        small     2015  manual    136       1er      30000   \n",
       "\n",
       "      regmonth  fueltype       brand repaired datecreated  created  \n",
       "128          8    petrol       skoda       no  2016-03-08     2016  \n",
       "419          5  gasoline        opel       no  2016-03-05     2016  \n",
       "541          4    petrol  volkswagen       no  2016-03-10     2016  \n",
       "747          8    petrol        mini       no  2016-03-28     2016  \n",
       "1004         5    petrol       smart       no  2016-03-20     2016  \n",
       "1469        11  gasoline     hyundai       no  2016-03-11     2016  \n",
       "1549         3  gasoline       skoda       no  2016-03-17     2016  \n",
       "2001         2    petrol     hyundai       no  2016-03-06     2016  \n",
       "2196         1    petrol  volkswagen       no  2016-03-26     2016  \n",
       "2257         3    petrol       skoda       no  2016-03-09     2016  \n",
       "3073         1    petrol  volkswagen      NaN  2016-04-01     2016  \n",
       "3094         7    petrol        ford       no  2016-03-23     2016  \n",
       "3158         5  gasoline  volkswagen       no  2016-04-04     2016  \n",
       "3273         4    petrol  volkswagen       no  2016-03-24     2016  \n",
       "3541         2    petrol         bmw       no  2016-03-28     2016  \n",
       "4118         1  gasoline       dacia       no  2016-03-31     2016  \n",
       "4396         1    petrol     hyundai       no  2016-03-27     2016  \n",
       "4559         7  gasoline       skoda       no  2016-03-20     2016  \n",
       "4762         6  gasoline        ford       no  2016-03-12     2016  \n",
       "5536         5    petrol  volkswagen      NaN  2016-04-02     2016  \n",
       "6110         3    petrol     citroen       no  2016-03-16     2016  \n",
       "6225         1  gasoline       mazda       no  2016-03-14     2016  \n",
       "6255         3    petrol        opel       no  2016-03-12     2016  \n",
       "6347         3    petrol        ford       no  2016-03-25     2016  \n",
       "6723         5  gasoline        audi       no  2016-03-20     2016  \n",
       "6821         7    petrol  volkswagen      yes  2016-03-29     2016  \n",
       "7023         3    petrol        opel       no  2016-04-02     2016  \n",
       "7037         3  gasoline        fiat       no  2016-03-28     2016  \n",
       "7038         8       lpg       dacia       no  2016-03-05     2016  \n",
       "7081         2    petrol         bmw       no  2016-04-02     2016  "
      ]
     },
     "metadata": {},
     "output_type": "display_data"
    }
   ],
   "source": [
    "display(data.loc[data['regyear']==2015].head(30))"
   ]
  },
  {
   "cell_type": "markdown",
   "metadata": {},
   "source": [
    "хотя бы 15й год в порядке и это невероятно радует! "
   ]
  },
  {
   "cell_type": "markdown",
   "metadata": {},
   "source": [
    "Мда, дальше уже и идти не хочется без серьезного разговора с тем, кто эти данные, нам предоставил. Данные действительно очень проблемные и при отсутствии какой-либо прочей информации о данных сложно верно оценить, каким данным точно можно верить, а каким нет.  И теперь, чтобы решить эти проблемы самостоятельно, приходится принимать целые цепочки сложных и, возможно, ошибочных решений. \n",
    "\n",
    "Вариантов у нас сейчас 3: 1)удалить колонки с датами и оставить все как есть, притвориься, что ничего такого мы не заметили - и будь что будет 2) Удалить все (а это на секундочку около 20 тысяч значений). Да плохо, но лучше, чем gigo! 3) Сделать свою оценку \"экспертной\" и на основе этой \"экспертной\" оценки сделать функцию и поменять значения года регистрации на тот, который я сочту правильным. А правильным я считаю допущение, что люди случайно единичку вместо нолика поставили в годе регистрации, потому что машины эти на десять лет выглядят вообще легко (можем, кстати, пару гистограмм по цене в 2006-2008 году сделать и увидим картин) как по цене, так и по пробегу."
   ]
  },
  {
   "cell_type": "code",
   "execution_count": 69,
   "metadata": {},
   "outputs": [
    {
     "data": {
      "text/plain": [
       "<Axes: >"
      ]
     },
     "execution_count": 69,
     "metadata": {},
     "output_type": "execute_result"
    },
    {
     "data": {
      "image/png": "[encoded data removed]",
      "text/plain": [
       "<Figure size 600x600 with 1 Axes>"
      ]
     },
     "metadata": {},
     "output_type": "display_data"
    }
   ],
   "source": [
    "data['price'].loc[data['regyear']==2008].hist(figsize = [6,6])"
   ]
  },
  {
   "cell_type": "code",
   "execution_count": 70,
   "metadata": {},
   "outputs": [
    {
     "data": {
      "text/plain": [
       "<Axes: >"
      ]
     },
     "execution_count": 70,
     "metadata": {},
     "output_type": "execute_result"
    },
    {
     "data": {
      "image/png": "[encoded data removed]",
      "text/plain": [
       "<Figure size 600x600 with 1 Axes>"
      ]
     },
     "metadata": {},
     "output_type": "display_data"
    }
   ],
   "source": [
    "data['price'].loc[data['regyear']==2018].hist(figsize = [6,6])"
   ]
  },
  {
   "cell_type": "code",
   "execution_count": 71,
   "metadata": {},
   "outputs": [
    {
     "data": {
      "text/plain": [
       "<Axes: >"
      ]
     },
     "execution_count": 71,
     "metadata": {},
     "output_type": "execute_result"
    },
    {
     "data": {
      "image/png": "[encoded data removed]",
      "text/plain": [
       "<Figure size 600x600 with 1 Axes>"
      ]
     },
     "metadata": {},
     "output_type": "display_data"
    }
   ],
   "source": [
    "data['price'].loc[data['regyear']==2006].hist(figsize = [6,6])"
   ]
  },
  {
   "cell_type": "markdown",
   "metadata": {},
   "source": [
    "Дешевых машин еще и больше в 2018 году, чем в 2008."
   ]
  },
  {
   "cell_type": "code",
   "execution_count": 72,
   "metadata": {},
   "outputs": [
    {
     "data": {
      "text/html": [
       "<div>\n",
       "<style scoped>\n",
       "    .dataframe tbody tr th:only-of-type {\n",
       "        vertical-align: middle;\n",
       "    }\n",
       "\n",
       "    .dataframe tbody tr th {\n",
       "        vertical-align: top;\n",
       "    }\n",
       "\n",
       "    .dataframe thead th {\n",
       "        text-align: right;\n",
       "    }\n",
       "</style>\n",
       "<table border=\"1\" class=\"dataframe\">\n",
       "  <thead>\n",
       "    <tr style=\"text-align: right;\">\n",
       "      <th></th>\n",
       "      <th>price</th>\n",
       "      <th>vehicletype</th>\n",
       "      <th>regyear</th>\n",
       "      <th>gearbox</th>\n",
       "      <th>power</th>\n",
       "      <th>model</th>\n",
       "      <th>kilometer</th>\n",
       "      <th>regmonth</th>\n",
       "      <th>fueltype</th>\n",
       "      <th>brand</th>\n",
       "      <th>repaired</th>\n",
       "      <th>datecreated</th>\n",
       "      <th>created</th>\n",
       "    </tr>\n",
       "  </thead>\n",
       "  <tbody>\n",
       "    <tr>\n",
       "      <th>784</th>\n",
       "      <td>9200</td>\n",
       "      <td>sedan</td>\n",
       "      <td>2016</td>\n",
       "      <td>manual</td>\n",
       "      <td>75</td>\n",
       "      <td>golf</td>\n",
       "      <td>40000</td>\n",
       "      <td>8</td>\n",
       "      <td>petrol</td>\n",
       "      <td>volkswagen</td>\n",
       "      <td>no</td>\n",
       "      <td>2016-03-20</td>\n",
       "      <td>2016</td>\n",
       "    </tr>\n",
       "    <tr>\n",
       "      <th>911</th>\n",
       "      <td>17800</td>\n",
       "      <td>bus</td>\n",
       "      <td>2016</td>\n",
       "      <td>manual</td>\n",
       "      <td>99</td>\n",
       "      <td>other</td>\n",
       "      <td>5000</td>\n",
       "      <td>1</td>\n",
       "      <td>gasoline</td>\n",
       "      <td>peugeot</td>\n",
       "      <td>no</td>\n",
       "      <td>2016-04-03</td>\n",
       "      <td>2016</td>\n",
       "    </tr>\n",
       "    <tr>\n",
       "      <th>1505</th>\n",
       "      <td>10490</td>\n",
       "      <td>small</td>\n",
       "      <td>2016</td>\n",
       "      <td>manual</td>\n",
       "      <td>80</td>\n",
       "      <td>micra</td>\n",
       "      <td>5000</td>\n",
       "      <td>3</td>\n",
       "      <td>petrol</td>\n",
       "      <td>nissan</td>\n",
       "      <td>no</td>\n",
       "      <td>2016-03-19</td>\n",
       "      <td>2016</td>\n",
       "    </tr>\n",
       "    <tr>\n",
       "      <th>3928</th>\n",
       "      <td>1400</td>\n",
       "      <td>sedan</td>\n",
       "      <td>2016</td>\n",
       "      <td>manual</td>\n",
       "      <td>150</td>\n",
       "      <td>3er</td>\n",
       "      <td>20000</td>\n",
       "      <td>0</td>\n",
       "      <td>petrol</td>\n",
       "      <td>bmw</td>\n",
       "      <td>no</td>\n",
       "      <td>2016-04-04</td>\n",
       "      <td>2016</td>\n",
       "    </tr>\n",
       "    <tr>\n",
       "      <th>6152</th>\n",
       "      <td>1350</td>\n",
       "      <td>sedan</td>\n",
       "      <td>2016</td>\n",
       "      <td>manual</td>\n",
       "      <td>116</td>\n",
       "      <td>lancer</td>\n",
       "      <td>5000</td>\n",
       "      <td>2</td>\n",
       "      <td>petrol</td>\n",
       "      <td>mitsubishi</td>\n",
       "      <td>NaN</td>\n",
       "      <td>2016-03-28</td>\n",
       "      <td>2016</td>\n",
       "    </tr>\n",
       "    <tr>\n",
       "      <th>7712</th>\n",
       "      <td>16990</td>\n",
       "      <td>wagon</td>\n",
       "      <td>2016</td>\n",
       "      <td>auto</td>\n",
       "      <td>118</td>\n",
       "      <td>clio</td>\n",
       "      <td>5000</td>\n",
       "      <td>1</td>\n",
       "      <td>petrol</td>\n",
       "      <td>renault</td>\n",
       "      <td>no</td>\n",
       "      <td>2016-04-04</td>\n",
       "      <td>2016</td>\n",
       "    </tr>\n",
       "    <tr>\n",
       "      <th>9562</th>\n",
       "      <td>19950</td>\n",
       "      <td>wagon</td>\n",
       "      <td>2016</td>\n",
       "      <td>manual</td>\n",
       "      <td>120</td>\n",
       "      <td>focus</td>\n",
       "      <td>5000</td>\n",
       "      <td>1</td>\n",
       "      <td>gasoline</td>\n",
       "      <td>ford</td>\n",
       "      <td>no</td>\n",
       "      <td>2016-04-04</td>\n",
       "      <td>2016</td>\n",
       "    </tr>\n",
       "    <tr>\n",
       "      <th>9582</th>\n",
       "      <td>20000</td>\n",
       "      <td>sedan</td>\n",
       "      <td>2016</td>\n",
       "      <td>manual</td>\n",
       "      <td>110</td>\n",
       "      <td>a3</td>\n",
       "      <td>5000</td>\n",
       "      <td>0</td>\n",
       "      <td>petrol</td>\n",
       "      <td>audi</td>\n",
       "      <td>NaN</td>\n",
       "      <td>2016-03-23</td>\n",
       "      <td>2016</td>\n",
       "    </tr>\n",
       "    <tr>\n",
       "      <th>9740</th>\n",
       "      <td>7777</td>\n",
       "      <td>small</td>\n",
       "      <td>2016</td>\n",
       "      <td>auto</td>\n",
       "      <td>60</td>\n",
       "      <td>citigo</td>\n",
       "      <td>5000</td>\n",
       "      <td>3</td>\n",
       "      <td>petrol</td>\n",
       "      <td>skoda</td>\n",
       "      <td>no</td>\n",
       "      <td>2016-03-23</td>\n",
       "      <td>2016</td>\n",
       "    </tr>\n",
       "    <tr>\n",
       "      <th>10195</th>\n",
       "      <td>450</td>\n",
       "      <td>sedan</td>\n",
       "      <td>2016</td>\n",
       "      <td>manual</td>\n",
       "      <td>101</td>\n",
       "      <td>carisma</td>\n",
       "      <td>30000</td>\n",
       "      <td>12</td>\n",
       "      <td>petrol</td>\n",
       "      <td>mitsubishi</td>\n",
       "      <td>yes</td>\n",
       "      <td>2016-03-29</td>\n",
       "      <td>2016</td>\n",
       "    </tr>\n",
       "    <tr>\n",
       "      <th>12376</th>\n",
       "      <td>2850</td>\n",
       "      <td>sedan</td>\n",
       "      <td>2016</td>\n",
       "      <td>manual</td>\n",
       "      <td>90</td>\n",
       "      <td>beetle</td>\n",
       "      <td>5000</td>\n",
       "      <td>6</td>\n",
       "      <td>gasoline</td>\n",
       "      <td>volkswagen</td>\n",
       "      <td>no</td>\n",
       "      <td>2016-03-15</td>\n",
       "      <td>2016</td>\n",
       "    </tr>\n",
       "    <tr>\n",
       "      <th>12868</th>\n",
       "      <td>1500</td>\n",
       "      <td>sedan</td>\n",
       "      <td>2016</td>\n",
       "      <td>auto</td>\n",
       "      <td>150</td>\n",
       "      <td>5er</td>\n",
       "      <td>30000</td>\n",
       "      <td>0</td>\n",
       "      <td>petrol</td>\n",
       "      <td>bmw</td>\n",
       "      <td>no</td>\n",
       "      <td>2016-03-08</td>\n",
       "      <td>2016</td>\n",
       "    </tr>\n",
       "    <tr>\n",
       "      <th>14285</th>\n",
       "      <td>499</td>\n",
       "      <td>small</td>\n",
       "      <td>2016</td>\n",
       "      <td>manual</td>\n",
       "      <td>90</td>\n",
       "      <td>fiesta</td>\n",
       "      <td>20000</td>\n",
       "      <td>0</td>\n",
       "      <td>petrol</td>\n",
       "      <td>ford</td>\n",
       "      <td>NaN</td>\n",
       "      <td>2016-03-15</td>\n",
       "      <td>2016</td>\n",
       "    </tr>\n",
       "    <tr>\n",
       "      <th>14359</th>\n",
       "      <td>19500</td>\n",
       "      <td>sedan</td>\n",
       "      <td>2016</td>\n",
       "      <td>manual</td>\n",
       "      <td>136</td>\n",
       "      <td>ceed</td>\n",
       "      <td>5000</td>\n",
       "      <td>3</td>\n",
       "      <td>gasoline</td>\n",
       "      <td>kia</td>\n",
       "      <td>no</td>\n",
       "      <td>2016-03-07</td>\n",
       "      <td>2016</td>\n",
       "    </tr>\n",
       "    <tr>\n",
       "      <th>15778</th>\n",
       "      <td>8500</td>\n",
       "      <td>small</td>\n",
       "      <td>2016</td>\n",
       "      <td>manual</td>\n",
       "      <td>69</td>\n",
       "      <td>c1</td>\n",
       "      <td>5000</td>\n",
       "      <td>3</td>\n",
       "      <td>petrol</td>\n",
       "      <td>citroen</td>\n",
       "      <td>no</td>\n",
       "      <td>2016-03-09</td>\n",
       "      <td>2016</td>\n",
       "    </tr>\n",
       "    <tr>\n",
       "      <th>17472</th>\n",
       "      <td>19500</td>\n",
       "      <td>sedan</td>\n",
       "      <td>2016</td>\n",
       "      <td>auto</td>\n",
       "      <td>110</td>\n",
       "      <td>polo</td>\n",
       "      <td>5000</td>\n",
       "      <td>2</td>\n",
       "      <td>petrol</td>\n",
       "      <td>volkswagen</td>\n",
       "      <td>no</td>\n",
       "      <td>2016-03-16</td>\n",
       "      <td>2016</td>\n",
       "    </tr>\n",
       "    <tr>\n",
       "      <th>18084</th>\n",
       "      <td>19000</td>\n",
       "      <td>small</td>\n",
       "      <td>2016</td>\n",
       "      <td>auto</td>\n",
       "      <td>118</td>\n",
       "      <td>clio</td>\n",
       "      <td>5000</td>\n",
       "      <td>3</td>\n",
       "      <td>petrol</td>\n",
       "      <td>renault</td>\n",
       "      <td>no</td>\n",
       "      <td>2016-03-15</td>\n",
       "      <td>2016</td>\n",
       "    </tr>\n",
       "    <tr>\n",
       "      <th>18451</th>\n",
       "      <td>850</td>\n",
       "      <td>bus</td>\n",
       "      <td>2016</td>\n",
       "      <td>manual</td>\n",
       "      <td>136</td>\n",
       "      <td>scenic</td>\n",
       "      <td>5000</td>\n",
       "      <td>12</td>\n",
       "      <td>petrol</td>\n",
       "      <td>renault</td>\n",
       "      <td>NaN</td>\n",
       "      <td>2016-03-27</td>\n",
       "      <td>2016</td>\n",
       "    </tr>\n",
       "    <tr>\n",
       "      <th>18828</th>\n",
       "      <td>5500</td>\n",
       "      <td>small</td>\n",
       "      <td>2016</td>\n",
       "      <td>manual</td>\n",
       "      <td>60</td>\n",
       "      <td>up</td>\n",
       "      <td>5000</td>\n",
       "      <td>3</td>\n",
       "      <td>petrol</td>\n",
       "      <td>volkswagen</td>\n",
       "      <td>yes</td>\n",
       "      <td>2016-04-03</td>\n",
       "      <td>2016</td>\n",
       "    </tr>\n",
       "    <tr>\n",
       "      <th>18870</th>\n",
       "      <td>1400</td>\n",
       "      <td>wagon</td>\n",
       "      <td>2016</td>\n",
       "      <td>manual</td>\n",
       "      <td>75</td>\n",
       "      <td>focus</td>\n",
       "      <td>5000</td>\n",
       "      <td>5</td>\n",
       "      <td>petrol</td>\n",
       "      <td>ford</td>\n",
       "      <td>no</td>\n",
       "      <td>2016-03-21</td>\n",
       "      <td>2016</td>\n",
       "    </tr>\n",
       "    <tr>\n",
       "      <th>19062</th>\n",
       "      <td>16500</td>\n",
       "      <td>suv</td>\n",
       "      <td>2016</td>\n",
       "      <td>manual</td>\n",
       "      <td>110</td>\n",
       "      <td>other</td>\n",
       "      <td>5000</td>\n",
       "      <td>4</td>\n",
       "      <td>petrol</td>\n",
       "      <td>jeep</td>\n",
       "      <td>NaN</td>\n",
       "      <td>2016-03-17</td>\n",
       "      <td>2016</td>\n",
       "    </tr>\n",
       "    <tr>\n",
       "      <th>19975</th>\n",
       "      <td>20000</td>\n",
       "      <td>suv</td>\n",
       "      <td>2016</td>\n",
       "      <td>auto</td>\n",
       "      <td>155</td>\n",
       "      <td>rav</td>\n",
       "      <td>5000</td>\n",
       "      <td>3</td>\n",
       "      <td>hybrid</td>\n",
       "      <td>toyota</td>\n",
       "      <td>no</td>\n",
       "      <td>2016-04-01</td>\n",
       "      <td>2016</td>\n",
       "    </tr>\n",
       "    <tr>\n",
       "      <th>20237</th>\n",
       "      <td>13500</td>\n",
       "      <td>sedan</td>\n",
       "      <td>2016</td>\n",
       "      <td>manual</td>\n",
       "      <td>122</td>\n",
       "      <td>1er</td>\n",
       "      <td>40000</td>\n",
       "      <td>6</td>\n",
       "      <td>petrol</td>\n",
       "      <td>bmw</td>\n",
       "      <td>NaN</td>\n",
       "      <td>2016-03-16</td>\n",
       "      <td>2016</td>\n",
       "    </tr>\n",
       "    <tr>\n",
       "      <th>21248</th>\n",
       "      <td>399</td>\n",
       "      <td>sedan</td>\n",
       "      <td>2016</td>\n",
       "      <td>manual</td>\n",
       "      <td>75</td>\n",
       "      <td>escort</td>\n",
       "      <td>5000</td>\n",
       "      <td>6</td>\n",
       "      <td>petrol</td>\n",
       "      <td>ford</td>\n",
       "      <td>no</td>\n",
       "      <td>2016-04-01</td>\n",
       "      <td>2016</td>\n",
       "    </tr>\n",
       "    <tr>\n",
       "      <th>21388</th>\n",
       "      <td>14290</td>\n",
       "      <td>sedan</td>\n",
       "      <td>2016</td>\n",
       "      <td>manual</td>\n",
       "      <td>110</td>\n",
       "      <td>leon</td>\n",
       "      <td>5000</td>\n",
       "      <td>1</td>\n",
       "      <td>petrol</td>\n",
       "      <td>seat</td>\n",
       "      <td>no</td>\n",
       "      <td>2016-03-07</td>\n",
       "      <td>2016</td>\n",
       "    </tr>\n",
       "    <tr>\n",
       "      <th>24087</th>\n",
       "      <td>12950</td>\n",
       "      <td>small</td>\n",
       "      <td>2016</td>\n",
       "      <td>manual</td>\n",
       "      <td>87</td>\n",
       "      <td>other</td>\n",
       "      <td>5000</td>\n",
       "      <td>3</td>\n",
       "      <td>petrol</td>\n",
       "      <td>opel</td>\n",
       "      <td>no</td>\n",
       "      <td>2016-03-23</td>\n",
       "      <td>2016</td>\n",
       "    </tr>\n",
       "    <tr>\n",
       "      <th>24577</th>\n",
       "      <td>9500</td>\n",
       "      <td>wagon</td>\n",
       "      <td>2016</td>\n",
       "      <td>manual</td>\n",
       "      <td>200</td>\n",
       "      <td>caddy</td>\n",
       "      <td>5000</td>\n",
       "      <td>2</td>\n",
       "      <td>petrol</td>\n",
       "      <td>volkswagen</td>\n",
       "      <td>NaN</td>\n",
       "      <td>2016-03-15</td>\n",
       "      <td>2016</td>\n",
       "    </tr>\n",
       "    <tr>\n",
       "      <th>24739</th>\n",
       "      <td>18999</td>\n",
       "      <td>sedan</td>\n",
       "      <td>2016</td>\n",
       "      <td>manual</td>\n",
       "      <td>211</td>\n",
       "      <td>golf</td>\n",
       "      <td>40000</td>\n",
       "      <td>4</td>\n",
       "      <td>petrol</td>\n",
       "      <td>volkswagen</td>\n",
       "      <td>NaN</td>\n",
       "      <td>2016-03-10</td>\n",
       "      <td>2016</td>\n",
       "    </tr>\n",
       "    <tr>\n",
       "      <th>25972</th>\n",
       "      <td>12400</td>\n",
       "      <td>small</td>\n",
       "      <td>2016</td>\n",
       "      <td>manual</td>\n",
       "      <td>110</td>\n",
       "      <td>fabia</td>\n",
       "      <td>5000</td>\n",
       "      <td>2</td>\n",
       "      <td>petrol</td>\n",
       "      <td>skoda</td>\n",
       "      <td>no</td>\n",
       "      <td>2016-03-05</td>\n",
       "      <td>2016</td>\n",
       "    </tr>\n",
       "    <tr>\n",
       "      <th>26946</th>\n",
       "      <td>555</td>\n",
       "      <td>sedan</td>\n",
       "      <td>2016</td>\n",
       "      <td>manual</td>\n",
       "      <td>60</td>\n",
       "      <td>golf</td>\n",
       "      <td>5000</td>\n",
       "      <td>8</td>\n",
       "      <td>petrol</td>\n",
       "      <td>volkswagen</td>\n",
       "      <td>no</td>\n",
       "      <td>2016-04-04</td>\n",
       "      <td>2016</td>\n",
       "    </tr>\n",
       "  </tbody>\n",
       "</table>\n",
       "</div>"
      ],
      "text/plain": [
       "       price vehicletype  regyear gearbox  power    model  kilometer  \\\n",
       "784     9200       sedan     2016  manual     75     golf      40000   \n",
       "911    17800         bus     2016  manual     99    other       5000   \n",
       "1505   10490       small     2016  manual     80    micra       5000   \n",
       "3928    1400       sedan     2016  manual    150      3er      20000   \n",
       "6152    1350       sedan     2016  manual    116   lancer       5000   \n",
       "7712   16990       wagon     2016    auto    118     clio       5000   \n",
       "9562   19950       wagon     2016  manual    120    focus       5000   \n",
       "9582   20000       sedan     2016  manual    110       a3       5000   \n",
       "9740    7777       small     2016    auto     60   citigo       5000   \n",
       "10195    450       sedan     2016  manual    101  carisma      30000   \n",
       "12376   2850       sedan     2016  manual     90   beetle       5000   \n",
       "12868   1500       sedan     2016    auto    150      5er      30000   \n",
       "14285    499       small     2016  manual     90   fiesta      20000   \n",
       "14359  19500       sedan     2016  manual    136     ceed       5000   \n",
       "15778   8500       small     2016  manual     69       c1       5000   \n",
       "17472  19500       sedan     2016    auto    110     polo       5000   \n",
       "18084  19000       small     2016    auto    118     clio       5000   \n",
       "18451    850         bus     2016  manual    136   scenic       5000   \n",
       "18828   5500       small     2016  manual     60       up       5000   \n",
       "18870   1400       wagon     2016  manual     75    focus       5000   \n",
       "19062  16500         suv     2016  manual    110    other       5000   \n",
       "19975  20000         suv     2016    auto    155      rav       5000   \n",
       "20237  13500       sedan     2016  manual    122      1er      40000   \n",
       "21248    399       sedan     2016  manual     75   escort       5000   \n",
       "21388  14290       sedan     2016  manual    110     leon       5000   \n",
       "24087  12950       small     2016  manual     87    other       5000   \n",
       "24577   9500       wagon     2016  manual    200    caddy       5000   \n",
       "24739  18999       sedan     2016  manual    211     golf      40000   \n",
       "25972  12400       small     2016  manual    110    fabia       5000   \n",
       "26946    555       sedan     2016  manual     60     golf       5000   \n",
       "\n",
       "       regmonth  fueltype       brand repaired datecreated  created  \n",
       "784           8    petrol  volkswagen       no  2016-03-20     2016  \n",
       "911           1  gasoline     peugeot       no  2016-04-03     2016  \n",
       "1505          3    petrol      nissan       no  2016-03-19     2016  \n",
       "3928          0    petrol         bmw       no  2016-04-04     2016  \n",
       "6152          2    petrol  mitsubishi      NaN  2016-03-28     2016  \n",
       "7712          1    petrol     renault       no  2016-04-04     2016  \n",
       "9562          1  gasoline        ford       no  2016-04-04     2016  \n",
       "9582          0    petrol        audi      NaN  2016-03-23     2016  \n",
       "9740          3    petrol       skoda       no  2016-03-23     2016  \n",
       "10195        12    petrol  mitsubishi      yes  2016-03-29     2016  \n",
       "12376         6  gasoline  volkswagen       no  2016-03-15     2016  \n",
       "12868         0    petrol         bmw       no  2016-03-08     2016  \n",
       "14285         0    petrol        ford      NaN  2016-03-15     2016  \n",
       "14359         3  gasoline         kia       no  2016-03-07     2016  \n",
       "15778         3    petrol     citroen       no  2016-03-09     2016  \n",
       "17472         2    petrol  volkswagen       no  2016-03-16     2016  \n",
       "18084         3    petrol     renault       no  2016-03-15     2016  \n",
       "18451        12    petrol     renault      NaN  2016-03-27     2016  \n",
       "18828         3    petrol  volkswagen      yes  2016-04-03     2016  \n",
       "18870         5    petrol        ford       no  2016-03-21     2016  \n",
       "19062         4    petrol        jeep      NaN  2016-03-17     2016  \n",
       "19975         3    hybrid      toyota       no  2016-04-01     2016  \n",
       "20237         6    petrol         bmw      NaN  2016-03-16     2016  \n",
       "21248         6    petrol        ford       no  2016-04-01     2016  \n",
       "21388         1    petrol        seat       no  2016-03-07     2016  \n",
       "24087         3    petrol        opel       no  2016-03-23     2016  \n",
       "24577         2    petrol  volkswagen      NaN  2016-03-15     2016  \n",
       "24739         4    petrol  volkswagen      NaN  2016-03-10     2016  \n",
       "25972         2    petrol       skoda       no  2016-03-05     2016  \n",
       "26946         8    petrol  volkswagen       no  2016-04-04     2016  "
      ]
     },
     "metadata": {},
     "output_type": "display_data"
    }
   ],
   "source": [
    "display(data.loc[(data['regyear']==2016) & (data['kilometer']<50000)].head(30))"
   ]
  },
  {
   "cell_type": "markdown",
   "metadata": {},
   "source": [
    "В общем порядок такой: из года регистрации автомобилей младше 2016 года вычитаем 10 лет. Что касается авто 2016 года - то тут мы добавляем условия: пробег больше 50 000 км, цена меньше 2 000 евро, месяц регитрации позже месяца подачи объявления в любом из этих случаев тоже вычитаем 10 лет. Мы, конечно, можем что-то пропустить, но тем не менее это неплохлой фильтр. 10 лет были взяты из предположения, что поставлена единичка вместо нолика случано и также потому что подстановка нового года для этих машин выглядит сильно правдоподобнее, чем указанные годы регистрации.  "
   ]
  },
  {
   "cell_type": "code",
   "execution_count": 73,
   "metadata": {},
   "outputs": [
    {
     "name": "stdout",
     "output_type": "stream",
     "text": [
      "3     227792\n",
      "4      44281\n",
      "2        322\n",
      "1         53\n",
      "12         9\n",
      "11         8\n",
      "9          3\n",
      "8          2\n",
      "Name: app_month, dtype: int64\n"
     ]
    }
   ],
   "source": [
    "data['app_month'] = data['datecreated'].dt.month\n",
    "print(data['app_month'].value_counts())"
   ]
  },
  {
   "cell_type": "markdown",
   "metadata": {},
   "source": [
    "Кстати, любопытно, что в мае, июне, июле и октябре не было объявлений о продаже машин, а в апреле - подавляющее большинство заявлений. Ну как любопытно... Просто данные такие ***(кладет монетку в копилку за ругань)***"
   ]
  },
  {
   "cell_type": "markdown",
   "metadata": {},
   "source": [
    "кстати, давайте сохранимся на этом моменте, пускай будет резервная копия. "
   ]
  },
  {
   "cell_type": "code",
   "execution_count": 74,
   "metadata": {},
   "outputs": [],
   "source": [
    "data_reserve_year = data.copy()"
   ]
  },
  {
   "cell_type": "code",
   "execution_count": 75,
   "metadata": {},
   "outputs": [],
   "source": [
    "def correct_year(row):\n",
    "    if row['regyear']>2016:\n",
    "        return row['regyear']-10\n",
    "    elif (row['regyear'] == 2016) & ((row['price']<2000) | (row['regmonth']>row['app_month']) | (row['kilometer']>50000)):\n",
    "        return row['regyear']-10\n",
    "    else:\n",
    "        return row['regyear']"
   ]
  },
  {
   "cell_type": "code",
   "execution_count": 76,
   "metadata": {},
   "outputs": [
    {
     "name": "stdout",
     "output_type": "stream",
     "text": [
      "2006    17541\n",
      "1999    17485\n",
      "2005    17290\n",
      "2004    16735\n",
      "2003    16696\n",
      "2000    16209\n",
      "2001    16196\n",
      "2002    15798\n",
      "2007    15198\n",
      "2008    13822\n",
      "1998    13380\n",
      "2009    13216\n",
      "1997    10931\n",
      "2010     9896\n",
      "2011     9239\n",
      "1996     7975\n",
      "2012     6654\n",
      "1995     6021\n",
      "2013     3827\n",
      "2017     3761\n",
      "1994     3586\n",
      "2016     3152\n",
      "1993     2513\n",
      "2014     2308\n",
      "1992     2225\n",
      "1991     2050\n",
      "1990     1474\n",
      "2018     1414\n",
      "2015     1006\n",
      "1989      863\n",
      "1988      666\n",
      "1987      450\n",
      "1985      361\n",
      "1986      336\n",
      "1983      291\n",
      "1984      271\n",
      "1982      217\n",
      "1979      175\n",
      "1980      171\n",
      "1981      168\n",
      "1978      156\n",
      "1972      115\n",
      "1977      107\n",
      "1974       99\n",
      "1973       95\n",
      "1976       92\n",
      "1971       83\n",
      "1970       79\n",
      "1975       70\n",
      "2019        7\n",
      "Name: regyear, dtype: int64\n"
     ]
    }
   ],
   "source": [
    "print(data['regyear'].value_counts())"
   ]
  },
  {
   "cell_type": "code",
   "execution_count": 77,
   "metadata": {},
   "outputs": [],
   "source": [
    "data['regyear'] = data.apply(correct_year, axis=1)"
   ]
  },
  {
   "cell_type": "code",
   "execution_count": 78,
   "metadata": {},
   "outputs": [
    {
     "name": "stdout",
     "output_type": "stream",
     "text": [
      "2006    20566\n",
      "2007    18959\n",
      "1999    17485\n",
      "2005    17290\n",
      "2004    16735\n",
      "2003    16696\n",
      "2000    16209\n",
      "2001    16196\n",
      "2002    15798\n",
      "2008    15236\n",
      "1998    13380\n",
      "2009    13223\n",
      "1997    10931\n",
      "2010     9896\n",
      "2011     9239\n",
      "1996     7975\n",
      "2012     6654\n",
      "1995     6021\n",
      "2013     3827\n",
      "1994     3586\n",
      "1993     2513\n",
      "2014     2308\n",
      "1992     2225\n",
      "1991     2050\n",
      "1990     1474\n",
      "2015     1006\n",
      "1989      863\n",
      "1988      666\n",
      "1987      450\n",
      "1985      361\n",
      "1986      336\n",
      "1983      291\n",
      "1984      271\n",
      "1982      217\n",
      "1979      175\n",
      "1980      171\n",
      "1981      168\n",
      "1978      156\n",
      "2016      127\n",
      "1972      115\n",
      "1977      107\n",
      "1974       99\n",
      "1973       95\n",
      "1976       92\n",
      "1971       83\n",
      "1970       79\n",
      "1975       70\n",
      "Name: regyear, dtype: int64\n"
     ]
    }
   ],
   "source": [
    "print(data['regyear'].value_counts())"
   ]
  },
  {
   "cell_type": "code",
   "execution_count": 79,
   "metadata": {},
   "outputs": [
    {
     "data": {
      "text/plain": [
       "<Axes: >"
      ]
     },
     "execution_count": 79,
     "metadata": {},
     "output_type": "execute_result"
    },
    {
     "data": {
      "image/png": "[encoded data removed]",
      "text/plain": [
       "<Figure size 600x600 with 1 Axes>"
      ]
     },
     "metadata": {},
     "output_type": "display_data"
    }
   ],
   "source": [
    "data['regyear'].hist(figsize=[6,6])"
   ]
  },
  {
   "cell_type": "markdown",
   "metadata": {},
   "source": [
    "как бы получилось, но непонятно, надо радоваться или грустить... Ну и старые года немного портят график. Будет плохая модель - вернусь и все поудаляю! Я уже так пресытился этой предобработкой, что возиться с ней больше не буду. "
   ]
  },
  {
   "cell_type": "markdown",
   "metadata": {},
   "source": [
    "а теперь сделаем то, ради чего мы вообще за это взялись - создадим новый параметр - возраст машины."
   ]
  },
  {
   "cell_type": "code",
   "execution_count": 80,
   "metadata": {},
   "outputs": [],
   "source": [
    "data['age'] = data['created'] - data['regyear']\n",
    "#display(data)"
   ]
  },
  {
   "cell_type": "code",
   "execution_count": 81,
   "metadata": {},
   "outputs": [
    {
     "data": {
      "text/html": [
       "<div>\n",
       "<style scoped>\n",
       "    .dataframe tbody tr th:only-of-type {\n",
       "        vertical-align: middle;\n",
       "    }\n",
       "\n",
       "    .dataframe tbody tr th {\n",
       "        vertical-align: top;\n",
       "    }\n",
       "\n",
       "    .dataframe thead th {\n",
       "        text-align: right;\n",
       "    }\n",
       "</style>\n",
       "<table border=\"1\" class=\"dataframe\">\n",
       "  <thead>\n",
       "    <tr style=\"text-align: right;\">\n",
       "      <th></th>\n",
       "      <th>price</th>\n",
       "      <th>vehicletype</th>\n",
       "      <th>regyear</th>\n",
       "      <th>gearbox</th>\n",
       "      <th>power</th>\n",
       "      <th>model</th>\n",
       "      <th>kilometer</th>\n",
       "      <th>regmonth</th>\n",
       "      <th>fueltype</th>\n",
       "      <th>brand</th>\n",
       "      <th>repaired</th>\n",
       "      <th>age</th>\n",
       "    </tr>\n",
       "  </thead>\n",
       "  <tbody>\n",
       "    <tr>\n",
       "      <th>0</th>\n",
       "      <td>9800</td>\n",
       "      <td>suv</td>\n",
       "      <td>2004</td>\n",
       "      <td>auto</td>\n",
       "      <td>163</td>\n",
       "      <td>grand</td>\n",
       "      <td>125000</td>\n",
       "      <td>8</td>\n",
       "      <td>gasoline</td>\n",
       "      <td>jeep</td>\n",
       "      <td>NaN</td>\n",
       "      <td>12</td>\n",
       "    </tr>\n",
       "    <tr>\n",
       "      <th>1</th>\n",
       "      <td>1500</td>\n",
       "      <td>small</td>\n",
       "      <td>2001</td>\n",
       "      <td>manual</td>\n",
       "      <td>75</td>\n",
       "      <td>golf</td>\n",
       "      <td>150000</td>\n",
       "      <td>6</td>\n",
       "      <td>petrol</td>\n",
       "      <td>volkswagen</td>\n",
       "      <td>no</td>\n",
       "      <td>15</td>\n",
       "    </tr>\n",
       "    <tr>\n",
       "      <th>2</th>\n",
       "      <td>3600</td>\n",
       "      <td>small</td>\n",
       "      <td>2008</td>\n",
       "      <td>manual</td>\n",
       "      <td>69</td>\n",
       "      <td>fabia</td>\n",
       "      <td>90000</td>\n",
       "      <td>7</td>\n",
       "      <td>gasoline</td>\n",
       "      <td>skoda</td>\n",
       "      <td>no</td>\n",
       "      <td>8</td>\n",
       "    </tr>\n",
       "    <tr>\n",
       "      <th>3</th>\n",
       "      <td>650</td>\n",
       "      <td>sedan</td>\n",
       "      <td>1995</td>\n",
       "      <td>manual</td>\n",
       "      <td>102</td>\n",
       "      <td>3er</td>\n",
       "      <td>150000</td>\n",
       "      <td>10</td>\n",
       "      <td>petrol</td>\n",
       "      <td>bmw</td>\n",
       "      <td>yes</td>\n",
       "      <td>21</td>\n",
       "    </tr>\n",
       "    <tr>\n",
       "      <th>4</th>\n",
       "      <td>2200</td>\n",
       "      <td>convertible</td>\n",
       "      <td>2004</td>\n",
       "      <td>manual</td>\n",
       "      <td>109</td>\n",
       "      <td>2_reihe</td>\n",
       "      <td>150000</td>\n",
       "      <td>8</td>\n",
       "      <td>petrol</td>\n",
       "      <td>peugeot</td>\n",
       "      <td>no</td>\n",
       "      <td>12</td>\n",
       "    </tr>\n",
       "    <tr>\n",
       "      <th>...</th>\n",
       "      <td>...</td>\n",
       "      <td>...</td>\n",
       "      <td>...</td>\n",
       "      <td>...</td>\n",
       "      <td>...</td>\n",
       "      <td>...</td>\n",
       "      <td>...</td>\n",
       "      <td>...</td>\n",
       "      <td>...</td>\n",
       "      <td>...</td>\n",
       "      <td>...</td>\n",
       "      <td>...</td>\n",
       "    </tr>\n",
       "    <tr>\n",
       "      <th>272465</th>\n",
       "      <td>7900</td>\n",
       "      <td>sedan</td>\n",
       "      <td>2010</td>\n",
       "      <td>manual</td>\n",
       "      <td>140</td>\n",
       "      <td>golf</td>\n",
       "      <td>150000</td>\n",
       "      <td>7</td>\n",
       "      <td>gasoline</td>\n",
       "      <td>volkswagen</td>\n",
       "      <td>no</td>\n",
       "      <td>6</td>\n",
       "    </tr>\n",
       "    <tr>\n",
       "      <th>272466</th>\n",
       "      <td>3200</td>\n",
       "      <td>sedan</td>\n",
       "      <td>2004</td>\n",
       "      <td>manual</td>\n",
       "      <td>225</td>\n",
       "      <td>leon</td>\n",
       "      <td>150000</td>\n",
       "      <td>5</td>\n",
       "      <td>petrol</td>\n",
       "      <td>seat</td>\n",
       "      <td>yes</td>\n",
       "      <td>12</td>\n",
       "    </tr>\n",
       "    <tr>\n",
       "      <th>272467</th>\n",
       "      <td>1199</td>\n",
       "      <td>convertible</td>\n",
       "      <td>2000</td>\n",
       "      <td>auto</td>\n",
       "      <td>101</td>\n",
       "      <td>fortwo</td>\n",
       "      <td>125000</td>\n",
       "      <td>3</td>\n",
       "      <td>petrol</td>\n",
       "      <td>smart</td>\n",
       "      <td>no</td>\n",
       "      <td>16</td>\n",
       "    </tr>\n",
       "    <tr>\n",
       "      <th>272468</th>\n",
       "      <td>9200</td>\n",
       "      <td>bus</td>\n",
       "      <td>1996</td>\n",
       "      <td>manual</td>\n",
       "      <td>102</td>\n",
       "      <td>transporter</td>\n",
       "      <td>150000</td>\n",
       "      <td>3</td>\n",
       "      <td>gasoline</td>\n",
       "      <td>volkswagen</td>\n",
       "      <td>no</td>\n",
       "      <td>20</td>\n",
       "    </tr>\n",
       "    <tr>\n",
       "      <th>272469</th>\n",
       "      <td>3400</td>\n",
       "      <td>wagon</td>\n",
       "      <td>2002</td>\n",
       "      <td>manual</td>\n",
       "      <td>100</td>\n",
       "      <td>golf</td>\n",
       "      <td>150000</td>\n",
       "      <td>6</td>\n",
       "      <td>gasoline</td>\n",
       "      <td>volkswagen</td>\n",
       "      <td>NaN</td>\n",
       "      <td>14</td>\n",
       "    </tr>\n",
       "  </tbody>\n",
       "</table>\n",
       "<p>272470 rows × 12 columns</p>\n",
       "</div>"
      ],
      "text/plain": [
       "        price  vehicletype  regyear gearbox  power        model  kilometer  \\\n",
       "0        9800          suv     2004    auto    163        grand     125000   \n",
       "1        1500        small     2001  manual     75         golf     150000   \n",
       "2        3600        small     2008  manual     69        fabia      90000   \n",
       "3         650        sedan     1995  manual    102          3er     150000   \n",
       "4        2200  convertible     2004  manual    109      2_reihe     150000   \n",
       "...       ...          ...      ...     ...    ...          ...        ...   \n",
       "272465   7900        sedan     2010  manual    140         golf     150000   \n",
       "272466   3200        sedan     2004  manual    225         leon     150000   \n",
       "272467   1199  convertible     2000    auto    101       fortwo     125000   \n",
       "272468   9200          bus     1996  manual    102  transporter     150000   \n",
       "272469   3400        wagon     2002  manual    100         golf     150000   \n",
       "\n",
       "        regmonth  fueltype       brand repaired  age  \n",
       "0              8  gasoline        jeep      NaN   12  \n",
       "1              6    petrol  volkswagen       no   15  \n",
       "2              7  gasoline       skoda       no    8  \n",
       "3             10    petrol         bmw      yes   21  \n",
       "4              8    petrol     peugeot       no   12  \n",
       "...          ...       ...         ...      ...  ...  \n",
       "272465         7  gasoline  volkswagen       no    6  \n",
       "272466         5    petrol        seat      yes   12  \n",
       "272467         3    petrol       smart       no   16  \n",
       "272468         3  gasoline  volkswagen       no   20  \n",
       "272469         6  gasoline  volkswagen      NaN   14  \n",
       "\n",
       "[272470 rows x 12 columns]"
      ]
     },
     "metadata": {},
     "output_type": "display_data"
    }
   ],
   "source": [
    "columns_to_drop = ['datecreated', 'created', 'app_month']\n",
    "data = data.drop(columns_to_drop, axis=1)\n",
    "display(data)"
   ]
  },
  {
   "cell_type": "markdown",
   "metadata": {},
   "source": [
    "### Ремонт (и важное решение)"
   ]
  },
  {
   "cell_type": "markdown",
   "metadata": {},
   "source": [
    "Теперь у нас на очереди ремонт, давайте им займемся и быстрее потом перейдем уже непосредственно к построению моделей."
   ]
  },
  {
   "cell_type": "code",
   "execution_count": 82,
   "metadata": {},
   "outputs": [
    {
     "name": "stdout",
     "output_type": "stream",
     "text": [
      "no     212476\n",
      "yes     25270\n",
      "Name: repaired, dtype: int64\n",
      "        price  vehicletype  regyear gearbox  power   model  kilometer  \\\n",
      "0        9800          suv     2004    auto    163   grand     125000   \n",
      "5       14500          bus     2014  manual    125   c_max      30000   \n",
      "8         999        wagon     1995  manual    115  passat     150000   \n",
      "23        899        small     2006  manual     60    clio     150000   \n",
      "29      12500        sedan     2006    auto    231     5er     150000   \n",
      "...       ...          ...      ...     ...    ...     ...        ...   \n",
      "272449    699        sedan     1999  manual    101  vectra     150000   \n",
      "272456   5999        wagon     2005  manual    140      a4     150000   \n",
      "272462    999  convertible     2000  manual     95  megane     150000   \n",
      "272463   1690        wagon     2004  manual     55   fabia     150000   \n",
      "272469   3400        wagon     2002  manual    100    golf     150000   \n",
      "\n",
      "        regmonth  fueltype       brand repaired  age  \n",
      "0              8  gasoline        jeep      NaN   12  \n",
      "5              8    petrol        ford      NaN    2  \n",
      "8             11    petrol  volkswagen      NaN   21  \n",
      "23             6    petrol     renault      NaN   10  \n",
      "29            11  gasoline         bmw      NaN   10  \n",
      "...          ...       ...         ...      ...  ...  \n",
      "272449         3    petrol        opel      NaN   17  \n",
      "272456         4  gasoline        audi      NaN   11  \n",
      "272462         4    petrol     renault      NaN   16  \n",
      "272463         4    petrol       skoda      NaN   12  \n",
      "272469         6  gasoline  volkswagen      NaN   14  \n",
      "\n",
      "[34724 rows x 12 columns]\n"
     ]
    }
   ],
   "source": [
    "print(data['repaired'].value_counts())\n",
    "print(data.loc[data['repaired'].isna()])"
   ]
  },
  {
   "cell_type": "markdown",
   "metadata": {},
   "source": [
    "35000 пропусков... не хотелось бы еще и их удалять... хотя бы потому, что все остальные параметры у этих данных уже обработаны. Пропусков у нас, кстати больше, чем машин, находившихся в ремонте - есть над чем подумать. Можно попробовать соотнести этот параметр с каким-нибудь другим, например, с возрастом (что хотя бы отчасти логично) и что-нибудь выяснить."
   ]
  },
  {
   "cell_type": "code",
   "execution_count": 83,
   "metadata": {},
   "outputs": [],
   "source": [
    "data1 = data.copy()"
   ]
  },
  {
   "cell_type": "code",
   "execution_count": 84,
   "metadata": {},
   "outputs": [],
   "source": [
    "data1['repaired'] = data1['repaired'].fillna(value='?')\n",
    "#display(data1)"
   ]
  },
  {
   "cell_type": "code",
   "execution_count": 85,
   "metadata": {},
   "outputs": [],
   "source": [
    "d1_pivot = data1.pivot_table(index='regyear', columns='repaired', values='gearbox', aggfunc='count')"
   ]
  },
  {
   "cell_type": "code",
   "execution_count": 86,
   "metadata": {},
   "outputs": [
    {
     "name": "stdout",
     "output_type": "stream",
     "text": [
      "repaired     ?     no   yes\n",
      "regyear                    \n",
      "1970        20     51     8\n",
      "1971        12     63     8\n",
      "1972        15     90    10\n",
      "1973        15     72     8\n",
      "1974        13     82     4\n",
      "1975        17     48     5\n",
      "1976        13     68    11\n",
      "1977        20     76    11\n",
      "1978        23    125     8\n",
      "1979        23    137    15\n",
      "1980        35    119    17\n",
      "1981        29    125    14\n",
      "1982        34    166    17\n",
      "1983        49    218    24\n",
      "1984        47    190    34\n",
      "1985        90    238    33\n",
      "1986        50    244    42\n",
      "1987        88    309    53\n",
      "1988       134    479    53\n",
      "1989       139    603   121\n",
      "1990       313    992   169\n",
      "1991       353   1453   244\n",
      "1992       369   1557   299\n",
      "1993       466   1712   335\n",
      "1994       674   2397   515\n",
      "1995      1234   3900   887\n",
      "1996      1559   5322  1094\n",
      "1997      2056   7217  1658\n",
      "1998      2282   9200  1898\n",
      "1999      2701  12459  2325\n",
      "2000      2533  11612  2064\n",
      "2001      2145  12187  1864\n",
      "2002      1971  12247  1580\n",
      "2003      1926  13191  1579\n",
      "2004      1843  13532  1360\n",
      "2005      1923  14013  1354\n",
      "2006      2741  16180  1645\n",
      "2007      2779  14903  1277\n",
      "2008      1428  13049   759\n",
      "2009       819  11766   638\n",
      "2010       588   8895   413\n",
      "2011       489   8410   340\n",
      "2012       328   6103   223\n",
      "2013       177   3531   119\n",
      "2014       103   2121    84\n",
      "2015        43    914    49\n",
      "2016        15    110     2\n"
     ]
    }
   ],
   "source": [
    "print(d1_pivot)"
   ]
  },
  {
   "cell_type": "code",
   "execution_count": 87,
   "metadata": {},
   "outputs": [],
   "source": [
    "d1_pivot2 = data1.pivot_table(index='kilometer', columns='repaired', values='gearbox', aggfunc='count')"
   ]
  },
  {
   "cell_type": "code",
   "execution_count": 88,
   "metadata": {},
   "outputs": [
    {
     "name": "stdout",
     "output_type": "stream",
     "text": [
      "repaired       ?      no    yes\n",
      "kilometer                      \n",
      "5000         598    1276    235\n",
      "10000         49     743     35\n",
      "20000        242    2527    169\n",
      "30000        232    3212    165\n",
      "40000        255    3835    143\n",
      "50000        328    4798    217\n",
      "60000        422    5768    254\n",
      "70000        581    6440    315\n",
      "80000        648    7431    433\n",
      "90000        829    8297    590\n",
      "100000      1077   10105    778\n",
      "125000      3044   24587   2153\n",
      "150000     26419  133457  19783\n"
     ]
    }
   ],
   "source": [
    "print(d1_pivot2)"
   ]
  },
  {
   "cell_type": "markdown",
   "metadata": {},
   "source": [
    "Печальная правда в том, что как ты ни глянь, невозможно точно определить. \n",
    "\n",
    "И вот стоим мы теперь на распутье как Илья Иуромец: 1)удалишь 12% во всем остальном хороших данных - модель подпортишь 2)заглушку поставишь - и lighrgbm, на древеной базе построенный, бесполезных тебе ветвей понаделает 3)а коли по моде пропуски заполнишь ('нет' то бишь), параметр исковеркашь, хоть целостность данных сохранишь. "
   ]
  },
  {
   "cell_type": "markdown",
   "metadata": {},
   "source": [
    "Наименьшим из зол кажется заполнение параметра по моде. Однако заполнить и просто забыть мы не можем - это слишком большое изменение. И тут, мне кажется, пора дублировать наш датасет. В одной копии мы заполним пустоты по моде, а другую оставим, чтобы потом все бездушно удалить, если что. Работать мы изначально будем с первым датасетом, но в случае возникновения проблем с качеством предсказаний сможем вернуться ко второму варианту."
   ]
  },
  {
   "cell_type": "code",
   "execution_count": 89,
   "metadata": {},
   "outputs": [],
   "source": [
    "data_repair = data.copy()"
   ]
  },
  {
   "cell_type": "code",
   "execution_count": 90,
   "metadata": {},
   "outputs": [],
   "source": [
    "data['repaired'].fillna(value='no', inplace=True)"
   ]
  },
  {
   "cell_type": "code",
   "execution_count": 91,
   "metadata": {},
   "outputs": [
    {
     "data": {
      "text/html": [
       "<div>\n",
       "<style scoped>\n",
       "    .dataframe tbody tr th:only-of-type {\n",
       "        vertical-align: middle;\n",
       "    }\n",
       "\n",
       "    .dataframe tbody tr th {\n",
       "        vertical-align: top;\n",
       "    }\n",
       "\n",
       "    .dataframe thead th {\n",
       "        text-align: right;\n",
       "    }\n",
       "</style>\n",
       "<table border=\"1\" class=\"dataframe\">\n",
       "  <thead>\n",
       "    <tr style=\"text-align: right;\">\n",
       "      <th></th>\n",
       "      <th>price</th>\n",
       "      <th>vehicletype</th>\n",
       "      <th>regyear</th>\n",
       "      <th>gearbox</th>\n",
       "      <th>power</th>\n",
       "      <th>model</th>\n",
       "      <th>kilometer</th>\n",
       "      <th>regmonth</th>\n",
       "      <th>fueltype</th>\n",
       "      <th>brand</th>\n",
       "      <th>repaired</th>\n",
       "      <th>age</th>\n",
       "    </tr>\n",
       "  </thead>\n",
       "  <tbody>\n",
       "    <tr>\n",
       "      <th>0</th>\n",
       "      <td>9800</td>\n",
       "      <td>suv</td>\n",
       "      <td>2004</td>\n",
       "      <td>auto</td>\n",
       "      <td>163</td>\n",
       "      <td>grand</td>\n",
       "      <td>125000</td>\n",
       "      <td>8</td>\n",
       "      <td>gasoline</td>\n",
       "      <td>jeep</td>\n",
       "      <td>no</td>\n",
       "      <td>12</td>\n",
       "    </tr>\n",
       "    <tr>\n",
       "      <th>1</th>\n",
       "      <td>1500</td>\n",
       "      <td>small</td>\n",
       "      <td>2001</td>\n",
       "      <td>manual</td>\n",
       "      <td>75</td>\n",
       "      <td>golf</td>\n",
       "      <td>150000</td>\n",
       "      <td>6</td>\n",
       "      <td>petrol</td>\n",
       "      <td>volkswagen</td>\n",
       "      <td>no</td>\n",
       "      <td>15</td>\n",
       "    </tr>\n",
       "    <tr>\n",
       "      <th>2</th>\n",
       "      <td>3600</td>\n",
       "      <td>small</td>\n",
       "      <td>2008</td>\n",
       "      <td>manual</td>\n",
       "      <td>69</td>\n",
       "      <td>fabia</td>\n",
       "      <td>90000</td>\n",
       "      <td>7</td>\n",
       "      <td>gasoline</td>\n",
       "      <td>skoda</td>\n",
       "      <td>no</td>\n",
       "      <td>8</td>\n",
       "    </tr>\n",
       "    <tr>\n",
       "      <th>3</th>\n",
       "      <td>650</td>\n",
       "      <td>sedan</td>\n",
       "      <td>1995</td>\n",
       "      <td>manual</td>\n",
       "      <td>102</td>\n",
       "      <td>3er</td>\n",
       "      <td>150000</td>\n",
       "      <td>10</td>\n",
       "      <td>petrol</td>\n",
       "      <td>bmw</td>\n",
       "      <td>yes</td>\n",
       "      <td>21</td>\n",
       "    </tr>\n",
       "    <tr>\n",
       "      <th>4</th>\n",
       "      <td>2200</td>\n",
       "      <td>convertible</td>\n",
       "      <td>2004</td>\n",
       "      <td>manual</td>\n",
       "      <td>109</td>\n",
       "      <td>2_reihe</td>\n",
       "      <td>150000</td>\n",
       "      <td>8</td>\n",
       "      <td>petrol</td>\n",
       "      <td>peugeot</td>\n",
       "      <td>no</td>\n",
       "      <td>12</td>\n",
       "    </tr>\n",
       "    <tr>\n",
       "      <th>...</th>\n",
       "      <td>...</td>\n",
       "      <td>...</td>\n",
       "      <td>...</td>\n",
       "      <td>...</td>\n",
       "      <td>...</td>\n",
       "      <td>...</td>\n",
       "      <td>...</td>\n",
       "      <td>...</td>\n",
       "      <td>...</td>\n",
       "      <td>...</td>\n",
       "      <td>...</td>\n",
       "      <td>...</td>\n",
       "    </tr>\n",
       "    <tr>\n",
       "      <th>272465</th>\n",
       "      <td>7900</td>\n",
       "      <td>sedan</td>\n",
       "      <td>2010</td>\n",
       "      <td>manual</td>\n",
       "      <td>140</td>\n",
       "      <td>golf</td>\n",
       "      <td>150000</td>\n",
       "      <td>7</td>\n",
       "      <td>gasoline</td>\n",
       "      <td>volkswagen</td>\n",
       "      <td>no</td>\n",
       "      <td>6</td>\n",
       "    </tr>\n",
       "    <tr>\n",
       "      <th>272466</th>\n",
       "      <td>3200</td>\n",
       "      <td>sedan</td>\n",
       "      <td>2004</td>\n",
       "      <td>manual</td>\n",
       "      <td>225</td>\n",
       "      <td>leon</td>\n",
       "      <td>150000</td>\n",
       "      <td>5</td>\n",
       "      <td>petrol</td>\n",
       "      <td>seat</td>\n",
       "      <td>yes</td>\n",
       "      <td>12</td>\n",
       "    </tr>\n",
       "    <tr>\n",
       "      <th>272467</th>\n",
       "      <td>1199</td>\n",
       "      <td>convertible</td>\n",
       "      <td>2000</td>\n",
       "      <td>auto</td>\n",
       "      <td>101</td>\n",
       "      <td>fortwo</td>\n",
       "      <td>125000</td>\n",
       "      <td>3</td>\n",
       "      <td>petrol</td>\n",
       "      <td>smart</td>\n",
       "      <td>no</td>\n",
       "      <td>16</td>\n",
       "    </tr>\n",
       "    <tr>\n",
       "      <th>272468</th>\n",
       "      <td>9200</td>\n",
       "      <td>bus</td>\n",
       "      <td>1996</td>\n",
       "      <td>manual</td>\n",
       "      <td>102</td>\n",
       "      <td>transporter</td>\n",
       "      <td>150000</td>\n",
       "      <td>3</td>\n",
       "      <td>gasoline</td>\n",
       "      <td>volkswagen</td>\n",
       "      <td>no</td>\n",
       "      <td>20</td>\n",
       "    </tr>\n",
       "    <tr>\n",
       "      <th>272469</th>\n",
       "      <td>3400</td>\n",
       "      <td>wagon</td>\n",
       "      <td>2002</td>\n",
       "      <td>manual</td>\n",
       "      <td>100</td>\n",
       "      <td>golf</td>\n",
       "      <td>150000</td>\n",
       "      <td>6</td>\n",
       "      <td>gasoline</td>\n",
       "      <td>volkswagen</td>\n",
       "      <td>no</td>\n",
       "      <td>14</td>\n",
       "    </tr>\n",
       "  </tbody>\n",
       "</table>\n",
       "<p>272470 rows × 12 columns</p>\n",
       "</div>"
      ],
      "text/plain": [
       "        price  vehicletype  regyear gearbox  power        model  kilometer  \\\n",
       "0        9800          suv     2004    auto    163        grand     125000   \n",
       "1        1500        small     2001  manual     75         golf     150000   \n",
       "2        3600        small     2008  manual     69        fabia      90000   \n",
       "3         650        sedan     1995  manual    102          3er     150000   \n",
       "4        2200  convertible     2004  manual    109      2_reihe     150000   \n",
       "...       ...          ...      ...     ...    ...          ...        ...   \n",
       "272465   7900        sedan     2010  manual    140         golf     150000   \n",
       "272466   3200        sedan     2004  manual    225         leon     150000   \n",
       "272467   1199  convertible     2000    auto    101       fortwo     125000   \n",
       "272468   9200          bus     1996  manual    102  transporter     150000   \n",
       "272469   3400        wagon     2002  manual    100         golf     150000   \n",
       "\n",
       "        regmonth  fueltype       brand repaired  age  \n",
       "0              8  gasoline        jeep       no   12  \n",
       "1              6    petrol  volkswagen       no   15  \n",
       "2              7  gasoline       skoda       no    8  \n",
       "3             10    petrol         bmw      yes   21  \n",
       "4              8    petrol     peugeot       no   12  \n",
       "...          ...       ...         ...      ...  ...  \n",
       "272465         7  gasoline  volkswagen       no    6  \n",
       "272466         5    petrol        seat      yes   12  \n",
       "272467         3    petrol       smart       no   16  \n",
       "272468         3  gasoline  volkswagen       no   20  \n",
       "272469         6  gasoline  volkswagen       no   14  \n",
       "\n",
       "[272470 rows x 12 columns]"
      ]
     },
     "metadata": {},
     "output_type": "display_data"
    },
    {
     "name": "stdout",
     "output_type": "stream",
     "text": [
      "no     247200\n",
      "yes     25270\n",
      "Name: repaired, dtype: int64\n"
     ]
    }
   ],
   "source": [
    "display(data)\n",
    "print(data['repaired'].value_counts())"
   ]
  },
  {
   "cell_type": "markdown",
   "metadata": {},
   "source": [
    "Если подводить небольшой итог то, отметим, что данные сами по себе были ужасно кривые, с огромным количеством пропусков, неточностей и ошибок. мы исправили то, что смогли так, как смогли. Надеюсь, не придется сюда возвращаться и все что-то переделывать, но тем не менее у нас есть резервные копии и есть понимание, что в теории может негативно влиять на резулттаты предсказаний. "
   ]
  },
  {
   "cell_type": "markdown",
   "metadata": {},
   "source": [
    "## Обучение моделей"
   ]
  },
  {
   "cell_type": "markdown",
   "metadata": {},
   "source": [
    "Теперь давайте обучим 3 модели и протестируем их. Думаю, есть смысл построить модель регрессии, модель случайного леса и бустинг lightgbm. Потом сравним их скорость обучения, скорость предсказания и качество. Метрикой оценки качества будет rmse. Отдельно хочу отметить, что для каждого типа модели у нас будет отдельное кодирование: ohe для регресси, ordinal для леса,  а для бустинга мы ничего делаьть не будем, в теории там уже зашит CatBoostEncoding. Опять же в теории при некоторых условиях (например, слишком много категорий в моделях автомобилей) Catboost encoding может работать хуже, чем ordinal и это мы тоже попробуем выяснить."
   ]
  },
  {
   "cell_type": "markdown",
   "metadata": {},
   "source": [
    "### Модель регрессии"
   ]
  },
  {
   "cell_type": "code",
   "execution_count": 92,
   "metadata": {},
   "outputs": [],
   "source": [
    "data_ohe = data.copy()\n",
    "data_ohe = pd.get_dummies(data, drop_first=True)"
   ]
  },
  {
   "cell_type": "code",
   "execution_count": 93,
   "metadata": {
    "scrolled": true
   },
   "outputs": [
    {
     "data": {
      "text/plain": [
       "(272470, 307)"
      ]
     },
     "execution_count": 93,
     "metadata": {},
     "output_type": "execute_result"
    }
   ],
   "source": [
    "data_ohe.shape"
   ]
  },
  {
   "cell_type": "code",
   "execution_count": 94,
   "metadata": {},
   "outputs": [
    {
     "data": {
      "text/html": [
       "<div>\n",
       "<style scoped>\n",
       "    .dataframe tbody tr th:only-of-type {\n",
       "        vertical-align: middle;\n",
       "    }\n",
       "\n",
       "    .dataframe tbody tr th {\n",
       "        vertical-align: top;\n",
       "    }\n",
       "\n",
       "    .dataframe thead th {\n",
       "        text-align: right;\n",
       "    }\n",
       "</style>\n",
       "<table border=\"1\" class=\"dataframe\">\n",
       "  <thead>\n",
       "    <tr style=\"text-align: right;\">\n",
       "      <th></th>\n",
       "      <th>price</th>\n",
       "      <th>regyear</th>\n",
       "      <th>power</th>\n",
       "      <th>kilometer</th>\n",
       "      <th>regmonth</th>\n",
       "      <th>age</th>\n",
       "      <th>vehicletype_convertible</th>\n",
       "      <th>vehicletype_coupe</th>\n",
       "      <th>vehicletype_other</th>\n",
       "      <th>vehicletype_sedan</th>\n",
       "      <th>...</th>\n",
       "      <th>brand_seat</th>\n",
       "      <th>brand_skoda</th>\n",
       "      <th>brand_smart</th>\n",
       "      <th>brand_subaru</th>\n",
       "      <th>brand_suzuki</th>\n",
       "      <th>brand_toyota</th>\n",
       "      <th>brand_trabant</th>\n",
       "      <th>brand_volkswagen</th>\n",
       "      <th>brand_volvo</th>\n",
       "      <th>repaired_yes</th>\n",
       "    </tr>\n",
       "  </thead>\n",
       "  <tbody>\n",
       "    <tr>\n",
       "      <th>0</th>\n",
       "      <td>9800</td>\n",
       "      <td>2004</td>\n",
       "      <td>163</td>\n",
       "      <td>125000</td>\n",
       "      <td>8</td>\n",
       "      <td>12</td>\n",
       "      <td>0</td>\n",
       "      <td>0</td>\n",
       "      <td>0</td>\n",
       "      <td>0</td>\n",
       "      <td>...</td>\n",
       "      <td>0</td>\n",
       "      <td>0</td>\n",
       "      <td>0</td>\n",
       "      <td>0</td>\n",
       "      <td>0</td>\n",
       "      <td>0</td>\n",
       "      <td>0</td>\n",
       "      <td>0</td>\n",
       "      <td>0</td>\n",
       "      <td>0</td>\n",
       "    </tr>\n",
       "    <tr>\n",
       "      <th>1</th>\n",
       "      <td>1500</td>\n",
       "      <td>2001</td>\n",
       "      <td>75</td>\n",
       "      <td>150000</td>\n",
       "      <td>6</td>\n",
       "      <td>15</td>\n",
       "      <td>0</td>\n",
       "      <td>0</td>\n",
       "      <td>0</td>\n",
       "      <td>0</td>\n",
       "      <td>...</td>\n",
       "      <td>0</td>\n",
       "      <td>0</td>\n",
       "      <td>0</td>\n",
       "      <td>0</td>\n",
       "      <td>0</td>\n",
       "      <td>0</td>\n",
       "      <td>0</td>\n",
       "      <td>1</td>\n",
       "      <td>0</td>\n",
       "      <td>0</td>\n",
       "    </tr>\n",
       "    <tr>\n",
       "      <th>2</th>\n",
       "      <td>3600</td>\n",
       "      <td>2008</td>\n",
       "      <td>69</td>\n",
       "      <td>90000</td>\n",
       "      <td>7</td>\n",
       "      <td>8</td>\n",
       "      <td>0</td>\n",
       "      <td>0</td>\n",
       "      <td>0</td>\n",
       "      <td>0</td>\n",
       "      <td>...</td>\n",
       "      <td>0</td>\n",
       "      <td>1</td>\n",
       "      <td>0</td>\n",
       "      <td>0</td>\n",
       "      <td>0</td>\n",
       "      <td>0</td>\n",
       "      <td>0</td>\n",
       "      <td>0</td>\n",
       "      <td>0</td>\n",
       "      <td>0</td>\n",
       "    </tr>\n",
       "    <tr>\n",
       "      <th>3</th>\n",
       "      <td>650</td>\n",
       "      <td>1995</td>\n",
       "      <td>102</td>\n",
       "      <td>150000</td>\n",
       "      <td>10</td>\n",
       "      <td>21</td>\n",
       "      <td>0</td>\n",
       "      <td>0</td>\n",
       "      <td>0</td>\n",
       "      <td>1</td>\n",
       "      <td>...</td>\n",
       "      <td>0</td>\n",
       "      <td>0</td>\n",
       "      <td>0</td>\n",
       "      <td>0</td>\n",
       "      <td>0</td>\n",
       "      <td>0</td>\n",
       "      <td>0</td>\n",
       "      <td>0</td>\n",
       "      <td>0</td>\n",
       "      <td>1</td>\n",
       "    </tr>\n",
       "    <tr>\n",
       "      <th>4</th>\n",
       "      <td>2200</td>\n",
       "      <td>2004</td>\n",
       "      <td>109</td>\n",
       "      <td>150000</td>\n",
       "      <td>8</td>\n",
       "      <td>12</td>\n",
       "      <td>1</td>\n",
       "      <td>0</td>\n",
       "      <td>0</td>\n",
       "      <td>0</td>\n",
       "      <td>...</td>\n",
       "      <td>0</td>\n",
       "      <td>0</td>\n",
       "      <td>0</td>\n",
       "      <td>0</td>\n",
       "      <td>0</td>\n",
       "      <td>0</td>\n",
       "      <td>0</td>\n",
       "      <td>0</td>\n",
       "      <td>0</td>\n",
       "      <td>0</td>\n",
       "    </tr>\n",
       "    <tr>\n",
       "      <th>...</th>\n",
       "      <td>...</td>\n",
       "      <td>...</td>\n",
       "      <td>...</td>\n",
       "      <td>...</td>\n",
       "      <td>...</td>\n",
       "      <td>...</td>\n",
       "      <td>...</td>\n",
       "      <td>...</td>\n",
       "      <td>...</td>\n",
       "      <td>...</td>\n",
       "      <td>...</td>\n",
       "      <td>...</td>\n",
       "      <td>...</td>\n",
       "      <td>...</td>\n",
       "      <td>...</td>\n",
       "      <td>...</td>\n",
       "      <td>...</td>\n",
       "      <td>...</td>\n",
       "      <td>...</td>\n",
       "      <td>...</td>\n",
       "      <td>...</td>\n",
       "    </tr>\n",
       "    <tr>\n",
       "      <th>272465</th>\n",
       "      <td>7900</td>\n",
       "      <td>2010</td>\n",
       "      <td>140</td>\n",
       "      <td>150000</td>\n",
       "      <td>7</td>\n",
       "      <td>6</td>\n",
       "      <td>0</td>\n",
       "      <td>0</td>\n",
       "      <td>0</td>\n",
       "      <td>1</td>\n",
       "      <td>...</td>\n",
       "      <td>0</td>\n",
       "      <td>0</td>\n",
       "      <td>0</td>\n",
       "      <td>0</td>\n",
       "      <td>0</td>\n",
       "      <td>0</td>\n",
       "      <td>0</td>\n",
       "      <td>1</td>\n",
       "      <td>0</td>\n",
       "      <td>0</td>\n",
       "    </tr>\n",
       "    <tr>\n",
       "      <th>272466</th>\n",
       "      <td>3200</td>\n",
       "      <td>2004</td>\n",
       "      <td>225</td>\n",
       "      <td>150000</td>\n",
       "      <td>5</td>\n",
       "      <td>12</td>\n",
       "      <td>0</td>\n",
       "      <td>0</td>\n",
       "      <td>0</td>\n",
       "      <td>1</td>\n",
       "      <td>...</td>\n",
       "      <td>1</td>\n",
       "      <td>0</td>\n",
       "      <td>0</td>\n",
       "      <td>0</td>\n",
       "      <td>0</td>\n",
       "      <td>0</td>\n",
       "      <td>0</td>\n",
       "      <td>0</td>\n",
       "      <td>0</td>\n",
       "      <td>1</td>\n",
       "    </tr>\n",
       "    <tr>\n",
       "      <th>272467</th>\n",
       "      <td>1199</td>\n",
       "      <td>2000</td>\n",
       "      <td>101</td>\n",
       "      <td>125000</td>\n",
       "      <td>3</td>\n",
       "      <td>16</td>\n",
       "      <td>1</td>\n",
       "      <td>0</td>\n",
       "      <td>0</td>\n",
       "      <td>0</td>\n",
       "      <td>...</td>\n",
       "      <td>0</td>\n",
       "      <td>0</td>\n",
       "      <td>1</td>\n",
       "      <td>0</td>\n",
       "      <td>0</td>\n",
       "      <td>0</td>\n",
       "      <td>0</td>\n",
       "      <td>0</td>\n",
       "      <td>0</td>\n",
       "      <td>0</td>\n",
       "    </tr>\n",
       "    <tr>\n",
       "      <th>272468</th>\n",
       "      <td>9200</td>\n",
       "      <td>1996</td>\n",
       "      <td>102</td>\n",
       "      <td>150000</td>\n",
       "      <td>3</td>\n",
       "      <td>20</td>\n",
       "      <td>0</td>\n",
       "      <td>0</td>\n",
       "      <td>0</td>\n",
       "      <td>0</td>\n",
       "      <td>...</td>\n",
       "      <td>0</td>\n",
       "      <td>0</td>\n",
       "      <td>0</td>\n",
       "      <td>0</td>\n",
       "      <td>0</td>\n",
       "      <td>0</td>\n",
       "      <td>0</td>\n",
       "      <td>1</td>\n",
       "      <td>0</td>\n",
       "      <td>0</td>\n",
       "    </tr>\n",
       "    <tr>\n",
       "      <th>272469</th>\n",
       "      <td>3400</td>\n",
       "      <td>2002</td>\n",
       "      <td>100</td>\n",
       "      <td>150000</td>\n",
       "      <td>6</td>\n",
       "      <td>14</td>\n",
       "      <td>0</td>\n",
       "      <td>0</td>\n",
       "      <td>0</td>\n",
       "      <td>0</td>\n",
       "      <td>...</td>\n",
       "      <td>0</td>\n",
       "      <td>0</td>\n",
       "      <td>0</td>\n",
       "      <td>0</td>\n",
       "      <td>0</td>\n",
       "      <td>0</td>\n",
       "      <td>0</td>\n",
       "      <td>1</td>\n",
       "      <td>0</td>\n",
       "      <td>0</td>\n",
       "    </tr>\n",
       "  </tbody>\n",
       "</table>\n",
       "<p>272470 rows × 307 columns</p>\n",
       "</div>"
      ],
      "text/plain": [
       "        price  regyear  power  kilometer  regmonth  age  \\\n",
       "0        9800     2004    163     125000         8   12   \n",
       "1        1500     2001     75     150000         6   15   \n",
       "2        3600     2008     69      90000         7    8   \n",
       "3         650     1995    102     150000        10   21   \n",
       "4        2200     2004    109     150000         8   12   \n",
       "...       ...      ...    ...        ...       ...  ...   \n",
       "272465   7900     2010    140     150000         7    6   \n",
       "272466   3200     2004    225     150000         5   12   \n",
       "272467   1199     2000    101     125000         3   16   \n",
       "272468   9200     1996    102     150000         3   20   \n",
       "272469   3400     2002    100     150000         6   14   \n",
       "\n",
       "        vehicletype_convertible  vehicletype_coupe  vehicletype_other  \\\n",
       "0                             0                  0                  0   \n",
       "1                             0                  0                  0   \n",
       "2                             0                  0                  0   \n",
       "3                             0                  0                  0   \n",
       "4                             1                  0                  0   \n",
       "...                         ...                ...                ...   \n",
       "272465                        0                  0                  0   \n",
       "272466                        0                  0                  0   \n",
       "272467                        1                  0                  0   \n",
       "272468                        0                  0                  0   \n",
       "272469                        0                  0                  0   \n",
       "\n",
       "        vehicletype_sedan  ...  brand_seat  brand_skoda  brand_smart  \\\n",
       "0                       0  ...           0            0            0   \n",
       "1                       0  ...           0            0            0   \n",
       "2                       0  ...           0            1            0   \n",
       "3                       1  ...           0            0            0   \n",
       "4                       0  ...           0            0            0   \n",
       "...                   ...  ...         ...          ...          ...   \n",
       "272465                  1  ...           0            0            0   \n",
       "272466                  1  ...           1            0            0   \n",
       "272467                  0  ...           0            0            1   \n",
       "272468                  0  ...           0            0            0   \n",
       "272469                  0  ...           0            0            0   \n",
       "\n",
       "        brand_subaru  brand_suzuki  brand_toyota  brand_trabant  \\\n",
       "0                  0             0             0              0   \n",
       "1                  0             0             0              0   \n",
       "2                  0             0             0              0   \n",
       "3                  0             0             0              0   \n",
       "4                  0             0             0              0   \n",
       "...              ...           ...           ...            ...   \n",
       "272465             0             0             0              0   \n",
       "272466             0             0             0              0   \n",
       "272467             0             0             0              0   \n",
       "272468             0             0             0              0   \n",
       "272469             0             0             0              0   \n",
       "\n",
       "        brand_volkswagen  brand_volvo  repaired_yes  \n",
       "0                      0            0             0  \n",
       "1                      1            0             0  \n",
       "2                      0            0             0  \n",
       "3                      0            0             1  \n",
       "4                      0            0             0  \n",
       "...                  ...          ...           ...  \n",
       "272465                 1            0             0  \n",
       "272466                 0            0             1  \n",
       "272467                 0            0             0  \n",
       "272468                 1            0             0  \n",
       "272469                 1            0             0  \n",
       "\n",
       "[272470 rows x 307 columns]"
      ]
     },
     "metadata": {},
     "output_type": "display_data"
    }
   ],
   "source": [
    "display(data_ohe)"
   ]
  },
  {
   "cell_type": "code",
   "execution_count": 95,
   "metadata": {},
   "outputs": [
    {
     "name": "stdout",
     "output_type": "stream",
     "text": [
      "(272470,)\n",
      "(272470, 306)\n"
     ]
    }
   ],
   "source": [
    "target = data_ohe['price']\n",
    "features = data_ohe.drop(['price'] , axis=1)\n",
    "print(target.shape)\n",
    "print(features.shape)"
   ]
  },
  {
   "cell_type": "code",
   "execution_count": 96,
   "metadata": {},
   "outputs": [],
   "source": [
    "features_train, features_test, target_train, target_test = train_test_split(\n",
    "    features, target, test_size=0.25, random_state=12345)\n",
    "features_train, features_valid, target_train, target_valid = train_test_split(\n",
    "    features_train, target_train, test_size=0.25, random_state=12345)"
   ]
  },
  {
   "cell_type": "code",
   "execution_count": 97,
   "metadata": {},
   "outputs": [
    {
     "name": "stdout",
     "output_type": "stream",
     "text": [
      "(153264, 306)\n",
      "(51088, 306)\n",
      "(153264,)\n",
      "(51088,)\n"
     ]
    }
   ],
   "source": [
    "print(features_train.shape)\n",
    "print(features_valid.shape)\n",
    "print(target_train.shape)\n",
    "print(target_valid.shape)"
   ]
  },
  {
   "cell_type": "code",
   "execution_count": 98,
   "metadata": {},
   "outputs": [
    {
     "name": "stdout",
     "output_type": "stream",
     "text": [
      "CPU times: user 20.8 s, sys: 2.41 s, total: 23.2 s\n",
      "Wall time: 4.83 s\n"
     ]
    },
    {
     "data": {
      "text/html": [
       "<style>#sk-container-id-1 {color: black;background-color: white;}#sk-container-id-1 pre{padding: 0;}#sk-container-id-1 div.sk-toggleable {background-color: white;}#sk-container-id-1 label.sk-toggleable__label {cursor: pointer;display: block;width: 100%;margin-bottom: 0;padding: 0.3em;box-sizing: border-box;text-align: center;}#sk-container-id-1 label.sk-toggleable__label-arrow:before {content: \"▸\";float: left;margin-right: 0.25em;color: #696969;}#sk-container-id-1 label.sk-toggleable__label-arrow:hover:before {color: black;}#sk-container-id-1 div.sk-estimator:hover label.sk-toggleable__label-arrow:before {color: black;}#sk-container-id-1 div.sk-toggleable__content {max-height: 0;max-width: 0;overflow: hidden;text-align: left;background-color: #f0f8ff;}#sk-container-id-1 div.sk-toggleable__content pre {margin: 0.2em;color: black;border-radius: 0.25em;background-color: #f0f8ff;}#sk-container-id-1 input.sk-toggleable__control:checked~div.sk-toggleable__content {max-height: 200px;max-width: 100%;overflow: auto;}#sk-container-id-1 input.sk-toggleable__control:checked~label.sk-toggleable__label-arrow:before {content: \"▾\";}#sk-container-id-1 div.sk-estimator input.sk-toggleable__control:checked~label.sk-toggleable__label {background-color: #d4ebff;}#sk-container-id-1 div.sk-label input.sk-toggleable__control:checked~label.sk-toggleable__label {background-color: #d4ebff;}#sk-container-id-1 input.sk-hidden--visually {border: 0;clip: rect(1px 1px 1px 1px);clip: rect(1px, 1px, 1px, 1px);height: 1px;margin: -1px;overflow: hidden;padding: 0;position: absolute;width: 1px;}#sk-container-id-1 div.sk-estimator {font-family: monospace;background-color: #f0f8ff;border: 1px dotted black;border-radius: 0.25em;box-sizing: border-box;margin-bottom: 0.5em;}#sk-container-id-1 div.sk-estimator:hover {background-color: #d4ebff;}#sk-container-id-1 div.sk-parallel-item::after {content: \"\";width: 100%;border-bottom: 1px solid gray;flex-grow: 1;}#sk-container-id-1 div.sk-label:hover label.sk-toggleable__label {background-color: #d4ebff;}#sk-container-id-1 div.sk-serial::before {content: \"\";position: absolute;border-left: 1px solid gray;box-sizing: border-box;top: 0;bottom: 0;left: 50%;z-index: 0;}#sk-container-id-1 div.sk-serial {display: flex;flex-direction: column;align-items: center;background-color: white;padding-right: 0.2em;padding-left: 0.2em;position: relative;}#sk-container-id-1 div.sk-item {position: relative;z-index: 1;}#sk-container-id-1 div.sk-parallel {display: flex;align-items: stretch;justify-content: center;background-color: white;position: relative;}#sk-container-id-1 div.sk-item::before, #sk-container-id-1 div.sk-parallel-item::before {content: \"\";position: absolute;border-left: 1px solid gray;box-sizing: border-box;top: 0;bottom: 0;left: 50%;z-index: -1;}#sk-container-id-1 div.sk-parallel-item {display: flex;flex-direction: column;z-index: 1;position: relative;background-color: white;}#sk-container-id-1 div.sk-parallel-item:first-child::after {align-self: flex-end;width: 50%;}#sk-container-id-1 div.sk-parallel-item:last-child::after {align-self: flex-start;width: 50%;}#sk-container-id-1 div.sk-parallel-item:only-child::after {width: 0;}#sk-container-id-1 div.sk-dashed-wrapped {border: 1px dashed gray;margin: 0 0.4em 0.5em 0.4em;box-sizing: border-box;padding-bottom: 0.4em;background-color: white;}#sk-container-id-1 div.sk-label label {font-family: monospace;font-weight: bold;display: inline-block;line-height: 1.2em;}#sk-container-id-1 div.sk-label-container {text-align: center;}#sk-container-id-1 div.sk-container {/* jupyter's `normalize.less` sets `[hidden] { display: none; }` but bootstrap.min.css set `[hidden] { display: none !important; }` so we also need the `!important` here to be able to override the default hidden behavior on the sphinx rendered scikit-learn.org. See: https://github.com/scikit-learn/scikit-learn/issues/21755 */display: inline-block !important;position: relative;}#sk-container-id-1 div.sk-text-repr-fallback {display: none;}</style><div id=\"sk-container-id-1\" class=\"sk-top-container\"><div class=\"sk-text-repr-fallback\"><pre>LinearRegression()</pre><b>In a Jupyter environment, please rerun this cell to show the HTML representation or trust the notebook. <br />On GitHub, the HTML representation is unable to render, please try loading this page with nbviewer.org.</b></div><div class=\"sk-container\" hidden><div class=\"sk-item\"><div class=\"sk-estimator sk-toggleable\"><input class=\"sk-toggleable__control sk-hidden--visually\" id=\"sk-estimator-id-1\" type=\"checkbox\" checked><label for=\"sk-estimator-id-1\" class=\"sk-toggleable__label sk-toggleable__label-arrow\">LinearRegression</label><div class=\"sk-toggleable__content\"><pre>LinearRegression()</pre></div></div></div></div></div>"
      ],
      "text/plain": [
       "LinearRegression()"
      ]
     },
     "execution_count": 98,
     "metadata": {},
     "output_type": "execute_result"
    }
   ],
   "source": [
    "%%time\n",
    "regression = LinearRegression()\n",
    "regression.fit(features_train, target_train)"
   ]
  },
  {
   "cell_type": "code",
   "execution_count": 99,
   "metadata": {},
   "outputs": [
    {
     "name": "stdout",
     "output_type": "stream",
     "text": [
      "2474.1788272883327\n",
      "CPU times: user 402 ms, sys: 343 ms, total: 745 ms\n",
      "Wall time: 116 ms\n"
     ]
    }
   ],
   "source": [
    "%%time\n",
    "print(mean_squared_error(target_valid, regression.predict(features_valid))**0.5)"
   ]
  },
  {
   "cell_type": "markdown",
   "metadata": {},
   "source": [
    "ЕЕЕЕ бой! Регрессия сама по себе уже дала приемимый для заказчика результат на валидационной выборке. Мне кажется, это очень круто! И скорость тоже супер, что неудивительно для модели регрессии. Значит, скорее всего, предобработка была проведена отлично."
   ]
  },
  {
   "cell_type": "markdown",
   "metadata": {},
   "source": [
    "### Случайный лес"
   ]
  },
  {
   "cell_type": "code",
   "execution_count": 100,
   "metadata": {},
   "outputs": [
    {
     "name": "stdout",
     "output_type": "stream",
     "text": [
      "(272470,)\n",
      "(272470, 11)\n"
     ]
    }
   ],
   "source": [
    "target2 = data['price']\n",
    "features2 = data.drop(['price'] , axis=1)\n",
    "print(target2.shape)\n",
    "print(features2.shape)"
   ]
  },
  {
   "cell_type": "code",
   "execution_count": 101,
   "metadata": {},
   "outputs": [],
   "source": [
    "features_train2, features_test2, target_train2, target_test2 = train_test_split(\n",
    "    features2, target2, test_size=0.25, random_state=12345)\n",
    "features_train2, features_valid2, target_train2, target_valid2 = train_test_split(\n",
    "    features_train2, target_train2, test_size=0.25, random_state=12345)"
   ]
  },
  {
   "cell_type": "code",
   "execution_count": 106,
   "metadata": {},
   "outputs": [],
   "source": [
    "cols = ['vehicletype', 'gearbox', 'model', 'regmonth', 'fueltype', 'brand', 'repaired']"
   ]
  },
  {
   "cell_type": "code",
   "execution_count": 107,
   "metadata": {},
   "outputs": [
    {
     "data": {
      "text/html": [
       "<div>\n",
       "<style scoped>\n",
       "    .dataframe tbody tr th:only-of-type {\n",
       "        vertical-align: middle;\n",
       "    }\n",
       "\n",
       "    .dataframe tbody tr th {\n",
       "        vertical-align: top;\n",
       "    }\n",
       "\n",
       "    .dataframe thead th {\n",
       "        text-align: right;\n",
       "    }\n",
       "</style>\n",
       "<table border=\"1\" class=\"dataframe\">\n",
       "  <thead>\n",
       "    <tr style=\"text-align: right;\">\n",
       "      <th></th>\n",
       "      <th>vehicletype</th>\n",
       "      <th>regyear</th>\n",
       "      <th>gearbox</th>\n",
       "      <th>power</th>\n",
       "      <th>model</th>\n",
       "      <th>kilometer</th>\n",
       "      <th>regmonth</th>\n",
       "      <th>fueltype</th>\n",
       "      <th>brand</th>\n",
       "      <th>repaired</th>\n",
       "      <th>age</th>\n",
       "    </tr>\n",
       "  </thead>\n",
       "  <tbody>\n",
       "    <tr>\n",
       "      <th>231556</th>\n",
       "      <td>5.0</td>\n",
       "      <td>2000</td>\n",
       "      <td>1.0</td>\n",
       "      <td>60</td>\n",
       "      <td>8.0</td>\n",
       "      <td>150000</td>\n",
       "      <td>5.0</td>\n",
       "      <td>6.0</td>\n",
       "      <td>25.0</td>\n",
       "      <td>1.0</td>\n",
       "      <td>16</td>\n",
       "    </tr>\n",
       "    <tr>\n",
       "      <th>185985</th>\n",
       "      <td>5.0</td>\n",
       "      <td>1993</td>\n",
       "      <td>1.0</td>\n",
       "      <td>60</td>\n",
       "      <td>116.0</td>\n",
       "      <td>150000</td>\n",
       "      <td>9.0</td>\n",
       "      <td>6.0</td>\n",
       "      <td>37.0</td>\n",
       "      <td>0.0</td>\n",
       "      <td>23</td>\n",
       "    </tr>\n",
       "    <tr>\n",
       "      <th>15125</th>\n",
       "      <td>7.0</td>\n",
       "      <td>2005</td>\n",
       "      <td>1.0</td>\n",
       "      <td>102</td>\n",
       "      <td>163.0</td>\n",
       "      <td>150000</td>\n",
       "      <td>5.0</td>\n",
       "      <td>6.0</td>\n",
       "      <td>31.0</td>\n",
       "      <td>0.0</td>\n",
       "      <td>11</td>\n",
       "    </tr>\n",
       "    <tr>\n",
       "      <th>157947</th>\n",
       "      <td>0.0</td>\n",
       "      <td>2009</td>\n",
       "      <td>1.0</td>\n",
       "      <td>105</td>\n",
       "      <td>221.0</td>\n",
       "      <td>150000</td>\n",
       "      <td>1.0</td>\n",
       "      <td>2.0</td>\n",
       "      <td>37.0</td>\n",
       "      <td>0.0</td>\n",
       "      <td>7</td>\n",
       "    </tr>\n",
       "    <tr>\n",
       "      <th>267700</th>\n",
       "      <td>2.0</td>\n",
       "      <td>1995</td>\n",
       "      <td>1.0</td>\n",
       "      <td>139</td>\n",
       "      <td>166.0</td>\n",
       "      <td>150000</td>\n",
       "      <td>12.0</td>\n",
       "      <td>6.0</td>\n",
       "      <td>9.0</td>\n",
       "      <td>0.0</td>\n",
       "      <td>21</td>\n",
       "    </tr>\n",
       "    <tr>\n",
       "      <th>...</th>\n",
       "      <td>...</td>\n",
       "      <td>...</td>\n",
       "      <td>...</td>\n",
       "      <td>...</td>\n",
       "      <td>...</td>\n",
       "      <td>...</td>\n",
       "      <td>...</td>\n",
       "      <td>...</td>\n",
       "      <td>...</td>\n",
       "      <td>...</td>\n",
       "      <td>...</td>\n",
       "    </tr>\n",
       "    <tr>\n",
       "      <th>1895</th>\n",
       "      <td>5.0</td>\n",
       "      <td>1998</td>\n",
       "      <td>1.0</td>\n",
       "      <td>60</td>\n",
       "      <td>8.0</td>\n",
       "      <td>100000</td>\n",
       "      <td>11.0</td>\n",
       "      <td>6.0</td>\n",
       "      <td>25.0</td>\n",
       "      <td>0.0</td>\n",
       "      <td>18</td>\n",
       "    </tr>\n",
       "    <tr>\n",
       "      <th>236269</th>\n",
       "      <td>7.0</td>\n",
       "      <td>2007</td>\n",
       "      <td>1.0</td>\n",
       "      <td>115</td>\n",
       "      <td>170.0</td>\n",
       "      <td>150000</td>\n",
       "      <td>1.0</td>\n",
       "      <td>6.0</td>\n",
       "      <td>37.0</td>\n",
       "      <td>0.0</td>\n",
       "      <td>9</td>\n",
       "    </tr>\n",
       "    <tr>\n",
       "      <th>254949</th>\n",
       "      <td>1.0</td>\n",
       "      <td>2005</td>\n",
       "      <td>0.0</td>\n",
       "      <td>163</td>\n",
       "      <td>207.0</td>\n",
       "      <td>125000</td>\n",
       "      <td>1.0</td>\n",
       "      <td>6.0</td>\n",
       "      <td>20.0</td>\n",
       "      <td>0.0</td>\n",
       "      <td>11</td>\n",
       "    </tr>\n",
       "    <tr>\n",
       "      <th>270134</th>\n",
       "      <td>2.0</td>\n",
       "      <td>1998</td>\n",
       "      <td>0.0</td>\n",
       "      <td>110</td>\n",
       "      <td>116.0</td>\n",
       "      <td>150000</td>\n",
       "      <td>7.0</td>\n",
       "      <td>2.0</td>\n",
       "      <td>37.0</td>\n",
       "      <td>0.0</td>\n",
       "      <td>18</td>\n",
       "    </tr>\n",
       "    <tr>\n",
       "      <th>18421</th>\n",
       "      <td>7.0</td>\n",
       "      <td>2007</td>\n",
       "      <td>1.0</td>\n",
       "      <td>140</td>\n",
       "      <td>29.0</td>\n",
       "      <td>150000</td>\n",
       "      <td>11.0</td>\n",
       "      <td>2.0</td>\n",
       "      <td>1.0</td>\n",
       "      <td>0.0</td>\n",
       "      <td>9</td>\n",
       "    </tr>\n",
       "  </tbody>\n",
       "</table>\n",
       "<p>153264 rows × 11 columns</p>\n",
       "</div>"
      ],
      "text/plain": [
       "        vehicletype  regyear  gearbox  power  model  kilometer  regmonth  \\\n",
       "231556          5.0     2000      1.0     60    8.0     150000       5.0   \n",
       "185985          5.0     1993      1.0     60  116.0     150000       9.0   \n",
       "15125           7.0     2005      1.0    102  163.0     150000       5.0   \n",
       "157947          0.0     2009      1.0    105  221.0     150000       1.0   \n",
       "267700          2.0     1995      1.0    139  166.0     150000      12.0   \n",
       "...             ...      ...      ...    ...    ...        ...       ...   \n",
       "1895            5.0     1998      1.0     60    8.0     100000      11.0   \n",
       "236269          7.0     2007      1.0    115  170.0     150000       1.0   \n",
       "254949          1.0     2005      0.0    163  207.0     125000       1.0   \n",
       "270134          2.0     1998      0.0    110  116.0     150000       7.0   \n",
       "18421           7.0     2007      1.0    140   29.0     150000      11.0   \n",
       "\n",
       "        fueltype  brand  repaired  age  \n",
       "231556       6.0   25.0       1.0   16  \n",
       "185985       6.0   37.0       0.0   23  \n",
       "15125        6.0   31.0       0.0   11  \n",
       "157947       2.0   37.0       0.0    7  \n",
       "267700       6.0    9.0       0.0   21  \n",
       "...          ...    ...       ...  ...  \n",
       "1895         6.0   25.0       0.0   18  \n",
       "236269       6.0   37.0       0.0    9  \n",
       "254949       6.0   20.0       0.0   11  \n",
       "270134       2.0   37.0       0.0   18  \n",
       "18421        2.0    1.0       0.0    9  \n",
       "\n",
       "[153264 rows x 11 columns]"
      ]
     },
     "metadata": {},
     "output_type": "display_data"
    }
   ],
   "source": [
    "encoder = OrdinalEncoder()\n",
    "encoder.fit(features_train2[cols])\n",
    "features_train2[cols] = encoder.transform(features_train2[cols])\n",
    "display(features_train2)"
   ]
  },
  {
   "cell_type": "code",
   "execution_count": 108,
   "metadata": {},
   "outputs": [],
   "source": [
    "features_valid2[cols] = encoder.transform(features_valid2[cols])"
   ]
  },
  {
   "cell_type": "code",
   "execution_count": 109,
   "metadata": {},
   "outputs": [],
   "source": [
    "best_rfr = None\n",
    "best_result = 99999999\n",
    "best_est = 0\n",
    "best_depth = 0"
   ]
  },
  {
   "cell_type": "code",
   "execution_count": 110,
   "metadata": {},
   "outputs": [
    {
     "name": "stdout",
     "output_type": "stream",
     "text": [
      "RMSE наилучшей модели на валидационной выборке: 1748.5980310979598 Количество деревьев: 46 Глубина: 12\n",
      "CPU times: user 8min 34s, sys: 3.66 s, total: 8min 38s\n",
      "Wall time: 8min 45s\n"
     ]
    }
   ],
   "source": [
    "%%time\n",
    "for est in range(1, 51, 5):\n",
    "    for depth in range(1,13):\n",
    "        rfr = RandomForestRegressor(random_state=1984, n_estimators=est, max_depth=depth)\n",
    "        rfr.fit(features_train2, target_train2)\n",
    "        result = mean_squared_error(target_valid2, rfr.predict(features_valid2))**0.5\n",
    "        if result < best_result:\n",
    "            best_rfr = rfr\n",
    "            best_result = result\n",
    "            best_est = est\n",
    "            best_depth = depth\n",
    "print(\"RMSE наилучшей модели на валидационной выборке:\", \n",
    "      best_result, \"Количество деревьев:\", best_est, \"Глубина:\", best_depth)"
   ]
  },
  {
   "cell_type": "code",
   "execution_count": 111,
   "metadata": {},
   "outputs": [
    {
     "name": "stdout",
     "output_type": "stream",
     "text": [
      "CPU times: user 13.3 s, sys: 116 ms, total: 13.4 s\n",
      "Wall time: 13.7 s\n"
     ]
    },
    {
     "data": {
      "text/html": [
       "<style>#sk-container-id-2 {color: black;background-color: white;}#sk-container-id-2 pre{padding: 0;}#sk-container-id-2 div.sk-toggleable {background-color: white;}#sk-container-id-2 label.sk-toggleable__label {cursor: pointer;display: block;width: 100%;margin-bottom: 0;padding: 0.3em;box-sizing: border-box;text-align: center;}#sk-container-id-2 label.sk-toggleable__label-arrow:before {content: \"▸\";float: left;margin-right: 0.25em;color: #696969;}#sk-container-id-2 label.sk-toggleable__label-arrow:hover:before {color: black;}#sk-container-id-2 div.sk-estimator:hover label.sk-toggleable__label-arrow:before {color: black;}#sk-container-id-2 div.sk-toggleable__content {max-height: 0;max-width: 0;overflow: hidden;text-align: left;background-color: #f0f8ff;}#sk-container-id-2 div.sk-toggleable__content pre {margin: 0.2em;color: black;border-radius: 0.25em;background-color: #f0f8ff;}#sk-container-id-2 input.sk-toggleable__control:checked~div.sk-toggleable__content {max-height: 200px;max-width: 100%;overflow: auto;}#sk-container-id-2 input.sk-toggleable__control:checked~label.sk-toggleable__label-arrow:before {content: \"▾\";}#sk-container-id-2 div.sk-estimator input.sk-toggleable__control:checked~label.sk-toggleable__label {background-color: #d4ebff;}#sk-container-id-2 div.sk-label input.sk-toggleable__control:checked~label.sk-toggleable__label {background-color: #d4ebff;}#sk-container-id-2 input.sk-hidden--visually {border: 0;clip: rect(1px 1px 1px 1px);clip: rect(1px, 1px, 1px, 1px);height: 1px;margin: -1px;overflow: hidden;padding: 0;position: absolute;width: 1px;}#sk-container-id-2 div.sk-estimator {font-family: monospace;background-color: #f0f8ff;border: 1px dotted black;border-radius: 0.25em;box-sizing: border-box;margin-bottom: 0.5em;}#sk-container-id-2 div.sk-estimator:hover {background-color: #d4ebff;}#sk-container-id-2 div.sk-parallel-item::after {content: \"\";width: 100%;border-bottom: 1px solid gray;flex-grow: 1;}#sk-container-id-2 div.sk-label:hover label.sk-toggleable__label {background-color: #d4ebff;}#sk-container-id-2 div.sk-serial::before {content: \"\";position: absolute;border-left: 1px solid gray;box-sizing: border-box;top: 0;bottom: 0;left: 50%;z-index: 0;}#sk-container-id-2 div.sk-serial {display: flex;flex-direction: column;align-items: center;background-color: white;padding-right: 0.2em;padding-left: 0.2em;position: relative;}#sk-container-id-2 div.sk-item {position: relative;z-index: 1;}#sk-container-id-2 div.sk-parallel {display: flex;align-items: stretch;justify-content: center;background-color: white;position: relative;}#sk-container-id-2 div.sk-item::before, #sk-container-id-2 div.sk-parallel-item::before {content: \"\";position: absolute;border-left: 1px solid gray;box-sizing: border-box;top: 0;bottom: 0;left: 50%;z-index: -1;}#sk-container-id-2 div.sk-parallel-item {display: flex;flex-direction: column;z-index: 1;position: relative;background-color: white;}#sk-container-id-2 div.sk-parallel-item:first-child::after {align-self: flex-end;width: 50%;}#sk-container-id-2 div.sk-parallel-item:last-child::after {align-self: flex-start;width: 50%;}#sk-container-id-2 div.sk-parallel-item:only-child::after {width: 0;}#sk-container-id-2 div.sk-dashed-wrapped {border: 1px dashed gray;margin: 0 0.4em 0.5em 0.4em;box-sizing: border-box;padding-bottom: 0.4em;background-color: white;}#sk-container-id-2 div.sk-label label {font-family: monospace;font-weight: bold;display: inline-block;line-height: 1.2em;}#sk-container-id-2 div.sk-label-container {text-align: center;}#sk-container-id-2 div.sk-container {/* jupyter's `normalize.less` sets `[hidden] { display: none; }` but bootstrap.min.css set `[hidden] { display: none !important; }` so we also need the `!important` here to be able to override the default hidden behavior on the sphinx rendered scikit-learn.org. See: https://github.com/scikit-learn/scikit-learn/issues/21755 */display: inline-block !important;position: relative;}#sk-container-id-2 div.sk-text-repr-fallback {display: none;}</style><div id=\"sk-container-id-2\" class=\"sk-top-container\"><div class=\"sk-text-repr-fallback\"><pre>RandomForestRegressor(max_depth=11, n_estimators=46, random_state=1984)</pre><b>In a Jupyter environment, please rerun this cell to show the HTML representation or trust the notebook. <br />On GitHub, the HTML representation is unable to render, please try loading this page with nbviewer.org.</b></div><div class=\"sk-container\" hidden><div class=\"sk-item\"><div class=\"sk-estimator sk-toggleable\"><input class=\"sk-toggleable__control sk-hidden--visually\" id=\"sk-estimator-id-2\" type=\"checkbox\" checked><label for=\"sk-estimator-id-2\" class=\"sk-toggleable__label sk-toggleable__label-arrow\">RandomForestRegressor</label><div class=\"sk-toggleable__content\"><pre>RandomForestRegressor(max_depth=11, n_estimators=46, random_state=1984)</pre></div></div></div></div></div>"
      ],
      "text/plain": [
       "RandomForestRegressor(max_depth=11, n_estimators=46, random_state=1984)"
      ]
     },
     "execution_count": 111,
     "metadata": {},
     "output_type": "execute_result"
    }
   ],
   "source": [
    "%%time\n",
    "rfr2 = RandomForestRegressor(random_state=1984, n_estimators=46, max_depth=11)\n",
    "rfr2.fit(features_train2, target_train2)"
   ]
  },
  {
   "cell_type": "markdown",
   "metadata": {},
   "source": [
    "Да, относительно долго считает, но rmse 1810 евро на валидационной выборке, что ощутимо меньше, чем у регрессии. Ну и чтобы отдельно посчитать скорость предсказания, давай это сделаем в отдельной ячейке"
   ]
  },
  {
   "cell_type": "code",
   "execution_count": 112,
   "metadata": {},
   "outputs": [
    {
     "name": "stdout",
     "output_type": "stream",
     "text": [
      "1810.1906463691469\n",
      "CPU times: user 275 ms, sys: 3.3 ms, total: 278 ms\n",
      "Wall time: 278 ms\n"
     ]
    }
   ],
   "source": [
    "%%time\n",
    "print(mean_squared_error(target_valid2, rfr2.predict(features_valid2))**0.5)"
   ]
  },
  {
   "cell_type": "markdown",
   "metadata": {},
   "source": [
    "зато предсказания считает моментально))"
   ]
  },
  {
   "cell_type": "markdown",
   "metadata": {},
   "source": [
    "Отдельно хочу оговориться, что gridsearch мы не используем, поскольку согласно заданию модель должна обучаться быстро, а на таком объеме данных у gridsearch это займет порядка часа-двух, так что эту возможность мы исключили заранее. "
   ]
  },
  {
   "cell_type": "markdown",
   "metadata": {},
   "source": [
    "### Модель LightGBM"
   ]
  },
  {
   "cell_type": "code",
   "execution_count": 113,
   "metadata": {},
   "outputs": [],
   "source": [
    "target3 = data['price']\n",
    "features3 = data.drop(['price'] , axis=1)"
   ]
  },
  {
   "cell_type": "code",
   "execution_count": 114,
   "metadata": {},
   "outputs": [],
   "source": [
    "categorical_cols = ['vehicletype', 'gearbox', 'model', 'regmonth', 'fueltype', 'brand', 'repaired']\n",
    "#cols = ['vehicletype', 'gearbox', 'model', 'regmonth', 'fueltype', 'brand', 'repaired']\n",
    "#categorical_cols = ['vehicletype', 'gearbox', 'model', 'fueltype', 'brand', 'repaired']"
   ]
  },
  {
   "cell_type": "code",
   "execution_count": 115,
   "metadata": {},
   "outputs": [],
   "source": [
    "for col in categorical_cols:\n",
    "    features3[col] = pd.Categorical(features3[col])"
   ]
  },
  {
   "cell_type": "code",
   "execution_count": 116,
   "metadata": {},
   "outputs": [
    {
     "name": "stdout",
     "output_type": "stream",
     "text": [
      "(153264, 11)\n",
      "(51088, 11)\n",
      "(153264,)\n",
      "(51088,)\n"
     ]
    }
   ],
   "source": [
    "features_train3, features_test3, target_train3, target_test3 = train_test_split(\n",
    "    features3, target3, test_size=0.25, random_state=12345)\n",
    "features_train3, features_valid3, target_train3, target_valid3 = train_test_split(\n",
    "    features_train3, target_train3, test_size=0.25, random_state=12345)\n",
    "print(features_train3.shape)\n",
    "print(features_valid3.shape)\n",
    "print(target_train3.shape)\n",
    "print(target_valid3.shape)"
   ]
  },
  {
   "cell_type": "code",
   "execution_count": 118,
   "metadata": {},
   "outputs": [
    {
     "data": {
      "text/html": [
       "<div>\n",
       "<style scoped>\n",
       "    .dataframe tbody tr th:only-of-type {\n",
       "        vertical-align: middle;\n",
       "    }\n",
       "\n",
       "    .dataframe tbody tr th {\n",
       "        vertical-align: top;\n",
       "    }\n",
       "\n",
       "    .dataframe thead th {\n",
       "        text-align: right;\n",
       "    }\n",
       "</style>\n",
       "<table border=\"1\" class=\"dataframe\">\n",
       "  <thead>\n",
       "    <tr style=\"text-align: right;\">\n",
       "      <th></th>\n",
       "      <th>vehicletype</th>\n",
       "      <th>regyear</th>\n",
       "      <th>gearbox</th>\n",
       "      <th>power</th>\n",
       "      <th>model</th>\n",
       "      <th>kilometer</th>\n",
       "      <th>regmonth</th>\n",
       "      <th>fueltype</th>\n",
       "      <th>brand</th>\n",
       "      <th>repaired</th>\n",
       "      <th>age</th>\n",
       "    </tr>\n",
       "  </thead>\n",
       "  <tbody>\n",
       "    <tr>\n",
       "      <th>231556</th>\n",
       "      <td>small</td>\n",
       "      <td>2000</td>\n",
       "      <td>manual</td>\n",
       "      <td>60</td>\n",
       "      <td>2_reihe</td>\n",
       "      <td>150000</td>\n",
       "      <td>5</td>\n",
       "      <td>petrol</td>\n",
       "      <td>peugeot</td>\n",
       "      <td>yes</td>\n",
       "      <td>16</td>\n",
       "    </tr>\n",
       "    <tr>\n",
       "      <th>185985</th>\n",
       "      <td>small</td>\n",
       "      <td>1993</td>\n",
       "      <td>manual</td>\n",
       "      <td>60</td>\n",
       "      <td>golf</td>\n",
       "      <td>150000</td>\n",
       "      <td>9</td>\n",
       "      <td>petrol</td>\n",
       "      <td>volkswagen</td>\n",
       "      <td>no</td>\n",
       "      <td>23</td>\n",
       "    </tr>\n",
       "    <tr>\n",
       "      <th>15125</th>\n",
       "      <td>wagon</td>\n",
       "      <td>2005</td>\n",
       "      <td>manual</td>\n",
       "      <td>102</td>\n",
       "      <td>octavia</td>\n",
       "      <td>150000</td>\n",
       "      <td>5</td>\n",
       "      <td>petrol</td>\n",
       "      <td>skoda</td>\n",
       "      <td>no</td>\n",
       "      <td>11</td>\n",
       "    </tr>\n",
       "    <tr>\n",
       "      <th>157947</th>\n",
       "      <td>bus</td>\n",
       "      <td>2009</td>\n",
       "      <td>manual</td>\n",
       "      <td>105</td>\n",
       "      <td>touran</td>\n",
       "      <td>150000</td>\n",
       "      <td>1</td>\n",
       "      <td>gasoline</td>\n",
       "      <td>volkswagen</td>\n",
       "      <td>no</td>\n",
       "      <td>7</td>\n",
       "    </tr>\n",
       "    <tr>\n",
       "      <th>267700</th>\n",
       "      <td>coupe</td>\n",
       "      <td>1995</td>\n",
       "      <td>manual</td>\n",
       "      <td>139</td>\n",
       "      <td>other</td>\n",
       "      <td>150000</td>\n",
       "      <td>12</td>\n",
       "      <td>petrol</td>\n",
       "      <td>fiat</td>\n",
       "      <td>no</td>\n",
       "      <td>21</td>\n",
       "    </tr>\n",
       "    <tr>\n",
       "      <th>...</th>\n",
       "      <td>...</td>\n",
       "      <td>...</td>\n",
       "      <td>...</td>\n",
       "      <td>...</td>\n",
       "      <td>...</td>\n",
       "      <td>...</td>\n",
       "      <td>...</td>\n",
       "      <td>...</td>\n",
       "      <td>...</td>\n",
       "      <td>...</td>\n",
       "      <td>...</td>\n",
       "    </tr>\n",
       "    <tr>\n",
       "      <th>1895</th>\n",
       "      <td>small</td>\n",
       "      <td>1998</td>\n",
       "      <td>manual</td>\n",
       "      <td>60</td>\n",
       "      <td>2_reihe</td>\n",
       "      <td>100000</td>\n",
       "      <td>11</td>\n",
       "      <td>petrol</td>\n",
       "      <td>peugeot</td>\n",
       "      <td>no</td>\n",
       "      <td>18</td>\n",
       "    </tr>\n",
       "    <tr>\n",
       "      <th>236269</th>\n",
       "      <td>wagon</td>\n",
       "      <td>2007</td>\n",
       "      <td>manual</td>\n",
       "      <td>115</td>\n",
       "      <td>passat</td>\n",
       "      <td>150000</td>\n",
       "      <td>1</td>\n",
       "      <td>petrol</td>\n",
       "      <td>volkswagen</td>\n",
       "      <td>no</td>\n",
       "      <td>9</td>\n",
       "    </tr>\n",
       "    <tr>\n",
       "      <th>254949</th>\n",
       "      <td>convertible</td>\n",
       "      <td>2005</td>\n",
       "      <td>auto</td>\n",
       "      <td>163</td>\n",
       "      <td>slk</td>\n",
       "      <td>125000</td>\n",
       "      <td>1</td>\n",
       "      <td>petrol</td>\n",
       "      <td>mercedes_benz</td>\n",
       "      <td>no</td>\n",
       "      <td>11</td>\n",
       "    </tr>\n",
       "    <tr>\n",
       "      <th>270134</th>\n",
       "      <td>coupe</td>\n",
       "      <td>1998</td>\n",
       "      <td>auto</td>\n",
       "      <td>110</td>\n",
       "      <td>golf</td>\n",
       "      <td>150000</td>\n",
       "      <td>7</td>\n",
       "      <td>gasoline</td>\n",
       "      <td>volkswagen</td>\n",
       "      <td>no</td>\n",
       "      <td>18</td>\n",
       "    </tr>\n",
       "    <tr>\n",
       "      <th>18421</th>\n",
       "      <td>wagon</td>\n",
       "      <td>2007</td>\n",
       "      <td>manual</td>\n",
       "      <td>140</td>\n",
       "      <td>a4</td>\n",
       "      <td>150000</td>\n",
       "      <td>11</td>\n",
       "      <td>gasoline</td>\n",
       "      <td>audi</td>\n",
       "      <td>no</td>\n",
       "      <td>9</td>\n",
       "    </tr>\n",
       "  </tbody>\n",
       "</table>\n",
       "<p>153264 rows × 11 columns</p>\n",
       "</div>"
      ],
      "text/plain": [
       "        vehicletype  regyear gearbox  power    model  kilometer regmonth  \\\n",
       "231556        small     2000  manual     60  2_reihe     150000        5   \n",
       "185985        small     1993  manual     60     golf     150000        9   \n",
       "15125         wagon     2005  manual    102  octavia     150000        5   \n",
       "157947          bus     2009  manual    105   touran     150000        1   \n",
       "267700        coupe     1995  manual    139    other     150000       12   \n",
       "...             ...      ...     ...    ...      ...        ...      ...   \n",
       "1895          small     1998  manual     60  2_reihe     100000       11   \n",
       "236269        wagon     2007  manual    115   passat     150000        1   \n",
       "254949  convertible     2005    auto    163      slk     125000        1   \n",
       "270134        coupe     1998    auto    110     golf     150000        7   \n",
       "18421         wagon     2007  manual    140       a4     150000       11   \n",
       "\n",
       "        fueltype          brand repaired  age  \n",
       "231556    petrol        peugeot      yes   16  \n",
       "185985    petrol     volkswagen       no   23  \n",
       "15125     petrol          skoda       no   11  \n",
       "157947  gasoline     volkswagen       no    7  \n",
       "267700    petrol           fiat       no   21  \n",
       "...          ...            ...      ...  ...  \n",
       "1895      petrol        peugeot       no   18  \n",
       "236269    petrol     volkswagen       no    9  \n",
       "254949    petrol  mercedes_benz       no   11  \n",
       "270134  gasoline     volkswagen       no   18  \n",
       "18421   gasoline           audi       no    9  \n",
       "\n",
       "[153264 rows x 11 columns]"
      ]
     },
     "metadata": {},
     "output_type": "display_data"
    }
   ],
   "source": [
    "display(features_train3)"
   ]
  },
  {
   "cell_type": "code",
   "execution_count": 119,
   "metadata": {
    "scrolled": true
   },
   "outputs": [
    {
     "name": "stdout",
     "output_type": "stream",
     "text": [
      "<class 'pandas.core.frame.DataFrame'>\n",
      "Int64Index: 153264 entries, 231556 to 18421\n",
      "Data columns (total 11 columns):\n",
      " #   Column       Non-Null Count   Dtype   \n",
      "---  ------       --------------   -----   \n",
      " 0   vehicletype  153264 non-null  category\n",
      " 1   regyear      153264 non-null  int64   \n",
      " 2   gearbox      153264 non-null  category\n",
      " 3   power        153264 non-null  int64   \n",
      " 4   model        153264 non-null  category\n",
      " 5   kilometer    153264 non-null  int64   \n",
      " 6   regmonth     153264 non-null  category\n",
      " 7   fueltype     153264 non-null  category\n",
      " 8   brand        153264 non-null  category\n",
      " 9   repaired     153264 non-null  category\n",
      " 10  age          153264 non-null  int64   \n",
      "dtypes: category(7), int64(4)\n",
      "memory usage: 7.0 MB\n",
      "None\n"
     ]
    }
   ],
   "source": [
    "print(features_train3.info())"
   ]
  },
  {
   "cell_type": "code",
   "execution_count": 124,
   "metadata": {},
   "outputs": [],
   "source": [
    "categorical_features = [0, 1, 2, 4, 6, 7, 8, 9]"
   ]
  },
  {
   "cell_type": "code",
   "execution_count": 125,
   "metadata": {},
   "outputs": [],
   "source": [
    "train_data = lgb.Dataset(features_train3, label=target_train3, categorical_feature=categorical_features, free_raw_data=False)\n",
    "valid_data = lgb.Dataset(features_valid3, label=target_valid3, categorical_feature=categorical_features, free_raw_data=False)\n",
    "test_data = lgb.Dataset(features_test3, label=target_test3, categorical_feature=categorical_features, free_raw_data=False)"
   ]
  },
  {
   "cell_type": "code",
   "execution_count": 126,
   "metadata": {},
   "outputs": [],
   "source": [
    "#print(train_data)"
   ]
  },
  {
   "cell_type": "code",
   "execution_count": 127,
   "metadata": {
    "scrolled": true
   },
   "outputs": [
    {
     "name": "stderr",
     "output_type": "stream",
     "text": [
      "/Users/BrightFuture/opt/anaconda3/envs/word2vec_env/lib/python3.8/site-packages/lightgbm/engine.py:181: UserWarning: 'early_stopping_rounds' argument is deprecated and will be removed in a future release of LightGBM. Pass 'early_stopping()' callback via 'callbacks' argument instead.\n",
      "  _log_warning(\"'early_stopping_rounds' argument is deprecated and will be removed in a future release of LightGBM. \"\n",
      "/Users/BrightFuture/opt/anaconda3/envs/word2vec_env/lib/python3.8/site-packages/lightgbm/basic.py:2065: UserWarning: Using categorical_feature in Dataset.\n",
      "  _log_warning('Using categorical_feature in Dataset.')\n",
      "/Users/BrightFuture/opt/anaconda3/envs/word2vec_env/lib/python3.8/site-packages/lightgbm/basic.py:1780: UserWarning: Overriding the parameters from Reference Dataset.\n",
      "  _log_warning('Overriding the parameters from Reference Dataset.')\n",
      "/Users/BrightFuture/opt/anaconda3/envs/word2vec_env/lib/python3.8/site-packages/lightgbm/basic.py:1513: UserWarning: categorical_column in param dict is overridden.\n",
      "  _log_warning(f'{cat_alias} in param dict is overridden.')\n"
     ]
    },
    {
     "name": "stdout",
     "output_type": "stream",
     "text": [
      "[1]\ttraining's rmse: 4457.3\tvalid_1's rmse: 4490.61\n",
      "Training until validation scores don't improve for 100 rounds\n",
      "[2]\ttraining's rmse: 4292.14\tvalid_1's rmse: 4324.67\n",
      "[3]\ttraining's rmse: 4137.27\tvalid_1's rmse: 4169.19\n",
      "[4]\ttraining's rmse: 3989.93\tvalid_1's rmse: 4020.92\n",
      "[5]\ttraining's rmse: 3852.88\tvalid_1's rmse: 3883.11\n",
      "[6]\ttraining's rmse: 3723.97\tvalid_1's rmse: 3753.77\n",
      "[7]\ttraining's rmse: 3601.27\tvalid_1's rmse: 3630.29\n",
      "[8]\ttraining's rmse: 3485.45\tvalid_1's rmse: 3513.42\n",
      "[9]\ttraining's rmse: 3377.91\tvalid_1's rmse: 3405.54\n",
      "[10]\ttraining's rmse: 3274.68\tvalid_1's rmse: 3302\n",
      "[11]\ttraining's rmse: 3181.11\tvalid_1's rmse: 3208.27\n",
      "[12]\ttraining's rmse: 3090.9\tvalid_1's rmse: 3117.51\n",
      "[13]\ttraining's rmse: 3005.75\tvalid_1's rmse: 3032.02\n",
      "[14]\ttraining's rmse: 2926.41\tvalid_1's rmse: 2952.25\n",
      "[15]\ttraining's rmse: 2851.68\tvalid_1's rmse: 2877.21\n",
      "[16]\ttraining's rmse: 2782.95\tvalid_1's rmse: 2808.44\n",
      "[17]\ttraining's rmse: 2716.66\tvalid_1's rmse: 2741.9\n",
      "[18]\ttraining's rmse: 2653.06\tvalid_1's rmse: 2678.17\n",
      "[19]\ttraining's rmse: 2594.08\tvalid_1's rmse: 2618.99\n",
      "[20]\ttraining's rmse: 2539.39\tvalid_1's rmse: 2564.4\n",
      "[21]\ttraining's rmse: 2486.71\tvalid_1's rmse: 2511.41\n",
      "[22]\ttraining's rmse: 2438.09\tvalid_1's rmse: 2462.52\n",
      "[23]\ttraining's rmse: 2391.6\tvalid_1's rmse: 2416.06\n",
      "[24]\ttraining's rmse: 2348.94\tvalid_1's rmse: 2373.33\n",
      "[25]\ttraining's rmse: 2309.31\tvalid_1's rmse: 2333.96\n",
      "[26]\ttraining's rmse: 2270.54\tvalid_1's rmse: 2295.34\n",
      "[27]\ttraining's rmse: 2235.3\tvalid_1's rmse: 2260.05\n",
      "[28]\ttraining's rmse: 2200.98\tvalid_1's rmse: 2225.79\n",
      "[29]\ttraining's rmse: 2169.37\tvalid_1's rmse: 2194.17\n",
      "[30]\ttraining's rmse: 2139.27\tvalid_1's rmse: 2164.19\n",
      "[31]\ttraining's rmse: 2111.79\tvalid_1's rmse: 2136.63\n",
      "[32]\ttraining's rmse: 2085.83\tvalid_1's rmse: 2110.78\n",
      "[33]\ttraining's rmse: 2061.36\tvalid_1's rmse: 2086.61\n",
      "[34]\ttraining's rmse: 2039.04\tvalid_1's rmse: 2064.47\n",
      "[35]\ttraining's rmse: 2016.8\tvalid_1's rmse: 2042.29\n",
      "[36]\ttraining's rmse: 1996.53\tvalid_1's rmse: 2022.05\n",
      "[37]\ttraining's rmse: 1977.88\tvalid_1's rmse: 2003.37\n",
      "[38]\ttraining's rmse: 1959.21\tvalid_1's rmse: 1984.48\n",
      "[39]\ttraining's rmse: 1942.64\tvalid_1's rmse: 1968.04\n",
      "[40]\ttraining's rmse: 1926.46\tvalid_1's rmse: 1951.75\n",
      "[41]\ttraining's rmse: 1911.06\tvalid_1's rmse: 1936.75\n",
      "[42]\ttraining's rmse: 1897.3\tvalid_1's rmse: 1923.12\n",
      "[43]\ttraining's rmse: 1883.82\tvalid_1's rmse: 1909.87\n",
      "[44]\ttraining's rmse: 1870.89\tvalid_1's rmse: 1897.08\n",
      "[45]\ttraining's rmse: 1858.85\tvalid_1's rmse: 1885.2\n",
      "[46]\ttraining's rmse: 1847.62\tvalid_1's rmse: 1874.31\n",
      "[47]\ttraining's rmse: 1837.07\tvalid_1's rmse: 1864.05\n",
      "[48]\ttraining's rmse: 1827.32\tvalid_1's rmse: 1854.59\n",
      "[49]\ttraining's rmse: 1817.62\tvalid_1's rmse: 1845.24\n",
      "[50]\ttraining's rmse: 1808.49\tvalid_1's rmse: 1836.41\n",
      "[51]\ttraining's rmse: 1799.83\tvalid_1's rmse: 1828.19\n",
      "[52]\ttraining's rmse: 1791.88\tvalid_1's rmse: 1820.52\n",
      "[53]\ttraining's rmse: 1784.09\tvalid_1's rmse: 1813.09\n",
      "[54]\ttraining's rmse: 1776.89\tvalid_1's rmse: 1806.27\n",
      "[55]\ttraining's rmse: 1769.93\tvalid_1's rmse: 1799.73\n",
      "[56]\ttraining's rmse: 1762.88\tvalid_1's rmse: 1792.85\n",
      "[57]\ttraining's rmse: 1756.64\tvalid_1's rmse: 1786.92\n",
      "[58]\ttraining's rmse: 1750.8\tvalid_1's rmse: 1781.36\n",
      "[59]\ttraining's rmse: 1744.76\tvalid_1's rmse: 1775.86\n",
      "[60]\ttraining's rmse: 1739.27\tvalid_1's rmse: 1770.98\n",
      "[61]\ttraining's rmse: 1733.9\tvalid_1's rmse: 1766.01\n",
      "[62]\ttraining's rmse: 1728.41\tvalid_1's rmse: 1760.81\n",
      "[63]\ttraining's rmse: 1723.82\tvalid_1's rmse: 1756.4\n",
      "[64]\ttraining's rmse: 1718.6\tvalid_1's rmse: 1751.4\n",
      "[65]\ttraining's rmse: 1713.96\tvalid_1's rmse: 1747.18\n",
      "[66]\ttraining's rmse: 1709.71\tvalid_1's rmse: 1743.3\n",
      "[67]\ttraining's rmse: 1705.66\tvalid_1's rmse: 1739.57\n",
      "[68]\ttraining's rmse: 1701.75\tvalid_1's rmse: 1735.91\n",
      "[69]\ttraining's rmse: 1698.19\tvalid_1's rmse: 1732.75\n",
      "[70]\ttraining's rmse: 1694.48\tvalid_1's rmse: 1729.34\n",
      "[71]\ttraining's rmse: 1690.67\tvalid_1's rmse: 1726.04\n",
      "[72]\ttraining's rmse: 1687.05\tvalid_1's rmse: 1722.77\n",
      "[73]\ttraining's rmse: 1683.77\tvalid_1's rmse: 1719.8\n",
      "[74]\ttraining's rmse: 1680.87\tvalid_1's rmse: 1717.18\n",
      "[75]\ttraining's rmse: 1677.58\tvalid_1's rmse: 1714.22\n",
      "[76]\ttraining's rmse: 1674.7\tvalid_1's rmse: 1711.82\n",
      "[77]\ttraining's rmse: 1671.69\tvalid_1's rmse: 1709.17\n",
      "[78]\ttraining's rmse: 1668.85\tvalid_1's rmse: 1706.81\n",
      "[79]\ttraining's rmse: 1666.25\tvalid_1's rmse: 1704.56\n",
      "[80]\ttraining's rmse: 1663.54\tvalid_1's rmse: 1702.02\n",
      "[81]\ttraining's rmse: 1660.62\tvalid_1's rmse: 1699.73\n",
      "[82]\ttraining's rmse: 1657.93\tvalid_1's rmse: 1697.55\n",
      "[83]\ttraining's rmse: 1655.67\tvalid_1's rmse: 1695.5\n",
      "[84]\ttraining's rmse: 1653.68\tvalid_1's rmse: 1693.87\n",
      "[85]\ttraining's rmse: 1651.32\tvalid_1's rmse: 1691.71\n",
      "[86]\ttraining's rmse: 1649.28\tvalid_1's rmse: 1690.03\n",
      "[87]\ttraining's rmse: 1647.3\tvalid_1's rmse: 1688.41\n",
      "[88]\ttraining's rmse: 1645.52\tvalid_1's rmse: 1686.98\n",
      "[89]\ttraining's rmse: 1643.69\tvalid_1's rmse: 1685.43\n",
      "[90]\ttraining's rmse: 1641.7\tvalid_1's rmse: 1683.67\n",
      "[91]\ttraining's rmse: 1639.98\tvalid_1's rmse: 1682.29\n",
      "[92]\ttraining's rmse: 1637.84\tvalid_1's rmse: 1680.49\n",
      "[93]\ttraining's rmse: 1636.34\tvalid_1's rmse: 1679.24\n",
      "[94]\ttraining's rmse: 1634.82\tvalid_1's rmse: 1678.06\n",
      "[95]\ttraining's rmse: 1633.04\tvalid_1's rmse: 1676.57\n",
      "[96]\ttraining's rmse: 1631.27\tvalid_1's rmse: 1675.2\n",
      "[97]\ttraining's rmse: 1629.6\tvalid_1's rmse: 1673.84\n",
      "[98]\ttraining's rmse: 1628.03\tvalid_1's rmse: 1672.68\n",
      "[99]\ttraining's rmse: 1626.64\tvalid_1's rmse: 1671.51\n",
      "[100]\ttraining's rmse: 1625.33\tvalid_1's rmse: 1670.62\n",
      "[101]\ttraining's rmse: 1624.17\tvalid_1's rmse: 1669.74\n",
      "[102]\ttraining's rmse: 1623\tvalid_1's rmse: 1669.01\n",
      "[103]\ttraining's rmse: 1621.78\tvalid_1's rmse: 1668.06\n",
      "[104]\ttraining's rmse: 1620.01\tvalid_1's rmse: 1666.73\n",
      "[105]\ttraining's rmse: 1618.96\tvalid_1's rmse: 1666\n",
      "[106]\ttraining's rmse: 1617.8\tvalid_1's rmse: 1665.12\n",
      "[107]\ttraining's rmse: 1616.55\tvalid_1's rmse: 1664.18\n",
      "[108]\ttraining's rmse: 1615.35\tvalid_1's rmse: 1663.15\n",
      "[109]\ttraining's rmse: 1614.01\tvalid_1's rmse: 1661.95\n",
      "[110]\ttraining's rmse: 1612.86\tvalid_1's rmse: 1661.18\n",
      "[111]\ttraining's rmse: 1611.73\tvalid_1's rmse: 1660.37\n",
      "[112]\ttraining's rmse: 1610.75\tvalid_1's rmse: 1659.68\n",
      "[113]\ttraining's rmse: 1609.83\tvalid_1's rmse: 1659.22\n",
      "[114]\ttraining's rmse: 1608.74\tvalid_1's rmse: 1658.41\n",
      "[115]\ttraining's rmse: 1607.76\tvalid_1's rmse: 1657.75\n",
      "[116]\ttraining's rmse: 1606.84\tvalid_1's rmse: 1657.02\n",
      "[117]\ttraining's rmse: 1605.79\tvalid_1's rmse: 1656.15\n",
      "[118]\ttraining's rmse: 1604.76\tvalid_1's rmse: 1655.4\n",
      "[119]\ttraining's rmse: 1603.36\tvalid_1's rmse: 1654.56\n",
      "[120]\ttraining's rmse: 1602.56\tvalid_1's rmse: 1654.11\n",
      "[121]\ttraining's rmse: 1601.05\tvalid_1's rmse: 1652.81\n",
      "[122]\ttraining's rmse: 1599.68\tvalid_1's rmse: 1651.83\n",
      "[123]\ttraining's rmse: 1598.3\tvalid_1's rmse: 1650.71\n",
      "[124]\ttraining's rmse: 1597.35\tvalid_1's rmse: 1649.92\n",
      "[125]\ttraining's rmse: 1596.61\tvalid_1's rmse: 1649.44\n",
      "[126]\ttraining's rmse: 1595.49\tvalid_1's rmse: 1648.62\n",
      "[127]\ttraining's rmse: 1594.62\tvalid_1's rmse: 1648.03\n",
      "[128]\ttraining's rmse: 1593.5\tvalid_1's rmse: 1647.33\n",
      "[129]\ttraining's rmse: 1592.63\tvalid_1's rmse: 1646.7\n",
      "[130]\ttraining's rmse: 1591.55\tvalid_1's rmse: 1645.89\n",
      "[131]\ttraining's rmse: 1590.68\tvalid_1's rmse: 1645.1\n",
      "[132]\ttraining's rmse: 1589.61\tvalid_1's rmse: 1644.24\n",
      "[133]\ttraining's rmse: 1588.51\tvalid_1's rmse: 1643.47\n",
      "[134]\ttraining's rmse: 1587.5\tvalid_1's rmse: 1642.76\n",
      "[135]\ttraining's rmse: 1586.47\tvalid_1's rmse: 1642.1\n",
      "[136]\ttraining's rmse: 1585.51\tvalid_1's rmse: 1641.41\n",
      "[137]\ttraining's rmse: 1584.78\tvalid_1's rmse: 1641.08\n",
      "[138]\ttraining's rmse: 1583.99\tvalid_1's rmse: 1640.58\n",
      "[139]\ttraining's rmse: 1583.34\tvalid_1's rmse: 1640.2\n",
      "[140]\ttraining's rmse: 1582.59\tvalid_1's rmse: 1639.69\n",
      "[141]\ttraining's rmse: 1581.63\tvalid_1's rmse: 1639.09\n",
      "[142]\ttraining's rmse: 1580.56\tvalid_1's rmse: 1638.24\n",
      "[143]\ttraining's rmse: 1579.6\tvalid_1's rmse: 1637.63\n",
      "[144]\ttraining's rmse: 1578.88\tvalid_1's rmse: 1637.16\n",
      "[145]\ttraining's rmse: 1578.04\tvalid_1's rmse: 1636.65\n",
      "[146]\ttraining's rmse: 1577.44\tvalid_1's rmse: 1636.18\n",
      "[147]\ttraining's rmse: 1576.68\tvalid_1's rmse: 1635.83\n",
      "[148]\ttraining's rmse: 1576.07\tvalid_1's rmse: 1635.45\n",
      "[149]\ttraining's rmse: 1575.05\tvalid_1's rmse: 1634.69\n",
      "[150]\ttraining's rmse: 1574.51\tvalid_1's rmse: 1634.38\n",
      "[151]\ttraining's rmse: 1573.64\tvalid_1's rmse: 1633.82\n",
      "[152]\ttraining's rmse: 1572.91\tvalid_1's rmse: 1633.41\n",
      "[153]\ttraining's rmse: 1572.1\tvalid_1's rmse: 1633.04\n",
      "[154]\ttraining's rmse: 1571.43\tvalid_1's rmse: 1632.64\n",
      "[155]\ttraining's rmse: 1570.7\tvalid_1's rmse: 1632.16\n",
      "[156]\ttraining's rmse: 1570.03\tvalid_1's rmse: 1631.84\n",
      "[157]\ttraining's rmse: 1569.3\tvalid_1's rmse: 1631.49\n",
      "[158]\ttraining's rmse: 1568.68\tvalid_1's rmse: 1631.19\n",
      "[159]\ttraining's rmse: 1568.02\tvalid_1's rmse: 1630.83\n",
      "[160]\ttraining's rmse: 1567.46\tvalid_1's rmse: 1630.51\n",
      "[161]\ttraining's rmse: 1566.85\tvalid_1's rmse: 1630.16\n",
      "[162]\ttraining's rmse: 1566.19\tvalid_1's rmse: 1629.67\n",
      "[163]\ttraining's rmse: 1565.67\tvalid_1's rmse: 1629.42\n",
      "[164]\ttraining's rmse: 1564.86\tvalid_1's rmse: 1628.86\n"
     ]
    },
    {
     "name": "stdout",
     "output_type": "stream",
     "text": [
      "[165]\ttraining's rmse: 1564.09\tvalid_1's rmse: 1628.38\n",
      "[166]\ttraining's rmse: 1563.57\tvalid_1's rmse: 1628.16\n",
      "[167]\ttraining's rmse: 1563.11\tvalid_1's rmse: 1627.82\n",
      "[168]\ttraining's rmse: 1562.24\tvalid_1's rmse: 1627.29\n",
      "[169]\ttraining's rmse: 1561.7\tvalid_1's rmse: 1626.97\n",
      "[170]\ttraining's rmse: 1561\tvalid_1's rmse: 1626.56\n",
      "[171]\ttraining's rmse: 1560.48\tvalid_1's rmse: 1626.22\n",
      "[172]\ttraining's rmse: 1559.95\tvalid_1's rmse: 1625.85\n",
      "[173]\ttraining's rmse: 1559.49\tvalid_1's rmse: 1625.65\n",
      "[174]\ttraining's rmse: 1559.06\tvalid_1's rmse: 1625.43\n",
      "[175]\ttraining's rmse: 1558.26\tvalid_1's rmse: 1624.92\n",
      "[176]\ttraining's rmse: 1557.8\tvalid_1's rmse: 1624.64\n",
      "[177]\ttraining's rmse: 1557.09\tvalid_1's rmse: 1624.21\n",
      "[178]\ttraining's rmse: 1556.53\tvalid_1's rmse: 1623.82\n",
      "[179]\ttraining's rmse: 1555.98\tvalid_1's rmse: 1623.54\n",
      "[180]\ttraining's rmse: 1555.41\tvalid_1's rmse: 1623.04\n",
      "[181]\ttraining's rmse: 1554.79\tvalid_1's rmse: 1622.72\n",
      "[182]\ttraining's rmse: 1554.12\tvalid_1's rmse: 1622.33\n",
      "[183]\ttraining's rmse: 1553.57\tvalid_1's rmse: 1622.02\n",
      "[184]\ttraining's rmse: 1553.01\tvalid_1's rmse: 1621.76\n",
      "[185]\ttraining's rmse: 1552.46\tvalid_1's rmse: 1621.52\n",
      "[186]\ttraining's rmse: 1551.98\tvalid_1's rmse: 1621.17\n",
      "[187]\ttraining's rmse: 1551.19\tvalid_1's rmse: 1620.6\n",
      "[188]\ttraining's rmse: 1550.68\tvalid_1's rmse: 1620.26\n",
      "[189]\ttraining's rmse: 1550.22\tvalid_1's rmse: 1619.99\n",
      "[190]\ttraining's rmse: 1549.88\tvalid_1's rmse: 1619.88\n",
      "[191]\ttraining's rmse: 1549.38\tvalid_1's rmse: 1619.66\n",
      "[192]\ttraining's rmse: 1548.74\tvalid_1's rmse: 1619.28\n",
      "[193]\ttraining's rmse: 1548.25\tvalid_1's rmse: 1618.9\n",
      "[194]\ttraining's rmse: 1547.84\tvalid_1's rmse: 1618.7\n",
      "[195]\ttraining's rmse: 1547.41\tvalid_1's rmse: 1618.43\n",
      "[196]\ttraining's rmse: 1546.75\tvalid_1's rmse: 1617.91\n",
      "[197]\ttraining's rmse: 1546.14\tvalid_1's rmse: 1617.45\n",
      "[198]\ttraining's rmse: 1545.51\tvalid_1's rmse: 1617.09\n",
      "[199]\ttraining's rmse: 1545.02\tvalid_1's rmse: 1616.77\n",
      "[200]\ttraining's rmse: 1544.48\tvalid_1's rmse: 1616.47\n",
      "[201]\ttraining's rmse: 1543.91\tvalid_1's rmse: 1616.14\n",
      "[202]\ttraining's rmse: 1543.48\tvalid_1's rmse: 1615.86\n",
      "[203]\ttraining's rmse: 1542.99\tvalid_1's rmse: 1615.55\n",
      "[204]\ttraining's rmse: 1542.49\tvalid_1's rmse: 1615.21\n",
      "[205]\ttraining's rmse: 1542.21\tvalid_1's rmse: 1615.09\n",
      "[206]\ttraining's rmse: 1541.85\tvalid_1's rmse: 1614.83\n",
      "[207]\ttraining's rmse: 1541.25\tvalid_1's rmse: 1614.45\n",
      "[208]\ttraining's rmse: 1540.88\tvalid_1's rmse: 1614.33\n",
      "[209]\ttraining's rmse: 1540.52\tvalid_1's rmse: 1614.22\n",
      "[210]\ttraining's rmse: 1540.19\tvalid_1's rmse: 1614.06\n",
      "[211]\ttraining's rmse: 1539.55\tvalid_1's rmse: 1613.82\n",
      "[212]\ttraining's rmse: 1538.98\tvalid_1's rmse: 1613.56\n",
      "[213]\ttraining's rmse: 1538.5\tvalid_1's rmse: 1613.32\n",
      "[214]\ttraining's rmse: 1537.99\tvalid_1's rmse: 1613.1\n",
      "[215]\ttraining's rmse: 1537.62\tvalid_1's rmse: 1612.93\n",
      "[216]\ttraining's rmse: 1537.17\tvalid_1's rmse: 1612.66\n",
      "[217]\ttraining's rmse: 1536.67\tvalid_1's rmse: 1612.4\n",
      "[218]\ttraining's rmse: 1536.1\tvalid_1's rmse: 1612.06\n",
      "[219]\ttraining's rmse: 1535.76\tvalid_1's rmse: 1611.91\n",
      "[220]\ttraining's rmse: 1535.32\tvalid_1's rmse: 1611.75\n",
      "[221]\ttraining's rmse: 1534.73\tvalid_1's rmse: 1611.32\n",
      "[222]\ttraining's rmse: 1534.12\tvalid_1's rmse: 1610.93\n",
      "[223]\ttraining's rmse: 1533.76\tvalid_1's rmse: 1610.68\n",
      "[224]\ttraining's rmse: 1533.43\tvalid_1's rmse: 1610.37\n",
      "[225]\ttraining's rmse: 1533.17\tvalid_1's rmse: 1610.26\n",
      "[226]\ttraining's rmse: 1532.65\tvalid_1's rmse: 1609.97\n",
      "[227]\ttraining's rmse: 1532.31\tvalid_1's rmse: 1609.79\n",
      "[228]\ttraining's rmse: 1531.99\tvalid_1's rmse: 1609.69\n",
      "[229]\ttraining's rmse: 1531.71\tvalid_1's rmse: 1609.62\n",
      "[230]\ttraining's rmse: 1531.38\tvalid_1's rmse: 1609.48\n",
      "[231]\ttraining's rmse: 1530.83\tvalid_1's rmse: 1609.1\n",
      "[232]\ttraining's rmse: 1530.43\tvalid_1's rmse: 1608.99\n",
      "[233]\ttraining's rmse: 1530.02\tvalid_1's rmse: 1608.91\n",
      "[234]\ttraining's rmse: 1529.62\tvalid_1's rmse: 1608.79\n",
      "[235]\ttraining's rmse: 1529.25\tvalid_1's rmse: 1608.64\n",
      "[236]\ttraining's rmse: 1528.81\tvalid_1's rmse: 1608.52\n",
      "[237]\ttraining's rmse: 1528.47\tvalid_1's rmse: 1608.27\n",
      "[238]\ttraining's rmse: 1527.96\tvalid_1's rmse: 1608.04\n",
      "[239]\ttraining's rmse: 1527.67\tvalid_1's rmse: 1607.96\n",
      "[240]\ttraining's rmse: 1527.21\tvalid_1's rmse: 1607.73\n",
      "[241]\ttraining's rmse: 1526.92\tvalid_1's rmse: 1607.62\n",
      "[242]\ttraining's rmse: 1526.6\tvalid_1's rmse: 1607.42\n",
      "[243]\ttraining's rmse: 1526.25\tvalid_1's rmse: 1607.27\n",
      "[244]\ttraining's rmse: 1525.91\tvalid_1's rmse: 1607.08\n",
      "[245]\ttraining's rmse: 1525.3\tvalid_1's rmse: 1606.75\n",
      "[246]\ttraining's rmse: 1524.97\tvalid_1's rmse: 1606.61\n",
      "[247]\ttraining's rmse: 1524.6\tvalid_1's rmse: 1606.52\n",
      "[248]\ttraining's rmse: 1524.24\tvalid_1's rmse: 1606.37\n",
      "[249]\ttraining's rmse: 1523.94\tvalid_1's rmse: 1606.26\n",
      "[250]\ttraining's rmse: 1523.54\tvalid_1's rmse: 1606.02\n",
      "[251]\ttraining's rmse: 1523.12\tvalid_1's rmse: 1605.82\n",
      "[252]\ttraining's rmse: 1522.82\tvalid_1's rmse: 1605.73\n",
      "[253]\ttraining's rmse: 1522.38\tvalid_1's rmse: 1605.61\n",
      "[254]\ttraining's rmse: 1522.04\tvalid_1's rmse: 1605.49\n",
      "[255]\ttraining's rmse: 1521.59\tvalid_1's rmse: 1605.41\n",
      "[256]\ttraining's rmse: 1521.02\tvalid_1's rmse: 1604.94\n",
      "[257]\ttraining's rmse: 1520.76\tvalid_1's rmse: 1604.73\n",
      "[258]\ttraining's rmse: 1520.46\tvalid_1's rmse: 1604.55\n",
      "[259]\ttraining's rmse: 1520.22\tvalid_1's rmse: 1604.38\n",
      "[260]\ttraining's rmse: 1519.94\tvalid_1's rmse: 1604.16\n",
      "[261]\ttraining's rmse: 1519.46\tvalid_1's rmse: 1603.89\n",
      "[262]\ttraining's rmse: 1518.98\tvalid_1's rmse: 1603.68\n",
      "[263]\ttraining's rmse: 1518.58\tvalid_1's rmse: 1603.55\n",
      "[264]\ttraining's rmse: 1518.18\tvalid_1's rmse: 1603.49\n",
      "[265]\ttraining's rmse: 1517.7\tvalid_1's rmse: 1603.21\n",
      "[266]\ttraining's rmse: 1517.27\tvalid_1's rmse: 1602.99\n",
      "[267]\ttraining's rmse: 1516.82\tvalid_1's rmse: 1602.78\n",
      "[268]\ttraining's rmse: 1516.54\tvalid_1's rmse: 1602.64\n",
      "[269]\ttraining's rmse: 1516.01\tvalid_1's rmse: 1602.35\n",
      "[270]\ttraining's rmse: 1515.71\tvalid_1's rmse: 1602.25\n",
      "[271]\ttraining's rmse: 1515.34\tvalid_1's rmse: 1602.09\n",
      "[272]\ttraining's rmse: 1515.04\tvalid_1's rmse: 1601.95\n",
      "[273]\ttraining's rmse: 1514.77\tvalid_1's rmse: 1601.82\n",
      "[274]\ttraining's rmse: 1514.28\tvalid_1's rmse: 1601.5\n",
      "[275]\ttraining's rmse: 1513.89\tvalid_1's rmse: 1601.29\n",
      "[276]\ttraining's rmse: 1513.52\tvalid_1's rmse: 1601.1\n",
      "[277]\ttraining's rmse: 1513.12\tvalid_1's rmse: 1601\n",
      "[278]\ttraining's rmse: 1512.5\tvalid_1's rmse: 1600.63\n",
      "[279]\ttraining's rmse: 1512.23\tvalid_1's rmse: 1600.6\n",
      "[280]\ttraining's rmse: 1511.96\tvalid_1's rmse: 1600.5\n",
      "[281]\ttraining's rmse: 1511.51\tvalid_1's rmse: 1600.29\n",
      "[282]\ttraining's rmse: 1511.03\tvalid_1's rmse: 1600.08\n",
      "[283]\ttraining's rmse: 1510.61\tvalid_1's rmse: 1599.87\n",
      "[284]\ttraining's rmse: 1510.36\tvalid_1's rmse: 1599.8\n",
      "[285]\ttraining's rmse: 1510.02\tvalid_1's rmse: 1599.69\n",
      "[286]\ttraining's rmse: 1509.71\tvalid_1's rmse: 1599.55\n",
      "[287]\ttraining's rmse: 1509.51\tvalid_1's rmse: 1599.48\n",
      "[288]\ttraining's rmse: 1509.31\tvalid_1's rmse: 1599.38\n",
      "[289]\ttraining's rmse: 1509.03\tvalid_1's rmse: 1599.28\n",
      "[290]\ttraining's rmse: 1508.61\tvalid_1's rmse: 1599.16\n",
      "[291]\ttraining's rmse: 1507.91\tvalid_1's rmse: 1598.7\n",
      "[292]\ttraining's rmse: 1507.66\tvalid_1's rmse: 1598.67\n",
      "[293]\ttraining's rmse: 1507.33\tvalid_1's rmse: 1598.58\n",
      "[294]\ttraining's rmse: 1506.88\tvalid_1's rmse: 1598.32\n",
      "[295]\ttraining's rmse: 1506.38\tvalid_1's rmse: 1598.05\n",
      "[296]\ttraining's rmse: 1505.74\tvalid_1's rmse: 1597.59\n",
      "[297]\ttraining's rmse: 1505.43\tvalid_1's rmse: 1597.45\n",
      "[298]\ttraining's rmse: 1504.97\tvalid_1's rmse: 1597.14\n",
      "[299]\ttraining's rmse: 1504.47\tvalid_1's rmse: 1596.9\n",
      "[300]\ttraining's rmse: 1504.01\tvalid_1's rmse: 1596.62\n",
      "[301]\ttraining's rmse: 1503.72\tvalid_1's rmse: 1596.52\n",
      "[302]\ttraining's rmse: 1503.48\tvalid_1's rmse: 1596.38\n",
      "[303]\ttraining's rmse: 1503.23\tvalid_1's rmse: 1596.32\n",
      "[304]\ttraining's rmse: 1502.97\tvalid_1's rmse: 1596.24\n",
      "[305]\ttraining's rmse: 1502.73\tvalid_1's rmse: 1596.21\n",
      "[306]\ttraining's rmse: 1502.51\tvalid_1's rmse: 1596.18\n",
      "[307]\ttraining's rmse: 1502.16\tvalid_1's rmse: 1596.1\n",
      "[308]\ttraining's rmse: 1501.85\tvalid_1's rmse: 1596.02\n",
      "[309]\ttraining's rmse: 1501.58\tvalid_1's rmse: 1595.94\n",
      "[310]\ttraining's rmse: 1501.34\tvalid_1's rmse: 1595.96\n",
      "[311]\ttraining's rmse: 1501.08\tvalid_1's rmse: 1595.91\n",
      "[312]\ttraining's rmse: 1500.8\tvalid_1's rmse: 1595.85\n",
      "[313]\ttraining's rmse: 1500.58\tvalid_1's rmse: 1595.83\n",
      "[314]\ttraining's rmse: 1500.29\tvalid_1's rmse: 1595.75\n",
      "[315]\ttraining's rmse: 1500.01\tvalid_1's rmse: 1595.66\n",
      "[316]\ttraining's rmse: 1499.75\tvalid_1's rmse: 1595.57\n",
      "[317]\ttraining's rmse: 1499.52\tvalid_1's rmse: 1595.59\n",
      "[318]\ttraining's rmse: 1499.31\tvalid_1's rmse: 1595.47\n",
      "[319]\ttraining's rmse: 1499.04\tvalid_1's rmse: 1595.38\n",
      "[320]\ttraining's rmse: 1498.83\tvalid_1's rmse: 1595.36\n",
      "[321]\ttraining's rmse: 1498.47\tvalid_1's rmse: 1595.18\n",
      "[322]\ttraining's rmse: 1498.17\tvalid_1's rmse: 1594.99\n",
      "[323]\ttraining's rmse: 1497.91\tvalid_1's rmse: 1594.93\n",
      "[324]\ttraining's rmse: 1497.59\tvalid_1's rmse: 1594.8\n",
      "[325]\ttraining's rmse: 1497.21\tvalid_1's rmse: 1594.67\n",
      "[326]\ttraining's rmse: 1496.85\tvalid_1's rmse: 1594.46\n",
      "[327]\ttraining's rmse: 1496.4\tvalid_1's rmse: 1594.16\n",
      "[328]\ttraining's rmse: 1496.17\tvalid_1's rmse: 1594.12\n",
      "[329]\ttraining's rmse: 1495.83\tvalid_1's rmse: 1593.94\n",
      "[330]\ttraining's rmse: 1495.58\tvalid_1's rmse: 1593.88\n",
      "[331]\ttraining's rmse: 1495.31\tvalid_1's rmse: 1593.93\n",
      "[332]\ttraining's rmse: 1495.12\tvalid_1's rmse: 1593.86\n",
      "[333]\ttraining's rmse: 1494.92\tvalid_1's rmse: 1593.85\n",
      "[334]\ttraining's rmse: 1494.69\tvalid_1's rmse: 1593.77\n",
      "[335]\ttraining's rmse: 1494.46\tvalid_1's rmse: 1593.77\n",
      "[336]\ttraining's rmse: 1494.12\tvalid_1's rmse: 1593.56\n",
      "[337]\ttraining's rmse: 1493.72\tvalid_1's rmse: 1593.39\n",
      "[338]\ttraining's rmse: 1493.43\tvalid_1's rmse: 1593.22\n",
      "[339]\ttraining's rmse: 1493.18\tvalid_1's rmse: 1593.16\n",
      "[340]\ttraining's rmse: 1492.88\tvalid_1's rmse: 1593.03\n"
     ]
    },
    {
     "name": "stdout",
     "output_type": "stream",
     "text": [
      "[341]\ttraining's rmse: 1492.57\tvalid_1's rmse: 1592.85\n",
      "[342]\ttraining's rmse: 1492.26\tvalid_1's rmse: 1592.73\n",
      "[343]\ttraining's rmse: 1491.98\tvalid_1's rmse: 1592.54\n",
      "[344]\ttraining's rmse: 1491.48\tvalid_1's rmse: 1592.16\n",
      "[345]\ttraining's rmse: 1491.26\tvalid_1's rmse: 1592.07\n",
      "[346]\ttraining's rmse: 1491.01\tvalid_1's rmse: 1592.05\n",
      "[347]\ttraining's rmse: 1490.64\tvalid_1's rmse: 1591.84\n",
      "[348]\ttraining's rmse: 1490.37\tvalid_1's rmse: 1591.79\n",
      "[349]\ttraining's rmse: 1490.16\tvalid_1's rmse: 1591.62\n",
      "[350]\ttraining's rmse: 1489.97\tvalid_1's rmse: 1591.57\n",
      "[351]\ttraining's rmse: 1489.49\tvalid_1's rmse: 1591.28\n",
      "[352]\ttraining's rmse: 1489.06\tvalid_1's rmse: 1590.96\n",
      "[353]\ttraining's rmse: 1488.76\tvalid_1's rmse: 1590.82\n",
      "[354]\ttraining's rmse: 1488.51\tvalid_1's rmse: 1590.75\n",
      "[355]\ttraining's rmse: 1488.27\tvalid_1's rmse: 1590.7\n",
      "[356]\ttraining's rmse: 1488\tvalid_1's rmse: 1590.57\n",
      "[357]\ttraining's rmse: 1487.73\tvalid_1's rmse: 1590.42\n",
      "[358]\ttraining's rmse: 1487.36\tvalid_1's rmse: 1590.19\n",
      "[359]\ttraining's rmse: 1487.11\tvalid_1's rmse: 1590\n",
      "[360]\ttraining's rmse: 1486.92\tvalid_1's rmse: 1589.93\n",
      "[361]\ttraining's rmse: 1486.62\tvalid_1's rmse: 1589.84\n",
      "[362]\ttraining's rmse: 1486.3\tvalid_1's rmse: 1589.79\n",
      "[363]\ttraining's rmse: 1486.07\tvalid_1's rmse: 1589.67\n",
      "[364]\ttraining's rmse: 1485.85\tvalid_1's rmse: 1589.59\n",
      "[365]\ttraining's rmse: 1485.62\tvalid_1's rmse: 1589.53\n",
      "[366]\ttraining's rmse: 1485.3\tvalid_1's rmse: 1589.42\n",
      "[367]\ttraining's rmse: 1485\tvalid_1's rmse: 1589.3\n",
      "[368]\ttraining's rmse: 1484.66\tvalid_1's rmse: 1589.22\n",
      "[369]\ttraining's rmse: 1484.4\tvalid_1's rmse: 1589.09\n",
      "[370]\ttraining's rmse: 1484.1\tvalid_1's rmse: 1588.95\n",
      "[371]\ttraining's rmse: 1483.87\tvalid_1's rmse: 1588.86\n",
      "[372]\ttraining's rmse: 1483.63\tvalid_1's rmse: 1588.82\n",
      "[373]\ttraining's rmse: 1483.37\tvalid_1's rmse: 1588.75\n",
      "[374]\ttraining's rmse: 1483.16\tvalid_1's rmse: 1588.65\n",
      "[375]\ttraining's rmse: 1482.87\tvalid_1's rmse: 1588.58\n",
      "[376]\ttraining's rmse: 1482.7\tvalid_1's rmse: 1588.59\n",
      "[377]\ttraining's rmse: 1482.53\tvalid_1's rmse: 1588.58\n",
      "[378]\ttraining's rmse: 1482.35\tvalid_1's rmse: 1588.53\n",
      "[379]\ttraining's rmse: 1482.18\tvalid_1's rmse: 1588.55\n",
      "[380]\ttraining's rmse: 1482\tvalid_1's rmse: 1588.49\n",
      "[381]\ttraining's rmse: 1481.75\tvalid_1's rmse: 1588.48\n",
      "[382]\ttraining's rmse: 1481.57\tvalid_1's rmse: 1588.41\n",
      "[383]\ttraining's rmse: 1481.29\tvalid_1's rmse: 1588.29\n",
      "[384]\ttraining's rmse: 1481.04\tvalid_1's rmse: 1588.12\n",
      "[385]\ttraining's rmse: 1480.84\tvalid_1's rmse: 1588.01\n",
      "[386]\ttraining's rmse: 1480.62\tvalid_1's rmse: 1587.92\n",
      "[387]\ttraining's rmse: 1480.43\tvalid_1's rmse: 1587.82\n",
      "[388]\ttraining's rmse: 1480.21\tvalid_1's rmse: 1587.73\n",
      "[389]\ttraining's rmse: 1480.01\tvalid_1's rmse: 1587.76\n",
      "[390]\ttraining's rmse: 1479.75\tvalid_1's rmse: 1587.77\n",
      "[391]\ttraining's rmse: 1479.54\tvalid_1's rmse: 1587.72\n",
      "[392]\ttraining's rmse: 1479.35\tvalid_1's rmse: 1587.71\n",
      "[393]\ttraining's rmse: 1478.93\tvalid_1's rmse: 1587.41\n",
      "[394]\ttraining's rmse: 1478.64\tvalid_1's rmse: 1587.29\n",
      "[395]\ttraining's rmse: 1478.4\tvalid_1's rmse: 1587.2\n",
      "[396]\ttraining's rmse: 1478.2\tvalid_1's rmse: 1587.17\n",
      "[397]\ttraining's rmse: 1478.01\tvalid_1's rmse: 1587.16\n",
      "[398]\ttraining's rmse: 1477.66\tvalid_1's rmse: 1586.95\n",
      "[399]\ttraining's rmse: 1477.33\tvalid_1's rmse: 1586.81\n",
      "[400]\ttraining's rmse: 1476.88\tvalid_1's rmse: 1586.52\n",
      "[401]\ttraining's rmse: 1476.49\tvalid_1's rmse: 1586.39\n",
      "[402]\ttraining's rmse: 1476.15\tvalid_1's rmse: 1586.22\n",
      "[403]\ttraining's rmse: 1475.87\tvalid_1's rmse: 1586.05\n",
      "[404]\ttraining's rmse: 1475.57\tvalid_1's rmse: 1585.85\n",
      "[405]\ttraining's rmse: 1475.27\tvalid_1's rmse: 1585.72\n",
      "[406]\ttraining's rmse: 1474.85\tvalid_1's rmse: 1585.49\n",
      "[407]\ttraining's rmse: 1474.43\tvalid_1's rmse: 1585.34\n",
      "[408]\ttraining's rmse: 1473.99\tvalid_1's rmse: 1585.06\n",
      "[409]\ttraining's rmse: 1473.6\tvalid_1's rmse: 1584.91\n",
      "[410]\ttraining's rmse: 1473.29\tvalid_1's rmse: 1584.81\n",
      "[411]\ttraining's rmse: 1473.07\tvalid_1's rmse: 1584.8\n",
      "[412]\ttraining's rmse: 1472.8\tvalid_1's rmse: 1584.68\n",
      "[413]\ttraining's rmse: 1472.64\tvalid_1's rmse: 1584.67\n",
      "[414]\ttraining's rmse: 1472.37\tvalid_1's rmse: 1584.62\n",
      "[415]\ttraining's rmse: 1472.22\tvalid_1's rmse: 1584.62\n",
      "[416]\ttraining's rmse: 1471.92\tvalid_1's rmse: 1584.53\n",
      "[417]\ttraining's rmse: 1471.71\tvalid_1's rmse: 1584.51\n",
      "[418]\ttraining's rmse: 1471.49\tvalid_1's rmse: 1584.4\n",
      "[419]\ttraining's rmse: 1471.14\tvalid_1's rmse: 1584.17\n",
      "[420]\ttraining's rmse: 1470.9\tvalid_1's rmse: 1584.03\n",
      "[421]\ttraining's rmse: 1470.64\tvalid_1's rmse: 1583.89\n",
      "[422]\ttraining's rmse: 1470.13\tvalid_1's rmse: 1583.64\n",
      "[423]\ttraining's rmse: 1469.79\tvalid_1's rmse: 1583.45\n",
      "[424]\ttraining's rmse: 1469.62\tvalid_1's rmse: 1583.36\n",
      "[425]\ttraining's rmse: 1469.37\tvalid_1's rmse: 1583.28\n",
      "[426]\ttraining's rmse: 1469.05\tvalid_1's rmse: 1583.2\n",
      "[427]\ttraining's rmse: 1468.74\tvalid_1's rmse: 1583.02\n",
      "[428]\ttraining's rmse: 1468.49\tvalid_1's rmse: 1582.94\n",
      "[429]\ttraining's rmse: 1468.34\tvalid_1's rmse: 1582.89\n",
      "[430]\ttraining's rmse: 1468.02\tvalid_1's rmse: 1582.8\n",
      "[431]\ttraining's rmse: 1467.76\tvalid_1's rmse: 1582.71\n",
      "[432]\ttraining's rmse: 1467.51\tvalid_1's rmse: 1582.71\n",
      "[433]\ttraining's rmse: 1467.24\tvalid_1's rmse: 1582.62\n",
      "[434]\ttraining's rmse: 1467.05\tvalid_1's rmse: 1582.49\n",
      "[435]\ttraining's rmse: 1466.73\tvalid_1's rmse: 1582.3\n",
      "[436]\ttraining's rmse: 1466.52\tvalid_1's rmse: 1582.15\n",
      "[437]\ttraining's rmse: 1466.34\tvalid_1's rmse: 1582.11\n",
      "[438]\ttraining's rmse: 1466.2\tvalid_1's rmse: 1582.07\n",
      "[439]\ttraining's rmse: 1466\tvalid_1's rmse: 1581.98\n",
      "[440]\ttraining's rmse: 1465.77\tvalid_1's rmse: 1581.92\n",
      "[441]\ttraining's rmse: 1465.54\tvalid_1's rmse: 1581.9\n",
      "[442]\ttraining's rmse: 1465.28\tvalid_1's rmse: 1581.75\n",
      "[443]\ttraining's rmse: 1465.07\tvalid_1's rmse: 1581.74\n",
      "[444]\ttraining's rmse: 1464.87\tvalid_1's rmse: 1581.72\n",
      "[445]\ttraining's rmse: 1464.67\tvalid_1's rmse: 1581.66\n",
      "[446]\ttraining's rmse: 1464.51\tvalid_1's rmse: 1581.59\n",
      "[447]\ttraining's rmse: 1464.33\tvalid_1's rmse: 1581.52\n",
      "[448]\ttraining's rmse: 1464.18\tvalid_1's rmse: 1581.46\n",
      "[449]\ttraining's rmse: 1464.04\tvalid_1's rmse: 1581.42\n",
      "[450]\ttraining's rmse: 1463.9\tvalid_1's rmse: 1581.37\n",
      "[451]\ttraining's rmse: 1463.71\tvalid_1's rmse: 1581.28\n",
      "[452]\ttraining's rmse: 1463.5\tvalid_1's rmse: 1581.21\n",
      "[453]\ttraining's rmse: 1463.34\tvalid_1's rmse: 1581.2\n",
      "[454]\ttraining's rmse: 1463.02\tvalid_1's rmse: 1581.12\n",
      "[455]\ttraining's rmse: 1462.78\tvalid_1's rmse: 1581.08\n",
      "[456]\ttraining's rmse: 1462.61\tvalid_1's rmse: 1581.05\n",
      "[457]\ttraining's rmse: 1462.43\tvalid_1's rmse: 1581.02\n",
      "[458]\ttraining's rmse: 1462.21\tvalid_1's rmse: 1580.96\n",
      "[459]\ttraining's rmse: 1462.05\tvalid_1's rmse: 1580.86\n",
      "[460]\ttraining's rmse: 1461.76\tvalid_1's rmse: 1580.74\n",
      "[461]\ttraining's rmse: 1461.55\tvalid_1's rmse: 1580.68\n",
      "[462]\ttraining's rmse: 1461.36\tvalid_1's rmse: 1580.62\n",
      "[463]\ttraining's rmse: 1461.18\tvalid_1's rmse: 1580.56\n",
      "[464]\ttraining's rmse: 1461.04\tvalid_1's rmse: 1580.52\n",
      "[465]\ttraining's rmse: 1460.79\tvalid_1's rmse: 1580.49\n",
      "[466]\ttraining's rmse: 1460.52\tvalid_1's rmse: 1580.4\n",
      "[467]\ttraining's rmse: 1460.03\tvalid_1's rmse: 1580.09\n",
      "[468]\ttraining's rmse: 1459.75\tvalid_1's rmse: 1580.07\n",
      "[469]\ttraining's rmse: 1459.4\tvalid_1's rmse: 1579.94\n",
      "[470]\ttraining's rmse: 1459.23\tvalid_1's rmse: 1579.95\n",
      "[471]\ttraining's rmse: 1459.06\tvalid_1's rmse: 1579.92\n",
      "[472]\ttraining's rmse: 1458.89\tvalid_1's rmse: 1579.91\n",
      "[473]\ttraining's rmse: 1458.63\tvalid_1's rmse: 1579.74\n",
      "[474]\ttraining's rmse: 1458.48\tvalid_1's rmse: 1579.72\n",
      "[475]\ttraining's rmse: 1458.3\tvalid_1's rmse: 1579.66\n",
      "[476]\ttraining's rmse: 1457.99\tvalid_1's rmse: 1579.51\n",
      "[477]\ttraining's rmse: 1457.72\tvalid_1's rmse: 1579.35\n",
      "[478]\ttraining's rmse: 1457.5\tvalid_1's rmse: 1579.24\n",
      "[479]\ttraining's rmse: 1457.26\tvalid_1's rmse: 1579.14\n",
      "[480]\ttraining's rmse: 1457.08\tvalid_1's rmse: 1579.12\n",
      "[481]\ttraining's rmse: 1456.9\tvalid_1's rmse: 1579.03\n",
      "[482]\ttraining's rmse: 1456.75\tvalid_1's rmse: 1578.96\n",
      "[483]\ttraining's rmse: 1456.59\tvalid_1's rmse: 1578.85\n",
      "[484]\ttraining's rmse: 1456.43\tvalid_1's rmse: 1578.78\n",
      "[485]\ttraining's rmse: 1456.28\tvalid_1's rmse: 1578.73\n",
      "[486]\ttraining's rmse: 1456.03\tvalid_1's rmse: 1578.57\n",
      "[487]\ttraining's rmse: 1455.86\tvalid_1's rmse: 1578.54\n",
      "[488]\ttraining's rmse: 1455.71\tvalid_1's rmse: 1578.54\n",
      "[489]\ttraining's rmse: 1455.6\tvalid_1's rmse: 1578.56\n",
      "[490]\ttraining's rmse: 1455.48\tvalid_1's rmse: 1578.65\n",
      "[491]\ttraining's rmse: 1455.34\tvalid_1's rmse: 1578.64\n",
      "[492]\ttraining's rmse: 1455.19\tvalid_1's rmse: 1578.57\n",
      "[493]\ttraining's rmse: 1454.89\tvalid_1's rmse: 1578.42\n",
      "[494]\ttraining's rmse: 1454.69\tvalid_1's rmse: 1578.26\n",
      "[495]\ttraining's rmse: 1454.49\tvalid_1's rmse: 1578.11\n",
      "[496]\ttraining's rmse: 1454.34\tvalid_1's rmse: 1578.06\n",
      "[497]\ttraining's rmse: 1454.19\tvalid_1's rmse: 1578.02\n",
      "[498]\ttraining's rmse: 1454.05\tvalid_1's rmse: 1577.99\n",
      "[499]\ttraining's rmse: 1453.91\tvalid_1's rmse: 1577.95\n",
      "[500]\ttraining's rmse: 1453.75\tvalid_1's rmse: 1577.95\n",
      "[501]\ttraining's rmse: 1453.55\tvalid_1's rmse: 1577.89\n",
      "[502]\ttraining's rmse: 1453.35\tvalid_1's rmse: 1577.76\n",
      "[503]\ttraining's rmse: 1453.13\tvalid_1's rmse: 1577.68\n",
      "[504]\ttraining's rmse: 1452.95\tvalid_1's rmse: 1577.7\n",
      "[505]\ttraining's rmse: 1452.71\tvalid_1's rmse: 1577.62\n",
      "[506]\ttraining's rmse: 1452.54\tvalid_1's rmse: 1577.55\n",
      "[507]\ttraining's rmse: 1452.29\tvalid_1's rmse: 1577.52\n",
      "[508]\ttraining's rmse: 1452.03\tvalid_1's rmse: 1577.56\n",
      "[509]\ttraining's rmse: 1451.8\tvalid_1's rmse: 1577.53\n",
      "[510]\ttraining's rmse: 1451.65\tvalid_1's rmse: 1577.58\n",
      "[511]\ttraining's rmse: 1451.53\tvalid_1's rmse: 1577.6\n",
      "[512]\ttraining's rmse: 1451.38\tvalid_1's rmse: 1577.61\n",
      "[513]\ttraining's rmse: 1451.04\tvalid_1's rmse: 1577.32\n",
      "[514]\ttraining's rmse: 1450.91\tvalid_1's rmse: 1577.3\n",
      "[515]\ttraining's rmse: 1450.77\tvalid_1's rmse: 1577.25\n",
      "[516]\ttraining's rmse: 1450.6\tvalid_1's rmse: 1577.19\n",
      "[517]\ttraining's rmse: 1450.45\tvalid_1's rmse: 1577.16\n",
      "[518]\ttraining's rmse: 1450.17\tvalid_1's rmse: 1577.05\n",
      "[519]\ttraining's rmse: 1449.91\tvalid_1's rmse: 1576.97\n"
     ]
    },
    {
     "name": "stdout",
     "output_type": "stream",
     "text": [
      "[520]\ttraining's rmse: 1449.73\tvalid_1's rmse: 1576.95\n",
      "[521]\ttraining's rmse: 1449.54\tvalid_1's rmse: 1576.91\n",
      "[522]\ttraining's rmse: 1449.35\tvalid_1's rmse: 1576.92\n",
      "[523]\ttraining's rmse: 1449.18\tvalid_1's rmse: 1576.92\n",
      "[524]\ttraining's rmse: 1448.97\tvalid_1's rmse: 1576.86\n",
      "[525]\ttraining's rmse: 1448.85\tvalid_1's rmse: 1576.78\n",
      "[526]\ttraining's rmse: 1448.66\tvalid_1's rmse: 1576.71\n",
      "[527]\ttraining's rmse: 1448.43\tvalid_1's rmse: 1576.57\n",
      "[528]\ttraining's rmse: 1448.26\tvalid_1's rmse: 1576.47\n",
      "[529]\ttraining's rmse: 1448.11\tvalid_1's rmse: 1576.48\n",
      "[530]\ttraining's rmse: 1447.91\tvalid_1's rmse: 1576.39\n",
      "[531]\ttraining's rmse: 1447.75\tvalid_1's rmse: 1576.32\n",
      "[532]\ttraining's rmse: 1447.56\tvalid_1's rmse: 1576.27\n",
      "[533]\ttraining's rmse: 1447.38\tvalid_1's rmse: 1576.27\n",
      "[534]\ttraining's rmse: 1447.25\tvalid_1's rmse: 1576.24\n",
      "[535]\ttraining's rmse: 1447.11\tvalid_1's rmse: 1576.23\n",
      "[536]\ttraining's rmse: 1446.87\tvalid_1's rmse: 1576.06\n",
      "[537]\ttraining's rmse: 1446.72\tvalid_1's rmse: 1575.97\n",
      "[538]\ttraining's rmse: 1446.54\tvalid_1's rmse: 1575.88\n",
      "[539]\ttraining's rmse: 1446.34\tvalid_1's rmse: 1575.79\n",
      "[540]\ttraining's rmse: 1446.17\tvalid_1's rmse: 1575.74\n",
      "[541]\ttraining's rmse: 1445.98\tvalid_1's rmse: 1575.67\n",
      "[542]\ttraining's rmse: 1445.77\tvalid_1's rmse: 1575.61\n",
      "[543]\ttraining's rmse: 1445.58\tvalid_1's rmse: 1575.63\n",
      "[544]\ttraining's rmse: 1445.42\tvalid_1's rmse: 1575.6\n",
      "[545]\ttraining's rmse: 1445.26\tvalid_1's rmse: 1575.56\n",
      "[546]\ttraining's rmse: 1444.98\tvalid_1's rmse: 1575.4\n",
      "[547]\ttraining's rmse: 1444.75\tvalid_1's rmse: 1575.32\n",
      "[548]\ttraining's rmse: 1444.43\tvalid_1's rmse: 1575.27\n",
      "[549]\ttraining's rmse: 1444.18\tvalid_1's rmse: 1575.24\n",
      "[550]\ttraining's rmse: 1443.83\tvalid_1's rmse: 1575.18\n",
      "[551]\ttraining's rmse: 1443.53\tvalid_1's rmse: 1574.97\n",
      "[552]\ttraining's rmse: 1443.2\tvalid_1's rmse: 1574.74\n",
      "[553]\ttraining's rmse: 1443.05\tvalid_1's rmse: 1574.68\n",
      "[554]\ttraining's rmse: 1442.67\tvalid_1's rmse: 1574.45\n",
      "[555]\ttraining's rmse: 1442.33\tvalid_1's rmse: 1574.33\n",
      "[556]\ttraining's rmse: 1442.19\tvalid_1's rmse: 1574.31\n",
      "[557]\ttraining's rmse: 1442.03\tvalid_1's rmse: 1574.25\n",
      "[558]\ttraining's rmse: 1441.92\tvalid_1's rmse: 1574.26\n",
      "[559]\ttraining's rmse: 1441.79\tvalid_1's rmse: 1574.3\n",
      "[560]\ttraining's rmse: 1441.62\tvalid_1's rmse: 1574.29\n",
      "[561]\ttraining's rmse: 1441.46\tvalid_1's rmse: 1574.24\n",
      "[562]\ttraining's rmse: 1441.36\tvalid_1's rmse: 1574.24\n",
      "[563]\ttraining's rmse: 1441.21\tvalid_1's rmse: 1574.2\n",
      "[564]\ttraining's rmse: 1441.12\tvalid_1's rmse: 1574.19\n",
      "[565]\ttraining's rmse: 1441\tvalid_1's rmse: 1574.12\n",
      "[566]\ttraining's rmse: 1440.83\tvalid_1's rmse: 1574.08\n",
      "[567]\ttraining's rmse: 1440.61\tvalid_1's rmse: 1574.02\n",
      "[568]\ttraining's rmse: 1440.36\tvalid_1's rmse: 1573.93\n",
      "[569]\ttraining's rmse: 1440.12\tvalid_1's rmse: 1573.84\n",
      "[570]\ttraining's rmse: 1439.95\tvalid_1's rmse: 1573.83\n",
      "[571]\ttraining's rmse: 1439.6\tvalid_1's rmse: 1573.63\n",
      "[572]\ttraining's rmse: 1439.44\tvalid_1's rmse: 1573.57\n",
      "[573]\ttraining's rmse: 1439.24\tvalid_1's rmse: 1573.49\n",
      "[574]\ttraining's rmse: 1439.07\tvalid_1's rmse: 1573.46\n",
      "[575]\ttraining's rmse: 1438.76\tvalid_1's rmse: 1573.33\n",
      "[576]\ttraining's rmse: 1438.58\tvalid_1's rmse: 1573.36\n",
      "[577]\ttraining's rmse: 1438.45\tvalid_1's rmse: 1573.37\n",
      "[578]\ttraining's rmse: 1438.3\tvalid_1's rmse: 1573.36\n",
      "[579]\ttraining's rmse: 1438.14\tvalid_1's rmse: 1573.37\n",
      "[580]\ttraining's rmse: 1438.01\tvalid_1's rmse: 1573.38\n",
      "[581]\ttraining's rmse: 1437.79\tvalid_1's rmse: 1573.44\n",
      "[582]\ttraining's rmse: 1437.56\tvalid_1's rmse: 1573.37\n",
      "[583]\ttraining's rmse: 1437.43\tvalid_1's rmse: 1573.38\n",
      "[584]\ttraining's rmse: 1437.31\tvalid_1's rmse: 1573.37\n",
      "[585]\ttraining's rmse: 1436.97\tvalid_1's rmse: 1573.25\n",
      "[586]\ttraining's rmse: 1436.78\tvalid_1's rmse: 1573.22\n",
      "[587]\ttraining's rmse: 1436.6\tvalid_1's rmse: 1573.15\n",
      "[588]\ttraining's rmse: 1436.47\tvalid_1's rmse: 1573.17\n",
      "[589]\ttraining's rmse: 1436.31\tvalid_1's rmse: 1573.11\n",
      "[590]\ttraining's rmse: 1436.17\tvalid_1's rmse: 1573.07\n",
      "[591]\ttraining's rmse: 1436.04\tvalid_1's rmse: 1573.11\n",
      "[592]\ttraining's rmse: 1435.89\tvalid_1's rmse: 1573.13\n",
      "[593]\ttraining's rmse: 1435.71\tvalid_1's rmse: 1573.13\n",
      "[594]\ttraining's rmse: 1435.52\tvalid_1's rmse: 1573.03\n",
      "[595]\ttraining's rmse: 1435.4\tvalid_1's rmse: 1573.02\n",
      "[596]\ttraining's rmse: 1435.15\tvalid_1's rmse: 1572.92\n",
      "[597]\ttraining's rmse: 1434.94\tvalid_1's rmse: 1572.89\n",
      "[598]\ttraining's rmse: 1434.72\tvalid_1's rmse: 1572.85\n",
      "[599]\ttraining's rmse: 1434.52\tvalid_1's rmse: 1572.82\n",
      "[600]\ttraining's rmse: 1434.28\tvalid_1's rmse: 1572.77\n",
      "[601]\ttraining's rmse: 1434.1\tvalid_1's rmse: 1572.71\n",
      "[602]\ttraining's rmse: 1433.94\tvalid_1's rmse: 1572.68\n",
      "[603]\ttraining's rmse: 1433.83\tvalid_1's rmse: 1572.73\n",
      "[604]\ttraining's rmse: 1433.65\tvalid_1's rmse: 1572.78\n",
      "[605]\ttraining's rmse: 1433.54\tvalid_1's rmse: 1572.8\n",
      "[606]\ttraining's rmse: 1433.43\tvalid_1's rmse: 1572.75\n",
      "[607]\ttraining's rmse: 1433.29\tvalid_1's rmse: 1572.72\n",
      "[608]\ttraining's rmse: 1433.09\tvalid_1's rmse: 1572.64\n",
      "[609]\ttraining's rmse: 1432.69\tvalid_1's rmse: 1572.44\n",
      "[610]\ttraining's rmse: 1432.47\tvalid_1's rmse: 1572.32\n",
      "[611]\ttraining's rmse: 1432.24\tvalid_1's rmse: 1572.22\n",
      "[612]\ttraining's rmse: 1432.03\tvalid_1's rmse: 1572.14\n",
      "[613]\ttraining's rmse: 1431.83\tvalid_1's rmse: 1572.04\n",
      "[614]\ttraining's rmse: 1431.6\tvalid_1's rmse: 1571.96\n",
      "[615]\ttraining's rmse: 1431.45\tvalid_1's rmse: 1571.88\n",
      "[616]\ttraining's rmse: 1431.32\tvalid_1's rmse: 1571.83\n",
      "[617]\ttraining's rmse: 1431.15\tvalid_1's rmse: 1571.8\n",
      "[618]\ttraining's rmse: 1431.01\tvalid_1's rmse: 1571.84\n",
      "[619]\ttraining's rmse: 1430.86\tvalid_1's rmse: 1571.83\n",
      "[620]\ttraining's rmse: 1430.76\tvalid_1's rmse: 1571.79\n",
      "[621]\ttraining's rmse: 1430.39\tvalid_1's rmse: 1571.61\n",
      "[622]\ttraining's rmse: 1430.24\tvalid_1's rmse: 1571.55\n",
      "[623]\ttraining's rmse: 1430.07\tvalid_1's rmse: 1571.51\n",
      "[624]\ttraining's rmse: 1429.94\tvalid_1's rmse: 1571.46\n",
      "[625]\ttraining's rmse: 1429.82\tvalid_1's rmse: 1571.4\n",
      "[626]\ttraining's rmse: 1429.62\tvalid_1's rmse: 1571.34\n",
      "[627]\ttraining's rmse: 1429.44\tvalid_1's rmse: 1571.31\n",
      "[628]\ttraining's rmse: 1429.32\tvalid_1's rmse: 1571.32\n",
      "[629]\ttraining's rmse: 1429.2\tvalid_1's rmse: 1571.29\n",
      "[630]\ttraining's rmse: 1429.1\tvalid_1's rmse: 1571.3\n",
      "[631]\ttraining's rmse: 1428.89\tvalid_1's rmse: 1571.21\n",
      "[632]\ttraining's rmse: 1428.68\tvalid_1's rmse: 1571.12\n",
      "[633]\ttraining's rmse: 1428.5\tvalid_1's rmse: 1571\n",
      "[634]\ttraining's rmse: 1428.28\tvalid_1's rmse: 1570.81\n",
      "[635]\ttraining's rmse: 1428.1\tvalid_1's rmse: 1570.81\n",
      "[636]\ttraining's rmse: 1427.96\tvalid_1's rmse: 1570.77\n",
      "[637]\ttraining's rmse: 1427.85\tvalid_1's rmse: 1570.72\n",
      "[638]\ttraining's rmse: 1427.64\tvalid_1's rmse: 1570.62\n",
      "[639]\ttraining's rmse: 1427.51\tvalid_1's rmse: 1570.57\n",
      "[640]\ttraining's rmse: 1427.32\tvalid_1's rmse: 1570.5\n",
      "[641]\ttraining's rmse: 1427.07\tvalid_1's rmse: 1570.54\n",
      "[642]\ttraining's rmse: 1426.86\tvalid_1's rmse: 1570.54\n",
      "[643]\ttraining's rmse: 1426.65\tvalid_1's rmse: 1570.39\n",
      "[644]\ttraining's rmse: 1426.52\tvalid_1's rmse: 1570.36\n",
      "[645]\ttraining's rmse: 1426.31\tvalid_1's rmse: 1570.29\n",
      "[646]\ttraining's rmse: 1426.17\tvalid_1's rmse: 1570.32\n",
      "[647]\ttraining's rmse: 1426.03\tvalid_1's rmse: 1570.24\n",
      "[648]\ttraining's rmse: 1425.92\tvalid_1's rmse: 1570.25\n",
      "[649]\ttraining's rmse: 1425.79\tvalid_1's rmse: 1570.23\n",
      "[650]\ttraining's rmse: 1425.64\tvalid_1's rmse: 1570.21\n",
      "[651]\ttraining's rmse: 1425.46\tvalid_1's rmse: 1570.12\n",
      "[652]\ttraining's rmse: 1425.24\tvalid_1's rmse: 1569.99\n",
      "[653]\ttraining's rmse: 1425.09\tvalid_1's rmse: 1569.9\n",
      "[654]\ttraining's rmse: 1424.92\tvalid_1's rmse: 1569.94\n",
      "[655]\ttraining's rmse: 1424.72\tvalid_1's rmse: 1569.91\n",
      "[656]\ttraining's rmse: 1424.49\tvalid_1's rmse: 1569.86\n",
      "[657]\ttraining's rmse: 1424.2\tvalid_1's rmse: 1569.8\n",
      "[658]\ttraining's rmse: 1424.03\tvalid_1's rmse: 1569.76\n",
      "[659]\ttraining's rmse: 1423.9\tvalid_1's rmse: 1569.75\n",
      "[660]\ttraining's rmse: 1423.71\tvalid_1's rmse: 1569.67\n",
      "[661]\ttraining's rmse: 1423.43\tvalid_1's rmse: 1569.53\n",
      "[662]\ttraining's rmse: 1423.28\tvalid_1's rmse: 1569.5\n",
      "[663]\ttraining's rmse: 1423.01\tvalid_1's rmse: 1569.41\n",
      "[664]\ttraining's rmse: 1422.8\tvalid_1's rmse: 1569.38\n",
      "[665]\ttraining's rmse: 1422.61\tvalid_1's rmse: 1569.33\n",
      "[666]\ttraining's rmse: 1422.45\tvalid_1's rmse: 1569.26\n",
      "[667]\ttraining's rmse: 1422.28\tvalid_1's rmse: 1569.26\n",
      "[668]\ttraining's rmse: 1422.02\tvalid_1's rmse: 1569.09\n",
      "[669]\ttraining's rmse: 1421.72\tvalid_1's rmse: 1568.94\n",
      "[670]\ttraining's rmse: 1421.45\tvalid_1's rmse: 1568.72\n",
      "[671]\ttraining's rmse: 1421.26\tvalid_1's rmse: 1568.63\n",
      "[672]\ttraining's rmse: 1421.1\tvalid_1's rmse: 1568.61\n",
      "[673]\ttraining's rmse: 1420.97\tvalid_1's rmse: 1568.59\n",
      "[674]\ttraining's rmse: 1420.84\tvalid_1's rmse: 1568.56\n",
      "[675]\ttraining's rmse: 1420.73\tvalid_1's rmse: 1568.54\n",
      "[676]\ttraining's rmse: 1420.58\tvalid_1's rmse: 1568.46\n",
      "[677]\ttraining's rmse: 1420.46\tvalid_1's rmse: 1568.45\n",
      "[678]\ttraining's rmse: 1420.32\tvalid_1's rmse: 1568.37\n",
      "[679]\ttraining's rmse: 1420.21\tvalid_1's rmse: 1568.3\n",
      "[680]\ttraining's rmse: 1420.09\tvalid_1's rmse: 1568.31\n",
      "[681]\ttraining's rmse: 1419.95\tvalid_1's rmse: 1568.24\n",
      "[682]\ttraining's rmse: 1419.82\tvalid_1's rmse: 1568.24\n",
      "[683]\ttraining's rmse: 1419.66\tvalid_1's rmse: 1568.13\n",
      "[684]\ttraining's rmse: 1419.48\tvalid_1's rmse: 1568.17\n",
      "[685]\ttraining's rmse: 1419.27\tvalid_1's rmse: 1568.13\n",
      "[686]\ttraining's rmse: 1419.14\tvalid_1's rmse: 1568.11\n",
      "[687]\ttraining's rmse: 1419.01\tvalid_1's rmse: 1568.07\n",
      "[688]\ttraining's rmse: 1418.91\tvalid_1's rmse: 1568.1\n",
      "[689]\ttraining's rmse: 1418.81\tvalid_1's rmse: 1568.11\n",
      "[690]\ttraining's rmse: 1418.63\tvalid_1's rmse: 1568.04\n",
      "[691]\ttraining's rmse: 1418.48\tvalid_1's rmse: 1567.99\n",
      "[692]\ttraining's rmse: 1418.25\tvalid_1's rmse: 1567.95\n",
      "[693]\ttraining's rmse: 1418.16\tvalid_1's rmse: 1567.95\n",
      "[694]\ttraining's rmse: 1418.06\tvalid_1's rmse: 1567.95\n",
      "[695]\ttraining's rmse: 1417.96\tvalid_1's rmse: 1567.92\n",
      "[696]\ttraining's rmse: 1417.81\tvalid_1's rmse: 1567.91\n",
      "[697]\ttraining's rmse: 1417.65\tvalid_1's rmse: 1567.9\n",
      "[698]\ttraining's rmse: 1417.55\tvalid_1's rmse: 1567.88\n",
      "[699]\ttraining's rmse: 1417.43\tvalid_1's rmse: 1567.82\n",
      "[700]\ttraining's rmse: 1417.23\tvalid_1's rmse: 1567.79\n",
      "[701]\ttraining's rmse: 1417.11\tvalid_1's rmse: 1567.8\n",
      "[702]\ttraining's rmse: 1416.97\tvalid_1's rmse: 1567.8\n",
      "[703]\ttraining's rmse: 1416.85\tvalid_1's rmse: 1567.77\n",
      "[704]\ttraining's rmse: 1416.52\tvalid_1's rmse: 1567.67\n",
      "[705]\ttraining's rmse: 1416.41\tvalid_1's rmse: 1567.62\n"
     ]
    },
    {
     "name": "stdout",
     "output_type": "stream",
     "text": [
      "[706]\ttraining's rmse: 1416.23\tvalid_1's rmse: 1567.55\n",
      "[707]\ttraining's rmse: 1416.13\tvalid_1's rmse: 1567.53\n",
      "[708]\ttraining's rmse: 1415.95\tvalid_1's rmse: 1567.5\n",
      "[709]\ttraining's rmse: 1415.85\tvalid_1's rmse: 1567.46\n",
      "[710]\ttraining's rmse: 1415.76\tvalid_1's rmse: 1567.46\n",
      "[711]\ttraining's rmse: 1415.64\tvalid_1's rmse: 1567.51\n",
      "[712]\ttraining's rmse: 1415.48\tvalid_1's rmse: 1567.51\n",
      "[713]\ttraining's rmse: 1415.37\tvalid_1's rmse: 1567.51\n",
      "[714]\ttraining's rmse: 1415.27\tvalid_1's rmse: 1567.55\n",
      "[715]\ttraining's rmse: 1415.02\tvalid_1's rmse: 1567.36\n",
      "[716]\ttraining's rmse: 1414.81\tvalid_1's rmse: 1567.29\n",
      "[717]\ttraining's rmse: 1414.43\tvalid_1's rmse: 1567.11\n",
      "[718]\ttraining's rmse: 1414.27\tvalid_1's rmse: 1567.07\n",
      "[719]\ttraining's rmse: 1414.12\tvalid_1's rmse: 1567.07\n",
      "[720]\ttraining's rmse: 1413.95\tvalid_1's rmse: 1567.08\n",
      "[721]\ttraining's rmse: 1413.83\tvalid_1's rmse: 1567.03\n",
      "[722]\ttraining's rmse: 1413.72\tvalid_1's rmse: 1567.04\n",
      "[723]\ttraining's rmse: 1413.6\tvalid_1's rmse: 1567.05\n",
      "[724]\ttraining's rmse: 1413.47\tvalid_1's rmse: 1567.03\n",
      "[725]\ttraining's rmse: 1413.37\tvalid_1's rmse: 1566.99\n",
      "[726]\ttraining's rmse: 1413.24\tvalid_1's rmse: 1567\n",
      "[727]\ttraining's rmse: 1413.13\tvalid_1's rmse: 1566.99\n",
      "[728]\ttraining's rmse: 1413\tvalid_1's rmse: 1566.99\n",
      "[729]\ttraining's rmse: 1412.72\tvalid_1's rmse: 1566.89\n",
      "[730]\ttraining's rmse: 1412.63\tvalid_1's rmse: 1566.88\n",
      "[731]\ttraining's rmse: 1412.53\tvalid_1's rmse: 1566.88\n",
      "[732]\ttraining's rmse: 1412.44\tvalid_1's rmse: 1566.88\n",
      "[733]\ttraining's rmse: 1412.29\tvalid_1's rmse: 1566.91\n",
      "[734]\ttraining's rmse: 1412.17\tvalid_1's rmse: 1566.94\n",
      "[735]\ttraining's rmse: 1412.06\tvalid_1's rmse: 1566.93\n",
      "[736]\ttraining's rmse: 1411.85\tvalid_1's rmse: 1566.89\n",
      "[737]\ttraining's rmse: 1411.7\tvalid_1's rmse: 1566.86\n",
      "[738]\ttraining's rmse: 1411.54\tvalid_1's rmse: 1566.83\n",
      "[739]\ttraining's rmse: 1411.43\tvalid_1's rmse: 1566.78\n",
      "[740]\ttraining's rmse: 1411.22\tvalid_1's rmse: 1566.7\n",
      "[741]\ttraining's rmse: 1411.09\tvalid_1's rmse: 1566.65\n",
      "[742]\ttraining's rmse: 1410.86\tvalid_1's rmse: 1566.64\n",
      "[743]\ttraining's rmse: 1410.75\tvalid_1's rmse: 1566.62\n",
      "[744]\ttraining's rmse: 1410.63\tvalid_1's rmse: 1566.61\n",
      "[745]\ttraining's rmse: 1410.53\tvalid_1's rmse: 1566.59\n",
      "[746]\ttraining's rmse: 1410.34\tvalid_1's rmse: 1566.52\n",
      "[747]\ttraining's rmse: 1410.17\tvalid_1's rmse: 1566.48\n",
      "[748]\ttraining's rmse: 1410.03\tvalid_1's rmse: 1566.5\n",
      "[749]\ttraining's rmse: 1409.86\tvalid_1's rmse: 1566.48\n",
      "[750]\ttraining's rmse: 1409.67\tvalid_1's rmse: 1566.39\n",
      "[751]\ttraining's rmse: 1409.54\tvalid_1's rmse: 1566.36\n",
      "[752]\ttraining's rmse: 1409.43\tvalid_1's rmse: 1566.36\n",
      "[753]\ttraining's rmse: 1409.34\tvalid_1's rmse: 1566.35\n",
      "[754]\ttraining's rmse: 1409.24\tvalid_1's rmse: 1566.32\n",
      "[755]\ttraining's rmse: 1409.15\tvalid_1's rmse: 1566.29\n",
      "[756]\ttraining's rmse: 1409.04\tvalid_1's rmse: 1566.29\n",
      "[757]\ttraining's rmse: 1408.93\tvalid_1's rmse: 1566.29\n",
      "[758]\ttraining's rmse: 1408.82\tvalid_1's rmse: 1566.26\n",
      "[759]\ttraining's rmse: 1408.66\tvalid_1's rmse: 1566.23\n",
      "[760]\ttraining's rmse: 1408.55\tvalid_1's rmse: 1566.2\n",
      "[761]\ttraining's rmse: 1408.43\tvalid_1's rmse: 1566.15\n",
      "[762]\ttraining's rmse: 1408.31\tvalid_1's rmse: 1566.09\n",
      "[763]\ttraining's rmse: 1408.17\tvalid_1's rmse: 1566.11\n",
      "[764]\ttraining's rmse: 1408.03\tvalid_1's rmse: 1566.08\n",
      "[765]\ttraining's rmse: 1407.8\tvalid_1's rmse: 1565.95\n",
      "[766]\ttraining's rmse: 1407.71\tvalid_1's rmse: 1565.92\n",
      "[767]\ttraining's rmse: 1407.61\tvalid_1's rmse: 1565.94\n",
      "[768]\ttraining's rmse: 1407.51\tvalid_1's rmse: 1565.93\n",
      "[769]\ttraining's rmse: 1407.4\tvalid_1's rmse: 1565.85\n",
      "[770]\ttraining's rmse: 1407.29\tvalid_1's rmse: 1565.78\n",
      "[771]\ttraining's rmse: 1407.12\tvalid_1's rmse: 1565.75\n",
      "[772]\ttraining's rmse: 1406.98\tvalid_1's rmse: 1565.74\n",
      "[773]\ttraining's rmse: 1406.77\tvalid_1's rmse: 1565.66\n",
      "[774]\ttraining's rmse: 1406.62\tvalid_1's rmse: 1565.59\n",
      "[775]\ttraining's rmse: 1406.52\tvalid_1's rmse: 1565.58\n",
      "[776]\ttraining's rmse: 1406.37\tvalid_1's rmse: 1565.59\n",
      "[777]\ttraining's rmse: 1406.25\tvalid_1's rmse: 1565.6\n",
      "[778]\ttraining's rmse: 1406.07\tvalid_1's rmse: 1565.57\n",
      "[779]\ttraining's rmse: 1405.95\tvalid_1's rmse: 1565.58\n",
      "[780]\ttraining's rmse: 1405.79\tvalid_1's rmse: 1565.53\n",
      "[781]\ttraining's rmse: 1405.68\tvalid_1's rmse: 1565.46\n",
      "[782]\ttraining's rmse: 1405.61\tvalid_1's rmse: 1565.45\n",
      "[783]\ttraining's rmse: 1405.47\tvalid_1's rmse: 1565.45\n",
      "[784]\ttraining's rmse: 1405.34\tvalid_1's rmse: 1565.42\n",
      "[785]\ttraining's rmse: 1405.23\tvalid_1's rmse: 1565.43\n",
      "[786]\ttraining's rmse: 1405.06\tvalid_1's rmse: 1565.34\n",
      "[787]\ttraining's rmse: 1404.94\tvalid_1's rmse: 1565.28\n",
      "[788]\ttraining's rmse: 1404.76\tvalid_1's rmse: 1565.22\n",
      "[789]\ttraining's rmse: 1404.63\tvalid_1's rmse: 1565.15\n",
      "[790]\ttraining's rmse: 1404.56\tvalid_1's rmse: 1565.16\n",
      "[791]\ttraining's rmse: 1404.39\tvalid_1's rmse: 1565.18\n",
      "[792]\ttraining's rmse: 1404.25\tvalid_1's rmse: 1565.2\n",
      "[793]\ttraining's rmse: 1403.96\tvalid_1's rmse: 1565.05\n",
      "[794]\ttraining's rmse: 1403.83\tvalid_1's rmse: 1565.06\n",
      "[795]\ttraining's rmse: 1403.7\tvalid_1's rmse: 1565.06\n",
      "[796]\ttraining's rmse: 1403.56\tvalid_1's rmse: 1565.02\n",
      "[797]\ttraining's rmse: 1403.47\tvalid_1's rmse: 1564.99\n",
      "[798]\ttraining's rmse: 1403.29\tvalid_1's rmse: 1564.91\n",
      "[799]\ttraining's rmse: 1403.19\tvalid_1's rmse: 1564.88\n",
      "[800]\ttraining's rmse: 1403.1\tvalid_1's rmse: 1564.86\n",
      "[801]\ttraining's rmse: 1402.96\tvalid_1's rmse: 1564.76\n",
      "[802]\ttraining's rmse: 1402.83\tvalid_1's rmse: 1564.73\n",
      "[803]\ttraining's rmse: 1402.74\tvalid_1's rmse: 1564.65\n",
      "[804]\ttraining's rmse: 1402.65\tvalid_1's rmse: 1564.61\n",
      "[805]\ttraining's rmse: 1402.54\tvalid_1's rmse: 1564.6\n",
      "[806]\ttraining's rmse: 1402.43\tvalid_1's rmse: 1564.63\n",
      "[807]\ttraining's rmse: 1402.24\tvalid_1's rmse: 1564.58\n",
      "[808]\ttraining's rmse: 1402.11\tvalid_1's rmse: 1564.61\n",
      "[809]\ttraining's rmse: 1401.99\tvalid_1's rmse: 1564.64\n",
      "[810]\ttraining's rmse: 1401.88\tvalid_1's rmse: 1564.67\n",
      "[811]\ttraining's rmse: 1401.69\tvalid_1's rmse: 1564.6\n",
      "[812]\ttraining's rmse: 1401.55\tvalid_1's rmse: 1564.59\n",
      "[813]\ttraining's rmse: 1401.36\tvalid_1's rmse: 1564.51\n",
      "[814]\ttraining's rmse: 1401.27\tvalid_1's rmse: 1564.52\n",
      "[815]\ttraining's rmse: 1401.1\tvalid_1's rmse: 1564.5\n",
      "[816]\ttraining's rmse: 1400.77\tvalid_1's rmse: 1564.44\n",
      "[817]\ttraining's rmse: 1400.66\tvalid_1's rmse: 1564.43\n",
      "[818]\ttraining's rmse: 1400.38\tvalid_1's rmse: 1564.42\n",
      "[819]\ttraining's rmse: 1400.28\tvalid_1's rmse: 1564.4\n",
      "[820]\ttraining's rmse: 1399.99\tvalid_1's rmse: 1564.28\n",
      "[821]\ttraining's rmse: 1399.88\tvalid_1's rmse: 1564.3\n",
      "[822]\ttraining's rmse: 1399.75\tvalid_1's rmse: 1564.26\n",
      "[823]\ttraining's rmse: 1399.64\tvalid_1's rmse: 1564.27\n",
      "[824]\ttraining's rmse: 1399.5\tvalid_1's rmse: 1564.27\n",
      "[825]\ttraining's rmse: 1399.36\tvalid_1's rmse: 1564.29\n",
      "[826]\ttraining's rmse: 1399.07\tvalid_1's rmse: 1564.31\n",
      "[827]\ttraining's rmse: 1398.93\tvalid_1's rmse: 1564.29\n",
      "[828]\ttraining's rmse: 1398.64\tvalid_1's rmse: 1564.2\n",
      "[829]\ttraining's rmse: 1398.43\tvalid_1's rmse: 1564.17\n",
      "[830]\ttraining's rmse: 1398.15\tvalid_1's rmse: 1564.11\n",
      "[831]\ttraining's rmse: 1397.98\tvalid_1's rmse: 1564.08\n",
      "[832]\ttraining's rmse: 1397.86\tvalid_1's rmse: 1564.04\n",
      "[833]\ttraining's rmse: 1397.69\tvalid_1's rmse: 1564\n",
      "[834]\ttraining's rmse: 1397.5\tvalid_1's rmse: 1563.91\n",
      "[835]\ttraining's rmse: 1397.34\tvalid_1's rmse: 1563.84\n",
      "[836]\ttraining's rmse: 1397.25\tvalid_1's rmse: 1563.83\n",
      "[837]\ttraining's rmse: 1397.16\tvalid_1's rmse: 1563.8\n",
      "[838]\ttraining's rmse: 1397.06\tvalid_1's rmse: 1563.81\n",
      "[839]\ttraining's rmse: 1396.97\tvalid_1's rmse: 1563.83\n",
      "[840]\ttraining's rmse: 1396.83\tvalid_1's rmse: 1563.8\n",
      "[841]\ttraining's rmse: 1396.66\tvalid_1's rmse: 1563.8\n",
      "[842]\ttraining's rmse: 1396.5\tvalid_1's rmse: 1563.77\n",
      "[843]\ttraining's rmse: 1396.37\tvalid_1's rmse: 1563.77\n",
      "[844]\ttraining's rmse: 1396.23\tvalid_1's rmse: 1563.76\n",
      "[845]\ttraining's rmse: 1396.09\tvalid_1's rmse: 1563.77\n",
      "[846]\ttraining's rmse: 1395.95\tvalid_1's rmse: 1563.74\n",
      "[847]\ttraining's rmse: 1395.81\tvalid_1's rmse: 1563.68\n",
      "[848]\ttraining's rmse: 1395.65\tvalid_1's rmse: 1563.61\n",
      "[849]\ttraining's rmse: 1395.57\tvalid_1's rmse: 1563.6\n",
      "[850]\ttraining's rmse: 1395.39\tvalid_1's rmse: 1563.56\n",
      "[851]\ttraining's rmse: 1395.26\tvalid_1's rmse: 1563.51\n",
      "[852]\ttraining's rmse: 1395.09\tvalid_1's rmse: 1563.44\n",
      "[853]\ttraining's rmse: 1395\tvalid_1's rmse: 1563.41\n",
      "[854]\ttraining's rmse: 1394.9\tvalid_1's rmse: 1563.42\n",
      "[855]\ttraining's rmse: 1394.8\tvalid_1's rmse: 1563.44\n",
      "[856]\ttraining's rmse: 1394.64\tvalid_1's rmse: 1563.43\n",
      "[857]\ttraining's rmse: 1394.55\tvalid_1's rmse: 1563.38\n",
      "[858]\ttraining's rmse: 1394.38\tvalid_1's rmse: 1563.4\n",
      "[859]\ttraining's rmse: 1394.27\tvalid_1's rmse: 1563.39\n",
      "[860]\ttraining's rmse: 1394.15\tvalid_1's rmse: 1563.39\n",
      "[861]\ttraining's rmse: 1394.05\tvalid_1's rmse: 1563.38\n",
      "[862]\ttraining's rmse: 1393.89\tvalid_1's rmse: 1563.38\n",
      "[863]\ttraining's rmse: 1393.8\tvalid_1's rmse: 1563.36\n",
      "[864]\ttraining's rmse: 1393.7\tvalid_1's rmse: 1563.39\n",
      "[865]\ttraining's rmse: 1393.62\tvalid_1's rmse: 1563.37\n",
      "[866]\ttraining's rmse: 1393.46\tvalid_1's rmse: 1563.34\n",
      "[867]\ttraining's rmse: 1393.35\tvalid_1's rmse: 1563.32\n",
      "[868]\ttraining's rmse: 1393.21\tvalid_1's rmse: 1563.28\n",
      "[869]\ttraining's rmse: 1393.06\tvalid_1's rmse: 1563.24\n",
      "[870]\ttraining's rmse: 1392.93\tvalid_1's rmse: 1563.24\n",
      "[871]\ttraining's rmse: 1392.77\tvalid_1's rmse: 1563.2\n",
      "[872]\ttraining's rmse: 1392.63\tvalid_1's rmse: 1563.18\n",
      "[873]\ttraining's rmse: 1392.52\tvalid_1's rmse: 1563.23\n",
      "[874]\ttraining's rmse: 1392.39\tvalid_1's rmse: 1563.2\n",
      "[875]\ttraining's rmse: 1392.29\tvalid_1's rmse: 1563.22\n",
      "[876]\ttraining's rmse: 1392.18\tvalid_1's rmse: 1563.19\n",
      "[877]\ttraining's rmse: 1392.08\tvalid_1's rmse: 1563.18\n",
      "[878]\ttraining's rmse: 1391.93\tvalid_1's rmse: 1563.13\n",
      "[879]\ttraining's rmse: 1391.82\tvalid_1's rmse: 1563.1\n",
      "[880]\ttraining's rmse: 1391.68\tvalid_1's rmse: 1563.07\n",
      "[881]\ttraining's rmse: 1391.56\tvalid_1's rmse: 1563.06\n",
      "[882]\ttraining's rmse: 1391.41\tvalid_1's rmse: 1563.05\n"
     ]
    },
    {
     "name": "stdout",
     "output_type": "stream",
     "text": [
      "[883]\ttraining's rmse: 1391.3\tvalid_1's rmse: 1562.98\n",
      "[884]\ttraining's rmse: 1391.2\tvalid_1's rmse: 1562.92\n",
      "[885]\ttraining's rmse: 1391.08\tvalid_1's rmse: 1562.87\n",
      "[886]\ttraining's rmse: 1390.93\tvalid_1's rmse: 1562.82\n",
      "[887]\ttraining's rmse: 1390.78\tvalid_1's rmse: 1562.78\n",
      "[888]\ttraining's rmse: 1390.47\tvalid_1's rmse: 1562.66\n",
      "[889]\ttraining's rmse: 1390.35\tvalid_1's rmse: 1562.66\n",
      "[890]\ttraining's rmse: 1390.19\tvalid_1's rmse: 1562.65\n",
      "[891]\ttraining's rmse: 1390.05\tvalid_1's rmse: 1562.64\n",
      "[892]\ttraining's rmse: 1389.85\tvalid_1's rmse: 1562.56\n",
      "[893]\ttraining's rmse: 1389.67\tvalid_1's rmse: 1562.51\n",
      "[894]\ttraining's rmse: 1389.51\tvalid_1's rmse: 1562.5\n",
      "[895]\ttraining's rmse: 1389.38\tvalid_1's rmse: 1562.53\n",
      "[896]\ttraining's rmse: 1389.18\tvalid_1's rmse: 1562.38\n",
      "[897]\ttraining's rmse: 1388.93\tvalid_1's rmse: 1562.28\n",
      "[898]\ttraining's rmse: 1388.72\tvalid_1's rmse: 1562.24\n",
      "[899]\ttraining's rmse: 1388.63\tvalid_1's rmse: 1562.24\n",
      "[900]\ttraining's rmse: 1388.51\tvalid_1's rmse: 1562.23\n",
      "[901]\ttraining's rmse: 1388.29\tvalid_1's rmse: 1562.09\n",
      "[902]\ttraining's rmse: 1388.13\tvalid_1's rmse: 1562.07\n",
      "[903]\ttraining's rmse: 1387.96\tvalid_1's rmse: 1561.97\n",
      "[904]\ttraining's rmse: 1387.81\tvalid_1's rmse: 1561.97\n",
      "[905]\ttraining's rmse: 1387.69\tvalid_1's rmse: 1561.97\n",
      "[906]\ttraining's rmse: 1387.57\tvalid_1's rmse: 1561.95\n",
      "[907]\ttraining's rmse: 1387.43\tvalid_1's rmse: 1561.84\n",
      "[908]\ttraining's rmse: 1387.34\tvalid_1's rmse: 1561.81\n",
      "[909]\ttraining's rmse: 1387.23\tvalid_1's rmse: 1561.76\n",
      "[910]\ttraining's rmse: 1387.12\tvalid_1's rmse: 1561.68\n",
      "[911]\ttraining's rmse: 1387.02\tvalid_1's rmse: 1561.67\n",
      "[912]\ttraining's rmse: 1386.8\tvalid_1's rmse: 1561.69\n",
      "[913]\ttraining's rmse: 1386.62\tvalid_1's rmse: 1561.65\n",
      "[914]\ttraining's rmse: 1386.43\tvalid_1's rmse: 1561.57\n",
      "[915]\ttraining's rmse: 1386.14\tvalid_1's rmse: 1561.44\n",
      "[916]\ttraining's rmse: 1385.95\tvalid_1's rmse: 1561.4\n",
      "[917]\ttraining's rmse: 1385.72\tvalid_1's rmse: 1561.35\n",
      "[918]\ttraining's rmse: 1385.52\tvalid_1's rmse: 1561.32\n",
      "[919]\ttraining's rmse: 1385.4\tvalid_1's rmse: 1561.34\n",
      "[920]\ttraining's rmse: 1385.12\tvalid_1's rmse: 1561.22\n",
      "[921]\ttraining's rmse: 1384.97\tvalid_1's rmse: 1561.18\n",
      "[922]\ttraining's rmse: 1384.85\tvalid_1's rmse: 1561.11\n",
      "[923]\ttraining's rmse: 1384.76\tvalid_1's rmse: 1561.02\n",
      "[924]\ttraining's rmse: 1384.68\tvalid_1's rmse: 1560.96\n",
      "[925]\ttraining's rmse: 1384.61\tvalid_1's rmse: 1560.93\n",
      "[926]\ttraining's rmse: 1384.48\tvalid_1's rmse: 1560.91\n",
      "[927]\ttraining's rmse: 1384.32\tvalid_1's rmse: 1560.83\n",
      "[928]\ttraining's rmse: 1384.2\tvalid_1's rmse: 1560.81\n",
      "[929]\ttraining's rmse: 1384.09\tvalid_1's rmse: 1560.81\n",
      "[930]\ttraining's rmse: 1383.96\tvalid_1's rmse: 1560.79\n",
      "[931]\ttraining's rmse: 1383.83\tvalid_1's rmse: 1560.78\n",
      "[932]\ttraining's rmse: 1383.7\tvalid_1's rmse: 1560.84\n",
      "[933]\ttraining's rmse: 1383.6\tvalid_1's rmse: 1560.79\n",
      "[934]\ttraining's rmse: 1383.53\tvalid_1's rmse: 1560.81\n",
      "[935]\ttraining's rmse: 1383.36\tvalid_1's rmse: 1560.75\n",
      "[936]\ttraining's rmse: 1383.23\tvalid_1's rmse: 1560.78\n",
      "[937]\ttraining's rmse: 1383.1\tvalid_1's rmse: 1560.79\n",
      "[938]\ttraining's rmse: 1382.96\tvalid_1's rmse: 1560.68\n",
      "[939]\ttraining's rmse: 1382.86\tvalid_1's rmse: 1560.64\n",
      "[940]\ttraining's rmse: 1382.73\tvalid_1's rmse: 1560.63\n",
      "[941]\ttraining's rmse: 1382.56\tvalid_1's rmse: 1560.6\n",
      "[942]\ttraining's rmse: 1382.4\tvalid_1's rmse: 1560.61\n",
      "[943]\ttraining's rmse: 1382.24\tvalid_1's rmse: 1560.57\n",
      "[944]\ttraining's rmse: 1382.08\tvalid_1's rmse: 1560.49\n",
      "[945]\ttraining's rmse: 1381.89\tvalid_1's rmse: 1560.39\n",
      "[946]\ttraining's rmse: 1381.76\tvalid_1's rmse: 1560.43\n",
      "[947]\ttraining's rmse: 1381.61\tvalid_1's rmse: 1560.41\n",
      "[948]\ttraining's rmse: 1381.45\tvalid_1's rmse: 1560.42\n",
      "[949]\ttraining's rmse: 1381.17\tvalid_1's rmse: 1560.31\n",
      "[950]\ttraining's rmse: 1381.04\tvalid_1's rmse: 1560.35\n",
      "[951]\ttraining's rmse: 1380.86\tvalid_1's rmse: 1560.33\n",
      "[952]\ttraining's rmse: 1380.7\tvalid_1's rmse: 1560.3\n",
      "[953]\ttraining's rmse: 1380.57\tvalid_1's rmse: 1560.29\n",
      "[954]\ttraining's rmse: 1380.4\tvalid_1's rmse: 1560.22\n",
      "[955]\ttraining's rmse: 1380.19\tvalid_1's rmse: 1560.12\n",
      "[956]\ttraining's rmse: 1380.08\tvalid_1's rmse: 1560.06\n",
      "[957]\ttraining's rmse: 1379.93\tvalid_1's rmse: 1559.97\n",
      "[958]\ttraining's rmse: 1379.82\tvalid_1's rmse: 1559.92\n",
      "[959]\ttraining's rmse: 1379.7\tvalid_1's rmse: 1559.93\n",
      "[960]\ttraining's rmse: 1379.61\tvalid_1's rmse: 1559.94\n",
      "[961]\ttraining's rmse: 1379.42\tvalid_1's rmse: 1559.95\n",
      "[962]\ttraining's rmse: 1379.34\tvalid_1's rmse: 1559.95\n",
      "[963]\ttraining's rmse: 1379.21\tvalid_1's rmse: 1559.9\n",
      "[964]\ttraining's rmse: 1379.08\tvalid_1's rmse: 1559.84\n",
      "[965]\ttraining's rmse: 1379.01\tvalid_1's rmse: 1559.85\n",
      "[966]\ttraining's rmse: 1378.89\tvalid_1's rmse: 1559.84\n",
      "[967]\ttraining's rmse: 1378.65\tvalid_1's rmse: 1559.73\n",
      "[968]\ttraining's rmse: 1378.54\tvalid_1's rmse: 1559.7\n",
      "[969]\ttraining's rmse: 1378.44\tvalid_1's rmse: 1559.65\n",
      "[970]\ttraining's rmse: 1378.28\tvalid_1's rmse: 1559.6\n",
      "[971]\ttraining's rmse: 1378.18\tvalid_1's rmse: 1559.6\n",
      "[972]\ttraining's rmse: 1378\tvalid_1's rmse: 1559.57\n",
      "[973]\ttraining's rmse: 1377.91\tvalid_1's rmse: 1559.55\n",
      "[974]\ttraining's rmse: 1377.8\tvalid_1's rmse: 1559.52\n",
      "[975]\ttraining's rmse: 1377.68\tvalid_1's rmse: 1559.53\n",
      "[976]\ttraining's rmse: 1377.51\tvalid_1's rmse: 1559.47\n",
      "[977]\ttraining's rmse: 1377.34\tvalid_1's rmse: 1559.39\n",
      "[978]\ttraining's rmse: 1377.25\tvalid_1's rmse: 1559.39\n",
      "[979]\ttraining's rmse: 1377.15\tvalid_1's rmse: 1559.41\n",
      "[980]\ttraining's rmse: 1377.03\tvalid_1's rmse: 1559.4\n",
      "[981]\ttraining's rmse: 1376.89\tvalid_1's rmse: 1559.36\n",
      "[982]\ttraining's rmse: 1376.75\tvalid_1's rmse: 1559.32\n",
      "[983]\ttraining's rmse: 1376.62\tvalid_1's rmse: 1559.3\n",
      "[984]\ttraining's rmse: 1376.51\tvalid_1's rmse: 1559.31\n",
      "[985]\ttraining's rmse: 1376.34\tvalid_1's rmse: 1559.29\n",
      "[986]\ttraining's rmse: 1376.23\tvalid_1's rmse: 1559.28\n",
      "[987]\ttraining's rmse: 1376.1\tvalid_1's rmse: 1559.25\n",
      "[988]\ttraining's rmse: 1375.99\tvalid_1's rmse: 1559.23\n",
      "[989]\ttraining's rmse: 1375.91\tvalid_1's rmse: 1559.23\n",
      "[990]\ttraining's rmse: 1375.82\tvalid_1's rmse: 1559.22\n",
      "[991]\ttraining's rmse: 1375.7\tvalid_1's rmse: 1559.14\n",
      "[992]\ttraining's rmse: 1375.58\tvalid_1's rmse: 1559.13\n",
      "[993]\ttraining's rmse: 1375.48\tvalid_1's rmse: 1559.1\n",
      "[994]\ttraining's rmse: 1375.4\tvalid_1's rmse: 1559.07\n",
      "[995]\ttraining's rmse: 1375.21\tvalid_1's rmse: 1558.98\n",
      "[996]\ttraining's rmse: 1375.15\tvalid_1's rmse: 1558.98\n",
      "[997]\ttraining's rmse: 1375.07\tvalid_1's rmse: 1558.98\n",
      "[998]\ttraining's rmse: 1374.97\tvalid_1's rmse: 1558.98\n",
      "[999]\ttraining's rmse: 1374.88\tvalid_1's rmse: 1558.95\n",
      "[1000]\ttraining's rmse: 1374.7\tvalid_1's rmse: 1558.92\n",
      "Did not meet early stopping. Best iteration is:\n",
      "[1000]\ttraining's rmse: 1374.7\tvalid_1's rmse: 1558.92\n",
      "CPU times: user 43.5 s, sys: 10.9 s, total: 54.3 s\n",
      "Wall time: 9.03 s\n"
     ]
    }
   ],
   "source": [
    "%%time\n",
    "params = {\n",
    "    'boosting_type': 'gbdt',\n",
    "    'objective': 'regression',\n",
    "    'metric': 'rmse',\n",
    "    'num_leaves': 31,\n",
    "    'learning_rate': 0.05,\n",
    "    'feature_fraction': 0.9,\n",
    "    'bagging_fraction': 0.8,    \n",
    "    'bagging_freq': 5,          \n",
    "    'verbose': -1,              \n",
    "    'n_jobs': -1               \n",
    "}\n",
    "\n",
    "lgbm_model1 = lgb.train(params, train_data, num_boost_round=1000, valid_sets=[train_data, valid_data], early_stopping_rounds=100)"
   ]
  },
  {
   "cell_type": "markdown",
   "metadata": {},
   "source": [
    "LightGBM оказался действительно быстрее и качественне. И с завидным постоянством выдает все тот же результат по качеству, хотя скорость сильно варьируется : в прошлый раз было 17 минут, в этот раз 1 минута. Вот и сравним давайте:\n",
    "\n",
    "[1000]\ttraining's rmse: 1374.7\tvalid_1's rmse: 1558.92\n",
    "CPU times: user 16min 37s, sys: 8.11 s, total: 16min 45s\n",
    "Wall time: 16min 56s\n",
    "\n",
    "[1000]\ttraining's rmse: 1374.7\tvalid_1's rmse: 1558.92\n",
    "CPU times: user 55.4 s, sys: 294 ms, total: 55.7 s\n",
    "Wall time: 57.1 s\n",
    "\n",
    "А в очередной раз уже 15 минут... Похоже, это все же ближе к истине... а потом опять минута...."
   ]
  },
  {
   "cell_type": "code",
   "execution_count": 128,
   "metadata": {},
   "outputs": [
    {
     "name": "stdout",
     "output_type": "stream",
     "text": [
      "1558.9181147045379\n",
      "CPU times: user 5.57 s, sys: 138 ms, total: 5.71 s\n",
      "Wall time: 885 ms\n"
     ]
    }
   ],
   "source": [
    "%%time\n",
    "print(mean_squared_error(target_valid3, lgbm_model1.predict(features_valid3))**0.5)"
   ]
  },
  {
   "cell_type": "markdown",
   "metadata": {},
   "source": [
    "Но давайте сделаем еще 2 попытки - попробуем то же самое, но немного поменяем гиперпараметры в первом случае. А во втором случае еще и возьмем данные из порядкового кодирования, которое мы делали для случайного леса. Как я уже упоминал, обучение по ним может оказаться эффективнее. "
   ]
  },
  {
   "cell_type": "code",
   "execution_count": 129,
   "metadata": {},
   "outputs": [],
   "source": [
    "params2 = {\n",
    "    'boosting_type': 'gbdt',\n",
    "    'objective': 'regression',\n",
    "    'metric': 'rmse',\n",
    "    'num_leaves': 10,\n",
    "    'learning_rate': 0.1,\n",
    "    'feature_fraction': 0.9,\n",
    "    'bagging_fraction': 0.8,\n",
    "    'bagging_freq': 5,\n",
    "    'verbose': -1,\n",
    "    'n_jobs': -1\n",
    "}"
   ]
  },
  {
   "cell_type": "code",
   "execution_count": 130,
   "metadata": {
    "scrolled": true
   },
   "outputs": [],
   "source": [
    "#%%time\n",
    "#lgbm_model2 = lgb.train(params2, train_data, num_boost_round=2000, valid_sets=[train_data, valid_data], early_stopping_rounds=100)"
   ]
  },
  {
   "cell_type": "markdown",
   "metadata": {},
   "source": [
    "Обучается модель почти с той же скоростью. По качеству она незначительно уступает нашей первой бустинговой модели! Больше итераций, но каждое деревце по-проще.\n",
    "\n",
    "2000]\ttraining's rmse: 1400.42\tvalid_1's rmse: 1584.09\n",
    "CPU times: user 1min 11s, sys: 320 ms, total: 1min 11s\n",
    "Wall time: 1min 13s"
   ]
  },
  {
   "cell_type": "code",
   "execution_count": 131,
   "metadata": {},
   "outputs": [],
   "source": [
    "#%%time\n",
    "#print(mean_squared_error(target_valid3, lgbm_model2.predict(features_valid3))**0.5)"
   ]
  },
  {
   "cell_type": "code",
   "execution_count": 132,
   "metadata": {},
   "outputs": [
    {
     "name": "stdout",
     "output_type": "stream",
     "text": [
      "<class 'pandas.core.frame.DataFrame'>\n",
      "Int64Index: 153264 entries, 231556 to 18421\n",
      "Data columns (total 11 columns):\n",
      " #   Column       Non-Null Count   Dtype  \n",
      "---  ------       --------------   -----  \n",
      " 0   vehicletype  153264 non-null  float64\n",
      " 1   regyear      153264 non-null  int64  \n",
      " 2   gearbox      153264 non-null  float64\n",
      " 3   power        153264 non-null  int64  \n",
      " 4   model        153264 non-null  float64\n",
      " 5   kilometer    153264 non-null  int64  \n",
      " 6   regmonth     153264 non-null  float64\n",
      " 7   fueltype     153264 non-null  float64\n",
      " 8   brand        153264 non-null  float64\n",
      " 9   repaired     153264 non-null  float64\n",
      " 10  age          153264 non-null  int64  \n",
      "dtypes: float64(7), int64(4)\n",
      "memory usage: 14.0 MB\n",
      "None\n"
     ]
    }
   ],
   "source": [
    "print(features_train2.info())"
   ]
  },
  {
   "cell_type": "code",
   "execution_count": 133,
   "metadata": {},
   "outputs": [],
   "source": [
    "train_data2 = lgb.Dataset(features_train2, label=target_train2, categorical_feature=categorical_features, free_raw_data=False)\n",
    "valid_data2 = lgb.Dataset(features_valid2, label=target_valid2, categorical_feature=categorical_features, free_raw_data=False)\n",
    "test_data2 = lgb.Dataset(features_test2, label=target_test2, categorical_feature=categorical_features, free_raw_data=False)"
   ]
  },
  {
   "cell_type": "code",
   "execution_count": 134,
   "metadata": {},
   "outputs": [],
   "source": [
    "#%%time\n",
    "#lgbm_model3 = lgb.train(params2, train_data2, num_boost_round=2000, valid_sets=[train_data2, valid_data2], early_stopping_rounds=100)"
   ]
  },
  {
   "cell_type": "markdown",
   "metadata": {},
   "source": [
    "[2000]\ttraining's rmse: 1400.42\tvalid_1's rmse: 1584.06\n",
    "CPU times: user 1min 17s, sys: 387 ms, total: 1min 17s\n",
    "Wall time: 1min 19s"
   ]
  },
  {
   "cell_type": "code",
   "execution_count": 135,
   "metadata": {},
   "outputs": [],
   "source": [
    "#%%time\n",
    "#print(mean_squared_error(target_valid2, lgbm_model3.predict(features_valid2))**0.5)"
   ]
  },
  {
   "cell_type": "markdown",
   "metadata": {},
   "source": [
    "## Анализ моделей"
   ]
  },
  {
   "cell_type": "markdown",
   "metadata": {},
   "source": [
    "Итак, мы постоили 3 модели - регрессии, случайного леса и градиентного бустинга. Давайте сравним их и выберем одну для тестирования."
   ]
  },
  {
   "cell_type": "code",
   "execution_count": 136,
   "metadata": {},
   "outputs": [
    {
     "name": "stdout",
     "output_type": "stream",
     "text": [
      "        model  train_time_mins  rmse_eur  prediction_time_sec\n",
      "0  regression             0.28      2474                  0.4\n",
      "1      forest             0.25      1810                  0.3\n",
      "2    boosting             0.95      1558                 10.8\n"
     ]
    }
   ],
   "source": [
    "anal = [['regression', 0.28, 2474, 0.4],\n",
    "        ['forest', 0.25, 1810, 0.3],\n",
    "        ['boosting', 0.95, 1558, 10.8]]\n",
    "\n",
    "cols = ['model', 'train_time_mins', 'rmse_eur', 'prediction_time_sec']\n",
    "analysys = pd.DataFrame(anal, columns=cols)\n",
    "print(analysys)"
   ]
  },
  {
   "cell_type": "markdown",
   "metadata": {},
   "source": [
    "В табличке мы можем с вами увидеть, что Модель регрессии сильно отличается по качеству в худшую сторону. Ее мы дальше не рассматриваем. На втором месте модель случайного леса. Модель градиентного бустинга немного медленнее предсказывает результаты и обучается, зато дает ощутимо более точные прогнозы. "
   ]
  },
  {
   "cell_type": "markdown",
   "metadata": {},
   "source": [
    "Исходя из вышеперечисленного мы вибираем модель градиентного бустинга для дальнейшей проверки на тестовой выборке. "
   ]
  },
  {
   "cell_type": "code",
   "execution_count": 137,
   "metadata": {},
   "outputs": [
    {
     "name": "stdout",
     "output_type": "stream",
     "text": [
      "1532.6859932300138\n",
      "CPU times: user 7.37 s, sys: 175 ms, total: 7.54 s\n",
      "Wall time: 1.43 s\n"
     ]
    }
   ],
   "source": [
    "%%time\n",
    "print(mean_squared_error(target_test3, lgbm_model1.predict(features_test3))**0.5)"
   ]
  },
  {
   "cell_type": "markdown",
   "metadata": {},
   "source": [
    "Время предсказания еще больше увеличилось (думаю, объясняется это тем, что тестовая выборка больше валидационной), а качество предсказаний немного лучше, чем на валидационной выборке и намного лучше других моделей, а также очень на много лучше поставленной цели. "
   ]
  },
  {
   "cell_type": "markdown",
   "metadata": {},
   "source": [
    "## Вывод"
   ]
  },
  {
   "cell_type": "markdown",
   "metadata": {},
   "source": [
    "В ходе проекта была проведена большая работа по созданию моделей для предсказания цены на автомобиль. \n",
    "\n",
    "Самой трудоемкой частью были исследовательский анализ данных их предобработка, поскольку данные устаревшие, плохого качества - с кучей пропусков, ошибок и выбросов. Я думаю, что именно качественная предобработка стала ключом к столь низкому итоговому rmse.\n",
    "\n",
    "Затем мы обучили 5 моделей - регрессию, случайный лес и 3 бустинга с различными гиперпараметрами и кодировкой данных. \n",
    "\n",
    "В ходе сравнения скорости и качества моделей лучше всего оказалась модель градиентного бустинга. \n",
    "\n",
    "Поставленные заказчиком задачи выполнены и даже первыполнены - качество сильно превосходит требования заказчика - RMSE на тестовой выборке = 1532 евро при том, что время обучения и время предсказания можно считать низкими. "
   ]
  },
  {
   "cell_type": "code",
   "execution_count": null,
   "metadata": {},
   "outputs": [],
   "source": []
  }
 ],
 "metadata": {
  "ExecuteTimeLog": [
   {
    "duration": 67,
    "start_time": "2022-11-03T08:40:47.832Z"
   },
   {
    "duration": 1738,
    "start_time": "2022-11-03T08:40:53.648Z"
   },
   {
    "duration": 5,
    "start_time": "2022-11-03T08:41:00.178Z"
   },
   {
    "duration": 3356,
    "start_time": "2022-11-03T08:41:02.229Z"
   },
   {
    "duration": 24,
    "start_time": "2022-11-03T08:44:21.270Z"
   },
   {
    "duration": 774,
    "start_time": "2022-11-03T08:48:14.761Z"
   },
   {
    "duration": 130,
    "start_time": "2022-11-03T08:48:32.238Z"
   },
   {
    "duration": 997,
    "start_time": "2022-11-03T08:48:59.928Z"
   },
   {
    "duration": 5,
    "start_time": "2022-11-03T10:17:07.220Z"
   },
   {
    "duration": 1574,
    "start_time": "2022-11-03T10:17:14.642Z"
   },
   {
    "duration": 2477,
    "start_time": "2022-11-03T10:17:16.218Z"
   },
   {
    "duration": 4,
    "start_time": "2022-11-03T10:17:18.696Z"
   },
   {
    "duration": 25,
    "start_time": "2022-11-03T10:17:18.702Z"
   },
   {
    "duration": 890,
    "start_time": "2022-11-03T10:17:18.729Z"
   },
   {
    "duration": 31,
    "start_time": "2022-11-03T10:17:19.621Z"
   },
   {
    "duration": 73,
    "start_time": "2022-11-03T10:18:44.358Z"
   },
   {
    "duration": 75,
    "start_time": "2022-11-03T10:18:48.214Z"
   },
   {
    "duration": 80,
    "start_time": "2022-11-03T10:18:56.126Z"
   },
   {
    "duration": 78,
    "start_time": "2022-11-03T10:19:04.108Z"
   },
   {
    "duration": 18,
    "start_time": "2022-11-03T10:22:49.675Z"
   },
   {
    "duration": 115,
    "start_time": "2022-11-03T10:26:09.441Z"
   },
   {
    "duration": 12,
    "start_time": "2022-11-03T10:26:17.431Z"
   },
   {
    "duration": 12,
    "start_time": "2022-11-03T10:26:26.116Z"
   },
   {
    "duration": 4,
    "start_time": "2022-11-03T10:26:33.622Z"
   },
   {
    "duration": 13,
    "start_time": "2022-11-03T10:26:37.849Z"
   },
   {
    "duration": 10,
    "start_time": "2022-11-03T10:26:57.228Z"
   },
   {
    "duration": 6,
    "start_time": "2022-11-03T11:22:58.102Z"
   },
   {
    "duration": 11,
    "start_time": "2022-11-03T11:38:20.209Z"
   },
   {
    "duration": 7,
    "start_time": "2022-11-03T11:47:13.204Z"
   },
   {
    "duration": 8,
    "start_time": "2022-11-03T11:56:52.631Z"
   },
   {
    "duration": 73,
    "start_time": "2022-11-03T11:57:49.630Z"
   },
   {
    "duration": 39,
    "start_time": "2022-11-03T11:58:57.947Z"
   },
   {
    "duration": 16,
    "start_time": "2022-11-03T12:04:36.019Z"
   },
   {
    "duration": 6,
    "start_time": "2022-11-03T12:05:00.715Z"
   },
   {
    "duration": 16,
    "start_time": "2022-11-03T12:06:02.867Z"
   },
   {
    "duration": 42,
    "start_time": "2022-11-03T12:06:09.019Z"
   },
   {
    "duration": 37,
    "start_time": "2022-11-03T12:06:20.291Z"
   },
   {
    "duration": 35,
    "start_time": "2022-11-03T12:06:41.766Z"
   },
   {
    "duration": 32,
    "start_time": "2022-11-03T12:06:47.492Z"
   },
   {
    "duration": 32,
    "start_time": "2022-11-03T12:08:47.667Z"
   },
   {
    "duration": 1624,
    "start_time": "2023-03-15T11:31:06.236Z"
   },
   {
    "duration": 1357,
    "start_time": "2023-03-15T13:10:32.036Z"
   },
   {
    "duration": 2605,
    "start_time": "2023-03-15T13:10:33.395Z"
   },
   {
    "duration": 3,
    "start_time": "2023-03-15T13:10:36.002Z"
   },
   {
    "duration": 22,
    "start_time": "2023-03-15T13:10:36.007Z"
   },
   {
    "duration": 718,
    "start_time": "2023-03-15T13:10:36.031Z"
   },
   {
    "duration": 10,
    "start_time": "2023-03-15T13:10:36.751Z"
   },
   {
    "duration": 7,
    "start_time": "2023-03-15T13:10:36.763Z"
   },
   {
    "duration": 23,
    "start_time": "2023-03-15T13:10:36.772Z"
   },
   {
    "duration": 7,
    "start_time": "2023-03-15T13:10:36.797Z"
   },
   {
    "duration": 33,
    "start_time": "2023-03-15T13:10:36.807Z"
   },
   {
    "duration": 60,
    "start_time": "2023-03-15T13:10:36.842Z"
   },
   {
    "duration": 35,
    "start_time": "2023-03-15T13:10:36.904Z"
   },
   {
    "duration": 6,
    "start_time": "2023-03-15T13:10:36.941Z"
   },
   {
    "duration": 15,
    "start_time": "2023-03-15T13:11:41.041Z"
   },
   {
    "duration": 27,
    "start_time": "2023-03-15T13:12:30.505Z"
   },
   {
    "duration": 13,
    "start_time": "2023-03-15T13:12:52.797Z"
   },
   {
    "duration": 136,
    "start_time": "2023-03-15T13:14:37.839Z"
   },
   {
    "duration": 15,
    "start_time": "2023-03-15T13:15:07.944Z"
   },
   {
    "duration": 48,
    "start_time": "2023-03-15T13:42:18.156Z"
   },
   {
    "duration": 11,
    "start_time": "2023-03-15T13:52:44.944Z"
   },
   {
    "duration": 9,
    "start_time": "2023-03-15T14:02:33.705Z"
   },
   {
    "duration": 166,
    "start_time": "2023-03-15T14:02:42.407Z"
   },
   {
    "duration": 215,
    "start_time": "2023-03-15T14:02:58.337Z"
   },
   {
    "duration": 22,
    "start_time": "2023-03-15T14:04:22.437Z"
   },
   {
    "duration": 192,
    "start_time": "2023-03-15T14:05:20.702Z"
   },
   {
    "duration": 8,
    "start_time": "2023-03-15T14:05:41.809Z"
   },
   {
    "duration": 8,
    "start_time": "2023-03-15T14:09:41.728Z"
   },
   {
    "duration": 4,
    "start_time": "2023-03-15T14:12:46.358Z"
   },
   {
    "duration": 4,
    "start_time": "2023-03-15T14:12:49.009Z"
   },
   {
    "duration": 16,
    "start_time": "2023-03-15T14:13:38.320Z"
   },
   {
    "duration": 13,
    "start_time": "2023-03-15T14:13:42.045Z"
   },
   {
    "duration": 79,
    "start_time": "2023-03-15T14:14:47.403Z"
   },
   {
    "duration": 69,
    "start_time": "2023-03-15T14:14:53.517Z"
   },
   {
    "duration": 1388,
    "start_time": "2023-03-15T14:15:11.978Z"
   },
   {
    "duration": 883,
    "start_time": "2023-03-15T14:15:13.370Z"
   },
   {
    "duration": 5,
    "start_time": "2023-03-15T14:15:14.255Z"
   },
   {
    "duration": 32,
    "start_time": "2023-03-15T14:15:14.262Z"
   },
   {
    "duration": 753,
    "start_time": "2023-03-15T14:15:14.297Z"
   },
   {
    "duration": 15,
    "start_time": "2023-03-15T14:15:15.053Z"
   },
   {
    "duration": 23,
    "start_time": "2023-03-15T14:15:15.070Z"
   },
   {
    "duration": 6,
    "start_time": "2023-03-15T14:15:15.096Z"
   },
   {
    "duration": 93,
    "start_time": "2023-03-15T14:15:15.104Z"
   },
   {
    "duration": 10,
    "start_time": "2023-03-15T14:15:15.200Z"
   },
   {
    "duration": 7,
    "start_time": "2023-03-15T14:15:15.212Z"
   },
   {
    "duration": 17,
    "start_time": "2023-03-15T14:15:15.221Z"
   },
   {
    "duration": 6,
    "start_time": "2023-03-15T14:15:15.239Z"
   },
   {
    "duration": 183,
    "start_time": "2023-03-15T14:15:15.247Z"
   },
   {
    "duration": 9,
    "start_time": "2023-03-15T14:15:15.432Z"
   },
   {
    "duration": 58,
    "start_time": "2023-03-15T14:15:15.443Z"
   },
   {
    "duration": 40,
    "start_time": "2023-03-15T14:15:15.503Z"
   },
   {
    "duration": 54,
    "start_time": "2023-03-15T14:15:15.545Z"
   },
   {
    "duration": 10,
    "start_time": "2023-03-15T14:15:15.601Z"
   },
   {
    "duration": 54,
    "start_time": "2023-03-15T14:15:52.859Z"
   },
   {
    "duration": 249,
    "start_time": "2023-03-15T14:16:14.246Z"
   },
   {
    "duration": 17,
    "start_time": "2023-03-15T14:17:21.349Z"
   },
   {
    "duration": 66,
    "start_time": "2023-03-15T14:17:53.226Z"
   },
   {
    "duration": 48,
    "start_time": "2023-03-16T11:31:43.317Z"
   },
   {
    "duration": 6,
    "start_time": "2023-03-16T11:32:21.325Z"
   },
   {
    "duration": 1576,
    "start_time": "2023-03-16T11:32:29.721Z"
   },
   {
    "duration": 2806,
    "start_time": "2023-03-16T11:32:31.299Z"
   },
   {
    "duration": 4,
    "start_time": "2023-03-16T11:32:34.107Z"
   },
   {
    "duration": 13,
    "start_time": "2023-03-16T11:32:34.113Z"
   },
   {
    "duration": 735,
    "start_time": "2023-03-16T11:32:34.129Z"
   },
   {
    "duration": 14,
    "start_time": "2023-03-16T11:32:34.866Z"
   },
   {
    "duration": 8,
    "start_time": "2023-03-16T11:32:34.882Z"
   },
   {
    "duration": 4,
    "start_time": "2023-03-16T11:32:34.892Z"
   },
   {
    "duration": 93,
    "start_time": "2023-03-16T11:32:34.898Z"
   },
   {
    "duration": 239,
    "start_time": "2023-03-16T11:32:34.993Z"
   },
   {
    "duration": 895,
    "start_time": "2023-03-16T11:32:35.234Z"
   },
   {
    "duration": 0,
    "start_time": "2023-03-16T11:32:36.131Z"
   },
   {
    "duration": 0,
    "start_time": "2023-03-16T11:32:36.133Z"
   },
   {
    "duration": 0,
    "start_time": "2023-03-16T11:32:36.134Z"
   },
   {
    "duration": 0,
    "start_time": "2023-03-16T11:32:36.135Z"
   },
   {
    "duration": 0,
    "start_time": "2023-03-16T11:32:36.135Z"
   },
   {
    "duration": 0,
    "start_time": "2023-03-16T11:32:36.136Z"
   },
   {
    "duration": 0,
    "start_time": "2023-03-16T11:32:36.137Z"
   },
   {
    "duration": 0,
    "start_time": "2023-03-16T11:32:36.138Z"
   },
   {
    "duration": 0,
    "start_time": "2023-03-16T11:32:36.139Z"
   },
   {
    "duration": 0,
    "start_time": "2023-03-16T11:32:36.141Z"
   },
   {
    "duration": 0,
    "start_time": "2023-03-16T11:32:36.142Z"
   },
   {
    "duration": 763,
    "start_time": "2023-03-16T11:33:32.108Z"
   },
   {
    "duration": 8,
    "start_time": "2023-03-16T11:33:44.986Z"
   },
   {
    "duration": 6,
    "start_time": "2023-03-16T11:34:00.626Z"
   },
   {
    "duration": 20,
    "start_time": "2023-03-16T11:34:48.162Z"
   },
   {
    "duration": 8,
    "start_time": "2023-03-16T11:36:53.501Z"
   },
   {
    "duration": 14,
    "start_time": "2023-03-16T11:39:54.513Z"
   },
   {
    "duration": 1473,
    "start_time": "2023-03-16T12:09:35.298Z"
   },
   {
    "duration": 1000,
    "start_time": "2023-03-16T12:09:36.773Z"
   },
   {
    "duration": 5,
    "start_time": "2023-03-16T12:09:37.775Z"
   },
   {
    "duration": 27,
    "start_time": "2023-03-16T12:09:37.782Z"
   },
   {
    "duration": 875,
    "start_time": "2023-03-16T12:09:37.812Z"
   },
   {
    "duration": 16,
    "start_time": "2023-03-16T12:09:38.689Z"
   },
   {
    "duration": 9,
    "start_time": "2023-03-16T12:09:38.707Z"
   },
   {
    "duration": 27,
    "start_time": "2023-03-16T12:09:38.718Z"
   },
   {
    "duration": 71,
    "start_time": "2023-03-16T12:09:38.747Z"
   },
   {
    "duration": 201,
    "start_time": "2023-03-16T12:09:38.820Z"
   },
   {
    "duration": 6,
    "start_time": "2023-03-16T12:09:39.023Z"
   },
   {
    "duration": 25,
    "start_time": "2023-03-16T12:09:39.030Z"
   },
   {
    "duration": 16,
    "start_time": "2023-03-16T12:09:39.057Z"
   },
   {
    "duration": 20,
    "start_time": "2023-03-16T12:09:39.076Z"
   },
   {
    "duration": 20,
    "start_time": "2023-03-16T12:09:39.098Z"
   },
   {
    "duration": 23,
    "start_time": "2023-03-16T12:09:39.120Z"
   },
   {
    "duration": 20,
    "start_time": "2023-03-16T12:09:39.145Z"
   },
   {
    "duration": 13,
    "start_time": "2023-03-16T12:09:39.167Z"
   },
   {
    "duration": 14,
    "start_time": "2023-03-16T12:09:39.182Z"
   },
   {
    "duration": 262,
    "start_time": "2023-03-16T12:09:39.197Z"
   },
   {
    "duration": 7,
    "start_time": "2023-03-16T12:09:39.461Z"
   },
   {
    "duration": 36,
    "start_time": "2023-03-16T12:09:39.470Z"
   },
   {
    "duration": 66,
    "start_time": "2023-03-16T12:09:39.509Z"
   },
   {
    "duration": 36,
    "start_time": "2023-03-16T12:09:39.578Z"
   },
   {
    "duration": 28,
    "start_time": "2023-03-16T12:09:39.616Z"
   },
   {
    "duration": 16,
    "start_time": "2023-03-16T12:13:28.490Z"
   },
   {
    "duration": 16,
    "start_time": "2023-03-16T12:15:21.497Z"
   },
   {
    "duration": 11,
    "start_time": "2023-03-16T12:24:39.418Z"
   },
   {
    "duration": 45,
    "start_time": "2023-03-16T12:49:04.697Z"
   },
   {
    "duration": 63,
    "start_time": "2023-03-16T12:57:21.730Z"
   },
   {
    "duration": 78,
    "start_time": "2023-03-16T12:57:49.305Z"
   },
   {
    "duration": 97,
    "start_time": "2023-03-16T12:58:04.888Z"
   },
   {
    "duration": 53,
    "start_time": "2023-03-16T12:59:02.002Z"
   },
   {
    "duration": 147,
    "start_time": "2023-03-16T12:59:39.677Z"
   },
   {
    "duration": 2212,
    "start_time": "2023-03-16T13:00:51.334Z"
   },
   {
    "duration": 1219,
    "start_time": "2023-03-16T13:00:53.548Z"
   },
   {
    "duration": 4,
    "start_time": "2023-03-16T13:00:54.768Z"
   },
   {
    "duration": 22,
    "start_time": "2023-03-16T13:00:54.773Z"
   },
   {
    "duration": 876,
    "start_time": "2023-03-16T13:00:54.797Z"
   },
   {
    "duration": 14,
    "start_time": "2023-03-16T13:00:55.675Z"
   },
   {
    "duration": 31,
    "start_time": "2023-03-16T13:01:03.830Z"
   },
   {
    "duration": 71,
    "start_time": "2023-03-16T13:01:06.950Z"
   },
   {
    "duration": 109,
    "start_time": "2023-03-16T13:01:24.795Z"
   },
   {
    "duration": 45,
    "start_time": "2023-03-16T13:01:32.179Z"
   },
   {
    "duration": 51,
    "start_time": "2023-03-16T13:01:38.753Z"
   },
   {
    "duration": 55,
    "start_time": "2023-03-16T13:01:52.782Z"
   },
   {
    "duration": 37,
    "start_time": "2023-03-16T13:02:01.530Z"
   },
   {
    "duration": 28,
    "start_time": "2023-03-16T13:07:13.353Z"
   },
   {
    "duration": 8,
    "start_time": "2023-03-16T13:07:18.118Z"
   },
   {
    "duration": 4,
    "start_time": "2023-03-16T13:07:22.002Z"
   },
   {
    "duration": 60,
    "start_time": "2023-03-16T13:07:25.598Z"
   },
   {
    "duration": 160,
    "start_time": "2023-03-16T13:07:29.315Z"
   },
   {
    "duration": 5,
    "start_time": "2023-03-16T13:13:31.536Z"
   },
   {
    "duration": 12,
    "start_time": "2023-03-16T13:20:37.375Z"
   },
   {
    "duration": 14,
    "start_time": "2023-03-16T13:23:18.913Z"
   },
   {
    "duration": 110,
    "start_time": "2023-03-16T13:25:52.716Z"
   },
   {
    "duration": 11,
    "start_time": "2023-03-16T13:25:59.175Z"
   },
   {
    "duration": 11,
    "start_time": "2023-03-16T13:26:02.342Z"
   },
   {
    "duration": 16,
    "start_time": "2023-03-16T13:27:15.241Z"
   },
   {
    "duration": 5,
    "start_time": "2023-03-16T13:38:58.910Z"
   },
   {
    "duration": 48,
    "start_time": "2023-03-16T13:39:14.101Z"
   },
   {
    "duration": 14,
    "start_time": "2023-03-16T13:42:20.713Z"
   },
   {
    "duration": 838,
    "start_time": "2023-03-16T13:42:32.193Z"
   },
   {
    "duration": 7,
    "start_time": "2023-03-16T13:42:42.685Z"
   },
   {
    "duration": 8,
    "start_time": "2023-03-16T13:44:32.956Z"
   },
   {
    "duration": 11,
    "start_time": "2023-03-16T13:44:39.102Z"
   },
   {
    "duration": 7,
    "start_time": "2023-03-16T13:48:56.313Z"
   },
   {
    "duration": 4,
    "start_time": "2023-03-16T14:02:54.836Z"
   },
   {
    "duration": 62,
    "start_time": "2023-03-16T14:03:02.245Z"
   },
   {
    "duration": 114,
    "start_time": "2023-03-16T14:03:46.391Z"
   },
   {
    "duration": 100,
    "start_time": "2023-03-16T14:04:28.254Z"
   },
   {
    "duration": 209,
    "start_time": "2023-03-16T14:08:23.979Z"
   },
   {
    "duration": 13,
    "start_time": "2023-03-16T14:08:37.877Z"
   },
   {
    "duration": 15,
    "start_time": "2023-03-16T14:08:54.484Z"
   },
   {
    "duration": 15,
    "start_time": "2023-03-16T14:09:01.619Z"
   },
   {
    "duration": 18,
    "start_time": "2023-03-16T14:09:27.187Z"
   },
   {
    "duration": 16,
    "start_time": "2023-03-16T14:09:35.425Z"
   },
   {
    "duration": 12,
    "start_time": "2023-03-16T14:10:56.717Z"
   },
   {
    "duration": 14,
    "start_time": "2023-03-16T14:11:06.209Z"
   },
   {
    "duration": 4,
    "start_time": "2023-03-16T14:21:32.411Z"
   },
   {
    "duration": 53,
    "start_time": "2023-03-16T14:21:35.141Z"
   },
   {
    "duration": 36,
    "start_time": "2023-03-16T14:21:50.794Z"
   },
   {
    "duration": 133,
    "start_time": "2023-03-16T14:22:00.317Z"
   },
   {
    "duration": 12,
    "start_time": "2023-03-16T14:23:35.001Z"
   },
   {
    "duration": 5,
    "start_time": "2023-03-16T14:25:59.825Z"
   },
   {
    "duration": 766,
    "start_time": "2023-03-16T14:26:09.011Z"
   },
   {
    "duration": 5,
    "start_time": "2023-03-16T14:27:14.864Z"
   },
   {
    "duration": 29,
    "start_time": "2023-03-16T14:27:49.320Z"
   },
   {
    "duration": 6,
    "start_time": "2023-03-16T14:28:12.105Z"
   },
   {
    "duration": 25,
    "start_time": "2023-03-16T14:28:30.382Z"
   },
   {
    "duration": 3,
    "start_time": "2023-03-16T14:28:56.389Z"
   },
   {
    "duration": 24,
    "start_time": "2023-03-16T14:29:15.480Z"
   },
   {
    "duration": 28,
    "start_time": "2023-03-16T14:33:04.194Z"
   },
   {
    "duration": 1471,
    "start_time": "2023-03-16T15:42:57.467Z"
   },
   {
    "duration": 1568,
    "start_time": "2023-03-16T15:42:58.940Z"
   },
   {
    "duration": 3,
    "start_time": "2023-03-16T15:43:00.510Z"
   },
   {
    "duration": 186,
    "start_time": "2023-03-16T15:43:00.515Z"
   },
   {
    "duration": 761,
    "start_time": "2023-03-16T15:43:00.702Z"
   },
   {
    "duration": 24,
    "start_time": "2023-03-16T15:43:01.465Z"
   },
   {
    "duration": 62,
    "start_time": "2023-03-16T15:43:01.491Z"
   },
   {
    "duration": 71,
    "start_time": "2023-03-16T15:43:01.555Z"
   },
   {
    "duration": 8,
    "start_time": "2023-03-16T15:43:01.627Z"
   },
   {
    "duration": 48,
    "start_time": "2023-03-16T15:43:01.638Z"
   },
   {
    "duration": 82,
    "start_time": "2023-03-16T15:43:01.687Z"
   },
   {
    "duration": 170,
    "start_time": "2023-03-16T15:43:01.771Z"
   },
   {
    "duration": 17,
    "start_time": "2023-03-16T15:43:01.943Z"
   },
   {
    "duration": 29,
    "start_time": "2023-03-16T15:43:01.962Z"
   },
   {
    "duration": 35,
    "start_time": "2023-03-16T15:43:01.993Z"
   },
   {
    "duration": 20,
    "start_time": "2023-03-16T15:43:02.030Z"
   },
   {
    "duration": 31,
    "start_time": "2023-03-16T15:43:02.052Z"
   },
   {
    "duration": 32,
    "start_time": "2023-03-16T15:43:02.085Z"
   },
   {
    "duration": 34,
    "start_time": "2023-03-16T15:43:02.119Z"
   },
   {
    "duration": 26,
    "start_time": "2023-03-16T15:43:02.155Z"
   },
   {
    "duration": 68,
    "start_time": "2023-03-16T15:43:02.183Z"
   },
   {
    "duration": 97,
    "start_time": "2023-03-16T15:43:02.252Z"
   },
   {
    "duration": 8,
    "start_time": "2023-03-16T15:43:02.351Z"
   },
   {
    "duration": 21,
    "start_time": "2023-03-16T15:43:02.361Z"
   },
   {
    "duration": 37,
    "start_time": "2023-03-16T15:43:02.384Z"
   },
   {
    "duration": 19,
    "start_time": "2023-03-16T15:43:02.423Z"
   },
   {
    "duration": 25,
    "start_time": "2023-03-16T15:43:02.443Z"
   },
   {
    "duration": 102,
    "start_time": "2023-03-16T15:43:02.471Z"
   },
   {
    "duration": 20,
    "start_time": "2023-03-16T15:43:02.574Z"
   },
   {
    "duration": 21,
    "start_time": "2023-03-16T15:43:02.595Z"
   },
   {
    "duration": 61,
    "start_time": "2023-03-16T15:43:02.618Z"
   },
   {
    "duration": 10,
    "start_time": "2023-03-16T15:43:02.681Z"
   },
   {
    "duration": 189,
    "start_time": "2023-03-16T15:43:02.693Z"
   },
   {
    "duration": 13,
    "start_time": "2023-03-16T15:43:02.883Z"
   },
   {
    "duration": 38,
    "start_time": "2023-03-16T15:43:02.898Z"
   },
   {
    "duration": 45,
    "start_time": "2023-03-16T15:43:02.938Z"
   },
   {
    "duration": 57,
    "start_time": "2023-03-16T15:43:02.985Z"
   },
   {
    "duration": 30,
    "start_time": "2023-03-16T15:43:03.043Z"
   },
   {
    "duration": 119,
    "start_time": "2023-03-16T15:53:23.920Z"
   },
   {
    "duration": 4,
    "start_time": "2023-03-16T15:53:26.571Z"
   },
   {
    "duration": 16,
    "start_time": "2023-03-16T15:53:35.706Z"
   },
   {
    "duration": 38,
    "start_time": "2023-03-16T15:54:35.191Z"
   },
   {
    "duration": 14,
    "start_time": "2023-03-16T15:54:44.988Z"
   },
   {
    "duration": 57,
    "start_time": "2023-03-16T15:55:33.950Z"
   },
   {
    "duration": 33,
    "start_time": "2023-03-16T15:59:22.643Z"
   },
   {
    "duration": 28,
    "start_time": "2023-03-16T16:02:02.983Z"
   },
   {
    "duration": 49,
    "start_time": "2023-03-16T16:02:33.484Z"
   },
   {
    "duration": 39,
    "start_time": "2023-03-16T16:02:39.430Z"
   },
   {
    "duration": 30,
    "start_time": "2023-03-16T16:02:45.494Z"
   },
   {
    "duration": 40,
    "start_time": "2023-03-16T16:02:47.600Z"
   },
   {
    "duration": 4,
    "start_time": "2023-03-16T16:10:12.464Z"
   },
   {
    "duration": 51,
    "start_time": "2023-03-16T16:10:14.762Z"
   },
   {
    "duration": 52,
    "start_time": "2023-03-16T16:10:19.714Z"
   },
   {
    "duration": 55,
    "start_time": "2023-03-16T16:10:26.771Z"
   },
   {
    "duration": 57,
    "start_time": "2023-03-16T16:10:52.757Z"
   },
   {
    "duration": 33,
    "start_time": "2023-03-16T16:12:15.469Z"
   },
   {
    "duration": 26,
    "start_time": "2023-03-16T16:12:44.554Z"
   },
   {
    "duration": 1498,
    "start_time": "2023-03-17T09:48:52.074Z"
   },
   {
    "duration": 2903,
    "start_time": "2023-03-17T09:48:53.575Z"
   },
   {
    "duration": 4,
    "start_time": "2023-03-17T09:48:56.479Z"
   },
   {
    "duration": 128,
    "start_time": "2023-03-17T09:48:56.484Z"
   },
   {
    "duration": 735,
    "start_time": "2023-03-17T09:48:56.614Z"
   },
   {
    "duration": 12,
    "start_time": "2023-03-17T09:48:57.350Z"
   },
   {
    "duration": 40,
    "start_time": "2023-03-17T09:48:57.364Z"
   },
   {
    "duration": 63,
    "start_time": "2023-03-17T09:48:57.406Z"
   },
   {
    "duration": 9,
    "start_time": "2023-03-17T09:48:57.471Z"
   },
   {
    "duration": 5,
    "start_time": "2023-03-17T09:48:57.483Z"
   },
   {
    "duration": 53,
    "start_time": "2023-03-17T09:48:57.489Z"
   },
   {
    "duration": 210,
    "start_time": "2023-03-17T09:48:57.543Z"
   },
   {
    "duration": 17,
    "start_time": "2023-03-17T09:48:57.755Z"
   },
   {
    "duration": 7,
    "start_time": "2023-03-17T09:48:57.773Z"
   },
   {
    "duration": 13,
    "start_time": "2023-03-17T09:48:57.781Z"
   },
   {
    "duration": 11,
    "start_time": "2023-03-17T09:48:57.796Z"
   },
   {
    "duration": 40,
    "start_time": "2023-03-17T09:48:57.808Z"
   },
   {
    "duration": 10,
    "start_time": "2023-03-17T09:48:57.850Z"
   },
   {
    "duration": 10,
    "start_time": "2023-03-17T09:48:57.861Z"
   },
   {
    "duration": 3,
    "start_time": "2023-03-17T09:48:57.872Z"
   },
   {
    "duration": 64,
    "start_time": "2023-03-17T09:48:57.877Z"
   },
   {
    "duration": 11,
    "start_time": "2023-03-17T09:48:57.942Z"
   },
   {
    "duration": 8,
    "start_time": "2023-03-17T09:48:57.954Z"
   },
   {
    "duration": 11,
    "start_time": "2023-03-17T09:48:57.964Z"
   },
   {
    "duration": 8,
    "start_time": "2023-03-17T09:48:57.977Z"
   },
   {
    "duration": 9,
    "start_time": "2023-03-17T09:48:57.986Z"
   },
   {
    "duration": 10,
    "start_time": "2023-03-17T09:48:57.996Z"
   },
   {
    "duration": 104,
    "start_time": "2023-03-17T09:48:58.009Z"
   },
   {
    "duration": 11,
    "start_time": "2023-03-17T09:48:58.114Z"
   },
   {
    "duration": 15,
    "start_time": "2023-03-17T09:48:58.126Z"
   },
   {
    "duration": 44,
    "start_time": "2023-03-17T09:48:58.143Z"
   },
   {
    "duration": 9,
    "start_time": "2023-03-17T09:48:58.189Z"
   },
   {
    "duration": 128,
    "start_time": "2023-03-17T09:48:58.199Z"
   },
   {
    "duration": 9,
    "start_time": "2023-03-17T09:48:58.339Z"
   },
   {
    "duration": 13,
    "start_time": "2023-03-17T09:48:58.349Z"
   },
   {
    "duration": 31,
    "start_time": "2023-03-17T09:48:58.363Z"
   },
   {
    "duration": 27,
    "start_time": "2023-03-17T09:48:58.396Z"
   },
   {
    "duration": 26,
    "start_time": "2023-03-17T09:48:58.425Z"
   },
   {
    "duration": 4,
    "start_time": "2023-03-17T09:48:58.452Z"
   },
   {
    "duration": 44,
    "start_time": "2023-03-17T09:48:58.458Z"
   },
   {
    "duration": 12,
    "start_time": "2023-03-17T09:48:58.504Z"
   },
   {
    "duration": 68,
    "start_time": "2023-03-17T09:48:58.518Z"
   },
   {
    "duration": 39,
    "start_time": "2023-03-17T09:48:58.587Z"
   },
   {
    "duration": 15,
    "start_time": "2023-03-17T09:48:58.627Z"
   },
   {
    "duration": 62,
    "start_time": "2023-03-17T09:48:58.643Z"
   },
   {
    "duration": 52,
    "start_time": "2023-03-17T09:48:58.707Z"
   },
   {
    "duration": 33,
    "start_time": "2023-03-17T09:48:58.761Z"
   },
   {
    "duration": 9,
    "start_time": "2023-03-17T10:05:00.895Z"
   },
   {
    "duration": 4,
    "start_time": "2023-03-17T10:18:53.720Z"
   },
   {
    "duration": 124,
    "start_time": "2023-03-17T10:25:21.402Z"
   },
   {
    "duration": 9,
    "start_time": "2023-03-17T10:25:39.199Z"
   },
   {
    "duration": 22,
    "start_time": "2023-03-17T10:26:41.972Z"
   },
   {
    "duration": 1265,
    "start_time": "2023-03-17T10:36:49.310Z"
   },
   {
    "duration": 693,
    "start_time": "2023-03-17T10:36:50.577Z"
   },
   {
    "duration": 3,
    "start_time": "2023-03-17T10:36:51.271Z"
   },
   {
    "duration": 116,
    "start_time": "2023-03-17T10:36:51.275Z"
   },
   {
    "duration": 641,
    "start_time": "2023-03-17T10:36:51.392Z"
   },
   {
    "duration": 14,
    "start_time": "2023-03-17T10:36:52.035Z"
   },
   {
    "duration": 40,
    "start_time": "2023-03-17T10:36:52.051Z"
   },
   {
    "duration": 58,
    "start_time": "2023-03-17T10:36:52.093Z"
   },
   {
    "duration": 7,
    "start_time": "2023-03-17T10:36:52.152Z"
   },
   {
    "duration": 32,
    "start_time": "2023-03-17T10:36:52.162Z"
   },
   {
    "duration": 46,
    "start_time": "2023-03-17T10:36:52.195Z"
   },
   {
    "duration": 138,
    "start_time": "2023-03-17T10:36:52.242Z"
   },
   {
    "duration": 15,
    "start_time": "2023-03-17T10:36:52.381Z"
   },
   {
    "duration": 4,
    "start_time": "2023-03-17T10:36:52.398Z"
   },
   {
    "duration": 29,
    "start_time": "2023-03-17T10:36:52.403Z"
   },
   {
    "duration": 13,
    "start_time": "2023-03-17T10:36:52.434Z"
   },
   {
    "duration": 6,
    "start_time": "2023-03-17T10:36:52.448Z"
   },
   {
    "duration": 9,
    "start_time": "2023-03-17T10:36:52.456Z"
   },
   {
    "duration": 9,
    "start_time": "2023-03-17T10:36:52.466Z"
   },
   {
    "duration": 5,
    "start_time": "2023-03-17T10:36:52.477Z"
   },
   {
    "duration": 58,
    "start_time": "2023-03-17T10:36:52.483Z"
   },
   {
    "duration": 65,
    "start_time": "2023-03-17T10:36:52.542Z"
   },
   {
    "duration": 6,
    "start_time": "2023-03-17T10:36:52.609Z"
   },
   {
    "duration": 25,
    "start_time": "2023-03-17T10:36:52.616Z"
   },
   {
    "duration": 4,
    "start_time": "2023-03-17T10:36:52.642Z"
   },
   {
    "duration": 26,
    "start_time": "2023-03-17T10:36:52.647Z"
   },
   {
    "duration": 7,
    "start_time": "2023-03-17T10:36:52.675Z"
   },
   {
    "duration": 8,
    "start_time": "2023-03-17T10:36:52.685Z"
   },
   {
    "duration": 5,
    "start_time": "2023-03-17T10:36:52.694Z"
   },
   {
    "duration": 3,
    "start_time": "2023-03-17T10:36:52.701Z"
   },
   {
    "duration": 97,
    "start_time": "2023-03-17T10:36:52.705Z"
   },
   {
    "duration": 11,
    "start_time": "2023-03-17T10:36:52.804Z"
   },
   {
    "duration": 3,
    "start_time": "2023-03-17T10:36:52.817Z"
   },
   {
    "duration": 32,
    "start_time": "2023-03-17T10:36:52.840Z"
   },
   {
    "duration": 10,
    "start_time": "2023-03-17T10:36:52.874Z"
   },
   {
    "duration": 129,
    "start_time": "2023-03-17T10:36:52.885Z"
   },
   {
    "duration": 8,
    "start_time": "2023-03-17T10:36:53.016Z"
   },
   {
    "duration": 18,
    "start_time": "2023-03-17T10:36:53.025Z"
   },
   {
    "duration": 23,
    "start_time": "2023-03-17T10:36:53.045Z"
   },
   {
    "duration": 20,
    "start_time": "2023-03-17T10:36:53.070Z"
   },
   {
    "duration": 20,
    "start_time": "2023-03-17T10:36:53.092Z"
   },
   {
    "duration": 27,
    "start_time": "2023-03-17T10:36:53.114Z"
   },
   {
    "duration": 38,
    "start_time": "2023-03-17T10:36:53.142Z"
   },
   {
    "duration": 12,
    "start_time": "2023-03-17T10:36:53.182Z"
   },
   {
    "duration": 48,
    "start_time": "2023-03-17T10:36:53.196Z"
   },
   {
    "duration": 21,
    "start_time": "2023-03-17T10:36:53.246Z"
   },
   {
    "duration": 4,
    "start_time": "2023-03-17T10:36:53.269Z"
   },
   {
    "duration": 43,
    "start_time": "2023-03-17T10:36:53.274Z"
   },
   {
    "duration": 26,
    "start_time": "2023-03-17T10:36:53.340Z"
   },
   {
    "duration": 19,
    "start_time": "2023-03-17T10:36:53.367Z"
   },
   {
    "duration": 70,
    "start_time": "2023-03-17T10:40:01.967Z"
   },
   {
    "duration": 1367,
    "start_time": "2023-03-17T10:40:10.900Z"
   },
   {
    "duration": 711,
    "start_time": "2023-03-17T10:40:12.268Z"
   },
   {
    "duration": 3,
    "start_time": "2023-03-17T10:40:12.981Z"
   },
   {
    "duration": 115,
    "start_time": "2023-03-17T10:40:12.985Z"
   },
   {
    "duration": 618,
    "start_time": "2023-03-17T10:40:13.102Z"
   },
   {
    "duration": 7,
    "start_time": "2023-03-17T10:40:13.722Z"
   },
   {
    "duration": 56,
    "start_time": "2023-03-17T10:40:13.731Z"
   },
   {
    "duration": 65,
    "start_time": "2023-03-17T10:40:13.788Z"
   },
   {
    "duration": 7,
    "start_time": "2023-03-17T10:40:13.855Z"
   },
   {
    "duration": 3,
    "start_time": "2023-03-17T10:40:13.864Z"
   },
   {
    "duration": 48,
    "start_time": "2023-03-17T10:40:13.868Z"
   },
   {
    "duration": 141,
    "start_time": "2023-03-17T10:40:13.917Z"
   },
   {
    "duration": 14,
    "start_time": "2023-03-17T10:40:14.060Z"
   },
   {
    "duration": 4,
    "start_time": "2023-03-17T10:40:14.076Z"
   },
   {
    "duration": 9,
    "start_time": "2023-03-17T10:40:14.082Z"
   },
   {
    "duration": 18,
    "start_time": "2023-03-17T10:40:14.092Z"
   },
   {
    "duration": 30,
    "start_time": "2023-03-17T10:40:14.112Z"
   },
   {
    "duration": 10,
    "start_time": "2023-03-17T10:40:14.144Z"
   },
   {
    "duration": 9,
    "start_time": "2023-03-17T10:40:14.155Z"
   },
   {
    "duration": 3,
    "start_time": "2023-03-17T10:40:14.166Z"
   },
   {
    "duration": 46,
    "start_time": "2023-03-17T10:40:14.170Z"
   },
   {
    "duration": 79,
    "start_time": "2023-03-17T10:40:14.218Z"
   },
   {
    "duration": 5,
    "start_time": "2023-03-17T10:40:14.299Z"
   },
   {
    "duration": 18,
    "start_time": "2023-03-17T10:40:14.305Z"
   },
   {
    "duration": 216,
    "start_time": "2023-03-17T10:40:22.318Z"
   },
   {
    "duration": 9,
    "start_time": "2023-03-17T10:41:25.774Z"
   },
   {
    "duration": 9,
    "start_time": "2023-03-17T10:41:47.127Z"
   },
   {
    "duration": 5,
    "start_time": "2023-03-17T10:45:42.602Z"
   },
   {
    "duration": 26,
    "start_time": "2023-03-17T10:45:49.114Z"
   },
   {
    "duration": 110,
    "start_time": "2023-03-17T10:46:19.577Z"
   },
   {
    "duration": 116,
    "start_time": "2023-03-17T10:47:20.664Z"
   },
   {
    "duration": 10,
    "start_time": "2023-03-17T10:51:48.413Z"
   },
   {
    "duration": 12,
    "start_time": "2023-03-17T10:51:53.401Z"
   },
   {
    "duration": 13,
    "start_time": "2023-03-17T10:52:09.409Z"
   },
   {
    "duration": 8,
    "start_time": "2023-03-17T10:52:09.424Z"
   },
   {
    "duration": 5,
    "start_time": "2023-03-17T10:52:09.434Z"
   },
   {
    "duration": 95,
    "start_time": "2023-03-17T10:52:09.511Z"
   },
   {
    "duration": 10,
    "start_time": "2023-03-17T10:52:09.608Z"
   },
   {
    "duration": 3,
    "start_time": "2023-03-17T10:52:09.619Z"
   },
   {
    "duration": 54,
    "start_time": "2023-03-17T10:52:09.624Z"
   },
   {
    "duration": 9,
    "start_time": "2023-03-17T10:52:09.681Z"
   },
   {
    "duration": 118,
    "start_time": "2023-03-17T10:52:09.691Z"
   },
   {
    "duration": 6,
    "start_time": "2023-03-17T10:52:09.810Z"
   },
   {
    "duration": 7,
    "start_time": "2023-03-17T10:52:09.817Z"
   },
   {
    "duration": 23,
    "start_time": "2023-03-17T10:52:09.840Z"
   },
   {
    "duration": 27,
    "start_time": "2023-03-17T10:52:09.865Z"
   },
   {
    "duration": 24,
    "start_time": "2023-03-17T10:52:09.893Z"
   },
   {
    "duration": 4,
    "start_time": "2023-03-17T10:52:09.919Z"
   },
   {
    "duration": 46,
    "start_time": "2023-03-17T10:52:09.924Z"
   },
   {
    "duration": 12,
    "start_time": "2023-03-17T10:52:09.972Z"
   },
   {
    "duration": 25,
    "start_time": "2023-03-17T10:52:09.986Z"
   },
   {
    "duration": 40,
    "start_time": "2023-03-17T10:52:10.012Z"
   },
   {
    "duration": 4,
    "start_time": "2023-03-17T10:52:10.054Z"
   },
   {
    "duration": 54,
    "start_time": "2023-03-17T10:52:10.060Z"
   },
   {
    "duration": 33,
    "start_time": "2023-03-17T10:52:10.115Z"
   },
   {
    "duration": 19,
    "start_time": "2023-03-17T10:52:10.149Z"
   },
   {
    "duration": 1314,
    "start_time": "2023-03-17T12:29:20.840Z"
   },
   {
    "duration": 776,
    "start_time": "2023-03-17T12:29:22.156Z"
   },
   {
    "duration": 6,
    "start_time": "2023-03-17T12:29:22.934Z"
   },
   {
    "duration": 129,
    "start_time": "2023-03-17T12:29:22.954Z"
   },
   {
    "duration": 668,
    "start_time": "2023-03-17T12:29:23.085Z"
   },
   {
    "duration": 17,
    "start_time": "2023-03-17T12:29:23.756Z"
   },
   {
    "duration": 45,
    "start_time": "2023-03-17T12:29:23.775Z"
   },
   {
    "duration": 51,
    "start_time": "2023-03-17T12:29:23.822Z"
   },
   {
    "duration": 8,
    "start_time": "2023-03-17T12:29:23.874Z"
   },
   {
    "duration": 4,
    "start_time": "2023-03-17T12:29:23.884Z"
   },
   {
    "duration": 66,
    "start_time": "2023-03-17T12:29:23.889Z"
   },
   {
    "duration": 136,
    "start_time": "2023-03-17T12:29:23.957Z"
   },
   {
    "duration": 16,
    "start_time": "2023-03-17T12:29:24.094Z"
   },
   {
    "duration": 5,
    "start_time": "2023-03-17T12:29:24.111Z"
   },
   {
    "duration": 36,
    "start_time": "2023-03-17T12:29:24.117Z"
   },
   {
    "duration": 27,
    "start_time": "2023-03-17T12:29:24.155Z"
   },
   {
    "duration": 9,
    "start_time": "2023-03-17T12:29:24.184Z"
   },
   {
    "duration": 11,
    "start_time": "2023-03-17T12:29:24.195Z"
   },
   {
    "duration": 78,
    "start_time": "2023-03-17T12:29:24.207Z"
   },
   {
    "duration": 24,
    "start_time": "2023-03-17T12:29:24.286Z"
   },
   {
    "duration": 40,
    "start_time": "2023-03-17T12:29:24.311Z"
   },
   {
    "duration": 13,
    "start_time": "2023-03-17T12:29:24.352Z"
   },
   {
    "duration": 14,
    "start_time": "2023-03-17T12:29:24.367Z"
   },
   {
    "duration": 7,
    "start_time": "2023-03-17T12:29:24.383Z"
   },
   {
    "duration": 13,
    "start_time": "2023-03-17T12:29:24.391Z"
   },
   {
    "duration": 4,
    "start_time": "2023-03-17T12:29:24.407Z"
   },
   {
    "duration": 71,
    "start_time": "2023-03-17T12:29:24.412Z"
   },
   {
    "duration": 134,
    "start_time": "2023-03-17T12:29:24.486Z"
   },
   {
    "duration": 137,
    "start_time": "2023-03-17T12:29:24.622Z"
   },
   {
    "duration": 7,
    "start_time": "2023-03-17T12:29:24.761Z"
   },
   {
    "duration": 12,
    "start_time": "2023-03-17T12:29:24.770Z"
   },
   {
    "duration": 10,
    "start_time": "2023-03-17T12:29:24.784Z"
   },
   {
    "duration": 4,
    "start_time": "2023-03-17T12:29:24.795Z"
   },
   {
    "duration": 107,
    "start_time": "2023-03-17T12:29:24.801Z"
   },
   {
    "duration": 11,
    "start_time": "2023-03-17T12:29:24.910Z"
   },
   {
    "duration": 7,
    "start_time": "2023-03-17T12:29:24.922Z"
   },
   {
    "duration": 51,
    "start_time": "2023-03-17T12:29:24.931Z"
   },
   {
    "duration": 14,
    "start_time": "2023-03-17T12:29:24.984Z"
   },
   {
    "duration": 157,
    "start_time": "2023-03-17T12:29:25.000Z"
   },
   {
    "duration": 9,
    "start_time": "2023-03-17T12:29:25.163Z"
   },
   {
    "duration": 6,
    "start_time": "2023-03-17T12:29:25.174Z"
   },
   {
    "duration": 33,
    "start_time": "2023-03-17T12:29:25.182Z"
   },
   {
    "duration": 46,
    "start_time": "2023-03-17T12:29:25.216Z"
   },
   {
    "duration": 33,
    "start_time": "2023-03-17T12:29:25.265Z"
   },
   {
    "duration": 4,
    "start_time": "2023-03-17T12:29:25.301Z"
   },
   {
    "duration": 68,
    "start_time": "2023-03-17T12:29:25.307Z"
   },
   {
    "duration": 12,
    "start_time": "2023-03-17T12:29:25.376Z"
   },
   {
    "duration": 23,
    "start_time": "2023-03-17T12:29:25.390Z"
   },
   {
    "duration": 48,
    "start_time": "2023-03-17T12:29:25.415Z"
   },
   {
    "duration": 5,
    "start_time": "2023-03-17T12:29:25.465Z"
   },
   {
    "duration": 73,
    "start_time": "2023-03-17T12:29:25.472Z"
   },
   {
    "duration": 29,
    "start_time": "2023-03-17T12:29:25.546Z"
   },
   {
    "duration": 20,
    "start_time": "2023-03-17T12:29:25.577Z"
   },
   {
    "duration": 5,
    "start_time": "2023-03-17T12:59:41.264Z"
   },
   {
    "duration": 169,
    "start_time": "2023-03-17T12:59:58.155Z"
   },
   {
    "duration": 100,
    "start_time": "2023-03-17T13:00:06.695Z"
   },
   {
    "duration": 49,
    "start_time": "2023-03-17T13:00:16.865Z"
   },
   {
    "duration": 45,
    "start_time": "2023-03-17T13:01:26.110Z"
   },
   {
    "duration": 28,
    "start_time": "2023-03-17T13:03:16.360Z"
   },
   {
    "duration": 24,
    "start_time": "2023-03-17T13:19:47.523Z"
   },
   {
    "duration": 24,
    "start_time": "2023-03-17T13:20:10.108Z"
   },
   {
    "duration": 71,
    "start_time": "2023-03-17T13:21:50.669Z"
   },
   {
    "duration": 28,
    "start_time": "2023-03-17T13:22:07.564Z"
   },
   {
    "duration": 14,
    "start_time": "2023-03-17T13:22:23.955Z"
   },
   {
    "duration": 54,
    "start_time": "2023-03-17T13:25:11.165Z"
   },
   {
    "duration": 10,
    "start_time": "2023-03-17T13:25:54.674Z"
   },
   {
    "duration": 172,
    "start_time": "2023-03-17T13:31:56.556Z"
   },
   {
    "duration": 139,
    "start_time": "2023-03-17T13:32:27.666Z"
   },
   {
    "duration": 129,
    "start_time": "2023-03-17T13:32:33.582Z"
   },
   {
    "duration": 130,
    "start_time": "2023-03-17T13:32:44.712Z"
   },
   {
    "duration": 149,
    "start_time": "2023-03-17T13:40:08.464Z"
   },
   {
    "duration": 388,
    "start_time": "2023-03-17T13:49:14.934Z"
   },
   {
    "duration": 48,
    "start_time": "2023-03-17T13:49:23.572Z"
   },
   {
    "duration": 11,
    "start_time": "2023-03-17T13:49:34.715Z"
   },
   {
    "duration": 38,
    "start_time": "2023-03-17T13:49:57.951Z"
   },
   {
    "duration": 47,
    "start_time": "2023-03-17T13:50:11.616Z"
   },
   {
    "duration": 14,
    "start_time": "2023-03-17T13:51:52.771Z"
   },
   {
    "duration": 2905,
    "start_time": "2023-03-17T14:14:34.365Z"
   },
   {
    "duration": 776,
    "start_time": "2023-03-17T14:15:36.032Z"
   },
   {
    "duration": 3,
    "start_time": "2023-03-17T14:15:49.848Z"
   },
   {
    "duration": 20,
    "start_time": "2023-03-17T14:15:58.767Z"
   },
   {
    "duration": 37,
    "start_time": "2023-03-17T14:16:10.047Z"
   },
   {
    "duration": 29,
    "start_time": "2023-03-17T14:16:16.038Z"
   },
   {
    "duration": 13,
    "start_time": "2023-03-17T14:16:24.432Z"
   },
   {
    "duration": 15,
    "start_time": "2023-03-17T14:16:47.369Z"
   },
   {
    "duration": 22,
    "start_time": "2023-03-17T14:16:51.852Z"
   },
   {
    "duration": 2790,
    "start_time": "2023-03-17T14:17:17.890Z"
   },
   {
    "duration": 22,
    "start_time": "2023-03-17T14:17:46.599Z"
   },
   {
    "duration": 10,
    "start_time": "2023-03-17T14:18:31.094Z"
   },
   {
    "duration": 25,
    "start_time": "2023-03-17T14:18:33.935Z"
   },
   {
    "duration": 3,
    "start_time": "2023-03-17T14:20:22.364Z"
   },
   {
    "duration": 3,
    "start_time": "2023-03-17T14:24:23.235Z"
   },
   {
    "duration": 3,
    "start_time": "2023-03-17T14:26:59.032Z"
   },
   {
    "duration": 17,
    "start_time": "2023-03-17T14:27:44.473Z"
   },
   {
    "duration": 12,
    "start_time": "2023-03-17T14:28:08.773Z"
   },
   {
    "duration": 29,
    "start_time": "2023-03-17T14:30:27.983Z"
   },
   {
    "duration": 17,
    "start_time": "2023-03-17T14:30:41.799Z"
   },
   {
    "duration": 22,
    "start_time": "2023-03-17T14:33:07.472Z"
   },
   {
    "duration": 665,
    "start_time": "2023-03-17T14:35:12.228Z"
   },
   {
    "duration": 443,
    "start_time": "2023-03-17T14:35:21.670Z"
   },
   {
    "duration": 18,
    "start_time": "2023-03-17T14:36:15.472Z"
   },
   {
    "duration": 67,
    "start_time": "2023-03-17T14:39:16.431Z"
   },
   {
    "duration": 50,
    "start_time": "2023-03-17T14:39:35.472Z"
   },
   {
    "duration": 70,
    "start_time": "2023-03-17T14:39:41.527Z"
   },
   {
    "duration": 50,
    "start_time": "2023-03-17T14:40:48.139Z"
   },
   {
    "duration": 3,
    "start_time": "2023-03-17T14:46:24.071Z"
   },
   {
    "duration": 41,
    "start_time": "2023-03-17T14:47:10.734Z"
   },
   {
    "duration": 18,
    "start_time": "2023-03-17T14:49:21.818Z"
   },
   {
    "duration": 4,
    "start_time": "2023-03-17T14:49:38.930Z"
   },
   {
    "duration": 34,
    "start_time": "2023-03-17T14:49:41.335Z"
   },
   {
    "duration": 9,
    "start_time": "2023-03-17T14:49:53.536Z"
   },
   {
    "duration": 31,
    "start_time": "2023-03-17T14:49:56.069Z"
   },
   {
    "duration": 4,
    "start_time": "2023-03-17T14:50:07.014Z"
   },
   {
    "duration": 32,
    "start_time": "2023-03-17T14:50:09.922Z"
   },
   {
    "duration": 53,
    "start_time": "2023-03-17T14:50:26.472Z"
   },
   {
    "duration": 3,
    "start_time": "2023-03-17T14:50:34.007Z"
   },
   {
    "duration": 22,
    "start_time": "2023-03-17T14:50:37.010Z"
   },
   {
    "duration": 19,
    "start_time": "2023-03-17T14:57:28.038Z"
   },
   {
    "duration": 13,
    "start_time": "2023-03-17T15:00:37.670Z"
   },
   {
    "duration": 9,
    "start_time": "2023-03-17T15:00:41.869Z"
   },
   {
    "duration": 18,
    "start_time": "2023-03-17T15:00:43.819Z"
   },
   {
    "duration": 17,
    "start_time": "2023-03-17T15:00:55.588Z"
   },
   {
    "duration": 4,
    "start_time": "2023-03-17T15:01:12.016Z"
   },
   {
    "duration": 3181,
    "start_time": "2023-03-17T15:01:15.236Z"
   },
   {
    "duration": 15,
    "start_time": "2023-03-17T15:01:30.109Z"
   },
   {
    "duration": 7,
    "start_time": "2023-03-17T15:01:58.386Z"
   },
   {
    "duration": 360,
    "start_time": "2023-03-17T15:02:24.817Z"
   },
   {
    "duration": 294,
    "start_time": "2023-03-17T15:03:21.159Z"
   },
   {
    "duration": 352,
    "start_time": "2023-03-17T15:03:59.101Z"
   },
   {
    "duration": 18,
    "start_time": "2023-03-17T15:04:14.135Z"
   },
   {
    "duration": 45,
    "start_time": "2023-03-17T15:04:18.738Z"
   },
   {
    "duration": 3022,
    "start_time": "2023-03-17T15:05:10.576Z"
   },
   {
    "duration": 29,
    "start_time": "2023-03-17T15:05:19.538Z"
   },
   {
    "duration": 28,
    "start_time": "2023-03-17T15:05:39.031Z"
   },
   {
    "duration": 2,
    "start_time": "2023-03-17T15:06:26.602Z"
   },
   {
    "duration": 4,
    "start_time": "2023-03-17T15:07:24.334Z"
   },
   {
    "duration": 3,
    "start_time": "2023-03-17T15:07:29.406Z"
   },
   {
    "duration": 2,
    "start_time": "2023-03-17T15:07:52.174Z"
   },
   {
    "duration": 3451,
    "start_time": "2023-03-17T15:08:24.542Z"
   },
   {
    "duration": 103,
    "start_time": "2023-03-17T15:09:16.536Z"
   },
   {
    "duration": 101,
    "start_time": "2023-03-17T15:19:37.136Z"
   },
   {
    "duration": 4,
    "start_time": "2023-03-17T15:25:56.522Z"
   },
   {
    "duration": 1327,
    "start_time": "2023-03-17T15:27:53.907Z"
   },
   {
    "duration": 45,
    "start_time": "2023-03-17T15:28:14.813Z"
   },
   {
    "duration": 23,
    "start_time": "2023-03-17T15:28:20.615Z"
   },
   {
    "duration": 60,
    "start_time": "2023-03-17T15:28:40.768Z"
   },
   {
    "duration": 22,
    "start_time": "2023-03-17T15:32:24.979Z"
   },
   {
    "duration": 12,
    "start_time": "2023-03-17T15:32:37.731Z"
   },
   {
    "duration": 45,
    "start_time": "2023-03-17T15:33:06.432Z"
   },
   {
    "duration": 37,
    "start_time": "2023-03-17T15:33:12.340Z"
   },
   {
    "duration": 94,
    "start_time": "2023-03-17T15:33:22.078Z"
   },
   {
    "duration": 11,
    "start_time": "2023-03-17T15:33:33.283Z"
   },
   {
    "duration": 10,
    "start_time": "2023-03-17T15:33:40.398Z"
   },
   {
    "duration": 48,
    "start_time": "2023-03-17T15:53:17.785Z"
   },
   {
    "duration": 9,
    "start_time": "2023-03-17T15:53:30.882Z"
   },
   {
    "duration": 10,
    "start_time": "2023-03-17T16:36:29.163Z"
   },
   {
    "duration": 17,
    "start_time": "2023-03-17T16:39:01.268Z"
   },
   {
    "duration": 12,
    "start_time": "2023-03-17T16:39:11.964Z"
   },
   {
    "duration": 2,
    "start_time": "2023-03-17T16:51:47.483Z"
   },
   {
    "duration": 103,
    "start_time": "2023-03-17T16:59:55.839Z"
   },
   {
    "duration": 30,
    "start_time": "2023-03-17T17:01:09.278Z"
   },
   {
    "duration": 31,
    "start_time": "2023-03-17T17:01:28.043Z"
   },
   {
    "duration": 31,
    "start_time": "2023-03-17T17:01:30.806Z"
   },
   {
    "duration": 41,
    "start_time": "2023-03-17T17:01:47.418Z"
   },
   {
    "duration": 46,
    "start_time": "2023-03-17T17:02:24.649Z"
   },
   {
    "duration": 32,
    "start_time": "2023-03-17T17:06:35.423Z"
   },
   {
    "duration": 28,
    "start_time": "2023-03-17T17:07:27.309Z"
   },
   {
    "duration": 14,
    "start_time": "2023-03-17T17:08:03.153Z"
   },
   {
    "duration": 31,
    "start_time": "2023-03-17T17:09:06.549Z"
   },
   {
    "duration": 30,
    "start_time": "2023-03-17T17:10:00.290Z"
   },
   {
    "duration": 20,
    "start_time": "2023-03-17T17:10:09.334Z"
   },
   {
    "duration": 103,
    "start_time": "2023-03-17T17:13:54.348Z"
   },
   {
    "duration": 1461,
    "start_time": "2023-03-18T08:39:01.298Z"
   },
   {
    "duration": 3,
    "start_time": "2023-03-18T08:39:02.761Z"
   },
   {
    "duration": 1068,
    "start_time": "2023-03-18T08:39:02.766Z"
   },
   {
    "duration": 4,
    "start_time": "2023-03-18T08:39:03.835Z"
   },
   {
    "duration": 151,
    "start_time": "2023-03-18T08:39:03.841Z"
   },
   {
    "duration": 728,
    "start_time": "2023-03-18T08:39:03.993Z"
   },
   {
    "duration": 14,
    "start_time": "2023-03-18T08:39:04.723Z"
   },
   {
    "duration": 59,
    "start_time": "2023-03-18T08:39:04.738Z"
   },
   {
    "duration": 47,
    "start_time": "2023-03-18T08:39:04.799Z"
   },
   {
    "duration": 7,
    "start_time": "2023-03-18T08:39:04.857Z"
   },
   {
    "duration": 3,
    "start_time": "2023-03-18T08:39:04.866Z"
   },
   {
    "duration": 53,
    "start_time": "2023-03-18T08:39:04.871Z"
   },
   {
    "duration": 253,
    "start_time": "2023-03-18T08:39:04.926Z"
   },
   {
    "duration": 15,
    "start_time": "2023-03-18T08:39:05.182Z"
   },
   {
    "duration": 14,
    "start_time": "2023-03-18T08:39:05.199Z"
   },
   {
    "duration": 28,
    "start_time": "2023-03-18T08:39:05.214Z"
   },
   {
    "duration": 16,
    "start_time": "2023-03-18T08:39:05.244Z"
   },
   {
    "duration": 12,
    "start_time": "2023-03-18T08:39:05.261Z"
   },
   {
    "duration": 16,
    "start_time": "2023-03-18T08:39:05.275Z"
   },
   {
    "duration": 32,
    "start_time": "2023-03-18T08:39:05.293Z"
   },
   {
    "duration": 26,
    "start_time": "2023-03-18T08:39:05.326Z"
   },
   {
    "duration": 62,
    "start_time": "2023-03-18T08:39:05.355Z"
   },
   {
    "duration": 16,
    "start_time": "2023-03-18T08:39:05.419Z"
   },
   {
    "duration": 8,
    "start_time": "2023-03-18T08:39:05.437Z"
   },
   {
    "duration": 16,
    "start_time": "2023-03-18T08:39:05.448Z"
   },
   {
    "duration": 15,
    "start_time": "2023-03-18T08:39:05.466Z"
   },
   {
    "duration": 13,
    "start_time": "2023-03-18T08:39:05.482Z"
   },
   {
    "duration": 40,
    "start_time": "2023-03-18T08:39:05.497Z"
   },
   {
    "duration": 141,
    "start_time": "2023-03-18T08:39:05.539Z"
   },
   {
    "duration": 140,
    "start_time": "2023-03-18T08:39:05.681Z"
   },
   {
    "duration": 7,
    "start_time": "2023-03-18T08:39:05.822Z"
   },
   {
    "duration": 16,
    "start_time": "2023-03-18T08:39:05.830Z"
   },
   {
    "duration": 14,
    "start_time": "2023-03-18T08:39:05.857Z"
   },
   {
    "duration": 11,
    "start_time": "2023-03-18T08:39:05.873Z"
   },
   {
    "duration": 99,
    "start_time": "2023-03-18T08:39:05.886Z"
   },
   {
    "duration": 11,
    "start_time": "2023-03-18T08:39:05.987Z"
   },
   {
    "duration": 9,
    "start_time": "2023-03-18T08:39:06.000Z"
   },
   {
    "duration": 57,
    "start_time": "2023-03-18T08:39:06.010Z"
   },
   {
    "duration": 8,
    "start_time": "2023-03-18T08:39:06.069Z"
   },
   {
    "duration": 141,
    "start_time": "2023-03-18T08:39:06.079Z"
   },
   {
    "duration": 5,
    "start_time": "2023-03-18T08:39:06.224Z"
   },
   {
    "duration": 16,
    "start_time": "2023-03-18T08:39:06.231Z"
   },
   {
    "duration": 72,
    "start_time": "2023-03-18T08:39:06.249Z"
   },
   {
    "duration": 35,
    "start_time": "2023-03-18T08:39:06.323Z"
   },
   {
    "duration": 61,
    "start_time": "2023-03-18T08:39:06.360Z"
   },
   {
    "duration": 9,
    "start_time": "2023-03-18T08:39:06.423Z"
   },
   {
    "duration": 56,
    "start_time": "2023-03-18T08:39:06.434Z"
   },
   {
    "duration": 15,
    "start_time": "2023-03-18T08:39:06.492Z"
   },
   {
    "duration": 61,
    "start_time": "2023-03-18T08:39:06.509Z"
   },
   {
    "duration": 74,
    "start_time": "2023-03-18T08:39:06.572Z"
   },
   {
    "duration": 16,
    "start_time": "2023-03-18T08:39:06.648Z"
   },
   {
    "duration": 66,
    "start_time": "2023-03-18T08:39:06.665Z"
   },
   {
    "duration": 32,
    "start_time": "2023-03-18T08:39:06.733Z"
   },
   {
    "duration": 43,
    "start_time": "2023-03-18T08:39:06.767Z"
   },
   {
    "duration": 26,
    "start_time": "2023-03-18T08:39:06.812Z"
   },
   {
    "duration": 92,
    "start_time": "2023-03-18T08:39:06.840Z"
   },
   {
    "duration": 28,
    "start_time": "2023-03-18T08:39:06.935Z"
   },
   {
    "duration": 51,
    "start_time": "2023-03-18T08:39:06.965Z"
   },
   {
    "duration": 137,
    "start_time": "2023-03-18T08:39:07.018Z"
   },
   {
    "duration": 3,
    "start_time": "2023-03-18T08:39:07.157Z"
   },
   {
    "duration": 7,
    "start_time": "2023-03-18T08:39:07.161Z"
   },
   {
    "duration": 6,
    "start_time": "2023-03-18T08:39:07.169Z"
   },
   {
    "duration": 5,
    "start_time": "2023-03-18T08:39:07.177Z"
   },
   {
    "duration": 11,
    "start_time": "2023-03-18T08:39:07.183Z"
   },
   {
    "duration": 2230,
    "start_time": "2023-03-18T08:39:07.195Z"
   },
   {
    "duration": 40,
    "start_time": "2023-03-18T08:39:09.427Z"
   },
   {
    "duration": 27,
    "start_time": "2023-03-18T08:39:09.468Z"
   },
   {
    "duration": 24,
    "start_time": "2023-03-18T08:39:09.496Z"
   },
   {
    "duration": 9,
    "start_time": "2023-03-18T08:39:09.522Z"
   },
   {
    "duration": 93,
    "start_time": "2023-03-18T08:39:09.532Z"
   },
   {
    "duration": 31,
    "start_time": "2023-03-18T08:39:09.627Z"
   },
   {
    "duration": 45,
    "start_time": "2023-03-18T08:39:09.659Z"
   },
   {
    "duration": 3,
    "start_time": "2023-03-18T08:39:09.705Z"
   },
   {
    "duration": 17,
    "start_time": "2023-03-18T08:39:09.709Z"
   },
   {
    "duration": 63,
    "start_time": "2023-03-18T08:39:09.728Z"
   },
   {
    "duration": 8,
    "start_time": "2023-03-18T08:39:09.792Z"
   },
   {
    "duration": 56,
    "start_time": "2023-03-18T08:39:09.801Z"
   },
   {
    "duration": 4,
    "start_time": "2023-03-18T08:39:09.859Z"
   },
   {
    "duration": 27,
    "start_time": "2023-03-18T08:59:14.922Z"
   },
   {
    "duration": 39,
    "start_time": "2023-03-18T09:44:14.027Z"
   },
   {
    "duration": 19,
    "start_time": "2023-03-18T09:44:41.523Z"
   },
   {
    "duration": 66,
    "start_time": "2023-03-18T10:01:14.710Z"
   },
   {
    "duration": 163,
    "start_time": "2023-03-18T10:01:47.835Z"
   },
   {
    "duration": 192,
    "start_time": "2023-03-18T10:01:53.795Z"
   },
   {
    "duration": 203,
    "start_time": "2023-03-18T10:02:13.216Z"
   },
   {
    "duration": 131,
    "start_time": "2023-03-18T10:02:23.854Z"
   },
   {
    "duration": 144,
    "start_time": "2023-03-18T10:03:01.087Z"
   },
   {
    "duration": 10,
    "start_time": "2023-03-18T10:05:59.614Z"
   },
   {
    "duration": 21,
    "start_time": "2023-03-18T10:06:06.474Z"
   },
   {
    "duration": 102,
    "start_time": "2023-03-18T12:35:57.007Z"
   },
   {
    "duration": 76,
    "start_time": "2023-03-18T12:36:12.368Z"
   },
   {
    "duration": 2004,
    "start_time": "2023-03-18T12:36:38.414Z"
   },
   {
    "duration": 2,
    "start_time": "2023-03-18T12:36:40.421Z"
   },
   {
    "duration": 1407,
    "start_time": "2023-03-18T12:36:40.425Z"
   },
   {
    "duration": 3,
    "start_time": "2023-03-18T12:36:41.835Z"
   },
   {
    "duration": 167,
    "start_time": "2023-03-18T12:36:41.840Z"
   },
   {
    "duration": 966,
    "start_time": "2023-03-18T12:36:42.010Z"
   },
   {
    "duration": 32,
    "start_time": "2023-03-18T12:36:42.977Z"
   },
   {
    "duration": 58,
    "start_time": "2023-03-18T12:36:43.015Z"
   },
   {
    "duration": 62,
    "start_time": "2023-03-18T12:36:43.075Z"
   },
   {
    "duration": 10,
    "start_time": "2023-03-18T12:36:43.141Z"
   },
   {
    "duration": 4,
    "start_time": "2023-03-18T12:36:43.153Z"
   },
   {
    "duration": 79,
    "start_time": "2023-03-18T12:36:43.159Z"
   },
   {
    "duration": 332,
    "start_time": "2023-03-18T12:36:43.240Z"
   },
   {
    "duration": 29,
    "start_time": "2023-03-18T12:36:43.574Z"
   },
   {
    "duration": 23,
    "start_time": "2023-03-18T12:36:43.606Z"
   },
   {
    "duration": 12,
    "start_time": "2023-03-18T12:36:43.631Z"
   },
   {
    "duration": 15,
    "start_time": "2023-03-18T12:36:43.644Z"
   },
   {
    "duration": 8,
    "start_time": "2023-03-18T12:36:43.660Z"
   },
   {
    "duration": 31,
    "start_time": "2023-03-18T12:36:43.670Z"
   },
   {
    "duration": 32,
    "start_time": "2023-03-18T12:36:43.705Z"
   },
   {
    "duration": 4,
    "start_time": "2023-03-18T12:36:43.739Z"
   },
   {
    "duration": 77,
    "start_time": "2023-03-18T12:36:43.745Z"
   },
   {
    "duration": 17,
    "start_time": "2023-03-18T12:36:43.824Z"
   },
   {
    "duration": 9,
    "start_time": "2023-03-18T12:36:43.843Z"
   },
   {
    "duration": 19,
    "start_time": "2023-03-18T12:36:43.854Z"
   },
   {
    "duration": 27,
    "start_time": "2023-03-18T12:36:43.886Z"
   },
   {
    "duration": 31,
    "start_time": "2023-03-18T12:36:43.916Z"
   },
   {
    "duration": 61,
    "start_time": "2023-03-18T12:36:43.951Z"
   },
   {
    "duration": 188,
    "start_time": "2023-03-18T12:36:44.019Z"
   },
   {
    "duration": 195,
    "start_time": "2023-03-18T12:36:44.209Z"
   },
   {
    "duration": 11,
    "start_time": "2023-03-18T12:36:44.407Z"
   },
   {
    "duration": 35,
    "start_time": "2023-03-18T12:36:44.421Z"
   },
   {
    "duration": 14,
    "start_time": "2023-03-18T12:36:44.458Z"
   },
   {
    "duration": 5,
    "start_time": "2023-03-18T12:36:44.474Z"
   },
   {
    "duration": 152,
    "start_time": "2023-03-18T12:36:44.480Z"
   },
   {
    "duration": 13,
    "start_time": "2023-03-18T12:36:44.633Z"
   },
   {
    "duration": 4,
    "start_time": "2023-03-18T12:36:44.647Z"
   },
   {
    "duration": 70,
    "start_time": "2023-03-18T12:36:44.652Z"
   },
   {
    "duration": 10,
    "start_time": "2023-03-18T12:36:44.726Z"
   },
   {
    "duration": 179,
    "start_time": "2023-03-18T12:36:44.738Z"
   },
   {
    "duration": 7,
    "start_time": "2023-03-18T12:36:44.924Z"
   },
   {
    "duration": 7,
    "start_time": "2023-03-18T12:36:44.932Z"
   },
   {
    "duration": 29,
    "start_time": "2023-03-18T12:36:44.941Z"
   },
   {
    "duration": 54,
    "start_time": "2023-03-18T12:36:44.972Z"
   },
   {
    "duration": 26,
    "start_time": "2023-03-18T12:36:45.028Z"
   },
   {
    "duration": 16,
    "start_time": "2023-03-18T12:36:45.056Z"
   },
   {
    "duration": 80,
    "start_time": "2023-03-18T12:36:45.074Z"
   },
   {
    "duration": 17,
    "start_time": "2023-03-18T12:36:45.156Z"
   },
   {
    "duration": 51,
    "start_time": "2023-03-18T12:36:45.175Z"
   },
   {
    "duration": 34,
    "start_time": "2023-03-18T12:36:45.228Z"
   },
   {
    "duration": 58,
    "start_time": "2023-03-18T12:36:45.264Z"
   },
   {
    "duration": 76,
    "start_time": "2023-03-18T12:36:45.325Z"
   },
   {
    "duration": 34,
    "start_time": "2023-03-18T12:36:45.412Z"
   },
   {
    "duration": 24,
    "start_time": "2023-03-18T12:36:45.449Z"
   },
   {
    "duration": 48,
    "start_time": "2023-03-18T12:36:45.475Z"
   },
   {
    "duration": 86,
    "start_time": "2023-03-18T12:36:45.525Z"
   },
   {
    "duration": 36,
    "start_time": "2023-03-18T12:36:45.613Z"
   },
   {
    "duration": 104,
    "start_time": "2023-03-18T12:36:45.651Z"
   },
   {
    "duration": 274,
    "start_time": "2023-03-18T12:36:45.758Z"
   },
   {
    "duration": 4,
    "start_time": "2023-03-18T12:36:46.034Z"
   },
   {
    "duration": 17,
    "start_time": "2023-03-18T12:36:46.040Z"
   },
   {
    "duration": 3004,
    "start_time": "2023-03-18T12:36:46.059Z"
   },
   {
    "duration": 58,
    "start_time": "2023-03-18T12:36:49.064Z"
   },
   {
    "duration": 12,
    "start_time": "2023-03-18T12:36:49.123Z"
   },
   {
    "duration": 29,
    "start_time": "2023-03-18T12:36:49.137Z"
   },
   {
    "duration": 26,
    "start_time": "2023-03-18T12:36:49.168Z"
   },
   {
    "duration": 140,
    "start_time": "2023-03-18T12:36:49.196Z"
   },
   {
    "duration": 30,
    "start_time": "2023-03-18T12:36:49.338Z"
   },
   {
    "duration": 36,
    "start_time": "2023-03-18T12:36:49.370Z"
   },
   {
    "duration": 31,
    "start_time": "2023-03-18T12:36:49.408Z"
   },
   {
    "duration": 195,
    "start_time": "2023-03-18T12:36:49.440Z"
   },
   {
    "duration": 191,
    "start_time": "2023-03-18T12:36:49.637Z"
   },
   {
    "duration": 172,
    "start_time": "2023-03-18T12:36:49.829Z"
   },
   {
    "duration": 38,
    "start_time": "2023-03-18T12:36:50.002Z"
   },
   {
    "duration": 31,
    "start_time": "2023-03-18T12:36:50.042Z"
   },
   {
    "duration": 80,
    "start_time": "2023-03-18T12:36:50.075Z"
   },
   {
    "duration": 2,
    "start_time": "2023-03-18T12:36:50.157Z"
   },
   {
    "duration": 50,
    "start_time": "2023-03-18T12:36:50.160Z"
   },
   {
    "duration": 78,
    "start_time": "2023-03-18T12:36:50.216Z"
   },
   {
    "duration": 14,
    "start_time": "2023-03-18T12:36:50.306Z"
   },
   {
    "duration": 74,
    "start_time": "2023-03-18T12:36:50.322Z"
   },
   {
    "duration": 12,
    "start_time": "2023-03-18T12:36:50.407Z"
   },
   {
    "duration": 52,
    "start_time": "2023-03-18T12:37:28.276Z"
   },
   {
    "duration": 7,
    "start_time": "2023-03-18T12:50:41.234Z"
   },
   {
    "duration": 4,
    "start_time": "2023-03-18T12:51:25.054Z"
   },
   {
    "duration": 8,
    "start_time": "2023-03-18T12:51:52.643Z"
   },
   {
    "duration": 9011,
    "start_time": "2023-03-18T12:52:56.946Z"
   },
   {
    "duration": 15,
    "start_time": "2023-03-18T12:53:20.710Z"
   },
   {
    "duration": 168,
    "start_time": "2023-03-18T12:55:07.006Z"
   },
   {
    "duration": 221,
    "start_time": "2023-03-18T12:55:13.542Z"
   },
   {
    "duration": 4,
    "start_time": "2023-03-18T12:58:48.503Z"
   },
   {
    "duration": 1480,
    "start_time": "2023-03-19T09:44:12.494Z"
   },
   {
    "duration": 4,
    "start_time": "2023-03-19T09:44:13.976Z"
   },
   {
    "duration": 1156,
    "start_time": "2023-03-19T09:44:13.982Z"
   },
   {
    "duration": 6,
    "start_time": "2023-03-19T09:44:15.140Z"
   },
   {
    "duration": 218,
    "start_time": "2023-03-19T09:44:15.148Z"
   },
   {
    "duration": 676,
    "start_time": "2023-03-19T09:44:15.368Z"
   },
   {
    "duration": 16,
    "start_time": "2023-03-19T09:44:16.046Z"
   },
   {
    "duration": 60,
    "start_time": "2023-03-19T09:44:16.064Z"
   },
   {
    "duration": 72,
    "start_time": "2023-03-19T09:44:16.126Z"
   },
   {
    "duration": 11,
    "start_time": "2023-03-19T09:44:16.201Z"
   },
   {
    "duration": 4,
    "start_time": "2023-03-19T09:44:16.215Z"
   },
   {
    "duration": 71,
    "start_time": "2023-03-19T09:44:16.221Z"
   },
   {
    "duration": 214,
    "start_time": "2023-03-19T09:44:16.301Z"
   },
   {
    "duration": 20,
    "start_time": "2023-03-19T09:44:16.516Z"
   },
   {
    "duration": 5,
    "start_time": "2023-03-19T09:44:16.537Z"
   },
   {
    "duration": 11,
    "start_time": "2023-03-19T09:44:16.543Z"
   },
   {
    "duration": 33,
    "start_time": "2023-03-19T09:44:16.579Z"
   },
   {
    "duration": 10,
    "start_time": "2023-03-19T09:44:16.614Z"
   },
   {
    "duration": 11,
    "start_time": "2023-03-19T09:44:16.626Z"
   },
   {
    "duration": 15,
    "start_time": "2023-03-19T09:44:16.639Z"
   },
   {
    "duration": 10,
    "start_time": "2023-03-19T09:44:16.656Z"
   },
   {
    "duration": 76,
    "start_time": "2023-03-19T09:44:16.668Z"
   },
   {
    "duration": 12,
    "start_time": "2023-03-19T09:44:16.746Z"
   },
   {
    "duration": 12,
    "start_time": "2023-03-19T09:44:16.759Z"
   },
   {
    "duration": 8,
    "start_time": "2023-03-19T09:44:16.773Z"
   },
   {
    "duration": 33,
    "start_time": "2023-03-19T09:44:16.782Z"
   },
   {
    "duration": 4,
    "start_time": "2023-03-19T09:44:16.817Z"
   },
   {
    "duration": 31,
    "start_time": "2023-03-19T09:44:16.826Z"
   },
   {
    "duration": 134,
    "start_time": "2023-03-19T09:44:16.859Z"
   },
   {
    "duration": 123,
    "start_time": "2023-03-19T09:44:16.994Z"
   },
   {
    "duration": 7,
    "start_time": "2023-03-19T09:44:17.118Z"
   },
   {
    "duration": 9,
    "start_time": "2023-03-19T09:44:17.127Z"
   },
   {
    "duration": 10,
    "start_time": "2023-03-19T09:44:17.138Z"
   },
   {
    "duration": 4,
    "start_time": "2023-03-19T09:44:17.150Z"
   },
   {
    "duration": 85,
    "start_time": "2023-03-19T09:44:17.182Z"
   },
   {
    "duration": 22,
    "start_time": "2023-03-19T09:44:17.269Z"
   },
   {
    "duration": 8,
    "start_time": "2023-03-19T09:44:17.292Z"
   },
   {
    "duration": 41,
    "start_time": "2023-03-19T09:44:17.302Z"
   },
   {
    "duration": 9,
    "start_time": "2023-03-19T09:44:17.345Z"
   },
   {
    "duration": 146,
    "start_time": "2023-03-19T09:44:17.355Z"
   },
   {
    "duration": 18,
    "start_time": "2023-03-19T09:44:17.503Z"
   },
   {
    "duration": 9,
    "start_time": "2023-03-19T09:44:17.523Z"
   },
   {
    "duration": 25,
    "start_time": "2023-03-19T09:44:17.534Z"
   },
   {
    "duration": 25,
    "start_time": "2023-03-19T09:44:17.560Z"
   },
   {
    "duration": 31,
    "start_time": "2023-03-19T09:44:17.588Z"
   },
   {
    "duration": 4,
    "start_time": "2023-03-19T09:44:17.621Z"
   },
   {
    "duration": 37,
    "start_time": "2023-03-19T09:44:17.626Z"
   },
   {
    "duration": 33,
    "start_time": "2023-03-19T09:44:17.664Z"
   },
   {
    "duration": 24,
    "start_time": "2023-03-19T09:44:17.699Z"
   },
   {
    "duration": 27,
    "start_time": "2023-03-19T09:44:17.725Z"
   },
   {
    "duration": 5,
    "start_time": "2023-03-19T09:44:17.754Z"
   },
   {
    "duration": 64,
    "start_time": "2023-03-19T09:44:17.761Z"
   },
   {
    "duration": 36,
    "start_time": "2023-03-19T09:44:17.827Z"
   },
   {
    "duration": 31,
    "start_time": "2023-03-19T09:44:17.865Z"
   },
   {
    "duration": 7,
    "start_time": "2023-03-19T09:44:17.897Z"
   },
   {
    "duration": 47,
    "start_time": "2023-03-19T09:44:17.906Z"
   },
   {
    "duration": 30,
    "start_time": "2023-03-19T09:44:17.955Z"
   },
   {
    "duration": 38,
    "start_time": "2023-03-19T09:44:17.986Z"
   },
   {
    "duration": 147,
    "start_time": "2023-03-19T09:44:18.025Z"
   },
   {
    "duration": 3,
    "start_time": "2023-03-19T09:44:18.174Z"
   },
   {
    "duration": 26,
    "start_time": "2023-03-19T09:44:18.179Z"
   },
   {
    "duration": 2387,
    "start_time": "2023-03-19T09:44:18.206Z"
   },
   {
    "duration": 36,
    "start_time": "2023-03-19T09:44:20.594Z"
   },
   {
    "duration": 7,
    "start_time": "2023-03-19T09:44:20.631Z"
   },
   {
    "duration": 23,
    "start_time": "2023-03-19T09:44:20.641Z"
   },
   {
    "duration": 24,
    "start_time": "2023-03-19T09:44:20.665Z"
   },
   {
    "duration": 78,
    "start_time": "2023-03-19T09:44:20.690Z"
   },
   {
    "duration": 32,
    "start_time": "2023-03-19T09:44:20.770Z"
   },
   {
    "duration": 16,
    "start_time": "2023-03-19T09:44:20.803Z"
   },
   {
    "duration": 22,
    "start_time": "2023-03-19T09:44:20.821Z"
   },
   {
    "duration": 178,
    "start_time": "2023-03-19T09:44:20.844Z"
   },
   {
    "duration": 136,
    "start_time": "2023-03-19T09:44:21.023Z"
   },
   {
    "duration": 139,
    "start_time": "2023-03-19T09:44:21.160Z"
   },
   {
    "duration": 17,
    "start_time": "2023-03-19T09:44:21.301Z"
   },
   {
    "duration": 15,
    "start_time": "2023-03-19T09:44:21.320Z"
   },
   {
    "duration": 2,
    "start_time": "2023-03-19T09:44:21.337Z"
   },
   {
    "duration": 5,
    "start_time": "2023-03-19T09:44:21.341Z"
   },
   {
    "duration": 30,
    "start_time": "2023-03-19T09:44:21.347Z"
   },
   {
    "duration": 6464,
    "start_time": "2023-03-19T09:44:21.385Z"
   },
   {
    "duration": 5,
    "start_time": "2023-03-19T09:44:27.851Z"
   },
   {
    "duration": 142,
    "start_time": "2023-03-19T09:44:27.858Z"
   },
   {
    "duration": 51,
    "start_time": "2023-03-19T09:44:28.007Z"
   },
   {
    "duration": 3,
    "start_time": "2023-03-19T09:44:28.059Z"
   },
   {
    "duration": 38,
    "start_time": "2023-03-19T09:44:28.064Z"
   },
   {
    "duration": 43,
    "start_time": "2023-03-19T09:44:28.103Z"
   },
   {
    "duration": 5,
    "start_time": "2023-03-19T09:44:28.148Z"
   },
   {
    "duration": 64,
    "start_time": "2023-03-19T09:44:28.154Z"
   },
   {
    "duration": 5,
    "start_time": "2023-03-19T09:44:28.220Z"
   },
   {
    "duration": 3,
    "start_time": "2023-03-19T09:56:00.699Z"
   },
   {
    "duration": 14,
    "start_time": "2023-03-19T09:57:24.134Z"
   },
   {
    "duration": 4,
    "start_time": "2023-03-19T09:59:54.923Z"
   },
   {
    "duration": 18,
    "start_time": "2023-03-19T10:00:20.437Z"
   },
   {
    "duration": 5,
    "start_time": "2023-03-19T10:08:42.100Z"
   },
   {
    "duration": 36,
    "start_time": "2023-03-19T10:08:44.601Z"
   },
   {
    "duration": 1413,
    "start_time": "2023-03-19T10:08:58.248Z"
   },
   {
    "duration": 3,
    "start_time": "2023-03-19T10:08:59.663Z"
   },
   {
    "duration": 818,
    "start_time": "2023-03-19T10:08:59.667Z"
   },
   {
    "duration": 3,
    "start_time": "2023-03-19T10:09:00.488Z"
   },
   {
    "duration": 162,
    "start_time": "2023-03-19T10:09:00.493Z"
   },
   {
    "duration": 696,
    "start_time": "2023-03-19T10:09:00.657Z"
   },
   {
    "duration": 12,
    "start_time": "2023-03-19T10:09:01.355Z"
   },
   {
    "duration": 227,
    "start_time": "2023-03-19T10:09:01.380Z"
   },
   {
    "duration": 87,
    "start_time": "2023-03-19T10:09:01.610Z"
   },
   {
    "duration": 42,
    "start_time": "2023-03-19T10:09:01.699Z"
   },
   {
    "duration": 58,
    "start_time": "2023-03-19T10:09:01.743Z"
   },
   {
    "duration": 156,
    "start_time": "2023-03-19T10:09:01.803Z"
   },
   {
    "duration": 198,
    "start_time": "2023-03-19T10:09:01.961Z"
   },
   {
    "duration": 32,
    "start_time": "2023-03-19T10:09:02.161Z"
   },
   {
    "duration": 19,
    "start_time": "2023-03-19T10:09:02.194Z"
   },
   {
    "duration": 43,
    "start_time": "2023-03-19T10:09:02.215Z"
   },
   {
    "duration": 31,
    "start_time": "2023-03-19T10:09:02.260Z"
   },
   {
    "duration": 32,
    "start_time": "2023-03-19T10:09:02.292Z"
   },
   {
    "duration": 15,
    "start_time": "2023-03-19T10:09:02.325Z"
   },
   {
    "duration": 11,
    "start_time": "2023-03-19T10:09:02.343Z"
   },
   {
    "duration": 22,
    "start_time": "2023-03-19T10:09:02.356Z"
   },
   {
    "duration": 89,
    "start_time": "2023-03-19T10:09:02.379Z"
   },
   {
    "duration": 84,
    "start_time": "2023-03-19T10:09:02.470Z"
   },
   {
    "duration": 6,
    "start_time": "2023-03-19T10:09:02.556Z"
   },
   {
    "duration": 48,
    "start_time": "2023-03-19T10:09:02.564Z"
   },
   {
    "duration": 29,
    "start_time": "2023-03-19T10:09:02.614Z"
   },
   {
    "duration": 22,
    "start_time": "2023-03-19T10:09:02.644Z"
   },
   {
    "duration": 61,
    "start_time": "2023-03-19T10:09:02.670Z"
   },
   {
    "duration": 182,
    "start_time": "2023-03-19T10:09:02.732Z"
   },
   {
    "duration": 166,
    "start_time": "2023-03-19T10:09:02.915Z"
   },
   {
    "duration": 19,
    "start_time": "2023-03-19T10:09:03.094Z"
   },
   {
    "duration": 31,
    "start_time": "2023-03-19T10:09:03.115Z"
   },
   {
    "duration": 8,
    "start_time": "2023-03-19T10:09:03.148Z"
   },
   {
    "duration": 5,
    "start_time": "2023-03-19T10:09:03.158Z"
   },
   {
    "duration": 92,
    "start_time": "2023-03-19T10:09:03.164Z"
   },
   {
    "duration": 35,
    "start_time": "2023-03-19T10:09:03.258Z"
   },
   {
    "duration": 22,
    "start_time": "2023-03-19T10:09:03.294Z"
   },
   {
    "duration": 58,
    "start_time": "2023-03-19T10:09:03.318Z"
   },
   {
    "duration": 19,
    "start_time": "2023-03-19T10:09:03.385Z"
   },
   {
    "duration": 130,
    "start_time": "2023-03-19T10:09:03.406Z"
   },
   {
    "duration": 9,
    "start_time": "2023-03-19T10:09:03.538Z"
   },
   {
    "duration": 12,
    "start_time": "2023-03-19T10:09:03.548Z"
   },
   {
    "duration": 61,
    "start_time": "2023-03-19T10:09:03.562Z"
   },
   {
    "duration": 34,
    "start_time": "2023-03-19T10:09:03.626Z"
   },
   {
    "duration": 47,
    "start_time": "2023-03-19T10:09:03.662Z"
   },
   {
    "duration": 9,
    "start_time": "2023-03-19T10:09:03.711Z"
   },
   {
    "duration": 67,
    "start_time": "2023-03-19T10:09:03.722Z"
   },
   {
    "duration": 17,
    "start_time": "2023-03-19T10:09:03.792Z"
   },
   {
    "duration": 46,
    "start_time": "2023-03-19T10:09:03.813Z"
   },
   {
    "duration": 43,
    "start_time": "2023-03-19T10:09:03.861Z"
   },
   {
    "duration": 8,
    "start_time": "2023-03-19T10:09:03.907Z"
   },
   {
    "duration": 72,
    "start_time": "2023-03-19T10:09:03.917Z"
   },
   {
    "duration": 47,
    "start_time": "2023-03-19T10:09:03.991Z"
   },
   {
    "duration": 48,
    "start_time": "2023-03-19T10:09:04.041Z"
   },
   {
    "duration": 5,
    "start_time": "2023-03-19T10:09:04.102Z"
   },
   {
    "duration": 78,
    "start_time": "2023-03-19T10:09:04.109Z"
   },
   {
    "duration": 39,
    "start_time": "2023-03-19T10:09:04.198Z"
   },
   {
    "duration": 58,
    "start_time": "2023-03-19T10:09:04.239Z"
   },
   {
    "duration": 209,
    "start_time": "2023-03-19T10:09:04.298Z"
   },
   {
    "duration": 4,
    "start_time": "2023-03-19T10:09:04.508Z"
   },
   {
    "duration": 28,
    "start_time": "2023-03-19T10:09:04.514Z"
   },
   {
    "duration": 2888,
    "start_time": "2023-03-19T10:09:04.544Z"
   },
   {
    "duration": 35,
    "start_time": "2023-03-19T10:09:07.433Z"
   },
   {
    "duration": 38,
    "start_time": "2023-03-19T10:09:07.470Z"
   },
   {
    "duration": 28,
    "start_time": "2023-03-19T10:09:07.510Z"
   },
   {
    "duration": 16,
    "start_time": "2023-03-19T10:09:07.541Z"
   },
   {
    "duration": 103,
    "start_time": "2023-03-19T10:09:07.559Z"
   },
   {
    "duration": 47,
    "start_time": "2023-03-19T10:09:07.664Z"
   },
   {
    "duration": 30,
    "start_time": "2023-03-19T10:09:07.715Z"
   },
   {
    "duration": 60,
    "start_time": "2023-03-19T10:09:07.747Z"
   },
   {
    "duration": 144,
    "start_time": "2023-03-19T10:09:07.810Z"
   },
   {
    "duration": 175,
    "start_time": "2023-03-19T10:09:07.956Z"
   },
   {
    "duration": 139,
    "start_time": "2023-03-19T10:09:08.133Z"
   },
   {
    "duration": 34,
    "start_time": "2023-03-19T10:09:08.297Z"
   },
   {
    "duration": 18,
    "start_time": "2023-03-19T10:09:08.333Z"
   },
   {
    "duration": 3,
    "start_time": "2023-03-19T10:09:08.352Z"
   },
   {
    "duration": 9,
    "start_time": "2023-03-19T10:09:08.357Z"
   },
   {
    "duration": 43,
    "start_time": "2023-03-19T10:09:08.368Z"
   },
   {
    "duration": 7110,
    "start_time": "2023-03-19T10:09:08.413Z"
   },
   {
    "duration": 6,
    "start_time": "2023-03-19T10:09:15.525Z"
   },
   {
    "duration": 137,
    "start_time": "2023-03-19T10:09:15.532Z"
   },
   {
    "duration": 11,
    "start_time": "2023-03-19T10:09:15.674Z"
   },
   {
    "duration": 47,
    "start_time": "2023-03-19T10:09:15.693Z"
   },
   {
    "duration": 52,
    "start_time": "2023-03-19T10:09:15.742Z"
   },
   {
    "duration": 12,
    "start_time": "2023-03-19T10:09:15.795Z"
   },
   {
    "duration": 25,
    "start_time": "2023-03-19T10:09:15.809Z"
   },
   {
    "duration": 68,
    "start_time": "2023-03-19T10:09:15.837Z"
   },
   {
    "duration": 5,
    "start_time": "2023-03-19T10:09:15.907Z"
   },
   {
    "duration": 73,
    "start_time": "2023-03-19T10:09:15.914Z"
   },
   {
    "duration": 4,
    "start_time": "2023-03-19T10:09:15.989Z"
   },
   {
    "duration": 2,
    "start_time": "2023-03-19T10:09:15.995Z"
   },
   {
    "duration": 23,
    "start_time": "2023-03-19T10:09:15.998Z"
   },
   {
    "duration": 17,
    "start_time": "2023-03-19T10:14:02.725Z"
   },
   {
    "duration": 25,
    "start_time": "2023-03-19T10:26:19.102Z"
   },
   {
    "duration": 9,
    "start_time": "2023-03-19T10:26:30.014Z"
   },
   {
    "duration": 32,
    "start_time": "2023-03-19T10:26:39.301Z"
   },
   {
    "duration": 1553,
    "start_time": "2023-03-19T10:26:45.349Z"
   },
   {
    "duration": 3,
    "start_time": "2023-03-19T10:26:46.904Z"
   },
   {
    "duration": 771,
    "start_time": "2023-03-19T10:26:46.909Z"
   },
   {
    "duration": 7,
    "start_time": "2023-03-19T10:26:47.683Z"
   },
   {
    "duration": 170,
    "start_time": "2023-03-19T10:26:47.692Z"
   },
   {
    "duration": 685,
    "start_time": "2023-03-19T10:26:47.864Z"
   },
   {
    "duration": 10,
    "start_time": "2023-03-19T10:26:48.550Z"
   },
   {
    "duration": 61,
    "start_time": "2023-03-19T10:26:48.562Z"
   },
   {
    "duration": 56,
    "start_time": "2023-03-19T10:26:48.625Z"
   },
   {
    "duration": 9,
    "start_time": "2023-03-19T10:26:48.683Z"
   },
   {
    "duration": 4,
    "start_time": "2023-03-19T10:26:48.693Z"
   },
   {
    "duration": 51,
    "start_time": "2023-03-19T10:26:48.699Z"
   },
   {
    "duration": 176,
    "start_time": "2023-03-19T10:26:48.751Z"
   },
   {
    "duration": 16,
    "start_time": "2023-03-19T10:26:48.929Z"
   },
   {
    "duration": 7,
    "start_time": "2023-03-19T10:26:48.946Z"
   },
   {
    "duration": 37,
    "start_time": "2023-03-19T10:26:48.955Z"
   },
   {
    "duration": 13,
    "start_time": "2023-03-19T10:26:48.993Z"
   },
   {
    "duration": 8,
    "start_time": "2023-03-19T10:26:49.008Z"
   },
   {
    "duration": 13,
    "start_time": "2023-03-19T10:26:49.018Z"
   },
   {
    "duration": 13,
    "start_time": "2023-03-19T10:26:49.033Z"
   },
   {
    "duration": 41,
    "start_time": "2023-03-19T10:26:49.048Z"
   },
   {
    "duration": 47,
    "start_time": "2023-03-19T10:26:49.090Z"
   },
   {
    "duration": 102,
    "start_time": "2023-03-19T10:26:49.139Z"
   },
   {
    "duration": 7,
    "start_time": "2023-03-19T10:26:49.242Z"
   },
   {
    "duration": 28,
    "start_time": "2023-03-19T10:26:49.251Z"
   },
   {
    "duration": 13,
    "start_time": "2023-03-19T10:26:49.281Z"
   },
   {
    "duration": 5,
    "start_time": "2023-03-19T10:26:49.296Z"
   },
   {
    "duration": 38,
    "start_time": "2023-03-19T10:26:49.306Z"
   },
   {
    "duration": 191,
    "start_time": "2023-03-19T10:26:49.345Z"
   },
   {
    "duration": 178,
    "start_time": "2023-03-19T10:26:49.538Z"
   },
   {
    "duration": 10,
    "start_time": "2023-03-19T10:26:49.718Z"
   },
   {
    "duration": 9,
    "start_time": "2023-03-19T10:26:49.730Z"
   },
   {
    "duration": 7,
    "start_time": "2023-03-19T10:26:49.741Z"
   },
   {
    "duration": 31,
    "start_time": "2023-03-19T10:26:49.750Z"
   },
   {
    "duration": 75,
    "start_time": "2023-03-19T10:26:49.783Z"
   },
   {
    "duration": 20,
    "start_time": "2023-03-19T10:26:49.860Z"
   },
   {
    "duration": 6,
    "start_time": "2023-03-19T10:26:49.882Z"
   },
   {
    "duration": 42,
    "start_time": "2023-03-19T10:26:49.889Z"
   },
   {
    "duration": 12,
    "start_time": "2023-03-19T10:26:49.934Z"
   },
   {
    "duration": 190,
    "start_time": "2023-03-19T10:26:49.947Z"
   },
   {
    "duration": 8,
    "start_time": "2023-03-19T10:26:50.139Z"
   },
   {
    "duration": 13,
    "start_time": "2023-03-19T10:26:50.149Z"
   },
   {
    "duration": 53,
    "start_time": "2023-03-19T10:26:50.164Z"
   },
   {
    "duration": 39,
    "start_time": "2023-03-19T10:26:50.219Z"
   },
   {
    "duration": 43,
    "start_time": "2023-03-19T10:26:50.260Z"
   },
   {
    "duration": 5,
    "start_time": "2023-03-19T10:26:50.305Z"
   },
   {
    "duration": 46,
    "start_time": "2023-03-19T10:26:50.312Z"
   },
   {
    "duration": 31,
    "start_time": "2023-03-19T10:26:50.359Z"
   },
   {
    "duration": 45,
    "start_time": "2023-03-19T10:26:50.392Z"
   },
   {
    "duration": 42,
    "start_time": "2023-03-19T10:26:50.439Z"
   },
   {
    "duration": 4,
    "start_time": "2023-03-19T10:26:50.483Z"
   },
   {
    "duration": 55,
    "start_time": "2023-03-19T10:26:50.489Z"
   },
   {
    "duration": 38,
    "start_time": "2023-03-19T10:26:50.546Z"
   },
   {
    "duration": 30,
    "start_time": "2023-03-19T10:26:50.586Z"
   },
   {
    "duration": 4,
    "start_time": "2023-03-19T10:26:50.618Z"
   },
   {
    "duration": 84,
    "start_time": "2023-03-19T10:26:50.624Z"
   },
   {
    "duration": 23,
    "start_time": "2023-03-19T10:26:50.710Z"
   },
   {
    "duration": 52,
    "start_time": "2023-03-19T10:26:50.735Z"
   },
   {
    "duration": 163,
    "start_time": "2023-03-19T10:26:50.788Z"
   },
   {
    "duration": 4,
    "start_time": "2023-03-19T10:26:50.953Z"
   },
   {
    "duration": 25,
    "start_time": "2023-03-19T10:26:50.958Z"
   },
   {
    "duration": 2833,
    "start_time": "2023-03-19T10:26:50.985Z"
   },
   {
    "duration": 67,
    "start_time": "2023-03-19T10:26:53.820Z"
   },
   {
    "duration": 6,
    "start_time": "2023-03-19T10:26:53.889Z"
   },
   {
    "duration": 28,
    "start_time": "2023-03-19T10:26:53.897Z"
   },
   {
    "duration": 16,
    "start_time": "2023-03-19T10:26:53.928Z"
   },
   {
    "duration": 89,
    "start_time": "2023-03-19T10:26:53.946Z"
   },
   {
    "duration": 30,
    "start_time": "2023-03-19T10:26:54.037Z"
   },
   {
    "duration": 18,
    "start_time": "2023-03-19T10:26:54.080Z"
   },
   {
    "duration": 31,
    "start_time": "2023-03-19T10:26:54.100Z"
   },
   {
    "duration": 217,
    "start_time": "2023-03-19T10:26:54.133Z"
   },
   {
    "duration": 204,
    "start_time": "2023-03-19T10:26:54.352Z"
   },
   {
    "duration": 196,
    "start_time": "2023-03-19T10:26:54.559Z"
   },
   {
    "duration": 37,
    "start_time": "2023-03-19T10:26:54.757Z"
   },
   {
    "duration": 25,
    "start_time": "2023-03-19T10:26:54.796Z"
   },
   {
    "duration": 10,
    "start_time": "2023-03-19T10:26:54.823Z"
   },
   {
    "duration": 5,
    "start_time": "2023-03-19T10:26:54.835Z"
   },
   {
    "duration": 38,
    "start_time": "2023-03-19T10:26:54.842Z"
   },
   {
    "duration": 7570,
    "start_time": "2023-03-19T10:26:54.882Z"
   },
   {
    "duration": 7,
    "start_time": "2023-03-19T10:27:02.454Z"
   },
   {
    "duration": 369,
    "start_time": "2023-03-19T10:27:02.463Z"
   },
   {
    "duration": 5,
    "start_time": "2023-03-19T10:27:02.839Z"
   },
   {
    "duration": 77,
    "start_time": "2023-03-19T10:27:02.847Z"
   },
   {
    "duration": 80,
    "start_time": "2023-03-19T10:27:02.926Z"
   },
   {
    "duration": 14,
    "start_time": "2023-03-19T10:27:03.007Z"
   },
   {
    "duration": 61,
    "start_time": "2023-03-19T10:27:03.023Z"
   },
   {
    "duration": 71,
    "start_time": "2023-03-19T10:27:03.086Z"
   },
   {
    "duration": 6,
    "start_time": "2023-03-19T10:27:03.159Z"
   },
   {
    "duration": 56,
    "start_time": "2023-03-19T10:27:03.166Z"
   },
   {
    "duration": 8,
    "start_time": "2023-03-19T10:27:03.223Z"
   },
   {
    "duration": 19,
    "start_time": "2023-03-19T10:27:03.233Z"
   },
   {
    "duration": 35,
    "start_time": "2023-03-19T10:27:03.254Z"
   },
   {
    "duration": 25,
    "start_time": "2023-03-19T10:27:03.291Z"
   },
   {
    "duration": 47,
    "start_time": "2023-03-19T10:29:00.559Z"
   },
   {
    "duration": 1410,
    "start_time": "2023-03-19T10:29:09.374Z"
   },
   {
    "duration": 3,
    "start_time": "2023-03-19T10:29:10.786Z"
   },
   {
    "duration": 819,
    "start_time": "2023-03-19T10:29:10.791Z"
   },
   {
    "duration": 5,
    "start_time": "2023-03-19T10:29:11.612Z"
   },
   {
    "duration": 124,
    "start_time": "2023-03-19T10:29:11.618Z"
   },
   {
    "duration": 717,
    "start_time": "2023-03-19T10:29:11.744Z"
   },
   {
    "duration": 20,
    "start_time": "2023-03-19T10:29:12.464Z"
   },
   {
    "duration": 78,
    "start_time": "2023-03-19T10:29:12.486Z"
   },
   {
    "duration": 52,
    "start_time": "2023-03-19T10:29:12.568Z"
   },
   {
    "duration": 9,
    "start_time": "2023-03-19T10:29:12.624Z"
   },
   {
    "duration": 4,
    "start_time": "2023-03-19T10:29:12.635Z"
   },
   {
    "duration": 76,
    "start_time": "2023-03-19T10:29:12.641Z"
   },
   {
    "duration": 155,
    "start_time": "2023-03-19T10:29:12.719Z"
   },
   {
    "duration": 17,
    "start_time": "2023-03-19T10:29:12.880Z"
   },
   {
    "duration": 6,
    "start_time": "2023-03-19T10:29:12.898Z"
   },
   {
    "duration": 15,
    "start_time": "2023-03-19T10:29:12.906Z"
   },
   {
    "duration": 14,
    "start_time": "2023-03-19T10:29:12.923Z"
   },
   {
    "duration": 44,
    "start_time": "2023-03-19T10:29:12.939Z"
   },
   {
    "duration": 16,
    "start_time": "2023-03-19T10:29:12.985Z"
   },
   {
    "duration": 14,
    "start_time": "2023-03-19T10:29:13.003Z"
   },
   {
    "duration": 4,
    "start_time": "2023-03-19T10:29:13.019Z"
   },
   {
    "duration": 72,
    "start_time": "2023-03-19T10:29:13.025Z"
   },
   {
    "duration": 89,
    "start_time": "2023-03-19T10:29:13.099Z"
   },
   {
    "duration": 8,
    "start_time": "2023-03-19T10:29:13.190Z"
   },
   {
    "duration": 7,
    "start_time": "2023-03-19T10:29:13.199Z"
   },
   {
    "duration": 12,
    "start_time": "2023-03-19T10:29:13.208Z"
   },
   {
    "duration": 4,
    "start_time": "2023-03-19T10:29:13.222Z"
   },
   {
    "duration": 67,
    "start_time": "2023-03-19T10:29:13.230Z"
   },
   {
    "duration": 142,
    "start_time": "2023-03-19T10:29:13.298Z"
   },
   {
    "duration": 153,
    "start_time": "2023-03-19T10:29:13.442Z"
   },
   {
    "duration": 11,
    "start_time": "2023-03-19T10:29:13.597Z"
   },
   {
    "duration": 12,
    "start_time": "2023-03-19T10:29:13.610Z"
   },
   {
    "duration": 7,
    "start_time": "2023-03-19T10:29:13.625Z"
   },
   {
    "duration": 4,
    "start_time": "2023-03-19T10:29:13.634Z"
   },
   {
    "duration": 144,
    "start_time": "2023-03-19T10:29:13.639Z"
   },
   {
    "duration": 13,
    "start_time": "2023-03-19T10:29:13.785Z"
   },
   {
    "duration": 5,
    "start_time": "2023-03-19T10:29:13.800Z"
   },
   {
    "duration": 73,
    "start_time": "2023-03-19T10:29:13.806Z"
   },
   {
    "duration": 10,
    "start_time": "2023-03-19T10:29:13.881Z"
   },
   {
    "duration": 160,
    "start_time": "2023-03-19T10:29:13.893Z"
   },
   {
    "duration": 7,
    "start_time": "2023-03-19T10:29:14.055Z"
   },
   {
    "duration": 19,
    "start_time": "2023-03-19T10:29:14.063Z"
   },
   {
    "duration": 45,
    "start_time": "2023-03-19T10:29:14.084Z"
   },
   {
    "duration": 23,
    "start_time": "2023-03-19T10:29:14.131Z"
   },
   {
    "duration": 45,
    "start_time": "2023-03-19T10:29:14.156Z"
   },
   {
    "duration": 5,
    "start_time": "2023-03-19T10:29:14.203Z"
   },
   {
    "duration": 42,
    "start_time": "2023-03-19T10:29:14.210Z"
   },
   {
    "duration": 13,
    "start_time": "2023-03-19T10:29:14.279Z"
   },
   {
    "duration": 39,
    "start_time": "2023-03-19T10:29:14.294Z"
   },
   {
    "duration": 31,
    "start_time": "2023-03-19T10:29:14.335Z"
   },
   {
    "duration": 13,
    "start_time": "2023-03-19T10:29:14.367Z"
   },
   {
    "duration": 50,
    "start_time": "2023-03-19T10:29:14.382Z"
   },
   {
    "duration": 50,
    "start_time": "2023-03-19T10:29:14.433Z"
   },
   {
    "duration": 25,
    "start_time": "2023-03-19T10:29:14.485Z"
   },
   {
    "duration": 5,
    "start_time": "2023-03-19T10:29:14.512Z"
   },
   {
    "duration": 103,
    "start_time": "2023-03-19T10:29:14.518Z"
   },
   {
    "duration": 26,
    "start_time": "2023-03-19T10:29:14.623Z"
   },
   {
    "duration": 35,
    "start_time": "2023-03-19T10:29:14.651Z"
   },
   {
    "duration": 139,
    "start_time": "2023-03-19T10:29:14.688Z"
   },
   {
    "duration": 3,
    "start_time": "2023-03-19T10:29:14.829Z"
   },
   {
    "duration": 6,
    "start_time": "2023-03-19T10:29:14.833Z"
   },
   {
    "duration": 2320,
    "start_time": "2023-03-19T10:29:14.841Z"
   },
   {
    "duration": 32,
    "start_time": "2023-03-19T10:29:17.162Z"
   },
   {
    "duration": 6,
    "start_time": "2023-03-19T10:29:17.196Z"
   },
   {
    "duration": 20,
    "start_time": "2023-03-19T10:29:17.203Z"
   },
   {
    "duration": 10,
    "start_time": "2023-03-19T10:29:17.225Z"
   },
   {
    "duration": 96,
    "start_time": "2023-03-19T10:29:17.236Z"
   },
   {
    "duration": 26,
    "start_time": "2023-03-19T10:29:17.334Z"
   },
   {
    "duration": 31,
    "start_time": "2023-03-19T10:29:17.361Z"
   },
   {
    "duration": 16,
    "start_time": "2023-03-19T10:29:17.394Z"
   },
   {
    "duration": 139,
    "start_time": "2023-03-19T10:29:17.411Z"
   },
   {
    "duration": 139,
    "start_time": "2023-03-19T10:29:17.552Z"
   },
   {
    "duration": 124,
    "start_time": "2023-03-19T10:29:17.692Z"
   },
   {
    "duration": 18,
    "start_time": "2023-03-19T10:29:17.817Z"
   },
   {
    "duration": 44,
    "start_time": "2023-03-19T10:29:17.836Z"
   },
   {
    "duration": 10,
    "start_time": "2023-03-19T10:29:17.882Z"
   },
   {
    "duration": 4,
    "start_time": "2023-03-19T10:29:17.895Z"
   },
   {
    "duration": 10,
    "start_time": "2023-03-19T10:29:17.901Z"
   },
   {
    "duration": 6180,
    "start_time": "2023-03-19T10:29:17.913Z"
   },
   {
    "duration": 5,
    "start_time": "2023-03-19T10:29:24.095Z"
   },
   {
    "duration": 134,
    "start_time": "2023-03-19T10:29:24.102Z"
   },
   {
    "duration": 4,
    "start_time": "2023-03-19T10:29:24.241Z"
   },
   {
    "duration": 46,
    "start_time": "2023-03-19T10:29:24.246Z"
   },
   {
    "duration": 40,
    "start_time": "2023-03-19T10:29:24.293Z"
   },
   {
    "duration": 20,
    "start_time": "2023-03-19T10:29:24.334Z"
   },
   {
    "duration": 33,
    "start_time": "2023-03-19T10:29:24.356Z"
   },
   {
    "duration": 67,
    "start_time": "2023-03-19T10:29:24.391Z"
   },
   {
    "duration": 6,
    "start_time": "2023-03-19T10:29:24.460Z"
   },
   {
    "duration": 51,
    "start_time": "2023-03-19T10:29:24.468Z"
   },
   {
    "duration": 5,
    "start_time": "2023-03-19T10:29:24.521Z"
   },
   {
    "duration": 15,
    "start_time": "2023-03-19T10:29:24.527Z"
   },
   {
    "duration": 13,
    "start_time": "2023-03-19T10:29:24.543Z"
   },
   {
    "duration": 74,
    "start_time": "2023-03-19T10:29:24.558Z"
   },
   {
    "duration": 1698,
    "start_time": "2023-03-19T12:53:02.184Z"
   },
   {
    "duration": 4,
    "start_time": "2023-03-19T12:53:03.888Z"
   },
   {
    "duration": 3294,
    "start_time": "2023-03-19T12:53:03.894Z"
   },
   {
    "duration": 4,
    "start_time": "2023-03-19T12:53:07.192Z"
   },
   {
    "duration": 143,
    "start_time": "2023-03-19T12:53:07.198Z"
   },
   {
    "duration": 929,
    "start_time": "2023-03-19T12:53:07.343Z"
   },
   {
    "duration": 13,
    "start_time": "2023-03-19T12:53:08.279Z"
   },
   {
    "duration": 58,
    "start_time": "2023-03-19T12:53:08.295Z"
   },
   {
    "duration": 53,
    "start_time": "2023-03-19T12:53:08.365Z"
   },
   {
    "duration": 10,
    "start_time": "2023-03-19T12:53:08.422Z"
   },
   {
    "duration": 7,
    "start_time": "2023-03-19T12:53:08.433Z"
   },
   {
    "duration": 57,
    "start_time": "2023-03-19T12:53:08.469Z"
   },
   {
    "duration": 275,
    "start_time": "2023-03-19T12:53:08.528Z"
   },
   {
    "duration": 19,
    "start_time": "2023-03-19T12:53:08.805Z"
   },
   {
    "duration": 7,
    "start_time": "2023-03-19T12:53:08.826Z"
   },
   {
    "duration": 39,
    "start_time": "2023-03-19T12:53:08.835Z"
   },
   {
    "duration": 15,
    "start_time": "2023-03-19T12:53:08.877Z"
   },
   {
    "duration": 10,
    "start_time": "2023-03-19T12:53:08.895Z"
   },
   {
    "duration": 15,
    "start_time": "2023-03-19T12:53:08.907Z"
   },
   {
    "duration": 45,
    "start_time": "2023-03-19T12:53:08.923Z"
   },
   {
    "duration": 10,
    "start_time": "2023-03-19T12:53:08.973Z"
   },
   {
    "duration": 47,
    "start_time": "2023-03-19T12:53:08.985Z"
   },
   {
    "duration": 16,
    "start_time": "2023-03-19T12:53:09.033Z"
   },
   {
    "duration": 17,
    "start_time": "2023-03-19T12:53:09.051Z"
   },
   {
    "duration": 9,
    "start_time": "2023-03-19T12:53:09.073Z"
   },
   {
    "duration": 11,
    "start_time": "2023-03-19T12:53:09.083Z"
   },
   {
    "duration": 4,
    "start_time": "2023-03-19T12:53:09.096Z"
   },
   {
    "duration": 60,
    "start_time": "2023-03-19T12:53:09.106Z"
   },
   {
    "duration": 157,
    "start_time": "2023-03-19T12:53:09.169Z"
   },
   {
    "duration": 173,
    "start_time": "2023-03-19T12:53:09.327Z"
   },
   {
    "duration": 10,
    "start_time": "2023-03-19T12:53:09.502Z"
   },
   {
    "duration": 14,
    "start_time": "2023-03-19T12:53:09.514Z"
   },
   {
    "duration": 35,
    "start_time": "2023-03-19T12:53:09.530Z"
   },
   {
    "duration": 5,
    "start_time": "2023-03-19T12:53:09.569Z"
   },
   {
    "duration": 101,
    "start_time": "2023-03-19T12:53:09.575Z"
   },
   {
    "duration": 18,
    "start_time": "2023-03-19T12:53:09.680Z"
   },
   {
    "duration": 5,
    "start_time": "2023-03-19T12:53:09.700Z"
   },
   {
    "duration": 69,
    "start_time": "2023-03-19T12:53:09.707Z"
   },
   {
    "duration": 12,
    "start_time": "2023-03-19T12:53:09.780Z"
   },
   {
    "duration": 181,
    "start_time": "2023-03-19T12:53:09.793Z"
   },
   {
    "duration": 7,
    "start_time": "2023-03-19T12:53:09.975Z"
   },
   {
    "duration": 8,
    "start_time": "2023-03-19T12:53:09.985Z"
   },
   {
    "duration": 25,
    "start_time": "2023-03-19T12:53:09.995Z"
   },
   {
    "duration": 42,
    "start_time": "2023-03-19T12:53:10.022Z"
   },
   {
    "duration": 30,
    "start_time": "2023-03-19T12:53:10.073Z"
   },
   {
    "duration": 7,
    "start_time": "2023-03-19T12:53:10.106Z"
   },
   {
    "duration": 58,
    "start_time": "2023-03-19T12:53:10.115Z"
   },
   {
    "duration": 17,
    "start_time": "2023-03-19T12:53:10.179Z"
   },
   {
    "duration": 28,
    "start_time": "2023-03-19T12:53:10.198Z"
   },
   {
    "duration": 36,
    "start_time": "2023-03-19T12:53:10.227Z"
   },
   {
    "duration": 9,
    "start_time": "2023-03-19T12:53:10.265Z"
   },
   {
    "duration": 64,
    "start_time": "2023-03-19T12:53:10.277Z"
   },
   {
    "duration": 43,
    "start_time": "2023-03-19T12:53:10.343Z"
   },
   {
    "duration": 30,
    "start_time": "2023-03-19T12:53:10.389Z"
   },
   {
    "duration": 4,
    "start_time": "2023-03-19T12:53:10.421Z"
   },
   {
    "duration": 80,
    "start_time": "2023-03-19T12:53:10.427Z"
   },
   {
    "duration": 32,
    "start_time": "2023-03-19T12:53:10.509Z"
   },
   {
    "duration": 44,
    "start_time": "2023-03-19T12:53:10.543Z"
   },
   {
    "duration": 187,
    "start_time": "2023-03-19T12:53:10.589Z"
   },
   {
    "duration": 4,
    "start_time": "2023-03-19T12:53:10.778Z"
   },
   {
    "duration": 4,
    "start_time": "2023-03-19T12:53:10.784Z"
   },
   {
    "duration": 3091,
    "start_time": "2023-03-19T12:53:10.790Z"
   },
   {
    "duration": 47,
    "start_time": "2023-03-19T12:53:13.883Z"
   },
   {
    "duration": 8,
    "start_time": "2023-03-19T12:53:13.933Z"
   },
   {
    "duration": 39,
    "start_time": "2023-03-19T12:53:13.944Z"
   },
   {
    "duration": 14,
    "start_time": "2023-03-19T12:53:13.987Z"
   },
   {
    "duration": 131,
    "start_time": "2023-03-19T12:53:14.004Z"
   },
   {
    "duration": 52,
    "start_time": "2023-03-19T12:53:14.138Z"
   },
   {
    "duration": 27,
    "start_time": "2023-03-19T12:53:14.195Z"
   },
   {
    "duration": 25,
    "start_time": "2023-03-19T12:53:14.225Z"
   },
   {
    "duration": 195,
    "start_time": "2023-03-19T12:53:14.252Z"
   },
   {
    "duration": 192,
    "start_time": "2023-03-19T12:53:14.448Z"
   },
   {
    "duration": 186,
    "start_time": "2023-03-19T12:53:14.642Z"
   },
   {
    "duration": 21,
    "start_time": "2023-03-19T12:53:14.830Z"
   },
   {
    "duration": 40,
    "start_time": "2023-03-19T12:53:14.861Z"
   },
   {
    "duration": 13,
    "start_time": "2023-03-19T12:53:14.904Z"
   },
   {
    "duration": 7,
    "start_time": "2023-03-19T12:53:14.920Z"
   },
   {
    "duration": 48,
    "start_time": "2023-03-19T12:53:14.930Z"
   },
   {
    "duration": 7786,
    "start_time": "2023-03-19T12:53:14.981Z"
   },
   {
    "duration": 8,
    "start_time": "2023-03-19T12:53:22.777Z"
   },
   {
    "duration": 154,
    "start_time": "2023-03-19T12:53:22.787Z"
   },
   {
    "duration": 25,
    "start_time": "2023-03-19T12:53:22.947Z"
   },
   {
    "duration": 44,
    "start_time": "2023-03-19T12:53:22.977Z"
   },
   {
    "duration": 51,
    "start_time": "2023-03-19T12:53:23.023Z"
   },
   {
    "duration": 12,
    "start_time": "2023-03-19T12:53:23.075Z"
   },
   {
    "duration": 17,
    "start_time": "2023-03-19T12:53:23.088Z"
   },
   {
    "duration": 72,
    "start_time": "2023-03-19T12:53:23.107Z"
   },
   {
    "duration": 7,
    "start_time": "2023-03-19T12:53:23.185Z"
   },
   {
    "duration": 54,
    "start_time": "2023-03-19T12:53:23.194Z"
   },
   {
    "duration": 6,
    "start_time": "2023-03-19T12:53:23.261Z"
   },
   {
    "duration": 26,
    "start_time": "2023-03-19T12:53:23.270Z"
   },
   {
    "duration": 16,
    "start_time": "2023-03-19T12:53:23.298Z"
   },
   {
    "duration": 71,
    "start_time": "2023-03-19T12:53:23.316Z"
   },
   {
    "duration": 844,
    "start_time": "2023-03-19T13:11:53.569Z"
   },
   {
    "duration": 4,
    "start_time": "2023-03-19T13:12:03.726Z"
   },
   {
    "duration": 138,
    "start_time": "2023-03-19T13:18:44.109Z"
   },
   {
    "duration": 221,
    "start_time": "2023-03-19T13:18:48.412Z"
   },
   {
    "duration": 14,
    "start_time": "2023-03-19T13:19:54.368Z"
   },
   {
    "duration": 42,
    "start_time": "2023-03-19T13:19:58.491Z"
   },
   {
    "duration": 3,
    "start_time": "2023-03-19T13:20:03.027Z"
   },
   {
    "duration": 7,
    "start_time": "2023-03-19T13:20:26.481Z"
   },
   {
    "duration": 26,
    "start_time": "2023-03-19T13:21:09.312Z"
   },
   {
    "duration": 102,
    "start_time": "2023-03-19T13:21:15.678Z"
   },
   {
    "duration": 4,
    "start_time": "2023-03-19T13:21:17.680Z"
   },
   {
    "duration": 35,
    "start_time": "2023-03-19T13:21:49.455Z"
   },
   {
    "duration": 104,
    "start_time": "2023-03-19T13:22:28.766Z"
   },
   {
    "duration": 5,
    "start_time": "2023-03-19T13:22:30.708Z"
   },
   {
    "duration": 101,
    "start_time": "2023-03-19T13:22:45.040Z"
   },
   {
    "duration": 48,
    "start_time": "2023-03-19T13:23:44.452Z"
   },
   {
    "duration": 300,
    "start_time": "2023-03-19T13:24:19.495Z"
   },
   {
    "duration": 511,
    "start_time": "2023-03-19T13:24:24.281Z"
   },
   {
    "duration": 4,
    "start_time": "2023-03-19T13:24:29.017Z"
   },
   {
    "duration": 5,
    "start_time": "2023-03-19T13:24:44.011Z"
   },
   {
    "duration": 4,
    "start_time": "2023-03-19T13:24:57.790Z"
   },
   {
    "duration": 46555,
    "start_time": "2023-03-19T13:24:59.909Z"
   },
   {
    "duration": 144,
    "start_time": "2023-03-19T13:26:26.644Z"
   },
   {
    "duration": 198,
    "start_time": "2023-03-19T13:26:44.880Z"
   },
   {
    "duration": 178,
    "start_time": "2023-03-19T13:26:52.084Z"
   },
   {
    "duration": 168,
    "start_time": "2023-03-19T13:27:10.918Z"
   },
   {
    "duration": 1739,
    "start_time": "2023-03-19T16:34:13.107Z"
   },
   {
    "duration": 3,
    "start_time": "2023-03-19T16:34:14.849Z"
   },
   {
    "duration": 2914,
    "start_time": "2023-03-19T16:34:14.853Z"
   },
   {
    "duration": 3,
    "start_time": "2023-03-19T16:34:17.769Z"
   },
   {
    "duration": 140,
    "start_time": "2023-03-19T16:34:17.775Z"
   },
   {
    "duration": 748,
    "start_time": "2023-03-19T16:34:17.917Z"
   },
   {
    "duration": 10,
    "start_time": "2023-03-19T16:34:18.666Z"
   },
   {
    "duration": 102,
    "start_time": "2023-03-19T16:34:18.678Z"
   },
   {
    "duration": 59,
    "start_time": "2023-03-19T16:34:18.782Z"
   },
   {
    "duration": 7,
    "start_time": "2023-03-19T16:34:18.843Z"
   },
   {
    "duration": 4,
    "start_time": "2023-03-19T16:34:18.852Z"
   },
   {
    "duration": 74,
    "start_time": "2023-03-19T16:34:18.857Z"
   },
   {
    "duration": 265,
    "start_time": "2023-03-19T16:34:18.932Z"
   },
   {
    "duration": 16,
    "start_time": "2023-03-19T16:34:19.200Z"
   },
   {
    "duration": 5,
    "start_time": "2023-03-19T16:34:19.217Z"
   },
   {
    "duration": 13,
    "start_time": "2023-03-19T16:34:19.223Z"
   },
   {
    "duration": 11,
    "start_time": "2023-03-19T16:34:19.238Z"
   },
   {
    "duration": 7,
    "start_time": "2023-03-19T16:34:19.250Z"
   },
   {
    "duration": 44,
    "start_time": "2023-03-19T16:34:19.259Z"
   },
   {
    "duration": 11,
    "start_time": "2023-03-19T16:34:19.305Z"
   },
   {
    "duration": 15,
    "start_time": "2023-03-19T16:34:19.317Z"
   },
   {
    "duration": 61,
    "start_time": "2023-03-19T16:34:19.334Z"
   },
   {
    "duration": 15,
    "start_time": "2023-03-19T16:34:19.397Z"
   },
   {
    "duration": 19,
    "start_time": "2023-03-19T16:34:19.413Z"
   },
   {
    "duration": 13,
    "start_time": "2023-03-19T16:34:19.435Z"
   },
   {
    "duration": 10,
    "start_time": "2023-03-19T16:34:19.450Z"
   },
   {
    "duration": 5,
    "start_time": "2023-03-19T16:34:19.462Z"
   },
   {
    "duration": 52,
    "start_time": "2023-03-19T16:34:19.469Z"
   },
   {
    "duration": 168,
    "start_time": "2023-03-19T16:34:19.523Z"
   },
   {
    "duration": 155,
    "start_time": "2023-03-19T16:34:19.694Z"
   },
   {
    "duration": 7,
    "start_time": "2023-03-19T16:34:19.850Z"
   },
   {
    "duration": 9,
    "start_time": "2023-03-19T16:34:19.859Z"
   },
   {
    "duration": 28,
    "start_time": "2023-03-19T16:34:19.870Z"
   },
   {
    "duration": 5,
    "start_time": "2023-03-19T16:34:19.899Z"
   },
   {
    "duration": 98,
    "start_time": "2023-03-19T16:34:19.905Z"
   },
   {
    "duration": 12,
    "start_time": "2023-03-19T16:34:20.005Z"
   },
   {
    "duration": 3,
    "start_time": "2023-03-19T16:34:20.019Z"
   },
   {
    "duration": 44,
    "start_time": "2023-03-19T16:34:20.024Z"
   },
   {
    "duration": 31,
    "start_time": "2023-03-19T16:34:20.070Z"
   },
   {
    "duration": 165,
    "start_time": "2023-03-19T16:34:20.103Z"
   },
   {
    "duration": 8,
    "start_time": "2023-03-19T16:34:20.275Z"
   },
   {
    "duration": 16,
    "start_time": "2023-03-19T16:34:20.284Z"
   },
   {
    "duration": 38,
    "start_time": "2023-03-19T16:34:20.302Z"
   },
   {
    "duration": 43,
    "start_time": "2023-03-19T16:34:20.342Z"
   },
   {
    "duration": 25,
    "start_time": "2023-03-19T16:34:20.387Z"
   },
   {
    "duration": 4,
    "start_time": "2023-03-19T16:34:20.414Z"
   },
   {
    "duration": 46,
    "start_time": "2023-03-19T16:34:20.419Z"
   },
   {
    "duration": 32,
    "start_time": "2023-03-19T16:34:20.467Z"
   },
   {
    "duration": 38,
    "start_time": "2023-03-19T16:34:20.501Z"
   },
   {
    "duration": 65,
    "start_time": "2023-03-19T16:34:20.541Z"
   },
   {
    "duration": 4,
    "start_time": "2023-03-19T16:34:20.608Z"
   },
   {
    "duration": 53,
    "start_time": "2023-03-19T16:34:20.613Z"
   },
   {
    "duration": 52,
    "start_time": "2023-03-19T16:34:20.667Z"
   },
   {
    "duration": 42,
    "start_time": "2023-03-19T16:34:20.721Z"
   },
   {
    "duration": 4,
    "start_time": "2023-03-19T16:34:20.764Z"
   },
   {
    "duration": 60,
    "start_time": "2023-03-19T16:34:20.769Z"
   },
   {
    "duration": 28,
    "start_time": "2023-03-19T16:34:20.831Z"
   },
   {
    "duration": 36,
    "start_time": "2023-03-19T16:34:20.861Z"
   },
   {
    "duration": 156,
    "start_time": "2023-03-19T16:34:20.899Z"
   },
   {
    "duration": 3,
    "start_time": "2023-03-19T16:34:21.057Z"
   },
   {
    "duration": 9,
    "start_time": "2023-03-19T16:34:21.062Z"
   },
   {
    "duration": 2372,
    "start_time": "2023-03-19T16:34:21.073Z"
   },
   {
    "duration": 37,
    "start_time": "2023-03-19T16:34:23.447Z"
   },
   {
    "duration": 13,
    "start_time": "2023-03-19T16:34:23.494Z"
   },
   {
    "duration": 41,
    "start_time": "2023-03-19T16:34:23.508Z"
   },
   {
    "duration": 26,
    "start_time": "2023-03-19T16:34:23.551Z"
   },
   {
    "duration": 91,
    "start_time": "2023-03-19T16:34:23.578Z"
   },
   {
    "duration": 43,
    "start_time": "2023-03-19T16:34:23.671Z"
   },
   {
    "duration": 24,
    "start_time": "2023-03-19T16:34:23.716Z"
   },
   {
    "duration": 22,
    "start_time": "2023-03-19T16:34:23.742Z"
   },
   {
    "duration": 186,
    "start_time": "2023-03-19T16:34:23.766Z"
   },
   {
    "duration": 205,
    "start_time": "2023-03-19T16:34:23.955Z"
   },
   {
    "duration": 194,
    "start_time": "2023-03-19T16:34:24.162Z"
   },
   {
    "duration": 23,
    "start_time": "2023-03-19T16:34:24.358Z"
   },
   {
    "duration": 41,
    "start_time": "2023-03-19T16:34:24.384Z"
   },
   {
    "duration": 27,
    "start_time": "2023-03-19T16:34:24.427Z"
   },
   {
    "duration": 4,
    "start_time": "2023-03-19T16:34:24.456Z"
   },
   {
    "duration": 35,
    "start_time": "2023-03-19T16:34:24.462Z"
   },
   {
    "duration": 6546,
    "start_time": "2023-03-19T16:34:24.499Z"
   },
   {
    "duration": 6,
    "start_time": "2023-03-19T16:34:31.047Z"
   },
   {
    "duration": 162,
    "start_time": "2023-03-19T16:34:31.055Z"
   },
   {
    "duration": 4,
    "start_time": "2023-03-19T16:34:31.218Z"
   },
   {
    "duration": 90,
    "start_time": "2023-03-19T16:34:31.224Z"
   },
   {
    "duration": 48,
    "start_time": "2023-03-19T16:34:31.316Z"
   },
   {
    "duration": 28,
    "start_time": "2023-03-19T16:34:31.366Z"
   },
   {
    "duration": 55,
    "start_time": "2023-03-19T16:34:31.396Z"
   },
   {
    "duration": 81,
    "start_time": "2023-03-19T16:34:31.453Z"
   },
   {
    "duration": 9,
    "start_time": "2023-03-19T16:34:31.535Z"
   },
   {
    "duration": 82,
    "start_time": "2023-03-19T16:34:31.545Z"
   },
   {
    "duration": 25,
    "start_time": "2023-03-19T16:34:31.628Z"
   },
   {
    "duration": 40,
    "start_time": "2023-03-19T16:34:31.655Z"
   },
   {
    "duration": 31,
    "start_time": "2023-03-19T16:34:31.696Z"
   },
   {
    "duration": 70,
    "start_time": "2023-03-19T16:34:31.729Z"
   },
   {
    "duration": 910,
    "start_time": "2023-03-19T16:34:31.800Z"
   },
   {
    "duration": 5,
    "start_time": "2023-03-19T16:34:32.712Z"
   },
   {
    "duration": 50,
    "start_time": "2023-03-19T16:34:32.719Z"
   },
   {
    "duration": 402,
    "start_time": "2023-03-19T16:34:32.771Z"
   },
   {
    "duration": 642,
    "start_time": "2023-03-19T16:34:33.174Z"
   },
   {
    "duration": 4,
    "start_time": "2023-03-19T16:34:33.819Z"
   },
   {
    "duration": 16707,
    "start_time": "2023-03-19T16:34:33.825Z"
   },
   {
    "duration": 365,
    "start_time": "2023-03-19T16:34:50.534Z"
   },
   {
    "duration": 721,
    "start_time": "2023-03-19T16:40:42.160Z"
   },
   {
    "duration": 603,
    "start_time": "2023-03-19T16:41:56.405Z"
   },
   {
    "duration": 10,
    "start_time": "2023-03-19T16:43:35.908Z"
   },
   {
    "duration": 597,
    "start_time": "2023-03-19T16:44:48.810Z"
   },
   {
    "duration": 4,
    "start_time": "2023-03-19T16:44:50.220Z"
   },
   {
    "duration": 41,
    "start_time": "2023-03-19T16:44:52.812Z"
   },
   {
    "duration": 9,
    "start_time": "2023-03-19T16:49:16.614Z"
   },
   {
    "duration": 608,
    "start_time": "2023-03-19T16:49:28.733Z"
   },
   {
    "duration": 619,
    "start_time": "2023-03-19T16:49:40.585Z"
   },
   {
    "duration": 10,
    "start_time": "2023-03-19T16:49:51.886Z"
   },
   {
    "duration": 9,
    "start_time": "2023-03-19T16:50:04.463Z"
   },
   {
    "duration": 53,
    "start_time": "2023-03-19T16:50:28.586Z"
   },
   {
    "duration": 3,
    "start_time": "2023-03-19T16:50:35.533Z"
   },
   {
    "duration": 3,
    "start_time": "2023-03-19T16:53:06.290Z"
   },
   {
    "duration": 276,
    "start_time": "2023-03-19T16:58:17.916Z"
   },
   {
    "duration": 413474,
    "start_time": "2023-03-19T16:59:03.402Z"
   },
   {
    "duration": 141,
    "start_time": "2023-03-19T17:16:28.529Z"
   },
   {
    "duration": 257,
    "start_time": "2023-03-19T17:16:43.447Z"
   },
   {
    "duration": 14,
    "start_time": "2023-03-19T17:17:21.504Z"
   },
   {
    "duration": 124,
    "start_time": "2023-03-19T17:17:23.894Z"
   },
   {
    "duration": 4,
    "start_time": "2023-03-19T17:45:48.671Z"
   },
   {
    "duration": 98,
    "start_time": "2023-03-19T17:45:58.901Z"
   },
   {
    "duration": 22,
    "start_time": "2023-03-19T17:53:13.161Z"
   },
   {
    "duration": 3,
    "start_time": "2023-03-19T17:55:43.233Z"
   },
   {
    "duration": 3,
    "start_time": "2023-03-19T17:56:20.385Z"
   },
   {
    "duration": 84,
    "start_time": "2023-03-19T17:56:24.098Z"
   },
   {
    "duration": 65,
    "start_time": "2023-03-19T17:56:41.858Z"
   },
   {
    "duration": 3,
    "start_time": "2023-03-19T18:00:56.548Z"
   },
   {
    "duration": 3,
    "start_time": "2023-03-19T18:01:46.834Z"
   },
   {
    "duration": 79,
    "start_time": "2023-03-19T18:01:49.740Z"
   },
   {
    "duration": 13,
    "start_time": "2023-03-19T18:06:42.419Z"
   },
   {
    "duration": 4,
    "start_time": "2023-03-19T18:06:48.370Z"
   },
   {
    "duration": 10,
    "start_time": "2023-03-19T18:07:05.400Z"
   },
   {
    "duration": 44,
    "start_time": "2023-03-19T18:07:16.548Z"
   },
   {
    "duration": 3,
    "start_time": "2023-03-19T18:09:03.392Z"
   },
   {
    "duration": 3,
    "start_time": "2023-03-19T18:09:05.665Z"
   },
   {
    "duration": 127,
    "start_time": "2023-03-19T18:09:10.211Z"
   },
   {
    "duration": 10,
    "start_time": "2023-03-19T18:29:11.763Z"
   },
   {
    "duration": 3,
    "start_time": "2023-03-19T18:29:46.919Z"
   },
   {
    "duration": 646,
    "start_time": "2023-03-19T18:30:55.568Z"
   },
   {
    "duration": 3,
    "start_time": "2023-03-19T18:42:13.760Z"
   },
   {
    "duration": 678,
    "start_time": "2023-03-19T18:42:16.208Z"
   },
   {
    "duration": 3,
    "start_time": "2023-03-19T18:45:09.833Z"
   },
   {
    "duration": 692,
    "start_time": "2023-03-19T18:45:13.552Z"
   },
   {
    "duration": 3,
    "start_time": "2023-03-19T18:48:30.745Z"
   },
   {
    "duration": 25,
    "start_time": "2023-03-19T18:48:37.134Z"
   },
   {
    "duration": 47,
    "start_time": "2023-03-19T18:48:53.587Z"
   },
   {
    "duration": 3,
    "start_time": "2023-03-19T18:49:08.127Z"
   },
   {
    "duration": 3,
    "start_time": "2023-03-19T18:49:10.899Z"
   },
   {
    "duration": 62,
    "start_time": "2023-03-19T18:49:18.453Z"
   },
   {
    "duration": 3,
    "start_time": "2023-03-19T18:49:54.426Z"
   },
   {
    "duration": 59,
    "start_time": "2023-03-19T18:49:56.803Z"
   },
   {
    "duration": 26,
    "start_time": "2023-03-19T18:49:59.153Z"
   },
   {
    "duration": 4,
    "start_time": "2023-03-19T18:50:03.107Z"
   },
   {
    "duration": 3,
    "start_time": "2023-03-19T18:50:05.606Z"
   },
   {
    "duration": 82,
    "start_time": "2023-03-19T18:50:08.098Z"
   },
   {
    "duration": 2,
    "start_time": "2023-03-19T18:50:38.887Z"
   },
   {
    "duration": 17,
    "start_time": "2023-03-19T18:50:41.097Z"
   },
   {
    "duration": 24,
    "start_time": "2023-03-19T18:50:44.276Z"
   },
   {
    "duration": 3,
    "start_time": "2023-03-19T18:50:47.348Z"
   },
   {
    "duration": 4,
    "start_time": "2023-03-19T18:50:49.490Z"
   },
   {
    "duration": 360,
    "start_time": "2023-03-19T18:50:51.898Z"
   },
   {
    "duration": 3,
    "start_time": "2023-03-19T18:52:01.655Z"
   },
   {
    "duration": 2,
    "start_time": "2023-03-19T18:52:17.927Z"
   },
   {
    "duration": 17,
    "start_time": "2023-03-19T18:52:47.920Z"
   },
   {
    "duration": 736,
    "start_time": "2023-03-19T18:53:08.864Z"
   },
   {
    "duration": 119,
    "start_time": "2023-03-19T18:53:56.799Z"
   },
   {
    "duration": 61,
    "start_time": "2023-03-19T18:53:59.598Z"
   },
   {
    "duration": 34,
    "start_time": "2023-03-19T18:54:05.063Z"
   },
   {
    "duration": 22,
    "start_time": "2023-03-19T18:54:13.416Z"
   },
   {
    "duration": 3,
    "start_time": "2023-03-19T18:54:19.755Z"
   },
   {
    "duration": 2,
    "start_time": "2023-03-19T18:54:24.253Z"
   },
   {
    "duration": 4,
    "start_time": "2023-03-19T18:54:26.202Z"
   },
   {
    "duration": 1016578,
    "start_time": "2023-03-19T18:54:31.131Z"
   },
   {
    "duration": 8899,
    "start_time": "2023-03-19T19:13:00.438Z"
   },
   {
    "duration": 4,
    "start_time": "2023-03-19T19:16:54.221Z"
   },
   {
    "duration": 66,
    "start_time": "2023-03-19T19:18:09.842Z"
   },
   {
    "duration": 3,
    "start_time": "2023-03-19T19:19:26.331Z"
   },
   {
    "duration": 50,
    "start_time": "2023-03-19T19:19:32.113Z"
   },
   {
    "duration": 4,
    "start_time": "2023-03-19T19:22:26.750Z"
   },
   {
    "duration": 88070,
    "start_time": "2023-03-19T19:23:26.741Z"
   },
   {
    "duration": 16,
    "start_time": "2023-03-19T19:29:42.271Z"
   },
   {
    "duration": 4,
    "start_time": "2023-03-19T19:30:36.941Z"
   },
   {
    "duration": 11658,
    "start_time": "2023-03-19T19:31:10.653Z"
   },
   {
    "duration": 4,
    "start_time": "2023-03-19T19:32:14.043Z"
   },
   {
    "duration": 94707,
    "start_time": "2023-03-19T19:33:07.993Z"
   },
   {
    "duration": 81956,
    "start_time": "2023-03-19T19:36:32.450Z"
   },
   {
    "duration": 54,
    "start_time": "2023-03-19T19:41:26.025Z"
   },
   {
    "duration": 10793,
    "start_time": "2023-03-19T19:41:36.330Z"
   },
   {
    "duration": 10,
    "start_time": "2023-03-19T20:00:05.497Z"
   },
   {
    "duration": 11,
    "start_time": "2023-03-19T20:00:40.184Z"
   },
   {
    "duration": 15,
    "start_time": "2023-03-19T20:01:10.235Z"
   },
   {
    "duration": 16,
    "start_time": "2023-03-19T20:01:44.193Z"
   },
   {
    "duration": 14,
    "start_time": "2023-03-19T20:02:41.994Z"
   },
   {
    "duration": 10,
    "start_time": "2023-03-19T20:03:55.142Z"
   },
   {
    "duration": 10,
    "start_time": "2023-03-19T20:03:59.340Z"
   },
   {
    "duration": 8,
    "start_time": "2023-03-19T20:04:07.125Z"
   },
   {
    "duration": 14,
    "start_time": "2023-03-19T20:05:31.907Z"
   },
   {
    "duration": 9,
    "start_time": "2023-03-19T20:08:13.685Z"
   },
   {
    "duration": 14335,
    "start_time": "2023-03-19T20:13:16.629Z"
   },
   {
    "duration": 4,
    "start_time": "2023-03-19T20:33:40.127Z"
   },
   {
    "duration": 4,
    "start_time": "2023-03-19T20:34:46.648Z"
   },
   {
    "duration": 49,
    "start_time": "2023-03-19T20:35:25.714Z"
   },
   {
    "duration": 1621,
    "start_time": "2023-03-19T20:41:53.681Z"
   },
   {
    "duration": 2852,
    "start_time": "2023-03-19T20:41:55.304Z"
   },
   {
    "duration": 3,
    "start_time": "2023-03-19T20:41:58.158Z"
   },
   {
    "duration": 153,
    "start_time": "2023-03-19T20:41:58.163Z"
   },
   {
    "duration": 746,
    "start_time": "2023-03-19T20:41:58.318Z"
   },
   {
    "duration": 16,
    "start_time": "2023-03-19T20:41:59.066Z"
   },
   {
    "duration": 52,
    "start_time": "2023-03-19T20:41:59.096Z"
   },
   {
    "duration": 66,
    "start_time": "2023-03-19T20:41:59.151Z"
   },
   {
    "duration": 8,
    "start_time": "2023-03-19T20:41:59.219Z"
   },
   {
    "duration": 3,
    "start_time": "2023-03-19T20:41:59.230Z"
   },
   {
    "duration": 70,
    "start_time": "2023-03-19T20:41:59.235Z"
   },
   {
    "duration": 166,
    "start_time": "2023-03-19T20:41:59.306Z"
   },
   {
    "duration": 26,
    "start_time": "2023-03-19T20:41:59.474Z"
   },
   {
    "duration": 6,
    "start_time": "2023-03-19T20:41:59.501Z"
   },
   {
    "duration": 12,
    "start_time": "2023-03-19T20:41:59.508Z"
   },
   {
    "duration": 12,
    "start_time": "2023-03-19T20:41:59.522Z"
   },
   {
    "duration": 8,
    "start_time": "2023-03-19T20:41:59.536Z"
   },
   {
    "duration": 53,
    "start_time": "2023-03-19T20:41:59.546Z"
   },
   {
    "duration": 20,
    "start_time": "2023-03-19T20:41:59.601Z"
   },
   {
    "duration": 4,
    "start_time": "2023-03-19T20:41:59.624Z"
   },
   {
    "duration": 75,
    "start_time": "2023-03-19T20:41:59.629Z"
   },
   {
    "duration": 117,
    "start_time": "2023-03-19T20:41:59.706Z"
   },
   {
    "duration": 6,
    "start_time": "2023-03-19T20:41:59.825Z"
   },
   {
    "duration": 16,
    "start_time": "2023-03-19T20:41:59.833Z"
   },
   {
    "duration": 10,
    "start_time": "2023-03-19T20:41:59.851Z"
   },
   {
    "duration": 4,
    "start_time": "2023-03-19T20:41:59.863Z"
   },
   {
    "duration": 49,
    "start_time": "2023-03-19T20:41:59.869Z"
   },
   {
    "duration": 157,
    "start_time": "2023-03-19T20:41:59.923Z"
   },
   {
    "duration": 164,
    "start_time": "2023-03-19T20:42:00.082Z"
   },
   {
    "duration": 8,
    "start_time": "2023-03-19T20:42:00.248Z"
   },
   {
    "duration": 21,
    "start_time": "2023-03-19T20:42:00.259Z"
   },
   {
    "duration": 17,
    "start_time": "2023-03-19T20:42:00.282Z"
   },
   {
    "duration": 10,
    "start_time": "2023-03-19T20:42:00.300Z"
   },
   {
    "duration": 105,
    "start_time": "2023-03-19T20:42:00.312Z"
   },
   {
    "duration": 13,
    "start_time": "2023-03-19T20:42:00.419Z"
   },
   {
    "duration": 11,
    "start_time": "2023-03-19T20:42:00.434Z"
   },
   {
    "duration": 60,
    "start_time": "2023-03-19T20:42:00.447Z"
   },
   {
    "duration": 11,
    "start_time": "2023-03-19T20:42:00.509Z"
   },
   {
    "duration": 144,
    "start_time": "2023-03-19T20:42:00.522Z"
   },
   {
    "duration": 6,
    "start_time": "2023-03-19T20:42:00.668Z"
   },
   {
    "duration": 22,
    "start_time": "2023-03-19T20:42:00.676Z"
   },
   {
    "duration": 42,
    "start_time": "2023-03-19T20:42:00.700Z"
   },
   {
    "duration": 65,
    "start_time": "2023-03-19T20:42:00.744Z"
   },
   {
    "duration": 38,
    "start_time": "2023-03-19T20:42:00.810Z"
   },
   {
    "duration": 25,
    "start_time": "2023-03-19T20:42:00.850Z"
   },
   {
    "duration": 70,
    "start_time": "2023-03-19T20:42:00.877Z"
   },
   {
    "duration": 21,
    "start_time": "2023-03-19T20:42:00.949Z"
   },
   {
    "duration": 35,
    "start_time": "2023-03-19T20:42:00.971Z"
   },
   {
    "duration": 38,
    "start_time": "2023-03-19T20:42:01.008Z"
   },
   {
    "duration": 21,
    "start_time": "2023-03-19T20:42:01.048Z"
   },
   {
    "duration": 76,
    "start_time": "2023-03-19T20:42:01.071Z"
   },
   {
    "duration": 30,
    "start_time": "2023-03-19T20:42:01.149Z"
   },
   {
    "duration": 56,
    "start_time": "2023-03-19T20:42:01.181Z"
   },
   {
    "duration": 21,
    "start_time": "2023-03-19T20:42:01.239Z"
   },
   {
    "duration": 84,
    "start_time": "2023-03-19T20:42:01.262Z"
   },
   {
    "duration": 28,
    "start_time": "2023-03-19T20:42:01.347Z"
   },
   {
    "duration": 46,
    "start_time": "2023-03-19T20:42:01.377Z"
   },
   {
    "duration": 176,
    "start_time": "2023-03-19T20:42:01.425Z"
   },
   {
    "duration": 4,
    "start_time": "2023-03-19T20:42:01.603Z"
   },
   {
    "duration": 36,
    "start_time": "2023-03-19T20:42:01.608Z"
   },
   {
    "duration": 2402,
    "start_time": "2023-03-19T20:42:01.647Z"
   },
   {
    "duration": 49,
    "start_time": "2023-03-19T20:42:04.051Z"
   },
   {
    "duration": 17,
    "start_time": "2023-03-19T20:42:04.103Z"
   },
   {
    "duration": 27,
    "start_time": "2023-03-19T20:42:04.123Z"
   },
   {
    "duration": 10,
    "start_time": "2023-03-19T20:42:04.152Z"
   },
   {
    "duration": 120,
    "start_time": "2023-03-19T20:42:04.164Z"
   },
   {
    "duration": 38,
    "start_time": "2023-03-19T20:42:04.286Z"
   },
   {
    "duration": 23,
    "start_time": "2023-03-19T20:42:04.326Z"
   },
   {
    "duration": 53,
    "start_time": "2023-03-19T20:42:04.352Z"
   },
   {
    "duration": 178,
    "start_time": "2023-03-19T20:42:04.408Z"
   },
   {
    "duration": 191,
    "start_time": "2023-03-19T20:42:04.589Z"
   },
   {
    "duration": 141,
    "start_time": "2023-03-19T20:42:04.781Z"
   },
   {
    "duration": 19,
    "start_time": "2023-03-19T20:42:04.924Z"
   },
   {
    "duration": 29,
    "start_time": "2023-03-19T20:42:04.944Z"
   },
   {
    "duration": 45,
    "start_time": "2023-03-19T20:42:04.975Z"
   },
   {
    "duration": 5,
    "start_time": "2023-03-19T20:42:05.022Z"
   },
   {
    "duration": 40,
    "start_time": "2023-03-19T20:42:05.028Z"
   },
   {
    "duration": 6569,
    "start_time": "2023-03-19T20:42:05.070Z"
   },
   {
    "duration": 7,
    "start_time": "2023-03-19T20:42:11.641Z"
   },
   {
    "duration": 169,
    "start_time": "2023-03-19T20:42:11.650Z"
   },
   {
    "duration": 4,
    "start_time": "2023-03-19T20:42:11.821Z"
   },
   {
    "duration": 66,
    "start_time": "2023-03-19T20:42:11.832Z"
   },
   {
    "duration": 48,
    "start_time": "2023-03-19T20:42:11.899Z"
   },
   {
    "duration": 11,
    "start_time": "2023-03-19T20:42:11.948Z"
   },
   {
    "duration": 42,
    "start_time": "2023-03-19T20:42:11.961Z"
   },
   {
    "duration": 48,
    "start_time": "2023-03-19T20:42:12.005Z"
   },
   {
    "duration": 6,
    "start_time": "2023-03-19T20:42:12.055Z"
   },
   {
    "duration": 79,
    "start_time": "2023-03-19T20:42:12.063Z"
   },
   {
    "duration": 6,
    "start_time": "2023-03-19T20:42:12.143Z"
   },
   {
    "duration": 17,
    "start_time": "2023-03-19T20:42:12.151Z"
   },
   {
    "duration": 34,
    "start_time": "2023-03-19T20:42:12.170Z"
   },
   {
    "duration": 53,
    "start_time": "2023-03-19T20:42:12.206Z"
   },
   {
    "duration": 704,
    "start_time": "2023-03-19T20:42:12.261Z"
   },
   {
    "duration": 4,
    "start_time": "2023-03-19T20:42:12.966Z"
   },
   {
    "duration": 46,
    "start_time": "2023-03-19T20:42:12.972Z"
   },
   {
    "duration": 176,
    "start_time": "2023-03-19T20:42:13.019Z"
   },
   {
    "duration": 427,
    "start_time": "2023-03-19T20:42:13.197Z"
   },
   {
    "duration": 5,
    "start_time": "2023-03-19T20:42:13.626Z"
   },
   {
    "duration": 18962,
    "start_time": "2023-03-19T20:42:13.634Z"
   },
   {
    "duration": 206,
    "start_time": "2023-03-19T20:42:32.599Z"
   },
   {
    "duration": 796,
    "start_time": "2023-03-19T20:42:32.807Z"
   },
   {
    "duration": 10,
    "start_time": "2023-03-19T20:42:33.604Z"
   },
   {
    "duration": 82,
    "start_time": "2023-03-19T20:42:33.617Z"
   },
   {
    "duration": 3,
    "start_time": "2023-03-19T20:42:33.701Z"
   },
   {
    "duration": 420006,
    "start_time": "2023-03-19T20:42:33.706Z"
   },
   {
    "duration": 266,
    "start_time": "2023-03-19T20:49:33.715Z"
   },
   {
    "duration": 37,
    "start_time": "2023-03-19T20:49:33.983Z"
   },
   {
    "duration": 15,
    "start_time": "2023-03-19T20:49:34.022Z"
   },
   {
    "duration": 155,
    "start_time": "2023-03-19T20:49:34.039Z"
   },
   {
    "duration": 74,
    "start_time": "2023-03-19T20:49:34.196Z"
   },
   {
    "duration": 36,
    "start_time": "2023-03-19T20:49:34.272Z"
   },
   {
    "duration": 21,
    "start_time": "2023-03-19T20:49:34.310Z"
   },
   {
    "duration": 3,
    "start_time": "2023-03-19T20:49:34.333Z"
   },
   {
    "duration": 14,
    "start_time": "2023-03-19T20:49:34.337Z"
   },
   {
    "duration": 27,
    "start_time": "2023-03-19T20:49:34.352Z"
   },
   {
    "duration": 6,
    "start_time": "2023-03-19T20:49:34.381Z"
   },
   {
    "duration": 22,
    "start_time": "2023-03-19T20:49:34.389Z"
   },
   {
    "duration": 8,
    "start_time": "2023-03-19T20:49:34.413Z"
   },
   {
    "duration": 8,
    "start_time": "2023-03-19T20:49:34.423Z"
   },
   {
    "duration": 158,
    "start_time": "2023-03-19T20:49:34.432Z"
   },
   {
    "duration": 4,
    "start_time": "2023-03-19T20:49:34.592Z"
   },
   {
    "duration": 24,
    "start_time": "2023-03-19T20:49:34.598Z"
   },
   {
    "duration": 59,
    "start_time": "2023-03-19T20:49:34.624Z"
   },
   {
    "duration": 27,
    "start_time": "2023-03-19T20:49:34.685Z"
   },
   {
    "duration": 4,
    "start_time": "2023-03-19T20:49:34.714Z"
   },
   {
    "duration": 14,
    "start_time": "2023-03-19T20:49:34.719Z"
   },
   {
    "duration": 56,
    "start_time": "2023-03-19T20:49:34.735Z"
   },
   {
    "duration": 13,
    "start_time": "2023-03-19T20:49:34.793Z"
   },
   {
    "duration": 56,
    "start_time": "2023-03-19T20:49:34.810Z"
   },
   {
    "duration": 606827,
    "start_time": "2023-03-19T20:52:09.394Z"
   },
   {
    "duration": 10312,
    "start_time": "2023-03-19T21:02:26.533Z"
   },
   {
    "duration": 13586,
    "start_time": "2023-03-19T21:02:36.846Z"
   },
   {
    "duration": 1358,
    "start_time": "2023-03-22T10:50:45.301Z"
   },
   {
    "duration": 2757,
    "start_time": "2023-03-22T10:50:48.177Z"
   },
   {
    "duration": 3,
    "start_time": "2023-03-22T10:50:50.936Z"
   },
   {
    "duration": 3,
    "start_time": "2023-03-22T10:50:55.678Z"
   },
   {
    "duration": 101,
    "start_time": "2023-03-22T10:50:57.492Z"
   },
   {
    "duration": 7,
    "start_time": "2023-03-22T14:33:36.363Z"
   },
   {
    "duration": 848,
    "start_time": "2023-03-22T14:33:36.379Z"
   },
   {
    "duration": 3,
    "start_time": "2023-03-22T14:33:37.229Z"
   },
   {
    "duration": 147,
    "start_time": "2023-03-22T14:33:37.234Z"
   },
   {
    "duration": 666,
    "start_time": "2023-03-22T14:33:37.383Z"
   },
   {
    "duration": 18,
    "start_time": "2023-03-22T14:33:38.051Z"
   },
   {
    "duration": 36,
    "start_time": "2023-03-22T14:33:38.071Z"
   },
   {
    "duration": 63,
    "start_time": "2023-03-22T14:33:38.109Z"
   },
   {
    "duration": 10,
    "start_time": "2023-03-22T14:33:38.174Z"
   },
   {
    "duration": 5,
    "start_time": "2023-03-22T14:33:38.185Z"
   },
   {
    "duration": 55,
    "start_time": "2023-03-22T14:33:38.193Z"
   },
   {
    "duration": 272,
    "start_time": "2023-03-22T14:33:38.250Z"
   },
   {
    "duration": 14,
    "start_time": "2023-03-22T14:33:38.524Z"
   },
   {
    "duration": 5,
    "start_time": "2023-03-22T14:33:38.539Z"
   },
   {
    "duration": 28,
    "start_time": "2023-03-22T14:33:38.546Z"
   },
   {
    "duration": 11,
    "start_time": "2023-03-22T14:33:38.576Z"
   },
   {
    "duration": 18,
    "start_time": "2023-03-22T14:33:38.589Z"
   },
   {
    "duration": 11,
    "start_time": "2023-03-22T14:33:38.608Z"
   },
   {
    "duration": 13,
    "start_time": "2023-03-22T14:33:38.620Z"
   },
   {
    "duration": 6,
    "start_time": "2023-03-22T14:33:38.635Z"
   },
   {
    "duration": 75,
    "start_time": "2023-03-22T14:33:38.642Z"
   },
   {
    "duration": 15,
    "start_time": "2023-03-22T14:33:38.719Z"
   },
   {
    "duration": 8,
    "start_time": "2023-03-22T14:33:38.735Z"
   },
   {
    "duration": 31,
    "start_time": "2023-03-22T14:33:38.745Z"
   },
   {
    "duration": 11,
    "start_time": "2023-03-22T14:33:38.777Z"
   },
   {
    "duration": 3,
    "start_time": "2023-03-22T14:33:38.790Z"
   },
   {
    "duration": 29,
    "start_time": "2023-03-22T14:33:38.795Z"
   },
   {
    "duration": 156,
    "start_time": "2023-03-22T14:33:38.826Z"
   },
   {
    "duration": 162,
    "start_time": "2023-03-22T14:33:38.987Z"
   },
   {
    "duration": 18,
    "start_time": "2023-03-22T14:33:39.151Z"
   },
   {
    "duration": 11,
    "start_time": "2023-03-22T14:33:39.171Z"
   },
   {
    "duration": 11,
    "start_time": "2023-03-22T14:33:39.183Z"
   },
   {
    "duration": 3,
    "start_time": "2023-03-22T14:33:39.196Z"
   },
   {
    "duration": 95,
    "start_time": "2023-03-22T14:33:39.200Z"
   },
   {
    "duration": 11,
    "start_time": "2023-03-22T14:33:39.297Z"
   },
   {
    "duration": 18,
    "start_time": "2023-03-22T14:33:39.309Z"
   },
   {
    "duration": 62,
    "start_time": "2023-03-22T14:33:39.330Z"
   },
   {
    "duration": 13,
    "start_time": "2023-03-22T14:33:39.394Z"
   },
   {
    "duration": 148,
    "start_time": "2023-03-22T14:33:39.409Z"
   },
   {
    "duration": 13,
    "start_time": "2023-03-22T14:33:39.558Z"
   },
   {
    "duration": 19,
    "start_time": "2023-03-22T14:33:39.573Z"
   },
   {
    "duration": 43,
    "start_time": "2023-03-22T14:33:39.594Z"
   },
   {
    "duration": 52,
    "start_time": "2023-03-22T14:33:39.639Z"
   },
   {
    "duration": 28,
    "start_time": "2023-03-22T14:33:39.693Z"
   },
   {
    "duration": 12,
    "start_time": "2023-03-22T14:33:39.722Z"
   },
   {
    "duration": 75,
    "start_time": "2023-03-22T14:33:39.736Z"
   },
   {
    "duration": 18,
    "start_time": "2023-03-22T14:33:39.813Z"
   },
   {
    "duration": 51,
    "start_time": "2023-03-22T14:33:39.833Z"
   },
   {
    "duration": 28,
    "start_time": "2023-03-22T14:33:39.885Z"
   },
   {
    "duration": 4,
    "start_time": "2023-03-22T14:33:39.915Z"
   },
   {
    "duration": 92,
    "start_time": "2023-03-22T14:33:39.921Z"
   },
   {
    "duration": 57,
    "start_time": "2023-03-22T14:33:40.015Z"
   },
   {
    "duration": 31,
    "start_time": "2023-03-22T14:33:40.074Z"
   },
   {
    "duration": 4,
    "start_time": "2023-03-22T14:33:40.106Z"
   },
   {
    "duration": 83,
    "start_time": "2023-03-22T14:33:40.112Z"
   },
   {
    "duration": 21,
    "start_time": "2023-03-22T14:33:40.196Z"
   },
   {
    "duration": 45,
    "start_time": "2023-03-22T14:33:40.219Z"
   },
   {
    "duration": 145,
    "start_time": "2023-03-22T14:33:40.266Z"
   },
   {
    "duration": 3,
    "start_time": "2023-03-22T14:33:40.413Z"
   },
   {
    "duration": 14,
    "start_time": "2023-03-22T14:33:40.418Z"
   },
   {
    "duration": 2301,
    "start_time": "2023-03-22T14:33:40.433Z"
   },
   {
    "duration": 54,
    "start_time": "2023-03-22T14:33:42.736Z"
   },
   {
    "duration": 7,
    "start_time": "2023-03-22T14:33:42.792Z"
   },
   {
    "duration": 22,
    "start_time": "2023-03-22T14:33:42.801Z"
   },
   {
    "duration": 11,
    "start_time": "2023-03-22T14:33:42.825Z"
   },
   {
    "duration": 102,
    "start_time": "2023-03-22T14:33:42.838Z"
   },
   {
    "duration": 38,
    "start_time": "2023-03-22T14:33:42.941Z"
   },
   {
    "duration": 20,
    "start_time": "2023-03-22T14:33:42.980Z"
   },
   {
    "duration": 23,
    "start_time": "2023-03-22T14:33:43.002Z"
   },
   {
    "duration": 168,
    "start_time": "2023-03-22T14:33:43.026Z"
   },
   {
    "duration": 177,
    "start_time": "2023-03-22T14:33:43.196Z"
   },
   {
    "duration": 176,
    "start_time": "2023-03-22T14:33:43.375Z"
   },
   {
    "duration": 34,
    "start_time": "2023-03-22T14:33:43.553Z"
   },
   {
    "duration": 28,
    "start_time": "2023-03-22T14:33:43.589Z"
   },
   {
    "duration": 22,
    "start_time": "2023-03-22T14:33:43.618Z"
   },
   {
    "duration": 3,
    "start_time": "2023-03-22T14:33:43.642Z"
   },
   {
    "duration": 8,
    "start_time": "2023-03-22T14:33:43.668Z"
   },
   {
    "duration": 7223,
    "start_time": "2023-03-22T14:33:43.678Z"
   },
   {
    "duration": 6,
    "start_time": "2023-03-22T14:33:50.903Z"
   },
   {
    "duration": 205,
    "start_time": "2023-03-22T14:33:50.910Z"
   },
   {
    "duration": 5,
    "start_time": "2023-03-22T14:33:51.117Z"
   },
   {
    "duration": 62,
    "start_time": "2023-03-22T14:33:51.123Z"
   },
   {
    "duration": 47,
    "start_time": "2023-03-22T14:33:51.190Z"
   },
   {
    "duration": 10,
    "start_time": "2023-03-22T14:33:51.239Z"
   },
   {
    "duration": 22,
    "start_time": "2023-03-22T14:33:51.268Z"
   },
   {
    "duration": 58,
    "start_time": "2023-03-22T14:33:51.291Z"
   },
   {
    "duration": 18,
    "start_time": "2023-03-22T14:33:51.351Z"
   },
   {
    "duration": 42,
    "start_time": "2023-03-22T14:33:51.371Z"
   },
   {
    "duration": 5,
    "start_time": "2023-03-22T14:33:51.415Z"
   },
   {
    "duration": 16,
    "start_time": "2023-03-22T14:33:51.422Z"
   },
   {
    "duration": 37,
    "start_time": "2023-03-22T14:33:51.440Z"
   },
   {
    "duration": 56,
    "start_time": "2023-03-22T14:33:51.479Z"
   },
   {
    "duration": 539,
    "start_time": "2023-03-22T14:33:51.537Z"
   },
   {
    "duration": 4,
    "start_time": "2023-03-22T14:33:52.078Z"
   },
   {
    "duration": 36,
    "start_time": "2023-03-22T14:33:52.083Z"
   },
   {
    "duration": 173,
    "start_time": "2023-03-22T14:33:52.120Z"
   },
   {
    "duration": 508,
    "start_time": "2023-03-22T14:33:52.294Z"
   },
   {
    "duration": 4,
    "start_time": "2023-03-22T14:33:52.805Z"
   },
   {
    "duration": 15759,
    "start_time": "2023-03-22T14:33:52.811Z"
   },
   {
    "duration": 206,
    "start_time": "2023-03-22T14:34:08.572Z"
   },
   {
    "duration": 524,
    "start_time": "2023-03-22T14:35:22.718Z"
   },
   {
    "duration": 132,
    "start_time": "2023-03-22T14:36:01.434Z"
   },
   {
    "duration": 1603,
    "start_time": "2023-03-22T16:52:43.491Z"
   },
   {
    "duration": 2848,
    "start_time": "2023-03-22T16:52:45.096Z"
   },
   {
    "duration": 3,
    "start_time": "2023-03-22T16:52:47.947Z"
   },
   {
    "duration": 118,
    "start_time": "2023-03-22T16:52:47.952Z"
   },
   {
    "duration": 734,
    "start_time": "2023-03-22T16:52:48.073Z"
   },
   {
    "duration": 21,
    "start_time": "2023-03-22T16:52:48.809Z"
   },
   {
    "duration": 49,
    "start_time": "2023-03-22T16:52:48.833Z"
   },
   {
    "duration": 69,
    "start_time": "2023-03-22T16:52:48.884Z"
   },
   {
    "duration": 9,
    "start_time": "2023-03-22T16:52:48.955Z"
   },
   {
    "duration": 4,
    "start_time": "2023-03-22T16:52:48.966Z"
   },
   {
    "duration": 72,
    "start_time": "2023-03-22T16:52:48.972Z"
   },
   {
    "duration": 251,
    "start_time": "2023-03-22T16:52:49.045Z"
   },
   {
    "duration": 26,
    "start_time": "2023-03-22T16:52:49.297Z"
   },
   {
    "duration": 6,
    "start_time": "2023-03-22T16:52:49.326Z"
   },
   {
    "duration": 11,
    "start_time": "2023-03-22T16:52:49.333Z"
   },
   {
    "duration": 12,
    "start_time": "2023-03-22T16:52:49.345Z"
   },
   {
    "duration": 9,
    "start_time": "2023-03-22T16:52:49.359Z"
   },
   {
    "duration": 14,
    "start_time": "2023-03-22T16:52:49.369Z"
   },
   {
    "duration": 12,
    "start_time": "2023-03-22T16:52:49.423Z"
   },
   {
    "duration": 4,
    "start_time": "2023-03-22T16:52:49.437Z"
   },
   {
    "duration": 48,
    "start_time": "2023-03-22T16:52:49.443Z"
   },
   {
    "duration": 40,
    "start_time": "2023-03-22T16:52:49.493Z"
   },
   {
    "duration": 7,
    "start_time": "2023-03-22T16:52:49.535Z"
   },
   {
    "duration": 8,
    "start_time": "2023-03-22T16:52:49.545Z"
   },
   {
    "duration": 10,
    "start_time": "2023-03-22T16:52:49.554Z"
   },
   {
    "duration": 3,
    "start_time": "2023-03-22T16:52:49.566Z"
   },
   {
    "duration": 63,
    "start_time": "2023-03-22T16:52:49.571Z"
   },
   {
    "duration": 146,
    "start_time": "2023-03-22T16:52:49.636Z"
   },
   {
    "duration": 173,
    "start_time": "2023-03-22T16:52:49.784Z"
   },
   {
    "duration": 9,
    "start_time": "2023-03-22T16:52:49.959Z"
   },
   {
    "duration": 14,
    "start_time": "2023-03-22T16:52:49.969Z"
   },
   {
    "duration": 11,
    "start_time": "2023-03-22T16:52:49.985Z"
   },
   {
    "duration": 28,
    "start_time": "2023-03-22T16:52:49.998Z"
   },
   {
    "duration": 111,
    "start_time": "2023-03-22T16:52:50.028Z"
   },
   {
    "duration": 14,
    "start_time": "2023-03-22T16:52:50.140Z"
   },
   {
    "duration": 3,
    "start_time": "2023-03-22T16:52:50.156Z"
   },
   {
    "duration": 64,
    "start_time": "2023-03-22T16:52:50.161Z"
   },
   {
    "duration": 15,
    "start_time": "2023-03-22T16:52:50.227Z"
   },
   {
    "duration": 216,
    "start_time": "2023-03-22T16:52:50.244Z"
   },
   {
    "duration": 7,
    "start_time": "2023-03-22T16:52:50.462Z"
   },
   {
    "duration": 13,
    "start_time": "2023-03-22T16:52:50.475Z"
   },
   {
    "duration": 61,
    "start_time": "2023-03-22T16:52:50.490Z"
   },
   {
    "duration": 42,
    "start_time": "2023-03-22T16:52:50.553Z"
   },
   {
    "duration": 25,
    "start_time": "2023-03-22T16:52:50.597Z"
   },
   {
    "duration": 3,
    "start_time": "2023-03-22T16:52:50.624Z"
   },
   {
    "duration": 42,
    "start_time": "2023-03-22T16:52:50.629Z"
   },
   {
    "duration": 15,
    "start_time": "2023-03-22T16:52:50.673Z"
   },
   {
    "duration": 53,
    "start_time": "2023-03-22T16:52:50.689Z"
   },
   {
    "duration": 31,
    "start_time": "2023-03-22T16:52:50.744Z"
   },
   {
    "duration": 4,
    "start_time": "2023-03-22T16:52:50.777Z"
   },
   {
    "duration": 81,
    "start_time": "2023-03-22T16:52:50.783Z"
   },
   {
    "duration": 29,
    "start_time": "2023-03-22T16:52:50.866Z"
   },
   {
    "duration": 37,
    "start_time": "2023-03-22T16:52:50.897Z"
   },
   {
    "duration": 5,
    "start_time": "2023-03-22T16:52:50.936Z"
   },
   {
    "duration": 47,
    "start_time": "2023-03-22T16:52:50.942Z"
   },
   {
    "duration": 45,
    "start_time": "2023-03-22T16:52:50.991Z"
   },
   {
    "duration": 28,
    "start_time": "2023-03-22T16:52:51.038Z"
   },
   {
    "duration": 168,
    "start_time": "2023-03-22T16:52:51.068Z"
   },
   {
    "duration": 4,
    "start_time": "2023-03-22T16:52:51.238Z"
   },
   {
    "duration": 5,
    "start_time": "2023-03-22T16:52:51.243Z"
   },
   {
    "duration": 2410,
    "start_time": "2023-03-22T16:52:51.249Z"
   },
   {
    "duration": 34,
    "start_time": "2023-03-22T16:52:53.661Z"
   },
   {
    "duration": 6,
    "start_time": "2023-03-22T16:52:53.697Z"
   },
   {
    "duration": 35,
    "start_time": "2023-03-22T16:52:53.705Z"
   },
   {
    "duration": 23,
    "start_time": "2023-03-22T16:52:53.742Z"
   },
   {
    "duration": 85,
    "start_time": "2023-03-22T16:52:53.767Z"
   },
   {
    "duration": 30,
    "start_time": "2023-03-22T16:52:53.854Z"
   },
   {
    "duration": 38,
    "start_time": "2023-03-22T16:52:53.886Z"
   },
   {
    "duration": 20,
    "start_time": "2023-03-22T16:52:53.925Z"
   },
   {
    "duration": 169,
    "start_time": "2023-03-22T16:52:53.946Z"
   },
   {
    "duration": 147,
    "start_time": "2023-03-22T16:52:54.117Z"
   },
   {
    "duration": 146,
    "start_time": "2023-03-22T16:52:54.266Z"
   },
   {
    "duration": 26,
    "start_time": "2023-03-22T16:52:54.413Z"
   },
   {
    "duration": 39,
    "start_time": "2023-03-22T16:52:54.441Z"
   },
   {
    "duration": 11,
    "start_time": "2023-03-22T16:52:54.482Z"
   },
   {
    "duration": 6,
    "start_time": "2023-03-22T16:52:54.494Z"
   },
   {
    "duration": 24,
    "start_time": "2023-03-22T16:52:54.501Z"
   },
   {
    "duration": 7671,
    "start_time": "2023-03-22T16:52:54.527Z"
   },
   {
    "duration": 7,
    "start_time": "2023-03-22T16:53:02.200Z"
   },
   {
    "duration": 173,
    "start_time": "2023-03-22T16:53:02.208Z"
   },
   {
    "duration": 4,
    "start_time": "2023-03-22T16:53:02.383Z"
   },
   {
    "duration": 55,
    "start_time": "2023-03-22T16:53:02.389Z"
   },
   {
    "duration": 42,
    "start_time": "2023-03-22T16:53:02.446Z"
   },
   {
    "duration": 10,
    "start_time": "2023-03-22T16:53:02.490Z"
   },
   {
    "duration": 32,
    "start_time": "2023-03-22T16:53:02.502Z"
   },
   {
    "duration": 47,
    "start_time": "2023-03-22T16:53:02.536Z"
   },
   {
    "duration": 5,
    "start_time": "2023-03-22T16:53:02.585Z"
   },
   {
    "duration": 70,
    "start_time": "2023-03-22T16:53:02.592Z"
   },
   {
    "duration": 4,
    "start_time": "2023-03-22T16:53:02.664Z"
   },
   {
    "duration": 16,
    "start_time": "2023-03-22T16:53:02.670Z"
   },
   {
    "duration": 40,
    "start_time": "2023-03-22T16:53:02.687Z"
   },
   {
    "duration": 47,
    "start_time": "2023-03-22T16:53:02.729Z"
   },
   {
    "duration": 605,
    "start_time": "2023-03-22T16:53:02.778Z"
   },
   {
    "duration": 4,
    "start_time": "2023-03-22T16:53:03.385Z"
   },
   {
    "duration": 45,
    "start_time": "2023-03-22T16:53:03.390Z"
   },
   {
    "duration": 171,
    "start_time": "2023-03-22T16:53:03.437Z"
   },
   {
    "duration": 421,
    "start_time": "2023-03-22T16:53:03.610Z"
   },
   {
    "duration": 4,
    "start_time": "2023-03-22T16:53:04.033Z"
   },
   {
    "duration": 18298,
    "start_time": "2023-03-22T16:53:04.038Z"
   },
   {
    "duration": 207,
    "start_time": "2023-03-22T16:53:22.424Z"
   },
   {
    "duration": 121,
    "start_time": "2023-03-22T16:53:59.961Z"
   },
   {
    "duration": 20,
    "start_time": "2023-03-22T16:54:30.288Z"
   },
   {
    "duration": 515,
    "start_time": "2023-03-22T16:56:19.783Z"
   },
   {
    "duration": 611,
    "start_time": "2023-03-22T16:56:40.099Z"
   },
   {
    "duration": 431,
    "start_time": "2023-03-22T16:57:15.818Z"
   },
   {
    "duration": 526,
    "start_time": "2023-03-22T16:59:06.362Z"
   },
   {
    "duration": 405,
    "start_time": "2023-03-22T16:59:35.244Z"
   },
   {
    "duration": 419,
    "start_time": "2023-03-22T17:00:09.120Z"
   },
   {
    "duration": 49,
    "start_time": "2023-03-22T17:00:13.288Z"
   },
   {
    "duration": 3,
    "start_time": "2023-03-22T17:00:15.521Z"
   },
   {
    "duration": 1380,
    "start_time": "2023-03-22T17:01:07.977Z"
   },
   {
    "duration": 789,
    "start_time": "2023-03-22T17:01:09.360Z"
   },
   {
    "duration": 3,
    "start_time": "2023-03-22T17:01:10.151Z"
   },
   {
    "duration": 150,
    "start_time": "2023-03-22T17:01:10.156Z"
   },
   {
    "duration": 789,
    "start_time": "2023-03-22T17:01:10.309Z"
   },
   {
    "duration": 10,
    "start_time": "2023-03-22T17:01:11.100Z"
   },
   {
    "duration": 64,
    "start_time": "2023-03-22T17:01:11.123Z"
   },
   {
    "duration": 58,
    "start_time": "2023-03-22T17:01:11.189Z"
   },
   {
    "duration": 8,
    "start_time": "2023-03-22T17:01:11.249Z"
   },
   {
    "duration": 4,
    "start_time": "2023-03-22T17:01:11.260Z"
   },
   {
    "duration": 60,
    "start_time": "2023-03-22T17:01:11.265Z"
   },
   {
    "duration": 166,
    "start_time": "2023-03-22T17:01:11.326Z"
   },
   {
    "duration": 16,
    "start_time": "2023-03-22T17:01:11.494Z"
   },
   {
    "duration": 6,
    "start_time": "2023-03-22T17:01:11.523Z"
   },
   {
    "duration": 12,
    "start_time": "2023-03-22T17:01:11.530Z"
   },
   {
    "duration": 11,
    "start_time": "2023-03-22T17:01:11.544Z"
   },
   {
    "duration": 8,
    "start_time": "2023-03-22T17:01:11.557Z"
   },
   {
    "duration": 12,
    "start_time": "2023-03-22T17:01:11.567Z"
   },
   {
    "duration": 52,
    "start_time": "2023-03-22T17:01:11.581Z"
   },
   {
    "duration": 4,
    "start_time": "2023-03-22T17:01:11.634Z"
   },
   {
    "duration": 46,
    "start_time": "2023-03-22T17:01:11.639Z"
   },
   {
    "duration": 111,
    "start_time": "2023-03-22T17:01:11.687Z"
   },
   {
    "duration": 6,
    "start_time": "2023-03-22T17:01:11.800Z"
   },
   {
    "duration": 18,
    "start_time": "2023-03-22T17:01:11.807Z"
   },
   {
    "duration": 9,
    "start_time": "2023-03-22T17:01:11.827Z"
   },
   {
    "duration": 3,
    "start_time": "2023-03-22T17:01:11.838Z"
   },
   {
    "duration": 30,
    "start_time": "2023-03-22T17:01:11.842Z"
   },
   {
    "duration": 151,
    "start_time": "2023-03-22T17:01:11.876Z"
   },
   {
    "duration": 150,
    "start_time": "2023-03-22T17:01:12.029Z"
   },
   {
    "duration": 7,
    "start_time": "2023-03-22T17:01:12.180Z"
   },
   {
    "duration": 10,
    "start_time": "2023-03-22T17:01:12.189Z"
   },
   {
    "duration": 23,
    "start_time": "2023-03-22T17:01:12.200Z"
   },
   {
    "duration": 3,
    "start_time": "2023-03-22T17:01:12.225Z"
   },
   {
    "duration": 102,
    "start_time": "2023-03-22T17:01:12.230Z"
   },
   {
    "duration": 12,
    "start_time": "2023-03-22T17:01:12.334Z"
   },
   {
    "duration": 3,
    "start_time": "2023-03-22T17:01:12.348Z"
   },
   {
    "duration": 56,
    "start_time": "2023-03-22T17:01:12.353Z"
   },
   {
    "duration": 18,
    "start_time": "2023-03-22T17:01:12.411Z"
   },
   {
    "duration": 137,
    "start_time": "2023-03-22T17:01:12.431Z"
   },
   {
    "duration": 7,
    "start_time": "2023-03-22T17:01:12.570Z"
   },
   {
    "duration": 7,
    "start_time": "2023-03-22T17:01:12.578Z"
   },
   {
    "duration": 41,
    "start_time": "2023-03-22T17:01:12.586Z"
   },
   {
    "duration": 24,
    "start_time": "2023-03-22T17:01:12.629Z"
   },
   {
    "duration": 22,
    "start_time": "2023-03-22T17:01:12.655Z"
   },
   {
    "duration": 3,
    "start_time": "2023-03-22T17:01:12.679Z"
   },
   {
    "duration": 67,
    "start_time": "2023-03-22T17:01:12.683Z"
   },
   {
    "duration": 14,
    "start_time": "2023-03-22T17:01:12.752Z"
   },
   {
    "duration": 25,
    "start_time": "2023-03-22T17:01:12.768Z"
   },
   {
    "duration": 46,
    "start_time": "2023-03-22T17:01:12.795Z"
   },
   {
    "duration": 3,
    "start_time": "2023-03-22T17:01:12.843Z"
   },
   {
    "duration": 47,
    "start_time": "2023-03-22T17:01:12.848Z"
   },
   {
    "duration": 37,
    "start_time": "2023-03-22T17:01:12.897Z"
   },
   {
    "duration": 23,
    "start_time": "2023-03-22T17:01:12.936Z"
   },
   {
    "duration": 3,
    "start_time": "2023-03-22T17:01:12.961Z"
   },
   {
    "duration": 71,
    "start_time": "2023-03-22T17:01:12.966Z"
   },
   {
    "duration": 21,
    "start_time": "2023-03-22T17:01:13.039Z"
   },
   {
    "duration": 22,
    "start_time": "2023-03-22T17:01:13.062Z"
   },
   {
    "duration": 171,
    "start_time": "2023-03-22T17:01:13.086Z"
   },
   {
    "duration": 3,
    "start_time": "2023-03-22T17:01:13.259Z"
   },
   {
    "duration": 7,
    "start_time": "2023-03-22T17:01:13.263Z"
   },
   {
    "duration": 2383,
    "start_time": "2023-03-22T17:01:13.272Z"
   },
   {
    "duration": 34,
    "start_time": "2023-03-22T17:01:15.656Z"
   },
   {
    "duration": 6,
    "start_time": "2023-03-22T17:01:15.691Z"
   },
   {
    "duration": 42,
    "start_time": "2023-03-22T17:01:15.699Z"
   },
   {
    "duration": 10,
    "start_time": "2023-03-22T17:01:15.743Z"
   },
   {
    "duration": 90,
    "start_time": "2023-03-22T17:01:15.755Z"
   },
   {
    "duration": 31,
    "start_time": "2023-03-22T17:01:15.847Z"
   },
   {
    "duration": 20,
    "start_time": "2023-03-22T17:01:15.879Z"
   },
   {
    "duration": 39,
    "start_time": "2023-03-22T17:01:15.901Z"
   },
   {
    "duration": 149,
    "start_time": "2023-03-22T17:01:15.941Z"
   },
   {
    "duration": 147,
    "start_time": "2023-03-22T17:01:16.091Z"
   },
   {
    "duration": 142,
    "start_time": "2023-03-22T17:01:16.239Z"
   },
   {
    "duration": 19,
    "start_time": "2023-03-22T17:01:16.382Z"
   },
   {
    "duration": 40,
    "start_time": "2023-03-22T17:01:16.403Z"
   },
   {
    "duration": 10,
    "start_time": "2023-03-22T17:01:16.445Z"
   },
   {
    "duration": 4,
    "start_time": "2023-03-22T17:01:16.457Z"
   },
   {
    "duration": 12,
    "start_time": "2023-03-22T17:01:16.462Z"
   },
   {
    "duration": 6567,
    "start_time": "2023-03-22T17:01:16.476Z"
   },
   {
    "duration": 6,
    "start_time": "2023-03-22T17:01:23.045Z"
   },
   {
    "duration": 154,
    "start_time": "2023-03-22T17:01:23.053Z"
   },
   {
    "duration": 4,
    "start_time": "2023-03-22T17:01:23.209Z"
   },
   {
    "duration": 53,
    "start_time": "2023-03-22T17:01:23.223Z"
   },
   {
    "duration": 51,
    "start_time": "2023-03-22T17:01:23.277Z"
   },
   {
    "duration": 10,
    "start_time": "2023-03-22T17:01:23.330Z"
   },
   {
    "duration": 14,
    "start_time": "2023-03-22T17:01:23.342Z"
   },
   {
    "duration": 65,
    "start_time": "2023-03-22T17:01:23.358Z"
   },
   {
    "duration": 5,
    "start_time": "2023-03-22T17:01:23.425Z"
   },
   {
    "duration": 44,
    "start_time": "2023-03-22T17:01:23.431Z"
   },
   {
    "duration": 5,
    "start_time": "2023-03-22T17:01:23.476Z"
   },
   {
    "duration": 15,
    "start_time": "2023-03-22T17:01:23.483Z"
   },
   {
    "duration": 34,
    "start_time": "2023-03-22T17:01:23.500Z"
   },
   {
    "duration": 37,
    "start_time": "2023-03-22T17:01:23.535Z"
   },
   {
    "duration": 610,
    "start_time": "2023-03-22T17:01:23.573Z"
   },
   {
    "duration": 4,
    "start_time": "2023-03-22T17:01:24.185Z"
   },
   {
    "duration": 43,
    "start_time": "2023-03-22T17:01:24.191Z"
   },
   {
    "duration": 172,
    "start_time": "2023-03-22T17:01:24.236Z"
   },
   {
    "duration": 421,
    "start_time": "2023-03-22T17:01:24.410Z"
   },
   {
    "duration": 3,
    "start_time": "2023-03-22T17:01:24.833Z"
   },
   {
    "duration": 11987,
    "start_time": "2023-03-22T17:01:24.838Z"
   },
   {
    "duration": 203,
    "start_time": "2023-03-22T17:01:36.827Z"
   },
   {
    "duration": 93,
    "start_time": "2023-03-22T17:01:37.032Z"
   },
   {
    "duration": 18,
    "start_time": "2023-03-22T17:01:37.126Z"
   },
   {
    "duration": 584,
    "start_time": "2023-03-22T17:01:37.146Z"
   },
   {
    "duration": 49,
    "start_time": "2023-03-22T17:01:37.731Z"
   },
   {
    "duration": 2,
    "start_time": "2023-03-22T17:01:37.782Z"
   },
   {
    "duration": 377779,
    "start_time": "2023-03-22T17:01:37.786Z"
   },
   {
    "duration": 233,
    "start_time": "2023-03-22T17:07:55.567Z"
   },
   {
    "duration": 26,
    "start_time": "2023-03-22T17:07:55.802Z"
   },
   {
    "duration": 4,
    "start_time": "2023-03-22T17:07:55.829Z"
   },
   {
    "duration": 144,
    "start_time": "2023-03-22T17:07:55.835Z"
   },
   {
    "duration": 60,
    "start_time": "2023-03-22T17:07:55.981Z"
   },
   {
    "duration": 23,
    "start_time": "2023-03-22T17:07:56.042Z"
   },
   {
    "duration": 21,
    "start_time": "2023-03-22T17:07:56.067Z"
   },
   {
    "duration": 3,
    "start_time": "2023-03-22T17:07:56.089Z"
   },
   {
    "duration": 5,
    "start_time": "2023-03-22T17:07:56.093Z"
   },
   {
    "duration": 3,
    "start_time": "2023-03-22T17:07:56.124Z"
   },
   {
    "duration": 16,
    "start_time": "2023-03-22T17:07:56.129Z"
   },
   {
    "duration": 16,
    "start_time": "2023-03-22T17:07:56.148Z"
   },
   {
    "duration": 5,
    "start_time": "2023-03-22T17:07:56.165Z"
   },
   {
    "duration": 57072,
    "start_time": "2023-03-22T17:07:56.171Z"
   },
   {
    "duration": 8709,
    "start_time": "2023-03-22T17:08:53.244Z"
   },
   {
    "duration": 3,
    "start_time": "2023-03-22T17:09:01.955Z"
   },
   {
    "duration": 73879,
    "start_time": "2023-03-22T17:09:01.959Z"
   },
   {
    "duration": 11694,
    "start_time": "2023-03-22T17:10:15.840Z"
   },
   {
    "duration": 16,
    "start_time": "2023-03-22T17:10:27.536Z"
   },
   {
    "duration": 4,
    "start_time": "2023-03-22T17:10:27.554Z"
   },
   {
    "duration": 79883,
    "start_time": "2023-03-22T17:10:27.560Z"
   },
   {
    "duration": 10985,
    "start_time": "2023-03-22T17:11:47.445Z"
   },
   {
    "duration": 8,
    "start_time": "2023-03-22T17:11:58.432Z"
   },
   {
    "duration": 14506,
    "start_time": "2023-03-22T17:11:58.441Z"
   },
   {
    "duration": 41,
    "start_time": "2023-03-22T17:14:40.744Z"
   },
   {
    "duration": 82396,
    "start_time": "2023-03-22T17:20:43.053Z"
   },
   {
    "duration": 9,
    "start_time": "2023-03-22T17:28:47.386Z"
   },
   {
    "duration": 156,
    "start_time": "2023-03-22T17:32:01.008Z"
   },
   {
    "duration": 11591,
    "start_time": "2023-03-22T17:32:10.542Z"
   },
   {
    "duration": 11438,
    "start_time": "2023-03-22T17:34:49.398Z"
   },
   {
    "duration": 15727,
    "start_time": "2023-03-22T17:35:44.422Z"
   },
   {
    "duration": 11423,
    "start_time": "2023-03-22T17:36:11.801Z"
   },
   {
    "duration": 1334,
    "start_time": "2023-03-22T17:54:27.337Z"
   },
   {
    "duration": 832,
    "start_time": "2023-03-22T17:54:28.673Z"
   },
   {
    "duration": 3,
    "start_time": "2023-03-22T17:54:29.506Z"
   },
   {
    "duration": 127,
    "start_time": "2023-03-22T17:54:29.510Z"
   },
   {
    "duration": 735,
    "start_time": "2023-03-22T17:54:29.639Z"
   },
   {
    "duration": 13,
    "start_time": "2023-03-22T17:54:30.376Z"
   },
   {
    "duration": 66,
    "start_time": "2023-03-22T17:54:30.391Z"
   },
   {
    "duration": 58,
    "start_time": "2023-03-22T17:54:30.458Z"
   },
   {
    "duration": 20,
    "start_time": "2023-03-22T17:54:30.525Z"
   },
   {
    "duration": 20,
    "start_time": "2023-03-22T17:54:30.547Z"
   },
   {
    "duration": 83,
    "start_time": "2023-03-22T17:54:30.569Z"
   },
   {
    "duration": 194,
    "start_time": "2023-03-22T17:54:30.654Z"
   },
   {
    "duration": 19,
    "start_time": "2023-03-22T17:54:30.850Z"
   },
   {
    "duration": 24,
    "start_time": "2023-03-22T17:54:30.873Z"
   },
   {
    "duration": 37,
    "start_time": "2023-03-22T17:54:30.900Z"
   },
   {
    "duration": 124,
    "start_time": "2023-03-22T17:54:30.943Z"
   },
   {
    "duration": 9,
    "start_time": "2023-03-22T17:54:31.070Z"
   },
   {
    "duration": 49,
    "start_time": "2023-03-22T17:54:31.081Z"
   },
   {
    "duration": 11,
    "start_time": "2023-03-22T17:54:31.136Z"
   },
   {
    "duration": 47,
    "start_time": "2023-03-22T17:54:31.148Z"
   },
   {
    "duration": 89,
    "start_time": "2023-03-22T17:54:31.196Z"
   },
   {
    "duration": 16,
    "start_time": "2023-03-22T17:54:31.287Z"
   },
   {
    "duration": 14,
    "start_time": "2023-03-22T17:54:31.306Z"
   },
   {
    "duration": 45,
    "start_time": "2023-03-22T17:54:31.321Z"
   },
   {
    "duration": 29,
    "start_time": "2023-03-22T17:54:31.367Z"
   },
   {
    "duration": 20,
    "start_time": "2023-03-22T17:54:31.398Z"
   },
   {
    "duration": 52,
    "start_time": "2023-03-22T17:54:31.420Z"
   },
   {
    "duration": 130,
    "start_time": "2023-03-22T17:54:31.473Z"
   },
   {
    "duration": 145,
    "start_time": "2023-03-22T17:54:31.605Z"
   },
   {
    "duration": 6,
    "start_time": "2023-03-22T17:54:31.752Z"
   },
   {
    "duration": 14,
    "start_time": "2023-03-22T17:54:31.759Z"
   },
   {
    "duration": 23,
    "start_time": "2023-03-22T17:54:31.774Z"
   },
   {
    "duration": 10,
    "start_time": "2023-03-22T17:54:31.799Z"
   },
   {
    "duration": 125,
    "start_time": "2023-03-22T17:54:31.811Z"
   },
   {
    "duration": 12,
    "start_time": "2023-03-22T17:54:31.938Z"
   },
   {
    "duration": 6,
    "start_time": "2023-03-22T17:54:31.952Z"
   },
   {
    "duration": 44,
    "start_time": "2023-03-22T17:54:31.959Z"
   },
   {
    "duration": 32,
    "start_time": "2023-03-22T17:54:32.005Z"
   },
   {
    "duration": 145,
    "start_time": "2023-03-22T17:54:32.040Z"
   },
   {
    "duration": 6,
    "start_time": "2023-03-22T17:54:32.186Z"
   },
   {
    "duration": 6,
    "start_time": "2023-03-22T17:54:32.197Z"
   },
   {
    "duration": 44,
    "start_time": "2023-03-22T17:54:32.204Z"
   },
   {
    "duration": 38,
    "start_time": "2023-03-22T17:54:32.250Z"
   },
   {
    "duration": 22,
    "start_time": "2023-03-22T17:54:32.289Z"
   },
   {
    "duration": 3,
    "start_time": "2023-03-22T17:54:32.313Z"
   },
   {
    "duration": 47,
    "start_time": "2023-03-22T17:54:32.323Z"
   },
   {
    "duration": 15,
    "start_time": "2023-03-22T17:54:32.372Z"
   },
   {
    "duration": 41,
    "start_time": "2023-03-22T17:54:32.388Z"
   },
   {
    "duration": 49,
    "start_time": "2023-03-22T17:54:32.430Z"
   },
   {
    "duration": 4,
    "start_time": "2023-03-22T17:54:32.480Z"
   },
   {
    "duration": 73,
    "start_time": "2023-03-22T17:54:32.485Z"
   },
   {
    "duration": 28,
    "start_time": "2023-03-22T17:54:32.559Z"
   },
   {
    "duration": 21,
    "start_time": "2023-03-22T17:54:32.589Z"
   },
   {
    "duration": 9,
    "start_time": "2023-03-22T17:54:32.625Z"
   },
   {
    "duration": 62,
    "start_time": "2023-03-22T17:54:32.636Z"
   },
   {
    "duration": 23,
    "start_time": "2023-03-22T17:54:32.700Z"
   },
   {
    "duration": 43,
    "start_time": "2023-03-22T17:54:32.725Z"
   },
   {
    "duration": 145,
    "start_time": "2023-03-22T17:54:32.770Z"
   },
   {
    "duration": 3,
    "start_time": "2023-03-22T17:54:32.916Z"
   },
   {
    "duration": 5,
    "start_time": "2023-03-22T17:54:32.923Z"
   },
   {
    "duration": 2459,
    "start_time": "2023-03-22T17:54:32.929Z"
   },
   {
    "duration": 48,
    "start_time": "2023-03-22T17:54:35.390Z"
   },
   {
    "duration": 6,
    "start_time": "2023-03-22T17:54:35.440Z"
   },
   {
    "duration": 21,
    "start_time": "2023-03-22T17:54:35.448Z"
   },
   {
    "duration": 12,
    "start_time": "2023-03-22T17:54:35.471Z"
   },
   {
    "duration": 114,
    "start_time": "2023-03-22T17:54:35.485Z"
   },
   {
    "duration": 40,
    "start_time": "2023-03-22T17:54:35.601Z"
   },
   {
    "duration": 22,
    "start_time": "2023-03-22T17:54:35.643Z"
   },
   {
    "duration": 22,
    "start_time": "2023-03-22T17:54:35.666Z"
   },
   {
    "duration": 179,
    "start_time": "2023-03-22T17:54:35.690Z"
   },
   {
    "duration": 156,
    "start_time": "2023-03-22T17:54:35.870Z"
   },
   {
    "duration": 149,
    "start_time": "2023-03-22T17:54:36.027Z"
   },
   {
    "duration": 19,
    "start_time": "2023-03-22T17:54:36.177Z"
   },
   {
    "duration": 48,
    "start_time": "2023-03-22T17:54:36.197Z"
   },
   {
    "duration": 25,
    "start_time": "2023-03-22T17:54:36.247Z"
   },
   {
    "duration": 4,
    "start_time": "2023-03-22T17:54:36.274Z"
   },
   {
    "duration": 8,
    "start_time": "2023-03-22T17:54:36.280Z"
   },
   {
    "duration": 6922,
    "start_time": "2023-03-22T17:54:36.289Z"
   },
   {
    "duration": 6,
    "start_time": "2023-03-22T17:54:43.212Z"
   },
   {
    "duration": 161,
    "start_time": "2023-03-22T17:54:43.219Z"
   },
   {
    "duration": 5,
    "start_time": "2023-03-22T17:54:43.382Z"
   },
   {
    "duration": 70,
    "start_time": "2023-03-22T17:54:43.388Z"
   },
   {
    "duration": 54,
    "start_time": "2023-03-22T17:54:43.459Z"
   },
   {
    "duration": 19,
    "start_time": "2023-03-22T17:54:43.516Z"
   },
   {
    "duration": 15,
    "start_time": "2023-03-22T17:54:43.537Z"
   },
   {
    "duration": 42,
    "start_time": "2023-03-22T17:54:43.553Z"
   },
   {
    "duration": 5,
    "start_time": "2023-03-22T17:54:43.596Z"
   },
   {
    "duration": 46,
    "start_time": "2023-03-22T17:54:43.623Z"
   },
   {
    "duration": 4,
    "start_time": "2023-03-22T17:54:43.671Z"
   },
   {
    "duration": 15,
    "start_time": "2023-03-22T17:54:43.677Z"
   },
   {
    "duration": 13,
    "start_time": "2023-03-22T17:54:43.693Z"
   },
   {
    "duration": 50,
    "start_time": "2023-03-22T17:54:43.723Z"
   },
   {
    "duration": 595,
    "start_time": "2023-03-22T17:54:43.774Z"
   },
   {
    "duration": 3,
    "start_time": "2023-03-22T17:54:44.371Z"
   },
   {
    "duration": 36,
    "start_time": "2023-03-22T17:54:44.376Z"
   },
   {
    "duration": 172,
    "start_time": "2023-03-22T17:54:44.426Z"
   },
   {
    "duration": 435,
    "start_time": "2023-03-22T17:54:44.600Z"
   },
   {
    "duration": 4,
    "start_time": "2023-03-22T17:54:45.036Z"
   },
   {
    "duration": 26781,
    "start_time": "2023-03-22T17:54:45.045Z"
   },
   {
    "duration": 212,
    "start_time": "2023-03-22T17:55:11.828Z"
   },
   {
    "duration": 3,
    "start_time": "2023-03-22T17:55:12.042Z"
   },
   {
    "duration": 104,
    "start_time": "2023-03-22T17:55:12.048Z"
   },
   {
    "duration": 613,
    "start_time": "2023-03-22T17:55:12.154Z"
   },
   {
    "duration": 57,
    "start_time": "2023-03-22T17:55:12.768Z"
   },
   {
    "duration": 11,
    "start_time": "2023-03-22T17:55:12.827Z"
   },
   {
    "duration": 430599,
    "start_time": "2023-03-22T17:55:12.840Z"
   },
   {
    "duration": 246,
    "start_time": "2023-03-22T18:02:23.441Z"
   },
   {
    "duration": 22,
    "start_time": "2023-03-22T18:02:23.689Z"
   },
   {
    "duration": 7,
    "start_time": "2023-03-22T18:02:23.722Z"
   },
   {
    "duration": 151,
    "start_time": "2023-03-22T18:02:23.734Z"
   },
   {
    "duration": 67,
    "start_time": "2023-03-22T18:02:23.887Z"
   },
   {
    "duration": 27,
    "start_time": "2023-03-22T18:02:23.956Z"
   },
   {
    "duration": 58,
    "start_time": "2023-03-22T18:02:23.984Z"
   },
   {
    "duration": 2,
    "start_time": "2023-03-22T18:02:24.044Z"
   },
   {
    "duration": 4,
    "start_time": "2023-03-22T18:02:24.048Z"
   },
   {
    "duration": 5,
    "start_time": "2023-03-22T18:02:24.054Z"
   },
   {
    "duration": 12,
    "start_time": "2023-03-22T18:02:24.061Z"
   },
   {
    "duration": 16,
    "start_time": "2023-03-22T18:02:24.075Z"
   },
   {
    "duration": 4,
    "start_time": "2023-03-22T18:02:24.093Z"
   },
   {
    "duration": 1343,
    "start_time": "2023-03-22T18:28:04.563Z"
   },
   {
    "duration": 799,
    "start_time": "2023-03-22T18:28:05.908Z"
   },
   {
    "duration": 3,
    "start_time": "2023-03-22T18:28:06.708Z"
   },
   {
    "duration": 158,
    "start_time": "2023-03-22T18:28:06.713Z"
   },
   {
    "duration": 756,
    "start_time": "2023-03-22T18:28:06.873Z"
   },
   {
    "duration": 14,
    "start_time": "2023-03-22T18:28:07.630Z"
   },
   {
    "duration": 46,
    "start_time": "2023-03-22T18:28:07.646Z"
   },
   {
    "duration": 68,
    "start_time": "2023-03-22T18:28:07.694Z"
   },
   {
    "duration": 7,
    "start_time": "2023-03-22T18:28:07.764Z"
   },
   {
    "duration": 6,
    "start_time": "2023-03-22T18:28:07.773Z"
   },
   {
    "duration": 63,
    "start_time": "2023-03-22T18:28:07.780Z"
   },
   {
    "duration": 163,
    "start_time": "2023-03-22T18:28:07.844Z"
   },
   {
    "duration": 25,
    "start_time": "2023-03-22T18:28:08.009Z"
   },
   {
    "duration": 5,
    "start_time": "2023-03-22T18:28:08.036Z"
   },
   {
    "duration": 23,
    "start_time": "2023-03-22T18:28:08.043Z"
   },
   {
    "duration": 12,
    "start_time": "2023-03-22T18:28:08.068Z"
   },
   {
    "duration": 8,
    "start_time": "2023-03-22T18:28:08.081Z"
   },
   {
    "duration": 12,
    "start_time": "2023-03-22T18:28:08.090Z"
   },
   {
    "duration": 12,
    "start_time": "2023-03-22T18:28:08.124Z"
   },
   {
    "duration": 3,
    "start_time": "2023-03-22T18:28:08.138Z"
   },
   {
    "duration": 50,
    "start_time": "2023-03-22T18:28:08.143Z"
   },
   {
    "duration": 109,
    "start_time": "2023-03-22T18:28:08.195Z"
   },
   {
    "duration": 6,
    "start_time": "2023-03-22T18:28:08.306Z"
   },
   {
    "duration": 7,
    "start_time": "2023-03-22T18:28:08.323Z"
   },
   {
    "duration": 10,
    "start_time": "2023-03-22T18:28:08.331Z"
   },
   {
    "duration": 4,
    "start_time": "2023-03-22T18:28:08.342Z"
   },
   {
    "duration": 29,
    "start_time": "2023-03-22T18:28:08.348Z"
   },
   {
    "duration": 163,
    "start_time": "2023-03-22T18:28:08.381Z"
   },
   {
    "duration": 153,
    "start_time": "2023-03-22T18:28:08.546Z"
   },
   {
    "duration": 7,
    "start_time": "2023-03-22T18:28:08.701Z"
   },
   {
    "duration": 19,
    "start_time": "2023-03-22T18:28:08.710Z"
   },
   {
    "duration": 8,
    "start_time": "2023-03-22T18:28:08.731Z"
   },
   {
    "duration": 4,
    "start_time": "2023-03-22T18:28:08.741Z"
   },
   {
    "duration": 111,
    "start_time": "2023-03-22T18:28:08.751Z"
   },
   {
    "duration": 12,
    "start_time": "2023-03-22T18:28:08.864Z"
   },
   {
    "duration": 3,
    "start_time": "2023-03-22T18:28:08.878Z"
   },
   {
    "duration": 53,
    "start_time": "2023-03-22T18:28:08.883Z"
   },
   {
    "duration": 10,
    "start_time": "2023-03-22T18:28:08.937Z"
   },
   {
    "duration": 138,
    "start_time": "2023-03-22T18:28:08.948Z"
   },
   {
    "duration": 5,
    "start_time": "2023-03-22T18:28:09.088Z"
   },
   {
    "duration": 5,
    "start_time": "2023-03-22T18:28:09.095Z"
   },
   {
    "duration": 41,
    "start_time": "2023-03-22T18:28:09.101Z"
   },
   {
    "duration": 24,
    "start_time": "2023-03-22T18:28:09.144Z"
   },
   {
    "duration": 28,
    "start_time": "2023-03-22T18:28:09.169Z"
   },
   {
    "duration": 24,
    "start_time": "2023-03-22T18:28:09.199Z"
   },
   {
    "duration": 37,
    "start_time": "2023-03-22T18:28:09.225Z"
   },
   {
    "duration": 15,
    "start_time": "2023-03-22T18:28:09.264Z"
   },
   {
    "duration": 52,
    "start_time": "2023-03-22T18:28:09.281Z"
   },
   {
    "duration": 25,
    "start_time": "2023-03-22T18:28:09.335Z"
   },
   {
    "duration": 4,
    "start_time": "2023-03-22T18:28:09.362Z"
   },
   {
    "duration": 73,
    "start_time": "2023-03-22T18:28:09.369Z"
   },
   {
    "duration": 26,
    "start_time": "2023-03-22T18:28:09.444Z"
   },
   {
    "duration": 23,
    "start_time": "2023-03-22T18:28:09.472Z"
   },
   {
    "duration": 3,
    "start_time": "2023-03-22T18:28:09.497Z"
   },
   {
    "duration": 54,
    "start_time": "2023-03-22T18:28:09.524Z"
   },
   {
    "duration": 22,
    "start_time": "2023-03-22T18:28:09.579Z"
   },
   {
    "duration": 44,
    "start_time": "2023-03-22T18:28:09.603Z"
   },
   {
    "duration": 146,
    "start_time": "2023-03-22T18:28:09.649Z"
   },
   {
    "duration": 3,
    "start_time": "2023-03-22T18:28:09.796Z"
   },
   {
    "duration": 4,
    "start_time": "2023-03-22T18:28:09.800Z"
   },
   {
    "duration": 2428,
    "start_time": "2023-03-22T18:28:09.806Z"
   },
   {
    "duration": 33,
    "start_time": "2023-03-22T18:28:12.236Z"
   },
   {
    "duration": 6,
    "start_time": "2023-03-22T18:28:12.271Z"
   },
   {
    "duration": 21,
    "start_time": "2023-03-22T18:28:12.278Z"
   },
   {
    "duration": 32,
    "start_time": "2023-03-22T18:28:12.300Z"
   },
   {
    "duration": 89,
    "start_time": "2023-03-22T18:28:12.334Z"
   },
   {
    "duration": 30,
    "start_time": "2023-03-22T18:28:12.425Z"
   },
   {
    "duration": 19,
    "start_time": "2023-03-22T18:28:12.457Z"
   },
   {
    "duration": 22,
    "start_time": "2023-03-22T18:28:12.477Z"
   },
   {
    "duration": 170,
    "start_time": "2023-03-22T18:28:12.500Z"
   },
   {
    "duration": 170,
    "start_time": "2023-03-22T18:28:12.671Z"
   },
   {
    "duration": 144,
    "start_time": "2023-03-22T18:28:12.843Z"
   },
   {
    "duration": 19,
    "start_time": "2023-03-22T18:28:12.988Z"
   },
   {
    "duration": 40,
    "start_time": "2023-03-22T18:28:13.009Z"
   },
   {
    "duration": 25,
    "start_time": "2023-03-22T18:28:13.050Z"
   },
   {
    "duration": 4,
    "start_time": "2023-03-22T18:28:13.076Z"
   },
   {
    "duration": 14,
    "start_time": "2023-03-22T18:28:13.081Z"
   },
   {
    "duration": 6493,
    "start_time": "2023-03-22T18:28:13.097Z"
   },
   {
    "duration": 6,
    "start_time": "2023-03-22T18:28:19.591Z"
   },
   {
    "duration": 154,
    "start_time": "2023-03-22T18:28:19.599Z"
   },
   {
    "duration": 4,
    "start_time": "2023-03-22T18:28:19.755Z"
   },
   {
    "duration": 63,
    "start_time": "2023-03-22T18:28:19.765Z"
   },
   {
    "duration": 44,
    "start_time": "2023-03-22T18:28:19.830Z"
   },
   {
    "duration": 9,
    "start_time": "2023-03-22T18:28:19.876Z"
   },
   {
    "duration": 36,
    "start_time": "2023-03-22T18:28:19.887Z"
   },
   {
    "duration": 45,
    "start_time": "2023-03-22T18:28:19.925Z"
   },
   {
    "duration": 5,
    "start_time": "2023-03-22T18:28:19.972Z"
   },
   {
    "duration": 63,
    "start_time": "2023-03-22T18:28:19.978Z"
   },
   {
    "duration": 6,
    "start_time": "2023-03-22T18:28:20.042Z"
   },
   {
    "duration": 14,
    "start_time": "2023-03-22T18:28:20.049Z"
   },
   {
    "duration": 13,
    "start_time": "2023-03-22T18:28:20.065Z"
   },
   {
    "duration": 60,
    "start_time": "2023-03-22T18:28:20.080Z"
   },
   {
    "duration": 654,
    "start_time": "2023-03-22T18:28:20.142Z"
   },
   {
    "duration": 3,
    "start_time": "2023-03-22T18:28:20.798Z"
   },
   {
    "duration": 44,
    "start_time": "2023-03-22T18:28:20.803Z"
   },
   {
    "duration": 175,
    "start_time": "2023-03-22T18:28:20.849Z"
   },
   {
    "duration": 428,
    "start_time": "2023-03-22T18:28:21.025Z"
   },
   {
    "duration": 3,
    "start_time": "2023-03-22T18:28:21.455Z"
   },
   {
    "duration": 12868,
    "start_time": "2023-03-22T18:28:21.460Z"
   },
   {
    "duration": 195,
    "start_time": "2023-03-22T18:28:34.330Z"
   },
   {
    "duration": 3,
    "start_time": "2023-03-22T18:28:34.527Z"
   },
   {
    "duration": 109,
    "start_time": "2023-03-22T18:28:34.531Z"
   },
   {
    "duration": 533,
    "start_time": "2023-03-22T18:28:34.642Z"
   },
   {
    "duration": 56,
    "start_time": "2023-03-22T18:28:35.177Z"
   },
   {
    "duration": 3,
    "start_time": "2023-03-22T18:28:35.235Z"
   },
   {
    "duration": 401761,
    "start_time": "2023-03-22T18:28:35.240Z"
   },
   {
    "duration": 248,
    "start_time": "2023-03-22T18:35:17.003Z"
   },
   {
    "duration": 21,
    "start_time": "2023-03-22T18:35:17.253Z"
   },
   {
    "duration": 8,
    "start_time": "2023-03-22T18:35:17.275Z"
   },
   {
    "duration": 153,
    "start_time": "2023-03-22T18:35:17.284Z"
   },
   {
    "duration": 56,
    "start_time": "2023-03-22T18:35:17.438Z"
   },
   {
    "duration": 40,
    "start_time": "2023-03-22T18:35:17.496Z"
   },
   {
    "duration": 21,
    "start_time": "2023-03-22T18:35:17.538Z"
   },
   {
    "duration": 3,
    "start_time": "2023-03-22T18:35:17.560Z"
   },
   {
    "duration": 6,
    "start_time": "2023-03-22T18:35:17.564Z"
   },
   {
    "duration": 6,
    "start_time": "2023-03-22T18:35:17.571Z"
   },
   {
    "duration": 6,
    "start_time": "2023-03-22T18:35:17.579Z"
   },
   {
    "duration": 5,
    "start_time": "2023-03-22T18:35:17.587Z"
   },
   {
    "duration": 9,
    "start_time": "2023-03-22T18:35:17.594Z"
   },
   {
    "duration": 904921,
    "start_time": "2023-03-22T18:35:17.604Z"
   },
   {
    "duration": 8829,
    "start_time": "2023-03-22T18:50:22.527Z"
   },
   {
    "duration": 6,
    "start_time": "2023-03-22T18:50:31.357Z"
   },
   {
    "duration": 2749183,
    "start_time": "2023-03-22T18:50:31.365Z"
   },
   {
    "duration": 11693,
    "start_time": "2023-03-22T19:36:20.551Z"
   },
   {
    "duration": 16,
    "start_time": "2023-03-22T19:36:32.245Z"
   },
   {
    "duration": 3,
    "start_time": "2023-03-22T19:36:32.263Z"
   },
   {
    "duration": 365070,
    "start_time": "2023-03-22T19:36:32.268Z"
   },
   {
    "duration": 10706,
    "start_time": "2023-03-22T19:42:37.340Z"
   },
   {
    "duration": 9,
    "start_time": "2023-03-22T19:42:48.048Z"
   },
   {
    "duration": 102,
    "start_time": "2023-03-23T09:40:43.548Z"
   },
   {
    "duration": 3,
    "start_time": "2023-03-23T09:56:34.445Z"
   },
   {
    "duration": 1847,
    "start_time": "2023-03-23T10:03:59.272Z"
   },
   {
    "duration": 1654,
    "start_time": "2023-03-23T10:04:01.124Z"
   },
   {
    "duration": 7,
    "start_time": "2023-03-23T10:04:02.780Z"
   },
   {
    "duration": 262,
    "start_time": "2023-03-23T10:04:02.789Z"
   },
   {
    "duration": 825,
    "start_time": "2023-03-23T10:04:03.053Z"
   },
   {
    "duration": 31,
    "start_time": "2023-03-23T10:04:03.880Z"
   },
   {
    "duration": 70,
    "start_time": "2023-03-23T10:04:03.913Z"
   },
   {
    "duration": 74,
    "start_time": "2023-03-23T10:04:03.985Z"
   },
   {
    "duration": 8,
    "start_time": "2023-03-23T10:04:04.061Z"
   },
   {
    "duration": 5,
    "start_time": "2023-03-23T10:04:04.071Z"
   },
   {
    "duration": 77,
    "start_time": "2023-03-23T10:04:04.078Z"
   },
   {
    "duration": 279,
    "start_time": "2023-03-23T10:04:04.156Z"
   },
   {
    "duration": 16,
    "start_time": "2023-03-23T10:04:04.436Z"
   },
   {
    "duration": 5,
    "start_time": "2023-03-23T10:04:04.453Z"
   },
   {
    "duration": 11,
    "start_time": "2023-03-23T10:04:04.459Z"
   },
   {
    "duration": 30,
    "start_time": "2023-03-23T10:04:04.472Z"
   },
   {
    "duration": 11,
    "start_time": "2023-03-23T10:04:04.506Z"
   },
   {
    "duration": 24,
    "start_time": "2023-03-23T10:04:04.519Z"
   },
   {
    "duration": 16,
    "start_time": "2023-03-23T10:04:04.545Z"
   },
   {
    "duration": 70,
    "start_time": "2023-03-23T10:04:04.562Z"
   },
   {
    "duration": 39,
    "start_time": "2023-03-23T10:04:04.633Z"
   },
   {
    "duration": 10,
    "start_time": "2023-03-23T10:04:04.674Z"
   },
   {
    "duration": 25,
    "start_time": "2023-03-23T10:04:04.702Z"
   },
   {
    "duration": 15,
    "start_time": "2023-03-23T10:04:04.736Z"
   },
   {
    "duration": 9,
    "start_time": "2023-03-23T10:04:04.752Z"
   },
   {
    "duration": 4,
    "start_time": "2023-03-23T10:04:04.762Z"
   },
   {
    "duration": 63,
    "start_time": "2023-03-23T10:04:04.767Z"
   },
   {
    "duration": 139,
    "start_time": "2023-03-23T10:04:04.836Z"
   },
   {
    "duration": 141,
    "start_time": "2023-03-23T10:04:04.977Z"
   },
   {
    "duration": 8,
    "start_time": "2023-03-23T10:04:05.119Z"
   },
   {
    "duration": 26,
    "start_time": "2023-03-23T10:04:05.129Z"
   },
   {
    "duration": 8,
    "start_time": "2023-03-23T10:04:05.157Z"
   },
   {
    "duration": 17,
    "start_time": "2023-03-23T10:04:05.167Z"
   },
   {
    "duration": 158,
    "start_time": "2023-03-23T10:04:05.185Z"
   },
   {
    "duration": 15,
    "start_time": "2023-03-23T10:04:05.345Z"
   },
   {
    "duration": 11,
    "start_time": "2023-03-23T10:04:05.363Z"
   },
   {
    "duration": 107,
    "start_time": "2023-03-23T10:04:05.375Z"
   },
   {
    "duration": 30,
    "start_time": "2023-03-23T10:04:05.484Z"
   },
   {
    "duration": 178,
    "start_time": "2023-03-23T10:04:05.524Z"
   },
   {
    "duration": 7,
    "start_time": "2023-03-23T10:04:05.704Z"
   },
   {
    "duration": 44,
    "start_time": "2023-03-23T10:04:05.712Z"
   },
   {
    "duration": 62,
    "start_time": "2023-03-23T10:04:05.758Z"
   },
   {
    "duration": 51,
    "start_time": "2023-03-23T10:04:05.824Z"
   },
   {
    "duration": 40,
    "start_time": "2023-03-23T10:04:05.876Z"
   },
   {
    "duration": 15,
    "start_time": "2023-03-23T10:04:05.931Z"
   },
   {
    "duration": 47,
    "start_time": "2023-03-23T10:04:05.948Z"
   },
   {
    "duration": 20,
    "start_time": "2023-03-23T10:04:05.997Z"
   },
   {
    "duration": 46,
    "start_time": "2023-03-23T10:04:06.018Z"
   },
   {
    "duration": 37,
    "start_time": "2023-03-23T10:04:06.066Z"
   },
   {
    "duration": 6,
    "start_time": "2023-03-23T10:04:06.104Z"
   },
   {
    "duration": 64,
    "start_time": "2023-03-23T10:04:06.111Z"
   },
   {
    "duration": 38,
    "start_time": "2023-03-23T10:04:06.176Z"
   },
   {
    "duration": 46,
    "start_time": "2023-03-23T10:04:06.215Z"
   },
   {
    "duration": 3,
    "start_time": "2023-03-23T10:04:06.263Z"
   },
   {
    "duration": 86,
    "start_time": "2023-03-23T10:04:06.268Z"
   },
   {
    "duration": 25,
    "start_time": "2023-03-23T10:04:06.357Z"
   },
   {
    "duration": 81,
    "start_time": "2023-03-23T10:04:06.384Z"
   },
   {
    "duration": 147,
    "start_time": "2023-03-23T10:04:06.466Z"
   },
   {
    "duration": 2,
    "start_time": "2023-03-23T10:04:06.615Z"
   },
   {
    "duration": 2,
    "start_time": "2023-03-23T10:04:06.618Z"
   },
   {
    "duration": 2778,
    "start_time": "2023-03-23T10:04:06.621Z"
   },
   {
    "duration": 54,
    "start_time": "2023-03-23T10:04:09.400Z"
   },
   {
    "duration": 6,
    "start_time": "2023-03-23T10:04:09.456Z"
   },
   {
    "duration": 55,
    "start_time": "2023-03-23T10:04:09.463Z"
   },
   {
    "duration": 10,
    "start_time": "2023-03-23T10:04:09.520Z"
   },
   {
    "duration": 92,
    "start_time": "2023-03-23T10:04:09.532Z"
   },
   {
    "duration": 36,
    "start_time": "2023-03-23T10:04:09.626Z"
   },
   {
    "duration": 18,
    "start_time": "2023-03-23T10:04:09.664Z"
   },
   {
    "duration": 45,
    "start_time": "2023-03-23T10:04:09.684Z"
   },
   {
    "duration": 142,
    "start_time": "2023-03-23T10:04:09.731Z"
   },
   {
    "duration": 169,
    "start_time": "2023-03-23T10:04:09.875Z"
   },
   {
    "duration": 168,
    "start_time": "2023-03-23T10:04:10.046Z"
   },
   {
    "duration": 22,
    "start_time": "2023-03-23T10:04:10.227Z"
   },
   {
    "duration": 17,
    "start_time": "2023-03-23T10:04:10.250Z"
   },
   {
    "duration": 53,
    "start_time": "2023-03-23T10:04:10.269Z"
   },
   {
    "duration": 4,
    "start_time": "2023-03-23T10:04:10.328Z"
   },
   {
    "duration": 15,
    "start_time": "2023-03-23T10:04:10.333Z"
   },
   {
    "duration": 7195,
    "start_time": "2023-03-23T10:04:10.350Z"
   },
   {
    "duration": 5,
    "start_time": "2023-03-23T10:04:17.547Z"
   },
   {
    "duration": 161,
    "start_time": "2023-03-23T10:04:17.554Z"
   },
   {
    "duration": 10,
    "start_time": "2023-03-23T10:04:17.716Z"
   },
   {
    "duration": 45,
    "start_time": "2023-03-23T10:04:17.733Z"
   },
   {
    "duration": 70,
    "start_time": "2023-03-23T10:04:17.779Z"
   },
   {
    "duration": 8,
    "start_time": "2023-03-23T10:04:17.852Z"
   },
   {
    "duration": 27,
    "start_time": "2023-03-23T10:04:17.862Z"
   },
   {
    "duration": 99,
    "start_time": "2023-03-23T10:04:17.904Z"
   },
   {
    "duration": 11,
    "start_time": "2023-03-23T10:04:18.019Z"
   },
   {
    "duration": 46,
    "start_time": "2023-03-23T10:04:18.032Z"
   },
   {
    "duration": 4,
    "start_time": "2023-03-23T10:04:18.080Z"
   },
   {
    "duration": 41,
    "start_time": "2023-03-23T10:04:18.090Z"
   },
   {
    "duration": 18,
    "start_time": "2023-03-23T10:04:18.133Z"
   },
   {
    "duration": 76,
    "start_time": "2023-03-23T10:04:18.152Z"
   },
   {
    "duration": 503,
    "start_time": "2023-03-23T10:04:18.231Z"
   },
   {
    "duration": 4,
    "start_time": "2023-03-23T10:04:18.736Z"
   },
   {
    "duration": 49,
    "start_time": "2023-03-23T10:04:18.742Z"
   },
   {
    "duration": 135,
    "start_time": "2023-03-23T10:04:18.792Z"
   },
   {
    "duration": 331,
    "start_time": "2023-03-23T10:04:18.928Z"
   },
   {
    "duration": 3,
    "start_time": "2023-03-23T10:04:19.262Z"
   },
   {
    "duration": 52825,
    "start_time": "2023-03-23T10:04:19.266Z"
   },
   {
    "duration": 205,
    "start_time": "2023-03-23T10:05:12.096Z"
   },
   {
    "duration": 3,
    "start_time": "2023-03-23T10:05:12.305Z"
   },
   {
    "duration": 17,
    "start_time": "2023-03-23T10:22:09.541Z"
   },
   {
    "duration": 3,
    "start_time": "2023-03-23T10:22:14.237Z"
   },
   {
    "duration": 102,
    "start_time": "2023-03-23T10:22:26.755Z"
   },
   {
    "duration": 3,
    "start_time": "2023-03-23T10:22:29.532Z"
   },
   {
    "duration": 424,
    "start_time": "2023-03-23T10:22:32.328Z"
   },
   {
    "duration": 678,
    "start_time": "2023-03-23T10:24:55.248Z"
   },
   {
    "duration": 13,
    "start_time": "2023-03-23T10:25:44.537Z"
   },
   {
    "duration": 2,
    "start_time": "2023-03-23T10:25:49.380Z"
   },
   {
    "duration": 3,
    "start_time": "2023-03-23T10:40:07.325Z"
   },
   {
    "duration": 10,
    "start_time": "2023-03-23T10:40:43.466Z"
   },
   {
    "duration": 586,
    "start_time": "2023-03-23T10:42:36.383Z"
   },
   {
    "duration": 1492,
    "start_time": "2023-03-23T14:55:28.879Z"
   },
   {
    "duration": 2887,
    "start_time": "2023-03-23T14:55:30.373Z"
   },
   {
    "duration": 4,
    "start_time": "2023-03-23T14:55:33.261Z"
   },
   {
    "duration": 123,
    "start_time": "2023-03-23T14:55:33.267Z"
   },
   {
    "duration": 761,
    "start_time": "2023-03-23T14:55:33.392Z"
   },
   {
    "duration": 12,
    "start_time": "2023-03-23T14:55:34.156Z"
   },
   {
    "duration": 63,
    "start_time": "2023-03-23T14:55:34.170Z"
   },
   {
    "duration": 48,
    "start_time": "2023-03-23T14:55:34.235Z"
   },
   {
    "duration": 8,
    "start_time": "2023-03-23T14:55:34.285Z"
   },
   {
    "duration": 4,
    "start_time": "2023-03-23T14:55:34.323Z"
   },
   {
    "duration": 51,
    "start_time": "2023-03-23T14:55:34.329Z"
   },
   {
    "duration": 275,
    "start_time": "2023-03-23T14:55:34.382Z"
   },
   {
    "duration": 17,
    "start_time": "2023-03-23T14:55:34.659Z"
   },
   {
    "duration": 6,
    "start_time": "2023-03-23T14:55:34.678Z"
   },
   {
    "duration": 12,
    "start_time": "2023-03-23T14:55:34.686Z"
   },
   {
    "duration": 20,
    "start_time": "2023-03-23T14:55:34.727Z"
   },
   {
    "duration": 13,
    "start_time": "2023-03-23T14:55:34.749Z"
   },
   {
    "duration": 14,
    "start_time": "2023-03-23T14:55:34.764Z"
   },
   {
    "duration": 44,
    "start_time": "2023-03-23T14:55:34.780Z"
   },
   {
    "duration": 5,
    "start_time": "2023-03-23T14:55:34.827Z"
   },
   {
    "duration": 58,
    "start_time": "2023-03-23T14:55:34.834Z"
   },
   {
    "duration": 36,
    "start_time": "2023-03-23T14:55:34.895Z"
   },
   {
    "duration": 7,
    "start_time": "2023-03-23T14:55:34.932Z"
   },
   {
    "duration": 11,
    "start_time": "2023-03-23T14:55:34.941Z"
   },
   {
    "duration": 11,
    "start_time": "2023-03-23T14:55:34.955Z"
   },
   {
    "duration": 4,
    "start_time": "2023-03-23T14:55:34.968Z"
   },
   {
    "duration": 81,
    "start_time": "2023-03-23T14:55:34.975Z"
   },
   {
    "duration": 182,
    "start_time": "2023-03-23T14:55:35.062Z"
   },
   {
    "duration": 151,
    "start_time": "2023-03-23T14:55:35.247Z"
   },
   {
    "duration": 7,
    "start_time": "2023-03-23T14:55:35.399Z"
   },
   {
    "duration": 24,
    "start_time": "2023-03-23T14:55:35.408Z"
   },
   {
    "duration": 8,
    "start_time": "2023-03-23T14:55:35.434Z"
   },
   {
    "duration": 8,
    "start_time": "2023-03-23T14:55:35.443Z"
   },
   {
    "duration": 114,
    "start_time": "2023-03-23T14:55:35.452Z"
   },
   {
    "duration": 12,
    "start_time": "2023-03-23T14:55:35.568Z"
   },
   {
    "duration": 4,
    "start_time": "2023-03-23T14:55:35.582Z"
   },
   {
    "duration": 71,
    "start_time": "2023-03-23T14:55:35.588Z"
   },
   {
    "duration": 17,
    "start_time": "2023-03-23T14:55:35.661Z"
   },
   {
    "duration": 173,
    "start_time": "2023-03-23T14:55:35.680Z"
   },
   {
    "duration": 7,
    "start_time": "2023-03-23T14:55:35.855Z"
   },
   {
    "duration": 9,
    "start_time": "2023-03-23T14:55:35.863Z"
   },
   {
    "duration": 45,
    "start_time": "2023-03-23T14:55:35.874Z"
   },
   {
    "duration": 25,
    "start_time": "2023-03-23T14:55:35.920Z"
   },
   {
    "duration": 23,
    "start_time": "2023-03-23T14:55:35.947Z"
   },
   {
    "duration": 4,
    "start_time": "2023-03-23T14:55:35.972Z"
   },
   {
    "duration": 55,
    "start_time": "2023-03-23T14:55:35.977Z"
   },
   {
    "duration": 15,
    "start_time": "2023-03-23T14:55:36.034Z"
   },
   {
    "duration": 26,
    "start_time": "2023-03-23T14:55:36.051Z"
   },
   {
    "duration": 48,
    "start_time": "2023-03-23T14:55:36.079Z"
   },
   {
    "duration": 4,
    "start_time": "2023-03-23T14:55:36.128Z"
   },
   {
    "duration": 64,
    "start_time": "2023-03-23T14:55:36.134Z"
   },
   {
    "duration": 36,
    "start_time": "2023-03-23T14:55:36.199Z"
   },
   {
    "duration": 24,
    "start_time": "2023-03-23T14:55:36.236Z"
   },
   {
    "duration": 7,
    "start_time": "2023-03-23T14:55:36.261Z"
   },
   {
    "duration": 79,
    "start_time": "2023-03-23T14:55:36.270Z"
   },
   {
    "duration": 22,
    "start_time": "2023-03-23T14:55:36.351Z"
   },
   {
    "duration": 24,
    "start_time": "2023-03-23T14:55:36.375Z"
   },
   {
    "duration": 169,
    "start_time": "2023-03-23T14:55:36.401Z"
   },
   {
    "duration": 3,
    "start_time": "2023-03-23T14:55:36.572Z"
   },
   {
    "duration": 4,
    "start_time": "2023-03-23T14:55:36.576Z"
   },
   {
    "duration": 2493,
    "start_time": "2023-03-23T14:55:36.583Z"
   },
   {
    "duration": 32,
    "start_time": "2023-03-23T14:55:39.077Z"
   },
   {
    "duration": 15,
    "start_time": "2023-03-23T14:55:39.111Z"
   },
   {
    "duration": 21,
    "start_time": "2023-03-23T14:55:39.128Z"
   },
   {
    "duration": 15,
    "start_time": "2023-03-23T14:55:39.151Z"
   },
   {
    "duration": 111,
    "start_time": "2023-03-23T14:55:39.171Z"
   },
   {
    "duration": 40,
    "start_time": "2023-03-23T14:55:39.283Z"
   },
   {
    "duration": 20,
    "start_time": "2023-03-23T14:55:39.325Z"
   },
   {
    "duration": 33,
    "start_time": "2023-03-23T14:55:39.347Z"
   },
   {
    "duration": 173,
    "start_time": "2023-03-23T14:55:39.382Z"
   },
   {
    "duration": 147,
    "start_time": "2023-03-23T14:55:39.557Z"
   },
   {
    "duration": 152,
    "start_time": "2023-03-23T14:55:39.706Z"
   },
   {
    "duration": 20,
    "start_time": "2023-03-23T14:55:39.860Z"
   },
   {
    "duration": 43,
    "start_time": "2023-03-23T14:55:39.882Z"
   },
   {
    "duration": 11,
    "start_time": "2023-03-23T14:55:39.927Z"
   },
   {
    "duration": 3,
    "start_time": "2023-03-23T14:55:39.940Z"
   },
   {
    "duration": 8,
    "start_time": "2023-03-23T14:55:39.945Z"
   },
   {
    "duration": 6934,
    "start_time": "2023-03-23T14:55:39.955Z"
   },
   {
    "duration": 6,
    "start_time": "2023-03-23T14:55:46.891Z"
   },
   {
    "duration": 169,
    "start_time": "2023-03-23T14:55:46.899Z"
   },
   {
    "duration": 5,
    "start_time": "2023-03-23T14:55:47.069Z"
   },
   {
    "duration": 60,
    "start_time": "2023-03-23T14:55:47.079Z"
   },
   {
    "duration": 43,
    "start_time": "2023-03-23T14:55:47.141Z"
   },
   {
    "duration": 10,
    "start_time": "2023-03-23T14:55:47.186Z"
   },
   {
    "duration": 36,
    "start_time": "2023-03-23T14:55:47.198Z"
   },
   {
    "duration": 51,
    "start_time": "2023-03-23T14:55:47.236Z"
   },
   {
    "duration": 7,
    "start_time": "2023-03-23T14:55:47.289Z"
   },
   {
    "duration": 67,
    "start_time": "2023-03-23T14:55:47.298Z"
   },
   {
    "duration": 5,
    "start_time": "2023-03-23T14:55:47.367Z"
   },
   {
    "duration": 20,
    "start_time": "2023-03-23T14:55:47.374Z"
   },
   {
    "duration": 27,
    "start_time": "2023-03-23T14:55:47.396Z"
   },
   {
    "duration": 38,
    "start_time": "2023-03-23T14:55:47.425Z"
   },
   {
    "duration": 695,
    "start_time": "2023-03-23T14:55:47.464Z"
   },
   {
    "duration": 3,
    "start_time": "2023-03-23T14:55:48.161Z"
   },
   {
    "duration": 40,
    "start_time": "2023-03-23T14:55:48.166Z"
   },
   {
    "duration": 180,
    "start_time": "2023-03-23T14:55:48.208Z"
   },
   {
    "duration": 440,
    "start_time": "2023-03-23T14:55:48.390Z"
   },
   {
    "duration": 4,
    "start_time": "2023-03-23T14:55:48.831Z"
   },
   {
    "duration": 16191,
    "start_time": "2023-03-23T14:55:48.837Z"
   },
   {
    "duration": 293,
    "start_time": "2023-03-23T14:56:05.031Z"
   },
   {
    "duration": 5,
    "start_time": "2023-03-23T14:56:05.330Z"
   },
   {
    "duration": 15,
    "start_time": "2023-03-23T14:56:40.646Z"
   },
   {
    "duration": 129,
    "start_time": "2023-03-23T14:57:35.453Z"
   },
   {
    "duration": 3,
    "start_time": "2023-03-23T14:57:39.950Z"
   },
   {
    "duration": 941,
    "start_time": "2023-03-23T14:57:42.179Z"
   },
   {
    "duration": 79,
    "start_time": "2023-03-23T14:57:54.017Z"
   },
   {
    "duration": 4,
    "start_time": "2023-03-23T14:57:56.088Z"
   },
   {
    "duration": 3,
    "start_time": "2023-03-23T14:58:12.076Z"
   },
   {
    "duration": 478512,
    "start_time": "2023-03-23T14:58:12.082Z"
   },
   {
    "duration": 11572,
    "start_time": "2023-03-23T15:06:10.597Z"
   },
   {
    "duration": 62,
    "start_time": "2023-03-23T15:06:22.171Z"
   },
   {
    "duration": 17,
    "start_time": "2023-03-23T15:06:22.236Z"
   },
   {
    "duration": 3,
    "start_time": "2023-03-23T15:06:22.255Z"
   },
   {
    "duration": 139,
    "start_time": "2023-03-23T15:06:22.260Z"
   },
   {
    "duration": 67,
    "start_time": "2023-03-23T15:06:22.401Z"
   },
   {
    "duration": 25,
    "start_time": "2023-03-23T15:06:22.471Z"
   },
   {
    "duration": 44,
    "start_time": "2023-03-23T15:06:22.498Z"
   },
   {
    "duration": 2,
    "start_time": "2023-03-23T15:06:22.544Z"
   },
   {
    "duration": 5,
    "start_time": "2023-03-23T15:06:22.548Z"
   },
   {
    "duration": 4,
    "start_time": "2023-03-23T15:06:22.554Z"
   },
   {
    "duration": 4,
    "start_time": "2023-03-23T15:06:22.559Z"
   },
   {
    "duration": 5,
    "start_time": "2023-03-23T15:06:22.564Z"
   },
   {
    "duration": 3,
    "start_time": "2023-03-23T15:06:22.571Z"
   },
   {
    "duration": 498162,
    "start_time": "2023-03-23T15:06:22.576Z"
   },
   {
    "duration": 8498,
    "start_time": "2023-03-23T15:14:40.740Z"
   },
   {
    "duration": 3,
    "start_time": "2023-03-23T15:14:49.240Z"
   },
   {
    "duration": 79697,
    "start_time": "2023-03-23T15:14:49.244Z"
   },
   {
    "duration": 11587,
    "start_time": "2023-03-23T15:16:08.943Z"
   },
   {
    "duration": 18,
    "start_time": "2023-03-23T15:16:20.532Z"
   },
   {
    "duration": 5,
    "start_time": "2023-03-23T15:16:20.552Z"
   },
   {
    "duration": 81466,
    "start_time": "2023-03-23T15:16:20.558Z"
   },
   {
    "duration": 11021,
    "start_time": "2023-03-23T15:17:42.026Z"
   },
   {
    "duration": 7,
    "start_time": "2023-03-23T15:17:53.049Z"
   },
   {
    "duration": 11198,
    "start_time": "2023-03-23T15:17:53.057Z"
   },
   {
    "duration": 1629,
    "start_time": "2023-03-24T09:32:12.781Z"
   },
   {
    "duration": 3233,
    "start_time": "2023-03-24T09:32:14.413Z"
   },
   {
    "duration": 3,
    "start_time": "2023-03-24T09:32:17.648Z"
   },
   {
    "duration": 209,
    "start_time": "2023-03-24T09:32:17.654Z"
   },
   {
    "duration": 808,
    "start_time": "2023-03-24T09:32:17.864Z"
   },
   {
    "duration": 15,
    "start_time": "2023-03-24T09:32:18.675Z"
   },
   {
    "duration": 71,
    "start_time": "2023-03-24T09:32:18.692Z"
   },
   {
    "duration": 61,
    "start_time": "2023-03-24T09:32:18.766Z"
   },
   {
    "duration": 12,
    "start_time": "2023-03-24T09:32:18.829Z"
   },
   {
    "duration": 5,
    "start_time": "2023-03-24T09:32:18.845Z"
   },
   {
    "duration": 73,
    "start_time": "2023-03-24T09:32:18.852Z"
   },
   {
    "duration": 307,
    "start_time": "2023-03-24T09:32:18.927Z"
   },
   {
    "duration": 21,
    "start_time": "2023-03-24T09:32:19.237Z"
   },
   {
    "duration": 7,
    "start_time": "2023-03-24T09:32:19.260Z"
   },
   {
    "duration": 19,
    "start_time": "2023-03-24T09:32:19.270Z"
   },
   {
    "duration": 19,
    "start_time": "2023-03-24T09:32:19.323Z"
   },
   {
    "duration": 10,
    "start_time": "2023-03-24T09:32:19.344Z"
   },
   {
    "duration": 18,
    "start_time": "2023-03-24T09:32:19.356Z"
   },
   {
    "duration": 53,
    "start_time": "2023-03-24T09:32:19.376Z"
   },
   {
    "duration": 5,
    "start_time": "2023-03-24T09:32:19.431Z"
   },
   {
    "duration": 49,
    "start_time": "2023-03-24T09:32:19.438Z"
   },
   {
    "duration": 42,
    "start_time": "2023-03-24T09:32:19.489Z"
   },
   {
    "duration": 9,
    "start_time": "2023-03-24T09:32:19.534Z"
   },
   {
    "duration": 8,
    "start_time": "2023-03-24T09:32:19.544Z"
   },
   {
    "duration": 12,
    "start_time": "2023-03-24T09:32:19.554Z"
   },
   {
    "duration": 5,
    "start_time": "2023-03-24T09:32:19.569Z"
   },
   {
    "duration": 68,
    "start_time": "2023-03-24T09:32:19.576Z"
   },
   {
    "duration": 192,
    "start_time": "2023-03-24T09:32:19.648Z"
   },
   {
    "duration": 163,
    "start_time": "2023-03-24T09:32:19.841Z"
   },
   {
    "duration": 22,
    "start_time": "2023-03-24T09:32:20.007Z"
   },
   {
    "duration": 14,
    "start_time": "2023-03-24T09:32:20.031Z"
   },
   {
    "duration": 17,
    "start_time": "2023-03-24T09:32:20.047Z"
   },
   {
    "duration": 7,
    "start_time": "2023-03-24T09:32:20.068Z"
   },
   {
    "duration": 133,
    "start_time": "2023-03-24T09:32:20.076Z"
   },
   {
    "duration": 19,
    "start_time": "2023-03-24T09:32:20.214Z"
   },
   {
    "duration": 5,
    "start_time": "2023-03-24T09:32:20.235Z"
   },
   {
    "duration": 60,
    "start_time": "2023-03-24T09:32:20.242Z"
   },
   {
    "duration": 26,
    "start_time": "2023-03-24T09:32:20.304Z"
   },
   {
    "duration": 211,
    "start_time": "2023-03-24T09:32:20.332Z"
   },
   {
    "duration": 10,
    "start_time": "2023-03-24T09:32:20.546Z"
   },
   {
    "duration": 20,
    "start_time": "2023-03-24T09:32:20.560Z"
   },
   {
    "duration": 48,
    "start_time": "2023-03-24T09:32:20.582Z"
   },
   {
    "duration": 42,
    "start_time": "2023-03-24T09:32:20.631Z"
   },
   {
    "duration": 55,
    "start_time": "2023-03-24T09:32:20.676Z"
   },
   {
    "duration": 5,
    "start_time": "2023-03-24T09:32:20.733Z"
   },
   {
    "duration": 49,
    "start_time": "2023-03-24T09:32:20.740Z"
   },
   {
    "duration": 32,
    "start_time": "2023-03-24T09:32:20.791Z"
   },
   {
    "duration": 41,
    "start_time": "2023-03-24T09:32:20.826Z"
   },
   {
    "duration": 33,
    "start_time": "2023-03-24T09:32:20.869Z"
   },
   {
    "duration": 4,
    "start_time": "2023-03-24T09:32:20.904Z"
   },
   {
    "duration": 53,
    "start_time": "2023-03-24T09:32:20.924Z"
   },
   {
    "duration": 46,
    "start_time": "2023-03-24T09:32:20.979Z"
   },
   {
    "duration": 39,
    "start_time": "2023-03-24T09:32:21.027Z"
   },
   {
    "duration": 5,
    "start_time": "2023-03-24T09:32:21.068Z"
   },
   {
    "duration": 96,
    "start_time": "2023-03-24T09:32:21.075Z"
   },
   {
    "duration": 41,
    "start_time": "2023-03-24T09:32:21.174Z"
   },
   {
    "duration": 81,
    "start_time": "2023-03-24T09:32:21.217Z"
   },
   {
    "duration": 169,
    "start_time": "2023-03-24T09:32:21.300Z"
   },
   {
    "duration": 6,
    "start_time": "2023-03-24T09:32:21.471Z"
   },
   {
    "duration": 17,
    "start_time": "2023-03-24T09:32:21.479Z"
   },
   {
    "duration": 2703,
    "start_time": "2023-03-24T09:32:21.499Z"
   },
   {
    "duration": 43,
    "start_time": "2023-03-24T09:32:24.204Z"
   },
   {
    "duration": 7,
    "start_time": "2023-03-24T09:32:24.249Z"
   },
   {
    "duration": 28,
    "start_time": "2023-03-24T09:32:24.258Z"
   },
   {
    "duration": 13,
    "start_time": "2023-03-24T09:32:24.288Z"
   },
   {
    "duration": 134,
    "start_time": "2023-03-24T09:32:24.303Z"
   },
   {
    "duration": 45,
    "start_time": "2023-03-24T09:32:24.440Z"
   },
   {
    "duration": 57,
    "start_time": "2023-03-24T09:32:24.488Z"
   },
   {
    "duration": 23,
    "start_time": "2023-03-24T09:32:24.547Z"
   },
   {
    "duration": 252,
    "start_time": "2023-03-24T09:32:24.571Z"
   },
   {
    "duration": 191,
    "start_time": "2023-03-24T09:32:24.825Z"
   },
   {
    "duration": 200,
    "start_time": "2023-03-24T09:32:25.022Z"
   },
   {
    "duration": 22,
    "start_time": "2023-03-24T09:32:25.224Z"
   },
   {
    "duration": 38,
    "start_time": "2023-03-24T09:32:25.248Z"
   },
   {
    "duration": 53,
    "start_time": "2023-03-24T09:32:25.288Z"
   },
   {
    "duration": 4,
    "start_time": "2023-03-24T09:32:25.343Z"
   },
   {
    "duration": 15,
    "start_time": "2023-03-24T09:32:25.349Z"
   },
   {
    "duration": 7599,
    "start_time": "2023-03-24T09:32:25.366Z"
   },
   {
    "duration": 9,
    "start_time": "2023-03-24T09:32:32.968Z"
   },
   {
    "duration": 230,
    "start_time": "2023-03-24T09:32:32.979Z"
   },
   {
    "duration": 8,
    "start_time": "2023-03-24T09:32:33.214Z"
   },
   {
    "duration": 63,
    "start_time": "2023-03-24T09:32:33.229Z"
   },
   {
    "duration": 61,
    "start_time": "2023-03-24T09:32:33.295Z"
   },
   {
    "duration": 10,
    "start_time": "2023-03-24T09:32:33.358Z"
   },
   {
    "duration": 17,
    "start_time": "2023-03-24T09:32:33.370Z"
   },
   {
    "duration": 93,
    "start_time": "2023-03-24T09:32:33.389Z"
   },
   {
    "duration": 7,
    "start_time": "2023-03-24T09:32:33.484Z"
   },
   {
    "duration": 63,
    "start_time": "2023-03-24T09:32:33.494Z"
   },
   {
    "duration": 5,
    "start_time": "2023-03-24T09:32:33.559Z"
   },
   {
    "duration": 39,
    "start_time": "2023-03-24T09:32:33.567Z"
   },
   {
    "duration": 16,
    "start_time": "2023-03-24T09:32:33.608Z"
   },
   {
    "duration": 49,
    "start_time": "2023-03-24T09:32:33.626Z"
   },
   {
    "duration": 748,
    "start_time": "2023-03-24T09:32:33.677Z"
   },
   {
    "duration": 5,
    "start_time": "2023-03-24T09:32:34.428Z"
   },
   {
    "duration": 58,
    "start_time": "2023-03-24T09:32:34.435Z"
   },
   {
    "duration": 175,
    "start_time": "2023-03-24T09:32:34.495Z"
   },
   {
    "duration": 476,
    "start_time": "2023-03-24T09:32:34.672Z"
   },
   {
    "duration": 5,
    "start_time": "2023-03-24T09:32:35.151Z"
   },
   {
    "duration": 18573,
    "start_time": "2023-03-24T09:32:35.158Z"
   },
   {
    "duration": 292,
    "start_time": "2023-03-24T09:32:53.732Z"
   },
   {
    "duration": 110,
    "start_time": "2023-03-24T09:37:32.807Z"
   },
   {
    "duration": 17,
    "start_time": "2023-03-24T09:37:44.117Z"
   },
   {
    "duration": 144,
    "start_time": "2023-03-24T09:37:50.378Z"
   },
   {
    "duration": 3,
    "start_time": "2023-03-24T09:37:53.250Z"
   },
   {
    "duration": 9,
    "start_time": "2023-03-24T09:39:29.379Z"
   },
   {
    "duration": 669,
    "start_time": "2023-03-24T09:49:20.012Z"
   },
   {
    "duration": 165,
    "start_time": "2023-03-24T09:50:24.320Z"
   },
   {
    "duration": 2,
    "start_time": "2023-03-24T09:51:37.146Z"
   },
   {
    "duration": 3,
    "start_time": "2023-03-24T09:51:43.740Z"
   },
   {
    "duration": 447361,
    "start_time": "2023-03-24T09:51:43.746Z"
   },
   {
    "duration": 11418,
    "start_time": "2023-03-24T09:59:11.109Z"
   },
   {
    "duration": 47,
    "start_time": "2023-03-24T09:59:22.529Z"
   },
   {
    "duration": 17,
    "start_time": "2023-03-24T09:59:22.578Z"
   },
   {
    "duration": 3,
    "start_time": "2023-03-24T09:59:22.596Z"
   },
   {
    "duration": 141,
    "start_time": "2023-03-24T09:59:22.601Z"
   },
   {
    "duration": 61,
    "start_time": "2023-03-24T09:59:22.744Z"
   },
   {
    "duration": 33,
    "start_time": "2023-03-24T09:59:22.806Z"
   },
   {
    "duration": 19,
    "start_time": "2023-03-24T09:59:22.841Z"
   },
   {
    "duration": 3,
    "start_time": "2023-03-24T09:59:22.862Z"
   },
   {
    "duration": 5,
    "start_time": "2023-03-24T09:59:22.866Z"
   },
   {
    "duration": 7,
    "start_time": "2023-03-24T09:59:22.872Z"
   },
   {
    "duration": 6,
    "start_time": "2023-03-24T09:59:22.881Z"
   },
   {
    "duration": 5,
    "start_time": "2023-03-24T09:59:22.888Z"
   },
   {
    "duration": 5,
    "start_time": "2023-03-24T09:59:22.894Z"
   },
   {
    "duration": 59214,
    "start_time": "2023-03-24T09:59:22.923Z"
   },
   {
    "duration": 8404,
    "start_time": "2023-03-24T10:00:22.139Z"
   },
   {
    "duration": 4,
    "start_time": "2023-03-24T10:00:30.546Z"
   },
   {
    "duration": 27,
    "start_time": "2023-03-24T10:00:30.552Z"
   },
   {
    "duration": 46,
    "start_time": "2023-03-24T10:00:30.581Z"
   },
   {
    "duration": 45,
    "start_time": "2023-03-24T10:00:30.628Z"
   },
   {
    "duration": 41,
    "start_time": "2023-03-24T10:00:30.675Z"
   },
   {
    "duration": 29,
    "start_time": "2023-03-24T10:00:30.718Z"
   },
   {
    "duration": 43,
    "start_time": "2023-03-24T10:00:30.750Z"
   },
   {
    "duration": 29,
    "start_time": "2023-03-24T10:00:30.796Z"
   },
   {
    "duration": 11137,
    "start_time": "2023-03-24T10:00:30.827Z"
   },
   {
    "duration": 8,
    "start_time": "2023-03-24T10:06:58.803Z"
   },
   {
    "duration": 199,
    "start_time": "2023-03-24T12:44:03.681Z"
   },
   {
    "duration": 1806,
    "start_time": "2023-06-20T09:50:25.744Z"
   },
   {
    "duration": 3194,
    "start_time": "2023-06-20T09:50:27.553Z"
   },
   {
    "duration": 4,
    "start_time": "2023-06-20T09:50:30.749Z"
   },
   {
    "duration": 177,
    "start_time": "2023-06-20T09:50:30.756Z"
   },
   {
    "duration": 830,
    "start_time": "2023-06-20T09:50:30.936Z"
   },
   {
    "duration": 15,
    "start_time": "2023-06-20T09:50:31.768Z"
   },
   {
    "duration": 90,
    "start_time": "2023-06-20T09:50:31.785Z"
   },
   {
    "duration": 68,
    "start_time": "2023-06-20T09:50:31.877Z"
   },
   {
    "duration": 32,
    "start_time": "2023-06-20T09:50:31.947Z"
   },
   {
    "duration": 62,
    "start_time": "2023-06-20T09:50:31.983Z"
   },
   {
    "duration": 127,
    "start_time": "2023-06-20T09:50:32.047Z"
   },
   {
    "duration": 399,
    "start_time": "2023-06-20T09:50:32.175Z"
   },
   {
    "duration": 18,
    "start_time": "2023-06-20T09:50:32.576Z"
   },
   {
    "duration": 15,
    "start_time": "2023-06-20T09:50:32.597Z"
   },
   {
    "duration": 16,
    "start_time": "2023-06-20T09:50:32.614Z"
   },
   {
    "duration": 39,
    "start_time": "2023-06-20T09:50:32.632Z"
   },
   {
    "duration": 12,
    "start_time": "2023-06-20T09:50:32.673Z"
   },
   {
    "duration": 28,
    "start_time": "2023-06-20T09:50:32.687Z"
   },
   {
    "duration": 17,
    "start_time": "2023-06-20T09:50:32.718Z"
   },
   {
    "duration": 4,
    "start_time": "2023-06-20T09:50:32.758Z"
   },
   {
    "duration": 76,
    "start_time": "2023-06-20T09:50:32.764Z"
   },
   {
    "duration": 37,
    "start_time": "2023-06-20T09:50:32.842Z"
   },
   {
    "duration": 9,
    "start_time": "2023-06-20T09:50:32.882Z"
   },
   {
    "duration": 12,
    "start_time": "2023-06-20T09:50:32.894Z"
   },
   {
    "duration": 54,
    "start_time": "2023-06-20T09:50:32.908Z"
   },
   {
    "duration": 5,
    "start_time": "2023-06-20T09:50:32.965Z"
   },
   {
    "duration": 46,
    "start_time": "2023-06-20T09:50:32.972Z"
   },
   {
    "duration": 224,
    "start_time": "2023-06-20T09:50:33.022Z"
   },
   {
    "duration": 176,
    "start_time": "2023-06-20T09:50:33.248Z"
   },
   {
    "duration": 9,
    "start_time": "2023-06-20T09:50:33.426Z"
   },
   {
    "duration": 33,
    "start_time": "2023-06-20T09:50:33.438Z"
   },
   {
    "duration": 23,
    "start_time": "2023-06-20T09:50:33.474Z"
   },
   {
    "duration": 9,
    "start_time": "2023-06-20T09:50:33.500Z"
   },
   {
    "duration": 106,
    "start_time": "2023-06-20T09:50:33.511Z"
   },
   {
    "duration": 21,
    "start_time": "2023-06-20T09:50:33.619Z"
   },
   {
    "duration": 5,
    "start_time": "2023-06-20T09:50:33.656Z"
   },
   {
    "duration": 66,
    "start_time": "2023-06-20T09:50:33.663Z"
   },
   {
    "duration": 26,
    "start_time": "2023-06-20T09:50:33.732Z"
   },
   {
    "duration": 330,
    "start_time": "2023-06-20T09:50:33.761Z"
   },
   {
    "duration": 8,
    "start_time": "2023-06-20T09:50:34.093Z"
   },
   {
    "duration": 60,
    "start_time": "2023-06-20T09:50:34.104Z"
   },
   {
    "duration": 30,
    "start_time": "2023-06-20T09:50:34.166Z"
   },
   {
    "duration": 97,
    "start_time": "2023-06-20T09:50:34.198Z"
   },
   {
    "duration": 77,
    "start_time": "2023-06-20T09:50:34.297Z"
   },
   {
    "duration": 6,
    "start_time": "2023-06-20T09:50:34.377Z"
   },
   {
    "duration": 103,
    "start_time": "2023-06-20T09:50:34.386Z"
   },
   {
    "duration": 72,
    "start_time": "2023-06-20T09:50:34.491Z"
   },
   {
    "duration": 94,
    "start_time": "2023-06-20T09:50:34.566Z"
   },
   {
    "duration": 102,
    "start_time": "2023-06-20T09:50:34.663Z"
   },
   {
    "duration": 5,
    "start_time": "2023-06-20T09:50:34.768Z"
   },
   {
    "duration": 124,
    "start_time": "2023-06-20T09:50:34.775Z"
   },
   {
    "duration": 103,
    "start_time": "2023-06-20T09:50:34.958Z"
   },
   {
    "duration": 39,
    "start_time": "2023-06-20T09:50:35.064Z"
   },
   {
    "duration": 5,
    "start_time": "2023-06-20T09:50:35.157Z"
   },
   {
    "duration": 136,
    "start_time": "2023-06-20T09:50:35.165Z"
   },
   {
    "duration": 96,
    "start_time": "2023-06-20T09:50:35.303Z"
   },
   {
    "duration": 89,
    "start_time": "2023-06-20T09:50:35.402Z"
   },
   {
    "duration": 589,
    "start_time": "2023-06-20T09:50:35.493Z"
   },
   {
    "duration": 5,
    "start_time": "2023-06-20T09:50:36.084Z"
   },
   {
    "duration": 65,
    "start_time": "2023-06-20T09:50:36.091Z"
   },
   {
    "duration": 2742,
    "start_time": "2023-06-20T09:50:36.159Z"
   },
   {
    "duration": 70,
    "start_time": "2023-06-20T09:50:38.903Z"
   },
   {
    "duration": 8,
    "start_time": "2023-06-20T09:50:38.976Z"
   },
   {
    "duration": 27,
    "start_time": "2023-06-20T09:50:38.987Z"
   },
   {
    "duration": 46,
    "start_time": "2023-06-20T09:50:39.017Z"
   },
   {
    "duration": 132,
    "start_time": "2023-06-20T09:50:39.065Z"
   },
   {
    "duration": 42,
    "start_time": "2023-06-20T09:50:39.204Z"
   },
   {
    "duration": 30,
    "start_time": "2023-06-20T09:50:39.257Z"
   },
   {
    "duration": 23,
    "start_time": "2023-06-20T09:50:39.289Z"
   },
   {
    "duration": 237,
    "start_time": "2023-06-20T09:50:39.314Z"
   },
   {
    "duration": 222,
    "start_time": "2023-06-20T09:50:39.556Z"
   },
   {
    "duration": 159,
    "start_time": "2023-06-20T09:50:39.780Z"
   },
   {
    "duration": 30,
    "start_time": "2023-06-20T09:50:39.941Z"
   },
   {
    "duration": 34,
    "start_time": "2023-06-20T09:50:39.973Z"
   },
   {
    "duration": 59,
    "start_time": "2023-06-20T09:50:40.010Z"
   },
   {
    "duration": 5,
    "start_time": "2023-06-20T09:50:40.071Z"
   },
   {
    "duration": 21,
    "start_time": "2023-06-20T09:50:40.078Z"
   },
   {
    "duration": 7104,
    "start_time": "2023-06-20T09:50:40.101Z"
   },
   {
    "duration": 10,
    "start_time": "2023-06-20T09:50:47.207Z"
   },
   {
    "duration": 198,
    "start_time": "2023-06-20T09:50:47.219Z"
   },
   {
    "duration": 6,
    "start_time": "2023-06-20T09:50:47.419Z"
   },
   {
    "duration": 85,
    "start_time": "2023-06-20T09:50:47.432Z"
   },
   {
    "duration": 53,
    "start_time": "2023-06-20T09:50:47.519Z"
   },
   {
    "duration": 11,
    "start_time": "2023-06-20T09:50:47.573Z"
   },
   {
    "duration": 35,
    "start_time": "2023-06-20T09:50:47.586Z"
   },
   {
    "duration": 73,
    "start_time": "2023-06-20T09:50:47.623Z"
   },
   {
    "duration": 7,
    "start_time": "2023-06-20T09:50:47.698Z"
   },
   {
    "duration": 78,
    "start_time": "2023-06-20T09:50:47.707Z"
   },
   {
    "duration": 7,
    "start_time": "2023-06-20T09:50:47.788Z"
   },
   {
    "duration": 21,
    "start_time": "2023-06-20T09:50:47.797Z"
   },
   {
    "duration": 15,
    "start_time": "2023-06-20T09:50:47.820Z"
   },
   {
    "duration": 74,
    "start_time": "2023-06-20T09:50:47.837Z"
   },
   {
    "duration": 1007,
    "start_time": "2023-06-20T09:50:47.913Z"
   },
   {
    "duration": 4,
    "start_time": "2023-06-20T09:50:48.922Z"
   },
   {
    "duration": 59,
    "start_time": "2023-06-20T09:50:48.928Z"
   },
   {
    "duration": 254,
    "start_time": "2023-06-20T09:50:48.989Z"
   },
   {
    "duration": 566,
    "start_time": "2023-06-20T09:50:49.245Z"
   },
   {
    "duration": 5,
    "start_time": "2023-06-20T09:50:49.814Z"
   },
   {
    "duration": 20849,
    "start_time": "2023-06-20T09:50:49.822Z"
   },
   {
    "duration": 302,
    "start_time": "2023-06-20T09:51:10.680Z"
   },
   {
    "duration": 61,
    "start_time": "2023-06-20T09:51:10.999Z"
   },
   {
    "duration": 93,
    "start_time": "2023-06-20T09:51:11.067Z"
   },
   {
    "duration": 227,
    "start_time": "2023-06-20T09:51:11.163Z"
   },
   {
    "duration": 5,
    "start_time": "2023-06-20T09:51:11.393Z"
   },
   {
    "duration": 739,
    "start_time": "2023-06-20T09:51:11.401Z"
   },
   {
    "duration": 184,
    "start_time": "2023-06-20T09:51:12.142Z"
   },
   {
    "duration": 4,
    "start_time": "2023-06-20T09:51:12.329Z"
   },
   {
    "duration": 527896,
    "start_time": "2023-06-20T09:51:12.335Z"
   },
   {
    "duration": 12893,
    "start_time": "2023-06-20T10:00:00.232Z"
   },
   {
    "duration": 257,
    "start_time": "2023-06-20T10:00:13.127Z"
   },
   {
    "duration": 23,
    "start_time": "2023-06-20T10:00:13.386Z"
   },
   {
    "duration": 4,
    "start_time": "2023-06-20T10:00:13.411Z"
   },
   {
    "duration": 204,
    "start_time": "2023-06-20T10:00:13.418Z"
   },
   {
    "duration": 73,
    "start_time": "2023-06-20T10:00:13.624Z"
   },
   {
    "duration": 37,
    "start_time": "2023-06-20T10:00:13.699Z"
   },
   {
    "duration": 33,
    "start_time": "2023-06-20T10:00:13.756Z"
   },
   {
    "duration": 3,
    "start_time": "2023-06-20T10:00:13.791Z"
   },
   {
    "duration": 12,
    "start_time": "2023-06-20T10:00:13.796Z"
   },
   {
    "duration": 18,
    "start_time": "2023-06-20T10:00:13.810Z"
   },
   {
    "duration": 13,
    "start_time": "2023-06-20T10:00:13.830Z"
   },
   {
    "duration": 14,
    "start_time": "2023-06-20T10:00:13.846Z"
   },
   {
    "duration": 26,
    "start_time": "2023-06-20T10:00:13.862Z"
   }
  ],
  "kernelspec": {
   "display_name": "Python 3 (ipykernel)",
   "language": "python",
   "name": "python3"
  },
  "language_info": {
   "codemirror_mode": {
    "name": "ipython",
    "version": 3
   },
   "file_extension": ".py",
   "mimetype": "text/x-python",
   "name": "python",
   "nbconvert_exporter": "python",
   "pygments_lexer": "ipython3",
   "version": "3.8.16"
  },
  "toc": {
   "base_numbering": 1,
   "nav_menu": {},
   "number_sections": true,
   "sideBar": true,
   "skip_h1_title": true,
   "title_cell": "Table of Contents",
   "title_sidebar": "Contents",
   "toc_cell": false,
   "toc_position": {
    "height": "calc(100% - 180px)",
    "left": "10px",
    "top": "150px",
    "width": "270.1875px"
   },
   "toc_section_display": true,
   "toc_window_display": true
  }
 },
 "nbformat": 4,
 "nbformat_minor": 2
}
