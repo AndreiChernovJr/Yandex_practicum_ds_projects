{
 "cells": [
  {
   "cell_type": "markdown",
   "metadata": {
    "toc": true
   },
   "source": [
    "<h1>Содержание<span class=\"tocSkip\"></span></h1>\n",
    "<div class=\"toc\"><ul class=\"toc-item\"><li><span><a href=\"#Подготовка\" data-toc-modified-id=\"Подготовка-1\"><span class=\"toc-item-num\">1&nbsp;&nbsp;</span>Подготовка</a></span><ul class=\"toc-item\"><li><span><a href=\"#Начало-лемматизации\" data-toc-modified-id=\"Начало-лемматизации-1.1\"><span class=\"toc-item-num\">1.1&nbsp;&nbsp;</span>Начало лемматизации</a></span></li><li><span><a href=\"#Оценка-Spacy\" data-toc-modified-id=\"Оценка-Spacy-1.2\"><span class=\"toc-item-num\">1.2&nbsp;&nbsp;</span>Оценка Spacy</a></span></li></ul></li><li><span><a href=\"#Обучение\" data-toc-modified-id=\"Обучение-2\"><span class=\"toc-item-num\">2&nbsp;&nbsp;</span>Обучение</a></span><ul class=\"toc-item\"><li><span><a href=\"#С-обычной-векторизацией\" data-toc-modified-id=\"С-обычной-векторизацией-2.1\"><span class=\"toc-item-num\">2.1&nbsp;&nbsp;</span>С обычной векторизацией</a></span></li><li><span><a href=\"#C-TFIDF--векторизацией\" data-toc-modified-id=\"C-TFIDF--векторизацией-2.2\"><span class=\"toc-item-num\">2.2&nbsp;&nbsp;</span>C TFIDF  векторизацией</a></span></li></ul></li><li><span><a href=\"#Тестирование\" data-toc-modified-id=\"Тестирование-3\"><span class=\"toc-item-num\">3&nbsp;&nbsp;</span>Тестирование</a></span></li><li><span><a href=\"#Выводы\" data-toc-modified-id=\"Выводы-4\"><span class=\"toc-item-num\">4&nbsp;&nbsp;</span>Выводы</a></span></li><li><span><a href=\"#Чек-лист-проверки\" data-toc-modified-id=\"Чек-лист-проверки-5\"><span class=\"toc-item-num\">5&nbsp;&nbsp;</span>Чек-лист проверки</a></span></li></ul></div>"
   ]
  },
  {
   "cell_type": "markdown",
   "metadata": {},
   "source": [
    "# Проект для «Викишоп»"
   ]
  },
  {
   "cell_type": "markdown",
   "metadata": {},
   "source": [
    "Интернет-магазин «Викишоп» запускает новый сервис. Теперь пользователи могут редактировать и дополнять описания товаров, как в вики-сообществах. То есть клиенты предлагают свои правки и комментируют изменения других. Магазину нужен инструмент, который будет искать токсичные комментарии и отправлять их на модерацию. \n",
    "\n",
    "Наша цель - обучить модель классифицировать комментарии на позитивные и негативные. В нашем распоряжении набор данных с разметкой о токсичности правок.\n",
    "\n",
    "Значение метрики качества *F1* должно быть не меньше 0.75. \n",
    "\n",
    "**Инструкция по выполнению проекта**\n",
    "\n",
    "1. Загрузить и подготовить данные.\n",
    "2. Обучить разные модели. \n",
    "3. Сделать выводы.\n",
    "\n",
    "**Описание данных**\n",
    "\n",
    "Данные находятся в файле `toxic_comments.csv`. Столбец *text* в нём содержит текст комментария, а *toxic* — целевой признак."
   ]
  },
  {
   "cell_type": "markdown",
   "metadata": {},
   "source": [
    "## Подготовка"
   ]
  },
  {
   "cell_type": "code",
   "execution_count": 1,
   "metadata": {},
   "outputs": [],
   "source": [
    "import numpy as np\n",
    "import pandas as pd\n",
    "import matplotlib as plt\n",
    "import seaborn as sns\n",
    "\n",
    "from tqdm import tqdm\n",
    "from tqdm import notebook\n",
    "\n",
    "from sklearn.linear_model import LogisticRegression\n",
    "from sklearn.model_selection import cross_val_score\n",
    "from sklearn.model_selection import train_test_split\n",
    "from sklearn.model_selection import cross_val_score\n",
    "from sklearn.metrics import f1_score\n",
    "from sklearn.metrics import classification_report\n",
    "from sklearn.metrics import confusion_matrix\n",
    "from sklearn.metrics import plot_roc_curve\n",
    "from sklearn.metrics import roc_curve \n",
    "from sklearn.tree import DecisionTreeClassifier\n",
    "from sklearn.ensemble import RandomForestClassifier\n",
    "from sklearn.feature_extraction.text import CountVectorizer\n",
    "from sklearn.feature_extraction.text import TfidfVectorizer\n",
    "from sklearn.pipeline import make_pipeline\n",
    "from sklearn.preprocessing import StandardScaler\n",
    "\n",
    "import lightgbm as lgb\n",
    "\n",
    "from joblib import dump\n",
    "\n",
    "import time\n",
    "\n",
    "import re\n",
    "\n",
    "import nltk\n",
    "from nltk.corpus import stopwords as nltk_stopwords\n",
    "from nltk.stem import WordNetLemmatizer\n",
    "from nltk.corpus import wordnet\n",
    "\n",
    "import spacy"
   ]
  },
  {
   "cell_type": "code",
   "execution_count": 2,
   "metadata": {},
   "outputs": [],
   "source": [
    "data = pd.read_csv('/datasets/toxic_comments.csv')"
   ]
  },
  {
   "cell_type": "code",
   "execution_count": 3,
   "metadata": {},
   "outputs": [
    {
     "data": {
      "text/html": [
       "<div>\n",
       "<style scoped>\n",
       "    .dataframe tbody tr th:only-of-type {\n",
       "        vertical-align: middle;\n",
       "    }\n",
       "\n",
       "    .dataframe tbody tr th {\n",
       "        vertical-align: top;\n",
       "    }\n",
       "\n",
       "    .dataframe thead th {\n",
       "        text-align: right;\n",
       "    }\n",
       "</style>\n",
       "<table border=\"1\" class=\"dataframe\">\n",
       "  <thead>\n",
       "    <tr style=\"text-align: right;\">\n",
       "      <th></th>\n",
       "      <th>Unnamed: 0</th>\n",
       "      <th>text</th>\n",
       "      <th>toxic</th>\n",
       "    </tr>\n",
       "  </thead>\n",
       "  <tbody>\n",
       "    <tr>\n",
       "      <th>0</th>\n",
       "      <td>0</td>\n",
       "      <td>Explanation\\nWhy the edits made under my usern...</td>\n",
       "      <td>0</td>\n",
       "    </tr>\n",
       "    <tr>\n",
       "      <th>1</th>\n",
       "      <td>1</td>\n",
       "      <td>D'aww! He matches this background colour I'm s...</td>\n",
       "      <td>0</td>\n",
       "    </tr>\n",
       "    <tr>\n",
       "      <th>2</th>\n",
       "      <td>2</td>\n",
       "      <td>Hey man, I'm really not trying to edit war. It...</td>\n",
       "      <td>0</td>\n",
       "    </tr>\n",
       "    <tr>\n",
       "      <th>3</th>\n",
       "      <td>3</td>\n",
       "      <td>\"\\nMore\\nI can't make any real suggestions on ...</td>\n",
       "      <td>0</td>\n",
       "    </tr>\n",
       "    <tr>\n",
       "      <th>4</th>\n",
       "      <td>4</td>\n",
       "      <td>You, sir, are my hero. Any chance you remember...</td>\n",
       "      <td>0</td>\n",
       "    </tr>\n",
       "    <tr>\n",
       "      <th>...</th>\n",
       "      <td>...</td>\n",
       "      <td>...</td>\n",
       "      <td>...</td>\n",
       "    </tr>\n",
       "    <tr>\n",
       "      <th>159287</th>\n",
       "      <td>159446</td>\n",
       "      <td>\":::::And for the second time of asking, when ...</td>\n",
       "      <td>0</td>\n",
       "    </tr>\n",
       "    <tr>\n",
       "      <th>159288</th>\n",
       "      <td>159447</td>\n",
       "      <td>You should be ashamed of yourself \\n\\nThat is ...</td>\n",
       "      <td>0</td>\n",
       "    </tr>\n",
       "    <tr>\n",
       "      <th>159289</th>\n",
       "      <td>159448</td>\n",
       "      <td>Spitzer \\n\\nUmm, theres no actual article for ...</td>\n",
       "      <td>0</td>\n",
       "    </tr>\n",
       "    <tr>\n",
       "      <th>159290</th>\n",
       "      <td>159449</td>\n",
       "      <td>And it looks like it was actually you who put ...</td>\n",
       "      <td>0</td>\n",
       "    </tr>\n",
       "    <tr>\n",
       "      <th>159291</th>\n",
       "      <td>159450</td>\n",
       "      <td>\"\\nAnd ... I really don't think you understand...</td>\n",
       "      <td>0</td>\n",
       "    </tr>\n",
       "  </tbody>\n",
       "</table>\n",
       "<p>159292 rows × 3 columns</p>\n",
       "</div>"
      ],
      "text/plain": [
       "        Unnamed: 0                                               text  toxic\n",
       "0                0  Explanation\\nWhy the edits made under my usern...      0\n",
       "1                1  D'aww! He matches this background colour I'm s...      0\n",
       "2                2  Hey man, I'm really not trying to edit war. It...      0\n",
       "3                3  \"\\nMore\\nI can't make any real suggestions on ...      0\n",
       "4                4  You, sir, are my hero. Any chance you remember...      0\n",
       "...            ...                                                ...    ...\n",
       "159287      159446  \":::::And for the second time of asking, when ...      0\n",
       "159288      159447  You should be ashamed of yourself \\n\\nThat is ...      0\n",
       "159289      159448  Spitzer \\n\\nUmm, theres no actual article for ...      0\n",
       "159290      159449  And it looks like it was actually you who put ...      0\n",
       "159291      159450  \"\\nAnd ... I really don't think you understand...      0\n",
       "\n",
       "[159292 rows x 3 columns]"
      ]
     },
     "metadata": {},
     "output_type": "display_data"
    }
   ],
   "source": [
    "display(data)"
   ]
  },
  {
   "cell_type": "markdown",
   "metadata": {},
   "source": [
    "Давайте посмотрим, что за токсичные комментарии? "
   ]
  },
  {
   "cell_type": "code",
   "execution_count": 4,
   "metadata": {},
   "outputs": [
    {
     "name": "stdout",
     "output_type": "stream",
     "text": [
      "        Unnamed: 0                                               text  toxic\n",
      "158989      159148  Hi Bading \\nPutang ina mong bakla ka. Fuck you...      1\n",
      "158995      159154  \"\\n\\nStudy some linguistics before you say som...      1\n",
      "159002      159161  LoL!! \\n\\nyou're GAY!! you will never know how...      1\n",
      "159011      159170  Hey alabamoy boy why dont you stick your head ...      1\n",
      "159019      159178           , are you dumber than you look? asshole.      1\n",
      "159022      159181  The first of your links is something to agree ...      1\n",
      "159033      159192  Walter Mercado \\n\\nAntonio, quite frankly, you...      1\n",
      "159036      159195  http://www.nysun.com/article/23698 - public in...      1\n",
      "159055      159214  Horse's ass \\n\\nSeriously, dude, what's that h...      1\n",
      "159057      159216  Oh, fuck off. The pansy Jew would just whine a...      1\n",
      "159063      159222  Fuck off turd. Don't ever ban me again you cun...      1\n",
      "159079      159238  Goethean and me\\n\\nI would like you to know I ...      1\n",
      "159089      159248  \"\\n\\n Palin/Satan 2012 \\n\\nWow, what a surpris...      1\n",
      "159099      159258  GO AHEAD AND FUCKING BAN ME ~ LIKE THAT WILL H...      1\n",
      "159103      159262                      shut up you goddamn assclown.      1\n",
      "159107      159266  Stop telling lies and trying to promote your p...      1\n",
      "159115      159274                   your boring \\n\\nand retarded two      1\n",
      "159119      159278  Why did that idiot revert the reversion I made...      1\n",
      "159121      159280  Shalom \\n\\nSemite, get the fuck out of here. I...      1\n",
      "159132      159291  Fat piece of shit \\n\\nyou obese piece of shit....      1\n",
      "159144      159303  PS:  you're all middle-aged losers at home in ...      1\n",
      "159169      159328                                Yeah i no it sucks.      1\n",
      "159170      159329                         I think he is a gay fag!!!      1\n",
      "159199      159358  \"\\nThank you. Given the misuse of tools here a...      1\n",
      "159214      159373                         FUCKING FAGGOT \\n\\nLOLWAT.      1\n",
      "159215      159374  \"\\n\\n our previous conversation \\n\\nyou fuckin...      1\n",
      "159235      159394                  YOU ARE A MISCHIEVIOUS PUBIC HAIR      1\n",
      "159262      159421  Your absurd edits \\n\\nYour absurd edits on gre...      1\n",
      "159267      159426  \"\\n\\nHey listen don't you ever!!!! Delete my e...      1\n",
      "159275      159434  and i'm going to keep posting the stuff u dele...      1\n"
     ]
    }
   ],
   "source": [
    "print(data[data['toxic']==1].tail(30))"
   ]
  },
  {
   "cell_type": "markdown",
   "metadata": {},
   "source": [
    "Теперь мы можем продемонстрировать, от чего защищаем наш толерантный мир.\n",
    "\n",
    "Также сразу можем лишнюю колоночку убрать."
   ]
  },
  {
   "cell_type": "code",
   "execution_count": 5,
   "metadata": {},
   "outputs": [
    {
     "data": {
      "text/html": [
       "<div>\n",
       "<style scoped>\n",
       "    .dataframe tbody tr th:only-of-type {\n",
       "        vertical-align: middle;\n",
       "    }\n",
       "\n",
       "    .dataframe tbody tr th {\n",
       "        vertical-align: top;\n",
       "    }\n",
       "\n",
       "    .dataframe thead th {\n",
       "        text-align: right;\n",
       "    }\n",
       "</style>\n",
       "<table border=\"1\" class=\"dataframe\">\n",
       "  <thead>\n",
       "    <tr style=\"text-align: right;\">\n",
       "      <th></th>\n",
       "      <th>text</th>\n",
       "      <th>toxic</th>\n",
       "    </tr>\n",
       "  </thead>\n",
       "  <tbody>\n",
       "    <tr>\n",
       "      <th>0</th>\n",
       "      <td>Explanation\\nWhy the edits made under my usern...</td>\n",
       "      <td>0</td>\n",
       "    </tr>\n",
       "    <tr>\n",
       "      <th>1</th>\n",
       "      <td>D'aww! He matches this background colour I'm s...</td>\n",
       "      <td>0</td>\n",
       "    </tr>\n",
       "    <tr>\n",
       "      <th>2</th>\n",
       "      <td>Hey man, I'm really not trying to edit war. It...</td>\n",
       "      <td>0</td>\n",
       "    </tr>\n",
       "    <tr>\n",
       "      <th>3</th>\n",
       "      <td>\"\\nMore\\nI can't make any real suggestions on ...</td>\n",
       "      <td>0</td>\n",
       "    </tr>\n",
       "    <tr>\n",
       "      <th>4</th>\n",
       "      <td>You, sir, are my hero. Any chance you remember...</td>\n",
       "      <td>0</td>\n",
       "    </tr>\n",
       "    <tr>\n",
       "      <th>...</th>\n",
       "      <td>...</td>\n",
       "      <td>...</td>\n",
       "    </tr>\n",
       "    <tr>\n",
       "      <th>159287</th>\n",
       "      <td>\":::::And for the second time of asking, when ...</td>\n",
       "      <td>0</td>\n",
       "    </tr>\n",
       "    <tr>\n",
       "      <th>159288</th>\n",
       "      <td>You should be ashamed of yourself \\n\\nThat is ...</td>\n",
       "      <td>0</td>\n",
       "    </tr>\n",
       "    <tr>\n",
       "      <th>159289</th>\n",
       "      <td>Spitzer \\n\\nUmm, theres no actual article for ...</td>\n",
       "      <td>0</td>\n",
       "    </tr>\n",
       "    <tr>\n",
       "      <th>159290</th>\n",
       "      <td>And it looks like it was actually you who put ...</td>\n",
       "      <td>0</td>\n",
       "    </tr>\n",
       "    <tr>\n",
       "      <th>159291</th>\n",
       "      <td>\"\\nAnd ... I really don't think you understand...</td>\n",
       "      <td>0</td>\n",
       "    </tr>\n",
       "  </tbody>\n",
       "</table>\n",
       "<p>159292 rows × 2 columns</p>\n",
       "</div>"
      ],
      "text/plain": [
       "                                                     text  toxic\n",
       "0       Explanation\\nWhy the edits made under my usern...      0\n",
       "1       D'aww! He matches this background colour I'm s...      0\n",
       "2       Hey man, I'm really not trying to edit war. It...      0\n",
       "3       \"\\nMore\\nI can't make any real suggestions on ...      0\n",
       "4       You, sir, are my hero. Any chance you remember...      0\n",
       "...                                                   ...    ...\n",
       "159287  \":::::And for the second time of asking, when ...      0\n",
       "159288  You should be ashamed of yourself \\n\\nThat is ...      0\n",
       "159289  Spitzer \\n\\nUmm, theres no actual article for ...      0\n",
       "159290  And it looks like it was actually you who put ...      0\n",
       "159291  \"\\nAnd ... I really don't think you understand...      0\n",
       "\n",
       "[159292 rows x 2 columns]"
      ]
     },
     "metadata": {},
     "output_type": "display_data"
    }
   ],
   "source": [
    "data = data.drop('Unnamed: 0', axis =1)\n",
    "display(data)"
   ]
  },
  {
   "cell_type": "markdown",
   "metadata": {},
   "source": [
    "теперь загрузим лемматизатор и стоп-слова"
   ]
  },
  {
   "cell_type": "markdown",
   "metadata": {},
   "source": [
    "### Начало лемматизации"
   ]
  },
  {
   "cell_type": "code",
   "execution_count": 6,
   "metadata": {},
   "outputs": [
    {
     "name": "stderr",
     "output_type": "stream",
     "text": [
      "[nltk_data] Downloading package stopwords to /home/jovyan/nltk_data...\n",
      "[nltk_data]   Package stopwords is already up-to-date!\n",
      "[nltk_data] Downloading package wordnet to /home/jovyan/nltk_data...\n",
      "[nltk_data]   Package wordnet is already up-to-date!\n",
      "[nltk_data] Downloading package averaged_perceptron_tagger to\n",
      "[nltk_data]     /home/jovyan/nltk_data...\n",
      "[nltk_data]   Unzipping taggers/averaged_perceptron_tagger.zip.\n"
     ]
    },
    {
     "data": {
      "text/plain": [
       "True"
      ]
     },
     "execution_count": 6,
     "metadata": {},
     "output_type": "execute_result"
    }
   ],
   "source": [
    "nltk.download('stopwords')\n",
    "nltk.download('wordnet')\n",
    "nltk.download('averaged_perceptron_tagger')"
   ]
  },
  {
   "cell_type": "code",
   "execution_count": 7,
   "metadata": {},
   "outputs": [],
   "source": [
    "lemmatizer = WordNetLemmatizer()\n",
    "stop_words = set(nltk_stopwords.words('english'))"
   ]
  },
  {
   "cell_type": "markdown",
   "metadata": {},
   "source": [
    "Теперь напишем функцию для лемматизации текста, и запустим ее. "
   ]
  },
  {
   "cell_type": "code",
   "execution_count": 8,
   "metadata": {},
   "outputs": [],
   "source": [
    "#def lemmatize_comment(comment):\n",
    "#    words = nltk.word_tokenize(comment.lower())\n",
    "#    words = [word for word in words if word not in stop_words]\n",
    "#    words = [lemmatizer.lemmatize(word) for word in words]\n",
    "#    return ' '.join(words)"
   ]
  },
  {
   "cell_type": "markdown",
   "metadata": {},
   "source": [
    "Так я пока и не совсем понял, как это работает. Тогда будем выяснять на практике. "
   ]
  },
  {
   "cell_type": "code",
   "execution_count": 9,
   "metadata": {},
   "outputs": [],
   "source": [
    "test_text = ['beer', 'beautiful', 'shiny', 'average', 'replace', 'normally']"
   ]
  },
  {
   "cell_type": "code",
   "execution_count": 10,
   "metadata": {
    "scrolled": true
   },
   "outputs": [
    {
     "name": "stdout",
     "output_type": "stream",
     "text": [
      "[('beer', 'NN'), ('beautiful', 'NN'), ('shiny', 'JJ'), ('average', 'JJ'), ('replace', 'VB'), ('normally', 'RB')]\n"
     ]
    }
   ],
   "source": [
    "new = nltk.pos_tag(test_text)\n",
    "print(new)"
   ]
  },
  {
   "cell_type": "markdown",
   "metadata": {},
   "source": [
    "Такое интересное существительное 'beautiful'..."
   ]
  },
  {
   "cell_type": "code",
   "execution_count": 11,
   "metadata": {
    "scrolled": true
   },
   "outputs": [
    {
     "name": "stdout",
     "output_type": "stream",
     "text": [
      "('beautiful', 'NN')\n",
      "NN\n"
     ]
    }
   ],
   "source": [
    "print(new[1])\n",
    "print(new[1][1])"
   ]
  },
  {
   "cell_type": "markdown",
   "metadata": {},
   "source": [
    "Ну а теперь уже понятней. Нам надо В какой-то wordnet. формат это все перевести. Пробуем дальше"
   ]
  },
  {
   "cell_type": "code",
   "execution_count": 12,
   "metadata": {},
   "outputs": [],
   "source": [
    "def get_wordnet_pos(pos_tag):\n",
    "    if pos_tag.startswith('J'):\n",
    "        return wordnet.ADJ\n",
    "    elif pos_tag.startswith('V'):\n",
    "        return wordnet.VERB\n",
    "    elif pos_tag.startswith('N'):\n",
    "        return wordnet.NOUN\n",
    "    elif pos_tag.startswith('R'):\n",
    "        return wordnet.ADV\n",
    "    else:\n",
    "        return None"
   ]
  },
  {
   "cell_type": "code",
   "execution_count": 13,
   "metadata": {},
   "outputs": [
    {
     "name": "stdout",
     "output_type": "stream",
     "text": [
      "[('beer', 'n'), ('beautiful', 'n'), ('shiny', 'a'), ('average', 'a'), ('replace', 'v'), ('normally', 'r')]\n"
     ]
    }
   ],
   "source": [
    "new_tagged = [(word, get_wordnet_pos(pos_tag)) for word, pos_tag in new]\n",
    "print(new_tagged)"
   ]
  },
  {
   "cell_type": "markdown",
   "metadata": {},
   "source": [
    "Вот как-то оно не так работает"
   ]
  },
  {
   "cell_type": "code",
   "execution_count": 14,
   "metadata": {},
   "outputs": [],
   "source": [
    "def get_wordnet_pos2(word):\n",
    "    tag = nltk.pos_tag([word])[0][1][0].upper()\n",
    "    tag_dict = {\"J\": wordnet.ADJ,\n",
    "                \"N\": wordnet.NOUN,\n",
    "                \"V\": wordnet.VERB,\n",
    "                \"R\": wordnet.ADV}\n",
    "    return tag_dict.get(tag, wordnet.NOUN)"
   ]
  },
  {
   "cell_type": "code",
   "execution_count": 15,
   "metadata": {
    "scrolled": false
   },
   "outputs": [
    {
     "name": "stdout",
     "output_type": "stream",
     "text": [
      "[('beer', 'n'), ('beautiful', 'n'), ('shiny', 'a'), ('average', 'a'), ('replace', 'v'), ('normally', 'r')]\n"
     ]
    }
   ],
   "source": [
    "new_tagged2 = [(word, get_wordnet_pos(pos_tag)) for word, pos_tag in new]\n",
    "print(new_tagged2)"
   ]
  },
  {
   "cell_type": "code",
   "execution_count": 16,
   "metadata": {},
   "outputs": [],
   "source": [
    "def lemmatize_comment_with_pos(comment):\n",
    "    words = nltk.word_tokenize(comment.lower())\n",
    "    words = [word for word in words if word not in stop_words]\n",
    "    pos_tags = nltk.pos_tag(words)\n",
    "    words = [(word, get_wordnet_pos(pos_tag)) for word, pos_tag in pos_tags]\n",
    "    words = [lemmatizer.lemmatize(word, pos=pos) if pos is not None else lemmatizer.lemmatize(word) for word, pos in words]\n",
    "    return ' '.join(words)"
   ]
  },
  {
   "cell_type": "code",
   "execution_count": 17,
   "metadata": {},
   "outputs": [
    {
     "name": "stdout",
     "output_type": "stream",
     "text": [
      "Execution time: 433.42681312561035 seconds\n"
     ]
    }
   ],
   "source": [
    "start_time = time.time()\n",
    "data['lemmatized'] = data['text'].apply(lemmatize_comment_with_pos)\n",
    "end_time = time.time()\n",
    "print('Execution time:', end_time - start_time, 'seconds')"
   ]
  },
  {
   "cell_type": "code",
   "execution_count": 18,
   "metadata": {
    "scrolled": true
   },
   "outputs": [
    {
     "data": {
      "text/html": [
       "<div>\n",
       "<style scoped>\n",
       "    .dataframe tbody tr th:only-of-type {\n",
       "        vertical-align: middle;\n",
       "    }\n",
       "\n",
       "    .dataframe tbody tr th {\n",
       "        vertical-align: top;\n",
       "    }\n",
       "\n",
       "    .dataframe thead th {\n",
       "        text-align: right;\n",
       "    }\n",
       "</style>\n",
       "<table border=\"1\" class=\"dataframe\">\n",
       "  <thead>\n",
       "    <tr style=\"text-align: right;\">\n",
       "      <th></th>\n",
       "      <th>text</th>\n",
       "      <th>toxic</th>\n",
       "      <th>lemmatized</th>\n",
       "    </tr>\n",
       "  </thead>\n",
       "  <tbody>\n",
       "    <tr>\n",
       "      <th>0</th>\n",
       "      <td>Explanation\\nWhy the edits made under my usern...</td>\n",
       "      <td>0</td>\n",
       "      <td>explanation edits make username hardcore metal...</td>\n",
       "    </tr>\n",
       "    <tr>\n",
       "      <th>1</th>\n",
       "      <td>D'aww! He matches this background colour I'm s...</td>\n",
       "      <td>0</td>\n",
       "      <td>d'aww ! match background colour 'm seemingly s...</td>\n",
       "    </tr>\n",
       "    <tr>\n",
       "      <th>2</th>\n",
       "      <td>Hey man, I'm really not trying to edit war. It...</td>\n",
       "      <td>0</td>\n",
       "      <td>hey man , 'm really try edit war . 's guy cons...</td>\n",
       "    </tr>\n",
       "    <tr>\n",
       "      <th>3</th>\n",
       "      <td>\"\\nMore\\nI can't make any real suggestions on ...</td>\n",
       "      <td>0</td>\n",
       "      <td>`` ca n't make real suggestion improvement - w...</td>\n",
       "    </tr>\n",
       "    <tr>\n",
       "      <th>4</th>\n",
       "      <td>You, sir, are my hero. Any chance you remember...</td>\n",
       "      <td>0</td>\n",
       "      <td>, sir , hero . chance remember page 's ?</td>\n",
       "    </tr>\n",
       "    <tr>\n",
       "      <th>...</th>\n",
       "      <td>...</td>\n",
       "      <td>...</td>\n",
       "      <td>...</td>\n",
       "    </tr>\n",
       "    <tr>\n",
       "      <th>159287</th>\n",
       "      <td>\":::::And for the second time of asking, when ...</td>\n",
       "      <td>0</td>\n",
       "      <td>`` : : : : : second time ask , view completely...</td>\n",
       "    </tr>\n",
       "    <tr>\n",
       "      <th>159288</th>\n",
       "      <td>You should be ashamed of yourself \\n\\nThat is ...</td>\n",
       "      <td>0</td>\n",
       "      <td>ashamed horrible thing put talk page . 128.61....</td>\n",
       "    </tr>\n",
       "    <tr>\n",
       "      <th>159289</th>\n",
       "      <td>Spitzer \\n\\nUmm, theres no actual article for ...</td>\n",
       "      <td>0</td>\n",
       "      <td>spitzer umm , theres actual article prostituti...</td>\n",
       "    </tr>\n",
       "    <tr>\n",
       "      <th>159290</th>\n",
       "      <td>And it looks like it was actually you who put ...</td>\n",
       "      <td>0</td>\n",
       "      <td>look like actually put speedy first version de...</td>\n",
       "    </tr>\n",
       "    <tr>\n",
       "      <th>159291</th>\n",
       "      <td>\"\\nAnd ... I really don't think you understand...</td>\n",
       "      <td>0</td>\n",
       "      <td>`` ... really n't think understand . come idea...</td>\n",
       "    </tr>\n",
       "  </tbody>\n",
       "</table>\n",
       "<p>159292 rows × 3 columns</p>\n",
       "</div>"
      ],
      "text/plain": [
       "                                                     text  toxic  \\\n",
       "0       Explanation\\nWhy the edits made under my usern...      0   \n",
       "1       D'aww! He matches this background colour I'm s...      0   \n",
       "2       Hey man, I'm really not trying to edit war. It...      0   \n",
       "3       \"\\nMore\\nI can't make any real suggestions on ...      0   \n",
       "4       You, sir, are my hero. Any chance you remember...      0   \n",
       "...                                                   ...    ...   \n",
       "159287  \":::::And for the second time of asking, when ...      0   \n",
       "159288  You should be ashamed of yourself \\n\\nThat is ...      0   \n",
       "159289  Spitzer \\n\\nUmm, theres no actual article for ...      0   \n",
       "159290  And it looks like it was actually you who put ...      0   \n",
       "159291  \"\\nAnd ... I really don't think you understand...      0   \n",
       "\n",
       "                                               lemmatized  \n",
       "0       explanation edits make username hardcore metal...  \n",
       "1       d'aww ! match background colour 'm seemingly s...  \n",
       "2       hey man , 'm really try edit war . 's guy cons...  \n",
       "3       `` ca n't make real suggestion improvement - w...  \n",
       "4                , sir , hero . chance remember page 's ?  \n",
       "...                                                   ...  \n",
       "159287  `` : : : : : second time ask , view completely...  \n",
       "159288  ashamed horrible thing put talk page . 128.61....  \n",
       "159289  spitzer umm , theres actual article prostituti...  \n",
       "159290  look like actually put speedy first version de...  \n",
       "159291  `` ... really n't think understand . come idea...  \n",
       "\n",
       "[159292 rows x 3 columns]"
      ]
     },
     "execution_count": 18,
     "metadata": {},
     "output_type": "execute_result"
    }
   ],
   "source": [
    "data"
   ]
  },
  {
   "cell_type": "markdown",
   "metadata": {},
   "source": [
    "как минимум не ожидал, что это лемматизация с POS будет занимать настьлько больше времени"
   ]
  },
  {
   "cell_type": "code",
   "execution_count": 8,
   "metadata": {},
   "outputs": [],
   "source": [
    "nlp = spacy.load(\"en_core_web_sm\")"
   ]
  },
  {
   "cell_type": "code",
   "execution_count": 9,
   "metadata": {},
   "outputs": [
    {
     "data": {
      "text/plain": [
       "['tok2vec', 'tagger', 'parser', 'attribute_ruler', 'lemmatizer', 'ner']"
      ]
     },
     "execution_count": 9,
     "metadata": {},
     "output_type": "execute_result"
    }
   ],
   "source": [
    "nlp.pipe_names"
   ]
  },
  {
   "cell_type": "code",
   "execution_count": 23,
   "metadata": {},
   "outputs": [],
   "source": [
    "def spacy_lemmatize(text):\n",
    "    doc = nlp(text)\n",
    "    lemmatized_text = \" \".join([token.lemma_ for token in doc])\n",
    "    return lemmatized_text"
   ]
  },
  {
   "cell_type": "code",
   "execution_count": 21,
   "metadata": {},
   "outputs": [],
   "source": [
    "alt_text = data['text'].str.lower().copy()"
   ]
  },
  {
   "cell_type": "code",
   "execution_count": 22,
   "metadata": {},
   "outputs": [
    {
     "name": "stdout",
     "output_type": "stream",
     "text": [
      "Execution time: 2226.2917981147766 seconds\n"
     ]
    }
   ],
   "source": [
    "start_time = time.time()\n",
    "alt_lemmatizated = alt_text.apply(spacy_lemmatize)\n",
    "end_time = time.time()\n",
    "print('Execution time:', end_time - start_time, 'seconds')"
   ]
  },
  {
   "cell_type": "code",
   "execution_count": 23,
   "metadata": {
    "scrolled": true
   },
   "outputs": [
    {
     "name": "stdout",
     "output_type": "stream",
     "text": [
      "0         explanation \\n why the edit make under my user...\n",
      "1         d'aww ! he match this background colour I be s...\n",
      "2         hey man , I be really not try to edit war . it...\n",
      "3         \" \\n more \\n I can not make any real suggestio...\n",
      "4         you , sir , be my hero . any chance you rememb...\n",
      "                                ...                        \n",
      "159287    \" : : : : : and for the second time of asking ...\n",
      "159288    you should be ashamed of yourself \\n\\n that be...\n",
      "159289    spitzer \\n\\n umm , there s no actual article f...\n",
      "159290    and it look like it be actually you who put on...\n",
      "159291    \" \\n and ... I really do not think you underst...\n",
      "Name: text, Length: 159292, dtype: object\n"
     ]
    }
   ],
   "source": [
    "print(alt_lemmatizated)"
   ]
  },
  {
   "cell_type": "code",
   "execution_count": 24,
   "metadata": {},
   "outputs": [],
   "source": [
    "#alt_lemmatizated = alt_lemmatizated.str.lower()"
   ]
  },
  {
   "cell_type": "markdown",
   "metadata": {},
   "source": [
    "Насчет работет быстрее - я не заметил"
   ]
  },
  {
   "cell_type": "markdown",
   "metadata": {},
   "source": [
    "Чтобы хотя бы от некоторых проблем избавиться давайте  попробуем сделать функцию для очистки текстов и тоже ее применим."
   ]
  },
  {
   "cell_type": "code",
   "execution_count": 25,
   "metadata": {},
   "outputs": [],
   "source": [
    "def clear_comment(comment):\n",
    "    comment = re.sub(r'[^\\w\\s+]', '', comment)\n",
    "    comment = re.sub(r'\\d+', '', comment)\n",
    "    return ' '.join(comment.split())"
   ]
  },
  {
   "cell_type": "code",
   "execution_count": 26,
   "metadata": {
    "scrolled": true
   },
   "outputs": [
    {
     "name": "stdout",
     "output_type": "stream",
     "text": [
      "Execution time: 2.4627511501312256 seconds\n"
     ]
    }
   ],
   "source": [
    "start_time = time.time()\n",
    "data['cleared'] = data['lemmatized'].apply(clear_comment)\n",
    "end_time = time.time()\n",
    "print('Execution time:', end_time - start_time, 'seconds')"
   ]
  },
  {
   "cell_type": "code",
   "execution_count": 27,
   "metadata": {},
   "outputs": [
    {
     "data": {
      "text/html": [
       "<div>\n",
       "<style scoped>\n",
       "    .dataframe tbody tr th:only-of-type {\n",
       "        vertical-align: middle;\n",
       "    }\n",
       "\n",
       "    .dataframe tbody tr th {\n",
       "        vertical-align: top;\n",
       "    }\n",
       "\n",
       "    .dataframe thead th {\n",
       "        text-align: right;\n",
       "    }\n",
       "</style>\n",
       "<table border=\"1\" class=\"dataframe\">\n",
       "  <thead>\n",
       "    <tr style=\"text-align: right;\">\n",
       "      <th></th>\n",
       "      <th>text</th>\n",
       "      <th>toxic</th>\n",
       "      <th>lemmatized</th>\n",
       "      <th>cleared</th>\n",
       "    </tr>\n",
       "  </thead>\n",
       "  <tbody>\n",
       "    <tr>\n",
       "      <th>0</th>\n",
       "      <td>Explanation\\nWhy the edits made under my usern...</td>\n",
       "      <td>0</td>\n",
       "      <td>explanation edits make username hardcore metal...</td>\n",
       "      <td>explanation edits make username hardcore metal...</td>\n",
       "    </tr>\n",
       "    <tr>\n",
       "      <th>1</th>\n",
       "      <td>D'aww! He matches this background colour I'm s...</td>\n",
       "      <td>0</td>\n",
       "      <td>d'aww ! match background colour 'm seemingly s...</td>\n",
       "      <td>daww match background colour m seemingly stick...</td>\n",
       "    </tr>\n",
       "    <tr>\n",
       "      <th>2</th>\n",
       "      <td>Hey man, I'm really not trying to edit war. It...</td>\n",
       "      <td>0</td>\n",
       "      <td>hey man , 'm really try edit war . 's guy cons...</td>\n",
       "      <td>hey man m really try edit war s guy constantly...</td>\n",
       "    </tr>\n",
       "    <tr>\n",
       "      <th>3</th>\n",
       "      <td>\"\\nMore\\nI can't make any real suggestions on ...</td>\n",
       "      <td>0</td>\n",
       "      <td>`` ca n't make real suggestion improvement - w...</td>\n",
       "      <td>ca nt make real suggestion improvement wondere...</td>\n",
       "    </tr>\n",
       "    <tr>\n",
       "      <th>4</th>\n",
       "      <td>You, sir, are my hero. Any chance you remember...</td>\n",
       "      <td>0</td>\n",
       "      <td>, sir , hero . chance remember page 's ?</td>\n",
       "      <td>sir hero chance remember page s</td>\n",
       "    </tr>\n",
       "    <tr>\n",
       "      <th>...</th>\n",
       "      <td>...</td>\n",
       "      <td>...</td>\n",
       "      <td>...</td>\n",
       "      <td>...</td>\n",
       "    </tr>\n",
       "    <tr>\n",
       "      <th>159287</th>\n",
       "      <td>\":::::And for the second time of asking, when ...</td>\n",
       "      <td>0</td>\n",
       "      <td>`` : : : : : second time ask , view completely...</td>\n",
       "      <td>second time ask view completely contradict cov...</td>\n",
       "    </tr>\n",
       "    <tr>\n",
       "      <th>159288</th>\n",
       "      <td>You should be ashamed of yourself \\n\\nThat is ...</td>\n",
       "      <td>0</td>\n",
       "      <td>ashamed horrible thing put talk page . 128.61....</td>\n",
       "      <td>ashamed horrible thing put talk page</td>\n",
       "    </tr>\n",
       "    <tr>\n",
       "      <th>159289</th>\n",
       "      <td>Spitzer \\n\\nUmm, theres no actual article for ...</td>\n",
       "      <td>0</td>\n",
       "      <td>spitzer umm , theres actual article prostituti...</td>\n",
       "      <td>spitzer umm theres actual article prostitution...</td>\n",
       "    </tr>\n",
       "    <tr>\n",
       "      <th>159290</th>\n",
       "      <td>And it looks like it was actually you who put ...</td>\n",
       "      <td>0</td>\n",
       "      <td>look like actually put speedy first version de...</td>\n",
       "      <td>look like actually put speedy first version de...</td>\n",
       "    </tr>\n",
       "    <tr>\n",
       "      <th>159291</th>\n",
       "      <td>\"\\nAnd ... I really don't think you understand...</td>\n",
       "      <td>0</td>\n",
       "      <td>`` ... really n't think understand . come idea...</td>\n",
       "      <td>really nt think understand come idea bad right...</td>\n",
       "    </tr>\n",
       "  </tbody>\n",
       "</table>\n",
       "<p>159292 rows × 4 columns</p>\n",
       "</div>"
      ],
      "text/plain": [
       "                                                     text  toxic  \\\n",
       "0       Explanation\\nWhy the edits made under my usern...      0   \n",
       "1       D'aww! He matches this background colour I'm s...      0   \n",
       "2       Hey man, I'm really not trying to edit war. It...      0   \n",
       "3       \"\\nMore\\nI can't make any real suggestions on ...      0   \n",
       "4       You, sir, are my hero. Any chance you remember...      0   \n",
       "...                                                   ...    ...   \n",
       "159287  \":::::And for the second time of asking, when ...      0   \n",
       "159288  You should be ashamed of yourself \\n\\nThat is ...      0   \n",
       "159289  Spitzer \\n\\nUmm, theres no actual article for ...      0   \n",
       "159290  And it looks like it was actually you who put ...      0   \n",
       "159291  \"\\nAnd ... I really don't think you understand...      0   \n",
       "\n",
       "                                               lemmatized  \\\n",
       "0       explanation edits make username hardcore metal...   \n",
       "1       d'aww ! match background colour 'm seemingly s...   \n",
       "2       hey man , 'm really try edit war . 's guy cons...   \n",
       "3       `` ca n't make real suggestion improvement - w...   \n",
       "4                , sir , hero . chance remember page 's ?   \n",
       "...                                                   ...   \n",
       "159287  `` : : : : : second time ask , view completely...   \n",
       "159288  ashamed horrible thing put talk page . 128.61....   \n",
       "159289  spitzer umm , theres actual article prostituti...   \n",
       "159290  look like actually put speedy first version de...   \n",
       "159291  `` ... really n't think understand . come idea...   \n",
       "\n",
       "                                                  cleared  \n",
       "0       explanation edits make username hardcore metal...  \n",
       "1       daww match background colour m seemingly stick...  \n",
       "2       hey man m really try edit war s guy constantly...  \n",
       "3       ca nt make real suggestion improvement wondere...  \n",
       "4                         sir hero chance remember page s  \n",
       "...                                                   ...  \n",
       "159287  second time ask view completely contradict cov...  \n",
       "159288               ashamed horrible thing put talk page  \n",
       "159289  spitzer umm theres actual article prostitution...  \n",
       "159290  look like actually put speedy first version de...  \n",
       "159291  really nt think understand come idea bad right...  \n",
       "\n",
       "[159292 rows x 4 columns]"
      ]
     },
     "execution_count": 27,
     "metadata": {},
     "output_type": "execute_result"
    }
   ],
   "source": [
    "data"
   ]
  },
  {
   "cell_type": "markdown",
   "metadata": {},
   "source": [
    "вроде и неплохо, только пробелы бы убрать."
   ]
  },
  {
   "cell_type": "code",
   "execution_count": 28,
   "metadata": {},
   "outputs": [],
   "source": [
    "alt_corpus = alt_lemmatizated.apply(clear_comment)"
   ]
  },
  {
   "cell_type": "code",
   "execution_count": 29,
   "metadata": {},
   "outputs": [
    {
     "name": "stdout",
     "output_type": "stream",
     "text": [
      "0         explanation why the edit make under my usernam...\n",
      "1         daww he match this background colour i be seem...\n",
      "2         hey man i be really not try to edit war it be ...\n",
      "3         more i can not make any real suggestion on imp...\n",
      "4         you sir be my hero any chance you remember wha...\n",
      "                                ...                        \n",
      "159287    and for the second time of asking when your vi...\n",
      "159288    you should be ashamed of yourself that be a ho...\n",
      "159289    spitzer umm there s no actual article for pros...\n",
      "159290    and it look like it be actually you who put on...\n",
      "159291    and i really do not think you understand i com...\n",
      "Name: text, Length: 159292, dtype: object\n"
     ]
    }
   ],
   "source": [
    "print(alt_corpus)"
   ]
  },
  {
   "cell_type": "code",
   "execution_count": 30,
   "metadata": {
    "scrolled": true
   },
   "outputs": [
    {
     "name": "stdout",
     "output_type": "stream",
     "text": [
      "ashamed horrible thing put talk page\n"
     ]
    }
   ],
   "source": [
    "data['cleared'] = data['cleared'].str.strip()\n",
    "print(data['cleared'][159288])"
   ]
  },
  {
   "cell_type": "markdown",
   "metadata": {},
   "source": [
    "Может, с отображением проблемы? выводится отдельно все без пробела. "
   ]
  },
  {
   "cell_type": "code",
   "execution_count": 31,
   "metadata": {},
   "outputs": [],
   "source": [
    "corpus = data['cleared']"
   ]
  },
  {
   "cell_type": "markdown",
   "metadata": {},
   "source": [
    "Привет из будущего... Вспомнил важный момент, что мы не можем обучать трансформеров на тестовой и валидационной выборках. Поэтому именно сейчас мы разобьем датасет на выборки. перед тем, как делать векторизацию."
   ]
  },
  {
   "cell_type": "code",
   "execution_count": 32,
   "metadata": {},
   "outputs": [],
   "source": [
    "y = data['toxic']\n",
    "x = corpus"
   ]
  },
  {
   "cell_type": "code",
   "execution_count": 33,
   "metadata": {},
   "outputs": [],
   "source": [
    "x_train, x_test, y_train, y_test = train_test_split(\n",
    "    x, y, test_size=0.2, random_state=1984, stratify=y)\n",
    "x_train, x_valid, y_train, y_valid = train_test_split(\n",
    "    x_train, y_train, test_size=0.25, random_state=1984, stratify=y_train)"
   ]
  },
  {
   "cell_type": "code",
   "execution_count": 34,
   "metadata": {},
   "outputs": [],
   "source": [
    "x_train2, x_test2, y_train2, y_test2 = train_test_split(\n",
    "    alt_corpus, y, test_size=0.2, random_state=1984, stratify=y)\n",
    "x_train2, x_valid2, y_train2, y_valid2 = train_test_split(\n",
    "    x_train2, y_train2, test_size=0.25, random_state=1984, stratify=y_train2)"
   ]
  },
  {
   "cell_type": "code",
   "execution_count": 35,
   "metadata": {},
   "outputs": [],
   "source": [
    "count_vect = CountVectorizer()\n",
    "bow = count_vect.fit_transform(x_train)"
   ]
  },
  {
   "cell_type": "code",
   "execution_count": 36,
   "metadata": {
    "scrolled": true
   },
   "outputs": [
    {
     "data": {
      "text/plain": [
       "<95574x141430 sparse matrix of type '<class 'numpy.int64'>'\n",
       "\twith 2523367 stored elements in Compressed Sparse Row format>"
      ]
     },
     "metadata": {},
     "output_type": "display_data"
    }
   ],
   "source": [
    "display(bow)"
   ]
  },
  {
   "cell_type": "markdown",
   "metadata": {},
   "source": [
    "ну мешок у нас есть, он представляет собой матрицу 159292 на 198696, можем еще внутрь заглянуть:"
   ]
  },
  {
   "cell_type": "code",
   "execution_count": 37,
   "metadata": {},
   "outputs": [
    {
     "data": {
      "text/plain": [
       "['__',\n",
       " '___',\n",
       " '____',\n",
       " '_____',\n",
       " '______',\n",
       " '_______',\n",
       " '________',\n",
       " '___________',\n",
       " '_____________',\n",
       " '_______________',\n",
       " '________________',\n",
       " '__________________',\n",
       " '____________________',\n",
       " '________________________',\n",
       " '_________________________',\n",
       " '____________________________',\n",
       " '_____________________________',\n",
       " '________________________________________',\n",
       " '_________________________________________________',\n",
       " '__________________________________________________',\n",
       " '_____________________________________________________',\n",
       " '_______________________________________________________________',\n",
       " '________________________________________________________________',\n",
       " '_________________________________________________________________',\n",
       " '_____________________________________________________________________',\n",
       " '____________________________________________________________________________',\n",
       " '_____________________________________________________________________________',\n",
       " '_________________________________________________________________________________________',\n",
       " '_______________________________________________________________________________________________',\n",
       " '________________________________________________________________________________________________________',\n",
       " '_____________________________________________________________________________________________________________________',\n",
       " '________________________________________________________________________________________________________________________________',\n",
       " '________________________________________________________________________________________________________________________________________________________________________________________________',\n",
       " '________________________________________________________________________________________________________________________________________________________________________________________________________________________________________________________________',\n",
       " '____________________________________________________________________________________________________________________________________________________________________________________________________________________________________________________________________________',\n",
       " '___________________________________________________________________________________________________________________________________________________________________________________________________________________________________________________________________________________________________________________________________________________________________________________________________________________________________',\n",
       " '_______________________two',\n",
       " '______its',\n",
       " '_____that',\n",
       " '____interesting',\n",
       " '___kai____',\n",
       " '__ahn_pandemic',\n",
       " '__blobpublicationfile',\n",
       " '__could',\n",
       " '__d_fastilyf',\n",
       " '__forcetoc__',\n",
       " '__goosebumps',\n",
       " '__init__',\n",
       " '__noeditsection__',\n",
       " '__noeditsection____nonewsectionlink__',\n",
       " '__noindex__',\n",
       " '__notoc__',\n",
       " '__october_',\n",
       " '__toc__',\n",
       " '_a_penis',\n",
       " '_a_rticle',\n",
       " '_accepted',\n",
       " '_adminby',\n",
       " '_again_',\n",
       " '_all_',\n",
       " '_all_the_time',\n",
       " '_and_',\n",
       " '_and_the_holy_fonz',\n",
       " '_anonymous',\n",
       " '_are',\n",
       " '_articles',\n",
       " '_ashley_tisdale_in_the_suite_life_goes_hollywoodjpg',\n",
       " '_beginning_',\n",
       " '_bottom_',\n",
       " '_brian',\n",
       " '_britannica_concise_encyclopediac_the_oxford_companion_to_military_historyc_gale_encyclopedia_of_biographyc_columbia_encyclopedia_and_time_magazine',\n",
       " '_british_library',\n",
       " '_brr',\n",
       " '_by_david_shankbonejpg',\n",
       " '_cabeda_e_ubeda',\n",
       " '_calhoun',\n",
       " '_california',\n",
       " '_caviar_eater',\n",
       " '_ccker',\n",
       " '_channel__stagepng',\n",
       " '_citizenship_issue_for_spanish_catalan_biographical_articles',\n",
       " '_cking',\n",
       " '_codetall',\n",
       " '_comte_de_la_p',\n",
       " '_contracts_',\n",
       " '_data',\n",
       " '_date_high',\n",
       " '_date_low',\n",
       " '_day',\n",
       " '_december_',\n",
       " '_departments_',\n",
       " '_did_',\n",
       " '_discuss',\n",
       " '_done',\n",
       " '_dragon',\n",
       " '_dutch_hypothesis',\n",
       " '_dzast',\n",
       " '_dzasta',\n",
       " '_e',\n",
       " '_end',\n",
       " '_es',\n",
       " '_escy',\n",
       " '_evaluation_of_prc_rule',\n",
       " '_eyal_zisser',\n",
       " '_femurs',\n",
       " '_forced_',\n",
       " '_frenchrelated',\n",
       " '_friend',\n",
       " '_fundby',\n",
       " '_generation_album',\n",
       " '_girls',\n",
       " '_h',\n",
       " '_hafnium_controversy',\n",
       " '_halfway',\n",
       " '_hard_corps',\n",
       " '_high_schoojpg',\n",
       " '_high_school',\n",
       " '_holocaust_',\n",
       " '_houston',\n",
       " '_html',\n",
       " '_id',\n",
       " '_idnextid',\n",
       " '_ill',\n",
       " '_im_lyin',\n",
       " '_in_boolean_mode',\n",
       " '_in_the_united_states',\n",
       " '_is_',\n",
       " '_iselenici',\n",
       " '_koreanjapanese_conflict_',\n",
       " '_l_',\n",
       " '_legacy_of_war',\n",
       " '_lhp',\n",
       " '_limg',\n",
       " '_lincoln_county',\n",
       " '_los_angeles',\n",
       " '_lserp',\n",
       " '_main_entrance_of_the_open_air_museum',\n",
       " '_majid_rafizadeh_about_risks_of_us_military_intervention_in_syria',\n",
       " '_manifestly',\n",
       " '_many_',\n",
       " '_maximum_',\n",
       " '_may_',\n",
       " '_meds',\n",
       " '_minerals_',\n",
       " '_mississippi',\n",
       " '_monitor',\n",
       " '_month',\n",
       " '_n',\n",
       " '_n__w_region',\n",
       " '_neologismarchive_',\n",
       " '_nikeblack',\n",
       " '_no_',\n",
       " '_not_',\n",
       " '_not_truth',\n",
       " '_not_using_bytes',\n",
       " '_note',\n",
       " '_noticeboard',\n",
       " '_noticeboardedit_warring',\n",
       " '_noticeboardincidents',\n",
       " '_noticeboardincidentswikilobby_campaign',\n",
       " '_noticeboardrr',\n",
       " '_noticeboardwiki_editor_donfphrnqtaub_persina',\n",
       " '_npa_claim_against_josiah_rowe',\n",
       " '_nr',\n",
       " '_o',\n",
       " '_of_pict_modifiedjpg',\n",
       " '_offwiki_personal_attacks',\n",
       " '_on_imdbs_top_',\n",
       " '_on_screenbxraid',\n",
       " '_one_',\n",
       " '_order_by_photo_id_desc_',\n",
       " '_page_id',\n",
       " '_page_protected_for_one_week',\n",
       " '_pakistan_relations',\n",
       " '_past_',\n",
       " '_peace_',\n",
       " '_peter',\n",
       " '_plural',\n",
       " '_pnwyx',\n",
       " '_portrait_of_a_dog',\n",
       " '_pound_man_in_drag_eating_steakpng',\n",
       " '_r',\n",
       " '_race_and_intelligence',\n",
       " '_raven_symone',\n",
       " '_rd_i',\n",
       " '_rd_p',\n",
       " '_rd_rdqvjhktbdpafnakz',\n",
       " '_rd_scenter',\n",
       " '_rd_t',\n",
       " '_rdssl',\n",
       " '_reasons_',\n",
       " '_require_',\n",
       " '_revert_',\n",
       " '_rfai',\n",
       " '_sam_spade',\n",
       " '_sanitization_of_turkish_history',\n",
       " '_sdt',\n",
       " '_sdtp',\n",
       " '_series',\n",
       " '_shattered_soldier',\n",
       " '_sibiujpg',\n",
       " '_simple_rules_for_buying_my_teenage_daughter',\n",
       " '_sm',\n",
       " '_sme',\n",
       " '_solar_sailer',\n",
       " '_start',\n",
       " '_statement',\n",
       " '_stay',\n",
       " '_super_street_fighter_iv_arcade_edition',\n",
       " '_th_term',\n",
       " '_the_alien_wars',\n",
       " '_the_contra_adventure',\n",
       " '_the_military_college_of_south_carolina',\n",
       " '_the_murder_of_kurt_cobain',\n",
       " '_the_son',\n",
       " '_the_true_story',\n",
       " '_the_untold_story',\n",
       " '_then_',\n",
       " '_threat',\n",
       " '_toc',\n",
       " '_toc_',\n",
       " '_trollerc_vandalc_antiromanianc_nazi',\n",
       " '_tsgixdqgropthdg',\n",
       " '_two_if_by_sea',\n",
       " '_typemotherboard',\n",
       " '_typesocket',\n",
       " '_uids',\n",
       " '_uk',\n",
       " '_ukraine',\n",
       " '_unlimited',\n",
       " '_uplllllllllllllll',\n",
       " '_uprising',\n",
       " '_usual_mo',\n",
       " '_vax',\n",
       " '_vcjcs',\n",
       " '_visit',\n",
       " '_vitaines',\n",
       " '_war_',\n",
       " '_was_',\n",
       " '_wikia_',\n",
       " '_xmwsn',\n",
       " '_year',\n",
       " '_yltasryzbgvwqunqvpcyoqax',\n",
       " '_yltawrccbyxtwuaegpqtdmd',\n",
       " '_yluxodmtbydwnmymwbgnvbgdymyxbhbvcwmbhzawqdbhnlywnzcg',\n",
       " '_ylv',\n",
       " '_you_',\n",
       " '_your_vote_is_needed_here',\n",
       " 'a_cardboard_microwave',\n",
       " 'a_dilated_male_anusjpg',\n",
       " 'a_followup',\n",
       " 'a_hero_sits_next_door',\n",
       " 'a_picture_is_worth_a__bucks',\n",
       " 'a_smoky_mountain_christmasjpg',\n",
       " 'a_to_z_',\n",
       " 'aa',\n",
       " 'aaa',\n",
       " 'aaaa',\n",
       " 'aaaaaaaa',\n",
       " 'aaaaaaaaaaaaaaaaaaaaaaaaaaaaaaaaaaaaaaaaaaaaaaaaaaaaaaaaaaaaaaaaaaaaaany',\n",
       " 'aaaaaaaaaah',\n",
       " 'aaaaaaaaaahhhhhhhhhhhhhh',\n",
       " 'aaaaaaahhhhhhhhhhhhhhhhhhhhhhhh',\n",
       " 'aaaaaaw',\n",
       " 'aaaaah',\n",
       " 'aaaaajpg',\n",
       " 'aaaannnnyyyywwwwhhhheeeerrrreeee',\n",
       " 'aaaawwww',\n",
       " 'aaaboyz',\n",
       " 'aaages',\n",
       " 'aaaghh',\n",
       " 'aaah',\n",
       " 'aaahhh',\n",
       " 'aaai',\n",
       " 'aaan',\n",
       " 'aaand',\n",
       " 'aab',\n",
       " 'aaba',\n",
       " 'aabaab',\n",
       " 'aable',\n",
       " 'aabove',\n",
       " 'aac',\n",
       " 'aacd',\n",
       " 'aachen',\n",
       " 'aachi',\n",
       " 'aacs',\n",
       " 'aad_dira',\n",
       " 'aadd',\n",
       " 'aadil',\n",
       " 'aadmi',\n",
       " 'aadministrators',\n",
       " 'aaf',\n",
       " 'aaffect',\n",
       " 'aafia',\n",
       " 'aafiveaa',\n",
       " 'aafs',\n",
       " 'aage',\n",
       " 'aagf',\n",
       " 'aagin',\n",
       " 'aah',\n",
       " 'aahahahahahaha',\n",
       " 'aahh',\n",
       " 'aahil',\n",
       " 'aahoa',\n",
       " 'aai',\n",
       " 'aajonus',\n",
       " 'aalessandroliberatiunricordopersonale',\n",
       " 'aalexa',\n",
       " 'aaliyah',\n",
       " 'aals',\n",
       " 'aam',\n",
       " 'aami',\n",
       " 'aamir',\n",
       " 'aamu',\n",
       " 'aan',\n",
       " 'aand',\n",
       " 'aandahl',\n",
       " 'aang',\n",
       " 'aaot',\n",
       " 'aap',\n",
       " 'aapropriate',\n",
       " 'aar',\n",
       " 'aarabsmany',\n",
       " 'aarau',\n",
       " 'aarbitration',\n",
       " 'aardsma',\n",
       " 'aardsman',\n",
       " 'aardvark',\n",
       " 'aare',\n",
       " 'aarem',\n",
       " 'aarne',\n",
       " 'aarnethompson',\n",
       " 'aaroamal',\n",
       " 'aarohi',\n",
       " 'aaron',\n",
       " 'aaroncrick',\n",
       " 'aaronic',\n",
       " 'aaronshavit',\n",
       " 'aaronsw',\n",
       " 'aaronzalman',\n",
       " 'aaround',\n",
       " 'aarp',\n",
       " 'aarpaar',\n",
       " 'aarrrrrrgh',\n",
       " 'aarticles',\n",
       " 'aaruveetil',\n",
       " 'aas',\n",
       " 'aasams',\n",
       " 'aashto',\n",
       " 'aaskillz',\n",
       " 'aat',\n",
       " 'aatnurszdizooatypojw',\n",
       " 'aau',\n",
       " 'aave',\n",
       " 'aaviksoo',\n",
       " 'aavishkaar',\n",
       " 'aaye',\n",
       " 'aazatothtwinklefluffjs',\n",
       " 'ab',\n",
       " 'ab_shqipni',\n",
       " 'aba',\n",
       " 'abab',\n",
       " 'aback',\n",
       " 'abacus',\n",
       " 'abad',\n",
       " 'abadan',\n",
       " 'abaddon',\n",
       " 'abade',\n",
       " 'abagnale',\n",
       " 'abali',\n",
       " 'abandon',\n",
       " 'abandoned',\n",
       " 'abandonment',\n",
       " 'abandonou',\n",
       " 'abanes',\n",
       " 'abang',\n",
       " 'abantecart',\n",
       " 'abaranger',\n",
       " 'abarat',\n",
       " 'abaratrelated',\n",
       " 'abarbanel',\n",
       " 'abarenoh',\n",
       " 'abase',\n",
       " 'abassids',\n",
       " 'abatayo',\n",
       " 'abate',\n",
       " 'abba',\n",
       " 'abbas',\n",
       " 'abbas_and_the_armenians',\n",
       " 'abbasaheb',\n",
       " 'abbasgulu',\n",
       " 'abbasid',\n",
       " 'abbasidumayyad',\n",
       " 'abbassid',\n",
       " 'abbastanza',\n",
       " 'abbau',\n",
       " 'abbdccaee',\n",
       " 'abbe',\n",
       " 'abberations',\n",
       " 'abberrant',\n",
       " 'abbetting',\n",
       " 'abbey',\n",
       " 'abbf',\n",
       " 'abbi',\n",
       " 'abbitt',\n",
       " 'abbot',\n",
       " 'abbott',\n",
       " 'abbottabad',\n",
       " 'abbottsford',\n",
       " 'abbr',\n",
       " 'abbrevation',\n",
       " 'abbreveated',\n",
       " 'abbreviate',\n",
       " 'abbreviated',\n",
       " 'abbreviatedis',\n",
       " 'abbreviates',\n",
       " 'abbreviation',\n",
       " 'abbrevs',\n",
       " 'abbriviations',\n",
       " 'abbrégé',\n",
       " 'abbsmuscle',\n",
       " 'abbusively',\n",
       " 'abby',\n",
       " 'abbythecat',\n",
       " 'abbywinterscom',\n",
       " 'abc',\n",
       " 'abcclio',\n",
       " 'abcd',\n",
       " 'abcde',\n",
       " 'abce',\n",
       " 'abcedare',\n",
       " 'abcedere',\n",
       " 'abcef',\n",
       " 'abclocalgocomktrkstory',\n",
       " 'abcmonster',\n",
       " 'abcnewsgocomhealthbeyoncedropsmusicvideofightchildhoodobesitystory',\n",
       " 'abcnewsgocomprimetimelegalcenterstory',\n",
       " 'abcnewsgocomsportswirestory',\n",
       " 'abcnewsgocomtechnologywirestory',\n",
       " 'abcnewsgocomvideoplayerindex',\n",
       " 'abcnewsgocomwntstory',\n",
       " 'abcxyz',\n",
       " 'abd',\n",
       " 'abdafd',\n",
       " 'abdalkader',\n",
       " 'abdallar',\n",
       " 'abdaly',\n",
       " 'abdalyar',\n",
       " 'abdel',\n",
       " 'abdelaziz',\n",
       " 'abdi',\n",
       " 'abdicate',\n",
       " 'abdication',\n",
       " 'abdillah',\n",
       " 'abdin',\n",
       " 'abdirahman',\n",
       " 'abdnor',\n",
       " 'abdolhassan',\n",
       " 'abdomen',\n",
       " 'abdominal',\n",
       " 'abdrfc',\n",
       " 'abdrule',\n",
       " 'abduct',\n",
       " 'abduction',\n",
       " 'abductive',\n",
       " 'abdul',\n",
       " 'abdulaziz',\n",
       " 'abdulhamid',\n",
       " 'abdulla',\n",
       " 'abdullah',\n",
       " 'abdullahi',\n",
       " 'abdulmalik',\n",
       " 'abdulrazak',\n",
       " 'abdulwahhab',\n",
       " 'abdur',\n",
       " 'abdusamatov',\n",
       " 'abdülhalim',\n",
       " 'abe',\n",
       " 'abecedare',\n",
       " 'abecedarian',\n",
       " 'abedin',\n",
       " 'abeer',\n",
       " 'abefc',\n",
       " 'abei',\n",
       " 'abel',\n",
       " 'abele',\n",
       " 'abelling',\n",
       " 'abelruffini',\n",
       " 'abenaki',\n",
       " 'aber',\n",
       " 'abercrombie',\n",
       " 'abercromby',\n",
       " 'aberdeen',\n",
       " 'abernathy',\n",
       " 'abernethy',\n",
       " 'aberoo',\n",
       " 'aberrant',\n",
       " 'aberrantly',\n",
       " 'aberration',\n",
       " 'abert',\n",
       " 'abertura',\n",
       " 'abertzale',\n",
       " 'abet',\n",
       " 'abeter',\n",
       " 'abetted',\n",
       " 'abettor',\n",
       " 'abetz',\n",
       " 'abey',\n",
       " 'abeyance',\n",
       " 'abf',\n",
       " 'abfsgcompagesourpeoplehtml',\n",
       " 'abgang',\n",
       " 'abh',\n",
       " 'abhaga',\n",
       " 'abhaile',\n",
       " 'abhay',\n",
       " 'abhayagiri',\n",
       " 'abheda',\n",
       " 'abhi',\n",
       " 'abhidhamma',\n",
       " 'abhidharma',\n",
       " 'abhijna',\n",
       " 'abhimanyu',\n",
       " 'abhinav',\n",
       " 'abhira',\n",
       " 'abhiramdasji',\n",
       " 'abhiras',\n",
       " 'abhisamaya',\n",
       " 'abhishek',\n",
       " 'abhishikt',\n",
       " 'abhor',\n",
       " 'abhorant',\n",
       " 'abhorrence',\n",
       " 'abhorrent',\n",
       " 'abhorrently',\n",
       " 'abhorreo',\n",
       " 'abhors',\n",
       " 'abhramidic',\n",
       " 'abi',\n",
       " 'abid',\n",
       " 'abide',\n",
       " 'abided',\n",
       " 'abiders',\n",
       " 'abides',\n",
       " 'abiding',\n",
       " 'abies',\n",
       " 'abievde',\n",
       " 'abigail',\n",
       " 'abilities',\n",
       " 'ability',\n",
       " 'abilityapproved',\n",
       " 'abilty',\n",
       " 'abingdon',\n",
       " 'abio',\n",
       " 'abiogenesis',\n",
       " 'abiogenic',\n",
       " 'abiography',\n",
       " 'abiotic',\n",
       " 'abir',\n",
       " 'abiravan',\n",
       " 'abisy',\n",
       " 'abit',\n",
       " 'abitrary',\n",
       " 'abitrators',\n",
       " 'abjads',\n",
       " 'abject',\n",
       " 'abjectio',\n",
       " 'abjectives',\n",
       " 'abjectly',\n",
       " 'abjpg',\n",
       " 'abkahzia',\n",
       " 'abkazia',\n",
       " 'abkhazia',\n",
       " 'ablan',\n",
       " 'ablation',\n",
       " 'ablaze',\n",
       " 'able',\n",
       " 'abled',\n",
       " 'ableist',\n",
       " 'ableson',\n",
       " 'ableton',\n",
       " 'ablewilling',\n",
       " 'ablilty',\n",
       " 'ablindinglight',\n",
       " 'ablogcategory',\n",
       " 'ablution',\n",
       " 'ably',\n",
       " 'abn',\n",
       " 'abnima',\n",
       " 'abnormal',\n",
       " 'abnormality',\n",
       " 'abnormally',\n",
       " 'abo',\n",
       " 'aboard',\n",
       " 'abode',\n",
       " 'aboiut',\n",
       " 'abolish',\n",
       " 'abolished',\n",
       " 'abolishion',\n",
       " 'abolishment',\n",
       " 'abolition',\n",
       " 'abolitionist',\n",
       " 'abolsutely',\n",
       " 'abolutely',\n",
       " 'abolution',\n",
       " 'abomb',\n",
       " 'abominable',\n",
       " 'abominably',\n",
       " 'abomination',\n",
       " 'abondantly',\n",
       " 'aboot',\n",
       " 'aboout',\n",
       " 'aboput',\n",
       " 'aborigin',\n",
       " 'aboriginal',\n",
       " 'aborigine',\n",
       " 'aborigines',\n",
       " 'aborigins',\n",
       " 'abort',\n",
       " 'aborted',\n",
       " 'abortion',\n",
       " 'abortionist',\n",
       " 'abortionrefpng',\n",
       " 'abortionrights',\n",
       " 'abortive',\n",
       " 'aborz',\n",
       " 'aboslutly',\n",
       " 'abosolut',\n",
       " 'abosolute',\n",
       " 'abosultely',\n",
       " 'abot',\n",
       " 'abotu',\n",
       " 'abou',\n",
       " 'aboumekhael',\n",
       " 'abound',\n",
       " 'abour',\n",
       " 'abourezk',\n",
       " 'about',\n",
       " 'about_basic_editorial_ethics_here',\n",
       " 'abouta',\n",
       " 'aboutcivilcom',\n",
       " 'aboutcom',\n",
       " 'aboutcontacts',\n",
       " 'abouteven',\n",
       " 'abouth',\n",
       " 'aboutmovies',\n",
       " 'abouts',\n",
       " 'aboutself',\n",
       " 'aboutthat',\n",
       " 'aboutthe',\n",
       " 'aboutus',\n",
       " 'aboutusorg',\n",
       " 'aboutv',\n",
       " 'above',\n",
       " 'aboveagain',\n",
       " 'aboveandbeyond',\n",
       " 'aboveaverage',\n",
       " 'abovebelow',\n",
       " 'aboveboard',\n",
       " 'abovecited',\n",
       " 'aboveground',\n",
       " 'abovelinked',\n",
       " 'abovementioned',\n",
       " 'abovemy',\n",
       " 'aboveout',\n",
       " 'abovereferenced',\n",
       " 'aboverely',\n",
       " 'aboveseems',\n",
       " 'abovestated',\n",
       " 'abovetalk',\n",
       " 'abovethat',\n",
       " 'abovevr',\n",
       " 'abow',\n",
       " 'abput',\n",
       " 'abpw',\n",
       " 'abracadabra',\n",
       " 'abraha',\n",
       " 'abraham',\n",
       " 'abrahamdavidson',\n",
       " 'abrahamic',\n",
       " 'abrahamisaac',\n",
       " 'abrahamsson',\n",
       " 'abrahmic',\n",
       " 'abrahms',\n",
       " 'abrajib',\n",
       " 'abram',\n",
       " 'abramce',\n",
       " 'abramoff',\n",
       " 'abramoffabramoffrefactor',\n",
       " 'abramoffarchive',\n",
       " 'abrams',\n",
       " 'abrar',\n",
       " 'abrasion',\n",
       " 'abrasive',\n",
       " 'abrazame',\n",
       " 'abre',\n",
       " 'abreast',\n",
       " 'abrevashun',\n",
       " 'abridge',\n",
       " 'abridgement',\n",
       " 'abrievenbus',\n",
       " 'abritrators',\n",
       " 'abriviation',\n",
       " 'abroad',\n",
       " 'abrogate',\n",
       " 'abrogation',\n",
       " 'abrolhos',\n",
       " 'abrubt',\n",
       " 'abrupt',\n",
       " 'abruptive',\n",
       " 'abruptly',\n",
       " 'abruptness',\n",
       " 'abs',\n",
       " 'absalom',\n",
       " 'absander',\n",
       " 'abscbn',\n",
       " 'abscissa',\n",
       " 'absconder',\n",
       " 'absence',\n",
       " 'absense',\n",
       " 'absent',\n",
       " 'absentbe',\n",
       " 'absentee',\n",
       " 'absentia',\n",
       " 'absently',\n",
       " 'absicllay',\n",
       " 'absinthe',\n",
       " 'absitnence',\n",
       " 'absmag',\n",
       " 'absofreakinlutely',\n",
       " 'absoft',\n",
       " 'absofuckinglutely',\n",
       " 'absolkutely',\n",
       " 'absololutely',\n",
       " 'absolom',\n",
       " 'absoloute',\n",
       " 'absoloutely',\n",
       " 'absolte',\n",
       " 'absolument',\n",
       " 'absolut',\n",
       " 'absolutdan',\n",
       " 'absolute',\n",
       " 'absoluteastronomycom',\n",
       " 'absolutehouse',\n",
       " 'absolutelly',\n",
       " 'absolutely',\n",
       " 'absolutelyi',\n",
       " 'absolutemadonna',\n",
       " 'absolutewrite',\n",
       " 'absolution',\n",
       " 'absolutisht',\n",
       " 'absolutist',\n",
       " 'absolutley',\n",
       " 'absolutly',\n",
       " 'absolutte',\n",
       " 'absolve',\n",
       " 'absolves',\n",
       " 'absorb',\n",
       " 'absorbably',\n",
       " 'absorbed',\n",
       " 'absorbend',\n",
       " 'absorbent',\n",
       " 'absorbs',\n",
       " 'absorption',\n",
       " 'absorptionemission',\n",
       " 'absortion',\n",
       " 'absoultlly',\n",
       " 'absoutely',\n",
       " 'abstact',\n",
       " 'abstain',\n",
       " 'abstained',\n",
       " 'abstance',\n",
       " 'abstention',\n",
       " 'abstentionism',\n",
       " 'abstentionist',\n",
       " 'abstimmung',\n",
       " 'abstinant',\n",
       " 'abstinence',\n",
       " 'abstinenceonly',\n",
       " 'abstract',\n",
       " 'abstracta',\n",
       " 'abstraction',\n",
       " 'abstractionism',\n",
       " 'abstractionor',\n",
       " 'abstractionpdf',\n",
       " 'abstrakt',\n",
       " 'abstruse',\n",
       " 'absue',\n",
       " 'absurd',\n",
       " 'absurdem',\n",
       " 'absurdironic',\n",
       " 'absurdist',\n",
       " 'absurdity',\n",
       " 'absurdly',\n",
       " 'absurdum',\n",
       " 'absurt',\n",
       " 'abt',\n",
       " 'abtalion',\n",
       " 'abtc',\n",
       " 'abtibiotics',\n",
       " 'abtract',\n",
       " 'abu',\n",
       " 'abubu',\n",
       " 'abudllah',\n",
       " 'abuelo',\n",
       " 'abugida',\n",
       " 'abugidas',\n",
       " 'abuisve',\n",
       " 'abujamal',\n",
       " 'abul',\n",
       " 'abulhawa',\n",
       " 'abundance',\n",
       " 'abundant',\n",
       " 'abundantly',\n",
       " 'abundently',\n",
       " 'abuot',\n",
       " 'abureem',\n",
       " 'abus',\n",
       " 'abuse',\n",
       " 'abusean',\n",
       " 'abused',\n",
       " 'abusedg',\n",
       " 'abuseif',\n",
       " 'abusejeppiz',\n",
       " 'abuser',\n",
       " 'abuses',\n",
       " 'abusevote',\n",
       " 'abuseyou',\n",
       " 'abusing',\n",
       " 'abusinmg',\n",
       " 'abusive',\n",
       " 'abusively',\n",
       " 'abusivelyluna',\n",
       " 'abusiveness',\n",
       " 'abusse',\n",
       " 'abut',\n",
       " 'abv',\n",
       " 'abwertend',\n",
       " 'abx',\n",
       " 'abyslam',\n",
       " 'abysmal',\n",
       " 'abyss',\n",
       " 'abyssal',\n",
       " 'abzug',\n",
       " 'abū',\n",
       " 'ac',\n",
       " 'aca',\n",
       " 'acabashi',\n",
       " 'acabdaeefaccdcda',\n",
       " 'acad',\n",
       " 'acadamy',\n",
       " 'academe',\n",
       " 'academia',\n",
       " 'academiasubsection',\n",
       " 'academic',\n",
       " 'academicae',\n",
       " 'academical',\n",
       " 'academically',\n",
       " 'academicallyfraudulent',\n",
       " 'academicallysound',\n",
       " 'academician',\n",
       " 'academicians',\n",
       " 'academics',\n",
       " 'academicscholar',\n",
       " 'academicspeople',\n",
       " 'academie',\n",
       " 'academiia',\n",
       " 'academinscientist',\n",
       " 'academize',\n",
       " 'academny',\n",
       " 'academy',\n",
       " 'academypng',\n",
       " 'acadia',\n",
       " 'acadian',\n",
       " 'acadiens',\n",
       " 'acadmemey',\n",
       " 'acadmic',\n",
       " 'académie',\n",
       " 'acaeff',\n",
       " 'acaia',\n",
       " 'acalamari',\n",
       " 'acanaen',\n",
       " 'acandidate',\n",
       " 'acanoobic',\n",
       " 'acas',\n",
       " 'acasaro',\n",
       " 'acatenango',\n",
       " 'acatitlán',\n",
       " 'acausal',\n",
       " 'acb',\n",
       " 'acbestdog',\n",
       " 'acbestmy',\n",
       " 'acc',\n",
       " 'accademic',\n",
       " 'acccidental',\n",
       " 'acccoding',\n",
       " 'acccount',\n",
       " 'acccurate',\n",
       " 'acccusations',\n",
       " 'accede',\n",
       " 'accedie',\n",
       " 'accedmic',\n",
       " 'acceepted',\n",
       " 'acceible',\n",
       " 'accelarate',\n",
       " 'accelerate',\n",
       " 'acceleration',\n",
       " 'accelerator',\n",
       " 'accelerometer',\n",
       " 'accent',\n",
       " 'accented',\n",
       " 'accentual',\n",
       " 'accentuate',\n",
       " 'accentuation',\n",
       " 'acceoted',\n",
       " 'accepet',\n",
       " 'accepeted',\n",
       " 'accept',\n",
       " 'acceptabe',\n",
       " 'acceptability',\n",
       " 'acceptabl',\n",
       " 'acceptable',\n",
       " 'acceptably',\n",
       " 'acceptallowing',\n",
       " 'acceptance',\n",
       " 'acceptancehttp',\n",
       " 'acceptancei',\n",
       " 'acceptancesrejections',\n",
       " 'accepted',\n",
       " 'acceptedreason',\n",
       " 'acceptence',\n",
       " 'acceptet',\n",
       " 'acceptibilty',\n",
       " 'accepting',\n",
       " 'acceptit',\n",
       " 'acceptor',\n",
       " 'accepts',\n",
       " 'acceptunblock',\n",
       " 'acceptyt',\n",
       " 'acces',\n",
       " 'accesibility',\n",
       " 'accesible',\n",
       " 'access',\n",
       " 'access_to_sources',\n",
       " 'accessable',\n",
       " 'accessdate',\n",
       " 'accessdates',\n",
       " 'accessed',\n",
       " 'accessemail',\n",
       " 'accessibility',\n",
       " 'accessible',\n",
       " 'accessibleradio',\n",
       " 'accession',\n",
       " 'accesskeys',\n",
       " 'accessment',\n",
       " 'accessory',\n",
       " 'accetable',\n",
       " 'accha',\n",
       " 'accidantally',\n",
       " 'accidence',\n",
       " 'accidency',\n",
       " 'accident',\n",
       " 'accidental',\n",
       " 'accidentally',\n",
       " 'accidentaly',\n",
       " 'accidential',\n",
       " 'accidently',\n",
       " 'accidentmistake',\n",
       " 'accidentrelated',\n",
       " 'accies',\n",
       " 'acclaim',\n",
       " 'acclimate',\n",
       " 'acclomplishments',\n",
       " 'accn',\n",
       " 'accoint',\n",
       " 'accolade',\n",
       " 'accolades',\n",
       " 'accoleius',\n",
       " 'accolitesgroup',\n",
       " 'accomidate',\n",
       " 'accomix',\n",
       " 'accommedation',\n",
       " 'accommodate',\n",
       " 'accommodates',\n",
       " 'accommodation',\n",
       " 'accomodate',\n",
       " 'accomodating',\n",
       " 'accomodation',\n",
       " 'accompanied',\n",
       " 'accompanies',\n",
       " 'accompany',\n",
       " 'accompanying',\n",
       " 'accompli',\n",
       " 'accompliashed',\n",
       " 'accomplice',\n",
       " 'accomplised',\n",
       " 'accomplish',\n",
       " 'accomplished',\n",
       " 'accomplishedimportant',\n",
       " 'accomplishements',\n",
       " ...]"
      ]
     },
     "execution_count": 37,
     "metadata": {},
     "output_type": "execute_result"
    }
   ],
   "source": [
    "count_vect.get_feature_names() "
   ]
  },
  {
   "cell_type": "markdown",
   "metadata": {},
   "source": [
    "Вот это слово из нашего словаря точно все описывает - 'abracadabra'. Похоже, есть деффекты при чистке слов? Ладно, пока оставим и хотя бы одну модель протестируем, а потом уже посмотрим, насколько большие у нас проблемы с качеством из-за этого."
   ]
  },
  {
   "cell_type": "markdown",
   "metadata": {},
   "source": [
    "В принципе результат уже довольно неплох уже на самой первой модели регрессии. Так что вместо того, чтобы отсеять 50-100 слов из 200 000, давайте попробуем сделать другую модель для кодирования слов, а именно - используем веторизатор TFIDF."
   ]
  },
  {
   "cell_type": "code",
   "execution_count": 38,
   "metadata": {
    "scrolled": false
   },
   "outputs": [
    {
     "name": "stdout",
     "output_type": "stream",
     "text": [
      "84872     arrival celt though may literally correct ref ...\n",
      "117136    hi shirahadasha look nt problem sorry nt get b...\n",
      "56289     belated welcome s wishing belated welcome wiki...\n",
      "22348     could find source sept th live chat believe ex...\n",
      "133257    grand boucle hi maybe answer question talk gra...\n",
      "                                ...                        \n",
      "64680     wp bn friendly poke hello raul sorry bother se...\n",
      "144484    use fact nt time especially since vandal rever...\n",
      "52979     digg troll vandalize volume_license_key fckgw ...\n",
      "59089     image copyright problem image pjpg thanks uplo...\n",
      "115270    thanks ok tco need rm hit stats give convince ...\n",
      "Name: cleared, Length: 95574, dtype: object\n"
     ]
    }
   ],
   "source": [
    "print(x_train)"
   ]
  },
  {
   "cell_type": "code",
   "execution_count": 39,
   "metadata": {},
   "outputs": [],
   "source": [
    "tfidf_vect = TfidfVectorizer()\n",
    "x_train_tfidf = tfidf_vect.fit_transform(x_train)"
   ]
  },
  {
   "cell_type": "code",
   "execution_count": 40,
   "metadata": {},
   "outputs": [
    {
     "data": {
      "text/plain": [
       "(95574, 141430)"
      ]
     },
     "execution_count": 40,
     "metadata": {},
     "output_type": "execute_result"
    }
   ],
   "source": [
    "x_train_tfidf.shape"
   ]
  },
  {
   "cell_type": "code",
   "execution_count": 41,
   "metadata": {
    "scrolled": true
   },
   "outputs": [
    {
     "name": "stdout",
     "output_type": "stream",
     "text": [
      "  (0, 97502)\t0.16961894096501304\n",
      "  (0, 132487)\t0.05885341706526875\n",
      "  (0, 67633)\t0.08477835934164034\n",
      "  (0, 128405)\t0.05133440699413286\n",
      "  (0, 4225)\t0.07457883624977993\n",
      "  (0, 12618)\t0.07175384728538492\n",
      "  (0, 113703)\t0.13333122262229258\n",
      "  (0, 73005)\t0.0667679939253027\n",
      "  (0, 28148)\t0.10125238332219824\n",
      "  (0, 73799)\t0.08213425316072874\n",
      "  (0, 116212)\t0.08552817914349645\n",
      "  (0, 125604)\t0.19445915871191194\n",
      "  (0, 67187)\t0.11511953891067822\n",
      "  (0, 41463)\t0.09214014687449916\n",
      "  (0, 86426)\t0.0495900834328368\n",
      "  (0, 22368)\t0.09919388188730485\n",
      "  (0, 128115)\t0.12711759889933683\n",
      "  (0, 57938)\t0.1409715668257616\n",
      "  (0, 77090)\t0.12282770765440137\n",
      "  (0, 25426)\t0.09474219687205253\n",
      "  (0, 60771)\t0.235511742092451\n",
      "  (0, 90631)\t0.05805212242295185\n",
      "  (0, 113665)\t0.08914590406303474\n",
      "  (0, 19879)\t0.4165422551270981\n",
      "  (0, 50584)\t0.08244018575228369\n",
      "  :\t:\n",
      "  (95572, 98100)\t0.08381959055958083\n",
      "  (95572, 4268)\t0.034172158669471764\n",
      "  (95572, 43878)\t0.07595864978030815\n",
      "  (95572, 120703)\t0.0404159897808577\n",
      "  (95572, 107695)\t0.031960620948371925\n",
      "  (95572, 133880)\t0.11783887452032046\n",
      "  (95572, 118971)\t0.028478717604956908\n",
      "  (95572, 95559)\t0.04475269695319938\n",
      "  (95572, 128405)\t0.06463968533694296\n",
      "  (95572, 4225)\t0.04695439949790543\n",
      "  (95572, 73005)\t0.04203673881344101\n",
      "  (95572, 88562)\t0.0547262957697558\n",
      "  (95572, 74111)\t0.03780479762940817\n",
      "  (95573, 119624)\t0.5384964941583523\n",
      "  (95573, 115043)\t0.35522490557842035\n",
      "  (95573, 103544)\t0.35958382640011494\n",
      "  (95573, 38809)\t0.2192693306298706\n",
      "  (95573, 122462)\t0.22726854810067829\n",
      "  (95573, 54641)\t0.2828834032727818\n",
      "  (95573, 25806)\t0.31535973585646\n",
      "  (95573, 120712)\t0.16500284112235303\n",
      "  (95573, 64745)\t0.19348781343378127\n",
      "  (95573, 48791)\t0.1738202722624775\n",
      "  (95573, 86046)\t0.23353138953350705\n",
      "  (95573, 81264)\t0.16098937976593963\n"
     ]
    }
   ],
   "source": [
    "print(x_train_tfidf)"
   ]
  },
  {
   "cell_type": "markdown",
   "metadata": {},
   "source": [
    "### Оценка Spacy"
   ]
  },
  {
   "cell_type": "markdown",
   "metadata": {},
   "source": [
    "Я здесь налепил все в кучу. я не хотел переделывать весь проект, только одним глазком оценить эффективность **SPACY** относительно ворднета. Но немножко затянулось. Целиком не буду все переделывать, если не будет прямо радикальных отличий по качеству. Скорее просто для личной информации, чтобы понимать, чем лучше пользоваться в будущем и заодно продемонстрировать, что я в спэйси тоже научился."
   ]
  },
  {
   "cell_type": "code",
   "execution_count": 42,
   "metadata": {},
   "outputs": [],
   "source": [
    "count_vect2 = CountVectorizer()\n",
    "bow2 = count_vect2.fit_transform(x_train2)"
   ]
  },
  {
   "cell_type": "code",
   "execution_count": 43,
   "metadata": {
    "scrolled": false
   },
   "outputs": [
    {
     "data": {
      "text/plain": [
       "<95574x123556 sparse matrix of type '<class 'numpy.int64'>'\n",
       "\twith 3831330 stored elements in Compressed Sparse Row format>"
      ]
     },
     "metadata": {},
     "output_type": "display_data"
    }
   ],
   "source": [
    "display(bow2)"
   ]
  },
  {
   "cell_type": "code",
   "execution_count": 44,
   "metadata": {},
   "outputs": [
    {
     "data": {
      "text/plain": [
       "['__',\n",
       " '___',\n",
       " '_____',\n",
       " '________',\n",
       " '____________________',\n",
       " '_accepted',\n",
       " '_itm',\n",
       " '_n__w_region',\n",
       " '_not_using_byte',\n",
       " '_o',\n",
       " '_pound_man_in_drag_eating_steakpng',\n",
       " '_simple_rules_for_buying_my_teenage_daughter',\n",
       " 'a_cardboard_microwave',\n",
       " 'a_hero_sits_next_door',\n",
       " 'a_picture_is_worth_a__buck',\n",
       " 'a_rticle',\n",
       " 'a_smoky_mountain_christmasjpg',\n",
       " 'a_to_z_butterfingerjpg',\n",
       " 'aa',\n",
       " 'aaa',\n",
       " 'aaaa',\n",
       " 'aaaaaaaa',\n",
       " 'aaaaaaaaaaaaaaaaaaaaaaaaaaaaaaaaaaaaaaaaaaaaaaaaaaaaaaaaaaaaaaaaaaaaaany',\n",
       " 'aaaaaaaaaah',\n",
       " 'aaaaaaaaaahhhhhhhhhhhhhh',\n",
       " 'aaaaaaaayui',\n",
       " 'aaaaaaahhhhhhhhhhhhhhhhhhhhhhhh',\n",
       " 'aaaaaaw',\n",
       " 'aaaaah',\n",
       " 'aaaaajpg',\n",
       " 'aaaannnnyyyywwwwhhhheeeerrrreeee',\n",
       " 'aaaawwww',\n",
       " 'aaaboyzhotmailcom',\n",
       " 'aaage',\n",
       " 'aaaghh',\n",
       " 'aaah',\n",
       " 'aaahhh',\n",
       " 'aaai',\n",
       " 'aaan',\n",
       " 'aaand',\n",
       " 'aaba',\n",
       " 'aabove',\n",
       " 'aac',\n",
       " 'aacd',\n",
       " 'aachen',\n",
       " 'aachi',\n",
       " 'aad_dira',\n",
       " 'aadd',\n",
       " 'aadil',\n",
       " 'aadmi',\n",
       " 'aaf',\n",
       " 'aaffect',\n",
       " 'aafia',\n",
       " 'aafs',\n",
       " 'aage',\n",
       " 'aagf',\n",
       " 'aagin',\n",
       " 'aah',\n",
       " 'aahahahahahaha',\n",
       " 'aahh',\n",
       " 'aahil',\n",
       " 'aahoa',\n",
       " 'aai',\n",
       " 'aajonus',\n",
       " 'aal',\n",
       " 'aalexa',\n",
       " 'aaliyah',\n",
       " 'aam',\n",
       " 'aami',\n",
       " 'aamir',\n",
       " 'aamu',\n",
       " 'aan',\n",
       " 'aand',\n",
       " 'aandahl',\n",
       " 'aang',\n",
       " 'aaot',\n",
       " 'aap',\n",
       " 'aapropriate',\n",
       " 'aar',\n",
       " 'aarabsmany',\n",
       " 'aarau',\n",
       " 'aardsma',\n",
       " 'aardsman',\n",
       " 'aardvark',\n",
       " 'aardvarkstubulidentata',\n",
       " 'aare',\n",
       " 'aarem',\n",
       " 'aarne',\n",
       " 'aaroamal',\n",
       " 'aarohi',\n",
       " 'aaron',\n",
       " 'aaroncricktassie',\n",
       " 'aaronic',\n",
       " 'aaronshavit',\n",
       " 'aaronsw',\n",
       " 'aaround',\n",
       " 'aarp',\n",
       " 'aarrrrrrgh',\n",
       " 'aaruveetil',\n",
       " 'aas',\n",
       " 'aashto',\n",
       " 'aaskillz',\n",
       " 'aat',\n",
       " 'aau',\n",
       " 'aave',\n",
       " 'aaviksoo',\n",
       " 'aavishkaar',\n",
       " 'aayale',\n",
       " 'ab',\n",
       " 'aba',\n",
       " 'abab',\n",
       " 'aback',\n",
       " 'abacus',\n",
       " 'abad',\n",
       " 'abadan',\n",
       " 'abaddon',\n",
       " 'abade',\n",
       " 'abagnale',\n",
       " 'abali',\n",
       " 'abandon',\n",
       " 'abandoned',\n",
       " 'abandonment',\n",
       " 'abandonou',\n",
       " 'abanes',\n",
       " 'abang',\n",
       " 'abantecart',\n",
       " 'abaranger',\n",
       " 'abarat',\n",
       " 'abarbanel',\n",
       " 'abarenoh',\n",
       " 'abase',\n",
       " 'abassid',\n",
       " 'abatayo',\n",
       " 'abate',\n",
       " 'abba',\n",
       " 'abbas',\n",
       " 'abbasaheb',\n",
       " 'abbasgulu',\n",
       " 'abbasid',\n",
       " 'abbassid',\n",
       " 'abbastanza',\n",
       " 'abbau',\n",
       " 'abbe',\n",
       " 'abberation',\n",
       " 'abberrant',\n",
       " 'abbette',\n",
       " 'abbey',\n",
       " 'abbf',\n",
       " 'abbi',\n",
       " 'abbitt',\n",
       " 'abbot',\n",
       " 'abbott',\n",
       " 'abbottabad',\n",
       " 'abbottcostello',\n",
       " 'abbottsford',\n",
       " 'abbr',\n",
       " 'abbrevation',\n",
       " 'abbreveated',\n",
       " 'abbreviate',\n",
       " 'abbreviated',\n",
       " 'abbreviatedis',\n",
       " 'abbreviation',\n",
       " 'abbrevs',\n",
       " 'abbriviation',\n",
       " 'abbrégé',\n",
       " 'abbs',\n",
       " 'abbusively',\n",
       " 'abby',\n",
       " 'abbythecat',\n",
       " 'abbywinterscom',\n",
       " 'abc',\n",
       " 'abcd',\n",
       " 'abcde',\n",
       " 'abce',\n",
       " 'abcedare',\n",
       " 'abcedere',\n",
       " 'abcef',\n",
       " 'abcfigure',\n",
       " 'abcmonster',\n",
       " 'abcxyz',\n",
       " 'abd',\n",
       " 'abdallar',\n",
       " 'abdaly',\n",
       " 'abdalyar',\n",
       " 'abdel',\n",
       " 'abdelaziz',\n",
       " 'abdi',\n",
       " 'abdicate',\n",
       " 'abdication',\n",
       " 'abdillah',\n",
       " 'abdin',\n",
       " 'abdirahman',\n",
       " 'abdnor',\n",
       " 'abdolhassan',\n",
       " 'abdomen',\n",
       " 'abdominal',\n",
       " 'abduct',\n",
       " 'abducted',\n",
       " 'abduction',\n",
       " 'abductive',\n",
       " 'abdul',\n",
       " 'abdulaziz',\n",
       " 'abdulhamid',\n",
       " 'abdulla',\n",
       " 'abdullah',\n",
       " 'abdullahi',\n",
       " 'abdulrazak',\n",
       " 'abdur',\n",
       " 'abdusamatov',\n",
       " 'abdülhalim',\n",
       " 'abe',\n",
       " 'abecedare',\n",
       " 'abecedarian',\n",
       " 'abedin',\n",
       " 'abeer',\n",
       " 'abefc',\n",
       " 'abei',\n",
       " 'abel',\n",
       " 'abele',\n",
       " 'abenaki',\n",
       " 'aber',\n",
       " 'abercrombie',\n",
       " 'abercromby',\n",
       " 'aberdeen',\n",
       " 'abernathy',\n",
       " 'abernethy',\n",
       " 'aberoo',\n",
       " 'aberrant',\n",
       " 'aberrantly',\n",
       " 'aberration',\n",
       " 'abert',\n",
       " 'abertura',\n",
       " 'abertzale',\n",
       " 'abet',\n",
       " 'abeter',\n",
       " 'abettor',\n",
       " 'abetz',\n",
       " 'abey',\n",
       " 'abeyance',\n",
       " 'abf',\n",
       " 'abgang',\n",
       " 'abh',\n",
       " 'abhaga',\n",
       " 'abhaile',\n",
       " 'abhay',\n",
       " 'abhayagiri',\n",
       " 'abheda',\n",
       " 'abhi',\n",
       " 'abhidhamma',\n",
       " 'abhidharma',\n",
       " 'abhijna',\n",
       " 'abhimanyu',\n",
       " 'abhinav',\n",
       " 'abhira',\n",
       " 'abhiramdasji',\n",
       " 'abhiras',\n",
       " 'abhisamaya',\n",
       " 'abhishek',\n",
       " 'abhishikt',\n",
       " 'abhor',\n",
       " 'abhorant',\n",
       " 'abhorrence',\n",
       " 'abhorrent',\n",
       " 'abhorrently',\n",
       " 'abhramidic',\n",
       " 'abi',\n",
       " 'abid',\n",
       " 'abide',\n",
       " 'abider',\n",
       " 'abie',\n",
       " 'abigail',\n",
       " 'ability',\n",
       " 'abilitys',\n",
       " 'abilty',\n",
       " 'abingdon',\n",
       " 'abio',\n",
       " 'abiogenesis',\n",
       " 'abiogenic',\n",
       " 'abiography',\n",
       " 'abiotic',\n",
       " 'abir',\n",
       " 'abisy',\n",
       " 'abit',\n",
       " 'abitrary',\n",
       " 'abitrator',\n",
       " 'abjad',\n",
       " 'abject',\n",
       " 'abjectio',\n",
       " 'abjective',\n",
       " 'abjectly',\n",
       " 'abjpg',\n",
       " 'abkahzia',\n",
       " 'abkazia',\n",
       " 'abkhazia',\n",
       " 'ablan',\n",
       " 'ablation',\n",
       " 'ablaze',\n",
       " 'able',\n",
       " 'ableist',\n",
       " 'ableson',\n",
       " 'ableton',\n",
       " 'ablilty',\n",
       " 'ablindinglight',\n",
       " 'ablution',\n",
       " 'ably',\n",
       " 'abn',\n",
       " 'abnima',\n",
       " 'abnormal',\n",
       " 'abnormality',\n",
       " 'abnormally',\n",
       " 'abo',\n",
       " 'aboard',\n",
       " 'abode',\n",
       " 'aboiut',\n",
       " 'abolish',\n",
       " 'abolishion',\n",
       " 'abolishment',\n",
       " 'abolition',\n",
       " 'abolitionist',\n",
       " 'abolsutely',\n",
       " 'abolutely',\n",
       " 'abolution',\n",
       " 'abominable',\n",
       " 'abominably',\n",
       " 'abomination',\n",
       " 'abondantly',\n",
       " 'aboot',\n",
       " 'aboout',\n",
       " 'aboput',\n",
       " 'aborigin',\n",
       " 'aboriginal',\n",
       " 'aborigine',\n",
       " 'abort',\n",
       " 'abortion',\n",
       " 'abortionist',\n",
       " 'abortionrefpng',\n",
       " 'abortive',\n",
       " 'aborz',\n",
       " 'aboslutly',\n",
       " 'abosolut',\n",
       " 'abosolute',\n",
       " 'abosultely',\n",
       " 'abot',\n",
       " 'abotu',\n",
       " 'abou',\n",
       " 'abound',\n",
       " 'abour',\n",
       " 'abourezk',\n",
       " 'about',\n",
       " 'abouta',\n",
       " 'aboutcivilcom',\n",
       " 'aboutcom',\n",
       " 'abouteagle',\n",
       " 'abouteven',\n",
       " 'abouth',\n",
       " 'abouti',\n",
       " 'aboutmovie',\n",
       " 'aboutself',\n",
       " 'aboutthat',\n",
       " 'aboutthe',\n",
       " 'aboutus',\n",
       " 'aboutusorg',\n",
       " 'aboutusphp',\n",
       " 'aboutv',\n",
       " 'aboutxx',\n",
       " 'above',\n",
       " 'aboveagain',\n",
       " 'aboveboard',\n",
       " 'abovementione',\n",
       " 'abovementioned',\n",
       " 'aboverely',\n",
       " 'abovetalk',\n",
       " 'abovethat',\n",
       " 'aboveu',\n",
       " 'abovev',\n",
       " 'abow',\n",
       " 'abput',\n",
       " 'abpw',\n",
       " 'abracadabra',\n",
       " 'abraha',\n",
       " 'abraham',\n",
       " 'abrahamdavidson',\n",
       " 'abrahamform',\n",
       " 'abrahamic',\n",
       " 'abrahamisaac',\n",
       " 'abrahams',\n",
       " 'abrahamsson',\n",
       " 'abrahm',\n",
       " 'abrahmic',\n",
       " 'abrajib',\n",
       " 'abram',\n",
       " 'abramce',\n",
       " 'abramoff',\n",
       " 'abramoffrefactor',\n",
       " 'abrams',\n",
       " 'abrar',\n",
       " 'abrasion',\n",
       " 'abrasive',\n",
       " 'abrazame',\n",
       " 'abreast',\n",
       " 'abrevashun',\n",
       " 'abridge',\n",
       " 'abridged',\n",
       " 'abridgement',\n",
       " 'abrievenbus',\n",
       " 'abritrator',\n",
       " 'abriviation',\n",
       " 'abroad',\n",
       " 'abrogate',\n",
       " 'abrogation',\n",
       " 'abrolhos',\n",
       " 'abrubt',\n",
       " 'abrupt',\n",
       " 'abruptive',\n",
       " 'abruptly',\n",
       " 'abruptness',\n",
       " 'abs',\n",
       " 'absalom',\n",
       " 'absander',\n",
       " 'abscissa',\n",
       " 'absconder',\n",
       " 'absence',\n",
       " 'absense',\n",
       " 'absent',\n",
       " 'absentbe',\n",
       " 'absentee',\n",
       " 'absentia',\n",
       " 'absently',\n",
       " 'absicllay',\n",
       " 'absinthe',\n",
       " 'absitnence',\n",
       " 'absmag',\n",
       " 'absofreakinlutely',\n",
       " 'absoft',\n",
       " 'absofuckinglutely',\n",
       " 'absolkutely',\n",
       " 'absololutely',\n",
       " 'absolom',\n",
       " 'absoloute',\n",
       " 'absoloutely',\n",
       " 'absolte',\n",
       " 'absolument',\n",
       " 'absolut',\n",
       " 'absolutdan',\n",
       " 'absolute',\n",
       " 'absoluteastronomycom',\n",
       " 'absolutelly',\n",
       " 'absolutely',\n",
       " 'absolutelyim',\n",
       " 'absolutemadonna',\n",
       " 'absolutewrite',\n",
       " 'absolution',\n",
       " 'absolutisht',\n",
       " 'absolutist',\n",
       " 'absolutley',\n",
       " 'absolutly',\n",
       " 'absolutte',\n",
       " 'absolve',\n",
       " 'absorb',\n",
       " 'absorbably',\n",
       " 'absorbend',\n",
       " 'absorbent',\n",
       " 'absorption',\n",
       " 'absortion',\n",
       " 'absoultlly',\n",
       " 'absoutely',\n",
       " 'abstact',\n",
       " 'abstain',\n",
       " 'abstance',\n",
       " 'abstention',\n",
       " 'abstentionism',\n",
       " 'abstentionist',\n",
       " 'abstinant',\n",
       " 'abstinence',\n",
       " 'abstract',\n",
       " 'abstracta',\n",
       " 'abstraction',\n",
       " 'abstractionism',\n",
       " 'abstractionor',\n",
       " 'abstrakt',\n",
       " 'abstruse',\n",
       " 'absue',\n",
       " 'absurd',\n",
       " 'absurdem',\n",
       " 'absurdist',\n",
       " 'absurdity',\n",
       " 'absurdly',\n",
       " 'absurdum',\n",
       " 'absurt',\n",
       " 'abt',\n",
       " 'abtalion',\n",
       " 'abtc',\n",
       " 'abtibiotic',\n",
       " 'abtract',\n",
       " 'abu',\n",
       " 'abubu',\n",
       " 'abudllah',\n",
       " 'abuelo',\n",
       " 'abugida',\n",
       " 'abugidas',\n",
       " 'abuisve',\n",
       " 'abul',\n",
       " 'abulhawa',\n",
       " 'abundance',\n",
       " 'abundant',\n",
       " 'abundantly',\n",
       " 'abundently',\n",
       " 'abuot',\n",
       " 'abureem',\n",
       " 'abus',\n",
       " 'abuse',\n",
       " 'abusean',\n",
       " 'abused',\n",
       " 'abusedg',\n",
       " 'abuseif',\n",
       " 'abusejeppiz',\n",
       " 'abusephilter',\n",
       " 'abuser',\n",
       " 'abuseyou',\n",
       " 'abusing',\n",
       " 'abusinmg',\n",
       " 'abusive',\n",
       " 'abusively',\n",
       " 'abusivelythe',\n",
       " 'abusiveness',\n",
       " 'abusse',\n",
       " 'abut',\n",
       " 'abv',\n",
       " 'abwertend',\n",
       " 'abx',\n",
       " 'abyale',\n",
       " 'abyslam',\n",
       " 'abysmal',\n",
       " 'abyss',\n",
       " 'abyssal',\n",
       " 'abzug',\n",
       " 'abū',\n",
       " 'ac',\n",
       " 'aca',\n",
       " 'acabashi',\n",
       " 'acabdaeefaccdcda',\n",
       " 'acad',\n",
       " 'acadamy',\n",
       " 'academe',\n",
       " 'academia',\n",
       " 'academiayou',\n",
       " 'academic',\n",
       " 'academicae',\n",
       " 'academical',\n",
       " 'academically',\n",
       " 'academician',\n",
       " 'academicians',\n",
       " 'academicsnot',\n",
       " 'academicspeople',\n",
       " 'academicsthe',\n",
       " 'academie',\n",
       " 'academiia',\n",
       " 'academinscientist',\n",
       " 'academize',\n",
       " 'academny',\n",
       " 'academy',\n",
       " 'academyonly',\n",
       " 'academypng',\n",
       " 'acadia',\n",
       " 'acadian',\n",
       " 'acadien',\n",
       " 'acadmemey',\n",
       " 'acadmic',\n",
       " 'académie',\n",
       " 'acaeff',\n",
       " 'acaia',\n",
       " 'acalamari',\n",
       " 'acandidate',\n",
       " 'acanoobic',\n",
       " 'acas',\n",
       " 'acatenango',\n",
       " 'acatitlán',\n",
       " 'acausal',\n",
       " 'acb',\n",
       " 'acbestdog',\n",
       " 'acbestmy',\n",
       " 'acc',\n",
       " 'accademic',\n",
       " 'acccidental',\n",
       " 'acccode',\n",
       " 'acccount',\n",
       " 'acccurate',\n",
       " 'acccusation',\n",
       " 'acce',\n",
       " 'accede',\n",
       " 'accedie',\n",
       " 'accedmic',\n",
       " 'acceepte',\n",
       " 'acceible',\n",
       " 'accelarate',\n",
       " 'accelerate',\n",
       " 'accelerated',\n",
       " 'acceleration',\n",
       " 'accelerator',\n",
       " 'accelerometer',\n",
       " 'accent',\n",
       " 'accented',\n",
       " 'accentual',\n",
       " 'accentuate',\n",
       " 'accentuation',\n",
       " 'acceoted',\n",
       " 'accepable',\n",
       " 'accepet',\n",
       " 'accepete',\n",
       " 'accept',\n",
       " 'acceptabe',\n",
       " 'acceptability',\n",
       " 'acceptable',\n",
       " 'acceptably',\n",
       " 'acceptance',\n",
       " 'acceptancehttpfas',\n",
       " 'acceptancei',\n",
       " 'accepted',\n",
       " 'acceptedand',\n",
       " 'acceptedreason',\n",
       " 'acceptence',\n",
       " 'acceptet',\n",
       " 'acceptibilty',\n",
       " 'acceptor',\n",
       " 'acceptyt',\n",
       " 'accesibility',\n",
       " 'accesible',\n",
       " 'access',\n",
       " 'accessable',\n",
       " 'accessdate',\n",
       " 'accessibility',\n",
       " 'accessibilitytext',\n",
       " 'accessible',\n",
       " 'accessibleradio',\n",
       " 'accessing',\n",
       " 'accession',\n",
       " 'accesskey',\n",
       " 'accessment',\n",
       " 'accessory',\n",
       " 'accesss',\n",
       " 'accetable',\n",
       " 'accha',\n",
       " 'accidantally',\n",
       " 'accidence',\n",
       " 'accidency',\n",
       " 'accident',\n",
       " 'accidental',\n",
       " 'accidentally',\n",
       " 'accidentaly',\n",
       " 'accidential',\n",
       " 'accidently',\n",
       " 'accie',\n",
       " 'acclaim',\n",
       " 'acclimate',\n",
       " 'acclimation',\n",
       " 'acclomplishment',\n",
       " 'accoint',\n",
       " 'accolade',\n",
       " 'accoleius',\n",
       " 'accolite',\n",
       " 'accomidate',\n",
       " 'accomix',\n",
       " 'accommedation',\n",
       " 'accommodate',\n",
       " 'accommodation',\n",
       " 'accomodate',\n",
       " 'accomodating',\n",
       " 'accomodation',\n",
       " 'accompanied',\n",
       " 'accompany',\n",
       " 'accompanying',\n",
       " 'accompli',\n",
       " 'accompliashe',\n",
       " 'accomplice',\n",
       " 'accomplised',\n",
       " 'accomplish',\n",
       " 'accomplished',\n",
       " 'accomplishement',\n",
       " 'accomplishment',\n",
       " 'accomplshment',\n",
       " 'accont',\n",
       " 'accontless',\n",
       " 'accop',\n",
       " 'accor',\n",
       " 'accord',\n",
       " 'accordanc',\n",
       " 'accordance',\n",
       " 'accorde',\n",
       " 'accordign',\n",
       " 'accordingly',\n",
       " 'accordion',\n",
       " 'accordé',\n",
       " 'accorrde',\n",
       " 'accorse',\n",
       " 'accosiate',\n",
       " 'accouintable',\n",
       " 'accoun',\n",
       " 'accound',\n",
       " 'account',\n",
       " 'accountability',\n",
       " 'accountable',\n",
       " 'accountably',\n",
       " 'accountancy',\n",
       " 'accountant',\n",
       " 'accountants',\n",
       " 'accountat',\n",
       " 'accountgalraedia',\n",
       " 'accountible',\n",
       " 'accountif',\n",
       " 'accounting',\n",
       " 'accountingtaste',\n",
       " 'accountlike',\n",
       " 'accountpage',\n",
       " 'accounts',\n",
       " 'accountsits',\n",
       " 'accountstargatewikiorg',\n",
       " 'accounttttt',\n",
       " 'accourde',\n",
       " 'accout',\n",
       " 'accoutn',\n",
       " 'accoutrement',\n",
       " 'accpet',\n",
       " 'accpetable',\n",
       " 'accrde',\n",
       " 'accredit',\n",
       " 'accreditation',\n",
       " 'accredited',\n",
       " 'accreditor',\n",
       " 'accreqbot',\n",
       " 'accrete',\n",
       " 'accretion',\n",
       " 'accrington',\n",
       " 'accrode',\n",
       " 'accross',\n",
       " 'accrue',\n",
       " 'accsese',\n",
       " 'acct',\n",
       " 'acction',\n",
       " 'acctually',\n",
       " 'acctully',\n",
       " 'accu',\n",
       " 'accuaracy',\n",
       " 'accuasion',\n",
       " 'accuate',\n",
       " 'accue',\n",
       " 'accuese',\n",
       " 'accuire',\n",
       " 'accumalation',\n",
       " 'accumlate',\n",
       " 'accummulate',\n",
       " 'accumulate',\n",
       " 'accumulation',\n",
       " 'accunt',\n",
       " 'accuracte',\n",
       " 'accuracy',\n",
       " 'accuracy_dispute',\n",
       " 'accuracya',\n",
       " 'accuracytruth',\n",
       " 'accurate',\n",
       " 'accuratebyby',\n",
       " 'accurately',\n",
       " 'accuratesource',\n",
       " 'accuratley',\n",
       " 'accuratly',\n",
       " 'accure',\n",
       " 'accurent',\n",
       " 'accurrate',\n",
       " 'accurse',\n",
       " 'accursed',\n",
       " 'accusation',\n",
       " 'accusationa',\n",
       " 'accusational',\n",
       " 'accusationsit',\n",
       " 'accusationsnewl',\n",
       " 'accusative',\n",
       " 'accusator',\n",
       " 'accusatorie',\n",
       " 'accusatory',\n",
       " 'accusatry',\n",
       " 'accuse',\n",
       " 'accused',\n",
       " 'accuser',\n",
       " 'accusition',\n",
       " 'accussation',\n",
       " 'accusse',\n",
       " 'accustaio',\n",
       " 'accustation',\n",
       " 'accustion',\n",
       " 'accustom',\n",
       " 'accustomed',\n",
       " 'accutely',\n",
       " 'accutrate',\n",
       " 'acd',\n",
       " 'acdcpre',\n",
       " 'ace',\n",
       " 'ace_',\n",
       " 'acedemic',\n",
       " 'acedemically',\n",
       " 'acedemy',\n",
       " 'acehall',\n",
       " 'acephalous',\n",
       " 'acept',\n",
       " 'acepte',\n",
       " 'acer',\n",
       " 'acerbic',\n",
       " 'aces',\n",
       " 'acess',\n",
       " 'acesse',\n",
       " 'acetaldehyde',\n",
       " 'acetate',\n",
       " 'acetic',\n",
       " 'acetylene',\n",
       " 'acevedo',\n",
       " 'acf',\n",
       " 'acgih',\n",
       " 'acha',\n",
       " 'achaemenid',\n",
       " 'achakzai',\n",
       " 'achamenid',\n",
       " 'acharaya',\n",
       " 'achartsus',\n",
       " 'acharya',\n",
       " 'acharyans',\n",
       " 'acharyas',\n",
       " 'ache',\n",
       " 'acheart',\n",
       " 'achee',\n",
       " 'achehnese',\n",
       " 'acheiral',\n",
       " 'acheivable',\n",
       " 'acheive',\n",
       " 'acheivement',\n",
       " 'acheron',\n",
       " 'acheson',\n",
       " 'achhe',\n",
       " 'achiev',\n",
       " 'achievable',\n",
       " 'achieve',\n",
       " 'achievement',\n",
       " 'achievements',\n",
       " 'achievment',\n",
       " 'achille',\n",
       " 'achillobator',\n",
       " 'achim',\n",
       " 'aching',\n",
       " 'achingly',\n",
       " 'achintya',\n",
       " 'achive',\n",
       " 'achivement',\n",
       " 'achmednut',\n",
       " 'achtng',\n",
       " 'achtung',\n",
       " 'acid',\n",
       " 'acident',\n",
       " 'acidic',\n",
       " 'acidity',\n",
       " 'acids',\n",
       " 'acidsnow',\n",
       " 'acidy',\n",
       " 'acig',\n",
       " 'acim',\n",
       " 'acimniganim',\n",
       " 'acimuk',\n",
       " 'acineta',\n",
       " 'acitivitie',\n",
       " 'ack',\n",
       " 'acker',\n",
       " 'ackerman',\n",
       " 'acknnowledge',\n",
       " 'acknoledge',\n",
       " 'acknolwedge',\n",
       " 'acknowlage',\n",
       " 'acknowledement',\n",
       " 'acknowledge',\n",
       " 'acknowledgement',\n",
       " 'acknowledgment',\n",
       " 'acknowlege',\n",
       " 'ackowledge',\n",
       " 'ackoz',\n",
       " 'acl',\n",
       " 'aclaime',\n",
       " 'aclal',\n",
       " 'aclaration',\n",
       " 'aclear',\n",
       " 'aclu',\n",
       " 'acm',\n",
       " 'acma',\n",
       " 'acmeman',\n",
       " 'acmilancom',\n",
       " 'acn',\n",
       " 'acne',\n",
       " 'acnient',\n",
       " 'acnowledge',\n",
       " 'aco',\n",
       " 'acog',\n",
       " 'acolyte',\n",
       " 'acoma',\n",
       " 'acomment',\n",
       " 'acommodate',\n",
       " 'acomplish',\n",
       " 'acomplishe',\n",
       " 'acondicianodao',\n",
       " 'acorah',\n",
       " 'acorde',\n",
       " 'acordingly',\n",
       " 'acorn',\n",
       " 'acorrding',\n",
       " 'acosta',\n",
       " 'acount',\n",
       " 'acountant',\n",
       " 'acouple',\n",
       " 'acoustic',\n",
       " 'acoustical',\n",
       " 'acoustically',\n",
       " 'acp',\n",
       " 'acpbg',\n",
       " 'acps',\n",
       " 'acquaint',\n",
       " 'acquaintance',\n",
       " 'acquaintanceship',\n",
       " 'acquainted',\n",
       " 'acquaintence',\n",
       " 'acquantance',\n",
       " 'acquiesce',\n",
       " 'acquiescence',\n",
       " 'acquire',\n",
       " 'acquisition',\n",
       " 'acquit',\n",
       " 'acquittal',\n",
       " 'acr',\n",
       " 'acragas',\n",
       " 'acre',\n",
       " 'acreas',\n",
       " 'acresso',\n",
       " 'acrimonious',\n",
       " 'acrimony',\n",
       " 'acrobat',\n",
       " 'acrobatic',\n",
       " 'acroloxoidea',\n",
       " 'acrony',\n",
       " 'acronym',\n",
       " 'acronyms',\n",
       " 'acroo',\n",
       " 'acropolis',\n",
       " 'across',\n",
       " 'acrosst',\n",
       " 'acroterion',\n",
       " 'acrtual',\n",
       " 'acrylic',\n",
       " 'acryllium',\n",
       " 'acs',\n",
       " 'acse',\n",
       " 'acslast',\n",
       " 'acst',\n",
       " 'act',\n",
       " 'acta',\n",
       " 'actaaly',\n",
       " 'actally',\n",
       " 'actaully',\n",
       " 'actcount',\n",
       " 'actdec',\n",
       " 'actf',\n",
       " 'acthe',\n",
       " 'acticle',\n",
       " 'actiion',\n",
       " 'actin',\n",
       " 'acting',\n",
       " 'actinide',\n",
       " 'actinium',\n",
       " 'action',\n",
       " 'actionable',\n",
       " 'actionarie',\n",
       " 'actionbioscience',\n",
       " 'actionbut',\n",
       " 'actiondate',\n",
       " 'actioning',\n",
       " 'actionlink',\n",
       " 'actionmichronephone',\n",
       " 'actionnable',\n",
       " 'actionoldid',\n",
       " 'actionresult',\n",
       " 'actions',\n",
       " 'actionsin',\n",
       " 'actionslet',\n",
       " 'actionssecondary',\n",
       " 'actionsthese',\n",
       " 'actiually',\n",
       " 'actium',\n",
       " 'activ',\n",
       " 'activally',\n",
       " 'activate',\n",
       " 'activation',\n",
       " 'active',\n",
       " 'activecollab',\n",
       " 'actively',\n",
       " 'activepol',\n",
       " 'activerain',\n",
       " 'activetab',\n",
       " 'activetcl',\n",
       " 'actividade',\n",
       " ...]"
      ]
     },
     "execution_count": 44,
     "metadata": {},
     "output_type": "execute_result"
    }
   ],
   "source": [
    "count_vect2.get_feature_names() "
   ]
  },
  {
   "cell_type": "code",
   "execution_count": 45,
   "metadata": {},
   "outputs": [
    {
     "name": "stdout",
     "output_type": "stream",
     "text": [
      "(95574, 123556) (95574,)\n"
     ]
    }
   ],
   "source": [
    "x_train2_cv = bow2\n",
    "print(x_train2_cv.shape, y_train.shape)"
   ]
  },
  {
   "cell_type": "code",
   "execution_count": 46,
   "metadata": {},
   "outputs": [],
   "source": [
    "x_valid2_cv = count_vect2.transform(x_valid2)"
   ]
  },
  {
   "cell_type": "code",
   "execution_count": 47,
   "metadata": {},
   "outputs": [
    {
     "name": "stdout",
     "output_type": "stream",
     "text": [
      "(31859, 123556) (31859,)\n"
     ]
    }
   ],
   "source": [
    "print(x_valid2_cv.shape, y_valid2.shape)"
   ]
  },
  {
   "cell_type": "code",
   "execution_count": 48,
   "metadata": {},
   "outputs": [
    {
     "name": "stderr",
     "output_type": "stream",
     "text": [
      "/opt/conda/lib/python3.9/site-packages/sklearn/linear_model/_logistic.py:763: ConvergenceWarning: lbfgs failed to converge (status=1):\n",
      "STOP: TOTAL NO. of ITERATIONS REACHED LIMIT.\n",
      "\n",
      "Increase the number of iterations (max_iter) or scale the data as shown in:\n",
      "    https://scikit-learn.org/stable/modules/preprocessing.html\n",
      "Please also refer to the documentation for alternative solver options:\n",
      "    https://scikit-learn.org/stable/modules/linear_model.html#logistic-regression\n",
      "  n_iter_i = _check_optimize_result(\n"
     ]
    },
    {
     "data": {
      "text/plain": [
       "LogisticRegression()"
      ]
     },
     "execution_count": 48,
     "metadata": {},
     "output_type": "execute_result"
    }
   ],
   "source": [
    "clf_alt = LogisticRegression()\n",
    "clf_alt.fit(x_train2_cv, y_train2)"
   ]
  },
  {
   "cell_type": "code",
   "execution_count": 49,
   "metadata": {},
   "outputs": [
    {
     "name": "stdout",
     "output_type": "stream",
     "text": [
      "              precision    recall  f1-score   support\n",
      "\n",
      "           0       0.96      0.99      0.98     28622\n",
      "           1       0.87      0.68      0.76      3237\n",
      "\n",
      "    accuracy                           0.96     31859\n",
      "   macro avg       0.92      0.83      0.87     31859\n",
      "weighted avg       0.96      0.96      0.95     31859\n",
      "\n"
     ]
    }
   ],
   "source": [
    "print(classification_report(\n",
    "    y_valid2, clf_alt.predict(x_valid2_cv), target_names=['0', '1']))"
   ]
  },
  {
   "cell_type": "code",
   "execution_count": 50,
   "metadata": {},
   "outputs": [],
   "source": [
    "train_data2_cv = lgb.Dataset(x_train2_cv.astype(float), label=y_train2, free_raw_data=False)\n",
    "valid_data2_cv = lgb.Dataset(x_valid2_cv.astype(float), label=y_valid2, free_raw_data=False)"
   ]
  },
  {
   "cell_type": "code",
   "execution_count": 51,
   "metadata": {
    "scrolled": true
   },
   "outputs": [
    {
     "name": "stderr",
     "output_type": "stream",
     "text": [
      "/opt/conda/lib/python3.9/site-packages/lightgbm/engine.py:181: UserWarning: 'early_stopping_rounds' argument is deprecated and will be removed in a future release of LightGBM. Pass 'early_stopping()' callback via 'callbacks' argument instead.\n",
      "  _log_warning(\"'early_stopping_rounds' argument is deprecated and will be removed in a future release of LightGBM. \"\n"
     ]
    },
    {
     "name": "stdout",
     "output_type": "stream",
     "text": [
      "[1]\ttraining's binary_logloss: 0.295066\tvalid_1's binary_logloss: 0.29608\n",
      "Training until validation scores don't improve for 50 rounds\n",
      "[2]\ttraining's binary_logloss: 0.27052\tvalid_1's binary_logloss: 0.271838\n",
      "[3]\ttraining's binary_logloss: 0.254921\tvalid_1's binary_logloss: 0.256695\n",
      "[4]\ttraining's binary_logloss: 0.242731\tvalid_1's binary_logloss: 0.244894\n",
      "[5]\ttraining's binary_logloss: 0.233877\tvalid_1's binary_logloss: 0.23617\n",
      "[6]\ttraining's binary_logloss: 0.225027\tvalid_1's binary_logloss: 0.227425\n",
      "[7]\ttraining's binary_logloss: 0.218962\tvalid_1's binary_logloss: 0.22183\n",
      "[8]\ttraining's binary_logloss: 0.213392\tvalid_1's binary_logloss: 0.216255\n",
      "[9]\ttraining's binary_logloss: 0.208623\tvalid_1's binary_logloss: 0.211735\n",
      "[10]\ttraining's binary_logloss: 0.204513\tvalid_1's binary_logloss: 0.207812\n",
      "[11]\ttraining's binary_logloss: 0.200083\tvalid_1's binary_logloss: 0.203606\n",
      "[12]\ttraining's binary_logloss: 0.196387\tvalid_1's binary_logloss: 0.200235\n",
      "[13]\ttraining's binary_logloss: 0.191212\tvalid_1's binary_logloss: 0.195346\n",
      "[14]\ttraining's binary_logloss: 0.18681\tvalid_1's binary_logloss: 0.191158\n",
      "[15]\ttraining's binary_logloss: 0.18463\tvalid_1's binary_logloss: 0.189298\n",
      "[16]\ttraining's binary_logloss: 0.18237\tvalid_1's binary_logloss: 0.187388\n",
      "[17]\ttraining's binary_logloss: 0.179152\tvalid_1's binary_logloss: 0.184393\n",
      "[18]\ttraining's binary_logloss: 0.175407\tvalid_1's binary_logloss: 0.180665\n",
      "[19]\ttraining's binary_logloss: 0.173404\tvalid_1's binary_logloss: 0.178868\n",
      "[20]\ttraining's binary_logloss: 0.171288\tvalid_1's binary_logloss: 0.177021\n",
      "[21]\ttraining's binary_logloss: 0.1689\tvalid_1's binary_logloss: 0.174763\n",
      "[22]\ttraining's binary_logloss: 0.166913\tvalid_1's binary_logloss: 0.173107\n",
      "[23]\ttraining's binary_logloss: 0.164189\tvalid_1's binary_logloss: 0.17061\n",
      "[24]\ttraining's binary_logloss: 0.16249\tvalid_1's binary_logloss: 0.169038\n",
      "[25]\ttraining's binary_logloss: 0.160267\tvalid_1's binary_logloss: 0.166942\n",
      "[26]\ttraining's binary_logloss: 0.158526\tvalid_1's binary_logloss: 0.165496\n",
      "[27]\ttraining's binary_logloss: 0.157137\tvalid_1's binary_logloss: 0.164274\n",
      "[28]\ttraining's binary_logloss: 0.155622\tvalid_1's binary_logloss: 0.162734\n",
      "[29]\ttraining's binary_logloss: 0.154152\tvalid_1's binary_logloss: 0.161582\n",
      "[30]\ttraining's binary_logloss: 0.152357\tvalid_1's binary_logloss: 0.159862\n",
      "[31]\ttraining's binary_logloss: 0.150721\tvalid_1's binary_logloss: 0.158379\n",
      "[32]\ttraining's binary_logloss: 0.149154\tvalid_1's binary_logloss: 0.156903\n",
      "[33]\ttraining's binary_logloss: 0.147723\tvalid_1's binary_logloss: 0.155648\n",
      "[34]\ttraining's binary_logloss: 0.146172\tvalid_1's binary_logloss: 0.154107\n",
      "[35]\ttraining's binary_logloss: 0.145149\tvalid_1's binary_logloss: 0.153419\n",
      "[36]\ttraining's binary_logloss: 0.143609\tvalid_1's binary_logloss: 0.151916\n",
      "[37]\ttraining's binary_logloss: 0.142311\tvalid_1's binary_logloss: 0.1506\n",
      "[38]\ttraining's binary_logloss: 0.141274\tvalid_1's binary_logloss: 0.149718\n",
      "[39]\ttraining's binary_logloss: 0.14021\tvalid_1's binary_logloss: 0.148716\n",
      "[40]\ttraining's binary_logloss: 0.138979\tvalid_1's binary_logloss: 0.147561\n",
      "[41]\ttraining's binary_logloss: 0.1379\tvalid_1's binary_logloss: 0.146614\n",
      "[42]\ttraining's binary_logloss: 0.13679\tvalid_1's binary_logloss: 0.1457\n",
      "[43]\ttraining's binary_logloss: 0.135922\tvalid_1's binary_logloss: 0.145068\n",
      "[44]\ttraining's binary_logloss: 0.134826\tvalid_1's binary_logloss: 0.14416\n",
      "[45]\ttraining's binary_logloss: 0.133828\tvalid_1's binary_logloss: 0.143263\n",
      "[46]\ttraining's binary_logloss: 0.132984\tvalid_1's binary_logloss: 0.142396\n",
      "[47]\ttraining's binary_logloss: 0.132037\tvalid_1's binary_logloss: 0.141473\n",
      "[48]\ttraining's binary_logloss: 0.131124\tvalid_1's binary_logloss: 0.140757\n",
      "[49]\ttraining's binary_logloss: 0.130281\tvalid_1's binary_logloss: 0.139958\n",
      "[50]\ttraining's binary_logloss: 0.129471\tvalid_1's binary_logloss: 0.13942\n",
      "[51]\ttraining's binary_logloss: 0.128608\tvalid_1's binary_logloss: 0.138768\n",
      "[52]\ttraining's binary_logloss: 0.127809\tvalid_1's binary_logloss: 0.138293\n",
      "[53]\ttraining's binary_logloss: 0.126985\tvalid_1's binary_logloss: 0.137547\n",
      "[54]\ttraining's binary_logloss: 0.126252\tvalid_1's binary_logloss: 0.137048\n",
      "[55]\ttraining's binary_logloss: 0.125566\tvalid_1's binary_logloss: 0.136563\n",
      "[56]\ttraining's binary_logloss: 0.124755\tvalid_1's binary_logloss: 0.135686\n",
      "[57]\ttraining's binary_logloss: 0.124065\tvalid_1's binary_logloss: 0.135245\n",
      "[58]\ttraining's binary_logloss: 0.123322\tvalid_1's binary_logloss: 0.134558\n",
      "[59]\ttraining's binary_logloss: 0.122635\tvalid_1's binary_logloss: 0.134041\n",
      "[60]\ttraining's binary_logloss: 0.121993\tvalid_1's binary_logloss: 0.133685\n",
      "[61]\ttraining's binary_logloss: 0.121344\tvalid_1's binary_logloss: 0.133197\n",
      "[62]\ttraining's binary_logloss: 0.120703\tvalid_1's binary_logloss: 0.132638\n",
      "[63]\ttraining's binary_logloss: 0.120051\tvalid_1's binary_logloss: 0.132161\n",
      "[64]\ttraining's binary_logloss: 0.119477\tvalid_1's binary_logloss: 0.13193\n",
      "[65]\ttraining's binary_logloss: 0.118874\tvalid_1's binary_logloss: 0.131469\n",
      "[66]\ttraining's binary_logloss: 0.118233\tvalid_1's binary_logloss: 0.130851\n",
      "[67]\ttraining's binary_logloss: 0.117617\tvalid_1's binary_logloss: 0.130336\n",
      "[68]\ttraining's binary_logloss: 0.117019\tvalid_1's binary_logloss: 0.129987\n",
      "[69]\ttraining's binary_logloss: 0.116484\tvalid_1's binary_logloss: 0.129516\n",
      "[70]\ttraining's binary_logloss: 0.115967\tvalid_1's binary_logloss: 0.129226\n",
      "[71]\ttraining's binary_logloss: 0.115418\tvalid_1's binary_logloss: 0.128695\n",
      "[72]\ttraining's binary_logloss: 0.114898\tvalid_1's binary_logloss: 0.128311\n",
      "[73]\ttraining's binary_logloss: 0.114398\tvalid_1's binary_logloss: 0.127936\n",
      "[74]\ttraining's binary_logloss: 0.113873\tvalid_1's binary_logloss: 0.127589\n",
      "[75]\ttraining's binary_logloss: 0.113407\tvalid_1's binary_logloss: 0.127216\n",
      "[76]\ttraining's binary_logloss: 0.112947\tvalid_1's binary_logloss: 0.126906\n",
      "[77]\ttraining's binary_logloss: 0.112462\tvalid_1's binary_logloss: 0.126416\n",
      "[78]\ttraining's binary_logloss: 0.112004\tvalid_1's binary_logloss: 0.126082\n",
      "[79]\ttraining's binary_logloss: 0.111551\tvalid_1's binary_logloss: 0.125779\n",
      "[80]\ttraining's binary_logloss: 0.111095\tvalid_1's binary_logloss: 0.125565\n",
      "[81]\ttraining's binary_logloss: 0.110663\tvalid_1's binary_logloss: 0.1253\n",
      "[82]\ttraining's binary_logloss: 0.110199\tvalid_1's binary_logloss: 0.124937\n",
      "[83]\ttraining's binary_logloss: 0.109782\tvalid_1's binary_logloss: 0.124624\n",
      "[84]\ttraining's binary_logloss: 0.109392\tvalid_1's binary_logloss: 0.12445\n",
      "[85]\ttraining's binary_logloss: 0.108977\tvalid_1's binary_logloss: 0.124241\n",
      "[86]\ttraining's binary_logloss: 0.10859\tvalid_1's binary_logloss: 0.123926\n",
      "[87]\ttraining's binary_logloss: 0.108215\tvalid_1's binary_logloss: 0.123755\n",
      "[88]\ttraining's binary_logloss: 0.107835\tvalid_1's binary_logloss: 0.123491\n",
      "[89]\ttraining's binary_logloss: 0.107456\tvalid_1's binary_logloss: 0.123243\n",
      "[90]\ttraining's binary_logloss: 0.107107\tvalid_1's binary_logloss: 0.122949\n",
      "[91]\ttraining's binary_logloss: 0.106758\tvalid_1's binary_logloss: 0.122642\n",
      "[92]\ttraining's binary_logloss: 0.106367\tvalid_1's binary_logloss: 0.122372\n",
      "[93]\ttraining's binary_logloss: 0.106016\tvalid_1's binary_logloss: 0.122155\n",
      "[94]\ttraining's binary_logloss: 0.10569\tvalid_1's binary_logloss: 0.121935\n",
      "[95]\ttraining's binary_logloss: 0.105339\tvalid_1's binary_logloss: 0.121785\n",
      "[96]\ttraining's binary_logloss: 0.105027\tvalid_1's binary_logloss: 0.121485\n",
      "[97]\ttraining's binary_logloss: 0.104691\tvalid_1's binary_logloss: 0.121275\n",
      "[98]\ttraining's binary_logloss: 0.104363\tvalid_1's binary_logloss: 0.121083\n",
      "[99]\ttraining's binary_logloss: 0.104052\tvalid_1's binary_logloss: 0.120885\n",
      "[100]\ttraining's binary_logloss: 0.103764\tvalid_1's binary_logloss: 0.120782\n",
      "[101]\ttraining's binary_logloss: 0.103421\tvalid_1's binary_logloss: 0.120635\n",
      "[102]\ttraining's binary_logloss: 0.103121\tvalid_1's binary_logloss: 0.120401\n",
      "[103]\ttraining's binary_logloss: 0.1028\tvalid_1's binary_logloss: 0.120129\n",
      "[104]\ttraining's binary_logloss: 0.102492\tvalid_1's binary_logloss: 0.119956\n",
      "[105]\ttraining's binary_logloss: 0.102161\tvalid_1's binary_logloss: 0.119794\n",
      "[106]\ttraining's binary_logloss: 0.101842\tvalid_1's binary_logloss: 0.119607\n",
      "[107]\ttraining's binary_logloss: 0.101497\tvalid_1's binary_logloss: 0.119395\n",
      "[108]\ttraining's binary_logloss: 0.101183\tvalid_1's binary_logloss: 0.119335\n",
      "[109]\ttraining's binary_logloss: 0.100877\tvalid_1's binary_logloss: 0.11928\n",
      "[110]\ttraining's binary_logloss: 0.100591\tvalid_1's binary_logloss: 0.11911\n",
      "[111]\ttraining's binary_logloss: 0.100294\tvalid_1's binary_logloss: 0.118987\n",
      "[112]\ttraining's binary_logloss: 0.0999951\tvalid_1's binary_logloss: 0.11887\n",
      "[113]\ttraining's binary_logloss: 0.0997135\tvalid_1's binary_logloss: 0.118805\n",
      "[114]\ttraining's binary_logloss: 0.0994667\tvalid_1's binary_logloss: 0.118625\n",
      "[115]\ttraining's binary_logloss: 0.0991995\tvalid_1's binary_logloss: 0.118553\n",
      "[116]\ttraining's binary_logloss: 0.0989435\tvalid_1's binary_logloss: 0.118491\n",
      "[117]\ttraining's binary_logloss: 0.0986641\tvalid_1's binary_logloss: 0.11842\n",
      "[118]\ttraining's binary_logloss: 0.0984028\tvalid_1's binary_logloss: 0.118281\n",
      "[119]\ttraining's binary_logloss: 0.0981518\tvalid_1's binary_logloss: 0.118148\n",
      "[120]\ttraining's binary_logloss: 0.0978484\tvalid_1's binary_logloss: 0.117965\n",
      "[121]\ttraining's binary_logloss: 0.0976208\tvalid_1's binary_logloss: 0.117961\n",
      "[122]\ttraining's binary_logloss: 0.0973545\tvalid_1's binary_logloss: 0.117872\n",
      "[123]\ttraining's binary_logloss: 0.097117\tvalid_1's binary_logloss: 0.117743\n",
      "[124]\ttraining's binary_logloss: 0.0968787\tvalid_1's binary_logloss: 0.117634\n",
      "[125]\ttraining's binary_logloss: 0.0966061\tvalid_1's binary_logloss: 0.117505\n",
      "[126]\ttraining's binary_logloss: 0.0963746\tvalid_1's binary_logloss: 0.117308\n",
      "[127]\ttraining's binary_logloss: 0.096116\tvalid_1's binary_logloss: 0.117126\n",
      "[128]\ttraining's binary_logloss: 0.095885\tvalid_1's binary_logloss: 0.117039\n",
      "[129]\ttraining's binary_logloss: 0.0956592\tvalid_1's binary_logloss: 0.11705\n",
      "[130]\ttraining's binary_logloss: 0.0954531\tvalid_1's binary_logloss: 0.116945\n",
      "[131]\ttraining's binary_logloss: 0.0952466\tvalid_1's binary_logloss: 0.116864\n",
      "[132]\ttraining's binary_logloss: 0.095006\tvalid_1's binary_logloss: 0.116783\n",
      "[133]\ttraining's binary_logloss: 0.0947808\tvalid_1's binary_logloss: 0.116706\n",
      "[134]\ttraining's binary_logloss: 0.0945466\tvalid_1's binary_logloss: 0.116668\n",
      "[135]\ttraining's binary_logloss: 0.094309\tvalid_1's binary_logloss: 0.116564\n",
      "[136]\ttraining's binary_logloss: 0.0940959\tvalid_1's binary_logloss: 0.116482\n",
      "[137]\ttraining's binary_logloss: 0.093886\tvalid_1's binary_logloss: 0.116402\n",
      "[138]\ttraining's binary_logloss: 0.0936998\tvalid_1's binary_logloss: 0.116328\n",
      "[139]\ttraining's binary_logloss: 0.0935003\tvalid_1's binary_logloss: 0.116347\n",
      "[140]\ttraining's binary_logloss: 0.0932908\tvalid_1's binary_logloss: 0.116275\n",
      "[141]\ttraining's binary_logloss: 0.0930691\tvalid_1's binary_logloss: 0.116087\n",
      "[142]\ttraining's binary_logloss: 0.0928619\tvalid_1's binary_logloss: 0.115957\n",
      "[143]\ttraining's binary_logloss: 0.0926382\tvalid_1's binary_logloss: 0.115834\n",
      "[144]\ttraining's binary_logloss: 0.0924563\tvalid_1's binary_logloss: 0.115696\n",
      "[145]\ttraining's binary_logloss: 0.0922743\tvalid_1's binary_logloss: 0.115605\n",
      "[146]\ttraining's binary_logloss: 0.0920807\tvalid_1's binary_logloss: 0.115526\n",
      "[147]\ttraining's binary_logloss: 0.0918579\tvalid_1's binary_logloss: 0.115394\n",
      "[148]\ttraining's binary_logloss: 0.091607\tvalid_1's binary_logloss: 0.115278\n",
      "[149]\ttraining's binary_logloss: 0.0914291\tvalid_1's binary_logloss: 0.115193\n",
      "[150]\ttraining's binary_logloss: 0.09123\tvalid_1's binary_logloss: 0.115098\n",
      "[151]\ttraining's binary_logloss: 0.0910267\tvalid_1's binary_logloss: 0.11505\n",
      "[152]\ttraining's binary_logloss: 0.090795\tvalid_1's binary_logloss: 0.115027\n",
      "[153]\ttraining's binary_logloss: 0.0906107\tvalid_1's binary_logloss: 0.11497\n",
      "[154]\ttraining's binary_logloss: 0.0903634\tvalid_1's binary_logloss: 0.114881\n",
      "[155]\ttraining's binary_logloss: 0.0901738\tvalid_1's binary_logloss: 0.114808\n",
      "[156]\ttraining's binary_logloss: 0.0899788\tvalid_1's binary_logloss: 0.114713\n",
      "[157]\ttraining's binary_logloss: 0.0898172\tvalid_1's binary_logloss: 0.114663\n",
      "[158]\ttraining's binary_logloss: 0.0896326\tvalid_1's binary_logloss: 0.114581\n",
      "[159]\ttraining's binary_logloss: 0.0894307\tvalid_1's binary_logloss: 0.114515\n",
      "[160]\ttraining's binary_logloss: 0.0892765\tvalid_1's binary_logloss: 0.114483\n",
      "[161]\ttraining's binary_logloss: 0.0891017\tvalid_1's binary_logloss: 0.114467\n",
      "[162]\ttraining's binary_logloss: 0.0889388\tvalid_1's binary_logloss: 0.11444\n",
      "[163]\ttraining's binary_logloss: 0.0887954\tvalid_1's binary_logloss: 0.114383\n",
      "[164]\ttraining's binary_logloss: 0.088636\tvalid_1's binary_logloss: 0.114375\n",
      "[165]\ttraining's binary_logloss: 0.0884074\tvalid_1's binary_logloss: 0.114247\n",
      "[166]\ttraining's binary_logloss: 0.0882049\tvalid_1's binary_logloss: 0.114207\n",
      "[167]\ttraining's binary_logloss: 0.0880454\tvalid_1's binary_logloss: 0.114121\n",
      "[168]\ttraining's binary_logloss: 0.0878872\tvalid_1's binary_logloss: 0.114085\n",
      "[169]\ttraining's binary_logloss: 0.0877275\tvalid_1's binary_logloss: 0.114034\n",
      "[170]\ttraining's binary_logloss: 0.0875476\tvalid_1's binary_logloss: 0.114018\n",
      "[171]\ttraining's binary_logloss: 0.087377\tvalid_1's binary_logloss: 0.113978\n",
      "[172]\ttraining's binary_logloss: 0.0872053\tvalid_1's binary_logloss: 0.113856\n",
      "[173]\ttraining's binary_logloss: 0.0870602\tvalid_1's binary_logloss: 0.113836\n",
      "[174]\ttraining's binary_logloss: 0.086906\tvalid_1's binary_logloss: 0.11382\n",
      "[175]\ttraining's binary_logloss: 0.0867537\tvalid_1's binary_logloss: 0.11384\n",
      "[176]\ttraining's binary_logloss: 0.0865255\tvalid_1's binary_logloss: 0.113721\n",
      "[177]\ttraining's binary_logloss: 0.0863596\tvalid_1's binary_logloss: 0.113713\n",
      "[178]\ttraining's binary_logloss: 0.0862295\tvalid_1's binary_logloss: 0.113659\n",
      "[179]\ttraining's binary_logloss: 0.0860939\tvalid_1's binary_logloss: 0.113593\n",
      "[180]\ttraining's binary_logloss: 0.0859226\tvalid_1's binary_logloss: 0.113592\n",
      "[181]\ttraining's binary_logloss: 0.0857638\tvalid_1's binary_logloss: 0.113569\n",
      "[182]\ttraining's binary_logloss: 0.0856247\tvalid_1's binary_logloss: 0.113529\n",
      "[183]\ttraining's binary_logloss: 0.0854741\tvalid_1's binary_logloss: 0.113533\n",
      "[184]\ttraining's binary_logloss: 0.0852935\tvalid_1's binary_logloss: 0.113504\n",
      "[185]\ttraining's binary_logloss: 0.0851622\tvalid_1's binary_logloss: 0.113493\n",
      "[186]\ttraining's binary_logloss: 0.0850087\tvalid_1's binary_logloss: 0.113481\n",
      "[187]\ttraining's binary_logloss: 0.0848747\tvalid_1's binary_logloss: 0.113455\n",
      "[188]\ttraining's binary_logloss: 0.0847316\tvalid_1's binary_logloss: 0.113395\n",
      "[189]\ttraining's binary_logloss: 0.0845445\tvalid_1's binary_logloss: 0.113313\n",
      "[190]\ttraining's binary_logloss: 0.0843939\tvalid_1's binary_logloss: 0.1133\n",
      "[191]\ttraining's binary_logloss: 0.084253\tvalid_1's binary_logloss: 0.113266\n",
      "[192]\ttraining's binary_logloss: 0.0841235\tvalid_1's binary_logloss: 0.11325\n",
      "[193]\ttraining's binary_logloss: 0.083993\tvalid_1's binary_logloss: 0.11324\n",
      "[194]\ttraining's binary_logloss: 0.0838373\tvalid_1's binary_logloss: 0.113192\n",
      "[195]\ttraining's binary_logloss: 0.0836832\tvalid_1's binary_logloss: 0.113164\n",
      "[196]\ttraining's binary_logloss: 0.083544\tvalid_1's binary_logloss: 0.113135\n",
      "[197]\ttraining's binary_logloss: 0.083404\tvalid_1's binary_logloss: 0.11312\n",
      "[198]\ttraining's binary_logloss: 0.0832748\tvalid_1's binary_logloss: 0.1131\n",
      "[199]\ttraining's binary_logloss: 0.0831485\tvalid_1's binary_logloss: 0.113099\n",
      "[200]\ttraining's binary_logloss: 0.0830314\tvalid_1's binary_logloss: 0.113109\n",
      "[201]\ttraining's binary_logloss: 0.0828778\tvalid_1's binary_logloss: 0.113061\n",
      "[202]\ttraining's binary_logloss: 0.0827426\tvalid_1's binary_logloss: 0.113001\n",
      "[203]\ttraining's binary_logloss: 0.0826133\tvalid_1's binary_logloss: 0.112991\n",
      "[204]\ttraining's binary_logloss: 0.0824698\tvalid_1's binary_logloss: 0.112953\n",
      "[205]\ttraining's binary_logloss: 0.0823244\tvalid_1's binary_logloss: 0.112995\n",
      "[206]\ttraining's binary_logloss: 0.0821576\tvalid_1's binary_logloss: 0.112936\n",
      "[207]\ttraining's binary_logloss: 0.0819848\tvalid_1's binary_logloss: 0.11298\n",
      "[208]\ttraining's binary_logloss: 0.0818383\tvalid_1's binary_logloss: 0.112941\n",
      "[209]\ttraining's binary_logloss: 0.0817099\tvalid_1's binary_logloss: 0.112963\n",
      "[210]\ttraining's binary_logloss: 0.0815532\tvalid_1's binary_logloss: 0.112946\n",
      "[211]\ttraining's binary_logloss: 0.081403\tvalid_1's binary_logloss: 0.112924\n",
      "[212]\ttraining's binary_logloss: 0.0812413\tvalid_1's binary_logloss: 0.11291\n",
      "[213]\ttraining's binary_logloss: 0.081107\tvalid_1's binary_logloss: 0.112875\n",
      "[214]\ttraining's binary_logloss: 0.0809908\tvalid_1's binary_logloss: 0.112888\n",
      "[215]\ttraining's binary_logloss: 0.0808709\tvalid_1's binary_logloss: 0.112844\n",
      "[216]\ttraining's binary_logloss: 0.0806529\tvalid_1's binary_logloss: 0.112835\n",
      "[217]\ttraining's binary_logloss: 0.080525\tvalid_1's binary_logloss: 0.112829\n",
      "[218]\ttraining's binary_logloss: 0.0803807\tvalid_1's binary_logloss: 0.112834\n",
      "[219]\ttraining's binary_logloss: 0.0802358\tvalid_1's binary_logloss: 0.11277\n",
      "[220]\ttraining's binary_logloss: 0.0801039\tvalid_1's binary_logloss: 0.112783\n",
      "[221]\ttraining's binary_logloss: 0.0799698\tvalid_1's binary_logloss: 0.112764\n",
      "[222]\ttraining's binary_logloss: 0.0798257\tvalid_1's binary_logloss: 0.112754\n",
      "[223]\ttraining's binary_logloss: 0.0797155\tvalid_1's binary_logloss: 0.112717\n",
      "[224]\ttraining's binary_logloss: 0.0795748\tvalid_1's binary_logloss: 0.112708\n",
      "[225]\ttraining's binary_logloss: 0.0794483\tvalid_1's binary_logloss: 0.112705\n",
      "[226]\ttraining's binary_logloss: 0.0793126\tvalid_1's binary_logloss: 0.112652\n",
      "[227]\ttraining's binary_logloss: 0.0791505\tvalid_1's binary_logloss: 0.112633\n",
      "[228]\ttraining's binary_logloss: 0.0790343\tvalid_1's binary_logloss: 0.112643\n",
      "[229]\ttraining's binary_logloss: 0.078925\tvalid_1's binary_logloss: 0.112632\n",
      "[230]\ttraining's binary_logloss: 0.0787885\tvalid_1's binary_logloss: 0.112566\n",
      "[231]\ttraining's binary_logloss: 0.0786501\tvalid_1's binary_logloss: 0.112527\n",
      "[232]\ttraining's binary_logloss: 0.0785314\tvalid_1's binary_logloss: 0.112508\n",
      "[233]\ttraining's binary_logloss: 0.0783817\tvalid_1's binary_logloss: 0.112507\n",
      "[234]\ttraining's binary_logloss: 0.0782583\tvalid_1's binary_logloss: 0.112469\n",
      "[235]\ttraining's binary_logloss: 0.0781431\tvalid_1's binary_logloss: 0.112453\n",
      "[236]\ttraining's binary_logloss: 0.0780026\tvalid_1's binary_logloss: 0.112441\n",
      "[237]\ttraining's binary_logloss: 0.0778857\tvalid_1's binary_logloss: 0.11239\n",
      "[238]\ttraining's binary_logloss: 0.077787\tvalid_1's binary_logloss: 0.11235\n",
      "[239]\ttraining's binary_logloss: 0.0776741\tvalid_1's binary_logloss: 0.112294\n",
      "[240]\ttraining's binary_logloss: 0.0775595\tvalid_1's binary_logloss: 0.112264\n",
      "[241]\ttraining's binary_logloss: 0.0774368\tvalid_1's binary_logloss: 0.112268\n",
      "[242]\ttraining's binary_logloss: 0.0773433\tvalid_1's binary_logloss: 0.11225\n",
      "[243]\ttraining's binary_logloss: 0.0772281\tvalid_1's binary_logloss: 0.112222\n",
      "[244]\ttraining's binary_logloss: 0.0771274\tvalid_1's binary_logloss: 0.112223\n",
      "[245]\ttraining's binary_logloss: 0.0770391\tvalid_1's binary_logloss: 0.112243\n",
      "[246]\ttraining's binary_logloss: 0.0769362\tvalid_1's binary_logloss: 0.112212\n",
      "[247]\ttraining's binary_logloss: 0.0768206\tvalid_1's binary_logloss: 0.112227\n",
      "[248]\ttraining's binary_logloss: 0.0767137\tvalid_1's binary_logloss: 0.112206\n",
      "[249]\ttraining's binary_logloss: 0.0765811\tvalid_1's binary_logloss: 0.112194\n",
      "[250]\ttraining's binary_logloss: 0.0764853\tvalid_1's binary_logloss: 0.112185\n",
      "[251]\ttraining's binary_logloss: 0.0763656\tvalid_1's binary_logloss: 0.112133\n",
      "[252]\ttraining's binary_logloss: 0.0762437\tvalid_1's binary_logloss: 0.112102\n",
      "[253]\ttraining's binary_logloss: 0.0761121\tvalid_1's binary_logloss: 0.112106\n",
      "[254]\ttraining's binary_logloss: 0.0760082\tvalid_1's binary_logloss: 0.112139\n",
      "[255]\ttraining's binary_logloss: 0.0758986\tvalid_1's binary_logloss: 0.112137\n",
      "[256]\ttraining's binary_logloss: 0.07579\tvalid_1's binary_logloss: 0.112076\n",
      "[257]\ttraining's binary_logloss: 0.0756919\tvalid_1's binary_logloss: 0.112044\n",
      "[258]\ttraining's binary_logloss: 0.0755451\tvalid_1's binary_logloss: 0.112066\n",
      "[259]\ttraining's binary_logloss: 0.0754268\tvalid_1's binary_logloss: 0.112019\n",
      "[260]\ttraining's binary_logloss: 0.0753046\tvalid_1's binary_logloss: 0.111992\n",
      "[261]\ttraining's binary_logloss: 0.075124\tvalid_1's binary_logloss: 0.111987\n",
      "[262]\ttraining's binary_logloss: 0.0749888\tvalid_1's binary_logloss: 0.111959\n",
      "[263]\ttraining's binary_logloss: 0.0748649\tvalid_1's binary_logloss: 0.111936\n",
      "[264]\ttraining's binary_logloss: 0.0747667\tvalid_1's binary_logloss: 0.111948\n",
      "[265]\ttraining's binary_logloss: 0.0746519\tvalid_1's binary_logloss: 0.11196\n",
      "[266]\ttraining's binary_logloss: 0.0745502\tvalid_1's binary_logloss: 0.111929\n",
      "[267]\ttraining's binary_logloss: 0.0744553\tvalid_1's binary_logloss: 0.111866\n",
      "[268]\ttraining's binary_logloss: 0.0743274\tvalid_1's binary_logloss: 0.111807\n",
      "[269]\ttraining's binary_logloss: 0.0742285\tvalid_1's binary_logloss: 0.111824\n",
      "[270]\ttraining's binary_logloss: 0.0741212\tvalid_1's binary_logloss: 0.111748\n",
      "[271]\ttraining's binary_logloss: 0.0740239\tvalid_1's binary_logloss: 0.111727\n",
      "[272]\ttraining's binary_logloss: 0.0739434\tvalid_1's binary_logloss: 0.111731\n",
      "[273]\ttraining's binary_logloss: 0.0738216\tvalid_1's binary_logloss: 0.111694\n",
      "[274]\ttraining's binary_logloss: 0.073726\tvalid_1's binary_logloss: 0.111686\n",
      "[275]\ttraining's binary_logloss: 0.0735583\tvalid_1's binary_logloss: 0.111682\n",
      "[276]\ttraining's binary_logloss: 0.0734405\tvalid_1's binary_logloss: 0.111673\n",
      "[277]\ttraining's binary_logloss: 0.0733309\tvalid_1's binary_logloss: 0.111675\n",
      "[278]\ttraining's binary_logloss: 0.0732126\tvalid_1's binary_logloss: 0.111676\n",
      "[279]\ttraining's binary_logloss: 0.0730759\tvalid_1's binary_logloss: 0.111653\n",
      "[280]\ttraining's binary_logloss: 0.072975\tvalid_1's binary_logloss: 0.111631\n",
      "[281]\ttraining's binary_logloss: 0.0728675\tvalid_1's binary_logloss: 0.111573\n",
      "[282]\ttraining's binary_logloss: 0.0727499\tvalid_1's binary_logloss: 0.111544\n",
      "[283]\ttraining's binary_logloss: 0.0726672\tvalid_1's binary_logloss: 0.111539\n",
      "[284]\ttraining's binary_logloss: 0.0725643\tvalid_1's binary_logloss: 0.111541\n",
      "[285]\ttraining's binary_logloss: 0.0724813\tvalid_1's binary_logloss: 0.111542\n",
      "[286]\ttraining's binary_logloss: 0.0723935\tvalid_1's binary_logloss: 0.111491\n",
      "[287]\ttraining's binary_logloss: 0.0723031\tvalid_1's binary_logloss: 0.111517\n",
      "[288]\ttraining's binary_logloss: 0.0721723\tvalid_1's binary_logloss: 0.111526\n",
      "[289]\ttraining's binary_logloss: 0.0720865\tvalid_1's binary_logloss: 0.111517\n",
      "[290]\ttraining's binary_logloss: 0.0720036\tvalid_1's binary_logloss: 0.111491\n",
      "[291]\ttraining's binary_logloss: 0.0718883\tvalid_1's binary_logloss: 0.111514\n",
      "[292]\ttraining's binary_logloss: 0.0717616\tvalid_1's binary_logloss: 0.111468\n",
      "[293]\ttraining's binary_logloss: 0.0716633\tvalid_1's binary_logloss: 0.111466\n",
      "[294]\ttraining's binary_logloss: 0.0715477\tvalid_1's binary_logloss: 0.111485\n",
      "[295]\ttraining's binary_logloss: 0.0714639\tvalid_1's binary_logloss: 0.111476\n",
      "[296]\ttraining's binary_logloss: 0.0713618\tvalid_1's binary_logloss: 0.111448\n",
      "[297]\ttraining's binary_logloss: 0.0712776\tvalid_1's binary_logloss: 0.111413\n",
      "[298]\ttraining's binary_logloss: 0.0711893\tvalid_1's binary_logloss: 0.111422\n",
      "[299]\ttraining's binary_logloss: 0.0711085\tvalid_1's binary_logloss: 0.111445\n",
      "[300]\ttraining's binary_logloss: 0.0710291\tvalid_1's binary_logloss: 0.111429\n",
      "[301]\ttraining's binary_logloss: 0.0709198\tvalid_1's binary_logloss: 0.111423\n",
      "[302]\ttraining's binary_logloss: 0.0708133\tvalid_1's binary_logloss: 0.111417\n",
      "[303]\ttraining's binary_logloss: 0.070733\tvalid_1's binary_logloss: 0.11141\n",
      "[304]\ttraining's binary_logloss: 0.0705761\tvalid_1's binary_logloss: 0.111395\n",
      "[305]\ttraining's binary_logloss: 0.070505\tvalid_1's binary_logloss: 0.111397\n",
      "[306]\ttraining's binary_logloss: 0.0703725\tvalid_1's binary_logloss: 0.111356\n",
      "[307]\ttraining's binary_logloss: 0.0702322\tvalid_1's binary_logloss: 0.111336\n",
      "[308]\ttraining's binary_logloss: 0.070139\tvalid_1's binary_logloss: 0.111327\n",
      "[309]\ttraining's binary_logloss: 0.0700595\tvalid_1's binary_logloss: 0.111317\n",
      "[310]\ttraining's binary_logloss: 0.0699509\tvalid_1's binary_logloss: 0.111361\n",
      "[311]\ttraining's binary_logloss: 0.069791\tvalid_1's binary_logloss: 0.111347\n",
      "[312]\ttraining's binary_logloss: 0.069692\tvalid_1's binary_logloss: 0.111331\n",
      "[313]\ttraining's binary_logloss: 0.069572\tvalid_1's binary_logloss: 0.111326\n",
      "[314]\ttraining's binary_logloss: 0.0694776\tvalid_1's binary_logloss: 0.111306\n",
      "[315]\ttraining's binary_logloss: 0.0693809\tvalid_1's binary_logloss: 0.111299\n",
      "[316]\ttraining's binary_logloss: 0.0692649\tvalid_1's binary_logloss: 0.111293\n",
      "[317]\ttraining's binary_logloss: 0.0691694\tvalid_1's binary_logloss: 0.111254\n",
      "[318]\ttraining's binary_logloss: 0.0690504\tvalid_1's binary_logloss: 0.111245\n",
      "[319]\ttraining's binary_logloss: 0.0689484\tvalid_1's binary_logloss: 0.111317\n",
      "[320]\ttraining's binary_logloss: 0.0688623\tvalid_1's binary_logloss: 0.111284\n",
      "[321]\ttraining's binary_logloss: 0.068773\tvalid_1's binary_logloss: 0.111309\n",
      "[322]\ttraining's binary_logloss: 0.0686814\tvalid_1's binary_logloss: 0.111352\n",
      "[323]\ttraining's binary_logloss: 0.0686119\tvalid_1's binary_logloss: 0.111376\n",
      "[324]\ttraining's binary_logloss: 0.0685482\tvalid_1's binary_logloss: 0.111378\n",
      "[325]\ttraining's binary_logloss: 0.0684672\tvalid_1's binary_logloss: 0.111401\n",
      "[326]\ttraining's binary_logloss: 0.0683701\tvalid_1's binary_logloss: 0.111356\n",
      "[327]\ttraining's binary_logloss: 0.0682674\tvalid_1's binary_logloss: 0.111372\n",
      "[328]\ttraining's binary_logloss: 0.0681854\tvalid_1's binary_logloss: 0.111326\n",
      "[329]\ttraining's binary_logloss: 0.068089\tvalid_1's binary_logloss: 0.111324\n",
      "[330]\ttraining's binary_logloss: 0.0679853\tvalid_1's binary_logloss: 0.111331\n",
      "[331]\ttraining's binary_logloss: 0.0678975\tvalid_1's binary_logloss: 0.111246\n",
      "[332]\ttraining's binary_logloss: 0.0678131\tvalid_1's binary_logloss: 0.111201\n",
      "[333]\ttraining's binary_logloss: 0.0677096\tvalid_1's binary_logloss: 0.111176\n",
      "[334]\ttraining's binary_logloss: 0.0676152\tvalid_1's binary_logloss: 0.111139\n",
      "[335]\ttraining's binary_logloss: 0.0675346\tvalid_1's binary_logloss: 0.111124\n",
      "[336]\ttraining's binary_logloss: 0.0674216\tvalid_1's binary_logloss: 0.111076\n",
      "[337]\ttraining's binary_logloss: 0.0673172\tvalid_1's binary_logloss: 0.111033\n",
      "[338]\ttraining's binary_logloss: 0.0672355\tvalid_1's binary_logloss: 0.111023\n",
      "[339]\ttraining's binary_logloss: 0.0671234\tvalid_1's binary_logloss: 0.111018\n",
      "[340]\ttraining's binary_logloss: 0.0670522\tvalid_1's binary_logloss: 0.111027\n",
      "[341]\ttraining's binary_logloss: 0.0669585\tvalid_1's binary_logloss: 0.111032\n",
      "[342]\ttraining's binary_logloss: 0.0668827\tvalid_1's binary_logloss: 0.111019\n",
      "[343]\ttraining's binary_logloss: 0.0668045\tvalid_1's binary_logloss: 0.110987\n",
      "[344]\ttraining's binary_logloss: 0.0666983\tvalid_1's binary_logloss: 0.111004\n",
      "[345]\ttraining's binary_logloss: 0.0666233\tvalid_1's binary_logloss: 0.110999\n",
      "[346]\ttraining's binary_logloss: 0.0665025\tvalid_1's binary_logloss: 0.110953\n",
      "[347]\ttraining's binary_logloss: 0.0664205\tvalid_1's binary_logloss: 0.110926\n",
      "[348]\ttraining's binary_logloss: 0.0663468\tvalid_1's binary_logloss: 0.110969\n",
      "[349]\ttraining's binary_logloss: 0.0662713\tvalid_1's binary_logloss: 0.11098\n",
      "[350]\ttraining's binary_logloss: 0.0662023\tvalid_1's binary_logloss: 0.110962\n",
      "[351]\ttraining's binary_logloss: 0.0661128\tvalid_1's binary_logloss: 0.11094\n",
      "[352]\ttraining's binary_logloss: 0.066013\tvalid_1's binary_logloss: 0.110923\n",
      "[353]\ttraining's binary_logloss: 0.0659357\tvalid_1's binary_logloss: 0.110892\n",
      "[354]\ttraining's binary_logloss: 0.06583\tvalid_1's binary_logloss: 0.11087\n",
      "[355]\ttraining's binary_logloss: 0.0657491\tvalid_1's binary_logloss: 0.110842\n",
      "[356]\ttraining's binary_logloss: 0.0656798\tvalid_1's binary_logloss: 0.110823\n",
      "[357]\ttraining's binary_logloss: 0.0655948\tvalid_1's binary_logloss: 0.110831\n",
      "[358]\ttraining's binary_logloss: 0.0655245\tvalid_1's binary_logloss: 0.110826\n",
      "[359]\ttraining's binary_logloss: 0.0654388\tvalid_1's binary_logloss: 0.110857\n",
      "[360]\ttraining's binary_logloss: 0.0653692\tvalid_1's binary_logloss: 0.110848\n",
      "[361]\ttraining's binary_logloss: 0.0652859\tvalid_1's binary_logloss: 0.110822\n",
      "[362]\ttraining's binary_logloss: 0.0651894\tvalid_1's binary_logloss: 0.110802\n",
      "[363]\ttraining's binary_logloss: 0.065111\tvalid_1's binary_logloss: 0.110789\n",
      "[364]\ttraining's binary_logloss: 0.0650076\tvalid_1's binary_logloss: 0.110788\n",
      "[365]\ttraining's binary_logloss: 0.0649459\tvalid_1's binary_logloss: 0.110777\n",
      "[366]\ttraining's binary_logloss: 0.0648466\tvalid_1's binary_logloss: 0.11081\n",
      "[367]\ttraining's binary_logloss: 0.0647669\tvalid_1's binary_logloss: 0.110809\n",
      "[368]\ttraining's binary_logloss: 0.0647039\tvalid_1's binary_logloss: 0.110808\n",
      "[369]\ttraining's binary_logloss: 0.0646359\tvalid_1's binary_logloss: 0.110825\n",
      "[370]\ttraining's binary_logloss: 0.0645789\tvalid_1's binary_logloss: 0.110804\n",
      "[371]\ttraining's binary_logloss: 0.0645005\tvalid_1's binary_logloss: 0.110793\n",
      "[372]\ttraining's binary_logloss: 0.0644317\tvalid_1's binary_logloss: 0.110799\n",
      "[373]\ttraining's binary_logloss: 0.0643374\tvalid_1's binary_logloss: 0.110821\n",
      "[374]\ttraining's binary_logloss: 0.0642778\tvalid_1's binary_logloss: 0.110831\n",
      "[375]\ttraining's binary_logloss: 0.0642066\tvalid_1's binary_logloss: 0.110815\n",
      "[376]\ttraining's binary_logloss: 0.0641146\tvalid_1's binary_logloss: 0.110791\n",
      "[377]\ttraining's binary_logloss: 0.0640478\tvalid_1's binary_logloss: 0.110775\n",
      "[378]\ttraining's binary_logloss: 0.0639767\tvalid_1's binary_logloss: 0.110808\n",
      "[379]\ttraining's binary_logloss: 0.0638964\tvalid_1's binary_logloss: 0.11082\n",
      "[380]\ttraining's binary_logloss: 0.0637997\tvalid_1's binary_logloss: 0.110809\n",
      "[381]\ttraining's binary_logloss: 0.0637221\tvalid_1's binary_logloss: 0.110781\n",
      "[382]\ttraining's binary_logloss: 0.0636406\tvalid_1's binary_logloss: 0.110822\n",
      "[383]\ttraining's binary_logloss: 0.0635613\tvalid_1's binary_logloss: 0.11077\n",
      "[384]\ttraining's binary_logloss: 0.0635047\tvalid_1's binary_logloss: 0.110818\n",
      "[385]\ttraining's binary_logloss: 0.0634418\tvalid_1's binary_logloss: 0.110829\n",
      "[386]\ttraining's binary_logloss: 0.0633626\tvalid_1's binary_logloss: 0.110821\n",
      "[387]\ttraining's binary_logloss: 0.0632884\tvalid_1's binary_logloss: 0.110839\n",
      "[388]\ttraining's binary_logloss: 0.0632286\tvalid_1's binary_logloss: 0.110813\n",
      "[389]\ttraining's binary_logloss: 0.0631726\tvalid_1's binary_logloss: 0.110798\n",
      "[390]\ttraining's binary_logloss: 0.0630947\tvalid_1's binary_logloss: 0.110793\n",
      "[391]\ttraining's binary_logloss: 0.0629743\tvalid_1's binary_logloss: 0.110782\n",
      "[392]\ttraining's binary_logloss: 0.0629074\tvalid_1's binary_logloss: 0.110785\n",
      "[393]\ttraining's binary_logloss: 0.062853\tvalid_1's binary_logloss: 0.110797\n",
      "[394]\ttraining's binary_logloss: 0.0627784\tvalid_1's binary_logloss: 0.110819\n",
      "[395]\ttraining's binary_logloss: 0.0626655\tvalid_1's binary_logloss: 0.110834\n",
      "[396]\ttraining's binary_logloss: 0.0625692\tvalid_1's binary_logloss: 0.110786\n",
      "[397]\ttraining's binary_logloss: 0.0624867\tvalid_1's binary_logloss: 0.110754\n",
      "[398]\ttraining's binary_logloss: 0.0624053\tvalid_1's binary_logloss: 0.110741\n",
      "[399]\ttraining's binary_logloss: 0.0623431\tvalid_1's binary_logloss: 0.110759\n",
      "[400]\ttraining's binary_logloss: 0.0622893\tvalid_1's binary_logloss: 0.110762\n",
      "[401]\ttraining's binary_logloss: 0.0621871\tvalid_1's binary_logloss: 0.110775\n",
      "[402]\ttraining's binary_logloss: 0.0621134\tvalid_1's binary_logloss: 0.110796\n",
      "[403]\ttraining's binary_logloss: 0.0620513\tvalid_1's binary_logloss: 0.110774\n",
      "[404]\ttraining's binary_logloss: 0.061992\tvalid_1's binary_logloss: 0.110844\n",
      "[405]\ttraining's binary_logloss: 0.0619313\tvalid_1's binary_logloss: 0.110822\n",
      "[406]\ttraining's binary_logloss: 0.0618484\tvalid_1's binary_logloss: 0.110813\n",
      "[407]\ttraining's binary_logloss: 0.0617745\tvalid_1's binary_logloss: 0.110814\n",
      "[408]\ttraining's binary_logloss: 0.0616916\tvalid_1's binary_logloss: 0.110833\n",
      "[409]\ttraining's binary_logloss: 0.061602\tvalid_1's binary_logloss: 0.110857\n",
      "[410]\ttraining's binary_logloss: 0.061542\tvalid_1's binary_logloss: 0.110871\n",
      "[411]\ttraining's binary_logloss: 0.0614589\tvalid_1's binary_logloss: 0.110884\n",
      "[412]\ttraining's binary_logloss: 0.0613807\tvalid_1's binary_logloss: 0.110892\n",
      "[413]\ttraining's binary_logloss: 0.0613148\tvalid_1's binary_logloss: 0.110922\n",
      "[414]\ttraining's binary_logloss: 0.0612275\tvalid_1's binary_logloss: 0.11089\n",
      "[415]\ttraining's binary_logloss: 0.0611814\tvalid_1's binary_logloss: 0.110924\n",
      "[416]\ttraining's binary_logloss: 0.0610959\tvalid_1's binary_logloss: 0.110919\n",
      "[417]\ttraining's binary_logloss: 0.0610239\tvalid_1's binary_logloss: 0.11097\n",
      "[418]\ttraining's binary_logloss: 0.0609649\tvalid_1's binary_logloss: 0.110982\n",
      "[419]\ttraining's binary_logloss: 0.0608792\tvalid_1's binary_logloss: 0.111025\n",
      "[420]\ttraining's binary_logloss: 0.0608149\tvalid_1's binary_logloss: 0.11101\n",
      "[421]\ttraining's binary_logloss: 0.0607289\tvalid_1's binary_logloss: 0.111013\n",
      "[422]\ttraining's binary_logloss: 0.0606529\tvalid_1's binary_logloss: 0.111033\n",
      "[423]\ttraining's binary_logloss: 0.0605933\tvalid_1's binary_logloss: 0.11105\n",
      "[424]\ttraining's binary_logloss: 0.0605304\tvalid_1's binary_logloss: 0.111072\n",
      "[425]\ttraining's binary_logloss: 0.060471\tvalid_1's binary_logloss: 0.11108\n",
      "[426]\ttraining's binary_logloss: 0.0603871\tvalid_1's binary_logloss: 0.111069\n",
      "[427]\ttraining's binary_logloss: 0.0603235\tvalid_1's binary_logloss: 0.111087\n",
      "[428]\ttraining's binary_logloss: 0.0602551\tvalid_1's binary_logloss: 0.11111\n",
      "[429]\ttraining's binary_logloss: 0.0601951\tvalid_1's binary_logloss: 0.111079\n",
      "[430]\ttraining's binary_logloss: 0.0601361\tvalid_1's binary_logloss: 0.111126\n",
      "[431]\ttraining's binary_logloss: 0.0600325\tvalid_1's binary_logloss: 0.111083\n",
      "[432]\ttraining's binary_logloss: 0.0599457\tvalid_1's binary_logloss: 0.111067\n",
      "[433]\ttraining's binary_logloss: 0.0598632\tvalid_1's binary_logloss: 0.111047\n",
      "[434]\ttraining's binary_logloss: 0.059791\tvalid_1's binary_logloss: 0.111032\n",
      "[435]\ttraining's binary_logloss: 0.0597148\tvalid_1's binary_logloss: 0.111077\n",
      "[436]\ttraining's binary_logloss: 0.0596304\tvalid_1's binary_logloss: 0.111042\n",
      "[437]\ttraining's binary_logloss: 0.059573\tvalid_1's binary_logloss: 0.111079\n",
      "[438]\ttraining's binary_logloss: 0.0595251\tvalid_1's binary_logloss: 0.111101\n",
      "[439]\ttraining's binary_logloss: 0.0594732\tvalid_1's binary_logloss: 0.111107\n",
      "[440]\ttraining's binary_logloss: 0.0594157\tvalid_1's binary_logloss: 0.111065\n",
      "[441]\ttraining's binary_logloss: 0.0593525\tvalid_1's binary_logloss: 0.111029\n",
      "[442]\ttraining's binary_logloss: 0.0592886\tvalid_1's binary_logloss: 0.111037\n",
      "[443]\ttraining's binary_logloss: 0.0592069\tvalid_1's binary_logloss: 0.111083\n",
      "[444]\ttraining's binary_logloss: 0.0591468\tvalid_1's binary_logloss: 0.111109\n",
      "[445]\ttraining's binary_logloss: 0.0590929\tvalid_1's binary_logloss: 0.111146\n",
      "[446]\ttraining's binary_logloss: 0.0590325\tvalid_1's binary_logloss: 0.111125\n",
      "[447]\ttraining's binary_logloss: 0.0589361\tvalid_1's binary_logloss: 0.111118\n",
      "[448]\ttraining's binary_logloss: 0.0588395\tvalid_1's binary_logloss: 0.111111\n",
      "Early stopping, best iteration is:\n",
      "[398]\ttraining's binary_logloss: 0.0624053\tvalid_1's binary_logloss: 0.110741\n",
      "CPU times: user 44min 46s, sys: 6.87 s, total: 44min 53s\n",
      "Wall time: 45min 2s\n"
     ]
    }
   ],
   "source": [
    "%%time\n",
    "params = {\n",
    "    'boosting_type': 'gbdt',\n",
    "    'objective': 'binary',\n",
    "    'metric': 'binary_logloss',\n",
    "    'num_leaves': 31,\n",
    "    'learning_rate': 0.1,\n",
    "    'feature_fraction': 0.9,\n",
    "    'bagging_fraction': 0.8,    \n",
    "    'bagging_freq': 5,          \n",
    "    'verbose': -1,              \n",
    "    'n_jobs': -1               \n",
    "}\n",
    "\n",
    "lgbm_model_alt = lgb.train(\n",
    "    params, train_data2_cv, num_boost_round=1000, valid_sets=[train_data2_cv, valid_data2_cv], early_stopping_rounds=50)"
   ]
  },
  {
   "cell_type": "code",
   "execution_count": 52,
   "metadata": {},
   "outputs": [],
   "source": [
    "y_predicted_alt = (lgbm_model_alt.predict(x_valid2_cv.astype(float)) >= 0.5).astype(int)"
   ]
  },
  {
   "cell_type": "code",
   "execution_count": 53,
   "metadata": {},
   "outputs": [
    {
     "name": "stdout",
     "output_type": "stream",
     "text": [
      "              precision    recall  f1-score   support\n",
      "\n",
      "           0       0.97      0.99      0.98     28622\n",
      "           1       0.89      0.71      0.79      3237\n",
      "\n",
      "    accuracy                           0.96     31859\n",
      "   macro avg       0.93      0.85      0.88     31859\n",
      "weighted avg       0.96      0.96      0.96     31859\n",
      "\n"
     ]
    }
   ],
   "source": [
    "print(classification_report(\n",
    "    y_valid2, y_predicted_alt, target_names=['0', '1']))"
   ]
  },
  {
   "cell_type": "markdown",
   "metadata": {},
   "source": [
    "Со Спэйси получилось лучше, чем с Ворднет, хоть и не радикально."
   ]
  },
  {
   "cell_type": "markdown",
   "metadata": {},
   "source": [
    "## Обучение"
   ]
  },
  {
   "cell_type": "markdown",
   "metadata": {},
   "source": [
    "### С обычной векторизацией"
   ]
  },
  {
   "cell_type": "markdown",
   "metadata": {},
   "source": [
    "В этом разделе мы обучим и протестируем несколько разных моделей. Ключевой метрикой будет показатель f1 по классу 1 (токсичные комментарии)"
   ]
  },
  {
   "cell_type": "code",
   "execution_count": 54,
   "metadata": {},
   "outputs": [
    {
     "name": "stdout",
     "output_type": "stream",
     "text": [
      "(95574, 141430) (95574,)\n"
     ]
    }
   ],
   "source": [
    "x_train_cv = bow\n",
    "print(x_train_cv.shape, y_train.shape)"
   ]
  },
  {
   "cell_type": "code",
   "execution_count": 55,
   "metadata": {},
   "outputs": [],
   "source": [
    "x_valid_cv = count_vect.transform(x_valid)"
   ]
  },
  {
   "cell_type": "code",
   "execution_count": 56,
   "metadata": {},
   "outputs": [
    {
     "name": "stderr",
     "output_type": "stream",
     "text": [
      "/opt/conda/lib/python3.9/site-packages/sklearn/linear_model/_logistic.py:763: ConvergenceWarning: lbfgs failed to converge (status=1):\n",
      "STOP: TOTAL NO. of ITERATIONS REACHED LIMIT.\n",
      "\n",
      "Increase the number of iterations (max_iter) or scale the data as shown in:\n",
      "    https://scikit-learn.org/stable/modules/preprocessing.html\n",
      "Please also refer to the documentation for alternative solver options:\n",
      "    https://scikit-learn.org/stable/modules/linear_model.html#logistic-regression\n",
      "  n_iter_i = _check_optimize_result(\n"
     ]
    },
    {
     "data": {
      "text/plain": [
       "LogisticRegression()"
      ]
     },
     "execution_count": 56,
     "metadata": {},
     "output_type": "execute_result"
    }
   ],
   "source": [
    "clf = LogisticRegression()\n",
    "clf.fit(x_train_cv, y_train)"
   ]
  },
  {
   "cell_type": "markdown",
   "metadata": {},
   "source": [
    "нам сразу сообщают, что можно добавить больше итераций. думаю, мы это сделаем в отдельной модели ниже."
   ]
  },
  {
   "cell_type": "code",
   "execution_count": 57,
   "metadata": {},
   "outputs": [
    {
     "name": "stdout",
     "output_type": "stream",
     "text": [
      "accuracy = 0.9798690020298407\n"
     ]
    }
   ],
   "source": [
    "print('accuracy =', clf.score(x_train_cv, y_train))"
   ]
  },
  {
   "cell_type": "code",
   "execution_count": 58,
   "metadata": {},
   "outputs": [
    {
     "name": "stdout",
     "output_type": "stream",
     "text": [
      "              precision    recall  f1-score   support\n",
      "\n",
      "           0       0.96      0.99      0.98     28622\n",
      "           1       0.87      0.68      0.76      3237\n",
      "\n",
      "    accuracy                           0.96     31859\n",
      "   macro avg       0.92      0.83      0.87     31859\n",
      "weighted avg       0.95      0.96      0.95     31859\n",
      "\n"
     ]
    }
   ],
   "source": [
    "print(classification_report(\n",
    "    y_valid, clf.predict(x_valid_cv), target_names=['0', '1']))"
   ]
  },
  {
   "cell_type": "markdown",
   "metadata": {},
   "source": [
    " Вот оно, ничего не надо, простенькая регрессия и f1 уже 0.77\n",
    " \n",
    " Конечно, мы еще кое что попробуем как с точки зрения модели, так и с точки зрения кодировки - tfidf, но в любом случае результат уже радует."
   ]
  },
  {
   "cell_type": "code",
   "execution_count": 59,
   "metadata": {},
   "outputs": [
    {
     "name": "stdout",
     "output_type": "stream",
     "text": [
      "CPU times: user 2 µs, sys: 0 ns, total: 2 µs\n",
      "Wall time: 5.25 µs\n",
      "Execution time: 183.48734593391418 seconds\n"
     ]
    }
   ],
   "source": [
    "%time\n",
    "start_time = time.time()\n",
    "rfc = RandomForestClassifier(n_estimators=50, random_state=42)\n",
    "rfc.fit(x_train_cv, y_train)\n",
    "end_time = time.time()\n",
    "print('Execution time:', end_time - start_time, 'seconds')"
   ]
  },
  {
   "cell_type": "code",
   "execution_count": 60,
   "metadata": {},
   "outputs": [
    {
     "name": "stdout",
     "output_type": "stream",
     "text": [
      "              precision    recall  f1-score   support\n",
      "\n",
      "           0       0.95      1.00      0.97     28622\n",
      "           1       0.93      0.55      0.69      3237\n",
      "\n",
      "    accuracy                           0.95     31859\n",
      "   macro avg       0.94      0.77      0.83     31859\n",
      "weighted avg       0.95      0.95      0.94     31859\n",
      "\n"
     ]
    }
   ],
   "source": [
    "print(classification_report(\n",
    "    y_valid, rfc.predict(x_valid_cv), target_names=['0', '1']))"
   ]
  },
  {
   "cell_type": "markdown",
   "metadata": {},
   "source": [
    "ну в принципе ожидаемо, что древесные истории с бОльшим трудом будут обрабатывать такие огромные матрицы числовых данных.\n",
    "У меня, кстати, есть еще идея."
   ]
  },
  {
   "cell_type": "code",
   "execution_count": 61,
   "metadata": {
    "scrolled": true
   },
   "outputs": [
    {
     "name": "stdout",
     "output_type": "stream",
     "text": [
      "0.994705673091008\n"
     ]
    },
    {
     "name": "stderr",
     "output_type": "stream",
     "text": [
      "/opt/conda/lib/python3.9/site-packages/sklearn/linear_model/_logistic.py:763: ConvergenceWarning: lbfgs failed to converge (status=1):\n",
      "STOP: TOTAL NO. of ITERATIONS REACHED LIMIT.\n",
      "\n",
      "Increase the number of iterations (max_iter) or scale the data as shown in:\n",
      "    https://scikit-learn.org/stable/modules/preprocessing.html\n",
      "Please also refer to the documentation for alternative solver options:\n",
      "    https://scikit-learn.org/stable/modules/linear_model.html#logistic-regression\n",
      "  n_iter_i = _check_optimize_result(\n"
     ]
    }
   ],
   "source": [
    "pipe = make_pipeline(StandardScaler(with_mean=False), LogisticRegression())\n",
    "pipe.fit(x_train_cv, y_train)\n",
    "\n",
    "print(pipe.score(x_train_cv, y_train))"
   ]
  },
  {
   "cell_type": "code",
   "execution_count": 62,
   "metadata": {},
   "outputs": [
    {
     "name": "stdout",
     "output_type": "stream",
     "text": [
      "              precision    recall  f1-score   support\n",
      "\n",
      "           0       0.95      0.95      0.95     28622\n",
      "           1       0.55      0.55      0.55      3237\n",
      "\n",
      "    accuracy                           0.91     31859\n",
      "   macro avg       0.75      0.75      0.75     31859\n",
      "weighted avg       0.91      0.91      0.91     31859\n",
      "\n"
     ]
    }
   ],
   "source": [
    "print(classification_report(\n",
    "    y_valid, pipe.predict(x_valid_cv), target_names=['0', '1']))"
   ]
  },
  {
   "cell_type": "markdown",
   "metadata": {},
   "source": [
    "скейлер тут не нужен. Вообще. Совсем. Нужен просто вектор длиной 150 000 знаков. Кстати, у нас там была какая-то проблемка с количеством итераций у регрессии. Мне кажется, если ее решить, это может на пользу пойти."
   ]
  },
  {
   "cell_type": "code",
   "execution_count": 63,
   "metadata": {},
   "outputs": [
    {
     "name": "stdout",
     "output_type": "stream",
     "text": [
      "Execution time: 187.13575720787048 seconds\n"
     ]
    }
   ],
   "source": [
    "start_time = time.time()\n",
    "clf2 = LogisticRegression(max_iter=1000)\n",
    "clf2.fit(x_train_cv, y_train)\n",
    "end_time = time.time()\n",
    "print('Execution time:', end_time - start_time, 'seconds')"
   ]
  },
  {
   "cell_type": "code",
   "execution_count": 64,
   "metadata": {},
   "outputs": [
    {
     "name": "stdout",
     "output_type": "stream",
     "text": [
      "              precision    recall  f1-score   support\n",
      "\n",
      "           0       0.96      0.99      0.98     28622\n",
      "           1       0.87      0.68      0.76      3237\n",
      "\n",
      "    accuracy                           0.96     31859\n",
      "   macro avg       0.92      0.83      0.87     31859\n",
      "weighted avg       0.95      0.96      0.95     31859\n",
      "\n"
     ]
    }
   ],
   "source": [
    "print(classification_report(\n",
    "    y_valid, clf2.predict(x_valid_cv), target_names=['0', '1']))"
   ]
  },
  {
   "cell_type": "markdown",
   "metadata": {},
   "source": [
    "Небольшая польза от увеличения количества итераций и правда есть, но тут скорее по нулю модель стала качественней. Тем не менее это все равно хорошо."
   ]
  },
  {
   "cell_type": "markdown",
   "metadata": {},
   "source": [
    "Давайте еще бустинг lightgbm сделаем для полного разнообразия."
   ]
  },
  {
   "cell_type": "code",
   "execution_count": 65,
   "metadata": {},
   "outputs": [],
   "source": [
    "train_data_cv = lgb.Dataset(x_train_cv.astype(float), label=y_train, free_raw_data=False)\n",
    "valid_data_cv = lgb.Dataset(x_valid_cv.astype(float), label=y_valid, free_raw_data=False)"
   ]
  },
  {
   "cell_type": "code",
   "execution_count": 66,
   "metadata": {
    "collapsed": true
   },
   "outputs": [
    {
     "name": "stderr",
     "output_type": "stream",
     "text": [
      "/opt/conda/lib/python3.9/site-packages/lightgbm/engine.py:181: UserWarning: 'early_stopping_rounds' argument is deprecated and will be removed in a future release of LightGBM. Pass 'early_stopping()' callback via 'callbacks' argument instead.\n",
      "  _log_warning(\"'early_stopping_rounds' argument is deprecated and will be removed in a future release of LightGBM. \"\n"
     ]
    },
    {
     "name": "stdout",
     "output_type": "stream",
     "text": [
      "[1]\ttraining's binary_logloss: 0.285295\tvalid_1's binary_logloss: 0.285957\n",
      "Training until validation scores don't improve for 100 rounds\n",
      "[2]\ttraining's binary_logloss: 0.263464\tvalid_1's binary_logloss: 0.264726\n",
      "[3]\ttraining's binary_logloss: 0.249103\tvalid_1's binary_logloss: 0.250701\n",
      "[4]\ttraining's binary_logloss: 0.237856\tvalid_1's binary_logloss: 0.239481\n",
      "[5]\ttraining's binary_logloss: 0.228892\tvalid_1's binary_logloss: 0.230635\n",
      "[6]\ttraining's binary_logloss: 0.221129\tvalid_1's binary_logloss: 0.223323\n",
      "[7]\ttraining's binary_logloss: 0.21473\tvalid_1's binary_logloss: 0.217238\n",
      "[8]\ttraining's binary_logloss: 0.20931\tvalid_1's binary_logloss: 0.21218\n",
      "[9]\ttraining's binary_logloss: 0.204495\tvalid_1's binary_logloss: 0.207658\n",
      "[10]\ttraining's binary_logloss: 0.200407\tvalid_1's binary_logloss: 0.203755\n",
      "[11]\ttraining's binary_logloss: 0.196497\tvalid_1's binary_logloss: 0.200027\n",
      "[12]\ttraining's binary_logloss: 0.193558\tvalid_1's binary_logloss: 0.197279\n",
      "[13]\ttraining's binary_logloss: 0.190204\tvalid_1's binary_logloss: 0.194138\n",
      "[14]\ttraining's binary_logloss: 0.187165\tvalid_1's binary_logloss: 0.191365\n",
      "[15]\ttraining's binary_logloss: 0.184151\tvalid_1's binary_logloss: 0.188596\n",
      "[16]\ttraining's binary_logloss: 0.181618\tvalid_1's binary_logloss: 0.186227\n",
      "[17]\ttraining's binary_logloss: 0.179069\tvalid_1's binary_logloss: 0.183716\n",
      "[18]\ttraining's binary_logloss: 0.176704\tvalid_1's binary_logloss: 0.181445\n",
      "[19]\ttraining's binary_logloss: 0.174732\tvalid_1's binary_logloss: 0.179589\n",
      "[20]\ttraining's binary_logloss: 0.172671\tvalid_1's binary_logloss: 0.177583\n",
      "[21]\ttraining's binary_logloss: 0.170676\tvalid_1's binary_logloss: 0.175811\n",
      "[22]\ttraining's binary_logloss: 0.168866\tvalid_1's binary_logloss: 0.174105\n",
      "[23]\ttraining's binary_logloss: 0.167242\tvalid_1's binary_logloss: 0.172672\n",
      "[24]\ttraining's binary_logloss: 0.165494\tvalid_1's binary_logloss: 0.171119\n",
      "[25]\ttraining's binary_logloss: 0.163869\tvalid_1's binary_logloss: 0.169834\n",
      "[26]\ttraining's binary_logloss: 0.162317\tvalid_1's binary_logloss: 0.168404\n",
      "[27]\ttraining's binary_logloss: 0.160793\tvalid_1's binary_logloss: 0.166776\n",
      "[28]\ttraining's binary_logloss: 0.159433\tvalid_1's binary_logloss: 0.16551\n",
      "[29]\ttraining's binary_logloss: 0.158114\tvalid_1's binary_logloss: 0.164312\n",
      "[30]\ttraining's binary_logloss: 0.156817\tvalid_1's binary_logloss: 0.163082\n",
      "[31]\ttraining's binary_logloss: 0.155448\tvalid_1's binary_logloss: 0.1617\n",
      "[32]\ttraining's binary_logloss: 0.154266\tvalid_1's binary_logloss: 0.16074\n",
      "[33]\ttraining's binary_logloss: 0.153056\tvalid_1's binary_logloss: 0.159598\n",
      "[34]\ttraining's binary_logloss: 0.15192\tvalid_1's binary_logloss: 0.158575\n",
      "[35]\ttraining's binary_logloss: 0.150829\tvalid_1's binary_logloss: 0.157619\n",
      "[36]\ttraining's binary_logloss: 0.149691\tvalid_1's binary_logloss: 0.156576\n",
      "[37]\ttraining's binary_logloss: 0.148674\tvalid_1's binary_logloss: 0.155597\n",
      "[38]\ttraining's binary_logloss: 0.147701\tvalid_1's binary_logloss: 0.154647\n",
      "[39]\ttraining's binary_logloss: 0.146775\tvalid_1's binary_logloss: 0.153951\n",
      "[40]\ttraining's binary_logloss: 0.145896\tvalid_1's binary_logloss: 0.153205\n",
      "[41]\ttraining's binary_logloss: 0.144954\tvalid_1's binary_logloss: 0.152434\n",
      "[42]\ttraining's binary_logloss: 0.144048\tvalid_1's binary_logloss: 0.151536\n",
      "[43]\ttraining's binary_logloss: 0.143201\tvalid_1's binary_logloss: 0.150863\n",
      "[44]\ttraining's binary_logloss: 0.142359\tvalid_1's binary_logloss: 0.150059\n",
      "[45]\ttraining's binary_logloss: 0.141559\tvalid_1's binary_logloss: 0.14934\n",
      "[46]\ttraining's binary_logloss: 0.140707\tvalid_1's binary_logloss: 0.148606\n",
      "[47]\ttraining's binary_logloss: 0.139926\tvalid_1's binary_logloss: 0.14798\n",
      "[48]\ttraining's binary_logloss: 0.139168\tvalid_1's binary_logloss: 0.147199\n",
      "[49]\ttraining's binary_logloss: 0.138469\tvalid_1's binary_logloss: 0.146695\n",
      "[50]\ttraining's binary_logloss: 0.137783\tvalid_1's binary_logloss: 0.146063\n",
      "[51]\ttraining's binary_logloss: 0.137085\tvalid_1's binary_logloss: 0.145638\n",
      "[52]\ttraining's binary_logloss: 0.136417\tvalid_1's binary_logloss: 0.145186\n",
      "[53]\ttraining's binary_logloss: 0.135744\tvalid_1's binary_logloss: 0.144627\n",
      "[54]\ttraining's binary_logloss: 0.135107\tvalid_1's binary_logloss: 0.144156\n",
      "[55]\ttraining's binary_logloss: 0.134459\tvalid_1's binary_logloss: 0.143691\n",
      "[56]\ttraining's binary_logloss: 0.13382\tvalid_1's binary_logloss: 0.143186\n",
      "[57]\ttraining's binary_logloss: 0.133239\tvalid_1's binary_logloss: 0.142721\n",
      "[58]\ttraining's binary_logloss: 0.132676\tvalid_1's binary_logloss: 0.142266\n",
      "[59]\ttraining's binary_logloss: 0.132105\tvalid_1's binary_logloss: 0.141822\n",
      "[60]\ttraining's binary_logloss: 0.131576\tvalid_1's binary_logloss: 0.141443\n",
      "[61]\ttraining's binary_logloss: 0.13101\tvalid_1's binary_logloss: 0.141027\n",
      "[62]\ttraining's binary_logloss: 0.130446\tvalid_1's binary_logloss: 0.140605\n",
      "[63]\ttraining's binary_logloss: 0.129918\tvalid_1's binary_logloss: 0.140202\n",
      "[64]\ttraining's binary_logloss: 0.129422\tvalid_1's binary_logloss: 0.139856\n",
      "[65]\ttraining's binary_logloss: 0.128939\tvalid_1's binary_logloss: 0.13952\n",
      "[66]\ttraining's binary_logloss: 0.128416\tvalid_1's binary_logloss: 0.139137\n",
      "[67]\ttraining's binary_logloss: 0.127901\tvalid_1's binary_logloss: 0.138691\n",
      "[68]\ttraining's binary_logloss: 0.127442\tvalid_1's binary_logloss: 0.138253\n",
      "[69]\ttraining's binary_logloss: 0.126986\tvalid_1's binary_logloss: 0.137966\n",
      "[70]\ttraining's binary_logloss: 0.126554\tvalid_1's binary_logloss: 0.137665\n",
      "[71]\ttraining's binary_logloss: 0.12605\tvalid_1's binary_logloss: 0.137256\n",
      "[72]\ttraining's binary_logloss: 0.125605\tvalid_1's binary_logloss: 0.136938\n",
      "[73]\ttraining's binary_logloss: 0.125162\tvalid_1's binary_logloss: 0.136608\n",
      "[74]\ttraining's binary_logloss: 0.124716\tvalid_1's binary_logloss: 0.136327\n",
      "[75]\ttraining's binary_logloss: 0.12432\tvalid_1's binary_logloss: 0.136034\n",
      "[76]\ttraining's binary_logloss: 0.123918\tvalid_1's binary_logloss: 0.135787\n",
      "[77]\ttraining's binary_logloss: 0.123505\tvalid_1's binary_logloss: 0.135424\n",
      "[78]\ttraining's binary_logloss: 0.123116\tvalid_1's binary_logloss: 0.135099\n",
      "[79]\ttraining's binary_logloss: 0.122729\tvalid_1's binary_logloss: 0.13482\n",
      "[80]\ttraining's binary_logloss: 0.122351\tvalid_1's binary_logloss: 0.134671\n",
      "[81]\ttraining's binary_logloss: 0.121949\tvalid_1's binary_logloss: 0.134404\n",
      "[82]\ttraining's binary_logloss: 0.121554\tvalid_1's binary_logloss: 0.134179\n",
      "[83]\ttraining's binary_logloss: 0.121173\tvalid_1's binary_logloss: 0.133975\n",
      "[84]\ttraining's binary_logloss: 0.120822\tvalid_1's binary_logloss: 0.133774\n",
      "[85]\ttraining's binary_logloss: 0.120486\tvalid_1's binary_logloss: 0.133522\n",
      "[86]\ttraining's binary_logloss: 0.120123\tvalid_1's binary_logloss: 0.133331\n",
      "[87]\ttraining's binary_logloss: 0.119751\tvalid_1's binary_logloss: 0.133161\n",
      "[88]\ttraining's binary_logloss: 0.119416\tvalid_1's binary_logloss: 0.132998\n",
      "[89]\ttraining's binary_logloss: 0.119048\tvalid_1's binary_logloss: 0.132819\n",
      "[90]\ttraining's binary_logloss: 0.118716\tvalid_1's binary_logloss: 0.132636\n",
      "[91]\ttraining's binary_logloss: 0.118378\tvalid_1's binary_logloss: 0.13252\n",
      "[92]\ttraining's binary_logloss: 0.118039\tvalid_1's binary_logloss: 0.132337\n",
      "[93]\ttraining's binary_logloss: 0.117716\tvalid_1's binary_logloss: 0.132241\n",
      "[94]\ttraining's binary_logloss: 0.117421\tvalid_1's binary_logloss: 0.132106\n",
      "[95]\ttraining's binary_logloss: 0.117136\tvalid_1's binary_logloss: 0.131977\n",
      "[96]\ttraining's binary_logloss: 0.116817\tvalid_1's binary_logloss: 0.131838\n",
      "[97]\ttraining's binary_logloss: 0.116522\tvalid_1's binary_logloss: 0.131666\n",
      "[98]\ttraining's binary_logloss: 0.116196\tvalid_1's binary_logloss: 0.13146\n",
      "[99]\ttraining's binary_logloss: 0.115874\tvalid_1's binary_logloss: 0.13131\n",
      "[100]\ttraining's binary_logloss: 0.115585\tvalid_1's binary_logloss: 0.131152\n",
      "[101]\ttraining's binary_logloss: 0.115269\tvalid_1's binary_logloss: 0.130934\n",
      "[102]\ttraining's binary_logloss: 0.11498\tvalid_1's binary_logloss: 0.13073\n",
      "[103]\ttraining's binary_logloss: 0.114677\tvalid_1's binary_logloss: 0.130584\n",
      "[104]\ttraining's binary_logloss: 0.114367\tvalid_1's binary_logloss: 0.130473\n",
      "[105]\ttraining's binary_logloss: 0.11409\tvalid_1's binary_logloss: 0.130324\n",
      "[106]\ttraining's binary_logloss: 0.113799\tvalid_1's binary_logloss: 0.130204\n",
      "[107]\ttraining's binary_logloss: 0.113501\tvalid_1's binary_logloss: 0.130014\n",
      "[108]\ttraining's binary_logloss: 0.113225\tvalid_1's binary_logloss: 0.129945\n",
      "[109]\ttraining's binary_logloss: 0.112968\tvalid_1's binary_logloss: 0.129848\n",
      "[110]\ttraining's binary_logloss: 0.112692\tvalid_1's binary_logloss: 0.129712\n",
      "[111]\ttraining's binary_logloss: 0.112414\tvalid_1's binary_logloss: 0.129625\n",
      "[112]\ttraining's binary_logloss: 0.112148\tvalid_1's binary_logloss: 0.129513\n",
      "[113]\ttraining's binary_logloss: 0.111882\tvalid_1's binary_logloss: 0.12933\n",
      "[114]\ttraining's binary_logloss: 0.111636\tvalid_1's binary_logloss: 0.129249\n",
      "[115]\ttraining's binary_logloss: 0.1114\tvalid_1's binary_logloss: 0.129155\n",
      "[116]\ttraining's binary_logloss: 0.111155\tvalid_1's binary_logloss: 0.128999\n",
      "[117]\ttraining's binary_logloss: 0.110892\tvalid_1's binary_logloss: 0.128905\n",
      "[118]\ttraining's binary_logloss: 0.110642\tvalid_1's binary_logloss: 0.128797\n",
      "[119]\ttraining's binary_logloss: 0.110343\tvalid_1's binary_logloss: 0.128656\n",
      "[120]\ttraining's binary_logloss: 0.110121\tvalid_1's binary_logloss: 0.128611\n",
      "[121]\ttraining's binary_logloss: 0.109875\tvalid_1's binary_logloss: 0.128546\n",
      "[122]\ttraining's binary_logloss: 0.109622\tvalid_1's binary_logloss: 0.128433\n",
      "[123]\ttraining's binary_logloss: 0.10934\tvalid_1's binary_logloss: 0.128265\n",
      "[124]\ttraining's binary_logloss: 0.109141\tvalid_1's binary_logloss: 0.128146\n",
      "[125]\ttraining's binary_logloss: 0.108923\tvalid_1's binary_logloss: 0.128043\n",
      "[126]\ttraining's binary_logloss: 0.108699\tvalid_1's binary_logloss: 0.127922\n",
      "[127]\ttraining's binary_logloss: 0.108498\tvalid_1's binary_logloss: 0.127759\n",
      "[128]\ttraining's binary_logloss: 0.108276\tvalid_1's binary_logloss: 0.127645\n",
      "[129]\ttraining's binary_logloss: 0.10807\tvalid_1's binary_logloss: 0.127558\n",
      "[130]\ttraining's binary_logloss: 0.107874\tvalid_1's binary_logloss: 0.127485\n",
      "[131]\ttraining's binary_logloss: 0.107661\tvalid_1's binary_logloss: 0.127387\n",
      "[132]\ttraining's binary_logloss: 0.107453\tvalid_1's binary_logloss: 0.127292\n",
      "[133]\ttraining's binary_logloss: 0.107246\tvalid_1's binary_logloss: 0.127161\n",
      "[134]\ttraining's binary_logloss: 0.107032\tvalid_1's binary_logloss: 0.127013\n",
      "[135]\ttraining's binary_logloss: 0.106835\tvalid_1's binary_logloss: 0.12688\n",
      "[136]\ttraining's binary_logloss: 0.106572\tvalid_1's binary_logloss: 0.126815\n",
      "[137]\ttraining's binary_logloss: 0.106361\tvalid_1's binary_logloss: 0.126692\n",
      "[138]\ttraining's binary_logloss: 0.106173\tvalid_1's binary_logloss: 0.126624\n",
      "[139]\ttraining's binary_logloss: 0.105958\tvalid_1's binary_logloss: 0.126603\n",
      "[140]\ttraining's binary_logloss: 0.105762\tvalid_1's binary_logloss: 0.126552\n",
      "[141]\ttraining's binary_logloss: 0.105556\tvalid_1's binary_logloss: 0.12652\n",
      "[142]\ttraining's binary_logloss: 0.105345\tvalid_1's binary_logloss: 0.126467\n",
      "[143]\ttraining's binary_logloss: 0.10512\tvalid_1's binary_logloss: 0.12638\n",
      "[144]\ttraining's binary_logloss: 0.104892\tvalid_1's binary_logloss: 0.126306\n",
      "[145]\ttraining's binary_logloss: 0.104709\tvalid_1's binary_logloss: 0.126168\n",
      "[146]\ttraining's binary_logloss: 0.104502\tvalid_1's binary_logloss: 0.126034\n",
      "[147]\ttraining's binary_logloss: 0.104283\tvalid_1's binary_logloss: 0.125928\n",
      "[148]\ttraining's binary_logloss: 0.104084\tvalid_1's binary_logloss: 0.125857\n",
      "[149]\ttraining's binary_logloss: 0.103885\tvalid_1's binary_logloss: 0.125784\n",
      "[150]\ttraining's binary_logloss: 0.103691\tvalid_1's binary_logloss: 0.125666\n",
      "[151]\ttraining's binary_logloss: 0.1035\tvalid_1's binary_logloss: 0.125571\n",
      "[152]\ttraining's binary_logloss: 0.103326\tvalid_1's binary_logloss: 0.125466\n",
      "[153]\ttraining's binary_logloss: 0.103144\tvalid_1's binary_logloss: 0.125421\n",
      "[154]\ttraining's binary_logloss: 0.10299\tvalid_1's binary_logloss: 0.125353\n",
      "[155]\ttraining's binary_logloss: 0.102833\tvalid_1's binary_logloss: 0.125282\n",
      "[156]\ttraining's binary_logloss: 0.102629\tvalid_1's binary_logloss: 0.125186\n",
      "[157]\ttraining's binary_logloss: 0.102449\tvalid_1's binary_logloss: 0.125093\n",
      "[158]\ttraining's binary_logloss: 0.102252\tvalid_1's binary_logloss: 0.125048\n",
      "[159]\ttraining's binary_logloss: 0.102096\tvalid_1's binary_logloss: 0.124934\n",
      "[160]\ttraining's binary_logloss: 0.101905\tvalid_1's binary_logloss: 0.124928\n",
      "[161]\ttraining's binary_logloss: 0.101715\tvalid_1's binary_logloss: 0.12488\n",
      "[162]\ttraining's binary_logloss: 0.101511\tvalid_1's binary_logloss: 0.124828\n",
      "[163]\ttraining's binary_logloss: 0.101354\tvalid_1's binary_logloss: 0.124746\n",
      "[164]\ttraining's binary_logloss: 0.101144\tvalid_1's binary_logloss: 0.12467\n",
      "[165]\ttraining's binary_logloss: 0.100979\tvalid_1's binary_logloss: 0.124642\n",
      "[166]\ttraining's binary_logloss: 0.10079\tvalid_1's binary_logloss: 0.124606\n",
      "[167]\ttraining's binary_logloss: 0.100636\tvalid_1's binary_logloss: 0.124567\n",
      "[168]\ttraining's binary_logloss: 0.100486\tvalid_1's binary_logloss: 0.12449\n",
      "[169]\ttraining's binary_logloss: 0.100344\tvalid_1's binary_logloss: 0.124444\n",
      "[170]\ttraining's binary_logloss: 0.100141\tvalid_1's binary_logloss: 0.124332\n",
      "[171]\ttraining's binary_logloss: 0.0999642\tvalid_1's binary_logloss: 0.124241\n",
      "[172]\ttraining's binary_logloss: 0.0998083\tvalid_1's binary_logloss: 0.12417\n",
      "[173]\ttraining's binary_logloss: 0.0996618\tvalid_1's binary_logloss: 0.124117\n",
      "[174]\ttraining's binary_logloss: 0.0995281\tvalid_1's binary_logloss: 0.124069\n",
      "[175]\ttraining's binary_logloss: 0.0993581\tvalid_1's binary_logloss: 0.124038\n",
      "[176]\ttraining's binary_logloss: 0.0991504\tvalid_1's binary_logloss: 0.123959\n",
      "[177]\ttraining's binary_logloss: 0.0989713\tvalid_1's binary_logloss: 0.123928\n",
      "[178]\ttraining's binary_logloss: 0.0987898\tvalid_1's binary_logloss: 0.123871\n",
      "[179]\ttraining's binary_logloss: 0.0986391\tvalid_1's binary_logloss: 0.123781\n",
      "[180]\ttraining's binary_logloss: 0.0984855\tvalid_1's binary_logloss: 0.123701\n",
      "[181]\ttraining's binary_logloss: 0.0982722\tvalid_1's binary_logloss: 0.123606\n",
      "[182]\ttraining's binary_logloss: 0.0980878\tvalid_1's binary_logloss: 0.123592\n",
      "[183]\ttraining's binary_logloss: 0.0979142\tvalid_1's binary_logloss: 0.123537\n",
      "[184]\ttraining's binary_logloss: 0.0977625\tvalid_1's binary_logloss: 0.123492\n",
      "[185]\ttraining's binary_logloss: 0.0975947\tvalid_1's binary_logloss: 0.123442\n",
      "[186]\ttraining's binary_logloss: 0.0974299\tvalid_1's binary_logloss: 0.123387\n",
      "[187]\ttraining's binary_logloss: 0.0972897\tvalid_1's binary_logloss: 0.123359\n",
      "[188]\ttraining's binary_logloss: 0.0971289\tvalid_1's binary_logloss: 0.123297\n",
      "[189]\ttraining's binary_logloss: 0.0969793\tvalid_1's binary_logloss: 0.123279\n",
      "[190]\ttraining's binary_logloss: 0.0968204\tvalid_1's binary_logloss: 0.123238\n",
      "[191]\ttraining's binary_logloss: 0.0966548\tvalid_1's binary_logloss: 0.123245\n",
      "[192]\ttraining's binary_logloss: 0.0965053\tvalid_1's binary_logloss: 0.123215\n",
      "[193]\ttraining's binary_logloss: 0.0963494\tvalid_1's binary_logloss: 0.123185\n",
      "[194]\ttraining's binary_logloss: 0.0962109\tvalid_1's binary_logloss: 0.123188\n",
      "[195]\ttraining's binary_logloss: 0.0960786\tvalid_1's binary_logloss: 0.123174\n",
      "[196]\ttraining's binary_logloss: 0.0959306\tvalid_1's binary_logloss: 0.123118\n",
      "[197]\ttraining's binary_logloss: 0.0957852\tvalid_1's binary_logloss: 0.123084\n",
      "[198]\ttraining's binary_logloss: 0.095654\tvalid_1's binary_logloss: 0.123036\n",
      "[199]\ttraining's binary_logloss: 0.0955116\tvalid_1's binary_logloss: 0.123011\n",
      "[200]\ttraining's binary_logloss: 0.0953944\tvalid_1's binary_logloss: 0.12297\n",
      "[201]\ttraining's binary_logloss: 0.0952224\tvalid_1's binary_logloss: 0.1229\n",
      "[202]\ttraining's binary_logloss: 0.0950572\tvalid_1's binary_logloss: 0.12286\n",
      "[203]\ttraining's binary_logloss: 0.0949259\tvalid_1's binary_logloss: 0.122817\n",
      "[204]\ttraining's binary_logloss: 0.0947996\tvalid_1's binary_logloss: 0.122795\n",
      "[205]\ttraining's binary_logloss: 0.0946667\tvalid_1's binary_logloss: 0.122762\n",
      "[206]\ttraining's binary_logloss: 0.0945121\tvalid_1's binary_logloss: 0.122756\n",
      "[207]\ttraining's binary_logloss: 0.0943384\tvalid_1's binary_logloss: 0.122689\n",
      "[208]\ttraining's binary_logloss: 0.0941964\tvalid_1's binary_logloss: 0.122627\n",
      "[209]\ttraining's binary_logloss: 0.094044\tvalid_1's binary_logloss: 0.122623\n",
      "[210]\ttraining's binary_logloss: 0.0939215\tvalid_1's binary_logloss: 0.122586\n",
      "[211]\ttraining's binary_logloss: 0.0937884\tvalid_1's binary_logloss: 0.122475\n",
      "[212]\ttraining's binary_logloss: 0.0936581\tvalid_1's binary_logloss: 0.122409\n",
      "[213]\ttraining's binary_logloss: 0.0935505\tvalid_1's binary_logloss: 0.122343\n",
      "[214]\ttraining's binary_logloss: 0.0934355\tvalid_1's binary_logloss: 0.122258\n",
      "[215]\ttraining's binary_logloss: 0.0933007\tvalid_1's binary_logloss: 0.122222\n",
      "[216]\ttraining's binary_logloss: 0.0931656\tvalid_1's binary_logloss: 0.12217\n",
      "[217]\ttraining's binary_logloss: 0.0930412\tvalid_1's binary_logloss: 0.122109\n",
      "[218]\ttraining's binary_logloss: 0.0929278\tvalid_1's binary_logloss: 0.122108\n",
      "[219]\ttraining's binary_logloss: 0.0928191\tvalid_1's binary_logloss: 0.122035\n",
      "[220]\ttraining's binary_logloss: 0.0927004\tvalid_1's binary_logloss: 0.121998\n",
      "[221]\ttraining's binary_logloss: 0.0925716\tvalid_1's binary_logloss: 0.121917\n",
      "[222]\ttraining's binary_logloss: 0.0924555\tvalid_1's binary_logloss: 0.121828\n",
      "[223]\ttraining's binary_logloss: 0.0923286\tvalid_1's binary_logloss: 0.121792\n",
      "[224]\ttraining's binary_logloss: 0.0922187\tvalid_1's binary_logloss: 0.121744\n",
      "[225]\ttraining's binary_logloss: 0.0920752\tvalid_1's binary_logloss: 0.121713\n",
      "[226]\ttraining's binary_logloss: 0.0919328\tvalid_1's binary_logloss: 0.121628\n",
      "[227]\ttraining's binary_logloss: 0.0918256\tvalid_1's binary_logloss: 0.12157\n",
      "[228]\ttraining's binary_logloss: 0.0916962\tvalid_1's binary_logloss: 0.121563\n",
      "[229]\ttraining's binary_logloss: 0.0915734\tvalid_1's binary_logloss: 0.121525\n",
      "[230]\ttraining's binary_logloss: 0.0914621\tvalid_1's binary_logloss: 0.121543\n",
      "[231]\ttraining's binary_logloss: 0.0913224\tvalid_1's binary_logloss: 0.121539\n",
      "[232]\ttraining's binary_logloss: 0.091182\tvalid_1's binary_logloss: 0.12152\n",
      "[233]\ttraining's binary_logloss: 0.091065\tvalid_1's binary_logloss: 0.121577\n",
      "[234]\ttraining's binary_logloss: 0.0909541\tvalid_1's binary_logloss: 0.121543\n",
      "[235]\ttraining's binary_logloss: 0.0908298\tvalid_1's binary_logloss: 0.121526\n",
      "[236]\ttraining's binary_logloss: 0.0907123\tvalid_1's binary_logloss: 0.12146\n",
      "[237]\ttraining's binary_logloss: 0.0905416\tvalid_1's binary_logloss: 0.121425\n",
      "[238]\ttraining's binary_logloss: 0.0904086\tvalid_1's binary_logloss: 0.121409\n",
      "[239]\ttraining's binary_logloss: 0.0902672\tvalid_1's binary_logloss: 0.121406\n",
      "[240]\ttraining's binary_logloss: 0.0901425\tvalid_1's binary_logloss: 0.121361\n",
      "[241]\ttraining's binary_logloss: 0.0900358\tvalid_1's binary_logloss: 0.1213\n",
      "[242]\ttraining's binary_logloss: 0.0899359\tvalid_1's binary_logloss: 0.12128\n",
      "[243]\ttraining's binary_logloss: 0.0898162\tvalid_1's binary_logloss: 0.121287\n",
      "[244]\ttraining's binary_logloss: 0.0897023\tvalid_1's binary_logloss: 0.121232\n",
      "[245]\ttraining's binary_logloss: 0.0895993\tvalid_1's binary_logloss: 0.121234\n",
      "[246]\ttraining's binary_logloss: 0.0894709\tvalid_1's binary_logloss: 0.121235\n",
      "[247]\ttraining's binary_logloss: 0.0893668\tvalid_1's binary_logloss: 0.121245\n",
      "[248]\ttraining's binary_logloss: 0.0892384\tvalid_1's binary_logloss: 0.121252\n",
      "[249]\ttraining's binary_logloss: 0.089143\tvalid_1's binary_logloss: 0.121197\n",
      "[250]\ttraining's binary_logloss: 0.0890362\tvalid_1's binary_logloss: 0.121195\n",
      "[251]\ttraining's binary_logloss: 0.0889233\tvalid_1's binary_logloss: 0.121206\n",
      "[252]\ttraining's binary_logloss: 0.0888135\tvalid_1's binary_logloss: 0.121195\n",
      "[253]\ttraining's binary_logloss: 0.0887025\tvalid_1's binary_logloss: 0.121186\n",
      "[254]\ttraining's binary_logloss: 0.0885766\tvalid_1's binary_logloss: 0.121124\n",
      "[255]\ttraining's binary_logloss: 0.0884644\tvalid_1's binary_logloss: 0.121078\n",
      "[256]\ttraining's binary_logloss: 0.0883345\tvalid_1's binary_logloss: 0.121092\n",
      "[257]\ttraining's binary_logloss: 0.0882153\tvalid_1's binary_logloss: 0.12105\n",
      "[258]\ttraining's binary_logloss: 0.0881096\tvalid_1's binary_logloss: 0.12105\n",
      "[259]\ttraining's binary_logloss: 0.0879931\tvalid_1's binary_logloss: 0.121056\n",
      "[260]\ttraining's binary_logloss: 0.0878611\tvalid_1's binary_logloss: 0.121031\n",
      "[261]\ttraining's binary_logloss: 0.0877543\tvalid_1's binary_logloss: 0.120961\n",
      "[262]\ttraining's binary_logloss: 0.0876354\tvalid_1's binary_logloss: 0.120938\n",
      "[263]\ttraining's binary_logloss: 0.0875228\tvalid_1's binary_logloss: 0.120954\n",
      "[264]\ttraining's binary_logloss: 0.0874209\tvalid_1's binary_logloss: 0.120947\n",
      "[265]\ttraining's binary_logloss: 0.0873151\tvalid_1's binary_logloss: 0.12096\n",
      "[266]\ttraining's binary_logloss: 0.0871983\tvalid_1's binary_logloss: 0.120908\n",
      "[267]\ttraining's binary_logloss: 0.0870894\tvalid_1's binary_logloss: 0.120881\n",
      "[268]\ttraining's binary_logloss: 0.0869789\tvalid_1's binary_logloss: 0.120819\n",
      "[269]\ttraining's binary_logloss: 0.0868659\tvalid_1's binary_logloss: 0.1208\n",
      "[270]\ttraining's binary_logloss: 0.086762\tvalid_1's binary_logloss: 0.120744\n",
      "[271]\ttraining's binary_logloss: 0.0866688\tvalid_1's binary_logloss: 0.120662\n",
      "[272]\ttraining's binary_logloss: 0.086552\tvalid_1's binary_logloss: 0.120659\n",
      "[273]\ttraining's binary_logloss: 0.086464\tvalid_1's binary_logloss: 0.120607\n",
      "[274]\ttraining's binary_logloss: 0.0863702\tvalid_1's binary_logloss: 0.120624\n",
      "[275]\ttraining's binary_logloss: 0.0862866\tvalid_1's binary_logloss: 0.12063\n",
      "[276]\ttraining's binary_logloss: 0.0861837\tvalid_1's binary_logloss: 0.12065\n",
      "[277]\ttraining's binary_logloss: 0.0860503\tvalid_1's binary_logloss: 0.1207\n",
      "[278]\ttraining's binary_logloss: 0.0859275\tvalid_1's binary_logloss: 0.120702\n",
      "[279]\ttraining's binary_logloss: 0.0858356\tvalid_1's binary_logloss: 0.120722\n",
      "[280]\ttraining's binary_logloss: 0.0857415\tvalid_1's binary_logloss: 0.120678\n",
      "[281]\ttraining's binary_logloss: 0.0856246\tvalid_1's binary_logloss: 0.12066\n",
      "[282]\ttraining's binary_logloss: 0.0855287\tvalid_1's binary_logloss: 0.120618\n",
      "[283]\ttraining's binary_logloss: 0.0854167\tvalid_1's binary_logloss: 0.120594\n",
      "[284]\ttraining's binary_logloss: 0.0853256\tvalid_1's binary_logloss: 0.12063\n",
      "[285]\ttraining's binary_logloss: 0.0852482\tvalid_1's binary_logloss: 0.120627\n",
      "[286]\ttraining's binary_logloss: 0.0851272\tvalid_1's binary_logloss: 0.120634\n",
      "[287]\ttraining's binary_logloss: 0.0850311\tvalid_1's binary_logloss: 0.120613\n",
      "[288]\ttraining's binary_logloss: 0.0849408\tvalid_1's binary_logloss: 0.12058\n",
      "[289]\ttraining's binary_logloss: 0.0848552\tvalid_1's binary_logloss: 0.120576\n",
      "[290]\ttraining's binary_logloss: 0.0847596\tvalid_1's binary_logloss: 0.12062\n",
      "[291]\ttraining's binary_logloss: 0.0846461\tvalid_1's binary_logloss: 0.120636\n",
      "[292]\ttraining's binary_logloss: 0.0845459\tvalid_1's binary_logloss: 0.120625\n",
      "[293]\ttraining's binary_logloss: 0.0844343\tvalid_1's binary_logloss: 0.120618\n",
      "[294]\ttraining's binary_logloss: 0.0843242\tvalid_1's binary_logloss: 0.120621\n",
      "[295]\ttraining's binary_logloss: 0.0842048\tvalid_1's binary_logloss: 0.120674\n",
      "[296]\ttraining's binary_logloss: 0.0840716\tvalid_1's binary_logloss: 0.120638\n",
      "[297]\ttraining's binary_logloss: 0.0839743\tvalid_1's binary_logloss: 0.120637\n",
      "[298]\ttraining's binary_logloss: 0.0838695\tvalid_1's binary_logloss: 0.120608\n",
      "[299]\ttraining's binary_logloss: 0.0837784\tvalid_1's binary_logloss: 0.120564\n",
      "[300]\ttraining's binary_logloss: 0.0836822\tvalid_1's binary_logloss: 0.120511\n",
      "[301]\ttraining's binary_logloss: 0.0835812\tvalid_1's binary_logloss: 0.120486\n",
      "[302]\ttraining's binary_logloss: 0.0834906\tvalid_1's binary_logloss: 0.120481\n",
      "[303]\ttraining's binary_logloss: 0.0834018\tvalid_1's binary_logloss: 0.120482\n",
      "[304]\ttraining's binary_logloss: 0.0833196\tvalid_1's binary_logloss: 0.120494\n",
      "[305]\ttraining's binary_logloss: 0.0832324\tvalid_1's binary_logloss: 0.120498\n",
      "[306]\ttraining's binary_logloss: 0.0831249\tvalid_1's binary_logloss: 0.120474\n",
      "[307]\ttraining's binary_logloss: 0.0830386\tvalid_1's binary_logloss: 0.120434\n",
      "[308]\ttraining's binary_logloss: 0.0829397\tvalid_1's binary_logloss: 0.120472\n",
      "[309]\ttraining's binary_logloss: 0.0828516\tvalid_1's binary_logloss: 0.120457\n",
      "[310]\ttraining's binary_logloss: 0.0827523\tvalid_1's binary_logloss: 0.120415\n",
      "[311]\ttraining's binary_logloss: 0.082632\tvalid_1's binary_logloss: 0.120429\n",
      "[312]\ttraining's binary_logloss: 0.0825259\tvalid_1's binary_logloss: 0.120367\n",
      "[313]\ttraining's binary_logloss: 0.0824078\tvalid_1's binary_logloss: 0.12039\n",
      "[314]\ttraining's binary_logloss: 0.0823259\tvalid_1's binary_logloss: 0.12037\n",
      "[315]\ttraining's binary_logloss: 0.0822394\tvalid_1's binary_logloss: 0.120367\n",
      "[316]\ttraining's binary_logloss: 0.0821468\tvalid_1's binary_logloss: 0.120353\n",
      "[317]\ttraining's binary_logloss: 0.0820472\tvalid_1's binary_logloss: 0.120351\n",
      "[318]\ttraining's binary_logloss: 0.0819572\tvalid_1's binary_logloss: 0.120345\n",
      "[319]\ttraining's binary_logloss: 0.0818651\tvalid_1's binary_logloss: 0.120305\n",
      "[320]\ttraining's binary_logloss: 0.081774\tvalid_1's binary_logloss: 0.120305\n",
      "[321]\ttraining's binary_logloss: 0.0816729\tvalid_1's binary_logloss: 0.120314\n",
      "[322]\ttraining's binary_logloss: 0.0815824\tvalid_1's binary_logloss: 0.120322\n",
      "[323]\ttraining's binary_logloss: 0.0814854\tvalid_1's binary_logloss: 0.120319\n",
      "[324]\ttraining's binary_logloss: 0.0814173\tvalid_1's binary_logloss: 0.120342\n",
      "[325]\ttraining's binary_logloss: 0.0813263\tvalid_1's binary_logloss: 0.120328\n",
      "[326]\ttraining's binary_logloss: 0.0812051\tvalid_1's binary_logloss: 0.120309\n",
      "[327]\ttraining's binary_logloss: 0.0811256\tvalid_1's binary_logloss: 0.120295\n",
      "[328]\ttraining's binary_logloss: 0.0810284\tvalid_1's binary_logloss: 0.120308\n",
      "[329]\ttraining's binary_logloss: 0.0809324\tvalid_1's binary_logloss: 0.120316\n",
      "[330]\ttraining's binary_logloss: 0.0808482\tvalid_1's binary_logloss: 0.120285\n",
      "[331]\ttraining's binary_logloss: 0.0807445\tvalid_1's binary_logloss: 0.120237\n",
      "[332]\ttraining's binary_logloss: 0.0806601\tvalid_1's binary_logloss: 0.12018\n",
      "[333]\ttraining's binary_logloss: 0.0805775\tvalid_1's binary_logloss: 0.1202\n",
      "[334]\ttraining's binary_logloss: 0.0804862\tvalid_1's binary_logloss: 0.120165\n",
      "[335]\ttraining's binary_logloss: 0.0803997\tvalid_1's binary_logloss: 0.120161\n",
      "[336]\ttraining's binary_logloss: 0.0803133\tvalid_1's binary_logloss: 0.120191\n",
      "[337]\ttraining's binary_logloss: 0.0801866\tvalid_1's binary_logloss: 0.120119\n",
      "[338]\ttraining's binary_logloss: 0.0800972\tvalid_1's binary_logloss: 0.120134\n",
      "[339]\ttraining's binary_logloss: 0.0800202\tvalid_1's binary_logloss: 0.120115\n",
      "[340]\ttraining's binary_logloss: 0.0799377\tvalid_1's binary_logloss: 0.1201\n",
      "[341]\ttraining's binary_logloss: 0.0798464\tvalid_1's binary_logloss: 0.120122\n",
      "[342]\ttraining's binary_logloss: 0.0797641\tvalid_1's binary_logloss: 0.120134\n",
      "[343]\ttraining's binary_logloss: 0.0796779\tvalid_1's binary_logloss: 0.120088\n",
      "[344]\ttraining's binary_logloss: 0.0795899\tvalid_1's binary_logloss: 0.12012\n",
      "[345]\ttraining's binary_logloss: 0.0795297\tvalid_1's binary_logloss: 0.120084\n",
      "[346]\ttraining's binary_logloss: 0.0794597\tvalid_1's binary_logloss: 0.120085\n",
      "[347]\ttraining's binary_logloss: 0.0793589\tvalid_1's binary_logloss: 0.120088\n",
      "[348]\ttraining's binary_logloss: 0.0792824\tvalid_1's binary_logloss: 0.120083\n",
      "[349]\ttraining's binary_logloss: 0.0792038\tvalid_1's binary_logloss: 0.120087\n",
      "[350]\ttraining's binary_logloss: 0.0791346\tvalid_1's binary_logloss: 0.120063\n",
      "[351]\ttraining's binary_logloss: 0.0790289\tvalid_1's binary_logloss: 0.119979\n",
      "[352]\ttraining's binary_logloss: 0.0789575\tvalid_1's binary_logloss: 0.119972\n",
      "[353]\ttraining's binary_logloss: 0.0788598\tvalid_1's binary_logloss: 0.119943\n",
      "[354]\ttraining's binary_logloss: 0.078787\tvalid_1's binary_logloss: 0.119927\n",
      "[355]\ttraining's binary_logloss: 0.0787077\tvalid_1's binary_logloss: 0.119911\n",
      "[356]\ttraining's binary_logloss: 0.0786033\tvalid_1's binary_logloss: 0.119917\n",
      "[357]\ttraining's binary_logloss: 0.0785181\tvalid_1's binary_logloss: 0.119875\n",
      "[358]\ttraining's binary_logloss: 0.0784285\tvalid_1's binary_logloss: 0.11986\n",
      "[359]\ttraining's binary_logloss: 0.078325\tvalid_1's binary_logloss: 0.11987\n",
      "[360]\ttraining's binary_logloss: 0.0782473\tvalid_1's binary_logloss: 0.119861\n",
      "[361]\ttraining's binary_logloss: 0.0781582\tvalid_1's binary_logloss: 0.119841\n",
      "[362]\ttraining's binary_logloss: 0.0780842\tvalid_1's binary_logloss: 0.119788\n",
      "[363]\ttraining's binary_logloss: 0.0780022\tvalid_1's binary_logloss: 0.119806\n",
      "[364]\ttraining's binary_logloss: 0.0779293\tvalid_1's binary_logloss: 0.119797\n",
      "[365]\ttraining's binary_logloss: 0.0778546\tvalid_1's binary_logloss: 0.119797\n",
      "[366]\ttraining's binary_logloss: 0.077776\tvalid_1's binary_logloss: 0.119784\n",
      "[367]\ttraining's binary_logloss: 0.0777019\tvalid_1's binary_logloss: 0.119787\n",
      "[368]\ttraining's binary_logloss: 0.0776012\tvalid_1's binary_logloss: 0.119815\n",
      "[369]\ttraining's binary_logloss: 0.0775265\tvalid_1's binary_logloss: 0.119847\n",
      "[370]\ttraining's binary_logloss: 0.0774538\tvalid_1's binary_logloss: 0.119866\n",
      "[371]\ttraining's binary_logloss: 0.0773549\tvalid_1's binary_logloss: 0.119843\n",
      "[372]\ttraining's binary_logloss: 0.0772764\tvalid_1's binary_logloss: 0.119867\n",
      "[373]\ttraining's binary_logloss: 0.0771982\tvalid_1's binary_logloss: 0.119858\n",
      "[374]\ttraining's binary_logloss: 0.0771365\tvalid_1's binary_logloss: 0.119904\n",
      "[375]\ttraining's binary_logloss: 0.0770657\tvalid_1's binary_logloss: 0.119935\n",
      "[376]\ttraining's binary_logloss: 0.0769803\tvalid_1's binary_logloss: 0.119911\n",
      "[377]\ttraining's binary_logloss: 0.0768945\tvalid_1's binary_logloss: 0.119902\n",
      "[378]\ttraining's binary_logloss: 0.0768138\tvalid_1's binary_logloss: 0.119927\n",
      "[379]\ttraining's binary_logloss: 0.0767338\tvalid_1's binary_logloss: 0.119906\n",
      "[380]\ttraining's binary_logloss: 0.0766692\tvalid_1's binary_logloss: 0.119907\n",
      "[381]\ttraining's binary_logloss: 0.0765833\tvalid_1's binary_logloss: 0.119851\n",
      "[382]\ttraining's binary_logloss: 0.0765056\tvalid_1's binary_logloss: 0.119828\n",
      "[383]\ttraining's binary_logloss: 0.0764323\tvalid_1's binary_logloss: 0.119758\n",
      "[384]\ttraining's binary_logloss: 0.0763668\tvalid_1's binary_logloss: 0.119727\n",
      "[385]\ttraining's binary_logloss: 0.0763022\tvalid_1's binary_logloss: 0.119737\n",
      "[386]\ttraining's binary_logloss: 0.0762147\tvalid_1's binary_logloss: 0.119689\n",
      "[387]\ttraining's binary_logloss: 0.0761268\tvalid_1's binary_logloss: 0.119667\n",
      "[388]\ttraining's binary_logloss: 0.0760481\tvalid_1's binary_logloss: 0.119716\n",
      "[389]\ttraining's binary_logloss: 0.0759869\tvalid_1's binary_logloss: 0.119681\n",
      "[390]\ttraining's binary_logloss: 0.0759221\tvalid_1's binary_logloss: 0.119738\n",
      "[391]\ttraining's binary_logloss: 0.0757968\tvalid_1's binary_logloss: 0.119724\n",
      "[392]\ttraining's binary_logloss: 0.0757139\tvalid_1's binary_logloss: 0.119709\n",
      "[393]\ttraining's binary_logloss: 0.0756225\tvalid_1's binary_logloss: 0.119743\n",
      "[394]\ttraining's binary_logloss: 0.0755601\tvalid_1's binary_logloss: 0.119709\n",
      "[395]\ttraining's binary_logloss: 0.075484\tvalid_1's binary_logloss: 0.119703\n",
      "[396]\ttraining's binary_logloss: 0.0754032\tvalid_1's binary_logloss: 0.119712\n",
      "[397]\ttraining's binary_logloss: 0.0753142\tvalid_1's binary_logloss: 0.11972\n",
      "[398]\ttraining's binary_logloss: 0.0752488\tvalid_1's binary_logloss: 0.119721\n",
      "[399]\ttraining's binary_logloss: 0.0751876\tvalid_1's binary_logloss: 0.11972\n",
      "[400]\ttraining's binary_logloss: 0.0751284\tvalid_1's binary_logloss: 0.119739\n",
      "[401]\ttraining's binary_logloss: 0.0750563\tvalid_1's binary_logloss: 0.119691\n",
      "[402]\ttraining's binary_logloss: 0.0749781\tvalid_1's binary_logloss: 0.119631\n",
      "[403]\ttraining's binary_logloss: 0.0749037\tvalid_1's binary_logloss: 0.119615\n",
      "[404]\ttraining's binary_logloss: 0.0748318\tvalid_1's binary_logloss: 0.119615\n",
      "[405]\ttraining's binary_logloss: 0.0747698\tvalid_1's binary_logloss: 0.119637\n",
      "[406]\ttraining's binary_logloss: 0.074692\tvalid_1's binary_logloss: 0.119642\n",
      "[407]\ttraining's binary_logloss: 0.0746129\tvalid_1's binary_logloss: 0.119623\n",
      "[408]\ttraining's binary_logloss: 0.0745482\tvalid_1's binary_logloss: 0.119655\n",
      "[409]\ttraining's binary_logloss: 0.0744428\tvalid_1's binary_logloss: 0.119661\n",
      "[410]\ttraining's binary_logloss: 0.0743703\tvalid_1's binary_logloss: 0.119695\n",
      "[411]\ttraining's binary_logloss: 0.0742954\tvalid_1's binary_logloss: 0.119716\n",
      "[412]\ttraining's binary_logloss: 0.0742243\tvalid_1's binary_logloss: 0.119784\n",
      "[413]\ttraining's binary_logloss: 0.0741569\tvalid_1's binary_logloss: 0.119792\n",
      "[414]\ttraining's binary_logloss: 0.0740843\tvalid_1's binary_logloss: 0.119791\n",
      "[415]\ttraining's binary_logloss: 0.0740232\tvalid_1's binary_logloss: 0.119834\n",
      "[416]\ttraining's binary_logloss: 0.0739468\tvalid_1's binary_logloss: 0.119856\n",
      "[417]\ttraining's binary_logloss: 0.0738629\tvalid_1's binary_logloss: 0.119843\n",
      "[418]\ttraining's binary_logloss: 0.0737989\tvalid_1's binary_logloss: 0.119855\n",
      "[419]\ttraining's binary_logloss: 0.0737259\tvalid_1's binary_logloss: 0.119843\n",
      "[420]\ttraining's binary_logloss: 0.0736579\tvalid_1's binary_logloss: 0.119859\n",
      "[421]\ttraining's binary_logloss: 0.0735759\tvalid_1's binary_logloss: 0.119795\n",
      "[422]\ttraining's binary_logloss: 0.0735106\tvalid_1's binary_logloss: 0.119765\n",
      "[423]\ttraining's binary_logloss: 0.0734494\tvalid_1's binary_logloss: 0.119711\n",
      "[424]\ttraining's binary_logloss: 0.0733846\tvalid_1's binary_logloss: 0.119697\n",
      "[425]\ttraining's binary_logloss: 0.0733123\tvalid_1's binary_logloss: 0.119683\n",
      "[426]\ttraining's binary_logloss: 0.0732468\tvalid_1's binary_logloss: 0.119641\n",
      "[427]\ttraining's binary_logloss: 0.0731749\tvalid_1's binary_logloss: 0.119626\n",
      "[428]\ttraining's binary_logloss: 0.0731024\tvalid_1's binary_logloss: 0.119661\n",
      "[429]\ttraining's binary_logloss: 0.0730237\tvalid_1's binary_logloss: 0.119673\n",
      "[430]\ttraining's binary_logloss: 0.0729688\tvalid_1's binary_logloss: 0.119688\n",
      "[431]\ttraining's binary_logloss: 0.0728925\tvalid_1's binary_logloss: 0.119695\n",
      "[432]\ttraining's binary_logloss: 0.0728282\tvalid_1's binary_logloss: 0.119669\n",
      "[433]\ttraining's binary_logloss: 0.0727662\tvalid_1's binary_logloss: 0.119665\n",
      "[434]\ttraining's binary_logloss: 0.0727034\tvalid_1's binary_logloss: 0.1197\n",
      "[435]\ttraining's binary_logloss: 0.0726501\tvalid_1's binary_logloss: 0.119724\n",
      "[436]\ttraining's binary_logloss: 0.0725857\tvalid_1's binary_logloss: 0.119705\n",
      "[437]\ttraining's binary_logloss: 0.072515\tvalid_1's binary_logloss: 0.119709\n",
      "[438]\ttraining's binary_logloss: 0.072464\tvalid_1's binary_logloss: 0.119729\n",
      "[439]\ttraining's binary_logloss: 0.0724165\tvalid_1's binary_logloss: 0.119723\n",
      "[440]\ttraining's binary_logloss: 0.072362\tvalid_1's binary_logloss: 0.119715\n",
      "[441]\ttraining's binary_logloss: 0.0722836\tvalid_1's binary_logloss: 0.119731\n",
      "[442]\ttraining's binary_logloss: 0.0722192\tvalid_1's binary_logloss: 0.11971\n",
      "[443]\ttraining's binary_logloss: 0.0721417\tvalid_1's binary_logloss: 0.119623\n",
      "[444]\ttraining's binary_logloss: 0.0720654\tvalid_1's binary_logloss: 0.119592\n",
      "[445]\ttraining's binary_logloss: 0.0719996\tvalid_1's binary_logloss: 0.119614\n",
      "[446]\ttraining's binary_logloss: 0.0719287\tvalid_1's binary_logloss: 0.119595\n",
      "[447]\ttraining's binary_logloss: 0.0718687\tvalid_1's binary_logloss: 0.119618\n",
      "[448]\ttraining's binary_logloss: 0.0718059\tvalid_1's binary_logloss: 0.119659\n",
      "[449]\ttraining's binary_logloss: 0.071743\tvalid_1's binary_logloss: 0.119619\n",
      "[450]\ttraining's binary_logloss: 0.0716753\tvalid_1's binary_logloss: 0.11965\n",
      "[451]\ttraining's binary_logloss: 0.0716037\tvalid_1's binary_logloss: 0.119601\n",
      "[452]\ttraining's binary_logloss: 0.0715491\tvalid_1's binary_logloss: 0.119615\n",
      "[453]\ttraining's binary_logloss: 0.0714712\tvalid_1's binary_logloss: 0.119611\n",
      "[454]\ttraining's binary_logloss: 0.0713926\tvalid_1's binary_logloss: 0.119642\n",
      "[455]\ttraining's binary_logloss: 0.0713129\tvalid_1's binary_logloss: 0.11964\n",
      "[456]\ttraining's binary_logloss: 0.0712456\tvalid_1's binary_logloss: 0.119625\n",
      "[457]\ttraining's binary_logloss: 0.071176\tvalid_1's binary_logloss: 0.119638\n",
      "[458]\ttraining's binary_logloss: 0.0711158\tvalid_1's binary_logloss: 0.119616\n",
      "[459]\ttraining's binary_logloss: 0.0710506\tvalid_1's binary_logloss: 0.119643\n",
      "[460]\ttraining's binary_logloss: 0.0709919\tvalid_1's binary_logloss: 0.119667\n",
      "[461]\ttraining's binary_logloss: 0.0709337\tvalid_1's binary_logloss: 0.119687\n",
      "[462]\ttraining's binary_logloss: 0.0708762\tvalid_1's binary_logloss: 0.119701\n",
      "[463]\ttraining's binary_logloss: 0.0708262\tvalid_1's binary_logloss: 0.119727\n",
      "[464]\ttraining's binary_logloss: 0.0707592\tvalid_1's binary_logloss: 0.119704\n",
      "[465]\ttraining's binary_logloss: 0.0706991\tvalid_1's binary_logloss: 0.119729\n",
      "[466]\ttraining's binary_logloss: 0.0706216\tvalid_1's binary_logloss: 0.119754\n",
      "[467]\ttraining's binary_logloss: 0.0705455\tvalid_1's binary_logloss: 0.119744\n",
      "[468]\ttraining's binary_logloss: 0.0704729\tvalid_1's binary_logloss: 0.119741\n",
      "[469]\ttraining's binary_logloss: 0.0704108\tvalid_1's binary_logloss: 0.119729\n",
      "[470]\ttraining's binary_logloss: 0.0703595\tvalid_1's binary_logloss: 0.119728\n",
      "[471]\ttraining's binary_logloss: 0.0702961\tvalid_1's binary_logloss: 0.119762\n",
      "[472]\ttraining's binary_logloss: 0.0702369\tvalid_1's binary_logloss: 0.119793\n",
      "[473]\ttraining's binary_logloss: 0.0701778\tvalid_1's binary_logloss: 0.119845\n",
      "[474]\ttraining's binary_logloss: 0.0701281\tvalid_1's binary_logloss: 0.119852\n",
      "[475]\ttraining's binary_logloss: 0.0700754\tvalid_1's binary_logloss: 0.119873\n",
      "[476]\ttraining's binary_logloss: 0.0699928\tvalid_1's binary_logloss: 0.119852\n",
      "[477]\ttraining's binary_logloss: 0.0699368\tvalid_1's binary_logloss: 0.11981\n",
      "[478]\ttraining's binary_logloss: 0.0698651\tvalid_1's binary_logloss: 0.119794\n",
      "[479]\ttraining's binary_logloss: 0.0697984\tvalid_1's binary_logloss: 0.119778\n",
      "[480]\ttraining's binary_logloss: 0.0697376\tvalid_1's binary_logloss: 0.119787\n",
      "[481]\ttraining's binary_logloss: 0.0696598\tvalid_1's binary_logloss: 0.119775\n",
      "[482]\ttraining's binary_logloss: 0.0696151\tvalid_1's binary_logloss: 0.119777\n",
      "[483]\ttraining's binary_logloss: 0.0695594\tvalid_1's binary_logloss: 0.119802\n",
      "[484]\ttraining's binary_logloss: 0.0694825\tvalid_1's binary_logloss: 0.119839\n",
      "[485]\ttraining's binary_logloss: 0.0694233\tvalid_1's binary_logloss: 0.11985\n",
      "[486]\ttraining's binary_logloss: 0.0693594\tvalid_1's binary_logloss: 0.119821\n",
      "[487]\ttraining's binary_logloss: 0.0693077\tvalid_1's binary_logloss: 0.119796\n",
      "[488]\ttraining's binary_logloss: 0.0692565\tvalid_1's binary_logloss: 0.119837\n",
      "[489]\ttraining's binary_logloss: 0.0691961\tvalid_1's binary_logloss: 0.119842\n",
      "[490]\ttraining's binary_logloss: 0.0691245\tvalid_1's binary_logloss: 0.119852\n",
      "[491]\ttraining's binary_logloss: 0.0690573\tvalid_1's binary_logloss: 0.119865\n",
      "[492]\ttraining's binary_logloss: 0.0689967\tvalid_1's binary_logloss: 0.119925\n",
      "[493]\ttraining's binary_logloss: 0.0689398\tvalid_1's binary_logloss: 0.119977\n",
      "[494]\ttraining's binary_logloss: 0.0688751\tvalid_1's binary_logloss: 0.120063\n",
      "[495]\ttraining's binary_logloss: 0.0688104\tvalid_1's binary_logloss: 0.12008\n",
      "[496]\ttraining's binary_logloss: 0.0687546\tvalid_1's binary_logloss: 0.120066\n",
      "[497]\ttraining's binary_logloss: 0.0687063\tvalid_1's binary_logloss: 0.120059\n",
      "[498]\ttraining's binary_logloss: 0.0686501\tvalid_1's binary_logloss: 0.120023\n",
      "[499]\ttraining's binary_logloss: 0.0685956\tvalid_1's binary_logloss: 0.120014\n",
      "[500]\ttraining's binary_logloss: 0.0685405\tvalid_1's binary_logloss: 0.119987\n",
      "[501]\ttraining's binary_logloss: 0.0684643\tvalid_1's binary_logloss: 0.120003\n",
      "[502]\ttraining's binary_logloss: 0.0684058\tvalid_1's binary_logloss: 0.120064\n",
      "[503]\ttraining's binary_logloss: 0.0683493\tvalid_1's binary_logloss: 0.120076\n",
      "[504]\ttraining's binary_logloss: 0.0683005\tvalid_1's binary_logloss: 0.120101\n",
      "[505]\ttraining's binary_logloss: 0.0682333\tvalid_1's binary_logloss: 0.120145\n",
      "[506]\ttraining's binary_logloss: 0.0681531\tvalid_1's binary_logloss: 0.120124\n",
      "[507]\ttraining's binary_logloss: 0.0680926\tvalid_1's binary_logloss: 0.120159\n",
      "[508]\ttraining's binary_logloss: 0.0680258\tvalid_1's binary_logloss: 0.120164\n",
      "[509]\ttraining's binary_logloss: 0.0679778\tvalid_1's binary_logloss: 0.120194\n",
      "[510]\ttraining's binary_logloss: 0.067915\tvalid_1's binary_logloss: 0.12019\n",
      "[511]\ttraining's binary_logloss: 0.067857\tvalid_1's binary_logloss: 0.120223\n",
      "[512]\ttraining's binary_logloss: 0.0677996\tvalid_1's binary_logloss: 0.120272\n",
      "[513]\ttraining's binary_logloss: 0.0677521\tvalid_1's binary_logloss: 0.120268\n",
      "[514]\ttraining's binary_logloss: 0.0677089\tvalid_1's binary_logloss: 0.120276\n",
      "[515]\ttraining's binary_logloss: 0.0676376\tvalid_1's binary_logloss: 0.120272\n",
      "[516]\ttraining's binary_logloss: 0.0675728\tvalid_1's binary_logloss: 0.120304\n",
      "[517]\ttraining's binary_logloss: 0.0675144\tvalid_1's binary_logloss: 0.120301\n",
      "[518]\ttraining's binary_logloss: 0.0674569\tvalid_1's binary_logloss: 0.120273\n",
      "[519]\ttraining's binary_logloss: 0.067416\tvalid_1's binary_logloss: 0.120284\n",
      "[520]\ttraining's binary_logloss: 0.0673654\tvalid_1's binary_logloss: 0.120285\n",
      "[521]\ttraining's binary_logloss: 0.0673163\tvalid_1's binary_logloss: 0.120285\n",
      "[522]\ttraining's binary_logloss: 0.0672563\tvalid_1's binary_logloss: 0.120283\n",
      "[523]\ttraining's binary_logloss: 0.0671884\tvalid_1's binary_logloss: 0.120305\n",
      "[524]\ttraining's binary_logloss: 0.0671322\tvalid_1's binary_logloss: 0.120307\n",
      "[525]\ttraining's binary_logloss: 0.0670825\tvalid_1's binary_logloss: 0.120301\n",
      "[526]\ttraining's binary_logloss: 0.0670302\tvalid_1's binary_logloss: 0.120316\n",
      "[527]\ttraining's binary_logloss: 0.0669679\tvalid_1's binary_logloss: 0.120325\n",
      "[528]\ttraining's binary_logloss: 0.066919\tvalid_1's binary_logloss: 0.120298\n",
      "[529]\ttraining's binary_logloss: 0.0668522\tvalid_1's binary_logloss: 0.120335\n",
      "[530]\ttraining's binary_logloss: 0.0668014\tvalid_1's binary_logloss: 0.120304\n",
      "[531]\ttraining's binary_logloss: 0.0667403\tvalid_1's binary_logloss: 0.120272\n",
      "[532]\ttraining's binary_logloss: 0.0666631\tvalid_1's binary_logloss: 0.120259\n",
      "[533]\ttraining's binary_logloss: 0.0666027\tvalid_1's binary_logloss: 0.120242\n",
      "[534]\ttraining's binary_logloss: 0.0665276\tvalid_1's binary_logloss: 0.120234\n",
      "[535]\ttraining's binary_logloss: 0.0664797\tvalid_1's binary_logloss: 0.120259\n",
      "[536]\ttraining's binary_logloss: 0.0664249\tvalid_1's binary_logloss: 0.120253\n",
      "[537]\ttraining's binary_logloss: 0.0663572\tvalid_1's binary_logloss: 0.120229\n",
      "[538]\ttraining's binary_logloss: 0.0663076\tvalid_1's binary_logloss: 0.120236\n",
      "[539]\ttraining's binary_logloss: 0.0662518\tvalid_1's binary_logloss: 0.120247\n",
      "[540]\ttraining's binary_logloss: 0.0662044\tvalid_1's binary_logloss: 0.120289\n",
      "[541]\ttraining's binary_logloss: 0.0661423\tvalid_1's binary_logloss: 0.12031\n",
      "[542]\ttraining's binary_logloss: 0.0660683\tvalid_1's binary_logloss: 0.120364\n",
      "[543]\ttraining's binary_logloss: 0.066002\tvalid_1's binary_logloss: 0.120345\n",
      "[544]\ttraining's binary_logloss: 0.0659488\tvalid_1's binary_logloss: 0.120378\n",
      "Early stopping, best iteration is:\n",
      "[444]\ttraining's binary_logloss: 0.0720654\tvalid_1's binary_logloss: 0.119592\n",
      "CPU times: user 1h 2min 54s, sys: 8.39 s, total: 1h 3min 2s\n",
      "Wall time: 1h 3min 15s\n"
     ]
    }
   ],
   "source": [
    "%%time\n",
    "params = {\n",
    "    'boosting_type': 'gbdt',\n",
    "    'objective': 'binary',\n",
    "    'metric': 'binary_logloss',\n",
    "    'num_leaves': 31,\n",
    "    'learning_rate': 0.1,\n",
    "    'feature_fraction': 0.9,\n",
    "    'bagging_fraction': 0.8,    \n",
    "    'bagging_freq': 5,          \n",
    "    'verbose': -1,              \n",
    "    'n_jobs': -1               \n",
    "}\n",
    "\n",
    "lgbm_model = lgb.train(\n",
    "    params, train_data_cv, num_boost_round=1000, valid_sets=[train_data_cv, valid_data_cv], early_stopping_rounds=100)"
   ]
  },
  {
   "cell_type": "code",
   "execution_count": 67,
   "metadata": {},
   "outputs": [],
   "source": [
    "y_predicted = (lgbm_model.predict(x_valid_cv.astype(float)) >= 0.5).astype(int)"
   ]
  },
  {
   "cell_type": "code",
   "execution_count": 68,
   "metadata": {},
   "outputs": [
    {
     "name": "stdout",
     "output_type": "stream",
     "text": [
      "              precision    recall  f1-score   support\n",
      "\n",
      "           0       0.97      0.99      0.98     28622\n",
      "           1       0.88      0.69      0.77      3237\n",
      "\n",
      "    accuracy                           0.96     31859\n",
      "   macro avg       0.92      0.84      0.88     31859\n",
      "weighted avg       0.96      0.96      0.96     31859\n",
      "\n"
     ]
    }
   ],
   "source": [
    "print(classification_report(\n",
    "    y_valid, y_predicted, target_names=['0', '1']))"
   ]
  },
  {
   "cell_type": "markdown",
   "metadata": {},
   "source": [
    "В прошлый раз регрессия дала лучший результат, а в этот раз lightgbm! "
   ]
  },
  {
   "cell_type": "markdown",
   "metadata": {},
   "source": [
    "### C TFIDF  векторизацией"
   ]
  },
  {
   "cell_type": "markdown",
   "metadata": {},
   "source": [
    "Теперь мы обучим еще ряд моделей, но в этот раз для кодировки будем использовать векторизатор tfidf\n",
    "\n",
    "И начнем мы снова с модели регресии"
   ]
  },
  {
   "cell_type": "code",
   "execution_count": 69,
   "metadata": {},
   "outputs": [],
   "source": [
    "x_valid_tfidf = tfidf_vect.transform(x_valid)"
   ]
  },
  {
   "cell_type": "code",
   "execution_count": 70,
   "metadata": {},
   "outputs": [
    {
     "data": {
      "text/plain": [
       "LogisticRegression()"
      ]
     },
     "execution_count": 70,
     "metadata": {},
     "output_type": "execute_result"
    }
   ],
   "source": [
    "clf3 = LogisticRegression()\n",
    "clf3.fit(x_train_tfidf, y_train)"
   ]
  },
  {
   "cell_type": "code",
   "execution_count": 71,
   "metadata": {},
   "outputs": [
    {
     "name": "stdout",
     "output_type": "stream",
     "text": [
      "              precision    recall  f1-score   support\n",
      "\n",
      "           0       0.96      1.00      0.98     28622\n",
      "           1       0.93      0.59      0.72      3237\n",
      "\n",
      "    accuracy                           0.95     31859\n",
      "   macro avg       0.94      0.79      0.85     31859\n",
      "weighted avg       0.95      0.95      0.95     31859\n",
      "\n"
     ]
    }
   ],
   "source": [
    "print(classification_report(\n",
    "    y_valid, clf3.predict(x_valid_tfidf), target_names=['0', '1']))"
   ]
  },
  {
   "cell_type": "markdown",
   "metadata": {},
   "source": [
    "А здесь нам и увеличение числа итераций не потребуется. "
   ]
  },
  {
   "cell_type": "markdown",
   "metadata": {},
   "source": [
    "Радостного мало. модель на ifidf обладает худшим качеством, чем обычная векторизированная, хотя, может, это отностится только к регрессии?"
   ]
  },
  {
   "cell_type": "code",
   "execution_count": 72,
   "metadata": {},
   "outputs": [
    {
     "name": "stdout",
     "output_type": "stream",
     "text": [
      "Execution time: 152.0334496498108 seconds\n"
     ]
    }
   ],
   "source": [
    "start_time = time.time()\n",
    "rfc2 = RandomForestClassifier(n_estimators=50, random_state=12345)\n",
    "rfc2.fit(x_train_tfidf, y_train)\n",
    "end_time = time.time()\n",
    "print('Execution time:', end_time - start_time, 'seconds')"
   ]
  },
  {
   "cell_type": "code",
   "execution_count": 73,
   "metadata": {},
   "outputs": [
    {
     "name": "stdout",
     "output_type": "stream",
     "text": [
      "              precision    recall  f1-score   support\n",
      "\n",
      "           0       0.95      1.00      0.97     28622\n",
      "           1       0.94      0.53      0.68      3237\n",
      "\n",
      "    accuracy                           0.95     31859\n",
      "   macro avg       0.94      0.76      0.82     31859\n",
      "weighted avg       0.95      0.95      0.94     31859\n",
      "\n"
     ]
    }
   ],
   "source": [
    "print(classification_report(\n",
    "    y_valid, rfc2.predict(x_valid_tfidf), target_names=['0', '1']))"
   ]
  },
  {
   "cell_type": "markdown",
   "metadata": {},
   "source": [
    "Нет, это относится не только к регрессии"
   ]
  },
  {
   "cell_type": "code",
   "execution_count": 74,
   "metadata": {},
   "outputs": [],
   "source": [
    "train_data = lgb.Dataset(x_train_tfidf, label=y_train, free_raw_data=False)\n",
    "valid_data = lgb.Dataset(x_valid_tfidf, label=y_valid, free_raw_data=False)"
   ]
  },
  {
   "cell_type": "code",
   "execution_count": 75,
   "metadata": {
    "scrolled": true
   },
   "outputs": [
    {
     "name": "stderr",
     "output_type": "stream",
     "text": [
      "/opt/conda/lib/python3.9/site-packages/lightgbm/engine.py:181: UserWarning: 'early_stopping_rounds' argument is deprecated and will be removed in a future release of LightGBM. Pass 'early_stopping()' callback via 'callbacks' argument instead.\n",
      "  _log_warning(\"'early_stopping_rounds' argument is deprecated and will be removed in a future release of LightGBM. \"\n"
     ]
    },
    {
     "name": "stdout",
     "output_type": "stream",
     "text": [
      "[1]\ttraining's binary_logloss: 0.283143\tvalid_1's binary_logloss: 0.284189\n",
      "Training until validation scores don't improve for 100 rounds\n",
      "[2]\ttraining's binary_logloss: 0.260497\tvalid_1's binary_logloss: 0.262309\n",
      "[3]\ttraining's binary_logloss: 0.245734\tvalid_1's binary_logloss: 0.247994\n",
      "[4]\ttraining's binary_logloss: 0.233834\tvalid_1's binary_logloss: 0.236658\n",
      "[5]\ttraining's binary_logloss: 0.224557\tvalid_1's binary_logloss: 0.22757\n",
      "[6]\ttraining's binary_logloss: 0.216536\tvalid_1's binary_logloss: 0.21999\n",
      "[7]\ttraining's binary_logloss: 0.210221\tvalid_1's binary_logloss: 0.214013\n",
      "[8]\ttraining's binary_logloss: 0.204612\tvalid_1's binary_logloss: 0.208733\n",
      "[9]\ttraining's binary_logloss: 0.199477\tvalid_1's binary_logloss: 0.203765\n",
      "[10]\ttraining's binary_logloss: 0.195068\tvalid_1's binary_logloss: 0.199607\n",
      "[11]\ttraining's binary_logloss: 0.191138\tvalid_1's binary_logloss: 0.195971\n",
      "[12]\ttraining's binary_logloss: 0.188188\tvalid_1's binary_logloss: 0.193204\n",
      "[13]\ttraining's binary_logloss: 0.184856\tvalid_1's binary_logloss: 0.190213\n",
      "[14]\ttraining's binary_logloss: 0.181692\tvalid_1's binary_logloss: 0.187353\n",
      "[15]\ttraining's binary_logloss: 0.17879\tvalid_1's binary_logloss: 0.184534\n",
      "[16]\ttraining's binary_logloss: 0.175842\tvalid_1's binary_logloss: 0.181843\n",
      "[17]\ttraining's binary_logloss: 0.173309\tvalid_1's binary_logloss: 0.179429\n",
      "[18]\ttraining's binary_logloss: 0.170988\tvalid_1's binary_logloss: 0.17721\n",
      "[19]\ttraining's binary_logloss: 0.168875\tvalid_1's binary_logloss: 0.175184\n",
      "[20]\ttraining's binary_logloss: 0.166685\tvalid_1's binary_logloss: 0.173271\n",
      "[21]\ttraining's binary_logloss: 0.164762\tvalid_1's binary_logloss: 0.171644\n",
      "[22]\ttraining's binary_logloss: 0.162879\tvalid_1's binary_logloss: 0.169916\n",
      "[23]\ttraining's binary_logloss: 0.16111\tvalid_1's binary_logloss: 0.168382\n",
      "[24]\ttraining's binary_logloss: 0.15934\tvalid_1's binary_logloss: 0.166887\n",
      "[25]\ttraining's binary_logloss: 0.157617\tvalid_1's binary_logloss: 0.165569\n",
      "[26]\ttraining's binary_logloss: 0.155935\tvalid_1's binary_logloss: 0.164161\n",
      "[27]\ttraining's binary_logloss: 0.154329\tvalid_1's binary_logloss: 0.162738\n",
      "[28]\ttraining's binary_logloss: 0.152969\tvalid_1's binary_logloss: 0.161527\n",
      "[29]\ttraining's binary_logloss: 0.151612\tvalid_1's binary_logloss: 0.160339\n",
      "[30]\ttraining's binary_logloss: 0.150246\tvalid_1's binary_logloss: 0.159107\n",
      "[31]\ttraining's binary_logloss: 0.148874\tvalid_1's binary_logloss: 0.157829\n",
      "[32]\ttraining's binary_logloss: 0.147626\tvalid_1's binary_logloss: 0.156785\n",
      "[33]\ttraining's binary_logloss: 0.146329\tvalid_1's binary_logloss: 0.155608\n",
      "[34]\ttraining's binary_logloss: 0.145218\tvalid_1's binary_logloss: 0.154714\n",
      "[35]\ttraining's binary_logloss: 0.144046\tvalid_1's binary_logloss: 0.153529\n",
      "[36]\ttraining's binary_logloss: 0.142915\tvalid_1's binary_logloss: 0.152592\n",
      "[37]\ttraining's binary_logloss: 0.141837\tvalid_1's binary_logloss: 0.151497\n",
      "[38]\ttraining's binary_logloss: 0.140826\tvalid_1's binary_logloss: 0.150617\n",
      "[39]\ttraining's binary_logloss: 0.139865\tvalid_1's binary_logloss: 0.149886\n",
      "[40]\ttraining's binary_logloss: 0.138913\tvalid_1's binary_logloss: 0.14897\n",
      "[41]\ttraining's binary_logloss: 0.13792\tvalid_1's binary_logloss: 0.148093\n",
      "[42]\ttraining's binary_logloss: 0.136999\tvalid_1's binary_logloss: 0.147368\n",
      "[43]\ttraining's binary_logloss: 0.13612\tvalid_1's binary_logloss: 0.146688\n",
      "[44]\ttraining's binary_logloss: 0.13531\tvalid_1's binary_logloss: 0.145969\n",
      "[45]\ttraining's binary_logloss: 0.134503\tvalid_1's binary_logloss: 0.145228\n",
      "[46]\ttraining's binary_logloss: 0.133658\tvalid_1's binary_logloss: 0.14458\n",
      "[47]\ttraining's binary_logloss: 0.132894\tvalid_1's binary_logloss: 0.144036\n",
      "[48]\ttraining's binary_logloss: 0.132121\tvalid_1's binary_logloss: 0.143449\n",
      "[49]\ttraining's binary_logloss: 0.131401\tvalid_1's binary_logloss: 0.14286\n",
      "[50]\ttraining's binary_logloss: 0.130709\tvalid_1's binary_logloss: 0.142331\n",
      "[51]\ttraining's binary_logloss: 0.129963\tvalid_1's binary_logloss: 0.141831\n",
      "[52]\ttraining's binary_logloss: 0.129274\tvalid_1's binary_logloss: 0.141245\n",
      "[53]\ttraining's binary_logloss: 0.128601\tvalid_1's binary_logloss: 0.140628\n",
      "[54]\ttraining's binary_logloss: 0.127999\tvalid_1's binary_logloss: 0.140192\n",
      "[55]\ttraining's binary_logloss: 0.127406\tvalid_1's binary_logloss: 0.139768\n",
      "[56]\ttraining's binary_logloss: 0.126743\tvalid_1's binary_logloss: 0.139196\n",
      "[57]\ttraining's binary_logloss: 0.126119\tvalid_1's binary_logloss: 0.1388\n",
      "[58]\ttraining's binary_logloss: 0.125504\tvalid_1's binary_logloss: 0.138345\n",
      "[59]\ttraining's binary_logloss: 0.124923\tvalid_1's binary_logloss: 0.137905\n",
      "[60]\ttraining's binary_logloss: 0.124386\tvalid_1's binary_logloss: 0.137421\n",
      "[61]\ttraining's binary_logloss: 0.123811\tvalid_1's binary_logloss: 0.137032\n",
      "[62]\ttraining's binary_logloss: 0.123245\tvalid_1's binary_logloss: 0.136649\n",
      "[63]\ttraining's binary_logloss: 0.122708\tvalid_1's binary_logloss: 0.136253\n",
      "[64]\ttraining's binary_logloss: 0.122156\tvalid_1's binary_logloss: 0.135897\n",
      "[65]\ttraining's binary_logloss: 0.121656\tvalid_1's binary_logloss: 0.135668\n",
      "[66]\ttraining's binary_logloss: 0.121129\tvalid_1's binary_logloss: 0.135329\n",
      "[67]\ttraining's binary_logloss: 0.120589\tvalid_1's binary_logloss: 0.13502\n",
      "[68]\ttraining's binary_logloss: 0.120107\tvalid_1's binary_logloss: 0.134806\n",
      "[69]\ttraining's binary_logloss: 0.119632\tvalid_1's binary_logloss: 0.134499\n",
      "[70]\ttraining's binary_logloss: 0.119142\tvalid_1's binary_logloss: 0.134207\n",
      "[71]\ttraining's binary_logloss: 0.118642\tvalid_1's binary_logloss: 0.133879\n",
      "[72]\ttraining's binary_logloss: 0.118186\tvalid_1's binary_logloss: 0.133633\n",
      "[73]\ttraining's binary_logloss: 0.117747\tvalid_1's binary_logloss: 0.133337\n",
      "[74]\ttraining's binary_logloss: 0.11732\tvalid_1's binary_logloss: 0.132967\n",
      "[75]\ttraining's binary_logloss: 0.116902\tvalid_1's binary_logloss: 0.132721\n",
      "[76]\ttraining's binary_logloss: 0.116434\tvalid_1's binary_logloss: 0.132328\n",
      "[77]\ttraining's binary_logloss: 0.115976\tvalid_1's binary_logloss: 0.132\n",
      "[78]\ttraining's binary_logloss: 0.11555\tvalid_1's binary_logloss: 0.13167\n",
      "[79]\ttraining's binary_logloss: 0.115162\tvalid_1's binary_logloss: 0.131401\n",
      "[80]\ttraining's binary_logloss: 0.114747\tvalid_1's binary_logloss: 0.131118\n",
      "[81]\ttraining's binary_logloss: 0.114347\tvalid_1's binary_logloss: 0.130891\n",
      "[82]\ttraining's binary_logloss: 0.113939\tvalid_1's binary_logloss: 0.130549\n",
      "[83]\ttraining's binary_logloss: 0.113555\tvalid_1's binary_logloss: 0.130328\n",
      "[84]\ttraining's binary_logloss: 0.113181\tvalid_1's binary_logloss: 0.130128\n",
      "[85]\ttraining's binary_logloss: 0.112793\tvalid_1's binary_logloss: 0.129854\n",
      "[86]\ttraining's binary_logloss: 0.112374\tvalid_1's binary_logloss: 0.129569\n",
      "[87]\ttraining's binary_logloss: 0.111979\tvalid_1's binary_logloss: 0.129327\n",
      "[88]\ttraining's binary_logloss: 0.111594\tvalid_1's binary_logloss: 0.1291\n",
      "[89]\ttraining's binary_logloss: 0.111243\tvalid_1's binary_logloss: 0.128906\n",
      "[90]\ttraining's binary_logloss: 0.110881\tvalid_1's binary_logloss: 0.128671\n",
      "[91]\ttraining's binary_logloss: 0.110521\tvalid_1's binary_logloss: 0.128479\n",
      "[92]\ttraining's binary_logloss: 0.110145\tvalid_1's binary_logloss: 0.128373\n",
      "[93]\ttraining's binary_logloss: 0.109796\tvalid_1's binary_logloss: 0.128215\n",
      "[94]\ttraining's binary_logloss: 0.109474\tvalid_1's binary_logloss: 0.128048\n",
      "[95]\ttraining's binary_logloss: 0.109148\tvalid_1's binary_logloss: 0.127966\n",
      "[96]\ttraining's binary_logloss: 0.108815\tvalid_1's binary_logloss: 0.127805\n",
      "[97]\ttraining's binary_logloss: 0.108473\tvalid_1's binary_logloss: 0.127589\n",
      "[98]\ttraining's binary_logloss: 0.108151\tvalid_1's binary_logloss: 0.127498\n",
      "[99]\ttraining's binary_logloss: 0.107842\tvalid_1's binary_logloss: 0.127326\n",
      "[100]\ttraining's binary_logloss: 0.107528\tvalid_1's binary_logloss: 0.127187\n",
      "[101]\ttraining's binary_logloss: 0.107201\tvalid_1's binary_logloss: 0.126884\n",
      "[102]\ttraining's binary_logloss: 0.106889\tvalid_1's binary_logloss: 0.126583\n",
      "[103]\ttraining's binary_logloss: 0.106569\tvalid_1's binary_logloss: 0.126463\n",
      "[104]\ttraining's binary_logloss: 0.106262\tvalid_1's binary_logloss: 0.126312\n",
      "[105]\ttraining's binary_logloss: 0.105971\tvalid_1's binary_logloss: 0.126174\n",
      "[106]\ttraining's binary_logloss: 0.105652\tvalid_1's binary_logloss: 0.126036\n",
      "[107]\ttraining's binary_logloss: 0.105341\tvalid_1's binary_logloss: 0.125897\n",
      "[108]\ttraining's binary_logloss: 0.105018\tvalid_1's binary_logloss: 0.125812\n",
      "[109]\ttraining's binary_logloss: 0.104694\tvalid_1's binary_logloss: 0.125702\n",
      "[110]\ttraining's binary_logloss: 0.104417\tvalid_1's binary_logloss: 0.125587\n",
      "[111]\ttraining's binary_logloss: 0.104111\tvalid_1's binary_logloss: 0.125386\n",
      "[112]\ttraining's binary_logloss: 0.103821\tvalid_1's binary_logloss: 0.125266\n",
      "[113]\ttraining's binary_logloss: 0.103559\tvalid_1's binary_logloss: 0.125176\n",
      "[114]\ttraining's binary_logloss: 0.1033\tvalid_1's binary_logloss: 0.125033\n",
      "[115]\ttraining's binary_logloss: 0.103023\tvalid_1's binary_logloss: 0.124931\n",
      "[116]\ttraining's binary_logloss: 0.10274\tvalid_1's binary_logloss: 0.124838\n",
      "[117]\ttraining's binary_logloss: 0.102453\tvalid_1's binary_logloss: 0.124782\n",
      "[118]\ttraining's binary_logloss: 0.102199\tvalid_1's binary_logloss: 0.124643\n",
      "[119]\ttraining's binary_logloss: 0.101929\tvalid_1's binary_logloss: 0.124517\n",
      "[120]\ttraining's binary_logloss: 0.101685\tvalid_1's binary_logloss: 0.124394\n",
      "[121]\ttraining's binary_logloss: 0.10141\tvalid_1's binary_logloss: 0.124249\n",
      "[122]\ttraining's binary_logloss: 0.10116\tvalid_1's binary_logloss: 0.124067\n",
      "[123]\ttraining's binary_logloss: 0.100885\tvalid_1's binary_logloss: 0.124026\n",
      "[124]\ttraining's binary_logloss: 0.100624\tvalid_1's binary_logloss: 0.123955\n",
      "[125]\ttraining's binary_logloss: 0.10038\tvalid_1's binary_logloss: 0.123873\n",
      "[126]\ttraining's binary_logloss: 0.100124\tvalid_1's binary_logloss: 0.123738\n",
      "[127]\ttraining's binary_logloss: 0.0998891\tvalid_1's binary_logloss: 0.123641\n",
      "[128]\ttraining's binary_logloss: 0.0996663\tvalid_1's binary_logloss: 0.123556\n",
      "[129]\ttraining's binary_logloss: 0.0994119\tvalid_1's binary_logloss: 0.123504\n",
      "[130]\ttraining's binary_logloss: 0.0991712\tvalid_1's binary_logloss: 0.123354\n",
      "[131]\ttraining's binary_logloss: 0.0988921\tvalid_1's binary_logloss: 0.123262\n",
      "[132]\ttraining's binary_logloss: 0.0986453\tvalid_1's binary_logloss: 0.123203\n",
      "[133]\ttraining's binary_logloss: 0.0984327\tvalid_1's binary_logloss: 0.123071\n",
      "[134]\ttraining's binary_logloss: 0.098202\tvalid_1's binary_logloss: 0.122995\n",
      "[135]\ttraining's binary_logloss: 0.0979592\tvalid_1's binary_logloss: 0.122954\n",
      "[136]\ttraining's binary_logloss: 0.0976931\tvalid_1's binary_logloss: 0.122874\n",
      "[137]\ttraining's binary_logloss: 0.0974361\tvalid_1's binary_logloss: 0.122856\n",
      "[138]\ttraining's binary_logloss: 0.0971827\tvalid_1's binary_logloss: 0.122832\n",
      "[139]\ttraining's binary_logloss: 0.096968\tvalid_1's binary_logloss: 0.122775\n",
      "[140]\ttraining's binary_logloss: 0.0967355\tvalid_1's binary_logloss: 0.122775\n",
      "[141]\ttraining's binary_logloss: 0.0965137\tvalid_1's binary_logloss: 0.122683\n",
      "[142]\ttraining's binary_logloss: 0.0962927\tvalid_1's binary_logloss: 0.122634\n",
      "[143]\ttraining's binary_logloss: 0.0960764\tvalid_1's binary_logloss: 0.122518\n",
      "[144]\ttraining's binary_logloss: 0.0958676\tvalid_1's binary_logloss: 0.122423\n",
      "[145]\ttraining's binary_logloss: 0.0956571\tvalid_1's binary_logloss: 0.122322\n",
      "[146]\ttraining's binary_logloss: 0.0954382\tvalid_1's binary_logloss: 0.122232\n",
      "[147]\ttraining's binary_logloss: 0.0951461\tvalid_1's binary_logloss: 0.122175\n",
      "[148]\ttraining's binary_logloss: 0.0949372\tvalid_1's binary_logloss: 0.122136\n",
      "[149]\ttraining's binary_logloss: 0.0947366\tvalid_1's binary_logloss: 0.122093\n",
      "[150]\ttraining's binary_logloss: 0.0945183\tvalid_1's binary_logloss: 0.122009\n",
      "[151]\ttraining's binary_logloss: 0.0942843\tvalid_1's binary_logloss: 0.121957\n",
      "[152]\ttraining's binary_logloss: 0.0940836\tvalid_1's binary_logloss: 0.121852\n",
      "[153]\ttraining's binary_logloss: 0.0938852\tvalid_1's binary_logloss: 0.121767\n",
      "[154]\ttraining's binary_logloss: 0.0936789\tvalid_1's binary_logloss: 0.121724\n",
      "[155]\ttraining's binary_logloss: 0.0934915\tvalid_1's binary_logloss: 0.121574\n",
      "[156]\ttraining's binary_logloss: 0.0932927\tvalid_1's binary_logloss: 0.121482\n",
      "[157]\ttraining's binary_logloss: 0.0931054\tvalid_1's binary_logloss: 0.121378\n",
      "[158]\ttraining's binary_logloss: 0.0928897\tvalid_1's binary_logloss: 0.12129\n",
      "[159]\ttraining's binary_logloss: 0.0927156\tvalid_1's binary_logloss: 0.121209\n",
      "[160]\ttraining's binary_logloss: 0.0925264\tvalid_1's binary_logloss: 0.12113\n",
      "[161]\ttraining's binary_logloss: 0.092324\tvalid_1's binary_logloss: 0.121134\n",
      "[162]\ttraining's binary_logloss: 0.0921404\tvalid_1's binary_logloss: 0.121083\n",
      "[163]\ttraining's binary_logloss: 0.0919441\tvalid_1's binary_logloss: 0.121075\n",
      "[164]\ttraining's binary_logloss: 0.0917668\tvalid_1's binary_logloss: 0.121051\n",
      "[165]\ttraining's binary_logloss: 0.0915627\tvalid_1's binary_logloss: 0.120986\n",
      "[166]\ttraining's binary_logloss: 0.0913617\tvalid_1's binary_logloss: 0.120923\n",
      "[167]\ttraining's binary_logloss: 0.0911635\tvalid_1's binary_logloss: 0.120868\n",
      "[168]\ttraining's binary_logloss: 0.0909758\tvalid_1's binary_logloss: 0.120801\n",
      "[169]\ttraining's binary_logloss: 0.0907988\tvalid_1's binary_logloss: 0.12076\n",
      "[170]\ttraining's binary_logloss: 0.0905994\tvalid_1's binary_logloss: 0.120774\n",
      "[171]\ttraining's binary_logloss: 0.090411\tvalid_1's binary_logloss: 0.120713\n",
      "[172]\ttraining's binary_logloss: 0.090222\tvalid_1's binary_logloss: 0.120663\n",
      "[173]\ttraining's binary_logloss: 0.0900526\tvalid_1's binary_logloss: 0.120629\n",
      "[174]\ttraining's binary_logloss: 0.0898893\tvalid_1's binary_logloss: 0.120565\n",
      "[175]\ttraining's binary_logloss: 0.0897245\tvalid_1's binary_logloss: 0.120511\n",
      "[176]\ttraining's binary_logloss: 0.0894554\tvalid_1's binary_logloss: 0.120509\n",
      "[177]\ttraining's binary_logloss: 0.0892591\tvalid_1's binary_logloss: 0.120441\n",
      "[178]\ttraining's binary_logloss: 0.0890411\tvalid_1's binary_logloss: 0.120391\n",
      "[179]\ttraining's binary_logloss: 0.0888442\tvalid_1's binary_logloss: 0.120308\n",
      "[180]\ttraining's binary_logloss: 0.0886839\tvalid_1's binary_logloss: 0.120243\n",
      "[181]\ttraining's binary_logloss: 0.0885073\tvalid_1's binary_logloss: 0.120204\n",
      "[182]\ttraining's binary_logloss: 0.0883366\tvalid_1's binary_logloss: 0.120112\n",
      "[183]\ttraining's binary_logloss: 0.0881631\tvalid_1's binary_logloss: 0.120085\n",
      "[184]\ttraining's binary_logloss: 0.0879763\tvalid_1's binary_logloss: 0.120059\n",
      "[185]\ttraining's binary_logloss: 0.087805\tvalid_1's binary_logloss: 0.11999\n",
      "[186]\ttraining's binary_logloss: 0.0876336\tvalid_1's binary_logloss: 0.119926\n",
      "[187]\ttraining's binary_logloss: 0.0874751\tvalid_1's binary_logloss: 0.119933\n",
      "[188]\ttraining's binary_logloss: 0.0873172\tvalid_1's binary_logloss: 0.119883\n",
      "[189]\ttraining's binary_logloss: 0.0871696\tvalid_1's binary_logloss: 0.119859\n",
      "[190]\ttraining's binary_logloss: 0.0870122\tvalid_1's binary_logloss: 0.119791\n",
      "[191]\ttraining's binary_logloss: 0.0868332\tvalid_1's binary_logloss: 0.119743\n",
      "[192]\ttraining's binary_logloss: 0.0866677\tvalid_1's binary_logloss: 0.119747\n",
      "[193]\ttraining's binary_logloss: 0.0864986\tvalid_1's binary_logloss: 0.119659\n",
      "[194]\ttraining's binary_logloss: 0.0863524\tvalid_1's binary_logloss: 0.119663\n",
      "[195]\ttraining's binary_logloss: 0.0861699\tvalid_1's binary_logloss: 0.119662\n",
      "[196]\ttraining's binary_logloss: 0.0860145\tvalid_1's binary_logloss: 0.119581\n",
      "[197]\ttraining's binary_logloss: 0.085864\tvalid_1's binary_logloss: 0.119557\n",
      "[198]\ttraining's binary_logloss: 0.0857152\tvalid_1's binary_logloss: 0.119539\n",
      "[199]\ttraining's binary_logloss: 0.0855492\tvalid_1's binary_logloss: 0.119514\n",
      "[200]\ttraining's binary_logloss: 0.0853807\tvalid_1's binary_logloss: 0.119503\n",
      "[201]\ttraining's binary_logloss: 0.08521\tvalid_1's binary_logloss: 0.119498\n",
      "[202]\ttraining's binary_logloss: 0.0850528\tvalid_1's binary_logloss: 0.119534\n",
      "[203]\ttraining's binary_logloss: 0.0848918\tvalid_1's binary_logloss: 0.119509\n",
      "[204]\ttraining's binary_logloss: 0.084747\tvalid_1's binary_logloss: 0.11945\n",
      "[205]\ttraining's binary_logloss: 0.0845725\tvalid_1's binary_logloss: 0.119402\n",
      "[206]\ttraining's binary_logloss: 0.0844002\tvalid_1's binary_logloss: 0.119341\n",
      "[207]\ttraining's binary_logloss: 0.0842494\tvalid_1's binary_logloss: 0.119293\n",
      "[208]\ttraining's binary_logloss: 0.0840678\tvalid_1's binary_logloss: 0.119307\n",
      "[209]\ttraining's binary_logloss: 0.0839303\tvalid_1's binary_logloss: 0.119289\n",
      "[210]\ttraining's binary_logloss: 0.083761\tvalid_1's binary_logloss: 0.119261\n",
      "[211]\ttraining's binary_logloss: 0.0835971\tvalid_1's binary_logloss: 0.119241\n",
      "[212]\ttraining's binary_logloss: 0.0834623\tvalid_1's binary_logloss: 0.119236\n",
      "[213]\ttraining's binary_logloss: 0.0832873\tvalid_1's binary_logloss: 0.119218\n",
      "[214]\ttraining's binary_logloss: 0.0831335\tvalid_1's binary_logloss: 0.11914\n",
      "[215]\ttraining's binary_logloss: 0.0829873\tvalid_1's binary_logloss: 0.11914\n",
      "[216]\ttraining's binary_logloss: 0.0828307\tvalid_1's binary_logloss: 0.119104\n",
      "[217]\ttraining's binary_logloss: 0.0826782\tvalid_1's binary_logloss: 0.119068\n",
      "[218]\ttraining's binary_logloss: 0.0825353\tvalid_1's binary_logloss: 0.119071\n",
      "[219]\ttraining's binary_logloss: 0.0823915\tvalid_1's binary_logloss: 0.119003\n",
      "[220]\ttraining's binary_logloss: 0.0822506\tvalid_1's binary_logloss: 0.118959\n",
      "[221]\ttraining's binary_logloss: 0.0821116\tvalid_1's binary_logloss: 0.118914\n",
      "[222]\ttraining's binary_logloss: 0.0819711\tvalid_1's binary_logloss: 0.118824\n",
      "[223]\ttraining's binary_logloss: 0.0818358\tvalid_1's binary_logloss: 0.118811\n",
      "[224]\ttraining's binary_logloss: 0.0817038\tvalid_1's binary_logloss: 0.118787\n",
      "[225]\ttraining's binary_logloss: 0.0815649\tvalid_1's binary_logloss: 0.118755\n",
      "[226]\ttraining's binary_logloss: 0.0813992\tvalid_1's binary_logloss: 0.118708\n",
      "[227]\ttraining's binary_logloss: 0.0812542\tvalid_1's binary_logloss: 0.118665\n",
      "[228]\ttraining's binary_logloss: 0.0811259\tvalid_1's binary_logloss: 0.11863\n",
      "[229]\ttraining's binary_logloss: 0.0809842\tvalid_1's binary_logloss: 0.118655\n",
      "[230]\ttraining's binary_logloss: 0.0808519\tvalid_1's binary_logloss: 0.118676\n",
      "[231]\ttraining's binary_logloss: 0.0806781\tvalid_1's binary_logloss: 0.118657\n",
      "[232]\ttraining's binary_logloss: 0.0805045\tvalid_1's binary_logloss: 0.118649\n",
      "[233]\ttraining's binary_logloss: 0.0803617\tvalid_1's binary_logloss: 0.118582\n",
      "[234]\ttraining's binary_logloss: 0.0802073\tvalid_1's binary_logloss: 0.118562\n",
      "[235]\ttraining's binary_logloss: 0.0800377\tvalid_1's binary_logloss: 0.118527\n",
      "[236]\ttraining's binary_logloss: 0.0798953\tvalid_1's binary_logloss: 0.118463\n",
      "[237]\ttraining's binary_logloss: 0.0797538\tvalid_1's binary_logloss: 0.118435\n",
      "[238]\ttraining's binary_logloss: 0.0796314\tvalid_1's binary_logloss: 0.118367\n",
      "[239]\ttraining's binary_logloss: 0.0794975\tvalid_1's binary_logloss: 0.118344\n",
      "[240]\ttraining's binary_logloss: 0.0793701\tvalid_1's binary_logloss: 0.118294\n",
      "[241]\ttraining's binary_logloss: 0.0792343\tvalid_1's binary_logloss: 0.118291\n",
      "[242]\ttraining's binary_logloss: 0.0791022\tvalid_1's binary_logloss: 0.11832\n",
      "[243]\ttraining's binary_logloss: 0.0789595\tvalid_1's binary_logloss: 0.118351\n",
      "[244]\ttraining's binary_logloss: 0.0788387\tvalid_1's binary_logloss: 0.118384\n",
      "[245]\ttraining's binary_logloss: 0.0787194\tvalid_1's binary_logloss: 0.118351\n",
      "[246]\ttraining's binary_logloss: 0.0785813\tvalid_1's binary_logloss: 0.11833\n",
      "[247]\ttraining's binary_logloss: 0.078453\tvalid_1's binary_logloss: 0.118317\n",
      "[248]\ttraining's binary_logloss: 0.0783217\tvalid_1's binary_logloss: 0.118285\n",
      "[249]\ttraining's binary_logloss: 0.0781836\tvalid_1's binary_logloss: 0.11831\n",
      "[250]\ttraining's binary_logloss: 0.078048\tvalid_1's binary_logloss: 0.118295\n",
      "[251]\ttraining's binary_logloss: 0.0779158\tvalid_1's binary_logloss: 0.118242\n",
      "[252]\ttraining's binary_logloss: 0.0777677\tvalid_1's binary_logloss: 0.118239\n",
      "[253]\ttraining's binary_logloss: 0.0776154\tvalid_1's binary_logloss: 0.118172\n",
      "[254]\ttraining's binary_logloss: 0.0774954\tvalid_1's binary_logloss: 0.118114\n",
      "[255]\ttraining's binary_logloss: 0.0773591\tvalid_1's binary_logloss: 0.118091\n",
      "[256]\ttraining's binary_logloss: 0.0772254\tvalid_1's binary_logloss: 0.11809\n",
      "[257]\ttraining's binary_logloss: 0.0770809\tvalid_1's binary_logloss: 0.118125\n",
      "[258]\ttraining's binary_logloss: 0.0769649\tvalid_1's binary_logloss: 0.118095\n",
      "[259]\ttraining's binary_logloss: 0.0768458\tvalid_1's binary_logloss: 0.118091\n",
      "[260]\ttraining's binary_logloss: 0.0767231\tvalid_1's binary_logloss: 0.118075\n",
      "[261]\ttraining's binary_logloss: 0.0766003\tvalid_1's binary_logloss: 0.118088\n",
      "[262]\ttraining's binary_logloss: 0.0764748\tvalid_1's binary_logloss: 0.118101\n",
      "[263]\ttraining's binary_logloss: 0.0763587\tvalid_1's binary_logloss: 0.118084\n",
      "[264]\ttraining's binary_logloss: 0.0762396\tvalid_1's binary_logloss: 0.118116\n",
      "[265]\ttraining's binary_logloss: 0.0760997\tvalid_1's binary_logloss: 0.118091\n",
      "[266]\ttraining's binary_logloss: 0.075965\tvalid_1's binary_logloss: 0.118076\n",
      "[267]\ttraining's binary_logloss: 0.0758354\tvalid_1's binary_logloss: 0.118064\n",
      "[268]\ttraining's binary_logloss: 0.0757194\tvalid_1's binary_logloss: 0.118037\n",
      "[269]\ttraining's binary_logloss: 0.0756016\tvalid_1's binary_logloss: 0.117992\n",
      "[270]\ttraining's binary_logloss: 0.0754784\tvalid_1's binary_logloss: 0.117971\n",
      "[271]\ttraining's binary_logloss: 0.075365\tvalid_1's binary_logloss: 0.117902\n",
      "[272]\ttraining's binary_logloss: 0.0752517\tvalid_1's binary_logloss: 0.117858\n",
      "[273]\ttraining's binary_logloss: 0.0751422\tvalid_1's binary_logloss: 0.117854\n",
      "[274]\ttraining's binary_logloss: 0.0750317\tvalid_1's binary_logloss: 0.117871\n",
      "[275]\ttraining's binary_logloss: 0.0749276\tvalid_1's binary_logloss: 0.117858\n",
      "[276]\ttraining's binary_logloss: 0.0748045\tvalid_1's binary_logloss: 0.117822\n",
      "[277]\ttraining's binary_logloss: 0.0746778\tvalid_1's binary_logloss: 0.11782\n",
      "[278]\ttraining's binary_logloss: 0.0745596\tvalid_1's binary_logloss: 0.117794\n",
      "[279]\ttraining's binary_logloss: 0.0744419\tvalid_1's binary_logloss: 0.117802\n",
      "[280]\ttraining's binary_logloss: 0.0743034\tvalid_1's binary_logloss: 0.117807\n",
      "[281]\ttraining's binary_logloss: 0.0741904\tvalid_1's binary_logloss: 0.117821\n",
      "[282]\ttraining's binary_logloss: 0.074089\tvalid_1's binary_logloss: 0.117841\n",
      "[283]\ttraining's binary_logloss: 0.0739851\tvalid_1's binary_logloss: 0.117823\n",
      "[284]\ttraining's binary_logloss: 0.0738727\tvalid_1's binary_logloss: 0.117823\n",
      "[285]\ttraining's binary_logloss: 0.0737702\tvalid_1's binary_logloss: 0.117748\n",
      "[286]\ttraining's binary_logloss: 0.0736616\tvalid_1's binary_logloss: 0.117754\n",
      "[287]\ttraining's binary_logloss: 0.0735567\tvalid_1's binary_logloss: 0.117758\n",
      "[288]\ttraining's binary_logloss: 0.0734648\tvalid_1's binary_logloss: 0.117796\n",
      "[289]\ttraining's binary_logloss: 0.0733576\tvalid_1's binary_logloss: 0.117798\n",
      "[290]\ttraining's binary_logloss: 0.0732635\tvalid_1's binary_logloss: 0.11779\n",
      "[291]\ttraining's binary_logloss: 0.0731447\tvalid_1's binary_logloss: 0.117711\n",
      "[292]\ttraining's binary_logloss: 0.0730373\tvalid_1's binary_logloss: 0.117669\n",
      "[293]\ttraining's binary_logloss: 0.072912\tvalid_1's binary_logloss: 0.117625\n",
      "[294]\ttraining's binary_logloss: 0.0728025\tvalid_1's binary_logloss: 0.117585\n",
      "[295]\ttraining's binary_logloss: 0.0726807\tvalid_1's binary_logloss: 0.11757\n",
      "[296]\ttraining's binary_logloss: 0.0725767\tvalid_1's binary_logloss: 0.117554\n",
      "[297]\ttraining's binary_logloss: 0.0724277\tvalid_1's binary_logloss: 0.117521\n",
      "[298]\ttraining's binary_logloss: 0.0723333\tvalid_1's binary_logloss: 0.117489\n",
      "[299]\ttraining's binary_logloss: 0.0722348\tvalid_1's binary_logloss: 0.117505\n",
      "[300]\ttraining's binary_logloss: 0.0721017\tvalid_1's binary_logloss: 0.117468\n",
      "[301]\ttraining's binary_logloss: 0.0719707\tvalid_1's binary_logloss: 0.11747\n",
      "[302]\ttraining's binary_logloss: 0.0718758\tvalid_1's binary_logloss: 0.117457\n",
      "[303]\ttraining's binary_logloss: 0.0717759\tvalid_1's binary_logloss: 0.11741\n",
      "[304]\ttraining's binary_logloss: 0.0716735\tvalid_1's binary_logloss: 0.117367\n",
      "[305]\ttraining's binary_logloss: 0.0715722\tvalid_1's binary_logloss: 0.117406\n",
      "[306]\ttraining's binary_logloss: 0.0714555\tvalid_1's binary_logloss: 0.117386\n",
      "[307]\ttraining's binary_logloss: 0.0713428\tvalid_1's binary_logloss: 0.117363\n",
      "[308]\ttraining's binary_logloss: 0.0712264\tvalid_1's binary_logloss: 0.117331\n",
      "[309]\ttraining's binary_logloss: 0.0711317\tvalid_1's binary_logloss: 0.117282\n",
      "[310]\ttraining's binary_logloss: 0.0710466\tvalid_1's binary_logloss: 0.117288\n",
      "[311]\ttraining's binary_logloss: 0.0709485\tvalid_1's binary_logloss: 0.117258\n",
      "[312]\ttraining's binary_logloss: 0.0708482\tvalid_1's binary_logloss: 0.117229\n",
      "[313]\ttraining's binary_logloss: 0.0707471\tvalid_1's binary_logloss: 0.117209\n",
      "[314]\ttraining's binary_logloss: 0.0706461\tvalid_1's binary_logloss: 0.117146\n",
      "[315]\ttraining's binary_logloss: 0.0705446\tvalid_1's binary_logloss: 0.117136\n",
      "[316]\ttraining's binary_logloss: 0.0704343\tvalid_1's binary_logloss: 0.117175\n",
      "[317]\ttraining's binary_logloss: 0.0703322\tvalid_1's binary_logloss: 0.117224\n",
      "[318]\ttraining's binary_logloss: 0.0702331\tvalid_1's binary_logloss: 0.117226\n",
      "[319]\ttraining's binary_logloss: 0.0701425\tvalid_1's binary_logloss: 0.117214\n",
      "[320]\ttraining's binary_logloss: 0.0700411\tvalid_1's binary_logloss: 0.117221\n",
      "[321]\ttraining's binary_logloss: 0.0699408\tvalid_1's binary_logloss: 0.117233\n",
      "[322]\ttraining's binary_logloss: 0.0698247\tvalid_1's binary_logloss: 0.117257\n",
      "[323]\ttraining's binary_logloss: 0.0697233\tvalid_1's binary_logloss: 0.117303\n",
      "[324]\ttraining's binary_logloss: 0.0696199\tvalid_1's binary_logloss: 0.11732\n",
      "[325]\ttraining's binary_logloss: 0.0695272\tvalid_1's binary_logloss: 0.117384\n",
      "[326]\ttraining's binary_logloss: 0.0694007\tvalid_1's binary_logloss: 0.117387\n",
      "[327]\ttraining's binary_logloss: 0.0692935\tvalid_1's binary_logloss: 0.117403\n",
      "[328]\ttraining's binary_logloss: 0.0691913\tvalid_1's binary_logloss: 0.117444\n",
      "[329]\ttraining's binary_logloss: 0.069102\tvalid_1's binary_logloss: 0.117455\n",
      "[330]\ttraining's binary_logloss: 0.0690081\tvalid_1's binary_logloss: 0.117456\n",
      "[331]\ttraining's binary_logloss: 0.0688896\tvalid_1's binary_logloss: 0.117463\n",
      "[332]\ttraining's binary_logloss: 0.0687975\tvalid_1's binary_logloss: 0.117501\n",
      "[333]\ttraining's binary_logloss: 0.0687215\tvalid_1's binary_logloss: 0.117495\n",
      "[334]\ttraining's binary_logloss: 0.0686292\tvalid_1's binary_logloss: 0.117503\n",
      "[335]\ttraining's binary_logloss: 0.068537\tvalid_1's binary_logloss: 0.117554\n",
      "[336]\ttraining's binary_logloss: 0.0684276\tvalid_1's binary_logloss: 0.117503\n",
      "[337]\ttraining's binary_logloss: 0.0683216\tvalid_1's binary_logloss: 0.117492\n",
      "[338]\ttraining's binary_logloss: 0.0682161\tvalid_1's binary_logloss: 0.117486\n",
      "[339]\ttraining's binary_logloss: 0.0681201\tvalid_1's binary_logloss: 0.117473\n",
      "[340]\ttraining's binary_logloss: 0.0680243\tvalid_1's binary_logloss: 0.117471\n",
      "[341]\ttraining's binary_logloss: 0.0679404\tvalid_1's binary_logloss: 0.117445\n",
      "[342]\ttraining's binary_logloss: 0.0678452\tvalid_1's binary_logloss: 0.117432\n",
      "[343]\ttraining's binary_logloss: 0.0677506\tvalid_1's binary_logloss: 0.117429\n",
      "[344]\ttraining's binary_logloss: 0.0676607\tvalid_1's binary_logloss: 0.11741\n",
      "[345]\ttraining's binary_logloss: 0.0675787\tvalid_1's binary_logloss: 0.117403\n",
      "[346]\ttraining's binary_logloss: 0.0674814\tvalid_1's binary_logloss: 0.11738\n",
      "[347]\ttraining's binary_logloss: 0.067395\tvalid_1's binary_logloss: 0.117417\n",
      "[348]\ttraining's binary_logloss: 0.067322\tvalid_1's binary_logloss: 0.117423\n",
      "[349]\ttraining's binary_logloss: 0.0672201\tvalid_1's binary_logloss: 0.117436\n",
      "[350]\ttraining's binary_logloss: 0.0671358\tvalid_1's binary_logloss: 0.117457\n",
      "[351]\ttraining's binary_logloss: 0.0670309\tvalid_1's binary_logloss: 0.117501\n",
      "[352]\ttraining's binary_logloss: 0.0669391\tvalid_1's binary_logloss: 0.117493\n",
      "[353]\ttraining's binary_logloss: 0.0668373\tvalid_1's binary_logloss: 0.117505\n",
      "[354]\ttraining's binary_logloss: 0.0667535\tvalid_1's binary_logloss: 0.117487\n",
      "[355]\ttraining's binary_logloss: 0.0666658\tvalid_1's binary_logloss: 0.117462\n",
      "[356]\ttraining's binary_logloss: 0.0665786\tvalid_1's binary_logloss: 0.117457\n",
      "[357]\ttraining's binary_logloss: 0.0664943\tvalid_1's binary_logloss: 0.117442\n",
      "[358]\ttraining's binary_logloss: 0.0663911\tvalid_1's binary_logloss: 0.117447\n",
      "[359]\ttraining's binary_logloss: 0.0662964\tvalid_1's binary_logloss: 0.117475\n",
      "[360]\ttraining's binary_logloss: 0.0661985\tvalid_1's binary_logloss: 0.11745\n",
      "[361]\ttraining's binary_logloss: 0.0660942\tvalid_1's binary_logloss: 0.117462\n",
      "[362]\ttraining's binary_logloss: 0.0660186\tvalid_1's binary_logloss: 0.117392\n",
      "[363]\ttraining's binary_logloss: 0.0659386\tvalid_1's binary_logloss: 0.11736\n",
      "[364]\ttraining's binary_logloss: 0.0658581\tvalid_1's binary_logloss: 0.117349\n",
      "[365]\ttraining's binary_logloss: 0.0657798\tvalid_1's binary_logloss: 0.117333\n",
      "[366]\ttraining's binary_logloss: 0.0656638\tvalid_1's binary_logloss: 0.11732\n",
      "[367]\ttraining's binary_logloss: 0.0655818\tvalid_1's binary_logloss: 0.117307\n",
      "[368]\ttraining's binary_logloss: 0.0655044\tvalid_1's binary_logloss: 0.117297\n",
      "[369]\ttraining's binary_logloss: 0.0654167\tvalid_1's binary_logloss: 0.11731\n",
      "[370]\ttraining's binary_logloss: 0.0653332\tvalid_1's binary_logloss: 0.117324\n",
      "[371]\ttraining's binary_logloss: 0.0652452\tvalid_1's binary_logloss: 0.117333\n",
      "[372]\ttraining's binary_logloss: 0.0651574\tvalid_1's binary_logloss: 0.117387\n",
      "[373]\ttraining's binary_logloss: 0.065049\tvalid_1's binary_logloss: 0.117402\n",
      "[374]\ttraining's binary_logloss: 0.0649628\tvalid_1's binary_logloss: 0.11746\n",
      "[375]\ttraining's binary_logloss: 0.0648748\tvalid_1's binary_logloss: 0.117494\n",
      "[376]\ttraining's binary_logloss: 0.0647899\tvalid_1's binary_logloss: 0.117453\n",
      "[377]\ttraining's binary_logloss: 0.0647116\tvalid_1's binary_logloss: 0.117465\n",
      "[378]\ttraining's binary_logloss: 0.0646279\tvalid_1's binary_logloss: 0.117446\n",
      "[379]\ttraining's binary_logloss: 0.0645355\tvalid_1's binary_logloss: 0.117445\n",
      "[380]\ttraining's binary_logloss: 0.0644572\tvalid_1's binary_logloss: 0.117443\n",
      "[381]\ttraining's binary_logloss: 0.0643625\tvalid_1's binary_logloss: 0.117456\n",
      "[382]\ttraining's binary_logloss: 0.0642892\tvalid_1's binary_logloss: 0.117461\n",
      "[383]\ttraining's binary_logloss: 0.0642045\tvalid_1's binary_logloss: 0.117455\n",
      "[384]\ttraining's binary_logloss: 0.0641388\tvalid_1's binary_logloss: 0.117471\n",
      "[385]\ttraining's binary_logloss: 0.0640567\tvalid_1's binary_logloss: 0.117495\n",
      "[386]\ttraining's binary_logloss: 0.0639645\tvalid_1's binary_logloss: 0.117461\n",
      "[387]\ttraining's binary_logloss: 0.063878\tvalid_1's binary_logloss: 0.117516\n",
      "[388]\ttraining's binary_logloss: 0.0638019\tvalid_1's binary_logloss: 0.117522\n",
      "[389]\ttraining's binary_logloss: 0.0637345\tvalid_1's binary_logloss: 0.117496\n",
      "[390]\ttraining's binary_logloss: 0.0636631\tvalid_1's binary_logloss: 0.11749\n",
      "[391]\ttraining's binary_logloss: 0.0635596\tvalid_1's binary_logloss: 0.117463\n",
      "[392]\ttraining's binary_logloss: 0.0634681\tvalid_1's binary_logloss: 0.117487\n",
      "[393]\ttraining's binary_logloss: 0.0634011\tvalid_1's binary_logloss: 0.11749\n",
      "[394]\ttraining's binary_logloss: 0.0633212\tvalid_1's binary_logloss: 0.117461\n",
      "[395]\ttraining's binary_logloss: 0.0632393\tvalid_1's binary_logloss: 0.117506\n",
      "[396]\ttraining's binary_logloss: 0.063135\tvalid_1's binary_logloss: 0.117517\n",
      "[397]\ttraining's binary_logloss: 0.0630611\tvalid_1's binary_logloss: 0.117461\n",
      "[398]\ttraining's binary_logloss: 0.0629868\tvalid_1's binary_logloss: 0.117468\n",
      "[399]\ttraining's binary_logloss: 0.0629131\tvalid_1's binary_logloss: 0.117476\n",
      "[400]\ttraining's binary_logloss: 0.0628443\tvalid_1's binary_logloss: 0.117501\n",
      "[401]\ttraining's binary_logloss: 0.0627428\tvalid_1's binary_logloss: 0.117557\n",
      "[402]\ttraining's binary_logloss: 0.0626696\tvalid_1's binary_logloss: 0.117561\n",
      "[403]\ttraining's binary_logloss: 0.0625916\tvalid_1's binary_logloss: 0.117529\n",
      "[404]\ttraining's binary_logloss: 0.0625136\tvalid_1's binary_logloss: 0.117532\n",
      "[405]\ttraining's binary_logloss: 0.0624359\tvalid_1's binary_logloss: 0.11754\n",
      "[406]\ttraining's binary_logloss: 0.0623582\tvalid_1's binary_logloss: 0.117559\n",
      "[407]\ttraining's binary_logloss: 0.0622439\tvalid_1's binary_logloss: 0.117505\n",
      "[408]\ttraining's binary_logloss: 0.0621695\tvalid_1's binary_logloss: 0.117566\n",
      "[409]\ttraining's binary_logloss: 0.0621007\tvalid_1's binary_logloss: 0.117564\n",
      "[410]\ttraining's binary_logloss: 0.0620074\tvalid_1's binary_logloss: 0.117605\n",
      "[411]\ttraining's binary_logloss: 0.0619245\tvalid_1's binary_logloss: 0.117656\n",
      "[412]\ttraining's binary_logloss: 0.0618265\tvalid_1's binary_logloss: 0.117699\n",
      "[413]\ttraining's binary_logloss: 0.0617548\tvalid_1's binary_logloss: 0.117752\n",
      "[414]\ttraining's binary_logloss: 0.0616796\tvalid_1's binary_logloss: 0.117779\n",
      "[415]\ttraining's binary_logloss: 0.0616071\tvalid_1's binary_logloss: 0.117788\n",
      "Early stopping, best iteration is:\n",
      "[315]\ttraining's binary_logloss: 0.0705446\tvalid_1's binary_logloss: 0.117136\n",
      "CPU times: user 41min, sys: 5.92 s, total: 41min 6s\n",
      "Wall time: 41min 13s\n"
     ]
    }
   ],
   "source": [
    "%%time\n",
    "params = {\n",
    "    'boosting_type': 'gbdt',\n",
    "    'objective': 'binary',\n",
    "    'metric': 'binary_logloss',\n",
    "    'num_leaves': 31,\n",
    "    'learning_rate': 0.1,\n",
    "    'feature_fraction': 0.9,\n",
    "    'bagging_fraction': 0.8,    \n",
    "    'bagging_freq': 5,          \n",
    "    'verbose': -1,              \n",
    "    'n_jobs': -1               \n",
    "}\n",
    "\n",
    "lgbm_model1 = lgb.train(\n",
    "    params, train_data, num_boost_round=1000, valid_sets=[train_data, valid_data], early_stopping_rounds=100)"
   ]
  },
  {
   "cell_type": "code",
   "execution_count": 76,
   "metadata": {},
   "outputs": [
    {
     "name": "stdout",
     "output_type": "stream",
     "text": [
      "[0.04418984 0.04567854 0.00110065 ... 0.006036   0.00363593 0.0131143 ]\n"
     ]
    }
   ],
   "source": [
    "print(lgbm_model1.predict(x_valid_tfidf))"
   ]
  },
  {
   "cell_type": "code",
   "execution_count": 77,
   "metadata": {},
   "outputs": [],
   "source": [
    "y_pred = (lgbm_model1.predict(x_valid_tfidf) >= 0.5).astype(int)"
   ]
  },
  {
   "cell_type": "code",
   "execution_count": 78,
   "metadata": {
    "scrolled": true
   },
   "outputs": [
    {
     "name": "stdout",
     "output_type": "stream",
     "text": [
      "              precision    recall  f1-score   support\n",
      "\n",
      "           0       0.97      0.99      0.98     28622\n",
      "           1       0.89      0.69      0.78      3237\n",
      "\n",
      "    accuracy                           0.96     31859\n",
      "   macro avg       0.93      0.84      0.88     31859\n",
      "weighted avg       0.96      0.96      0.96     31859\n",
      "\n"
     ]
    }
   ],
   "source": [
    "print(classification_report(\n",
    "    y_valid, y_pred, target_names=['0', '1']))"
   ]
  },
  {
   "cell_type": "markdown",
   "metadata": {},
   "source": [
    "Очень любопытно! Отстающая по всем моделям векторизация tfidf дала наилучший из всех моделей результат в сочетании с бустингом lightgb и отправляется на тестирование! "
   ]
  },
  {
   "cell_type": "markdown",
   "metadata": {},
   "source": [
    "Исходя из полученных результатов можно сделать вывод, что с помощью векторизации tfidf можно найти больше взаимосвязей в текстах, но для этого придется осуществить больше высилений. "
   ]
  },
  {
   "cell_type": "markdown",
   "metadata": {},
   "source": [
    "## Тестирование"
   ]
  },
  {
   "cell_type": "markdown",
   "metadata": {},
   "source": [
    "На данном этапе мы берем нашу лучшую модель (lightgbm на tfidf), дообучаем ее на валидационной выборке и тестируем. Если f1 на тестовой выборке больше 0.75, то задача выполнена, можно делать выводы. Иначе придется возвращаться назад и дополнительно опробатывать данные/ тюнить модели."
   ]
  },
  {
   "cell_type": "code",
   "execution_count": 79,
   "metadata": {},
   "outputs": [],
   "source": [
    "x_train = pd.concat([x_train, x_valid], axis=0)"
   ]
  },
  {
   "cell_type": "code",
   "execution_count": 80,
   "metadata": {},
   "outputs": [],
   "source": [
    "y_train = pd.concat([y_train, y_valid], axis=0)"
   ]
  },
  {
   "cell_type": "code",
   "execution_count": 81,
   "metadata": {
    "scrolled": true
   },
   "outputs": [
    {
     "name": "stdout",
     "output_type": "stream",
     "text": [
      "(127433,) (127433,)\n"
     ]
    }
   ],
   "source": [
    "print(x_train.shape, y_train.shape)"
   ]
  },
  {
   "cell_type": "code",
   "execution_count": 82,
   "metadata": {},
   "outputs": [],
   "source": [
    "x_train_tfidf2 = tfidf_vect.fit_transform(x_train)"
   ]
  },
  {
   "cell_type": "code",
   "execution_count": 83,
   "metadata": {},
   "outputs": [],
   "source": [
    "x_test_tfidf2 = tfidf_vect.transform(x_test)"
   ]
  },
  {
   "cell_type": "code",
   "execution_count": 84,
   "metadata": {},
   "outputs": [],
   "source": [
    "train_data2 = lgb.Dataset(x_train_tfidf2, label=y_train)\n",
    "test_data2 = lgb.Dataset(x_test_tfidf2, label=y_test)"
   ]
  },
  {
   "cell_type": "code",
   "execution_count": 85,
   "metadata": {
    "scrolled": true
   },
   "outputs": [
    {
     "name": "stderr",
     "output_type": "stream",
     "text": [
      "/opt/conda/lib/python3.9/site-packages/lightgbm/engine.py:181: UserWarning: 'early_stopping_rounds' argument is deprecated and will be removed in a future release of LightGBM. Pass 'early_stopping()' callback via 'callbacks' argument instead.\n",
      "  _log_warning(\"'early_stopping_rounds' argument is deprecated and will be removed in a future release of LightGBM. \"\n"
     ]
    },
    {
     "name": "stdout",
     "output_type": "stream",
     "text": [
      "[1]\ttraining's binary_logloss: 0.282895\tvalid_1's binary_logloss: 0.283447\n",
      "Training until validation scores don't improve for 100 rounds\n",
      "[2]\ttraining's binary_logloss: 0.262216\tvalid_1's binary_logloss: 0.263151\n",
      "[3]\ttraining's binary_logloss: 0.249175\tvalid_1's binary_logloss: 0.250073\n",
      "[4]\ttraining's binary_logloss: 0.236421\tvalid_1's binary_logloss: 0.23744\n",
      "[5]\ttraining's binary_logloss: 0.226764\tvalid_1's binary_logloss: 0.228168\n",
      "[6]\ttraining's binary_logloss: 0.2183\tvalid_1's binary_logloss: 0.219811\n",
      "[7]\ttraining's binary_logloss: 0.211705\tvalid_1's binary_logloss: 0.213426\n",
      "[8]\ttraining's binary_logloss: 0.20704\tvalid_1's binary_logloss: 0.208719\n",
      "[9]\ttraining's binary_logloss: 0.201612\tvalid_1's binary_logloss: 0.20363\n",
      "[10]\ttraining's binary_logloss: 0.197207\tvalid_1's binary_logloss: 0.199458\n",
      "[11]\ttraining's binary_logloss: 0.192855\tvalid_1's binary_logloss: 0.195305\n",
      "[12]\ttraining's binary_logloss: 0.189121\tvalid_1's binary_logloss: 0.191649\n",
      "[13]\ttraining's binary_logloss: 0.185907\tvalid_1's binary_logloss: 0.188691\n",
      "[14]\ttraining's binary_logloss: 0.182993\tvalid_1's binary_logloss: 0.186112\n",
      "[15]\ttraining's binary_logloss: 0.180266\tvalid_1's binary_logloss: 0.183524\n",
      "[16]\ttraining's binary_logloss: 0.1776\tvalid_1's binary_logloss: 0.181083\n",
      "[17]\ttraining's binary_logloss: 0.174918\tvalid_1's binary_logloss: 0.178657\n",
      "[18]\ttraining's binary_logloss: 0.172372\tvalid_1's binary_logloss: 0.176239\n",
      "[19]\ttraining's binary_logloss: 0.170083\tvalid_1's binary_logloss: 0.174045\n",
      "[20]\ttraining's binary_logloss: 0.168057\tvalid_1's binary_logloss: 0.172227\n",
      "[21]\ttraining's binary_logloss: 0.165817\tvalid_1's binary_logloss: 0.17028\n",
      "[22]\ttraining's binary_logloss: 0.163862\tvalid_1's binary_logloss: 0.168434\n",
      "[23]\ttraining's binary_logloss: 0.161976\tvalid_1's binary_logloss: 0.16686\n",
      "[24]\ttraining's binary_logloss: 0.160343\tvalid_1's binary_logloss: 0.165266\n",
      "[25]\ttraining's binary_logloss: 0.158603\tvalid_1's binary_logloss: 0.163836\n",
      "[26]\ttraining's binary_logloss: 0.157026\tvalid_1's binary_logloss: 0.16228\n",
      "[27]\ttraining's binary_logloss: 0.155525\tvalid_1's binary_logloss: 0.161076\n",
      "[28]\ttraining's binary_logloss: 0.154108\tvalid_1's binary_logloss: 0.159812\n",
      "[29]\ttraining's binary_logloss: 0.152683\tvalid_1's binary_logloss: 0.158575\n",
      "[30]\ttraining's binary_logloss: 0.151325\tvalid_1's binary_logloss: 0.157424\n",
      "[31]\ttraining's binary_logloss: 0.149969\tvalid_1's binary_logloss: 0.156325\n",
      "[32]\ttraining's binary_logloss: 0.148701\tvalid_1's binary_logloss: 0.155213\n",
      "[33]\ttraining's binary_logloss: 0.14747\tvalid_1's binary_logloss: 0.154175\n",
      "[34]\ttraining's binary_logloss: 0.146355\tvalid_1's binary_logloss: 0.153234\n",
      "[35]\ttraining's binary_logloss: 0.145257\tvalid_1's binary_logloss: 0.152241\n",
      "[36]\ttraining's binary_logloss: 0.144124\tvalid_1's binary_logloss: 0.151329\n",
      "[37]\ttraining's binary_logloss: 0.143145\tvalid_1's binary_logloss: 0.150564\n",
      "[38]\ttraining's binary_logloss: 0.142149\tvalid_1's binary_logloss: 0.149694\n",
      "[39]\ttraining's binary_logloss: 0.141203\tvalid_1's binary_logloss: 0.149017\n",
      "[40]\ttraining's binary_logloss: 0.140291\tvalid_1's binary_logloss: 0.148365\n",
      "[41]\ttraining's binary_logloss: 0.139294\tvalid_1's binary_logloss: 0.14737\n",
      "[42]\ttraining's binary_logloss: 0.138408\tvalid_1's binary_logloss: 0.146677\n",
      "[43]\ttraining's binary_logloss: 0.137571\tvalid_1's binary_logloss: 0.145899\n",
      "[44]\ttraining's binary_logloss: 0.136687\tvalid_1's binary_logloss: 0.145168\n",
      "[45]\ttraining's binary_logloss: 0.135907\tvalid_1's binary_logloss: 0.144454\n",
      "[46]\ttraining's binary_logloss: 0.13514\tvalid_1's binary_logloss: 0.144029\n",
      "[47]\ttraining's binary_logloss: 0.134375\tvalid_1's binary_logloss: 0.143458\n",
      "[48]\ttraining's binary_logloss: 0.133645\tvalid_1's binary_logloss: 0.142862\n",
      "[49]\ttraining's binary_logloss: 0.132939\tvalid_1's binary_logloss: 0.142319\n",
      "[50]\ttraining's binary_logloss: 0.132222\tvalid_1's binary_logloss: 0.14176\n",
      "[51]\ttraining's binary_logloss: 0.131467\tvalid_1's binary_logloss: 0.141098\n",
      "[52]\ttraining's binary_logloss: 0.130786\tvalid_1's binary_logloss: 0.140563\n",
      "[53]\ttraining's binary_logloss: 0.130138\tvalid_1's binary_logloss: 0.140114\n",
      "[54]\ttraining's binary_logloss: 0.129515\tvalid_1's binary_logloss: 0.139596\n",
      "[55]\ttraining's binary_logloss: 0.128895\tvalid_1's binary_logloss: 0.139113\n",
      "[56]\ttraining's binary_logloss: 0.128251\tvalid_1's binary_logloss: 0.138543\n",
      "[57]\ttraining's binary_logloss: 0.127665\tvalid_1's binary_logloss: 0.138039\n",
      "[58]\ttraining's binary_logloss: 0.127094\tvalid_1's binary_logloss: 0.137559\n",
      "[59]\ttraining's binary_logloss: 0.12652\tvalid_1's binary_logloss: 0.137114\n",
      "[60]\ttraining's binary_logloss: 0.125945\tvalid_1's binary_logloss: 0.136588\n",
      "[61]\ttraining's binary_logloss: 0.125379\tvalid_1's binary_logloss: 0.136232\n",
      "[62]\ttraining's binary_logloss: 0.124854\tvalid_1's binary_logloss: 0.13577\n",
      "[63]\ttraining's binary_logloss: 0.124345\tvalid_1's binary_logloss: 0.135398\n",
      "[64]\ttraining's binary_logloss: 0.123833\tvalid_1's binary_logloss: 0.135025\n",
      "[65]\ttraining's binary_logloss: 0.123362\tvalid_1's binary_logloss: 0.134753\n",
      "[66]\ttraining's binary_logloss: 0.122855\tvalid_1's binary_logloss: 0.134329\n",
      "[67]\ttraining's binary_logloss: 0.122365\tvalid_1's binary_logloss: 0.134047\n",
      "[68]\ttraining's binary_logloss: 0.121892\tvalid_1's binary_logloss: 0.133719\n",
      "[69]\ttraining's binary_logloss: 0.121439\tvalid_1's binary_logloss: 0.133426\n",
      "[70]\ttraining's binary_logloss: 0.121007\tvalid_1's binary_logloss: 0.133139\n",
      "[71]\ttraining's binary_logloss: 0.120523\tvalid_1's binary_logloss: 0.132726\n",
      "[72]\ttraining's binary_logloss: 0.120062\tvalid_1's binary_logloss: 0.132327\n",
      "[73]\ttraining's binary_logloss: 0.11962\tvalid_1's binary_logloss: 0.13203\n",
      "[74]\ttraining's binary_logloss: 0.119205\tvalid_1's binary_logloss: 0.131674\n",
      "[75]\ttraining's binary_logloss: 0.118758\tvalid_1's binary_logloss: 0.131293\n",
      "[76]\ttraining's binary_logloss: 0.118316\tvalid_1's binary_logloss: 0.130973\n",
      "[77]\ttraining's binary_logloss: 0.11789\tvalid_1's binary_logloss: 0.130604\n",
      "[78]\ttraining's binary_logloss: 0.117497\tvalid_1's binary_logloss: 0.130335\n",
      "[79]\ttraining's binary_logloss: 0.117089\tvalid_1's binary_logloss: 0.130107\n",
      "[80]\ttraining's binary_logloss: 0.116704\tvalid_1's binary_logloss: 0.129835\n",
      "[81]\ttraining's binary_logloss: 0.116299\tvalid_1's binary_logloss: 0.129571\n",
      "[82]\ttraining's binary_logloss: 0.115902\tvalid_1's binary_logloss: 0.129328\n",
      "[83]\ttraining's binary_logloss: 0.115501\tvalid_1's binary_logloss: 0.129072\n",
      "[84]\ttraining's binary_logloss: 0.115132\tvalid_1's binary_logloss: 0.128864\n",
      "[85]\ttraining's binary_logloss: 0.114776\tvalid_1's binary_logloss: 0.128553\n",
      "[86]\ttraining's binary_logloss: 0.114399\tvalid_1's binary_logloss: 0.128207\n",
      "[87]\ttraining's binary_logloss: 0.114033\tvalid_1's binary_logloss: 0.128015\n",
      "[88]\ttraining's binary_logloss: 0.113694\tvalid_1's binary_logloss: 0.127791\n",
      "[89]\ttraining's binary_logloss: 0.113361\tvalid_1's binary_logloss: 0.127553\n",
      "[90]\ttraining's binary_logloss: 0.113003\tvalid_1's binary_logloss: 0.12733\n",
      "[91]\ttraining's binary_logloss: 0.112659\tvalid_1's binary_logloss: 0.127089\n",
      "[92]\ttraining's binary_logloss: 0.112327\tvalid_1's binary_logloss: 0.126933\n",
      "[93]\ttraining's binary_logloss: 0.112023\tvalid_1's binary_logloss: 0.126828\n",
      "[94]\ttraining's binary_logloss: 0.111703\tvalid_1's binary_logloss: 0.126644\n",
      "[95]\ttraining's binary_logloss: 0.111381\tvalid_1's binary_logloss: 0.126481\n",
      "[96]\ttraining's binary_logloss: 0.111044\tvalid_1's binary_logloss: 0.126216\n",
      "[97]\ttraining's binary_logloss: 0.110692\tvalid_1's binary_logloss: 0.126017\n",
      "[98]\ttraining's binary_logloss: 0.11037\tvalid_1's binary_logloss: 0.125803\n",
      "[99]\ttraining's binary_logloss: 0.110073\tvalid_1's binary_logloss: 0.125608\n",
      "[100]\ttraining's binary_logloss: 0.109761\tvalid_1's binary_logloss: 0.125433\n",
      "[101]\ttraining's binary_logloss: 0.10945\tvalid_1's binary_logloss: 0.125289\n",
      "[102]\ttraining's binary_logloss: 0.109153\tvalid_1's binary_logloss: 0.125114\n",
      "[103]\ttraining's binary_logloss: 0.108864\tvalid_1's binary_logloss: 0.124932\n",
      "[104]\ttraining's binary_logloss: 0.108577\tvalid_1's binary_logloss: 0.124716\n",
      "[105]\ttraining's binary_logloss: 0.108287\tvalid_1's binary_logloss: 0.124624\n",
      "[106]\ttraining's binary_logloss: 0.107982\tvalid_1's binary_logloss: 0.124414\n",
      "[107]\ttraining's binary_logloss: 0.10767\tvalid_1's binary_logloss: 0.12422\n",
      "[108]\ttraining's binary_logloss: 0.107388\tvalid_1's binary_logloss: 0.124045\n",
      "[109]\ttraining's binary_logloss: 0.107121\tvalid_1's binary_logloss: 0.123914\n",
      "[110]\ttraining's binary_logloss: 0.106853\tvalid_1's binary_logloss: 0.123788\n",
      "[111]\ttraining's binary_logloss: 0.106562\tvalid_1's binary_logloss: 0.123643\n",
      "[112]\ttraining's binary_logloss: 0.106264\tvalid_1's binary_logloss: 0.123465\n",
      "[113]\ttraining's binary_logloss: 0.105974\tvalid_1's binary_logloss: 0.123342\n",
      "[114]\ttraining's binary_logloss: 0.105714\tvalid_1's binary_logloss: 0.123202\n",
      "[115]\ttraining's binary_logloss: 0.105431\tvalid_1's binary_logloss: 0.123059\n",
      "[116]\ttraining's binary_logloss: 0.105157\tvalid_1's binary_logloss: 0.122937\n",
      "[117]\ttraining's binary_logloss: 0.104882\tvalid_1's binary_logloss: 0.122769\n",
      "[118]\ttraining's binary_logloss: 0.10463\tvalid_1's binary_logloss: 0.122683\n",
      "[119]\ttraining's binary_logloss: 0.10437\tvalid_1's binary_logloss: 0.122533\n",
      "[120]\ttraining's binary_logloss: 0.104147\tvalid_1's binary_logloss: 0.122416\n",
      "[121]\ttraining's binary_logloss: 0.103887\tvalid_1's binary_logloss: 0.122375\n",
      "[122]\ttraining's binary_logloss: 0.103636\tvalid_1's binary_logloss: 0.122326\n",
      "[123]\ttraining's binary_logloss: 0.103402\tvalid_1's binary_logloss: 0.12221\n",
      "[124]\ttraining's binary_logloss: 0.103171\tvalid_1's binary_logloss: 0.122052\n",
      "[125]\ttraining's binary_logloss: 0.102913\tvalid_1's binary_logloss: 0.121932\n",
      "[126]\ttraining's binary_logloss: 0.102671\tvalid_1's binary_logloss: 0.121762\n",
      "[127]\ttraining's binary_logloss: 0.102424\tvalid_1's binary_logloss: 0.121605\n",
      "[128]\ttraining's binary_logloss: 0.102179\tvalid_1's binary_logloss: 0.121531\n",
      "[129]\ttraining's binary_logloss: 0.101922\tvalid_1's binary_logloss: 0.121381\n",
      "[130]\ttraining's binary_logloss: 0.101702\tvalid_1's binary_logloss: 0.12123\n",
      "[131]\ttraining's binary_logloss: 0.101473\tvalid_1's binary_logloss: 0.121186\n",
      "[132]\ttraining's binary_logloss: 0.10125\tvalid_1's binary_logloss: 0.121115\n",
      "[133]\ttraining's binary_logloss: 0.101036\tvalid_1's binary_logloss: 0.12104\n",
      "[134]\ttraining's binary_logloss: 0.100821\tvalid_1's binary_logloss: 0.120981\n",
      "[135]\ttraining's binary_logloss: 0.100541\tvalid_1's binary_logloss: 0.120947\n",
      "[136]\ttraining's binary_logloss: 0.100272\tvalid_1's binary_logloss: 0.120803\n",
      "[137]\ttraining's binary_logloss: 0.100026\tvalid_1's binary_logloss: 0.120684\n",
      "[138]\ttraining's binary_logloss: 0.0997484\tvalid_1's binary_logloss: 0.120629\n",
      "[139]\ttraining's binary_logloss: 0.0995293\tvalid_1's binary_logloss: 0.120498\n",
      "[140]\ttraining's binary_logloss: 0.0993186\tvalid_1's binary_logloss: 0.120408\n",
      "[141]\ttraining's binary_logloss: 0.099109\tvalid_1's binary_logloss: 0.12029\n",
      "[142]\ttraining's binary_logloss: 0.0988833\tvalid_1's binary_logloss: 0.120217\n",
      "[143]\ttraining's binary_logloss: 0.0986934\tvalid_1's binary_logloss: 0.120155\n",
      "[144]\ttraining's binary_logloss: 0.0984954\tvalid_1's binary_logloss: 0.120044\n",
      "[145]\ttraining's binary_logloss: 0.0982795\tvalid_1's binary_logloss: 0.119963\n",
      "[146]\ttraining's binary_logloss: 0.0980544\tvalid_1's binary_logloss: 0.119846\n",
      "[147]\ttraining's binary_logloss: 0.0978422\tvalid_1's binary_logloss: 0.119735\n",
      "[148]\ttraining's binary_logloss: 0.0976325\tvalid_1's binary_logloss: 0.119571\n",
      "[149]\ttraining's binary_logloss: 0.0974424\tvalid_1's binary_logloss: 0.11946\n",
      "[150]\ttraining's binary_logloss: 0.0972395\tvalid_1's binary_logloss: 0.119361\n",
      "[151]\ttraining's binary_logloss: 0.0970376\tvalid_1's binary_logloss: 0.119223\n",
      "[152]\ttraining's binary_logloss: 0.0968354\tvalid_1's binary_logloss: 0.119135\n",
      "[153]\ttraining's binary_logloss: 0.0966537\tvalid_1's binary_logloss: 0.119056\n",
      "[154]\ttraining's binary_logloss: 0.0964658\tvalid_1's binary_logloss: 0.118989\n",
      "[155]\ttraining's binary_logloss: 0.0962916\tvalid_1's binary_logloss: 0.118857\n",
      "[156]\ttraining's binary_logloss: 0.0960933\tvalid_1's binary_logloss: 0.118769\n",
      "[157]\ttraining's binary_logloss: 0.0958956\tvalid_1's binary_logloss: 0.118679\n",
      "[158]\ttraining's binary_logloss: 0.0957192\tvalid_1's binary_logloss: 0.118582\n",
      "[159]\ttraining's binary_logloss: 0.0955324\tvalid_1's binary_logloss: 0.118466\n",
      "[160]\ttraining's binary_logloss: 0.0953384\tvalid_1's binary_logloss: 0.118383\n",
      "[161]\ttraining's binary_logloss: 0.095151\tvalid_1's binary_logloss: 0.118264\n",
      "[162]\ttraining's binary_logloss: 0.0949178\tvalid_1's binary_logloss: 0.118189\n",
      "[163]\ttraining's binary_logloss: 0.0947341\tvalid_1's binary_logloss: 0.118154\n",
      "[164]\ttraining's binary_logloss: 0.094539\tvalid_1's binary_logloss: 0.118088\n",
      "[165]\ttraining's binary_logloss: 0.0943701\tvalid_1's binary_logloss: 0.118028\n",
      "[166]\ttraining's binary_logloss: 0.0941905\tvalid_1's binary_logloss: 0.117951\n",
      "[167]\ttraining's binary_logloss: 0.0939993\tvalid_1's binary_logloss: 0.117854\n",
      "[168]\ttraining's binary_logloss: 0.0938241\tvalid_1's binary_logloss: 0.117783\n",
      "[169]\ttraining's binary_logloss: 0.0936594\tvalid_1's binary_logloss: 0.117753\n",
      "[170]\ttraining's binary_logloss: 0.0934823\tvalid_1's binary_logloss: 0.117663\n",
      "[171]\ttraining's binary_logloss: 0.0932938\tvalid_1's binary_logloss: 0.117579\n",
      "[172]\ttraining's binary_logloss: 0.0931236\tvalid_1's binary_logloss: 0.117566\n",
      "[173]\ttraining's binary_logloss: 0.0929493\tvalid_1's binary_logloss: 0.117462\n",
      "[174]\ttraining's binary_logloss: 0.092775\tvalid_1's binary_logloss: 0.11745\n",
      "[175]\ttraining's binary_logloss: 0.0926126\tvalid_1's binary_logloss: 0.117412\n",
      "[176]\ttraining's binary_logloss: 0.0924348\tvalid_1's binary_logloss: 0.117342\n",
      "[177]\ttraining's binary_logloss: 0.0922255\tvalid_1's binary_logloss: 0.117298\n",
      "[178]\ttraining's binary_logloss: 0.0920732\tvalid_1's binary_logloss: 0.11728\n",
      "[179]\ttraining's binary_logloss: 0.091915\tvalid_1's binary_logloss: 0.117238\n",
      "[180]\ttraining's binary_logloss: 0.0917481\tvalid_1's binary_logloss: 0.117171\n",
      "[181]\ttraining's binary_logloss: 0.0915677\tvalid_1's binary_logloss: 0.117143\n",
      "[182]\ttraining's binary_logloss: 0.0913998\tvalid_1's binary_logloss: 0.117138\n",
      "[183]\ttraining's binary_logloss: 0.0912264\tvalid_1's binary_logloss: 0.117116\n",
      "[184]\ttraining's binary_logloss: 0.0910603\tvalid_1's binary_logloss: 0.117092\n",
      "[185]\ttraining's binary_logloss: 0.0908897\tvalid_1's binary_logloss: 0.117077\n",
      "[186]\ttraining's binary_logloss: 0.0907187\tvalid_1's binary_logloss: 0.11703\n",
      "[187]\ttraining's binary_logloss: 0.0905557\tvalid_1's binary_logloss: 0.116991\n",
      "[188]\ttraining's binary_logloss: 0.0904067\tvalid_1's binary_logloss: 0.116973\n",
      "[189]\ttraining's binary_logloss: 0.0902537\tvalid_1's binary_logloss: 0.116916\n",
      "[190]\ttraining's binary_logloss: 0.0901041\tvalid_1's binary_logloss: 0.116836\n",
      "[191]\ttraining's binary_logloss: 0.0899453\tvalid_1's binary_logloss: 0.116761\n",
      "[192]\ttraining's binary_logloss: 0.0898069\tvalid_1's binary_logloss: 0.11663\n",
      "[193]\ttraining's binary_logloss: 0.0896547\tvalid_1's binary_logloss: 0.116588\n",
      "[194]\ttraining's binary_logloss: 0.0894864\tvalid_1's binary_logloss: 0.116554\n",
      "[195]\ttraining's binary_logloss: 0.089339\tvalid_1's binary_logloss: 0.116512\n",
      "[196]\ttraining's binary_logloss: 0.0891751\tvalid_1's binary_logloss: 0.116426\n",
      "[197]\ttraining's binary_logloss: 0.0890381\tvalid_1's binary_logloss: 0.116375\n",
      "[198]\ttraining's binary_logloss: 0.0888988\tvalid_1's binary_logloss: 0.116326\n",
      "[199]\ttraining's binary_logloss: 0.0887564\tvalid_1's binary_logloss: 0.11631\n",
      "[200]\ttraining's binary_logloss: 0.0886088\tvalid_1's binary_logloss: 0.1163\n",
      "[201]\ttraining's binary_logloss: 0.0884186\tvalid_1's binary_logloss: 0.116264\n",
      "[202]\ttraining's binary_logloss: 0.0882672\tvalid_1's binary_logloss: 0.116179\n",
      "[203]\ttraining's binary_logloss: 0.0881203\tvalid_1's binary_logloss: 0.11613\n",
      "[204]\ttraining's binary_logloss: 0.0879892\tvalid_1's binary_logloss: 0.116131\n",
      "[205]\ttraining's binary_logloss: 0.0878369\tvalid_1's binary_logloss: 0.116109\n",
      "[206]\ttraining's binary_logloss: 0.0876805\tvalid_1's binary_logloss: 0.116048\n",
      "[207]\ttraining's binary_logloss: 0.0875323\tvalid_1's binary_logloss: 0.116046\n",
      "[208]\ttraining's binary_logloss: 0.0873718\tvalid_1's binary_logloss: 0.116046\n",
      "[209]\ttraining's binary_logloss: 0.087216\tvalid_1's binary_logloss: 0.116019\n",
      "[210]\ttraining's binary_logloss: 0.0870878\tvalid_1's binary_logloss: 0.116029\n",
      "[211]\ttraining's binary_logloss: 0.0869504\tvalid_1's binary_logloss: 0.116008\n",
      "[212]\ttraining's binary_logloss: 0.0868126\tvalid_1's binary_logloss: 0.115971\n",
      "[213]\ttraining's binary_logloss: 0.086677\tvalid_1's binary_logloss: 0.115938\n",
      "[214]\ttraining's binary_logloss: 0.0865518\tvalid_1's binary_logloss: 0.115983\n",
      "[215]\ttraining's binary_logloss: 0.0864151\tvalid_1's binary_logloss: 0.115934\n",
      "[216]\ttraining's binary_logloss: 0.0862659\tvalid_1's binary_logloss: 0.115841\n",
      "[217]\ttraining's binary_logloss: 0.0861199\tvalid_1's binary_logloss: 0.115794\n",
      "[218]\ttraining's binary_logloss: 0.0859799\tvalid_1's binary_logloss: 0.115722\n",
      "[219]\ttraining's binary_logloss: 0.0858358\tvalid_1's binary_logloss: 0.11569\n",
      "[220]\ttraining's binary_logloss: 0.0857068\tvalid_1's binary_logloss: 0.115668\n",
      "[221]\ttraining's binary_logloss: 0.0855713\tvalid_1's binary_logloss: 0.115647\n",
      "[222]\ttraining's binary_logloss: 0.0854317\tvalid_1's binary_logloss: 0.11563\n",
      "[223]\ttraining's binary_logloss: 0.0853084\tvalid_1's binary_logloss: 0.115545\n",
      "[224]\ttraining's binary_logloss: 0.0851856\tvalid_1's binary_logloss: 0.115538\n",
      "[225]\ttraining's binary_logloss: 0.0850713\tvalid_1's binary_logloss: 0.115476\n",
      "[226]\ttraining's binary_logloss: 0.08492\tvalid_1's binary_logloss: 0.115388\n",
      "[227]\ttraining's binary_logloss: 0.0847648\tvalid_1's binary_logloss: 0.115342\n",
      "[228]\ttraining's binary_logloss: 0.0846272\tvalid_1's binary_logloss: 0.115319\n",
      "[229]\ttraining's binary_logloss: 0.0844963\tvalid_1's binary_logloss: 0.115301\n",
      "[230]\ttraining's binary_logloss: 0.0843652\tvalid_1's binary_logloss: 0.115291\n",
      "[231]\ttraining's binary_logloss: 0.0842104\tvalid_1's binary_logloss: 0.115291\n",
      "[232]\ttraining's binary_logloss: 0.084088\tvalid_1's binary_logloss: 0.115228\n",
      "[233]\ttraining's binary_logloss: 0.0839545\tvalid_1's binary_logloss: 0.115192\n",
      "[234]\ttraining's binary_logloss: 0.0838396\tvalid_1's binary_logloss: 0.115106\n",
      "[235]\ttraining's binary_logloss: 0.0837293\tvalid_1's binary_logloss: 0.115047\n",
      "[236]\ttraining's binary_logloss: 0.083583\tvalid_1's binary_logloss: 0.115033\n",
      "[237]\ttraining's binary_logloss: 0.0834636\tvalid_1's binary_logloss: 0.115002\n",
      "[238]\ttraining's binary_logloss: 0.0833377\tvalid_1's binary_logloss: 0.114982\n",
      "[239]\ttraining's binary_logloss: 0.0832137\tvalid_1's binary_logloss: 0.114993\n",
      "[240]\ttraining's binary_logloss: 0.0831067\tvalid_1's binary_logloss: 0.114963\n",
      "[241]\ttraining's binary_logloss: 0.0829777\tvalid_1's binary_logloss: 0.114877\n",
      "[242]\ttraining's binary_logloss: 0.0828477\tvalid_1's binary_logloss: 0.114859\n",
      "[243]\ttraining's binary_logloss: 0.0827309\tvalid_1's binary_logloss: 0.11481\n",
      "[244]\ttraining's binary_logloss: 0.0826084\tvalid_1's binary_logloss: 0.11478\n",
      "[245]\ttraining's binary_logloss: 0.0824885\tvalid_1's binary_logloss: 0.114694\n",
      "[246]\ttraining's binary_logloss: 0.0823715\tvalid_1's binary_logloss: 0.114626\n",
      "[247]\ttraining's binary_logloss: 0.0822415\tvalid_1's binary_logloss: 0.114588\n",
      "[248]\ttraining's binary_logloss: 0.0821231\tvalid_1's binary_logloss: 0.114557\n",
      "[249]\ttraining's binary_logloss: 0.0820131\tvalid_1's binary_logloss: 0.114545\n",
      "[250]\ttraining's binary_logloss: 0.0819011\tvalid_1's binary_logloss: 0.114545\n",
      "[251]\ttraining's binary_logloss: 0.0817614\tvalid_1's binary_logloss: 0.114543\n",
      "[252]\ttraining's binary_logloss: 0.0816225\tvalid_1's binary_logloss: 0.114483\n",
      "[253]\ttraining's binary_logloss: 0.0815095\tvalid_1's binary_logloss: 0.114442\n",
      "[254]\ttraining's binary_logloss: 0.0813997\tvalid_1's binary_logloss: 0.114456\n",
      "[255]\ttraining's binary_logloss: 0.0812851\tvalid_1's binary_logloss: 0.114405\n",
      "[256]\ttraining's binary_logloss: 0.0811602\tvalid_1's binary_logloss: 0.114396\n",
      "[257]\ttraining's binary_logloss: 0.0810386\tvalid_1's binary_logloss: 0.114357\n",
      "[258]\ttraining's binary_logloss: 0.0809266\tvalid_1's binary_logloss: 0.114353\n",
      "[259]\ttraining's binary_logloss: 0.0808088\tvalid_1's binary_logloss: 0.114336\n",
      "[260]\ttraining's binary_logloss: 0.080709\tvalid_1's binary_logloss: 0.114344\n",
      "[261]\ttraining's binary_logloss: 0.0805863\tvalid_1's binary_logloss: 0.11432\n",
      "[262]\ttraining's binary_logloss: 0.0804649\tvalid_1's binary_logloss: 0.114263\n",
      "[263]\ttraining's binary_logloss: 0.0803442\tvalid_1's binary_logloss: 0.114252\n",
      "[264]\ttraining's binary_logloss: 0.0802224\tvalid_1's binary_logloss: 0.114249\n",
      "[265]\ttraining's binary_logloss: 0.080107\tvalid_1's binary_logloss: 0.114212\n",
      "[266]\ttraining's binary_logloss: 0.0799983\tvalid_1's binary_logloss: 0.114159\n",
      "[267]\ttraining's binary_logloss: 0.0798721\tvalid_1's binary_logloss: 0.11411\n",
      "[268]\ttraining's binary_logloss: 0.0797683\tvalid_1's binary_logloss: 0.114102\n",
      "[269]\ttraining's binary_logloss: 0.0796593\tvalid_1's binary_logloss: 0.114086\n",
      "[270]\ttraining's binary_logloss: 0.0795623\tvalid_1's binary_logloss: 0.114013\n",
      "[271]\ttraining's binary_logloss: 0.0794556\tvalid_1's binary_logloss: 0.113939\n",
      "[272]\ttraining's binary_logloss: 0.0793542\tvalid_1's binary_logloss: 0.113932\n",
      "[273]\ttraining's binary_logloss: 0.0792511\tvalid_1's binary_logloss: 0.113919\n",
      "[274]\ttraining's binary_logloss: 0.0791522\tvalid_1's binary_logloss: 0.113888\n",
      "[275]\ttraining's binary_logloss: 0.0790526\tvalid_1's binary_logloss: 0.113893\n",
      "[276]\ttraining's binary_logloss: 0.0789452\tvalid_1's binary_logloss: 0.113895\n",
      "[277]\ttraining's binary_logloss: 0.0788352\tvalid_1's binary_logloss: 0.113875\n",
      "[278]\ttraining's binary_logloss: 0.0787196\tvalid_1's binary_logloss: 0.113873\n",
      "[279]\ttraining's binary_logloss: 0.0786218\tvalid_1's binary_logloss: 0.113845\n",
      "[280]\ttraining's binary_logloss: 0.078512\tvalid_1's binary_logloss: 0.113865\n",
      "[281]\ttraining's binary_logloss: 0.078402\tvalid_1's binary_logloss: 0.11389\n",
      "[282]\ttraining's binary_logloss: 0.0782987\tvalid_1's binary_logloss: 0.113897\n",
      "[283]\ttraining's binary_logloss: 0.078187\tvalid_1's binary_logloss: 0.113881\n",
      "[284]\ttraining's binary_logloss: 0.0780773\tvalid_1's binary_logloss: 0.113863\n",
      "[285]\ttraining's binary_logloss: 0.0779864\tvalid_1's binary_logloss: 0.113909\n",
      "[286]\ttraining's binary_logloss: 0.0778391\tvalid_1's binary_logloss: 0.113865\n",
      "[287]\ttraining's binary_logloss: 0.0777239\tvalid_1's binary_logloss: 0.113867\n",
      "[288]\ttraining's binary_logloss: 0.0776177\tvalid_1's binary_logloss: 0.113837\n",
      "[289]\ttraining's binary_logloss: 0.0775298\tvalid_1's binary_logloss: 0.113855\n",
      "[290]\ttraining's binary_logloss: 0.0774265\tvalid_1's binary_logloss: 0.113842\n",
      "[291]\ttraining's binary_logloss: 0.0773199\tvalid_1's binary_logloss: 0.113811\n",
      "[292]\ttraining's binary_logloss: 0.0772071\tvalid_1's binary_logloss: 0.113811\n",
      "[293]\ttraining's binary_logloss: 0.0771057\tvalid_1's binary_logloss: 0.113788\n",
      "[294]\ttraining's binary_logloss: 0.0770103\tvalid_1's binary_logloss: 0.113799\n",
      "[295]\ttraining's binary_logloss: 0.076914\tvalid_1's binary_logloss: 0.113816\n",
      "[296]\ttraining's binary_logloss: 0.0767922\tvalid_1's binary_logloss: 0.113868\n",
      "[297]\ttraining's binary_logloss: 0.0766679\tvalid_1's binary_logloss: 0.113851\n",
      "[298]\ttraining's binary_logloss: 0.0765351\tvalid_1's binary_logloss: 0.113834\n",
      "[299]\ttraining's binary_logloss: 0.0764373\tvalid_1's binary_logloss: 0.113845\n",
      "[300]\ttraining's binary_logloss: 0.0763495\tvalid_1's binary_logloss: 0.113815\n",
      "[301]\ttraining's binary_logloss: 0.0762333\tvalid_1's binary_logloss: 0.113818\n",
      "[302]\ttraining's binary_logloss: 0.076128\tvalid_1's binary_logloss: 0.11375\n",
      "[303]\ttraining's binary_logloss: 0.0760131\tvalid_1's binary_logloss: 0.113733\n",
      "[304]\ttraining's binary_logloss: 0.0759039\tvalid_1's binary_logloss: 0.11374\n",
      "[305]\ttraining's binary_logloss: 0.0758131\tvalid_1's binary_logloss: 0.11376\n",
      "[306]\ttraining's binary_logloss: 0.0756878\tvalid_1's binary_logloss: 0.113781\n",
      "[307]\ttraining's binary_logloss: 0.0755771\tvalid_1's binary_logloss: 0.113773\n",
      "[308]\ttraining's binary_logloss: 0.0754865\tvalid_1's binary_logloss: 0.113731\n",
      "[309]\ttraining's binary_logloss: 0.0753767\tvalid_1's binary_logloss: 0.1137\n",
      "[310]\ttraining's binary_logloss: 0.0752816\tvalid_1's binary_logloss: 0.113684\n",
      "[311]\ttraining's binary_logloss: 0.0751752\tvalid_1's binary_logloss: 0.113651\n",
      "[312]\ttraining's binary_logloss: 0.0750842\tvalid_1's binary_logloss: 0.113638\n",
      "[313]\ttraining's binary_logloss: 0.0749911\tvalid_1's binary_logloss: 0.113666\n",
      "[314]\ttraining's binary_logloss: 0.0748999\tvalid_1's binary_logloss: 0.113673\n",
      "[315]\ttraining's binary_logloss: 0.0748045\tvalid_1's binary_logloss: 0.113645\n",
      "[316]\ttraining's binary_logloss: 0.0747071\tvalid_1's binary_logloss: 0.113629\n",
      "[317]\ttraining's binary_logloss: 0.0746167\tvalid_1's binary_logloss: 0.113594\n",
      "[318]\ttraining's binary_logloss: 0.0745245\tvalid_1's binary_logloss: 0.113553\n",
      "[319]\ttraining's binary_logloss: 0.0744306\tvalid_1's binary_logloss: 0.113526\n",
      "[320]\ttraining's binary_logloss: 0.0743321\tvalid_1's binary_logloss: 0.113501\n",
      "[321]\ttraining's binary_logloss: 0.0742286\tvalid_1's binary_logloss: 0.113444\n",
      "[322]\ttraining's binary_logloss: 0.0741268\tvalid_1's binary_logloss: 0.113431\n",
      "[323]\ttraining's binary_logloss: 0.0740336\tvalid_1's binary_logloss: 0.113419\n",
      "[324]\ttraining's binary_logloss: 0.073944\tvalid_1's binary_logloss: 0.113438\n",
      "[325]\ttraining's binary_logloss: 0.0738575\tvalid_1's binary_logloss: 0.113402\n",
      "[326]\ttraining's binary_logloss: 0.0737591\tvalid_1's binary_logloss: 0.113377\n",
      "[327]\ttraining's binary_logloss: 0.0736578\tvalid_1's binary_logloss: 0.113355\n",
      "[328]\ttraining's binary_logloss: 0.0735511\tvalid_1's binary_logloss: 0.113361\n",
      "[329]\ttraining's binary_logloss: 0.073461\tvalid_1's binary_logloss: 0.113339\n",
      "[330]\ttraining's binary_logloss: 0.0733717\tvalid_1's binary_logloss: 0.113288\n",
      "[331]\ttraining's binary_logloss: 0.0732759\tvalid_1's binary_logloss: 0.113292\n",
      "[332]\ttraining's binary_logloss: 0.0731926\tvalid_1's binary_logloss: 0.113264\n",
      "[333]\ttraining's binary_logloss: 0.0731037\tvalid_1's binary_logloss: 0.113233\n",
      "[334]\ttraining's binary_logloss: 0.0730204\tvalid_1's binary_logloss: 0.11325\n",
      "[335]\ttraining's binary_logloss: 0.0729136\tvalid_1's binary_logloss: 0.113228\n",
      "[336]\ttraining's binary_logloss: 0.0728186\tvalid_1's binary_logloss: 0.11326\n",
      "[337]\ttraining's binary_logloss: 0.0727185\tvalid_1's binary_logloss: 0.113256\n",
      "[338]\ttraining's binary_logloss: 0.0726243\tvalid_1's binary_logloss: 0.113261\n",
      "[339]\ttraining's binary_logloss: 0.0725472\tvalid_1's binary_logloss: 0.113253\n",
      "[340]\ttraining's binary_logloss: 0.0724396\tvalid_1's binary_logloss: 0.113265\n",
      "[341]\ttraining's binary_logloss: 0.0723585\tvalid_1's binary_logloss: 0.113243\n",
      "[342]\ttraining's binary_logloss: 0.0722748\tvalid_1's binary_logloss: 0.113242\n",
      "[343]\ttraining's binary_logloss: 0.0721728\tvalid_1's binary_logloss: 0.113239\n",
      "[344]\ttraining's binary_logloss: 0.0720912\tvalid_1's binary_logloss: 0.113223\n",
      "[345]\ttraining's binary_logloss: 0.0720048\tvalid_1's binary_logloss: 0.11324\n",
      "[346]\ttraining's binary_logloss: 0.0719182\tvalid_1's binary_logloss: 0.113243\n",
      "[347]\ttraining's binary_logloss: 0.0718478\tvalid_1's binary_logloss: 0.113226\n",
      "[348]\ttraining's binary_logloss: 0.0717529\tvalid_1's binary_logloss: 0.113272\n",
      "[349]\ttraining's binary_logloss: 0.0716346\tvalid_1's binary_logloss: 0.113282\n",
      "[350]\ttraining's binary_logloss: 0.071556\tvalid_1's binary_logloss: 0.1133\n",
      "[351]\ttraining's binary_logloss: 0.0714384\tvalid_1's binary_logloss: 0.113347\n",
      "[352]\ttraining's binary_logloss: 0.0713471\tvalid_1's binary_logloss: 0.113404\n",
      "[353]\ttraining's binary_logloss: 0.0712705\tvalid_1's binary_logloss: 0.113369\n",
      "[354]\ttraining's binary_logloss: 0.0711901\tvalid_1's binary_logloss: 0.113373\n",
      "[355]\ttraining's binary_logloss: 0.0711109\tvalid_1's binary_logloss: 0.113414\n",
      "[356]\ttraining's binary_logloss: 0.0710244\tvalid_1's binary_logloss: 0.113451\n",
      "[357]\ttraining's binary_logloss: 0.0709484\tvalid_1's binary_logloss: 0.113429\n",
      "[358]\ttraining's binary_logloss: 0.0708573\tvalid_1's binary_logloss: 0.113454\n",
      "[359]\ttraining's binary_logloss: 0.0707729\tvalid_1's binary_logloss: 0.11341\n",
      "[360]\ttraining's binary_logloss: 0.0706706\tvalid_1's binary_logloss: 0.11346\n",
      "[361]\ttraining's binary_logloss: 0.0705794\tvalid_1's binary_logloss: 0.113435\n",
      "[362]\ttraining's binary_logloss: 0.0705036\tvalid_1's binary_logloss: 0.113433\n",
      "[363]\ttraining's binary_logloss: 0.0704274\tvalid_1's binary_logloss: 0.113439\n",
      "[364]\ttraining's binary_logloss: 0.0703566\tvalid_1's binary_logloss: 0.113413\n",
      "[365]\ttraining's binary_logloss: 0.0702762\tvalid_1's binary_logloss: 0.113422\n",
      "[366]\ttraining's binary_logloss: 0.0701931\tvalid_1's binary_logloss: 0.113453\n",
      "[367]\ttraining's binary_logloss: 0.0700863\tvalid_1's binary_logloss: 0.11347\n",
      "[368]\ttraining's binary_logloss: 0.0700089\tvalid_1's binary_logloss: 0.11347\n",
      "[369]\ttraining's binary_logloss: 0.0698965\tvalid_1's binary_logloss: 0.11352\n",
      "[370]\ttraining's binary_logloss: 0.0698248\tvalid_1's binary_logloss: 0.113545\n",
      "[371]\ttraining's binary_logloss: 0.0697415\tvalid_1's binary_logloss: 0.113532\n",
      "[372]\ttraining's binary_logloss: 0.0696684\tvalid_1's binary_logloss: 0.113524\n",
      "[373]\ttraining's binary_logloss: 0.0695929\tvalid_1's binary_logloss: 0.113483\n",
      "[374]\ttraining's binary_logloss: 0.0695177\tvalid_1's binary_logloss: 0.11352\n",
      "[375]\ttraining's binary_logloss: 0.0694302\tvalid_1's binary_logloss: 0.113509\n",
      "[376]\ttraining's binary_logloss: 0.0693445\tvalid_1's binary_logloss: 0.113493\n",
      "[377]\ttraining's binary_logloss: 0.0692609\tvalid_1's binary_logloss: 0.113507\n",
      "[378]\ttraining's binary_logloss: 0.0691892\tvalid_1's binary_logloss: 0.113534\n",
      "[379]\ttraining's binary_logloss: 0.0690975\tvalid_1's binary_logloss: 0.113525\n",
      "[380]\ttraining's binary_logloss: 0.0690207\tvalid_1's binary_logloss: 0.113541\n",
      "[381]\ttraining's binary_logloss: 0.0689308\tvalid_1's binary_logloss: 0.113557\n",
      "[382]\ttraining's binary_logloss: 0.0688583\tvalid_1's binary_logloss: 0.113572\n",
      "[383]\ttraining's binary_logloss: 0.0687694\tvalid_1's binary_logloss: 0.113612\n",
      "[384]\ttraining's binary_logloss: 0.0686853\tvalid_1's binary_logloss: 0.113661\n",
      "[385]\ttraining's binary_logloss: 0.0686188\tvalid_1's binary_logloss: 0.113653\n",
      "[386]\ttraining's binary_logloss: 0.0685286\tvalid_1's binary_logloss: 0.11364\n",
      "[387]\ttraining's binary_logloss: 0.0684342\tvalid_1's binary_logloss: 0.113645\n",
      "[388]\ttraining's binary_logloss: 0.0683465\tvalid_1's binary_logloss: 0.113615\n",
      "[389]\ttraining's binary_logloss: 0.0682727\tvalid_1's binary_logloss: 0.113584\n",
      "[390]\ttraining's binary_logloss: 0.0681989\tvalid_1's binary_logloss: 0.113544\n",
      "[391]\ttraining's binary_logloss: 0.0680924\tvalid_1's binary_logloss: 0.113544\n",
      "[392]\ttraining's binary_logloss: 0.0680019\tvalid_1's binary_logloss: 0.11359\n",
      "[393]\ttraining's binary_logloss: 0.0679144\tvalid_1's binary_logloss: 0.113598\n",
      "[394]\ttraining's binary_logloss: 0.0678268\tvalid_1's binary_logloss: 0.113594\n",
      "[395]\ttraining's binary_logloss: 0.0677444\tvalid_1's binary_logloss: 0.113588\n",
      "[396]\ttraining's binary_logloss: 0.0676479\tvalid_1's binary_logloss: 0.113543\n",
      "[397]\ttraining's binary_logloss: 0.0675768\tvalid_1's binary_logloss: 0.113553\n",
      "[398]\ttraining's binary_logloss: 0.0674947\tvalid_1's binary_logloss: 0.113556\n",
      "[399]\ttraining's binary_logloss: 0.0674039\tvalid_1's binary_logloss: 0.113582\n",
      "[400]\ttraining's binary_logloss: 0.0673353\tvalid_1's binary_logloss: 0.113582\n",
      "[401]\ttraining's binary_logloss: 0.0672433\tvalid_1's binary_logloss: 0.113555\n",
      "[402]\ttraining's binary_logloss: 0.0671659\tvalid_1's binary_logloss: 0.113529\n",
      "[403]\ttraining's binary_logloss: 0.0670856\tvalid_1's binary_logloss: 0.113519\n",
      "[404]\ttraining's binary_logloss: 0.0670131\tvalid_1's binary_logloss: 0.113526\n",
      "[405]\ttraining's binary_logloss: 0.0669461\tvalid_1's binary_logloss: 0.113528\n",
      "[406]\ttraining's binary_logloss: 0.0668769\tvalid_1's binary_logloss: 0.113488\n",
      "[407]\ttraining's binary_logloss: 0.0668117\tvalid_1's binary_logloss: 0.113454\n",
      "[408]\ttraining's binary_logloss: 0.0667482\tvalid_1's binary_logloss: 0.113428\n",
      "[409]\ttraining's binary_logloss: 0.0666802\tvalid_1's binary_logloss: 0.113406\n",
      "[410]\ttraining's binary_logloss: 0.0666093\tvalid_1's binary_logloss: 0.113405\n",
      "[411]\ttraining's binary_logloss: 0.0665329\tvalid_1's binary_logloss: 0.113422\n",
      "[412]\ttraining's binary_logloss: 0.0664448\tvalid_1's binary_logloss: 0.113417\n",
      "[413]\ttraining's binary_logloss: 0.066371\tvalid_1's binary_logloss: 0.113418\n",
      "[414]\ttraining's binary_logloss: 0.0663005\tvalid_1's binary_logloss: 0.113403\n",
      "[415]\ttraining's binary_logloss: 0.0662288\tvalid_1's binary_logloss: 0.113386\n",
      "[416]\ttraining's binary_logloss: 0.0661529\tvalid_1's binary_logloss: 0.11335\n",
      "[417]\ttraining's binary_logloss: 0.0660783\tvalid_1's binary_logloss: 0.11334\n",
      "[418]\ttraining's binary_logloss: 0.0660089\tvalid_1's binary_logloss: 0.113325\n",
      "[419]\ttraining's binary_logloss: 0.0659459\tvalid_1's binary_logloss: 0.1133\n",
      "[420]\ttraining's binary_logloss: 0.065859\tvalid_1's binary_logloss: 0.113335\n",
      "[421]\ttraining's binary_logloss: 0.0657756\tvalid_1's binary_logloss: 0.113327\n",
      "[422]\ttraining's binary_logloss: 0.0656811\tvalid_1's binary_logloss: 0.113333\n",
      "[423]\ttraining's binary_logloss: 0.0655956\tvalid_1's binary_logloss: 0.113314\n",
      "[424]\ttraining's binary_logloss: 0.0655231\tvalid_1's binary_logloss: 0.113282\n",
      "[425]\ttraining's binary_logloss: 0.065438\tvalid_1's binary_logloss: 0.113297\n",
      "[426]\ttraining's binary_logloss: 0.0653673\tvalid_1's binary_logloss: 0.11329\n",
      "[427]\ttraining's binary_logloss: 0.0653039\tvalid_1's binary_logloss: 0.113318\n",
      "[428]\ttraining's binary_logloss: 0.0652447\tvalid_1's binary_logloss: 0.113359\n",
      "[429]\ttraining's binary_logloss: 0.0651874\tvalid_1's binary_logloss: 0.113376\n",
      "[430]\ttraining's binary_logloss: 0.0651237\tvalid_1's binary_logloss: 0.113382\n",
      "[431]\ttraining's binary_logloss: 0.065038\tvalid_1's binary_logloss: 0.113348\n",
      "[432]\ttraining's binary_logloss: 0.0649809\tvalid_1's binary_logloss: 0.113324\n",
      "[433]\ttraining's binary_logloss: 0.0649158\tvalid_1's binary_logloss: 0.113339\n",
      "[434]\ttraining's binary_logloss: 0.0648489\tvalid_1's binary_logloss: 0.113357\n",
      "[435]\ttraining's binary_logloss: 0.0647869\tvalid_1's binary_logloss: 0.113344\n",
      "[436]\ttraining's binary_logloss: 0.06471\tvalid_1's binary_logloss: 0.113374\n",
      "[437]\ttraining's binary_logloss: 0.0646481\tvalid_1's binary_logloss: 0.11338\n",
      "[438]\ttraining's binary_logloss: 0.0645895\tvalid_1's binary_logloss: 0.1134\n",
      "[439]\ttraining's binary_logloss: 0.0645267\tvalid_1's binary_logloss: 0.113375\n",
      "[440]\ttraining's binary_logloss: 0.0644243\tvalid_1's binary_logloss: 0.113388\n",
      "[441]\ttraining's binary_logloss: 0.0643225\tvalid_1's binary_logloss: 0.11341\n",
      "[442]\ttraining's binary_logloss: 0.06426\tvalid_1's binary_logloss: 0.113428\n",
      "[443]\ttraining's binary_logloss: 0.0641998\tvalid_1's binary_logloss: 0.113432\n",
      "[444]\ttraining's binary_logloss: 0.064111\tvalid_1's binary_logloss: 0.113387\n",
      "Early stopping, best iteration is:\n",
      "[344]\ttraining's binary_logloss: 0.0720912\tvalid_1's binary_logloss: 0.113223\n",
      "CPU times: user 1h 19min 52s, sys: 11.7 s, total: 1h 20min 3s\n",
      "Wall time: 1h 20min 20s\n"
     ]
    }
   ],
   "source": [
    "%%time\n",
    "params = {\n",
    "    'boosting_type': 'gbdt',\n",
    "    'objective': 'binary',\n",
    "    'metric': 'binary_logloss',\n",
    "    'num_leaves': 31,\n",
    "    'learning_rate': 0.1,\n",
    "    'feature_fraction': 0.9,\n",
    "    'bagging_fraction': 0.8,    \n",
    "    'bagging_freq': 5,          \n",
    "    'verbose': -1,              \n",
    "    'n_jobs': -1               \n",
    "}\n",
    "\n",
    "lgbm_model2 = lgb.train(\n",
    "    params, train_data2, num_boost_round=1000, valid_sets=[train_data2, test_data2], early_stopping_rounds=100)"
   ]
  },
  {
   "cell_type": "code",
   "execution_count": 86,
   "metadata": {},
   "outputs": [],
   "source": [
    "y_pred2 = (lgbm_model2.predict(x_test_tfidf2) >= 0.5).astype(int)"
   ]
  },
  {
   "cell_type": "code",
   "execution_count": 87,
   "metadata": {},
   "outputs": [
    {
     "name": "stdout",
     "output_type": "stream",
     "text": [
      "              precision    recall  f1-score   support\n",
      "\n",
      "           0       0.97      0.99      0.98     28622\n",
      "           1       0.88      0.70      0.78      3237\n",
      "\n",
      "    accuracy                           0.96     31859\n",
      "   macro avg       0.92      0.85      0.88     31859\n",
      "weighted avg       0.96      0.96      0.96     31859\n",
      "\n"
     ]
    }
   ],
   "source": [
    "print(classification_report(\n",
    "    y_test, y_pred2, target_names=['0', '1']))"
   ]
  },
  {
   "cell_type": "markdown",
   "metadata": {},
   "source": [
    "У нас получилось! целевой показатель достигнут. Ниже можно посмотреть, как рапределялись предсказания относительно категорий."
   ]
  },
  {
   "cell_type": "code",
   "execution_count": 88,
   "metadata": {},
   "outputs": [
    {
     "name": "stdout",
     "output_type": "stream",
     "text": [
      "[[28300   322]\n",
      " [  958  2279]]\n"
     ]
    }
   ],
   "source": [
    "print(confusion_matrix(y_test, y_pred2))"
   ]
  },
  {
   "cell_type": "markdown",
   "metadata": {},
   "source": [
    "## Выводы"
   ]
  },
  {
   "cell_type": "markdown",
   "metadata": {},
   "source": [
    "В рамках проекта была проделана обширная работа созданию модели, определяющей токсичные комментарии. \n",
    "\n",
    "Сначала мы лемматизировали и очистили данные, удалили все ненужное, потом преобраовали даные в числа двумя способами - независимым count_vectorizer в мешок слов и в TFIDF, который отражает частоту употребления каждого слова в отдельном тексте и в корпусе в целом. \n",
    "\n",
    "После этого мы обучили ряд моделей - регрессии, случайный лес, бустинг для определения класса токсичных комментариев. ЛУчше всех справилась модель градиентного бустинга lightgbm и ее мы выбрали для проверки на тестовой выборке. При этом я ожидал, что tfidf даст лучший результат, поскольку этот показатель более информативен а отдельные слова могут быть лучшими индикаторами определнных классов, если показатель высокий.\n",
    "\n",
    "На тестовой выборке модель показала результат целевой метрики f1 - 0.78, что означает, что цель по качеству достигнута и мы можем отчитатья перед заказчиком. \n",
    "Было очень интересно."
   ]
  }
 ],
 "metadata": {
  "ExecuteTimeLog": [
   {
    "duration": 1698,
    "start_time": "2023-04-10T12:14:44.443Z"
   },
   {
    "duration": 167,
    "start_time": "2023-04-10T12:15:28.147Z"
   },
   {
    "duration": 3449,
    "start_time": "2023-04-10T12:15:39.461Z"
   },
   {
    "duration": 17,
    "start_time": "2023-04-10T12:15:42.913Z"
   },
   {
    "duration": 12,
    "start_time": "2023-04-10T12:16:00.721Z"
   },
   {
    "duration": 10,
    "start_time": "2023-04-10T12:16:09.253Z"
   },
   {
    "duration": 20,
    "start_time": "2023-04-10T12:18:27.716Z"
   },
   {
    "duration": 427,
    "start_time": "2023-04-10T12:46:34.617Z"
   },
   {
    "duration": 6,
    "start_time": "2023-04-10T12:54:07.166Z"
   },
   {
    "duration": 5,
    "start_time": "2023-04-10T12:55:55.813Z"
   },
   {
    "duration": 246,
    "start_time": "2023-04-10T12:56:24.871Z"
   },
   {
    "duration": 3,
    "start_time": "2023-04-10T12:56:32.230Z"
   },
   {
    "duration": 4,
    "start_time": "2023-04-10T13:00:26.801Z"
   },
   {
    "duration": 0,
    "start_time": "2023-04-10T13:01:43.954Z"
   },
   {
    "duration": 0,
    "start_time": "2023-04-10T13:01:43.956Z"
   },
   {
    "duration": 0,
    "start_time": "2023-04-10T13:03:13.297Z"
   },
   {
    "duration": 0,
    "start_time": "2023-04-10T13:03:13.298Z"
   },
   {
    "duration": 6,
    "start_time": "2023-04-10T13:03:45.804Z"
   },
   {
    "duration": 125112,
    "start_time": "2023-04-10T13:03:51.409Z"
   },
   {
    "duration": 9,
    "start_time": "2023-04-10T13:05:56.524Z"
   },
   {
    "duration": 4,
    "start_time": "2023-04-10T13:23:09.595Z"
   },
   {
    "duration": 2775,
    "start_time": "2023-04-10T13:24:29.017Z"
   },
   {
    "duration": 2733,
    "start_time": "2023-04-10T13:24:40.867Z"
   },
   {
    "duration": 9,
    "start_time": "2023-04-10T13:24:53.674Z"
   },
   {
    "duration": 126,
    "start_time": "2023-04-10T13:27:35.331Z"
   },
   {
    "duration": 126,
    "start_time": "2023-04-10T13:28:55.105Z"
   },
   {
    "duration": 128,
    "start_time": "2023-04-10T13:29:09.412Z"
   },
   {
    "duration": 128,
    "start_time": "2023-04-10T13:29:23.695Z"
   },
   {
    "duration": 5,
    "start_time": "2023-04-10T13:31:13.721Z"
   },
   {
    "duration": 6,
    "start_time": "2023-04-10T13:32:01.329Z"
   },
   {
    "duration": 5,
    "start_time": "2023-04-10T13:32:17.013Z"
   },
   {
    "duration": 6,
    "start_time": "2023-04-10T13:33:02.831Z"
   },
   {
    "duration": 3,
    "start_time": "2023-04-10T13:42:16.196Z"
   },
   {
    "duration": 10,
    "start_time": "2023-04-10T13:42:41.350Z"
   },
   {
    "duration": 5120,
    "start_time": "2023-04-10T13:42:55.551Z"
   },
   {
    "duration": 55,
    "start_time": "2023-04-10T13:43:08.479Z"
   },
   {
    "duration": 6,
    "start_time": "2023-04-10T13:43:33.992Z"
   },
   {
    "duration": 229,
    "start_time": "2023-04-10T13:48:29.727Z"
   },
   {
    "duration": 65,
    "start_time": "2023-04-10T14:21:57.504Z"
   },
   {
    "duration": 44,
    "start_time": "2023-04-10T14:23:11.745Z"
   },
   {
    "duration": 5,
    "start_time": "2023-04-10T14:26:48.336Z"
   },
   {
    "duration": 12,
    "start_time": "2023-04-10T14:28:09.368Z"
   },
   {
    "duration": 4,
    "start_time": "2023-04-10T14:28:33.517Z"
   },
   {
    "duration": 76,
    "start_time": "2023-04-10T14:29:13.209Z"
   },
   {
    "duration": 11,
    "start_time": "2023-04-10T14:29:43.266Z"
   },
   {
    "duration": 11,
    "start_time": "2023-04-10T14:29:54.860Z"
   },
   {
    "duration": 11,
    "start_time": "2023-04-10T14:30:01.655Z"
   },
   {
    "duration": 13,
    "start_time": "2023-04-10T14:30:14.022Z"
   },
   {
    "duration": 52287,
    "start_time": "2023-04-10T14:30:21.502Z"
   },
   {
    "duration": 30,
    "start_time": "2023-04-10T14:31:13.790Z"
   },
   {
    "duration": 4,
    "start_time": "2023-04-10T14:32:39.153Z"
   },
   {
    "duration": 53,
    "start_time": "2023-04-10T14:33:38.596Z"
   },
   {
    "duration": 10,
    "start_time": "2023-04-10T14:48:51.417Z"
   },
   {
    "duration": 217389,
    "start_time": "2023-04-10T14:48:56.967Z"
   },
   {
    "duration": 0,
    "start_time": "2023-04-10T14:52:34.358Z"
   },
   {
    "duration": 565810,
    "start_time": "2023-04-10T14:53:35.389Z"
   },
   {
    "duration": 2675,
    "start_time": "2023-04-10T15:03:01.201Z"
   },
   {
    "duration": 6,
    "start_time": "2023-04-10T15:06:57.538Z"
   },
   {
    "duration": 34,
    "start_time": "2023-04-10T15:08:43.548Z"
   },
   {
    "duration": 41,
    "start_time": "2023-04-10T15:10:44.050Z"
   },
   {
    "duration": 1,
    "start_time": "2023-04-10T15:13:09.293Z"
   },
   {
    "duration": 0,
    "start_time": "2023-04-10T15:13:09.295Z"
   },
   {
    "duration": 50194,
    "start_time": "2023-04-10T15:15:50.025Z"
   },
   {
    "duration": 46,
    "start_time": "2023-04-10T15:16:40.221Z"
   },
   {
    "duration": 233727,
    "start_time": "2023-04-10T15:24:21.960Z"
   },
   {
    "duration": 121,
    "start_time": "2023-04-10T15:28:15.689Z"
   },
   {
    "duration": 3,
    "start_time": "2023-04-10T15:50:28.318Z"
   },
   {
    "duration": 3,
    "start_time": "2023-04-10T15:51:17.885Z"
   },
   {
    "duration": 3,
    "start_time": "2023-04-10T15:51:52.587Z"
   },
   {
    "duration": 52,
    "start_time": "2023-04-10T15:51:54.831Z"
   },
   {
    "duration": 3256,
    "start_time": "2023-04-10T15:52:08.271Z"
   },
   {
    "duration": 4,
    "start_time": "2023-04-10T15:52:13.145Z"
   },
   {
    "duration": 159,
    "start_time": "2023-04-10T15:52:48.770Z"
   },
   {
    "duration": 6,
    "start_time": "2023-04-10T15:53:40.958Z"
   },
   {
    "duration": 3,
    "start_time": "2023-04-10T15:55:08.367Z"
   },
   {
    "duration": 928,
    "start_time": "2023-04-10T15:56:04.227Z"
   },
   {
    "duration": 44033,
    "start_time": "2023-04-10T15:56:07.255Z"
   },
   {
    "duration": 134,
    "start_time": "2023-04-10T15:56:51.290Z"
   },
   {
    "duration": 22,
    "start_time": "2023-04-10T15:56:51.425Z"
   },
   {
    "duration": 44081,
    "start_time": "2023-04-10T15:57:18.038Z"
   },
   {
    "duration": 48,
    "start_time": "2023-04-10T15:58:02.121Z"
   },
   {
    "duration": 208907,
    "start_time": "2023-04-10T15:58:02.186Z"
   },
   {
    "duration": 126,
    "start_time": "2023-04-10T16:01:31.097Z"
   },
   {
    "duration": 4,
    "start_time": "2023-04-10T16:02:24.625Z"
   },
   {
    "duration": 10,
    "start_time": "2023-04-10T16:08:10.260Z"
   },
   {
    "duration": 14,
    "start_time": "2023-04-10T16:08:13.674Z"
   },
   {
    "duration": 14,
    "start_time": "2023-04-10T16:08:36.745Z"
   },
   {
    "duration": 5,
    "start_time": "2023-04-10T16:10:53.014Z"
   },
   {
    "duration": 22,
    "start_time": "2023-04-10T16:12:01.586Z"
   },
   {
    "duration": 57,
    "start_time": "2023-04-10T16:12:48.194Z"
   },
   {
    "duration": 3195,
    "start_time": "2023-04-10T16:12:56.056Z"
   },
   {
    "duration": 4,
    "start_time": "2023-04-10T16:12:59.253Z"
   },
   {
    "duration": 902,
    "start_time": "2023-04-10T16:13:20.782Z"
   },
   {
    "duration": 4,
    "start_time": "2023-04-10T16:13:23.629Z"
   },
   {
    "duration": 5,
    "start_time": "2023-04-10T16:14:03.033Z"
   },
   {
    "duration": 21,
    "start_time": "2023-04-10T16:14:28.662Z"
   },
   {
    "duration": 45819,
    "start_time": "2023-04-10T16:14:52.472Z"
   },
   {
    "duration": 130,
    "start_time": "2023-04-10T16:15:38.294Z"
   },
   {
    "duration": 207424,
    "start_time": "2023-04-10T16:16:10.761Z"
   },
   {
    "duration": 50,
    "start_time": "2023-04-10T16:19:38.188Z"
   },
   {
    "duration": 970,
    "start_time": "2023-04-10T16:19:38.240Z"
   },
   {
    "duration": 40179,
    "start_time": "2023-04-10T16:19:39.212Z"
   },
   {
    "duration": 39967,
    "start_time": "2023-04-10T16:20:19.518Z"
   },
   {
    "duration": 41,
    "start_time": "2023-04-10T16:20:59.487Z"
   },
   {
    "duration": 56,
    "start_time": "2023-04-10T16:20:59.530Z"
   },
   {
    "duration": 186550,
    "start_time": "2023-04-10T16:26:22.421Z"
   },
   {
    "duration": 12,
    "start_time": "2023-04-10T16:29:28.973Z"
   },
   {
    "duration": 10,
    "start_time": "2023-04-10T16:30:32.685Z"
   },
   {
    "duration": 2582,
    "start_time": "2023-04-10T16:30:44.555Z"
   },
   {
    "duration": 42,
    "start_time": "2023-04-10T16:36:18.010Z"
   },
   {
    "duration": 3,
    "start_time": "2023-04-10T16:40:20.593Z"
   },
   {
    "duration": 730242,
    "start_time": "2023-04-10T16:41:40.447Z"
   },
   {
    "duration": 9724,
    "start_time": "2023-04-10T16:53:50.691Z"
   },
   {
    "duration": 9689,
    "start_time": "2023-04-10T16:56:36.038Z"
   },
   {
    "duration": 32,
    "start_time": "2023-04-10T17:02:12.083Z"
   },
   {
    "duration": 9364,
    "start_time": "2023-04-10T17:02:41.766Z"
   },
   {
    "duration": 56,
    "start_time": "2023-04-10T17:02:51.132Z"
   },
   {
    "duration": 12,
    "start_time": "2023-04-10T17:02:56.778Z"
   },
   {
    "duration": 9909,
    "start_time": "2023-04-10T17:03:23.805Z"
   },
   {
    "duration": 103,
    "start_time": "2023-04-10T17:03:33.716Z"
   },
   {
    "duration": 3,
    "start_time": "2023-04-10T17:04:23.558Z"
   },
   {
    "duration": 27578,
    "start_time": "2023-04-10T17:05:14.784Z"
   },
   {
    "duration": 21,
    "start_time": "2023-04-10T17:08:27.267Z"
   },
   {
    "duration": 329768,
    "start_time": "2023-04-10T17:08:30.662Z"
   },
   {
    "duration": 45,
    "start_time": "2023-04-10T17:16:06.476Z"
   },
   {
    "duration": 3079,
    "start_time": "2023-04-10T17:16:23.731Z"
   },
   {
    "duration": 40,
    "start_time": "2023-04-10T17:16:49.667Z"
   },
   {
    "duration": 2968,
    "start_time": "2023-04-10T17:17:08.750Z"
   },
   {
    "duration": 38,
    "start_time": "2023-04-10T17:17:12.768Z"
   },
   {
    "duration": 3089,
    "start_time": "2023-04-10T17:17:25.725Z"
   },
   {
    "duration": 104,
    "start_time": "2023-04-10T17:17:28.815Z"
   },
   {
    "duration": 2968,
    "start_time": "2023-04-10T17:17:34.634Z"
   },
   {
    "duration": 82,
    "start_time": "2023-04-10T17:17:37.604Z"
   },
   {
    "duration": 3026,
    "start_time": "2023-04-10T17:17:43.769Z"
   },
   {
    "duration": 37,
    "start_time": "2023-04-10T17:17:46.797Z"
   },
   {
    "duration": 3035,
    "start_time": "2023-04-10T17:17:51.266Z"
   },
   {
    "duration": 91,
    "start_time": "2023-04-10T17:17:54.303Z"
   },
   {
    "duration": 3035,
    "start_time": "2023-04-10T17:18:00.966Z"
   },
   {
    "duration": 37,
    "start_time": "2023-04-10T17:18:04.003Z"
   },
   {
    "duration": 19,
    "start_time": "2023-04-10T17:32:17.834Z"
   },
   {
    "duration": 9,
    "start_time": "2023-04-10T17:33:07.019Z"
   },
   {
    "duration": 4,
    "start_time": "2023-04-10T17:33:08.945Z"
   },
   {
    "duration": 4,
    "start_time": "2023-04-10T17:33:29.220Z"
   },
   {
    "duration": 4219,
    "start_time": "2023-04-10T17:34:21.296Z"
   },
   {
    "duration": 1018,
    "start_time": "2023-04-10T17:37:04.273Z"
   },
   {
    "duration": 13,
    "start_time": "2023-04-10T17:38:04.030Z"
   },
   {
    "duration": 3,
    "start_time": "2023-04-10T17:38:17.028Z"
   },
   {
    "duration": 3,
    "start_time": "2023-04-10T17:38:22.362Z"
   },
   {
    "duration": 1096279,
    "start_time": "2023-04-10T17:42:45.913Z"
   },
   {
    "duration": 10514,
    "start_time": "2023-04-10T18:01:02.196Z"
   },
   {
    "duration": 36,
    "start_time": "2023-04-10T18:01:12.711Z"
   },
   {
    "duration": 51,
    "start_time": "2023-04-10T18:35:33.238Z"
   },
   {
    "duration": 5,
    "start_time": "2023-04-10T18:36:36.356Z"
   },
   {
    "duration": 30,
    "start_time": "2023-04-10T18:38:09.131Z"
   },
   {
    "duration": 44,
    "start_time": "2023-04-10T18:43:33.373Z"
   },
   {
    "duration": 31,
    "start_time": "2023-04-10T18:45:18.158Z"
   },
   {
    "duration": 50,
    "start_time": "2023-04-10T18:46:20.734Z"
   },
   {
    "duration": 43,
    "start_time": "2023-04-10T18:46:28.880Z"
   },
   {
    "duration": 44,
    "start_time": "2023-04-10T18:46:59.677Z"
   },
   {
    "duration": 22,
    "start_time": "2023-04-10T18:47:41.133Z"
   },
   {
    "duration": 6,
    "start_time": "2023-04-10T18:49:01.095Z"
   },
   {
    "duration": 16,
    "start_time": "2023-04-10T18:50:44.677Z"
   },
   {
    "duration": 11773,
    "start_time": "2023-04-10T18:51:24.547Z"
   },
   {
    "duration": 11434,
    "start_time": "2023-04-10T18:52:28.610Z"
   },
   {
    "duration": 11450,
    "start_time": "2023-04-10T18:55:38.261Z"
   },
   {
    "duration": 14,
    "start_time": "2023-04-10T18:56:43.304Z"
   },
   {
    "duration": 11244,
    "start_time": "2023-04-10T18:56:55.778Z"
   },
   {
    "duration": 10392,
    "start_time": "2023-04-10T18:57:16.234Z"
   },
   {
    "duration": 10485,
    "start_time": "2023-04-10T19:09:03.233Z"
   },
   {
    "duration": 6,
    "start_time": "2023-04-10T19:09:57.565Z"
   },
   {
    "duration": 10500,
    "start_time": "2023-04-10T19:10:03.713Z"
   },
   {
    "duration": 10452,
    "start_time": "2023-04-10T19:11:27.854Z"
   },
   {
    "duration": 10504,
    "start_time": "2023-04-10T19:11:49.839Z"
   },
   {
    "duration": 13,
    "start_time": "2023-04-10T19:15:15.096Z"
   },
   {
    "duration": 1625,
    "start_time": "2023-04-10T19:23:32.917Z"
   },
   {
    "duration": 3581,
    "start_time": "2023-04-10T19:23:34.544Z"
   },
   {
    "duration": 105,
    "start_time": "2023-04-10T19:23:38.126Z"
   },
   {
    "duration": 12,
    "start_time": "2023-04-10T19:23:38.233Z"
   },
   {
    "duration": 38,
    "start_time": "2023-04-10T19:23:38.247Z"
   },
   {
    "duration": 274,
    "start_time": "2023-04-10T19:23:38.288Z"
   },
   {
    "duration": 6,
    "start_time": "2023-04-10T19:23:38.564Z"
   },
   {
    "duration": 5,
    "start_time": "2023-04-10T19:23:38.572Z"
   },
   {
    "duration": 117726,
    "start_time": "2023-04-10T19:23:38.579Z"
   },
   {
    "duration": 8,
    "start_time": "2023-04-10T19:25:36.309Z"
   },
   {
    "duration": 5,
    "start_time": "2023-04-10T19:25:36.319Z"
   },
   {
    "duration": 5,
    "start_time": "2023-04-10T19:25:36.325Z"
   },
   {
    "duration": 2767,
    "start_time": "2023-04-10T19:25:36.331Z"
   },
   {
    "duration": 5,
    "start_time": "2023-04-10T19:25:39.099Z"
   },
   {
    "duration": 137,
    "start_time": "2023-04-10T19:25:39.106Z"
   },
   {
    "duration": 3,
    "start_time": "2023-04-10T19:25:39.246Z"
   },
   {
    "duration": 6,
    "start_time": "2023-04-10T19:25:39.251Z"
   },
   {
    "duration": 80,
    "start_time": "2023-04-10T19:25:39.259Z"
   },
   {
    "duration": 2947,
    "start_time": "2023-04-10T19:25:39.341Z"
   },
   {
    "duration": 4,
    "start_time": "2023-04-10T19:25:42.289Z"
   },
   {
    "duration": 162,
    "start_time": "2023-04-10T19:25:42.295Z"
   },
   {
    "duration": 5,
    "start_time": "2023-04-10T19:25:42.460Z"
   },
   {
    "duration": 3250,
    "start_time": "2023-04-10T19:25:42.467Z"
   },
   {
    "duration": 4,
    "start_time": "2023-04-10T19:25:45.719Z"
   },
   {
    "duration": 41,
    "start_time": "2023-04-10T19:25:45.724Z"
   },
   {
    "duration": 4,
    "start_time": "2023-04-10T19:25:45.767Z"
   },
   {
    "duration": 915,
    "start_time": "2023-04-10T19:25:45.786Z"
   },
   {
    "duration": 45091,
    "start_time": "2023-04-10T19:25:46.705Z"
   },
   {
    "duration": 149,
    "start_time": "2023-04-10T19:26:31.886Z"
   },
   {
    "duration": 0,
    "start_time": "2023-04-10T19:26:32.037Z"
   },
   {
    "duration": 0,
    "start_time": "2023-04-10T19:26:32.038Z"
   },
   {
    "duration": 0,
    "start_time": "2023-04-10T19:26:32.040Z"
   },
   {
    "duration": 0,
    "start_time": "2023-04-10T19:26:32.042Z"
   },
   {
    "duration": 0,
    "start_time": "2023-04-10T19:26:32.043Z"
   },
   {
    "duration": 0,
    "start_time": "2023-04-10T19:26:32.044Z"
   },
   {
    "duration": 0,
    "start_time": "2023-04-10T19:26:32.046Z"
   },
   {
    "duration": 0,
    "start_time": "2023-04-10T19:26:32.047Z"
   },
   {
    "duration": 0,
    "start_time": "2023-04-10T19:26:32.048Z"
   },
   {
    "duration": 0,
    "start_time": "2023-04-10T19:26:32.050Z"
   },
   {
    "duration": 0,
    "start_time": "2023-04-10T19:26:32.051Z"
   },
   {
    "duration": 0,
    "start_time": "2023-04-10T19:26:32.052Z"
   },
   {
    "duration": 0,
    "start_time": "2023-04-10T19:26:32.086Z"
   },
   {
    "duration": 0,
    "start_time": "2023-04-10T19:26:32.087Z"
   },
   {
    "duration": 0,
    "start_time": "2023-04-10T19:26:32.088Z"
   },
   {
    "duration": 0,
    "start_time": "2023-04-10T19:26:32.091Z"
   },
   {
    "duration": 0,
    "start_time": "2023-04-10T19:26:32.092Z"
   },
   {
    "duration": 0,
    "start_time": "2023-04-10T19:26:32.094Z"
   },
   {
    "duration": 0,
    "start_time": "2023-04-10T19:26:32.095Z"
   },
   {
    "duration": 0,
    "start_time": "2023-04-10T19:26:32.097Z"
   },
   {
    "duration": 0,
    "start_time": "2023-04-10T19:26:32.098Z"
   },
   {
    "duration": 0,
    "start_time": "2023-04-10T19:26:32.099Z"
   },
   {
    "duration": 0,
    "start_time": "2023-04-10T19:26:32.101Z"
   },
   {
    "duration": 0,
    "start_time": "2023-04-10T19:26:32.102Z"
   },
   {
    "duration": 0,
    "start_time": "2023-04-10T19:26:32.104Z"
   },
   {
    "duration": 0,
    "start_time": "2023-04-10T19:26:32.105Z"
   },
   {
    "duration": 0,
    "start_time": "2023-04-10T19:26:32.106Z"
   },
   {
    "duration": 0,
    "start_time": "2023-04-10T19:26:32.108Z"
   },
   {
    "duration": 0,
    "start_time": "2023-04-10T19:26:32.109Z"
   },
   {
    "duration": 0,
    "start_time": "2023-04-10T19:26:32.110Z"
   },
   {
    "duration": 0,
    "start_time": "2023-04-10T19:26:32.112Z"
   },
   {
    "duration": 0,
    "start_time": "2023-04-10T19:26:32.113Z"
   },
   {
    "duration": 945,
    "start_time": "2023-04-10T19:30:18.000Z"
   },
   {
    "duration": 47055,
    "start_time": "2023-04-10T19:30:18.947Z"
   },
   {
    "duration": 100,
    "start_time": "2023-04-10T19:31:06.008Z"
   },
   {
    "duration": 49,
    "start_time": "2023-04-10T19:31:06.110Z"
   },
   {
    "duration": 238579,
    "start_time": "2023-04-10T19:31:06.161Z"
   },
   {
    "duration": 2295,
    "start_time": "2023-04-10T19:35:04.742Z"
   },
   {
    "duration": 42683,
    "start_time": "2023-04-10T19:35:07.040Z"
   },
   {
    "duration": 18,
    "start_time": "2023-04-10T19:35:49.725Z"
   },
   {
    "duration": 0,
    "start_time": "2023-04-10T19:35:49.745Z"
   },
   {
    "duration": 0,
    "start_time": "2023-04-10T19:35:49.746Z"
   },
   {
    "duration": 0,
    "start_time": "2023-04-10T19:35:49.747Z"
   },
   {
    "duration": 0,
    "start_time": "2023-04-10T19:35:49.748Z"
   },
   {
    "duration": 0,
    "start_time": "2023-04-10T19:35:49.749Z"
   },
   {
    "duration": 0,
    "start_time": "2023-04-10T19:35:49.750Z"
   },
   {
    "duration": 0,
    "start_time": "2023-04-10T19:35:49.752Z"
   },
   {
    "duration": 0,
    "start_time": "2023-04-10T19:35:49.754Z"
   },
   {
    "duration": 0,
    "start_time": "2023-04-10T19:35:49.755Z"
   },
   {
    "duration": 0,
    "start_time": "2023-04-10T19:35:49.756Z"
   },
   {
    "duration": 0,
    "start_time": "2023-04-10T19:35:49.785Z"
   },
   {
    "duration": 0,
    "start_time": "2023-04-10T19:35:49.786Z"
   },
   {
    "duration": 0,
    "start_time": "2023-04-10T19:35:49.788Z"
   },
   {
    "duration": 0,
    "start_time": "2023-04-10T19:35:49.789Z"
   },
   {
    "duration": 0,
    "start_time": "2023-04-10T19:35:49.790Z"
   },
   {
    "duration": 0,
    "start_time": "2023-04-10T19:35:49.791Z"
   },
   {
    "duration": 0,
    "start_time": "2023-04-10T19:35:49.792Z"
   },
   {
    "duration": 0,
    "start_time": "2023-04-10T19:35:49.793Z"
   },
   {
    "duration": 0,
    "start_time": "2023-04-10T19:35:49.793Z"
   },
   {
    "duration": 0,
    "start_time": "2023-04-10T19:35:49.794Z"
   },
   {
    "duration": 0,
    "start_time": "2023-04-10T19:35:49.795Z"
   },
   {
    "duration": 1,
    "start_time": "2023-04-10T19:35:49.796Z"
   },
   {
    "duration": 0,
    "start_time": "2023-04-10T19:35:49.798Z"
   },
   {
    "duration": 0,
    "start_time": "2023-04-10T19:35:49.799Z"
   },
   {
    "duration": 0,
    "start_time": "2023-04-10T19:35:49.800Z"
   },
   {
    "duration": 0,
    "start_time": "2023-04-10T19:35:49.802Z"
   },
   {
    "duration": 0,
    "start_time": "2023-04-10T19:35:49.804Z"
   },
   {
    "duration": 42689,
    "start_time": "2023-04-10T19:39:37.642Z"
   },
   {
    "duration": 96,
    "start_time": "2023-04-10T19:40:20.333Z"
   },
   {
    "duration": 195956,
    "start_time": "2023-04-10T19:40:20.431Z"
   },
   {
    "duration": 57,
    "start_time": "2023-04-10T19:43:36.391Z"
   },
   {
    "duration": 44,
    "start_time": "2023-04-10T19:43:36.449Z"
   },
   {
    "duration": 60,
    "start_time": "2023-04-10T19:43:36.495Z"
   },
   {
    "duration": 10,
    "start_time": "2023-04-10T19:43:36.556Z"
   },
   {
    "duration": 0,
    "start_time": "2023-04-10T19:43:36.568Z"
   },
   {
    "duration": 0,
    "start_time": "2023-04-10T19:43:36.569Z"
   },
   {
    "duration": 1,
    "start_time": "2023-04-10T19:43:36.570Z"
   },
   {
    "duration": 0,
    "start_time": "2023-04-10T19:43:36.572Z"
   },
   {
    "duration": 0,
    "start_time": "2023-04-10T19:43:36.573Z"
   },
   {
    "duration": 0,
    "start_time": "2023-04-10T19:43:36.575Z"
   },
   {
    "duration": 0,
    "start_time": "2023-04-10T19:43:36.576Z"
   },
   {
    "duration": 0,
    "start_time": "2023-04-10T19:43:36.578Z"
   },
   {
    "duration": 0,
    "start_time": "2023-04-10T19:43:36.579Z"
   },
   {
    "duration": 0,
    "start_time": "2023-04-10T19:43:36.580Z"
   },
   {
    "duration": 0,
    "start_time": "2023-04-10T19:43:36.582Z"
   },
   {
    "duration": 0,
    "start_time": "2023-04-10T19:43:36.583Z"
   },
   {
    "duration": 0,
    "start_time": "2023-04-10T19:43:36.585Z"
   },
   {
    "duration": 0,
    "start_time": "2023-04-10T19:43:36.586Z"
   },
   {
    "duration": 0,
    "start_time": "2023-04-10T19:43:36.588Z"
   },
   {
    "duration": 0,
    "start_time": "2023-04-10T19:43:36.589Z"
   },
   {
    "duration": 0,
    "start_time": "2023-04-10T19:43:36.591Z"
   },
   {
    "duration": 0,
    "start_time": "2023-04-10T19:43:36.596Z"
   },
   {
    "duration": 0,
    "start_time": "2023-04-10T19:43:36.603Z"
   },
   {
    "duration": 0,
    "start_time": "2023-04-10T19:43:36.605Z"
   },
   {
    "duration": 0,
    "start_time": "2023-04-10T19:43:36.606Z"
   },
   {
    "duration": 0,
    "start_time": "2023-04-10T19:43:36.607Z"
   },
   {
    "duration": 2157440,
    "start_time": "2023-04-10T19:56:27.988Z"
   },
   {
    "duration": 10306,
    "start_time": "2023-04-10T20:32:25.435Z"
   },
   {
    "duration": 53,
    "start_time": "2023-04-10T20:32:35.788Z"
   },
   {
    "duration": 974,
    "start_time": "2023-04-10T20:32:35.843Z"
   },
   {
    "duration": 43780,
    "start_time": "2023-04-10T20:32:36.819Z"
   },
   {
    "duration": 124,
    "start_time": "2023-04-10T20:33:20.602Z"
   },
   {
    "duration": 203891,
    "start_time": "2023-04-10T20:33:20.728Z"
   },
   {
    "duration": 2819,
    "start_time": "2023-04-10T20:36:44.621Z"
   },
   {
    "duration": 3,
    "start_time": "2023-04-10T20:36:47.443Z"
   },
   {
    "duration": 2768047,
    "start_time": "2023-04-10T20:36:47.448Z"
   },
   {
    "duration": 10433,
    "start_time": "2023-04-10T21:22:55.501Z"
   },
   {
    "duration": 10300,
    "start_time": "2023-04-10T21:23:05.936Z"
   },
   {
    "duration": 77,
    "start_time": "2023-04-10T21:23:16.238Z"
   },
   {
    "duration": 10,
    "start_time": "2023-04-10T21:23:16.318Z"
   },
   {
    "duration": 11,
    "start_time": "2023-04-10T21:23:16.329Z"
   },
   {
    "duration": 5,
    "start_time": "2023-04-10T21:23:16.342Z"
   },
   {
    "duration": 5071,
    "start_time": "2023-04-10T21:23:16.348Z"
   },
   {
    "duration": 1107,
    "start_time": "2023-04-10T21:23:21.421Z"
   },
   {
    "duration": 3,
    "start_time": "2023-04-10T21:23:22.530Z"
   },
   {
    "duration": 83,
    "start_time": "2023-04-10T21:23:22.535Z"
   },
   {
    "duration": 11,
    "start_time": "2023-04-10T21:23:22.620Z"
   },
   {
    "duration": 0,
    "start_time": "2023-04-10T21:23:22.632Z"
   },
   {
    "duration": 0,
    "start_time": "2023-04-10T21:23:22.634Z"
   },
   {
    "duration": 0,
    "start_time": "2023-04-10T21:23:22.635Z"
   },
   {
    "duration": 4,
    "start_time": "2023-04-10T21:27:25.314Z"
   },
   {
    "duration": 2598778,
    "start_time": "2023-04-10T21:27:25.321Z"
   },
   {
    "duration": 10506,
    "start_time": "2023-04-10T22:10:44.102Z"
   },
   {
    "duration": 39,
    "start_time": "2023-04-10T22:10:54.610Z"
   },
   {
    "duration": 45,
    "start_time": "2023-04-10T22:10:54.651Z"
   },
   {
    "duration": 10420,
    "start_time": "2023-04-10T22:10:54.698Z"
   },
   {
    "duration": 10517,
    "start_time": "2023-04-10T22:12:53.222Z"
   },
   {
    "duration": 2822,
    "start_time": "2023-04-11T05:59:38.552Z"
   },
   {
    "duration": 3507,
    "start_time": "2023-04-11T05:59:41.376Z"
   },
   {
    "duration": 97,
    "start_time": "2023-04-11T05:59:44.885Z"
   },
   {
    "duration": 17,
    "start_time": "2023-04-11T05:59:44.984Z"
   },
   {
    "duration": 26,
    "start_time": "2023-04-11T05:59:45.004Z"
   },
   {
    "duration": 202,
    "start_time": "2023-04-11T05:59:45.032Z"
   },
   {
    "duration": 3,
    "start_time": "2023-04-11T05:59:57.813Z"
   },
   {
    "duration": 607,
    "start_time": "2023-04-11T06:00:01.051Z"
   },
   {
    "duration": 2562,
    "start_time": "2023-04-11T06:00:01.803Z"
   },
   {
    "duration": 4,
    "start_time": "2023-04-11T06:01:07.893Z"
   },
   {
    "duration": 3,
    "start_time": "2023-04-11T06:01:18.781Z"
   },
   {
    "duration": 453,
    "start_time": "2023-04-11T06:01:20.360Z"
   },
   {
    "duration": 4,
    "start_time": "2023-04-11T06:02:57.797Z"
   },
   {
    "duration": 4,
    "start_time": "2023-04-11T06:03:06.833Z"
   },
   {
    "duration": 536,
    "start_time": "2023-04-11T06:03:39.173Z"
   },
   {
    "duration": 1581,
    "start_time": "2023-04-11T06:04:32.359Z"
   },
   {
    "duration": 9,
    "start_time": "2023-04-11T06:04:49.481Z"
   },
   {
    "duration": 5,
    "start_time": "2023-04-11T06:05:18.373Z"
   },
   {
    "duration": 4,
    "start_time": "2023-04-11T06:05:19.175Z"
   },
   {
    "duration": 3,
    "start_time": "2023-04-11T06:05:20.634Z"
   },
   {
    "duration": 2761,
    "start_time": "2023-04-11T06:06:23.325Z"
   },
   {
    "duration": 831,
    "start_time": "2023-04-11T06:06:26.089Z"
   },
   {
    "duration": 97,
    "start_time": "2023-04-11T06:06:26.922Z"
   },
   {
    "duration": 17,
    "start_time": "2023-04-11T06:06:27.021Z"
   },
   {
    "duration": 21,
    "start_time": "2023-04-11T06:06:27.040Z"
   },
   {
    "duration": 274,
    "start_time": "2023-04-11T06:06:27.063Z"
   },
   {
    "duration": 5,
    "start_time": "2023-04-11T06:06:27.339Z"
   },
   {
    "duration": 5,
    "start_time": "2023-04-11T06:06:27.345Z"
   },
   {
    "duration": 1401,
    "start_time": "2023-04-11T06:06:27.352Z"
   },
   {
    "duration": 135,
    "start_time": "2023-04-11T06:06:49.727Z"
   },
   {
    "duration": 4,
    "start_time": "2023-04-11T06:06:57.690Z"
   },
   {
    "duration": 8,
    "start_time": "2023-04-11T06:06:58.934Z"
   },
   {
    "duration": 2,
    "start_time": "2023-04-11T06:07:26.247Z"
   },
   {
    "duration": 7,
    "start_time": "2023-04-11T06:07:28.959Z"
   },
   {
    "duration": 5,
    "start_time": "2023-04-11T06:07:29.760Z"
   },
   {
    "duration": 2825,
    "start_time": "2023-04-11T06:10:17.608Z"
   },
   {
    "duration": 822,
    "start_time": "2023-04-11T06:10:20.435Z"
   },
   {
    "duration": 97,
    "start_time": "2023-04-11T06:10:21.259Z"
   },
   {
    "duration": 24,
    "start_time": "2023-04-11T06:10:21.358Z"
   },
   {
    "duration": 31,
    "start_time": "2023-04-11T06:10:21.384Z"
   },
   {
    "duration": 259,
    "start_time": "2023-04-11T06:10:21.417Z"
   },
   {
    "duration": 4,
    "start_time": "2023-04-11T06:10:21.678Z"
   },
   {
    "duration": 24,
    "start_time": "2023-04-11T06:10:21.683Z"
   },
   {
    "duration": 19497,
    "start_time": "2023-04-11T06:10:21.709Z"
   },
   {
    "duration": 0,
    "start_time": "2023-04-11T06:10:41.208Z"
   },
   {
    "duration": 0,
    "start_time": "2023-04-11T06:10:41.211Z"
   },
   {
    "duration": 0,
    "start_time": "2023-04-11T06:10:41.212Z"
   },
   {
    "duration": 0,
    "start_time": "2023-04-11T06:10:41.214Z"
   },
   {
    "duration": 0,
    "start_time": "2023-04-11T06:10:41.217Z"
   },
   {
    "duration": 0,
    "start_time": "2023-04-11T06:10:41.218Z"
   },
   {
    "duration": 128499,
    "start_time": "2023-04-11T06:10:43.247Z"
   },
   {
    "duration": 12,
    "start_time": "2023-04-11T06:12:56.893Z"
   },
   {
    "duration": 12,
    "start_time": "2023-04-11T06:13:14.567Z"
   },
   {
    "duration": 3,
    "start_time": "2023-04-11T06:13:42.551Z"
   },
   {
    "duration": 2824,
    "start_time": "2023-04-11T06:13:43.766Z"
   },
   {
    "duration": 14,
    "start_time": "2023-04-11T06:14:03.823Z"
   },
   {
    "duration": 135,
    "start_time": "2023-04-11T06:14:38.494Z"
   },
   {
    "duration": 129,
    "start_time": "2023-04-11T06:14:59.258Z"
   },
   {
    "duration": 136,
    "start_time": "2023-04-11T06:15:16.367Z"
   },
   {
    "duration": 4,
    "start_time": "2023-04-11T06:16:27.747Z"
   },
   {
    "duration": 2957,
    "start_time": "2023-04-11T06:16:28.839Z"
   },
   {
    "duration": 12,
    "start_time": "2023-04-11T06:16:32.562Z"
   },
   {
    "duration": 3,
    "start_time": "2023-04-11T06:17:06.249Z"
   },
   {
    "duration": 3,
    "start_time": "2023-04-11T06:17:07.279Z"
   },
   {
    "duration": 56,
    "start_time": "2023-04-11T06:17:07.888Z"
   },
   {
    "duration": 3311,
    "start_time": "2023-04-11T06:17:09.160Z"
   },
   {
    "duration": 4,
    "start_time": "2023-04-11T06:17:12.473Z"
   },
   {
    "duration": 172,
    "start_time": "2023-04-11T06:17:14.387Z"
   },
   {
    "duration": 2132,
    "start_time": "2023-04-11T09:54:24.007Z"
   },
   {
    "duration": 2209,
    "start_time": "2023-04-11T09:54:26.141Z"
   },
   {
    "duration": 71,
    "start_time": "2023-04-11T09:54:28.351Z"
   },
   {
    "duration": 8,
    "start_time": "2023-04-11T09:54:28.424Z"
   },
   {
    "duration": 16,
    "start_time": "2023-04-11T09:54:28.434Z"
   },
   {
    "duration": 229,
    "start_time": "2023-04-11T09:54:28.452Z"
   },
   {
    "duration": 5,
    "start_time": "2023-04-11T09:54:38.815Z"
   },
   {
    "duration": 4,
    "start_time": "2023-04-11T09:54:44.128Z"
   },
   {
    "duration": 165,
    "start_time": "2023-04-11T09:56:55.603Z"
   },
   {
    "duration": 1369,
    "start_time": "2023-04-11T09:57:40.775Z"
   },
   {
    "duration": 1357,
    "start_time": "2023-04-11T09:57:59.857Z"
   },
   {
    "duration": 13,
    "start_time": "2023-04-11T09:58:09.928Z"
   },
   {
    "duration": 1805,
    "start_time": "2023-04-11T09:58:41.519Z"
   },
   {
    "duration": 3,
    "start_time": "2023-04-11T09:58:53.027Z"
   },
   {
    "duration": 36,
    "start_time": "2023-04-11T09:59:03.609Z"
   },
   {
    "duration": 3,
    "start_time": "2023-04-11T10:03:37.491Z"
   },
   {
    "duration": 16,
    "start_time": "2023-04-11T10:03:52.469Z"
   },
   {
    "duration": 1842,
    "start_time": "2023-04-11T10:04:14.955Z"
   },
   {
    "duration": 818,
    "start_time": "2023-04-11T10:04:16.799Z"
   },
   {
    "duration": 86,
    "start_time": "2023-04-11T10:04:17.619Z"
   },
   {
    "duration": 10,
    "start_time": "2023-04-11T10:04:17.707Z"
   },
   {
    "duration": 22,
    "start_time": "2023-04-11T10:04:17.719Z"
   },
   {
    "duration": 258,
    "start_time": "2023-04-11T10:04:17.743Z"
   },
   {
    "duration": 6,
    "start_time": "2023-04-11T10:04:18.005Z"
   },
   {
    "duration": 6,
    "start_time": "2023-04-11T10:04:18.014Z"
   },
   {
    "duration": 13,
    "start_time": "2023-04-11T10:04:18.023Z"
   },
   {
    "duration": 141,
    "start_time": "2023-04-11T10:04:18.038Z"
   },
   {
    "duration": 466,
    "start_time": "2023-04-11T10:04:52.472Z"
   },
   {
    "duration": 113,
    "start_time": "2023-04-11T10:05:04.246Z"
   },
   {
    "duration": 3,
    "start_time": "2023-04-11T10:06:43.290Z"
   },
   {
    "duration": 5,
    "start_time": "2023-04-11T10:06:46.432Z"
   },
   {
    "duration": 3,
    "start_time": "2023-04-11T10:07:11.157Z"
   },
   {
    "duration": 5,
    "start_time": "2023-04-11T10:07:14.887Z"
   },
   {
    "duration": 80,
    "start_time": "2023-04-11T10:08:54.456Z"
   },
   {
    "duration": 10,
    "start_time": "2023-04-11T10:22:41.469Z"
   },
   {
    "duration": 4,
    "start_time": "2023-04-11T10:23:00.795Z"
   },
   {
    "duration": 11,
    "start_time": "2023-04-11T10:23:09.060Z"
   },
   {
    "duration": 10,
    "start_time": "2023-04-11T10:23:11.966Z"
   },
   {
    "duration": 3,
    "start_time": "2023-04-11T10:28:36.932Z"
   },
   {
    "duration": 12,
    "start_time": "2023-04-11T10:28:42.150Z"
   },
   {
    "duration": 9,
    "start_time": "2023-04-11T10:28:47.459Z"
   },
   {
    "duration": 3,
    "start_time": "2023-04-11T10:28:50.701Z"
   },
   {
    "duration": 4,
    "start_time": "2023-04-11T10:29:01.757Z"
   },
   {
    "duration": 3359,
    "start_time": "2023-04-11T10:32:56.271Z"
   },
   {
    "duration": 18,
    "start_time": "2023-04-11T10:33:05.972Z"
   },
   {
    "duration": 5,
    "start_time": "2023-04-11T10:38:22.621Z"
   },
   {
    "duration": 5,
    "start_time": "2023-04-11T10:38:26.230Z"
   },
   {
    "duration": 337,
    "start_time": "2023-04-11T10:38:31.156Z"
   },
   {
    "duration": 640,
    "start_time": "2023-04-11T10:38:44.456Z"
   },
   {
    "duration": 5,
    "start_time": "2023-04-11T10:40:48.167Z"
   },
   {
    "duration": 4,
    "start_time": "2023-04-11T10:40:56.628Z"
   },
   {
    "duration": 4,
    "start_time": "2023-04-11T10:41:00.045Z"
   },
   {
    "duration": 518217,
    "start_time": "2023-04-11T10:41:02.494Z"
   },
   {
    "duration": 13,
    "start_time": "2023-04-11T10:49:40.713Z"
   },
   {
    "duration": 3,
    "start_time": "2023-04-11T10:51:04.451Z"
   },
   {
    "duration": 3076,
    "start_time": "2023-04-11T10:51:04.456Z"
   },
   {
    "duration": 10,
    "start_time": "2023-04-11T10:51:07.534Z"
   },
   {
    "duration": 109,
    "start_time": "2023-04-11T10:51:07.546Z"
   },
   {
    "duration": 3,
    "start_time": "2023-04-11T10:51:07.657Z"
   },
   {
    "duration": 6,
    "start_time": "2023-04-11T10:51:07.661Z"
   },
   {
    "duration": 62,
    "start_time": "2023-04-11T10:51:07.671Z"
   },
   {
    "duration": 0,
    "start_time": "2023-04-11T10:51:07.736Z"
   },
   {
    "duration": 0,
    "start_time": "2023-04-11T10:51:07.737Z"
   },
   {
    "duration": 0,
    "start_time": "2023-04-11T10:51:07.738Z"
   },
   {
    "duration": 0,
    "start_time": "2023-04-11T10:51:07.739Z"
   },
   {
    "duration": 0,
    "start_time": "2023-04-11T10:51:07.740Z"
   },
   {
    "duration": 0,
    "start_time": "2023-04-11T10:51:07.741Z"
   },
   {
    "duration": 0,
    "start_time": "2023-04-11T10:51:07.742Z"
   },
   {
    "duration": 0,
    "start_time": "2023-04-11T10:51:07.743Z"
   },
   {
    "duration": 0,
    "start_time": "2023-04-11T10:51:07.744Z"
   },
   {
    "duration": 0,
    "start_time": "2023-04-11T10:51:07.745Z"
   },
   {
    "duration": 1,
    "start_time": "2023-04-11T10:51:07.745Z"
   },
   {
    "duration": 0,
    "start_time": "2023-04-11T10:51:07.746Z"
   },
   {
    "duration": 0,
    "start_time": "2023-04-11T10:51:07.747Z"
   },
   {
    "duration": 0,
    "start_time": "2023-04-11T10:51:07.748Z"
   },
   {
    "duration": 0,
    "start_time": "2023-04-11T10:51:07.749Z"
   },
   {
    "duration": 0,
    "start_time": "2023-04-11T10:51:07.750Z"
   },
   {
    "duration": 0,
    "start_time": "2023-04-11T10:51:07.751Z"
   },
   {
    "duration": 0,
    "start_time": "2023-04-11T10:51:07.752Z"
   },
   {
    "duration": 0,
    "start_time": "2023-04-11T10:51:07.752Z"
   },
   {
    "duration": 0,
    "start_time": "2023-04-11T10:51:07.753Z"
   },
   {
    "duration": 0,
    "start_time": "2023-04-11T10:51:07.755Z"
   },
   {
    "duration": 0,
    "start_time": "2023-04-11T10:51:07.756Z"
   },
   {
    "duration": 0,
    "start_time": "2023-04-11T10:51:07.757Z"
   },
   {
    "duration": 0,
    "start_time": "2023-04-11T10:51:07.758Z"
   },
   {
    "duration": 0,
    "start_time": "2023-04-11T10:51:07.759Z"
   },
   {
    "duration": 0,
    "start_time": "2023-04-11T10:51:07.761Z"
   },
   {
    "duration": 0,
    "start_time": "2023-04-11T10:51:07.762Z"
   },
   {
    "duration": 0,
    "start_time": "2023-04-11T10:51:07.763Z"
   },
   {
    "duration": 0,
    "start_time": "2023-04-11T10:51:07.763Z"
   },
   {
    "duration": 0,
    "start_time": "2023-04-11T10:51:07.765Z"
   },
   {
    "duration": 0,
    "start_time": "2023-04-11T10:51:07.766Z"
   },
   {
    "duration": 0,
    "start_time": "2023-04-11T10:51:07.766Z"
   },
   {
    "duration": 0,
    "start_time": "2023-04-11T10:51:07.779Z"
   },
   {
    "duration": 0,
    "start_time": "2023-04-11T10:51:07.781Z"
   },
   {
    "duration": 0,
    "start_time": "2023-04-11T10:51:07.783Z"
   },
   {
    "duration": 0,
    "start_time": "2023-04-11T10:51:07.784Z"
   },
   {
    "duration": 0,
    "start_time": "2023-04-11T10:51:07.785Z"
   },
   {
    "duration": 0,
    "start_time": "2023-04-11T10:51:07.787Z"
   },
   {
    "duration": 0,
    "start_time": "2023-04-11T10:51:07.788Z"
   },
   {
    "duration": 0,
    "start_time": "2023-04-11T10:51:07.789Z"
   },
   {
    "duration": 0,
    "start_time": "2023-04-11T10:51:07.790Z"
   },
   {
    "duration": 0,
    "start_time": "2023-04-11T10:51:07.792Z"
   },
   {
    "duration": 3,
    "start_time": "2023-04-11T10:52:43.605Z"
   },
   {
    "duration": 81,
    "start_time": "2023-04-11T10:52:43.610Z"
   },
   {
    "duration": 0,
    "start_time": "2023-04-11T10:52:43.692Z"
   },
   {
    "duration": 0,
    "start_time": "2023-04-11T10:52:43.694Z"
   },
   {
    "duration": 16,
    "start_time": "2023-04-11T10:52:43.742Z"
   },
   {
    "duration": 0,
    "start_time": "2023-04-11T10:52:43.760Z"
   },
   {
    "duration": 0,
    "start_time": "2023-04-11T10:52:43.761Z"
   },
   {
    "duration": 0,
    "start_time": "2023-04-11T10:52:43.762Z"
   },
   {
    "duration": 0,
    "start_time": "2023-04-11T10:52:43.763Z"
   },
   {
    "duration": 0,
    "start_time": "2023-04-11T10:52:43.764Z"
   },
   {
    "duration": 0,
    "start_time": "2023-04-11T10:52:43.765Z"
   },
   {
    "duration": 0,
    "start_time": "2023-04-11T10:52:43.766Z"
   },
   {
    "duration": 0,
    "start_time": "2023-04-11T10:52:43.767Z"
   },
   {
    "duration": 0,
    "start_time": "2023-04-11T10:52:43.768Z"
   },
   {
    "duration": 30,
    "start_time": "2023-04-11T10:52:43.771Z"
   },
   {
    "duration": 0,
    "start_time": "2023-04-11T10:52:43.803Z"
   },
   {
    "duration": 0,
    "start_time": "2023-04-11T10:52:43.803Z"
   },
   {
    "duration": 0,
    "start_time": "2023-04-11T10:52:43.805Z"
   },
   {
    "duration": 1,
    "start_time": "2023-04-11T10:52:43.805Z"
   },
   {
    "duration": 0,
    "start_time": "2023-04-11T10:52:43.807Z"
   },
   {
    "duration": 0,
    "start_time": "2023-04-11T10:52:43.808Z"
   },
   {
    "duration": 0,
    "start_time": "2023-04-11T10:52:43.809Z"
   },
   {
    "duration": 0,
    "start_time": "2023-04-11T10:52:43.812Z"
   },
   {
    "duration": 0,
    "start_time": "2023-04-11T10:52:43.813Z"
   },
   {
    "duration": 0,
    "start_time": "2023-04-11T10:52:43.814Z"
   },
   {
    "duration": 0,
    "start_time": "2023-04-11T10:52:43.815Z"
   },
   {
    "duration": 0,
    "start_time": "2023-04-11T10:52:43.816Z"
   },
   {
    "duration": 0,
    "start_time": "2023-04-11T10:52:43.817Z"
   },
   {
    "duration": 0,
    "start_time": "2023-04-11T10:52:43.818Z"
   },
   {
    "duration": 0,
    "start_time": "2023-04-11T10:52:43.818Z"
   },
   {
    "duration": 0,
    "start_time": "2023-04-11T10:52:43.819Z"
   },
   {
    "duration": 0,
    "start_time": "2023-04-11T10:52:43.820Z"
   },
   {
    "duration": 0,
    "start_time": "2023-04-11T10:52:43.821Z"
   },
   {
    "duration": 0,
    "start_time": "2023-04-11T10:52:43.822Z"
   },
   {
    "duration": 0,
    "start_time": "2023-04-11T10:52:43.824Z"
   },
   {
    "duration": 0,
    "start_time": "2023-04-11T10:52:43.825Z"
   },
   {
    "duration": 0,
    "start_time": "2023-04-11T10:52:43.826Z"
   },
   {
    "duration": 0,
    "start_time": "2023-04-11T10:52:43.828Z"
   },
   {
    "duration": 0,
    "start_time": "2023-04-11T10:52:43.829Z"
   },
   {
    "duration": 0,
    "start_time": "2023-04-11T10:52:43.874Z"
   },
   {
    "duration": 171,
    "start_time": "2023-04-11T10:52:43.880Z"
   },
   {
    "duration": 15,
    "start_time": "2023-04-11T10:52:44.053Z"
   },
   {
    "duration": 0,
    "start_time": "2023-04-11T10:52:44.070Z"
   },
   {
    "duration": 0,
    "start_time": "2023-04-11T10:52:44.077Z"
   },
   {
    "duration": 143,
    "start_time": "2023-04-11T10:54:26.185Z"
   },
   {
    "duration": 3095,
    "start_time": "2023-04-11T10:54:29.936Z"
   },
   {
    "duration": 5,
    "start_time": "2023-04-11T10:54:33.033Z"
   },
   {
    "duration": 146,
    "start_time": "2023-04-11T10:54:33.040Z"
   },
   {
    "duration": 33,
    "start_time": "2023-04-11T10:54:33.201Z"
   },
   {
    "duration": 3275,
    "start_time": "2023-04-11T10:54:33.237Z"
   },
   {
    "duration": 8,
    "start_time": "2023-04-11T10:54:36.518Z"
   },
   {
    "duration": 56,
    "start_time": "2023-04-11T10:54:36.529Z"
   },
   {
    "duration": 4,
    "start_time": "2023-04-11T10:54:36.595Z"
   },
   {
    "duration": 939,
    "start_time": "2023-04-11T10:54:36.600Z"
   },
   {
    "duration": 45577,
    "start_time": "2023-04-11T10:54:37.540Z"
   },
   {
    "duration": 25,
    "start_time": "2023-04-11T10:55:23.119Z"
   },
   {
    "duration": 71,
    "start_time": "2023-04-11T10:55:23.145Z"
   },
   {
    "duration": 200915,
    "start_time": "2023-04-11T10:55:23.218Z"
   },
   {
    "duration": 2231,
    "start_time": "2023-04-11T10:58:44.137Z"
   },
   {
    "duration": 39476,
    "start_time": "2023-04-11T10:58:46.371Z"
   },
   {
    "duration": 69,
    "start_time": "2023-04-11T10:59:25.849Z"
   },
   {
    "duration": 193557,
    "start_time": "2023-04-11T10:59:25.920Z"
   },
   {
    "duration": 47,
    "start_time": "2023-04-11T11:02:39.486Z"
   },
   {
    "duration": 10,
    "start_time": "2023-04-11T11:02:39.534Z"
   },
   {
    "duration": 4280,
    "start_time": "2023-04-11T11:23:10.367Z"
   },
   {
    "duration": 854,
    "start_time": "2023-04-11T11:23:14.649Z"
   },
   {
    "duration": 16,
    "start_time": "2023-04-11T11:23:15.504Z"
   },
   {
    "duration": 20,
    "start_time": "2023-04-11T11:23:15.521Z"
   },
   {
    "duration": 42,
    "start_time": "2023-04-11T11:23:15.543Z"
   },
   {
    "duration": 245,
    "start_time": "2023-04-11T11:23:15.586Z"
   },
   {
    "duration": 4,
    "start_time": "2023-04-11T11:23:15.833Z"
   },
   {
    "duration": 12,
    "start_time": "2023-04-11T11:23:15.839Z"
   },
   {
    "duration": 17,
    "start_time": "2023-04-11T11:23:15.853Z"
   },
   {
    "duration": 141,
    "start_time": "2023-04-11T11:23:15.875Z"
   },
   {
    "duration": 4,
    "start_time": "2023-04-11T11:23:16.018Z"
   },
   {
    "duration": 10,
    "start_time": "2023-04-11T11:23:16.024Z"
   },
   {
    "duration": 13,
    "start_time": "2023-04-11T11:23:16.036Z"
   },
   {
    "duration": 462059,
    "start_time": "2023-04-11T11:23:16.053Z"
   },
   {
    "duration": 11,
    "start_time": "2023-04-11T11:30:58.114Z"
   },
   {
    "duration": 27,
    "start_time": "2023-04-11T11:30:58.126Z"
   },
   {
    "duration": 3079,
    "start_time": "2023-04-11T11:30:58.154Z"
   },
   {
    "duration": 13,
    "start_time": "2023-04-11T11:31:01.235Z"
   },
   {
    "duration": 240,
    "start_time": "2023-04-11T11:31:01.250Z"
   },
   {
    "duration": 3,
    "start_time": "2023-04-11T11:31:01.492Z"
   },
   {
    "duration": 93,
    "start_time": "2023-04-11T11:31:01.498Z"
   },
   {
    "duration": 234,
    "start_time": "2023-04-11T11:31:01.593Z"
   },
   {
    "duration": 2926,
    "start_time": "2023-04-11T11:31:01.829Z"
   },
   {
    "duration": 4,
    "start_time": "2023-04-11T11:31:04.757Z"
   },
   {
    "duration": 167,
    "start_time": "2023-04-11T11:31:04.776Z"
   },
   {
    "duration": 4,
    "start_time": "2023-04-11T11:31:04.944Z"
   },
   {
    "duration": 3281,
    "start_time": "2023-04-11T11:31:04.950Z"
   },
   {
    "duration": 4,
    "start_time": "2023-04-11T11:31:08.233Z"
   },
   {
    "duration": 56,
    "start_time": "2023-04-11T11:31:08.240Z"
   },
   {
    "duration": 6,
    "start_time": "2023-04-11T11:31:08.299Z"
   },
   {
    "duration": 907,
    "start_time": "2023-04-11T11:31:08.307Z"
   },
   {
    "duration": 43882,
    "start_time": "2023-04-11T11:31:09.216Z"
   },
   {
    "duration": 91,
    "start_time": "2023-04-11T11:31:53.100Z"
   },
   {
    "duration": 62,
    "start_time": "2023-04-11T11:31:53.194Z"
   },
   {
    "duration": 195115,
    "start_time": "2023-04-11T11:31:53.257Z"
   },
   {
    "duration": 2161,
    "start_time": "2023-04-11T11:35:08.373Z"
   },
   {
    "duration": 38474,
    "start_time": "2023-04-11T11:35:10.535Z"
   },
   {
    "duration": 51,
    "start_time": "2023-04-11T11:35:49.010Z"
   },
   {
    "duration": 171709,
    "start_time": "2023-04-11T11:35:49.076Z"
   },
   {
    "duration": 129,
    "start_time": "2023-04-11T11:38:40.794Z"
   },
   {
    "duration": 9,
    "start_time": "2023-04-11T11:38:40.927Z"
   },
   {
    "duration": 5354965,
    "start_time": "2023-04-11T11:38:40.938Z"
   },
   {
    "duration": 8230,
    "start_time": "2023-04-11T13:07:55.975Z"
   },
   {
    "duration": 44,
    "start_time": "2023-04-11T13:08:04.272Z"
   },
   {
    "duration": 877,
    "start_time": "2023-04-11T13:08:04.317Z"
   },
   {
    "duration": 33384,
    "start_time": "2023-04-11T13:08:05.196Z"
   },
   {
    "duration": 124,
    "start_time": "2023-04-11T13:08:38.584Z"
   },
   {
    "duration": 153140,
    "start_time": "2023-04-11T13:08:38.710Z"
   },
   {
    "duration": 2236,
    "start_time": "2023-04-11T13:11:11.852Z"
   },
   {
    "duration": 3,
    "start_time": "2023-04-11T13:11:14.089Z"
   },
   {
    "duration": 4578,
    "start_time": "2023-04-11T13:18:23.523Z"
   },
   {
    "duration": 1085,
    "start_time": "2023-04-11T13:18:28.103Z"
   },
   {
    "duration": 14,
    "start_time": "2023-04-11T13:18:29.195Z"
   },
   {
    "duration": 73,
    "start_time": "2023-04-11T13:18:29.211Z"
   },
   {
    "duration": 18,
    "start_time": "2023-04-11T13:18:29.286Z"
   },
   {
    "duration": 284,
    "start_time": "2023-04-11T13:18:29.305Z"
   },
   {
    "duration": 4,
    "start_time": "2023-04-11T13:18:29.591Z"
   },
   {
    "duration": 23,
    "start_time": "2023-04-11T13:18:29.596Z"
   },
   {
    "duration": 14,
    "start_time": "2023-04-11T13:18:29.620Z"
   },
   {
    "duration": 257,
    "start_time": "2023-04-11T13:18:29.636Z"
   },
   {
    "duration": 3,
    "start_time": "2023-04-11T13:18:29.895Z"
   },
   {
    "duration": 13,
    "start_time": "2023-04-11T13:18:29.900Z"
   },
   {
    "duration": 12,
    "start_time": "2023-04-11T13:18:29.914Z"
   },
   {
    "duration": 50,
    "start_time": "2023-04-11T13:18:29.927Z"
   },
   {
    "duration": 436285,
    "start_time": "2023-04-11T13:18:29.978Z"
   },
   {
    "duration": 21,
    "start_time": "2023-04-11T13:25:46.264Z"
   },
   {
    "duration": 534,
    "start_time": "2023-04-11T13:25:46.287Z"
   },
   {
    "duration": 507,
    "start_time": "2023-04-11T13:25:46.829Z"
   },
   {
    "duration": 0,
    "start_time": "2023-04-11T13:25:47.338Z"
   },
   {
    "duration": 0,
    "start_time": "2023-04-11T13:25:47.339Z"
   },
   {
    "duration": 0,
    "start_time": "2023-04-11T13:25:47.340Z"
   },
   {
    "duration": 0,
    "start_time": "2023-04-11T13:25:47.341Z"
   },
   {
    "duration": 0,
    "start_time": "2023-04-11T13:25:47.342Z"
   },
   {
    "duration": 0,
    "start_time": "2023-04-11T13:25:47.343Z"
   },
   {
    "duration": 0,
    "start_time": "2023-04-11T13:25:47.344Z"
   },
   {
    "duration": 0,
    "start_time": "2023-04-11T13:25:47.344Z"
   },
   {
    "duration": 0,
    "start_time": "2023-04-11T13:25:47.345Z"
   },
   {
    "duration": 0,
    "start_time": "2023-04-11T13:25:47.346Z"
   },
   {
    "duration": 0,
    "start_time": "2023-04-11T13:25:47.347Z"
   },
   {
    "duration": 0,
    "start_time": "2023-04-11T13:25:47.348Z"
   },
   {
    "duration": 0,
    "start_time": "2023-04-11T13:25:47.349Z"
   },
   {
    "duration": 0,
    "start_time": "2023-04-11T13:25:47.349Z"
   },
   {
    "duration": 0,
    "start_time": "2023-04-11T13:25:47.376Z"
   },
   {
    "duration": 17,
    "start_time": "2023-04-11T13:29:15.569Z"
   },
   {
    "duration": 29,
    "start_time": "2023-04-11T13:29:18.799Z"
   },
   {
    "duration": 4,
    "start_time": "2023-04-11T13:29:30.767Z"
   },
   {
    "duration": 416,
    "start_time": "2023-04-11T13:29:54.346Z"
   },
   {
    "duration": 69,
    "start_time": "2023-04-11T13:30:59.755Z"
   },
   {
    "duration": 457,
    "start_time": "2023-04-11T13:31:11.659Z"
   },
   {
    "duration": 3,
    "start_time": "2023-04-11T13:32:53.855Z"
   },
   {
    "duration": 2231081,
    "start_time": "2023-04-11T13:32:55.738Z"
   },
   {
    "duration": 5,
    "start_time": "2023-04-11T14:10:06.820Z"
   },
   {
    "duration": 245,
    "start_time": "2023-04-11T14:10:45.298Z"
   },
   {
    "duration": 4,
    "start_time": "2023-04-11T14:10:55.464Z"
   },
   {
    "duration": 3306,
    "start_time": "2023-04-11T14:10:57.506Z"
   },
   {
    "duration": 16,
    "start_time": "2023-04-11T14:11:00.814Z"
   },
   {
    "duration": 3638,
    "start_time": "2023-04-11T14:11:39.289Z"
   },
   {
    "duration": 4,
    "start_time": "2023-04-11T14:12:10.617Z"
   },
   {
    "duration": 3,
    "start_time": "2023-04-11T14:14:00.509Z"
   },
   {
    "duration": 3,
    "start_time": "2023-04-11T14:14:03.166Z"
   },
   {
    "duration": 115,
    "start_time": "2023-04-11T14:14:07.738Z"
   },
   {
    "duration": 127,
    "start_time": "2023-04-11T14:14:11.968Z"
   },
   {
    "duration": 2898,
    "start_time": "2023-04-11T14:14:15.470Z"
   },
   {
    "duration": 27,
    "start_time": "2023-04-11T14:14:18.370Z"
   },
   {
    "duration": 139,
    "start_time": "2023-04-11T14:14:18.400Z"
   },
   {
    "duration": 5,
    "start_time": "2023-04-11T14:14:21.923Z"
   },
   {
    "duration": 2976,
    "start_time": "2023-04-11T14:14:24.336Z"
   },
   {
    "duration": 3,
    "start_time": "2023-04-11T14:14:27.314Z"
   },
   {
    "duration": 32,
    "start_time": "2023-04-11T14:14:27.319Z"
   },
   {
    "duration": 4773,
    "start_time": "2023-04-11T14:15:30.367Z"
   },
   {
    "duration": 9,
    "start_time": "2023-04-11T14:16:02.885Z"
   },
   {
    "duration": 3,
    "start_time": "2023-04-11T14:16:55.602Z"
   },
   {
    "duration": 17,
    "start_time": "2023-04-11T14:16:59.230Z"
   },
   {
    "duration": 105,
    "start_time": "2023-04-11T14:17:37.332Z"
   },
   {
    "duration": 3,
    "start_time": "2023-04-11T14:17:43.759Z"
   },
   {
    "duration": 1257,
    "start_time": "2023-04-11T14:17:47.987Z"
   },
   {
    "duration": 42699,
    "start_time": "2023-04-11T14:19:01.382Z"
   },
   {
    "duration": 110,
    "start_time": "2023-04-11T14:19:44.083Z"
   },
   {
    "duration": 3,
    "start_time": "2023-04-11T14:20:41.442Z"
   },
   {
    "duration": 2744,
    "start_time": "2023-04-11T14:21:24.146Z"
   },
   {
    "duration": 2926,
    "start_time": "2023-04-11T14:21:55.007Z"
   },
   {
    "duration": 4,
    "start_time": "2023-04-11T14:22:00.300Z"
   },
   {
    "duration": 1336,
    "start_time": "2023-04-11T14:22:14.554Z"
   },
   {
    "duration": 3,
    "start_time": "2023-04-11T14:22:18.753Z"
   },
   {
    "duration": 43162,
    "start_time": "2023-04-11T14:22:24.517Z"
   },
   {
    "duration": 66,
    "start_time": "2023-04-11T14:23:07.681Z"
   },
   {
    "duration": 4410,
    "start_time": "2023-04-11T14:24:47.512Z"
   },
   {
    "duration": 4,
    "start_time": "2023-04-11T14:24:59.265Z"
   },
   {
    "duration": 3,
    "start_time": "2023-04-11T14:25:01.792Z"
   },
   {
    "duration": 1528,
    "start_time": "2023-04-11T14:25:04.055Z"
   },
   {
    "duration": 5,
    "start_time": "2023-04-11T14:25:06.260Z"
   },
   {
    "duration": 48598,
    "start_time": "2023-04-11T14:25:08.904Z"
   },
   {
    "duration": 31,
    "start_time": "2023-04-11T14:25:57.575Z"
   },
   {
    "duration": 5743,
    "start_time": "2023-04-11T14:26:32.198Z"
   },
   {
    "duration": 5,
    "start_time": "2023-04-11T14:26:44.659Z"
   },
   {
    "duration": 102,
    "start_time": "2023-04-11T14:26:47.716Z"
   },
   {
    "duration": 4,
    "start_time": "2023-04-11T14:26:51.065Z"
   },
   {
    "duration": 10,
    "start_time": "2023-04-11T14:26:53.807Z"
   },
   {
    "duration": 170,
    "start_time": "2023-04-11T14:26:55.102Z"
   },
   {
    "duration": 152,
    "start_time": "2023-04-11T14:27:19.544Z"
   },
   {
    "duration": 3592,
    "start_time": "2023-04-11T14:27:24.426Z"
   },
   {
    "duration": 5,
    "start_time": "2023-04-11T14:27:28.020Z"
   },
   {
    "duration": 201,
    "start_time": "2023-04-11T14:27:30.622Z"
   },
   {
    "duration": 23,
    "start_time": "2023-04-11T14:27:35.991Z"
   },
   {
    "duration": 3328,
    "start_time": "2023-04-11T14:27:39.740Z"
   },
   {
    "duration": 17,
    "start_time": "2023-04-11T14:27:43.071Z"
   },
   {
    "duration": 106,
    "start_time": "2023-04-11T14:27:43.090Z"
   },
   {
    "duration": 4919,
    "start_time": "2023-04-11T14:27:46.762Z"
   },
   {
    "duration": 5,
    "start_time": "2023-04-11T14:27:53.531Z"
   },
   {
    "duration": 131,
    "start_time": "2023-04-11T14:28:03.790Z"
   },
   {
    "duration": 4,
    "start_time": "2023-04-11T14:28:17.862Z"
   },
   {
    "duration": 1903,
    "start_time": "2023-04-11T14:28:21.759Z"
   },
   {
    "duration": 4,
    "start_time": "2023-04-11T14:28:24.442Z"
   },
   {
    "duration": 48938,
    "start_time": "2023-04-11T14:28:27.850Z"
   },
   {
    "duration": 187,
    "start_time": "2023-04-11T14:29:16.794Z"
   },
   {
    "duration": 4,
    "start_time": "2023-04-11T14:29:38.419Z"
   },
   {
    "duration": 875,
    "start_time": "2023-04-11T14:29:39.294Z"
   },
   {
    "duration": 48295,
    "start_time": "2023-04-11T14:29:42.296Z"
   },
   {
    "duration": 26,
    "start_time": "2023-04-11T14:30:30.593Z"
   },
   {
    "duration": 90,
    "start_time": "2023-04-11T14:30:30.621Z"
   },
   {
    "duration": 4579,
    "start_time": "2023-04-11T14:34:16.820Z"
   },
   {
    "duration": 970,
    "start_time": "2023-04-11T14:34:21.401Z"
   },
   {
    "duration": 27,
    "start_time": "2023-04-11T14:34:22.382Z"
   },
   {
    "duration": 26,
    "start_time": "2023-04-11T14:34:22.412Z"
   },
   {
    "duration": 20,
    "start_time": "2023-04-11T14:34:22.440Z"
   },
   {
    "duration": 283,
    "start_time": "2023-04-11T14:34:22.461Z"
   },
   {
    "duration": 4,
    "start_time": "2023-04-11T14:34:22.746Z"
   },
   {
    "duration": 10,
    "start_time": "2023-04-11T14:34:22.752Z"
   },
   {
    "duration": 47,
    "start_time": "2023-04-11T14:34:22.764Z"
   },
   {
    "duration": 119,
    "start_time": "2023-04-11T14:34:22.814Z"
   },
   {
    "duration": 3,
    "start_time": "2023-04-11T14:34:22.935Z"
   },
   {
    "duration": 10,
    "start_time": "2023-04-11T14:34:22.940Z"
   },
   {
    "duration": 104,
    "start_time": "2023-04-11T14:34:22.952Z"
   },
   {
    "duration": 0,
    "start_time": "2023-04-11T14:34:23.060Z"
   },
   {
    "duration": 0,
    "start_time": "2023-04-11T14:34:23.062Z"
   },
   {
    "duration": 0,
    "start_time": "2023-04-11T14:34:23.063Z"
   },
   {
    "duration": 0,
    "start_time": "2023-04-11T14:34:23.065Z"
   },
   {
    "duration": 0,
    "start_time": "2023-04-11T14:34:23.066Z"
   },
   {
    "duration": 0,
    "start_time": "2023-04-11T14:34:23.067Z"
   },
   {
    "duration": 0,
    "start_time": "2023-04-11T14:34:23.068Z"
   },
   {
    "duration": 0,
    "start_time": "2023-04-11T14:34:23.069Z"
   },
   {
    "duration": 0,
    "start_time": "2023-04-11T14:34:23.069Z"
   },
   {
    "duration": 0,
    "start_time": "2023-04-11T14:34:23.070Z"
   },
   {
    "duration": 0,
    "start_time": "2023-04-11T14:34:23.073Z"
   },
   {
    "duration": 0,
    "start_time": "2023-04-11T14:34:23.077Z"
   },
   {
    "duration": 0,
    "start_time": "2023-04-11T14:34:23.080Z"
   },
   {
    "duration": 0,
    "start_time": "2023-04-11T14:34:23.081Z"
   },
   {
    "duration": 0,
    "start_time": "2023-04-11T14:34:23.082Z"
   },
   {
    "duration": 0,
    "start_time": "2023-04-11T14:34:23.083Z"
   },
   {
    "duration": 0,
    "start_time": "2023-04-11T14:34:23.085Z"
   },
   {
    "duration": 0,
    "start_time": "2023-04-11T14:34:23.086Z"
   },
   {
    "duration": 0,
    "start_time": "2023-04-11T14:34:23.088Z"
   },
   {
    "duration": 0,
    "start_time": "2023-04-11T14:34:23.090Z"
   },
   {
    "duration": 0,
    "start_time": "2023-04-11T14:34:23.091Z"
   },
   {
    "duration": 0,
    "start_time": "2023-04-11T14:34:23.093Z"
   },
   {
    "duration": 0,
    "start_time": "2023-04-11T14:34:23.094Z"
   },
   {
    "duration": 0,
    "start_time": "2023-04-11T14:34:23.096Z"
   },
   {
    "duration": 0,
    "start_time": "2023-04-11T14:34:23.101Z"
   },
   {
    "duration": 1,
    "start_time": "2023-04-11T14:34:23.102Z"
   },
   {
    "duration": 0,
    "start_time": "2023-04-11T14:34:23.106Z"
   },
   {
    "duration": 0,
    "start_time": "2023-04-11T14:34:23.107Z"
   },
   {
    "duration": 0,
    "start_time": "2023-04-11T14:34:23.108Z"
   },
   {
    "duration": 0,
    "start_time": "2023-04-11T14:34:23.109Z"
   },
   {
    "duration": 0,
    "start_time": "2023-04-11T14:34:23.110Z"
   },
   {
    "duration": 0,
    "start_time": "2023-04-11T14:34:23.111Z"
   },
   {
    "duration": 0,
    "start_time": "2023-04-11T14:34:23.112Z"
   },
   {
    "duration": 0,
    "start_time": "2023-04-11T14:34:23.113Z"
   },
   {
    "duration": 0,
    "start_time": "2023-04-11T14:34:23.118Z"
   },
   {
    "duration": 0,
    "start_time": "2023-04-11T14:34:23.119Z"
   },
   {
    "duration": 0,
    "start_time": "2023-04-11T14:34:23.120Z"
   },
   {
    "duration": 0,
    "start_time": "2023-04-11T14:34:23.121Z"
   },
   {
    "duration": 0,
    "start_time": "2023-04-11T14:34:23.121Z"
   },
   {
    "duration": 0,
    "start_time": "2023-04-11T14:34:23.122Z"
   },
   {
    "duration": 0,
    "start_time": "2023-04-11T14:34:23.123Z"
   },
   {
    "duration": 0,
    "start_time": "2023-04-11T14:34:23.124Z"
   },
   {
    "duration": 0,
    "start_time": "2023-04-11T14:34:23.125Z"
   },
   {
    "duration": 0,
    "start_time": "2023-04-11T14:34:23.126Z"
   },
   {
    "duration": 0,
    "start_time": "2023-04-11T14:34:23.127Z"
   },
   {
    "duration": 0,
    "start_time": "2023-04-11T14:34:23.128Z"
   },
   {
    "duration": 0,
    "start_time": "2023-04-11T14:34:23.129Z"
   },
   {
    "duration": 0,
    "start_time": "2023-04-11T14:34:23.130Z"
   },
   {
    "duration": 0,
    "start_time": "2023-04-11T14:34:23.131Z"
   },
   {
    "duration": 0,
    "start_time": "2023-04-11T14:34:23.132Z"
   },
   {
    "duration": 0,
    "start_time": "2023-04-11T14:34:23.133Z"
   },
   {
    "duration": 0,
    "start_time": "2023-04-11T14:34:23.186Z"
   },
   {
    "duration": 0,
    "start_time": "2023-04-11T14:34:23.186Z"
   },
   {
    "duration": 0,
    "start_time": "2023-04-11T14:34:23.187Z"
   },
   {
    "duration": 0,
    "start_time": "2023-04-11T14:34:23.187Z"
   },
   {
    "duration": 0,
    "start_time": "2023-04-11T14:34:23.188Z"
   },
   {
    "duration": 0,
    "start_time": "2023-04-11T14:34:23.188Z"
   },
   {
    "duration": 0,
    "start_time": "2023-04-11T14:34:23.189Z"
   },
   {
    "duration": 0,
    "start_time": "2023-04-11T14:34:23.189Z"
   },
   {
    "duration": 0,
    "start_time": "2023-04-11T14:34:23.190Z"
   },
   {
    "duration": 0,
    "start_time": "2023-04-11T14:34:23.190Z"
   },
   {
    "duration": 0,
    "start_time": "2023-04-11T14:34:23.191Z"
   },
   {
    "duration": 0,
    "start_time": "2023-04-11T14:34:23.191Z"
   },
   {
    "duration": 0,
    "start_time": "2023-04-11T14:34:23.191Z"
   },
   {
    "duration": 0,
    "start_time": "2023-04-11T14:34:23.192Z"
   },
   {
    "duration": 0,
    "start_time": "2023-04-11T14:34:23.192Z"
   },
   {
    "duration": 0,
    "start_time": "2023-04-11T14:34:23.193Z"
   },
   {
    "duration": 0,
    "start_time": "2023-04-11T14:34:23.193Z"
   },
   {
    "duration": 0,
    "start_time": "2023-04-11T14:34:23.194Z"
   },
   {
    "duration": 1427,
    "start_time": "2023-04-11T14:35:41.397Z"
   },
   {
    "duration": 4545,
    "start_time": "2023-04-11T14:38:02.146Z"
   },
   {
    "duration": 826,
    "start_time": "2023-04-11T14:38:06.693Z"
   },
   {
    "duration": 14,
    "start_time": "2023-04-11T14:38:07.521Z"
   },
   {
    "duration": 14,
    "start_time": "2023-04-11T14:38:07.537Z"
   },
   {
    "duration": 33,
    "start_time": "2023-04-11T14:38:07.552Z"
   },
   {
    "duration": 195,
    "start_time": "2023-04-11T14:38:07.588Z"
   },
   {
    "duration": 3,
    "start_time": "2023-04-11T14:38:07.785Z"
   },
   {
    "duration": 7,
    "start_time": "2023-04-11T14:38:07.790Z"
   },
   {
    "duration": 16,
    "start_time": "2023-04-11T14:38:07.798Z"
   },
   {
    "duration": 92,
    "start_time": "2023-04-11T14:38:07.817Z"
   },
   {
    "duration": 3,
    "start_time": "2023-04-11T14:38:07.910Z"
   },
   {
    "duration": 11,
    "start_time": "2023-04-11T14:38:07.914Z"
   },
   {
    "duration": 1416,
    "start_time": "2023-04-11T14:38:07.926Z"
   },
   {
    "duration": 5,
    "start_time": "2023-04-11T14:38:09.344Z"
   },
   {
    "duration": 4888,
    "start_time": "2023-04-11T14:42:37.112Z"
   },
   {
    "duration": 1390,
    "start_time": "2023-04-11T14:42:42.001Z"
   },
   {
    "duration": 15,
    "start_time": "2023-04-11T14:42:43.393Z"
   },
   {
    "duration": 11,
    "start_time": "2023-04-11T14:42:43.409Z"
   },
   {
    "duration": 16,
    "start_time": "2023-04-11T14:42:43.423Z"
   },
   {
    "duration": 188,
    "start_time": "2023-04-11T14:42:43.441Z"
   },
   {
    "duration": 4,
    "start_time": "2023-04-11T14:42:43.631Z"
   },
   {
    "duration": 22,
    "start_time": "2023-04-11T14:42:43.636Z"
   },
   {
    "duration": 24,
    "start_time": "2023-04-11T14:42:43.660Z"
   },
   {
    "duration": 123,
    "start_time": "2023-04-11T14:42:43.686Z"
   },
   {
    "duration": 3,
    "start_time": "2023-04-11T14:42:43.811Z"
   },
   {
    "duration": 22,
    "start_time": "2023-04-11T14:42:43.816Z"
   },
   {
    "duration": 1477,
    "start_time": "2023-04-11T14:42:43.840Z"
   },
   {
    "duration": 3,
    "start_time": "2023-04-11T14:42:45.320Z"
   },
   {
    "duration": 20,
    "start_time": "2023-04-11T14:42:45.324Z"
   },
   {
    "duration": 4554,
    "start_time": "2023-04-11T14:45:13.612Z"
   },
   {
    "duration": 931,
    "start_time": "2023-04-11T14:45:18.168Z"
   },
   {
    "duration": 15,
    "start_time": "2023-04-11T14:45:19.100Z"
   },
   {
    "duration": 21,
    "start_time": "2023-04-11T14:45:19.117Z"
   },
   {
    "duration": 22,
    "start_time": "2023-04-11T14:45:19.140Z"
   },
   {
    "duration": 191,
    "start_time": "2023-04-11T14:45:19.164Z"
   },
   {
    "duration": 5,
    "start_time": "2023-04-11T14:45:19.357Z"
   },
   {
    "duration": 7,
    "start_time": "2023-04-11T14:45:19.363Z"
   },
   {
    "duration": 31,
    "start_time": "2023-04-11T14:45:19.371Z"
   },
   {
    "duration": 126,
    "start_time": "2023-04-11T14:45:19.404Z"
   },
   {
    "duration": 4,
    "start_time": "2023-04-11T14:45:19.531Z"
   },
   {
    "duration": 19,
    "start_time": "2023-04-11T14:45:19.537Z"
   },
   {
    "duration": 1451,
    "start_time": "2023-04-11T14:45:19.558Z"
   },
   {
    "duration": 3,
    "start_time": "2023-04-11T14:45:21.013Z"
   },
   {
    "duration": 19,
    "start_time": "2023-04-11T14:45:21.018Z"
   },
   {
    "duration": 7,
    "start_time": "2023-04-11T14:45:21.039Z"
   },
   {
    "duration": 4536,
    "start_time": "2023-04-11T14:51:24.264Z"
   },
   {
    "duration": 1689,
    "start_time": "2023-04-11T14:51:28.802Z"
   },
   {
    "duration": 16,
    "start_time": "2023-04-11T14:51:30.492Z"
   },
   {
    "duration": 53,
    "start_time": "2023-04-11T14:51:30.510Z"
   },
   {
    "duration": 51,
    "start_time": "2023-04-11T14:51:30.565Z"
   },
   {
    "duration": 305,
    "start_time": "2023-04-11T14:51:30.618Z"
   },
   {
    "duration": 5,
    "start_time": "2023-04-11T14:51:30.926Z"
   },
   {
    "duration": 66,
    "start_time": "2023-04-11T14:51:30.933Z"
   },
   {
    "duration": 50,
    "start_time": "2023-04-11T14:51:31.001Z"
   },
   {
    "duration": 156,
    "start_time": "2023-04-11T14:51:31.053Z"
   },
   {
    "duration": 3,
    "start_time": "2023-04-11T14:51:31.211Z"
   },
   {
    "duration": 81,
    "start_time": "2023-04-11T14:51:31.216Z"
   },
   {
    "duration": 1466,
    "start_time": "2023-04-11T14:51:31.299Z"
   },
   {
    "duration": 13,
    "start_time": "2023-04-11T14:51:32.777Z"
   },
   {
    "duration": 45,
    "start_time": "2023-04-11T14:51:32.791Z"
   },
   {
    "duration": 55,
    "start_time": "2023-04-11T14:51:32.838Z"
   },
   {
    "duration": 433465,
    "start_time": "2023-04-11T14:51:32.894Z"
   },
   {
    "duration": 16,
    "start_time": "2023-04-11T14:58:46.361Z"
   },
   {
    "duration": 487,
    "start_time": "2023-04-11T14:58:46.382Z"
   },
   {
    "duration": 8,
    "start_time": "2023-04-11T14:58:46.871Z"
   },
   {
    "duration": 229,
    "start_time": "2023-04-11T14:58:46.886Z"
   },
   {
    "duration": 2226296,
    "start_time": "2023-04-11T14:58:47.116Z"
   },
   {
    "duration": 4,
    "start_time": "2023-04-11T15:35:53.413Z"
   },
   {
    "duration": 229,
    "start_time": "2023-04-11T15:35:53.419Z"
   },
   {
    "duration": 3,
    "start_time": "2023-04-11T15:35:53.650Z"
   },
   {
    "duration": 2489,
    "start_time": "2023-04-11T15:35:53.654Z"
   },
   {
    "duration": 47,
    "start_time": "2023-04-11T15:35:56.144Z"
   },
   {
    "duration": 3812,
    "start_time": "2023-04-11T15:35:56.192Z"
   },
   {
    "duration": 5,
    "start_time": "2023-04-11T15:36:00.006Z"
   },
   {
    "duration": 101,
    "start_time": "2023-04-11T15:36:00.013Z"
   },
   {
    "duration": 2,
    "start_time": "2023-04-11T15:36:00.115Z"
   },
   {
    "duration": 9,
    "start_time": "2023-04-11T15:36:00.119Z"
   },
   {
    "duration": 105,
    "start_time": "2023-04-11T15:36:00.129Z"
   },
   {
    "duration": 111,
    "start_time": "2023-04-11T15:36:00.236Z"
   },
   {
    "duration": 2915,
    "start_time": "2023-04-11T15:36:00.348Z"
   },
   {
    "duration": 9,
    "start_time": "2023-04-11T15:36:03.266Z"
   },
   {
    "duration": 144,
    "start_time": "2023-04-11T15:36:03.279Z"
   },
   {
    "duration": 6,
    "start_time": "2023-04-11T15:36:03.425Z"
   },
   {
    "duration": 3129,
    "start_time": "2023-04-11T15:36:03.433Z"
   },
   {
    "duration": 4,
    "start_time": "2023-04-11T15:36:06.564Z"
   },
   {
    "duration": 35,
    "start_time": "2023-04-11T15:36:06.578Z"
   },
   {
    "duration": 4050,
    "start_time": "2023-04-11T15:36:06.615Z"
   },
   {
    "duration": 19,
    "start_time": "2023-04-11T15:36:10.667Z"
   },
   {
    "duration": 118,
    "start_time": "2023-04-11T15:36:10.687Z"
   },
   {
    "duration": 4,
    "start_time": "2023-04-11T15:36:10.806Z"
   },
   {
    "duration": 1302,
    "start_time": "2023-04-11T15:36:10.811Z"
   },
   {
    "duration": 3,
    "start_time": "2023-04-11T15:36:12.115Z"
   },
   {
    "duration": 42970,
    "start_time": "2023-04-11T15:36:12.119Z"
   },
   {
    "duration": 118,
    "start_time": "2023-04-11T15:36:55.091Z"
   },
   {
    "duration": 21,
    "start_time": "2023-04-11T15:36:55.210Z"
   },
   {
    "duration": 2702257,
    "start_time": "2023-04-11T15:36:55.232Z"
   },
   {
    "duration": 7099,
    "start_time": "2023-04-11T16:21:57.491Z"
   },
   {
    "duration": 107,
    "start_time": "2023-04-11T16:22:04.592Z"
   },
   {
    "duration": 3,
    "start_time": "2023-04-11T16:22:04.701Z"
   },
   {
    "duration": 885,
    "start_time": "2023-04-11T16:22:04.706Z"
   },
   {
    "duration": 44099,
    "start_time": "2023-04-11T16:22:05.593Z"
   },
   {
    "duration": 93,
    "start_time": "2023-04-11T16:22:49.694Z"
   },
   {
    "duration": 42,
    "start_time": "2023-04-11T16:22:49.788Z"
   },
   {
    "duration": 183492,
    "start_time": "2023-04-11T16:22:49.832Z"
   },
   {
    "duration": 2095,
    "start_time": "2023-04-11T16:25:53.326Z"
   },
   {
    "duration": 42870,
    "start_time": "2023-04-11T16:25:55.423Z"
   },
   {
    "duration": 43,
    "start_time": "2023-04-11T16:26:38.295Z"
   },
   {
    "duration": 187145,
    "start_time": "2023-04-11T16:26:38.340Z"
   },
   {
    "duration": 117,
    "start_time": "2023-04-11T16:29:45.493Z"
   },
   {
    "duration": 24,
    "start_time": "2023-04-11T16:29:45.612Z"
   },
   {
    "duration": 3795140,
    "start_time": "2023-04-11T16:29:45.637Z"
   },
   {
    "duration": 7516,
    "start_time": "2023-04-11T17:33:00.782Z"
   },
   {
    "duration": 114,
    "start_time": "2023-04-11T17:33:08.299Z"
   },
   {
    "duration": 777,
    "start_time": "2023-04-11T17:33:08.414Z"
   },
   {
    "duration": 33001,
    "start_time": "2023-04-11T17:33:09.192Z"
   },
   {
    "duration": 117,
    "start_time": "2023-04-11T17:33:42.195Z"
   },
   {
    "duration": 152037,
    "start_time": "2023-04-11T17:33:42.314Z"
   },
   {
    "duration": 2259,
    "start_time": "2023-04-11T17:36:14.352Z"
   },
   {
    "duration": 3,
    "start_time": "2023-04-11T17:36:16.612Z"
   },
   {
    "duration": 2473489,
    "start_time": "2023-04-11T17:36:16.616Z"
   },
   {
    "duration": 6565,
    "start_time": "2023-04-11T18:17:30.107Z"
   },
   {
    "duration": 6419,
    "start_time": "2023-04-11T18:17:36.675Z"
   },
   {
    "duration": 97,
    "start_time": "2023-04-11T18:17:43.099Z"
   },
   {
    "duration": 8,
    "start_time": "2023-04-11T18:17:43.197Z"
   },
   {
    "duration": 4,
    "start_time": "2023-04-11T18:17:43.206Z"
   },
   {
    "duration": 4,
    "start_time": "2023-04-11T18:17:43.212Z"
   },
   {
    "duration": 3407,
    "start_time": "2023-04-11T18:17:43.217Z"
   },
   {
    "duration": 761,
    "start_time": "2023-04-11T18:17:46.625Z"
   },
   {
    "duration": 3,
    "start_time": "2023-04-11T18:17:47.387Z"
   },
   {
    "duration": 4820625,
    "start_time": "2023-04-11T18:17:47.391Z"
   },
   {
    "duration": 6458,
    "start_time": "2023-04-11T19:38:08.072Z"
   },
   {
    "duration": 49,
    "start_time": "2023-04-11T19:38:14.593Z"
   },
   {
    "duration": 41,
    "start_time": "2023-04-11T19:38:14.644Z"
   },
   {
    "duration": 5661,
    "start_time": "2023-04-12T07:26:32.575Z"
   },
   {
    "duration": 2155,
    "start_time": "2023-04-12T07:26:38.238Z"
   },
   {
    "duration": 18,
    "start_time": "2023-04-12T07:26:40.395Z"
   },
   {
    "duration": 12,
    "start_time": "2023-04-12T07:26:40.414Z"
   },
   {
    "duration": 22,
    "start_time": "2023-04-12T07:26:40.428Z"
   },
   {
    "duration": 449,
    "start_time": "2023-04-12T07:26:40.452Z"
   },
   {
    "duration": 5,
    "start_time": "2023-04-12T07:26:40.902Z"
   },
   {
    "duration": 596,
    "start_time": "2023-04-12T07:26:49.163Z"
   },
   {
    "duration": 5,
    "start_time": "2023-04-12T07:27:22.187Z"
   },
   {
    "duration": 4771,
    "start_time": "2023-04-12T07:29:58.735Z"
   },
   {
    "duration": 2,
    "start_time": "2023-04-12T07:30:08.755Z"
   },
   {
    "duration": 332,
    "start_time": "2023-04-12T07:31:21.407Z"
   },
   {
    "duration": 29,
    "start_time": "2023-04-12T07:32:08.760Z"
   },
   {
    "duration": 61,
    "start_time": "2023-04-12T07:32:48.056Z"
   },
   {
    "duration": 942,
    "start_time": "2023-04-12T07:33:08.247Z"
   },
   {
    "duration": 48,
    "start_time": "2023-04-12T07:33:12.287Z"
   },
   {
    "duration": 688,
    "start_time": "2023-04-12T07:33:36.147Z"
   },
   {
    "duration": 28,
    "start_time": "2023-04-12T07:33:40.406Z"
   },
   {
    "duration": 617,
    "start_time": "2023-04-12T07:33:49.291Z"
   },
   {
    "duration": 24,
    "start_time": "2023-04-12T07:33:52.708Z"
   },
   {
    "duration": 1174,
    "start_time": "2023-04-12T07:34:13.555Z"
   },
   {
    "duration": 46,
    "start_time": "2023-04-12T07:34:17.989Z"
   },
   {
    "duration": 3,
    "start_time": "2023-04-12T07:34:23.147Z"
   },
   {
    "duration": 42,
    "start_time": "2023-04-12T07:34:23.755Z"
   }
  ],
  "kernelspec": {
   "display_name": "Python 3 (ipykernel)",
   "language": "python",
   "name": "python3"
  },
  "language_info": {
   "codemirror_mode": {
    "name": "ipython",
    "version": 3
   },
   "file_extension": ".py",
   "mimetype": "text/x-python",
   "name": "python",
   "nbconvert_exporter": "python",
   "pygments_lexer": "ipython3",
   "version": "3.8.16"
  },
  "toc": {
   "base_numbering": 1,
   "nav_menu": {},
   "number_sections": true,
   "sideBar": true,
   "skip_h1_title": true,
   "title_cell": "Содержание",
   "title_sidebar": "Contents",
   "toc_cell": true,
   "toc_position": {
    "height": "calc(100% - 180px)",
    "left": "10px",
    "top": "150px",
    "width": "302.390625px"
   },
   "toc_section_display": true,
   "toc_window_display": true
  }
 },
 "nbformat": 4,
 "nbformat_minor": 2
}
