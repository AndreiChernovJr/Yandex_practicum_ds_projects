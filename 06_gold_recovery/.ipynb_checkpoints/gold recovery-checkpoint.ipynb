{
 "cells": [
  {
   "cell_type": "markdown",
   "metadata": {
    "toc": true
   },
   "source": [
    "<h1>Содержание<span class=\"tocSkip\"></span></h1>\n",
    "<div class=\"toc\"><ul class=\"toc-item\"><li><span><a href=\"#Подготовка-данных\" data-toc-modified-id=\"Подготовка-данных-1\"><span class=\"toc-item-num\">1&nbsp;&nbsp;</span>Подготовка данных</a></span></li><li><span><a href=\"#Анализ-данных\" data-toc-modified-id=\"Анализ-данных-2\"><span class=\"toc-item-num\">2&nbsp;&nbsp;</span>Анализ данных</a></span></li><li><span><a href=\"#Модель\" data-toc-modified-id=\"Модель-3\"><span class=\"toc-item-num\">3&nbsp;&nbsp;</span>Модель</a></span></li><li><span><a href=\"#Вычисления-финального-результата\" data-toc-modified-id=\"Вычисления-финального-результата-4\"><span class=\"toc-item-num\">4&nbsp;&nbsp;</span>Вычисления финального результата</a></span></li><li><span><a href=\"#Вывод\" data-toc-modified-id=\"Вывод-5\"><span class=\"toc-item-num\">5&nbsp;&nbsp;</span>Вывод</a></span></li></ul></div>"
   ]
  },
  {
   "cell_type": "markdown",
   "metadata": {},
   "source": [
    "# Восстановление золота из руды"
   ]
  },
  {
   "cell_type": "markdown",
   "metadata": {},
   "source": [
    "Мы готовим прототип модели машинного обучения для «Цифры». Компания разрабатывает решения для эффективной работы промышленных предприятий.\n",
    "\n",
    "Модель должна предсказать коэффициент восстановления золота из золотосодержащей руды. Для этого мы используем данные с параметрами добычи и очистки. \n",
    "\n",
    "Модель должна помочь оптимизировать производство, чтобы не запускать предприятие с убыточными характеристиками.\n",
    "\n",
    "Предварительный план такой:\n",
    "\n",
    "1. Подготовить данные;\n",
    "2. Провести исследовательский анализ данных;\n",
    "3. Построить и обучить модель."
   ]
  },
  {
   "cell_type": "markdown",
   "metadata": {},
   "source": [
    "## Подготовка данных"
   ]
  },
  {
   "cell_type": "code",
   "execution_count": 1,
   "metadata": {},
   "outputs": [],
   "source": [
    "import pandas as pd\n",
    "\n",
    "from sklearn.model_selection import train_test_split\n",
    "from sklearn.model_selection import GridSearchCV\n",
    "from sklearn.model_selection import cross_val_score\n",
    "from sklearn.tree import DecisionTreeRegressor\n",
    "from sklearn.ensemble import RandomForestRegressor\n",
    "from sklearn.linear_model import LinearRegression\n",
    "from sklearn.metrics import mean_squared_error\n",
    "from sklearn.metrics import mean_absolute_error\n",
    "from sklearn.metrics import make_scorer\n",
    "from sklearn.dummy import DummyClassifier\n",
    "from sklearn.utils import shuffle\n",
    "\n",
    "import matplotlib.pyplot as plt\n",
    "\n",
    "import numpy as np\n",
    "\n",
    "import statistics as st\n",
    "\n",
    "from scipy import stats\n",
    "\n",
    "#from progress.bar import Bar\n",
    "\n",
    "from joblib import dump"
   ]
  },
  {
   "cell_type": "markdown",
   "metadata": {},
   "source": [
    "Для начала давайте выгрузим данные и познакомимся с ними. "
   ]
  },
  {
   "cell_type": "code",
   "execution_count": 2,
   "metadata": {
    "scrolled": false
   },
   "outputs": [
    {
     "data": {
      "text/html": [
       "<div>\n",
       "<style scoped>\n",
       "    .dataframe tbody tr th:only-of-type {\n",
       "        vertical-align: middle;\n",
       "    }\n",
       "\n",
       "    .dataframe tbody tr th {\n",
       "        vertical-align: top;\n",
       "    }\n",
       "\n",
       "    .dataframe thead th {\n",
       "        text-align: right;\n",
       "    }\n",
       "</style>\n",
       "<table border=\"1\" class=\"dataframe\">\n",
       "  <thead>\n",
       "    <tr style=\"text-align: right;\">\n",
       "      <th></th>\n",
       "      <th>date</th>\n",
       "      <th>final.output.concentrate_ag</th>\n",
       "      <th>final.output.concentrate_pb</th>\n",
       "      <th>final.output.concentrate_sol</th>\n",
       "      <th>final.output.concentrate_au</th>\n",
       "      <th>final.output.recovery</th>\n",
       "      <th>final.output.tail_ag</th>\n",
       "      <th>final.output.tail_pb</th>\n",
       "      <th>final.output.tail_sol</th>\n",
       "      <th>final.output.tail_au</th>\n",
       "      <th>...</th>\n",
       "      <th>secondary_cleaner.state.floatbank4_a_air</th>\n",
       "      <th>secondary_cleaner.state.floatbank4_a_level</th>\n",
       "      <th>secondary_cleaner.state.floatbank4_b_air</th>\n",
       "      <th>secondary_cleaner.state.floatbank4_b_level</th>\n",
       "      <th>secondary_cleaner.state.floatbank5_a_air</th>\n",
       "      <th>secondary_cleaner.state.floatbank5_a_level</th>\n",
       "      <th>secondary_cleaner.state.floatbank5_b_air</th>\n",
       "      <th>secondary_cleaner.state.floatbank5_b_level</th>\n",
       "      <th>secondary_cleaner.state.floatbank6_a_air</th>\n",
       "      <th>secondary_cleaner.state.floatbank6_a_level</th>\n",
       "    </tr>\n",
       "  </thead>\n",
       "  <tbody>\n",
       "    <tr>\n",
       "      <th>0</th>\n",
       "      <td>2016-01-15 00:00:00</td>\n",
       "      <td>6.055403</td>\n",
       "      <td>9.889648</td>\n",
       "      <td>5.507324</td>\n",
       "      <td>42.192020</td>\n",
       "      <td>70.541216</td>\n",
       "      <td>10.411962</td>\n",
       "      <td>0.895447</td>\n",
       "      <td>16.904297</td>\n",
       "      <td>2.143149</td>\n",
       "      <td>...</td>\n",
       "      <td>14.016835</td>\n",
       "      <td>-502.488007</td>\n",
       "      <td>12.099931</td>\n",
       "      <td>-504.715942</td>\n",
       "      <td>9.925633</td>\n",
       "      <td>-498.310211</td>\n",
       "      <td>8.079666</td>\n",
       "      <td>-500.470978</td>\n",
       "      <td>14.151341</td>\n",
       "      <td>-605.841980</td>\n",
       "    </tr>\n",
       "    <tr>\n",
       "      <th>1</th>\n",
       "      <td>2016-01-15 01:00:00</td>\n",
       "      <td>6.029369</td>\n",
       "      <td>9.968944</td>\n",
       "      <td>5.257781</td>\n",
       "      <td>42.701629</td>\n",
       "      <td>69.266198</td>\n",
       "      <td>10.462676</td>\n",
       "      <td>0.927452</td>\n",
       "      <td>16.634514</td>\n",
       "      <td>2.224930</td>\n",
       "      <td>...</td>\n",
       "      <td>13.992281</td>\n",
       "      <td>-505.503262</td>\n",
       "      <td>11.950531</td>\n",
       "      <td>-501.331529</td>\n",
       "      <td>10.039245</td>\n",
       "      <td>-500.169983</td>\n",
       "      <td>7.984757</td>\n",
       "      <td>-500.582168</td>\n",
       "      <td>13.998353</td>\n",
       "      <td>-599.787184</td>\n",
       "    </tr>\n",
       "    <tr>\n",
       "      <th>2</th>\n",
       "      <td>2016-01-15 02:00:00</td>\n",
       "      <td>6.055926</td>\n",
       "      <td>10.213995</td>\n",
       "      <td>5.383759</td>\n",
       "      <td>42.657501</td>\n",
       "      <td>68.116445</td>\n",
       "      <td>10.507046</td>\n",
       "      <td>0.953716</td>\n",
       "      <td>16.208849</td>\n",
       "      <td>2.257889</td>\n",
       "      <td>...</td>\n",
       "      <td>14.015015</td>\n",
       "      <td>-502.520901</td>\n",
       "      <td>11.912783</td>\n",
       "      <td>-501.133383</td>\n",
       "      <td>10.070913</td>\n",
       "      <td>-500.129135</td>\n",
       "      <td>8.013877</td>\n",
       "      <td>-500.517572</td>\n",
       "      <td>14.028663</td>\n",
       "      <td>-601.427363</td>\n",
       "    </tr>\n",
       "    <tr>\n",
       "      <th>3</th>\n",
       "      <td>2016-01-15 03:00:00</td>\n",
       "      <td>6.047977</td>\n",
       "      <td>9.977019</td>\n",
       "      <td>4.858634</td>\n",
       "      <td>42.689819</td>\n",
       "      <td>68.347543</td>\n",
       "      <td>10.422762</td>\n",
       "      <td>0.883763</td>\n",
       "      <td>16.532835</td>\n",
       "      <td>2.146849</td>\n",
       "      <td>...</td>\n",
       "      <td>14.036510</td>\n",
       "      <td>-500.857308</td>\n",
       "      <td>11.999550</td>\n",
       "      <td>-501.193686</td>\n",
       "      <td>9.970366</td>\n",
       "      <td>-499.201640</td>\n",
       "      <td>7.977324</td>\n",
       "      <td>-500.255908</td>\n",
       "      <td>14.005551</td>\n",
       "      <td>-599.996129</td>\n",
       "    </tr>\n",
       "    <tr>\n",
       "      <th>4</th>\n",
       "      <td>2016-01-15 04:00:00</td>\n",
       "      <td>6.148599</td>\n",
       "      <td>10.142511</td>\n",
       "      <td>4.939416</td>\n",
       "      <td>42.774141</td>\n",
       "      <td>66.927016</td>\n",
       "      <td>10.360302</td>\n",
       "      <td>0.792826</td>\n",
       "      <td>16.525686</td>\n",
       "      <td>2.055292</td>\n",
       "      <td>...</td>\n",
       "      <td>14.027298</td>\n",
       "      <td>-499.838632</td>\n",
       "      <td>11.953070</td>\n",
       "      <td>-501.053894</td>\n",
       "      <td>9.925709</td>\n",
       "      <td>-501.686727</td>\n",
       "      <td>7.894242</td>\n",
       "      <td>-500.356035</td>\n",
       "      <td>13.996647</td>\n",
       "      <td>-601.496691</td>\n",
       "    </tr>\n",
       "    <tr>\n",
       "      <th>...</th>\n",
       "      <td>...</td>\n",
       "      <td>...</td>\n",
       "      <td>...</td>\n",
       "      <td>...</td>\n",
       "      <td>...</td>\n",
       "      <td>...</td>\n",
       "      <td>...</td>\n",
       "      <td>...</td>\n",
       "      <td>...</td>\n",
       "      <td>...</td>\n",
       "      <td>...</td>\n",
       "      <td>...</td>\n",
       "      <td>...</td>\n",
       "      <td>...</td>\n",
       "      <td>...</td>\n",
       "      <td>...</td>\n",
       "      <td>...</td>\n",
       "      <td>...</td>\n",
       "      <td>...</td>\n",
       "      <td>...</td>\n",
       "      <td>...</td>\n",
       "    </tr>\n",
       "    <tr>\n",
       "      <th>14144</th>\n",
       "      <td>2018-08-18 06:59:59</td>\n",
       "      <td>3.224920</td>\n",
       "      <td>11.356233</td>\n",
       "      <td>6.803482</td>\n",
       "      <td>46.713954</td>\n",
       "      <td>73.755150</td>\n",
       "      <td>8.769645</td>\n",
       "      <td>3.141541</td>\n",
       "      <td>10.403181</td>\n",
       "      <td>1.529220</td>\n",
       "      <td>...</td>\n",
       "      <td>23.031497</td>\n",
       "      <td>-501.167942</td>\n",
       "      <td>20.007571</td>\n",
       "      <td>-499.740028</td>\n",
       "      <td>18.006038</td>\n",
       "      <td>-499.834374</td>\n",
       "      <td>13.001114</td>\n",
       "      <td>-500.155694</td>\n",
       "      <td>20.007840</td>\n",
       "      <td>-501.296428</td>\n",
       "    </tr>\n",
       "    <tr>\n",
       "      <th>14145</th>\n",
       "      <td>2018-08-18 07:59:59</td>\n",
       "      <td>3.195978</td>\n",
       "      <td>11.349355</td>\n",
       "      <td>6.862249</td>\n",
       "      <td>46.866780</td>\n",
       "      <td>69.049291</td>\n",
       "      <td>8.897321</td>\n",
       "      <td>3.130493</td>\n",
       "      <td>10.549470</td>\n",
       "      <td>1.612542</td>\n",
       "      <td>...</td>\n",
       "      <td>22.960095</td>\n",
       "      <td>-501.612783</td>\n",
       "      <td>20.035660</td>\n",
       "      <td>-500.251357</td>\n",
       "      <td>17.998535</td>\n",
       "      <td>-500.395178</td>\n",
       "      <td>12.954048</td>\n",
       "      <td>-499.895163</td>\n",
       "      <td>19.968498</td>\n",
       "      <td>-501.041608</td>\n",
       "    </tr>\n",
       "    <tr>\n",
       "      <th>14146</th>\n",
       "      <td>2018-08-18 08:59:59</td>\n",
       "      <td>3.109998</td>\n",
       "      <td>11.434366</td>\n",
       "      <td>6.886013</td>\n",
       "      <td>46.795691</td>\n",
       "      <td>67.002189</td>\n",
       "      <td>8.529606</td>\n",
       "      <td>2.911418</td>\n",
       "      <td>11.115147</td>\n",
       "      <td>1.596616</td>\n",
       "      <td>...</td>\n",
       "      <td>23.015718</td>\n",
       "      <td>-501.711599</td>\n",
       "      <td>19.951231</td>\n",
       "      <td>-499.857027</td>\n",
       "      <td>18.019543</td>\n",
       "      <td>-500.451156</td>\n",
       "      <td>13.023431</td>\n",
       "      <td>-499.914391</td>\n",
       "      <td>19.990885</td>\n",
       "      <td>-501.518452</td>\n",
       "    </tr>\n",
       "    <tr>\n",
       "      <th>14147</th>\n",
       "      <td>2018-08-18 09:59:59</td>\n",
       "      <td>3.367241</td>\n",
       "      <td>11.625587</td>\n",
       "      <td>6.799433</td>\n",
       "      <td>46.408188</td>\n",
       "      <td>65.523246</td>\n",
       "      <td>8.777171</td>\n",
       "      <td>2.819214</td>\n",
       "      <td>10.463847</td>\n",
       "      <td>1.602879</td>\n",
       "      <td>...</td>\n",
       "      <td>23.024963</td>\n",
       "      <td>-501.153409</td>\n",
       "      <td>20.054122</td>\n",
       "      <td>-500.314711</td>\n",
       "      <td>17.979515</td>\n",
       "      <td>-499.272871</td>\n",
       "      <td>12.992404</td>\n",
       "      <td>-499.976268</td>\n",
       "      <td>20.013986</td>\n",
       "      <td>-500.625471</td>\n",
       "    </tr>\n",
       "    <tr>\n",
       "      <th>14148</th>\n",
       "      <td>2018-08-18 10:59:59</td>\n",
       "      <td>3.598375</td>\n",
       "      <td>11.737832</td>\n",
       "      <td>6.717509</td>\n",
       "      <td>46.299438</td>\n",
       "      <td>70.281454</td>\n",
       "      <td>8.406690</td>\n",
       "      <td>2.517518</td>\n",
       "      <td>10.652193</td>\n",
       "      <td>1.389434</td>\n",
       "      <td>...</td>\n",
       "      <td>23.018622</td>\n",
       "      <td>-500.492702</td>\n",
       "      <td>20.020205</td>\n",
       "      <td>-500.220296</td>\n",
       "      <td>17.963512</td>\n",
       "      <td>-499.939490</td>\n",
       "      <td>12.990306</td>\n",
       "      <td>-500.080993</td>\n",
       "      <td>19.990336</td>\n",
       "      <td>-499.191575</td>\n",
       "    </tr>\n",
       "  </tbody>\n",
       "</table>\n",
       "<p>14149 rows × 87 columns</p>\n",
       "</div>"
      ],
      "text/plain": [
       "                      date  final.output.concentrate_ag  \\\n",
       "0      2016-01-15 00:00:00                     6.055403   \n",
       "1      2016-01-15 01:00:00                     6.029369   \n",
       "2      2016-01-15 02:00:00                     6.055926   \n",
       "3      2016-01-15 03:00:00                     6.047977   \n",
       "4      2016-01-15 04:00:00                     6.148599   \n",
       "...                    ...                          ...   \n",
       "14144  2018-08-18 06:59:59                     3.224920   \n",
       "14145  2018-08-18 07:59:59                     3.195978   \n",
       "14146  2018-08-18 08:59:59                     3.109998   \n",
       "14147  2018-08-18 09:59:59                     3.367241   \n",
       "14148  2018-08-18 10:59:59                     3.598375   \n",
       "\n",
       "       final.output.concentrate_pb  final.output.concentrate_sol  \\\n",
       "0                         9.889648                      5.507324   \n",
       "1                         9.968944                      5.257781   \n",
       "2                        10.213995                      5.383759   \n",
       "3                         9.977019                      4.858634   \n",
       "4                        10.142511                      4.939416   \n",
       "...                            ...                           ...   \n",
       "14144                    11.356233                      6.803482   \n",
       "14145                    11.349355                      6.862249   \n",
       "14146                    11.434366                      6.886013   \n",
       "14147                    11.625587                      6.799433   \n",
       "14148                    11.737832                      6.717509   \n",
       "\n",
       "       final.output.concentrate_au  final.output.recovery  \\\n",
       "0                        42.192020              70.541216   \n",
       "1                        42.701629              69.266198   \n",
       "2                        42.657501              68.116445   \n",
       "3                        42.689819              68.347543   \n",
       "4                        42.774141              66.927016   \n",
       "...                            ...                    ...   \n",
       "14144                    46.713954              73.755150   \n",
       "14145                    46.866780              69.049291   \n",
       "14146                    46.795691              67.002189   \n",
       "14147                    46.408188              65.523246   \n",
       "14148                    46.299438              70.281454   \n",
       "\n",
       "       final.output.tail_ag  final.output.tail_pb  final.output.tail_sol  \\\n",
       "0                 10.411962              0.895447              16.904297   \n",
       "1                 10.462676              0.927452              16.634514   \n",
       "2                 10.507046              0.953716              16.208849   \n",
       "3                 10.422762              0.883763              16.532835   \n",
       "4                 10.360302              0.792826              16.525686   \n",
       "...                     ...                   ...                    ...   \n",
       "14144              8.769645              3.141541              10.403181   \n",
       "14145              8.897321              3.130493              10.549470   \n",
       "14146              8.529606              2.911418              11.115147   \n",
       "14147              8.777171              2.819214              10.463847   \n",
       "14148              8.406690              2.517518              10.652193   \n",
       "\n",
       "       final.output.tail_au  ...  secondary_cleaner.state.floatbank4_a_air  \\\n",
       "0                  2.143149  ...                                 14.016835   \n",
       "1                  2.224930  ...                                 13.992281   \n",
       "2                  2.257889  ...                                 14.015015   \n",
       "3                  2.146849  ...                                 14.036510   \n",
       "4                  2.055292  ...                                 14.027298   \n",
       "...                     ...  ...                                       ...   \n",
       "14144              1.529220  ...                                 23.031497   \n",
       "14145              1.612542  ...                                 22.960095   \n",
       "14146              1.596616  ...                                 23.015718   \n",
       "14147              1.602879  ...                                 23.024963   \n",
       "14148              1.389434  ...                                 23.018622   \n",
       "\n",
       "       secondary_cleaner.state.floatbank4_a_level  \\\n",
       "0                                     -502.488007   \n",
       "1                                     -505.503262   \n",
       "2                                     -502.520901   \n",
       "3                                     -500.857308   \n",
       "4                                     -499.838632   \n",
       "...                                           ...   \n",
       "14144                                 -501.167942   \n",
       "14145                                 -501.612783   \n",
       "14146                                 -501.711599   \n",
       "14147                                 -501.153409   \n",
       "14148                                 -500.492702   \n",
       "\n",
       "       secondary_cleaner.state.floatbank4_b_air  \\\n",
       "0                                     12.099931   \n",
       "1                                     11.950531   \n",
       "2                                     11.912783   \n",
       "3                                     11.999550   \n",
       "4                                     11.953070   \n",
       "...                                         ...   \n",
       "14144                                 20.007571   \n",
       "14145                                 20.035660   \n",
       "14146                                 19.951231   \n",
       "14147                                 20.054122   \n",
       "14148                                 20.020205   \n",
       "\n",
       "       secondary_cleaner.state.floatbank4_b_level  \\\n",
       "0                                     -504.715942   \n",
       "1                                     -501.331529   \n",
       "2                                     -501.133383   \n",
       "3                                     -501.193686   \n",
       "4                                     -501.053894   \n",
       "...                                           ...   \n",
       "14144                                 -499.740028   \n",
       "14145                                 -500.251357   \n",
       "14146                                 -499.857027   \n",
       "14147                                 -500.314711   \n",
       "14148                                 -500.220296   \n",
       "\n",
       "       secondary_cleaner.state.floatbank5_a_air  \\\n",
       "0                                      9.925633   \n",
       "1                                     10.039245   \n",
       "2                                     10.070913   \n",
       "3                                      9.970366   \n",
       "4                                      9.925709   \n",
       "...                                         ...   \n",
       "14144                                 18.006038   \n",
       "14145                                 17.998535   \n",
       "14146                                 18.019543   \n",
       "14147                                 17.979515   \n",
       "14148                                 17.963512   \n",
       "\n",
       "       secondary_cleaner.state.floatbank5_a_level  \\\n",
       "0                                     -498.310211   \n",
       "1                                     -500.169983   \n",
       "2                                     -500.129135   \n",
       "3                                     -499.201640   \n",
       "4                                     -501.686727   \n",
       "...                                           ...   \n",
       "14144                                 -499.834374   \n",
       "14145                                 -500.395178   \n",
       "14146                                 -500.451156   \n",
       "14147                                 -499.272871   \n",
       "14148                                 -499.939490   \n",
       "\n",
       "       secondary_cleaner.state.floatbank5_b_air  \\\n",
       "0                                      8.079666   \n",
       "1                                      7.984757   \n",
       "2                                      8.013877   \n",
       "3                                      7.977324   \n",
       "4                                      7.894242   \n",
       "...                                         ...   \n",
       "14144                                 13.001114   \n",
       "14145                                 12.954048   \n",
       "14146                                 13.023431   \n",
       "14147                                 12.992404   \n",
       "14148                                 12.990306   \n",
       "\n",
       "       secondary_cleaner.state.floatbank5_b_level  \\\n",
       "0                                     -500.470978   \n",
       "1                                     -500.582168   \n",
       "2                                     -500.517572   \n",
       "3                                     -500.255908   \n",
       "4                                     -500.356035   \n",
       "...                                           ...   \n",
       "14144                                 -500.155694   \n",
       "14145                                 -499.895163   \n",
       "14146                                 -499.914391   \n",
       "14147                                 -499.976268   \n",
       "14148                                 -500.080993   \n",
       "\n",
       "       secondary_cleaner.state.floatbank6_a_air  \\\n",
       "0                                     14.151341   \n",
       "1                                     13.998353   \n",
       "2                                     14.028663   \n",
       "3                                     14.005551   \n",
       "4                                     13.996647   \n",
       "...                                         ...   \n",
       "14144                                 20.007840   \n",
       "14145                                 19.968498   \n",
       "14146                                 19.990885   \n",
       "14147                                 20.013986   \n",
       "14148                                 19.990336   \n",
       "\n",
       "       secondary_cleaner.state.floatbank6_a_level  \n",
       "0                                     -605.841980  \n",
       "1                                     -599.787184  \n",
       "2                                     -601.427363  \n",
       "3                                     -599.996129  \n",
       "4                                     -601.496691  \n",
       "...                                           ...  \n",
       "14144                                 -501.296428  \n",
       "14145                                 -501.041608  \n",
       "14146                                 -501.518452  \n",
       "14147                                 -500.625471  \n",
       "14148                                 -499.191575  \n",
       "\n",
       "[14149 rows x 87 columns]"
      ]
     },
     "metadata": {},
     "output_type": "display_data"
    }
   ],
   "source": [
    "data_train = pd.read_csv('/datasets/gold_recovery_train_new.csv')\n",
    "display(data_train)"
   ]
  },
  {
   "cell_type": "code",
   "execution_count": 3,
   "metadata": {
    "scrolled": true
   },
   "outputs": [
    {
     "data": {
      "text/html": [
       "<div>\n",
       "<style scoped>\n",
       "    .dataframe tbody tr th:only-of-type {\n",
       "        vertical-align: middle;\n",
       "    }\n",
       "\n",
       "    .dataframe tbody tr th {\n",
       "        vertical-align: top;\n",
       "    }\n",
       "\n",
       "    .dataframe thead th {\n",
       "        text-align: right;\n",
       "    }\n",
       "</style>\n",
       "<table border=\"1\" class=\"dataframe\">\n",
       "  <thead>\n",
       "    <tr style=\"text-align: right;\">\n",
       "      <th></th>\n",
       "      <th>date</th>\n",
       "      <th>primary_cleaner.input.sulfate</th>\n",
       "      <th>primary_cleaner.input.depressant</th>\n",
       "      <th>primary_cleaner.input.feed_size</th>\n",
       "      <th>primary_cleaner.input.xanthate</th>\n",
       "      <th>primary_cleaner.state.floatbank8_a_air</th>\n",
       "      <th>primary_cleaner.state.floatbank8_a_level</th>\n",
       "      <th>primary_cleaner.state.floatbank8_b_air</th>\n",
       "      <th>primary_cleaner.state.floatbank8_b_level</th>\n",
       "      <th>primary_cleaner.state.floatbank8_c_air</th>\n",
       "      <th>...</th>\n",
       "      <th>secondary_cleaner.state.floatbank4_a_air</th>\n",
       "      <th>secondary_cleaner.state.floatbank4_a_level</th>\n",
       "      <th>secondary_cleaner.state.floatbank4_b_air</th>\n",
       "      <th>secondary_cleaner.state.floatbank4_b_level</th>\n",
       "      <th>secondary_cleaner.state.floatbank5_a_air</th>\n",
       "      <th>secondary_cleaner.state.floatbank5_a_level</th>\n",
       "      <th>secondary_cleaner.state.floatbank5_b_air</th>\n",
       "      <th>secondary_cleaner.state.floatbank5_b_level</th>\n",
       "      <th>secondary_cleaner.state.floatbank6_a_air</th>\n",
       "      <th>secondary_cleaner.state.floatbank6_a_level</th>\n",
       "    </tr>\n",
       "  </thead>\n",
       "  <tbody>\n",
       "    <tr>\n",
       "      <th>0</th>\n",
       "      <td>2016-09-01 00:59:59</td>\n",
       "      <td>210.800909</td>\n",
       "      <td>14.993118</td>\n",
       "      <td>8.080000</td>\n",
       "      <td>1.005021</td>\n",
       "      <td>1398.981301</td>\n",
       "      <td>-500.225577</td>\n",
       "      <td>1399.144926</td>\n",
       "      <td>-499.919735</td>\n",
       "      <td>1400.102998</td>\n",
       "      <td>...</td>\n",
       "      <td>12.023554</td>\n",
       "      <td>-497.795834</td>\n",
       "      <td>8.016656</td>\n",
       "      <td>-501.289139</td>\n",
       "      <td>7.946562</td>\n",
       "      <td>-432.317850</td>\n",
       "      <td>4.872511</td>\n",
       "      <td>-500.037437</td>\n",
       "      <td>26.705889</td>\n",
       "      <td>-499.709414</td>\n",
       "    </tr>\n",
       "    <tr>\n",
       "      <th>1</th>\n",
       "      <td>2016-09-01 01:59:59</td>\n",
       "      <td>215.392455</td>\n",
       "      <td>14.987471</td>\n",
       "      <td>8.080000</td>\n",
       "      <td>0.990469</td>\n",
       "      <td>1398.777912</td>\n",
       "      <td>-500.057435</td>\n",
       "      <td>1398.055362</td>\n",
       "      <td>-499.778182</td>\n",
       "      <td>1396.151033</td>\n",
       "      <td>...</td>\n",
       "      <td>12.058140</td>\n",
       "      <td>-498.695773</td>\n",
       "      <td>8.130979</td>\n",
       "      <td>-499.634209</td>\n",
       "      <td>7.958270</td>\n",
       "      <td>-525.839648</td>\n",
       "      <td>4.878850</td>\n",
       "      <td>-500.162375</td>\n",
       "      <td>25.019940</td>\n",
       "      <td>-499.819438</td>\n",
       "    </tr>\n",
       "    <tr>\n",
       "      <th>2</th>\n",
       "      <td>2016-09-01 02:59:59</td>\n",
       "      <td>215.259946</td>\n",
       "      <td>12.884934</td>\n",
       "      <td>7.786667</td>\n",
       "      <td>0.996043</td>\n",
       "      <td>1398.493666</td>\n",
       "      <td>-500.868360</td>\n",
       "      <td>1398.860436</td>\n",
       "      <td>-499.764529</td>\n",
       "      <td>1398.075709</td>\n",
       "      <td>...</td>\n",
       "      <td>11.962366</td>\n",
       "      <td>-498.767484</td>\n",
       "      <td>8.096893</td>\n",
       "      <td>-500.827423</td>\n",
       "      <td>8.071056</td>\n",
       "      <td>-500.801673</td>\n",
       "      <td>4.905125</td>\n",
       "      <td>-499.828510</td>\n",
       "      <td>24.994862</td>\n",
       "      <td>-500.622559</td>\n",
       "    </tr>\n",
       "    <tr>\n",
       "      <th>3</th>\n",
       "      <td>2016-09-01 03:59:59</td>\n",
       "      <td>215.336236</td>\n",
       "      <td>12.006805</td>\n",
       "      <td>7.640000</td>\n",
       "      <td>0.863514</td>\n",
       "      <td>1399.618111</td>\n",
       "      <td>-498.863574</td>\n",
       "      <td>1397.440120</td>\n",
       "      <td>-499.211024</td>\n",
       "      <td>1400.129303</td>\n",
       "      <td>...</td>\n",
       "      <td>12.033091</td>\n",
       "      <td>-498.350935</td>\n",
       "      <td>8.074946</td>\n",
       "      <td>-499.474407</td>\n",
       "      <td>7.897085</td>\n",
       "      <td>-500.868509</td>\n",
       "      <td>4.931400</td>\n",
       "      <td>-499.963623</td>\n",
       "      <td>24.948919</td>\n",
       "      <td>-498.709987</td>\n",
       "    </tr>\n",
       "    <tr>\n",
       "      <th>4</th>\n",
       "      <td>2016-09-01 04:59:59</td>\n",
       "      <td>199.099327</td>\n",
       "      <td>10.682530</td>\n",
       "      <td>7.530000</td>\n",
       "      <td>0.805575</td>\n",
       "      <td>1401.268123</td>\n",
       "      <td>-500.808305</td>\n",
       "      <td>1398.128818</td>\n",
       "      <td>-499.504543</td>\n",
       "      <td>1402.172226</td>\n",
       "      <td>...</td>\n",
       "      <td>12.025367</td>\n",
       "      <td>-500.786497</td>\n",
       "      <td>8.054678</td>\n",
       "      <td>-500.397500</td>\n",
       "      <td>8.107890</td>\n",
       "      <td>-509.526725</td>\n",
       "      <td>4.957674</td>\n",
       "      <td>-500.360026</td>\n",
       "      <td>25.003331</td>\n",
       "      <td>-500.856333</td>\n",
       "    </tr>\n",
       "    <tr>\n",
       "      <th>...</th>\n",
       "      <td>...</td>\n",
       "      <td>...</td>\n",
       "      <td>...</td>\n",
       "      <td>...</td>\n",
       "      <td>...</td>\n",
       "      <td>...</td>\n",
       "      <td>...</td>\n",
       "      <td>...</td>\n",
       "      <td>...</td>\n",
       "      <td>...</td>\n",
       "      <td>...</td>\n",
       "      <td>...</td>\n",
       "      <td>...</td>\n",
       "      <td>...</td>\n",
       "      <td>...</td>\n",
       "      <td>...</td>\n",
       "      <td>...</td>\n",
       "      <td>...</td>\n",
       "      <td>...</td>\n",
       "      <td>...</td>\n",
       "      <td>...</td>\n",
       "    </tr>\n",
       "    <tr>\n",
       "      <th>5285</th>\n",
       "      <td>2017-12-31 19:59:59</td>\n",
       "      <td>173.957757</td>\n",
       "      <td>15.963399</td>\n",
       "      <td>8.070000</td>\n",
       "      <td>0.896701</td>\n",
       "      <td>1401.930554</td>\n",
       "      <td>-499.728848</td>\n",
       "      <td>1401.441445</td>\n",
       "      <td>-499.193423</td>\n",
       "      <td>1399.810313</td>\n",
       "      <td>...</td>\n",
       "      <td>13.995957</td>\n",
       "      <td>-500.157454</td>\n",
       "      <td>12.069155</td>\n",
       "      <td>-499.673279</td>\n",
       "      <td>7.977259</td>\n",
       "      <td>-499.516126</td>\n",
       "      <td>5.933319</td>\n",
       "      <td>-499.965973</td>\n",
       "      <td>8.987171</td>\n",
       "      <td>-499.755909</td>\n",
       "    </tr>\n",
       "    <tr>\n",
       "      <th>5286</th>\n",
       "      <td>2017-12-31 20:59:59</td>\n",
       "      <td>172.910270</td>\n",
       "      <td>16.002605</td>\n",
       "      <td>8.070000</td>\n",
       "      <td>0.896519</td>\n",
       "      <td>1447.075722</td>\n",
       "      <td>-494.716823</td>\n",
       "      <td>1448.851892</td>\n",
       "      <td>-465.963026</td>\n",
       "      <td>1443.890424</td>\n",
       "      <td>...</td>\n",
       "      <td>16.749781</td>\n",
       "      <td>-496.031539</td>\n",
       "      <td>13.365371</td>\n",
       "      <td>-499.122723</td>\n",
       "      <td>9.288553</td>\n",
       "      <td>-496.892967</td>\n",
       "      <td>7.372897</td>\n",
       "      <td>-499.942956</td>\n",
       "      <td>8.986832</td>\n",
       "      <td>-499.903761</td>\n",
       "    </tr>\n",
       "    <tr>\n",
       "      <th>5287</th>\n",
       "      <td>2017-12-31 21:59:59</td>\n",
       "      <td>171.135718</td>\n",
       "      <td>15.993669</td>\n",
       "      <td>8.070000</td>\n",
       "      <td>1.165996</td>\n",
       "      <td>1498.836182</td>\n",
       "      <td>-501.770403</td>\n",
       "      <td>1499.572353</td>\n",
       "      <td>-495.516347</td>\n",
       "      <td>1502.749213</td>\n",
       "      <td>...</td>\n",
       "      <td>19.994130</td>\n",
       "      <td>-499.791312</td>\n",
       "      <td>15.101425</td>\n",
       "      <td>-499.936252</td>\n",
       "      <td>10.989181</td>\n",
       "      <td>-498.347898</td>\n",
       "      <td>9.020944</td>\n",
       "      <td>-500.040448</td>\n",
       "      <td>8.982038</td>\n",
       "      <td>-497.789882</td>\n",
       "    </tr>\n",
       "    <tr>\n",
       "      <th>5288</th>\n",
       "      <td>2017-12-31 22:59:59</td>\n",
       "      <td>179.697158</td>\n",
       "      <td>15.438979</td>\n",
       "      <td>8.070000</td>\n",
       "      <td>1.501068</td>\n",
       "      <td>1498.466243</td>\n",
       "      <td>-500.483984</td>\n",
       "      <td>1497.986986</td>\n",
       "      <td>-519.200340</td>\n",
       "      <td>1496.569047</td>\n",
       "      <td>...</td>\n",
       "      <td>19.958760</td>\n",
       "      <td>-499.958750</td>\n",
       "      <td>15.026853</td>\n",
       "      <td>-499.723143</td>\n",
       "      <td>11.011607</td>\n",
       "      <td>-499.985046</td>\n",
       "      <td>9.009783</td>\n",
       "      <td>-499.937902</td>\n",
       "      <td>9.012660</td>\n",
       "      <td>-500.154284</td>\n",
       "    </tr>\n",
       "    <tr>\n",
       "      <th>5289</th>\n",
       "      <td>2017-12-31 23:59:59</td>\n",
       "      <td>181.556856</td>\n",
       "      <td>14.995850</td>\n",
       "      <td>8.070000</td>\n",
       "      <td>1.623454</td>\n",
       "      <td>1498.096303</td>\n",
       "      <td>-499.796922</td>\n",
       "      <td>1501.743791</td>\n",
       "      <td>-505.146931</td>\n",
       "      <td>1499.535978</td>\n",
       "      <td>...</td>\n",
       "      <td>20.034715</td>\n",
       "      <td>-500.728588</td>\n",
       "      <td>14.914199</td>\n",
       "      <td>-499.948518</td>\n",
       "      <td>10.986607</td>\n",
       "      <td>-500.658027</td>\n",
       "      <td>8.989497</td>\n",
       "      <td>-500.337588</td>\n",
       "      <td>8.988632</td>\n",
       "      <td>-500.764937</td>\n",
       "    </tr>\n",
       "  </tbody>\n",
       "</table>\n",
       "<p>5290 rows × 53 columns</p>\n",
       "</div>"
      ],
      "text/plain": [
       "                     date  primary_cleaner.input.sulfate  \\\n",
       "0     2016-09-01 00:59:59                     210.800909   \n",
       "1     2016-09-01 01:59:59                     215.392455   \n",
       "2     2016-09-01 02:59:59                     215.259946   \n",
       "3     2016-09-01 03:59:59                     215.336236   \n",
       "4     2016-09-01 04:59:59                     199.099327   \n",
       "...                   ...                            ...   \n",
       "5285  2017-12-31 19:59:59                     173.957757   \n",
       "5286  2017-12-31 20:59:59                     172.910270   \n",
       "5287  2017-12-31 21:59:59                     171.135718   \n",
       "5288  2017-12-31 22:59:59                     179.697158   \n",
       "5289  2017-12-31 23:59:59                     181.556856   \n",
       "\n",
       "      primary_cleaner.input.depressant  primary_cleaner.input.feed_size  \\\n",
       "0                            14.993118                         8.080000   \n",
       "1                            14.987471                         8.080000   \n",
       "2                            12.884934                         7.786667   \n",
       "3                            12.006805                         7.640000   \n",
       "4                            10.682530                         7.530000   \n",
       "...                                ...                              ...   \n",
       "5285                         15.963399                         8.070000   \n",
       "5286                         16.002605                         8.070000   \n",
       "5287                         15.993669                         8.070000   \n",
       "5288                         15.438979                         8.070000   \n",
       "5289                         14.995850                         8.070000   \n",
       "\n",
       "      primary_cleaner.input.xanthate  primary_cleaner.state.floatbank8_a_air  \\\n",
       "0                           1.005021                             1398.981301   \n",
       "1                           0.990469                             1398.777912   \n",
       "2                           0.996043                             1398.493666   \n",
       "3                           0.863514                             1399.618111   \n",
       "4                           0.805575                             1401.268123   \n",
       "...                              ...                                     ...   \n",
       "5285                        0.896701                             1401.930554   \n",
       "5286                        0.896519                             1447.075722   \n",
       "5287                        1.165996                             1498.836182   \n",
       "5288                        1.501068                             1498.466243   \n",
       "5289                        1.623454                             1498.096303   \n",
       "\n",
       "      primary_cleaner.state.floatbank8_a_level  \\\n",
       "0                                  -500.225577   \n",
       "1                                  -500.057435   \n",
       "2                                  -500.868360   \n",
       "3                                  -498.863574   \n",
       "4                                  -500.808305   \n",
       "...                                        ...   \n",
       "5285                               -499.728848   \n",
       "5286                               -494.716823   \n",
       "5287                               -501.770403   \n",
       "5288                               -500.483984   \n",
       "5289                               -499.796922   \n",
       "\n",
       "      primary_cleaner.state.floatbank8_b_air  \\\n",
       "0                                1399.144926   \n",
       "1                                1398.055362   \n",
       "2                                1398.860436   \n",
       "3                                1397.440120   \n",
       "4                                1398.128818   \n",
       "...                                      ...   \n",
       "5285                             1401.441445   \n",
       "5286                             1448.851892   \n",
       "5287                             1499.572353   \n",
       "5288                             1497.986986   \n",
       "5289                             1501.743791   \n",
       "\n",
       "      primary_cleaner.state.floatbank8_b_level  \\\n",
       "0                                  -499.919735   \n",
       "1                                  -499.778182   \n",
       "2                                  -499.764529   \n",
       "3                                  -499.211024   \n",
       "4                                  -499.504543   \n",
       "...                                        ...   \n",
       "5285                               -499.193423   \n",
       "5286                               -465.963026   \n",
       "5287                               -495.516347   \n",
       "5288                               -519.200340   \n",
       "5289                               -505.146931   \n",
       "\n",
       "      primary_cleaner.state.floatbank8_c_air  ...  \\\n",
       "0                                1400.102998  ...   \n",
       "1                                1396.151033  ...   \n",
       "2                                1398.075709  ...   \n",
       "3                                1400.129303  ...   \n",
       "4                                1402.172226  ...   \n",
       "...                                      ...  ...   \n",
       "5285                             1399.810313  ...   \n",
       "5286                             1443.890424  ...   \n",
       "5287                             1502.749213  ...   \n",
       "5288                             1496.569047  ...   \n",
       "5289                             1499.535978  ...   \n",
       "\n",
       "      secondary_cleaner.state.floatbank4_a_air  \\\n",
       "0                                    12.023554   \n",
       "1                                    12.058140   \n",
       "2                                    11.962366   \n",
       "3                                    12.033091   \n",
       "4                                    12.025367   \n",
       "...                                        ...   \n",
       "5285                                 13.995957   \n",
       "5286                                 16.749781   \n",
       "5287                                 19.994130   \n",
       "5288                                 19.958760   \n",
       "5289                                 20.034715   \n",
       "\n",
       "      secondary_cleaner.state.floatbank4_a_level  \\\n",
       "0                                    -497.795834   \n",
       "1                                    -498.695773   \n",
       "2                                    -498.767484   \n",
       "3                                    -498.350935   \n",
       "4                                    -500.786497   \n",
       "...                                          ...   \n",
       "5285                                 -500.157454   \n",
       "5286                                 -496.031539   \n",
       "5287                                 -499.791312   \n",
       "5288                                 -499.958750   \n",
       "5289                                 -500.728588   \n",
       "\n",
       "      secondary_cleaner.state.floatbank4_b_air  \\\n",
       "0                                     8.016656   \n",
       "1                                     8.130979   \n",
       "2                                     8.096893   \n",
       "3                                     8.074946   \n",
       "4                                     8.054678   \n",
       "...                                        ...   \n",
       "5285                                 12.069155   \n",
       "5286                                 13.365371   \n",
       "5287                                 15.101425   \n",
       "5288                                 15.026853   \n",
       "5289                                 14.914199   \n",
       "\n",
       "      secondary_cleaner.state.floatbank4_b_level  \\\n",
       "0                                    -501.289139   \n",
       "1                                    -499.634209   \n",
       "2                                    -500.827423   \n",
       "3                                    -499.474407   \n",
       "4                                    -500.397500   \n",
       "...                                          ...   \n",
       "5285                                 -499.673279   \n",
       "5286                                 -499.122723   \n",
       "5287                                 -499.936252   \n",
       "5288                                 -499.723143   \n",
       "5289                                 -499.948518   \n",
       "\n",
       "      secondary_cleaner.state.floatbank5_a_air  \\\n",
       "0                                     7.946562   \n",
       "1                                     7.958270   \n",
       "2                                     8.071056   \n",
       "3                                     7.897085   \n",
       "4                                     8.107890   \n",
       "...                                        ...   \n",
       "5285                                  7.977259   \n",
       "5286                                  9.288553   \n",
       "5287                                 10.989181   \n",
       "5288                                 11.011607   \n",
       "5289                                 10.986607   \n",
       "\n",
       "      secondary_cleaner.state.floatbank5_a_level  \\\n",
       "0                                    -432.317850   \n",
       "1                                    -525.839648   \n",
       "2                                    -500.801673   \n",
       "3                                    -500.868509   \n",
       "4                                    -509.526725   \n",
       "...                                          ...   \n",
       "5285                                 -499.516126   \n",
       "5286                                 -496.892967   \n",
       "5287                                 -498.347898   \n",
       "5288                                 -499.985046   \n",
       "5289                                 -500.658027   \n",
       "\n",
       "      secondary_cleaner.state.floatbank5_b_air  \\\n",
       "0                                     4.872511   \n",
       "1                                     4.878850   \n",
       "2                                     4.905125   \n",
       "3                                     4.931400   \n",
       "4                                     4.957674   \n",
       "...                                        ...   \n",
       "5285                                  5.933319   \n",
       "5286                                  7.372897   \n",
       "5287                                  9.020944   \n",
       "5288                                  9.009783   \n",
       "5289                                  8.989497   \n",
       "\n",
       "      secondary_cleaner.state.floatbank5_b_level  \\\n",
       "0                                    -500.037437   \n",
       "1                                    -500.162375   \n",
       "2                                    -499.828510   \n",
       "3                                    -499.963623   \n",
       "4                                    -500.360026   \n",
       "...                                          ...   \n",
       "5285                                 -499.965973   \n",
       "5286                                 -499.942956   \n",
       "5287                                 -500.040448   \n",
       "5288                                 -499.937902   \n",
       "5289                                 -500.337588   \n",
       "\n",
       "      secondary_cleaner.state.floatbank6_a_air  \\\n",
       "0                                    26.705889   \n",
       "1                                    25.019940   \n",
       "2                                    24.994862   \n",
       "3                                    24.948919   \n",
       "4                                    25.003331   \n",
       "...                                        ...   \n",
       "5285                                  8.987171   \n",
       "5286                                  8.986832   \n",
       "5287                                  8.982038   \n",
       "5288                                  9.012660   \n",
       "5289                                  8.988632   \n",
       "\n",
       "      secondary_cleaner.state.floatbank6_a_level  \n",
       "0                                    -499.709414  \n",
       "1                                    -499.819438  \n",
       "2                                    -500.622559  \n",
       "3                                    -498.709987  \n",
       "4                                    -500.856333  \n",
       "...                                          ...  \n",
       "5285                                 -499.755909  \n",
       "5286                                 -499.903761  \n",
       "5287                                 -497.789882  \n",
       "5288                                 -500.154284  \n",
       "5289                                 -500.764937  \n",
       "\n",
       "[5290 rows x 53 columns]"
      ]
     },
     "metadata": {},
     "output_type": "display_data"
    }
   ],
   "source": [
    "data_test = pd.read_csv('/datasets/gold_recovery_test_new.csv')\n",
    "display(data_test)"
   ]
  },
  {
   "cell_type": "markdown",
   "metadata": {},
   "source": [
    "В тестовой выборке не хватает 34 признаков. Ну приехали. Давайте, хотя бы узнаем, каких.\n",
    "\n",
    "В задании это объясняется тем, что какие-то параметры \"рассчитываются\" и там нет целевых параметров. Однако это все есть в полной выборке. Зачем нам датасет с пропусками при наличии датасета без проопусков я ума не приложу. В общем, когда будет надо - просто разобьем полную выборку на тренировочную и тестовую и даже думать нечего. "
   ]
  },
  {
   "cell_type": "code",
   "execution_count": 4,
   "metadata": {},
   "outputs": [
    {
     "name": "stdout",
     "output_type": "stream",
     "text": [
      "<class 'pandas.core.frame.DataFrame'>\n",
      "RangeIndex: 5290 entries, 0 to 5289\n",
      "Data columns (total 53 columns):\n",
      " #   Column                                      Non-Null Count  Dtype  \n",
      "---  ------                                      --------------  -----  \n",
      " 0   date                                        5290 non-null   object \n",
      " 1   primary_cleaner.input.sulfate               5286 non-null   float64\n",
      " 2   primary_cleaner.input.depressant            5285 non-null   float64\n",
      " 3   primary_cleaner.input.feed_size             5290 non-null   float64\n",
      " 4   primary_cleaner.input.xanthate              5286 non-null   float64\n",
      " 5   primary_cleaner.state.floatbank8_a_air      5290 non-null   float64\n",
      " 6   primary_cleaner.state.floatbank8_a_level    5290 non-null   float64\n",
      " 7   primary_cleaner.state.floatbank8_b_air      5290 non-null   float64\n",
      " 8   primary_cleaner.state.floatbank8_b_level    5290 non-null   float64\n",
      " 9   primary_cleaner.state.floatbank8_c_air      5290 non-null   float64\n",
      " 10  primary_cleaner.state.floatbank8_c_level    5290 non-null   float64\n",
      " 11  primary_cleaner.state.floatbank8_d_air      5290 non-null   float64\n",
      " 12  primary_cleaner.state.floatbank8_d_level    5290 non-null   float64\n",
      " 13  rougher.input.feed_ag                       5290 non-null   float64\n",
      " 14  rougher.input.feed_pb                       5290 non-null   float64\n",
      " 15  rougher.input.feed_rate                     5287 non-null   float64\n",
      " 16  rougher.input.feed_size                     5289 non-null   float64\n",
      " 17  rougher.input.feed_sol                      5269 non-null   float64\n",
      " 18  rougher.input.feed_au                       5290 non-null   float64\n",
      " 19  rougher.input.floatbank10_sulfate           5285 non-null   float64\n",
      " 20  rougher.input.floatbank10_xanthate          5290 non-null   float64\n",
      " 21  rougher.input.floatbank11_sulfate           5282 non-null   float64\n",
      " 22  rougher.input.floatbank11_xanthate          5265 non-null   float64\n",
      " 23  rougher.state.floatbank10_a_air             5290 non-null   float64\n",
      " 24  rougher.state.floatbank10_a_level           5290 non-null   float64\n",
      " 25  rougher.state.floatbank10_b_air             5290 non-null   float64\n",
      " 26  rougher.state.floatbank10_b_level           5290 non-null   float64\n",
      " 27  rougher.state.floatbank10_c_air             5290 non-null   float64\n",
      " 28  rougher.state.floatbank10_c_level           5290 non-null   float64\n",
      " 29  rougher.state.floatbank10_d_air             5290 non-null   float64\n",
      " 30  rougher.state.floatbank10_d_level           5290 non-null   float64\n",
      " 31  rougher.state.floatbank10_e_air             5290 non-null   float64\n",
      " 32  rougher.state.floatbank10_e_level           5290 non-null   float64\n",
      " 33  rougher.state.floatbank10_f_air             5290 non-null   float64\n",
      " 34  rougher.state.floatbank10_f_level           5290 non-null   float64\n",
      " 35  secondary_cleaner.state.floatbank2_a_air    5287 non-null   float64\n",
      " 36  secondary_cleaner.state.floatbank2_a_level  5290 non-null   float64\n",
      " 37  secondary_cleaner.state.floatbank2_b_air    5288 non-null   float64\n",
      " 38  secondary_cleaner.state.floatbank2_b_level  5290 non-null   float64\n",
      " 39  secondary_cleaner.state.floatbank3_a_air    5281 non-null   float64\n",
      " 40  secondary_cleaner.state.floatbank3_a_level  5290 non-null   float64\n",
      " 41  secondary_cleaner.state.floatbank3_b_air    5290 non-null   float64\n",
      " 42  secondary_cleaner.state.floatbank3_b_level  5290 non-null   float64\n",
      " 43  secondary_cleaner.state.floatbank4_a_air    5290 non-null   float64\n",
      " 44  secondary_cleaner.state.floatbank4_a_level  5290 non-null   float64\n",
      " 45  secondary_cleaner.state.floatbank4_b_air    5290 non-null   float64\n",
      " 46  secondary_cleaner.state.floatbank4_b_level  5290 non-null   float64\n",
      " 47  secondary_cleaner.state.floatbank5_a_air    5290 non-null   float64\n",
      " 48  secondary_cleaner.state.floatbank5_a_level  5290 non-null   float64\n",
      " 49  secondary_cleaner.state.floatbank5_b_air    5290 non-null   float64\n",
      " 50  secondary_cleaner.state.floatbank5_b_level  5290 non-null   float64\n",
      " 51  secondary_cleaner.state.floatbank6_a_air    5290 non-null   float64\n",
      " 52  secondary_cleaner.state.floatbank6_a_level  5290 non-null   float64\n",
      "dtypes: float64(52), object(1)\n",
      "memory usage: 2.1+ MB\n"
     ]
    }
   ],
   "source": [
    "data_test.info()"
   ]
  },
  {
   "cell_type": "code",
   "execution_count": 5,
   "metadata": {
    "scrolled": true
   },
   "outputs": [
    {
     "data": {
      "text/html": [
       "<div>\n",
       "<style scoped>\n",
       "    .dataframe tbody tr th:only-of-type {\n",
       "        vertical-align: middle;\n",
       "    }\n",
       "\n",
       "    .dataframe tbody tr th {\n",
       "        vertical-align: top;\n",
       "    }\n",
       "\n",
       "    .dataframe thead th {\n",
       "        text-align: right;\n",
       "    }\n",
       "</style>\n",
       "<table border=\"1\" class=\"dataframe\">\n",
       "  <thead>\n",
       "    <tr style=\"text-align: right;\">\n",
       "      <th></th>\n",
       "      <th>date</th>\n",
       "      <th>final.output.concentrate_ag</th>\n",
       "      <th>final.output.concentrate_pb</th>\n",
       "      <th>final.output.concentrate_sol</th>\n",
       "      <th>final.output.concentrate_au</th>\n",
       "      <th>final.output.recovery</th>\n",
       "      <th>final.output.tail_ag</th>\n",
       "      <th>final.output.tail_pb</th>\n",
       "      <th>final.output.tail_sol</th>\n",
       "      <th>final.output.tail_au</th>\n",
       "      <th>...</th>\n",
       "      <th>secondary_cleaner.state.floatbank4_a_air</th>\n",
       "      <th>secondary_cleaner.state.floatbank4_a_level</th>\n",
       "      <th>secondary_cleaner.state.floatbank4_b_air</th>\n",
       "      <th>secondary_cleaner.state.floatbank4_b_level</th>\n",
       "      <th>secondary_cleaner.state.floatbank5_a_air</th>\n",
       "      <th>secondary_cleaner.state.floatbank5_a_level</th>\n",
       "      <th>secondary_cleaner.state.floatbank5_b_air</th>\n",
       "      <th>secondary_cleaner.state.floatbank5_b_level</th>\n",
       "      <th>secondary_cleaner.state.floatbank6_a_air</th>\n",
       "      <th>secondary_cleaner.state.floatbank6_a_level</th>\n",
       "    </tr>\n",
       "  </thead>\n",
       "  <tbody>\n",
       "    <tr>\n",
       "      <th>0</th>\n",
       "      <td>2016-01-15 00:00:00</td>\n",
       "      <td>6.055403</td>\n",
       "      <td>9.889648</td>\n",
       "      <td>5.507324</td>\n",
       "      <td>42.192020</td>\n",
       "      <td>70.541216</td>\n",
       "      <td>10.411962</td>\n",
       "      <td>0.895447</td>\n",
       "      <td>16.904297</td>\n",
       "      <td>2.143149</td>\n",
       "      <td>...</td>\n",
       "      <td>14.016835</td>\n",
       "      <td>-502.488007</td>\n",
       "      <td>12.099931</td>\n",
       "      <td>-504.715942</td>\n",
       "      <td>9.925633</td>\n",
       "      <td>-498.310211</td>\n",
       "      <td>8.079666</td>\n",
       "      <td>-500.470978</td>\n",
       "      <td>14.151341</td>\n",
       "      <td>-605.841980</td>\n",
       "    </tr>\n",
       "    <tr>\n",
       "      <th>1</th>\n",
       "      <td>2016-01-15 01:00:00</td>\n",
       "      <td>6.029369</td>\n",
       "      <td>9.968944</td>\n",
       "      <td>5.257781</td>\n",
       "      <td>42.701629</td>\n",
       "      <td>69.266198</td>\n",
       "      <td>10.462676</td>\n",
       "      <td>0.927452</td>\n",
       "      <td>16.634514</td>\n",
       "      <td>2.224930</td>\n",
       "      <td>...</td>\n",
       "      <td>13.992281</td>\n",
       "      <td>-505.503262</td>\n",
       "      <td>11.950531</td>\n",
       "      <td>-501.331529</td>\n",
       "      <td>10.039245</td>\n",
       "      <td>-500.169983</td>\n",
       "      <td>7.984757</td>\n",
       "      <td>-500.582168</td>\n",
       "      <td>13.998353</td>\n",
       "      <td>-599.787184</td>\n",
       "    </tr>\n",
       "    <tr>\n",
       "      <th>2</th>\n",
       "      <td>2016-01-15 02:00:00</td>\n",
       "      <td>6.055926</td>\n",
       "      <td>10.213995</td>\n",
       "      <td>5.383759</td>\n",
       "      <td>42.657501</td>\n",
       "      <td>68.116445</td>\n",
       "      <td>10.507046</td>\n",
       "      <td>0.953716</td>\n",
       "      <td>16.208849</td>\n",
       "      <td>2.257889</td>\n",
       "      <td>...</td>\n",
       "      <td>14.015015</td>\n",
       "      <td>-502.520901</td>\n",
       "      <td>11.912783</td>\n",
       "      <td>-501.133383</td>\n",
       "      <td>10.070913</td>\n",
       "      <td>-500.129135</td>\n",
       "      <td>8.013877</td>\n",
       "      <td>-500.517572</td>\n",
       "      <td>14.028663</td>\n",
       "      <td>-601.427363</td>\n",
       "    </tr>\n",
       "    <tr>\n",
       "      <th>3</th>\n",
       "      <td>2016-01-15 03:00:00</td>\n",
       "      <td>6.047977</td>\n",
       "      <td>9.977019</td>\n",
       "      <td>4.858634</td>\n",
       "      <td>42.689819</td>\n",
       "      <td>68.347543</td>\n",
       "      <td>10.422762</td>\n",
       "      <td>0.883763</td>\n",
       "      <td>16.532835</td>\n",
       "      <td>2.146849</td>\n",
       "      <td>...</td>\n",
       "      <td>14.036510</td>\n",
       "      <td>-500.857308</td>\n",
       "      <td>11.999550</td>\n",
       "      <td>-501.193686</td>\n",
       "      <td>9.970366</td>\n",
       "      <td>-499.201640</td>\n",
       "      <td>7.977324</td>\n",
       "      <td>-500.255908</td>\n",
       "      <td>14.005551</td>\n",
       "      <td>-599.996129</td>\n",
       "    </tr>\n",
       "    <tr>\n",
       "      <th>4</th>\n",
       "      <td>2016-01-15 04:00:00</td>\n",
       "      <td>6.148599</td>\n",
       "      <td>10.142511</td>\n",
       "      <td>4.939416</td>\n",
       "      <td>42.774141</td>\n",
       "      <td>66.927016</td>\n",
       "      <td>10.360302</td>\n",
       "      <td>0.792826</td>\n",
       "      <td>16.525686</td>\n",
       "      <td>2.055292</td>\n",
       "      <td>...</td>\n",
       "      <td>14.027298</td>\n",
       "      <td>-499.838632</td>\n",
       "      <td>11.953070</td>\n",
       "      <td>-501.053894</td>\n",
       "      <td>9.925709</td>\n",
       "      <td>-501.686727</td>\n",
       "      <td>7.894242</td>\n",
       "      <td>-500.356035</td>\n",
       "      <td>13.996647</td>\n",
       "      <td>-601.496691</td>\n",
       "    </tr>\n",
       "    <tr>\n",
       "      <th>...</th>\n",
       "      <td>...</td>\n",
       "      <td>...</td>\n",
       "      <td>...</td>\n",
       "      <td>...</td>\n",
       "      <td>...</td>\n",
       "      <td>...</td>\n",
       "      <td>...</td>\n",
       "      <td>...</td>\n",
       "      <td>...</td>\n",
       "      <td>...</td>\n",
       "      <td>...</td>\n",
       "      <td>...</td>\n",
       "      <td>...</td>\n",
       "      <td>...</td>\n",
       "      <td>...</td>\n",
       "      <td>...</td>\n",
       "      <td>...</td>\n",
       "      <td>...</td>\n",
       "      <td>...</td>\n",
       "      <td>...</td>\n",
       "      <td>...</td>\n",
       "    </tr>\n",
       "    <tr>\n",
       "      <th>19434</th>\n",
       "      <td>2018-08-18 06:59:59</td>\n",
       "      <td>3.224920</td>\n",
       "      <td>11.356233</td>\n",
       "      <td>6.803482</td>\n",
       "      <td>46.713954</td>\n",
       "      <td>73.755150</td>\n",
       "      <td>8.769645</td>\n",
       "      <td>3.141541</td>\n",
       "      <td>10.403181</td>\n",
       "      <td>1.529220</td>\n",
       "      <td>...</td>\n",
       "      <td>23.031497</td>\n",
       "      <td>-501.167942</td>\n",
       "      <td>20.007571</td>\n",
       "      <td>-499.740028</td>\n",
       "      <td>18.006038</td>\n",
       "      <td>-499.834374</td>\n",
       "      <td>13.001114</td>\n",
       "      <td>-500.155694</td>\n",
       "      <td>20.007840</td>\n",
       "      <td>-501.296428</td>\n",
       "    </tr>\n",
       "    <tr>\n",
       "      <th>19435</th>\n",
       "      <td>2018-08-18 07:59:59</td>\n",
       "      <td>3.195978</td>\n",
       "      <td>11.349355</td>\n",
       "      <td>6.862249</td>\n",
       "      <td>46.866780</td>\n",
       "      <td>69.049291</td>\n",
       "      <td>8.897321</td>\n",
       "      <td>3.130493</td>\n",
       "      <td>10.549470</td>\n",
       "      <td>1.612542</td>\n",
       "      <td>...</td>\n",
       "      <td>22.960095</td>\n",
       "      <td>-501.612783</td>\n",
       "      <td>20.035660</td>\n",
       "      <td>-500.251357</td>\n",
       "      <td>17.998535</td>\n",
       "      <td>-500.395178</td>\n",
       "      <td>12.954048</td>\n",
       "      <td>-499.895163</td>\n",
       "      <td>19.968498</td>\n",
       "      <td>-501.041608</td>\n",
       "    </tr>\n",
       "    <tr>\n",
       "      <th>19436</th>\n",
       "      <td>2018-08-18 08:59:59</td>\n",
       "      <td>3.109998</td>\n",
       "      <td>11.434366</td>\n",
       "      <td>6.886013</td>\n",
       "      <td>46.795691</td>\n",
       "      <td>67.002189</td>\n",
       "      <td>8.529606</td>\n",
       "      <td>2.911418</td>\n",
       "      <td>11.115147</td>\n",
       "      <td>1.596616</td>\n",
       "      <td>...</td>\n",
       "      <td>23.015718</td>\n",
       "      <td>-501.711599</td>\n",
       "      <td>19.951231</td>\n",
       "      <td>-499.857027</td>\n",
       "      <td>18.019543</td>\n",
       "      <td>-500.451156</td>\n",
       "      <td>13.023431</td>\n",
       "      <td>-499.914391</td>\n",
       "      <td>19.990885</td>\n",
       "      <td>-501.518452</td>\n",
       "    </tr>\n",
       "    <tr>\n",
       "      <th>19437</th>\n",
       "      <td>2018-08-18 09:59:59</td>\n",
       "      <td>3.367241</td>\n",
       "      <td>11.625587</td>\n",
       "      <td>6.799433</td>\n",
       "      <td>46.408188</td>\n",
       "      <td>65.523246</td>\n",
       "      <td>8.777171</td>\n",
       "      <td>2.819214</td>\n",
       "      <td>10.463847</td>\n",
       "      <td>1.602879</td>\n",
       "      <td>...</td>\n",
       "      <td>23.024963</td>\n",
       "      <td>-501.153409</td>\n",
       "      <td>20.054122</td>\n",
       "      <td>-500.314711</td>\n",
       "      <td>17.979515</td>\n",
       "      <td>-499.272871</td>\n",
       "      <td>12.992404</td>\n",
       "      <td>-499.976268</td>\n",
       "      <td>20.013986</td>\n",
       "      <td>-500.625471</td>\n",
       "    </tr>\n",
       "    <tr>\n",
       "      <th>19438</th>\n",
       "      <td>2018-08-18 10:59:59</td>\n",
       "      <td>3.598375</td>\n",
       "      <td>11.737832</td>\n",
       "      <td>6.717509</td>\n",
       "      <td>46.299438</td>\n",
       "      <td>70.281454</td>\n",
       "      <td>8.406690</td>\n",
       "      <td>2.517518</td>\n",
       "      <td>10.652193</td>\n",
       "      <td>1.389434</td>\n",
       "      <td>...</td>\n",
       "      <td>23.018622</td>\n",
       "      <td>-500.492702</td>\n",
       "      <td>20.020205</td>\n",
       "      <td>-500.220296</td>\n",
       "      <td>17.963512</td>\n",
       "      <td>-499.939490</td>\n",
       "      <td>12.990306</td>\n",
       "      <td>-500.080993</td>\n",
       "      <td>19.990336</td>\n",
       "      <td>-499.191575</td>\n",
       "    </tr>\n",
       "  </tbody>\n",
       "</table>\n",
       "<p>19439 rows × 87 columns</p>\n",
       "</div>"
      ],
      "text/plain": [
       "                      date  final.output.concentrate_ag  \\\n",
       "0      2016-01-15 00:00:00                     6.055403   \n",
       "1      2016-01-15 01:00:00                     6.029369   \n",
       "2      2016-01-15 02:00:00                     6.055926   \n",
       "3      2016-01-15 03:00:00                     6.047977   \n",
       "4      2016-01-15 04:00:00                     6.148599   \n",
       "...                    ...                          ...   \n",
       "19434  2018-08-18 06:59:59                     3.224920   \n",
       "19435  2018-08-18 07:59:59                     3.195978   \n",
       "19436  2018-08-18 08:59:59                     3.109998   \n",
       "19437  2018-08-18 09:59:59                     3.367241   \n",
       "19438  2018-08-18 10:59:59                     3.598375   \n",
       "\n",
       "       final.output.concentrate_pb  final.output.concentrate_sol  \\\n",
       "0                         9.889648                      5.507324   \n",
       "1                         9.968944                      5.257781   \n",
       "2                        10.213995                      5.383759   \n",
       "3                         9.977019                      4.858634   \n",
       "4                        10.142511                      4.939416   \n",
       "...                            ...                           ...   \n",
       "19434                    11.356233                      6.803482   \n",
       "19435                    11.349355                      6.862249   \n",
       "19436                    11.434366                      6.886013   \n",
       "19437                    11.625587                      6.799433   \n",
       "19438                    11.737832                      6.717509   \n",
       "\n",
       "       final.output.concentrate_au  final.output.recovery  \\\n",
       "0                        42.192020              70.541216   \n",
       "1                        42.701629              69.266198   \n",
       "2                        42.657501              68.116445   \n",
       "3                        42.689819              68.347543   \n",
       "4                        42.774141              66.927016   \n",
       "...                            ...                    ...   \n",
       "19434                    46.713954              73.755150   \n",
       "19435                    46.866780              69.049291   \n",
       "19436                    46.795691              67.002189   \n",
       "19437                    46.408188              65.523246   \n",
       "19438                    46.299438              70.281454   \n",
       "\n",
       "       final.output.tail_ag  final.output.tail_pb  final.output.tail_sol  \\\n",
       "0                 10.411962              0.895447              16.904297   \n",
       "1                 10.462676              0.927452              16.634514   \n",
       "2                 10.507046              0.953716              16.208849   \n",
       "3                 10.422762              0.883763              16.532835   \n",
       "4                 10.360302              0.792826              16.525686   \n",
       "...                     ...                   ...                    ...   \n",
       "19434              8.769645              3.141541              10.403181   \n",
       "19435              8.897321              3.130493              10.549470   \n",
       "19436              8.529606              2.911418              11.115147   \n",
       "19437              8.777171              2.819214              10.463847   \n",
       "19438              8.406690              2.517518              10.652193   \n",
       "\n",
       "       final.output.tail_au  ...  secondary_cleaner.state.floatbank4_a_air  \\\n",
       "0                  2.143149  ...                                 14.016835   \n",
       "1                  2.224930  ...                                 13.992281   \n",
       "2                  2.257889  ...                                 14.015015   \n",
       "3                  2.146849  ...                                 14.036510   \n",
       "4                  2.055292  ...                                 14.027298   \n",
       "...                     ...  ...                                       ...   \n",
       "19434              1.529220  ...                                 23.031497   \n",
       "19435              1.612542  ...                                 22.960095   \n",
       "19436              1.596616  ...                                 23.015718   \n",
       "19437              1.602879  ...                                 23.024963   \n",
       "19438              1.389434  ...                                 23.018622   \n",
       "\n",
       "       secondary_cleaner.state.floatbank4_a_level  \\\n",
       "0                                     -502.488007   \n",
       "1                                     -505.503262   \n",
       "2                                     -502.520901   \n",
       "3                                     -500.857308   \n",
       "4                                     -499.838632   \n",
       "...                                           ...   \n",
       "19434                                 -501.167942   \n",
       "19435                                 -501.612783   \n",
       "19436                                 -501.711599   \n",
       "19437                                 -501.153409   \n",
       "19438                                 -500.492702   \n",
       "\n",
       "       secondary_cleaner.state.floatbank4_b_air  \\\n",
       "0                                     12.099931   \n",
       "1                                     11.950531   \n",
       "2                                     11.912783   \n",
       "3                                     11.999550   \n",
       "4                                     11.953070   \n",
       "...                                         ...   \n",
       "19434                                 20.007571   \n",
       "19435                                 20.035660   \n",
       "19436                                 19.951231   \n",
       "19437                                 20.054122   \n",
       "19438                                 20.020205   \n",
       "\n",
       "       secondary_cleaner.state.floatbank4_b_level  \\\n",
       "0                                     -504.715942   \n",
       "1                                     -501.331529   \n",
       "2                                     -501.133383   \n",
       "3                                     -501.193686   \n",
       "4                                     -501.053894   \n",
       "...                                           ...   \n",
       "19434                                 -499.740028   \n",
       "19435                                 -500.251357   \n",
       "19436                                 -499.857027   \n",
       "19437                                 -500.314711   \n",
       "19438                                 -500.220296   \n",
       "\n",
       "       secondary_cleaner.state.floatbank5_a_air  \\\n",
       "0                                      9.925633   \n",
       "1                                     10.039245   \n",
       "2                                     10.070913   \n",
       "3                                      9.970366   \n",
       "4                                      9.925709   \n",
       "...                                         ...   \n",
       "19434                                 18.006038   \n",
       "19435                                 17.998535   \n",
       "19436                                 18.019543   \n",
       "19437                                 17.979515   \n",
       "19438                                 17.963512   \n",
       "\n",
       "       secondary_cleaner.state.floatbank5_a_level  \\\n",
       "0                                     -498.310211   \n",
       "1                                     -500.169983   \n",
       "2                                     -500.129135   \n",
       "3                                     -499.201640   \n",
       "4                                     -501.686727   \n",
       "...                                           ...   \n",
       "19434                                 -499.834374   \n",
       "19435                                 -500.395178   \n",
       "19436                                 -500.451156   \n",
       "19437                                 -499.272871   \n",
       "19438                                 -499.939490   \n",
       "\n",
       "       secondary_cleaner.state.floatbank5_b_air  \\\n",
       "0                                      8.079666   \n",
       "1                                      7.984757   \n",
       "2                                      8.013877   \n",
       "3                                      7.977324   \n",
       "4                                      7.894242   \n",
       "...                                         ...   \n",
       "19434                                 13.001114   \n",
       "19435                                 12.954048   \n",
       "19436                                 13.023431   \n",
       "19437                                 12.992404   \n",
       "19438                                 12.990306   \n",
       "\n",
       "       secondary_cleaner.state.floatbank5_b_level  \\\n",
       "0                                     -500.470978   \n",
       "1                                     -500.582168   \n",
       "2                                     -500.517572   \n",
       "3                                     -500.255908   \n",
       "4                                     -500.356035   \n",
       "...                                           ...   \n",
       "19434                                 -500.155694   \n",
       "19435                                 -499.895163   \n",
       "19436                                 -499.914391   \n",
       "19437                                 -499.976268   \n",
       "19438                                 -500.080993   \n",
       "\n",
       "       secondary_cleaner.state.floatbank6_a_air  \\\n",
       "0                                     14.151341   \n",
       "1                                     13.998353   \n",
       "2                                     14.028663   \n",
       "3                                     14.005551   \n",
       "4                                     13.996647   \n",
       "...                                         ...   \n",
       "19434                                 20.007840   \n",
       "19435                                 19.968498   \n",
       "19436                                 19.990885   \n",
       "19437                                 20.013986   \n",
       "19438                                 19.990336   \n",
       "\n",
       "       secondary_cleaner.state.floatbank6_a_level  \n",
       "0                                     -605.841980  \n",
       "1                                     -599.787184  \n",
       "2                                     -601.427363  \n",
       "3                                     -599.996129  \n",
       "4                                     -601.496691  \n",
       "...                                           ...  \n",
       "19434                                 -501.296428  \n",
       "19435                                 -501.041608  \n",
       "19436                                 -501.518452  \n",
       "19437                                 -500.625471  \n",
       "19438                                 -499.191575  \n",
       "\n",
       "[19439 rows x 87 columns]"
      ]
     },
     "metadata": {},
     "output_type": "display_data"
    }
   ],
   "source": [
    "data_full = pd.read_csv('/datasets/gold_recovery_full_new.csv')\n",
    "display(data_full)"
   ]
  },
  {
   "cell_type": "code",
   "execution_count": 6,
   "metadata": {},
   "outputs": [
    {
     "name": "stdout",
     "output_type": "stream",
     "text": [
      "<class 'pandas.core.frame.DataFrame'>\n",
      "RangeIndex: 19439 entries, 0 to 19438\n",
      "Data columns (total 87 columns):\n",
      " #   Column                                              Non-Null Count  Dtype  \n",
      "---  ------                                              --------------  -----  \n",
      " 0   date                                                19439 non-null  object \n",
      " 1   final.output.concentrate_ag                         19438 non-null  float64\n",
      " 2   final.output.concentrate_pb                         19438 non-null  float64\n",
      " 3   final.output.concentrate_sol                        19228 non-null  float64\n",
      " 4   final.output.concentrate_au                         19439 non-null  float64\n",
      " 5   final.output.recovery                               19439 non-null  float64\n",
      " 6   final.output.tail_ag                                19438 non-null  float64\n",
      " 7   final.output.tail_pb                                19338 non-null  float64\n",
      " 8   final.output.tail_sol                               19433 non-null  float64\n",
      " 9   final.output.tail_au                                19439 non-null  float64\n",
      " 10  primary_cleaner.input.sulfate                       19415 non-null  float64\n",
      " 11  primary_cleaner.input.depressant                    19402 non-null  float64\n",
      " 12  primary_cleaner.input.feed_size                     19439 non-null  float64\n",
      " 13  primary_cleaner.input.xanthate                      19335 non-null  float64\n",
      " 14  primary_cleaner.output.concentrate_ag               19439 non-null  float64\n",
      " 15  primary_cleaner.output.concentrate_pb               19323 non-null  float64\n",
      " 16  primary_cleaner.output.concentrate_sol              19069 non-null  float64\n",
      " 17  primary_cleaner.output.concentrate_au               19439 non-null  float64\n",
      " 18  primary_cleaner.output.tail_ag                      19435 non-null  float64\n",
      " 19  primary_cleaner.output.tail_pb                      19418 non-null  float64\n",
      " 20  primary_cleaner.output.tail_sol                     19377 non-null  float64\n",
      " 21  primary_cleaner.output.tail_au                      19439 non-null  float64\n",
      " 22  primary_cleaner.state.floatbank8_a_air              19435 non-null  float64\n",
      " 23  primary_cleaner.state.floatbank8_a_level            19438 non-null  float64\n",
      " 24  primary_cleaner.state.floatbank8_b_air              19435 non-null  float64\n",
      " 25  primary_cleaner.state.floatbank8_b_level            19438 non-null  float64\n",
      " 26  primary_cleaner.state.floatbank8_c_air              19437 non-null  float64\n",
      " 27  primary_cleaner.state.floatbank8_c_level            19438 non-null  float64\n",
      " 28  primary_cleaner.state.floatbank8_d_air              19436 non-null  float64\n",
      " 29  primary_cleaner.state.floatbank8_d_level            19438 non-null  float64\n",
      " 30  rougher.calculation.sulfate_to_au_concentrate       19437 non-null  float64\n",
      " 31  rougher.calculation.floatbank10_sulfate_to_au_feed  19437 non-null  float64\n",
      " 32  rougher.calculation.floatbank11_sulfate_to_au_feed  19437 non-null  float64\n",
      " 33  rougher.calculation.au_pb_ratio                     19439 non-null  float64\n",
      " 34  rougher.input.feed_ag                               19439 non-null  float64\n",
      " 35  rougher.input.feed_pb                               19339 non-null  float64\n",
      " 36  rougher.input.feed_rate                             19428 non-null  float64\n",
      " 37  rougher.input.feed_size                             19294 non-null  float64\n",
      " 38  rougher.input.feed_sol                              19340 non-null  float64\n",
      " 39  rougher.input.feed_au                               19439 non-null  float64\n",
      " 40  rougher.input.floatbank10_sulfate                   19405 non-null  float64\n",
      " 41  rougher.input.floatbank10_xanthate                  19431 non-null  float64\n",
      " 42  rougher.input.floatbank11_sulfate                   19395 non-null  float64\n",
      " 43  rougher.input.floatbank11_xanthate                  18986 non-null  float64\n",
      " 44  rougher.output.concentrate_ag                       19439 non-null  float64\n",
      " 45  rougher.output.concentrate_pb                       19439 non-null  float64\n",
      " 46  rougher.output.concentrate_sol                      19416 non-null  float64\n",
      " 47  rougher.output.concentrate_au                       19439 non-null  float64\n",
      " 48  rougher.output.recovery                             19439 non-null  float64\n",
      " 49  rougher.output.tail_ag                              19438 non-null  float64\n",
      " 50  rougher.output.tail_pb                              19439 non-null  float64\n",
      " 51  rougher.output.tail_sol                             19439 non-null  float64\n",
      " 52  rougher.output.tail_au                              19439 non-null  float64\n",
      " 53  rougher.state.floatbank10_a_air                     19438 non-null  float64\n",
      " 54  rougher.state.floatbank10_a_level                   19438 non-null  float64\n",
      " 55  rougher.state.floatbank10_b_air                     19438 non-null  float64\n",
      " 56  rougher.state.floatbank10_b_level                   19438 non-null  float64\n",
      " 57  rougher.state.floatbank10_c_air                     19438 non-null  float64\n",
      " 58  rougher.state.floatbank10_c_level                   19438 non-null  float64\n",
      " 59  rougher.state.floatbank10_d_air                     19439 non-null  float64\n",
      " 60  rougher.state.floatbank10_d_level                   19439 non-null  float64\n",
      " 61  rougher.state.floatbank10_e_air                     19003 non-null  float64\n",
      " 62  rougher.state.floatbank10_e_level                   19439 non-null  float64\n",
      " 63  rougher.state.floatbank10_f_air                     19439 non-null  float64\n",
      " 64  rougher.state.floatbank10_f_level                   19439 non-null  float64\n",
      " 65  secondary_cleaner.output.tail_ag                    19437 non-null  float64\n",
      " 66  secondary_cleaner.output.tail_pb                    19427 non-null  float64\n",
      " 67  secondary_cleaner.output.tail_sol                   17691 non-null  float64\n",
      " 68  secondary_cleaner.output.tail_au                    19439 non-null  float64\n",
      " 69  secondary_cleaner.state.floatbank2_a_air            19219 non-null  float64\n",
      " 70  secondary_cleaner.state.floatbank2_a_level          19438 non-null  float64\n",
      " 71  secondary_cleaner.state.floatbank2_b_air            19416 non-null  float64\n",
      " 72  secondary_cleaner.state.floatbank2_b_level          19438 non-null  float64\n",
      " 73  secondary_cleaner.state.floatbank3_a_air            19426 non-null  float64\n",
      " 74  secondary_cleaner.state.floatbank3_a_level          19438 non-null  float64\n",
      " 75  secondary_cleaner.state.floatbank3_b_air            19438 non-null  float64\n",
      " 76  secondary_cleaner.state.floatbank3_b_level          19438 non-null  float64\n",
      " 77  secondary_cleaner.state.floatbank4_a_air            19433 non-null  float64\n",
      " 78  secondary_cleaner.state.floatbank4_a_level          19438 non-null  float64\n",
      " 79  secondary_cleaner.state.floatbank4_b_air            19438 non-null  float64\n",
      " 80  secondary_cleaner.state.floatbank4_b_level          19438 non-null  float64\n",
      " 81  secondary_cleaner.state.floatbank5_a_air            19438 non-null  float64\n",
      " 82  secondary_cleaner.state.floatbank5_a_level          19438 non-null  float64\n",
      " 83  secondary_cleaner.state.floatbank5_b_air            19438 non-null  float64\n",
      " 84  secondary_cleaner.state.floatbank5_b_level          19438 non-null  float64\n",
      " 85  secondary_cleaner.state.floatbank6_a_air            19437 non-null  float64\n",
      " 86  secondary_cleaner.state.floatbank6_a_level          19438 non-null  float64\n",
      "dtypes: float64(86), object(1)\n",
      "memory usage: 12.9+ MB\n"
     ]
    }
   ],
   "source": [
    "data_full.info()"
   ]
  },
  {
   "cell_type": "code",
   "execution_count": 7,
   "metadata": {},
   "outputs": [],
   "source": [
    "#data_full.hist(figsize=(50, 50));"
   ]
  },
  {
   "cell_type": "markdown",
   "metadata": {},
   "source": [
    "87 признаков... И все числовые. Их даже в таблице не увидишь все, с ними даже познакомиться непросто, очень интересно, как мы будем их обрабатывать. Пока ничего не понятно. \n",
    "\n",
    "Но давайте хотя бы посмотрим значения целевого признака. "
   ]
  },
  {
   "cell_type": "markdown",
   "metadata": {},
   "source": [
    "Числовые все кроме даты. Пардон, но дата нам уж точно не нужна. А если ради нее еще и данные обрабатывать... "
   ]
  },
  {
   "cell_type": "code",
   "execution_count": 8,
   "metadata": {},
   "outputs": [],
   "source": [
    "data_train1 = data_train.drop('date', axis=1)\n",
    "#data_test = data_test.drop('date', axis=1)\n",
    "#data_full = data_full.drop('date', axis=1)"
   ]
  },
  {
   "cell_type": "code",
   "execution_count": 9,
   "metadata": {},
   "outputs": [
    {
     "name": "stdout",
     "output_type": "stream",
     "text": [
      "0.000000      394\n",
      "83.406924      10\n",
      "89.512544       6\n",
      "100.000000      5\n",
      "91.792293       5\n",
      "             ... \n",
      "81.281279       1\n",
      "87.035862       1\n",
      "81.017150       1\n",
      "77.494088       1\n",
      "82.366128       1\n",
      "Name: rougher.output.recovery, Length: 19017, dtype: int64\n"
     ]
    }
   ],
   "source": [
    "print(data_full['rougher.output.recovery'].value_counts())"
   ]
  },
  {
   "cell_type": "code",
   "execution_count": 10,
   "metadata": {},
   "outputs": [
    {
     "data": {
      "image/png": "[encoded data removed]",
      "text/plain": [
       "<Figure size 576x576 with 1 Axes>"
      ]
     },
     "metadata": {
      "needs_background": "light"
     },
     "output_type": "display_data"
    }
   ],
   "source": [
    "data_full['rougher.output.recovery'].hist(figsize=(8, 8));"
   ]
  },
  {
   "cell_type": "markdown",
   "metadata": {},
   "source": [
    "У нас есть 394 нулевых значения целевого параметра 'rougher.output.recovery'. Бывет ли нулевая эффективность восстановления чернового концентрата? В теории, если модель будет плохая, можно удалить эти нули."
   ]
  },
  {
   "cell_type": "markdown",
   "metadata": {},
   "source": [
    "Нас спасаает то, что у нас есть четкое задание и путь по которому мы должны пройти, поэтому мы так и поступим. Категориальных признаков у нас нет, поэтому дополнительная обработка признаков не нужна. Конечно, можно сделать масштабировние, но я склоняюсь к модели случайного леса, мне кажется, она даст более качественный результат, а здесь масштабирование не нужно. "
   ]
  },
  {
   "cell_type": "markdown",
   "metadata": {},
   "source": [
    "Осуществим поиск гиперпараметров через GridSearchCV. Это будет очень долго, зато там вшита кросс-валидация и мы сможем получать наилучший результат с минимальным риском переобучения и оптимальными гиперпараметрами. Гиперпараметры сохраним, чтобы не запускать постоянно."
   ]
  },
  {
   "cell_type": "markdown",
   "metadata": {},
   "source": [
    "Изначально ни от каких данных избавляться мы не будем. Пускай модель сама определяет, что важно. Тем более что деревья с потрясающей легкостью игнорируют неважные параметры."
   ]
  },
  {
   "cell_type": "code",
   "execution_count": 11,
   "metadata": {},
   "outputs": [
    {
     "name": "stdout",
     "output_type": "stream",
     "text": [
      "date                                                    0\n",
      "final.output.concentrate_ag                             1\n",
      "final.output.concentrate_pb                             1\n",
      "final.output.concentrate_sol                          211\n",
      "final.output.concentrate_au                             0\n",
      "final.output.recovery                                   0\n",
      "final.output.tail_ag                                    0\n",
      "final.output.tail_pb                                  100\n",
      "final.output.tail_sol                                   5\n",
      "final.output.tail_au                                    0\n",
      "primary_cleaner.input.sulfate                          20\n",
      "primary_cleaner.input.depressant                       32\n",
      "primary_cleaner.input.feed_size                         0\n",
      "primary_cleaner.input.xanthate                        100\n",
      "primary_cleaner.output.concentrate_ag                   0\n",
      "primary_cleaner.output.concentrate_pb                  86\n",
      "primary_cleaner.output.concentrate_sol                286\n",
      "primary_cleaner.output.concentrate_au                   0\n",
      "primary_cleaner.output.tail_ag                          1\n",
      "primary_cleaner.output.tail_pb                         15\n",
      "primary_cleaner.output.tail_sol                        46\n",
      "primary_cleaner.output.tail_au                          0\n",
      "primary_cleaner.state.floatbank8_a_air                  4\n",
      "primary_cleaner.state.floatbank8_a_level                1\n",
      "primary_cleaner.state.floatbank8_b_air                  4\n",
      "primary_cleaner.state.floatbank8_b_level                1\n",
      "primary_cleaner.state.floatbank8_c_air                  2\n",
      "primary_cleaner.state.floatbank8_c_level                1\n",
      "primary_cleaner.state.floatbank8_d_air                  3\n",
      "primary_cleaner.state.floatbank8_d_level                1\n",
      "rougher.calculation.sulfate_to_au_concentrate           1\n",
      "rougher.calculation.floatbank10_sulfate_to_au_feed      1\n",
      "rougher.calculation.floatbank11_sulfate_to_au_feed      1\n",
      "rougher.calculation.au_pb_ratio                         0\n",
      "rougher.input.feed_ag                                   0\n",
      "rougher.input.feed_pb                                 100\n",
      "rougher.input.feed_rate                                 8\n",
      "rougher.input.feed_size                               144\n",
      "rougher.input.feed_sol                                 78\n",
      "rougher.input.feed_au                                   0\n",
      "rougher.input.floatbank10_sulfate                      29\n",
      "rougher.input.floatbank10_xanthate                      8\n",
      "rougher.input.floatbank11_sulfate                      36\n",
      "dtype: int64\n"
     ]
    }
   ],
   "source": [
    "nan_count = data_train.isna().sum()\n",
    "print(nan_count.head(43))"
   ]
  },
  {
   "cell_type": "code",
   "execution_count": 12,
   "metadata": {
    "scrolled": true
   },
   "outputs": [
    {
     "name": "stdout",
     "output_type": "stream",
     "text": [
      "rougher.output.concentrate_ag                    0\n",
      "rougher.output.concentrate_pb                    0\n",
      "rougher.output.concentrate_sol                  22\n",
      "rougher.output.concentrate_au                    0\n",
      "rougher.output.recovery                          0\n",
      "rougher.output.tail_ag                           1\n",
      "rougher.output.tail_pb                           0\n",
      "rougher.output.tail_sol                          0\n",
      "rougher.output.tail_au                           0\n",
      "rougher.state.floatbank10_a_air                  1\n",
      "rougher.state.floatbank10_a_level                1\n",
      "rougher.state.floatbank10_b_air                  1\n",
      "rougher.state.floatbank10_b_level                1\n",
      "rougher.state.floatbank10_c_air                  1\n",
      "rougher.state.floatbank10_c_level                1\n",
      "rougher.state.floatbank10_d_air                  0\n",
      "rougher.state.floatbank10_d_level                0\n",
      "rougher.state.floatbank10_e_air                436\n",
      "rougher.state.floatbank10_e_level                0\n",
      "rougher.state.floatbank10_f_air                  0\n",
      "rougher.state.floatbank10_f_level                0\n",
      "secondary_cleaner.output.tail_ag                 2\n",
      "secondary_cleaner.output.tail_pb                10\n",
      "secondary_cleaner.output.tail_sol             1605\n",
      "secondary_cleaner.output.tail_au                 0\n",
      "secondary_cleaner.state.floatbank2_a_air       217\n",
      "secondary_cleaner.state.floatbank2_a_level       1\n",
      "secondary_cleaner.state.floatbank2_b_air        21\n",
      "secondary_cleaner.state.floatbank2_b_level       1\n",
      "secondary_cleaner.state.floatbank3_a_air         4\n",
      "secondary_cleaner.state.floatbank3_a_level       1\n",
      "secondary_cleaner.state.floatbank3_b_air         1\n",
      "secondary_cleaner.state.floatbank3_b_level       1\n",
      "secondary_cleaner.state.floatbank4_a_air         6\n",
      "secondary_cleaner.state.floatbank4_a_level       1\n",
      "secondary_cleaner.state.floatbank4_b_air         1\n",
      "secondary_cleaner.state.floatbank4_b_level       1\n",
      "secondary_cleaner.state.floatbank5_a_air         1\n",
      "secondary_cleaner.state.floatbank5_a_level       1\n",
      "secondary_cleaner.state.floatbank5_b_air         1\n",
      "secondary_cleaner.state.floatbank5_b_level       1\n",
      "secondary_cleaner.state.floatbank6_a_air         2\n",
      "secondary_cleaner.state.floatbank6_a_level       1\n",
      "dtype: int64\n"
     ]
    }
   ],
   "source": [
    "print(nan_count.tail(43))"
   ]
  },
  {
   "cell_type": "markdown",
   "metadata": {},
   "source": [
    "Очень много Nan. Но хотя бы не в целевом показателе. Давайте, наверное, для начала заполним пропуски, потому что без них мы модель не построим. Наверное, заполним отрицательным значением, чтобы они реже путались с реальными цифрами. Ну и тогда придется допустить бОльшую глубину, потому что эти отрицательные значения могут в какой-то мере оказаться категориями. "
   ]
  },
  {
   "cell_type": "code",
   "execution_count": 13,
   "metadata": {},
   "outputs": [],
   "source": [
    "#data_train = data_train.fillna(value=-1)\n",
    "data_train = data_train.fillna(method='ffill')\n",
    "data_train1 = data_train1.fillna(method='ffill')"
   ]
  },
  {
   "cell_type": "markdown",
   "metadata": {},
   "source": [
    "Для начала выделим целевой признак и остальные признаки. Затем построим модель, затем найдем гиперпараметры, потом оценим качество модели. "
   ]
  },
  {
   "cell_type": "code",
   "execution_count": 14,
   "metadata": {
    "scrolled": true
   },
   "outputs": [],
   "source": [
    "#target_test = data_test['rougher.output.recovery']\n",
    "#features_test = data_test.drop('rougher.output.recovery', axis=1)"
   ]
  },
  {
   "cell_type": "code",
   "execution_count": 15,
   "metadata": {},
   "outputs": [],
   "source": [
    "target_train = data_train1['rougher.output.recovery']\n",
    "features_train = data_train1.drop('rougher.output.recovery', axis=1)"
   ]
  },
  {
   "cell_type": "code",
   "execution_count": 16,
   "metadata": {},
   "outputs": [],
   "source": [
    "features_train1, features_valid1, target_train1, target_valid1 = train_test_split(\n",
    "    features_train, target_train, test_size=0.25, random_state=1984)"
   ]
  },
  {
   "cell_type": "code",
   "execution_count": 17,
   "metadata": {},
   "outputs": [],
   "source": [
    "rfc = RandomForestRegressor()"
   ]
  },
  {
   "cell_type": "markdown",
   "metadata": {},
   "source": [
    "На самом деле для Grid_Search_CV нам не очень-то и нужна валидационная выборка, что-то мы лишнего сделали. Ну и ладно, возвращаемся к первоначальному плану."
   ]
  },
  {
   "cell_type": "code",
   "execution_count": 18,
   "metadata": {},
   "outputs": [],
   "source": [
    "parameters = {'n_estimators': range (10, 51, 10),\n",
    "             'max_depth': range (1,30, 1)}"
   ]
  },
  {
   "cell_type": "code",
   "execution_count": 19,
   "metadata": {},
   "outputs": [],
   "source": [
    "#%%time\n",
    "#grid = GridSearchCV(rfc, parameters, cv=4)\n",
    "#grid.fit(features_train, target_train)\n",
    "#grid.best_params_"
   ]
  },
  {
   "cell_type": "markdown",
   "metadata": {},
   "source": [
    "2 час 20 минут. Вот это безумие... Наши оптимальные гиперпараметры: глубина 22, количество деревьев 40"
   ]
  },
  {
   "cell_type": "code",
   "execution_count": 20,
   "metadata": {},
   "outputs": [],
   "source": [
    "rfr = RandomForestRegressor(max_depth=22, n_estimators=40, random_state=1984)"
   ]
  },
  {
   "cell_type": "code",
   "execution_count": 21,
   "metadata": {},
   "outputs": [
    {
     "name": "stdout",
     "output_type": "stream",
     "text": [
      "CPU times: user 30.6 s, sys: 60.1 ms, total: 30.7 s\n",
      "Wall time: 30.8 s\n"
     ]
    },
    {
     "data": {
      "text/plain": [
       "RandomForestRegressor(max_depth=22, n_estimators=40, random_state=1984)"
      ]
     },
     "execution_count": 21,
     "metadata": {},
     "output_type": "execute_result"
    }
   ],
   "source": [
    "%%time\n",
    "rfr.fit(features_train, target_train)"
   ]
  },
  {
   "cell_type": "code",
   "execution_count": 22,
   "metadata": {},
   "outputs": [],
   "source": [
    "predictions_valid = rfr.predict(features_valid1)"
   ]
  },
  {
   "cell_type": "code",
   "execution_count": 23,
   "metadata": {},
   "outputs": [
    {
     "name": "stdout",
     "output_type": "stream",
     "text": [
      "МАЕ модели случайного леса 0.1990748226532472\n"
     ]
    }
   ],
   "source": [
    "print('МАЕ модели случайного леса', mean_absolute_error(target_valid1, predictions_valid))"
   ]
  },
  {
   "cell_type": "code",
   "execution_count": 24,
   "metadata": {},
   "outputs": [
    {
     "data": {
      "text/plain": [
       "LinearRegression()"
      ]
     },
     "execution_count": 24,
     "metadata": {},
     "output_type": "execute_result"
    }
   ],
   "source": [
    "model_reg = LinearRegression()\n",
    "model_reg.fit(features_train, target_train) "
   ]
  },
  {
   "cell_type": "code",
   "execution_count": 25,
   "metadata": {},
   "outputs": [
    {
     "name": "stdout",
     "output_type": "stream",
     "text": [
      "МАЕ модели регрессии 3.1375210410174157\n"
     ]
    }
   ],
   "source": [
    "print('МАЕ модели регрессии', mean_absolute_error(target_valid1, model_reg.predict(features_valid1)))"
   ]
  },
  {
   "cell_type": "markdown",
   "metadata": {},
   "source": [
    "Модель случайного леса оказалась эффективней примерно в 15 раз. и вообще она получилась невероятно точной. Даже представить было невозможно, что у нас получится построить настолько точную модель. Теперь даже стало чуть меньше обидно, что 2 с половиной часа было потрачено на расчет гиперпараметров для модели. "
   ]
  },
  {
   "cell_type": "code",
   "execution_count": 26,
   "metadata": {},
   "outputs": [],
   "source": [
    "def rougher_efficeincy(au_after, au_before, au_tails):\n",
    "    return (au_after*(au_before - au_tails))/(au_before*(au_after - au_tails))*100"
   ]
  },
  {
   "cell_type": "code",
   "execution_count": 27,
   "metadata": {},
   "outputs": [],
   "source": [
    "rougher_calculated = rougher_efficeincy(data_train['rougher.output.concentrate_au'],\n",
    "                                        data_train['rougher.input.feed_au'],\n",
    "                                        data_train['rougher.output.tail_au'])"
   ]
  },
  {
   "cell_type": "code",
   "execution_count": 28,
   "metadata": {},
   "outputs": [
    {
     "name": "stdout",
     "output_type": "stream",
     "text": [
      "9.73512347450521e-15\n"
     ]
    }
   ],
   "source": [
    "print(mean_absolute_error(data_train['rougher.output.recovery'], rougher_calculated))"
   ]
  },
  {
   "cell_type": "markdown",
   "metadata": {},
   "source": [
    "Можно сказать, что отличия почти и нет. "
   ]
  },
  {
   "cell_type": "markdown",
   "metadata": {},
   "source": [
    "Теперь давайте посмотрим параметры, которые недоступны в тестовой выборке и попробуем их охарактеризовать и найти общее."
   ]
  },
  {
   "cell_type": "code",
   "execution_count": 29,
   "metadata": {
    "scrolled": false
   },
   "outputs": [],
   "source": [
    "columns_to_drop = data_test.columns\n",
    "#data_missing = data_full.drop(columns_to_drop, axis=1)\n",
    "#print(columns_to_drop)\n",
    "#data_missing.info()"
   ]
  },
  {
   "cell_type": "markdown",
   "metadata": {},
   "source": [
    "По сути все отсутствующие данные это выход продуктов и ховстов на разных этапах процесса очистки. Похоже на то, что это сделано для чистоты эксперимента и недопуска подглядывания. "
   ]
  },
  {
   "cell_type": "code",
   "execution_count": 30,
   "metadata": {},
   "outputs": [
    {
     "name": "stdout",
     "output_type": "stream",
     "text": [
      "<class 'pandas.core.frame.DataFrame'>\n",
      "RangeIndex: 14149 entries, 0 to 14148\n",
      "Data columns (total 34 columns):\n",
      " #   Column                                              Non-Null Count  Dtype  \n",
      "---  ------                                              --------------  -----  \n",
      " 0   rougher.output.concentrate_au                       14149 non-null  float64\n",
      " 1   final.output.concentrate_au                         14149 non-null  float64\n",
      " 2   rougher.calculation.au_pb_ratio                     14149 non-null  float64\n",
      " 3   final.output.concentrate_sol                        14149 non-null  float64\n",
      " 4   rougher.output.recovery                             14149 non-null  float64\n",
      " 5   rougher.output.concentrate_pb                       14149 non-null  float64\n",
      " 6   rougher.output.concentrate_ag                       14149 non-null  float64\n",
      " 7   primary_cleaner.output.concentrate_ag               14149 non-null  float64\n",
      " 8   primary_cleaner.output.concentrate_sol              14149 non-null  float64\n",
      " 9   primary_cleaner.output.concentrate_au               14149 non-null  float64\n",
      " 10  primary_cleaner.output.tail_sol                     14149 non-null  float64\n",
      " 11  rougher.output.tail_sol                             14149 non-null  float64\n",
      " 12  final.output.concentrate_ag                         14149 non-null  float64\n",
      " 13  rougher.output.tail_au                              14149 non-null  float64\n",
      " 14  primary_cleaner.output.tail_pb                      14149 non-null  float64\n",
      " 15  rougher.calculation.floatbank10_sulfate_to_au_feed  14149 non-null  float64\n",
      " 16  rougher.output.tail_pb                              14149 non-null  float64\n",
      " 17  final.output.tail_au                                14149 non-null  float64\n",
      " 18  secondary_cleaner.output.tail_pb                    14149 non-null  float64\n",
      " 19  secondary_cleaner.output.tail_ag                    14149 non-null  float64\n",
      " 20  rougher.output.tail_ag                              14149 non-null  float64\n",
      " 21  final.output.tail_pb                                14149 non-null  float64\n",
      " 22  primary_cleaner.output.tail_ag                      14149 non-null  float64\n",
      " 23  final.output.tail_ag                                14149 non-null  float64\n",
      " 24  rougher.output.concentrate_sol                      14149 non-null  float64\n",
      " 25  secondary_cleaner.output.tail_au                    14149 non-null  float64\n",
      " 26  primary_cleaner.output.tail_au                      14149 non-null  float64\n",
      " 27  final.output.tail_sol                               14149 non-null  float64\n",
      " 28  final.output.recovery                               14149 non-null  float64\n",
      " 29  primary_cleaner.output.concentrate_pb               14149 non-null  float64\n",
      " 30  rougher.calculation.floatbank11_sulfate_to_au_feed  14149 non-null  float64\n",
      " 31  rougher.calculation.sulfate_to_au_concentrate       14149 non-null  float64\n",
      " 32  final.output.concentrate_pb                         14149 non-null  float64\n",
      " 33  secondary_cleaner.output.tail_sol                   14149 non-null  float64\n",
      "dtypes: float64(34)\n",
      "memory usage: 3.7 MB\n"
     ]
    }
   ],
   "source": [
    "data_lacking = data_train[set(data_train.columns) - set(data_test.columns)]\n",
    "data_lacking.info()"
   ]
  },
  {
   "cell_type": "markdown",
   "metadata": {},
   "source": [
    "В свете новой оценки ситуации оценка данных остается прежней - данные отражают выход продуктов и хвостов на разных этапах очистки. Но меняется наше понимание, почему данные отсутствуют, они отсутствуют, потому что у нас нет этих данных для оценки эффективности обработки руды на этапе, когда производство еще не запущено. Поэтому и модель мы будем строить без этих данных."
   ]
  },
  {
   "cell_type": "markdown",
   "metadata": {},
   "source": [
    "Тогда давайте сделаем новый тренировочный датасет для нашей будущей модели."
   ]
  },
  {
   "cell_type": "code",
   "execution_count": 31,
   "metadata": {},
   "outputs": [
    {
     "name": "stdout",
     "output_type": "stream",
     "text": [
      "<class 'pandas.core.frame.DataFrame'>\n",
      "RangeIndex: 14149 entries, 0 to 14148\n",
      "Data columns (total 54 columns):\n",
      " #   Column                                      Non-Null Count  Dtype  \n",
      "---  ------                                      --------------  -----  \n",
      " 0   secondary_cleaner.state.floatbank4_b_level  14149 non-null  float64\n",
      " 1   secondary_cleaner.state.floatbank3_a_air    14149 non-null  float64\n",
      " 2   secondary_cleaner.state.floatbank2_b_air    14149 non-null  float64\n",
      " 3   primary_cleaner.state.floatbank8_d_level    14149 non-null  float64\n",
      " 4   rougher.state.floatbank10_c_air             14149 non-null  float64\n",
      " 5   secondary_cleaner.state.floatbank2_a_air    14149 non-null  float64\n",
      " 6   primary_cleaner.input.depressant            14149 non-null  float64\n",
      " 7   secondary_cleaner.state.floatbank4_b_air    14149 non-null  float64\n",
      " 8   rougher.output.recovery                     14149 non-null  float64\n",
      " 9   rougher.input.feed_ag                       14149 non-null  float64\n",
      " 10  primary_cleaner.state.floatbank8_c_air      14149 non-null  float64\n",
      " 11  rougher.input.feed_au                       14149 non-null  float64\n",
      " 12  primary_cleaner.state.floatbank8_c_level    14149 non-null  float64\n",
      " 13  rougher.state.floatbank10_d_level           14149 non-null  float64\n",
      " 14  rougher.state.floatbank10_e_air             14149 non-null  float64\n",
      " 15  rougher.input.feed_size                     14149 non-null  float64\n",
      " 16  rougher.input.floatbank11_sulfate           14149 non-null  float64\n",
      " 17  primary_cleaner.state.floatbank8_d_air      14149 non-null  float64\n",
      " 18  secondary_cleaner.state.floatbank5_a_level  14149 non-null  float64\n",
      " 19  secondary_cleaner.state.floatbank6_a_level  14149 non-null  float64\n",
      " 20  rougher.state.floatbank10_b_air             14149 non-null  float64\n",
      " 21  rougher.state.floatbank10_f_air             14149 non-null  float64\n",
      " 22  primary_cleaner.input.feed_size             14149 non-null  float64\n",
      " 23  primary_cleaner.state.floatbank8_b_air      14149 non-null  float64\n",
      " 24  secondary_cleaner.state.floatbank2_a_level  14149 non-null  float64\n",
      " 25  secondary_cleaner.state.floatbank2_b_level  14149 non-null  float64\n",
      " 26  secondary_cleaner.state.floatbank4_a_air    14149 non-null  float64\n",
      " 27  rougher.input.floatbank11_xanthate          14149 non-null  float64\n",
      " 28  secondary_cleaner.state.floatbank5_b_level  14149 non-null  float64\n",
      " 29  primary_cleaner.input.xanthate              14149 non-null  float64\n",
      " 30  rougher.input.feed_rate                     14149 non-null  float64\n",
      " 31  secondary_cleaner.state.floatbank5_b_air    14149 non-null  float64\n",
      " 32  rougher.state.floatbank10_e_level           14149 non-null  float64\n",
      " 33  rougher.input.feed_pb                       14149 non-null  float64\n",
      " 34  rougher.state.floatbank10_c_level           14149 non-null  float64\n",
      " 35  secondary_cleaner.state.floatbank6_a_air    14149 non-null  float64\n",
      " 36  rougher.input.feed_sol                      14149 non-null  float64\n",
      " 37  primary_cleaner.state.floatbank8_a_air      14149 non-null  float64\n",
      " 38  secondary_cleaner.state.floatbank5_a_air    14149 non-null  float64\n",
      " 39  secondary_cleaner.state.floatbank3_b_level  14149 non-null  float64\n",
      " 40  rougher.state.floatbank10_b_level           14149 non-null  float64\n",
      " 41  rougher.input.floatbank10_xanthate          14149 non-null  float64\n",
      " 42  primary_cleaner.state.floatbank8_a_level    14149 non-null  float64\n",
      " 43  rougher.state.floatbank10_d_air             14149 non-null  float64\n",
      " 44  secondary_cleaner.state.floatbank3_b_air    14149 non-null  float64\n",
      " 45  final.output.recovery                       14149 non-null  float64\n",
      " 46  primary_cleaner.state.floatbank8_b_level    14149 non-null  float64\n",
      " 47  rougher.state.floatbank10_a_air             14149 non-null  float64\n",
      " 48  rougher.state.floatbank10_a_level           14149 non-null  float64\n",
      " 49  secondary_cleaner.state.floatbank4_a_level  14149 non-null  float64\n",
      " 50  secondary_cleaner.state.floatbank3_a_level  14149 non-null  float64\n",
      " 51  primary_cleaner.input.sulfate               14149 non-null  float64\n",
      " 52  rougher.input.floatbank10_sulfate           14149 non-null  float64\n",
      " 53  rougher.state.floatbank10_f_level           14149 non-null  float64\n",
      "dtypes: float64(54)\n",
      "memory usage: 5.8 MB\n"
     ]
    }
   ],
   "source": [
    "columns = set(data_test.columns)\n",
    "columns.update({'rougher.output.recovery', 'final.output.recovery'})\n",
    "data_train_upd = data_train[columns]\n",
    "data_train_upd =data_train_upd.drop('date', axis=1)\n",
    "data_train_upd.info()"
   ]
  },
  {
   "cell_type": "markdown",
   "metadata": {},
   "source": [
    "Вот теперь у нас для обучения точно есть все и ничего лишнего."
   ]
  },
  {
   "cell_type": "markdown",
   "metadata": {},
   "source": [
    "## Анализ данных"
   ]
  },
  {
   "cell_type": "markdown",
   "metadata": {},
   "source": [
    "Для начала давайте изучим, как меняется концентрация металлов (Au, Ag, Pb) на различных этапах очистки. "
   ]
  },
  {
   "cell_type": "code",
   "execution_count": 32,
   "metadata": {},
   "outputs": [],
   "source": [
    "data_outputs = data_train.drop(columns_to_drop, axis=1)"
   ]
  },
  {
   "cell_type": "code",
   "execution_count": 33,
   "metadata": {},
   "outputs": [],
   "source": [
    "#print(columns_to_drop)"
   ]
  },
  {
   "cell_type": "code",
   "execution_count": 34,
   "metadata": {
    "scrolled": true
   },
   "outputs": [
    {
     "data": {
      "text/html": [
       "<div>\n",
       "<style scoped>\n",
       "    .dataframe tbody tr th:only-of-type {\n",
       "        vertical-align: middle;\n",
       "    }\n",
       "\n",
       "    .dataframe tbody tr th {\n",
       "        vertical-align: top;\n",
       "    }\n",
       "\n",
       "    .dataframe thead th {\n",
       "        text-align: right;\n",
       "    }\n",
       "</style>\n",
       "<table border=\"1\" class=\"dataframe\">\n",
       "  <thead>\n",
       "    <tr style=\"text-align: right;\">\n",
       "      <th></th>\n",
       "      <th>final.output.concentrate_au</th>\n",
       "      <th>final.output.tail_au</th>\n",
       "      <th>primary_cleaner.output.concentrate_au</th>\n",
       "      <th>primary_cleaner.output.tail_au</th>\n",
       "      <th>rougher.output.concentrate_au</th>\n",
       "      <th>rougher.output.tail_au</th>\n",
       "      <th>secondary_cleaner.output.tail_au</th>\n",
       "    </tr>\n",
       "  </thead>\n",
       "  <tbody>\n",
       "    <tr>\n",
       "      <th>0</th>\n",
       "      <td>42.192020</td>\n",
       "      <td>2.143149</td>\n",
       "      <td>34.174427</td>\n",
       "      <td>2.106679</td>\n",
       "      <td>19.793808</td>\n",
       "      <td>1.170244</td>\n",
       "      <td>2.606185</td>\n",
       "    </tr>\n",
       "    <tr>\n",
       "      <th>1</th>\n",
       "      <td>42.701629</td>\n",
       "      <td>2.224930</td>\n",
       "      <td>34.118526</td>\n",
       "      <td>2.353017</td>\n",
       "      <td>20.050975</td>\n",
       "      <td>1.184827</td>\n",
       "      <td>2.488248</td>\n",
       "    </tr>\n",
       "    <tr>\n",
       "      <th>2</th>\n",
       "      <td>42.657501</td>\n",
       "      <td>2.257889</td>\n",
       "      <td>33.969464</td>\n",
       "      <td>2.416800</td>\n",
       "      <td>19.737170</td>\n",
       "      <td>1.162562</td>\n",
       "      <td>2.458187</td>\n",
       "    </tr>\n",
       "    <tr>\n",
       "      <th>3</th>\n",
       "      <td>42.689819</td>\n",
       "      <td>2.146849</td>\n",
       "      <td>28.260743</td>\n",
       "      <td>2.262051</td>\n",
       "      <td>19.320810</td>\n",
       "      <td>1.079755</td>\n",
       "      <td>2.322062</td>\n",
       "    </tr>\n",
       "    <tr>\n",
       "      <th>4</th>\n",
       "      <td>42.774141</td>\n",
       "      <td>2.055292</td>\n",
       "      <td>33.044932</td>\n",
       "      <td>2.277073</td>\n",
       "      <td>19.216101</td>\n",
       "      <td>1.012642</td>\n",
       "      <td>2.330448</td>\n",
       "    </tr>\n",
       "    <tr>\n",
       "      <th>...</th>\n",
       "      <td>...</td>\n",
       "      <td>...</td>\n",
       "      <td>...</td>\n",
       "      <td>...</td>\n",
       "      <td>...</td>\n",
       "      <td>...</td>\n",
       "      <td>...</td>\n",
       "    </tr>\n",
       "    <tr>\n",
       "      <th>14144</th>\n",
       "      <td>46.713954</td>\n",
       "      <td>1.529220</td>\n",
       "      <td>32.940215</td>\n",
       "      <td>2.314352</td>\n",
       "      <td>18.603550</td>\n",
       "      <td>0.748633</td>\n",
       "      <td>0.000000</td>\n",
       "    </tr>\n",
       "    <tr>\n",
       "      <th>14145</th>\n",
       "      <td>46.866780</td>\n",
       "      <td>1.612542</td>\n",
       "      <td>32.925325</td>\n",
       "      <td>2.462890</td>\n",
       "      <td>18.441436</td>\n",
       "      <td>0.771582</td>\n",
       "      <td>0.000000</td>\n",
       "    </tr>\n",
       "    <tr>\n",
       "      <th>14146</th>\n",
       "      <td>46.795691</td>\n",
       "      <td>1.596616</td>\n",
       "      <td>31.856742</td>\n",
       "      <td>2.612231</td>\n",
       "      <td>15.111231</td>\n",
       "      <td>0.685059</td>\n",
       "      <td>0.000000</td>\n",
       "    </tr>\n",
       "    <tr>\n",
       "      <th>14147</th>\n",
       "      <td>46.408188</td>\n",
       "      <td>1.602879</td>\n",
       "      <td>30.770892</td>\n",
       "      <td>2.800648</td>\n",
       "      <td>17.834772</td>\n",
       "      <td>0.567130</td>\n",
       "      <td>0.000000</td>\n",
       "    </tr>\n",
       "    <tr>\n",
       "      <th>14148</th>\n",
       "      <td>46.299438</td>\n",
       "      <td>1.389434</td>\n",
       "      <td>30.356618</td>\n",
       "      <td>2.708046</td>\n",
       "      <td>17.804134</td>\n",
       "      <td>0.586439</td>\n",
       "      <td>0.000000</td>\n",
       "    </tr>\n",
       "  </tbody>\n",
       "</table>\n",
       "<p>14149 rows × 7 columns</p>\n",
       "</div>"
      ],
      "text/plain": [
       "       final.output.concentrate_au  final.output.tail_au  \\\n",
       "0                        42.192020              2.143149   \n",
       "1                        42.701629              2.224930   \n",
       "2                        42.657501              2.257889   \n",
       "3                        42.689819              2.146849   \n",
       "4                        42.774141              2.055292   \n",
       "...                            ...                   ...   \n",
       "14144                    46.713954              1.529220   \n",
       "14145                    46.866780              1.612542   \n",
       "14146                    46.795691              1.596616   \n",
       "14147                    46.408188              1.602879   \n",
       "14148                    46.299438              1.389434   \n",
       "\n",
       "       primary_cleaner.output.concentrate_au  primary_cleaner.output.tail_au  \\\n",
       "0                                  34.174427                        2.106679   \n",
       "1                                  34.118526                        2.353017   \n",
       "2                                  33.969464                        2.416800   \n",
       "3                                  28.260743                        2.262051   \n",
       "4                                  33.044932                        2.277073   \n",
       "...                                      ...                             ...   \n",
       "14144                              32.940215                        2.314352   \n",
       "14145                              32.925325                        2.462890   \n",
       "14146                              31.856742                        2.612231   \n",
       "14147                              30.770892                        2.800648   \n",
       "14148                              30.356618                        2.708046   \n",
       "\n",
       "       rougher.output.concentrate_au  rougher.output.tail_au  \\\n",
       "0                          19.793808                1.170244   \n",
       "1                          20.050975                1.184827   \n",
       "2                          19.737170                1.162562   \n",
       "3                          19.320810                1.079755   \n",
       "4                          19.216101                1.012642   \n",
       "...                              ...                     ...   \n",
       "14144                      18.603550                0.748633   \n",
       "14145                      18.441436                0.771582   \n",
       "14146                      15.111231                0.685059   \n",
       "14147                      17.834772                0.567130   \n",
       "14148                      17.804134                0.586439   \n",
       "\n",
       "       secondary_cleaner.output.tail_au  \n",
       "0                              2.606185  \n",
       "1                              2.488248  \n",
       "2                              2.458187  \n",
       "3                              2.322062  \n",
       "4                              2.330448  \n",
       "...                                 ...  \n",
       "14144                          0.000000  \n",
       "14145                          0.000000  \n",
       "14146                          0.000000  \n",
       "14147                          0.000000  \n",
       "14148                          0.000000  \n",
       "\n",
       "[14149 rows x 7 columns]"
      ]
     },
     "metadata": {},
     "output_type": "display_data"
    }
   ],
   "source": [
    "data_au = data_outputs[['final.output.concentrate_au',\n",
    "                       'final.output.tail_au',\n",
    "                       'primary_cleaner.output.concentrate_au',\n",
    "                       'primary_cleaner.output.tail_au',\n",
    "                       'rougher.output.concentrate_au',\n",
    "                       'rougher.output.tail_au',\n",
    "                       'secondary_cleaner.output.tail_au']]\n",
    "display(data_au)"
   ]
  },
  {
   "cell_type": "code",
   "execution_count": 35,
   "metadata": {},
   "outputs": [
    {
     "data": {
      "text/html": [
       "<div>\n",
       "<style scoped>\n",
       "    .dataframe tbody tr th:only-of-type {\n",
       "        vertical-align: middle;\n",
       "    }\n",
       "\n",
       "    .dataframe tbody tr th {\n",
       "        vertical-align: top;\n",
       "    }\n",
       "\n",
       "    .dataframe thead th {\n",
       "        text-align: right;\n",
       "    }\n",
       "</style>\n",
       "<table border=\"1\" class=\"dataframe\">\n",
       "  <thead>\n",
       "    <tr style=\"text-align: right;\">\n",
       "      <th></th>\n",
       "      <th>input</th>\n",
       "      <th>flot</th>\n",
       "      <th>1st_cln</th>\n",
       "      <th>2nd_cln</th>\n",
       "    </tr>\n",
       "  </thead>\n",
       "  <tbody>\n",
       "    <tr>\n",
       "      <th>0</th>\n",
       "      <td>6.486150</td>\n",
       "      <td>19.793808</td>\n",
       "      <td>34.174427</td>\n",
       "      <td>42.192020</td>\n",
       "    </tr>\n",
       "    <tr>\n",
       "      <th>1</th>\n",
       "      <td>6.478583</td>\n",
       "      <td>20.050975</td>\n",
       "      <td>34.118526</td>\n",
       "      <td>42.701629</td>\n",
       "    </tr>\n",
       "    <tr>\n",
       "      <th>2</th>\n",
       "      <td>6.362222</td>\n",
       "      <td>19.737170</td>\n",
       "      <td>33.969464</td>\n",
       "      <td>42.657501</td>\n",
       "    </tr>\n",
       "    <tr>\n",
       "      <th>3</th>\n",
       "      <td>6.118189</td>\n",
       "      <td>19.320810</td>\n",
       "      <td>28.260743</td>\n",
       "      <td>42.689819</td>\n",
       "    </tr>\n",
       "    <tr>\n",
       "      <th>4</th>\n",
       "      <td>5.663707</td>\n",
       "      <td>19.216101</td>\n",
       "      <td>33.044932</td>\n",
       "      <td>42.774141</td>\n",
       "    </tr>\n",
       "    <tr>\n",
       "      <th>...</th>\n",
       "      <td>...</td>\n",
       "      <td>...</td>\n",
       "      <td>...</td>\n",
       "      <td>...</td>\n",
       "    </tr>\n",
       "    <tr>\n",
       "      <th>14144</th>\n",
       "      <td>5.335862</td>\n",
       "      <td>18.603550</td>\n",
       "      <td>32.940215</td>\n",
       "      <td>46.713954</td>\n",
       "    </tr>\n",
       "    <tr>\n",
       "      <th>14145</th>\n",
       "      <td>4.838619</td>\n",
       "      <td>18.441436</td>\n",
       "      <td>32.925325</td>\n",
       "      <td>46.866780</td>\n",
       "    </tr>\n",
       "    <tr>\n",
       "      <th>14146</th>\n",
       "      <td>4.525061</td>\n",
       "      <td>15.111231</td>\n",
       "      <td>31.856742</td>\n",
       "      <td>46.795691</td>\n",
       "    </tr>\n",
       "    <tr>\n",
       "      <th>14147</th>\n",
       "      <td>4.362781</td>\n",
       "      <td>17.834772</td>\n",
       "      <td>30.770892</td>\n",
       "      <td>46.408188</td>\n",
       "    </tr>\n",
       "    <tr>\n",
       "      <th>14148</th>\n",
       "      <td>4.365491</td>\n",
       "      <td>17.804134</td>\n",
       "      <td>30.356618</td>\n",
       "      <td>46.299438</td>\n",
       "    </tr>\n",
       "  </tbody>\n",
       "</table>\n",
       "<p>14149 rows × 4 columns</p>\n",
       "</div>"
      ],
      "text/plain": [
       "          input       flot    1st_cln    2nd_cln\n",
       "0      6.486150  19.793808  34.174427  42.192020\n",
       "1      6.478583  20.050975  34.118526  42.701629\n",
       "2      6.362222  19.737170  33.969464  42.657501\n",
       "3      6.118189  19.320810  28.260743  42.689819\n",
       "4      5.663707  19.216101  33.044932  42.774141\n",
       "...         ...        ...        ...        ...\n",
       "14144  5.335862  18.603550  32.940215  46.713954\n",
       "14145  4.838619  18.441436  32.925325  46.866780\n",
       "14146  4.525061  15.111231  31.856742  46.795691\n",
       "14147  4.362781  17.834772  30.770892  46.408188\n",
       "14148  4.365491  17.804134  30.356618  46.299438\n",
       "\n",
       "[14149 rows x 4 columns]"
      ]
     },
     "metadata": {},
     "output_type": "display_data"
    }
   ],
   "source": [
    "data_au_output = data_train[['rougher.input.feed_au',\n",
    "                             'rougher.output.concentrate_au',\n",
    "                             'primary_cleaner.output.concentrate_au',\n",
    "                             'final.output.concentrate_au']]\n",
    "data_au_output.columns = ['input', 'flot', '1st_cln', '2nd_cln']\n",
    "display(data_au_output)"
   ]
  },
  {
   "cell_type": "code",
   "execution_count": 36,
   "metadata": {},
   "outputs": [
    {
     "data": {
      "text/plain": [
       "input       7.866577\n",
       "flot       19.439958\n",
       "1st_cln    32.386836\n",
       "2nd_cln    44.003792\n",
       "dtype: float64"
      ]
     },
     "metadata": {},
     "output_type": "display_data"
    }
   ],
   "source": [
    "au = data_au_output.mean()\n",
    "display(au)"
   ]
  },
  {
   "cell_type": "markdown",
   "metadata": {},
   "source": [
    "Невоорожуненым взяглядом заметно, что с каждым этапо очистки концентрация золота значительно повышается. При чем прирост на кадом этапе примерно одинаковый."
   ]
  },
  {
   "cell_type": "code",
   "execution_count": 37,
   "metadata": {},
   "outputs": [],
   "source": [
    "#data_au_output.mean().plot()"
   ]
  },
  {
   "cell_type": "code",
   "execution_count": 38,
   "metadata": {},
   "outputs": [
    {
     "data": {
      "text/html": [
       "<div>\n",
       "<style scoped>\n",
       "    .dataframe tbody tr th:only-of-type {\n",
       "        vertical-align: middle;\n",
       "    }\n",
       "\n",
       "    .dataframe tbody tr th {\n",
       "        vertical-align: top;\n",
       "    }\n",
       "\n",
       "    .dataframe thead th {\n",
       "        text-align: right;\n",
       "    }\n",
       "</style>\n",
       "<table border=\"1\" class=\"dataframe\">\n",
       "  <thead>\n",
       "    <tr style=\"text-align: right;\">\n",
       "      <th></th>\n",
       "      <th>input</th>\n",
       "      <th>flot</th>\n",
       "      <th>1st_cln</th>\n",
       "      <th>2nd_cln</th>\n",
       "    </tr>\n",
       "  </thead>\n",
       "  <tbody>\n",
       "    <tr>\n",
       "      <th>0</th>\n",
       "      <td>6.100378</td>\n",
       "      <td>11.500771</td>\n",
       "      <td>8.547551</td>\n",
       "      <td>6.055403</td>\n",
       "    </tr>\n",
       "    <tr>\n",
       "      <th>1</th>\n",
       "      <td>6.161113</td>\n",
       "      <td>11.615865</td>\n",
       "      <td>8.558743</td>\n",
       "      <td>6.029369</td>\n",
       "    </tr>\n",
       "    <tr>\n",
       "      <th>2</th>\n",
       "      <td>6.116455</td>\n",
       "      <td>11.695753</td>\n",
       "      <td>8.603505</td>\n",
       "      <td>6.055926</td>\n",
       "    </tr>\n",
       "    <tr>\n",
       "      <th>3</th>\n",
       "      <td>6.043309</td>\n",
       "      <td>11.915047</td>\n",
       "      <td>7.221879</td>\n",
       "      <td>6.047977</td>\n",
       "    </tr>\n",
       "    <tr>\n",
       "      <th>4</th>\n",
       "      <td>6.060915</td>\n",
       "      <td>12.411054</td>\n",
       "      <td>9.089428</td>\n",
       "      <td>6.148599</td>\n",
       "    </tr>\n",
       "    <tr>\n",
       "      <th>...</th>\n",
       "      <td>...</td>\n",
       "      <td>...</td>\n",
       "      <td>...</td>\n",
       "      <td>...</td>\n",
       "    </tr>\n",
       "    <tr>\n",
       "      <th>14144</th>\n",
       "      <td>6.091855</td>\n",
       "      <td>11.124896</td>\n",
       "      <td>6.559174</td>\n",
       "      <td>3.224920</td>\n",
       "    </tr>\n",
       "    <tr>\n",
       "      <th>14145</th>\n",
       "      <td>6.121323</td>\n",
       "      <td>11.425983</td>\n",
       "      <td>6.612376</td>\n",
       "      <td>3.195978</td>\n",
       "    </tr>\n",
       "    <tr>\n",
       "      <th>14146</th>\n",
       "      <td>5.970515</td>\n",
       "      <td>8.523497</td>\n",
       "      <td>7.128896</td>\n",
       "      <td>3.109998</td>\n",
       "    </tr>\n",
       "    <tr>\n",
       "      <th>14147</th>\n",
       "      <td>6.048130</td>\n",
       "      <td>11.658799</td>\n",
       "      <td>7.490444</td>\n",
       "      <td>3.367241</td>\n",
       "    </tr>\n",
       "    <tr>\n",
       "      <th>14148</th>\n",
       "      <td>6.158718</td>\n",
       "      <td>11.959486</td>\n",
       "      <td>7.537584</td>\n",
       "      <td>3.598375</td>\n",
       "    </tr>\n",
       "  </tbody>\n",
       "</table>\n",
       "<p>14149 rows × 4 columns</p>\n",
       "</div>"
      ],
      "text/plain": [
       "          input       flot   1st_cln   2nd_cln\n",
       "0      6.100378  11.500771  8.547551  6.055403\n",
       "1      6.161113  11.615865  8.558743  6.029369\n",
       "2      6.116455  11.695753  8.603505  6.055926\n",
       "3      6.043309  11.915047  7.221879  6.047977\n",
       "4      6.060915  12.411054  9.089428  6.148599\n",
       "...         ...        ...       ...       ...\n",
       "14144  6.091855  11.124896  6.559174  3.224920\n",
       "14145  6.121323  11.425983  6.612376  3.195978\n",
       "14146  5.970515   8.523497  7.128896  3.109998\n",
       "14147  6.048130  11.658799  7.490444  3.367241\n",
       "14148  6.158718  11.959486  7.537584  3.598375\n",
       "\n",
       "[14149 rows x 4 columns]"
      ]
     },
     "metadata": {},
     "output_type": "display_data"
    }
   ],
   "source": [
    "data_ag_output = data_train[['rougher.input.feed_ag',\n",
    "                             'rougher.output.concentrate_ag',\n",
    "                             'primary_cleaner.output.concentrate_ag',\n",
    "                             'final.output.concentrate_ag']]\n",
    "data_ag_output.columns = ['input', 'flot', '1st_cln', '2nd_cln']\n",
    "display(data_ag_output)"
   ]
  },
  {
   "cell_type": "code",
   "execution_count": 39,
   "metadata": {},
   "outputs": [
    {
     "data": {
      "text/plain": [
       "input       8.579195\n",
       "flot       11.775812\n",
       "1st_cln     8.200916\n",
       "2nd_cln     5.141921\n",
       "dtype: float64"
      ]
     },
     "metadata": {},
     "output_type": "display_data"
    }
   ],
   "source": [
    "ag = data_ag_output.mean()\n",
    "display(ag)"
   ]
  },
  {
   "cell_type": "markdown",
   "metadata": {},
   "source": [
    "А вот с серебром все не так однозначно. После флотации концентрация серебра значительно увеличивается, но затем снижается с каждым последующем этапом очистки. "
   ]
  },
  {
   "cell_type": "code",
   "execution_count": 40,
   "metadata": {
    "scrolled": true
   },
   "outputs": [
    {
     "data": {
      "text/html": [
       "<div>\n",
       "<style scoped>\n",
       "    .dataframe tbody tr th:only-of-type {\n",
       "        vertical-align: middle;\n",
       "    }\n",
       "\n",
       "    .dataframe tbody tr th {\n",
       "        vertical-align: top;\n",
       "    }\n",
       "\n",
       "    .dataframe thead th {\n",
       "        text-align: right;\n",
       "    }\n",
       "</style>\n",
       "<table border=\"1\" class=\"dataframe\">\n",
       "  <thead>\n",
       "    <tr style=\"text-align: right;\">\n",
       "      <th></th>\n",
       "      <th>input</th>\n",
       "      <th>flot</th>\n",
       "      <th>1st_cln</th>\n",
       "      <th>2nd_cln</th>\n",
       "    </tr>\n",
       "  </thead>\n",
       "  <tbody>\n",
       "    <tr>\n",
       "      <th>0</th>\n",
       "      <td>2.284912</td>\n",
       "      <td>7.101074</td>\n",
       "      <td>10.389648</td>\n",
       "      <td>9.889648</td>\n",
       "    </tr>\n",
       "    <tr>\n",
       "      <th>1</th>\n",
       "      <td>2.266033</td>\n",
       "      <td>7.278807</td>\n",
       "      <td>10.497069</td>\n",
       "      <td>9.968944</td>\n",
       "    </tr>\n",
       "    <tr>\n",
       "      <th>2</th>\n",
       "      <td>2.159622</td>\n",
       "      <td>7.216833</td>\n",
       "      <td>10.354494</td>\n",
       "      <td>10.213995</td>\n",
       "    </tr>\n",
       "    <tr>\n",
       "      <th>3</th>\n",
       "      <td>2.037807</td>\n",
       "      <td>7.175616</td>\n",
       "      <td>8.496563</td>\n",
       "      <td>9.977019</td>\n",
       "    </tr>\n",
       "    <tr>\n",
       "      <th>4</th>\n",
       "      <td>1.786875</td>\n",
       "      <td>7.240205</td>\n",
       "      <td>9.986786</td>\n",
       "      <td>10.142511</td>\n",
       "    </tr>\n",
       "    <tr>\n",
       "      <th>...</th>\n",
       "      <td>...</td>\n",
       "      <td>...</td>\n",
       "      <td>...</td>\n",
       "      <td>...</td>\n",
       "    </tr>\n",
       "    <tr>\n",
       "      <th>14144</th>\n",
       "      <td>4.617558</td>\n",
       "      <td>10.984003</td>\n",
       "      <td>12.445966</td>\n",
       "      <td>11.356233</td>\n",
       "    </tr>\n",
       "    <tr>\n",
       "      <th>14145</th>\n",
       "      <td>4.144989</td>\n",
       "      <td>10.888213</td>\n",
       "      <td>12.623947</td>\n",
       "      <td>11.349355</td>\n",
       "    </tr>\n",
       "    <tr>\n",
       "      <th>14146</th>\n",
       "      <td>4.020002</td>\n",
       "      <td>8.955135</td>\n",
       "      <td>12.633558</td>\n",
       "      <td>11.434366</td>\n",
       "    </tr>\n",
       "    <tr>\n",
       "      <th>14147</th>\n",
       "      <td>3.902537</td>\n",
       "      <td>10.655377</td>\n",
       "      <td>12.012378</td>\n",
       "      <td>11.625587</td>\n",
       "    </tr>\n",
       "    <tr>\n",
       "      <th>14148</th>\n",
       "      <td>3.875727</td>\n",
       "      <td>10.702148</td>\n",
       "      <td>11.650285</td>\n",
       "      <td>11.737832</td>\n",
       "    </tr>\n",
       "  </tbody>\n",
       "</table>\n",
       "<p>14149 rows × 4 columns</p>\n",
       "</div>"
      ],
      "text/plain": [
       "          input       flot    1st_cln    2nd_cln\n",
       "0      2.284912   7.101074  10.389648   9.889648\n",
       "1      2.266033   7.278807  10.497069   9.968944\n",
       "2      2.159622   7.216833  10.354494  10.213995\n",
       "3      2.037807   7.175616   8.496563   9.977019\n",
       "4      1.786875   7.240205   9.986786  10.142511\n",
       "...         ...        ...        ...        ...\n",
       "14144  4.617558  10.984003  12.445966  11.356233\n",
       "14145  4.144989  10.888213  12.623947  11.349355\n",
       "14146  4.020002   8.955135  12.633558  11.434366\n",
       "14147  3.902537  10.655377  12.012378  11.625587\n",
       "14148  3.875727  10.702148  11.650285  11.737832\n",
       "\n",
       "[14149 rows x 4 columns]"
      ]
     },
     "metadata": {},
     "output_type": "display_data"
    }
   ],
   "source": [
    "data_pb_output = data_train[['rougher.input.feed_pb',\n",
    "                             'rougher.output.concentrate_pb',\n",
    "                             'primary_cleaner.output.concentrate_pb',\n",
    "                             'final.output.concentrate_pb']]\n",
    "data_pb_output.columns = ['input', 'flot', '1st_cln', '2nd_cln']\n",
    "display(data_pb_output)"
   ]
  },
  {
   "cell_type": "code",
   "execution_count": 41,
   "metadata": {},
   "outputs": [
    {
     "data": {
      "text/plain": [
       "input       3.505465\n",
       "flot        7.664555\n",
       "1st_cln     9.568544\n",
       "2nd_cln    10.132848\n",
       "dtype: float64"
      ]
     },
     "metadata": {},
     "output_type": "display_data"
    }
   ],
   "source": [
    "pb = data_pb_output.mean()\n",
    "display(pb)"
   ]
  },
  {
   "cell_type": "markdown",
   "metadata": {},
   "source": [
    "Концентрация свинца растет с каждым этапом, при этом прирост с каждым этапом ниже. "
   ]
  },
  {
   "cell_type": "markdown",
   "metadata": {},
   "source": [
    "Поскольку производство заточено на обогащение именно золота, не стоит удивляться, что именно коцентрация золота максимальна на последнем этапе. Да и в целом концентрация золота на всех этапах (кроме \"до обогащения\") выше, чем остальных металлов. "
   ]
  },
  {
   "cell_type": "markdown",
   "metadata": {},
   "source": [
    "Теперь давайите сравним распределение размеров гранул сырья в тестовой и треировочной выборках.  rougher.input.feed_size"
   ]
  },
  {
   "cell_type": "code",
   "execution_count": 42,
   "metadata": {},
   "outputs": [
    {
     "data": {
      "text/plain": [
       "<AxesSubplot:>"
      ]
     },
     "execution_count": 42,
     "metadata": {},
     "output_type": "execute_result"
    },
    {
     "data": {
      "image/png": "[encoded data removed]",
      "text/plain": [
       "<Figure size 432x288 with 1 Axes>"
      ]
     },
     "metadata": {
      "needs_background": "light"
     },
     "output_type": "display_data"
    }
   ],
   "source": [
    "data_train['rougher.input.feed_size'].hist(bins=100)"
   ]
  },
  {
   "cell_type": "code",
   "execution_count": 43,
   "metadata": {},
   "outputs": [
    {
     "name": "stdout",
     "output_type": "stream",
     "text": [
      "60.23985599255732 55.269783890501536\n"
     ]
    }
   ],
   "source": [
    "print(data_train['rougher.input.feed_size'].mean(), data_train['rougher.input.feed_size'].median())"
   ]
  },
  {
   "cell_type": "code",
   "execution_count": 44,
   "metadata": {},
   "outputs": [
    {
     "data": {
      "text/plain": [
       "<AxesSubplot:>"
      ]
     },
     "execution_count": 44,
     "metadata": {},
     "output_type": "execute_result"
    },
    {
     "data": {
      "image/png": "[encoded data removed]",
      "text/plain": [
       "<Figure size 432x288 with 1 Axes>"
      ]
     },
     "metadata": {
      "needs_background": "light"
     },
     "output_type": "display_data"
    }
   ],
   "source": [
    "data_test['rougher.input.feed_size'].hist(bins=100)"
   ]
  },
  {
   "cell_type": "code",
   "execution_count": 45,
   "metadata": {},
   "outputs": [
    {
     "name": "stdout",
     "output_type": "stream",
     "text": [
      "55.951097447596965 50.841029192879\n"
     ]
    }
   ],
   "source": [
    "print(data_test['rougher.input.feed_size'].mean(), data_test['rougher.input.feed_size'].median())"
   ]
  },
  {
   "cell_type": "markdown",
   "metadata": {},
   "source": [
    "Распределение размеров гранул сырья в выборках отличается, однако различие не кажется критичным."
   ]
  },
  {
   "cell_type": "markdown",
   "metadata": {},
   "source": [
    "Может, есть смысл тут посчитать какие-то статистики? "
   ]
  },
  {
   "cell_type": "markdown",
   "metadata": {},
   "source": [
    "Думаю, существует вероятность, что оценка модели будет неправильной, но эта вероятность на данный момент не выглядит пугающей. Думаю, нам следует продолжить расчеты и сначала получить оценку модели, а в случае нашей неудовлетворенности результатом сделать новые выборки на основе полного датасета."
   ]
  },
  {
   "cell_type": "code",
   "execution_count": 46,
   "metadata": {},
   "outputs": [
    {
     "name": "stdout",
     "output_type": "stream",
     "text": [
      "input      19.951237\n",
      "flot       38.880325\n",
      "1st_cln    50.156296\n",
      "2nd_cln    59.278560\n",
      "dtype: float64\n"
     ]
    }
   ],
   "source": [
    "metals = au + ag + pb\n",
    "print(metals)"
   ]
  },
  {
   "cell_type": "code",
   "execution_count": 47,
   "metadata": {},
   "outputs": [
    {
     "data": {
      "image/png": "[encoded data removed]",
      "text/plain": [
       "<Figure size 432x288 with 1 Axes>"
      ]
     },
     "metadata": {
      "needs_background": "light"
     },
     "output_type": "display_data"
    }
   ],
   "source": [
    "au.plot(label='au', marker='o')\n",
    "ag.plot(label='ag', marker='o')\n",
    "pb.plot(label='pb', marker='o')\n",
    "metals.plot(label='total', marker='o')\n",
    "plt.legend()\n",
    "plt.xlabel('stage')\n",
    "plt.ylabel('concentration, %')\n",
    "plt.grid()\n",
    "plt.title('Concentrations comparison')\n",
    "plt.show()"
   ]
  },
  {
   "cell_type": "markdown",
   "metadata": {},
   "source": [
    "На графике выше мы можем наблюдать, как меняется (перимущественно растет) концентрация металлов по мере очистки - как отдельно, так и в целом."
   ]
  },
  {
   "cell_type": "markdown",
   "metadata": {},
   "source": [
    "Суммарная концентрация металлов после обогащения вырастает практичеки в 3 раза, при этом основной рост приходится на увеличение концентрации золота. Оно и понятно - весь процесс заточен на то, чтобы увеличить концентрацию золота, а увеличение концентрации других металлов - всего лишь побочный продукт. Это мы можем видеть на примере изменеия концентрации серебра. Никого не волнует, что концентрация серебра падает после первичной и вторичной очистки, потому что это всего лишь побочный продукт, даже если серебро. "
   ]
  },
  {
   "cell_type": "markdown",
   "metadata": {},
   "source": [
    "## Модель"
   ]
  },
  {
   "cell_type": "markdown",
   "metadata": {},
   "source": [
    "На этом этапе мы планируем построить модель для вычисления Итоговой sMAPE. Для этого нам надо найти эффективность обогащения чернового концентрата и эффективность обогащения финального концентрата. Модель для расчета чернового концентрата у нас уже есть. Осталось создать модель для расчета эффективности обогащения финального концентрата. Затем мы рассчитаем sMAPE для обеих этих метрик. "
   ]
  },
  {
   "cell_type": "markdown",
   "metadata": {},
   "source": [
    "Скорее всего наши два целевых параметра сильно коррелируют между собой. Давайте это выясним. "
   ]
  },
  {
   "cell_type": "code",
   "execution_count": 48,
   "metadata": {},
   "outputs": [
    {
     "name": "stdout",
     "output_type": "stream",
     "text": [
      "0.32705873241331146\n"
     ]
    }
   ],
   "source": [
    "print(data_full['final.output.recovery'].corr(data_full['rougher.output.recovery']))"
   ]
  },
  {
   "cell_type": "markdown",
   "metadata": {},
   "source": [
    "Корреляция, конечно, есть, но значимой ее на назовешь. "
   ]
  },
  {
   "cell_type": "markdown",
   "metadata": {},
   "source": [
    "Теперь у нас дилема, поскольку целевых параметров стало 2. Стоит ли оба параметра удалять из признаков, чтобы они не влияли на оценки друг друга и было как будто мы их не знаем? Скорее всего, да. К сожалению, нашу великоточную модель придется немного переделать..."
   ]
  },
  {
   "cell_type": "markdown",
   "metadata": {},
   "source": [
    "И есть еще одна неприятная новость: в библиотеке sklearn отсутствует метрика sMAPE, а есть только MAPE, поэтому нам придется писать функцию с нуля."
   ]
  },
  {
   "cell_type": "code",
   "execution_count": 49,
   "metadata": {},
   "outputs": [],
   "source": [
    "def smape(y, y_p):\n",
    "    return 1/len(y) * (np.sum(np.abs(y-y_p)/((np.abs(y)+np.abs(y_p))/2))) * 100"
   ]
  },
  {
   "cell_type": "markdown",
   "metadata": {},
   "source": [
    "На данном этапе у нас появляется сложность: мы не сможем посчитать smape, если у нас нет true значений целевого параметра для конкретных объектов. А этих значений нет в тестовой выборке (даже колонки отсутствуют). Давайте посмотрим, есть ли эти значения в полной выборке и если да, то мы сделаем новую разбивку, обучим новый лес через gridsearch (но в этот раз уменьшим разброс, потому что мы уже примерно представляем себе оптимальные значения гиперпараметров.\n",
    "\n",
    "Точнее, теперь моделей леса будет 2: одна будет считать эффективность обогащения чернового концентрата, а вторая - эффективность финального. \n",
    "\n",
    "И, кстати, благодаря вшитой кросс-валидации gridsearch, валидационную выборку мы делать не будем. "
   ]
  },
  {
   "cell_type": "markdown",
   "metadata": {},
   "source": [
    "Теперь все немного иначе, поскольку модель регрессии тоже будем строить наравне со случайным лесом.\n",
    "То етсь итого будем делать 4 модели. \n",
    "\n",
    "Также еще разница в том, что мы не будем делать новые выборки, поскольку мы расчитываем получить данные для проверки из полного датсета."
   ]
  },
  {
   "cell_type": "code",
   "execution_count": 50,
   "metadata": {},
   "outputs": [
    {
     "name": "stdout",
     "output_type": "stream",
     "text": [
      "0\n",
      "0\n"
     ]
    }
   ],
   "source": [
    "print(data_full['final.output.recovery'].isna().sum())\n",
    "print(data_full['rougher.output.recovery'].isna().sum())"
   ]
  },
  {
   "cell_type": "markdown",
   "metadata": {},
   "source": [
    "Ну тогда понеслась."
   ]
  },
  {
   "cell_type": "code",
   "execution_count": 51,
   "metadata": {},
   "outputs": [],
   "source": [
    "#data_full = data_full.fillna(value=-1)"
   ]
  },
  {
   "cell_type": "code",
   "execution_count": 52,
   "metadata": {},
   "outputs": [],
   "source": [
    "target_train_rougher = data_train_upd['rougher.output.recovery']\n",
    "target_train_final = data_train_upd['final.output.recovery']\n",
    "features_train = data_train_upd.drop(['rougher.output.recovery', 'final.output.recovery'], axis=1)"
   ]
  },
  {
   "cell_type": "code",
   "execution_count": 53,
   "metadata": {},
   "outputs": [],
   "source": [
    "features_train, features_valid, target_r_train, target_r_valid, target_f_train, target_f_valid = train_test_split(\n",
    "    features_train, target_train_rougher, target_train_final, test_size=0.25, random_state=1985)"
   ]
  },
  {
   "cell_type": "code",
   "execution_count": 54,
   "metadata": {},
   "outputs": [],
   "source": [
    "features_train1 = data_train_upd.drop(['rougher.output.recovery', 'final.output.recovery'], axis=1)"
   ]
  },
  {
   "cell_type": "code",
   "execution_count": 55,
   "metadata": {},
   "outputs": [],
   "source": [
    "#target_f_r = data_full['rougher.output.recovery']\n",
    "#features_f_r = data_full.drop('rougher.output.recovery', axis=1)\n",
    "#features_train, features_test, target_r_train, target_r_test  = train_test_split(\n",
    "#    features_f_r, target_f_r, test_size=0.25, random_state=1985)"
   ]
  },
  {
   "cell_type": "code",
   "execution_count": 56,
   "metadata": {},
   "outputs": [],
   "source": [
    "#target_f_train.shape"
   ]
  },
  {
   "cell_type": "code",
   "execution_count": 57,
   "metadata": {},
   "outputs": [],
   "source": [
    "#target_r_test.shape"
   ]
  },
  {
   "cell_type": "markdown",
   "metadata": {},
   "source": [
    "%%time\n",
    "best_model = None\n",
    "best_result = 100\n",
    "est = 0\n",
    "depth = 0\n",
    "for est in range(10, 51, 10):\n",
    "    for depth in range(1,25):\n",
    "        model = RandomForestRegressor(random_state=1985, n_estimators=est, max_depth=depth)\n",
    "        model.fit(features_train, target_r_train)\n",
    "        result = mean_absolute_error(target_r_valid, model.predict(features_valid))\n",
    "        if result < best_result:\n",
    "            best_model = model\n",
    "            best_result = result\n",
    "            est = est\n",
    "            depth = depth\n",
    "print(best_result, est, depth)"
   ]
  },
  {
   "cell_type": "markdown",
   "metadata": {},
   "source": [
    "Всего-то 18 минут и мы получаем модель с глубиной 24 и количеством деревьев 50. Надеюсь, это стоило того и мы сэкономим куда больше времени на Гридсерче, потому что мы примерно представляем, где искать."
   ]
  },
  {
   "cell_type": "code",
   "execution_count": 58,
   "metadata": {},
   "outputs": [],
   "source": [
    "my_scorer = make_scorer(smape, greater_is_better=False)"
   ]
  },
  {
   "cell_type": "code",
   "execution_count": 59,
   "metadata": {},
   "outputs": [],
   "source": [
    "rfr_rougher = RandomForestRegressor()"
   ]
  },
  {
   "cell_type": "code",
   "execution_count": 60,
   "metadata": {},
   "outputs": [],
   "source": [
    "params = {'n_estimators': range (40, 51, 10),\n",
    "             'max_depth': range (22,26, 1)}"
   ]
  },
  {
   "cell_type": "code",
   "execution_count": 61,
   "metadata": {},
   "outputs": [
    {
     "name": "stdout",
     "output_type": "stream",
     "text": [
      "CPU times: user 5min 25s, sys: 108 ms, total: 5min 25s\n",
      "Wall time: 5min 26s\n"
     ]
    },
    {
     "data": {
      "text/plain": [
       "{'max_depth': 25, 'n_estimators': 40}"
      ]
     },
     "execution_count": 61,
     "metadata": {},
     "output_type": "execute_result"
    }
   ],
   "source": [
    "%%time\n",
    "grid = GridSearchCV(rfr_rougher, params, scoring=my_scorer, cv=3)\n",
    "grid.fit(features_train, target_r_train)\n",
    "grid.best_params_\n",
    "#model_rougher = best_estimator_"
   ]
  },
  {
   "cell_type": "markdown",
   "metadata": {},
   "source": [
    "Оптимальные гиперпараметры: глубина 23, 50 деревьев"
   ]
  },
  {
   "cell_type": "code",
   "execution_count": 62,
   "metadata": {},
   "outputs": [],
   "source": [
    "rfr_rougher = RandomForestRegressor(max_depth=23, n_estimators=50, random_state=1985)"
   ]
  },
  {
   "cell_type": "code",
   "execution_count": 63,
   "metadata": {},
   "outputs": [
    {
     "data": {
      "text/plain": [
       "RandomForestRegressor(max_depth=23, n_estimators=50, random_state=1985)"
      ]
     },
     "execution_count": 63,
     "metadata": {},
     "output_type": "execute_result"
    }
   ],
   "source": [
    "rfr_rougher.fit(features_train, target_r_train)"
   ]
  },
  {
   "cell_type": "code",
   "execution_count": 64,
   "metadata": {},
   "outputs": [
    {
     "data": {
      "text/plain": [
       "LinearRegression()"
      ]
     },
     "execution_count": 64,
     "metadata": {},
     "output_type": "execute_result"
    }
   ],
   "source": [
    "rougher_lr = LinearRegression()\n",
    "rougher_lr.fit(features_train, target_r_train) "
   ]
  },
  {
   "cell_type": "code",
   "execution_count": 65,
   "metadata": {},
   "outputs": [
    {
     "name": "stdout",
     "output_type": "stream",
     "text": [
      "[-10.20021965  -9.79913939  -9.78615668 -10.27745532 -11.41654485]\n",
      "Средняя оценка качества модели: -10.29590317680436\n"
     ]
    }
   ],
   "source": [
    "scores = cross_val_score(rougher_lr, features_train, target_r_train, scoring=my_scorer, cv=5)\n",
    "final_score = scores.mean()\n",
    "print(scores)\n",
    "print('Средняя оценка качества модели:', final_score)"
   ]
  },
  {
   "cell_type": "code",
   "execution_count": 66,
   "metadata": {},
   "outputs": [
    {
     "name": "stdout",
     "output_type": "stream",
     "text": [
      "МАЕ модели леса для чернового концентрата (обучение по гиперпараметрам, но без кросс-валидации) 3.6737222904642617\n",
      "МАЕ модели регресии для чернового концентрата 6.256837255738685\n",
      "МАЕ константной модели 16.384727960683943\n"
     ]
    }
   ],
   "source": [
    "#print('МАЕ модели леса для чернового концентрата',\n",
    "#      mean_absolute_error(target_r_valid, model_rougher.predict(features_valid)))\n",
    "print('МАЕ модели леса для чернового концентрата (обучение по гиперпараметрам, но без кросс-валидации)',\n",
    "      mean_absolute_error(target_r_valid, rfr_rougher.predict(features_valid)))\n",
    "print('МАЕ модели регресии для чернового концентрата',\n",
    "      mean_absolute_error(target_r_valid, rougher_lr.predict(features_valid)))\n",
    "print('МАЕ константной модели', mean_absolute_error(\n",
    "    target_f_valid, pd.Series(target_r_train.mean(),index = target_r_valid.index)))"
   ]
  },
  {
   "cell_type": "markdown",
   "metadata": {},
   "source": [
    "И все-таки лес получился в 2 раза лучше. Теперь построим модель для оценки эффективности обогащения финального концентрата.\n",
    "\n",
    "Превосходство над константной моделью очевидно."
   ]
  },
  {
   "cell_type": "markdown",
   "metadata": {},
   "source": [
    "А тут уже нам приедстя отказаться от GridSearchCV. Еще 2 часа..."
   ]
  },
  {
   "cell_type": "code",
   "execution_count": 67,
   "metadata": {},
   "outputs": [],
   "source": [
    "#rfr_final = RandomForestRegressor()"
   ]
  },
  {
   "cell_type": "code",
   "execution_count": 68,
   "metadata": {},
   "outputs": [],
   "source": [
    "#%%time\n",
    "#grid = GridSearchCV(rfr_final, params, scoring=my_scorer, cv=4)\n",
    "#grid.fit(features_train, target_f_train)\n",
    "#grid.best_params_\n",
    "#model_final = best_estimator_"
   ]
  },
  {
   "cell_type": "markdown",
   "metadata": {},
   "source": [
    "глубина 21 и 30 деревьев"
   ]
  },
  {
   "cell_type": "code",
   "execution_count": 69,
   "metadata": {},
   "outputs": [
    {
     "name": "stdout",
     "output_type": "stream",
     "text": [
      "6.410034336807194 50 25\n",
      "CPU times: user 18min 8s, sys: 597 ms, total: 18min 9s\n",
      "Wall time: 18min 9s\n"
     ]
    }
   ],
   "source": [
    "%%time\n",
    "rfr_final = None\n",
    "best_result = 100000\n",
    "est = 0\n",
    "depth = 0\n",
    "for est in range(10, 51, 10):\n",
    "    for depth in range(1,26):\n",
    "        model = RandomForestRegressor(random_state=1985, n_estimators=est, max_depth=depth)\n",
    "        model.fit(features_train, target_f_train)\n",
    "        result = smape(target_f_valid, model.predict(features_valid))\n",
    "        if result < best_result:\n",
    "            rfr_final = model\n",
    "            best_result = result\n",
    "            est = est\n",
    "            depth = depth\n",
    "print(best_result, est, depth)"
   ]
  },
  {
   "cell_type": "markdown",
   "metadata": {},
   "source": [
    "почти 20 минут, гиперпараметы: глубина 25 и 50 деревьев."
   ]
  },
  {
   "cell_type": "code",
   "execution_count": 70,
   "metadata": {},
   "outputs": [],
   "source": [
    "#rfr_final2 = RandomForestRegressor(max_depth=23, n_estimators=50, random_state=1985)\n",
    "#rfr_final2.fit(features_train, target_f_train)"
   ]
  },
  {
   "cell_type": "code",
   "execution_count": 71,
   "metadata": {},
   "outputs": [
    {
     "name": "stdout",
     "output_type": "stream",
     "text": [
      "[-6.89817373 -6.63883615 -7.09143352 -7.20885438 -7.63997645]\n",
      "Средняя оценка качества модели: -7.095454847605531\n"
     ]
    }
   ],
   "source": [
    "scores_final = cross_val_score(rfr_final, features_train, target_f_train, scoring=my_scorer, cv=5)\n",
    "final_score_f = scores_final.mean()\n",
    "print(scores_final)\n",
    "print('Средняя оценка качества модели:', final_score_f)"
   ]
  },
  {
   "cell_type": "code",
   "execution_count": 72,
   "metadata": {},
   "outputs": [
    {
     "data": {
      "text/plain": [
       "LinearRegression()"
      ]
     },
     "execution_count": 72,
     "metadata": {},
     "output_type": "execute_result"
    }
   ],
   "source": [
    "final_lr = LinearRegression()\n",
    "final_lr.fit(features_train, target_f_train) "
   ]
  },
  {
   "cell_type": "code",
   "execution_count": 73,
   "metadata": {},
   "outputs": [
    {
     "name": "stdout",
     "output_type": "stream",
     "text": [
      "[-9.21274827 -8.85850326 -9.24058793 -9.24690885 -9.49648327]\n",
      "Средняя оценка качества модели: -10.29590317680436\n"
     ]
    }
   ],
   "source": [
    "scores_reg = cross_val_score(final_lr, features_train, target_f_train, scoring=my_scorer, cv=5)\n",
    "final_score_r = scores.mean()\n",
    "print(scores_reg)\n",
    "print('Средняя оценка качества модели:', final_score_r)"
   ]
  },
  {
   "cell_type": "code",
   "execution_count": 74,
   "metadata": {},
   "outputs": [
    {
     "name": "stdout",
     "output_type": "stream",
     "text": [
      "МАЕ модели леса для финального концентрата (обучение по гиперпараметрам, но без кросс-валидации) 3.8131649183090968\n",
      "МАЕ модели регресии для финального концентрата 5.380566345721485\n",
      "МАЕ константной модели 6.662632540360025\n"
     ]
    }
   ],
   "source": [
    "print('МАЕ модели леса для финального концентрата (обучение по гиперпараметрам, но без кросс-валидации)',\n",
    "      mean_absolute_error(target_f_valid, rfr_final.predict(features_valid)))\n",
    "print('МАЕ модели регресии для финального концентрата',\n",
    "      mean_absolute_error(target_f_valid, final_lr.predict(features_valid)))\n",
    "print('МАЕ константной модели', mean_absolute_error(\n",
    "    target_f_valid, pd.Series(target_f_train.mean(),index = target_f_valid.index)))"
   ]
  },
  {
   "cell_type": "markdown",
   "metadata": {},
   "source": [
    "И снова модель случайного леса оказалась лучше. Хотя тут и константная модель нелдалеко. И новости это неприятные."
   ]
  },
  {
   "cell_type": "markdown",
   "metadata": {},
   "source": [
    "Теперь, когда у нас появились 2 отличные модели, давайте перейдем к расчету финального sMAPE. Функция у нас уже есть, осталось только подставить туда наши значения. "
   ]
  },
  {
   "cell_type": "code",
   "execution_count": 75,
   "metadata": {},
   "outputs": [
    {
     "name": "stdout",
     "output_type": "stream",
     "text": [
      "6.410034336807194\n"
     ]
    }
   ],
   "source": [
    "smape_test = smape(target_f_valid, rfr_final.predict(features_valid))\n",
    "print(smape_test)"
   ]
  },
  {
   "cell_type": "markdown",
   "metadata": {},
   "source": [
    "То что функция работает мы убедились на переборе параметров для случайного леса. Но можно и еще раз."
   ]
  },
  {
   "cell_type": "markdown",
   "metadata": {},
   "source": [
    "## Вычисления финального результата"
   ]
  },
  {
   "cell_type": "markdown",
   "metadata": {},
   "source": [
    "Для начала найдем проверочные значения для тестовой выборки. Единственно, что приходит в голову - надо совместить столбцы по дате. "
   ]
  },
  {
   "cell_type": "code",
   "execution_count": 76,
   "metadata": {},
   "outputs": [],
   "source": [
    "#data_check = data_full[['date', 'rougher.output.recovery', 'final.output.recovery']]\n",
    "#data_test = data_test.set_index('date')\n",
    "#data_check = data_check.set_index(['date'])\n",
    "#data_checkable = data_test.merge(data_check, how = 'left') #когда без индекса я писал on='date'\n",
    "#data_checkable = data_checkable.fillna(method='ffill')"
   ]
  },
  {
   "cell_type": "code",
   "execution_count": 77,
   "metadata": {},
   "outputs": [],
   "source": [
    "#data_test = data_test.fillna(method='ffill') \n",
    "#data_test['rougher.output.recovery'] = data_check['rougher.output.recovery']\n",
    "#data_test['final.output.recovery'] = data_check['final.output.recovery']\n",
    "#print(data_test)"
   ]
  },
  {
   "cell_type": "code",
   "execution_count": 78,
   "metadata": {},
   "outputs": [],
   "source": [
    "#target_test_rougher = data_test['rougher.output.recovery']\n",
    "#target_test_final = data_test['final.output.recovery']\n",
    "#features_test = data_test.drop(\n",
    "#['rougher.output.recovery', 'final.output.recovery'], axis=1)"
   ]
  },
  {
   "cell_type": "code",
   "execution_count": 79,
   "metadata": {},
   "outputs": [],
   "source": [
    "data_full = data_full.fillna(method='ffill')\n",
    "data_check = data_full[data_full['date'].isin(data_test['date'])]\n",
    "#display(data_check)"
   ]
  },
  {
   "cell_type": "code",
   "execution_count": 80,
   "metadata": {},
   "outputs": [],
   "source": [
    "data_check = data_check[columns]\n",
    "data_check = data_check.drop('date', axis=1)\n",
    "#data_check.info()"
   ]
  },
  {
   "cell_type": "code",
   "execution_count": 81,
   "metadata": {},
   "outputs": [],
   "source": [
    "target_test_rougher = data_check['rougher.output.recovery']\n",
    "target_test_final = data_check['final.output.recovery']\n",
    "features_test = data_check.drop(\n",
    "['rougher.output.recovery', 'final.output.recovery'], axis=1)"
   ]
  },
  {
   "cell_type": "code",
   "execution_count": 82,
   "metadata": {},
   "outputs": [
    {
     "name": "stdout",
     "output_type": "stream",
     "text": [
      "10.648889093104346\n"
     ]
    }
   ],
   "source": [
    "final_smape = 0.25*smape(target_test_rougher, rfr_rougher.predict(\n",
    "    features_test)) + 0.75*smape(target_test_final, rfr_final.predict(features_test))\n",
    "print(final_smape)"
   ]
  },
  {
   "cell_type": "code",
   "execution_count": 83,
   "metadata": {},
   "outputs": [
    {
     "name": "stdout",
     "output_type": "stream",
     "text": [
      "10.098167521230227\n"
     ]
    }
   ],
   "source": [
    "final_smape2 = 0.25*smape(target_test_rougher, rougher_lr.predict(\n",
    "    features_test)) + 0.75*smape(target_test_final, final_lr.predict(features_test))\n",
    "print(final_smape2)"
   ]
  },
  {
   "cell_type": "markdown",
   "metadata": {},
   "source": [
    "В итоге у нас регрессия еще и лучше показатель выдает. Все вообще зря...\n",
    "\n",
    "В общем, качество скромное, отклонение 10,1%. На данном этапе у нас нет понимания, много это или мало. Точнее, понимание есть что все очень плохо, а вот понимание, может ли заказчик с определенным уровнем достоверности на основе этой модели оценить свои производственные, а затем и экономические показатели, чтобы потом определить целесообразность запуска производства - это уже вопрос к заказчику."
   ]
  },
  {
   "cell_type": "markdown",
   "metadata": {},
   "source": [
    "## Вывод"
   ]
  },
  {
   "cell_type": "markdown",
   "metadata": {},
   "source": [
    "В ходе работы мы построили 4 модели, по одной для каждого целевого показателя - эффективности обогащения чернового концентрата и эффективности обогащения финального концентрата. Эти модели были оценены как единое целое при помощи метода симметричного среднего абсолютного процентного отклонения. Итоговый показатель получился хуже, чем ожидалось - smape больше 10%, уровень допустимой погрешности заказчику еще редстоит оценить."
   ]
  },
  {
   "cell_type": "markdown",
   "metadata": {},
   "source": [
    "В ходе задания мы столкнулись с пропусками в данных, это могло помешать нам получить оптимальный результат. Также негативный эффект могла иметь неравномерность выборки - был взят один непрерывный промежуток вместо выборки по всему датасету. Частично мы могли наблюдать это во второй главе, когда мы рассчитали, что средний размер гранул в тестовой выборке почти на 10% меньше."
   ]
  },
  {
   "cell_type": "markdown",
   "metadata": {},
   "source": [
    "В данный момент модель регрессии показала себя более устойчивой, к отличающимся данным, тем не менее, если обучить модель случайного леса на полном датасете или сделать равномерную выборку по всему датасету, модель случайного леса, вероятно, окажется лучше. \n",
    "\n",
    "Рекомендуем выбор модели будет основывать на том, насколько похожие условия будут для нового предприятия."
   ]
  }
 ],
 "metadata": {
  "ExecuteTimeLog": [
   {
    "duration": 1689,
    "start_time": "2022-09-17T13:08:44.986Z"
   },
   {
    "duration": 265,
    "start_time": "2022-09-17T13:09:39.276Z"
   },
   {
    "duration": 46,
    "start_time": "2022-09-17T13:10:21.374Z"
   },
   {
    "duration": 823,
    "start_time": "2022-09-17T13:10:28.003Z"
   },
   {
    "duration": 289,
    "start_time": "2022-09-17T13:10:44.976Z"
   },
   {
    "duration": 438,
    "start_time": "2022-09-17T13:12:29.599Z"
   },
   {
    "duration": 1886,
    "start_time": "2022-09-17T13:15:29.228Z"
   },
   {
    "duration": 7150,
    "start_time": "2022-09-17T13:24:43.565Z"
   },
   {
    "duration": 7096,
    "start_time": "2022-09-17T13:25:34.668Z"
   },
   {
    "duration": 7392,
    "start_time": "2022-09-17T13:25:50.163Z"
   },
   {
    "duration": 7424,
    "start_time": "2022-09-17T13:26:09.081Z"
   },
   {
    "duration": 8210,
    "start_time": "2022-09-17T13:26:32.533Z"
   },
   {
    "duration": 9477,
    "start_time": "2022-09-17T13:26:55.736Z"
   },
   {
    "duration": 11391,
    "start_time": "2022-09-17T13:30:45.077Z"
   },
   {
    "duration": 523,
    "start_time": "2022-09-17T13:56:10.276Z"
   },
   {
    "duration": 3,
    "start_time": "2022-09-17T14:20:36.197Z"
   },
   {
    "duration": 3431,
    "start_time": "2022-09-17T14:22:28.037Z"
   },
   {
    "duration": 1581,
    "start_time": "2022-09-17T14:23:06.947Z"
   },
   {
    "duration": 2540,
    "start_time": "2022-09-17T14:23:42.401Z"
   },
   {
    "duration": 7,
    "start_time": "2022-09-17T14:24:08.866Z"
   },
   {
    "duration": 2977,
    "start_time": "2022-09-17T14:25:53.065Z"
   },
   {
    "duration": 6,
    "start_time": "2022-09-17T14:28:33.035Z"
   },
   {
    "duration": 3,
    "start_time": "2022-09-17T14:29:30.764Z"
   },
   {
    "duration": 146,
    "start_time": "2022-09-17T14:42:00.207Z"
   },
   {
    "duration": 13,
    "start_time": "2022-09-17T14:49:45.004Z"
   },
   {
    "duration": 12,
    "start_time": "2022-09-17T15:10:00.662Z"
   },
   {
    "duration": 3,
    "start_time": "2022-09-17T15:10:04.041Z"
   },
   {
    "duration": 102,
    "start_time": "2022-09-17T15:12:52.967Z"
   },
   {
    "duration": 4,
    "start_time": "2022-09-17T15:17:40.139Z"
   },
   {
    "duration": 65,
    "start_time": "2022-09-17T15:17:45.922Z"
   },
   {
    "duration": 3,
    "start_time": "2022-09-17T15:18:01.055Z"
   },
   {
    "duration": 18214,
    "start_time": "2022-09-17T15:18:02.826Z"
   },
   {
    "duration": 18101,
    "start_time": "2022-09-17T15:18:25.611Z"
   },
   {
    "duration": 15,
    "start_time": "2022-09-17T15:22:35.613Z"
   },
   {
    "duration": 13,
    "start_time": "2022-09-17T15:22:53.619Z"
   },
   {
    "duration": 1314,
    "start_time": "2022-09-17T15:23:01.750Z"
   },
   {
    "duration": 6,
    "start_time": "2022-09-17T15:23:10.581Z"
   },
   {
    "duration": 10,
    "start_time": "2022-09-17T15:23:12.454Z"
   },
   {
    "duration": 3,
    "start_time": "2022-09-17T15:23:14.310Z"
   },
   {
    "duration": 3,
    "start_time": "2022-09-17T15:23:16.053Z"
   },
   {
    "duration": 3540,
    "start_time": "2022-09-17T15:23:20.154Z"
   },
   {
    "duration": 14,
    "start_time": "2022-09-17T15:54:53.814Z"
   },
   {
    "duration": 15,
    "start_time": "2022-09-17T15:55:01.017Z"
   },
   {
    "duration": 26,
    "start_time": "2022-09-17T15:55:15.091Z"
   },
   {
    "duration": 6,
    "start_time": "2022-09-17T15:59:52.336Z"
   },
   {
    "duration": 22,
    "start_time": "2022-09-17T16:00:11.079Z"
   },
   {
    "duration": 8,
    "start_time": "2022-09-17T16:05:39.094Z"
   },
   {
    "duration": 55,
    "start_time": "2022-09-17T16:06:16.183Z"
   },
   {
    "duration": 63,
    "start_time": "2022-09-17T16:06:52.279Z"
   },
   {
    "duration": 4,
    "start_time": "2022-09-17T16:07:15.955Z"
   },
   {
    "duration": 2,
    "start_time": "2022-09-17T16:11:02.816Z"
   },
   {
    "duration": 7,
    "start_time": "2022-09-17T16:11:08.410Z"
   },
   {
    "duration": 10,
    "start_time": "2022-09-17T16:11:38.934Z"
   },
   {
    "duration": 7,
    "start_time": "2022-09-17T16:11:42.958Z"
   },
   {
    "duration": 7,
    "start_time": "2022-09-17T16:11:55.112Z"
   },
   {
    "duration": 20,
    "start_time": "2022-09-17T16:13:42.866Z"
   },
   {
    "duration": 7,
    "start_time": "2022-09-17T16:13:47.321Z"
   },
   {
    "duration": 7,
    "start_time": "2022-09-17T16:14:20.661Z"
   },
   {
    "duration": 7,
    "start_time": "2022-09-17T16:14:26.957Z"
   },
   {
    "duration": 8,
    "start_time": "2022-09-17T16:14:38.743Z"
   },
   {
    "duration": 8,
    "start_time": "2022-09-17T16:14:43.137Z"
   },
   {
    "duration": 9,
    "start_time": "2022-09-17T16:14:51.669Z"
   },
   {
    "duration": 8,
    "start_time": "2022-09-17T16:15:00.986Z"
   },
   {
    "duration": 8,
    "start_time": "2022-09-17T16:15:05.767Z"
   },
   {
    "duration": 9,
    "start_time": "2022-09-17T16:15:23.743Z"
   },
   {
    "duration": 5,
    "start_time": "2022-09-17T16:15:35.068Z"
   },
   {
    "duration": 1540,
    "start_time": "2022-09-18T17:11:28.611Z"
   },
   {
    "duration": 1019,
    "start_time": "2022-09-18T17:11:30.153Z"
   },
   {
    "duration": 466,
    "start_time": "2022-09-18T17:11:31.173Z"
   },
   {
    "duration": 19,
    "start_time": "2022-09-18T17:11:31.642Z"
   },
   {
    "duration": 1991,
    "start_time": "2022-09-18T17:11:31.663Z"
   },
   {
    "duration": 16,
    "start_time": "2022-09-18T17:11:33.656Z"
   },
   {
    "duration": 3,
    "start_time": "2022-09-18T17:11:33.674Z"
   },
   {
    "duration": 42,
    "start_time": "2022-09-18T17:11:33.678Z"
   },
   {
    "duration": 36,
    "start_time": "2022-09-18T17:11:33.722Z"
   },
   {
    "duration": 144,
    "start_time": "2022-09-18T17:11:33.761Z"
   },
   {
    "duration": 2,
    "start_time": "2022-09-18T17:11:33.907Z"
   },
   {
    "duration": 22,
    "start_time": "2022-09-18T17:11:33.911Z"
   },
   {
    "duration": 22,
    "start_time": "2022-09-18T17:11:33.935Z"
   },
   {
    "duration": 1067,
    "start_time": "2022-09-18T17:11:33.959Z"
   },
   {
    "duration": 0,
    "start_time": "2022-09-18T17:11:35.028Z"
   },
   {
    "duration": 0,
    "start_time": "2022-09-18T17:11:35.030Z"
   },
   {
    "duration": 0,
    "start_time": "2022-09-18T17:11:35.032Z"
   },
   {
    "duration": 0,
    "start_time": "2022-09-18T17:11:35.033Z"
   },
   {
    "duration": 0,
    "start_time": "2022-09-18T17:11:35.034Z"
   },
   {
    "duration": 1398,
    "start_time": "2022-09-18T17:12:42.551Z"
   },
   {
    "duration": 315,
    "start_time": "2022-09-18T17:12:43.951Z"
   },
   {
    "duration": 97,
    "start_time": "2022-09-18T17:12:44.268Z"
   },
   {
    "duration": 14,
    "start_time": "2022-09-18T17:12:44.367Z"
   },
   {
    "duration": 398,
    "start_time": "2022-09-18T17:12:44.384Z"
   },
   {
    "duration": 18,
    "start_time": "2022-09-18T17:12:44.784Z"
   },
   {
    "duration": 2,
    "start_time": "2022-09-18T17:12:44.805Z"
   },
   {
    "duration": 46,
    "start_time": "2022-09-18T17:12:44.810Z"
   },
   {
    "duration": 7,
    "start_time": "2022-09-18T17:12:44.858Z"
   },
   {
    "duration": 146,
    "start_time": "2022-09-18T17:12:44.866Z"
   },
   {
    "duration": 2,
    "start_time": "2022-09-18T17:12:45.014Z"
   },
   {
    "duration": 26,
    "start_time": "2022-09-18T17:12:45.018Z"
   },
   {
    "duration": 9,
    "start_time": "2022-09-18T17:12:45.046Z"
   },
   {
    "duration": 1164,
    "start_time": "2022-09-18T17:12:45.058Z"
   },
   {
    "duration": 0,
    "start_time": "2022-09-18T17:12:46.224Z"
   },
   {
    "duration": 0,
    "start_time": "2022-09-18T17:12:46.225Z"
   },
   {
    "duration": 0,
    "start_time": "2022-09-18T17:12:46.226Z"
   },
   {
    "duration": 0,
    "start_time": "2022-09-18T17:12:46.227Z"
   },
   {
    "duration": 0,
    "start_time": "2022-09-18T17:12:46.228Z"
   },
   {
    "duration": 3,
    "start_time": "2022-09-18T17:27:40.387Z"
   },
   {
    "duration": 1496,
    "start_time": "2022-09-18T17:28:03.017Z"
   },
   {
    "duration": 343,
    "start_time": "2022-09-18T17:28:04.515Z"
   },
   {
    "duration": 106,
    "start_time": "2022-09-18T17:28:04.859Z"
   },
   {
    "duration": 19,
    "start_time": "2022-09-18T17:28:04.968Z"
   },
   {
    "duration": 422,
    "start_time": "2022-09-18T17:28:04.989Z"
   },
   {
    "duration": 20,
    "start_time": "2022-09-18T17:28:05.413Z"
   },
   {
    "duration": 3,
    "start_time": "2022-09-18T17:28:05.435Z"
   },
   {
    "duration": 26,
    "start_time": "2022-09-18T17:28:05.455Z"
   },
   {
    "duration": 17,
    "start_time": "2022-09-18T17:28:05.484Z"
   },
   {
    "duration": 183,
    "start_time": "2022-09-18T17:28:05.506Z"
   },
   {
    "duration": 3,
    "start_time": "2022-09-18T17:28:05.691Z"
   },
   {
    "duration": 29,
    "start_time": "2022-09-18T17:28:05.696Z"
   },
   {
    "duration": 12,
    "start_time": "2022-09-18T17:28:05.727Z"
   },
   {
    "duration": 8,
    "start_time": "2022-09-18T17:28:05.741Z"
   },
   {
    "duration": 39,
    "start_time": "2022-09-18T17:28:05.751Z"
   },
   {
    "duration": 20,
    "start_time": "2022-09-18T17:28:05.792Z"
   },
   {
    "duration": 3,
    "start_time": "2022-09-18T17:28:05.814Z"
   },
   {
    "duration": 21,
    "start_time": "2022-09-18T17:28:05.819Z"
   },
   {
    "duration": 6945,
    "start_time": "2022-09-18T17:28:05.842Z"
   },
   {
    "duration": 9,
    "start_time": "2022-09-18T17:35:19.188Z"
   },
   {
    "duration": 1353,
    "start_time": "2022-09-18T17:35:36.487Z"
   },
   {
    "duration": 324,
    "start_time": "2022-09-18T17:35:37.841Z"
   },
   {
    "duration": 104,
    "start_time": "2022-09-18T17:35:38.167Z"
   },
   {
    "duration": 14,
    "start_time": "2022-09-18T17:35:38.274Z"
   },
   {
    "duration": 416,
    "start_time": "2022-09-18T17:35:38.290Z"
   },
   {
    "duration": 18,
    "start_time": "2022-09-18T17:35:38.708Z"
   },
   {
    "duration": 3,
    "start_time": "2022-09-18T17:35:38.728Z"
   },
   {
    "duration": 38,
    "start_time": "2022-09-18T17:35:38.732Z"
   },
   {
    "duration": 19,
    "start_time": "2022-09-18T17:35:38.772Z"
   },
   {
    "duration": 156,
    "start_time": "2022-09-18T17:35:38.794Z"
   },
   {
    "duration": 2,
    "start_time": "2022-09-18T17:35:38.954Z"
   },
   {
    "duration": 11,
    "start_time": "2022-09-18T17:35:38.958Z"
   },
   {
    "duration": 4,
    "start_time": "2022-09-18T17:35:38.971Z"
   },
   {
    "duration": 15,
    "start_time": "2022-09-18T17:35:38.977Z"
   },
   {
    "duration": 2,
    "start_time": "2022-09-18T17:35:38.994Z"
   },
   {
    "duration": 14,
    "start_time": "2022-09-18T17:35:38.998Z"
   },
   {
    "duration": 40,
    "start_time": "2022-09-18T17:35:39.014Z"
   },
   {
    "duration": 3,
    "start_time": "2022-09-18T17:35:39.056Z"
   },
   {
    "duration": 8,
    "start_time": "2022-09-18T17:35:39.060Z"
   },
   {
    "duration": 6316,
    "start_time": "2022-09-18T17:35:39.070Z"
   },
   {
    "duration": 5105,
    "start_time": "2022-09-18T17:36:11.161Z"
   },
   {
    "duration": 5,
    "start_time": "2022-09-18T18:08:58.897Z"
   },
   {
    "duration": 3,
    "start_time": "2022-09-18T18:13:06.093Z"
   },
   {
    "duration": 3,
    "start_time": "2022-09-18T18:14:01.995Z"
   },
   {
    "duration": 8482601,
    "start_time": "2022-09-18T18:14:16.609Z"
   },
   {
    "duration": 12,
    "start_time": "2022-09-18T20:42:59.525Z"
   },
   {
    "duration": 61,
    "start_time": "2022-09-18T20:44:52.701Z"
   },
   {
    "duration": 12,
    "start_time": "2022-09-18T20:46:08.234Z"
   },
   {
    "duration": 3,
    "start_time": "2022-09-18T20:47:37.502Z"
   },
   {
    "duration": 10,
    "start_time": "2022-09-18T20:50:29.690Z"
   },
   {
    "duration": 1,
    "start_time": "2022-09-18T20:50:29.701Z"
   },
   {
    "duration": 0,
    "start_time": "2022-09-18T20:50:29.703Z"
   },
   {
    "duration": 151,
    "start_time": "2022-09-18T20:51:49.877Z"
   },
   {
    "duration": 10,
    "start_time": "2022-09-18T20:51:54.589Z"
   },
   {
    "duration": 5,
    "start_time": "2022-09-18T20:52:04.399Z"
   },
   {
    "duration": 165,
    "start_time": "2022-09-18T20:52:19.699Z"
   },
   {
    "duration": 10,
    "start_time": "2022-09-18T20:52:43.717Z"
   },
   {
    "duration": 13,
    "start_time": "2022-09-18T20:52:50.626Z"
   },
   {
    "duration": 20,
    "start_time": "2022-09-18T21:04:56.978Z"
   },
   {
    "duration": 4,
    "start_time": "2022-09-18T21:05:24.427Z"
   },
   {
    "duration": 17,
    "start_time": "2022-09-18T21:06:23.424Z"
   },
   {
    "duration": 16,
    "start_time": "2022-09-18T21:06:53.203Z"
   },
   {
    "duration": 5,
    "start_time": "2022-09-18T21:21:47.631Z"
   },
   {
    "duration": 766,
    "start_time": "2022-09-18T21:29:52.057Z"
   },
   {
    "duration": 13,
    "start_time": "2022-09-18T21:30:08.346Z"
   },
   {
    "duration": 10,
    "start_time": "2022-09-18T21:31:12.283Z"
   },
   {
    "duration": 6,
    "start_time": "2022-09-18T21:31:16.654Z"
   },
   {
    "duration": 739,
    "start_time": "2022-09-18T21:31:51.413Z"
   },
   {
    "duration": 17,
    "start_time": "2022-09-18T21:32:10.628Z"
   },
   {
    "duration": 913,
    "start_time": "2022-09-18T21:33:39.719Z"
   },
   {
    "duration": 13,
    "start_time": "2022-09-18T21:33:58.595Z"
   },
   {
    "duration": 823,
    "start_time": "2022-09-18T21:37:54.333Z"
   },
   {
    "duration": 10,
    "start_time": "2022-09-18T21:42:03.341Z"
   },
   {
    "duration": 10,
    "start_time": "2022-09-18T21:42:12.325Z"
   },
   {
    "duration": 4,
    "start_time": "2022-09-18T21:42:28.443Z"
   },
   {
    "duration": 3,
    "start_time": "2022-09-18T21:42:45.759Z"
   },
   {
    "duration": 14,
    "start_time": "2022-09-18T21:43:24.820Z"
   },
   {
    "duration": 2,
    "start_time": "2022-09-18T21:47:15.659Z"
   },
   {
    "duration": 19,
    "start_time": "2022-09-18T21:47:53.642Z"
   },
   {
    "duration": 15,
    "start_time": "2022-09-18T21:48:44.956Z"
   },
   {
    "duration": 12,
    "start_time": "2022-09-18T21:51:56.701Z"
   },
   {
    "duration": 12,
    "start_time": "2022-09-18T21:53:02.147Z"
   },
   {
    "duration": 13,
    "start_time": "2022-09-18T21:53:15.351Z"
   },
   {
    "duration": 12,
    "start_time": "2022-09-18T21:54:14.071Z"
   },
   {
    "duration": 13,
    "start_time": "2022-09-18T21:55:04.751Z"
   },
   {
    "duration": 7,
    "start_time": "2022-09-18T22:04:11.327Z"
   },
   {
    "duration": 7,
    "start_time": "2022-09-18T22:04:38.561Z"
   },
   {
    "duration": 7,
    "start_time": "2022-09-18T22:05:00.743Z"
   },
   {
    "duration": 130,
    "start_time": "2022-09-18T22:18:47.483Z"
   },
   {
    "duration": 11,
    "start_time": "2022-09-18T22:19:09.114Z"
   },
   {
    "duration": 10,
    "start_time": "2022-09-18T22:19:13.804Z"
   },
   {
    "duration": 14,
    "start_time": "2022-09-18T22:20:25.487Z"
   },
   {
    "duration": 129,
    "start_time": "2022-09-18T22:23:40.936Z"
   },
   {
    "duration": 219,
    "start_time": "2022-09-18T22:23:47.537Z"
   },
   {
    "duration": 131,
    "start_time": "2022-09-18T22:23:57.631Z"
   },
   {
    "duration": 159,
    "start_time": "2022-09-18T22:24:09.924Z"
   },
   {
    "duration": 170,
    "start_time": "2022-09-18T22:24:41.010Z"
   },
   {
    "duration": 163,
    "start_time": "2022-09-18T22:24:46.163Z"
   },
   {
    "duration": 209,
    "start_time": "2022-09-18T22:25:14.972Z"
   },
   {
    "duration": 181,
    "start_time": "2022-09-18T22:25:22.018Z"
   },
   {
    "duration": 185,
    "start_time": "2022-09-18T22:37:18.993Z"
   },
   {
    "duration": 307,
    "start_time": "2022-09-18T22:37:29.964Z"
   },
   {
    "duration": 183,
    "start_time": "2022-09-18T22:37:43.934Z"
   },
   {
    "duration": 191,
    "start_time": "2022-09-18T22:37:49.047Z"
   },
   {
    "duration": 238,
    "start_time": "2022-09-18T22:39:09.897Z"
   },
   {
    "duration": 254,
    "start_time": "2022-09-18T22:39:15.867Z"
   },
   {
    "duration": 47,
    "start_time": "2022-09-19T09:00:23.143Z"
   },
   {
    "duration": 1514,
    "start_time": "2022-09-19T09:01:15.334Z"
   },
   {
    "duration": 1184,
    "start_time": "2022-09-19T09:01:16.850Z"
   },
   {
    "duration": 175,
    "start_time": "2022-09-19T09:01:18.036Z"
   },
   {
    "duration": 15,
    "start_time": "2022-09-19T09:01:18.213Z"
   },
   {
    "duration": 562,
    "start_time": "2022-09-19T09:01:18.230Z"
   },
   {
    "duration": 17,
    "start_time": "2022-09-19T09:01:18.794Z"
   },
   {
    "duration": 5,
    "start_time": "2022-09-19T09:01:18.812Z"
   },
   {
    "duration": 29,
    "start_time": "2022-09-19T09:01:18.818Z"
   },
   {
    "duration": 33,
    "start_time": "2022-09-19T09:01:18.849Z"
   },
   {
    "duration": 150,
    "start_time": "2022-09-19T09:01:18.885Z"
   },
   {
    "duration": 8,
    "start_time": "2022-09-19T09:01:19.037Z"
   },
   {
    "duration": 10,
    "start_time": "2022-09-19T09:01:19.047Z"
   },
   {
    "duration": 33,
    "start_time": "2022-09-19T09:01:19.058Z"
   },
   {
    "duration": 27,
    "start_time": "2022-09-19T09:01:19.093Z"
   },
   {
    "duration": 21,
    "start_time": "2022-09-19T09:01:19.122Z"
   },
   {
    "duration": 35,
    "start_time": "2022-09-19T09:01:19.145Z"
   },
   {
    "duration": 20,
    "start_time": "2022-09-19T09:01:19.182Z"
   },
   {
    "duration": 29,
    "start_time": "2022-09-19T09:01:19.204Z"
   },
   {
    "duration": 40,
    "start_time": "2022-09-19T09:01:19.234Z"
   },
   {
    "duration": 20,
    "start_time": "2022-09-19T09:01:19.275Z"
   },
   {
    "duration": 82628,
    "start_time": "2022-09-19T09:01:19.297Z"
   },
   {
    "duration": 143,
    "start_time": "2022-09-19T09:02:41.927Z"
   },
   {
    "duration": 4,
    "start_time": "2022-09-19T09:02:42.072Z"
   },
   {
    "duration": 222,
    "start_time": "2022-09-19T09:02:42.078Z"
   },
   {
    "duration": 191,
    "start_time": "2022-09-19T09:02:42.302Z"
   },
   {
    "duration": 102,
    "start_time": "2022-09-19T09:02:42.496Z"
   },
   {
    "duration": 6,
    "start_time": "2022-09-19T09:02:42.599Z"
   },
   {
    "duration": 3,
    "start_time": "2022-09-19T09:02:42.609Z"
   },
   {
    "duration": 20,
    "start_time": "2022-09-19T09:02:42.614Z"
   },
   {
    "duration": 63,
    "start_time": "2022-09-19T09:02:42.636Z"
   },
   {
    "duration": 11,
    "start_time": "2022-09-19T09:02:42.701Z"
   },
   {
    "duration": 12,
    "start_time": "2022-09-19T09:02:42.714Z"
   },
   {
    "duration": 6,
    "start_time": "2022-09-19T09:02:42.728Z"
   },
   {
    "duration": 12,
    "start_time": "2022-09-19T09:02:42.736Z"
   },
   {
    "duration": 8,
    "start_time": "2022-09-19T09:02:42.749Z"
   },
   {
    "duration": 294,
    "start_time": "2022-09-19T09:02:42.759Z"
   },
   {
    "duration": 7,
    "start_time": "2022-09-19T09:02:43.055Z"
   },
   {
    "duration": 358,
    "start_time": "2022-09-19T09:02:43.063Z"
   },
   {
    "duration": 5,
    "start_time": "2022-09-19T09:02:43.423Z"
   },
   {
    "duration": 6,
    "start_time": "2022-09-19T09:39:33.611Z"
   },
   {
    "duration": 3,
    "start_time": "2022-09-19T10:31:05.424Z"
   },
   {
    "duration": 1414,
    "start_time": "2022-09-19T11:07:12.712Z"
   },
   {
    "duration": 332,
    "start_time": "2022-09-19T11:07:14.128Z"
   },
   {
    "duration": 103,
    "start_time": "2022-09-19T11:07:14.462Z"
   },
   {
    "duration": 13,
    "start_time": "2022-09-19T11:07:14.566Z"
   },
   {
    "duration": 388,
    "start_time": "2022-09-19T11:07:14.589Z"
   },
   {
    "duration": 29,
    "start_time": "2022-09-19T11:07:14.979Z"
   },
   {
    "duration": 3,
    "start_time": "2022-09-19T11:07:15.010Z"
   },
   {
    "duration": 30,
    "start_time": "2022-09-19T11:07:15.015Z"
   },
   {
    "duration": 15,
    "start_time": "2022-09-19T11:07:15.046Z"
   },
   {
    "duration": 187,
    "start_time": "2022-09-19T11:07:15.063Z"
   },
   {
    "duration": 8,
    "start_time": "2022-09-19T11:07:15.252Z"
   },
   {
    "duration": 4,
    "start_time": "2022-09-19T11:07:15.262Z"
   },
   {
    "duration": 28,
    "start_time": "2022-09-19T11:07:15.268Z"
   },
   {
    "duration": 3,
    "start_time": "2022-09-19T11:07:15.300Z"
   },
   {
    "duration": 16,
    "start_time": "2022-09-19T11:07:15.304Z"
   },
   {
    "duration": 16,
    "start_time": "2022-09-19T11:07:15.322Z"
   },
   {
    "duration": 3,
    "start_time": "2022-09-19T11:07:15.340Z"
   },
   {
    "duration": 14,
    "start_time": "2022-09-19T11:07:15.345Z"
   },
   {
    "duration": 11,
    "start_time": "2022-09-19T11:07:15.361Z"
   },
   {
    "duration": 17,
    "start_time": "2022-09-19T11:07:15.374Z"
   },
   {
    "duration": 88884,
    "start_time": "2022-09-19T11:07:15.393Z"
   },
   {
    "duration": 137,
    "start_time": "2022-09-19T11:08:44.279Z"
   },
   {
    "duration": 6,
    "start_time": "2022-09-19T11:08:44.418Z"
   },
   {
    "duration": 1566,
    "start_time": "2022-09-19T11:08:44.426Z"
   },
   {
    "duration": 105,
    "start_time": "2022-09-19T11:08:45.997Z"
   },
   {
    "duration": 118,
    "start_time": "2022-09-19T11:08:46.191Z"
   },
   {
    "duration": 5,
    "start_time": "2022-09-19T11:08:46.311Z"
   },
   {
    "duration": 5,
    "start_time": "2022-09-19T11:08:46.317Z"
   },
   {
    "duration": 16,
    "start_time": "2022-09-19T11:08:46.323Z"
   },
   {
    "duration": 14,
    "start_time": "2022-09-19T11:08:46.341Z"
   },
   {
    "duration": 12,
    "start_time": "2022-09-19T11:08:46.357Z"
   },
   {
    "duration": 28,
    "start_time": "2022-09-19T11:08:46.390Z"
   },
   {
    "duration": 8,
    "start_time": "2022-09-19T11:08:46.420Z"
   },
   {
    "duration": 12,
    "start_time": "2022-09-19T11:08:46.430Z"
   },
   {
    "duration": 6,
    "start_time": "2022-09-19T11:08:46.444Z"
   },
   {
    "duration": 271,
    "start_time": "2022-09-19T11:08:46.452Z"
   },
   {
    "duration": 5,
    "start_time": "2022-09-19T11:08:46.725Z"
   },
   {
    "duration": 308,
    "start_time": "2022-09-19T11:08:46.732Z"
   },
   {
    "duration": 6,
    "start_time": "2022-09-19T11:08:47.042Z"
   },
   {
    "duration": 9,
    "start_time": "2022-09-19T11:08:47.050Z"
   },
   {
    "duration": 15,
    "start_time": "2022-09-19T11:08:47.063Z"
   },
   {
    "duration": 408,
    "start_time": "2022-09-19T11:21:48.851Z"
   },
   {
    "duration": 313,
    "start_time": "2022-09-19T11:21:58.112Z"
   },
   {
    "duration": 4,
    "start_time": "2022-09-19T11:32:28.312Z"
   },
   {
    "duration": 5,
    "start_time": "2022-09-19T11:32:46.833Z"
   },
   {
    "duration": 7,
    "start_time": "2022-09-19T11:33:39.140Z"
   },
   {
    "duration": 13,
    "start_time": "2022-09-19T11:33:54.386Z"
   },
   {
    "duration": 260,
    "start_time": "2022-09-19T11:36:46.726Z"
   },
   {
    "duration": 5,
    "start_time": "2022-09-19T11:36:52.958Z"
   },
   {
    "duration": 10,
    "start_time": "2022-09-19T11:37:05.965Z"
   },
   {
    "duration": 2,
    "start_time": "2022-09-19T11:41:33.191Z"
   },
   {
    "duration": 88,
    "start_time": "2022-09-19T11:50:11.274Z"
   },
   {
    "duration": 9,
    "start_time": "2022-09-19T11:50:27.839Z"
   },
   {
    "duration": 19,
    "start_time": "2022-09-19T11:51:34.034Z"
   },
   {
    "duration": 19,
    "start_time": "2022-09-19T11:51:41.551Z"
   },
   {
    "duration": 4,
    "start_time": "2022-09-19T11:52:34.307Z"
   },
   {
    "duration": 5,
    "start_time": "2022-09-19T11:52:45.966Z"
   },
   {
    "duration": 3,
    "start_time": "2022-09-19T11:52:53.316Z"
   },
   {
    "duration": 4,
    "start_time": "2022-09-19T11:53:02.925Z"
   },
   {
    "duration": 4,
    "start_time": "2022-09-19T11:53:07.517Z"
   },
   {
    "duration": 9,
    "start_time": "2022-09-19T11:53:17.470Z"
   },
   {
    "duration": 4,
    "start_time": "2022-09-19T11:53:20.524Z"
   },
   {
    "duration": 3,
    "start_time": "2022-09-19T11:54:53.451Z"
   },
   {
    "duration": 89,
    "start_time": "2022-09-19T11:57:09.621Z"
   },
   {
    "duration": 7,
    "start_time": "2022-09-19T11:57:53.165Z"
   },
   {
    "duration": 12,
    "start_time": "2022-09-19T11:58:14.311Z"
   },
   {
    "duration": 6,
    "start_time": "2022-09-19T11:58:19.015Z"
   },
   {
    "duration": 82,
    "start_time": "2022-09-19T12:00:29.024Z"
   },
   {
    "duration": 3,
    "start_time": "2022-09-19T12:00:35.966Z"
   },
   {
    "duration": 3,
    "start_time": "2022-09-19T12:00:38.427Z"
   },
   {
    "duration": 1600806,
    "start_time": "2022-09-19T12:00:40.211Z"
   },
   {
    "duration": 3,
    "start_time": "2022-09-19T12:27:50.362Z"
   },
   {
    "duration": 91476,
    "start_time": "2022-09-19T12:27:58.661Z"
   },
   {
    "duration": 481,
    "start_time": "2022-09-19T12:29:30.139Z"
   },
   {
    "duration": 455,
    "start_time": "2022-09-19T12:31:13.858Z"
   },
   {
    "duration": 162,
    "start_time": "2022-09-19T12:32:06.022Z"
   },
   {
    "duration": 3,
    "start_time": "2022-09-19T12:34:34.128Z"
   },
   {
    "duration": 37098,
    "start_time": "2022-09-19T12:34:41.409Z"
   },
   {
    "duration": 69,
    "start_time": "2022-09-19T12:35:18.509Z"
   },
   {
    "duration": 3,
    "start_time": "2022-09-19T12:38:43.251Z"
   },
   {
    "duration": 37193,
    "start_time": "2022-09-19T12:38:45.512Z"
   },
   {
    "duration": 65,
    "start_time": "2022-09-19T12:39:22.707Z"
   },
   {
    "duration": 3,
    "start_time": "2022-09-19T12:39:45.748Z"
   },
   {
    "duration": 34655,
    "start_time": "2022-09-19T12:39:48.075Z"
   },
   {
    "duration": 70,
    "start_time": "2022-09-19T12:40:22.732Z"
   },
   {
    "duration": 3,
    "start_time": "2022-09-19T12:40:39.195Z"
   },
   {
    "duration": 25981,
    "start_time": "2022-09-19T12:40:41.517Z"
   },
   {
    "duration": 33,
    "start_time": "2022-09-19T12:41:07.500Z"
   },
   {
    "duration": 26,
    "start_time": "2022-09-19T12:41:38.954Z"
   },
   {
    "duration": 3,
    "start_time": "2022-09-19T12:41:51.213Z"
   },
   {
    "duration": 36894,
    "start_time": "2022-09-19T12:42:05.129Z"
   },
   {
    "duration": 94,
    "start_time": "2022-09-19T12:42:42.026Z"
   },
   {
    "duration": 17,
    "start_time": "2022-09-19T12:52:32.612Z"
   },
   {
    "duration": 23,
    "start_time": "2022-09-19T12:52:39.652Z"
   },
   {
    "duration": 3,
    "start_time": "2022-09-19T12:52:54.808Z"
   },
   {
    "duration": 37654,
    "start_time": "2022-09-19T12:53:09.011Z"
   },
   {
    "duration": 71,
    "start_time": "2022-09-19T12:53:46.667Z"
   },
   {
    "duration": 3,
    "start_time": "2022-09-19T13:00:57.517Z"
   },
   {
    "duration": 1434,
    "start_time": "2022-09-19T13:03:18.704Z"
   },
   {
    "duration": 335,
    "start_time": "2022-09-19T13:03:20.140Z"
   },
   {
    "duration": 112,
    "start_time": "2022-09-19T13:03:20.476Z"
   },
   {
    "duration": 16,
    "start_time": "2022-09-19T13:03:20.598Z"
   },
   {
    "duration": 435,
    "start_time": "2022-09-19T13:03:20.616Z"
   },
   {
    "duration": 18,
    "start_time": "2022-09-19T13:03:21.053Z"
   },
   {
    "duration": 18,
    "start_time": "2022-09-19T13:03:21.072Z"
   },
   {
    "duration": 45,
    "start_time": "2022-09-19T13:03:21.093Z"
   },
   {
    "duration": 32,
    "start_time": "2022-09-19T13:03:21.140Z"
   },
   {
    "duration": 176,
    "start_time": "2022-09-19T13:03:21.174Z"
   },
   {
    "duration": 11,
    "start_time": "2022-09-19T13:03:21.352Z"
   },
   {
    "duration": 14,
    "start_time": "2022-09-19T13:03:21.365Z"
   },
   {
    "duration": 42,
    "start_time": "2022-09-19T13:03:21.381Z"
   },
   {
    "duration": 13,
    "start_time": "2022-09-19T13:03:21.427Z"
   },
   {
    "duration": 33,
    "start_time": "2022-09-19T13:03:21.441Z"
   },
   {
    "duration": 38,
    "start_time": "2022-09-19T13:03:21.475Z"
   },
   {
    "duration": 17,
    "start_time": "2022-09-19T13:03:21.515Z"
   },
   {
    "duration": 29,
    "start_time": "2022-09-19T13:03:21.533Z"
   },
   {
    "duration": 14,
    "start_time": "2022-09-19T13:03:21.564Z"
   },
   {
    "duration": 25,
    "start_time": "2022-09-19T13:03:21.580Z"
   },
   {
    "duration": 89606,
    "start_time": "2022-09-19T13:03:21.607Z"
   },
   {
    "duration": 143,
    "start_time": "2022-09-19T13:04:51.215Z"
   },
   {
    "duration": 5,
    "start_time": "2022-09-19T13:04:51.360Z"
   },
   {
    "duration": 745,
    "start_time": "2022-09-19T13:04:51.366Z"
   },
   {
    "duration": 113,
    "start_time": "2022-09-19T13:04:52.191Z"
   },
   {
    "duration": 97,
    "start_time": "2022-09-19T13:04:52.307Z"
   },
   {
    "duration": 95,
    "start_time": "2022-09-19T13:04:52.406Z"
   },
   {
    "duration": 9,
    "start_time": "2022-09-19T13:04:52.507Z"
   },
   {
    "duration": 19,
    "start_time": "2022-09-19T13:04:52.518Z"
   },
   {
    "duration": 14,
    "start_time": "2022-09-19T13:04:52.539Z"
   },
   {
    "duration": 14,
    "start_time": "2022-09-19T13:04:52.554Z"
   },
   {
    "duration": 33,
    "start_time": "2022-09-19T13:04:52.570Z"
   },
   {
    "duration": 13,
    "start_time": "2022-09-19T13:04:52.605Z"
   },
   {
    "duration": 22,
    "start_time": "2022-09-19T13:04:52.620Z"
   },
   {
    "duration": 12,
    "start_time": "2022-09-19T13:04:52.644Z"
   },
   {
    "duration": 253,
    "start_time": "2022-09-19T13:04:52.658Z"
   },
   {
    "duration": 6,
    "start_time": "2022-09-19T13:04:52.913Z"
   },
   {
    "duration": 290,
    "start_time": "2022-09-19T13:04:52.921Z"
   },
   {
    "duration": 5,
    "start_time": "2022-09-19T13:04:53.213Z"
   },
   {
    "duration": 12,
    "start_time": "2022-09-19T13:04:53.219Z"
   },
   {
    "duration": 35,
    "start_time": "2022-09-19T13:04:53.235Z"
   },
   {
    "duration": 22,
    "start_time": "2022-09-19T13:04:53.272Z"
   },
   {
    "duration": 23,
    "start_time": "2022-09-19T13:04:53.299Z"
   },
   {
    "duration": 10,
    "start_time": "2022-09-19T13:04:53.324Z"
   },
   {
    "duration": 22,
    "start_time": "2022-09-19T13:04:53.336Z"
   },
   {
    "duration": 4,
    "start_time": "2022-09-19T13:04:53.359Z"
   },
   {
    "duration": 15,
    "start_time": "2022-09-19T13:04:53.365Z"
   },
   {
    "duration": 31,
    "start_time": "2022-09-19T13:04:53.382Z"
   },
   {
    "duration": 19,
    "start_time": "2022-09-19T13:04:53.415Z"
   },
   {
    "duration": 10,
    "start_time": "2022-09-19T13:04:53.436Z"
   },
   {
    "duration": 7,
    "start_time": "2022-09-19T13:04:53.447Z"
   },
   {
    "duration": 8,
    "start_time": "2022-09-19T13:04:53.456Z"
   },
   {
    "duration": 1500,
    "start_time": "2022-09-19T13:05:10.521Z"
   },
   {
    "duration": 389,
    "start_time": "2022-09-19T13:05:12.024Z"
   },
   {
    "duration": 102,
    "start_time": "2022-09-19T13:05:12.415Z"
   },
   {
    "duration": 13,
    "start_time": "2022-09-19T13:05:12.519Z"
   },
   {
    "duration": 411,
    "start_time": "2022-09-19T13:05:12.533Z"
   },
   {
    "duration": 17,
    "start_time": "2022-09-19T13:05:12.946Z"
   },
   {
    "duration": 3,
    "start_time": "2022-09-19T13:05:12.964Z"
   },
   {
    "duration": 37,
    "start_time": "2022-09-19T13:05:12.968Z"
   },
   {
    "duration": 12,
    "start_time": "2022-09-19T13:05:13.007Z"
   },
   {
    "duration": 158,
    "start_time": "2022-09-19T13:05:13.022Z"
   },
   {
    "duration": 15,
    "start_time": "2022-09-19T13:05:13.182Z"
   },
   {
    "duration": 4,
    "start_time": "2022-09-19T13:05:13.205Z"
   },
   {
    "duration": 16,
    "start_time": "2022-09-19T13:05:13.211Z"
   },
   {
    "duration": 4,
    "start_time": "2022-09-19T13:05:13.229Z"
   },
   {
    "duration": 11,
    "start_time": "2022-09-19T13:05:13.235Z"
   },
   {
    "duration": 19,
    "start_time": "2022-09-19T13:05:13.248Z"
   },
   {
    "duration": 2,
    "start_time": "2022-09-19T13:05:13.269Z"
   },
   {
    "duration": 20,
    "start_time": "2022-09-19T13:05:13.273Z"
   },
   {
    "duration": 17,
    "start_time": "2022-09-19T13:05:13.294Z"
   },
   {
    "duration": 6,
    "start_time": "2022-09-19T13:05:13.313Z"
   },
   {
    "duration": 88531,
    "start_time": "2022-09-19T13:05:13.320Z"
   },
   {
    "duration": 156,
    "start_time": "2022-09-19T13:06:41.853Z"
   },
   {
    "duration": 5,
    "start_time": "2022-09-19T13:06:42.012Z"
   },
   {
    "duration": 588,
    "start_time": "2022-09-19T13:06:42.019Z"
   },
   {
    "duration": 90,
    "start_time": "2022-09-19T13:06:42.612Z"
   },
   {
    "duration": 111,
    "start_time": "2022-09-19T13:06:42.704Z"
   },
   {
    "duration": 11,
    "start_time": "2022-09-19T13:06:42.894Z"
   },
   {
    "duration": 3,
    "start_time": "2022-09-19T13:06:42.909Z"
   },
   {
    "duration": 19,
    "start_time": "2022-09-19T13:06:42.913Z"
   },
   {
    "duration": 13,
    "start_time": "2022-09-19T13:06:42.934Z"
   },
   {
    "duration": 9,
    "start_time": "2022-09-19T13:06:42.949Z"
   },
   {
    "duration": 13,
    "start_time": "2022-09-19T13:06:42.960Z"
   },
   {
    "duration": 30,
    "start_time": "2022-09-19T13:06:42.974Z"
   },
   {
    "duration": 13,
    "start_time": "2022-09-19T13:06:43.005Z"
   },
   {
    "duration": 7,
    "start_time": "2022-09-19T13:06:43.020Z"
   },
   {
    "duration": 265,
    "start_time": "2022-09-19T13:06:43.028Z"
   },
   {
    "duration": 8,
    "start_time": "2022-09-19T13:06:43.296Z"
   },
   {
    "duration": 266,
    "start_time": "2022-09-19T13:06:43.305Z"
   },
   {
    "duration": 6,
    "start_time": "2022-09-19T13:06:43.573Z"
   },
   {
    "duration": 26,
    "start_time": "2022-09-19T13:06:43.581Z"
   },
   {
    "duration": 20,
    "start_time": "2022-09-19T13:06:43.609Z"
   },
   {
    "duration": 35,
    "start_time": "2022-09-19T13:06:43.632Z"
   },
   {
    "duration": 20,
    "start_time": "2022-09-19T13:06:43.668Z"
   },
   {
    "duration": 31,
    "start_time": "2022-09-19T13:06:43.690Z"
   },
   {
    "duration": 41,
    "start_time": "2022-09-19T13:06:43.723Z"
   },
   {
    "duration": 5,
    "start_time": "2022-09-19T13:06:43.766Z"
   },
   {
    "duration": 35,
    "start_time": "2022-09-19T13:06:43.772Z"
   },
   {
    "duration": 18,
    "start_time": "2022-09-19T13:06:43.808Z"
   },
   {
    "duration": 12,
    "start_time": "2022-09-19T13:06:43.827Z"
   },
   {
    "duration": 18,
    "start_time": "2022-09-19T13:06:43.841Z"
   },
   {
    "duration": 13,
    "start_time": "2022-09-19T13:06:43.860Z"
   },
   {
    "duration": 12,
    "start_time": "2022-09-19T13:06:43.874Z"
   },
   {
    "duration": 36934,
    "start_time": "2022-09-19T13:06:43.888Z"
   },
   {
    "duration": 82,
    "start_time": "2022-09-19T13:07:20.823Z"
   },
   {
    "duration": 3,
    "start_time": "2022-09-19T13:07:20.907Z"
   },
   {
    "duration": 1740238,
    "start_time": "2022-09-19T13:07:20.911Z"
   },
   {
    "duration": 3,
    "start_time": "2022-09-19T13:36:21.150Z"
   },
   {
    "duration": 35194,
    "start_time": "2022-09-19T13:36:21.155Z"
   },
   {
    "duration": 72,
    "start_time": "2022-09-19T13:36:56.351Z"
   },
   {
    "duration": 2,
    "start_time": "2022-09-19T13:38:07.218Z"
   },
   {
    "duration": 37360,
    "start_time": "2022-09-19T13:38:54.244Z"
   },
   {
    "duration": 70,
    "start_time": "2022-09-19T13:39:31.606Z"
   },
   {
    "duration": 139,
    "start_time": "2022-09-19T13:50:38.705Z"
   },
   {
    "duration": 137,
    "start_time": "2022-09-19T13:50:53.908Z"
   },
   {
    "duration": 68,
    "start_time": "2022-09-19T13:52:59.597Z"
   },
   {
    "duration": 72,
    "start_time": "2022-09-19T13:53:19.404Z"
   },
   {
    "duration": 74,
    "start_time": "2022-09-19T13:55:35.692Z"
   },
   {
    "duration": 98,
    "start_time": "2022-09-19T13:55:42.589Z"
   },
   {
    "duration": 4,
    "start_time": "2022-09-19T13:56:07.020Z"
   },
   {
    "duration": 3,
    "start_time": "2022-09-19T13:56:51.138Z"
   },
   {
    "duration": 1467,
    "start_time": "2022-09-19T14:19:22.572Z"
   },
   {
    "duration": 313,
    "start_time": "2022-09-19T14:19:24.041Z"
   },
   {
    "duration": 101,
    "start_time": "2022-09-19T14:19:24.356Z"
   },
   {
    "duration": 13,
    "start_time": "2022-09-19T14:19:24.459Z"
   },
   {
    "duration": 387,
    "start_time": "2022-09-19T14:19:24.474Z"
   },
   {
    "duration": 26,
    "start_time": "2022-09-19T14:19:24.863Z"
   },
   {
    "duration": 2,
    "start_time": "2022-09-19T14:19:24.891Z"
   },
   {
    "duration": 23,
    "start_time": "2022-09-19T14:19:24.895Z"
   },
   {
    "duration": 9,
    "start_time": "2022-09-19T14:19:24.920Z"
   },
   {
    "duration": 167,
    "start_time": "2022-09-19T14:19:24.932Z"
   },
   {
    "duration": 8,
    "start_time": "2022-09-19T14:19:25.101Z"
   },
   {
    "duration": 20,
    "start_time": "2022-09-19T14:19:25.110Z"
   },
   {
    "duration": 14,
    "start_time": "2022-09-19T14:19:25.132Z"
   },
   {
    "duration": 4,
    "start_time": "2022-09-19T14:19:25.148Z"
   },
   {
    "duration": 21,
    "start_time": "2022-09-19T14:19:25.153Z"
   },
   {
    "duration": 21,
    "start_time": "2022-09-19T14:19:25.176Z"
   },
   {
    "duration": 2,
    "start_time": "2022-09-19T14:19:25.199Z"
   },
   {
    "duration": 10,
    "start_time": "2022-09-19T14:19:25.203Z"
   },
   {
    "duration": 9,
    "start_time": "2022-09-19T14:19:25.215Z"
   },
   {
    "duration": 6,
    "start_time": "2022-09-19T14:19:25.226Z"
   },
   {
    "duration": 84344,
    "start_time": "2022-09-19T14:19:25.234Z"
   },
   {
    "duration": 136,
    "start_time": "2022-09-19T14:20:49.580Z"
   },
   {
    "duration": 4,
    "start_time": "2022-09-19T14:20:49.718Z"
   },
   {
    "duration": 269,
    "start_time": "2022-09-19T14:20:49.724Z"
   },
   {
    "duration": 101,
    "start_time": "2022-09-19T14:20:49.995Z"
   },
   {
    "duration": 201,
    "start_time": "2022-09-19T14:20:50.101Z"
   },
   {
    "duration": 20,
    "start_time": "2022-09-19T14:20:50.304Z"
   },
   {
    "duration": 44,
    "start_time": "2022-09-19T14:20:50.329Z"
   },
   {
    "duration": 39,
    "start_time": "2022-09-19T14:20:50.375Z"
   },
   {
    "duration": 35,
    "start_time": "2022-09-19T14:20:50.415Z"
   },
   {
    "duration": 28,
    "start_time": "2022-09-19T14:20:50.452Z"
   },
   {
    "duration": 58,
    "start_time": "2022-09-19T14:20:50.482Z"
   },
   {
    "duration": 39,
    "start_time": "2022-09-19T14:20:50.542Z"
   },
   {
    "duration": 45,
    "start_time": "2022-09-19T14:20:50.583Z"
   },
   {
    "duration": 32,
    "start_time": "2022-09-19T14:20:50.630Z"
   },
   {
    "duration": 285,
    "start_time": "2022-09-19T14:20:50.664Z"
   },
   {
    "duration": 6,
    "start_time": "2022-09-19T14:20:50.951Z"
   },
   {
    "duration": 295,
    "start_time": "2022-09-19T14:20:50.959Z"
   },
   {
    "duration": 5,
    "start_time": "2022-09-19T14:20:51.255Z"
   },
   {
    "duration": 52,
    "start_time": "2022-09-19T14:20:51.261Z"
   },
   {
    "duration": 22,
    "start_time": "2022-09-19T14:20:51.315Z"
   },
   {
    "duration": 12,
    "start_time": "2022-09-19T14:20:51.339Z"
   },
   {
    "duration": 23,
    "start_time": "2022-09-19T14:20:51.353Z"
   },
   {
    "duration": 13,
    "start_time": "2022-09-19T14:20:51.378Z"
   },
   {
    "duration": 24,
    "start_time": "2022-09-19T14:20:51.393Z"
   },
   {
    "duration": 3,
    "start_time": "2022-09-19T14:20:51.418Z"
   },
   {
    "duration": 34,
    "start_time": "2022-09-19T14:20:51.423Z"
   },
   {
    "duration": 37,
    "start_time": "2022-09-19T14:20:51.459Z"
   },
   {
    "duration": 22,
    "start_time": "2022-09-19T14:20:51.497Z"
   },
   {
    "duration": 13,
    "start_time": "2022-09-19T14:20:51.521Z"
   },
   {
    "duration": 23,
    "start_time": "2022-09-19T14:20:51.536Z"
   },
   {
    "duration": 21,
    "start_time": "2022-09-19T14:20:51.561Z"
   },
   {
    "duration": 35558,
    "start_time": "2022-09-19T14:20:51.584Z"
   },
   {
    "duration": 75,
    "start_time": "2022-09-19T14:21:27.144Z"
   },
   {
    "duration": 5,
    "start_time": "2022-09-19T14:21:27.220Z"
   },
   {
    "duration": 30,
    "start_time": "2022-09-19T14:21:27.226Z"
   },
   {
    "duration": 38,
    "start_time": "2022-09-19T14:21:27.258Z"
   },
   {
    "duration": 1591,
    "start_time": "2022-09-20T00:18:38.541Z"
   },
   {
    "duration": 942,
    "start_time": "2022-09-20T00:18:40.134Z"
   },
   {
    "duration": 454,
    "start_time": "2022-09-20T00:18:41.078Z"
   },
   {
    "duration": 17,
    "start_time": "2022-09-20T00:18:41.534Z"
   },
   {
    "duration": 1938,
    "start_time": "2022-09-20T00:18:41.556Z"
   },
   {
    "duration": 16,
    "start_time": "2022-09-20T00:18:43.496Z"
   },
   {
    "duration": 2,
    "start_time": "2022-09-20T00:18:43.514Z"
   },
   {
    "duration": 17,
    "start_time": "2022-09-20T00:18:43.518Z"
   },
   {
    "duration": 12,
    "start_time": "2022-09-20T00:18:43.536Z"
   },
   {
    "duration": 165,
    "start_time": "2022-09-20T00:18:43.549Z"
   },
   {
    "duration": 8,
    "start_time": "2022-09-20T00:18:43.716Z"
   },
   {
    "duration": 5,
    "start_time": "2022-09-20T00:18:43.726Z"
   },
   {
    "duration": 123,
    "start_time": "2022-09-20T00:18:43.733Z"
   },
   {
    "duration": 0,
    "start_time": "2022-09-20T00:18:43.861Z"
   },
   {
    "duration": 0,
    "start_time": "2022-09-20T00:18:43.862Z"
   },
   {
    "duration": 0,
    "start_time": "2022-09-20T00:18:43.864Z"
   },
   {
    "duration": 0,
    "start_time": "2022-09-20T00:18:43.865Z"
   },
   {
    "duration": 0,
    "start_time": "2022-09-20T00:18:43.866Z"
   },
   {
    "duration": 0,
    "start_time": "2022-09-20T00:18:43.867Z"
   },
   {
    "duration": 0,
    "start_time": "2022-09-20T00:18:43.869Z"
   },
   {
    "duration": 0,
    "start_time": "2022-09-20T00:18:43.870Z"
   },
   {
    "duration": 0,
    "start_time": "2022-09-20T00:18:43.871Z"
   },
   {
    "duration": 0,
    "start_time": "2022-09-20T00:18:43.873Z"
   },
   {
    "duration": 0,
    "start_time": "2022-09-20T00:18:43.874Z"
   },
   {
    "duration": 0,
    "start_time": "2022-09-20T00:18:43.876Z"
   },
   {
    "duration": 0,
    "start_time": "2022-09-20T00:18:43.877Z"
   },
   {
    "duration": 0,
    "start_time": "2022-09-20T00:18:43.879Z"
   },
   {
    "duration": 10,
    "start_time": "2022-09-20T00:19:11.378Z"
   },
   {
    "duration": 8,
    "start_time": "2022-09-20T00:19:23.142Z"
   },
   {
    "duration": 14,
    "start_time": "2022-09-20T00:19:26.237Z"
   },
   {
    "duration": 289,
    "start_time": "2022-09-20T00:20:23.281Z"
   },
   {
    "duration": 9,
    "start_time": "2022-09-20T00:20:26.592Z"
   },
   {
    "duration": 3,
    "start_time": "2022-09-20T00:45:48.078Z"
   },
   {
    "duration": 12,
    "start_time": "2022-09-20T00:49:05.873Z"
   },
   {
    "duration": 10,
    "start_time": "2022-09-20T00:50:12.208Z"
   },
   {
    "duration": 6,
    "start_time": "2022-09-20T00:50:18.542Z"
   },
   {
    "duration": 53,
    "start_time": "2022-09-20T00:51:41.764Z"
   },
   {
    "duration": 6,
    "start_time": "2022-09-20T00:51:51.212Z"
   },
   {
    "duration": 1652,
    "start_time": "2022-09-20T14:14:27.429Z"
   },
   {
    "duration": 993,
    "start_time": "2022-09-20T14:14:29.084Z"
   },
   {
    "duration": 468,
    "start_time": "2022-09-20T14:14:30.079Z"
   },
   {
    "duration": 13,
    "start_time": "2022-09-20T14:14:30.549Z"
   },
   {
    "duration": 2078,
    "start_time": "2022-09-20T14:14:30.564Z"
   },
   {
    "duration": 15,
    "start_time": "2022-09-20T14:14:32.648Z"
   },
   {
    "duration": 2,
    "start_time": "2022-09-20T14:14:32.665Z"
   },
   {
    "duration": 11,
    "start_time": "2022-09-20T14:14:32.669Z"
   },
   {
    "duration": 13,
    "start_time": "2022-09-20T14:14:32.681Z"
   },
   {
    "duration": 158,
    "start_time": "2022-09-20T14:14:32.697Z"
   },
   {
    "duration": 6,
    "start_time": "2022-09-20T14:14:32.857Z"
   },
   {
    "duration": 14,
    "start_time": "2022-09-20T14:14:32.865Z"
   },
   {
    "duration": 14,
    "start_time": "2022-09-20T14:14:32.880Z"
   },
   {
    "duration": 9,
    "start_time": "2022-09-20T14:14:32.896Z"
   },
   {
    "duration": 19,
    "start_time": "2022-09-20T14:14:32.906Z"
   },
   {
    "duration": 36,
    "start_time": "2022-09-20T14:14:32.926Z"
   },
   {
    "duration": 2,
    "start_time": "2022-09-20T14:14:32.965Z"
   },
   {
    "duration": 7,
    "start_time": "2022-09-20T14:14:32.969Z"
   },
   {
    "duration": 5,
    "start_time": "2022-09-20T14:14:32.978Z"
   },
   {
    "duration": 9,
    "start_time": "2022-09-20T14:14:32.985Z"
   },
   {
    "duration": 33778,
    "start_time": "2022-09-20T14:14:32.995Z"
   },
   {
    "duration": 62,
    "start_time": "2022-09-20T14:15:06.774Z"
   },
   {
    "duration": 5,
    "start_time": "2022-09-20T14:15:06.838Z"
   },
   {
    "duration": 1289,
    "start_time": "2022-09-20T14:15:06.844Z"
   },
   {
    "duration": 99,
    "start_time": "2022-09-20T14:15:08.135Z"
   },
   {
    "duration": 86,
    "start_time": "2022-09-20T14:15:08.240Z"
   },
   {
    "duration": 112,
    "start_time": "2022-09-20T14:15:08.332Z"
   },
   {
    "duration": 9,
    "start_time": "2022-09-20T14:15:08.447Z"
   },
   {
    "duration": 10,
    "start_time": "2022-09-20T14:15:08.458Z"
   },
   {
    "duration": 113,
    "start_time": "2022-09-20T14:15:08.469Z"
   },
   {
    "duration": 9,
    "start_time": "2022-09-20T14:17:21.154Z"
   },
   {
    "duration": 13,
    "start_time": "2022-09-20T14:17:43.067Z"
   },
   {
    "duration": 15,
    "start_time": "2022-09-20T14:21:20.734Z"
   },
   {
    "duration": 10,
    "start_time": "2022-09-20T14:27:31.579Z"
   },
   {
    "duration": 15,
    "start_time": "2022-09-20T14:27:41.887Z"
   },
   {
    "duration": 21,
    "start_time": "2022-09-20T14:28:30.613Z"
   },
   {
    "duration": 1886,
    "start_time": "2022-09-20T14:30:25.138Z"
   },
   {
    "duration": 317,
    "start_time": "2022-09-20T14:30:27.028Z"
   },
   {
    "duration": 99,
    "start_time": "2022-09-20T14:30:27.347Z"
   },
   {
    "duration": 13,
    "start_time": "2022-09-20T14:30:27.448Z"
   },
   {
    "duration": 412,
    "start_time": "2022-09-20T14:30:27.463Z"
   },
   {
    "duration": 15,
    "start_time": "2022-09-20T14:30:27.877Z"
   },
   {
    "duration": 3,
    "start_time": "2022-09-20T14:30:27.893Z"
   },
   {
    "duration": 36,
    "start_time": "2022-09-20T14:30:27.897Z"
   },
   {
    "duration": 7,
    "start_time": "2022-09-20T14:30:27.934Z"
   },
   {
    "duration": 136,
    "start_time": "2022-09-20T14:30:27.943Z"
   },
   {
    "duration": 7,
    "start_time": "2022-09-20T14:30:28.081Z"
   },
   {
    "duration": 4,
    "start_time": "2022-09-20T14:30:28.089Z"
   },
   {
    "duration": 33,
    "start_time": "2022-09-20T14:30:28.094Z"
   },
   {
    "duration": 3,
    "start_time": "2022-09-20T14:30:28.130Z"
   },
   {
    "duration": 13,
    "start_time": "2022-09-20T14:30:28.135Z"
   },
   {
    "duration": 16,
    "start_time": "2022-09-20T14:30:28.150Z"
   },
   {
    "duration": 3,
    "start_time": "2022-09-20T14:30:28.167Z"
   },
   {
    "duration": 6,
    "start_time": "2022-09-20T14:30:28.172Z"
   },
   {
    "duration": 5,
    "start_time": "2022-09-20T14:30:28.180Z"
   },
   {
    "duration": 6,
    "start_time": "2022-09-20T14:30:28.186Z"
   },
   {
    "duration": 370,
    "start_time": "2022-09-20T14:30:28.194Z"
   },
   {
    "duration": 11,
    "start_time": "2022-09-20T14:30:28.566Z"
   },
   {
    "duration": 0,
    "start_time": "2022-09-20T14:30:28.578Z"
   },
   {
    "duration": 0,
    "start_time": "2022-09-20T14:30:28.580Z"
   },
   {
    "duration": 0,
    "start_time": "2022-09-20T14:30:28.581Z"
   },
   {
    "duration": 0,
    "start_time": "2022-09-20T14:30:28.583Z"
   },
   {
    "duration": 0,
    "start_time": "2022-09-20T14:30:28.584Z"
   },
   {
    "duration": 0,
    "start_time": "2022-09-20T14:30:28.585Z"
   },
   {
    "duration": 0,
    "start_time": "2022-09-20T14:30:28.587Z"
   },
   {
    "duration": 0,
    "start_time": "2022-09-20T14:30:28.588Z"
   },
   {
    "duration": 0,
    "start_time": "2022-09-20T14:30:28.590Z"
   },
   {
    "duration": 9,
    "start_time": "2022-09-20T14:32:56.194Z"
   },
   {
    "duration": 10,
    "start_time": "2022-09-20T14:33:02.956Z"
   },
   {
    "duration": 9,
    "start_time": "2022-09-20T14:33:04.632Z"
   },
   {
    "duration": 3,
    "start_time": "2022-09-20T14:33:06.812Z"
   },
   {
    "duration": 2,
    "start_time": "2022-09-20T14:33:09.490Z"
   },
   {
    "duration": 100,
    "start_time": "2022-09-20T14:33:12.488Z"
   },
   {
    "duration": 1432,
    "start_time": "2022-09-20T14:34:29.181Z"
   },
   {
    "duration": 329,
    "start_time": "2022-09-20T14:34:30.615Z"
   },
   {
    "duration": 102,
    "start_time": "2022-09-20T14:34:30.945Z"
   },
   {
    "duration": 13,
    "start_time": "2022-09-20T14:34:31.049Z"
   },
   {
    "duration": 412,
    "start_time": "2022-09-20T14:34:31.065Z"
   },
   {
    "duration": 16,
    "start_time": "2022-09-20T14:34:31.479Z"
   },
   {
    "duration": 2,
    "start_time": "2022-09-20T14:34:31.497Z"
   },
   {
    "duration": 25,
    "start_time": "2022-09-20T14:34:31.501Z"
   },
   {
    "duration": 20,
    "start_time": "2022-09-20T14:34:31.527Z"
   },
   {
    "duration": 133,
    "start_time": "2022-09-20T14:34:31.548Z"
   },
   {
    "duration": 8,
    "start_time": "2022-09-20T14:34:31.682Z"
   },
   {
    "duration": 9,
    "start_time": "2022-09-20T14:34:31.691Z"
   },
   {
    "duration": 29,
    "start_time": "2022-09-20T14:34:31.702Z"
   },
   {
    "duration": 4,
    "start_time": "2022-09-20T14:34:31.734Z"
   },
   {
    "duration": 16,
    "start_time": "2022-09-20T14:34:31.739Z"
   },
   {
    "duration": 28,
    "start_time": "2022-09-20T14:34:31.756Z"
   },
   {
    "duration": 22,
    "start_time": "2022-09-20T14:34:31.785Z"
   },
   {
    "duration": 7,
    "start_time": "2022-09-20T14:34:31.808Z"
   },
   {
    "duration": 21,
    "start_time": "2022-09-20T14:34:31.816Z"
   },
   {
    "duration": 14,
    "start_time": "2022-09-20T14:34:31.838Z"
   },
   {
    "duration": 33685,
    "start_time": "2022-09-20T14:34:31.853Z"
   },
   {
    "duration": 53,
    "start_time": "2022-09-20T14:35:05.540Z"
   },
   {
    "duration": 4,
    "start_time": "2022-09-20T14:35:05.595Z"
   },
   {
    "duration": 1035,
    "start_time": "2022-09-20T14:35:05.601Z"
   },
   {
    "duration": 103,
    "start_time": "2022-09-20T14:35:06.640Z"
   },
   {
    "duration": 96,
    "start_time": "2022-09-20T14:35:06.829Z"
   },
   {
    "duration": 32,
    "start_time": "2022-09-20T14:35:06.928Z"
   },
   {
    "duration": 24,
    "start_time": "2022-09-20T14:35:06.962Z"
   },
   {
    "duration": 26,
    "start_time": "2022-09-20T14:35:06.988Z"
   },
   {
    "duration": 32,
    "start_time": "2022-09-20T14:35:07.016Z"
   },
   {
    "duration": 21,
    "start_time": "2022-09-20T14:35:07.050Z"
   },
   {
    "duration": 112,
    "start_time": "2022-09-20T14:50:57.443Z"
   },
   {
    "duration": 8,
    "start_time": "2022-09-20T14:51:06.839Z"
   },
   {
    "duration": 2,
    "start_time": "2022-09-20T14:51:15.487Z"
   },
   {
    "duration": 15,
    "start_time": "2022-09-20T14:51:20.247Z"
   },
   {
    "duration": 4,
    "start_time": "2022-09-20T14:51:33.573Z"
   },
   {
    "duration": 2,
    "start_time": "2022-09-20T14:51:52.762Z"
   },
   {
    "duration": 22,
    "start_time": "2022-09-20T14:51:52.766Z"
   },
   {
    "duration": 12,
    "start_time": "2022-09-20T14:51:52.790Z"
   },
   {
    "duration": 12,
    "start_time": "2022-09-20T14:53:29.916Z"
   },
   {
    "duration": 6,
    "start_time": "2022-09-20T14:53:35.296Z"
   },
   {
    "duration": 129,
    "start_time": "2022-09-20T14:56:20.321Z"
   },
   {
    "duration": 13,
    "start_time": "2022-09-20T14:57:59.824Z"
   },
   {
    "duration": 5,
    "start_time": "2022-09-20T14:58:12.599Z"
   },
   {
    "duration": 139,
    "start_time": "2022-09-20T14:58:15.583Z"
   },
   {
    "duration": 146,
    "start_time": "2022-09-20T14:58:58.302Z"
   },
   {
    "duration": 128,
    "start_time": "2022-09-20T14:59:35.183Z"
   },
   {
    "duration": 13,
    "start_time": "2022-09-20T15:00:02.898Z"
   },
   {
    "duration": 7,
    "start_time": "2022-09-20T15:00:07.274Z"
   },
   {
    "duration": 17,
    "start_time": "2022-09-20T15:00:09.936Z"
   },
   {
    "duration": 7,
    "start_time": "2022-09-20T15:00:13.676Z"
   },
   {
    "duration": 420,
    "start_time": "2022-09-20T15:00:18.955Z"
   },
   {
    "duration": 5,
    "start_time": "2022-09-20T15:00:23.790Z"
   },
   {
    "duration": 232,
    "start_time": "2022-09-20T15:00:26.346Z"
   },
   {
    "duration": 6,
    "start_time": "2022-09-20T15:00:29.155Z"
   },
   {
    "duration": 130,
    "start_time": "2022-09-20T15:01:25.167Z"
   },
   {
    "duration": 132,
    "start_time": "2022-09-20T15:01:47.237Z"
   },
   {
    "duration": 151,
    "start_time": "2022-09-20T15:02:04.203Z"
   },
   {
    "duration": 168,
    "start_time": "2022-09-20T15:02:12.934Z"
   },
   {
    "duration": 11,
    "start_time": "2022-09-20T15:16:26.659Z"
   },
   {
    "duration": 6,
    "start_time": "2022-09-20T15:16:29.736Z"
   },
   {
    "duration": 11,
    "start_time": "2022-09-20T15:17:01.810Z"
   },
   {
    "duration": 6,
    "start_time": "2022-09-20T15:17:05.058Z"
   },
   {
    "duration": 6,
    "start_time": "2022-09-20T15:19:52.270Z"
   },
   {
    "duration": 6,
    "start_time": "2022-09-20T15:20:06.187Z"
   },
   {
    "duration": 12,
    "start_time": "2022-09-20T15:20:28.977Z"
   },
   {
    "duration": 5,
    "start_time": "2022-09-20T15:20:37.016Z"
   },
   {
    "duration": 6,
    "start_time": "2022-09-20T15:20:54.033Z"
   },
   {
    "duration": 11,
    "start_time": "2022-09-20T15:21:18.128Z"
   },
   {
    "duration": 6,
    "start_time": "2022-09-20T15:21:26.392Z"
   },
   {
    "duration": 7,
    "start_time": "2022-09-20T15:27:11.479Z"
   },
   {
    "duration": 7,
    "start_time": "2022-09-20T15:27:23.458Z"
   },
   {
    "duration": 6,
    "start_time": "2022-09-20T15:29:24.584Z"
   },
   {
    "duration": 6,
    "start_time": "2022-09-20T15:29:53.091Z"
   },
   {
    "duration": 6,
    "start_time": "2022-09-20T15:31:14.181Z"
   },
   {
    "duration": 6,
    "start_time": "2022-09-20T15:32:08.007Z"
   },
   {
    "duration": 9,
    "start_time": "2022-09-20T15:32:33.418Z"
   },
   {
    "duration": 1354,
    "start_time": "2022-09-20T15:32:55.985Z"
   },
   {
    "duration": 339,
    "start_time": "2022-09-20T15:32:57.340Z"
   },
   {
    "duration": 97,
    "start_time": "2022-09-20T15:32:57.681Z"
   },
   {
    "duration": 13,
    "start_time": "2022-09-20T15:32:57.780Z"
   },
   {
    "duration": 378,
    "start_time": "2022-09-20T15:32:57.795Z"
   },
   {
    "duration": 15,
    "start_time": "2022-09-20T15:32:58.175Z"
   },
   {
    "duration": 11,
    "start_time": "2022-09-20T15:32:58.192Z"
   },
   {
    "duration": 60,
    "start_time": "2022-09-20T15:32:58.205Z"
   },
   {
    "duration": 20,
    "start_time": "2022-09-20T15:32:58.267Z"
   },
   {
    "duration": 156,
    "start_time": "2022-09-20T15:32:58.289Z"
   },
   {
    "duration": 8,
    "start_time": "2022-09-20T15:32:58.447Z"
   },
   {
    "duration": 32,
    "start_time": "2022-09-20T15:32:58.456Z"
   },
   {
    "duration": 48,
    "start_time": "2022-09-20T15:32:58.490Z"
   },
   {
    "duration": 26,
    "start_time": "2022-09-20T15:32:58.541Z"
   },
   {
    "duration": 29,
    "start_time": "2022-09-20T15:32:58.569Z"
   },
   {
    "duration": 51,
    "start_time": "2022-09-20T15:32:58.600Z"
   },
   {
    "duration": 20,
    "start_time": "2022-09-20T15:32:58.653Z"
   },
   {
    "duration": 15,
    "start_time": "2022-09-20T15:32:58.675Z"
   },
   {
    "duration": 35,
    "start_time": "2022-09-20T15:32:58.692Z"
   },
   {
    "duration": 31,
    "start_time": "2022-09-20T15:32:58.731Z"
   },
   {
    "duration": 33120,
    "start_time": "2022-09-20T15:32:58.763Z"
   },
   {
    "duration": 67,
    "start_time": "2022-09-20T15:33:31.885Z"
   },
   {
    "duration": 4,
    "start_time": "2022-09-20T15:33:31.954Z"
   },
   {
    "duration": 1469,
    "start_time": "2022-09-20T15:33:31.960Z"
   },
   {
    "duration": 107,
    "start_time": "2022-09-20T15:33:33.432Z"
   },
   {
    "duration": 107,
    "start_time": "2022-09-20T15:33:33.541Z"
   },
   {
    "duration": 13,
    "start_time": "2022-09-20T15:33:33.650Z"
   },
   {
    "duration": 19,
    "start_time": "2022-09-20T15:33:33.722Z"
   },
   {
    "duration": 8,
    "start_time": "2022-09-20T15:33:33.743Z"
   },
   {
    "duration": 29,
    "start_time": "2022-09-20T15:33:33.753Z"
   },
   {
    "duration": 15,
    "start_time": "2022-09-20T15:33:33.784Z"
   },
   {
    "duration": 27,
    "start_time": "2022-09-20T15:33:33.801Z"
   },
   {
    "duration": 28,
    "start_time": "2022-09-20T15:33:33.833Z"
   },
   {
    "duration": 41,
    "start_time": "2022-09-20T15:33:33.863Z"
   },
   {
    "duration": 24,
    "start_time": "2022-09-20T15:33:33.905Z"
   },
   {
    "duration": 29,
    "start_time": "2022-09-20T15:33:33.931Z"
   },
   {
    "duration": 18,
    "start_time": "2022-09-20T15:33:33.962Z"
   },
   {
    "duration": 22,
    "start_time": "2022-09-20T15:33:33.982Z"
   },
   {
    "duration": 28,
    "start_time": "2022-09-20T15:33:34.006Z"
   },
   {
    "duration": 19,
    "start_time": "2022-09-20T15:33:34.037Z"
   },
   {
    "duration": 20,
    "start_time": "2022-09-20T15:33:34.060Z"
   },
   {
    "duration": 232,
    "start_time": "2022-09-20T15:33:34.081Z"
   },
   {
    "duration": 19,
    "start_time": "2022-09-20T15:33:34.316Z"
   },
   {
    "duration": 254,
    "start_time": "2022-09-20T15:33:34.337Z"
   },
   {
    "duration": 5,
    "start_time": "2022-09-20T15:33:34.593Z"
   },
   {
    "duration": 12,
    "start_time": "2022-09-20T15:34:29.982Z"
   },
   {
    "duration": 6,
    "start_time": "2022-09-20T15:34:41.685Z"
   },
   {
    "duration": 14,
    "start_time": "2022-09-20T15:34:59.027Z"
   },
   {
    "duration": 6,
    "start_time": "2022-09-20T15:35:10.909Z"
   },
   {
    "duration": 12,
    "start_time": "2022-09-20T15:35:35.407Z"
   },
   {
    "duration": 7,
    "start_time": "2022-09-20T15:35:40.946Z"
   },
   {
    "duration": 214,
    "start_time": "2022-09-20T15:36:09.657Z"
   },
   {
    "duration": 163,
    "start_time": "2022-09-20T15:36:41.579Z"
   },
   {
    "duration": 208,
    "start_time": "2022-09-20T15:36:55.334Z"
   },
   {
    "duration": 146,
    "start_time": "2022-09-20T15:38:13.496Z"
   },
   {
    "duration": 144,
    "start_time": "2022-09-20T15:38:26.132Z"
   },
   {
    "duration": 161,
    "start_time": "2022-09-20T15:39:17.544Z"
   },
   {
    "duration": 162,
    "start_time": "2022-09-20T15:39:55.893Z"
   },
   {
    "duration": 168,
    "start_time": "2022-09-20T15:40:03.589Z"
   },
   {
    "duration": 249,
    "start_time": "2022-09-20T15:40:34.659Z"
   },
   {
    "duration": 176,
    "start_time": "2022-09-20T15:40:48.739Z"
   },
   {
    "duration": 160,
    "start_time": "2022-09-20T15:44:30.536Z"
   },
   {
    "duration": 277,
    "start_time": "2022-09-20T15:44:40.674Z"
   },
   {
    "duration": 176,
    "start_time": "2022-09-20T15:47:56.459Z"
   },
   {
    "duration": 5,
    "start_time": "2022-09-20T16:14:37.517Z"
   },
   {
    "duration": 172,
    "start_time": "2022-09-20T16:15:08.027Z"
   },
   {
    "duration": 4,
    "start_time": "2022-09-20T16:45:45.484Z"
   },
   {
    "duration": 2,
    "start_time": "2022-09-20T16:45:49.302Z"
   },
   {
    "duration": 4,
    "start_time": "2022-09-20T16:55:05.147Z"
   },
   {
    "duration": 2,
    "start_time": "2022-09-20T16:57:06.823Z"
   },
   {
    "duration": 4,
    "start_time": "2022-09-20T16:57:09.164Z"
   },
   {
    "duration": 19,
    "start_time": "2022-09-20T17:02:07.749Z"
   },
   {
    "duration": 9,
    "start_time": "2022-09-20T17:04:13.913Z"
   },
   {
    "duration": 9,
    "start_time": "2022-09-20T17:04:21.246Z"
   },
   {
    "duration": 13,
    "start_time": "2022-09-20T17:04:39.534Z"
   },
   {
    "duration": 18,
    "start_time": "2022-09-20T17:04:52.888Z"
   },
   {
    "duration": 21,
    "start_time": "2022-09-20T17:05:18.985Z"
   },
   {
    "duration": 21,
    "start_time": "2022-09-20T17:05:29.181Z"
   },
   {
    "duration": 17,
    "start_time": "2022-09-20T17:06:53.435Z"
   },
   {
    "duration": 9,
    "start_time": "2022-09-20T17:07:24.072Z"
   },
   {
    "duration": 9,
    "start_time": "2022-09-20T17:07:46.248Z"
   },
   {
    "duration": 3,
    "start_time": "2022-09-20T17:07:57.265Z"
   },
   {
    "duration": 8,
    "start_time": "2022-09-20T17:09:12.043Z"
   },
   {
    "duration": 9,
    "start_time": "2022-09-20T17:09:25.039Z"
   },
   {
    "duration": 12,
    "start_time": "2022-09-20T17:09:38.023Z"
   },
   {
    "duration": 2019,
    "start_time": "2022-09-20T17:10:11.835Z"
   },
   {
    "duration": 2661,
    "start_time": "2022-09-20T17:10:28.720Z"
   },
   {
    "duration": 978,
    "start_time": "2022-09-20T17:10:45.280Z"
   },
   {
    "duration": 20,
    "start_time": "2022-09-20T17:11:20.878Z"
   },
   {
    "duration": 8,
    "start_time": "2022-09-20T17:11:33.284Z"
   },
   {
    "duration": 9,
    "start_time": "2022-09-20T17:11:42.597Z"
   },
   {
    "duration": 11,
    "start_time": "2022-09-20T17:11:53.443Z"
   },
   {
    "duration": 21,
    "start_time": "2022-09-20T17:12:02.132Z"
   },
   {
    "duration": 5,
    "start_time": "2022-09-20T17:13:45.737Z"
   },
   {
    "duration": 94,
    "start_time": "2022-09-20T17:14:10.560Z"
   },
   {
    "duration": 100,
    "start_time": "2022-09-20T17:14:22.533Z"
   },
   {
    "duration": 10,
    "start_time": "2022-09-20T17:14:45.819Z"
   },
   {
    "duration": 8,
    "start_time": "2022-09-20T17:17:45.192Z"
   },
   {
    "duration": 9,
    "start_time": "2022-09-20T17:19:24.636Z"
   },
   {
    "duration": 5,
    "start_time": "2022-09-20T17:19:35.895Z"
   },
   {
    "duration": 9,
    "start_time": "2022-09-20T17:19:37.713Z"
   },
   {
    "duration": 1104223,
    "start_time": "2022-09-20T17:24:02.491Z"
   },
   {
    "duration": 19,
    "start_time": "2022-09-20T17:42:26.716Z"
   },
   {
    "duration": 128,
    "start_time": "2022-09-20T17:46:19.293Z"
   },
   {
    "duration": 2,
    "start_time": "2022-09-20T17:46:30.376Z"
   },
   {
    "duration": 3,
    "start_time": "2022-09-20T17:46:33.664Z"
   },
   {
    "duration": 2,
    "start_time": "2022-09-20T17:46:36.625Z"
   },
   {
    "duration": 3141431,
    "start_time": "2022-09-20T17:46:39.048Z"
   },
   {
    "duration": 3119423,
    "start_time": "2022-09-20T18:39:00.482Z"
   },
   {
    "duration": 8,
    "start_time": "2022-09-20T19:35:22.146Z"
   },
   {
    "duration": 2,
    "start_time": "2022-09-20T19:41:30.453Z"
   },
   {
    "duration": 49,
    "start_time": "2022-09-20T19:41:34.448Z"
   },
   {
    "duration": 2,
    "start_time": "2022-09-20T19:43:44.172Z"
   },
   {
    "duration": 333453,
    "start_time": "2022-09-20T19:43:51.038Z"
   },
   {
    "duration": 8,
    "start_time": "2022-09-20T19:51:19.976Z"
   },
   {
    "duration": 193,
    "start_time": "2022-09-20T19:55:58.136Z"
   },
   {
    "duration": 14,
    "start_time": "2022-09-20T19:56:01.377Z"
   },
   {
    "duration": 15,
    "start_time": "2022-09-20T19:56:48.427Z"
   },
   {
    "duration": 6,
    "start_time": "2022-09-20T19:58:01.670Z"
   },
   {
    "duration": 1352,
    "start_time": "2022-09-20T19:58:37.075Z"
   },
   {
    "duration": 11,
    "start_time": "2022-09-20T19:59:20.358Z"
   },
   {
    "duration": 3,
    "start_time": "2022-09-20T19:59:48.389Z"
   },
   {
    "duration": 22928,
    "start_time": "2022-09-20T19:59:53.633Z"
   },
   {
    "duration": 66,
    "start_time": "2022-09-20T20:00:31.064Z"
   },
   {
    "duration": 6,
    "start_time": "2022-09-20T20:02:28.756Z"
   },
   {
    "duration": 2,
    "start_time": "2022-09-20T20:02:45.289Z"
   },
   {
    "duration": 1113669,
    "start_time": "2022-09-20T20:02:51.214Z"
   },
   {
    "duration": 12,
    "start_time": "2022-09-20T20:22:57.276Z"
   },
   {
    "duration": 12,
    "start_time": "2022-09-20T20:24:25.320Z"
   },
   {
    "duration": 1137853,
    "start_time": "2022-09-20T20:25:25.872Z"
   },
   {
    "duration": 91897,
    "start_time": "2022-09-20T20:46:44.895Z"
   },
   {
    "duration": 535,
    "start_time": "2022-09-20T20:48:16.795Z"
   },
   {
    "duration": 101,
    "start_time": "2022-09-20T20:48:17.331Z"
   },
   {
    "duration": 0,
    "start_time": "2022-09-20T20:48:17.434Z"
   },
   {
    "duration": 3,
    "start_time": "2022-09-20T20:50:11.405Z"
   },
   {
    "duration": 60,
    "start_time": "2022-09-20T20:50:47.687Z"
   },
   {
    "duration": 1731,
    "start_time": "2022-09-20T20:51:11.592Z"
   },
   {
    "duration": 95,
    "start_time": "2022-09-20T20:51:15.936Z"
   },
   {
    "duration": 22996,
    "start_time": "2022-09-20T20:54:19.988Z"
   },
   {
    "duration": 9,
    "start_time": "2022-09-20T20:55:28.164Z"
   },
   {
    "duration": 114,
    "start_time": "2022-09-20T20:56:18.116Z"
   },
   {
    "duration": 60,
    "start_time": "2022-09-20T20:56:32.158Z"
   },
   {
    "duration": 64,
    "start_time": "2022-09-20T20:57:52.598Z"
   },
   {
    "duration": 13,
    "start_time": "2022-09-20T20:59:00.944Z"
   },
   {
    "duration": 9,
    "start_time": "2022-09-20T20:59:05.738Z"
   },
   {
    "duration": 3,
    "start_time": "2022-09-20T20:59:21.142Z"
   },
   {
    "duration": 31,
    "start_time": "2022-09-20T20:59:23.682Z"
   },
   {
    "duration": 4,
    "start_time": "2022-09-20T21:00:02.093Z"
   },
   {
    "duration": 9,
    "start_time": "2022-09-20T21:00:11.995Z"
   },
   {
    "duration": 9,
    "start_time": "2022-09-20T21:00:16.880Z"
   },
   {
    "duration": 12,
    "start_time": "2022-09-20T21:00:26.578Z"
   },
   {
    "duration": 6,
    "start_time": "2022-09-20T21:00:43.493Z"
   },
   {
    "duration": 19,
    "start_time": "2022-09-20T21:00:48.853Z"
   },
   {
    "duration": 20,
    "start_time": "2022-09-20T21:02:10.019Z"
   },
   {
    "duration": 5,
    "start_time": "2022-09-20T21:02:13.667Z"
   },
   {
    "duration": 29,
    "start_time": "2022-09-20T21:02:17.251Z"
   },
   {
    "duration": 5,
    "start_time": "2022-09-20T21:03:07.028Z"
   },
   {
    "duration": 31,
    "start_time": "2022-09-20T21:03:55.876Z"
   },
   {
    "duration": 29,
    "start_time": "2022-09-20T21:05:33.151Z"
   },
   {
    "duration": 31,
    "start_time": "2022-09-20T21:06:47.035Z"
   },
   {
    "duration": 20,
    "start_time": "2022-09-20T21:07:39.536Z"
   },
   {
    "duration": 38,
    "start_time": "2022-09-20T21:09:09.197Z"
   },
   {
    "duration": 15,
    "start_time": "2022-09-20T21:10:03.101Z"
   },
   {
    "duration": 15,
    "start_time": "2022-09-20T21:13:33.041Z"
   },
   {
    "duration": 5,
    "start_time": "2022-09-20T21:13:35.984Z"
   },
   {
    "duration": 31,
    "start_time": "2022-09-20T21:13:39.273Z"
   },
   {
    "duration": 17,
    "start_time": "2022-09-20T21:13:49.087Z"
   },
   {
    "duration": 4,
    "start_time": "2022-09-20T21:13:51.362Z"
   },
   {
    "duration": 2,
    "start_time": "2022-09-20T21:13:53.268Z"
   },
   {
    "duration": 29,
    "start_time": "2022-09-20T21:13:54.370Z"
   },
   {
    "duration": 114,
    "start_time": "2022-09-20T21:16:06.985Z"
   },
   {
    "duration": 59,
    "start_time": "2022-09-20T21:17:17.740Z"
   },
   {
    "duration": 102,
    "start_time": "2022-09-20T21:17:32.418Z"
   },
   {
    "duration": 109,
    "start_time": "2022-09-20T21:18:52.100Z"
   },
   {
    "duration": 58,
    "start_time": "2022-09-20T21:19:26.687Z"
   },
   {
    "duration": 83,
    "start_time": "2022-09-20T21:19:41.751Z"
   },
   {
    "duration": 75,
    "start_time": "2022-09-20T21:20:51.015Z"
   },
   {
    "duration": 48,
    "start_time": "2022-09-20T21:21:33.718Z"
   },
   {
    "duration": 14,
    "start_time": "2022-09-20T21:21:43.941Z"
   },
   {
    "duration": 17,
    "start_time": "2022-09-20T21:22:02.493Z"
   },
   {
    "duration": 16,
    "start_time": "2022-09-20T21:22:18.083Z"
   },
   {
    "duration": 11,
    "start_time": "2022-09-20T21:22:31.728Z"
   },
   {
    "duration": 12,
    "start_time": "2022-09-20T21:23:06.313Z"
   },
   {
    "duration": 16,
    "start_time": "2022-09-20T21:23:30.875Z"
   },
   {
    "duration": 12,
    "start_time": "2022-09-20T21:23:49.558Z"
   },
   {
    "duration": 16,
    "start_time": "2022-09-20T21:24:00.381Z"
   },
   {
    "duration": 13,
    "start_time": "2022-09-20T21:24:09.100Z"
   },
   {
    "duration": 4,
    "start_time": "2022-09-20T21:24:26.104Z"
   },
   {
    "duration": 38,
    "start_time": "2022-09-20T21:24:28.882Z"
   },
   {
    "duration": 17,
    "start_time": "2022-09-20T21:24:53.680Z"
   },
   {
    "duration": 15,
    "start_time": "2022-09-20T21:25:08.291Z"
   },
   {
    "duration": 112,
    "start_time": "2022-09-20T21:27:04.048Z"
   },
   {
    "duration": 7,
    "start_time": "2022-09-20T21:28:57.625Z"
   },
   {
    "duration": 19,
    "start_time": "2022-09-20T21:30:20.502Z"
   },
   {
    "duration": 12,
    "start_time": "2022-09-20T21:31:57.329Z"
   },
   {
    "duration": 114,
    "start_time": "2022-09-20T21:32:09.697Z"
   },
   {
    "duration": 10,
    "start_time": "2022-09-20T21:32:18.315Z"
   },
   {
    "duration": 19,
    "start_time": "2022-09-20T21:32:46.412Z"
   },
   {
    "duration": 6,
    "start_time": "2022-09-20T21:33:28.277Z"
   },
   {
    "duration": 15,
    "start_time": "2022-09-20T21:33:31.705Z"
   },
   {
    "duration": 16,
    "start_time": "2022-09-20T21:34:17.232Z"
   },
   {
    "duration": 5,
    "start_time": "2022-09-20T21:34:22.739Z"
   },
   {
    "duration": 28,
    "start_time": "2022-09-20T21:34:25.230Z"
   },
   {
    "duration": 24,
    "start_time": "2022-09-20T21:37:58.951Z"
   },
   {
    "duration": 14,
    "start_time": "2022-09-20T21:38:08.733Z"
   },
   {
    "duration": 20,
    "start_time": "2022-09-20T21:38:18.256Z"
   },
   {
    "duration": 15,
    "start_time": "2022-09-20T21:38:25.115Z"
   },
   {
    "duration": 14,
    "start_time": "2022-09-20T21:38:51.984Z"
   },
   {
    "duration": 17,
    "start_time": "2022-09-20T21:39:05.445Z"
   },
   {
    "duration": 110,
    "start_time": "2022-09-20T21:43:33.206Z"
   },
   {
    "duration": 25,
    "start_time": "2022-09-20T21:44:56.243Z"
   },
   {
    "duration": 18,
    "start_time": "2022-09-20T21:45:14.024Z"
   },
   {
    "duration": 28,
    "start_time": "2022-09-20T21:47:07.264Z"
   },
   {
    "duration": 16,
    "start_time": "2022-09-20T21:47:14.221Z"
   },
   {
    "duration": 26,
    "start_time": "2022-09-20T21:47:37.245Z"
   },
   {
    "duration": 34,
    "start_time": "2022-09-20T21:47:47.795Z"
   },
   {
    "duration": 18,
    "start_time": "2022-09-20T21:49:38.861Z"
   },
   {
    "duration": 20,
    "start_time": "2022-09-20T21:49:46.620Z"
   },
   {
    "duration": 6,
    "start_time": "2022-09-20T21:50:03.535Z"
   },
   {
    "duration": 5,
    "start_time": "2022-09-20T21:51:01.908Z"
   },
   {
    "duration": 29,
    "start_time": "2022-09-20T21:51:16.481Z"
   },
   {
    "duration": 5,
    "start_time": "2022-09-20T21:51:44.362Z"
   },
   {
    "duration": 4,
    "start_time": "2022-09-20T21:51:47.440Z"
   },
   {
    "duration": 80,
    "start_time": "2022-09-20T21:51:50.925Z"
   },
   {
    "duration": 2,
    "start_time": "2022-09-20T21:53:16.358Z"
   },
   {
    "duration": 15,
    "start_time": "2022-09-20T21:54:45.090Z"
   },
   {
    "duration": 2,
    "start_time": "2022-09-20T21:55:02.675Z"
   },
   {
    "duration": 49,
    "start_time": "2022-09-20T22:05:13.677Z"
   },
   {
    "duration": 83,
    "start_time": "2022-09-20T22:24:14.046Z"
   },
   {
    "duration": 106,
    "start_time": "2022-09-20T22:28:00.118Z"
   },
   {
    "duration": 67,
    "start_time": "2022-09-20T22:28:41.060Z"
   },
   {
    "duration": 68,
    "start_time": "2022-09-20T22:30:19.653Z"
   },
   {
    "duration": 74,
    "start_time": "2022-09-20T22:34:12.406Z"
   },
   {
    "duration": 43,
    "start_time": "2022-09-20T22:34:34.056Z"
   },
   {
    "duration": 58,
    "start_time": "2022-09-20T22:35:06.071Z"
   },
   {
    "duration": 57,
    "start_time": "2022-09-20T22:35:33.595Z"
   },
   {
    "duration": 59,
    "start_time": "2022-09-20T22:35:54.818Z"
   },
   {
    "duration": 1270,
    "start_time": "2022-09-20T22:48:48.247Z"
   },
   {
    "duration": 294,
    "start_time": "2022-09-20T22:48:49.519Z"
   },
   {
    "duration": 89,
    "start_time": "2022-09-20T22:48:49.815Z"
   },
   {
    "duration": 12,
    "start_time": "2022-09-20T22:48:49.905Z"
   },
   {
    "duration": 386,
    "start_time": "2022-09-20T22:48:49.922Z"
   },
   {
    "duration": 17,
    "start_time": "2022-09-20T22:48:50.309Z"
   },
   {
    "duration": 2,
    "start_time": "2022-09-20T22:48:50.328Z"
   },
   {
    "duration": 21,
    "start_time": "2022-09-20T22:48:50.331Z"
   },
   {
    "duration": 14,
    "start_time": "2022-09-20T22:48:50.353Z"
   },
   {
    "duration": 139,
    "start_time": "2022-09-20T22:48:50.368Z"
   },
   {
    "duration": 7,
    "start_time": "2022-09-20T22:48:50.509Z"
   },
   {
    "duration": 10,
    "start_time": "2022-09-20T22:48:50.517Z"
   },
   {
    "duration": 16,
    "start_time": "2022-09-20T22:48:50.529Z"
   },
   {
    "duration": 2,
    "start_time": "2022-09-20T22:48:50.548Z"
   },
   {
    "duration": 40,
    "start_time": "2022-09-20T22:48:50.551Z"
   },
   {
    "duration": 24,
    "start_time": "2022-09-20T22:48:50.592Z"
   },
   {
    "duration": 18,
    "start_time": "2022-09-20T22:48:50.618Z"
   },
   {
    "duration": 28,
    "start_time": "2022-09-20T22:48:50.637Z"
   },
   {
    "duration": 21,
    "start_time": "2022-09-20T22:48:50.667Z"
   },
   {
    "duration": 22,
    "start_time": "2022-09-20T22:48:50.689Z"
   },
   {
    "duration": 30794,
    "start_time": "2022-09-20T22:48:50.713Z"
   },
   {
    "duration": 61,
    "start_time": "2022-09-20T22:49:21.509Z"
   },
   {
    "duration": 4,
    "start_time": "2022-09-20T22:49:21.571Z"
   },
   {
    "duration": 246,
    "start_time": "2022-09-20T22:49:21.576Z"
   },
   {
    "duration": 101,
    "start_time": "2022-09-20T22:49:21.824Z"
   },
   {
    "duration": 98,
    "start_time": "2022-09-20T22:49:21.927Z"
   },
   {
    "duration": 125,
    "start_time": "2022-09-20T22:49:22.027Z"
   },
   {
    "duration": 4,
    "start_time": "2022-09-20T22:49:22.153Z"
   },
   {
    "duration": 6,
    "start_time": "2022-09-20T22:49:22.158Z"
   },
   {
    "duration": 18,
    "start_time": "2022-09-20T22:49:22.165Z"
   },
   {
    "duration": 15,
    "start_time": "2022-09-20T22:49:22.184Z"
   },
   {
    "duration": 3,
    "start_time": "2022-09-20T22:49:22.201Z"
   },
   {
    "duration": 5,
    "start_time": "2022-09-20T22:49:22.206Z"
   },
   {
    "duration": 14,
    "start_time": "2022-09-20T22:49:22.212Z"
   },
   {
    "duration": 10,
    "start_time": "2022-09-20T22:49:22.228Z"
   },
   {
    "duration": 6,
    "start_time": "2022-09-20T22:49:22.240Z"
   },
   {
    "duration": 2,
    "start_time": "2022-09-20T22:49:22.248Z"
   },
   {
    "duration": 12,
    "start_time": "2022-09-20T22:49:22.251Z"
   },
   {
    "duration": 6,
    "start_time": "2022-09-20T22:49:22.264Z"
   },
   {
    "duration": 10,
    "start_time": "2022-09-20T22:49:22.272Z"
   },
   {
    "duration": 38,
    "start_time": "2022-09-20T22:49:22.285Z"
   },
   {
    "duration": 205,
    "start_time": "2022-09-20T22:49:22.324Z"
   },
   {
    "duration": 4,
    "start_time": "2022-09-20T22:49:22.530Z"
   },
   {
    "duration": 237,
    "start_time": "2022-09-20T22:49:22.535Z"
   },
   {
    "duration": 4,
    "start_time": "2022-09-20T22:49:22.773Z"
   },
   {
    "duration": 31,
    "start_time": "2022-09-20T22:49:22.779Z"
   },
   {
    "duration": 224,
    "start_time": "2022-09-20T22:49:22.812Z"
   },
   {
    "duration": 4,
    "start_time": "2022-09-20T22:49:23.037Z"
   },
   {
    "duration": 17,
    "start_time": "2022-09-20T22:49:23.043Z"
   },
   {
    "duration": 12,
    "start_time": "2022-09-20T22:49:23.061Z"
   },
   {
    "duration": 10,
    "start_time": "2022-09-20T22:49:23.074Z"
   },
   {
    "duration": 21,
    "start_time": "2022-09-20T22:49:23.086Z"
   },
   {
    "duration": 26,
    "start_time": "2022-09-20T22:49:23.109Z"
   },
   {
    "duration": 9,
    "start_time": "2022-09-20T22:49:23.136Z"
   },
   {
    "duration": 17,
    "start_time": "2022-09-20T22:49:23.146Z"
   },
   {
    "duration": 15,
    "start_time": "2022-09-20T22:49:23.164Z"
   },
   {
    "duration": 20,
    "start_time": "2022-09-20T22:49:23.180Z"
   },
   {
    "duration": 1292,
    "start_time": "2022-09-20T22:51:10.591Z"
   },
   {
    "duration": 290,
    "start_time": "2022-09-20T22:51:11.884Z"
   },
   {
    "duration": 90,
    "start_time": "2022-09-20T22:51:12.176Z"
   },
   {
    "duration": 13,
    "start_time": "2022-09-20T22:51:12.267Z"
   },
   {
    "duration": 358,
    "start_time": "2022-09-20T22:51:12.282Z"
   },
   {
    "duration": 17,
    "start_time": "2022-09-20T22:51:12.641Z"
   },
   {
    "duration": 2,
    "start_time": "2022-09-20T22:51:12.660Z"
   },
   {
    "duration": 11,
    "start_time": "2022-09-20T22:51:12.663Z"
   },
   {
    "duration": 10,
    "start_time": "2022-09-20T22:51:12.675Z"
   },
   {
    "duration": 148,
    "start_time": "2022-09-20T22:51:12.687Z"
   },
   {
    "duration": 7,
    "start_time": "2022-09-20T22:51:12.837Z"
   },
   {
    "duration": 4,
    "start_time": "2022-09-20T22:51:12.845Z"
   },
   {
    "duration": 19,
    "start_time": "2022-09-20T22:51:12.850Z"
   },
   {
    "duration": 2,
    "start_time": "2022-09-20T22:51:12.871Z"
   },
   {
    "duration": 10,
    "start_time": "2022-09-20T22:51:12.875Z"
   },
   {
    "duration": 38,
    "start_time": "2022-09-20T22:51:12.887Z"
   },
   {
    "duration": 2,
    "start_time": "2022-09-20T22:51:12.927Z"
   },
   {
    "duration": 6,
    "start_time": "2022-09-20T22:51:12.930Z"
   },
   {
    "duration": 5,
    "start_time": "2022-09-20T22:51:12.938Z"
   },
   {
    "duration": 7,
    "start_time": "2022-09-20T22:51:12.944Z"
   },
   {
    "duration": 30829,
    "start_time": "2022-09-20T22:51:12.952Z"
   },
   {
    "duration": 61,
    "start_time": "2022-09-20T22:51:43.783Z"
   },
   {
    "duration": 5,
    "start_time": "2022-09-20T22:51:43.845Z"
   },
   {
    "duration": 176,
    "start_time": "2022-09-20T22:51:43.851Z"
   },
   {
    "duration": 96,
    "start_time": "2022-09-20T22:51:44.029Z"
   },
   {
    "duration": 96,
    "start_time": "2022-09-20T22:51:44.126Z"
   },
   {
    "duration": 100,
    "start_time": "2022-09-20T22:51:44.225Z"
   },
   {
    "duration": 5,
    "start_time": "2022-09-20T22:51:44.326Z"
   },
   {
    "duration": 4,
    "start_time": "2022-09-20T22:51:44.333Z"
   },
   {
    "duration": 15,
    "start_time": "2022-09-20T22:51:44.339Z"
   },
   {
    "duration": 17,
    "start_time": "2022-09-20T22:51:44.355Z"
   },
   {
    "duration": 4,
    "start_time": "2022-09-20T22:51:44.373Z"
   },
   {
    "duration": 4,
    "start_time": "2022-09-20T22:51:44.379Z"
   },
   {
    "duration": 38,
    "start_time": "2022-09-20T22:51:44.385Z"
   },
   {
    "duration": 13,
    "start_time": "2022-09-20T22:51:44.425Z"
   },
   {
    "duration": 9,
    "start_time": "2022-09-20T22:51:44.439Z"
   },
   {
    "duration": 8,
    "start_time": "2022-09-20T22:51:44.449Z"
   },
   {
    "duration": 14,
    "start_time": "2022-09-20T22:51:44.458Z"
   },
   {
    "duration": 12,
    "start_time": "2022-09-20T22:51:44.474Z"
   },
   {
    "duration": 12,
    "start_time": "2022-09-20T22:51:44.487Z"
   },
   {
    "duration": 6,
    "start_time": "2022-09-20T22:51:44.521Z"
   },
   {
    "duration": 217,
    "start_time": "2022-09-20T22:51:44.528Z"
   },
   {
    "duration": 5,
    "start_time": "2022-09-20T22:51:44.746Z"
   },
   {
    "duration": 235,
    "start_time": "2022-09-20T22:51:44.752Z"
   },
   {
    "duration": 4,
    "start_time": "2022-09-20T22:51:44.989Z"
   },
   {
    "duration": 7,
    "start_time": "2022-09-20T22:51:44.994Z"
   },
   {
    "duration": 266,
    "start_time": "2022-09-20T22:51:45.002Z"
   },
   {
    "duration": 4,
    "start_time": "2022-09-20T22:51:45.270Z"
   },
   {
    "duration": 4,
    "start_time": "2022-09-20T22:51:45.275Z"
   },
   {
    "duration": 6,
    "start_time": "2022-09-20T22:51:45.281Z"
   },
   {
    "duration": 5,
    "start_time": "2022-09-20T22:51:45.288Z"
   },
   {
    "duration": 6,
    "start_time": "2022-09-20T22:51:45.294Z"
   },
   {
    "duration": 24,
    "start_time": "2022-09-20T22:51:45.302Z"
   },
   {
    "duration": 4,
    "start_time": "2022-09-20T22:51:45.328Z"
   },
   {
    "duration": 5,
    "start_time": "2022-09-20T22:51:45.334Z"
   },
   {
    "duration": 6,
    "start_time": "2022-09-20T22:51:45.340Z"
   },
   {
    "duration": 5,
    "start_time": "2022-09-20T22:51:45.347Z"
   },
   {
    "duration": 6,
    "start_time": "2022-09-20T22:51:45.353Z"
   },
   {
    "duration": 6,
    "start_time": "2022-09-20T22:51:45.361Z"
   },
   {
    "duration": 6,
    "start_time": "2022-09-20T22:51:45.368Z"
   },
   {
    "duration": 326633,
    "start_time": "2022-09-20T22:51:45.375Z"
   },
   {
    "duration": 3,
    "start_time": "2022-09-20T22:57:12.010Z"
   },
   {
    "duration": 22334,
    "start_time": "2022-09-20T22:57:12.014Z"
   },
   {
    "duration": 75,
    "start_time": "2022-09-20T22:57:34.350Z"
   },
   {
    "duration": 1600,
    "start_time": "2022-09-20T22:57:34.427Z"
   },
   {
    "duration": 216,
    "start_time": "2022-09-20T22:57:36.031Z"
   },
   {
    "duration": 74,
    "start_time": "2022-09-20T22:57:36.249Z"
   },
   {
    "duration": 98,
    "start_time": "2022-09-20T22:57:36.325Z"
   },
   {
    "duration": 1089707,
    "start_time": "2022-09-20T22:57:36.425Z"
   },
   {
    "duration": 2,
    "start_time": "2022-09-20T23:15:46.134Z"
   },
   {
    "duration": 86602,
    "start_time": "2022-09-20T23:15:46.137Z"
   },
   {
    "duration": 83,
    "start_time": "2022-09-20T23:17:12.741Z"
   },
   {
    "duration": 1297,
    "start_time": "2022-09-20T23:17:12.826Z"
   },
   {
    "duration": 146,
    "start_time": "2022-09-20T23:17:14.125Z"
   },
   {
    "duration": 149,
    "start_time": "2022-09-20T23:17:14.326Z"
   },
   {
    "duration": 2,
    "start_time": "2022-09-20T23:17:14.477Z"
   },
   {
    "duration": 8,
    "start_time": "2022-09-20T23:17:14.480Z"
   },
   {
    "duration": 6,
    "start_time": "2022-09-20T23:17:14.489Z"
   },
   {
    "duration": 32,
    "start_time": "2022-09-20T23:17:14.496Z"
   },
   {
    "duration": 5,
    "start_time": "2022-09-20T23:17:14.529Z"
   },
   {
    "duration": 6,
    "start_time": "2022-09-20T23:17:14.536Z"
   },
   {
    "duration": 90,
    "start_time": "2022-09-20T23:17:14.543Z"
   },
   {
    "duration": 92,
    "start_time": "2022-09-20T23:17:14.634Z"
   }
  ],
  "kernelspec": {
   "display_name": "Python 3 (ipykernel)",
   "language": "python",
   "name": "python3"
  },
  "language_info": {
   "codemirror_mode": {
    "name": "ipython",
    "version": 3
   },
   "file_extension": ".py",
   "mimetype": "text/x-python",
   "name": "python",
   "nbconvert_exporter": "python",
   "pygments_lexer": "ipython3",
   "version": "3.8.16"
  },
  "toc": {
   "base_numbering": 1,
   "nav_menu": {},
   "number_sections": true,
   "sideBar": true,
   "skip_h1_title": true,
   "title_cell": "Содержание",
   "title_sidebar": "Contents",
   "toc_cell": true,
   "toc_position": {
    "height": "calc(100% - 180px)",
    "left": "10px",
    "top": "150px",
    "width": "283.390625px"
   },
   "toc_section_display": true,
   "toc_window_display": true
  }
 },
 "nbformat": 4,
 "nbformat_minor": 2
}
