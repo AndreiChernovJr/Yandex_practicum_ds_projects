{
 "cells": [
  {
   "cell_type": "markdown",
   "metadata": {},
   "source": [
    "# Рекомендация тарифов"
   ]
  },
  {
   "cell_type": "markdown",
   "metadata": {},
   "source": [
    "В нашем распоряжении данные о поведении клиентов, которые уже перешли на эти тарифы. Нужно построить модель для задачи классификации, которая выберет подходящий тариф. Предобработка данных не понадобится — мы её уже сделали.\n",
    "\n",
    "Построить модель с максимально большим значением *accuracy*. Чтобы сдать проект успешно, нужно довести долю правильных ответов по крайней мере до 0.75."
   ]
  },
  {
   "cell_type": "markdown",
   "metadata": {},
   "source": [
    "## Открыть и изучить файл"
   ]
  },
  {
   "cell_type": "code",
   "execution_count": 25,
   "metadata": {},
   "outputs": [],
   "source": [
    "import pandas as pd\n",
    "\n",
    "from sklearn import tree\n",
    "from sklearn.model_selection import train_test_split\n",
    "from sklearn.tree import DecisionTreeClassifier\n",
    "from sklearn.ensemble import RandomForestClassifier\n",
    "from sklearn.linear_model import LogisticRegression \n",
    "from sklearn.metrics import accuracy_score\n",
    "from sklearn.metrics import classification_report\n",
    "from sklearn.metrics import precision_score\n",
    "from sklearn.metrics import recall_score\n",
    "from sklearn.dummy import DummyClassifier\n",
    "\n",
    "from joblib import dump"
   ]
  },
  {
   "cell_type": "code",
   "execution_count": 26,
   "metadata": {},
   "outputs": [
    {
     "name": "stdout",
     "output_type": "stream",
     "text": [
      "   calls  minutes  messages   mb_used  is_ultra\n",
      "0   40.0   311.90      83.0  19915.42         0\n",
      "1   85.0   516.75      56.0  22696.96         0\n",
      "2   77.0   467.66      86.0  21060.45         0\n",
      "3  106.0   745.53      81.0   8437.39         1\n",
      "4   66.0   418.74       1.0  14502.75         0\n"
     ]
    }
   ],
   "source": [
    "df = pd.read_csv('/datasets/users_behavior.csv')\n",
    "print(df.head())"
   ]
  },
  {
   "cell_type": "code",
   "execution_count": 27,
   "metadata": {},
   "outputs": [
    {
     "name": "stdout",
     "output_type": "stream",
     "text": [
      "<class 'pandas.core.frame.DataFrame'>\n",
      "RangeIndex: 3214 entries, 0 to 3213\n",
      "Data columns (total 5 columns):\n",
      " #   Column    Non-Null Count  Dtype  \n",
      "---  ------    --------------  -----  \n",
      " 0   calls     3214 non-null   float64\n",
      " 1   minutes   3214 non-null   float64\n",
      " 2   messages  3214 non-null   float64\n",
      " 3   mb_used   3214 non-null   float64\n",
      " 4   is_ultra  3214 non-null   int64  \n",
      "dtypes: float64(4), int64(1)\n",
      "memory usage: 125.7 KB\n"
     ]
    }
   ],
   "source": [
    "df.info()"
   ]
  },
  {
   "cell_type": "code",
   "execution_count": 28,
   "metadata": {},
   "outputs": [
    {
     "data": {
      "text/plain": [
       "array([[<AxesSubplot:title={'center':'calls'}>,\n",
       "        <AxesSubplot:title={'center':'minutes'}>],\n",
       "       [<AxesSubplot:title={'center':'messages'}>,\n",
       "        <AxesSubplot:title={'center':'mb_used'}>],\n",
       "       [<AxesSubplot:title={'center':'is_ultra'}>, <AxesSubplot:>]],\n",
       "      dtype=object)"
      ]
     },
     "execution_count": 28,
     "metadata": {},
     "output_type": "execute_result"
    },
    {
     "data": {
      "image/png": "[encoded data removed]",
      "text/plain": [
       "<Figure size 432x288 with 6 Axes>"
      ]
     },
     "metadata": {
      "needs_background": "light"
     },
     "output_type": "display_data"
    }
   ],
   "source": [
    "df.hist()"
   ]
  },
  {
   "cell_type": "code",
   "execution_count": 29,
   "metadata": {},
   "outputs": [
    {
     "name": "stdout",
     "output_type": "stream",
     "text": [
      "0    2229\n",
      "1     985\n",
      "Name: is_ultra, dtype: int64\n"
     ]
    }
   ],
   "source": [
    "print(df['is_ultra'].value_counts())"
   ]
  },
  {
   "cell_type": "markdown",
   "metadata": {},
   "source": [
    "## Разбивка данных на выборки"
   ]
  },
  {
   "cell_type": "code",
   "execution_count": 30,
   "metadata": {},
   "outputs": [],
   "source": [
    "features = df.drop(['is_ultra'], axis=1)\n",
    "target = df['is_ultra']"
   ]
  },
  {
   "cell_type": "code",
   "execution_count": 31,
   "metadata": {},
   "outputs": [],
   "source": [
    "features_learn, features_test, target_learn, target_test = train_test_split(\n",
    "    features, target, test_size=0.2, random_state=1984, stratify=target)"
   ]
  },
  {
   "cell_type": "code",
   "execution_count": 32,
   "metadata": {},
   "outputs": [],
   "source": [
    "features_train, features_valid, target_train, target_valid = train_test_split(\n",
    "    features_learn, target_learn, test_size=0.25, random_state=1984, stratify=target_learn)"
   ]
  },
  {
   "cell_type": "markdown",
   "metadata": {},
   "source": [
    "## Исследование моделей"
   ]
  },
  {
   "cell_type": "markdown",
   "metadata": {},
   "source": [
    "Поскольку задачка на первый взгляд выглядит очень простой, считаю правильным сделать сразу 3 модели и за одно выясним, какая из моделей быстрее даст более качественный результат в нашем случае. "
   ]
  },
  {
   "cell_type": "markdown",
   "metadata": {},
   "source": [
    "Также хочу предварительно выразить опасение, что самое \"узкое место\" в нашем проекте это разделение на тренировочную и проверочную выборки, поскольку количество тарифов ультра всего 985 или 30% от нашей выборки, а сам размер нашего общего датафрейма всего лишь 3214 объекта. В общем я опасаюсь, что при разделении в тренировочной выборке может оказаться слишком много или слишком мало тарифов ультра, что, скорее всего негативно скажется на результате. Учитывая это, возможно, придется неоднократно перезапускать нашу прграмму. "
   ]
  },
  {
   "cell_type": "markdown",
   "metadata": {},
   "source": [
    "### Дерево решений"
   ]
  },
  {
   "cell_type": "code",
   "execution_count": 33,
   "metadata": {},
   "outputs": [
    {
     "name": "stdout",
     "output_type": "stream",
     "text": [
      "Accuracy лучшей модели на валидационной выборке и глубина 0.7916018662519441 4\n"
     ]
    }
   ],
   "source": [
    "best_model1 = None\n",
    "best_result1 = 0\n",
    "depth1 = 0\n",
    "for depth in range(1, 5):\n",
    "    model1 = DecisionTreeClassifier(random_state=1984, max_depth=depth)\n",
    "    model1.fit(features_train, target_train)\n",
    "    predictions = model1.predict(features_valid)\n",
    "    result = accuracy_score(target_valid, predictions)\n",
    "    if result > best_result1:\n",
    "        best_model1 = model1\n",
    "        best_result1 = result\n",
    "        depth1 = depth\n",
    "print(\"Accuracy лучшей модели на валидационной выборке и глубина\", best_result1, depth)"
   ]
  },
  {
   "cell_type": "markdown",
   "metadata": {},
   "source": [
    "Accuracy = 0,792 , что выше требуемых 0,75. Также отметим, что глубина 4, а это значит, что все 4 признака требуются для более точного определения целевого признака."
   ]
  },
  {
   "cell_type": "code",
   "execution_count": 35,
   "metadata": {},
   "outputs": [
    {
     "data": {
      "image/png": "[encoded data removed]",
      "text/plain": [
       "<Figure size 2520x1440 with 1 Axes>"
      ]
     },
     "metadata": {
      "needs_background": "light"
     },
     "output_type": "display_data"
    }
   ],
   "source": [
    "import matplotlib.pyplot as plt\n",
    "fig = plt.figure(figsize=(35,20))\n",
    "_ = tree.plot_tree(best_model1, \n",
    "                   feature_names=features.columns.values, \n",
    "                   class_names=['Smart','Ultra'],\n",
    "                   filled=True,\n",
    "                   fontsize = 15)"
   ]
  },
  {
   "cell_type": "markdown",
   "metadata": {},
   "source": [
    "### Случайный лес"
   ]
  },
  {
   "cell_type": "code",
   "execution_count": 50,
   "metadata": {},
   "outputs": [
    {
     "name": "stdout",
     "output_type": "stream",
     "text": [
      "Accuracy наилучшей модели, количество деревьев и глубина 0.8102643856920684 6 4\n"
     ]
    }
   ],
   "source": [
    "# %%time\n",
    "best_model2 = None\n",
    "best_result2 = 0\n",
    "est2 = 0\n",
    "depth2 = 0\n",
    "for est in range(1, 31, 5):\n",
    "    for depth in range(1,5):\n",
    "        model2 = RandomForestClassifier(random_state=1984, n_estimators=est, max_depth=depth)\n",
    "        model2.fit(features_train, target_train)\n",
    "        result = model2.score(features_valid, target_valid)\n",
    "        if result > best_result2:\n",
    "            best_model2 = model2\n",
    "            best_result2 = result\n",
    "            est2 = est\n",
    "            depth2 = depth\n",
    "\n",
    "print(\"Accuracy наилучшей модели, количество деревьев и глубина\", best_result2, est2, depth2)"
   ]
  },
  {
   "cell_type": "markdown",
   "metadata": {},
   "source": [
    "Accuracy = 0,812, что выше требуемых 0,75, но ниже, чем у нашего первого дерева. Глубина по прежнему 4, а вот количество деревьев 21. Это не максимальное количество деревьев, но и не 1!! А это значит, что, возможно, такой высокий результат первого дерева (3.1) был случайным.  "
   ]
  },
  {
   "cell_type": "markdown",
   "metadata": {},
   "source": [
    "### Логистическая регрессия"
   ]
  },
  {
   "cell_type": "code",
   "execution_count": 37,
   "metadata": {},
   "outputs": [
    {
     "name": "stdout",
     "output_type": "stream",
     "text": [
      "0.6998444790046656\n"
     ]
    }
   ],
   "source": [
    "model3 = LogisticRegression(random_state=1984, solver='lbfgs', max_iter=1000) \n",
    "model3.fit(features_train, target_train) \n",
    "print(model3.score(features_valid, target_valid))"
   ]
  },
  {
   "cell_type": "markdown",
   "metadata": {},
   "source": [
    "Логистическая регрессия дала самый низкий результат. Возможно, ей не хватило размера выборки для обучения. "
   ]
  },
  {
   "cell_type": "code",
   "execution_count": 38,
   "metadata": {},
   "outputs": [
    {
     "name": "stdout",
     "output_type": "stream",
     "text": [
      "0.7402799377916018\n"
     ]
    },
    {
     "name": "stderr",
     "output_type": "stream",
     "text": [
      "/opt/conda/lib/python3.9/site-packages/scipy/optimize/_linesearch.py:456: LineSearchWarning: The line search algorithm did not converge\n",
      "  warn('The line search algorithm did not converge', LineSearchWarning)\n",
      "/opt/conda/lib/python3.9/site-packages/scipy/optimize/_linesearch.py:305: LineSearchWarning: The line search algorithm did not converge\n",
      "  warn('The line search algorithm did not converge', LineSearchWarning)\n"
     ]
    }
   ],
   "source": [
    "model4 = LogisticRegression(random_state=1984, solver='newton-cg') \n",
    "model4.fit(features_train, target_train) \n",
    "print(model4.score(features_valid, target_valid))"
   ]
  },
  {
   "cell_type": "markdown",
   "metadata": {},
   "source": [
    "С алгоритмом newton-cg я ранее знаком не был, но попробовать разные алгоритмы было как минимум интересно. К тому же он дал результат лучше других гиперпараметров для логистической регресии."
   ]
  },
  {
   "cell_type": "markdown",
   "metadata": {},
   "source": [
    "На данном этапе лучший и приемлимый результат дали дерево решений и случайный лес. Думаю, следует устроить им еще пару тестов, чтобы проверить на устойчивость. "
   ]
  },
  {
   "cell_type": "markdown",
   "metadata": {},
   "source": [
    "## Проверка модели на тестовой выборке"
   ]
  },
  {
   "cell_type": "markdown",
   "metadata": {},
   "source": [
    "На тестовой выборе модели уже были проверены, так что давайте проверим их на полной выборке ради научного интереса. "
   ]
  },
  {
   "cell_type": "code",
   "execution_count": 40,
   "metadata": {},
   "outputs": [
    {
     "name": "stdout",
     "output_type": "stream",
     "text": [
      "0.8055987558320373\n"
     ]
    }
   ],
   "source": [
    "print(accuracy_score(model2.predict(features_test), target_test))"
   ]
  },
  {
   "cell_type": "markdown",
   "metadata": {},
   "source": [
    "Как мы видим, если добавить в проверочные данные те данные, на которых модели обучались, качество предсказаний стало чуть-чуть лучше, но не то чтобы слишком сильно. На основе этого, думаю, можно сделать 2 предположения: все модели не переобучены; При большем количестве проверок случайный лес в теории может выдать большую точность, чем дерево решений. "
   ]
  },
  {
   "cell_type": "code",
   "execution_count": 51,
   "metadata": {
    "scrolled": true
   },
   "outputs": [
    {
     "name": "stdout",
     "output_type": "stream",
     "text": [
      "0.8\n",
      "0.4873096446700508\n"
     ]
    }
   ],
   "source": [
    "print(precision_score(target_test, model2.predict(features_test)))\n",
    "print(recall_score(target_test, model2.predict(features_test)))"
   ]
  },
  {
   "cell_type": "markdown",
   "metadata": {},
   "source": [
    "Мы провели дополнительное исследование для двух самых точных моделей. И получили низкое значение precision и высокое занчение recall. Из этого можем сделать вывод, что большинству клиентов, кому нужен тариф \"ультра\" - был предложен правильный тариф. Но и при этом довольно часто тариф \"ультра\" ошибочно рекомендуется программой клиентам, которым на самом деле нужен тариф \"оптимум\".\n",
    "То есть если упростить, то модель чаще предлагает дорогие тарифы, чем дешевые. \n",
    "Мне кажется, лучше так, чем наоборот, поскольку наша конечная цель - прибыль. А прибыль от этого в любом случае пострадает меньше, чем если бы модель предлагала чаще дешевые тарифы) "
   ]
  },
  {
   "cell_type": "code",
   "execution_count": 46,
   "metadata": {},
   "outputs": [
    {
     "name": "stdout",
     "output_type": "stream",
     "text": [
      "              precision    recall  f1-score   support\n",
      "\n",
      "           0       0.81      0.95      0.87       446\n",
      "           1       0.80      0.49      0.61       197\n",
      "\n",
      "    accuracy                           0.81       643\n",
      "   macro avg       0.80      0.72      0.74       643\n",
      "weighted avg       0.80      0.81      0.79       643\n",
      "\n"
     ]
    }
   ],
   "source": [
    "print(classification_report(target_test, model2.predict(features_test), target_names=['0', '1']))"
   ]
  },
  {
   "cell_type": "markdown",
   "metadata": {},
   "source": [
    "## Проверка модели на адекватность"
   ]
  },
  {
   "cell_type": "markdown",
   "metadata": {},
   "source": [
    "С одной стороны мы наши модели прошли проверку тестовой выборке, но чтобы еще больше убедиться в адекватности нашей модели, давайте сравним ее с моделью - \"дурачком\", которая всегда будет давать результат 0 (смарт), т.к. нулей больше, чем единиц. Я ожидаю от \"дурачка\" примерно 70% точность. "
   ]
  },
  {
   "cell_type": "code",
   "execution_count": 47,
   "metadata": {},
   "outputs": [
    {
     "name": "stdout",
     "output_type": "stream",
     "text": [
      "0.6936236391912908\n"
     ]
    }
   ],
   "source": [
    "dummy_clf = DummyClassifier(strategy=\"most_frequent\")\n",
    "dummy_clf.fit(features_train, target_train)\n",
    "DummyClassifier(strategy='most_frequent')\n",
    "dummb_predictions = dummy_clf.predict(features_valid)\n",
    "print(accuracy_score(dummb_predictions, target_valid))"
   ]
  },
  {
   "cell_type": "markdown",
   "metadata": {},
   "source": [
    "Как и ожидалось, точность \"дурачка\" 68%, почти как предсказывалось, но при этом все наши программы, даже наименее удачные имеют большую точность. Значит все хорошо, на модели можно положиться. "
   ]
  },
  {
   "cell_type": "markdown",
   "metadata": {},
   "source": [
    "## Вывод"
   ]
  },
  {
   "cell_type": "markdown",
   "metadata": {},
   "source": [
    "В ходе проекта мы проделали работу по созданию 4 моделей, две из которых дали удовлетворяющий нас результат. В зависимости от дальнейшего потока данных мы можем использовать как дерево, так и случайный лес, в зависимости от наших предпочтений, хотя лично я предпочитаю лес, поскольку эта модель кажется мне более надежной. Не думаю, что в нашем случае использование Леса сильно отразится на скорости работы, поскольку глубина каждого дерева всего 4, а оптимальное количество деревьев всего 16. "
   ]
  }
 ],
 "metadata": {
  "ExecuteTimeLog": [
   {
    "duration": 487,
    "start_time": "2022-08-19T06:08:11.979Z"
   },
   {
    "duration": 27,
    "start_time": "2022-08-19T06:08:14.933Z"
   },
   {
    "duration": 34,
    "start_time": "2022-08-19T06:08:45.721Z"
   },
   {
    "duration": 10,
    "start_time": "2022-08-19T06:09:14.173Z"
   },
   {
    "duration": 889,
    "start_time": "2022-08-19T06:11:48.370Z"
   },
   {
    "duration": 4,
    "start_time": "2022-08-19T06:15:22.667Z"
   },
   {
    "duration": 661,
    "start_time": "2022-08-19T06:16:13.358Z"
   },
   {
    "duration": 6,
    "start_time": "2022-08-19T06:28:12.238Z"
   },
   {
    "duration": 55,
    "start_time": "2022-08-19T06:31:52.858Z"
   },
   {
    "duration": 4,
    "start_time": "2022-08-19T06:38:59.961Z"
   },
   {
    "duration": 20,
    "start_time": "2022-08-19T06:51:11.572Z"
   },
   {
    "duration": 25,
    "start_time": "2022-08-19T07:08:44.992Z"
   },
   {
    "duration": 24,
    "start_time": "2022-08-19T07:11:28.430Z"
   },
   {
    "duration": 125,
    "start_time": "2022-08-19T07:11:32.067Z"
   },
   {
    "duration": 17,
    "start_time": "2022-08-19T07:11:41.559Z"
   },
   {
    "duration": 18,
    "start_time": "2022-08-19T07:11:49.792Z"
   },
   {
    "duration": 757,
    "start_time": "2022-08-19T07:12:14.253Z"
   },
   {
    "duration": 3,
    "start_time": "2022-08-19T07:15:26.427Z"
   },
   {
    "duration": 25,
    "start_time": "2022-08-19T07:17:41.531Z"
   },
   {
    "duration": 763,
    "start_time": "2022-08-19T07:24:10.861Z"
   },
   {
    "duration": 513,
    "start_time": "2022-08-19T09:44:10.601Z"
   },
   {
    "duration": 14,
    "start_time": "2022-08-19T09:44:11.117Z"
   },
   {
    "duration": 843,
    "start_time": "2022-08-19T09:44:11.132Z"
   },
   {
    "duration": 5,
    "start_time": "2022-08-19T09:44:11.977Z"
   },
   {
    "duration": 11,
    "start_time": "2022-08-19T09:44:11.984Z"
   },
   {
    "duration": 682,
    "start_time": "2022-08-19T09:44:11.996Z"
   },
   {
    "duration": 6,
    "start_time": "2022-08-19T09:44:12.679Z"
   },
   {
    "duration": 58,
    "start_time": "2022-08-19T09:44:12.686Z"
   },
   {
    "duration": 25,
    "start_time": "2022-08-19T09:44:12.745Z"
   },
   {
    "duration": 682,
    "start_time": "2022-08-19T09:44:12.772Z"
   },
   {
    "duration": 296,
    "start_time": "2022-08-19T09:45:50.905Z"
   },
   {
    "duration": 136,
    "start_time": "2022-08-19T09:45:58.574Z"
   },
   {
    "duration": 410,
    "start_time": "2022-08-19T09:46:02.597Z"
   },
   {
    "duration": 578,
    "start_time": "2022-08-19T09:46:06.727Z"
   },
   {
    "duration": 165,
    "start_time": "2022-08-19T09:46:12.335Z"
   },
   {
    "duration": 208,
    "start_time": "2022-08-19T09:46:15.898Z"
   },
   {
    "duration": 139,
    "start_time": "2022-08-19T09:46:23.767Z"
   },
   {
    "duration": 130,
    "start_time": "2022-08-19T09:47:07.777Z"
   },
   {
    "duration": 203,
    "start_time": "2022-08-19T09:54:47.511Z"
   },
   {
    "duration": 221,
    "start_time": "2022-08-19T09:54:53.341Z"
   },
   {
    "duration": 661,
    "start_time": "2022-08-19T09:54:58.735Z"
   },
   {
    "duration": 13,
    "start_time": "2022-08-19T09:55:19.883Z"
   },
   {
    "duration": 2415,
    "start_time": "2022-08-19T09:55:39.493Z"
   },
   {
    "duration": 1419,
    "start_time": "2022-08-19T09:55:49.682Z"
   },
   {
    "duration": 120,
    "start_time": "2022-08-19T09:57:02.283Z"
   },
   {
    "duration": 295,
    "start_time": "2022-08-19T10:00:39.310Z"
   },
   {
    "duration": 206,
    "start_time": "2022-08-19T10:00:45.501Z"
   },
   {
    "duration": 122,
    "start_time": "2022-08-19T10:10:35.001Z"
   },
   {
    "duration": 7,
    "start_time": "2022-08-19T10:10:56.334Z"
   },
   {
    "duration": 19,
    "start_time": "2022-08-19T10:11:10.380Z"
   },
   {
    "duration": 7,
    "start_time": "2022-08-19T10:11:19.944Z"
   },
   {
    "duration": 10,
    "start_time": "2022-08-19T10:11:28.434Z"
   },
   {
    "duration": 2222,
    "start_time": "2022-08-19T10:11:46.087Z"
   },
   {
    "duration": 118,
    "start_time": "2022-08-19T10:11:52.683Z"
   },
   {
    "duration": 1847,
    "start_time": "2022-08-19T10:11:55.554Z"
   },
   {
    "duration": 7,
    "start_time": "2022-08-19T10:12:02.675Z"
   },
   {
    "duration": 3,
    "start_time": "2022-08-19T10:26:09.032Z"
   },
   {
    "duration": 6,
    "start_time": "2022-08-19T10:30:00.595Z"
   },
   {
    "duration": 3,
    "start_time": "2022-08-19T10:50:46.280Z"
   },
   {
    "duration": 2,
    "start_time": "2022-08-19T10:50:50.135Z"
   },
   {
    "duration": 16,
    "start_time": "2022-08-19T10:51:36.472Z"
   },
   {
    "duration": 3,
    "start_time": "2022-08-19T10:53:06.895Z"
   },
   {
    "duration": 14,
    "start_time": "2022-08-19T10:53:33.153Z"
   },
   {
    "duration": 439,
    "start_time": "2022-08-19T11:10:08.590Z"
   },
   {
    "duration": 15,
    "start_time": "2022-08-19T11:10:09.031Z"
   },
   {
    "duration": 643,
    "start_time": "2022-08-19T11:10:09.047Z"
   },
   {
    "duration": 9,
    "start_time": "2022-08-19T11:10:09.692Z"
   },
   {
    "duration": 9,
    "start_time": "2022-08-19T11:10:09.702Z"
   },
   {
    "duration": 670,
    "start_time": "2022-08-19T11:10:09.712Z"
   },
   {
    "duration": 5,
    "start_time": "2022-08-19T11:10:10.384Z"
   },
   {
    "duration": 47,
    "start_time": "2022-08-19T11:10:10.390Z"
   },
   {
    "duration": 25,
    "start_time": "2022-08-19T11:10:10.439Z"
   },
   {
    "duration": 712,
    "start_time": "2022-08-19T11:10:10.466Z"
   },
   {
    "duration": 530,
    "start_time": "2022-08-19T11:10:11.180Z"
   },
   {
    "duration": 2200,
    "start_time": "2022-08-19T11:10:11.801Z"
   },
   {
    "duration": 6,
    "start_time": "2022-08-19T11:10:14.003Z"
   },
   {
    "duration": 20,
    "start_time": "2022-08-19T11:10:14.101Z"
   },
   {
    "duration": 6,
    "start_time": "2022-08-19T11:10:14.123Z"
   },
   {
    "duration": 178,
    "start_time": "2022-08-19T11:10:14.130Z"
   },
   {
    "duration": 95,
    "start_time": "2022-08-19T11:10:14.310Z"
   },
   {
    "duration": 103,
    "start_time": "2022-08-19T11:10:14.409Z"
   },
   {
    "duration": 13,
    "start_time": "2022-08-19T11:10:14.513Z"
   },
   {
    "duration": 2,
    "start_time": "2022-08-19T11:10:14.527Z"
   },
   {
    "duration": 7,
    "start_time": "2022-08-19T11:10:14.531Z"
   },
   {
    "duration": 474,
    "start_time": "2022-08-19T12:23:11.375Z"
   },
   {
    "duration": 11,
    "start_time": "2022-08-19T12:23:11.851Z"
   },
   {
    "duration": 668,
    "start_time": "2022-08-19T12:23:11.863Z"
   },
   {
    "duration": 6,
    "start_time": "2022-08-19T12:23:12.533Z"
   },
   {
    "duration": 13,
    "start_time": "2022-08-19T12:23:12.540Z"
   },
   {
    "duration": 1090,
    "start_time": "2022-08-19T12:23:12.555Z"
   },
   {
    "duration": 6,
    "start_time": "2022-08-19T12:23:13.647Z"
   },
   {
    "duration": 60,
    "start_time": "2022-08-19T12:23:13.655Z"
   },
   {
    "duration": 27,
    "start_time": "2022-08-19T12:23:13.717Z"
   },
   {
    "duration": 770,
    "start_time": "2022-08-19T12:23:13.747Z"
   },
   {
    "duration": 282,
    "start_time": "2022-08-19T12:23:14.519Z"
   },
   {
    "duration": 2405,
    "start_time": "2022-08-19T12:23:14.802Z"
   },
   {
    "duration": 93,
    "start_time": "2022-08-19T12:23:17.209Z"
   },
   {
    "duration": 137,
    "start_time": "2022-08-19T12:23:17.304Z"
   },
   {
    "duration": 58,
    "start_time": "2022-08-19T12:23:17.443Z"
   },
   {
    "duration": 116,
    "start_time": "2022-08-19T12:23:17.502Z"
   },
   {
    "duration": 181,
    "start_time": "2022-08-19T12:23:17.620Z"
   },
   {
    "duration": 88,
    "start_time": "2022-08-19T12:23:17.803Z"
   },
   {
    "duration": 24,
    "start_time": "2022-08-19T12:23:17.893Z"
   },
   {
    "duration": 49,
    "start_time": "2022-08-19T12:23:17.919Z"
   },
   {
    "duration": 33,
    "start_time": "2022-08-19T12:23:17.970Z"
   },
   {
    "duration": 50,
    "start_time": "2022-08-19T15:13:35.125Z"
   },
   {
    "duration": 1106,
    "start_time": "2022-08-19T15:13:54.716Z"
   },
   {
    "duration": 122,
    "start_time": "2022-08-19T15:13:57.129Z"
   },
   {
    "duration": 5,
    "start_time": "2022-08-19T17:41:07.875Z"
   },
   {
    "duration": 59,
    "start_time": "2022-08-19T17:53:27.892Z"
   },
   {
    "duration": 1160,
    "start_time": "2022-08-19T17:53:39.421Z"
   },
   {
    "duration": 34,
    "start_time": "2022-08-19T17:53:40.583Z"
   },
   {
    "duration": 11,
    "start_time": "2022-08-19T17:53:40.618Z"
   },
   {
    "duration": 942,
    "start_time": "2022-08-19T17:53:40.630Z"
   },
   {
    "duration": 5,
    "start_time": "2022-08-19T17:53:41.574Z"
   },
   {
    "duration": 19,
    "start_time": "2022-08-19T17:53:41.581Z"
   },
   {
    "duration": 25,
    "start_time": "2022-08-19T17:53:41.602Z"
   },
   {
    "duration": 6,
    "start_time": "2022-08-19T17:53:41.629Z"
   },
   {
    "duration": 13,
    "start_time": "2022-08-19T17:53:41.637Z"
   },
   {
    "duration": 50,
    "start_time": "2022-08-19T17:53:41.654Z"
   },
   {
    "duration": 793,
    "start_time": "2022-08-19T17:53:41.706Z"
   },
   {
    "duration": 44,
    "start_time": "2022-08-19T17:53:42.502Z"
   },
   {
    "duration": 173,
    "start_time": "2022-08-19T17:53:42.560Z"
   },
   {
    "duration": 6,
    "start_time": "2022-08-19T17:53:42.734Z"
   },
   {
    "duration": 32,
    "start_time": "2022-08-19T17:53:42.742Z"
   },
   {
    "duration": 12,
    "start_time": "2022-08-19T17:53:42.776Z"
   },
   {
    "duration": 197,
    "start_time": "2022-08-19T17:53:42.790Z"
   },
   {
    "duration": 185,
    "start_time": "2022-08-19T17:53:42.993Z"
   },
   {
    "duration": 38,
    "start_time": "2022-08-19T17:53:43.180Z"
   },
   {
    "duration": 34,
    "start_time": "2022-08-19T17:53:43.220Z"
   },
   {
    "duration": 38,
    "start_time": "2022-08-19T17:53:43.255Z"
   },
   {
    "duration": 24,
    "start_time": "2022-08-19T17:54:25.776Z"
   },
   {
    "duration": 6,
    "start_time": "2022-08-19T17:59:32.750Z"
   },
   {
    "duration": 10,
    "start_time": "2022-08-19T17:59:41.721Z"
   },
   {
    "duration": 6,
    "start_time": "2022-08-19T17:59:54.973Z"
   },
   {
    "duration": 6,
    "start_time": "2022-08-19T18:00:02.034Z"
   },
   {
    "duration": 21,
    "start_time": "2022-08-19T18:00:45.693Z"
   },
   {
    "duration": 13,
    "start_time": "2022-08-19T18:01:04.415Z"
   },
   {
    "duration": 3,
    "start_time": "2022-08-19T18:07:33.705Z"
   },
   {
    "duration": 38,
    "start_time": "2022-08-19T18:07:33.710Z"
   },
   {
    "duration": 10,
    "start_time": "2022-08-19T18:07:33.750Z"
   },
   {
    "duration": 481,
    "start_time": "2022-08-19T18:07:33.761Z"
   },
   {
    "duration": 4,
    "start_time": "2022-08-19T18:07:34.244Z"
   },
   {
    "duration": 8,
    "start_time": "2022-08-19T18:07:34.250Z"
   },
   {
    "duration": 7,
    "start_time": "2022-08-19T18:07:34.260Z"
   },
   {
    "duration": 15,
    "start_time": "2022-08-19T18:07:34.269Z"
   },
   {
    "duration": 60,
    "start_time": "2022-08-19T18:07:34.286Z"
   },
   {
    "duration": 0,
    "start_time": "2022-08-19T18:07:34.348Z"
   },
   {
    "duration": 0,
    "start_time": "2022-08-19T18:07:34.349Z"
   },
   {
    "duration": 0,
    "start_time": "2022-08-19T18:07:34.350Z"
   },
   {
    "duration": 0,
    "start_time": "2022-08-19T18:07:34.351Z"
   },
   {
    "duration": 0,
    "start_time": "2022-08-19T18:07:34.352Z"
   },
   {
    "duration": 0,
    "start_time": "2022-08-19T18:07:34.353Z"
   },
   {
    "duration": 0,
    "start_time": "2022-08-19T18:07:34.354Z"
   },
   {
    "duration": 0,
    "start_time": "2022-08-19T18:07:34.355Z"
   },
   {
    "duration": 0,
    "start_time": "2022-08-19T18:07:34.356Z"
   },
   {
    "duration": 0,
    "start_time": "2022-08-19T18:07:34.358Z"
   },
   {
    "duration": 0,
    "start_time": "2022-08-19T18:07:34.359Z"
   },
   {
    "duration": 0,
    "start_time": "2022-08-19T18:07:34.360Z"
   },
   {
    "duration": 5,
    "start_time": "2022-08-19T18:09:55.218Z"
   },
   {
    "duration": 43,
    "start_time": "2022-08-19T18:09:55.226Z"
   },
   {
    "duration": 12,
    "start_time": "2022-08-19T18:09:55.271Z"
   },
   {
    "duration": 35,
    "start_time": "2022-08-19T18:09:55.285Z"
   },
   {
    "duration": 707,
    "start_time": "2022-08-19T18:09:55.323Z"
   },
   {
    "duration": 29,
    "start_time": "2022-08-19T18:09:56.032Z"
   },
   {
    "duration": 103,
    "start_time": "2022-08-19T18:09:56.063Z"
   },
   {
    "duration": 6,
    "start_time": "2022-08-19T18:09:56.168Z"
   },
   {
    "duration": 17,
    "start_time": "2022-08-19T18:09:56.176Z"
   },
   {
    "duration": 8,
    "start_time": "2022-08-19T18:09:56.195Z"
   },
   {
    "duration": 11,
    "start_time": "2022-08-19T18:09:56.205Z"
   },
   {
    "duration": 12,
    "start_time": "2022-08-19T18:09:56.217Z"
   },
   {
    "duration": 29,
    "start_time": "2022-08-19T18:09:56.231Z"
   },
   {
    "duration": 13,
    "start_time": "2022-08-19T18:09:56.263Z"
   },
   {
    "duration": 9,
    "start_time": "2022-08-19T18:09:56.277Z"
   },
   {
    "duration": 55,
    "start_time": "2022-08-19T18:17:20.349Z"
   },
   {
    "duration": 49,
    "start_time": "2022-08-19T18:17:31.465Z"
   },
   {
    "duration": 51,
    "start_time": "2022-08-19T18:18:21.715Z"
   },
   {
    "duration": 62,
    "start_time": "2022-08-19T18:19:05.401Z"
   },
   {
    "duration": 120,
    "start_time": "2022-08-19T18:19:45.641Z"
   },
   {
    "duration": 14,
    "start_time": "2022-08-19T18:19:50.503Z"
   },
   {
    "duration": 13,
    "start_time": "2022-08-19T18:20:59.606Z"
   },
   {
    "duration": 13,
    "start_time": "2022-08-19T18:21:04.738Z"
   },
   {
    "duration": 15,
    "start_time": "2022-08-19T18:21:16.599Z"
   },
   {
    "duration": 10,
    "start_time": "2022-08-19T18:21:31.129Z"
   },
   {
    "duration": 15,
    "start_time": "2022-08-19T18:22:01.813Z"
   },
   {
    "duration": 14,
    "start_time": "2022-08-19T18:24:58.022Z"
   },
   {
    "duration": 14,
    "start_time": "2022-08-19T18:25:00.666Z"
   },
   {
    "duration": 3,
    "start_time": "2022-08-19T18:42:01.093Z"
   },
   {
    "duration": 3,
    "start_time": "2022-08-19T18:42:04.467Z"
   },
   {
    "duration": 834,
    "start_time": "2022-08-19T18:42:42.699Z"
   },
   {
    "duration": 13,
    "start_time": "2022-08-19T18:45:11.987Z"
   },
   {
    "duration": 795,
    "start_time": "2022-08-19T18:45:25.484Z"
   },
   {
    "duration": 746,
    "start_time": "2022-08-19T18:45:41.952Z"
   },
   {
    "duration": 780,
    "start_time": "2022-08-19T18:45:48.529Z"
   },
   {
    "duration": 785,
    "start_time": "2022-08-19T18:46:03.577Z"
   },
   {
    "duration": 1240,
    "start_time": "2022-08-20T03:35:19.131Z"
   },
   {
    "duration": 143,
    "start_time": "2022-08-20T03:35:20.373Z"
   },
   {
    "duration": 14,
    "start_time": "2022-08-20T03:35:20.518Z"
   },
   {
    "duration": 958,
    "start_time": "2022-08-20T03:35:20.534Z"
   },
   {
    "duration": 19,
    "start_time": "2022-08-20T03:35:21.494Z"
   },
   {
    "duration": 3,
    "start_time": "2022-08-20T03:35:21.515Z"
   },
   {
    "duration": 7,
    "start_time": "2022-08-20T03:35:21.519Z"
   },
   {
    "duration": 5,
    "start_time": "2022-08-20T03:35:21.527Z"
   },
   {
    "duration": 22,
    "start_time": "2022-08-20T03:35:21.533Z"
   },
   {
    "duration": 711,
    "start_time": "2022-08-20T03:35:21.557Z"
   },
   {
    "duration": 644,
    "start_time": "2022-08-20T03:35:22.270Z"
   },
   {
    "duration": 14,
    "start_time": "2022-08-20T03:35:22.916Z"
   },
   {
    "duration": 87,
    "start_time": "2022-08-20T03:35:22.931Z"
   },
   {
    "duration": 5,
    "start_time": "2022-08-20T03:35:23.020Z"
   },
   {
    "duration": 10,
    "start_time": "2022-08-20T03:35:23.027Z"
   },
   {
    "duration": 6,
    "start_time": "2022-08-20T03:35:23.039Z"
   },
   {
    "duration": 17,
    "start_time": "2022-08-20T03:35:23.047Z"
   },
   {
    "duration": 7,
    "start_time": "2022-08-20T03:35:23.066Z"
   },
   {
    "duration": 30,
    "start_time": "2022-08-20T03:35:23.074Z"
   },
   {
    "duration": 14,
    "start_time": "2022-08-20T03:35:23.105Z"
   },
   {
    "duration": 7,
    "start_time": "2022-08-20T03:35:23.120Z"
   },
   {
    "duration": 10,
    "start_time": "2022-08-20T03:35:23.128Z"
   },
   {
    "duration": 4,
    "start_time": "2022-08-20T03:35:23.139Z"
   },
   {
    "duration": 118,
    "start_time": "2022-08-20T03:36:18.995Z"
   },
   {
    "duration": 736,
    "start_time": "2022-08-20T03:36:47.589Z"
   },
   {
    "duration": 742,
    "start_time": "2022-08-20T03:43:21.042Z"
   },
   {
    "duration": 84,
    "start_time": "2022-08-20T03:49:55.146Z"
   },
   {
    "duration": 10,
    "start_time": "2022-08-20T03:50:09.111Z"
   },
   {
    "duration": 89,
    "start_time": "2022-08-20T03:50:20.615Z"
   },
   {
    "duration": 69,
    "start_time": "2022-08-20T03:50:51.512Z"
   },
   {
    "duration": 8,
    "start_time": "2022-08-20T03:50:56.960Z"
   },
   {
    "duration": 14,
    "start_time": "2022-08-20T03:51:15.528Z"
   },
   {
    "duration": 9,
    "start_time": "2022-08-20T03:51:30.480Z"
   },
   {
    "duration": 13,
    "start_time": "2022-08-20T03:53:29.095Z"
   },
   {
    "duration": 1030,
    "start_time": "2022-08-20T06:16:17.767Z"
   },
   {
    "duration": 983,
    "start_time": "2022-08-20T13:31:43.293Z"
   },
   {
    "duration": 128,
    "start_time": "2022-08-20T13:31:44.278Z"
   },
   {
    "duration": 11,
    "start_time": "2022-08-20T13:31:44.408Z"
   },
   {
    "duration": 787,
    "start_time": "2022-08-20T13:31:44.421Z"
   },
   {
    "duration": 5,
    "start_time": "2022-08-20T13:31:45.210Z"
   },
   {
    "duration": 9,
    "start_time": "2022-08-20T13:31:45.216Z"
   },
   {
    "duration": 8,
    "start_time": "2022-08-20T13:31:45.227Z"
   },
   {
    "duration": 20,
    "start_time": "2022-08-20T13:31:45.237Z"
   },
   {
    "duration": 24,
    "start_time": "2022-08-20T13:31:45.259Z"
   },
   {
    "duration": 808,
    "start_time": "2022-08-20T13:31:45.284Z"
   },
   {
    "duration": 692,
    "start_time": "2022-08-20T13:31:46.093Z"
   },
   {
    "duration": 726,
    "start_time": "2022-08-20T13:31:46.786Z"
   },
   {
    "duration": 17,
    "start_time": "2022-08-20T13:31:47.514Z"
   },
   {
    "duration": 101,
    "start_time": "2022-08-20T13:31:47.533Z"
   },
   {
    "duration": 6,
    "start_time": "2022-08-20T13:31:47.635Z"
   },
   {
    "duration": 20,
    "start_time": "2022-08-20T13:31:47.642Z"
   },
   {
    "duration": 5,
    "start_time": "2022-08-20T13:31:47.664Z"
   },
   {
    "duration": 6,
    "start_time": "2022-08-20T13:31:47.671Z"
   },
   {
    "duration": 17,
    "start_time": "2022-08-20T13:31:47.679Z"
   },
   {
    "duration": 13,
    "start_time": "2022-08-20T13:31:47.698Z"
   },
   {
    "duration": 10,
    "start_time": "2022-08-20T13:31:47.712Z"
   },
   {
    "duration": 46,
    "start_time": "2022-08-20T13:31:47.724Z"
   },
   {
    "duration": 5,
    "start_time": "2022-08-20T13:31:47.772Z"
   },
   {
    "duration": 845,
    "start_time": "2022-08-20T14:00:15.456Z"
   },
   {
    "duration": 4,
    "start_time": "2022-08-20T14:00:23.533Z"
   },
   {
    "duration": 33,
    "start_time": "2022-08-20T14:00:23.813Z"
   },
   {
    "duration": 11,
    "start_time": "2022-08-20T14:00:23.848Z"
   },
   {
    "duration": 406,
    "start_time": "2022-08-20T14:00:24.170Z"
   },
   {
    "duration": 5,
    "start_time": "2022-08-20T14:00:24.578Z"
   },
   {
    "duration": 6,
    "start_time": "2022-08-20T14:00:24.584Z"
   },
   {
    "duration": 7,
    "start_time": "2022-08-20T14:00:24.591Z"
   },
   {
    "duration": 5,
    "start_time": "2022-08-20T14:00:24.781Z"
   },
   {
    "duration": 23,
    "start_time": "2022-08-20T14:00:25.100Z"
   },
   {
    "duration": 818,
    "start_time": "2022-08-20T14:00:25.125Z"
   },
   {
    "duration": 734,
    "start_time": "2022-08-20T14:00:25.945Z"
   },
   {
    "duration": 687,
    "start_time": "2022-08-20T14:00:26.681Z"
   },
   {
    "duration": 20,
    "start_time": "2022-08-20T14:00:27.372Z"
   },
   {
    "duration": 105,
    "start_time": "2022-08-20T14:00:27.393Z"
   },
   {
    "duration": 5,
    "start_time": "2022-08-20T14:00:27.499Z"
   },
   {
    "duration": 21,
    "start_time": "2022-08-20T14:00:27.506Z"
   },
   {
    "duration": 9,
    "start_time": "2022-08-20T14:00:27.529Z"
   },
   {
    "duration": 11,
    "start_time": "2022-08-20T14:00:27.540Z"
   },
   {
    "duration": 23,
    "start_time": "2022-08-20T14:00:27.553Z"
   },
   {
    "duration": 13,
    "start_time": "2022-08-20T14:00:27.577Z"
   },
   {
    "duration": 7,
    "start_time": "2022-08-20T14:00:27.592Z"
   },
   {
    "duration": 11,
    "start_time": "2022-08-20T14:00:27.601Z"
   },
   {
    "duration": 5,
    "start_time": "2022-08-20T14:00:27.613Z"
   },
   {
    "duration": 716,
    "start_time": "2022-08-20T14:09:48.612Z"
   },
   {
    "duration": 754,
    "start_time": "2022-08-20T14:10:02.154Z"
   },
   {
    "duration": 722,
    "start_time": "2022-08-20T14:10:05.800Z"
   },
   {
    "duration": 18,
    "start_time": "2022-08-20T14:29:34.719Z"
   }
  ],
  "kernelspec": {
   "display_name": "Python 3 (ipykernel)",
   "language": "python",
   "name": "python3"
  },
  "language_info": {
   "codemirror_mode": {
    "name": "ipython",
    "version": 3
   },
   "file_extension": ".py",
   "mimetype": "text/x-python",
   "name": "python",
   "nbconvert_exporter": "python",
   "pygments_lexer": "ipython3",
   "version": "3.8.16"
  },
  "toc": {
   "base_numbering": 1,
   "nav_menu": {},
   "number_sections": true,
   "sideBar": true,
   "skip_h1_title": true,
   "title_cell": "Table of Contents",
   "title_sidebar": "Contents",
   "toc_cell": false,
   "toc_position": {
    "height": "calc(100% - 180px)",
    "left": "10px",
    "top": "150px",
    "width": "283.390625px"
   },
   "toc_section_display": true,
   "toc_window_display": true
  }
 },
 "nbformat": 4,
 "nbformat_minor": 2
}
