{
 "cells": [
  {
   "cell_type": "markdown",
   "metadata": {
    "toc": true
   },
   "source": [
    "<h1>Содержание<span class=\"tocSkip\"></span></h1>\n",
    "<div class=\"toc\"><ul class=\"toc-item\"><li><span><a href=\"#Подготовка\" data-toc-modified-id=\"Подготовка-1\"><span class=\"toc-item-num\">1&nbsp;&nbsp;</span>Подготовка</a></span></li><li><span><a href=\"#Анализ\" data-toc-modified-id=\"Анализ-2\"><span class=\"toc-item-num\">2&nbsp;&nbsp;</span>Анализ</a></span></li><li><span><a href=\"#Обучение\" data-toc-modified-id=\"Обучение-3\"><span class=\"toc-item-num\">3&nbsp;&nbsp;</span>Обучение</a></span></li><li><span><a href=\"#Вывод\" data-toc-modified-id=\"Вывод-4\"><span class=\"toc-item-num\">4&nbsp;&nbsp;</span>Вывод</a></span></li><li><span><a href=\"#Чек-лист-проверки\" data-toc-modified-id=\"Чек-лист-проверки-5\"><span class=\"toc-item-num\">5&nbsp;&nbsp;</span>Чек-лист проверки</a></span></li></ul></div>"
   ]
  },
  {
   "cell_type": "markdown",
   "metadata": {},
   "source": [
    "#  Прогнозирование заказов такси"
   ]
  },
  {
   "cell_type": "markdown",
   "metadata": {},
   "source": [
    "Компания «Чётенькое такси» собрала исторические данные о заказах такси в аэропортах. Чтобы привлекать больше водителей в период пиковой нагрузки, нужно спрогнозировать количество заказов такси на следующий час. Наша цель - построить модель для такого предсказания.\n",
    "\n",
    "Значение метрики *RMSE* на тестовой выборке должно быть не больше 48.\n",
    "\n",
    "Нам нужно:\n",
    "\n",
    "1. Загрузить данные и выполнить их ресемплирование по одному часу.\n",
    "2. Проанализировать данные.\n",
    "3. Обучить разные модели с различными гиперпараметрами. Сделать тестовую выборку размером 10% от исходных данных.\n",
    "4. Проверить данные на тестовой выборке и сделать выводы.\n",
    "\n",
    "\n",
    "Данные лежат в файле `taxi.csv`. Количество заказов находится в столбце `num_orders` (от англ. *number of orders*, «число заказов»)."
   ]
  },
  {
   "cell_type": "markdown",
   "metadata": {},
   "source": [
    "## Подготовка"
   ]
  },
  {
   "cell_type": "code",
   "execution_count": 1,
   "metadata": {},
   "outputs": [],
   "source": [
    "import pandas as pd\n",
    "\n",
    "from sklearn.model_selection import train_test_split\n",
    "from sklearn.model_selection import GridSearchCV\n",
    "from sklearn.model_selection import cross_val_score\n",
    "from sklearn.model_selection import TimeSeriesSplit\n",
    "from sklearn.ensemble import RandomForestRegressor\n",
    "from sklearn.linear_model import LinearRegression\n",
    "from sklearn.metrics import mean_squared_error\n",
    "from sklearn.metrics import mean_absolute_error\n",
    "from sklearn.metrics import make_scorer\n",
    "\n",
    "import matplotlib.pyplot as plt\n",
    "\n",
    "import lightgbm as lgb\n",
    "\n",
    "import numpy as np\n",
    "\n",
    "import statistics as st\n",
    "\n",
    "from scipy import stats\n",
    "\n",
    "from statsmodels.tsa.seasonal import seasonal_decompose\n",
    "\n",
    "from joblib import dump"
   ]
  },
  {
   "cell_type": "code",
   "execution_count": 2,
   "metadata": {},
   "outputs": [
    {
     "data": {
      "text/html": [
       "<div>\n",
       "<style scoped>\n",
       "    .dataframe tbody tr th:only-of-type {\n",
       "        vertical-align: middle;\n",
       "    }\n",
       "\n",
       "    .dataframe tbody tr th {\n",
       "        vertical-align: top;\n",
       "    }\n",
       "\n",
       "    .dataframe thead th {\n",
       "        text-align: right;\n",
       "    }\n",
       "</style>\n",
       "<table border=\"1\" class=\"dataframe\">\n",
       "  <thead>\n",
       "    <tr style=\"text-align: right;\">\n",
       "      <th></th>\n",
       "      <th>datetime</th>\n",
       "      <th>num_orders</th>\n",
       "    </tr>\n",
       "  </thead>\n",
       "  <tbody>\n",
       "    <tr>\n",
       "      <th>0</th>\n",
       "      <td>2018-03-01 00:00:00</td>\n",
       "      <td>9</td>\n",
       "    </tr>\n",
       "    <tr>\n",
       "      <th>1</th>\n",
       "      <td>2018-03-01 00:10:00</td>\n",
       "      <td>14</td>\n",
       "    </tr>\n",
       "    <tr>\n",
       "      <th>2</th>\n",
       "      <td>2018-03-01 00:20:00</td>\n",
       "      <td>28</td>\n",
       "    </tr>\n",
       "    <tr>\n",
       "      <th>3</th>\n",
       "      <td>2018-03-01 00:30:00</td>\n",
       "      <td>20</td>\n",
       "    </tr>\n",
       "    <tr>\n",
       "      <th>4</th>\n",
       "      <td>2018-03-01 00:40:00</td>\n",
       "      <td>32</td>\n",
       "    </tr>\n",
       "    <tr>\n",
       "      <th>...</th>\n",
       "      <td>...</td>\n",
       "      <td>...</td>\n",
       "    </tr>\n",
       "    <tr>\n",
       "      <th>26491</th>\n",
       "      <td>2018-08-31 23:10:00</td>\n",
       "      <td>32</td>\n",
       "    </tr>\n",
       "    <tr>\n",
       "      <th>26492</th>\n",
       "      <td>2018-08-31 23:20:00</td>\n",
       "      <td>24</td>\n",
       "    </tr>\n",
       "    <tr>\n",
       "      <th>26493</th>\n",
       "      <td>2018-08-31 23:30:00</td>\n",
       "      <td>27</td>\n",
       "    </tr>\n",
       "    <tr>\n",
       "      <th>26494</th>\n",
       "      <td>2018-08-31 23:40:00</td>\n",
       "      <td>39</td>\n",
       "    </tr>\n",
       "    <tr>\n",
       "      <th>26495</th>\n",
       "      <td>2018-08-31 23:50:00</td>\n",
       "      <td>53</td>\n",
       "    </tr>\n",
       "  </tbody>\n",
       "</table>\n",
       "<p>26496 rows × 2 columns</p>\n",
       "</div>"
      ],
      "text/plain": [
       "                  datetime  num_orders\n",
       "0      2018-03-01 00:00:00           9\n",
       "1      2018-03-01 00:10:00          14\n",
       "2      2018-03-01 00:20:00          28\n",
       "3      2018-03-01 00:30:00          20\n",
       "4      2018-03-01 00:40:00          32\n",
       "...                    ...         ...\n",
       "26491  2018-08-31 23:10:00          32\n",
       "26492  2018-08-31 23:20:00          24\n",
       "26493  2018-08-31 23:30:00          27\n",
       "26494  2018-08-31 23:40:00          39\n",
       "26495  2018-08-31 23:50:00          53\n",
       "\n",
       "[26496 rows x 2 columns]"
      ]
     },
     "metadata": {},
     "output_type": "display_data"
    }
   ],
   "source": [
    "data = pd.read_csv('/datasets/taxi.csv')\n",
    "display(data)"
   ]
  },
  {
   "cell_type": "code",
   "execution_count": 3,
   "metadata": {},
   "outputs": [
    {
     "name": "stdout",
     "output_type": "stream",
     "text": [
      "<class 'pandas.core.frame.DataFrame'>\n",
      "RangeIndex: 26496 entries, 0 to 26495\n",
      "Data columns (total 2 columns):\n",
      " #   Column      Non-Null Count  Dtype         \n",
      "---  ------      --------------  -----         \n",
      " 0   datetime    26496 non-null  datetime64[ns]\n",
      " 1   num_orders  26496 non-null  int64         \n",
      "dtypes: datetime64[ns](1), int64(1)\n",
      "memory usage: 414.1 KB\n",
      "None\n"
     ]
    }
   ],
   "source": [
    "data['datetime'] = pd.to_datetime(data['datetime'], format = '%Y-%m-%d %H:%M:%S')\n",
    "print(data.info())\n",
    "data = data.set_index('datetime')"
   ]
  },
  {
   "cell_type": "code",
   "execution_count": 4,
   "metadata": {},
   "outputs": [
    {
     "name": "stdout",
     "output_type": "stream",
     "text": [
      "True\n"
     ]
    },
    {
     "data": {
      "text/html": [
       "<div>\n",
       "<style scoped>\n",
       "    .dataframe tbody tr th:only-of-type {\n",
       "        vertical-align: middle;\n",
       "    }\n",
       "\n",
       "    .dataframe tbody tr th {\n",
       "        vertical-align: top;\n",
       "    }\n",
       "\n",
       "    .dataframe thead th {\n",
       "        text-align: right;\n",
       "    }\n",
       "</style>\n",
       "<table border=\"1\" class=\"dataframe\">\n",
       "  <thead>\n",
       "    <tr style=\"text-align: right;\">\n",
       "      <th></th>\n",
       "      <th>num_orders</th>\n",
       "    </tr>\n",
       "    <tr>\n",
       "      <th>datetime</th>\n",
       "      <th></th>\n",
       "    </tr>\n",
       "  </thead>\n",
       "  <tbody>\n",
       "    <tr>\n",
       "      <th>2018-03-01 00:00:00</th>\n",
       "      <td>9</td>\n",
       "    </tr>\n",
       "    <tr>\n",
       "      <th>2018-03-01 00:10:00</th>\n",
       "      <td>14</td>\n",
       "    </tr>\n",
       "    <tr>\n",
       "      <th>2018-03-01 00:20:00</th>\n",
       "      <td>28</td>\n",
       "    </tr>\n",
       "    <tr>\n",
       "      <th>2018-03-01 00:30:00</th>\n",
       "      <td>20</td>\n",
       "    </tr>\n",
       "    <tr>\n",
       "      <th>2018-03-01 00:40:00</th>\n",
       "      <td>32</td>\n",
       "    </tr>\n",
       "    <tr>\n",
       "      <th>...</th>\n",
       "      <td>...</td>\n",
       "    </tr>\n",
       "    <tr>\n",
       "      <th>2018-08-31 23:10:00</th>\n",
       "      <td>32</td>\n",
       "    </tr>\n",
       "    <tr>\n",
       "      <th>2018-08-31 23:20:00</th>\n",
       "      <td>24</td>\n",
       "    </tr>\n",
       "    <tr>\n",
       "      <th>2018-08-31 23:30:00</th>\n",
       "      <td>27</td>\n",
       "    </tr>\n",
       "    <tr>\n",
       "      <th>2018-08-31 23:40:00</th>\n",
       "      <td>39</td>\n",
       "    </tr>\n",
       "    <tr>\n",
       "      <th>2018-08-31 23:50:00</th>\n",
       "      <td>53</td>\n",
       "    </tr>\n",
       "  </tbody>\n",
       "</table>\n",
       "<p>26496 rows × 1 columns</p>\n",
       "</div>"
      ],
      "text/plain": [
       "                     num_orders\n",
       "datetime                       \n",
       "2018-03-01 00:00:00           9\n",
       "2018-03-01 00:10:00          14\n",
       "2018-03-01 00:20:00          28\n",
       "2018-03-01 00:30:00          20\n",
       "2018-03-01 00:40:00          32\n",
       "...                         ...\n",
       "2018-08-31 23:10:00          32\n",
       "2018-08-31 23:20:00          24\n",
       "2018-08-31 23:30:00          27\n",
       "2018-08-31 23:40:00          39\n",
       "2018-08-31 23:50:00          53\n",
       "\n",
       "[26496 rows x 1 columns]"
      ]
     },
     "metadata": {},
     "output_type": "display_data"
    }
   ],
   "source": [
    "data=data.sort_index(ascending = True)\n",
    "print(data.index.is_monotonic)\n",
    "display(data)"
   ]
  },
  {
   "cell_type": "markdown",
   "metadata": {},
   "source": [
    "Возможно, это окажется ошибкой, но в задании указано, что данные надо прогнозировать на часовой промежуто, поэтому, думаю, нам необходимо сделать промежуток часовым и сгруппировать все данные."
   ]
  },
  {
   "cell_type": "code",
   "execution_count": 5,
   "metadata": {},
   "outputs": [
    {
     "data": {
      "text/html": [
       "<div>\n",
       "<style scoped>\n",
       "    .dataframe tbody tr th:only-of-type {\n",
       "        vertical-align: middle;\n",
       "    }\n",
       "\n",
       "    .dataframe tbody tr th {\n",
       "        vertical-align: top;\n",
       "    }\n",
       "\n",
       "    .dataframe thead th {\n",
       "        text-align: right;\n",
       "    }\n",
       "</style>\n",
       "<table border=\"1\" class=\"dataframe\">\n",
       "  <thead>\n",
       "    <tr style=\"text-align: right;\">\n",
       "      <th></th>\n",
       "      <th>num_orders</th>\n",
       "    </tr>\n",
       "    <tr>\n",
       "      <th>datetime</th>\n",
       "      <th></th>\n",
       "    </tr>\n",
       "  </thead>\n",
       "  <tbody>\n",
       "    <tr>\n",
       "      <th>2018-03-01 00:00:00</th>\n",
       "      <td>124</td>\n",
       "    </tr>\n",
       "    <tr>\n",
       "      <th>2018-03-01 01:00:00</th>\n",
       "      <td>85</td>\n",
       "    </tr>\n",
       "    <tr>\n",
       "      <th>2018-03-01 02:00:00</th>\n",
       "      <td>71</td>\n",
       "    </tr>\n",
       "    <tr>\n",
       "      <th>2018-03-01 03:00:00</th>\n",
       "      <td>66</td>\n",
       "    </tr>\n",
       "    <tr>\n",
       "      <th>2018-03-01 04:00:00</th>\n",
       "      <td>43</td>\n",
       "    </tr>\n",
       "    <tr>\n",
       "      <th>...</th>\n",
       "      <td>...</td>\n",
       "    </tr>\n",
       "    <tr>\n",
       "      <th>2018-08-31 19:00:00</th>\n",
       "      <td>136</td>\n",
       "    </tr>\n",
       "    <tr>\n",
       "      <th>2018-08-31 20:00:00</th>\n",
       "      <td>154</td>\n",
       "    </tr>\n",
       "    <tr>\n",
       "      <th>2018-08-31 21:00:00</th>\n",
       "      <td>159</td>\n",
       "    </tr>\n",
       "    <tr>\n",
       "      <th>2018-08-31 22:00:00</th>\n",
       "      <td>223</td>\n",
       "    </tr>\n",
       "    <tr>\n",
       "      <th>2018-08-31 23:00:00</th>\n",
       "      <td>205</td>\n",
       "    </tr>\n",
       "  </tbody>\n",
       "</table>\n",
       "<p>4416 rows × 1 columns</p>\n",
       "</div>"
      ],
      "text/plain": [
       "                     num_orders\n",
       "datetime                       \n",
       "2018-03-01 00:00:00         124\n",
       "2018-03-01 01:00:00          85\n",
       "2018-03-01 02:00:00          71\n",
       "2018-03-01 03:00:00          66\n",
       "2018-03-01 04:00:00          43\n",
       "...                         ...\n",
       "2018-08-31 19:00:00         136\n",
       "2018-08-31 20:00:00         154\n",
       "2018-08-31 21:00:00         159\n",
       "2018-08-31 22:00:00         223\n",
       "2018-08-31 23:00:00         205\n",
       "\n",
       "[4416 rows x 1 columns]"
      ]
     },
     "metadata": {},
     "output_type": "display_data"
    }
   ],
   "source": [
    "data = data.resample('1H').sum()\n",
    "display(data)"
   ]
  },
  {
   "cell_type": "code",
   "execution_count": 6,
   "metadata": {},
   "outputs": [
    {
     "data": {
      "image/png": "[encoded data removed]",
      "text/plain": [
       "<Figure size 864x432 with 1 Axes>"
      ]
     },
     "metadata": {
      "needs_background": "light"
     },
     "output_type": "display_data"
    }
   ],
   "source": [
    "plt.figure(figsize=(12,6))\n",
    "plt.plot(data.index, data['num_orders'])\n",
    "plt.xlabel('Hour and date')\n",
    "plt.ylabel('Taxi orders')\n",
    "plt.title('Taxi orders on full data', fontsize=16)\n",
    "plt.grid()\n",
    "plt.show()"
   ]
  },
  {
   "cell_type": "markdown",
   "metadata": {},
   "source": [
    "Все там есть - и небольшой восходящий тренд и что-то отдаленно похожее на цикличность, и выбросы."
   ]
  },
  {
   "cell_type": "code",
   "execution_count": 7,
   "metadata": {},
   "outputs": [],
   "source": [
    "data_2m = data['2018-03':'2018-04'].copy()"
   ]
  },
  {
   "cell_type": "code",
   "execution_count": 8,
   "metadata": {},
   "outputs": [],
   "source": [
    "#data['2018-03':'2018-04'].plot(figsize= (12,6))"
   ]
  },
  {
   "cell_type": "code",
   "execution_count": 9,
   "metadata": {},
   "outputs": [
    {
     "data": {
      "image/png": "[encoded data removed]",
      "text/plain": [
       "<Figure size 864x432 with 1 Axes>"
      ]
     },
     "metadata": {
      "needs_background": "light"
     },
     "output_type": "display_data"
    }
   ],
   "source": [
    "plt.figure(figsize=(12,6))\n",
    "plt.plot(data_2m.index, data_2m['num_orders'])\n",
    "plt.xlabel('Hour and date')\n",
    "plt.ylabel('Taxi orders')\n",
    "plt.title('Taxi orders on shorter time span', fontsize=16)\n",
    "plt.grid()\n",
    "plt.show()"
   ]
  },
  {
   "cell_type": "markdown",
   "metadata": {},
   "source": [
    "Есть короткие циклы, есть по-длиннее, возможно, дни недели или выходные в частности имеют какое-то значение. "
   ]
  },
  {
   "cell_type": "markdown",
   "metadata": {},
   "source": [
    "## Анализ"
   ]
  },
  {
   "cell_type": "markdown",
   "metadata": {},
   "source": [
    "Если честно, у меня не было какой-то глобальной идеи, какой анализ тут уместен. Но раз уж есть такое требование, давайте посмотрим скользящую среднюю с разными размерами окна и сделаем сезонную декомпозицию. Затем давайте сделаем категориальные перемнные и попробуем сделать какой-нибудь анализ через призму этих признаков. "
   ]
  },
  {
   "cell_type": "markdown",
   "metadata": {},
   "source": [
    "И начнем мы со скользящей средней. Кстати, давайте сделаем отдельную копию датафрейма, чтобы издеваться над ней как нам заблагорассудится, не заботясь о последствиях. "
   ]
  },
  {
   "cell_type": "code",
   "execution_count": 10,
   "metadata": {},
   "outputs": [
    {
     "data": {
      "text/plain": [
       "<AxesSubplot:title={'center':'Rolling means'}, xlabel='datetime', ylabel='Taxi orders'>"
      ]
     },
     "execution_count": 10,
     "metadata": {},
     "output_type": "execute_result"
    },
    {
     "data": {
      "image/png": "[encoded data removed]",
      "text/plain": [
       "<Figure size 1008x432 with 1 Axes>"
      ]
     },
     "metadata": {
      "needs_background": "light"
     },
     "output_type": "display_data"
    }
   ],
   "source": [
    "data1 = data.copy()\n",
    "data1['rolling_mean_8'] = data1['num_orders'].rolling(8).mean()\n",
    "data1['rolling_mean_24'] = data1['num_orders'].rolling(24).mean()\n",
    "data1['rolling_mean_168'] = data1['num_orders'].rolling(168).mean()\n",
    "data1.plot(figsize = (14, 6), grid=True, ylabel = 'Taxi orders', title = 'Rolling means')"
   ]
  },
  {
   "cell_type": "markdown",
   "metadata": {},
   "source": [
    "Как мы себе и представляли, недельная скользящая средняя показывает наличие тренда. Что как мне кажется, не очень хорошо, так это то, что тренд усиливается ближе к концу периода, что может оказать негативное влияние на прогнозы. Наличие колебаний на дневной скользящей средней можно расценить как возможное наличие некоторой зависимости от дня недели. Довольно большие колебания восьмичасовой скользящей средней указывают, что, скорее всего, влияние оказывают не только пиковые часы, а в опрделенные временные промежутки такси более востребовано, чем в другие."
   ]
  },
  {
   "cell_type": "markdown",
   "metadata": {},
   "source": [
    "Возможно, наш глобальный растущий тренд отражает какую-то сезонность, но в рамках нашего объема данных мы об этом не узнаем. А теперь давайте сделаем сезонную декомпозицию. "
   ]
  },
  {
   "cell_type": "code",
   "execution_count": 11,
   "metadata": {},
   "outputs": [
    {
     "data": {
      "image/png": "[encoded data removed]",
      "text/plain": [
       "<Figure size 864x576 with 3 Axes>"
      ]
     },
     "metadata": {
      "needs_background": "light"
     },
     "output_type": "display_data"
    }
   ],
   "source": [
    "decomposed = seasonal_decompose(data)\n",
    "plt.figure(figsize=(12, 8))\n",
    "plt.subplot(311)\n",
    "decomposed.trend.plot(ax=plt.gca())\n",
    "plt.title('Trend')\n",
    "plt.subplot(312)\n",
    "decomposed.seasonal.plot(ax=plt.gca())\n",
    "plt.title('Seasonality')\n",
    "plt.subplot(313)\n",
    "decomposed.resid.plot(ax=plt.gca()) \n",
    "plt.title('Residuals')\n",
    "plt.tight_layout()"
   ]
  },
  {
   "cell_type": "markdown",
   "metadata": {},
   "source": [
    "Собственно, пока все сходитсяю повышающий тренд есть, ровные линии на втором графике говорят о том, что сезонность точно есть, так что наш алгоритм ее найдет. А остаток декомпозиции, увеличивающийся к концу периода, говорит о том, что модели будет сложнее выдать хороший результат на прогнозе, чем мы думали вначале."
   ]
  },
  {
   "cell_type": "code",
   "execution_count": 12,
   "metadata": {},
   "outputs": [
    {
     "data": {
      "image/png": "[encoded data removed]",
      "text/plain": [
       "<Figure size 864x576 with 3 Axes>"
      ]
     },
     "metadata": {
      "needs_background": "light"
     },
     "output_type": "display_data"
    }
   ],
   "source": [
    "decomposed_2m = seasonal_decompose(data_2m)\n",
    "plt.figure(figsize=(12, 8))\n",
    "plt.subplot(311)\n",
    "decomposed_2m.trend.plot(ax=plt.gca())\n",
    "plt.title('Trend')\n",
    "plt.subplot(312)\n",
    "decomposed_2m.seasonal.plot(ax=plt.gca())\n",
    "plt.title('Seasonality')\n",
    "plt.subplot(313)\n",
    "decomposed_2m.resid.plot(ax=plt.gca()) \n",
    "plt.title('Residuals')\n",
    "plt.tight_layout()"
   ]
  },
  {
   "cell_type": "markdown",
   "metadata": {},
   "source": [
    "А теперь давайте создадим категориальные переменные через функцию и посмотрим, что можно еще можно узнать. Маленький нюанс - сдвиг для средней скользящей, думаю, надо сделать 24, поскольку мы делаем прогноз на следующий день и мы не можем брать какие-либо данные из нового дня."
   ]
  },
  {
   "cell_type": "code",
   "execution_count": 13,
   "metadata": {},
   "outputs": [],
   "source": [
    "def make_features(data, max_lag, rolling_mean_size):\n",
    "    df = data.copy()\n",
    "    df['month'] = df.index.month\n",
    "    df['day'] = df.index.day\n",
    "    df['dayofweek'] = df.index.dayofweek\n",
    "    \n",
    "    for lag in range(3, max_lag + 1,):\n",
    "        df['lag_{}'.format(lag)] = df['num_orders'].shift(lag)\n",
    "\n",
    "    df['rolling_mean'] = df['num_orders'].shift().rolling(rolling_mean_size).mean()\n",
    "    return df"
   ]
  },
  {
   "cell_type": "code",
   "execution_count": 14,
   "metadata": {},
   "outputs": [],
   "source": [
    " #data2 = data.copy()"
   ]
  },
  {
   "cell_type": "code",
   "execution_count": 15,
   "metadata": {},
   "outputs": [
    {
     "data": {
      "text/html": [
       "<div>\n",
       "<style scoped>\n",
       "    .dataframe tbody tr th:only-of-type {\n",
       "        vertical-align: middle;\n",
       "    }\n",
       "\n",
       "    .dataframe tbody tr th {\n",
       "        vertical-align: top;\n",
       "    }\n",
       "\n",
       "    .dataframe thead th {\n",
       "        text-align: right;\n",
       "    }\n",
       "</style>\n",
       "<table border=\"1\" class=\"dataframe\">\n",
       "  <thead>\n",
       "    <tr style=\"text-align: right;\">\n",
       "      <th></th>\n",
       "      <th>num_orders</th>\n",
       "      <th>month</th>\n",
       "      <th>day</th>\n",
       "      <th>dayofweek</th>\n",
       "      <th>lag_3</th>\n",
       "      <th>lag_4</th>\n",
       "      <th>lag_5</th>\n",
       "      <th>lag_6</th>\n",
       "      <th>lag_7</th>\n",
       "      <th>lag_8</th>\n",
       "      <th>...</th>\n",
       "      <th>lag_16</th>\n",
       "      <th>lag_17</th>\n",
       "      <th>lag_18</th>\n",
       "      <th>lag_19</th>\n",
       "      <th>lag_20</th>\n",
       "      <th>lag_21</th>\n",
       "      <th>lag_22</th>\n",
       "      <th>lag_23</th>\n",
       "      <th>lag_24</th>\n",
       "      <th>rolling_mean</th>\n",
       "    </tr>\n",
       "    <tr>\n",
       "      <th>datetime</th>\n",
       "      <th></th>\n",
       "      <th></th>\n",
       "      <th></th>\n",
       "      <th></th>\n",
       "      <th></th>\n",
       "      <th></th>\n",
       "      <th></th>\n",
       "      <th></th>\n",
       "      <th></th>\n",
       "      <th></th>\n",
       "      <th></th>\n",
       "      <th></th>\n",
       "      <th></th>\n",
       "      <th></th>\n",
       "      <th></th>\n",
       "      <th></th>\n",
       "      <th></th>\n",
       "      <th></th>\n",
       "      <th></th>\n",
       "      <th></th>\n",
       "      <th></th>\n",
       "    </tr>\n",
       "  </thead>\n",
       "  <tbody>\n",
       "    <tr>\n",
       "      <th>2018-03-01 00:00:00</th>\n",
       "      <td>124</td>\n",
       "      <td>3</td>\n",
       "      <td>1</td>\n",
       "      <td>3</td>\n",
       "      <td>NaN</td>\n",
       "      <td>NaN</td>\n",
       "      <td>NaN</td>\n",
       "      <td>NaN</td>\n",
       "      <td>NaN</td>\n",
       "      <td>NaN</td>\n",
       "      <td>...</td>\n",
       "      <td>NaN</td>\n",
       "      <td>NaN</td>\n",
       "      <td>NaN</td>\n",
       "      <td>NaN</td>\n",
       "      <td>NaN</td>\n",
       "      <td>NaN</td>\n",
       "      <td>NaN</td>\n",
       "      <td>NaN</td>\n",
       "      <td>NaN</td>\n",
       "      <td>NaN</td>\n",
       "    </tr>\n",
       "    <tr>\n",
       "      <th>2018-03-01 01:00:00</th>\n",
       "      <td>85</td>\n",
       "      <td>3</td>\n",
       "      <td>1</td>\n",
       "      <td>3</td>\n",
       "      <td>NaN</td>\n",
       "      <td>NaN</td>\n",
       "      <td>NaN</td>\n",
       "      <td>NaN</td>\n",
       "      <td>NaN</td>\n",
       "      <td>NaN</td>\n",
       "      <td>...</td>\n",
       "      <td>NaN</td>\n",
       "      <td>NaN</td>\n",
       "      <td>NaN</td>\n",
       "      <td>NaN</td>\n",
       "      <td>NaN</td>\n",
       "      <td>NaN</td>\n",
       "      <td>NaN</td>\n",
       "      <td>NaN</td>\n",
       "      <td>NaN</td>\n",
       "      <td>NaN</td>\n",
       "    </tr>\n",
       "    <tr>\n",
       "      <th>2018-03-01 02:00:00</th>\n",
       "      <td>71</td>\n",
       "      <td>3</td>\n",
       "      <td>1</td>\n",
       "      <td>3</td>\n",
       "      <td>NaN</td>\n",
       "      <td>NaN</td>\n",
       "      <td>NaN</td>\n",
       "      <td>NaN</td>\n",
       "      <td>NaN</td>\n",
       "      <td>NaN</td>\n",
       "      <td>...</td>\n",
       "      <td>NaN</td>\n",
       "      <td>NaN</td>\n",
       "      <td>NaN</td>\n",
       "      <td>NaN</td>\n",
       "      <td>NaN</td>\n",
       "      <td>NaN</td>\n",
       "      <td>NaN</td>\n",
       "      <td>NaN</td>\n",
       "      <td>NaN</td>\n",
       "      <td>NaN</td>\n",
       "    </tr>\n",
       "    <tr>\n",
       "      <th>2018-03-01 03:00:00</th>\n",
       "      <td>66</td>\n",
       "      <td>3</td>\n",
       "      <td>1</td>\n",
       "      <td>3</td>\n",
       "      <td>124.0</td>\n",
       "      <td>NaN</td>\n",
       "      <td>NaN</td>\n",
       "      <td>NaN</td>\n",
       "      <td>NaN</td>\n",
       "      <td>NaN</td>\n",
       "      <td>...</td>\n",
       "      <td>NaN</td>\n",
       "      <td>NaN</td>\n",
       "      <td>NaN</td>\n",
       "      <td>NaN</td>\n",
       "      <td>NaN</td>\n",
       "      <td>NaN</td>\n",
       "      <td>NaN</td>\n",
       "      <td>NaN</td>\n",
       "      <td>NaN</td>\n",
       "      <td>NaN</td>\n",
       "    </tr>\n",
       "    <tr>\n",
       "      <th>2018-03-01 04:00:00</th>\n",
       "      <td>43</td>\n",
       "      <td>3</td>\n",
       "      <td>1</td>\n",
       "      <td>3</td>\n",
       "      <td>85.0</td>\n",
       "      <td>124.0</td>\n",
       "      <td>NaN</td>\n",
       "      <td>NaN</td>\n",
       "      <td>NaN</td>\n",
       "      <td>NaN</td>\n",
       "      <td>...</td>\n",
       "      <td>NaN</td>\n",
       "      <td>NaN</td>\n",
       "      <td>NaN</td>\n",
       "      <td>NaN</td>\n",
       "      <td>NaN</td>\n",
       "      <td>NaN</td>\n",
       "      <td>NaN</td>\n",
       "      <td>NaN</td>\n",
       "      <td>NaN</td>\n",
       "      <td>NaN</td>\n",
       "    </tr>\n",
       "    <tr>\n",
       "      <th>...</th>\n",
       "      <td>...</td>\n",
       "      <td>...</td>\n",
       "      <td>...</td>\n",
       "      <td>...</td>\n",
       "      <td>...</td>\n",
       "      <td>...</td>\n",
       "      <td>...</td>\n",
       "      <td>...</td>\n",
       "      <td>...</td>\n",
       "      <td>...</td>\n",
       "      <td>...</td>\n",
       "      <td>...</td>\n",
       "      <td>...</td>\n",
       "      <td>...</td>\n",
       "      <td>...</td>\n",
       "      <td>...</td>\n",
       "      <td>...</td>\n",
       "      <td>...</td>\n",
       "      <td>...</td>\n",
       "      <td>...</td>\n",
       "      <td>...</td>\n",
       "    </tr>\n",
       "    <tr>\n",
       "      <th>2018-08-31 19:00:00</th>\n",
       "      <td>136</td>\n",
       "      <td>8</td>\n",
       "      <td>31</td>\n",
       "      <td>4</td>\n",
       "      <td>197.0</td>\n",
       "      <td>116.0</td>\n",
       "      <td>133.0</td>\n",
       "      <td>166.0</td>\n",
       "      <td>136.0</td>\n",
       "      <td>167.0</td>\n",
       "      <td>...</td>\n",
       "      <td>99.0</td>\n",
       "      <td>230.0</td>\n",
       "      <td>194.0</td>\n",
       "      <td>276.0</td>\n",
       "      <td>246.0</td>\n",
       "      <td>158.0</td>\n",
       "      <td>198.0</td>\n",
       "      <td>142.0</td>\n",
       "      <td>72.0</td>\n",
       "      <td>164.875000</td>\n",
       "    </tr>\n",
       "    <tr>\n",
       "      <th>2018-08-31 20:00:00</th>\n",
       "      <td>154</td>\n",
       "      <td>8</td>\n",
       "      <td>31</td>\n",
       "      <td>4</td>\n",
       "      <td>217.0</td>\n",
       "      <td>197.0</td>\n",
       "      <td>116.0</td>\n",
       "      <td>133.0</td>\n",
       "      <td>166.0</td>\n",
       "      <td>136.0</td>\n",
       "      <td>...</td>\n",
       "      <td>268.0</td>\n",
       "      <td>99.0</td>\n",
       "      <td>230.0</td>\n",
       "      <td>194.0</td>\n",
       "      <td>276.0</td>\n",
       "      <td>246.0</td>\n",
       "      <td>158.0</td>\n",
       "      <td>198.0</td>\n",
       "      <td>142.0</td>\n",
       "      <td>167.541667</td>\n",
       "    </tr>\n",
       "    <tr>\n",
       "      <th>2018-08-31 21:00:00</th>\n",
       "      <td>159</td>\n",
       "      <td>8</td>\n",
       "      <td>31</td>\n",
       "      <td>4</td>\n",
       "      <td>207.0</td>\n",
       "      <td>217.0</td>\n",
       "      <td>197.0</td>\n",
       "      <td>116.0</td>\n",
       "      <td>133.0</td>\n",
       "      <td>166.0</td>\n",
       "      <td>...</td>\n",
       "      <td>78.0</td>\n",
       "      <td>268.0</td>\n",
       "      <td>99.0</td>\n",
       "      <td>230.0</td>\n",
       "      <td>194.0</td>\n",
       "      <td>276.0</td>\n",
       "      <td>246.0</td>\n",
       "      <td>158.0</td>\n",
       "      <td>198.0</td>\n",
       "      <td>168.041667</td>\n",
       "    </tr>\n",
       "    <tr>\n",
       "      <th>2018-08-31 22:00:00</th>\n",
       "      <td>223</td>\n",
       "      <td>8</td>\n",
       "      <td>31</td>\n",
       "      <td>4</td>\n",
       "      <td>136.0</td>\n",
       "      <td>207.0</td>\n",
       "      <td>217.0</td>\n",
       "      <td>197.0</td>\n",
       "      <td>116.0</td>\n",
       "      <td>133.0</td>\n",
       "      <td>...</td>\n",
       "      <td>35.0</td>\n",
       "      <td>78.0</td>\n",
       "      <td>268.0</td>\n",
       "      <td>99.0</td>\n",
       "      <td>230.0</td>\n",
       "      <td>194.0</td>\n",
       "      <td>276.0</td>\n",
       "      <td>246.0</td>\n",
       "      <td>158.0</td>\n",
       "      <td>166.416667</td>\n",
       "    </tr>\n",
       "    <tr>\n",
       "      <th>2018-08-31 23:00:00</th>\n",
       "      <td>205</td>\n",
       "      <td>8</td>\n",
       "      <td>31</td>\n",
       "      <td>4</td>\n",
       "      <td>154.0</td>\n",
       "      <td>136.0</td>\n",
       "      <td>207.0</td>\n",
       "      <td>217.0</td>\n",
       "      <td>197.0</td>\n",
       "      <td>116.0</td>\n",
       "      <td>...</td>\n",
       "      <td>46.0</td>\n",
       "      <td>35.0</td>\n",
       "      <td>78.0</td>\n",
       "      <td>268.0</td>\n",
       "      <td>99.0</td>\n",
       "      <td>230.0</td>\n",
       "      <td>194.0</td>\n",
       "      <td>276.0</td>\n",
       "      <td>246.0</td>\n",
       "      <td>169.125000</td>\n",
       "    </tr>\n",
       "  </tbody>\n",
       "</table>\n",
       "<p>4416 rows × 27 columns</p>\n",
       "</div>"
      ],
      "text/plain": [
       "                     num_orders  month  day  dayofweek  lag_3  lag_4  lag_5  \\\n",
       "datetime                                                                      \n",
       "2018-03-01 00:00:00         124      3    1          3    NaN    NaN    NaN   \n",
       "2018-03-01 01:00:00          85      3    1          3    NaN    NaN    NaN   \n",
       "2018-03-01 02:00:00          71      3    1          3    NaN    NaN    NaN   \n",
       "2018-03-01 03:00:00          66      3    1          3  124.0    NaN    NaN   \n",
       "2018-03-01 04:00:00          43      3    1          3   85.0  124.0    NaN   \n",
       "...                         ...    ...  ...        ...    ...    ...    ...   \n",
       "2018-08-31 19:00:00         136      8   31          4  197.0  116.0  133.0   \n",
       "2018-08-31 20:00:00         154      8   31          4  217.0  197.0  116.0   \n",
       "2018-08-31 21:00:00         159      8   31          4  207.0  217.0  197.0   \n",
       "2018-08-31 22:00:00         223      8   31          4  136.0  207.0  217.0   \n",
       "2018-08-31 23:00:00         205      8   31          4  154.0  136.0  207.0   \n",
       "\n",
       "                     lag_6  lag_7  lag_8  ...  lag_16  lag_17  lag_18  lag_19  \\\n",
       "datetime                                  ...                                   \n",
       "2018-03-01 00:00:00    NaN    NaN    NaN  ...     NaN     NaN     NaN     NaN   \n",
       "2018-03-01 01:00:00    NaN    NaN    NaN  ...     NaN     NaN     NaN     NaN   \n",
       "2018-03-01 02:00:00    NaN    NaN    NaN  ...     NaN     NaN     NaN     NaN   \n",
       "2018-03-01 03:00:00    NaN    NaN    NaN  ...     NaN     NaN     NaN     NaN   \n",
       "2018-03-01 04:00:00    NaN    NaN    NaN  ...     NaN     NaN     NaN     NaN   \n",
       "...                    ...    ...    ...  ...     ...     ...     ...     ...   \n",
       "2018-08-31 19:00:00  166.0  136.0  167.0  ...    99.0   230.0   194.0   276.0   \n",
       "2018-08-31 20:00:00  133.0  166.0  136.0  ...   268.0    99.0   230.0   194.0   \n",
       "2018-08-31 21:00:00  116.0  133.0  166.0  ...    78.0   268.0    99.0   230.0   \n",
       "2018-08-31 22:00:00  197.0  116.0  133.0  ...    35.0    78.0   268.0    99.0   \n",
       "2018-08-31 23:00:00  217.0  197.0  116.0  ...    46.0    35.0    78.0   268.0   \n",
       "\n",
       "                     lag_20  lag_21  lag_22  lag_23  lag_24  rolling_mean  \n",
       "datetime                                                                   \n",
       "2018-03-01 00:00:00     NaN     NaN     NaN     NaN     NaN           NaN  \n",
       "2018-03-01 01:00:00     NaN     NaN     NaN     NaN     NaN           NaN  \n",
       "2018-03-01 02:00:00     NaN     NaN     NaN     NaN     NaN           NaN  \n",
       "2018-03-01 03:00:00     NaN     NaN     NaN     NaN     NaN           NaN  \n",
       "2018-03-01 04:00:00     NaN     NaN     NaN     NaN     NaN           NaN  \n",
       "...                     ...     ...     ...     ...     ...           ...  \n",
       "2018-08-31 19:00:00   246.0   158.0   198.0   142.0    72.0    164.875000  \n",
       "2018-08-31 20:00:00   276.0   246.0   158.0   198.0   142.0    167.541667  \n",
       "2018-08-31 21:00:00   194.0   276.0   246.0   158.0   198.0    168.041667  \n",
       "2018-08-31 22:00:00   230.0   194.0   276.0   246.0   158.0    166.416667  \n",
       "2018-08-31 23:00:00    99.0   230.0   194.0   276.0   246.0    169.125000  \n",
       "\n",
       "[4416 rows x 27 columns]"
      ]
     },
     "metadata": {},
     "output_type": "display_data"
    }
   ],
   "source": [
    "data2 = make_features(data, 24, 24)\n",
    "display(data2)"
   ]
  },
  {
   "cell_type": "code",
   "execution_count": 16,
   "metadata": {},
   "outputs": [
    {
     "name": "stdout",
     "output_type": "stream",
     "text": [
      "day\n",
      "1      72.347222\n",
      "2      76.756944\n",
      "3      73.090278\n",
      "4      72.479167\n",
      "5      68.965278\n",
      "6      78.090278\n",
      "7      75.826389\n",
      "8      77.652778\n",
      "9      77.541667\n",
      "10     79.215278\n",
      "11     81.986111\n",
      "12     82.312500\n",
      "13     89.763889\n",
      "14     85.208333\n",
      "15     81.597222\n",
      "16     86.895833\n",
      "17     83.548611\n",
      "18     87.409722\n",
      "19     81.645833\n",
      "20     90.875000\n",
      "21     84.576389\n",
      "22     85.291667\n",
      "23     93.437500\n",
      "24     91.375000\n",
      "25     92.409722\n",
      "26     89.631944\n",
      "27     96.520833\n",
      "28     93.638889\n",
      "29     92.680556\n",
      "30     97.534722\n",
      "31    102.989583\n",
      "Name: num_orders, dtype: float64\n",
      "dayofweek\n",
      "0    90.246795\n",
      "1    77.011218\n",
      "2    83.754808\n",
      "3    85.660494\n",
      "4    91.140432\n",
      "5    83.847756\n",
      "6    78.991987\n",
      "Name: num_orders, dtype: float64\n"
     ]
    }
   ],
   "source": [
    "print(data2.groupby('day')['num_orders'].mean())\n",
    "print(data2.groupby('dayofweek')['num_orders'].mean())"
   ]
  },
  {
   "cell_type": "markdown",
   "metadata": {},
   "source": [
    "в конце месяца больше закзов, чем в начале. Самые загруженные дни - понедельник и пятница, а самые незагруженные - вторник и воскресенье. "
   ]
  },
  {
   "cell_type": "markdown",
   "metadata": {},
   "source": [
    "## Обучение"
   ]
  },
  {
   "cell_type": "markdown",
   "metadata": {},
   "source": [
    "Ладненько, кое-что мы все-таки узнали, так что теперь давайте построим пару моделей. Можно начать с регрессии, как самой простой, чтобы быстро получить ориентир. А если результат будет неудовлетворительным, сделаем сразу бустниг и это уж точно нам даст качество прогноза."
   ]
  },
  {
   "cell_type": "code",
   "execution_count": 17,
   "metadata": {},
   "outputs": [],
   "source": [
    "data_for_train = make_features(data, 24, 12)"
   ]
  },
  {
   "cell_type": "code",
   "execution_count": 18,
   "metadata": {},
   "outputs": [
    {
     "name": "stdout",
     "output_type": "stream",
     "text": [
      "RMSE обучающей выборки: 24.488623397182888\n",
      "RMSE валидационной выборки: 33.27464014319134\n"
     ]
    }
   ],
   "source": [
    "train, test = train_test_split(data_for_train, shuffle=False, test_size=0.1)\n",
    "train, valid = train_test_split(train, shuffle=False, test_size=0.15)\n",
    "train = train.dropna()\n",
    "\n",
    "x_train = train.drop(['num_orders'], axis=1)\n",
    "y_train = train['num_orders']\n",
    "\n",
    "x_valid = valid.drop(['num_orders'], axis=1)\n",
    "y_valid = valid['num_orders']\n",
    "\n",
    "x_test = test.drop(['num_orders'], axis=1)\n",
    "y_test = test['num_orders']\n",
    "\n",
    "regression = LinearRegression()\n",
    "\n",
    "regression.fit(x_train, y_train)\n",
    "\n",
    "print(\"RMSE обучающей выборки:\", mean_squared_error(y_train, regression.predict(x_train))**0.5)\n",
    "print(\"RMSE валидационной выборки:\", mean_squared_error(y_valid, regression.predict(x_valid))**0.5)"
   ]
  },
  {
   "cell_type": "markdown",
   "metadata": {},
   "source": [
    "Хм, довольно неплохо и качество лучше минимально приемлемого. Если мы нигде не схалтурили, то результат вполне достойный. Давайте теперь попробуем бустинг."
   ]
  },
  {
   "cell_type": "code",
   "execution_count": 19,
   "metadata": {},
   "outputs": [],
   "source": [
    "best_rfr = None\n",
    "best_result = 99999999\n",
    "best_est = 0\n",
    "best_depth = 0"
   ]
  },
  {
   "cell_type": "code",
   "execution_count": 20,
   "metadata": {},
   "outputs": [
    {
     "name": "stdout",
     "output_type": "stream",
     "text": [
      "RMSE наилучшей модели на валидационной выборке: 34.25418206440946 Количество деревьев: 36 Глубина: 9\n",
      "CPU times: user 32.6 s, sys: 41.6 ms, total: 32.6 s\n",
      "Wall time: 32.7 s\n"
     ]
    }
   ],
   "source": [
    "%%time\n",
    "for est in range(1, 51, 5):\n",
    "    for depth in range(1,10):\n",
    "        rfr = RandomForestRegressor(random_state=1984, n_estimators=est, max_depth=depth)\n",
    "        rfr.fit(x_train, y_train)\n",
    "        result = mean_squared_error(y_valid, rfr.predict(x_valid))**0.5\n",
    "        if result < best_result:\n",
    "            best_rfr = rfr\n",
    "            best_result = result\n",
    "            best_est = est\n",
    "            best_depth = depth\n",
    "print(\"RMSE наилучшей модели на валидационной выборке:\", \n",
    "      best_result, \"Количество деревьев:\", best_est, \"Глубина:\", best_depth)"
   ]
  },
  {
   "cell_type": "code",
   "execution_count": 21,
   "metadata": {},
   "outputs": [
    {
     "name": "stdout",
     "output_type": "stream",
     "text": [
      "<class 'pandas.core.frame.DataFrame'>\n",
      "DatetimeIndex: 3353 entries, 2018-03-02 00:00:00 to 2018-07-19 16:00:00\n",
      "Freq: H\n",
      "Data columns (total 26 columns):\n",
      " #   Column        Non-Null Count  Dtype  \n",
      "---  ------        --------------  -----  \n",
      " 0   month         3353 non-null   int64  \n",
      " 1   day           3353 non-null   int64  \n",
      " 2   dayofweek     3353 non-null   int64  \n",
      " 3   lag_3         3353 non-null   float64\n",
      " 4   lag_4         3353 non-null   float64\n",
      " 5   lag_5         3353 non-null   float64\n",
      " 6   lag_6         3353 non-null   float64\n",
      " 7   lag_7         3353 non-null   float64\n",
      " 8   lag_8         3353 non-null   float64\n",
      " 9   lag_9         3353 non-null   float64\n",
      " 10  lag_10        3353 non-null   float64\n",
      " 11  lag_11        3353 non-null   float64\n",
      " 12  lag_12        3353 non-null   float64\n",
      " 13  lag_13        3353 non-null   float64\n",
      " 14  lag_14        3353 non-null   float64\n",
      " 15  lag_15        3353 non-null   float64\n",
      " 16  lag_16        3353 non-null   float64\n",
      " 17  lag_17        3353 non-null   float64\n",
      " 18  lag_18        3353 non-null   float64\n",
      " 19  lag_19        3353 non-null   float64\n",
      " 20  lag_20        3353 non-null   float64\n",
      " 21  lag_21        3353 non-null   float64\n",
      " 22  lag_22        3353 non-null   float64\n",
      " 23  lag_23        3353 non-null   float64\n",
      " 24  lag_24        3353 non-null   float64\n",
      " 25  rolling_mean  3353 non-null   float64\n",
      "dtypes: float64(23), int64(3)\n",
      "memory usage: 707.3 KB\n"
     ]
    }
   ],
   "source": [
    "x_train.info()"
   ]
  },
  {
   "cell_type": "code",
   "execution_count": 22,
   "metadata": {},
   "outputs": [],
   "source": [
    "categorical_features = [0, 1, 2]"
   ]
  },
  {
   "cell_type": "code",
   "execution_count": 23,
   "metadata": {},
   "outputs": [],
   "source": [
    "train_data = lgb.Dataset(x_train, label=y_train, categorical_feature=categorical_features, free_raw_data=False)\n",
    "valid_data = lgb.Dataset(x_valid, label=y_valid, categorical_feature=categorical_features, free_raw_data=False)\n",
    "test_data = lgb.Dataset(x_test, label=y_test, categorical_feature=categorical_features, free_raw_data=False)"
   ]
  },
  {
   "cell_type": "code",
   "execution_count": 24,
   "metadata": {
    "scrolled": true
   },
   "outputs": [
    {
     "name": "stdout",
     "output_type": "stream",
     "text": [
      "[1]\ttraining's rmse: 34.1422\tvalid_1's rmse: 55.1042\n",
      "Training until validation scores don't improve for 100 rounds\n"
     ]
    },
    {
     "name": "stderr",
     "output_type": "stream",
     "text": [
      "/opt/conda/lib/python3.9/site-packages/lightgbm/engine.py:181: UserWarning: 'early_stopping_rounds' argument is deprecated and will be removed in a future release of LightGBM. Pass 'early_stopping()' callback via 'callbacks' argument instead.\n",
      "  _log_warning(\"'early_stopping_rounds' argument is deprecated and will be removed in a future release of LightGBM. \"\n",
      "/opt/conda/lib/python3.9/site-packages/lightgbm/basic.py:2065: UserWarning: Using categorical_feature in Dataset.\n",
      "  _log_warning('Using categorical_feature in Dataset.')\n",
      "/opt/conda/lib/python3.9/site-packages/lightgbm/basic.py:1780: UserWarning: Overriding the parameters from Reference Dataset.\n",
      "  _log_warning('Overriding the parameters from Reference Dataset.')\n",
      "/opt/conda/lib/python3.9/site-packages/lightgbm/basic.py:1513: UserWarning: categorical_column in param dict is overridden.\n",
      "  _log_warning(f'{cat_alias} in param dict is overridden.')\n"
     ]
    },
    {
     "name": "stdout",
     "output_type": "stream",
     "text": [
      "[2]\ttraining's rmse: 33.3031\tvalid_1's rmse: 53.9231\n",
      "[3]\ttraining's rmse: 32.5209\tvalid_1's rmse: 52.7991\n",
      "[4]\ttraining's rmse: 31.7616\tvalid_1's rmse: 51.7844\n",
      "[5]\ttraining's rmse: 31.0766\tvalid_1's rmse: 50.9074\n",
      "[6]\ttraining's rmse: 30.4152\tvalid_1's rmse: 50.1299\n",
      "[7]\ttraining's rmse: 29.8115\tvalid_1's rmse: 49.4577\n",
      "[8]\ttraining's rmse: 29.2435\tvalid_1's rmse: 48.7051\n",
      "[9]\ttraining's rmse: 28.7153\tvalid_1's rmse: 47.9984\n",
      "[10]\ttraining's rmse: 28.2237\tvalid_1's rmse: 47.3636\n",
      "[11]\ttraining's rmse: 27.7504\tvalid_1's rmse: 46.822\n",
      "[12]\ttraining's rmse: 27.3207\tvalid_1's rmse: 46.2565\n",
      "[13]\ttraining's rmse: 26.9176\tvalid_1's rmse: 45.791\n",
      "[14]\ttraining's rmse: 26.5368\tvalid_1's rmse: 45.265\n",
      "[15]\ttraining's rmse: 26.185\tvalid_1's rmse: 44.7979\n",
      "[16]\ttraining's rmse: 25.8669\tvalid_1's rmse: 44.4583\n",
      "[17]\ttraining's rmse: 25.5689\tvalid_1's rmse: 44.0205\n",
      "[18]\ttraining's rmse: 25.2794\tvalid_1's rmse: 43.6954\n",
      "[19]\ttraining's rmse: 24.9948\tvalid_1's rmse: 43.3565\n",
      "[20]\ttraining's rmse: 24.7392\tvalid_1's rmse: 43.0317\n",
      "[21]\ttraining's rmse: 24.4601\tvalid_1's rmse: 42.677\n",
      "[22]\ttraining's rmse: 24.2086\tvalid_1's rmse: 42.3194\n",
      "[23]\ttraining's rmse: 23.9852\tvalid_1's rmse: 41.9566\n",
      "[24]\ttraining's rmse: 23.7668\tvalid_1's rmse: 41.5553\n",
      "[25]\ttraining's rmse: 23.5653\tvalid_1's rmse: 41.1674\n",
      "[26]\ttraining's rmse: 23.3813\tvalid_1's rmse: 40.9539\n",
      "[27]\ttraining's rmse: 23.2059\tvalid_1's rmse: 40.6752\n",
      "[28]\ttraining's rmse: 23.0365\tvalid_1's rmse: 40.4388\n",
      "[29]\ttraining's rmse: 22.884\tvalid_1's rmse: 40.1952\n",
      "[30]\ttraining's rmse: 22.728\tvalid_1's rmse: 39.8912\n",
      "[31]\ttraining's rmse: 22.5828\tvalid_1's rmse: 39.7077\n",
      "[32]\ttraining's rmse: 22.4461\tvalid_1's rmse: 39.4145\n",
      "[33]\ttraining's rmse: 22.3203\tvalid_1's rmse: 39.2736\n",
      "[34]\ttraining's rmse: 22.1992\tvalid_1's rmse: 39.0116\n",
      "[35]\ttraining's rmse: 22.0851\tvalid_1's rmse: 38.8623\n",
      "[36]\ttraining's rmse: 21.9583\tvalid_1's rmse: 38.7864\n",
      "[37]\ttraining's rmse: 21.8522\tvalid_1's rmse: 38.6692\n",
      "[38]\ttraining's rmse: 21.7402\tvalid_1's rmse: 38.531\n",
      "[39]\ttraining's rmse: 21.64\tvalid_1's rmse: 38.254\n",
      "[40]\ttraining's rmse: 21.5421\tvalid_1's rmse: 38.006\n",
      "[41]\ttraining's rmse: 21.4262\tvalid_1's rmse: 37.7883\n",
      "[42]\ttraining's rmse: 21.3215\tvalid_1's rmse: 37.5978\n",
      "[43]\ttraining's rmse: 21.2267\tvalid_1's rmse: 37.4345\n",
      "[44]\ttraining's rmse: 21.1237\tvalid_1's rmse: 37.4333\n",
      "[45]\ttraining's rmse: 21.0265\tvalid_1's rmse: 37.3527\n",
      "[46]\ttraining's rmse: 20.9384\tvalid_1's rmse: 37.3797\n",
      "[47]\ttraining's rmse: 20.8483\tvalid_1's rmse: 37.3806\n",
      "[48]\ttraining's rmse: 20.7707\tvalid_1's rmse: 37.3668\n",
      "[49]\ttraining's rmse: 20.6996\tvalid_1's rmse: 37.29\n",
      "[50]\ttraining's rmse: 20.6276\tvalid_1's rmse: 37.2135\n",
      "[51]\ttraining's rmse: 20.5512\tvalid_1's rmse: 37.1152\n",
      "[52]\ttraining's rmse: 20.4766\tvalid_1's rmse: 37.0428\n",
      "[53]\ttraining's rmse: 20.4012\tvalid_1's rmse: 36.9282\n",
      "[54]\ttraining's rmse: 20.3289\tvalid_1's rmse: 36.8528\n",
      "[55]\ttraining's rmse: 20.2613\tvalid_1's rmse: 36.7169\n",
      "[56]\ttraining's rmse: 20.1931\tvalid_1's rmse: 36.5765\n",
      "[57]\ttraining's rmse: 20.1384\tvalid_1's rmse: 36.5406\n",
      "[58]\ttraining's rmse: 20.073\tvalid_1's rmse: 36.4487\n",
      "[59]\ttraining's rmse: 20.0078\tvalid_1's rmse: 36.2828\n",
      "[60]\ttraining's rmse: 19.9461\tvalid_1's rmse: 36.2055\n",
      "[61]\ttraining's rmse: 19.8737\tvalid_1's rmse: 36.1847\n",
      "[62]\ttraining's rmse: 19.8112\tvalid_1's rmse: 36.1316\n",
      "[63]\ttraining's rmse: 19.7492\tvalid_1's rmse: 36.0547\n",
      "[64]\ttraining's rmse: 19.6933\tvalid_1's rmse: 36.0008\n",
      "[65]\ttraining's rmse: 19.6299\tvalid_1's rmse: 35.9696\n",
      "[66]\ttraining's rmse: 19.5714\tvalid_1's rmse: 35.9594\n",
      "[67]\ttraining's rmse: 19.5132\tvalid_1's rmse: 35.9402\n",
      "[68]\ttraining's rmse: 19.4564\tvalid_1's rmse: 35.9368\n",
      "[69]\ttraining's rmse: 19.4095\tvalid_1's rmse: 35.9324\n",
      "[70]\ttraining's rmse: 19.3553\tvalid_1's rmse: 35.883\n",
      "[71]\ttraining's rmse: 19.2926\tvalid_1's rmse: 35.7744\n",
      "[72]\ttraining's rmse: 19.2396\tvalid_1's rmse: 35.7642\n",
      "[73]\ttraining's rmse: 19.1884\tvalid_1's rmse: 35.759\n",
      "[74]\ttraining's rmse: 19.1413\tvalid_1's rmse: 35.7539\n",
      "[75]\ttraining's rmse: 19.0906\tvalid_1's rmse: 35.639\n",
      "[76]\ttraining's rmse: 19.0392\tvalid_1's rmse: 35.6034\n",
      "[77]\ttraining's rmse: 18.9984\tvalid_1's rmse: 35.5647\n",
      "[78]\ttraining's rmse: 18.9521\tvalid_1's rmse: 35.5714\n",
      "[79]\ttraining's rmse: 18.9068\tvalid_1's rmse: 35.5903\n",
      "[80]\ttraining's rmse: 18.8586\tvalid_1's rmse: 35.5708\n",
      "[81]\ttraining's rmse: 18.8155\tvalid_1's rmse: 35.5476\n",
      "[82]\ttraining's rmse: 18.7707\tvalid_1's rmse: 35.5366\n",
      "[83]\ttraining's rmse: 18.7313\tvalid_1's rmse: 35.4915\n",
      "[84]\ttraining's rmse: 18.6847\tvalid_1's rmse: 35.4607\n",
      "[85]\ttraining's rmse: 18.6419\tvalid_1's rmse: 35.4479\n",
      "[86]\ttraining's rmse: 18.5979\tvalid_1's rmse: 35.4398\n",
      "[87]\ttraining's rmse: 18.5626\tvalid_1's rmse: 35.4619\n",
      "[88]\ttraining's rmse: 18.5285\tvalid_1's rmse: 35.4564\n",
      "[89]\ttraining's rmse: 18.4787\tvalid_1's rmse: 35.4444\n",
      "[90]\ttraining's rmse: 18.4374\tvalid_1's rmse: 35.4131\n",
      "[91]\ttraining's rmse: 18.3981\tvalid_1's rmse: 35.3611\n",
      "[92]\ttraining's rmse: 18.3539\tvalid_1's rmse: 35.3496\n",
      "[93]\ttraining's rmse: 18.3075\tvalid_1's rmse: 35.3254\n",
      "[94]\ttraining's rmse: 18.2583\tvalid_1's rmse: 35.3306\n",
      "[95]\ttraining's rmse: 18.2265\tvalid_1's rmse: 35.3166\n",
      "[96]\ttraining's rmse: 18.1846\tvalid_1's rmse: 35.3004\n",
      "[97]\ttraining's rmse: 18.1371\tvalid_1's rmse: 35.3047\n",
      "[98]\ttraining's rmse: 18.1026\tvalid_1's rmse: 35.2385\n",
      "[99]\ttraining's rmse: 18.0528\tvalid_1's rmse: 35.2419\n",
      "[100]\ttraining's rmse: 18.0054\tvalid_1's rmse: 35.2648\n",
      "[101]\ttraining's rmse: 17.9699\tvalid_1's rmse: 35.3006\n",
      "[102]\ttraining's rmse: 17.9319\tvalid_1's rmse: 35.3122\n",
      "[103]\ttraining's rmse: 17.8947\tvalid_1's rmse: 35.3337\n",
      "[104]\ttraining's rmse: 17.861\tvalid_1's rmse: 35.2463\n",
      "[105]\ttraining's rmse: 17.8233\tvalid_1's rmse: 35.2115\n",
      "[106]\ttraining's rmse: 17.7949\tvalid_1's rmse: 35.1639\n",
      "[107]\ttraining's rmse: 17.7634\tvalid_1's rmse: 35.1221\n",
      "[108]\ttraining's rmse: 17.7277\tvalid_1's rmse: 35.0864\n",
      "[109]\ttraining's rmse: 17.6949\tvalid_1's rmse: 35.0925\n",
      "[110]\ttraining's rmse: 17.6592\tvalid_1's rmse: 35.1093\n",
      "[111]\ttraining's rmse: 17.6197\tvalid_1's rmse: 35.0772\n",
      "[112]\ttraining's rmse: 17.5828\tvalid_1's rmse: 35.0514\n",
      "[113]\ttraining's rmse: 17.5432\tvalid_1's rmse: 35.061\n",
      "[114]\ttraining's rmse: 17.508\tvalid_1's rmse: 35.0561\n",
      "[115]\ttraining's rmse: 17.4759\tvalid_1's rmse: 35.0812\n",
      "[116]\ttraining's rmse: 17.4414\tvalid_1's rmse: 35.0947\n",
      "[117]\ttraining's rmse: 17.4134\tvalid_1's rmse: 35.0833\n",
      "[118]\ttraining's rmse: 17.3806\tvalid_1's rmse: 35.0387\n",
      "[119]\ttraining's rmse: 17.349\tvalid_1's rmse: 35.0477\n",
      "[120]\ttraining's rmse: 17.3152\tvalid_1's rmse: 35.0609\n",
      "[121]\ttraining's rmse: 17.2874\tvalid_1's rmse: 35.0445\n",
      "[122]\ttraining's rmse: 17.2497\tvalid_1's rmse: 35.0611\n",
      "[123]\ttraining's rmse: 17.2146\tvalid_1's rmse: 35.0467\n",
      "[124]\ttraining's rmse: 17.1894\tvalid_1's rmse: 35.0256\n",
      "[125]\ttraining's rmse: 17.1548\tvalid_1's rmse: 35.0155\n",
      "[126]\ttraining's rmse: 17.1281\tvalid_1's rmse: 34.9837\n",
      "[127]\ttraining's rmse: 17.0953\tvalid_1's rmse: 34.9591\n",
      "[128]\ttraining's rmse: 17.0667\tvalid_1's rmse: 34.9517\n",
      "[129]\ttraining's rmse: 17.028\tvalid_1's rmse: 34.8903\n",
      "[130]\ttraining's rmse: 16.9965\tvalid_1's rmse: 34.851\n",
      "[131]\ttraining's rmse: 16.9693\tvalid_1's rmse: 34.8456\n",
      "[132]\ttraining's rmse: 16.9403\tvalid_1's rmse: 34.8489\n",
      "[133]\ttraining's rmse: 16.9134\tvalid_1's rmse: 34.8584\n",
      "[134]\ttraining's rmse: 16.8842\tvalid_1's rmse: 34.8678\n",
      "[135]\ttraining's rmse: 16.8594\tvalid_1's rmse: 34.8796\n",
      "[136]\ttraining's rmse: 16.83\tvalid_1's rmse: 34.9136\n",
      "[137]\ttraining's rmse: 16.8036\tvalid_1's rmse: 34.9475\n",
      "[138]\ttraining's rmse: 16.7701\tvalid_1's rmse: 34.916\n",
      "[139]\ttraining's rmse: 16.7462\tvalid_1's rmse: 34.9356\n",
      "[140]\ttraining's rmse: 16.7172\tvalid_1's rmse: 34.9642\n",
      "[141]\ttraining's rmse: 16.6877\tvalid_1's rmse: 34.9697\n",
      "[142]\ttraining's rmse: 16.6596\tvalid_1's rmse: 34.9779\n",
      "[143]\ttraining's rmse: 16.6267\tvalid_1's rmse: 34.9689\n",
      "[144]\ttraining's rmse: 16.5947\tvalid_1's rmse: 34.9711\n",
      "[145]\ttraining's rmse: 16.5631\tvalid_1's rmse: 34.9658\n",
      "[146]\ttraining's rmse: 16.5309\tvalid_1's rmse: 34.9598\n",
      "[147]\ttraining's rmse: 16.4976\tvalid_1's rmse: 34.933\n",
      "[148]\ttraining's rmse: 16.4655\tvalid_1's rmse: 34.9507\n",
      "[149]\ttraining's rmse: 16.4367\tvalid_1's rmse: 34.9574\n",
      "[150]\ttraining's rmse: 16.4083\tvalid_1's rmse: 34.9612\n",
      "[151]\ttraining's rmse: 16.3743\tvalid_1's rmse: 34.9423\n",
      "[152]\ttraining's rmse: 16.3449\tvalid_1's rmse: 34.9195\n",
      "[153]\ttraining's rmse: 16.3174\tvalid_1's rmse: 34.9239\n",
      "[154]\ttraining's rmse: 16.292\tvalid_1's rmse: 34.942\n",
      "[155]\ttraining's rmse: 16.2596\tvalid_1's rmse: 34.9148\n",
      "[156]\ttraining's rmse: 16.2311\tvalid_1's rmse: 34.9453\n",
      "[157]\ttraining's rmse: 16.2072\tvalid_1's rmse: 34.9744\n",
      "[158]\ttraining's rmse: 16.1806\tvalid_1's rmse: 34.9742\n",
      "[159]\ttraining's rmse: 16.1516\tvalid_1's rmse: 34.9655\n",
      "[160]\ttraining's rmse: 16.1237\tvalid_1's rmse: 35.0041\n",
      "[161]\ttraining's rmse: 16.0986\tvalid_1's rmse: 34.9905\n",
      "[162]\ttraining's rmse: 16.0695\tvalid_1's rmse: 34.9884\n",
      "[163]\ttraining's rmse: 16.0336\tvalid_1's rmse: 34.987\n",
      "[164]\ttraining's rmse: 16.005\tvalid_1's rmse: 35.0208\n",
      "[165]\ttraining's rmse: 15.9885\tvalid_1's rmse: 35.0037\n",
      "[166]\ttraining's rmse: 15.9596\tvalid_1's rmse: 34.9829\n",
      "[167]\ttraining's rmse: 15.9364\tvalid_1's rmse: 34.9753\n",
      "[168]\ttraining's rmse: 15.9033\tvalid_1's rmse: 34.9896\n",
      "[169]\ttraining's rmse: 15.8802\tvalid_1's rmse: 34.9854\n",
      "[170]\ttraining's rmse: 15.8525\tvalid_1's rmse: 34.9799\n",
      "[171]\ttraining's rmse: 15.823\tvalid_1's rmse: 34.9839\n",
      "[172]\ttraining's rmse: 15.7932\tvalid_1's rmse: 34.988\n",
      "[173]\ttraining's rmse: 15.7648\tvalid_1's rmse: 35.0017\n",
      "[174]\ttraining's rmse: 15.7392\tvalid_1's rmse: 34.9905\n",
      "[175]\ttraining's rmse: 15.7147\tvalid_1's rmse: 35.0028\n",
      "[176]\ttraining's rmse: 15.6839\tvalid_1's rmse: 34.9622\n",
      "[177]\ttraining's rmse: 15.6558\tvalid_1's rmse: 34.9945\n",
      "[178]\ttraining's rmse: 15.629\tvalid_1's rmse: 34.948\n",
      "[179]\ttraining's rmse: 15.6015\tvalid_1's rmse: 34.9102\n",
      "[180]\ttraining's rmse: 15.5756\tvalid_1's rmse: 34.8706\n",
      "[181]\ttraining's rmse: 15.5479\tvalid_1's rmse: 34.8787\n",
      "[182]\ttraining's rmse: 15.5214\tvalid_1's rmse: 34.9038\n",
      "[183]\ttraining's rmse: 15.4975\tvalid_1's rmse: 34.9015\n",
      "[184]\ttraining's rmse: 15.479\tvalid_1's rmse: 34.9186\n",
      "[185]\ttraining's rmse: 15.4581\tvalid_1's rmse: 34.914\n",
      "[186]\ttraining's rmse: 15.433\tvalid_1's rmse: 34.9218\n",
      "[187]\ttraining's rmse: 15.4037\tvalid_1's rmse: 34.884\n",
      "[188]\ttraining's rmse: 15.3805\tvalid_1's rmse: 34.9056\n",
      "[189]\ttraining's rmse: 15.3586\tvalid_1's rmse: 34.918\n",
      "[190]\ttraining's rmse: 15.3357\tvalid_1's rmse: 34.9424\n",
      "[191]\ttraining's rmse: 15.311\tvalid_1's rmse: 34.8858\n",
      "[192]\ttraining's rmse: 15.2891\tvalid_1's rmse: 34.8494\n",
      "[193]\ttraining's rmse: 15.2601\tvalid_1's rmse: 34.8019\n",
      "[194]\ttraining's rmse: 15.2403\tvalid_1's rmse: 34.7783\n",
      "[195]\ttraining's rmse: 15.2182\tvalid_1's rmse: 34.79\n",
      "[196]\ttraining's rmse: 15.1914\tvalid_1's rmse: 34.7835\n",
      "[197]\ttraining's rmse: 15.1684\tvalid_1's rmse: 34.8037\n",
      "[198]\ttraining's rmse: 15.1468\tvalid_1's rmse: 34.7843\n",
      "[199]\ttraining's rmse: 15.1255\tvalid_1's rmse: 34.7888\n",
      "[200]\ttraining's rmse: 15.1065\tvalid_1's rmse: 34.8032\n",
      "[201]\ttraining's rmse: 15.0804\tvalid_1's rmse: 34.7956\n",
      "[202]\ttraining's rmse: 15.0558\tvalid_1's rmse: 34.8072\n",
      "[203]\ttraining's rmse: 15.0339\tvalid_1's rmse: 34.8095\n",
      "[204]\ttraining's rmse: 15.0123\tvalid_1's rmse: 34.8125\n",
      "[205]\ttraining's rmse: 14.9914\tvalid_1's rmse: 34.8329\n",
      "[206]\ttraining's rmse: 14.9669\tvalid_1's rmse: 34.847\n",
      "[207]\ttraining's rmse: 14.942\tvalid_1's rmse: 34.8486\n",
      "[208]\ttraining's rmse: 14.9239\tvalid_1's rmse: 34.8377\n",
      "[209]\ttraining's rmse: 14.903\tvalid_1's rmse: 34.8351\n",
      "[210]\ttraining's rmse: 14.884\tvalid_1's rmse: 34.8321\n",
      "[211]\ttraining's rmse: 14.854\tvalid_1's rmse: 34.8293\n",
      "[212]\ttraining's rmse: 14.8286\tvalid_1's rmse: 34.8298\n",
      "[213]\ttraining's rmse: 14.8002\tvalid_1's rmse: 34.8412\n",
      "[214]\ttraining's rmse: 14.7721\tvalid_1's rmse: 34.8539\n",
      "[215]\ttraining's rmse: 14.7545\tvalid_1's rmse: 34.8752\n",
      "[216]\ttraining's rmse: 14.7291\tvalid_1's rmse: 34.8981\n",
      "[217]\ttraining's rmse: 14.7087\tvalid_1's rmse: 34.9348\n",
      "[218]\ttraining's rmse: 14.6864\tvalid_1's rmse: 34.9565\n",
      "[219]\ttraining's rmse: 14.6691\tvalid_1's rmse: 34.9477\n",
      "[220]\ttraining's rmse: 14.6524\tvalid_1's rmse: 34.9352\n",
      "[221]\ttraining's rmse: 14.6249\tvalid_1's rmse: 34.9457\n",
      "[222]\ttraining's rmse: 14.6007\tvalid_1's rmse: 34.9255\n",
      "[223]\ttraining's rmse: 14.5735\tvalid_1's rmse: 34.9424\n",
      "[224]\ttraining's rmse: 14.5567\tvalid_1's rmse: 34.9374\n",
      "[225]\ttraining's rmse: 14.5324\tvalid_1's rmse: 34.9546\n",
      "[226]\ttraining's rmse: 14.5109\tvalid_1's rmse: 34.9456\n",
      "[227]\ttraining's rmse: 14.4918\tvalid_1's rmse: 34.9348\n",
      "[228]\ttraining's rmse: 14.4653\tvalid_1's rmse: 34.9177\n",
      "[229]\ttraining's rmse: 14.4464\tvalid_1's rmse: 34.9204\n",
      "[230]\ttraining's rmse: 14.4242\tvalid_1's rmse: 34.9133\n",
      "[231]\ttraining's rmse: 14.4028\tvalid_1's rmse: 34.9183\n",
      "[232]\ttraining's rmse: 14.3839\tvalid_1's rmse: 34.9001\n",
      "[233]\ttraining's rmse: 14.3638\tvalid_1's rmse: 34.9296\n",
      "[234]\ttraining's rmse: 14.3465\tvalid_1's rmse: 34.8876\n",
      "[235]\ttraining's rmse: 14.3211\tvalid_1's rmse: 34.8942\n",
      "[236]\ttraining's rmse: 14.2965\tvalid_1's rmse: 34.8965\n",
      "[237]\ttraining's rmse: 14.2748\tvalid_1's rmse: 34.9051\n",
      "[238]\ttraining's rmse: 14.2534\tvalid_1's rmse: 34.8873\n",
      "[239]\ttraining's rmse: 14.2352\tvalid_1's rmse: 34.9064\n",
      "[240]\ttraining's rmse: 14.2071\tvalid_1's rmse: 34.9186\n",
      "[241]\ttraining's rmse: 14.1853\tvalid_1's rmse: 34.8968\n",
      "[242]\ttraining's rmse: 14.1624\tvalid_1's rmse: 34.8755\n",
      "[243]\ttraining's rmse: 14.1391\tvalid_1's rmse: 34.8602\n",
      "[244]\ttraining's rmse: 14.1124\tvalid_1's rmse: 34.8723\n",
      "[245]\ttraining's rmse: 14.0918\tvalid_1's rmse: 34.8581\n",
      "[246]\ttraining's rmse: 14.0732\tvalid_1's rmse: 34.863\n",
      "[247]\ttraining's rmse: 14.0513\tvalid_1's rmse: 34.8555\n",
      "[248]\ttraining's rmse: 14.0275\tvalid_1's rmse: 34.8532\n",
      "[249]\ttraining's rmse: 14.0054\tvalid_1's rmse: 34.8725\n",
      "[250]\ttraining's rmse: 13.9832\tvalid_1's rmse: 34.8874\n",
      "[251]\ttraining's rmse: 13.9618\tvalid_1's rmse: 34.8951\n",
      "[252]\ttraining's rmse: 13.939\tvalid_1's rmse: 34.9004\n",
      "[253]\ttraining's rmse: 13.918\tvalid_1's rmse: 34.9226\n",
      "[254]\ttraining's rmse: 13.8976\tvalid_1's rmse: 34.9157\n",
      "[255]\ttraining's rmse: 13.8782\tvalid_1's rmse: 34.9326\n",
      "[256]\ttraining's rmse: 13.8565\tvalid_1's rmse: 34.9129\n",
      "[257]\ttraining's rmse: 13.8371\tvalid_1's rmse: 34.897\n",
      "[258]\ttraining's rmse: 13.8168\tvalid_1's rmse: 34.8927\n",
      "[259]\ttraining's rmse: 13.7947\tvalid_1's rmse: 34.8929\n",
      "[260]\ttraining's rmse: 13.7758\tvalid_1's rmse: 34.894\n",
      "[261]\ttraining's rmse: 13.7553\tvalid_1's rmse: 34.8987\n",
      "[262]\ttraining's rmse: 13.7361\tvalid_1's rmse: 34.9019\n",
      "[263]\ttraining's rmse: 13.719\tvalid_1's rmse: 34.9107\n",
      "[264]\ttraining's rmse: 13.699\tvalid_1's rmse: 34.901\n",
      "[265]\ttraining's rmse: 13.6766\tvalid_1's rmse: 34.9241\n",
      "[266]\ttraining's rmse: 13.6563\tvalid_1's rmse: 34.9325\n",
      "[267]\ttraining's rmse: 13.6397\tvalid_1's rmse: 34.9258\n",
      "[268]\ttraining's rmse: 13.6211\tvalid_1's rmse: 34.9259\n",
      "[269]\ttraining's rmse: 13.6028\tvalid_1's rmse: 34.8997\n",
      "[270]\ttraining's rmse: 13.5805\tvalid_1's rmse: 34.8944\n",
      "[271]\ttraining's rmse: 13.5545\tvalid_1's rmse: 34.8869\n",
      "[272]\ttraining's rmse: 13.5406\tvalid_1's rmse: 34.8843\n",
      "[273]\ttraining's rmse: 13.5148\tvalid_1's rmse: 34.8951\n",
      "[274]\ttraining's rmse: 13.5012\tvalid_1's rmse: 34.8986\n",
      "[275]\ttraining's rmse: 13.4843\tvalid_1's rmse: 34.879\n",
      "[276]\ttraining's rmse: 13.4653\tvalid_1's rmse: 34.8813\n",
      "[277]\ttraining's rmse: 13.4457\tvalid_1's rmse: 34.9015\n",
      "[278]\ttraining's rmse: 13.4261\tvalid_1's rmse: 34.9404\n",
      "[279]\ttraining's rmse: 13.4066\tvalid_1's rmse: 34.9695\n",
      "[280]\ttraining's rmse: 13.3933\tvalid_1's rmse: 34.9932\n",
      "[281]\ttraining's rmse: 13.3723\tvalid_1's rmse: 35.0083\n",
      "[282]\ttraining's rmse: 13.3525\tvalid_1's rmse: 35.0138\n",
      "[283]\ttraining's rmse: 13.3317\tvalid_1's rmse: 35.0225\n",
      "[284]\ttraining's rmse: 13.3131\tvalid_1's rmse: 35.0269\n",
      "[285]\ttraining's rmse: 13.2912\tvalid_1's rmse: 35.0426\n",
      "[286]\ttraining's rmse: 13.2715\tvalid_1's rmse: 35.06\n",
      "[287]\ttraining's rmse: 13.2528\tvalid_1's rmse: 35.0736\n",
      "[288]\ttraining's rmse: 13.2356\tvalid_1's rmse: 35.0738\n",
      "[289]\ttraining's rmse: 13.2188\tvalid_1's rmse: 35.0775\n",
      "[290]\ttraining's rmse: 13.1969\tvalid_1's rmse: 35.0869\n",
      "[291]\ttraining's rmse: 13.1765\tvalid_1's rmse: 35.0715\n",
      "[292]\ttraining's rmse: 13.1577\tvalid_1's rmse: 35.0503\n",
      "[293]\ttraining's rmse: 13.1398\tvalid_1's rmse: 35.0683\n",
      "[294]\ttraining's rmse: 13.1186\tvalid_1's rmse: 35.0633\n",
      "Early stopping, best iteration is:\n",
      "[194]\ttraining's rmse: 15.2403\tvalid_1's rmse: 34.7783\n",
      "CPU times: user 2min 1s, sys: 256 ms, total: 2min 1s\n",
      "Wall time: 2min 1s\n"
     ]
    }
   ],
   "source": [
    "%%time\n",
    "params = {\n",
    "    'boosting_type': 'gbdt',\n",
    "    'objective': 'regression',\n",
    "    'metric': 'rmse',\n",
    "    'num_leaves': 15,\n",
    "    'learning_rate': 0.05,\n",
    "    'feature_fraction': 0.9,\n",
    "    'bagging_fraction': 0.8,    \n",
    "    'bagging_freq': 5,          \n",
    "    'verbose': -1,              \n",
    "    'n_jobs': -1               \n",
    "}\n",
    "\n",
    "lgbm_model1 = lgb.train(params, train_data, num_boost_round=1000, valid_sets=[train_data, valid_data], early_stopping_rounds=100)"
   ]
  },
  {
   "cell_type": "markdown",
   "metadata": {},
   "source": [
    "rmse получилось 35,9, это немного меньше, чем дает регрессия или лес. Однако регсрессия и лес уже провалились на тестовой выборке и теперь мы будем тестировать модель lightgbm. Более того, если раньше разница  rmse на валидационной выборке между другими моделями и lightgbm была порядка 6-7, то сейчас она снизилсь до 1 за счет выбора более оптимальных гиперпараметров и изменения признаков на более актуальные."
   ]
  },
  {
   "cell_type": "code",
   "execution_count": 25,
   "metadata": {
    "scrolled": true
   },
   "outputs": [
    {
     "name": "stdout",
     "output_type": "stream",
     "text": [
      "[LightGBM] [Warning] Auto-choosing col-wise multi-threading, the overhead of testing was 0.505360 seconds.\n",
      "You can set `force_col_wise=true` to remove the overhead.\n",
      "[LightGBM] [Info] Total Bins 4117\n",
      "[LightGBM] [Info] Number of data points in the train set: 3353, number of used features: 26\n",
      "[LightGBM] [Info] Start training from score 73.019386\n",
      "[1]\ttraining's rmse: 33.055\tvalid_1's rmse: 54.2172\n",
      "Training until validation scores don't improve for 100 rounds\n",
      "[2]\ttraining's rmse: 31.2998\tvalid_1's rmse: 52.1905\n",
      "[3]\ttraining's rmse: 29.7745\tvalid_1's rmse: 50.1138\n",
      "[4]\ttraining's rmse: 28.4254\tvalid_1's rmse: 48.6271\n",
      "[5]\ttraining's rmse: 27.2094\tvalid_1's rmse: 46.8397\n",
      "[6]\ttraining's rmse: 26.1557\tvalid_1's rmse: 45.572\n",
      "[7]\ttraining's rmse: 25.2385\tvalid_1's rmse: 44.5993\n",
      "[8]\ttraining's rmse: 24.43\tvalid_1's rmse: 43.5695\n",
      "[9]\ttraining's rmse: 23.7119\tvalid_1's rmse: 42.7657\n",
      "[10]\ttraining's rmse: 23.0731\tvalid_1's rmse: 41.7447\n",
      "[11]\ttraining's rmse: 22.4977\tvalid_1's rmse: 41.0608\n",
      "[12]\ttraining's rmse: 21.9719\tvalid_1's rmse: 40.4413\n",
      "[13]\ttraining's rmse: 21.5059\tvalid_1's rmse: 39.7321\n",
      "[14]\ttraining's rmse: 21.0899\tvalid_1's rmse: 39.2474\n",
      "[15]\ttraining's rmse: 20.701\tvalid_1's rmse: 38.7331\n",
      "[16]\ttraining's rmse: 20.3582\tvalid_1's rmse: 38.3758\n",
      "[17]\ttraining's rmse: 20.0446\tvalid_1's rmse: 38.0089\n",
      "[18]\ttraining's rmse: 19.7364\tvalid_1's rmse: 37.6906\n",
      "[19]\ttraining's rmse: 19.4524\tvalid_1's rmse: 37.4745\n",
      "[20]\ttraining's rmse: 19.1732\tvalid_1's rmse: 37.1418\n",
      "[21]\ttraining's rmse: 18.9068\tvalid_1's rmse: 37.0509\n",
      "[22]\ttraining's rmse: 18.6543\tvalid_1's rmse: 36.948\n",
      "[23]\ttraining's rmse: 18.4368\tvalid_1's rmse: 36.8808\n",
      "[24]\ttraining's rmse: 18.1985\tvalid_1's rmse: 36.7336\n",
      "[25]\ttraining's rmse: 17.9863\tvalid_1's rmse: 36.495\n",
      "[26]\ttraining's rmse: 17.7805\tvalid_1's rmse: 36.5098\n",
      "[27]\ttraining's rmse: 17.5836\tvalid_1's rmse: 36.4206\n",
      "[28]\ttraining's rmse: 17.3864\tvalid_1's rmse: 36.4538\n",
      "[29]\ttraining's rmse: 17.2268\tvalid_1's rmse: 36.3186\n",
      "[30]\ttraining's rmse: 17.0576\tvalid_1's rmse: 36.3415\n",
      "[31]\ttraining's rmse: 16.9037\tvalid_1's rmse: 36.3046\n",
      "[32]\ttraining's rmse: 16.7579\tvalid_1's rmse: 36.2897\n",
      "[33]\ttraining's rmse: 16.6031\tvalid_1's rmse: 36.2759\n",
      "[34]\ttraining's rmse: 16.4421\tvalid_1's rmse: 36.3488\n",
      "[35]\ttraining's rmse: 16.304\tvalid_1's rmse: 36.2703\n",
      "[36]\ttraining's rmse: 16.1485\tvalid_1's rmse: 36.1606\n",
      "[37]\ttraining's rmse: 15.9977\tvalid_1's rmse: 36.0298\n",
      "[38]\ttraining's rmse: 15.8636\tvalid_1's rmse: 35.9227\n",
      "[39]\ttraining's rmse: 15.7234\tvalid_1's rmse: 35.8233\n",
      "[40]\ttraining's rmse: 15.568\tvalid_1's rmse: 35.8283\n",
      "[41]\ttraining's rmse: 15.446\tvalid_1's rmse: 35.7514\n",
      "[42]\ttraining's rmse: 15.309\tvalid_1's rmse: 35.7516\n",
      "[43]\ttraining's rmse: 15.1803\tvalid_1's rmse: 35.593\n",
      "[44]\ttraining's rmse: 15.0517\tvalid_1's rmse: 35.4871\n",
      "[45]\ttraining's rmse: 14.9289\tvalid_1's rmse: 35.5167\n",
      "[46]\ttraining's rmse: 14.8326\tvalid_1's rmse: 35.4941\n",
      "[47]\ttraining's rmse: 14.7026\tvalid_1's rmse: 35.4905\n",
      "[48]\ttraining's rmse: 14.5919\tvalid_1's rmse: 35.5244\n",
      "[49]\ttraining's rmse: 14.4666\tvalid_1's rmse: 35.4846\n",
      "[50]\ttraining's rmse: 14.3619\tvalid_1's rmse: 35.5724\n",
      "[51]\ttraining's rmse: 14.2517\tvalid_1's rmse: 35.491\n",
      "[52]\ttraining's rmse: 14.1611\tvalid_1's rmse: 35.5196\n",
      "[53]\ttraining's rmse: 14.0638\tvalid_1's rmse: 35.5088\n",
      "[54]\ttraining's rmse: 13.9484\tvalid_1's rmse: 35.4929\n",
      "[55]\ttraining's rmse: 13.8458\tvalid_1's rmse: 35.5252\n",
      "[56]\ttraining's rmse: 13.7335\tvalid_1's rmse: 35.5115\n",
      "[57]\ttraining's rmse: 13.6336\tvalid_1's rmse: 35.479\n",
      "[58]\ttraining's rmse: 13.5435\tvalid_1's rmse: 35.4228\n",
      "[59]\ttraining's rmse: 13.4509\tvalid_1's rmse: 35.3827\n",
      "[60]\ttraining's rmse: 13.3551\tvalid_1's rmse: 35.3843\n",
      "[61]\ttraining's rmse: 13.2522\tvalid_1's rmse: 35.3692\n",
      "[62]\ttraining's rmse: 13.1579\tvalid_1's rmse: 35.3471\n",
      "[63]\ttraining's rmse: 13.0789\tvalid_1's rmse: 35.3041\n",
      "[64]\ttraining's rmse: 12.9913\tvalid_1's rmse: 35.3598\n",
      "[65]\ttraining's rmse: 12.8992\tvalid_1's rmse: 35.3209\n",
      "[66]\ttraining's rmse: 12.8035\tvalid_1's rmse: 35.3429\n",
      "[67]\ttraining's rmse: 12.7308\tvalid_1's rmse: 35.3552\n",
      "[68]\ttraining's rmse: 12.6472\tvalid_1's rmse: 35.3464\n",
      "[69]\ttraining's rmse: 12.5541\tvalid_1's rmse: 35.3162\n",
      "[70]\ttraining's rmse: 12.4735\tvalid_1's rmse: 35.3264\n",
      "[71]\ttraining's rmse: 12.379\tvalid_1's rmse: 35.3183\n",
      "[72]\ttraining's rmse: 12.2927\tvalid_1's rmse: 35.2977\n",
      "[73]\ttraining's rmse: 12.2168\tvalid_1's rmse: 35.2888\n",
      "[74]\ttraining's rmse: 12.1264\tvalid_1's rmse: 35.2627\n",
      "[75]\ttraining's rmse: 12.0473\tvalid_1's rmse: 35.2764\n",
      "[76]\ttraining's rmse: 11.9784\tvalid_1's rmse: 35.3\n",
      "[77]\ttraining's rmse: 11.9181\tvalid_1's rmse: 35.2954\n",
      "[78]\ttraining's rmse: 11.859\tvalid_1's rmse: 35.3343\n",
      "[79]\ttraining's rmse: 11.7788\tvalid_1's rmse: 35.2741\n",
      "[80]\ttraining's rmse: 11.702\tvalid_1's rmse: 35.2749\n",
      "[81]\ttraining's rmse: 11.6379\tvalid_1's rmse: 35.3113\n",
      "[82]\ttraining's rmse: 11.5845\tvalid_1's rmse: 35.3513\n",
      "[83]\ttraining's rmse: 11.5102\tvalid_1's rmse: 35.3906\n",
      "[84]\ttraining's rmse: 11.4449\tvalid_1's rmse: 35.3939\n",
      "[85]\ttraining's rmse: 11.3862\tvalid_1's rmse: 35.4446\n",
      "[86]\ttraining's rmse: 11.3203\tvalid_1's rmse: 35.3943\n",
      "[87]\ttraining's rmse: 11.2531\tvalid_1's rmse: 35.3772\n",
      "[88]\ttraining's rmse: 11.1891\tvalid_1's rmse: 35.3906\n",
      "[89]\ttraining's rmse: 11.1348\tvalid_1's rmse: 35.4048\n",
      "[90]\ttraining's rmse: 11.0689\tvalid_1's rmse: 35.4041\n",
      "[91]\ttraining's rmse: 11.0025\tvalid_1's rmse: 35.351\n",
      "[92]\ttraining's rmse: 10.941\tvalid_1's rmse: 35.3355\n",
      "[93]\ttraining's rmse: 10.8762\tvalid_1's rmse: 35.3126\n",
      "[94]\ttraining's rmse: 10.8283\tvalid_1's rmse: 35.3015\n",
      "[95]\ttraining's rmse: 10.7609\tvalid_1's rmse: 35.3378\n",
      "[96]\ttraining's rmse: 10.6993\tvalid_1's rmse: 35.3728\n",
      "[97]\ttraining's rmse: 10.6329\tvalid_1's rmse: 35.343\n",
      "[98]\ttraining's rmse: 10.5654\tvalid_1's rmse: 35.3655\n",
      "[99]\ttraining's rmse: 10.5069\tvalid_1's rmse: 35.4205\n",
      "[100]\ttraining's rmse: 10.448\tvalid_1's rmse: 35.4265\n",
      "[101]\ttraining's rmse: 10.3885\tvalid_1's rmse: 35.429\n",
      "[102]\ttraining's rmse: 10.3282\tvalid_1's rmse: 35.4213\n",
      "[103]\ttraining's rmse: 10.2659\tvalid_1's rmse: 35.3973\n",
      "[104]\ttraining's rmse: 10.2145\tvalid_1's rmse: 35.3892\n",
      "[105]\ttraining's rmse: 10.167\tvalid_1's rmse: 35.3965\n",
      "[106]\ttraining's rmse: 10.1095\tvalid_1's rmse: 35.3786\n",
      "[107]\ttraining's rmse: 10.046\tvalid_1's rmse: 35.3588\n",
      "[108]\ttraining's rmse: 9.98716\tvalid_1's rmse: 35.3234\n",
      "[109]\ttraining's rmse: 9.93822\tvalid_1's rmse: 35.3428\n",
      "[110]\ttraining's rmse: 9.87782\tvalid_1's rmse: 35.3122\n",
      "[111]\ttraining's rmse: 9.82392\tvalid_1's rmse: 35.308\n",
      "[112]\ttraining's rmse: 9.77038\tvalid_1's rmse: 35.2812\n",
      "[113]\ttraining's rmse: 9.70601\tvalid_1's rmse: 35.2939\n",
      "[114]\ttraining's rmse: 9.64183\tvalid_1's rmse: 35.2965\n",
      "[115]\ttraining's rmse: 9.5834\tvalid_1's rmse: 35.2839\n",
      "[116]\ttraining's rmse: 9.53062\tvalid_1's rmse: 35.2811\n",
      "[117]\ttraining's rmse: 9.46747\tvalid_1's rmse: 35.293\n",
      "[118]\ttraining's rmse: 9.41717\tvalid_1's rmse: 35.2886\n",
      "[119]\ttraining's rmse: 9.35809\tvalid_1's rmse: 35.3154\n",
      "[120]\ttraining's rmse: 9.30043\tvalid_1's rmse: 35.3137\n",
      "[121]\ttraining's rmse: 9.23321\tvalid_1's rmse: 35.3318\n",
      "[122]\ttraining's rmse: 9.19123\tvalid_1's rmse: 35.3107\n",
      "[123]\ttraining's rmse: 9.15169\tvalid_1's rmse: 35.3023\n",
      "[124]\ttraining's rmse: 9.10317\tvalid_1's rmse: 35.2977\n",
      "[125]\ttraining's rmse: 9.06231\tvalid_1's rmse: 35.2698\n",
      "[126]\ttraining's rmse: 9.021\tvalid_1's rmse: 35.279\n",
      "[127]\ttraining's rmse: 8.97245\tvalid_1's rmse: 35.2753\n",
      "[128]\ttraining's rmse: 8.91207\tvalid_1's rmse: 35.2823\n",
      "[129]\ttraining's rmse: 8.86246\tvalid_1's rmse: 35.3251\n",
      "[130]\ttraining's rmse: 8.82091\tvalid_1's rmse: 35.3197\n",
      "[131]\ttraining's rmse: 8.76815\tvalid_1's rmse: 35.328\n",
      "[132]\ttraining's rmse: 8.71796\tvalid_1's rmse: 35.3475\n",
      "[133]\ttraining's rmse: 8.66064\tvalid_1's rmse: 35.3724\n",
      "[134]\ttraining's rmse: 8.61474\tvalid_1's rmse: 35.3833\n",
      "[135]\ttraining's rmse: 8.56947\tvalid_1's rmse: 35.3885\n",
      "[136]\ttraining's rmse: 8.52725\tvalid_1's rmse: 35.393\n",
      "[137]\ttraining's rmse: 8.47585\tvalid_1's rmse: 35.4055\n",
      "[138]\ttraining's rmse: 8.43109\tvalid_1's rmse: 35.4151\n",
      "[139]\ttraining's rmse: 8.3963\tvalid_1's rmse: 35.4232\n",
      "[140]\ttraining's rmse: 8.36284\tvalid_1's rmse: 35.438\n",
      "[141]\ttraining's rmse: 8.32522\tvalid_1's rmse: 35.4265\n",
      "[142]\ttraining's rmse: 8.29218\tvalid_1's rmse: 35.4206\n",
      "[143]\ttraining's rmse: 8.25468\tvalid_1's rmse: 35.4293\n",
      "[144]\ttraining's rmse: 8.19856\tvalid_1's rmse: 35.4459\n",
      "[145]\ttraining's rmse: 8.14196\tvalid_1's rmse: 35.4376\n",
      "[146]\ttraining's rmse: 8.09652\tvalid_1's rmse: 35.4684\n",
      "[147]\ttraining's rmse: 8.0562\tvalid_1's rmse: 35.4686\n",
      "[148]\ttraining's rmse: 8.01106\tvalid_1's rmse: 35.4533\n",
      "[149]\ttraining's rmse: 7.96541\tvalid_1's rmse: 35.4677\n",
      "[150]\ttraining's rmse: 7.93438\tvalid_1's rmse: 35.4663\n",
      "[151]\ttraining's rmse: 7.8952\tvalid_1's rmse: 35.4715\n",
      "[152]\ttraining's rmse: 7.86661\tvalid_1's rmse: 35.4357\n",
      "[153]\ttraining's rmse: 7.83014\tvalid_1's rmse: 35.4286\n",
      "[154]\ttraining's rmse: 7.78707\tvalid_1's rmse: 35.3754\n",
      "[155]\ttraining's rmse: 7.74441\tvalid_1's rmse: 35.4219\n",
      "[156]\ttraining's rmse: 7.69856\tvalid_1's rmse: 35.4245\n",
      "[157]\ttraining's rmse: 7.6662\tvalid_1's rmse: 35.4391\n",
      "[158]\ttraining's rmse: 7.62407\tvalid_1's rmse: 35.4304\n",
      "[159]\ttraining's rmse: 7.58108\tvalid_1's rmse: 35.451\n",
      "[160]\ttraining's rmse: 7.54632\tvalid_1's rmse: 35.4606\n",
      "[161]\ttraining's rmse: 7.5123\tvalid_1's rmse: 35.4698\n",
      "[162]\ttraining's rmse: 7.46506\tvalid_1's rmse: 35.4701\n",
      "[163]\ttraining's rmse: 7.42479\tvalid_1's rmse: 35.4587\n",
      "[164]\ttraining's rmse: 7.38814\tvalid_1's rmse: 35.4517\n",
      "[165]\ttraining's rmse: 7.35491\tvalid_1's rmse: 35.4666\n",
      "[166]\ttraining's rmse: 7.31234\tvalid_1's rmse: 35.4517\n",
      "[167]\ttraining's rmse: 7.28129\tvalid_1's rmse: 35.4782\n",
      "[168]\ttraining's rmse: 7.24608\tvalid_1's rmse: 35.455\n",
      "[169]\ttraining's rmse: 7.20582\tvalid_1's rmse: 35.4559\n",
      "[170]\ttraining's rmse: 7.16686\tvalid_1's rmse: 35.4999\n",
      "[171]\ttraining's rmse: 7.14187\tvalid_1's rmse: 35.4996\n",
      "[172]\ttraining's rmse: 7.115\tvalid_1's rmse: 35.5038\n",
      "[173]\ttraining's rmse: 7.07005\tvalid_1's rmse: 35.4967\n",
      "[174]\ttraining's rmse: 7.03625\tvalid_1's rmse: 35.4904\n",
      "Early stopping, best iteration is:\n",
      "[74]\ttraining's rmse: 12.1264\tvalid_1's rmse: 35.2627\n",
      "CPU times: user 1min 28s, sys: 228 ms, total: 1min 28s\n",
      "Wall time: 1min 28s\n"
     ]
    }
   ],
   "source": [
    "%%time\n",
    "params2 = {\n",
    "    'boosting_type': 'gbdt',\n",
    "    'objective': 'regression',\n",
    "    'metric': 'rmse',\n",
    "    'num_leaves': 31,\n",
    "    'learning_rate': 0.1,\n",
    "    'n_jobs': -1\n",
    "}\n",
    "\n",
    "lgbm_model2 = lgb.train(params2, train_data, num_boost_round=1000, valid_sets=[train_data, valid_data], early_stopping_rounds=100)"
   ]
  },
  {
   "cell_type": "markdown",
   "metadata": {},
   "source": [
    "Кстати, как и в примере с регрессией, видим, что качество на валидационной выборке сильно хуже. Но вот что неожиданно: несмотря на то, что lightgbm может на тренировочной выборке хоть до 12 rmse уменьшить, результат на валидационной выборке от этого на валидационной выборке только ухудшается из-за переобучения. "
   ]
  },
  {
   "cell_type": "markdown",
   "metadata": {},
   "source": [
    "И да, вторая модель дала худший результат,чем первая, хоть и не на много."
   ]
  },
  {
   "cell_type": "markdown",
   "metadata": {},
   "source": [
    "На валидационной выборке лучше себя показала модель линейной регрессии. Думаю, это говорит либо о очень сильной линейной зависимости в данных, либо о том, что у нас недостаточно данных для качественного бустинга, либо об ошибке. \n",
    "\n",
    "В любом случае теперь будем продолжать с регрессией. Попробуем дообучить модель на валидационной выборке и сделать прогноз на тренировочной выборке. Если он нас удовлетворит своим качеством, то обратно мы возращаться уже не будем.\n",
    "\n",
    "В противном случае нам придется вернуться, переработать данные и модели, апотом снова взять лучшую модель по качеству на валидационной выборке (но уже точно не регрессию) и тестировать уже ее."
   ]
  },
  {
   "cell_type": "markdown",
   "metadata": {},
   "source": [
    "Данные мы дообучаем на валидационной выборке, потому что она представляет собой большую часть датасета и, что очень важно, более близкую по времени к тестовой выборке."
   ]
  },
  {
   "cell_type": "code",
   "execution_count": 26,
   "metadata": {},
   "outputs": [],
   "source": [
    "#print(\"RMSE тестовой выборки:\", mean_squared_error(y_test, regression.predict(x_test))**0.5)"
   ]
  },
  {
   "cell_type": "code",
   "execution_count": 27,
   "metadata": {},
   "outputs": [
    {
     "data": {
      "text/plain": [
       "(442, 27)"
      ]
     },
     "execution_count": 27,
     "metadata": {},
     "output_type": "execute_result"
    }
   ],
   "source": [
    "test.shape"
   ]
  },
  {
   "cell_type": "code",
   "execution_count": 28,
   "metadata": {},
   "outputs": [
    {
     "data": {
      "text/plain": [
       "(597, 27)"
      ]
     },
     "execution_count": 28,
     "metadata": {},
     "output_type": "execute_result"
    }
   ],
   "source": [
    "valid.shape"
   ]
  },
  {
   "cell_type": "code",
   "execution_count": 29,
   "metadata": {},
   "outputs": [
    {
     "data": {
      "text/plain": [
       "(3353, 27)"
      ]
     },
     "execution_count": 29,
     "metadata": {},
     "output_type": "execute_result"
    }
   ],
   "source": [
    "train.shape"
   ]
  },
  {
   "cell_type": "code",
   "execution_count": 30,
   "metadata": {},
   "outputs": [],
   "source": [
    "#display(train)"
   ]
  },
  {
   "cell_type": "code",
   "execution_count": 31,
   "metadata": {},
   "outputs": [
    {
     "data": {
      "text/html": [
       "<div>\n",
       "<style scoped>\n",
       "    .dataframe tbody tr th:only-of-type {\n",
       "        vertical-align: middle;\n",
       "    }\n",
       "\n",
       "    .dataframe tbody tr th {\n",
       "        vertical-align: top;\n",
       "    }\n",
       "\n",
       "    .dataframe thead th {\n",
       "        text-align: right;\n",
       "    }\n",
       "</style>\n",
       "<table border=\"1\" class=\"dataframe\">\n",
       "  <thead>\n",
       "    <tr style=\"text-align: right;\">\n",
       "      <th></th>\n",
       "      <th>num_orders</th>\n",
       "      <th>month</th>\n",
       "      <th>day</th>\n",
       "      <th>dayofweek</th>\n",
       "      <th>lag_3</th>\n",
       "      <th>lag_4</th>\n",
       "      <th>lag_5</th>\n",
       "      <th>lag_6</th>\n",
       "      <th>lag_7</th>\n",
       "      <th>lag_8</th>\n",
       "      <th>...</th>\n",
       "      <th>lag_16</th>\n",
       "      <th>lag_17</th>\n",
       "      <th>lag_18</th>\n",
       "      <th>lag_19</th>\n",
       "      <th>lag_20</th>\n",
       "      <th>lag_21</th>\n",
       "      <th>lag_22</th>\n",
       "      <th>lag_23</th>\n",
       "      <th>lag_24</th>\n",
       "      <th>rolling_mean</th>\n",
       "    </tr>\n",
       "    <tr>\n",
       "      <th>datetime</th>\n",
       "      <th></th>\n",
       "      <th></th>\n",
       "      <th></th>\n",
       "      <th></th>\n",
       "      <th></th>\n",
       "      <th></th>\n",
       "      <th></th>\n",
       "      <th></th>\n",
       "      <th></th>\n",
       "      <th></th>\n",
       "      <th></th>\n",
       "      <th></th>\n",
       "      <th></th>\n",
       "      <th></th>\n",
       "      <th></th>\n",
       "      <th></th>\n",
       "      <th></th>\n",
       "      <th></th>\n",
       "      <th></th>\n",
       "      <th></th>\n",
       "      <th></th>\n",
       "    </tr>\n",
       "  </thead>\n",
       "  <tbody>\n",
       "    <tr>\n",
       "      <th>2018-03-02 00:00:00</th>\n",
       "      <td>90</td>\n",
       "      <td>3</td>\n",
       "      <td>2</td>\n",
       "      <td>4</td>\n",
       "      <td>66.0</td>\n",
       "      <td>61.0</td>\n",
       "      <td>45.0</td>\n",
       "      <td>73.0</td>\n",
       "      <td>44.0</td>\n",
       "      <td>43.0</td>\n",
       "      <td>...</td>\n",
       "      <td>34.0</td>\n",
       "      <td>15.0</td>\n",
       "      <td>12.0</td>\n",
       "      <td>6.0</td>\n",
       "      <td>43.0</td>\n",
       "      <td>66.0</td>\n",
       "      <td>71.0</td>\n",
       "      <td>85.0</td>\n",
       "      <td>124.0</td>\n",
       "      <td>56.583333</td>\n",
       "    </tr>\n",
       "    <tr>\n",
       "      <th>2018-03-02 01:00:00</th>\n",
       "      <td>120</td>\n",
       "      <td>3</td>\n",
       "      <td>2</td>\n",
       "      <td>4</td>\n",
       "      <td>113.0</td>\n",
       "      <td>66.0</td>\n",
       "      <td>61.0</td>\n",
       "      <td>45.0</td>\n",
       "      <td>73.0</td>\n",
       "      <td>44.0</td>\n",
       "      <td>...</td>\n",
       "      <td>69.0</td>\n",
       "      <td>34.0</td>\n",
       "      <td>15.0</td>\n",
       "      <td>12.0</td>\n",
       "      <td>6.0</td>\n",
       "      <td>43.0</td>\n",
       "      <td>66.0</td>\n",
       "      <td>71.0</td>\n",
       "      <td>85.0</td>\n",
       "      <td>61.583333</td>\n",
       "    </tr>\n",
       "    <tr>\n",
       "      <th>2018-03-02 02:00:00</th>\n",
       "      <td>75</td>\n",
       "      <td>3</td>\n",
       "      <td>2</td>\n",
       "      <td>4</td>\n",
       "      <td>58.0</td>\n",
       "      <td>113.0</td>\n",
       "      <td>66.0</td>\n",
       "      <td>61.0</td>\n",
       "      <td>45.0</td>\n",
       "      <td>73.0</td>\n",
       "      <td>...</td>\n",
       "      <td>64.0</td>\n",
       "      <td>69.0</td>\n",
       "      <td>34.0</td>\n",
       "      <td>15.0</td>\n",
       "      <td>12.0</td>\n",
       "      <td>6.0</td>\n",
       "      <td>43.0</td>\n",
       "      <td>66.0</td>\n",
       "      <td>71.0</td>\n",
       "      <td>68.916667</td>\n",
       "    </tr>\n",
       "    <tr>\n",
       "      <th>2018-03-02 03:00:00</th>\n",
       "      <td>64</td>\n",
       "      <td>3</td>\n",
       "      <td>2</td>\n",
       "      <td>4</td>\n",
       "      <td>90.0</td>\n",
       "      <td>58.0</td>\n",
       "      <td>113.0</td>\n",
       "      <td>66.0</td>\n",
       "      <td>61.0</td>\n",
       "      <td>45.0</td>\n",
       "      <td>...</td>\n",
       "      <td>96.0</td>\n",
       "      <td>64.0</td>\n",
       "      <td>69.0</td>\n",
       "      <td>34.0</td>\n",
       "      <td>15.0</td>\n",
       "      <td>12.0</td>\n",
       "      <td>6.0</td>\n",
       "      <td>43.0</td>\n",
       "      <td>66.0</td>\n",
       "      <td>71.166667</td>\n",
       "    </tr>\n",
       "    <tr>\n",
       "      <th>2018-03-02 04:00:00</th>\n",
       "      <td>20</td>\n",
       "      <td>3</td>\n",
       "      <td>2</td>\n",
       "      <td>4</td>\n",
       "      <td>120.0</td>\n",
       "      <td>90.0</td>\n",
       "      <td>58.0</td>\n",
       "      <td>113.0</td>\n",
       "      <td>66.0</td>\n",
       "      <td>61.0</td>\n",
       "      <td>...</td>\n",
       "      <td>30.0</td>\n",
       "      <td>96.0</td>\n",
       "      <td>64.0</td>\n",
       "      <td>69.0</td>\n",
       "      <td>34.0</td>\n",
       "      <td>15.0</td>\n",
       "      <td>12.0</td>\n",
       "      <td>6.0</td>\n",
       "      <td>43.0</td>\n",
       "      <td>71.000000</td>\n",
       "    </tr>\n",
       "    <tr>\n",
       "      <th>...</th>\n",
       "      <td>...</td>\n",
       "      <td>...</td>\n",
       "      <td>...</td>\n",
       "      <td>...</td>\n",
       "      <td>...</td>\n",
       "      <td>...</td>\n",
       "      <td>...</td>\n",
       "      <td>...</td>\n",
       "      <td>...</td>\n",
       "      <td>...</td>\n",
       "      <td>...</td>\n",
       "      <td>...</td>\n",
       "      <td>...</td>\n",
       "      <td>...</td>\n",
       "      <td>...</td>\n",
       "      <td>...</td>\n",
       "      <td>...</td>\n",
       "      <td>...</td>\n",
       "      <td>...</td>\n",
       "      <td>...</td>\n",
       "      <td>...</td>\n",
       "    </tr>\n",
       "    <tr>\n",
       "      <th>2018-08-13 09:00:00</th>\n",
       "      <td>137</td>\n",
       "      <td>8</td>\n",
       "      <td>13</td>\n",
       "      <td>0</td>\n",
       "      <td>66.0</td>\n",
       "      <td>83.0</td>\n",
       "      <td>143.0</td>\n",
       "      <td>168.0</td>\n",
       "      <td>437.0</td>\n",
       "      <td>273.0</td>\n",
       "      <td>...</td>\n",
       "      <td>115.0</td>\n",
       "      <td>153.0</td>\n",
       "      <td>149.0</td>\n",
       "      <td>104.0</td>\n",
       "      <td>120.0</td>\n",
       "      <td>123.0</td>\n",
       "      <td>81.0</td>\n",
       "      <td>108.0</td>\n",
       "      <td>108.0</td>\n",
       "      <td>158.166667</td>\n",
       "    </tr>\n",
       "    <tr>\n",
       "      <th>2018-08-13 10:00:00</th>\n",
       "      <td>156</td>\n",
       "      <td>8</td>\n",
       "      <td>13</td>\n",
       "      <td>0</td>\n",
       "      <td>39.0</td>\n",
       "      <td>66.0</td>\n",
       "      <td>83.0</td>\n",
       "      <td>143.0</td>\n",
       "      <td>168.0</td>\n",
       "      <td>437.0</td>\n",
       "      <td>...</td>\n",
       "      <td>78.0</td>\n",
       "      <td>115.0</td>\n",
       "      <td>153.0</td>\n",
       "      <td>149.0</td>\n",
       "      <td>104.0</td>\n",
       "      <td>120.0</td>\n",
       "      <td>123.0</td>\n",
       "      <td>81.0</td>\n",
       "      <td>108.0</td>\n",
       "      <td>158.333333</td>\n",
       "    </tr>\n",
       "    <tr>\n",
       "      <th>2018-08-13 11:00:00</th>\n",
       "      <td>144</td>\n",
       "      <td>8</td>\n",
       "      <td>13</td>\n",
       "      <td>0</td>\n",
       "      <td>91.0</td>\n",
       "      <td>39.0</td>\n",
       "      <td>66.0</td>\n",
       "      <td>83.0</td>\n",
       "      <td>143.0</td>\n",
       "      <td>168.0</td>\n",
       "      <td>...</td>\n",
       "      <td>82.0</td>\n",
       "      <td>78.0</td>\n",
       "      <td>115.0</td>\n",
       "      <td>153.0</td>\n",
       "      <td>149.0</td>\n",
       "      <td>104.0</td>\n",
       "      <td>120.0</td>\n",
       "      <td>123.0</td>\n",
       "      <td>81.0</td>\n",
       "      <td>161.500000</td>\n",
       "    </tr>\n",
       "    <tr>\n",
       "      <th>2018-08-13 12:00:00</th>\n",
       "      <td>92</td>\n",
       "      <td>8</td>\n",
       "      <td>13</td>\n",
       "      <td>0</td>\n",
       "      <td>137.0</td>\n",
       "      <td>91.0</td>\n",
       "      <td>39.0</td>\n",
       "      <td>66.0</td>\n",
       "      <td>83.0</td>\n",
       "      <td>143.0</td>\n",
       "      <td>...</td>\n",
       "      <td>98.0</td>\n",
       "      <td>82.0</td>\n",
       "      <td>78.0</td>\n",
       "      <td>115.0</td>\n",
       "      <td>153.0</td>\n",
       "      <td>149.0</td>\n",
       "      <td>104.0</td>\n",
       "      <td>120.0</td>\n",
       "      <td>123.0</td>\n",
       "      <td>158.083333</td>\n",
       "    </tr>\n",
       "    <tr>\n",
       "      <th>2018-08-13 13:00:00</th>\n",
       "      <td>119</td>\n",
       "      <td>8</td>\n",
       "      <td>13</td>\n",
       "      <td>0</td>\n",
       "      <td>156.0</td>\n",
       "      <td>137.0</td>\n",
       "      <td>91.0</td>\n",
       "      <td>39.0</td>\n",
       "      <td>66.0</td>\n",
       "      <td>83.0</td>\n",
       "      <td>...</td>\n",
       "      <td>135.0</td>\n",
       "      <td>98.0</td>\n",
       "      <td>82.0</td>\n",
       "      <td>78.0</td>\n",
       "      <td>115.0</td>\n",
       "      <td>153.0</td>\n",
       "      <td>149.0</td>\n",
       "      <td>104.0</td>\n",
       "      <td>120.0</td>\n",
       "      <td>152.416667</td>\n",
       "    </tr>\n",
       "  </tbody>\n",
       "</table>\n",
       "<p>3950 rows × 27 columns</p>\n",
       "</div>"
      ],
      "text/plain": [
       "                     num_orders  month  day  dayofweek  lag_3  lag_4  lag_5  \\\n",
       "datetime                                                                      \n",
       "2018-03-02 00:00:00          90      3    2          4   66.0   61.0   45.0   \n",
       "2018-03-02 01:00:00         120      3    2          4  113.0   66.0   61.0   \n",
       "2018-03-02 02:00:00          75      3    2          4   58.0  113.0   66.0   \n",
       "2018-03-02 03:00:00          64      3    2          4   90.0   58.0  113.0   \n",
       "2018-03-02 04:00:00          20      3    2          4  120.0   90.0   58.0   \n",
       "...                         ...    ...  ...        ...    ...    ...    ...   \n",
       "2018-08-13 09:00:00         137      8   13          0   66.0   83.0  143.0   \n",
       "2018-08-13 10:00:00         156      8   13          0   39.0   66.0   83.0   \n",
       "2018-08-13 11:00:00         144      8   13          0   91.0   39.0   66.0   \n",
       "2018-08-13 12:00:00          92      8   13          0  137.0   91.0   39.0   \n",
       "2018-08-13 13:00:00         119      8   13          0  156.0  137.0   91.0   \n",
       "\n",
       "                     lag_6  lag_7  lag_8  ...  lag_16  lag_17  lag_18  lag_19  \\\n",
       "datetime                                  ...                                   \n",
       "2018-03-02 00:00:00   73.0   44.0   43.0  ...    34.0    15.0    12.0     6.0   \n",
       "2018-03-02 01:00:00   45.0   73.0   44.0  ...    69.0    34.0    15.0    12.0   \n",
       "2018-03-02 02:00:00   61.0   45.0   73.0  ...    64.0    69.0    34.0    15.0   \n",
       "2018-03-02 03:00:00   66.0   61.0   45.0  ...    96.0    64.0    69.0    34.0   \n",
       "2018-03-02 04:00:00  113.0   66.0   61.0  ...    30.0    96.0    64.0    69.0   \n",
       "...                    ...    ...    ...  ...     ...     ...     ...     ...   \n",
       "2018-08-13 09:00:00  168.0  437.0  273.0  ...   115.0   153.0   149.0   104.0   \n",
       "2018-08-13 10:00:00  143.0  168.0  437.0  ...    78.0   115.0   153.0   149.0   \n",
       "2018-08-13 11:00:00   83.0  143.0  168.0  ...    82.0    78.0   115.0   153.0   \n",
       "2018-08-13 12:00:00   66.0   83.0  143.0  ...    98.0    82.0    78.0   115.0   \n",
       "2018-08-13 13:00:00   39.0   66.0   83.0  ...   135.0    98.0    82.0    78.0   \n",
       "\n",
       "                     lag_20  lag_21  lag_22  lag_23  lag_24  rolling_mean  \n",
       "datetime                                                                   \n",
       "2018-03-02 00:00:00    43.0    66.0    71.0    85.0   124.0     56.583333  \n",
       "2018-03-02 01:00:00     6.0    43.0    66.0    71.0    85.0     61.583333  \n",
       "2018-03-02 02:00:00    12.0     6.0    43.0    66.0    71.0     68.916667  \n",
       "2018-03-02 03:00:00    15.0    12.0     6.0    43.0    66.0     71.166667  \n",
       "2018-03-02 04:00:00    34.0    15.0    12.0     6.0    43.0     71.000000  \n",
       "...                     ...     ...     ...     ...     ...           ...  \n",
       "2018-08-13 09:00:00   120.0   123.0    81.0   108.0   108.0    158.166667  \n",
       "2018-08-13 10:00:00   104.0   120.0   123.0    81.0   108.0    158.333333  \n",
       "2018-08-13 11:00:00   149.0   104.0   120.0   123.0    81.0    161.500000  \n",
       "2018-08-13 12:00:00   153.0   149.0   104.0   120.0   123.0    158.083333  \n",
       "2018-08-13 13:00:00   115.0   153.0   149.0   104.0   120.0    152.416667  \n",
       "\n",
       "[3950 rows x 27 columns]"
      ]
     },
     "metadata": {},
     "output_type": "display_data"
    }
   ],
   "source": [
    "train = pd.concat([train, valid], axis=0)\n",
    "display(train)"
   ]
  },
  {
   "cell_type": "code",
   "execution_count": 32,
   "metadata": {},
   "outputs": [
    {
     "name": "stdout",
     "output_type": "stream",
     "text": [
      "RMSE обучающей выборки: 25.96417970557979\n",
      "RMSE тестовой выборки: 45.61845903361608\n"
     ]
    }
   ],
   "source": [
    "x_train = train.drop(['num_orders'], axis=1)\n",
    "y_train = train['num_orders']\n",
    "\n",
    "x_test = test.drop(['num_orders'], axis=1)\n",
    "y_test = test['num_orders']\n",
    "\n",
    "regression2 = LinearRegression()\n",
    "\n",
    "regression2.fit(x_train, y_train)\n",
    "\n",
    "print(\"RMSE обучающей выборки:\", mean_squared_error(y_train, regression2.predict(x_train))**0.5)\n",
    "print(\"RMSE тестовой выборки:\", mean_squared_error(y_test, regression2.predict(x_test))**0.5)"
   ]
  },
  {
   "cell_type": "markdown",
   "metadata": {},
   "source": [
    "Значение метрики качества на тестовой выборке оказалась неприемлимым для заказчика, поэтому мы возвращаемся назад к этапам обработки данных, создания других признаков, тестирования новых гиперпараметров на моделях. И в этот раз мы уже не будем брать модель регрессии, а возьмем другую модель."
   ]
  },
  {
   "cell_type": "markdown",
   "metadata": {},
   "source": [
    "Наконец-то у нас получилось сделать модель, которая удовлетворяет требованиям заказчика по качеству и даже немного превосходит их. Теперь давайте визуализируем результат."
   ]
  },
  {
   "cell_type": "code",
   "execution_count": 33,
   "metadata": {},
   "outputs": [],
   "source": [
    "predictions_test = regression2.predict(x_test)\n",
    "#print(predictions_test)"
   ]
  },
  {
   "cell_type": "code",
   "execution_count": 34,
   "metadata": {},
   "outputs": [
    {
     "data": {
      "image/png": "[encoded data removed]",
      "text/plain": [
       "<Figure size 864x432 with 1 Axes>"
      ]
     },
     "metadata": {
      "needs_background": "light"
     },
     "output_type": "display_data"
    }
   ],
   "source": [
    "plt.figure(figsize=(12,6))\n",
    "plt.plot(x_test.index, predictions_test, label='Predicted')\n",
    "plt.plot(x_test.index, y_test, label='Actual')\n",
    "plt.xlabel('Hour and date', fontsize=14)\n",
    "plt.ylabel('Taxi orders', fontsize=14)\n",
    "plt.title('Comparison of predicted and actual values', fontsize=16)\n",
    "plt.legend()\n",
    "plt.grid()\n",
    "plt.show()"
   ]
  },
  {
   "cell_type": "markdown",
   "metadata": {},
   "source": [
    "Как мы уже раньше отмечали, в более поздей области временного ряда (предсказываемой в данном случае) шум был больше. И на графике сравнения мы можем отметить, что модель не умеет предсказывать этот самый шум, потому что она с ним раньше не сталкивалась. Хотя в целом модель идет довольго неплохо и во многих местах графики совпадают. "
   ]
  },
  {
   "cell_type": "markdown",
   "metadata": {},
   "source": [
    "## Вывод"
   ]
  },
  {
   "cell_type": "markdown",
   "metadata": {},
   "source": [
    "Задача оказаласть не такой легкой, как думалось вначале. Несколько раз приходилось возвращаться назад и все переделывать, но в итоге мы смогли найти наиболее подходящие признаки, которые помогают модели лучше прогнозировать количество заказов, а также подобрали бустинговую модель с оптимальными гиперпараметрами. \n",
    "\n",
    "Мы также столкнулись с повышенным шумом на тествой выборке, который модель в принципе не может науччиться предсказывать, поэтому сильно улучшить качество модели у нас так или иначе не получится и именно поэтому нам пришлось затратить столько усилий, чтобы наконец-то добиться приемлемого результата. "
   ]
  }
 ],
 "metadata": {
  "ExecuteTimeLog": [
   {
    "duration": 1690,
    "start_time": "2023-03-31T14:31:37.029Z"
   },
   {
    "duration": 141,
    "start_time": "2023-03-31T14:32:38.666Z"
   },
   {
    "duration": 22,
    "start_time": "2023-03-31T14:35:08.577Z"
   },
   {
    "duration": 4,
    "start_time": "2023-03-31T14:35:46.482Z"
   },
   {
    "duration": 12,
    "start_time": "2023-03-31T14:36:02.176Z"
   },
   {
    "duration": 778,
    "start_time": "2023-03-31T14:36:38.775Z"
   },
   {
    "duration": 946,
    "start_time": "2023-03-31T14:37:02.780Z"
   },
   {
    "duration": 785,
    "start_time": "2023-03-31T14:37:16.179Z"
   },
   {
    "duration": 19,
    "start_time": "2023-03-31T14:52:53.884Z"
   },
   {
    "duration": 366,
    "start_time": "2023-03-31T14:53:20.300Z"
   },
   {
    "duration": 493,
    "start_time": "2023-03-31T14:58:24.186Z"
   },
   {
    "duration": 491,
    "start_time": "2023-03-31T14:58:41.987Z"
   },
   {
    "duration": 344,
    "start_time": "2023-03-31T14:59:39.002Z"
   },
   {
    "duration": 219,
    "start_time": "2023-03-31T15:03:40.678Z"
   },
   {
    "duration": 292,
    "start_time": "2023-03-31T15:03:55.966Z"
   },
   {
    "duration": 168,
    "start_time": "2023-03-31T15:04:17.106Z"
   },
   {
    "duration": 171,
    "start_time": "2023-03-31T15:04:31.343Z"
   },
   {
    "duration": 209,
    "start_time": "2023-03-31T15:05:27.205Z"
   },
   {
    "duration": 334,
    "start_time": "2023-03-31T15:05:51.540Z"
   },
   {
    "duration": 141,
    "start_time": "2023-03-31T15:18:59.591Z"
   },
   {
    "duration": 833,
    "start_time": "2023-03-31T15:28:17.448Z"
   },
   {
    "duration": 845,
    "start_time": "2023-03-31T15:29:23.687Z"
   },
   {
    "duration": 438,
    "start_time": "2023-03-31T15:30:15.974Z"
   },
   {
    "duration": 405,
    "start_time": "2023-03-31T15:30:36.231Z"
   },
   {
    "duration": 50,
    "start_time": "2023-03-31T15:30:58.003Z"
   },
   {
    "duration": 375,
    "start_time": "2023-03-31T15:31:01.507Z"
   },
   {
    "duration": 377,
    "start_time": "2023-03-31T15:31:47.825Z"
   },
   {
    "duration": 1011,
    "start_time": "2023-03-31T15:53:36.418Z"
   },
   {
    "duration": 813,
    "start_time": "2023-03-31T15:54:36.705Z"
   },
   {
    "duration": 897,
    "start_time": "2023-03-31T15:54:54.093Z"
   },
   {
    "duration": 5,
    "start_time": "2023-03-31T15:55:59.047Z"
   },
   {
    "duration": 831,
    "start_time": "2023-03-31T15:59:26.655Z"
   },
   {
    "duration": 5,
    "start_time": "2023-03-31T16:10:18.943Z"
   },
   {
    "duration": 833,
    "start_time": "2023-03-31T16:10:42.246Z"
   },
   {
    "duration": 5,
    "start_time": "2023-03-31T16:12:51.773Z"
   },
   {
    "duration": 26,
    "start_time": "2023-03-31T16:12:55.076Z"
   },
   {
    "duration": 3,
    "start_time": "2023-03-31T16:13:33.208Z"
   },
   {
    "duration": 24,
    "start_time": "2023-03-31T16:13:36.337Z"
   },
   {
    "duration": 1592,
    "start_time": "2023-03-31T16:13:46.643Z"
   },
   {
    "duration": 53,
    "start_time": "2023-03-31T16:13:48.237Z"
   },
   {
    "duration": 24,
    "start_time": "2023-03-31T16:13:48.293Z"
   },
   {
    "duration": 10,
    "start_time": "2023-03-31T16:13:48.319Z"
   },
   {
    "duration": 33,
    "start_time": "2023-03-31T16:13:48.331Z"
   },
   {
    "duration": 341,
    "start_time": "2023-03-31T16:13:48.367Z"
   },
   {
    "duration": 403,
    "start_time": "2023-03-31T16:13:48.710Z"
   },
   {
    "duration": 484,
    "start_time": "2023-03-31T16:13:49.115Z"
   },
   {
    "duration": 839,
    "start_time": "2023-03-31T16:13:49.600Z"
   },
   {
    "duration": 5,
    "start_time": "2023-03-31T16:13:50.442Z"
   },
   {
    "duration": 42,
    "start_time": "2023-03-31T16:13:50.448Z"
   },
   {
    "duration": 11,
    "start_time": "2023-03-31T16:16:03.083Z"
   },
   {
    "duration": 23,
    "start_time": "2023-03-31T16:26:07.094Z"
   },
   {
    "duration": 15,
    "start_time": "2023-03-31T16:26:09.721Z"
   },
   {
    "duration": 5,
    "start_time": "2023-03-31T16:28:43.103Z"
   },
   {
    "duration": 30,
    "start_time": "2023-03-31T16:28:56.278Z"
   },
   {
    "duration": 30,
    "start_time": "2023-03-31T16:29:23.491Z"
   },
   {
    "duration": 11,
    "start_time": "2023-03-31T16:29:31.839Z"
   },
   {
    "duration": 1597,
    "start_time": "2023-03-31T16:31:06.504Z"
   },
   {
    "duration": 51,
    "start_time": "2023-03-31T16:31:08.103Z"
   },
   {
    "duration": 26,
    "start_time": "2023-03-31T16:31:08.155Z"
   },
   {
    "duration": 13,
    "start_time": "2023-03-31T16:31:08.184Z"
   },
   {
    "duration": 17,
    "start_time": "2023-03-31T16:31:08.199Z"
   },
   {
    "duration": 316,
    "start_time": "2023-03-31T16:31:08.218Z"
   },
   {
    "duration": 410,
    "start_time": "2023-03-31T16:31:08.536Z"
   },
   {
    "duration": 487,
    "start_time": "2023-03-31T16:31:08.949Z"
   },
   {
    "duration": 837,
    "start_time": "2023-03-31T16:31:09.437Z"
   },
   {
    "duration": 6,
    "start_time": "2023-03-31T16:31:10.278Z"
   },
   {
    "duration": 10,
    "start_time": "2023-03-31T16:31:10.286Z"
   },
   {
    "duration": 33,
    "start_time": "2023-03-31T16:31:10.298Z"
   },
   {
    "duration": 20,
    "start_time": "2023-03-31T16:31:10.333Z"
   },
   {
    "duration": 1515,
    "start_time": "2023-03-31T16:32:18.893Z"
   },
   {
    "duration": 48,
    "start_time": "2023-03-31T16:32:20.410Z"
   },
   {
    "duration": 26,
    "start_time": "2023-03-31T16:32:20.460Z"
   },
   {
    "duration": 12,
    "start_time": "2023-03-31T16:32:20.489Z"
   },
   {
    "duration": 20,
    "start_time": "2023-03-31T16:32:20.502Z"
   },
   {
    "duration": 337,
    "start_time": "2023-03-31T16:32:20.525Z"
   },
   {
    "duration": 444,
    "start_time": "2023-03-31T16:32:20.865Z"
   },
   {
    "duration": 507,
    "start_time": "2023-03-31T16:32:21.311Z"
   },
   {
    "duration": 881,
    "start_time": "2023-03-31T16:32:21.819Z"
   },
   {
    "duration": 4,
    "start_time": "2023-03-31T16:32:22.702Z"
   },
   {
    "duration": 6,
    "start_time": "2023-03-31T16:32:22.708Z"
   },
   {
    "duration": 28,
    "start_time": "2023-03-31T16:32:22.716Z"
   },
   {
    "duration": 25,
    "start_time": "2023-03-31T16:32:22.745Z"
   },
   {
    "duration": 208,
    "start_time": "2023-03-31T16:34:51.728Z"
   },
   {
    "duration": 24,
    "start_time": "2023-03-31T16:35:05.748Z"
   },
   {
    "duration": 4,
    "start_time": "2023-03-31T16:36:18.031Z"
   },
   {
    "duration": 1557,
    "start_time": "2023-03-31T16:36:23.588Z"
   },
   {
    "duration": 65,
    "start_time": "2023-03-31T16:36:25.147Z"
   },
   {
    "duration": 21,
    "start_time": "2023-03-31T16:36:25.213Z"
   },
   {
    "duration": 11,
    "start_time": "2023-03-31T16:36:25.236Z"
   },
   {
    "duration": 27,
    "start_time": "2023-03-31T16:36:25.249Z"
   },
   {
    "duration": 321,
    "start_time": "2023-03-31T16:36:25.279Z"
   },
   {
    "duration": 423,
    "start_time": "2023-03-31T16:36:25.602Z"
   },
   {
    "duration": 468,
    "start_time": "2023-03-31T16:36:26.027Z"
   },
   {
    "duration": 795,
    "start_time": "2023-03-31T16:36:26.496Z"
   },
   {
    "duration": 3,
    "start_time": "2023-03-31T16:36:27.295Z"
   },
   {
    "duration": 8,
    "start_time": "2023-03-31T16:36:27.300Z"
   },
   {
    "duration": 34,
    "start_time": "2023-03-31T16:36:27.311Z"
   },
   {
    "duration": 22,
    "start_time": "2023-03-31T16:36:27.346Z"
   },
   {
    "duration": 28,
    "start_time": "2023-03-31T16:36:27.378Z"
   },
   {
    "duration": 22,
    "start_time": "2023-03-31T16:36:50.675Z"
   },
   {
    "duration": 25,
    "start_time": "2023-03-31T16:40:38.640Z"
   },
   {
    "duration": 13,
    "start_time": "2023-03-31T16:41:57.189Z"
   },
   {
    "duration": 3,
    "start_time": "2023-03-31T16:44:22.645Z"
   },
   {
    "duration": 21,
    "start_time": "2023-03-31T16:45:49.723Z"
   },
   {
    "duration": 3,
    "start_time": "2023-03-31T16:46:59.020Z"
   },
   {
    "duration": 318237,
    "start_time": "2023-03-31T16:47:51.739Z"
   },
   {
    "duration": 1565,
    "start_time": "2023-03-31T17:03:53.137Z"
   },
   {
    "duration": 48,
    "start_time": "2023-03-31T17:03:54.704Z"
   },
   {
    "duration": 22,
    "start_time": "2023-03-31T17:03:54.754Z"
   },
   {
    "duration": 12,
    "start_time": "2023-03-31T17:03:54.778Z"
   },
   {
    "duration": 25,
    "start_time": "2023-03-31T17:03:54.792Z"
   },
   {
    "duration": 333,
    "start_time": "2023-03-31T17:03:54.821Z"
   },
   {
    "duration": 458,
    "start_time": "2023-03-31T17:03:55.156Z"
   },
   {
    "duration": 476,
    "start_time": "2023-03-31T17:03:55.617Z"
   },
   {
    "duration": 846,
    "start_time": "2023-03-31T17:03:56.095Z"
   },
   {
    "duration": 5,
    "start_time": "2023-03-31T17:03:56.943Z"
   },
   {
    "duration": 5,
    "start_time": "2023-03-31T17:03:56.962Z"
   },
   {
    "duration": 36,
    "start_time": "2023-03-31T17:03:56.969Z"
   },
   {
    "duration": 11,
    "start_time": "2023-03-31T17:03:57.007Z"
   },
   {
    "duration": 53,
    "start_time": "2023-03-31T17:03:57.020Z"
   },
   {
    "duration": 14,
    "start_time": "2023-03-31T17:03:57.075Z"
   },
   {
    "duration": 4,
    "start_time": "2023-03-31T17:03:57.091Z"
   },
   {
    "duration": 65,
    "start_time": "2023-03-31T17:03:57.097Z"
   },
   {
    "duration": 12,
    "start_time": "2023-03-31T17:03:57.165Z"
   },
   {
    "duration": 388984,
    "start_time": "2023-03-31T17:03:57.179Z"
   },
   {
    "duration": 135,
    "start_time": "2023-03-31T17:10:26.165Z"
   },
   {
    "duration": 0,
    "start_time": "2023-03-31T17:10:26.302Z"
   },
   {
    "duration": 0,
    "start_time": "2023-03-31T17:10:26.303Z"
   },
   {
    "duration": 27,
    "start_time": "2023-03-31T17:11:29.822Z"
   },
   {
    "duration": 410239,
    "start_time": "2023-03-31T17:12:12.427Z"
   },
   {
    "duration": 4,
    "start_time": "2023-03-31T17:20:45.650Z"
   },
   {
    "duration": 22,
    "start_time": "2023-03-31T17:23:01.844Z"
   },
   {
    "duration": 1449,
    "start_time": "2023-03-31T17:33:19.626Z"
   },
   {
    "duration": 48,
    "start_time": "2023-03-31T17:33:21.078Z"
   },
   {
    "duration": 18,
    "start_time": "2023-03-31T17:33:21.127Z"
   },
   {
    "duration": 10,
    "start_time": "2023-03-31T17:33:21.147Z"
   },
   {
    "duration": 18,
    "start_time": "2023-03-31T17:33:21.163Z"
   },
   {
    "duration": 308,
    "start_time": "2023-03-31T17:33:21.183Z"
   },
   {
    "duration": 529,
    "start_time": "2023-03-31T17:33:21.493Z"
   },
   {
    "duration": 917,
    "start_time": "2023-03-31T17:33:22.063Z"
   },
   {
    "duration": 1168,
    "start_time": "2023-03-31T17:33:22.982Z"
   },
   {
    "duration": 11,
    "start_time": "2023-03-31T17:33:24.152Z"
   },
   {
    "duration": 11,
    "start_time": "2023-03-31T17:33:24.166Z"
   },
   {
    "duration": 34,
    "start_time": "2023-03-31T17:33:24.180Z"
   },
   {
    "duration": 11,
    "start_time": "2023-03-31T17:33:24.216Z"
   },
   {
    "duration": 135,
    "start_time": "2023-03-31T17:33:24.231Z"
   },
   {
    "duration": 100,
    "start_time": "2023-03-31T17:33:24.368Z"
   },
   {
    "duration": 5,
    "start_time": "2023-03-31T17:33:24.470Z"
   },
   {
    "duration": 6,
    "start_time": "2023-03-31T17:33:24.477Z"
   },
   {
    "duration": 14,
    "start_time": "2023-03-31T17:33:24.485Z"
   },
   {
    "duration": 12,
    "start_time": "2023-03-31T17:33:24.500Z"
   },
   {
    "duration": 10,
    "start_time": "2023-03-31T17:34:22.640Z"
   },
   {
    "duration": 5,
    "start_time": "2023-03-31T17:37:22.170Z"
   },
   {
    "duration": 5,
    "start_time": "2023-03-31T17:37:34.985Z"
   },
   {
    "duration": 4,
    "start_time": "2023-03-31T17:37:39.641Z"
   },
   {
    "duration": 8,
    "start_time": "2023-03-31T17:38:19.491Z"
   },
   {
    "duration": 143,
    "start_time": "2023-03-31T17:38:44.979Z"
   },
   {
    "duration": 17,
    "start_time": "2023-03-31T17:39:32.234Z"
   },
   {
    "duration": 18,
    "start_time": "2023-03-31T17:39:48.776Z"
   },
   {
    "duration": 1393,
    "start_time": "2023-03-31T17:40:28.809Z"
   },
   {
    "duration": 51,
    "start_time": "2023-03-31T17:40:30.204Z"
   },
   {
    "duration": 21,
    "start_time": "2023-03-31T17:40:30.256Z"
   },
   {
    "duration": 39,
    "start_time": "2023-03-31T17:40:30.279Z"
   },
   {
    "duration": 37,
    "start_time": "2023-03-31T17:40:30.320Z"
   },
   {
    "duration": 285,
    "start_time": "2023-03-31T17:40:30.358Z"
   },
   {
    "duration": 452,
    "start_time": "2023-03-31T17:40:30.645Z"
   },
   {
    "duration": 455,
    "start_time": "2023-03-31T17:40:31.099Z"
   },
   {
    "duration": 792,
    "start_time": "2023-03-31T17:40:31.556Z"
   },
   {
    "duration": 12,
    "start_time": "2023-03-31T17:40:32.351Z"
   },
   {
    "duration": 28,
    "start_time": "2023-03-31T17:40:32.365Z"
   },
   {
    "duration": 32,
    "start_time": "2023-03-31T17:40:32.395Z"
   },
   {
    "duration": 12,
    "start_time": "2023-03-31T17:40:32.429Z"
   },
   {
    "duration": 122,
    "start_time": "2023-03-31T17:40:32.443Z"
   },
   {
    "duration": 100,
    "start_time": "2023-03-31T17:40:32.568Z"
   },
   {
    "duration": 4,
    "start_time": "2023-03-31T17:40:32.670Z"
   },
   {
    "duration": 5,
    "start_time": "2023-03-31T17:40:32.675Z"
   },
   {
    "duration": 5,
    "start_time": "2023-03-31T17:40:32.682Z"
   },
   {
    "duration": 10,
    "start_time": "2023-03-31T17:40:32.689Z"
   },
   {
    "duration": 61,
    "start_time": "2023-03-31T17:40:32.701Z"
   },
   {
    "duration": 7,
    "start_time": "2023-03-31T17:40:32.775Z"
   },
   {
    "duration": 16,
    "start_time": "2023-03-31T17:40:32.863Z"
   },
   {
    "duration": 20,
    "start_time": "2023-03-31T17:41:56.046Z"
   },
   {
    "duration": 3,
    "start_time": "2023-03-31T17:43:20.997Z"
   },
   {
    "duration": 30,
    "start_time": "2023-03-31T17:43:54.914Z"
   },
   {
    "duration": 19,
    "start_time": "2023-03-31T17:44:14.682Z"
   },
   {
    "duration": 1410,
    "start_time": "2023-03-31T18:06:05.067Z"
   },
   {
    "duration": 48,
    "start_time": "2023-03-31T18:06:06.479Z"
   },
   {
    "duration": 16,
    "start_time": "2023-03-31T18:06:06.528Z"
   },
   {
    "duration": 9,
    "start_time": "2023-03-31T18:06:06.546Z"
   },
   {
    "duration": 19,
    "start_time": "2023-03-31T18:06:06.562Z"
   },
   {
    "duration": 275,
    "start_time": "2023-03-31T18:06:06.583Z"
   },
   {
    "duration": 381,
    "start_time": "2023-03-31T18:06:06.861Z"
   },
   {
    "duration": 464,
    "start_time": "2023-03-31T18:06:07.244Z"
   },
   {
    "duration": 774,
    "start_time": "2023-03-31T18:06:07.710Z"
   },
   {
    "duration": 4,
    "start_time": "2023-03-31T18:06:08.487Z"
   },
   {
    "duration": 6,
    "start_time": "2023-03-31T18:06:08.492Z"
   },
   {
    "duration": 23,
    "start_time": "2023-03-31T18:06:08.500Z"
   },
   {
    "duration": 9,
    "start_time": "2023-03-31T18:06:08.525Z"
   },
   {
    "duration": 60,
    "start_time": "2023-03-31T18:06:08.535Z"
   },
   {
    "duration": 103,
    "start_time": "2023-03-31T18:06:08.662Z"
   },
   {
    "duration": 3,
    "start_time": "2023-03-31T18:06:08.767Z"
   },
   {
    "duration": 7,
    "start_time": "2023-03-31T18:06:08.771Z"
   },
   {
    "duration": 6,
    "start_time": "2023-03-31T18:06:08.780Z"
   },
   {
    "duration": 6,
    "start_time": "2023-03-31T18:06:08.787Z"
   },
   {
    "duration": 72,
    "start_time": "2023-03-31T18:06:08.795Z"
   },
   {
    "duration": 6,
    "start_time": "2023-03-31T18:06:08.869Z"
   },
   {
    "duration": 91,
    "start_time": "2023-03-31T18:06:08.876Z"
   },
   {
    "duration": 12,
    "start_time": "2023-03-31T18:06:08.968Z"
   },
   {
    "duration": 4,
    "start_time": "2023-03-31T18:06:08.982Z"
   },
   {
    "duration": 19,
    "start_time": "2023-03-31T18:06:08.987Z"
   },
   {
    "duration": 60,
    "start_time": "2023-03-31T18:06:09.008Z"
   },
   {
    "duration": 4,
    "start_time": "2023-04-01T13:34:29.728Z"
   },
   {
    "duration": 1638,
    "start_time": "2023-04-01T13:40:52.557Z"
   },
   {
    "duration": 157,
    "start_time": "2023-04-01T13:40:54.197Z"
   },
   {
    "duration": 19,
    "start_time": "2023-04-01T13:40:54.355Z"
   },
   {
    "duration": 14,
    "start_time": "2023-04-01T13:40:54.376Z"
   },
   {
    "duration": 16,
    "start_time": "2023-04-01T13:40:54.391Z"
   },
   {
    "duration": 277,
    "start_time": "2023-04-01T13:40:54.409Z"
   },
   {
    "duration": 5,
    "start_time": "2023-04-01T13:40:54.688Z"
   },
   {
    "duration": 4,
    "start_time": "2023-04-01T13:40:54.695Z"
   },
   {
    "duration": 126,
    "start_time": "2023-04-01T13:40:54.700Z"
   },
   {
    "duration": 5,
    "start_time": "2023-04-01T13:43:15.956Z"
   },
   {
    "duration": 239,
    "start_time": "2023-04-01T13:43:18.322Z"
   },
   {
    "duration": 290,
    "start_time": "2023-04-01T13:43:46.750Z"
   },
   {
    "duration": 173,
    "start_time": "2023-04-01T13:43:52.734Z"
   },
   {
    "duration": 183,
    "start_time": "2023-04-01T13:44:37.109Z"
   },
   {
    "duration": 194,
    "start_time": "2023-04-01T13:44:46.245Z"
   },
   {
    "duration": 372,
    "start_time": "2023-04-01T13:54:39.477Z"
   },
   {
    "duration": 877,
    "start_time": "2023-04-01T13:54:47.511Z"
   },
   {
    "duration": 948,
    "start_time": "2023-04-01T13:54:59.830Z"
   },
   {
    "duration": 11,
    "start_time": "2023-04-01T14:09:02.751Z"
   },
   {
    "duration": 1362,
    "start_time": "2023-04-01T14:09:08.201Z"
   },
   {
    "duration": 49,
    "start_time": "2023-04-01T14:09:09.565Z"
   },
   {
    "duration": 19,
    "start_time": "2023-04-01T14:09:09.616Z"
   },
   {
    "duration": 10,
    "start_time": "2023-04-01T14:09:09.637Z"
   },
   {
    "duration": 30,
    "start_time": "2023-04-01T14:09:09.649Z"
   },
   {
    "duration": 267,
    "start_time": "2023-04-01T14:09:09.681Z"
   },
   {
    "duration": 6,
    "start_time": "2023-04-01T14:09:09.949Z"
   },
   {
    "duration": 4,
    "start_time": "2023-04-01T14:09:09.956Z"
   },
   {
    "duration": 235,
    "start_time": "2023-04-01T14:09:09.961Z"
   },
   {
    "duration": 473,
    "start_time": "2023-04-01T14:09:10.198Z"
   },
   {
    "duration": 745,
    "start_time": "2023-04-01T14:09:10.673Z"
   },
   {
    "duration": 960,
    "start_time": "2023-04-01T14:09:11.421Z"
   },
   {
    "duration": 4,
    "start_time": "2023-04-01T14:09:12.382Z"
   },
   {
    "duration": 4,
    "start_time": "2023-04-01T14:09:12.389Z"
   },
   {
    "duration": 27,
    "start_time": "2023-04-01T14:09:12.395Z"
   },
   {
    "duration": 9,
    "start_time": "2023-04-01T14:09:12.425Z"
   },
   {
    "duration": 63,
    "start_time": "2023-04-01T14:09:12.436Z"
   },
   {
    "duration": 85,
    "start_time": "2023-04-01T14:09:12.500Z"
   },
   {
    "duration": 10,
    "start_time": "2023-04-01T14:09:12.676Z"
   },
   {
    "duration": 9,
    "start_time": "2023-04-01T14:09:12.688Z"
   },
   {
    "duration": 10,
    "start_time": "2023-04-01T14:09:12.699Z"
   },
   {
    "duration": 8,
    "start_time": "2023-04-01T14:09:12.711Z"
   },
   {
    "duration": 16,
    "start_time": "2023-04-01T14:09:12.720Z"
   },
   {
    "duration": 6,
    "start_time": "2023-04-01T14:09:12.737Z"
   },
   {
    "duration": 18,
    "start_time": "2023-04-01T14:09:12.744Z"
   },
   {
    "duration": 5,
    "start_time": "2023-04-01T14:09:12.764Z"
   },
   {
    "duration": 4,
    "start_time": "2023-04-01T14:09:12.771Z"
   },
   {
    "duration": 21,
    "start_time": "2023-04-01T14:09:12.776Z"
   },
   {
    "duration": 14,
    "start_time": "2023-04-01T14:09:12.798Z"
   },
   {
    "duration": 4,
    "start_time": "2023-04-01T14:17:07.799Z"
   },
   {
    "duration": 3,
    "start_time": "2023-04-01T14:33:09.806Z"
   },
   {
    "duration": 1353,
    "start_time": "2023-04-01T14:33:26.623Z"
   },
   {
    "duration": 49,
    "start_time": "2023-04-01T14:33:27.978Z"
   },
   {
    "duration": 19,
    "start_time": "2023-04-01T14:33:28.028Z"
   },
   {
    "duration": 11,
    "start_time": "2023-04-01T14:33:28.050Z"
   },
   {
    "duration": 24,
    "start_time": "2023-04-01T14:33:28.063Z"
   },
   {
    "duration": 281,
    "start_time": "2023-04-01T14:33:28.089Z"
   },
   {
    "duration": 7,
    "start_time": "2023-04-01T14:33:28.375Z"
   },
   {
    "duration": 5,
    "start_time": "2023-04-01T14:33:28.383Z"
   },
   {
    "duration": 246,
    "start_time": "2023-04-01T14:33:28.390Z"
   },
   {
    "duration": 423,
    "start_time": "2023-04-01T14:33:28.639Z"
   },
   {
    "duration": 758,
    "start_time": "2023-04-01T14:33:29.064Z"
   },
   {
    "duration": 969,
    "start_time": "2023-04-01T14:33:29.824Z"
   },
   {
    "duration": 4,
    "start_time": "2023-04-01T14:33:30.796Z"
   },
   {
    "duration": 17,
    "start_time": "2023-04-01T14:33:30.801Z"
   },
   {
    "duration": 68,
    "start_time": "2023-04-01T14:33:30.820Z"
   },
   {
    "duration": 126,
    "start_time": "2023-04-01T14:34:28.539Z"
   },
   {
    "duration": 5,
    "start_time": "2023-04-01T14:35:10.295Z"
   },
   {
    "duration": 3,
    "start_time": "2023-04-01T14:35:13.603Z"
   },
   {
    "duration": 16,
    "start_time": "2023-04-01T14:35:16.506Z"
   },
   {
    "duration": 4,
    "start_time": "2023-04-01T14:37:16.949Z"
   },
   {
    "duration": 3,
    "start_time": "2023-04-01T14:37:19.579Z"
   },
   {
    "duration": 16,
    "start_time": "2023-04-01T14:37:21.367Z"
   },
   {
    "duration": 15,
    "start_time": "2023-04-01T14:44:41.186Z"
   },
   {
    "duration": 15,
    "start_time": "2023-04-01T14:44:54.902Z"
   },
   {
    "duration": 18,
    "start_time": "2023-04-01T14:44:59.805Z"
   },
   {
    "duration": 16,
    "start_time": "2023-04-01T14:45:06.495Z"
   },
   {
    "duration": 6,
    "start_time": "2023-04-01T14:49:42.399Z"
   },
   {
    "duration": 4,
    "start_time": "2023-04-01T14:49:56.935Z"
   },
   {
    "duration": 18,
    "start_time": "2023-04-01T14:50:03.707Z"
   },
   {
    "duration": 21,
    "start_time": "2023-04-01T14:50:12.245Z"
   },
   {
    "duration": 19,
    "start_time": "2023-04-01T14:50:19.029Z"
   },
   {
    "duration": 6,
    "start_time": "2023-04-01T14:51:39.607Z"
   },
   {
    "duration": 4,
    "start_time": "2023-04-01T14:51:42.960Z"
   },
   {
    "duration": 20,
    "start_time": "2023-04-01T14:51:45.506Z"
   },
   {
    "duration": 18,
    "start_time": "2023-04-01T14:51:51.104Z"
   },
   {
    "duration": 12,
    "start_time": "2023-04-01T15:09:14.076Z"
   },
   {
    "duration": 1381,
    "start_time": "2023-04-01T15:09:28.712Z"
   },
   {
    "duration": 50,
    "start_time": "2023-04-01T15:09:30.094Z"
   },
   {
    "duration": 19,
    "start_time": "2023-04-01T15:09:30.146Z"
   },
   {
    "duration": 37,
    "start_time": "2023-04-01T15:09:30.167Z"
   },
   {
    "duration": 29,
    "start_time": "2023-04-01T15:09:30.206Z"
   },
   {
    "duration": 317,
    "start_time": "2023-04-01T15:09:30.237Z"
   },
   {
    "duration": 6,
    "start_time": "2023-04-01T15:09:30.556Z"
   },
   {
    "duration": 17,
    "start_time": "2023-04-01T15:09:30.574Z"
   },
   {
    "duration": 243,
    "start_time": "2023-04-01T15:09:30.593Z"
   },
   {
    "duration": 479,
    "start_time": "2023-04-01T15:09:30.839Z"
   },
   {
    "duration": 801,
    "start_time": "2023-04-01T15:09:31.320Z"
   },
   {
    "duration": 955,
    "start_time": "2023-04-01T15:09:32.123Z"
   },
   {
    "duration": 6,
    "start_time": "2023-04-01T15:09:33.080Z"
   },
   {
    "duration": 3,
    "start_time": "2023-04-01T15:09:37.978Z"
   },
   {
    "duration": 127,
    "start_time": "2023-04-01T15:09:43.422Z"
   },
   {
    "duration": 19,
    "start_time": "2023-04-01T15:09:56.167Z"
   },
   {
    "duration": 16,
    "start_time": "2023-04-01T15:10:03.525Z"
   },
   {
    "duration": 2,
    "start_time": "2023-04-01T15:11:12.374Z"
   },
   {
    "duration": 25,
    "start_time": "2023-04-01T15:11:14.944Z"
   },
   {
    "duration": 22,
    "start_time": "2023-04-01T15:13:20.928Z"
   },
   {
    "duration": 3,
    "start_time": "2023-04-01T15:14:58.205Z"
   },
   {
    "duration": 22,
    "start_time": "2023-04-01T15:15:01.265Z"
   },
   {
    "duration": 9,
    "start_time": "2023-04-01T15:15:04.002Z"
   },
   {
    "duration": 161,
    "start_time": "2023-04-01T15:36:34.117Z"
   },
   {
    "duration": 7,
    "start_time": "2023-04-01T15:37:58.375Z"
   },
   {
    "duration": 11144,
    "start_time": "2023-04-01T15:39:11.962Z"
   },
   {
    "duration": 4,
    "start_time": "2023-04-01T16:21:24.546Z"
   },
   {
    "duration": 24,
    "start_time": "2023-04-01T16:21:36.621Z"
   },
   {
    "duration": 8,
    "start_time": "2023-04-01T16:21:53.793Z"
   },
   {
    "duration": 88,
    "start_time": "2023-04-01T16:22:09.992Z"
   },
   {
    "duration": 3,
    "start_time": "2023-04-01T16:22:17.334Z"
   },
   {
    "duration": 11467,
    "start_time": "2023-04-01T16:22:19.791Z"
   },
   {
    "duration": 11,
    "start_time": "2023-04-01T16:23:16.957Z"
   },
   {
    "duration": 3,
    "start_time": "2023-04-01T16:23:20.330Z"
   },
   {
    "duration": 5,
    "start_time": "2023-04-01T16:23:22.579Z"
   },
   {
    "duration": 13,
    "start_time": "2023-04-01T16:23:36.422Z"
   },
   {
    "duration": 10,
    "start_time": "2023-04-01T16:24:20.569Z"
   },
   {
    "duration": 12,
    "start_time": "2023-04-01T16:24:42.668Z"
   },
   {
    "duration": 3,
    "start_time": "2023-04-01T16:26:29.464Z"
   },
   {
    "duration": 4,
    "start_time": "2023-04-01T16:26:35.145Z"
   },
   {
    "duration": 132226,
    "start_time": "2023-04-01T16:26:37.952Z"
   },
   {
    "duration": 118002,
    "start_time": "2023-04-01T16:28:50.181Z"
   },
   {
    "duration": 5,
    "start_time": "2023-04-01T16:42:56.944Z"
   },
   {
    "duration": 8,
    "start_time": "2023-04-01T16:53:48.455Z"
   },
   {
    "duration": 5,
    "start_time": "2023-04-01T16:53:55.442Z"
   },
   {
    "duration": 4,
    "start_time": "2023-04-01T16:53:57.437Z"
   },
   {
    "duration": 4,
    "start_time": "2023-04-01T16:54:00.011Z"
   },
   {
    "duration": 20,
    "start_time": "2023-04-01T16:54:03.447Z"
   },
   {
    "duration": 18,
    "start_time": "2023-04-01T16:54:12.830Z"
   },
   {
    "duration": 1717,
    "start_time": "2023-04-02T16:32:20.766Z"
   },
   {
    "duration": 141,
    "start_time": "2023-04-02T16:32:22.485Z"
   },
   {
    "duration": 20,
    "start_time": "2023-04-02T16:32:22.629Z"
   },
   {
    "duration": 11,
    "start_time": "2023-04-02T16:32:22.652Z"
   },
   {
    "duration": 17,
    "start_time": "2023-04-02T16:32:22.665Z"
   },
   {
    "duration": 266,
    "start_time": "2023-04-02T16:32:22.683Z"
   },
   {
    "duration": 11,
    "start_time": "2023-04-02T16:32:22.951Z"
   },
   {
    "duration": 23,
    "start_time": "2023-04-02T16:32:22.964Z"
   },
   {
    "duration": 257,
    "start_time": "2023-04-02T16:32:22.989Z"
   },
   {
    "duration": 451,
    "start_time": "2023-04-02T16:32:23.248Z"
   },
   {
    "duration": 868,
    "start_time": "2023-04-02T16:32:23.701Z"
   },
   {
    "duration": 1018,
    "start_time": "2023-04-02T16:32:24.571Z"
   },
   {
    "duration": 5,
    "start_time": "2023-04-02T16:32:25.591Z"
   },
   {
    "duration": 13,
    "start_time": "2023-04-02T16:32:25.597Z"
   },
   {
    "duration": 32,
    "start_time": "2023-04-02T16:32:25.613Z"
   },
   {
    "duration": 19,
    "start_time": "2023-04-02T16:32:25.648Z"
   },
   {
    "duration": 299,
    "start_time": "2023-04-02T16:32:25.669Z"
   },
   {
    "duration": 5,
    "start_time": "2023-04-02T16:32:25.970Z"
   },
   {
    "duration": 11912,
    "start_time": "2023-04-02T16:32:25.978Z"
   },
   {
    "duration": 12,
    "start_time": "2023-04-02T16:32:37.892Z"
   },
   {
    "duration": 6,
    "start_time": "2023-04-02T16:32:37.906Z"
   },
   {
    "duration": 5,
    "start_time": "2023-04-02T16:32:37.913Z"
   },
   {
    "duration": 56049,
    "start_time": "2023-04-02T16:32:37.920Z"
   },
   {
    "duration": 2094,
    "start_time": "2023-04-02T16:33:33.971Z"
   },
   {
    "duration": 7,
    "start_time": "2023-04-02T16:33:36.067Z"
   },
   {
    "duration": 10,
    "start_time": "2023-04-02T16:33:36.076Z"
   },
   {
    "duration": 5,
    "start_time": "2023-04-02T16:33:36.087Z"
   },
   {
    "duration": 15,
    "start_time": "2023-04-02T16:33:36.094Z"
   },
   {
    "duration": 37,
    "start_time": "2023-04-02T16:33:36.110Z"
   },
   {
    "duration": 29,
    "start_time": "2023-04-02T16:33:36.149Z"
   },
   {
    "duration": 184,
    "start_time": "2023-04-02T16:33:36.179Z"
   },
   {
    "duration": 3,
    "start_time": "2023-04-02T16:38:04.594Z"
   },
   {
    "duration": 416,
    "start_time": "2023-04-02T16:48:11.834Z"
   },
   {
    "duration": 4,
    "start_time": "2023-04-02T16:51:14.066Z"
   },
   {
    "duration": 293307,
    "start_time": "2023-04-02T16:51:30.960Z"
   },
   {
    "duration": 9,
    "start_time": "2023-04-02T16:59:12.322Z"
   },
   {
    "duration": 1382,
    "start_time": "2023-04-02T16:59:17.696Z"
   },
   {
    "duration": 47,
    "start_time": "2023-04-02T16:59:19.081Z"
   },
   {
    "duration": 19,
    "start_time": "2023-04-02T16:59:19.130Z"
   },
   {
    "duration": 15,
    "start_time": "2023-04-02T16:59:19.151Z"
   },
   {
    "duration": 14,
    "start_time": "2023-04-02T16:59:19.168Z"
   },
   {
    "duration": 289,
    "start_time": "2023-04-02T16:59:19.184Z"
   },
   {
    "duration": 6,
    "start_time": "2023-04-02T16:59:19.475Z"
   },
   {
    "duration": 13,
    "start_time": "2023-04-02T16:59:19.482Z"
   },
   {
    "duration": 268,
    "start_time": "2023-04-02T16:59:19.497Z"
   },
   {
    "duration": 438,
    "start_time": "2023-04-02T16:59:19.768Z"
   },
   {
    "duration": 840,
    "start_time": "2023-04-02T16:59:20.208Z"
   },
   {
    "duration": 1033,
    "start_time": "2023-04-02T16:59:21.050Z"
   },
   {
    "duration": 5,
    "start_time": "2023-04-02T16:59:22.085Z"
   },
   {
    "duration": 7,
    "start_time": "2023-04-02T16:59:22.092Z"
   },
   {
    "duration": 27,
    "start_time": "2023-04-02T16:59:22.101Z"
   },
   {
    "duration": 11,
    "start_time": "2023-04-02T16:59:22.130Z"
   },
   {
    "duration": 10,
    "start_time": "2023-04-02T16:59:22.163Z"
   },
   {
    "duration": 188,
    "start_time": "2023-04-02T16:59:22.175Z"
   },
   {
    "duration": 5,
    "start_time": "2023-04-02T16:59:22.366Z"
   },
   {
    "duration": 11922,
    "start_time": "2023-04-02T16:59:22.373Z"
   },
   {
    "duration": 12,
    "start_time": "2023-04-02T16:59:34.297Z"
   },
   {
    "duration": 5,
    "start_time": "2023-04-02T16:59:34.311Z"
   },
   {
    "duration": 6,
    "start_time": "2023-04-02T16:59:34.317Z"
   },
   {
    "duration": 360849,
    "start_time": "2023-04-02T16:59:34.325Z"
   },
   {
    "duration": 349887,
    "start_time": "2023-04-02T17:05:35.176Z"
   },
   {
    "duration": 3,
    "start_time": "2023-04-02T17:11:25.065Z"
   },
   {
    "duration": 15,
    "start_time": "2023-04-02T17:11:25.070Z"
   },
   {
    "duration": 16,
    "start_time": "2023-04-02T17:11:25.088Z"
   },
   {
    "duration": 8,
    "start_time": "2023-04-02T17:11:25.105Z"
   },
   {
    "duration": 9,
    "start_time": "2023-04-02T17:11:25.114Z"
   },
   {
    "duration": 49,
    "start_time": "2023-04-02T17:11:25.124Z"
   },
   {
    "duration": 18,
    "start_time": "2023-04-02T17:11:25.174Z"
   },
   {
    "duration": 591,
    "start_time": "2023-04-02T17:11:25.194Z"
   },
   {
    "duration": 4,
    "start_time": "2023-04-02T17:11:25.787Z"
   },
   {
    "duration": 309778,
    "start_time": "2023-04-02T17:11:25.792Z"
   },
   {
    "duration": 66,
    "start_time": "2023-04-02T17:19:27.504Z"
   },
   {
    "duration": 132,
    "start_time": "2023-04-02T17:21:33.154Z"
   },
   {
    "duration": 19,
    "start_time": "2023-04-02T17:21:42.363Z"
   },
   {
    "duration": 19,
    "start_time": "2023-04-02T17:21:49.448Z"
   },
   {
    "duration": 18,
    "start_time": "2023-04-02T17:22:07.445Z"
   },
   {
    "duration": 203,
    "start_time": "2023-04-02T17:22:38.682Z"
   },
   {
    "duration": 243,
    "start_time": "2023-04-02T17:25:14.378Z"
   },
   {
    "duration": 210,
    "start_time": "2023-04-02T17:34:43.073Z"
   },
   {
    "duration": 231,
    "start_time": "2023-04-02T17:35:47.290Z"
   },
   {
    "duration": 193,
    "start_time": "2023-04-02T17:35:56.981Z"
   },
   {
    "duration": 265,
    "start_time": "2023-04-02T17:36:25.292Z"
   },
   {
    "duration": 368,
    "start_time": "2023-04-02T17:37:05.749Z"
   },
   {
    "duration": 521,
    "start_time": "2023-04-02T17:37:43.732Z"
   },
   {
    "duration": 394,
    "start_time": "2023-04-02T17:38:27.244Z"
   },
   {
    "duration": 353,
    "start_time": "2023-04-02T17:38:34.579Z"
   },
   {
    "duration": 1537,
    "start_time": "2023-04-02T17:38:47.584Z"
   },
   {
    "duration": 47,
    "start_time": "2023-04-02T17:38:49.123Z"
   },
   {
    "duration": 18,
    "start_time": "2023-04-02T17:38:49.172Z"
   },
   {
    "duration": 31,
    "start_time": "2023-04-02T17:38:49.192Z"
   },
   {
    "duration": 21,
    "start_time": "2023-04-02T17:38:49.224Z"
   },
   {
    "duration": 279,
    "start_time": "2023-04-02T17:38:49.247Z"
   },
   {
    "duration": 6,
    "start_time": "2023-04-02T17:38:49.528Z"
   },
   {
    "duration": 7,
    "start_time": "2023-04-02T17:38:49.535Z"
   },
   {
    "duration": 279,
    "start_time": "2023-04-02T17:38:49.543Z"
   },
   {
    "duration": 657,
    "start_time": "2023-04-02T17:38:49.825Z"
   },
   {
    "duration": 757,
    "start_time": "2023-04-02T17:38:50.485Z"
   },
   {
    "duration": 961,
    "start_time": "2023-04-02T17:38:51.244Z"
   },
   {
    "duration": 5,
    "start_time": "2023-04-02T17:38:52.207Z"
   },
   {
    "duration": 4,
    "start_time": "2023-04-02T17:38:52.214Z"
   },
   {
    "duration": 43,
    "start_time": "2023-04-02T17:38:52.219Z"
   },
   {
    "duration": 10,
    "start_time": "2023-04-02T17:38:52.263Z"
   },
   {
    "duration": 10,
    "start_time": "2023-04-02T17:38:52.274Z"
   },
   {
    "duration": 80,
    "start_time": "2023-04-02T17:38:52.285Z"
   },
   {
    "duration": 3,
    "start_time": "2023-04-02T17:38:52.367Z"
   },
   {
    "duration": 11221,
    "start_time": "2023-04-02T17:38:52.372Z"
   },
   {
    "duration": 11,
    "start_time": "2023-04-02T17:39:03.595Z"
   },
   {
    "duration": 3,
    "start_time": "2023-04-02T17:39:03.607Z"
   },
   {
    "duration": 11,
    "start_time": "2023-04-02T17:39:03.611Z"
   },
   {
    "duration": 5246,
    "start_time": "2023-04-02T17:39:03.624Z"
   },
   {
    "duration": 1899,
    "start_time": "2023-04-02T17:39:08.872Z"
   },
   {
    "duration": 3,
    "start_time": "2023-04-02T17:39:10.774Z"
   },
   {
    "duration": 7,
    "start_time": "2023-04-02T17:39:10.779Z"
   },
   {
    "duration": 5,
    "start_time": "2023-04-02T17:39:10.790Z"
   },
   {
    "duration": 66,
    "start_time": "2023-04-02T17:39:10.796Z"
   },
   {
    "duration": 2,
    "start_time": "2023-04-02T17:39:10.864Z"
   },
   {
    "duration": 18,
    "start_time": "2023-04-02T17:39:10.868Z"
   },
   {
    "duration": 79,
    "start_time": "2023-04-02T17:39:10.888Z"
   },
   {
    "duration": 505,
    "start_time": "2023-04-02T17:39:10.969Z"
   },
   {
    "duration": 3,
    "start_time": "2023-04-02T17:39:11.475Z"
   },
   {
    "duration": 2595,
    "start_time": "2023-04-02T17:39:11.479Z"
   },
   {
    "duration": 97,
    "start_time": "2023-04-02T17:39:14.076Z"
   },
   {
    "duration": 187,
    "start_time": "2023-04-02T17:39:14.176Z"
   },
   {
    "duration": 251,
    "start_time": "2023-04-02T17:53:29.855Z"
   },
   {
    "duration": 8,
    "start_time": "2023-04-03T08:07:10.309Z"
   },
   {
    "duration": 1593,
    "start_time": "2023-04-03T08:07:36.017Z"
   },
   {
    "duration": 138,
    "start_time": "2023-04-03T08:07:37.612Z"
   },
   {
    "duration": 16,
    "start_time": "2023-04-03T08:07:37.751Z"
   },
   {
    "duration": 19,
    "start_time": "2023-04-03T08:07:37.769Z"
   },
   {
    "duration": 18,
    "start_time": "2023-04-03T08:07:37.790Z"
   },
   {
    "duration": 281,
    "start_time": "2023-04-03T08:07:37.810Z"
   },
   {
    "duration": 5,
    "start_time": "2023-04-03T08:07:38.093Z"
   },
   {
    "duration": 34,
    "start_time": "2023-04-03T08:07:38.100Z"
   },
   {
    "duration": 241,
    "start_time": "2023-04-03T08:07:38.135Z"
   },
   {
    "duration": 375,
    "start_time": "2023-04-03T08:07:38.378Z"
   },
   {
    "duration": 699,
    "start_time": "2023-04-03T08:07:38.754Z"
   },
   {
    "duration": 789,
    "start_time": "2023-04-03T08:07:39.454Z"
   },
   {
    "duration": 6,
    "start_time": "2023-04-03T08:07:40.245Z"
   },
   {
    "duration": 5,
    "start_time": "2023-04-03T08:07:40.253Z"
   },
   {
    "duration": 70,
    "start_time": "2023-04-03T08:07:40.260Z"
   },
   {
    "duration": 102,
    "start_time": "2023-04-03T08:07:40.331Z"
   },
   {
    "duration": 29,
    "start_time": "2023-04-03T08:07:40.434Z"
   },
   {
    "duration": 192,
    "start_time": "2023-04-03T08:07:40.464Z"
   },
   {
    "duration": 91,
    "start_time": "2023-04-03T08:07:40.659Z"
   },
   {
    "duration": 32890,
    "start_time": "2023-04-03T08:07:40.756Z"
   },
   {
    "duration": 12,
    "start_time": "2023-04-03T08:08:13.648Z"
   },
   {
    "duration": 5,
    "start_time": "2023-04-03T08:08:13.662Z"
   },
   {
    "duration": 7,
    "start_time": "2023-04-03T08:08:13.668Z"
   },
   {
    "duration": 600178,
    "start_time": "2023-04-03T08:08:13.677Z"
   },
   {
    "duration": 32919,
    "start_time": "2023-04-03T08:18:13.856Z"
   },
   {
    "duration": 9,
    "start_time": "2023-04-03T08:18:46.854Z"
   },
   {
    "duration": 26,
    "start_time": "2023-04-03T08:18:46.867Z"
   },
   {
    "duration": 31,
    "start_time": "2023-04-03T08:18:46.895Z"
   },
   {
    "duration": 39,
    "start_time": "2023-04-03T08:18:46.928Z"
   },
   {
    "duration": 36,
    "start_time": "2023-04-03T08:18:46.968Z"
   },
   {
    "duration": 60,
    "start_time": "2023-04-03T08:18:47.005Z"
   },
   {
    "duration": 19,
    "start_time": "2023-04-03T08:18:47.067Z"
   },
   {
    "duration": 1420,
    "start_time": "2023-04-03T08:18:47.149Z"
   },
   {
    "duration": 3,
    "start_time": "2023-04-03T08:18:48.570Z"
   },
   {
    "duration": 6,
    "start_time": "2023-04-03T08:18:48.575Z"
   },
   {
    "duration": 84,
    "start_time": "2023-04-03T08:18:48.582Z"
   },
   {
    "duration": 292,
    "start_time": "2023-04-03T08:18:48.671Z"
   },
   {
    "duration": 196,
    "start_time": "2023-04-03T08:24:22.538Z"
   },
   {
    "duration": 19,
    "start_time": "2023-04-03T08:24:37.648Z"
   },
   {
    "duration": 199,
    "start_time": "2023-04-03T08:24:40.291Z"
   },
   {
    "duration": 1341,
    "start_time": "2023-04-03T08:29:33.731Z"
   },
   {
    "duration": 56,
    "start_time": "2023-04-03T08:29:35.074Z"
   },
   {
    "duration": 15,
    "start_time": "2023-04-03T08:29:35.132Z"
   },
   {
    "duration": 24,
    "start_time": "2023-04-03T08:29:35.149Z"
   },
   {
    "duration": 15,
    "start_time": "2023-04-03T08:29:35.175Z"
   },
   {
    "duration": 246,
    "start_time": "2023-04-03T08:29:35.191Z"
   },
   {
    "duration": 14,
    "start_time": "2023-04-03T08:29:35.439Z"
   },
   {
    "duration": 4,
    "start_time": "2023-04-03T08:29:35.463Z"
   },
   {
    "duration": 203,
    "start_time": "2023-04-03T08:29:35.469Z"
   },
   {
    "duration": 405,
    "start_time": "2023-04-03T08:29:35.674Z"
   },
   {
    "duration": 647,
    "start_time": "2023-04-03T08:29:36.081Z"
   },
   {
    "duration": 792,
    "start_time": "2023-04-03T08:29:36.731Z"
   },
   {
    "duration": 3,
    "start_time": "2023-04-03T08:29:37.525Z"
   },
   {
    "duration": 43,
    "start_time": "2023-04-03T08:29:37.530Z"
   },
   {
    "duration": 65,
    "start_time": "2023-04-03T08:29:37.575Z"
   },
   {
    "duration": 6,
    "start_time": "2023-04-03T08:29:37.641Z"
   },
   {
    "duration": 20,
    "start_time": "2023-04-03T08:29:37.650Z"
   },
   {
    "duration": 204,
    "start_time": "2023-04-03T08:29:37.672Z"
   },
   {
    "duration": 3,
    "start_time": "2023-04-03T08:29:37.877Z"
   },
   {
    "duration": 32850,
    "start_time": "2023-04-03T08:29:37.882Z"
   },
   {
    "duration": 15,
    "start_time": "2023-04-03T08:30:10.733Z"
   },
   {
    "duration": 15,
    "start_time": "2023-04-03T08:30:10.750Z"
   },
   {
    "duration": 5,
    "start_time": "2023-04-03T08:30:10.766Z"
   },
   {
    "duration": 121786,
    "start_time": "2023-04-03T08:30:10.772Z"
   },
   {
    "duration": 88704,
    "start_time": "2023-04-03T08:32:12.564Z"
   },
   {
    "duration": 6,
    "start_time": "2023-04-03T08:33:41.349Z"
   },
   {
    "duration": 34,
    "start_time": "2023-04-03T08:33:41.356Z"
   },
   {
    "duration": 9,
    "start_time": "2023-04-03T08:33:41.393Z"
   },
   {
    "duration": 37,
    "start_time": "2023-04-03T08:33:41.404Z"
   },
   {
    "duration": 27,
    "start_time": "2023-04-03T08:33:41.442Z"
   },
   {
    "duration": 49,
    "start_time": "2023-04-03T08:33:41.470Z"
   },
   {
    "duration": 48,
    "start_time": "2023-04-03T08:33:41.520Z"
   },
   {
    "duration": 17,
    "start_time": "2023-04-03T08:33:41.650Z"
   },
   {
    "duration": 363,
    "start_time": "2023-04-03T08:33:41.671Z"
   }
  ],
  "kernelspec": {
   "display_name": "Python 3 (ipykernel)",
   "language": "python",
   "name": "python3"
  },
  "language_info": {
   "codemirror_mode": {
    "name": "ipython",
    "version": 3
   },
   "file_extension": ".py",
   "mimetype": "text/x-python",
   "name": "python",
   "nbconvert_exporter": "python",
   "pygments_lexer": "ipython3",
   "version": "3.8.16"
  },
  "toc": {
   "base_numbering": 1,
   "nav_menu": {},
   "number_sections": true,
   "sideBar": true,
   "skip_h1_title": true,
   "title_cell": "Содержание",
   "title_sidebar": "Contents",
   "toc_cell": true,
   "toc_position": {
    "height": "calc(100% - 180px)",
    "left": "10px",
    "top": "150px",
    "width": "270.1875px"
   },
   "toc_section_display": true,
   "toc_window_display": true
  }
 },
 "nbformat": 4,
 "nbformat_minor": 2
}
