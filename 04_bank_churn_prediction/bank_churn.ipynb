{
 "cells": [
  {
   "cell_type": "markdown",
   "metadata": {
    "toc": true
   },
   "source": [
    "<h1>Содержание<span class=\"tocSkip\"></span></h1>\n",
    "<div class=\"toc\"><ul class=\"toc-item\"><li><span><a href=\"#Подготовка-данных\" data-toc-modified-id=\"Подготовка-данных-1\"><span class=\"toc-item-num\">1&nbsp;&nbsp;</span>Подготовка данных</a></span></li><li><span><a href=\"#Исследование-задачи\" data-toc-modified-id=\"Исследование-задачи-2\"><span class=\"toc-item-num\">2&nbsp;&nbsp;</span>Исследование задачи</a></span></li><li><span><a href=\"#Борьба-с-дисбалансом-(upsampling)\" data-toc-modified-id=\"Борьба-с-дисбалансом-(upsampling)-3\"><span class=\"toc-item-num\">3&nbsp;&nbsp;</span>Борьба с дисбалансом (upsampling)</a></span></li><li><span><a href=\"#Downsampling\" data-toc-modified-id=\"Downsampling-4\"><span class=\"toc-item-num\">4&nbsp;&nbsp;</span>Downsampling</a></span></li><li><span><a href=\"#Тестирование-модели\" data-toc-modified-id=\"Тестирование-модели-5\"><span class=\"toc-item-num\">5&nbsp;&nbsp;</span>Тестирование модели</a></span></li><li><span><a href=\"#Вывод\" data-toc-modified-id=\"Вывод-6\"><span class=\"toc-item-num\">6&nbsp;&nbsp;</span>Вывод</a></span></li></ul></div>"
   ]
  },
  {
   "cell_type": "markdown",
   "metadata": {},
   "source": [
    "# Отток клиентов"
   ]
  },
  {
   "cell_type": "markdown",
   "metadata": {},
   "source": [
    "Из «Бета-Банка» стали уходить клиенты. Каждый месяц. Немного, но заметно. Банковские маркетологи посчитали: сохранять текущих клиентов дешевле, чем привлекать новых.\n",
    "\n",
    "Нужно спрогнозировать, уйдёт клиент из банка в ближайшее время или нет. Нам предоставлены исторические данные о поведении клиентов и расторжении договоров с банком. \n",
    "\n",
    "Задача: построить модель с предельно большим значением *F1*-меры. Чтобы сдать проект успешно, нужно довести метрику до 0.59. Проверить *F1*-меру на тестовой выборке.\n",
    "\n",
    "Дополнительно измерить *AUC-ROC*, сравнивать её значение с *F1*-мерой.\n",
    "\n",
    "Источник данных: [https://www.kaggle.com/barelydedicated/bank-customer-churn-modeling](https://www.kaggle.com/barelydedicated/bank-customer-churn-modeling)"
   ]
  },
  {
   "cell_type": "markdown",
   "metadata": {},
   "source": [
    "## Подготовка данных"
   ]
  },
  {
   "cell_type": "code",
   "execution_count": 1,
   "metadata": {},
   "outputs": [],
   "source": [
    "import pandas as pd\n",
    "\n",
    "from sklearn import tree\n",
    "from sklearn.preprocessing import OrdinalEncoder\n",
    "from sklearn.preprocessing import StandardScaler \n",
    "from sklearn.model_selection import train_test_split\n",
    "from sklearn.model_selection import GridSearchCV\n",
    "from sklearn.tree import DecisionTreeClassifier\n",
    "from sklearn.ensemble import RandomForestClassifier\n",
    "from sklearn.linear_model import LogisticRegression \n",
    "from sklearn.metrics import accuracy_score\n",
    "from sklearn.metrics import classification_report\n",
    "from sklearn.metrics import precision_score\n",
    "from sklearn.metrics import recall_score\n",
    "from sklearn.metrics import roc_auc_score\n",
    "from sklearn.metrics import roc_curve \n",
    "from sklearn.metrics import f1_score\n",
    "from sklearn.dummy import DummyClassifier\n",
    "from sklearn.utils import shuffle\n",
    "\n",
    "import matplotlib.pyplot as plt\n",
    "\n",
    "from joblib import dump"
   ]
  },
  {
   "cell_type": "markdown",
   "metadata": {},
   "source": [
    "Для начала давайте посмотрим на данные: какие признаки доминируют, категориальные или числовые, построим гистограммы, чтобы посмотреть распределение, а также проверим целевой признак на сбалансированность."
   ]
  },
  {
   "cell_type": "code",
   "execution_count": 2,
   "metadata": {},
   "outputs": [
    {
     "data": {
      "text/html": [
       "<div>\n",
       "<style scoped>\n",
       "    .dataframe tbody tr th:only-of-type {\n",
       "        vertical-align: middle;\n",
       "    }\n",
       "\n",
       "    .dataframe tbody tr th {\n",
       "        vertical-align: top;\n",
       "    }\n",
       "\n",
       "    .dataframe thead th {\n",
       "        text-align: right;\n",
       "    }\n",
       "</style>\n",
       "<table border=\"1\" class=\"dataframe\">\n",
       "  <thead>\n",
       "    <tr style=\"text-align: right;\">\n",
       "      <th></th>\n",
       "      <th>RowNumber</th>\n",
       "      <th>CustomerId</th>\n",
       "      <th>Surname</th>\n",
       "      <th>CreditScore</th>\n",
       "      <th>Geography</th>\n",
       "      <th>Gender</th>\n",
       "      <th>Age</th>\n",
       "      <th>Tenure</th>\n",
       "      <th>Balance</th>\n",
       "      <th>NumOfProducts</th>\n",
       "      <th>HasCrCard</th>\n",
       "      <th>IsActiveMember</th>\n",
       "      <th>EstimatedSalary</th>\n",
       "      <th>Exited</th>\n",
       "    </tr>\n",
       "  </thead>\n",
       "  <tbody>\n",
       "    <tr>\n",
       "      <th>0</th>\n",
       "      <td>1</td>\n",
       "      <td>15634602</td>\n",
       "      <td>Hargrave</td>\n",
       "      <td>619</td>\n",
       "      <td>France</td>\n",
       "      <td>Female</td>\n",
       "      <td>42</td>\n",
       "      <td>2.0</td>\n",
       "      <td>0.00</td>\n",
       "      <td>1</td>\n",
       "      <td>1</td>\n",
       "      <td>1</td>\n",
       "      <td>101348.88</td>\n",
       "      <td>1</td>\n",
       "    </tr>\n",
       "    <tr>\n",
       "      <th>1</th>\n",
       "      <td>2</td>\n",
       "      <td>15647311</td>\n",
       "      <td>Hill</td>\n",
       "      <td>608</td>\n",
       "      <td>Spain</td>\n",
       "      <td>Female</td>\n",
       "      <td>41</td>\n",
       "      <td>1.0</td>\n",
       "      <td>83807.86</td>\n",
       "      <td>1</td>\n",
       "      <td>0</td>\n",
       "      <td>1</td>\n",
       "      <td>112542.58</td>\n",
       "      <td>0</td>\n",
       "    </tr>\n",
       "    <tr>\n",
       "      <th>2</th>\n",
       "      <td>3</td>\n",
       "      <td>15619304</td>\n",
       "      <td>Onio</td>\n",
       "      <td>502</td>\n",
       "      <td>France</td>\n",
       "      <td>Female</td>\n",
       "      <td>42</td>\n",
       "      <td>8.0</td>\n",
       "      <td>159660.80</td>\n",
       "      <td>3</td>\n",
       "      <td>1</td>\n",
       "      <td>0</td>\n",
       "      <td>113931.57</td>\n",
       "      <td>1</td>\n",
       "    </tr>\n",
       "    <tr>\n",
       "      <th>3</th>\n",
       "      <td>4</td>\n",
       "      <td>15701354</td>\n",
       "      <td>Boni</td>\n",
       "      <td>699</td>\n",
       "      <td>France</td>\n",
       "      <td>Female</td>\n",
       "      <td>39</td>\n",
       "      <td>1.0</td>\n",
       "      <td>0.00</td>\n",
       "      <td>2</td>\n",
       "      <td>0</td>\n",
       "      <td>0</td>\n",
       "      <td>93826.63</td>\n",
       "      <td>0</td>\n",
       "    </tr>\n",
       "    <tr>\n",
       "      <th>4</th>\n",
       "      <td>5</td>\n",
       "      <td>15737888</td>\n",
       "      <td>Mitchell</td>\n",
       "      <td>850</td>\n",
       "      <td>Spain</td>\n",
       "      <td>Female</td>\n",
       "      <td>43</td>\n",
       "      <td>2.0</td>\n",
       "      <td>125510.82</td>\n",
       "      <td>1</td>\n",
       "      <td>1</td>\n",
       "      <td>1</td>\n",
       "      <td>79084.10</td>\n",
       "      <td>0</td>\n",
       "    </tr>\n",
       "    <tr>\n",
       "      <th>...</th>\n",
       "      <td>...</td>\n",
       "      <td>...</td>\n",
       "      <td>...</td>\n",
       "      <td>...</td>\n",
       "      <td>...</td>\n",
       "      <td>...</td>\n",
       "      <td>...</td>\n",
       "      <td>...</td>\n",
       "      <td>...</td>\n",
       "      <td>...</td>\n",
       "      <td>...</td>\n",
       "      <td>...</td>\n",
       "      <td>...</td>\n",
       "      <td>...</td>\n",
       "    </tr>\n",
       "    <tr>\n",
       "      <th>9995</th>\n",
       "      <td>9996</td>\n",
       "      <td>15606229</td>\n",
       "      <td>Obijiaku</td>\n",
       "      <td>771</td>\n",
       "      <td>France</td>\n",
       "      <td>Male</td>\n",
       "      <td>39</td>\n",
       "      <td>5.0</td>\n",
       "      <td>0.00</td>\n",
       "      <td>2</td>\n",
       "      <td>1</td>\n",
       "      <td>0</td>\n",
       "      <td>96270.64</td>\n",
       "      <td>0</td>\n",
       "    </tr>\n",
       "    <tr>\n",
       "      <th>9996</th>\n",
       "      <td>9997</td>\n",
       "      <td>15569892</td>\n",
       "      <td>Johnstone</td>\n",
       "      <td>516</td>\n",
       "      <td>France</td>\n",
       "      <td>Male</td>\n",
       "      <td>35</td>\n",
       "      <td>10.0</td>\n",
       "      <td>57369.61</td>\n",
       "      <td>1</td>\n",
       "      <td>1</td>\n",
       "      <td>1</td>\n",
       "      <td>101699.77</td>\n",
       "      <td>0</td>\n",
       "    </tr>\n",
       "    <tr>\n",
       "      <th>9997</th>\n",
       "      <td>9998</td>\n",
       "      <td>15584532</td>\n",
       "      <td>Liu</td>\n",
       "      <td>709</td>\n",
       "      <td>France</td>\n",
       "      <td>Female</td>\n",
       "      <td>36</td>\n",
       "      <td>7.0</td>\n",
       "      <td>0.00</td>\n",
       "      <td>1</td>\n",
       "      <td>0</td>\n",
       "      <td>1</td>\n",
       "      <td>42085.58</td>\n",
       "      <td>1</td>\n",
       "    </tr>\n",
       "    <tr>\n",
       "      <th>9998</th>\n",
       "      <td>9999</td>\n",
       "      <td>15682355</td>\n",
       "      <td>Sabbatini</td>\n",
       "      <td>772</td>\n",
       "      <td>Germany</td>\n",
       "      <td>Male</td>\n",
       "      <td>42</td>\n",
       "      <td>3.0</td>\n",
       "      <td>75075.31</td>\n",
       "      <td>2</td>\n",
       "      <td>1</td>\n",
       "      <td>0</td>\n",
       "      <td>92888.52</td>\n",
       "      <td>1</td>\n",
       "    </tr>\n",
       "    <tr>\n",
       "      <th>9999</th>\n",
       "      <td>10000</td>\n",
       "      <td>15628319</td>\n",
       "      <td>Walker</td>\n",
       "      <td>792</td>\n",
       "      <td>France</td>\n",
       "      <td>Female</td>\n",
       "      <td>28</td>\n",
       "      <td>NaN</td>\n",
       "      <td>130142.79</td>\n",
       "      <td>1</td>\n",
       "      <td>1</td>\n",
       "      <td>0</td>\n",
       "      <td>38190.78</td>\n",
       "      <td>0</td>\n",
       "    </tr>\n",
       "  </tbody>\n",
       "</table>\n",
       "<p>10000 rows × 14 columns</p>\n",
       "</div>"
      ],
      "text/plain": [
       "      RowNumber  CustomerId    Surname  CreditScore Geography  Gender  Age  \\\n",
       "0             1    15634602   Hargrave          619    France  Female   42   \n",
       "1             2    15647311       Hill          608     Spain  Female   41   \n",
       "2             3    15619304       Onio          502    France  Female   42   \n",
       "3             4    15701354       Boni          699    France  Female   39   \n",
       "4             5    15737888   Mitchell          850     Spain  Female   43   \n",
       "...         ...         ...        ...          ...       ...     ...  ...   \n",
       "9995       9996    15606229   Obijiaku          771    France    Male   39   \n",
       "9996       9997    15569892  Johnstone          516    France    Male   35   \n",
       "9997       9998    15584532        Liu          709    France  Female   36   \n",
       "9998       9999    15682355  Sabbatini          772   Germany    Male   42   \n",
       "9999      10000    15628319     Walker          792    France  Female   28   \n",
       "\n",
       "      Tenure    Balance  NumOfProducts  HasCrCard  IsActiveMember  \\\n",
       "0        2.0       0.00              1          1               1   \n",
       "1        1.0   83807.86              1          0               1   \n",
       "2        8.0  159660.80              3          1               0   \n",
       "3        1.0       0.00              2          0               0   \n",
       "4        2.0  125510.82              1          1               1   \n",
       "...      ...        ...            ...        ...             ...   \n",
       "9995     5.0       0.00              2          1               0   \n",
       "9996    10.0   57369.61              1          1               1   \n",
       "9997     7.0       0.00              1          0               1   \n",
       "9998     3.0   75075.31              2          1               0   \n",
       "9999     NaN  130142.79              1          1               0   \n",
       "\n",
       "      EstimatedSalary  Exited  \n",
       "0           101348.88       1  \n",
       "1           112542.58       0  \n",
       "2           113931.57       1  \n",
       "3            93826.63       0  \n",
       "4            79084.10       0  \n",
       "...               ...     ...  \n",
       "9995         96270.64       0  \n",
       "9996        101699.77       0  \n",
       "9997         42085.58       1  \n",
       "9998         92888.52       1  \n",
       "9999         38190.78       0  \n",
       "\n",
       "[10000 rows x 14 columns]"
      ]
     },
     "execution_count": 2,
     "metadata": {},
     "output_type": "execute_result"
    }
   ],
   "source": [
    "data = pd.read_csv('/datasets/Churn.csv')\n",
    "pd.read_csv('/datasets/Churn.csv')"
   ]
  },
  {
   "cell_type": "code",
   "execution_count": 4,
   "metadata": {},
   "outputs": [
    {
     "data": {
      "image/png": "[encoded data removed]",
      "text/plain": [
       "<Figure size 1440x1440 with 12 Axes>"
      ]
     },
     "metadata": {
      "needs_background": "light"
     },
     "output_type": "display_data"
    }
   ],
   "source": [
    "data.hist(figsize=(20, 20));"
   ]
  },
  {
   "cell_type": "code",
   "execution_count": 5,
   "metadata": {},
   "outputs": [],
   "source": [
    "data.columns = data.columns.str.lower()"
   ]
  },
  {
   "cell_type": "code",
   "execution_count": 6,
   "metadata": {},
   "outputs": [
    {
     "name": "stdout",
     "output_type": "stream",
     "text": [
      "0    7963\n",
      "1    2037\n",
      "Name: exited, dtype: int64\n"
     ]
    }
   ],
   "source": [
    "print(data['exited'].value_counts())"
   ]
  },
  {
   "cell_type": "markdown",
   "metadata": {},
   "source": [
    "В ходе знакомтва с данными, мы сразу привели названия всех колонок к нижнему регистру, чтобы было проще с ними разотать. Сразу хочу обратить внимание, что первые 3 колонки мало как повлияют на результат, но удалять их не будем, потому что данные будут подаваться в таком виде. Учитывая наличие таких признаков, как фамилия, порядковый номер, и id, я думаю, что лучше подойдет модель DT или RF, тк я не хотел бы,чтобы эти показателт хоть как-то были включены в уравнение регресии. "
   ]
  },
  {
   "cell_type": "code",
   "execution_count": 7,
   "metadata": {},
   "outputs": [
    {
     "name": "stdout",
     "output_type": "stream",
     "text": [
      "<class 'pandas.core.frame.DataFrame'>\n",
      "RangeIndex: 10000 entries, 0 to 9999\n",
      "Data columns (total 14 columns):\n",
      " #   Column           Non-Null Count  Dtype  \n",
      "---  ------           --------------  -----  \n",
      " 0   rownumber        10000 non-null  int64  \n",
      " 1   customerid       10000 non-null  int64  \n",
      " 2   surname          10000 non-null  object \n",
      " 3   creditscore      10000 non-null  int64  \n",
      " 4   geography        10000 non-null  object \n",
      " 5   gender           10000 non-null  object \n",
      " 6   age              10000 non-null  int64  \n",
      " 7   tenure           9091 non-null   float64\n",
      " 8   balance          10000 non-null  float64\n",
      " 9   numofproducts    10000 non-null  int64  \n",
      " 10  hascrcard        10000 non-null  int64  \n",
      " 11  isactivemember   10000 non-null  int64  \n",
      " 12  estimatedsalary  10000 non-null  float64\n",
      " 13  exited           10000 non-null  int64  \n",
      "dtypes: float64(3), int64(8), object(3)\n",
      "memory usage: 1.1+ MB\n"
     ]
    }
   ],
   "source": [
    "data.info()"
   ]
  },
  {
   "cell_type": "code",
   "execution_count": 8,
   "metadata": {},
   "outputs": [],
   "source": [
    "data = data.drop({'rownumber', 'customerid', 'surname'}, axis=1)"
   ]
  },
  {
   "cell_type": "markdown",
   "metadata": {},
   "source": [
    "Это привет из будущего. С целью борьбы с переобучением было принято решение избавиться от данных 3 колонок, которые информативны для нас, но, вероятнее всего, оказывают негативное влияние на нашу модель. (Гипотеза подтвердилась)"
   ]
  },
  {
   "cell_type": "code",
   "execution_count": 9,
   "metadata": {},
   "outputs": [
    {
     "name": "stdout",
     "output_type": "stream",
     "text": [
      "<class 'pandas.core.frame.DataFrame'>\n",
      "RangeIndex: 10000 entries, 0 to 9999\n",
      "Data columns (total 11 columns):\n",
      " #   Column           Non-Null Count  Dtype  \n",
      "---  ------           --------------  -----  \n",
      " 0   creditscore      10000 non-null  int64  \n",
      " 1   geography        10000 non-null  object \n",
      " 2   gender           10000 non-null  object \n",
      " 3   age              10000 non-null  int64  \n",
      " 4   tenure           9091 non-null   float64\n",
      " 5   balance          10000 non-null  float64\n",
      " 6   numofproducts    10000 non-null  int64  \n",
      " 7   hascrcard        10000 non-null  int64  \n",
      " 8   isactivemember   10000 non-null  int64  \n",
      " 9   estimatedsalary  10000 non-null  float64\n",
      " 10  exited           10000 non-null  int64  \n",
      "dtypes: float64(3), int64(6), object(2)\n",
      "memory usage: 859.5+ KB\n"
     ]
    }
   ],
   "source": [
    "data.info()"
   ]
  },
  {
   "cell_type": "code",
   "execution_count": 10,
   "metadata": {},
   "outputs": [
    {
     "name": "stdout",
     "output_type": "stream",
     "text": [
      "1.0     952\n",
      "2.0     950\n",
      "8.0     933\n",
      "3.0     928\n",
      "5.0     927\n",
      "7.0     925\n",
      "4.0     885\n",
      "9.0     882\n",
      "6.0     881\n",
      "10.0    446\n",
      "0.0     382\n",
      "Name: tenure, dtype: int64\n"
     ]
    }
   ],
   "source": [
    "print(data['tenure'].value_counts())"
   ]
  },
  {
   "cell_type": "code",
   "execution_count": 11,
   "metadata": {
    "scrolled": false
   },
   "outputs": [
    {
     "data": {
      "text/html": [
       "<div>\n",
       "<style scoped>\n",
       "    .dataframe tbody tr th:only-of-type {\n",
       "        vertical-align: middle;\n",
       "    }\n",
       "\n",
       "    .dataframe tbody tr th {\n",
       "        vertical-align: top;\n",
       "    }\n",
       "\n",
       "    .dataframe thead th {\n",
       "        text-align: right;\n",
       "    }\n",
       "</style>\n",
       "<table border=\"1\" class=\"dataframe\">\n",
       "  <thead>\n",
       "    <tr style=\"text-align: right;\">\n",
       "      <th></th>\n",
       "      <th>creditscore</th>\n",
       "      <th>geography</th>\n",
       "      <th>gender</th>\n",
       "      <th>age</th>\n",
       "      <th>tenure</th>\n",
       "      <th>balance</th>\n",
       "      <th>numofproducts</th>\n",
       "      <th>hascrcard</th>\n",
       "      <th>isactivemember</th>\n",
       "      <th>estimatedsalary</th>\n",
       "      <th>exited</th>\n",
       "    </tr>\n",
       "  </thead>\n",
       "  <tbody>\n",
       "    <tr>\n",
       "      <th>30</th>\n",
       "      <td>591</td>\n",
       "      <td>Spain</td>\n",
       "      <td>Female</td>\n",
       "      <td>39</td>\n",
       "      <td>NaN</td>\n",
       "      <td>0.00</td>\n",
       "      <td>3</td>\n",
       "      <td>1</td>\n",
       "      <td>0</td>\n",
       "      <td>140469.38</td>\n",
       "      <td>1</td>\n",
       "    </tr>\n",
       "    <tr>\n",
       "      <th>48</th>\n",
       "      <td>550</td>\n",
       "      <td>Germany</td>\n",
       "      <td>Male</td>\n",
       "      <td>38</td>\n",
       "      <td>NaN</td>\n",
       "      <td>103391.38</td>\n",
       "      <td>1</td>\n",
       "      <td>0</td>\n",
       "      <td>1</td>\n",
       "      <td>90878.13</td>\n",
       "      <td>0</td>\n",
       "    </tr>\n",
       "    <tr>\n",
       "      <th>51</th>\n",
       "      <td>585</td>\n",
       "      <td>Germany</td>\n",
       "      <td>Male</td>\n",
       "      <td>36</td>\n",
       "      <td>NaN</td>\n",
       "      <td>146050.97</td>\n",
       "      <td>2</td>\n",
       "      <td>0</td>\n",
       "      <td>0</td>\n",
       "      <td>86424.57</td>\n",
       "      <td>0</td>\n",
       "    </tr>\n",
       "    <tr>\n",
       "      <th>53</th>\n",
       "      <td>655</td>\n",
       "      <td>Germany</td>\n",
       "      <td>Male</td>\n",
       "      <td>41</td>\n",
       "      <td>NaN</td>\n",
       "      <td>125561.97</td>\n",
       "      <td>1</td>\n",
       "      <td>0</td>\n",
       "      <td>0</td>\n",
       "      <td>164040.94</td>\n",
       "      <td>1</td>\n",
       "    </tr>\n",
       "    <tr>\n",
       "      <th>60</th>\n",
       "      <td>742</td>\n",
       "      <td>Germany</td>\n",
       "      <td>Male</td>\n",
       "      <td>35</td>\n",
       "      <td>NaN</td>\n",
       "      <td>136857.00</td>\n",
       "      <td>1</td>\n",
       "      <td>0</td>\n",
       "      <td>0</td>\n",
       "      <td>84509.57</td>\n",
       "      <td>0</td>\n",
       "    </tr>\n",
       "    <tr>\n",
       "      <th>...</th>\n",
       "      <td>...</td>\n",
       "      <td>...</td>\n",
       "      <td>...</td>\n",
       "      <td>...</td>\n",
       "      <td>...</td>\n",
       "      <td>...</td>\n",
       "      <td>...</td>\n",
       "      <td>...</td>\n",
       "      <td>...</td>\n",
       "      <td>...</td>\n",
       "      <td>...</td>\n",
       "    </tr>\n",
       "    <tr>\n",
       "      <th>9944</th>\n",
       "      <td>744</td>\n",
       "      <td>Germany</td>\n",
       "      <td>Male</td>\n",
       "      <td>41</td>\n",
       "      <td>NaN</td>\n",
       "      <td>190409.34</td>\n",
       "      <td>2</td>\n",
       "      <td>1</td>\n",
       "      <td>1</td>\n",
       "      <td>138361.48</td>\n",
       "      <td>0</td>\n",
       "    </tr>\n",
       "    <tr>\n",
       "      <th>9956</th>\n",
       "      <td>520</td>\n",
       "      <td>France</td>\n",
       "      <td>Female</td>\n",
       "      <td>46</td>\n",
       "      <td>NaN</td>\n",
       "      <td>85216.61</td>\n",
       "      <td>1</td>\n",
       "      <td>1</td>\n",
       "      <td>0</td>\n",
       "      <td>117369.52</td>\n",
       "      <td>1</td>\n",
       "    </tr>\n",
       "    <tr>\n",
       "      <th>9964</th>\n",
       "      <td>479</td>\n",
       "      <td>France</td>\n",
       "      <td>Male</td>\n",
       "      <td>34</td>\n",
       "      <td>NaN</td>\n",
       "      <td>117593.48</td>\n",
       "      <td>2</td>\n",
       "      <td>0</td>\n",
       "      <td>0</td>\n",
       "      <td>113308.29</td>\n",
       "      <td>0</td>\n",
       "    </tr>\n",
       "    <tr>\n",
       "      <th>9985</th>\n",
       "      <td>659</td>\n",
       "      <td>France</td>\n",
       "      <td>Male</td>\n",
       "      <td>36</td>\n",
       "      <td>NaN</td>\n",
       "      <td>123841.49</td>\n",
       "      <td>2</td>\n",
       "      <td>1</td>\n",
       "      <td>0</td>\n",
       "      <td>96833.00</td>\n",
       "      <td>0</td>\n",
       "    </tr>\n",
       "    <tr>\n",
       "      <th>9999</th>\n",
       "      <td>792</td>\n",
       "      <td>France</td>\n",
       "      <td>Female</td>\n",
       "      <td>28</td>\n",
       "      <td>NaN</td>\n",
       "      <td>130142.79</td>\n",
       "      <td>1</td>\n",
       "      <td>1</td>\n",
       "      <td>0</td>\n",
       "      <td>38190.78</td>\n",
       "      <td>0</td>\n",
       "    </tr>\n",
       "  </tbody>\n",
       "</table>\n",
       "<p>909 rows × 11 columns</p>\n",
       "</div>"
      ],
      "text/plain": [
       "      creditscore geography  gender  age  tenure    balance  numofproducts  \\\n",
       "30            591     Spain  Female   39     NaN       0.00              3   \n",
       "48            550   Germany    Male   38     NaN  103391.38              1   \n",
       "51            585   Germany    Male   36     NaN  146050.97              2   \n",
       "53            655   Germany    Male   41     NaN  125561.97              1   \n",
       "60            742   Germany    Male   35     NaN  136857.00              1   \n",
       "...           ...       ...     ...  ...     ...        ...            ...   \n",
       "9944          744   Germany    Male   41     NaN  190409.34              2   \n",
       "9956          520    France  Female   46     NaN   85216.61              1   \n",
       "9964          479    France    Male   34     NaN  117593.48              2   \n",
       "9985          659    France    Male   36     NaN  123841.49              2   \n",
       "9999          792    France  Female   28     NaN  130142.79              1   \n",
       "\n",
       "      hascrcard  isactivemember  estimatedsalary  exited  \n",
       "30            1               0        140469.38       1  \n",
       "48            0               1         90878.13       0  \n",
       "51            0               0         86424.57       0  \n",
       "53            0               0        164040.94       1  \n",
       "60            0               0         84509.57       0  \n",
       "...         ...             ...              ...     ...  \n",
       "9944          1               1        138361.48       0  \n",
       "9956          1               0        117369.52       1  \n",
       "9964          0               0        113308.29       0  \n",
       "9985          1               0         96833.00       0  \n",
       "9999          1               0         38190.78       0  \n",
       "\n",
       "[909 rows x 11 columns]"
      ]
     },
     "metadata": {},
     "output_type": "display_data"
    }
   ],
   "source": [
    "#print(data[data['tenure'].isna()])\n",
    "display(data[data['tenure'].isna()])"
   ]
  },
  {
   "cell_type": "markdown",
   "metadata": {},
   "source": [
    "Неплохая новость - пропуски есть только в колонке tenure, в которой отображается, сколько лет человек является клиентом банка. У нас есть 909 пропусков. Исходя из графика и таблицы по данному признаку, в каждом году примерно одинаково клиентов, однако на нулевом году - количество клиентов сильно отстает. Я считаю, что скорее всего NaN в этой колонке означает 0, тогда и график станет логичней и не придется избавляться от 10% данных. Ели модель будет недостаточно хорошо справляться, мы подумаем о то, чтобы избавиться от данных вместо замены на 0. "
   ]
  },
  {
   "cell_type": "code",
   "execution_count": 12,
   "metadata": {},
   "outputs": [],
   "source": [
    "data['tenure']=data['tenure'].fillna(value=0)"
   ]
  },
  {
   "cell_type": "code",
   "execution_count": 13,
   "metadata": {},
   "outputs": [
    {
     "name": "stdout",
     "output_type": "stream",
     "text": [
      "0.0     1291\n",
      "1.0      952\n",
      "2.0      950\n",
      "8.0      933\n",
      "3.0      928\n",
      "5.0      927\n",
      "7.0      925\n",
      "4.0      885\n",
      "9.0      882\n",
      "6.0      881\n",
      "10.0     446\n",
      "Name: tenure, dtype: int64\n"
     ]
    }
   ],
   "source": [
    "print(data['tenure'].value_counts())"
   ]
  },
  {
   "cell_type": "markdown",
   "metadata": {},
   "source": [
    "Нулей стало больше всего, но не настолько, чтобы их количество казалось слишком завышенным. Теперь давайте произведем порядковое кодирование чтобы закодировать категоии цифрами. Нам это необходимо, чтобы стороить модели Дерева Решений и Случайного Леса."
   ]
  },
  {
   "cell_type": "code",
   "execution_count": 14,
   "metadata": {},
   "outputs": [],
   "source": [
    "encoder = OrdinalEncoder()\n",
    "encoder.fit(data)\n",
    "data_ordinal = encoder.transform(data)\n",
    "data_ordinal = pd.DataFrame(encoder.transform(data), columns=data.columns) "
   ]
  },
  {
   "cell_type": "code",
   "execution_count": 15,
   "metadata": {},
   "outputs": [
    {
     "name": "stdout",
     "output_type": "stream",
     "text": [
      "   creditscore  geography  gender   age  tenure  balance  numofproducts  \\\n",
      "0        228.0        0.0     0.0  24.0     2.0      0.0            0.0   \n",
      "1        217.0        2.0     0.0  23.0     1.0    743.0            0.0   \n",
      "2        111.0        0.0     0.0  24.0     8.0   5793.0            2.0   \n",
      "3        308.0        0.0     0.0  21.0     1.0      0.0            1.0   \n",
      "4        459.0        2.0     0.0  25.0     2.0   3696.0            0.0   \n",
      "\n",
      "   hascrcard  isactivemember  estimatedsalary  exited  \n",
      "0        1.0             1.0           5068.0     1.0  \n",
      "1        0.0             1.0           5639.0     0.0  \n",
      "2        1.0             0.0           5707.0     1.0  \n",
      "3        0.0             0.0           4704.0     0.0  \n",
      "4        1.0             1.0           3925.0     0.0  \n"
     ]
    }
   ],
   "source": [
    "print(data_ordinal.head())"
   ]
  },
  {
   "cell_type": "markdown",
   "metadata": {},
   "source": [
    "Теперь давайте определим для модели целевой признак и признаки. Затем разобьем датафрейм на тренировочную, валидационную и тестовую выборки."
   ]
  },
  {
   "cell_type": "code",
   "execution_count": 16,
   "metadata": {},
   "outputs": [],
   "source": [
    "target = data_ordinal['exited']\n",
    "features = data_ordinal.drop('exited', axis=1)"
   ]
  },
  {
   "cell_type": "code",
   "execution_count": 17,
   "metadata": {},
   "outputs": [],
   "source": [
    "features_learn, features_test, target_learn, target_test = train_test_split(\n",
    "    features, target, test_size=0.2, random_state=1985, stratify=target)"
   ]
  },
  {
   "cell_type": "code",
   "execution_count": 18,
   "metadata": {},
   "outputs": [],
   "source": [
    "features_train, features_valid, target_train, target_valid = train_test_split(\n",
    "    features, target, test_size=0.25, random_state=1985,stratify=target)"
   ]
  },
  {
   "cell_type": "markdown",
   "metadata": {},
   "source": [
    "Теперь, когда данные готовы, можем приступить к построению и тестированию моделей. "
   ]
  },
  {
   "cell_type": "markdown",
   "metadata": {},
   "source": [
    "## Исследование задачи"
   ]
  },
  {
   "cell_type": "markdown",
   "metadata": {},
   "source": [
    "Начнем с дерева решений, оно проще, быстрее и позволит нам оценить ситуацию."
   ]
  },
  {
   "cell_type": "code",
   "execution_count": 19,
   "metadata": {},
   "outputs": [
    {
     "data": {
      "text/plain": [
       "DecisionTreeClassifier(random_state=1985)"
      ]
     },
     "execution_count": 19,
     "metadata": {},
     "output_type": "execute_result"
    }
   ],
   "source": [
    "model = DecisionTreeClassifier(random_state=1985)\n",
    "model.fit(features_train, target_train)"
   ]
  },
  {
   "cell_type": "code",
   "execution_count": 20,
   "metadata": {},
   "outputs": [
    {
     "name": "stdout",
     "output_type": "stream",
     "text": [
      "0.5862068965517241 5\n"
     ]
    }
   ],
   "source": [
    "best_model = None\n",
    "best_result = 0\n",
    "best_depth = 0\n",
    "for depth in range(1, 13):\n",
    "    model = DecisionTreeClassifier(random_state=1985, max_depth=depth) \n",
    "    model.fit(features_train, target_train)\n",
    "    predictions_valid = model.predict(features_valid)\n",
    "    result = f1_score(target_valid, predictions_valid)\n",
    "    if result > best_result:\n",
    "        best_model = model\n",
    "        best_result = result\n",
    "        best_depth = depth\n",
    "print(best_result, best_depth)"
   ]
  },
  {
   "cell_type": "markdown",
   "metadata": {},
   "source": [
    "F1 нашего дерева относительно близка к требуемой, но все же не дотягивает. "
   ]
  },
  {
   "cell_type": "markdown",
   "metadata": {},
   "source": [
    "Дерево решений не оправдало ожиданий заказчика, но у нас еще есть Случайный лес. Однако прежде чем начать строить новую модель, давайте посмотрим на полноту, точность и другие метрики в совокупности, чтобы понять, где наше дерево больше всего ошибается."
   ]
  },
  {
   "cell_type": "code",
   "execution_count": 21,
   "metadata": {},
   "outputs": [
    {
     "name": "stdout",
     "output_type": "stream",
     "text": [
      "              precision    recall  f1-score   support\n",
      "\n",
      "           0       0.88      0.97      0.92      1991\n",
      "           1       0.79      0.47      0.59       509\n",
      "\n",
      "    accuracy                           0.87      2500\n",
      "   macro avg       0.83      0.72      0.75      2500\n",
      "weighted avg       0.86      0.87      0.85      2500\n",
      "\n"
     ]
    }
   ],
   "source": [
    "print(classification_report(target_valid, best_model.predict(features_valid), target_names=['0', '1']))"
   ]
  },
  {
   "cell_type": "markdown",
   "metadata": {},
   "source": [
    "Из отчета мы видим, что наша модель хуже распозанет единицу. Особенно страдает полноста (модель чаще выбирает 0, чем единицу). А ведь по сути это ее главная задача - прогнозировать, какие клиенты могут уйти, чтобы банк мог предпринять меры. Причиной неудачи может быть низкое качество модели и недостаточное количество объектов с целевым показателем \"1\", еще одной из возможных причн может являться дисбаланс классов. Все это мы со временем выясним. "
   ]
  },
  {
   "cell_type": "markdown",
   "metadata": {},
   "source": [
    " Теперь мы перейдем к созданию Случайного леса. Для подбора оптимальных гиперпараметров модели мы используем функцию GridSearchCV."
   ]
  },
  {
   "cell_type": "markdown",
   "metadata": {},
   "source": [
    "rfc = RandomForestClassifier(random_state=1985)\n",
    "parameters = { 'n_estimators': range (10, 51, 5),\n",
    "              'max_depth': range (1,13, 1) }"
   ]
  },
  {
   "cell_type": "markdown",
   "metadata": {},
   "source": [
    "%%time\n",
    "grid = GridSearchCV(rfc, parameters, cv=5)\n",
    "grid.fit(features_train, target_train)\n",
    "grid.best_params_"
   ]
  },
  {
   "cell_type": "markdown",
   "metadata": {},
   "source": [
    "Мы получили лучшие параметры: глубина = 12 и количество деревьев = 40. Теперь обучим модель случайного леса и протестируем на валидационной выборке. "
   ]
  },
  {
   "cell_type": "code",
   "execution_count": 22,
   "metadata": {},
   "outputs": [
    {
     "name": "stdout",
     "output_type": "stream",
     "text": [
      "0.876 50 11\n",
      "              precision    recall  f1-score   support\n",
      "\n",
      "           0       0.88      0.98      0.93      1991\n",
      "           1       0.85      0.47      0.61       509\n",
      "\n",
      "    accuracy                           0.88      2500\n",
      "   macro avg       0.87      0.73      0.77      2500\n",
      "weighted avg       0.87      0.88      0.86      2500\n",
      "\n",
      "CPU times: user 15.4 s, sys: 64.7 ms, total: 15.5 s\n",
      "Wall time: 15.5 s\n"
     ]
    }
   ],
   "source": [
    "%%time\n",
    "best_model_rf = None\n",
    "best_result_rf = 0\n",
    "est = 0\n",
    "depth_rf = 0\n",
    "for est in range(10, 51, 5):\n",
    "    for depth in range(1,13):\n",
    "        clf = RandomForestClassifier(random_state=1985, n_estimators=est, max_depth=depth)\n",
    "        clf.fit(features_train, target_train)\n",
    "        result = clf.score(features_valid, target_valid)\n",
    "        if result > best_result_rf:\n",
    "            best_model_rf = clf\n",
    "            best_result_rf = result\n",
    "            est = est\n",
    "            depth_rf = depth\n",
    "print(best_result_rf, est, depth_rf)\n",
    "print(classification_report(target_valid, best_model_rf.predict(features_valid), target_names=['0', '1']))            "
   ]
  },
  {
   "cell_type": "markdown",
   "metadata": {},
   "source": [
    "model_rf = RandomForestClassifier(random_state=1984, n_estimators=40, max_depth=12)\n",
    "model_rf.fit(features_train, target_train)\n",
    "print(classification_report(target_valid, model_rf.predict(features_valid), target_names=['0', '1']))"
   ]
  },
  {
   "cell_type": "markdown",
   "metadata": {},
   "source": [
    "Модель случайного леса лучше справилась с задачей, но пока еще не дотягивает до требуемого показателя f1 - 0,59. И у нас все еще очень маленький recall по единице, он-то и портит нам всю картину. Тем не менее я уверен в том, что мы сможем повысить качество модели. Для начала попробуем масштабировать признаки и уменьшить дисбаланс классов. Если этого окажется недостаточно, попробуем поставить пороги и в случае необходимости будем менять тип модели в сторону усложнения."
   ]
  },
  {
   "cell_type": "markdown",
   "metadata": {},
   "source": [
    "Далее мы будем проверять только модель случайного леса, которая ощутимо лучше себя показала. "
   ]
  },
  {
   "cell_type": "markdown",
   "metadata": {},
   "source": [
    "## Борьба с дисбалансом (upsampling)"
   ]
  },
  {
   "cell_type": "markdown",
   "metadata": {},
   "source": [
    "Начнем с масштабирования признаков"
   ]
  },
  {
   "cell_type": "code",
   "execution_count": 23,
   "metadata": {},
   "outputs": [
    {
     "name": "stdout",
     "output_type": "stream",
     "text": [
      "<class 'pandas.core.frame.DataFrame'>\n",
      "RangeIndex: 10000 entries, 0 to 9999\n",
      "Data columns (total 11 columns):\n",
      " #   Column           Non-Null Count  Dtype  \n",
      "---  ------           --------------  -----  \n",
      " 0   creditscore      10000 non-null  int64  \n",
      " 1   geography        10000 non-null  object \n",
      " 2   gender           10000 non-null  object \n",
      " 3   age              10000 non-null  int64  \n",
      " 4   tenure           10000 non-null  float64\n",
      " 5   balance          10000 non-null  float64\n",
      " 6   numofproducts    10000 non-null  int64  \n",
      " 7   hascrcard        10000 non-null  int64  \n",
      " 8   isactivemember   10000 non-null  int64  \n",
      " 9   estimatedsalary  10000 non-null  float64\n",
      " 10  exited           10000 non-null  int64  \n",
      "dtypes: float64(3), int64(6), object(2)\n",
      "memory usage: 859.5+ KB\n"
     ]
    }
   ],
   "source": [
    "data.info()"
   ]
  },
  {
   "cell_type": "code",
   "execution_count": 24,
   "metadata": {},
   "outputs": [
    {
     "name": "stdout",
     "output_type": "stream",
     "text": [
      "      creditscore  geography  gender       age    tenure   balance  \\\n",
      "9027     1.569690        1.0     1.0 -0.184604  1.430866  0.380968   \n",
      "233      1.206863        1.0     1.0 -1.810316 -0.495851  0.542930   \n",
      "4080     1.631889        1.0     0.0 -0.184604 -1.459210 -0.196522   \n",
      "5467    -0.804239        2.0     1.0 -0.567125 -1.459210  1.790932   \n",
      "4297    -1.167066        2.0     1.0  2.779929  1.430866 -0.958638   \n",
      "\n",
      "      numofproducts  hascrcard  isactivemember  estimatedsalary  \n",
      "9027      -0.916499        0.0             1.0           6002.0  \n",
      "233        0.816669        0.0             1.0           7549.0  \n",
      "4080      -0.916499        1.0             0.0           1720.0  \n",
      "5467      -0.916499        1.0             1.0           7510.0  \n",
      "4297       0.816669        1.0             0.0           5544.0  \n",
      "      creditscore  geography  gender       age    tenure   balance  \\\n",
      "1973     0.439741        0.0     1.0  0.197916 -1.459210 -0.958638   \n",
      "2801    -1.581726        2.0     1.0 -0.949645  1.109746  0.887630   \n",
      "3876    -0.887171        1.0     1.0 -0.758385 -0.816971 -0.502502   \n",
      "3068     0.025081        0.0     0.0 -0.758385  0.788627 -0.126637   \n",
      "2191    -1.301831        2.0     0.0  0.771697  0.467507  0.498544   \n",
      "2435    -0.441411        1.0     1.0  0.293546  1.109746  1.024093   \n",
      "7648    -0.420678        2.0     0.0 -0.758385  0.146388 -0.958638   \n",
      "3968    -0.016385        1.0     1.0  0.102286 -0.174732 -0.376426   \n",
      "1854     0.926967        1.0     0.0 -0.280234 -0.174732  0.123624   \n",
      "2346    -1.374396        1.0     1.0  0.676067 -0.174732  0.296918   \n",
      "5230     0.854401        1.0     1.0  0.102286  0.146388  0.795552   \n",
      "2744     0.450108        2.0     1.0 -0.088974  0.788627  0.616592   \n",
      "6247     0.284244        0.0     0.0  0.676067 -1.138090 -0.958638   \n",
      "5069     0.045814        2.0     0.0 -0.949645  1.430866 -0.958638   \n",
      "2119     0.408642        0.0     1.0 -0.949645  0.146388 -0.958638   \n",
      "5960    -0.545076        0.0     1.0  0.867327  0.467507  0.575983   \n",
      "5418    -0.918270        1.0     1.0 -0.375865 -0.495851  1.390986   \n",
      "2917     0.491574        0.0     1.0  1.727998  0.467507  1.193137   \n",
      "9346     0.678171        0.0     1.0  0.197916  1.430866 -0.958638   \n",
      "1545    -0.503610        1.0     0.0  0.293546  0.467507  1.763072   \n",
      "\n",
      "      numofproducts  hascrcard  isactivemember  estimatedsalary  \n",
      "1973       0.816669        0.0             0.0           7819.0  \n",
      "2801      -0.916499        1.0             1.0           2273.0  \n",
      "3876       0.816669        1.0             1.0            232.0  \n",
      "3068      -0.916499        1.0             1.0            568.0  \n",
      "2191      -0.916499        1.0             0.0           4107.0  \n",
      "2435       0.816669        1.0             0.0           3529.0  \n",
      "7648       0.816669        0.0             0.0           3159.0  \n",
      "3968      -0.916499        0.0             1.0           6176.0  \n",
      "1854      -0.916499        0.0             0.0           4739.0  \n",
      "2346      -0.916499        0.0             0.0           4627.0  \n",
      "5230       0.816669        1.0             1.0           2489.0  \n",
      "2744      -0.916499        1.0             0.0           5684.0  \n",
      "6247       0.816669        0.0             0.0           4087.0  \n",
      "5069       0.816669        0.0             1.0           4282.0  \n",
      "2119       0.816669        1.0             0.0           5448.0  \n",
      "5960      -0.916499        1.0             0.0           1498.0  \n",
      "5418      -0.916499        0.0             1.0           8856.0  \n",
      "2917       0.816669        1.0             1.0           3590.0  \n",
      "9346      -0.916499        1.0             1.0           5672.0  \n",
      "1545      -0.916499        1.0             1.0           6623.0  \n"
     ]
    }
   ],
   "source": [
    "numeric = ['creditscore', 'age', 'tenure',\n",
    "           'balance', 'numofproducts']\n",
    "pd.options.mode.chained_assignment = None\n",
    "scaler = StandardScaler()\n",
    "scaler.fit(features_train[numeric])\n",
    "features_train[numeric] = scaler.transform(features_train[numeric])\n",
    "features_valid[numeric] = scaler.transform(features_valid[numeric])\n",
    "features_test[numeric] = scaler.transform(features_test[numeric])\n",
    "print(features_train.head())\n",
    "print(features_test.head(20))"
   ]
  },
  {
   "cell_type": "markdown",
   "metadata": {},
   "source": [
    "С этим справились. Теперь займемся дисбалансом классов. На данный момент соотношени классов 4 к 1. Думаю, увеличим количество \"единиц\" в 2 или 3 раза. Давайте возьмем тройку, чтобы уже наверняка. "
   ]
  },
  {
   "cell_type": "code",
   "execution_count": 25,
   "metadata": {},
   "outputs": [],
   "source": [
    "repeat = 3\n",
    "features_zeros = features_train[target_train == 0]\n",
    "features_ones = features_train[target_train == 1]\n",
    "target_zeros = target_train[target_train == 0]\n",
    "target_ones = target_train[target_train == 1]"
   ]
  },
  {
   "cell_type": "code",
   "execution_count": 26,
   "metadata": {},
   "outputs": [
    {
     "name": "stdout",
     "output_type": "stream",
     "text": [
      "0.0    5972\n",
      "1.0    4584\n",
      "Name: exited, dtype: int64\n"
     ]
    }
   ],
   "source": [
    "features_upsampled = pd.concat([features_zeros] + [features_ones] * repeat)\n",
    "target_upsampled = pd.concat([target_zeros] + [target_ones] * repeat)\n",
    "features_upsampled, target_upsampled = shuffle(\n",
    "    features_upsampled, target_upsampled, random_state=1985)\n",
    "print(target_upsampled.value_counts())"
   ]
  },
  {
   "cell_type": "markdown",
   "metadata": {},
   "source": [
    "Вот и замечательно - количество единиц значительно увеличилось по сравнению с нулями. Теперь заново построим нашу модель случайного леса и проверим, насколько увеличилось ее качество."
   ]
  },
  {
   "cell_type": "markdown",
   "metadata": {},
   "source": [
    "%%time\n",
    "grid = GridSearchCV(rfc, parameters, cv=5)\n",
    "grid.fit(features_upsampled, target_upsampled)\n",
    "grid.best_params_"
   ]
  },
  {
   "cell_type": "markdown",
   "metadata": {},
   "source": [
    "Вот мы и получили параметры для нового леса. Глубина осталась та же - 12, а вот количество деревьев - аж 50. Давайте ее проверим, и если все в порядке, то протестируем. "
   ]
  },
  {
   "cell_type": "markdown",
   "metadata": {},
   "source": [
    "model_rf_ups = RandomForestClassifier(random_state=1985, n_estimators=50, max_depth=12)\n",
    "model_rf_ups.fit(features_upsampled, target_upsampled)\n",
    "print(classification_report(target_valid,\n",
    "                            model_rf_ups.predict(features_valid), target_names=['0', '1']))"
   ]
  },
  {
   "cell_type": "markdown",
   "metadata": {},
   "source": [
    "%%time\n",
    "grid = GridSearchCV(rfc, parameters, cv=5, scoring='f1')\n",
    "grid.fit(features_upsampled, target_upsampled)\n",
    "grid.best_params_"
   ]
  },
  {
   "cell_type": "code",
   "execution_count": 27,
   "metadata": {},
   "outputs": [
    {
     "name": "stdout",
     "output_type": "stream",
     "text": [
      "0.8504 50 12\n",
      "              precision    recall  f1-score   support\n",
      "\n",
      "           0       0.90      0.92      0.91      1991\n",
      "           1       0.64      0.59      0.62       509\n",
      "\n",
      "    accuracy                           0.85      2500\n",
      "   macro avg       0.77      0.75      0.76      2500\n",
      "weighted avg       0.85      0.85      0.85      2500\n",
      "\n",
      "CPU times: user 19.7 s, sys: 75.9 ms, total: 19.8 s\n",
      "Wall time: 19.8 s\n"
     ]
    }
   ],
   "source": [
    "%%time\n",
    "model_rf_ups = None\n",
    "best_result_ups = 0\n",
    "est = 0\n",
    "depth_ups = 0\n",
    "for est in range(10, 51, 5):\n",
    "    for depth in range(1,13):\n",
    "        clf = RandomForestClassifier(random_state=1985, n_estimators=est, max_depth=depth)\n",
    "        clf.fit(features_upsampled, target_upsampled)\n",
    "        result = clf.score(features_valid, target_valid)\n",
    "        if result > best_result_ups:\n",
    "            model_rf_ups = clf\n",
    "            best_result_ups = result\n",
    "            est = est\n",
    "            depth_rf = depth\n",
    "print(best_result_ups, est, depth_rf)\n",
    "print(classification_report(target_valid, model_rf_ups.predict(features_valid), target_names=['0', '1'])) "
   ]
  },
  {
   "cell_type": "markdown",
   "metadata": {},
   "source": [
    "Получается, что мы достигли неплохого показателя f1 - 0,62. Это что на три пункта выше требуемых 0,59. Мы также попытались осуществить поиск оптимальных показателей сразу по f1, но наша модель уже и так отражала наивысшее значение этого показателя. Также мы можем отметить, что recall по единице сильно вырос, но случилось это за счет снижения  precision. Сам факт сильного снижения precison неприятен, но все логично - модель стала чаще прогнозировать единицу и соответственно, реже ошибвться в одну сторону и чаще в другую. И в целом качество нашей модели выросло. "
   ]
  },
  {
   "cell_type": "markdown",
   "metadata": {},
   "source": [
    "Теперь прежде чем перейти к тестированию модели давате посроим ROC- кривую и посчитаем AUC ROC для сравнения и наглядности. "
   ]
  },
  {
   "cell_type": "code",
   "execution_count": 28,
   "metadata": {},
   "outputs": [
    {
     "data": {
      "image/png": "[encoded data removed]",
      "text/plain": [
       "<Figure size 432x288 with 1 Axes>"
      ]
     },
     "metadata": {
      "needs_background": "light"
     },
     "output_type": "display_data"
    }
   ],
   "source": [
    "probabilities_valid = model_rf_ups.predict_proba(features_valid)\n",
    "probabilities_one_valid = probabilities_valid[:, 1]\n",
    "fpr, tpr, thresholds = roc_curve(target_valid, probabilities_one_valid)\n",
    "plt.figure()\n",
    "plt.plot([0, 1], [0, 1], linestyle='--', label=\"random\")\n",
    "plt.plot(fpr, tpr, label='ROC')\n",
    "plt.xlim([0.0, 1.0])\n",
    "plt.ylim([0.0, 1.0])\n",
    "plt.xlabel('False Positive Rate')\n",
    "plt.ylabel('True Positive Rate')\n",
    "plt.title('ROC-кривая')\n",
    "plt.grid()\n",
    "plt.legend()\n",
    "plt.show()"
   ]
  },
  {
   "cell_type": "code",
   "execution_count": 29,
   "metadata": {},
   "outputs": [
    {
     "name": "stdout",
     "output_type": "stream",
     "text": [
      "0.8667293587351332\n"
     ]
    }
   ],
   "source": [
    "auc_roc = roc_auc_score(target_valid, probabilities_one_valid)\n",
    "print(auc_roc)"
   ]
  },
  {
   "cell_type": "markdown",
   "metadata": {},
   "source": [
    "Взглянув на кривую и увидев площадь под кривой, можно понять, что наша модель получилась довольно высокого качества и сильно отличается от случайной в лучшую сторону. Кривая очень высокая, и визуально мне кажется, что можно поднять порог, чтобы еще больше повысить качество модели?  Давайте проверим эту гипоезу:"
   ]
  },
  {
   "cell_type": "code",
   "execution_count": 30,
   "metadata": {},
   "outputs": [
    {
     "name": "stdout",
     "output_type": "stream",
     "text": [
      "              precision    recall  f1-score   support\n",
      "\n",
      "           0       0.91      0.89      0.90      1991\n",
      "           1       0.60      0.66      0.63       509\n",
      "\n",
      "    accuracy                           0.84      2500\n",
      "   macro avg       0.75      0.77      0.76      2500\n",
      "weighted avg       0.85      0.84      0.84      2500\n",
      "\n"
     ]
    }
   ],
   "source": [
    "y_pred = (probabilities_one_valid >= 0.45).astype(bool)\n",
    "print(classification_report(target_valid, y_pred, target_names=['0', '1']))"
   ]
  },
  {
   "cell_type": "code",
   "execution_count": 39,
   "metadata": {},
   "outputs": [
    {
     "data": {
      "text/plain": [
       "array([False, False,  True, ..., False,  True,  True])"
      ]
     },
     "execution_count": 39,
     "metadata": {},
     "output_type": "execute_result"
    }
   ],
   "source": []
  },
  {
   "cell_type": "code",
   "execution_count": 46,
   "metadata": {},
   "outputs": [
    {
     "data": {
      "image/png": "[encoded data removed]",
      "text/plain": [
       "<Figure size 432x432 with 1 Axes>"
      ]
     },
     "metadata": {
      "needs_background": "light"
     },
     "output_type": "display_data"
    }
   ],
   "source": [
    "thresholds_array = np.arange(0.4, 0.61, 0.01)\n",
    "f1_array = [f1_score(target_valid, (probabilities_one_valid >= i)) for i in thresholds_array]\n",
    "\n",
    "plt.figure(figsize=(6, 6))\n",
    "plt.plot(thresholds_array, f1_array)\n",
    "plt.xlabel('thresholds')\n",
    "plt.ylabel('F1')\n",
    "plt.grid()\n",
    "plt.xlim(0.4, 0.6)\n",
    "plt.ylim(0.56, 0.65)\n",
    "plt.show()"
   ]
  },
  {
   "cell_type": "code",
   "execution_count": 31,
   "metadata": {},
   "outputs": [
    {
     "data": {
      "image/png": "[encoded data removed]",
      "text/plain": [
       "<Figure size 432x432 with 1 Axes>"
      ]
     },
     "metadata": {
      "needs_background": "light"
     },
     "output_type": "display_data"
    },
    {
     "name": "stdout",
     "output_type": "stream",
     "text": [
      "Best threshold = 0.48\n"
     ]
    }
   ],
   "source": [
    "from sklearn.metrics import precision_recall_curve\n",
    "import numpy as np\n",
    "\n",
    "precision, recall, thresholds = precision_recall_curve(target_valid, probabilities_valid[:, 1])\n",
    "plt.figure(figsize=(6, 6))\n",
    "plt.plot(thresholds, precision[:-1])\n",
    "plt.xlabel('thresholds')\n",
    "plt.ylabel('Precision-Recall')\n",
    "plt.plot(thresholds, recall[:-1])\n",
    "plt.grid()\n",
    "plt.xlim(0, 1)\n",
    "plt.ylim(0, 1)\n",
    "plt.show()\n",
    "\n",
    "print(f'Best threshold = {np.round(thresholds[np.argmin(np.abs(precision - recall))], 3)}')"
   ]
  },
  {
   "cell_type": "markdown",
   "metadata": {},
   "source": [
    "А вот и еще один способ воысить качество модели на один пункт по f1. мы немного пожертвовали точностью, но еще сильнее увеличили полноту. Заказчик должен быть доволен. "
   ]
  },
  {
   "cell_type": "markdown",
   "metadata": {},
   "source": [
    "Теперь давайте перейдем к тестированию модели и проверим ее качество уже на тестовой выборке!"
   ]
  },
  {
   "cell_type": "markdown",
   "metadata": {},
   "source": [
    "## Downsampling"
   ]
  },
  {
   "cell_type": "code",
   "execution_count": 32,
   "metadata": {},
   "outputs": [
    {
     "data": {
      "text/plain": [
       "(7500, 10)"
      ]
     },
     "execution_count": 32,
     "metadata": {},
     "output_type": "execute_result"
    }
   ],
   "source": [
    "features_train.shape"
   ]
  },
  {
   "cell_type": "code",
   "execution_count": 33,
   "metadata": {},
   "outputs": [
    {
     "data": {
      "text/plain": [
       "(3917, 10)"
      ]
     },
     "execution_count": 33,
     "metadata": {},
     "output_type": "execute_result"
    }
   ],
   "source": [
    "def downsample(features, target, fraction):\n",
    "    features_zeros = features[target == 0]\n",
    "    features_ones = features[target == 1]\n",
    "    target_zeros = target[target == 0]\n",
    "    target_ones = target[target == 1]\n",
    "    features_downsampled = pd.concat(\n",
    "        [features_zeros.sample(frac=fraction, random_state=1985)] + [features_ones])\n",
    "    target_downsampled = pd.concat(\n",
    "        [target_zeros.sample(frac=fraction, random_state=1985)] + [target_ones])   \n",
    "    features_downsampled, target_downsampled = shuffle(\n",
    "        features_downsampled, target_downsampled, random_state=1985)    \n",
    "    return features_downsampled, target_downsampled\n",
    "\n",
    "features_downsampled, target_downsampled = downsample(features_train, target_train, 0.4)\n",
    "features_downsampled.shape"
   ]
  },
  {
   "cell_type": "code",
   "execution_count": 34,
   "metadata": {},
   "outputs": [
    {
     "name": "stdout",
     "output_type": "stream",
     "text": [
      "0.8536 50 12\n",
      "              precision    recall  f1-score   support\n",
      "\n",
      "           0       0.89      0.93      0.91      1991\n",
      "           1       0.67      0.55      0.60       509\n",
      "\n",
      "    accuracy                           0.85      2500\n",
      "   macro avg       0.78      0.74      0.76      2500\n",
      "weighted avg       0.85      0.85      0.85      2500\n",
      "\n",
      "CPU times: user 10.4 s, sys: 40 ms, total: 10.4 s\n",
      "Wall time: 10.4 s\n"
     ]
    }
   ],
   "source": [
    "%%time\n",
    "model_rf_down = None\n",
    "best_result_down = 0\n",
    "est_down = 0\n",
    "depth_down = 0\n",
    "for est in range(10, 51, 5):\n",
    "    for depth in range(1,13):\n",
    "        clf = RandomForestClassifier(random_state=1985, n_estimators=est, max_depth=depth)\n",
    "        clf.fit(features_downsampled, target_downsampled)\n",
    "        result = clf.score(features_valid, target_valid)\n",
    "        if result > best_result_down:\n",
    "            model_rf_down = clf\n",
    "            best_result_down = result\n",
    "            est_down = est\n",
    "            depth_down = depth\n",
    "print(best_result_down, est, depth_rf)\n",
    "print(classification_report(target_valid, model_rf_down.predict(features_valid), target_names=['0', '1'])) "
   ]
  },
  {
   "cell_type": "markdown",
   "metadata": {},
   "source": [
    "Наша модель получила удовлетворительный результат, который тем не менее ниже не только резултата модели, тренированной на увеличенной выборке, но и ниже результата модели, на которой мы не обращали внимание на дисбаланс классов. Тем не менее если сравнивать с моделью, где мы не учитывали дисбаланс классов, здесь recall по единице выше. "
   ]
  },
  {
   "cell_type": "markdown",
   "metadata": {},
   "source": [
    "Теперь, определившись с оптимальной моделью, давайте ее протестируем."
   ]
  },
  {
   "cell_type": "markdown",
   "metadata": {},
   "source": [
    "## Тестирование модели"
   ]
  },
  {
   "cell_type": "code",
   "execution_count": 35,
   "metadata": {},
   "outputs": [
    {
     "name": "stdout",
     "output_type": "stream",
     "text": [
      "              precision    recall  f1-score   support\n",
      "\n",
      "           0       0.90      0.92      0.91      1593\n",
      "           1       0.66      0.58      0.62       407\n",
      "\n",
      "    accuracy                           0.85      2000\n",
      "   macro avg       0.78      0.75      0.77      2000\n",
      "weighted avg       0.85      0.85      0.85      2000\n",
      "\n"
     ]
    }
   ],
   "source": [
    "print(classification_report(target_test,\n",
    "                            model_rf_ups.predict(features_test), target_names=['0', '1']))"
   ]
  },
  {
   "cell_type": "markdown",
   "metadata": {},
   "source": [
    "Все показатели по единице очень низкие. F1= 0,33. Наша модель, видимо, невероятно переобучена. и у меня есть подозрение. Глубина у нас как правило 12, а это значит, что скорее всего в оценке учасвует id или порядковый номер. И тут рандом мог сильно повлиять на итоговую оценку. Давайте вернемся назад и удалим эти две колонки. "
   ]
  },
  {
   "cell_type": "markdown",
   "metadata": {},
   "source": [
    "UPD. Магия да и только. Мы избавились от порядковых номеров, ID и фамилий, однако глубина деревьев осталась прежней. Тем не менее качество моделей на тествой выборкке выросло прекраснейшим образом. У нас добавилось работы по идентификации клиентов, зато модель работает превосходно. Сейчас мы снова построим  ROC и посчитаем AUC ROC, а потом попробуем снова повысить качество модели при помощи порога. "
   ]
  },
  {
   "cell_type": "code",
   "execution_count": 36,
   "metadata": {},
   "outputs": [
    {
     "data": {
      "text/plain": [
       "Text(0.5, 1.0, 'ROC-кривая')"
      ]
     },
     "execution_count": 36,
     "metadata": {},
     "output_type": "execute_result"
    },
    {
     "data": {
      "image/png": "[encoded data removed]",
      "text/plain": [
       "<Figure size 432x288 with 1 Axes>"
      ]
     },
     "metadata": {
      "needs_background": "light"
     },
     "output_type": "display_data"
    }
   ],
   "source": [
    "probabilities_test = model_rf_ups.predict_proba(features_test)\n",
    "probabilities_one_test = probabilities_test[:, 1]\n",
    "fpr, tpr, thresholds = roc_curve(target_test, probabilities_one_test)\n",
    "plt.figure()\n",
    "plt.plot(fpr, tpr)\n",
    "plt.xlim([0.0, 1.0])\n",
    "plt.ylim([0.0, 1.0])\n",
    "plt.xlabel('False Positive Rate')\n",
    "plt.ylabel('True Positive Rate')\n",
    "plt.title('ROC-кривая')"
   ]
  },
  {
   "cell_type": "code",
   "execution_count": 37,
   "metadata": {},
   "outputs": [
    {
     "name": "stdout",
     "output_type": "stream",
     "text": [
      "0.8700811751659209\n"
     ]
    }
   ],
   "source": [
    "auc_roc2 = roc_auc_score(target_test, probabilities_one_test)\n",
    "print(auc_roc2)"
   ]
  },
  {
   "cell_type": "markdown",
   "metadata": {},
   "source": [
    "кривая снова расположена очень высоко, а значение AUC ROC = 0,87. Это является хорошим показателем и свидетельствует о приемлемом качестве модели."
   ]
  },
  {
   "cell_type": "code",
   "execution_count": 38,
   "metadata": {},
   "outputs": [
    {
     "name": "stdout",
     "output_type": "stream",
     "text": [
      "              precision    recall  f1-score   support\n",
      "\n",
      "           0       0.91      0.90      0.90      1593\n",
      "           1       0.61      0.65      0.63       407\n",
      "\n",
      "    accuracy                           0.85      2000\n",
      "   macro avg       0.76      0.77      0.77      2000\n",
      "weighted avg       0.85      0.85      0.85      2000\n",
      "\n"
     ]
    }
   ],
   "source": [
    "y_test = (probabilities_one_test >= 0.45).astype(bool)\n",
    "print(classification_report(target_test, y_test, target_names=['0', '1']))"
   ]
  },
  {
   "cell_type": "markdown",
   "metadata": {},
   "source": [
    "И снова, использовавав порог, мы получили более высокие показатели f1 и полноты. Думаю, что мы получили наилучшую модель таким образом. \n"
   ]
  },
  {
   "cell_type": "markdown",
   "metadata": {},
   "source": [
    "## Вывод"
   ]
  },
  {
   "cell_type": "markdown",
   "metadata": {},
   "source": [
    "Была проведена большая работа по предобработке данных и построению моделей DT и RF. Модель RF  показала себя лучше. Для повышения точности пришлось применить масштабирование поработать с дисбалансом классов и установить пороги. Однако мы столкнулись с переобучением и чтобы избавиться от него пришлось избавиться от идентифицирующих клиента параметров, потому что, как ни странно, они сильно негативно отражались на качестве модели на тестовой выборке."
   ]
  },
  {
   "cell_type": "markdown",
   "metadata": {},
   "source": [
    "В результате нашей работы мы создали качественную модель, которая превосходит требования задачи на 4 пункта (f1=0.63, при требовании 0,59) и поможет банку спрогнозировать, кто из клиентов может уйти в ближайшее время, и снизить отток клиентов. "
   ]
  }
 ],
 "metadata": {
  "ExecuteTimeLog": [
   {
    "duration": 1126,
    "start_time": "2022-08-24T09:31:45.377Z"
   },
   {
    "duration": 187,
    "start_time": "2022-08-24T09:32:22.665Z"
   },
   {
    "duration": 4,
    "start_time": "2022-08-24T09:37:50.002Z"
   },
   {
    "duration": 67,
    "start_time": "2022-08-24T09:38:23.403Z"
   },
   {
    "duration": 1157,
    "start_time": "2022-08-24T09:38:39.592Z"
   },
   {
    "duration": 4,
    "start_time": "2022-08-24T09:43:45.739Z"
   },
   {
    "duration": 5,
    "start_time": "2022-08-24T09:44:14.003Z"
   },
   {
    "duration": 43,
    "start_time": "2022-08-24T16:26:28.147Z"
   },
   {
    "duration": 1217,
    "start_time": "2022-08-24T16:26:41.172Z"
   },
   {
    "duration": 117,
    "start_time": "2022-08-24T16:26:42.391Z"
   },
   {
    "duration": 1283,
    "start_time": "2022-08-24T16:26:42.510Z"
   },
   {
    "duration": 5,
    "start_time": "2022-08-24T16:26:43.799Z"
   },
   {
    "duration": 10,
    "start_time": "2022-08-24T16:26:43.806Z"
   },
   {
    "duration": 130,
    "start_time": "2022-08-24T16:26:43.818Z"
   },
   {
    "duration": 5,
    "start_time": "2022-08-24T16:28:25.865Z"
   },
   {
    "duration": 122,
    "start_time": "2022-08-24T16:40:11.003Z"
   },
   {
    "duration": 10,
    "start_time": "2022-08-24T16:40:16.637Z"
   },
   {
    "duration": 11,
    "start_time": "2022-08-24T16:40:21.604Z"
   },
   {
    "duration": 9,
    "start_time": "2022-08-24T16:40:25.592Z"
   },
   {
    "duration": 15,
    "start_time": "2022-08-24T16:41:06.799Z"
   },
   {
    "duration": 11,
    "start_time": "2022-08-24T16:41:18.467Z"
   },
   {
    "duration": 16,
    "start_time": "2022-08-24T16:42:02.761Z"
   },
   {
    "duration": 4,
    "start_time": "2022-08-24T17:09:22.202Z"
   },
   {
    "duration": 6,
    "start_time": "2022-08-24T17:09:37.164Z"
   },
   {
    "duration": 53,
    "start_time": "2022-08-24T17:34:55.368Z"
   },
   {
    "duration": 15,
    "start_time": "2022-08-24T17:35:08.566Z"
   },
   {
    "duration": 4,
    "start_time": "2022-08-24T17:36:52.979Z"
   },
   {
    "duration": 7,
    "start_time": "2022-08-24T17:42:00.848Z"
   },
   {
    "duration": 7,
    "start_time": "2022-08-24T17:45:25.453Z"
   },
   {
    "duration": 6,
    "start_time": "2022-08-24T17:45:32.835Z"
   },
   {
    "duration": 6,
    "start_time": "2022-08-24T17:45:37.163Z"
   },
   {
    "duration": 71,
    "start_time": "2022-08-24T17:57:54.883Z"
   },
   {
    "duration": 88,
    "start_time": "2022-08-24T17:58:06.938Z"
   },
   {
    "duration": 21,
    "start_time": "2022-08-24T18:02:39.000Z"
   },
   {
    "duration": 390,
    "start_time": "2022-08-24T18:03:23.278Z"
   },
   {
    "duration": 10,
    "start_time": "2022-08-24T18:06:49.635Z"
   },
   {
    "duration": 11,
    "start_time": "2022-08-24T18:07:09.115Z"
   },
   {
    "duration": 12,
    "start_time": "2022-08-24T18:12:24.442Z"
   },
   {
    "duration": 14,
    "start_time": "2022-08-24T18:12:55.721Z"
   },
   {
    "duration": 1086,
    "start_time": "2022-08-31T04:52:52.308Z"
   },
   {
    "duration": 119,
    "start_time": "2022-08-31T04:52:53.396Z"
   },
   {
    "duration": 1157,
    "start_time": "2022-08-31T04:52:53.516Z"
   },
   {
    "duration": 4,
    "start_time": "2022-08-31T04:52:54.675Z"
   },
   {
    "duration": 10,
    "start_time": "2022-08-31T04:52:54.680Z"
   },
   {
    "duration": 107,
    "start_time": "2022-08-31T04:52:54.691Z"
   },
   {
    "duration": 12,
    "start_time": "2022-08-31T04:52:54.799Z"
   },
   {
    "duration": 11,
    "start_time": "2022-08-31T04:52:54.812Z"
   },
   {
    "duration": 3,
    "start_time": "2022-08-31T04:52:54.825Z"
   },
   {
    "duration": 8,
    "start_time": "2022-08-31T04:52:54.830Z"
   },
   {
    "duration": 72,
    "start_time": "2022-08-31T04:52:54.839Z"
   },
   {
    "duration": 10,
    "start_time": "2022-08-31T04:52:54.913Z"
   },
   {
    "duration": 9,
    "start_time": "2022-08-31T04:52:54.924Z"
   },
   {
    "duration": 10,
    "start_time": "2022-08-31T04:52:54.934Z"
   },
   {
    "duration": 8,
    "start_time": "2022-08-31T04:52:54.945Z"
   },
   {
    "duration": 76,
    "start_time": "2022-08-31T04:52:54.955Z"
   },
   {
    "duration": 368,
    "start_time": "2022-08-31T04:52:55.033Z"
   },
   {
    "duration": 16,
    "start_time": "2022-08-31T04:52:55.403Z"
   },
   {
    "duration": 4,
    "start_time": "2022-08-31T04:56:31.895Z"
   },
   {
    "duration": 51,
    "start_time": "2022-08-31T05:22:13.940Z"
   },
   {
    "duration": 3,
    "start_time": "2022-08-31T05:22:19.136Z"
   },
   {
    "duration": 188,
    "start_time": "2022-08-31T05:22:21.726Z"
   },
   {
    "duration": 85579,
    "start_time": "2022-08-31T05:22:43.119Z"
   },
   {
    "duration": 3,
    "start_time": "2022-08-31T05:26:19.773Z"
   },
   {
    "duration": 215,
    "start_time": "2022-08-31T05:31:43.524Z"
   },
   {
    "duration": 118,
    "start_time": "2022-08-31T05:44:47.199Z"
   },
   {
    "duration": 87196,
    "start_time": "2022-08-31T05:45:32.501Z"
   },
   {
    "duration": 63,
    "start_time": "2022-08-31T07:04:04.271Z"
   },
   {
    "duration": 5,
    "start_time": "2022-08-31T07:05:15.882Z"
   },
   {
    "duration": 8,
    "start_time": "2022-08-31T08:19:02.828Z"
   },
   {
    "duration": 8,
    "start_time": "2022-08-31T08:19:04.619Z"
   },
   {
    "duration": 1093,
    "start_time": "2022-08-31T08:19:10.919Z"
   },
   {
    "duration": 86,
    "start_time": "2022-08-31T08:19:12.014Z"
   },
   {
    "duration": 1055,
    "start_time": "2022-08-31T08:19:12.102Z"
   },
   {
    "duration": 3,
    "start_time": "2022-08-31T08:19:13.159Z"
   },
   {
    "duration": 15,
    "start_time": "2022-08-31T08:19:13.164Z"
   },
   {
    "duration": 24,
    "start_time": "2022-08-31T08:19:13.181Z"
   },
   {
    "duration": 5,
    "start_time": "2022-08-31T08:19:13.206Z"
   },
   {
    "duration": 27,
    "start_time": "2022-08-31T08:19:13.213Z"
   },
   {
    "duration": 12,
    "start_time": "2022-08-31T08:19:13.241Z"
   },
   {
    "duration": 16,
    "start_time": "2022-08-31T08:19:13.255Z"
   },
   {
    "duration": 70,
    "start_time": "2022-08-31T08:19:13.272Z"
   },
   {
    "duration": 9,
    "start_time": "2022-08-31T08:19:13.344Z"
   },
   {
    "duration": 8,
    "start_time": "2022-08-31T08:19:13.355Z"
   },
   {
    "duration": 24,
    "start_time": "2022-08-31T08:19:13.366Z"
   },
   {
    "duration": 25,
    "start_time": "2022-08-31T08:19:13.391Z"
   },
   {
    "duration": 74,
    "start_time": "2022-08-31T08:19:13.418Z"
   },
   {
    "duration": 362,
    "start_time": "2022-08-31T08:19:13.494Z"
   },
   {
    "duration": 13,
    "start_time": "2022-08-31T08:19:13.858Z"
   },
   {
    "duration": 6,
    "start_time": "2022-08-31T08:19:13.873Z"
   },
   {
    "duration": 86998,
    "start_time": "2022-08-31T08:19:13.880Z"
   },
   {
    "duration": 4,
    "start_time": "2022-08-31T08:20:40.879Z"
   },
   {
    "duration": 217,
    "start_time": "2022-08-31T08:20:40.884Z"
   },
   {
    "duration": 87733,
    "start_time": "2022-08-31T08:20:41.103Z"
   },
   {
    "duration": 117,
    "start_time": "2022-08-31T08:22:08.837Z"
   },
   {
    "duration": 11,
    "start_time": "2022-08-31T08:30:18.069Z"
   },
   {
    "duration": 29,
    "start_time": "2022-08-31T08:33:53.684Z"
   },
   {
    "duration": 26,
    "start_time": "2022-08-31T08:35:35.942Z"
   },
   {
    "duration": 1119,
    "start_time": "2022-09-01T05:00:16.272Z"
   },
   {
    "duration": 114,
    "start_time": "2022-09-01T05:00:17.393Z"
   },
   {
    "duration": 1115,
    "start_time": "2022-09-01T05:00:17.509Z"
   },
   {
    "duration": 4,
    "start_time": "2022-09-01T05:00:18.625Z"
   },
   {
    "duration": 11,
    "start_time": "2022-09-01T05:00:18.631Z"
   },
   {
    "duration": 86,
    "start_time": "2022-09-01T05:00:18.644Z"
   },
   {
    "duration": 5,
    "start_time": "2022-09-01T05:00:18.731Z"
   },
   {
    "duration": 15,
    "start_time": "2022-09-01T05:00:18.737Z"
   },
   {
    "duration": 4,
    "start_time": "2022-09-01T05:00:18.753Z"
   },
   {
    "duration": 11,
    "start_time": "2022-09-01T05:00:18.758Z"
   },
   {
    "duration": 78,
    "start_time": "2022-09-01T05:00:18.770Z"
   },
   {
    "duration": 9,
    "start_time": "2022-09-01T05:00:18.849Z"
   },
   {
    "duration": 10,
    "start_time": "2022-09-01T05:00:18.859Z"
   },
   {
    "duration": 10,
    "start_time": "2022-09-01T05:00:18.872Z"
   },
   {
    "duration": 17,
    "start_time": "2022-09-01T05:00:18.883Z"
   },
   {
    "duration": 71,
    "start_time": "2022-09-01T05:00:18.901Z"
   },
   {
    "duration": 420,
    "start_time": "2022-09-01T05:00:18.974Z"
   },
   {
    "duration": 11,
    "start_time": "2022-09-01T05:00:19.397Z"
   },
   {
    "duration": 3,
    "start_time": "2022-09-01T05:00:19.410Z"
   },
   {
    "duration": 97122,
    "start_time": "2022-09-01T05:00:19.414Z"
   },
   {
    "duration": 3,
    "start_time": "2022-09-01T05:01:56.538Z"
   },
   {
    "duration": 245,
    "start_time": "2022-09-01T05:01:56.542Z"
   },
   {
    "duration": 12,
    "start_time": "2022-09-01T05:01:56.788Z"
   },
   {
    "duration": 18,
    "start_time": "2022-09-01T05:01:56.801Z"
   },
   {
    "duration": 7,
    "start_time": "2022-09-01T05:06:48.561Z"
   },
   {
    "duration": 6,
    "start_time": "2022-09-01T05:08:27.189Z"
   },
   {
    "duration": 4,
    "start_time": "2022-09-01T05:09:15.427Z"
   },
   {
    "duration": 30,
    "start_time": "2022-09-01T05:10:55.711Z"
   },
   {
    "duration": 8,
    "start_time": "2022-09-01T05:11:05.016Z"
   },
   {
    "duration": 121303,
    "start_time": "2022-09-01T05:14:29.097Z"
   },
   {
    "duration": 4,
    "start_time": "2022-09-01T05:16:59.269Z"
   },
   {
    "duration": 289,
    "start_time": "2022-09-01T05:19:25.763Z"
   },
   {
    "duration": 157,
    "start_time": "2022-09-01T05:20:54.572Z"
   },
   {
    "duration": 48,
    "start_time": "2022-09-01T05:21:07.494Z"
   },
   {
    "duration": 121679,
    "start_time": "2022-09-01T05:21:14.247Z"
   },
   {
    "duration": 690,
    "start_time": "2022-09-01T05:23:15.927Z"
   },
   {
    "duration": 3,
    "start_time": "2022-09-01T05:23:44.995Z"
   },
   {
    "duration": 4,
    "start_time": "2022-09-01T05:31:59.267Z"
   },
   {
    "duration": 12,
    "start_time": "2022-09-01T05:35:12.645Z"
   },
   {
    "duration": 4,
    "start_time": "2022-09-01T05:35:34.114Z"
   },
   {
    "duration": 10,
    "start_time": "2022-09-01T05:35:42.052Z"
   },
   {
    "duration": 103,
    "start_time": "2022-09-01T05:35:52.983Z"
   },
   {
    "duration": 5,
    "start_time": "2022-09-01T05:40:08.666Z"
   },
   {
    "duration": 192,
    "start_time": "2022-09-01T05:48:24.475Z"
   },
   {
    "duration": 6,
    "start_time": "2022-09-01T05:48:28.275Z"
   },
   {
    "duration": 88,
    "start_time": "2022-09-01T06:00:50.609Z"
   },
   {
    "duration": 9,
    "start_time": "2022-09-01T06:04:39.550Z"
   },
   {
    "duration": 12,
    "start_time": "2022-09-01T06:04:53.134Z"
   },
   {
    "duration": 10,
    "start_time": "2022-09-01T06:05:02.307Z"
   },
   {
    "duration": 10,
    "start_time": "2022-09-01T06:05:09.684Z"
   },
   {
    "duration": 11,
    "start_time": "2022-09-01T06:05:15.691Z"
   },
   {
    "duration": 11,
    "start_time": "2022-09-01T06:05:21.766Z"
   },
   {
    "duration": 12,
    "start_time": "2022-09-01T06:05:25.688Z"
   },
   {
    "duration": 22,
    "start_time": "2022-09-01T06:10:22.761Z"
   },
   {
    "duration": 661,
    "start_time": "2022-09-01T06:11:28.656Z"
   },
   {
    "duration": 1224,
    "start_time": "2022-09-01T06:13:50.557Z"
   },
   {
    "duration": 73,
    "start_time": "2022-09-01T06:13:51.783Z"
   },
   {
    "duration": 732,
    "start_time": "2022-09-01T06:13:51.857Z"
   },
   {
    "duration": 7,
    "start_time": "2022-09-01T06:13:52.591Z"
   },
   {
    "duration": 6,
    "start_time": "2022-09-01T06:13:52.600Z"
   },
   {
    "duration": 72,
    "start_time": "2022-09-01T06:13:52.607Z"
   },
   {
    "duration": 4,
    "start_time": "2022-09-01T06:13:52.680Z"
   },
   {
    "duration": 20,
    "start_time": "2022-09-01T06:13:52.686Z"
   },
   {
    "duration": 3,
    "start_time": "2022-09-01T06:13:52.707Z"
   },
   {
    "duration": 5,
    "start_time": "2022-09-01T06:13:52.712Z"
   },
   {
    "duration": 53,
    "start_time": "2022-09-01T06:13:52.718Z"
   },
   {
    "duration": 26,
    "start_time": "2022-09-01T06:13:52.773Z"
   },
   {
    "duration": 5,
    "start_time": "2022-09-01T06:13:52.800Z"
   },
   {
    "duration": 14,
    "start_time": "2022-09-01T06:13:52.807Z"
   },
   {
    "duration": 8,
    "start_time": "2022-09-01T06:13:52.822Z"
   },
   {
    "duration": 82,
    "start_time": "2022-09-01T06:13:52.831Z"
   },
   {
    "duration": 402,
    "start_time": "2022-09-01T06:13:52.914Z"
   },
   {
    "duration": 12,
    "start_time": "2022-09-01T06:13:53.317Z"
   },
   {
    "duration": 3,
    "start_time": "2022-09-01T06:13:53.330Z"
   },
   {
    "duration": 93686,
    "start_time": "2022-09-01T06:13:53.334Z"
   },
   {
    "duration": 3,
    "start_time": "2022-09-01T06:15:27.021Z"
   },
   {
    "duration": 230,
    "start_time": "2022-09-01T06:15:27.025Z"
   },
   {
    "duration": 10,
    "start_time": "2022-09-01T06:15:27.256Z"
   },
   {
    "duration": 17,
    "start_time": "2022-09-01T06:15:27.267Z"
   },
   {
    "duration": 16,
    "start_time": "2022-09-01T06:15:27.285Z"
   },
   {
    "duration": 8,
    "start_time": "2022-09-01T06:15:27.303Z"
   },
   {
    "duration": 122284,
    "start_time": "2022-09-01T06:15:27.312Z"
   },
   {
    "duration": 4,
    "start_time": "2022-09-01T06:17:29.599Z"
   },
   {
    "duration": 716,
    "start_time": "2022-09-01T06:17:29.604Z"
   },
   {
    "duration": 122112,
    "start_time": "2022-09-01T06:17:30.321Z"
   },
   {
    "duration": 3,
    "start_time": "2022-09-01T06:19:32.435Z"
   },
   {
    "duration": 139,
    "start_time": "2022-09-01T06:19:32.440Z"
   },
   {
    "duration": 5,
    "start_time": "2022-09-01T06:19:32.580Z"
   },
   {
    "duration": 19,
    "start_time": "2022-09-01T06:19:32.587Z"
   },
   {
    "duration": 2,
    "start_time": "2022-09-01T06:19:32.607Z"
   },
   {
    "duration": 23,
    "start_time": "2022-09-01T06:20:42.843Z"
   },
   {
    "duration": 682,
    "start_time": "2022-09-01T06:24:35.818Z"
   },
   {
    "duration": 10,
    "start_time": "2022-09-01T06:25:40.935Z"
   },
   {
    "duration": 9,
    "start_time": "2022-09-01T06:25:42.635Z"
   },
   {
    "duration": 8,
    "start_time": "2022-09-01T06:25:46.173Z"
   },
   {
    "duration": 410,
    "start_time": "2022-09-01T06:25:51.168Z"
   },
   {
    "duration": 3,
    "start_time": "2022-09-01T06:25:56.800Z"
   },
   {
    "duration": 662,
    "start_time": "2022-09-01T06:26:23.029Z"
   },
   {
    "duration": 10,
    "start_time": "2022-09-01T06:26:48.629Z"
   },
   {
    "duration": 1423,
    "start_time": "2022-09-01T06:28:04.893Z"
   },
   {
    "duration": 72,
    "start_time": "2022-09-01T06:28:06.318Z"
   },
   {
    "duration": 688,
    "start_time": "2022-09-01T06:28:06.392Z"
   },
   {
    "duration": 3,
    "start_time": "2022-09-01T06:28:07.082Z"
   },
   {
    "duration": 14,
    "start_time": "2022-09-01T06:28:07.086Z"
   },
   {
    "duration": 85,
    "start_time": "2022-09-01T06:28:07.101Z"
   },
   {
    "duration": 5,
    "start_time": "2022-09-01T06:28:07.188Z"
   },
   {
    "duration": 28,
    "start_time": "2022-09-01T06:28:07.194Z"
   },
   {
    "duration": 4,
    "start_time": "2022-09-01T06:28:07.223Z"
   },
   {
    "duration": 15,
    "start_time": "2022-09-01T06:28:07.230Z"
   },
   {
    "duration": 60,
    "start_time": "2022-09-01T06:28:07.246Z"
   },
   {
    "duration": 9,
    "start_time": "2022-09-01T06:28:07.308Z"
   },
   {
    "duration": 8,
    "start_time": "2022-09-01T06:28:07.318Z"
   },
   {
    "duration": 9,
    "start_time": "2022-09-01T06:28:07.327Z"
   },
   {
    "duration": 8,
    "start_time": "2022-09-01T06:28:07.337Z"
   },
   {
    "duration": 83,
    "start_time": "2022-09-01T06:28:07.346Z"
   },
   {
    "duration": 401,
    "start_time": "2022-09-01T06:28:07.431Z"
   },
   {
    "duration": 11,
    "start_time": "2022-09-01T06:28:07.834Z"
   },
   {
    "duration": 3,
    "start_time": "2022-09-01T06:28:07.846Z"
   },
   {
    "duration": 95284,
    "start_time": "2022-09-01T06:28:07.850Z"
   },
   {
    "duration": 223,
    "start_time": "2022-09-01T06:29:43.136Z"
   },
   {
    "duration": 10,
    "start_time": "2022-09-01T06:29:43.361Z"
   },
   {
    "duration": 31,
    "start_time": "2022-09-01T06:29:43.373Z"
   },
   {
    "duration": 6,
    "start_time": "2022-09-01T06:29:43.405Z"
   },
   {
    "duration": 11,
    "start_time": "2022-09-01T06:29:43.412Z"
   },
   {
    "duration": 123643,
    "start_time": "2022-09-01T06:29:43.425Z"
   },
   {
    "duration": 697,
    "start_time": "2022-09-01T06:31:47.070Z"
   },
   {
    "duration": 125419,
    "start_time": "2022-09-01T06:31:47.770Z"
   },
   {
    "duration": 125,
    "start_time": "2022-09-01T06:33:53.191Z"
   },
   {
    "duration": 4,
    "start_time": "2022-09-01T06:33:53.318Z"
   },
   {
    "duration": 12,
    "start_time": "2022-09-01T06:33:53.323Z"
   },
   {
    "duration": 20,
    "start_time": "2022-09-01T06:33:53.336Z"
   },
   {
    "duration": 440,
    "start_time": "2022-09-01T06:33:53.358Z"
   },
   {
    "duration": 11,
    "start_time": "2022-09-01T06:34:46.077Z"
   },
   {
    "duration": 11,
    "start_time": "2022-09-01T06:34:58.572Z"
   },
   {
    "duration": 11,
    "start_time": "2022-09-01T06:35:02.201Z"
   },
   {
    "duration": 10,
    "start_time": "2022-09-01T06:35:06.182Z"
   },
   {
    "duration": 10,
    "start_time": "2022-09-01T06:35:11.227Z"
   },
   {
    "duration": 10,
    "start_time": "2022-09-01T06:35:16.297Z"
   },
   {
    "duration": 21,
    "start_time": "2022-09-01T06:37:47.852Z"
   },
   {
    "duration": 21,
    "start_time": "2022-09-01T06:37:52.906Z"
   },
   {
    "duration": 24,
    "start_time": "2022-09-01T06:39:32.846Z"
   },
   {
    "duration": 27,
    "start_time": "2022-09-01T06:41:26.273Z"
   },
   {
    "duration": 33,
    "start_time": "2022-09-01T06:42:19.008Z"
   },
   {
    "duration": 33,
    "start_time": "2022-09-01T06:51:21.626Z"
   },
   {
    "duration": 3,
    "start_time": "2022-09-01T07:08:06.644Z"
   },
   {
    "duration": 108,
    "start_time": "2022-09-01T07:08:57.180Z"
   },
   {
    "duration": 9,
    "start_time": "2022-09-01T07:09:11.320Z"
   },
   {
    "duration": 8,
    "start_time": "2022-09-01T07:09:28.173Z"
   },
   {
    "duration": 8,
    "start_time": "2022-09-01T07:09:46.477Z"
   },
   {
    "duration": 5,
    "start_time": "2022-09-01T07:11:03.078Z"
   },
   {
    "duration": 10,
    "start_time": "2022-09-01T07:11:15.534Z"
   },
   {
    "duration": 16,
    "start_time": "2022-09-01T07:12:42.248Z"
   },
   {
    "duration": 11,
    "start_time": "2022-09-01T07:12:50.947Z"
   },
   {
    "duration": 12,
    "start_time": "2022-09-01T07:13:09.132Z"
   },
   {
    "duration": 33,
    "start_time": "2022-09-01T07:13:27.937Z"
   },
   {
    "duration": 1389,
    "start_time": "2022-09-01T07:13:35.172Z"
   },
   {
    "duration": 72,
    "start_time": "2022-09-01T07:13:36.563Z"
   },
   {
    "duration": 715,
    "start_time": "2022-09-01T07:13:36.637Z"
   },
   {
    "duration": 3,
    "start_time": "2022-09-01T07:13:37.353Z"
   },
   {
    "duration": 7,
    "start_time": "2022-09-01T07:13:37.357Z"
   },
   {
    "duration": 81,
    "start_time": "2022-09-01T07:13:37.365Z"
   },
   {
    "duration": 4,
    "start_time": "2022-09-01T07:13:37.447Z"
   },
   {
    "duration": 13,
    "start_time": "2022-09-01T07:13:37.452Z"
   },
   {
    "duration": 4,
    "start_time": "2022-09-01T07:13:37.466Z"
   },
   {
    "duration": 15,
    "start_time": "2022-09-01T07:13:37.472Z"
   },
   {
    "duration": 3,
    "start_time": "2022-09-01T07:13:37.498Z"
   },
   {
    "duration": 7,
    "start_time": "2022-09-01T07:13:37.502Z"
   },
   {
    "duration": 39,
    "start_time": "2022-09-01T07:13:37.510Z"
   },
   {
    "duration": 9,
    "start_time": "2022-09-01T07:13:37.552Z"
   },
   {
    "duration": 10,
    "start_time": "2022-09-01T07:13:37.562Z"
   },
   {
    "duration": 25,
    "start_time": "2022-09-01T07:13:37.573Z"
   },
   {
    "duration": 8,
    "start_time": "2022-09-01T07:13:37.600Z"
   },
   {
    "duration": 43,
    "start_time": "2022-09-01T07:13:37.609Z"
   },
   {
    "duration": 261,
    "start_time": "2022-09-01T07:13:37.654Z"
   },
   {
    "duration": 11,
    "start_time": "2022-09-01T07:13:37.917Z"
   },
   {
    "duration": 30,
    "start_time": "2022-09-01T07:13:37.929Z"
   },
   {
    "duration": 77274,
    "start_time": "2022-09-01T07:13:37.961Z"
   },
   {
    "duration": 338,
    "start_time": "2022-09-01T07:14:55.237Z"
   },
   {
    "duration": 10,
    "start_time": "2022-09-01T07:14:55.577Z"
   },
   {
    "duration": 32,
    "start_time": "2022-09-01T07:14:55.588Z"
   },
   {
    "duration": 5,
    "start_time": "2022-09-01T07:14:55.622Z"
   },
   {
    "duration": 9,
    "start_time": "2022-09-01T07:14:55.629Z"
   },
   {
    "duration": 99778,
    "start_time": "2022-09-01T07:14:55.641Z"
   },
   {
    "duration": 545,
    "start_time": "2022-09-01T07:16:35.420Z"
   },
   {
    "duration": 100946,
    "start_time": "2022-09-01T07:16:35.973Z"
   },
   {
    "duration": 142,
    "start_time": "2022-09-01T07:18:16.920Z"
   },
   {
    "duration": 6,
    "start_time": "2022-09-01T07:18:17.064Z"
   },
   {
    "duration": 28,
    "start_time": "2022-09-01T07:18:17.071Z"
   },
   {
    "duration": 31,
    "start_time": "2022-09-01T07:18:17.101Z"
   },
   {
    "duration": 30,
    "start_time": "2022-09-01T07:30:44.217Z"
   },
   {
    "duration": 1304,
    "start_time": "2022-09-01T08:12:15.319Z"
   },
   {
    "duration": 104,
    "start_time": "2022-09-01T08:12:16.625Z"
   },
   {
    "duration": 738,
    "start_time": "2022-09-01T08:12:16.731Z"
   },
   {
    "duration": 4,
    "start_time": "2022-09-01T08:12:17.471Z"
   },
   {
    "duration": 7,
    "start_time": "2022-09-01T08:12:17.476Z"
   },
   {
    "duration": 78,
    "start_time": "2022-09-01T08:12:17.498Z"
   },
   {
    "duration": 3,
    "start_time": "2022-09-01T08:12:17.578Z"
   },
   {
    "duration": 40,
    "start_time": "2022-09-01T08:12:17.583Z"
   },
   {
    "duration": 13,
    "start_time": "2022-09-01T08:12:17.625Z"
   },
   {
    "duration": 37,
    "start_time": "2022-09-01T08:12:17.640Z"
   },
   {
    "duration": 32,
    "start_time": "2022-09-01T08:12:17.678Z"
   },
   {
    "duration": 25,
    "start_time": "2022-09-01T08:12:17.712Z"
   },
   {
    "duration": 78,
    "start_time": "2022-09-01T08:12:17.739Z"
   },
   {
    "duration": 8,
    "start_time": "2022-09-01T08:12:17.819Z"
   },
   {
    "duration": 19,
    "start_time": "2022-09-01T08:12:17.828Z"
   },
   {
    "duration": 15,
    "start_time": "2022-09-01T08:12:17.848Z"
   },
   {
    "duration": 17,
    "start_time": "2022-09-01T08:12:17.864Z"
   },
   {
    "duration": 48,
    "start_time": "2022-09-01T08:12:17.882Z"
   },
   {
    "duration": 251,
    "start_time": "2022-09-01T08:12:17.932Z"
   },
   {
    "duration": 19,
    "start_time": "2022-09-01T08:12:18.184Z"
   },
   {
    "duration": 8,
    "start_time": "2022-09-01T08:12:18.205Z"
   },
   {
    "duration": 80015,
    "start_time": "2022-09-01T08:12:18.215Z"
   },
   {
    "duration": 362,
    "start_time": "2022-09-01T08:13:38.232Z"
   },
   {
    "duration": 12,
    "start_time": "2022-09-01T08:13:38.595Z"
   },
   {
    "duration": 35,
    "start_time": "2022-09-01T08:13:38.609Z"
   },
   {
    "duration": 26,
    "start_time": "2022-09-01T08:13:38.646Z"
   },
   {
    "duration": 9,
    "start_time": "2022-09-01T08:13:38.674Z"
   },
   {
    "duration": 105034,
    "start_time": "2022-09-01T08:13:38.686Z"
   },
   {
    "duration": 572,
    "start_time": "2022-09-01T08:15:23.721Z"
   },
   {
    "duration": 101698,
    "start_time": "2022-09-01T08:15:24.296Z"
   },
   {
    "duration": 142,
    "start_time": "2022-09-01T08:17:05.998Z"
   },
   {
    "duration": 5,
    "start_time": "2022-09-01T08:17:06.142Z"
   },
   {
    "duration": 10,
    "start_time": "2022-09-01T08:17:06.148Z"
   },
   {
    "duration": 46,
    "start_time": "2022-09-01T08:17:06.160Z"
   },
   {
    "duration": 28,
    "start_time": "2022-09-01T08:17:06.208Z"
   },
   {
    "duration": 128,
    "start_time": "2022-09-01T08:19:07.541Z"
   },
   {
    "duration": 126,
    "start_time": "2022-09-01T08:19:15.861Z"
   },
   {
    "duration": 5,
    "start_time": "2022-09-01T08:19:45.315Z"
   },
   {
    "duration": 9,
    "start_time": "2022-09-01T08:23:57.219Z"
   },
   {
    "duration": 43,
    "start_time": "2022-09-01T08:40:57.616Z"
   },
   {
    "duration": 247,
    "start_time": "2022-09-01T08:41:04.913Z"
   },
   {
    "duration": 290,
    "start_time": "2022-09-01T08:41:42.428Z"
   },
   {
    "duration": 289,
    "start_time": "2022-09-01T08:42:04.360Z"
   },
   {
    "duration": 332,
    "start_time": "2022-09-01T08:42:26.521Z"
   },
   {
    "duration": 1266,
    "start_time": "2022-09-01T08:43:17.918Z"
   },
   {
    "duration": 88,
    "start_time": "2022-09-01T08:43:19.185Z"
   },
   {
    "duration": 761,
    "start_time": "2022-09-01T08:43:19.274Z"
   },
   {
    "duration": 4,
    "start_time": "2022-09-01T08:43:20.037Z"
   },
   {
    "duration": 14,
    "start_time": "2022-09-01T08:43:20.043Z"
   },
   {
    "duration": 89,
    "start_time": "2022-09-01T08:43:20.059Z"
   },
   {
    "duration": 5,
    "start_time": "2022-09-01T08:43:20.149Z"
   },
   {
    "duration": 14,
    "start_time": "2022-09-01T08:43:20.155Z"
   },
   {
    "duration": 5,
    "start_time": "2022-09-01T08:43:20.170Z"
   },
   {
    "duration": 30,
    "start_time": "2022-09-01T08:43:20.177Z"
   },
   {
    "duration": 9,
    "start_time": "2022-09-01T08:43:20.208Z"
   },
   {
    "duration": 11,
    "start_time": "2022-09-01T08:43:20.219Z"
   },
   {
    "duration": 38,
    "start_time": "2022-09-01T08:43:20.231Z"
   },
   {
    "duration": 8,
    "start_time": "2022-09-01T08:43:20.271Z"
   },
   {
    "duration": 18,
    "start_time": "2022-09-01T08:43:20.280Z"
   },
   {
    "duration": 7,
    "start_time": "2022-09-01T08:43:20.300Z"
   },
   {
    "duration": 19,
    "start_time": "2022-09-01T08:43:20.309Z"
   },
   {
    "duration": 44,
    "start_time": "2022-09-01T08:43:20.329Z"
   },
   {
    "duration": 321,
    "start_time": "2022-09-01T08:43:20.374Z"
   },
   {
    "duration": 13,
    "start_time": "2022-09-01T08:43:20.699Z"
   },
   {
    "duration": 3,
    "start_time": "2022-09-01T08:43:20.714Z"
   },
   {
    "duration": 80407,
    "start_time": "2022-09-01T08:43:20.719Z"
   },
   {
    "duration": 372,
    "start_time": "2022-09-01T08:44:41.127Z"
   },
   {
    "duration": 12,
    "start_time": "2022-09-01T08:44:41.501Z"
   },
   {
    "duration": 43,
    "start_time": "2022-09-01T08:44:41.515Z"
   },
   {
    "duration": 7,
    "start_time": "2022-09-01T08:44:41.560Z"
   },
   {
    "duration": 11,
    "start_time": "2022-09-01T08:44:41.569Z"
   },
   {
    "duration": 104613,
    "start_time": "2022-09-01T08:44:41.598Z"
   },
   {
    "duration": 560,
    "start_time": "2022-09-01T08:46:26.213Z"
   },
   {
    "duration": 105358,
    "start_time": "2022-09-01T08:46:26.775Z"
   },
   {
    "duration": 152,
    "start_time": "2022-09-01T08:48:12.134Z"
   },
   {
    "duration": 16,
    "start_time": "2022-09-01T08:48:12.288Z"
   },
   {
    "duration": 18,
    "start_time": "2022-09-01T08:48:12.306Z"
   },
   {
    "duration": 31,
    "start_time": "2022-09-01T08:48:12.326Z"
   },
   {
    "duration": 143,
    "start_time": "2022-09-01T08:48:12.358Z"
   },
   {
    "duration": 5,
    "start_time": "2022-09-01T08:48:12.503Z"
   },
   {
    "duration": 14,
    "start_time": "2022-09-01T08:48:12.509Z"
   },
   {
    "duration": 35,
    "start_time": "2022-09-01T08:51:17.282Z"
   },
   {
    "duration": 2046,
    "start_time": "2022-09-02T09:55:45.729Z"
   },
   {
    "duration": 396,
    "start_time": "2022-09-02T09:55:47.778Z"
   },
   {
    "duration": 947,
    "start_time": "2022-09-02T09:55:48.175Z"
   },
   {
    "duration": 3,
    "start_time": "2022-09-02T09:55:49.123Z"
   },
   {
    "duration": 17,
    "start_time": "2022-09-02T09:55:49.128Z"
   },
   {
    "duration": 23,
    "start_time": "2022-09-02T09:55:49.147Z"
   },
   {
    "duration": 4,
    "start_time": "2022-09-02T09:55:49.171Z"
   },
   {
    "duration": 16,
    "start_time": "2022-09-02T09:55:49.177Z"
   },
   {
    "duration": 5,
    "start_time": "2022-09-02T09:55:49.194Z"
   },
   {
    "duration": 26,
    "start_time": "2022-09-02T09:55:49.200Z"
   },
   {
    "duration": 23,
    "start_time": "2022-09-02T09:55:49.227Z"
   },
   {
    "duration": 11,
    "start_time": "2022-09-02T09:55:49.252Z"
   },
   {
    "duration": 56,
    "start_time": "2022-09-02T09:55:49.265Z"
   },
   {
    "duration": 12,
    "start_time": "2022-09-02T09:55:49.324Z"
   },
   {
    "duration": 37,
    "start_time": "2022-09-02T09:55:49.338Z"
   },
   {
    "duration": 24,
    "start_time": "2022-09-02T09:55:49.377Z"
   },
   {
    "duration": 19,
    "start_time": "2022-09-02T09:55:49.404Z"
   },
   {
    "duration": 54,
    "start_time": "2022-09-02T09:55:49.425Z"
   },
   {
    "duration": 295,
    "start_time": "2022-09-02T09:55:49.481Z"
   },
   {
    "duration": 17,
    "start_time": "2022-09-02T09:55:49.777Z"
   },
   {
    "duration": 4,
    "start_time": "2022-09-02T09:55:49.795Z"
   },
   {
    "duration": 82724,
    "start_time": "2022-09-02T09:55:49.800Z"
   },
   {
    "duration": 350,
    "start_time": "2022-09-02T09:57:12.526Z"
   },
   {
    "duration": 17,
    "start_time": "2022-09-02T09:57:12.878Z"
   },
   {
    "duration": 45,
    "start_time": "2022-09-02T09:57:12.897Z"
   },
   {
    "duration": 7,
    "start_time": "2022-09-02T09:57:12.943Z"
   },
   {
    "duration": 13,
    "start_time": "2022-09-02T09:57:12.951Z"
   },
   {
    "duration": 105125,
    "start_time": "2022-09-02T09:57:12.965Z"
   },
   {
    "duration": 597,
    "start_time": "2022-09-02T09:58:58.092Z"
   },
   {
    "duration": 106570,
    "start_time": "2022-09-02T09:58:58.691Z"
   },
   {
    "duration": 165,
    "start_time": "2022-09-02T10:00:45.263Z"
   },
   {
    "duration": 7,
    "start_time": "2022-09-02T10:00:45.429Z"
   },
   {
    "duration": 20,
    "start_time": "2022-09-02T10:00:45.437Z"
   },
   {
    "duration": 54,
    "start_time": "2022-09-02T10:00:45.459Z"
   },
   {
    "duration": 154,
    "start_time": "2022-09-02T10:00:45.515Z"
   },
   {
    "duration": 6,
    "start_time": "2022-09-02T10:00:45.671Z"
   },
   {
    "duration": 22,
    "start_time": "2022-09-02T10:00:45.678Z"
   },
   {
    "duration": 36,
    "start_time": "2022-09-02T10:05:50.479Z"
   },
   {
    "duration": 112,
    "start_time": "2022-09-02T10:12:40.579Z"
   },
   {
    "duration": 128,
    "start_time": "2022-09-02T10:12:58.078Z"
   },
   {
    "duration": 118,
    "start_time": "2022-09-02T10:13:05.622Z"
   },
   {
    "duration": 116,
    "start_time": "2022-09-02T10:13:21.279Z"
   },
   {
    "duration": 140,
    "start_time": "2022-09-02T10:13:34.643Z"
   },
   {
    "duration": 133,
    "start_time": "2022-09-02T10:14:11.210Z"
   },
   {
    "duration": 138,
    "start_time": "2022-09-02T10:14:29.630Z"
   },
   {
    "duration": 126,
    "start_time": "2022-09-02T10:14:57.358Z"
   },
   {
    "duration": 7,
    "start_time": "2022-09-02T10:16:22.298Z"
   },
   {
    "duration": 18,
    "start_time": "2022-09-02T10:22:09.167Z"
   },
   {
    "duration": 9,
    "start_time": "2022-09-02T10:22:16.122Z"
   },
   {
    "duration": 9,
    "start_time": "2022-09-02T10:23:16.010Z"
   },
   {
    "duration": 9,
    "start_time": "2022-09-02T10:23:28.407Z"
   },
   {
    "duration": 142,
    "start_time": "2022-09-02T10:23:39.688Z"
   },
   {
    "duration": 4,
    "start_time": "2022-09-02T10:23:58.812Z"
   },
   {
    "duration": 4,
    "start_time": "2022-09-02T10:24:02.664Z"
   },
   {
    "duration": 4,
    "start_time": "2022-09-02T10:24:26.748Z"
   },
   {
    "duration": 3,
    "start_time": "2022-09-02T10:24:45.712Z"
   },
   {
    "duration": 9,
    "start_time": "2022-09-02T10:25:03.621Z"
   },
   {
    "duration": 4,
    "start_time": "2022-09-02T10:25:13.414Z"
   },
   {
    "duration": 5,
    "start_time": "2022-09-02T10:25:43.378Z"
   },
   {
    "duration": 4,
    "start_time": "2022-09-02T10:25:51.003Z"
   },
   {
    "duration": 4,
    "start_time": "2022-09-02T10:26:18.561Z"
   },
   {
    "duration": 6,
    "start_time": "2022-09-02T10:26:31.850Z"
   },
   {
    "duration": 136,
    "start_time": "2022-09-02T10:27:05.598Z"
   },
   {
    "duration": 12,
    "start_time": "2022-09-02T10:27:42.134Z"
   },
   {
    "duration": 1547,
    "start_time": "2022-09-03T07:17:05.991Z"
   },
   {
    "duration": 119,
    "start_time": "2022-09-03T07:17:07.541Z"
   },
   {
    "duration": 927,
    "start_time": "2022-09-03T07:17:07.662Z"
   },
   {
    "duration": 3,
    "start_time": "2022-09-03T07:17:08.591Z"
   },
   {
    "duration": 9,
    "start_time": "2022-09-03T07:17:08.596Z"
   },
   {
    "duration": 13,
    "start_time": "2022-09-03T07:17:08.607Z"
   },
   {
    "duration": 4,
    "start_time": "2022-09-03T07:17:08.621Z"
   },
   {
    "duration": 13,
    "start_time": "2022-09-03T07:17:08.627Z"
   },
   {
    "duration": 4,
    "start_time": "2022-09-03T07:17:08.642Z"
   },
   {
    "duration": 15,
    "start_time": "2022-09-03T07:17:08.649Z"
   },
   {
    "duration": 4,
    "start_time": "2022-09-03T07:17:08.665Z"
   },
   {
    "duration": 7,
    "start_time": "2022-09-03T07:17:08.703Z"
   },
   {
    "duration": 39,
    "start_time": "2022-09-03T07:17:08.711Z"
   },
   {
    "duration": 9,
    "start_time": "2022-09-03T07:17:08.752Z"
   },
   {
    "duration": 6,
    "start_time": "2022-09-03T07:17:08.763Z"
   },
   {
    "duration": 36,
    "start_time": "2022-09-03T07:17:08.771Z"
   },
   {
    "duration": 10,
    "start_time": "2022-09-03T07:17:08.809Z"
   },
   {
    "duration": 43,
    "start_time": "2022-09-03T07:17:08.820Z"
   },
   {
    "duration": 331,
    "start_time": "2022-09-03T07:17:08.865Z"
   },
   {
    "duration": 17,
    "start_time": "2022-09-03T07:17:09.198Z"
   },
   {
    "duration": 3,
    "start_time": "2022-09-03T07:17:09.216Z"
   },
   {
    "duration": 80468,
    "start_time": "2022-09-03T07:17:09.221Z"
   },
   {
    "duration": 362,
    "start_time": "2022-09-03T07:18:29.691Z"
   },
   {
    "duration": 13,
    "start_time": "2022-09-03T07:18:30.056Z"
   },
   {
    "duration": 45,
    "start_time": "2022-09-03T07:18:30.071Z"
   },
   {
    "duration": 7,
    "start_time": "2022-09-03T07:18:30.118Z"
   },
   {
    "duration": 12,
    "start_time": "2022-09-03T07:18:30.126Z"
   },
   {
    "duration": 103871,
    "start_time": "2022-09-03T07:18:30.141Z"
   },
   {
    "duration": 567,
    "start_time": "2022-09-03T07:20:14.013Z"
   },
   {
    "duration": 106027,
    "start_time": "2022-09-03T07:20:14.582Z"
   },
   {
    "duration": 165,
    "start_time": "2022-09-03T07:22:00.611Z"
   },
   {
    "duration": 7,
    "start_time": "2022-09-03T07:22:00.778Z"
   },
   {
    "duration": 49,
    "start_time": "2022-09-03T07:22:00.787Z"
   },
   {
    "duration": 165,
    "start_time": "2022-09-03T07:22:00.839Z"
   },
   {
    "duration": 39,
    "start_time": "2022-09-03T07:22:01.005Z"
   },
   {
    "duration": 181,
    "start_time": "2022-09-03T07:22:01.045Z"
   },
   {
    "duration": 7,
    "start_time": "2022-09-03T07:22:01.228Z"
   },
   {
    "duration": 50,
    "start_time": "2022-09-03T07:22:01.237Z"
   },
   {
    "duration": 9,
    "start_time": "2022-09-03T07:27:49.614Z"
   },
   {
    "duration": 12,
    "start_time": "2022-09-03T07:28:19.451Z"
   },
   {
    "duration": 9,
    "start_time": "2022-09-03T07:28:44.346Z"
   },
   {
    "duration": 1373,
    "start_time": "2022-09-03T07:29:06.935Z"
   },
   {
    "duration": 77,
    "start_time": "2022-09-03T07:29:08.310Z"
   },
   {
    "duration": 1004,
    "start_time": "2022-09-03T07:29:08.388Z"
   },
   {
    "duration": 8,
    "start_time": "2022-09-03T07:29:09.395Z"
   },
   {
    "duration": 5,
    "start_time": "2022-09-03T07:29:09.405Z"
   },
   {
    "duration": 103,
    "start_time": "2022-09-03T07:29:09.412Z"
   },
   {
    "duration": 4,
    "start_time": "2022-09-03T07:29:09.518Z"
   },
   {
    "duration": 15,
    "start_time": "2022-09-03T07:29:09.524Z"
   },
   {
    "duration": 5,
    "start_time": "2022-09-03T07:29:09.541Z"
   },
   {
    "duration": 22,
    "start_time": "2022-09-03T07:29:17.466Z"
   },
   {
    "duration": 61,
    "start_time": "2022-09-03T07:34:53.445Z"
   },
   {
    "duration": 1438,
    "start_time": "2022-09-03T07:54:21.188Z"
   },
   {
    "duration": 87,
    "start_time": "2022-09-03T07:54:22.629Z"
   },
   {
    "duration": 930,
    "start_time": "2022-09-03T07:54:22.717Z"
   },
   {
    "duration": 4,
    "start_time": "2022-09-03T07:54:23.649Z"
   },
   {
    "duration": 13,
    "start_time": "2022-09-03T07:54:23.655Z"
   },
   {
    "duration": 118,
    "start_time": "2022-09-03T07:54:23.671Z"
   },
   {
    "duration": 14,
    "start_time": "2022-09-03T07:54:23.791Z"
   },
   {
    "duration": 13,
    "start_time": "2022-09-03T07:54:23.807Z"
   },
   {
    "duration": 7,
    "start_time": "2022-09-03T07:54:23.822Z"
   },
   {
    "duration": 24,
    "start_time": "2022-09-03T07:54:23.831Z"
   },
   {
    "duration": 5,
    "start_time": "2022-09-03T07:54:23.856Z"
   },
   {
    "duration": 41,
    "start_time": "2022-09-03T07:54:23.863Z"
   },
   {
    "duration": 50,
    "start_time": "2022-09-03T07:54:23.907Z"
   },
   {
    "duration": 10,
    "start_time": "2022-09-03T07:54:23.960Z"
   },
   {
    "duration": 8,
    "start_time": "2022-09-03T07:54:23.971Z"
   },
   {
    "duration": 28,
    "start_time": "2022-09-03T07:54:23.981Z"
   },
   {
    "duration": 14,
    "start_time": "2022-09-03T07:54:24.011Z"
   },
   {
    "duration": 42,
    "start_time": "2022-09-03T07:54:24.026Z"
   },
   {
    "duration": 306,
    "start_time": "2022-09-03T07:54:24.069Z"
   },
   {
    "duration": 14,
    "start_time": "2022-09-03T07:54:24.377Z"
   },
   {
    "duration": 210,
    "start_time": "2022-09-03T07:57:37.971Z"
   },
   {
    "duration": 20035,
    "start_time": "2022-09-03T07:58:04.169Z"
   },
   {
    "duration": 19885,
    "start_time": "2022-09-03T07:59:19.816Z"
   },
   {
    "duration": 1410,
    "start_time": "2022-09-03T17:55:23.823Z"
   },
   {
    "duration": 191,
    "start_time": "2022-09-03T17:55:25.235Z"
   },
   {
    "duration": 786,
    "start_time": "2022-09-03T17:55:25.427Z"
   },
   {
    "duration": 3,
    "start_time": "2022-09-03T17:55:26.215Z"
   },
   {
    "duration": 7,
    "start_time": "2022-09-03T17:55:26.220Z"
   },
   {
    "duration": 25,
    "start_time": "2022-09-03T17:55:26.229Z"
   },
   {
    "duration": 3,
    "start_time": "2022-09-03T17:55:26.256Z"
   },
   {
    "duration": 13,
    "start_time": "2022-09-03T17:55:26.261Z"
   },
   {
    "duration": 5,
    "start_time": "2022-09-03T17:55:26.276Z"
   },
   {
    "duration": 17,
    "start_time": "2022-09-03T17:55:26.283Z"
   },
   {
    "duration": 3,
    "start_time": "2022-09-03T17:55:26.301Z"
   },
   {
    "duration": 5,
    "start_time": "2022-09-03T17:55:26.305Z"
   },
   {
    "duration": 53,
    "start_time": "2022-09-03T17:55:26.312Z"
   },
   {
    "duration": 9,
    "start_time": "2022-09-03T17:55:26.366Z"
   },
   {
    "duration": 6,
    "start_time": "2022-09-03T17:55:26.376Z"
   },
   {
    "duration": 11,
    "start_time": "2022-09-03T17:55:26.384Z"
   },
   {
    "duration": 7,
    "start_time": "2022-09-03T17:55:26.397Z"
   },
   {
    "duration": 51,
    "start_time": "2022-09-03T17:55:26.406Z"
   },
   {
    "duration": 240,
    "start_time": "2022-09-03T17:55:26.459Z"
   },
   {
    "duration": 13,
    "start_time": "2022-09-03T17:55:26.701Z"
   },
   {
    "duration": 15680,
    "start_time": "2022-09-03T17:55:26.716Z"
   },
   {
    "duration": 9,
    "start_time": "2022-09-03T17:55:42.397Z"
   },
   {
    "duration": 24,
    "start_time": "2022-09-03T17:55:42.408Z"
   },
   {
    "duration": 21,
    "start_time": "2022-09-03T17:55:42.434Z"
   },
   {
    "duration": 8,
    "start_time": "2022-09-03T17:55:42.456Z"
   },
   {
    "duration": 22524,
    "start_time": "2022-09-03T17:58:04.597Z"
   },
   {
    "duration": 123,
    "start_time": "2022-09-03T17:59:05.346Z"
   },
   {
    "duration": 5,
    "start_time": "2022-09-03T17:59:14.734Z"
   },
   {
    "duration": 11,
    "start_time": "2022-09-03T17:59:31.619Z"
   },
   {
    "duration": 118,
    "start_time": "2022-09-03T17:59:42.492Z"
   },
   {
    "duration": 133,
    "start_time": "2022-09-03T18:05:36.733Z"
   },
   {
    "duration": 124,
    "start_time": "2022-09-03T18:05:44.847Z"
   },
   {
    "duration": 125,
    "start_time": "2022-09-03T18:05:49.698Z"
   },
   {
    "duration": 120,
    "start_time": "2022-09-03T18:06:19.121Z"
   },
   {
    "duration": 210,
    "start_time": "2022-09-03T18:08:51.908Z"
   },
   {
    "duration": 205,
    "start_time": "2022-09-03T18:09:12.642Z"
   },
   {
    "duration": 122,
    "start_time": "2022-09-03T18:09:26.172Z"
   },
   {
    "duration": 137,
    "start_time": "2022-09-03T18:10:45.675Z"
   },
   {
    "duration": 219,
    "start_time": "2022-09-03T18:10:56.248Z"
   },
   {
    "duration": 154,
    "start_time": "2022-09-03T18:13:18.499Z"
   },
   {
    "duration": 132,
    "start_time": "2022-09-03T18:14:27.438Z"
   },
   {
    "duration": 235,
    "start_time": "2022-09-03T18:15:11.299Z"
   },
   {
    "duration": 8,
    "start_time": "2022-09-03T18:27:24.737Z"
   },
   {
    "duration": 4,
    "start_time": "2022-09-03T18:27:30.393Z"
   },
   {
    "duration": 11,
    "start_time": "2022-09-03T18:37:26.556Z"
   },
   {
    "duration": 10683,
    "start_time": "2022-09-03T18:41:46.839Z"
   },
   {
    "duration": 20203,
    "start_time": "2022-09-03T18:42:22.244Z"
   },
   {
    "duration": 10587,
    "start_time": "2022-09-03T18:44:09.624Z"
   },
   {
    "duration": 10416,
    "start_time": "2022-09-03T18:47:05.799Z"
   },
   {
    "duration": 73,
    "start_time": "2022-09-03T18:53:58.983Z"
   },
   {
    "duration": 1308,
    "start_time": "2022-09-03T18:54:26.467Z"
   },
   {
    "duration": 68,
    "start_time": "2022-09-03T18:54:27.777Z"
   },
   {
    "duration": 724,
    "start_time": "2022-09-03T18:54:27.847Z"
   },
   {
    "duration": 3,
    "start_time": "2022-09-03T18:54:28.573Z"
   },
   {
    "duration": 6,
    "start_time": "2022-09-03T18:54:28.578Z"
   },
   {
    "duration": 90,
    "start_time": "2022-09-03T18:54:28.586Z"
   },
   {
    "duration": 4,
    "start_time": "2022-09-03T18:54:28.678Z"
   },
   {
    "duration": 19,
    "start_time": "2022-09-03T18:54:28.683Z"
   },
   {
    "duration": 4,
    "start_time": "2022-09-03T18:54:28.703Z"
   },
   {
    "duration": 18,
    "start_time": "2022-09-03T18:54:28.709Z"
   },
   {
    "duration": 3,
    "start_time": "2022-09-03T18:54:28.729Z"
   },
   {
    "duration": 21,
    "start_time": "2022-09-03T18:54:28.734Z"
   },
   {
    "duration": 33,
    "start_time": "2022-09-03T18:54:28.756Z"
   },
   {
    "duration": 7,
    "start_time": "2022-09-03T18:54:28.791Z"
   },
   {
    "duration": 5,
    "start_time": "2022-09-03T18:54:28.800Z"
   },
   {
    "duration": 10,
    "start_time": "2022-09-03T18:54:28.806Z"
   },
   {
    "duration": 7,
    "start_time": "2022-09-03T18:54:28.817Z"
   },
   {
    "duration": 52,
    "start_time": "2022-09-03T18:54:28.825Z"
   },
   {
    "duration": 244,
    "start_time": "2022-09-03T18:54:28.879Z"
   },
   {
    "duration": 11,
    "start_time": "2022-09-03T18:54:29.125Z"
   },
   {
    "duration": 15730,
    "start_time": "2022-09-03T18:54:29.138Z"
   },
   {
    "duration": 19,
    "start_time": "2022-09-03T18:54:44.870Z"
   },
   {
    "duration": 28,
    "start_time": "2022-09-03T18:54:44.891Z"
   },
   {
    "duration": 6,
    "start_time": "2022-09-03T18:54:44.920Z"
   },
   {
    "duration": 8,
    "start_time": "2022-09-03T18:54:44.927Z"
   },
   {
    "duration": 20434,
    "start_time": "2022-09-03T18:54:44.936Z"
   },
   {
    "duration": 148,
    "start_time": "2022-09-03T18:55:05.372Z"
   },
   {
    "duration": 5,
    "start_time": "2022-09-03T18:55:05.524Z"
   },
   {
    "duration": 13,
    "start_time": "2022-09-03T18:55:05.530Z"
   },
   {
    "duration": 111,
    "start_time": "2022-09-03T18:55:05.555Z"
   },
   {
    "duration": 3,
    "start_time": "2022-09-03T18:55:05.668Z"
   },
   {
    "duration": 12,
    "start_time": "2022-09-03T18:55:05.672Z"
   },
   {
    "duration": 10917,
    "start_time": "2022-09-03T18:55:05.685Z"
   },
   {
    "duration": 30,
    "start_time": "2022-09-03T18:55:16.603Z"
   },
   {
    "duration": 154,
    "start_time": "2022-09-03T18:55:16.634Z"
   },
   {
    "duration": 8,
    "start_time": "2022-09-03T18:55:16.791Z"
   },
   {
    "duration": 21,
    "start_time": "2022-09-03T18:55:16.800Z"
   },
   {
    "duration": 76,
    "start_time": "2022-09-03T20:49:21.187Z"
   },
   {
    "duration": 1699,
    "start_time": "2022-09-03T20:49:31.501Z"
   },
   {
    "duration": 67,
    "start_time": "2022-09-03T20:49:33.202Z"
   },
   {
    "duration": 686,
    "start_time": "2022-09-03T20:49:33.270Z"
   },
   {
    "duration": 1351,
    "start_time": "2022-09-03T20:49:33.958Z"
   },
   {
    "duration": 3,
    "start_time": "2022-09-03T20:49:35.311Z"
   },
   {
    "duration": 11,
    "start_time": "2022-09-03T20:49:35.316Z"
   },
   {
    "duration": 12,
    "start_time": "2022-09-03T20:49:35.329Z"
   },
   {
    "duration": 3,
    "start_time": "2022-09-03T20:49:35.343Z"
   },
   {
    "duration": 11,
    "start_time": "2022-09-03T20:49:35.347Z"
   },
   {
    "duration": 4,
    "start_time": "2022-09-03T20:49:35.360Z"
   },
   {
    "duration": 21,
    "start_time": "2022-09-03T20:49:35.365Z"
   },
   {
    "duration": 3,
    "start_time": "2022-09-03T20:49:35.387Z"
   },
   {
    "duration": 14,
    "start_time": "2022-09-03T20:49:35.391Z"
   },
   {
    "duration": 36,
    "start_time": "2022-09-03T20:49:35.406Z"
   },
   {
    "duration": 15,
    "start_time": "2022-09-03T20:49:35.444Z"
   },
   {
    "duration": 8,
    "start_time": "2022-09-03T20:49:35.460Z"
   },
   {
    "duration": 11,
    "start_time": "2022-09-03T20:49:35.469Z"
   },
   {
    "duration": 7,
    "start_time": "2022-09-03T20:49:35.482Z"
   },
   {
    "duration": 36,
    "start_time": "2022-09-03T20:49:35.490Z"
   },
   {
    "duration": 257,
    "start_time": "2022-09-03T20:49:35.528Z"
   },
   {
    "duration": 12,
    "start_time": "2022-09-03T20:49:35.786Z"
   },
   {
    "duration": 15488,
    "start_time": "2022-09-03T20:49:35.799Z"
   },
   {
    "duration": 11,
    "start_time": "2022-09-03T20:49:51.289Z"
   },
   {
    "duration": 26,
    "start_time": "2022-09-03T20:49:51.302Z"
   },
   {
    "duration": 29,
    "start_time": "2022-09-03T20:49:51.330Z"
   },
   {
    "duration": 8,
    "start_time": "2022-09-03T20:49:51.360Z"
   },
   {
    "duration": 19815,
    "start_time": "2022-09-03T20:49:51.369Z"
   },
   {
    "duration": 150,
    "start_time": "2022-09-03T20:50:11.187Z"
   },
   {
    "duration": 6,
    "start_time": "2022-09-03T20:50:11.339Z"
   },
   {
    "duration": 11,
    "start_time": "2022-09-03T20:50:11.355Z"
   },
   {
    "duration": 120,
    "start_time": "2022-09-03T20:50:11.367Z"
   },
   {
    "duration": 4,
    "start_time": "2022-09-03T20:50:11.489Z"
   },
   {
    "duration": 11,
    "start_time": "2022-09-03T20:50:11.495Z"
   },
   {
    "duration": 10424,
    "start_time": "2022-09-03T20:50:11.508Z"
   },
   {
    "duration": 34,
    "start_time": "2022-09-03T20:50:21.934Z"
   },
   {
    "duration": 212,
    "start_time": "2022-09-03T20:50:21.970Z"
   },
   {
    "duration": 5,
    "start_time": "2022-09-03T20:50:22.183Z"
   },
   {
    "duration": 10,
    "start_time": "2022-09-03T20:50:22.189Z"
   },
   {
    "duration": 5,
    "start_time": "2022-09-03T21:03:20.611Z"
   },
   {
    "duration": 133,
    "start_time": "2022-09-03T21:04:48.516Z"
   },
   {
    "duration": 220,
    "start_time": "2022-09-03T21:05:11.911Z"
   },
   {
    "duration": 235,
    "start_time": "2022-09-03T21:05:57.886Z"
   },
   {
    "duration": 123,
    "start_time": "2022-09-03T21:06:22.139Z"
   },
   {
    "duration": 162,
    "start_time": "2022-09-03T21:06:43.560Z"
   },
   {
    "duration": 155,
    "start_time": "2022-09-03T21:06:54.222Z"
   },
   {
    "duration": 162,
    "start_time": "2022-09-03T21:07:08.132Z"
   }
  ],
  "kernelspec": {
   "display_name": "Python 3 (ipykernel)",
   "language": "python",
   "name": "python3"
  },
  "language_info": {
   "codemirror_mode": {
    "name": "ipython",
    "version": 3
   },
   "file_extension": ".py",
   "mimetype": "text/x-python",
   "name": "python",
   "nbconvert_exporter": "python",
   "pygments_lexer": "ipython3",
   "version": "3.8.16"
  },
  "toc": {
   "base_numbering": 1,
   "nav_menu": {},
   "number_sections": true,
   "sideBar": true,
   "skip_h1_title": true,
   "title_cell": "Содержание",
   "title_sidebar": "Contents",
   "toc_cell": true,
   "toc_position": {
    "height": "calc(100% - 180px)",
    "left": "10px",
    "top": "150px",
    "width": "283.390625px"
   },
   "toc_section_display": true,
   "toc_window_display": true
  }
 },
 "nbformat": 4,
 "nbformat_minor": 2
}
